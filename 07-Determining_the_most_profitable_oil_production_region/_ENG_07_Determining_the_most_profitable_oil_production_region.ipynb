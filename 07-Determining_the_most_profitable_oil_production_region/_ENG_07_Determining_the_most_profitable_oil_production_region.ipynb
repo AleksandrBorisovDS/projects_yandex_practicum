{
  "cells": [
    {
      "cell_type": "markdown",
      "metadata": {
        "id": "GpTFziMEaRlo"
      },
      "source": [
        "# PROJECT\n",
        "\n",
        "# Selecting the most promising region for oil production"
      ]
    },
    {
      "cell_type": "markdown",
      "metadata": {
        "id": "m9AIZaIKaRlo"
      },
      "source": [
        "**Task description:**\n",
        "\n",
        "The customer, the oil producing company GlavRosGosNeft, due to the need to expand oil production in one of the three existing fields, is interested in an objective justification for the choice of the region in which new wells will be installed.\n",
        "\n",
        "Data is available on the characteristics of existing fields - oil samples in three regions: in each 10,000 fields, where the quality of oil and the volume of its reserves were measured.\n",
        "\n",
        "**Necessary:**\n",
        "\n",
        "Build a machine learning model - a regression task, supervised learning - that will help determine the region where mining will bring the greatest profit.\n",
        "\n",
        "**Project execution process:**\n",
        "\n",
        "The project will be completed in 4 steps:\n",
        "\n",
        "loading, review and preparation of source data;\n",
        "preparation of samples for the model, formation of the model and evaluation of modeling results;\n",
        "assessment of the minimum effective production value at which production makes a profit;\n",
        "calculation of profits and risks, conclusion for a promising region."
      ]
    },
    {
      "cell_type": "markdown",
      "metadata": {
        "id": "5UGS7YpNaRlp"
      },
      "source": [
        "## Loading and preparing data"
      ]
    },
    {
      "cell_type": "code",
      "execution_count": null,
      "metadata": {
        "id": "h4ikfkoeaRlq"
      },
      "outputs": [],
      "source": [
        "import numpy as np\n",
        "import pandas as pd\n",
        "from math import sqrt\n",
        "\n",
        "from sklearn.linear_model import LinearRegression\n",
        "from sklearn.metrics import mean_squared_error as mse\n",
        "from sklearn.model_selection import train_test_split"
      ]
    },
    {
      "cell_type": "markdown",
      "metadata": {
        "id": "zmjXDNemaRlr"
      },
      "source": [
        "We will load the data into one dataframe with the addition of the \"region\" column."
      ]
    },
    {
      "cell_type": "code",
      "execution_count": null,
      "metadata": {
        "id": "QEqyKiEraRls"
      },
      "outputs": [],
      "source": [
        "data_reg1 = pd.read_csv('/datasets/geo_data_0.csv')\n",
        "data_reg2 = pd.read_csv('/datasets/geo_data_1.csv')\n",
        "data_reg3 = pd.read_csv('/datasets/geo_data_2.csv')\n",
        "\n",
        "data_reg1['region']=1\n",
        "data_reg2['region']=2\n",
        "data_reg3['region']=3\n",
        "\n",
        "data=pd.concat([data_reg1, data_reg2, data_reg3])"
      ]
    },
    {
      "cell_type": "markdown",
      "metadata": {
        "id": "9zfYMHk2aRls"
      },
      "source": [
        "Let's create a function to review the source data."
      ]
    },
    {
      "cell_type": "code",
      "execution_count": null,
      "metadata": {
        "id": "61c5hDyBaRlt"
      },
      "outputs": [],
      "source": [
        "def info_df(df):\n",
        "    for i in range(1,4):\n",
        "        data_i=data.loc[data['region']==i]\n",
        "        print('Информация по датафрейму Региона ',i,'\\n')\n",
        "        print('Общая информация:', '\\n')\n",
        "        print(data_i.info(), '\\n')\n",
        "        print('Число полных явных дубликатов строк ', data_i.duplicated().sum(), '\\n')\n",
        "        print('Обзор первых строк:', '\\n', data_i.head(), '\\n')\n",
        "        print('Статистические характеристики:', '\\n', data_i.describe(), '\\n')\n",
        "        print('Коэффициенты корреляции между столбцами:', '\\n', data_i.corr(), '\\n')\n",
        "        print('Количество уникальных значений в столбце с индексом:', '\\n')\n",
        "        for c in range(0,5):\n",
        "            data_i_c = data_i.iloc[:,c]\n",
        "            print(c,' = ', data_i_c.value_counts().count())\n",
        "        print()"
      ]
    },
    {
      "cell_type": "code",
      "execution_count": null,
      "metadata": {
        "id": "UGLuLFyaaRlt",
        "outputId": "9d9b396f-a602-4e8b-efdc-ec1252476f1d"
      },
      "outputs": [
        {
          "name": "stdout",
          "output_type": "stream",
          "text": [
            "Информация по датафрейму Региона  1 \n",
            "\n",
            "Общая информация: \n",
            "\n",
            "<class 'pandas.core.frame.DataFrame'>\n",
            "Int64Index: 100000 entries, 0 to 99999\n",
            "Data columns (total 6 columns):\n",
            " #   Column   Non-Null Count   Dtype  \n",
            "---  ------   --------------   -----  \n",
            " 0   id       100000 non-null  object \n",
            " 1   f0       100000 non-null  float64\n",
            " 2   f1       100000 non-null  float64\n",
            " 3   f2       100000 non-null  float64\n",
            " 4   product  100000 non-null  float64\n",
            " 5   region   100000 non-null  int64  \n",
            "dtypes: float64(4), int64(1), object(1)\n",
            "memory usage: 5.3+ MB\n",
            "None \n",
            "\n",
            "Число полных явных дубликатов строк  0 \n",
            "\n",
            "Обзор первых строк: \n",
            "       id        f0        f1        f2     product  region\n",
            "0  txEyH  0.705745 -0.497823  1.221170  105.280062       1\n",
            "1  2acmU  1.334711 -0.340164  4.365080   73.037750       1\n",
            "2  409Wp  1.022732  0.151990  1.419926   85.265647       1\n",
            "3  iJLyR -0.032172  0.139033  2.978566  168.620776       1\n",
            "4  Xdl7t  1.988431  0.155413  4.751769  154.036647       1 \n",
            "\n",
            "Статистические характеристики: \n",
            "                   f0             f1             f2        product    region\n",
            "count  100000.000000  100000.000000  100000.000000  100000.000000  100000.0\n",
            "mean        0.500419       0.250143       2.502647      92.500000       1.0\n",
            "std         0.871832       0.504433       3.248248      44.288691       0.0\n",
            "min        -1.408605      -0.848218     -12.088328       0.000000       1.0\n",
            "25%        -0.072580      -0.200881       0.287748      56.497507       1.0\n",
            "50%         0.502360       0.250252       2.515969      91.849972       1.0\n",
            "75%         1.073581       0.700646       4.715088     128.564089       1.0\n",
            "max         2.362331       1.343769      16.003790     185.364347       1.0 \n",
            "\n",
            "Коэффициенты корреляции между столбцами: \n",
            "                f0        f1        f2   product  region\n",
            "f0       1.000000 -0.440723 -0.003153  0.143536     NaN\n",
            "f1      -0.440723  1.000000  0.001724 -0.192356     NaN\n",
            "f2      -0.003153  0.001724  1.000000  0.483663     NaN\n",
            "product  0.143536 -0.192356  0.483663  1.000000     NaN\n",
            "region        NaN       NaN       NaN       NaN     NaN \n",
            "\n",
            "Количество уникальных значений в столбце с индексом: \n",
            "\n",
            "0  =  99990\n",
            "1  =  100000\n",
            "2  =  100000\n",
            "3  =  100000\n",
            "4  =  100000\n",
            "\n",
            "Информация по датафрейму Региона  2 \n",
            "\n",
            "Общая информация: \n",
            "\n",
            "<class 'pandas.core.frame.DataFrame'>\n",
            "Int64Index: 100000 entries, 0 to 99999\n",
            "Data columns (total 6 columns):\n",
            " #   Column   Non-Null Count   Dtype  \n",
            "---  ------   --------------   -----  \n",
            " 0   id       100000 non-null  object \n",
            " 1   f0       100000 non-null  float64\n",
            " 2   f1       100000 non-null  float64\n",
            " 3   f2       100000 non-null  float64\n",
            " 4   product  100000 non-null  float64\n",
            " 5   region   100000 non-null  int64  \n",
            "dtypes: float64(4), int64(1), object(1)\n",
            "memory usage: 5.3+ MB\n",
            "None \n",
            "\n",
            "Число полных явных дубликатов строк  0 \n",
            "\n",
            "Обзор первых строк: \n",
            "       id         f0         f1        f2     product  region\n",
            "0  kBEdx -15.001348  -8.276000 -0.005876    3.179103       2\n",
            "1  62mP7  14.272088  -3.475083  0.999183   26.953261       2\n",
            "2  vyE1P   6.263187  -5.948386  5.001160  134.766305       2\n",
            "3  KcrkZ -13.081196 -11.506057  4.999415  137.945408       2\n",
            "4  AHL4O  12.702195  -8.147433  5.004363  134.766305       2 \n",
            "\n",
            "Статистические характеристики: \n",
            "                   f0             f1             f2        product    region\n",
            "count  100000.000000  100000.000000  100000.000000  100000.000000  100000.0\n",
            "mean        1.141296      -4.796579       2.494541      68.825000       2.0\n",
            "std         8.965932       5.119872       1.703572      45.944423       0.0\n",
            "min       -31.609576     -26.358598      -0.018144       0.000000       2.0\n",
            "25%        -6.298551      -8.267985       1.000021      26.953261       2.0\n",
            "50%         1.153055      -4.813172       2.011479      57.085625       2.0\n",
            "75%         8.621015      -1.332816       3.999904     107.813044       2.0\n",
            "max        29.421755      18.734063       5.019721     137.945408       2.0 \n",
            "\n",
            "Коэффициенты корреляции между столбцами: \n",
            "                f0        f1        f2   product  region\n",
            "f0       1.000000  0.182287 -0.001777 -0.030491     NaN\n",
            "f1       0.182287  1.000000 -0.002595 -0.010155     NaN\n",
            "f2      -0.001777 -0.002595  1.000000  0.999397     NaN\n",
            "product -0.030491 -0.010155  0.999397  1.000000     NaN\n",
            "region        NaN       NaN       NaN       NaN     NaN \n",
            "\n",
            "Количество уникальных значений в столбце с индексом: \n",
            "\n",
            "0  =  99996\n",
            "1  =  100000\n",
            "2  =  100000\n",
            "3  =  100000\n",
            "4  =  12\n",
            "\n",
            "Информация по датафрейму Региона  3 \n",
            "\n",
            "Общая информация: \n",
            "\n",
            "<class 'pandas.core.frame.DataFrame'>\n",
            "Int64Index: 100000 entries, 0 to 99999\n",
            "Data columns (total 6 columns):\n",
            " #   Column   Non-Null Count   Dtype  \n",
            "---  ------   --------------   -----  \n",
            " 0   id       100000 non-null  object \n",
            " 1   f0       100000 non-null  float64\n",
            " 2   f1       100000 non-null  float64\n",
            " 3   f2       100000 non-null  float64\n",
            " 4   product  100000 non-null  float64\n",
            " 5   region   100000 non-null  int64  \n",
            "dtypes: float64(4), int64(1), object(1)\n",
            "memory usage: 5.3+ MB\n",
            "None \n",
            "\n",
            "Число полных явных дубликатов строк  0 \n",
            "\n",
            "Обзор первых строк: \n",
            "       id        f0        f1        f2     product  region\n",
            "0  fwXo0 -1.146987  0.963328 -0.828965   27.758673       3\n",
            "1  WJtFt  0.262778  0.269839 -2.530187   56.069697       3\n",
            "2  ovLUW  0.194587  0.289035 -5.586433   62.871910       3\n",
            "3  q6cA6  2.236060 -0.553760  0.930038  114.572842       3\n",
            "4  WPMUX -0.515993  1.716266  5.899011  149.600746       3 \n",
            "\n",
            "Статистические характеристики: \n",
            "                   f0             f1             f2        product    region\n",
            "count  100000.000000  100000.000000  100000.000000  100000.000000  100000.0\n",
            "mean        0.002023      -0.002081       2.495128      95.000000       3.0\n",
            "std         1.732045       1.730417       3.473445      44.749921       0.0\n",
            "min        -8.760004      -7.084020     -11.970335       0.000000       3.0\n",
            "25%        -1.162288      -1.174820       0.130359      59.450441       3.0\n",
            "50%         0.009424      -0.009482       2.484236      94.925613       3.0\n",
            "75%         1.158535       1.163678       4.858794     130.595027       3.0\n",
            "max         7.238262       7.844801      16.739402     190.029838       3.0 \n",
            "\n",
            "Коэффициенты корреляции между столбцами: \n",
            "                f0        f1        f2   product  region\n",
            "f0       1.000000  0.000528 -0.000448 -0.001987     NaN\n",
            "f1       0.000528  1.000000  0.000779 -0.001012     NaN\n",
            "f2      -0.000448  0.000779  1.000000  0.445871     NaN\n",
            "product -0.001987 -0.001012  0.445871  1.000000     NaN\n",
            "region        NaN       NaN       NaN       NaN     NaN \n",
            "\n",
            "Количество уникальных значений в столбце с индексом: \n",
            "\n",
            "0  =  99996\n",
            "1  =  100000\n",
            "2  =  100000\n",
            "3  =  100000\n",
            "4  =  100000\n",
            "\n"
          ]
        }
      ],
      "source": [
        "info_df(data)"
      ]
    },
    {
      "cell_type": "markdown",
      "metadata": {
        "id": "6fsTOG_5aRlv"
      },
      "source": [
        "We see that the data does not contain complete duplicates of rows and gaps. There are also no significant “outliers” in the data (according to the results of describe).\n",
        "\n",
        "At the same time, there are duplicates by value in the id column, of which there are few, but, for the purity of the data, we will exclude rows with such duplicates from further analysis."
      ]
    },
    {
      "cell_type": "code",
      "execution_count": null,
      "metadata": {
        "id": "LeQ2h5lAaRlv"
      },
      "outputs": [],
      "source": [
        "data = data.drop_duplicates(subset=['id'])"
      ]
    },
    {
      "cell_type": "code",
      "execution_count": null,
      "metadata": {
        "id": "fSlb4qi2aRlv",
        "outputId": "a5707e61-ea64-43cf-eecc-01b5c36d6cee"
      },
      "outputs": [
        {
          "name": "stdout",
          "output_type": "stream",
          "text": [
            "Информация по датафрейму Региона  1 \n",
            "\n",
            "Общая информация: \n",
            "\n",
            "<class 'pandas.core.frame.DataFrame'>\n",
            "Int64Index: 99990 entries, 0 to 99999\n",
            "Data columns (total 6 columns):\n",
            " #   Column   Non-Null Count  Dtype  \n",
            "---  ------   --------------  -----  \n",
            " 0   id       99990 non-null  object \n",
            " 1   f0       99990 non-null  float64\n",
            " 2   f1       99990 non-null  float64\n",
            " 3   f2       99990 non-null  float64\n",
            " 4   product  99990 non-null  float64\n",
            " 5   region   99990 non-null  int64  \n",
            "dtypes: float64(4), int64(1), object(1)\n",
            "memory usage: 5.3+ MB\n",
            "None \n",
            "\n",
            "Число полных явных дубликатов строк  0 \n",
            "\n",
            "Обзор первых строк: \n",
            "       id        f0        f1        f2     product  region\n",
            "0  txEyH  0.705745 -0.497823  1.221170  105.280062       1\n",
            "1  2acmU  1.334711 -0.340164  4.365080   73.037750       1\n",
            "2  409Wp  1.022732  0.151990  1.419926   85.265647       1\n",
            "3  iJLyR -0.032172  0.139033  2.978566  168.620776       1\n",
            "4  Xdl7t  1.988431  0.155413  4.751769  154.036647       1 \n",
            "\n",
            "Статистические характеристики: \n",
            "                  f0            f1            f2       product   region\n",
            "count  99990.000000  99990.000000  99990.000000  99990.000000  99990.0\n",
            "mean       0.500454      0.250141      2.502629     92.499684      1.0\n",
            "std        0.871844      0.504430      3.248149     44.288304      0.0\n",
            "min       -1.408605     -0.848218    -12.088328      0.000000      1.0\n",
            "25%       -0.072572     -0.200877      0.287784     56.497069      1.0\n",
            "50%        0.502405      0.250252      2.515969     91.847928      1.0\n",
            "75%        1.073626      0.700640      4.715035    128.563699      1.0\n",
            "max        2.362331      1.343769     16.003790    185.364347      1.0 \n",
            "\n",
            "Коэффициенты корреляции между столбцами: \n",
            "                f0        f1        f2   product  region\n",
            "f0       1.000000 -0.440717 -0.003211  0.143504     NaN\n",
            "f1      -0.440717  1.000000  0.001764 -0.192351     NaN\n",
            "f2      -0.003211  0.001764  1.000000  0.483631     NaN\n",
            "product  0.143504 -0.192351  0.483631  1.000000     NaN\n",
            "region        NaN       NaN       NaN       NaN     NaN \n",
            "\n",
            "Количество уникальных значений в столбце с индексом: \n",
            "\n",
            "0  =  99990\n",
            "1  =  99990\n",
            "2  =  99990\n",
            "3  =  99990\n",
            "4  =  99990\n",
            "\n",
            "Информация по датафрейму Региона  2 \n",
            "\n",
            "Общая информация: \n",
            "\n",
            "<class 'pandas.core.frame.DataFrame'>\n",
            "Int64Index: 99986 entries, 0 to 99999\n",
            "Data columns (total 6 columns):\n",
            " #   Column   Non-Null Count  Dtype  \n",
            "---  ------   --------------  -----  \n",
            " 0   id       99986 non-null  object \n",
            " 1   f0       99986 non-null  float64\n",
            " 2   f1       99986 non-null  float64\n",
            " 3   f2       99986 non-null  float64\n",
            " 4   product  99986 non-null  float64\n",
            " 5   region   99986 non-null  int64  \n",
            "dtypes: float64(4), int64(1), object(1)\n",
            "memory usage: 5.3+ MB\n",
            "None \n",
            "\n",
            "Число полных явных дубликатов строк  0 \n",
            "\n",
            "Обзор первых строк: \n",
            "       id         f0         f1        f2     product  region\n",
            "0  kBEdx -15.001348  -8.276000 -0.005876    3.179103       2\n",
            "1  62mP7  14.272088  -3.475083  0.999183   26.953261       2\n",
            "2  vyE1P   6.263187  -5.948386  5.001160  134.766305       2\n",
            "3  KcrkZ -13.081196 -11.506057  4.999415  137.945408       2\n",
            "4  AHL4O  12.702195  -8.147433  5.004363  134.766305       2 \n",
            "\n",
            "Статистические характеристики: \n",
            "                  f0            f1            f2       product   region\n",
            "count  99986.000000  99986.000000  99986.000000  99986.000000  99986.0\n",
            "mean       1.140911     -4.796738      2.494430     68.822078      2.0\n",
            "std        8.965934      5.119797      1.703557     45.944140      0.0\n",
            "min      -31.609576    -26.358598     -0.018144      0.000000      2.0\n",
            "25%       -6.298867     -8.268102      1.000019     26.953261      2.0\n",
            "50%        1.150960     -4.813327      2.011468     57.085625      2.0\n",
            "75%        8.620926     -1.332883      3.999902    107.813044      2.0\n",
            "max       29.421755     18.734063      5.019721    137.945408      2.0 \n",
            "\n",
            "Коэффициенты корреляции между столбцами: \n",
            "                f0        f1        f2   product  region\n",
            "f0       1.000000  0.182278 -0.001821 -0.030534     NaN\n",
            "f1       0.182278  1.000000 -0.002540 -0.010100     NaN\n",
            "f2      -0.001821 -0.002540  1.000000  0.999397     NaN\n",
            "product -0.030534 -0.010100  0.999397  1.000000     NaN\n",
            "region        NaN       NaN       NaN       NaN     NaN \n",
            "\n",
            "Количество уникальных значений в столбце с индексом: \n",
            "\n",
            "0  =  99986\n",
            "1  =  99986\n",
            "2  =  99986\n",
            "3  =  99986\n",
            "4  =  12\n",
            "\n",
            "Информация по датафрейму Региона  3 \n",
            "\n",
            "Общая информация: \n",
            "\n",
            "<class 'pandas.core.frame.DataFrame'>\n",
            "Int64Index: 99975 entries, 0 to 99999\n",
            "Data columns (total 6 columns):\n",
            " #   Column   Non-Null Count  Dtype  \n",
            "---  ------   --------------  -----  \n",
            " 0   id       99975 non-null  object \n",
            " 1   f0       99975 non-null  float64\n",
            " 2   f1       99975 non-null  float64\n",
            " 3   f2       99975 non-null  float64\n",
            " 4   product  99975 non-null  float64\n",
            " 5   region   99975 non-null  int64  \n",
            "dtypes: float64(4), int64(1), object(1)\n",
            "memory usage: 5.3+ MB\n",
            "None \n",
            "\n",
            "Число полных явных дубликатов строк  0 \n",
            "\n",
            "Обзор первых строк: \n",
            "       id        f0        f1        f2     product  region\n",
            "0  fwXo0 -1.146987  0.963328 -0.828965   27.758673       3\n",
            "1  WJtFt  0.262778  0.269839 -2.530187   56.069697       3\n",
            "2  ovLUW  0.194587  0.289035 -5.586433   62.871910       3\n",
            "3  q6cA6  2.236060 -0.553760  0.930038  114.572842       3\n",
            "4  WPMUX -0.515993  1.716266  5.899011  149.600746       3 \n",
            "\n",
            "Статистические характеристики: \n",
            "                  f0            f1            f2       product   region\n",
            "count  99975.000000  99975.000000  99975.000000  99975.000000  99975.0\n",
            "mean       0.002109     -0.002231      2.495186     94.997085      3.0\n",
            "std        1.731997      1.730494      3.473532     44.750945      0.0\n",
            "min       -8.760004     -7.084020    -11.970335      0.000000      3.0\n",
            "25%       -1.162253     -1.174899      0.130339     59.444354      3.0\n",
            "50%        0.009430     -0.009825      2.484348     94.910839      3.0\n",
            "75%        1.158571      1.163539      4.858822    130.587698      3.0\n",
            "max        7.238262      7.844801     16.739402    190.029838      3.0 \n",
            "\n",
            "Коэффициенты корреляции между столбцами: \n",
            "                f0        f1        f2   product  region\n",
            "f0       1.000000  0.000435 -0.000530 -0.001923     NaN\n",
            "f1       0.000435  1.000000  0.000731 -0.001026     NaN\n",
            "f2      -0.000530  0.000731  1.000000  0.445912     NaN\n",
            "product -0.001923 -0.001026  0.445912  1.000000     NaN\n",
            "region        NaN       NaN       NaN       NaN     NaN \n",
            "\n",
            "Количество уникальных значений в столбце с индексом: \n",
            "\n",
            "0  =  99975\n",
            "1  =  99975\n",
            "2  =  99975\n",
            "3  =  99975\n",
            "4  =  99975\n",
            "\n"
          ]
        }
      ],
      "source": [
        "info_df(data)"
      ]
    },
    {
      "cell_type": "markdown",
      "metadata": {
        "id": "77bCBkkqaRlw"
      },
      "source": [
        "Based on the results of data preparation, we note the following:\n",
        "\n",
        "- there is a certain, and for Region 2, a significant direct correlation between the f2 indicator and the volume of reserves;\n",
        "- for Region 2, the value of the “product” indicator contains only 12 values (compared to almost 100 thousand values for regions 1 and 3)"
      ]
    },
    {
      "cell_type": "markdown",
      "metadata": {
        "id": "qKXdd5uWaRlx"
      },
      "source": [
        "## Model training and validation"
      ]
    },
    {
      "cell_type": "code",
      "execution_count": null,
      "metadata": {
        "id": "KkLe0Lo_aRlx"
      },
      "outputs": [],
      "source": [
        "target = data[['product', 'region']]\n",
        "features = data.drop(['product', 'id'], axis=1)"
      ]
    },
    {
      "cell_type": "markdown",
      "metadata": {
        "id": "NzCHnEMqaRlx"
      },
      "source": [
        "We generated a table of features and target features.\n",
        "\n",
        "Let's divide the samples into training and validation in a ratio of 75 to 25.\n",
        "\n",
        "Let us derive, for verification, the dimensions of the resulting samples.\n",
        "We will create variables directly in the loop."
      ]
    },
    {
      "cell_type": "code",
      "execution_count": null,
      "metadata": {
        "id": "z5mjoEtWaRly",
        "outputId": "e6d0a891-8f84-43cf-db0e-1b67efcdd72c"
      },
      "outputs": [
        {
          "name": "stdout",
          "output_type": "stream",
          "text": [
            "(74992, 3) \n",
            " (24998, 3) \n",
            " (74992, 1) \n",
            " (24998, 1)\n",
            "(74989, 3) \n",
            " (24997, 3) \n",
            " (74989, 1) \n",
            " (24997, 1)\n",
            "(74981, 3) \n",
            " (24994, 3) \n",
            " (74981, 1) \n",
            " (24994, 1)\n"
          ]
        }
      ],
      "source": [
        "for i in range(1,4):\n",
        "    locals()[f\"features_{i}\"] = features.loc[features['region']==i]\n",
        "    locals()[f\"features_{i}\"] = locals()[f\"features_{i}\"].drop(['region'], axis=1)\n",
        "    locals()[f\"target_{i}\"] = target.loc[target['region']==i]\n",
        "    locals()[f\"target_{i}\"] = locals()[f\"target_{i}\"].drop(['region'], axis=1)\n",
        "\n",
        "    locals()[f\"features_train_{i}\"], locals()[f\"features_valid_{i}\"], locals()[f\"target_train_{i}\"], \\\n",
        "    locals()[f\"target_valid_{i}\"] = train_test_split(\n",
        "    locals()[f\"features_{i}\"], locals()[f\"target_{i}\"], train_size=0.75, random_state=12345)\n",
        "\n",
        "    print(locals()[f\"features_train_{i}\"].shape, '\\n', locals()[f\"features_valid_{i}\"].shape, '\\n', \\\n",
        "          locals()[f\"target_train_{i}\"].shape, '\\n', locals()[f\"target_valid_{i}\"].shape)"
      ]
    },
    {
      "cell_type": "markdown",
      "metadata": {
        "id": "S171V2OvaRly"
      },
      "source": [
        "Let's create a linear regression model, train the models for each region, and calculate the inventory volumes predicted by the model and the root mean square error (RMSE).\n",
        "We will create all variables directly in the loop."
      ]
    },
    {
      "cell_type": "code",
      "execution_count": null,
      "metadata": {
        "id": "7KFKr5B7aRly",
        "outputId": "940e56cc-4cb9-4848-f361-63dd54232104"
      },
      "outputs": [
        {
          "name": "stdout",
          "output_type": "stream",
          "text": [
            "Регион 1 \n",
            "\n",
            " Предсказания:  92.7892 \n",
            " Целевое значение:  92.1582 \n",
            " RMSE:  37.8535 \n",
            "\n",
            "Регион 2 \n",
            "\n",
            " Предсказания:  68.8852 \n",
            " Целевое значение:  68.8863 \n",
            " RMSE:  0.8903 \n",
            "\n",
            "Регион 3 \n",
            "\n",
            " Предсказания:  95.0967 \n",
            " Целевое значение:  94.8519 \n",
            " RMSE:  39.9442 \n",
            "\n",
            "<class 'pandas.core.frame.DataFrame'>\n",
            "Int64Index: 74989 entries, 20482 to 17774\n",
            "Data columns (total 3 columns):\n",
            " #   Column       Non-Null Count  Dtype  \n",
            "---  ------       --------------  -----  \n",
            " 0   target       74989 non-null  float64\n",
            " 1   predictions  74989 non-null  float64\n",
            " 2   region       74989 non-null  int64  \n",
            "dtypes: float64(2), int64(1)\n",
            "memory usage: 2.3 MB\n",
            "None\n"
          ]
        }
      ],
      "source": [
        "target_and_pred = pd.DataFrame()\n",
        "\n",
        "for i in range(1,4):\n",
        "    locals()[f\"model_{i}\"] = LinearRegression().fit(locals()[f\"features_train_{i}\"], locals()[f\"target_train_{i}\"])\n",
        "    locals()[f\"predictons_{i}\"] = locals()[f\"model_{i}\"].predict(locals()[f\"features_valid_{i}\"])\n",
        "    locals()[f\"RMSE_{i}\"] = sqrt(mse(locals()[f\"target_valid_{i}\"], locals()[f\"predictons_{i}\"]))\n",
        "    print('Регион', i, '\\n')\n",
        "    print(' Предсказания: ', locals()[f\"predictons_{i}\"].mean().round(4), '\\n',\n",
        "          'Целевое значение: ', locals()[f\"target_valid_{i}\"]['product'].mean().round(4), '\\n',\n",
        "          'RMSE: ', round(locals()[f\"RMSE_{i}\"],4), '\\n')\n",
        "\n",
        "    locals()[f\"target_and_pred_{i}\"] = pd.DataFrame()\n",
        "    locals()[f\"target_and_pred_{i}\"]['target'] = locals()[f\"target_valid_{i}\"]['product']\n",
        "    locals()[f\"target_and_pred_{i}\"]['predictions'] = locals()[f\"predictons_{i}\"]\n",
        "    locals()[f\"target_and_pred_{i}\"]['region'] = i\n",
        "    target_and_pred = pd.concat([locals()[f\"target_and_pred_{i}\"], target_and_pred])\n",
        "\n",
        "print(target_and_pred.info())"
      ]
    },
    {
      "cell_type": "markdown",
      "metadata": {
        "id": "EZcSEB5YaRlz"
      },
      "source": [
        "**CONCLUSIONS for the section:**\n",
        "\n",
        "The average volume of reserves is the largest in Region 3, followed by Region 1 with a slight decrease; for Region 2, the average volume of reserves is significantly less than in Regions 1 and 3, but at the same time, for Region 2 the smallest root-mean-square error of the model is about 1%, in compared to regions 1 and 3, in which it is up to 40%. Which can be explained both by the above significant correlation between the values of f2 and product, and by the fact that the product value contains only 12 unique values."
      ]
    },
    {
      "cell_type": "markdown",
      "metadata": {
        "id": "J0LBeqh2aRlz"
      },
      "source": [
        "## Preparation for profit calculation"
      ]
    },
    {
      "cell_type": "markdown",
      "metadata": {
        "id": "WPWbnR86aRlz"
      },
      "source": [
        "Let us fix all the initial parameters necessary to calculate the profit from production. Including the development budget of 1 region, profit from 1 well, the number of wells examined during exploration, the number of best wells.\n",
        "\n",
        "Let's calculate the minimum production volume at which, taking into account the initial data, production would be profitable."
      ]
    },
    {
      "cell_type": "code",
      "execution_count": null,
      "metadata": {
        "id": "40FsXGjVaRl0",
        "outputId": "fd1737e3-e81c-4de1-d540-a2e3ba79a18a"
      },
      "outputs": [
        {
          "name": "stdout",
          "output_type": "stream",
          "text": [
            "Безубыточный объем разработки:  111.1111\n"
          ]
        }
      ],
      "source": [
        "POINTS_IN_REGION = 500\n",
        "BEST_POINTS = 200\n",
        "REGION_BUDGET = 10e9\n",
        "PRODUCT_PROFIT = 450_000\n",
        "\n",
        "print('Безубыточный объем разработки: ', round((REGION_BUDGET / PRODUCT_PROFIT / BEST_POINTS),4))"
      ]
    },
    {
      "cell_type": "markdown",
      "metadata": {
        "id": "t_nM5yOWaRl0"
      },
      "source": [
        "The break-even production volume is greater than 111, which is higher than the average volume of reserves calculated in Section 2 for all regions and significantly higher than the average volume for Region 2.\n",
        "\n",
        "Thus, when choosing a region, you cannot rely on average ratings for the region. It is necessary to select the best wells in each region and evaluate them."
      ]
    },
    {
      "cell_type": "markdown",
      "metadata": {
        "id": "P_b3v7cpaRl1"
      },
      "source": [
        "## Calculation of profits and risks"
      ]
    },
    {
      "cell_type": "markdown",
      "metadata": {
        "id": "e4ZxF_XZaRl1"
      },
      "source": [
        "Let's set the random number generator parameter."
      ]
    },
    {
      "cell_type": "code",
      "execution_count": null,
      "metadata": {
        "id": "pD4GNoU8aRl1"
      },
      "outputs": [],
      "source": [
        "state = np.random.RandomState(12345)"
      ]
    },
    {
      "cell_type": "markdown",
      "metadata": {
        "id": "F4kcryNnaRl1"
      },
      "source": [
        "Let's create a function to calculate the average profit for the best wells in the region using the Bootstrap technique for 1,000 samples."
      ]
    },
    {
      "cell_type": "code",
      "execution_count": null,
      "metadata": {
        "id": "zSlH3iBUaRl1"
      },
      "outputs": [],
      "source": [
        "def profit_region_d(target_and_pred, i, BEST_POINTS, PRODUCT_PROFIT, REGION_BUDGET, state, POINTS_IN_REGION):\n",
        "\n",
        "    profit_region = []\n",
        "\n",
        "    target_and_pred_i = target_and_pred.loc[target_and_pred['region']==i]\n",
        "\n",
        "    for g in range(1000):\n",
        "        subsample = target_and_pred_i.sample(n=POINTS_IN_REGION, replace=True, random_state=state)\n",
        "        target_subsample = subsample['target']\n",
        "        predictions_subsample = subsample['predictions']\n",
        "\n",
        "        best_predictions = target_subsample[predictions_subsample.sort_values(ascending=False).index][:BEST_POINTS]\n",
        "        profit_mln = (PRODUCT_PROFIT * best_predictions.sum() - REGION_BUDGET) / 1000000\n",
        "\n",
        "        profit_region.append(profit_mln)\n",
        "\n",
        "    profit_region = pd.Series(profit_region)\n",
        "\n",
        "    return profit_region"
      ]
    },
    {
      "cell_type": "markdown",
      "metadata": {
        "id": "lfWtKc4caRl7"
      },
      "source": [
        "Let's apply this function and calculate the necessary indicators for assessing the region: incl. 95% confidence interval of profit and risk of loss."
      ]
    },
    {
      "cell_type": "code",
      "execution_count": null,
      "metadata": {
        "id": "ISTxYPXJaRl7",
        "outputId": "99179c28-573c-45c8-a44f-b93db1045c96"
      },
      "outputs": [
        {
          "name": "stdout",
          "output_type": "stream",
          "text": [
            "Регион 1 \n",
            "\n",
            "Средняя прибыль, млн.:  425.43\n",
            "2,5%-квантиль:  -131.54\n",
            "95%-ый доверительный интервал: -131.54 : 953.6\n",
            "Риски: 7.1 \n",
            "\n",
            "Регион 2 \n",
            "\n",
            "Средняя прибыль, млн.:  510.06\n",
            "2,5%-квантиль:  99.56\n",
            "95%-ый доверительный интервал: 99.56 : 943.79\n",
            "Риски: 0.5 \n",
            "\n",
            "Регион 3 \n",
            "\n",
            "Средняя прибыль, млн.:  391.04\n",
            "2,5%-квантиль:  -183.67\n",
            "95%-ый доверительный интервал: -183.67 : 947.64\n",
            "Риски: 10.0 \n",
            "\n"
          ]
        }
      ],
      "source": [
        "for i in range(1,4):\n",
        "\n",
        "    lower = profit_region_d(target_and_pred, i, BEST_POINTS, PRODUCT_PROFIT, REGION_BUDGET, state,\n",
        "                            POINTS_IN_REGION).quantile(0.025)\n",
        "    upper = profit_region_d(target_and_pred, i, BEST_POINTS, PRODUCT_PROFIT, REGION_BUDGET, state,\n",
        "                            POINTS_IN_REGION).quantile(0.975)\n",
        "    mean_v = profit_region_d(target_and_pred, i, BEST_POINTS, PRODUCT_PROFIT, REGION_BUDGET, state,\n",
        "                             POINTS_IN_REGION).mean()\n",
        "    risks = (profit_region_d(target_and_pred, i, BEST_POINTS, PRODUCT_PROFIT, REGION_BUDGET, state,\n",
        "                             POINTS_IN_REGION) < 0).mean() * 100\n",
        "\n",
        "    print('Регион', i, '\\n')\n",
        "    print('Средняя прибыль, млн.: ', mean_v.round(2))\n",
        "    print('2,5%-квантиль: ', lower.round(2))\n",
        "    print('95%-ый доверительный интервал:', lower.round(2), ':', upper.round(2))\n",
        "    print('Риски:', risks.round(2), '\\n')"
      ]
    },
    {
      "cell_type": "markdown",
      "metadata": {
        "id": "9dWDQnGyaRl7"
      },
      "source": [
        "**CONCLUSIONS on the SECTION and on the PROJECT as a whole:**\n",
        "\n",
        "Region 2 has the best indicators in terms of profits and risks - it practically does not imply losses (risks less than 1%), and this region also had the minimum root-mean-square error of the model.\n",
        "In second place - Region 1 - the average profit is higher, the risks are lower.\n",
        "\n",
        "**Conclusion on the project as a whole:**\n",
        "\n",
        "As a result of the development of the project, data for 3 oil production regions was analyzed; for each region, data in the amount of 100,000 rows and 5 columns were analyzed. The data did not contain complete duplicates of rows, although there were minor duplicates for individual samples (column id).\n",
        "\n",
        "Based on these data, linear regression models (supervised learning) were generated, according to which, using the bootstrap procedure, the values of possible profit from mining in each region were predicted.\n",
        "\n",
        "According to the calculation results, **Region 2** was recognized as the best region.\n",
        "\n",
        "However, despite the good indicators of Region 2, it is necessary to further check the source data for this region, perhaps request them again or double-check them on other indicators, since the indicators of the source data of Region 2 differ significantly from the source data of Regions 1 and 3."
      ]
    }
  ],
  "metadata": {
    "ExecuteTimeLog": [
      {
        "duration": 431,
        "start_time": "2023-04-27T17:15:10.086Z"
      },
      {
        "duration": 65,
        "start_time": "2023-04-27T17:15:12.526Z"
      },
      {
        "duration": 9,
        "start_time": "2023-04-27T17:15:25.295Z"
      },
      {
        "duration": 2156,
        "start_time": "2023-04-27T17:15:42.623Z"
      },
      {
        "duration": 7,
        "start_time": "2023-04-27T17:18:02.385Z"
      },
      {
        "duration": 7,
        "start_time": "2023-04-27T17:18:57.521Z"
      },
      {
        "duration": 133,
        "start_time": "2023-04-27T17:20:16.409Z"
      },
      {
        "duration": 130,
        "start_time": "2023-04-27T17:20:31.170Z"
      },
      {
        "duration": 13,
        "start_time": "2023-04-27T17:21:28.177Z"
      },
      {
        "duration": 87,
        "start_time": "2023-04-27T17:22:53.555Z"
      },
      {
        "duration": 29,
        "start_time": "2023-04-27T17:24:34.988Z"
      },
      {
        "duration": 13,
        "start_time": "2023-04-27T17:32:43.689Z"
      },
      {
        "duration": 13,
        "start_time": "2023-04-27T17:33:39.913Z"
      },
      {
        "duration": 9,
        "start_time": "2023-04-27T17:35:57.610Z"
      },
      {
        "duration": 4,
        "start_time": "2023-04-27T17:36:15.099Z"
      },
      {
        "duration": 12,
        "start_time": "2023-04-27T17:36:19.253Z"
      },
      {
        "duration": 12,
        "start_time": "2023-04-27T17:37:01.819Z"
      },
      {
        "duration": 291,
        "start_time": "2023-04-27T17:37:07.331Z"
      },
      {
        "duration": 340,
        "start_time": "2023-04-27T17:37:28.787Z"
      },
      {
        "duration": 13,
        "start_time": "2023-04-27T17:38:19.541Z"
      },
      {
        "duration": 40,
        "start_time": "2023-04-27T17:38:52.452Z"
      },
      {
        "duration": 120,
        "start_time": "2023-04-27T17:39:23.008Z"
      },
      {
        "duration": 122,
        "start_time": "2023-04-27T17:39:59.214Z"
      },
      {
        "duration": 109,
        "start_time": "2023-04-27T17:40:39.887Z"
      },
      {
        "duration": 117,
        "start_time": "2023-04-27T17:40:55.646Z"
      },
      {
        "duration": 114,
        "start_time": "2023-04-27T17:42:44.295Z"
      },
      {
        "duration": 128,
        "start_time": "2023-04-27T17:43:11.636Z"
      },
      {
        "duration": 31,
        "start_time": "2023-04-27T17:52:28.772Z"
      },
      {
        "duration": 37,
        "start_time": "2023-04-27T17:52:52.005Z"
      },
      {
        "duration": 488,
        "start_time": "2023-04-27T17:54:32.230Z"
      },
      {
        "duration": 1418,
        "start_time": "2023-04-27T18:01:15.642Z"
      },
      {
        "duration": 1223,
        "start_time": "2023-04-27T18:01:58.024Z"
      },
      {
        "duration": 479,
        "start_time": "2023-04-27T18:02:00.452Z"
      },
      {
        "duration": 1398,
        "start_time": "2023-04-27T18:02:05.658Z"
      },
      {
        "duration": 85,
        "start_time": "2023-04-27T18:02:24.620Z"
      },
      {
        "duration": 1348,
        "start_time": "2023-04-27T18:03:27.417Z"
      },
      {
        "duration": 467,
        "start_time": "2023-04-27T18:04:12.173Z"
      },
      {
        "duration": 1499,
        "start_time": "2023-04-27T18:05:27.198Z"
      },
      {
        "duration": 1485,
        "start_time": "2023-04-27T18:05:56.669Z"
      },
      {
        "duration": 1588,
        "start_time": "2023-04-27T18:07:33.281Z"
      },
      {
        "duration": 1495,
        "start_time": "2023-04-27T18:09:25.835Z"
      },
      {
        "duration": 1246,
        "start_time": "2023-04-27T18:10:18.863Z"
      },
      {
        "duration": 89,
        "start_time": "2023-04-27T18:10:29.813Z"
      },
      {
        "duration": 1710,
        "start_time": "2023-04-27T18:11:10.154Z"
      },
      {
        "duration": 1772,
        "start_time": "2023-04-27T18:11:31.229Z"
      },
      {
        "duration": 404,
        "start_time": "2023-04-27T18:15:31.029Z"
      },
      {
        "duration": 1149,
        "start_time": "2023-04-27T18:19:10.833Z"
      },
      {
        "duration": 1886,
        "start_time": "2023-04-27T18:19:26.551Z"
      },
      {
        "duration": 1801,
        "start_time": "2023-04-27T18:19:44.761Z"
      },
      {
        "duration": 1696,
        "start_time": "2023-04-27T18:20:35.737Z"
      },
      {
        "duration": 434,
        "start_time": "2023-04-27T18:20:49.673Z"
      },
      {
        "duration": 428,
        "start_time": "2023-04-27T18:21:00.133Z"
      },
      {
        "duration": 605,
        "start_time": "2023-04-27T18:22:53.890Z"
      },
      {
        "duration": 629,
        "start_time": "2023-04-27T18:24:54.826Z"
      },
      {
        "duration": 649,
        "start_time": "2023-04-27T18:26:02.612Z"
      },
      {
        "duration": 607,
        "start_time": "2023-04-27T18:27:27.974Z"
      },
      {
        "duration": 635,
        "start_time": "2023-04-27T18:31:25.187Z"
      },
      {
        "duration": 601,
        "start_time": "2023-04-27T18:37:10.255Z"
      },
      {
        "duration": 1098,
        "start_time": "2023-04-27T18:38:07.235Z"
      },
      {
        "duration": 438,
        "start_time": "2023-04-27T18:38:10.346Z"
      },
      {
        "duration": 666,
        "start_time": "2023-04-27T18:38:29.328Z"
      },
      {
        "duration": 631,
        "start_time": "2023-04-27T18:39:11.150Z"
      },
      {
        "duration": 680,
        "start_time": "2023-04-27T18:40:25.853Z"
      },
      {
        "duration": 652,
        "start_time": "2023-04-27T18:42:03.129Z"
      },
      {
        "duration": 747,
        "start_time": "2023-04-27T18:42:23.311Z"
      },
      {
        "duration": 115,
        "start_time": "2023-04-27T18:48:09.594Z"
      },
      {
        "duration": 1122,
        "start_time": "2023-04-27T18:51:56.180Z"
      },
      {
        "duration": 498,
        "start_time": "2023-04-27T18:51:58.797Z"
      },
      {
        "duration": 5,
        "start_time": "2023-04-27T18:52:07.050Z"
      },
      {
        "duration": 702,
        "start_time": "2023-04-27T18:52:22.946Z"
      },
      {
        "duration": 116,
        "start_time": "2023-04-27T18:52:57.893Z"
      },
      {
        "duration": 98,
        "start_time": "2023-04-27T18:53:35.672Z"
      },
      {
        "duration": 659,
        "start_time": "2023-04-27T18:53:36.070Z"
      },
      {
        "duration": 51,
        "start_time": "2023-04-30T17:38:19.813Z"
      },
      {
        "duration": 1071,
        "start_time": "2023-04-30T17:38:40.992Z"
      },
      {
        "duration": 746,
        "start_time": "2023-04-30T17:38:43.423Z"
      },
      {
        "duration": 12,
        "start_time": "2023-04-30T17:38:46.017Z"
      },
      {
        "duration": 89,
        "start_time": "2023-04-30T17:39:04.202Z"
      },
      {
        "duration": 856,
        "start_time": "2023-04-30T17:39:09.991Z"
      },
      {
        "duration": 1008,
        "start_time": "2023-04-30T17:41:09.192Z"
      },
      {
        "duration": 398,
        "start_time": "2023-04-30T17:41:10.849Z"
      },
      {
        "duration": 5,
        "start_time": "2023-04-30T17:41:13.209Z"
      },
      {
        "duration": 552,
        "start_time": "2023-04-30T17:41:14.056Z"
      },
      {
        "duration": 97,
        "start_time": "2023-04-30T17:41:16.086Z"
      },
      {
        "duration": 518,
        "start_time": "2023-04-30T17:41:17.317Z"
      },
      {
        "duration": 996,
        "start_time": "2023-04-30T17:41:24.297Z"
      },
      {
        "duration": 12,
        "start_time": "2023-04-30T17:43:46.303Z"
      },
      {
        "duration": 8,
        "start_time": "2023-04-30T17:44:32.785Z"
      },
      {
        "duration": 4,
        "start_time": "2023-04-30T17:44:38.745Z"
      },
      {
        "duration": 1021,
        "start_time": "2023-04-30T17:45:29.844Z"
      },
      {
        "duration": 1312,
        "start_time": "2023-04-30T17:50:28.183Z"
      },
      {
        "duration": 735,
        "start_time": "2023-04-30T17:52:14.413Z"
      },
      {
        "duration": 7,
        "start_time": "2023-04-30T17:55:00.611Z"
      },
      {
        "duration": 9,
        "start_time": "2023-04-30T18:00:43.789Z"
      },
      {
        "duration": 8,
        "start_time": "2023-04-30T18:01:27.124Z"
      },
      {
        "duration": 97,
        "start_time": "2023-04-30T18:02:21.723Z"
      },
      {
        "duration": 66,
        "start_time": "2023-04-30T18:03:56.618Z"
      },
      {
        "duration": 71,
        "start_time": "2023-04-30T18:04:07.942Z"
      },
      {
        "duration": 63,
        "start_time": "2023-04-30T18:06:28.934Z"
      },
      {
        "duration": 15,
        "start_time": "2023-04-30T18:12:58.458Z"
      },
      {
        "duration": 34,
        "start_time": "2023-04-30T18:14:07.712Z"
      },
      {
        "duration": 25,
        "start_time": "2023-04-30T18:14:39.604Z"
      },
      {
        "duration": 25,
        "start_time": "2023-04-30T18:15:18.303Z"
      },
      {
        "duration": 67,
        "start_time": "2023-04-30T18:16:57.487Z"
      },
      {
        "duration": 4,
        "start_time": "2023-04-30T18:32:20.039Z"
      },
      {
        "duration": 190,
        "start_time": "2023-04-30T18:36:29.356Z"
      },
      {
        "duration": 1175,
        "start_time": "2023-04-30T18:37:51.604Z"
      },
      {
        "duration": 253,
        "start_time": "2023-04-30T18:39:36.093Z"
      },
      {
        "duration": 192,
        "start_time": "2023-04-30T18:40:42.348Z"
      },
      {
        "duration": 310,
        "start_time": "2023-04-30T18:41:24.250Z"
      },
      {
        "duration": 187,
        "start_time": "2023-04-30T19:03:41.261Z"
      },
      {
        "duration": 3,
        "start_time": "2023-04-30T20:17:41.155Z"
      },
      {
        "duration": 9,
        "start_time": "2023-04-30T20:17:58.187Z"
      },
      {
        "duration": 9,
        "start_time": "2023-04-30T20:18:12.067Z"
      },
      {
        "duration": 4,
        "start_time": "2023-04-30T20:18:38.680Z"
      },
      {
        "duration": 4,
        "start_time": "2023-04-30T20:19:00.901Z"
      },
      {
        "duration": 19,
        "start_time": "2023-05-01T08:03:20.268Z"
      },
      {
        "duration": 97,
        "start_time": "2023-05-01T08:05:53.815Z"
      },
      {
        "duration": 1408,
        "start_time": "2023-05-01T08:06:16.060Z"
      },
      {
        "duration": 3137,
        "start_time": "2023-05-01T08:06:17.472Z"
      },
      {
        "duration": 17,
        "start_time": "2023-05-01T08:06:20.619Z"
      },
      {
        "duration": 875,
        "start_time": "2023-05-01T08:06:20.645Z"
      },
      {
        "duration": 116,
        "start_time": "2023-05-01T08:06:21.522Z"
      },
      {
        "duration": 807,
        "start_time": "2023-05-01T08:06:21.641Z"
      },
      {
        "duration": 20,
        "start_time": "2023-05-01T08:06:22.454Z"
      },
      {
        "duration": 12,
        "start_time": "2023-05-01T08:06:22.479Z"
      },
      {
        "duration": 13,
        "start_time": "2023-05-01T08:06:22.497Z"
      },
      {
        "duration": 109,
        "start_time": "2023-05-01T08:06:22.514Z"
      },
      {
        "duration": 304,
        "start_time": "2023-05-01T08:06:22.625Z"
      },
      {
        "duration": 0,
        "start_time": "2023-05-01T08:06:22.934Z"
      },
      {
        "duration": 0,
        "start_time": "2023-05-01T08:06:22.944Z"
      },
      {
        "duration": 0,
        "start_time": "2023-05-01T08:06:22.945Z"
      },
      {
        "duration": 0,
        "start_time": "2023-05-01T08:06:22.947Z"
      },
      {
        "duration": 0,
        "start_time": "2023-05-01T08:06:22.951Z"
      },
      {
        "duration": 0,
        "start_time": "2023-05-01T08:06:22.954Z"
      },
      {
        "duration": 0,
        "start_time": "2023-05-01T08:06:22.955Z"
      },
      {
        "duration": 196,
        "start_time": "2023-05-01T08:12:44.413Z"
      },
      {
        "duration": 240,
        "start_time": "2023-05-01T08:13:43.367Z"
      },
      {
        "duration": 163,
        "start_time": "2023-05-01T08:14:40.650Z"
      },
      {
        "duration": 6,
        "start_time": "2023-05-01T08:14:48.055Z"
      },
      {
        "duration": 19,
        "start_time": "2023-05-01T08:14:55.708Z"
      },
      {
        "duration": 180,
        "start_time": "2023-05-01T08:15:02.939Z"
      },
      {
        "duration": 147,
        "start_time": "2023-05-01T08:18:22.672Z"
      },
      {
        "duration": 524,
        "start_time": "2023-05-01T08:18:51.763Z"
      },
      {
        "duration": 338,
        "start_time": "2023-05-01T08:19:00.307Z"
      },
      {
        "duration": 564,
        "start_time": "2023-05-01T08:22:50.231Z"
      },
      {
        "duration": 476,
        "start_time": "2023-05-01T08:25:04.826Z"
      },
      {
        "duration": 448,
        "start_time": "2023-05-01T08:35:51.817Z"
      },
      {
        "duration": 301,
        "start_time": "2023-05-01T08:36:13.242Z"
      },
      {
        "duration": 620,
        "start_time": "2023-05-01T08:39:05.912Z"
      },
      {
        "duration": 9,
        "start_time": "2023-05-01T08:40:33.559Z"
      },
      {
        "duration": 14,
        "start_time": "2023-05-01T10:10:56.132Z"
      },
      {
        "duration": 210,
        "start_time": "2023-05-01T10:11:04.454Z"
      },
      {
        "duration": 107,
        "start_time": "2023-05-01T10:15:51.955Z"
      },
      {
        "duration": 20,
        "start_time": "2023-05-01T10:16:47.783Z"
      },
      {
        "duration": 12,
        "start_time": "2023-05-01T10:17:44.713Z"
      },
      {
        "duration": 15,
        "start_time": "2023-05-01T10:22:38.306Z"
      },
      {
        "duration": 37,
        "start_time": "2023-05-01T10:22:45.513Z"
      },
      {
        "duration": 4,
        "start_time": "2023-05-01T10:23:17.443Z"
      },
      {
        "duration": 1406,
        "start_time": "2023-05-01T10:24:32.253Z"
      },
      {
        "duration": 2122,
        "start_time": "2023-05-01T10:24:36.965Z"
      },
      {
        "duration": 952,
        "start_time": "2023-05-01T10:25:04.212Z"
      },
      {
        "duration": 13,
        "start_time": "2023-05-01T10:25:08.510Z"
      },
      {
        "duration": 106,
        "start_time": "2023-05-01T10:25:19.730Z"
      },
      {
        "duration": 19,
        "start_time": "2023-05-01T10:25:44.034Z"
      },
      {
        "duration": 73,
        "start_time": "2023-05-01T10:25:51.141Z"
      },
      {
        "duration": 393,
        "start_time": "2023-05-01T10:25:59.050Z"
      },
      {
        "duration": 5,
        "start_time": "2023-05-01T10:26:08.145Z"
      },
      {
        "duration": 6,
        "start_time": "2023-05-01T10:26:18.763Z"
      },
      {
        "duration": 128,
        "start_time": "2023-05-01T10:26:23.213Z"
      },
      {
        "duration": 10,
        "start_time": "2023-05-01T10:27:12.220Z"
      },
      {
        "duration": 18,
        "start_time": "2023-05-01T10:27:42.580Z"
      },
      {
        "duration": 4,
        "start_time": "2023-05-01T10:29:05.171Z"
      },
      {
        "duration": 6,
        "start_time": "2023-05-01T10:30:00.305Z"
      },
      {
        "duration": 11,
        "start_time": "2023-05-01T10:30:07.927Z"
      },
      {
        "duration": 33,
        "start_time": "2023-05-01T10:30:11.737Z"
      },
      {
        "duration": 4,
        "start_time": "2023-05-01T10:32:09.953Z"
      },
      {
        "duration": 22,
        "start_time": "2023-05-01T10:32:12.416Z"
      },
      {
        "duration": 5,
        "start_time": "2023-05-01T10:33:55.928Z"
      },
      {
        "duration": 25,
        "start_time": "2023-05-01T10:33:58.134Z"
      },
      {
        "duration": 7,
        "start_time": "2023-05-01T10:34:54.719Z"
      },
      {
        "duration": 24,
        "start_time": "2023-05-01T10:34:58.441Z"
      },
      {
        "duration": 7,
        "start_time": "2023-05-01T10:38:51.538Z"
      },
      {
        "duration": 21,
        "start_time": "2023-05-01T10:38:54.945Z"
      },
      {
        "duration": 23,
        "start_time": "2023-05-01T10:39:56.806Z"
      },
      {
        "duration": 29,
        "start_time": "2023-05-01T10:40:08.415Z"
      },
      {
        "duration": 5,
        "start_time": "2023-05-01T10:46:39.017Z"
      },
      {
        "duration": 23,
        "start_time": "2023-05-01T10:46:42.312Z"
      },
      {
        "duration": 10,
        "start_time": "2023-05-01T10:50:20.605Z"
      },
      {
        "duration": 18,
        "start_time": "2023-05-01T10:53:41.226Z"
      },
      {
        "duration": 7,
        "start_time": "2023-05-01T10:57:59.115Z"
      },
      {
        "duration": 20,
        "start_time": "2023-05-01T10:58:04.417Z"
      },
      {
        "duration": 6,
        "start_time": "2023-05-01T11:19:12.804Z"
      },
      {
        "duration": 1453,
        "start_time": "2023-05-01T11:19:15.754Z"
      },
      {
        "duration": 4,
        "start_time": "2023-05-01T11:20:55.851Z"
      },
      {
        "duration": 1603,
        "start_time": "2023-05-01T11:20:58.817Z"
      },
      {
        "duration": 5,
        "start_time": "2023-05-01T11:21:58.014Z"
      },
      {
        "duration": 1695,
        "start_time": "2023-05-01T11:22:03.658Z"
      },
      {
        "duration": 4738,
        "start_time": "2023-05-01T11:24:32.215Z"
      },
      {
        "duration": 4410,
        "start_time": "2023-05-01T11:25:08.821Z"
      },
      {
        "duration": 1468,
        "start_time": "2023-05-01T11:26:10.411Z"
      },
      {
        "duration": 4207,
        "start_time": "2023-05-01T11:49:27.612Z"
      },
      {
        "duration": 104,
        "start_time": "2023-05-01T11:50:55.410Z"
      },
      {
        "duration": 4,
        "start_time": "2023-05-01T11:51:04.413Z"
      },
      {
        "duration": 4474,
        "start_time": "2023-05-01T11:52:37.661Z"
      },
      {
        "duration": 3864,
        "start_time": "2023-05-01T11:56:42.822Z"
      },
      {
        "duration": 1267,
        "start_time": "2023-05-01T12:01:51.379Z"
      },
      {
        "duration": 1250,
        "start_time": "2023-05-01T12:01:58.442Z"
      },
      {
        "duration": 1264,
        "start_time": "2023-05-01T12:03:09.479Z"
      },
      {
        "duration": 1337,
        "start_time": "2023-05-01T12:03:43.491Z"
      },
      {
        "duration": 3836,
        "start_time": "2023-05-01T12:11:03.626Z"
      },
      {
        "duration": 1366,
        "start_time": "2023-05-01T12:11:53.781Z"
      },
      {
        "duration": 3899,
        "start_time": "2023-05-01T12:12:33.649Z"
      },
      {
        "duration": 3897,
        "start_time": "2023-05-01T12:12:59.457Z"
      },
      {
        "duration": 3978,
        "start_time": "2023-05-01T12:22:51.099Z"
      },
      {
        "duration": 4,
        "start_time": "2023-05-01T12:33:13.615Z"
      },
      {
        "duration": 4095,
        "start_time": "2023-05-01T12:33:16.670Z"
      },
      {
        "duration": 5,
        "start_time": "2023-05-01T12:37:10.916Z"
      },
      {
        "duration": 4038,
        "start_time": "2023-05-01T12:38:34.695Z"
      },
      {
        "duration": 1123,
        "start_time": "2023-05-01T12:49:14.325Z"
      },
      {
        "duration": 470,
        "start_time": "2023-05-01T12:49:33.780Z"
      },
      {
        "duration": 6,
        "start_time": "2023-05-01T12:50:19.245Z"
      },
      {
        "duration": 642,
        "start_time": "2023-05-01T12:50:35.165Z"
      },
      {
        "duration": 109,
        "start_time": "2023-05-01T12:50:40.297Z"
      },
      {
        "duration": 540,
        "start_time": "2023-05-01T12:50:47.484Z"
      },
      {
        "duration": 7,
        "start_time": "2023-05-01T12:50:55.484Z"
      },
      {
        "duration": 9,
        "start_time": "2023-05-01T12:52:03.216Z"
      },
      {
        "duration": 7,
        "start_time": "2023-05-01T12:52:12.143Z"
      },
      {
        "duration": 59,
        "start_time": "2023-05-01T12:52:44.328Z"
      },
      {
        "duration": 536,
        "start_time": "2023-05-01T12:54:04.356Z"
      },
      {
        "duration": 5,
        "start_time": "2023-05-01T12:54:26.615Z"
      },
      {
        "duration": 100,
        "start_time": "2023-05-01T13:06:06.561Z"
      },
      {
        "duration": 2,
        "start_time": "2023-05-01T13:07:33.792Z"
      },
      {
        "duration": 5,
        "start_time": "2023-05-01T13:07:37.600Z"
      },
      {
        "duration": 4318,
        "start_time": "2023-05-01T13:07:42.186Z"
      },
      {
        "duration": 16378,
        "start_time": "2023-05-01T13:10:11.224Z"
      },
      {
        "duration": 16883,
        "start_time": "2023-05-01T13:12:32.396Z"
      },
      {
        "duration": 1113,
        "start_time": "2023-05-01T13:21:41.887Z"
      },
      {
        "duration": 403,
        "start_time": "2023-05-01T13:21:43.002Z"
      },
      {
        "duration": 4,
        "start_time": "2023-05-01T13:21:43.407Z"
      },
      {
        "duration": 688,
        "start_time": "2023-05-01T13:21:43.413Z"
      },
      {
        "duration": 148,
        "start_time": "2023-05-01T13:21:44.103Z"
      },
      {
        "duration": 631,
        "start_time": "2023-05-01T13:21:44.254Z"
      },
      {
        "duration": 9,
        "start_time": "2023-05-01T13:21:44.886Z"
      },
      {
        "duration": 82,
        "start_time": "2023-05-01T13:21:44.896Z"
      },
      {
        "duration": 611,
        "start_time": "2023-05-01T13:21:44.980Z"
      },
      {
        "duration": 5,
        "start_time": "2023-05-01T13:21:45.594Z"
      },
      {
        "duration": 5,
        "start_time": "2023-05-01T13:21:45.600Z"
      },
      {
        "duration": 7,
        "start_time": "2023-05-01T13:21:45.606Z"
      },
      {
        "duration": 16076,
        "start_time": "2023-05-01T13:21:45.615Z"
      },
      {
        "duration": 103,
        "start_time": "2023-05-01T13:50:45.801Z"
      },
      {
        "duration": 80,
        "start_time": "2023-05-01T14:04:00.402Z"
      },
      {
        "duration": 58,
        "start_time": "2023-05-01T14:05:06.518Z"
      },
      {
        "duration": 1203,
        "start_time": "2023-05-01T15:01:36.398Z"
      },
      {
        "duration": 446,
        "start_time": "2023-05-01T15:01:37.603Z"
      },
      {
        "duration": 5,
        "start_time": "2023-05-01T15:01:38.051Z"
      },
      {
        "duration": 681,
        "start_time": "2023-05-01T15:01:38.058Z"
      },
      {
        "duration": 117,
        "start_time": "2023-05-01T15:01:38.741Z"
      },
      {
        "duration": 658,
        "start_time": "2023-05-01T15:01:38.860Z"
      },
      {
        "duration": 9,
        "start_time": "2023-05-01T15:01:39.519Z"
      },
      {
        "duration": 84,
        "start_time": "2023-05-01T15:01:39.529Z"
      },
      {
        "duration": 489,
        "start_time": "2023-05-01T15:01:39.616Z"
      },
      {
        "duration": 4,
        "start_time": "2023-05-01T15:01:40.108Z"
      },
      {
        "duration": 13,
        "start_time": "2023-05-01T15:01:40.113Z"
      },
      {
        "duration": 59,
        "start_time": "2023-05-01T15:01:40.128Z"
      },
      {
        "duration": 83,
        "start_time": "2023-05-01T15:01:40.189Z"
      },
      {
        "duration": 81,
        "start_time": "2023-05-01T15:03:48.906Z"
      },
      {
        "duration": 17850,
        "start_time": "2023-05-01T15:04:09.953Z"
      },
      {
        "duration": 46,
        "start_time": "2023-05-01T18:31:03.907Z"
      },
      {
        "duration": 372,
        "start_time": "2023-05-01T18:31:58.178Z"
      },
      {
        "duration": 8,
        "start_time": "2023-05-01T18:37:13.061Z"
      },
      {
        "duration": 665,
        "start_time": "2023-05-01T18:37:38.803Z"
      },
      {
        "duration": 4,
        "start_time": "2023-05-01T19:20:45.200Z"
      },
      {
        "duration": 992,
        "start_time": "2023-05-01T19:35:08.075Z"
      },
      {
        "duration": 1472,
        "start_time": "2023-05-01T19:35:09.069Z"
      },
      {
        "duration": 4,
        "start_time": "2023-05-01T19:35:10.543Z"
      },
      {
        "duration": 552,
        "start_time": "2023-05-01T19:35:10.549Z"
      },
      {
        "duration": 101,
        "start_time": "2023-05-01T19:35:11.103Z"
      },
      {
        "duration": 502,
        "start_time": "2023-05-01T19:35:11.206Z"
      },
      {
        "duration": 7,
        "start_time": "2023-05-01T19:35:11.710Z"
      },
      {
        "duration": 84,
        "start_time": "2023-05-01T19:35:11.719Z"
      },
      {
        "duration": 436,
        "start_time": "2023-05-01T19:35:11.805Z"
      },
      {
        "duration": 92,
        "start_time": "2023-05-01T19:35:12.244Z"
      },
      {
        "duration": 7,
        "start_time": "2023-05-01T19:35:12.337Z"
      },
      {
        "duration": 5,
        "start_time": "2023-05-01T19:35:12.345Z"
      },
      {
        "duration": 15626,
        "start_time": "2023-05-01T19:35:12.351Z"
      }
    ],
    "kernelspec": {
      "display_name": "Python 3 (ipykernel)",
      "language": "python",
      "name": "python3"
    },
    "language_info": {
      "codemirror_mode": {
        "name": "ipython",
        "version": 3
      },
      "file_extension": ".py",
      "mimetype": "text/x-python",
      "name": "python",
      "nbconvert_exporter": "python",
      "pygments_lexer": "ipython3",
      "version": "3.9.5"
    },
    "toc": {
      "base_numbering": 1,
      "nav_menu": {},
      "number_sections": true,
      "sideBar": true,
      "skip_h1_title": true,
      "title_cell": "Table of Contents",
      "title_sidebar": "Contents",
      "toc_cell": false,
      "toc_position": {},
      "toc_section_display": true,
      "toc_window_display": false
    },
    "colab": {
      "provenance": []
    }
  },
  "nbformat": 4,
  "nbformat_minor": 0
}