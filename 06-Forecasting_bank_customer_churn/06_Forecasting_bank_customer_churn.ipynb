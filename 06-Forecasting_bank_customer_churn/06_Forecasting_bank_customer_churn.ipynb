{
  "cells": [
    {
      "cell_type": "markdown",
      "metadata": {
        "id": "U1qiwNjWTbqE"
      },
      "source": [
        "# ПРОЕКТ\n",
        "# Построение модели оттока клиентов для \"Бета-Банка\""
      ]
    },
    {
      "cell_type": "markdown",
      "metadata": {
        "toc": true,
        "id": "8Ycx5H8TTbqF"
      },
      "source": [
        "<h1>Содержание<span class=\"tocSkip\"></span></h1>\n",
        "<div class=\"toc\"><ul class=\"toc-item\"><li><span><a href=\"#Описание-проекта\" data-toc-modified-id=\"Описание-проекта-1\"><span class=\"toc-item-num\">1&nbsp;&nbsp;</span>Описание проекта</a></span></li><li><span><a href=\"#Подготовка-данных\" data-toc-modified-id=\"Подготовка-данных-2\"><span class=\"toc-item-num\">2&nbsp;&nbsp;</span>Подготовка данных</a></span></li><li><span><a href=\"#Исследование-задачи\" data-toc-modified-id=\"Исследование-задачи-3\"><span class=\"toc-item-num\">3&nbsp;&nbsp;</span>Исследование задачи</a></span></li><li><span><a href=\"#Борьба-с-дисбалансом\" data-toc-modified-id=\"Борьба-с-дисбалансом-4\"><span class=\"toc-item-num\">4&nbsp;&nbsp;</span>Борьба с дисбалансом</a></span></li><li><span><a href=\"#Тестирование-модели\" data-toc-modified-id=\"Тестирование-модели-5\"><span class=\"toc-item-num\">5&nbsp;&nbsp;</span>Тестирование модели</a></span></li><li><span><a href=\"#Чек-лист-готовности-проекта\" data-toc-modified-id=\"Чек-лист-готовности-проекта-6\"><span class=\"toc-item-num\">6&nbsp;&nbsp;</span>Чек-лист готовности проекта</a></span></li></ul></div>"
      ]
    },
    {
      "cell_type": "markdown",
      "metadata": {
        "id": "jvXn2zi6TbqG"
      },
      "source": [
        "## Описание проекта"
      ]
    },
    {
      "cell_type": "markdown",
      "metadata": {
        "id": "H6LvTX4tTbqG"
      },
      "source": [
        "На основании исторических данных о поведении клиентов и расторжении договоров с «Бета-Банком» необходимо спрогнозировать: уйдёт клиент из банка в ближайшее время или нет.\n",
        "\n",
        "Необходимо решить задачу класификации и построить модель обучения с учителем.\n",
        "\n",
        "Критерий успешности модели, определенный заказчиком,- предельно большое значение **F1-меры** на тестовой выборке, не менее **0.59**.\n",
        "\n",
        "Проект будет выполнен в **4** шага:\n",
        "- подготовка данных имеющегося датасета;\n",
        "- исследование вариантов моделей;\n",
        "- устранение дисбаланса классов;\n",
        "- тестирование лучшей модели."
      ]
    },
    {
      "cell_type": "markdown",
      "metadata": {
        "id": "N2jkoQ5vTbqH"
      },
      "source": [
        "## Подготовка данных"
      ]
    },
    {
      "cell_type": "code",
      "execution_count": null,
      "metadata": {
        "id": "8F2qNHJiTbqI"
      },
      "outputs": [],
      "source": [
        "import matplotlib.pyplot as plt\n",
        "import pandas as pd\n",
        "import seaborn as sns\n",
        "\n",
        "from sklearn.tree import DecisionTreeClassifier\n",
        "from sklearn.linear_model import LogisticRegression\n",
        "from sklearn.ensemble import RandomForestClassifier\n",
        "\n",
        "from sklearn.preprocessing import StandardScaler\n",
        "from sklearn.model_selection import train_test_split\n",
        "\n",
        "from sklearn.utils import shuffle\n",
        "\n",
        "from sklearn.metrics import f1_score\n",
        "from sklearn.metrics import roc_auc_score"
      ]
    },
    {
      "cell_type": "code",
      "execution_count": null,
      "metadata": {
        "id": "-nYLfm4MTbqL"
      },
      "outputs": [],
      "source": [
        "df = pd.read_csv('/datasets/Churn.csv')"
      ]
    },
    {
      "cell_type": "code",
      "execution_count": null,
      "metadata": {
        "id": "zEMEkl9qTbqL",
        "outputId": "007c3e63-bea8-40a8-e888-754f146b72ac"
      },
      "outputs": [
        {
          "name": "stdout",
          "output_type": "stream",
          "text": [
            "<class 'pandas.core.frame.DataFrame'>\n",
            "RangeIndex: 10000 entries, 0 to 9999\n",
            "Data columns (total 14 columns):\n",
            " #   Column           Non-Null Count  Dtype  \n",
            "---  ------           --------------  -----  \n",
            " 0   RowNumber        10000 non-null  int64  \n",
            " 1   CustomerId       10000 non-null  int64  \n",
            " 2   Surname          10000 non-null  object \n",
            " 3   CreditScore      10000 non-null  int64  \n",
            " 4   Geography        10000 non-null  object \n",
            " 5   Gender           10000 non-null  object \n",
            " 6   Age              10000 non-null  int64  \n",
            " 7   Tenure           9091 non-null   float64\n",
            " 8   Balance          10000 non-null  float64\n",
            " 9   NumOfProducts    10000 non-null  int64  \n",
            " 10  HasCrCard        10000 non-null  int64  \n",
            " 11  IsActiveMember   10000 non-null  int64  \n",
            " 12  EstimatedSalary  10000 non-null  float64\n",
            " 13  Exited           10000 non-null  int64  \n",
            "dtypes: float64(3), int64(8), object(3)\n",
            "memory usage: 1.1+ MB\n"
          ]
        }
      ],
      "source": [
        "df.info()"
      ]
    },
    {
      "cell_type": "markdown",
      "metadata": {
        "id": "zV5Zs74lTbqM"
      },
      "source": [
        "Датасет содержит 10 000 срок и 13 столбщов, 12 из которых не содержат пропусков. Пропуски в столбце **\"Tenure\"** (сколько лет человек является клиентом банка) составляют **9%,** что не позволяет удалить строки с пропусками из датасета. Кроме того, необходимо будет проверить корректность типов данных по ряду столбцов."
      ]
    },
    {
      "cell_type": "code",
      "execution_count": null,
      "metadata": {
        "id": "8reuC0m2TbqM",
        "outputId": "035bac2d-0f27-4a5e-d2e6-af67b5a373c5"
      },
      "outputs": [
        {
          "data": {
            "text/html": [
              "<div>\n",
              "<style scoped>\n",
              "    .dataframe tbody tr th:only-of-type {\n",
              "        vertical-align: middle;\n",
              "    }\n",
              "\n",
              "    .dataframe tbody tr th {\n",
              "        vertical-align: top;\n",
              "    }\n",
              "\n",
              "    .dataframe thead th {\n",
              "        text-align: right;\n",
              "    }\n",
              "</style>\n",
              "<table border=\"1\" class=\"dataframe\">\n",
              "  <thead>\n",
              "    <tr style=\"text-align: right;\">\n",
              "      <th></th>\n",
              "      <th>RowNumber</th>\n",
              "      <th>CustomerId</th>\n",
              "      <th>CreditScore</th>\n",
              "      <th>Age</th>\n",
              "      <th>Tenure</th>\n",
              "      <th>Balance</th>\n",
              "      <th>NumOfProducts</th>\n",
              "      <th>HasCrCard</th>\n",
              "      <th>IsActiveMember</th>\n",
              "      <th>EstimatedSalary</th>\n",
              "      <th>Exited</th>\n",
              "    </tr>\n",
              "  </thead>\n",
              "  <tbody>\n",
              "    <tr>\n",
              "      <th>count</th>\n",
              "      <td>10000.00000</td>\n",
              "      <td>1.000000e+04</td>\n",
              "      <td>10000.000000</td>\n",
              "      <td>10000.000000</td>\n",
              "      <td>9091.000000</td>\n",
              "      <td>10000.000000</td>\n",
              "      <td>10000.000000</td>\n",
              "      <td>10000.00000</td>\n",
              "      <td>10000.000000</td>\n",
              "      <td>10000.000000</td>\n",
              "      <td>10000.000000</td>\n",
              "    </tr>\n",
              "    <tr>\n",
              "      <th>mean</th>\n",
              "      <td>5000.50000</td>\n",
              "      <td>1.569094e+07</td>\n",
              "      <td>650.528800</td>\n",
              "      <td>38.921800</td>\n",
              "      <td>4.997690</td>\n",
              "      <td>76485.889288</td>\n",
              "      <td>1.530200</td>\n",
              "      <td>0.70550</td>\n",
              "      <td>0.515100</td>\n",
              "      <td>100090.239881</td>\n",
              "      <td>0.203700</td>\n",
              "    </tr>\n",
              "    <tr>\n",
              "      <th>std</th>\n",
              "      <td>2886.89568</td>\n",
              "      <td>7.193619e+04</td>\n",
              "      <td>96.653299</td>\n",
              "      <td>10.487806</td>\n",
              "      <td>2.894723</td>\n",
              "      <td>62397.405202</td>\n",
              "      <td>0.581654</td>\n",
              "      <td>0.45584</td>\n",
              "      <td>0.499797</td>\n",
              "      <td>57510.492818</td>\n",
              "      <td>0.402769</td>\n",
              "    </tr>\n",
              "    <tr>\n",
              "      <th>min</th>\n",
              "      <td>1.00000</td>\n",
              "      <td>1.556570e+07</td>\n",
              "      <td>350.000000</td>\n",
              "      <td>18.000000</td>\n",
              "      <td>0.000000</td>\n",
              "      <td>0.000000</td>\n",
              "      <td>1.000000</td>\n",
              "      <td>0.00000</td>\n",
              "      <td>0.000000</td>\n",
              "      <td>11.580000</td>\n",
              "      <td>0.000000</td>\n",
              "    </tr>\n",
              "    <tr>\n",
              "      <th>25%</th>\n",
              "      <td>2500.75000</td>\n",
              "      <td>1.562853e+07</td>\n",
              "      <td>584.000000</td>\n",
              "      <td>32.000000</td>\n",
              "      <td>2.000000</td>\n",
              "      <td>0.000000</td>\n",
              "      <td>1.000000</td>\n",
              "      <td>0.00000</td>\n",
              "      <td>0.000000</td>\n",
              "      <td>51002.110000</td>\n",
              "      <td>0.000000</td>\n",
              "    </tr>\n",
              "    <tr>\n",
              "      <th>50%</th>\n",
              "      <td>5000.50000</td>\n",
              "      <td>1.569074e+07</td>\n",
              "      <td>652.000000</td>\n",
              "      <td>37.000000</td>\n",
              "      <td>5.000000</td>\n",
              "      <td>97198.540000</td>\n",
              "      <td>1.000000</td>\n",
              "      <td>1.00000</td>\n",
              "      <td>1.000000</td>\n",
              "      <td>100193.915000</td>\n",
              "      <td>0.000000</td>\n",
              "    </tr>\n",
              "    <tr>\n",
              "      <th>75%</th>\n",
              "      <td>7500.25000</td>\n",
              "      <td>1.575323e+07</td>\n",
              "      <td>718.000000</td>\n",
              "      <td>44.000000</td>\n",
              "      <td>7.000000</td>\n",
              "      <td>127644.240000</td>\n",
              "      <td>2.000000</td>\n",
              "      <td>1.00000</td>\n",
              "      <td>1.000000</td>\n",
              "      <td>149388.247500</td>\n",
              "      <td>0.000000</td>\n",
              "    </tr>\n",
              "    <tr>\n",
              "      <th>max</th>\n",
              "      <td>10000.00000</td>\n",
              "      <td>1.581569e+07</td>\n",
              "      <td>850.000000</td>\n",
              "      <td>92.000000</td>\n",
              "      <td>10.000000</td>\n",
              "      <td>250898.090000</td>\n",
              "      <td>4.000000</td>\n",
              "      <td>1.00000</td>\n",
              "      <td>1.000000</td>\n",
              "      <td>199992.480000</td>\n",
              "      <td>1.000000</td>\n",
              "    </tr>\n",
              "  </tbody>\n",
              "</table>\n",
              "</div>"
            ],
            "text/plain": [
              "         RowNumber    CustomerId   CreditScore           Age       Tenure  \\\n",
              "count  10000.00000  1.000000e+04  10000.000000  10000.000000  9091.000000   \n",
              "mean    5000.50000  1.569094e+07    650.528800     38.921800     4.997690   \n",
              "std     2886.89568  7.193619e+04     96.653299     10.487806     2.894723   \n",
              "min        1.00000  1.556570e+07    350.000000     18.000000     0.000000   \n",
              "25%     2500.75000  1.562853e+07    584.000000     32.000000     2.000000   \n",
              "50%     5000.50000  1.569074e+07    652.000000     37.000000     5.000000   \n",
              "75%     7500.25000  1.575323e+07    718.000000     44.000000     7.000000   \n",
              "max    10000.00000  1.581569e+07    850.000000     92.000000    10.000000   \n",
              "\n",
              "             Balance  NumOfProducts    HasCrCard  IsActiveMember  \\\n",
              "count   10000.000000   10000.000000  10000.00000    10000.000000   \n",
              "mean    76485.889288       1.530200      0.70550        0.515100   \n",
              "std     62397.405202       0.581654      0.45584        0.499797   \n",
              "min         0.000000       1.000000      0.00000        0.000000   \n",
              "25%         0.000000       1.000000      0.00000        0.000000   \n",
              "50%     97198.540000       1.000000      1.00000        1.000000   \n",
              "75%    127644.240000       2.000000      1.00000        1.000000   \n",
              "max    250898.090000       4.000000      1.00000        1.000000   \n",
              "\n",
              "       EstimatedSalary        Exited  \n",
              "count     10000.000000  10000.000000  \n",
              "mean     100090.239881      0.203700  \n",
              "std       57510.492818      0.402769  \n",
              "min          11.580000      0.000000  \n",
              "25%       51002.110000      0.000000  \n",
              "50%      100193.915000      0.000000  \n",
              "75%      149388.247500      0.000000  \n",
              "max      199992.480000      1.000000  "
            ]
          },
          "execution_count": 4,
          "metadata": {},
          "output_type": "execute_result"
        }
      ],
      "source": [
        "df.describe()"
      ]
    },
    {
      "cell_type": "code",
      "execution_count": null,
      "metadata": {
        "id": "zNebKm9wTbqN",
        "outputId": "0650bfb8-b1a3-4f41-eea1-b7cf731b99c0"
      },
      "outputs": [
        {
          "data": {
            "text/html": [
              "<div>\n",
              "<style scoped>\n",
              "    .dataframe tbody tr th:only-of-type {\n",
              "        vertical-align: middle;\n",
              "    }\n",
              "\n",
              "    .dataframe tbody tr th {\n",
              "        vertical-align: top;\n",
              "    }\n",
              "\n",
              "    .dataframe thead th {\n",
              "        text-align: right;\n",
              "    }\n",
              "</style>\n",
              "<table border=\"1\" class=\"dataframe\">\n",
              "  <thead>\n",
              "    <tr style=\"text-align: right;\">\n",
              "      <th></th>\n",
              "      <th>RowNumber</th>\n",
              "      <th>CustomerId</th>\n",
              "      <th>Surname</th>\n",
              "      <th>CreditScore</th>\n",
              "      <th>Geography</th>\n",
              "      <th>Gender</th>\n",
              "      <th>Age</th>\n",
              "      <th>Tenure</th>\n",
              "      <th>Balance</th>\n",
              "      <th>NumOfProducts</th>\n",
              "      <th>HasCrCard</th>\n",
              "      <th>IsActiveMember</th>\n",
              "      <th>EstimatedSalary</th>\n",
              "      <th>Exited</th>\n",
              "    </tr>\n",
              "  </thead>\n",
              "  <tbody>\n",
              "    <tr>\n",
              "      <th>0</th>\n",
              "      <td>1</td>\n",
              "      <td>15634602</td>\n",
              "      <td>Hargrave</td>\n",
              "      <td>619</td>\n",
              "      <td>France</td>\n",
              "      <td>Female</td>\n",
              "      <td>42</td>\n",
              "      <td>2.0</td>\n",
              "      <td>0.00</td>\n",
              "      <td>1</td>\n",
              "      <td>1</td>\n",
              "      <td>1</td>\n",
              "      <td>101348.88</td>\n",
              "      <td>1</td>\n",
              "    </tr>\n",
              "    <tr>\n",
              "      <th>1</th>\n",
              "      <td>2</td>\n",
              "      <td>15647311</td>\n",
              "      <td>Hill</td>\n",
              "      <td>608</td>\n",
              "      <td>Spain</td>\n",
              "      <td>Female</td>\n",
              "      <td>41</td>\n",
              "      <td>1.0</td>\n",
              "      <td>83807.86</td>\n",
              "      <td>1</td>\n",
              "      <td>0</td>\n",
              "      <td>1</td>\n",
              "      <td>112542.58</td>\n",
              "      <td>0</td>\n",
              "    </tr>\n",
              "    <tr>\n",
              "      <th>2</th>\n",
              "      <td>3</td>\n",
              "      <td>15619304</td>\n",
              "      <td>Onio</td>\n",
              "      <td>502</td>\n",
              "      <td>France</td>\n",
              "      <td>Female</td>\n",
              "      <td>42</td>\n",
              "      <td>8.0</td>\n",
              "      <td>159660.80</td>\n",
              "      <td>3</td>\n",
              "      <td>1</td>\n",
              "      <td>0</td>\n",
              "      <td>113931.57</td>\n",
              "      <td>1</td>\n",
              "    </tr>\n",
              "    <tr>\n",
              "      <th>3</th>\n",
              "      <td>4</td>\n",
              "      <td>15701354</td>\n",
              "      <td>Boni</td>\n",
              "      <td>699</td>\n",
              "      <td>France</td>\n",
              "      <td>Female</td>\n",
              "      <td>39</td>\n",
              "      <td>1.0</td>\n",
              "      <td>0.00</td>\n",
              "      <td>2</td>\n",
              "      <td>0</td>\n",
              "      <td>0</td>\n",
              "      <td>93826.63</td>\n",
              "      <td>0</td>\n",
              "    </tr>\n",
              "    <tr>\n",
              "      <th>4</th>\n",
              "      <td>5</td>\n",
              "      <td>15737888</td>\n",
              "      <td>Mitchell</td>\n",
              "      <td>850</td>\n",
              "      <td>Spain</td>\n",
              "      <td>Female</td>\n",
              "      <td>43</td>\n",
              "      <td>2.0</td>\n",
              "      <td>125510.82</td>\n",
              "      <td>1</td>\n",
              "      <td>1</td>\n",
              "      <td>1</td>\n",
              "      <td>79084.10</td>\n",
              "      <td>0</td>\n",
              "    </tr>\n",
              "    <tr>\n",
              "      <th>5</th>\n",
              "      <td>6</td>\n",
              "      <td>15574012</td>\n",
              "      <td>Chu</td>\n",
              "      <td>645</td>\n",
              "      <td>Spain</td>\n",
              "      <td>Male</td>\n",
              "      <td>44</td>\n",
              "      <td>8.0</td>\n",
              "      <td>113755.78</td>\n",
              "      <td>2</td>\n",
              "      <td>1</td>\n",
              "      <td>0</td>\n",
              "      <td>149756.71</td>\n",
              "      <td>1</td>\n",
              "    </tr>\n",
              "    <tr>\n",
              "      <th>6</th>\n",
              "      <td>7</td>\n",
              "      <td>15592531</td>\n",
              "      <td>Bartlett</td>\n",
              "      <td>822</td>\n",
              "      <td>France</td>\n",
              "      <td>Male</td>\n",
              "      <td>50</td>\n",
              "      <td>7.0</td>\n",
              "      <td>0.00</td>\n",
              "      <td>2</td>\n",
              "      <td>1</td>\n",
              "      <td>1</td>\n",
              "      <td>10062.80</td>\n",
              "      <td>0</td>\n",
              "    </tr>\n",
              "    <tr>\n",
              "      <th>7</th>\n",
              "      <td>8</td>\n",
              "      <td>15656148</td>\n",
              "      <td>Obinna</td>\n",
              "      <td>376</td>\n",
              "      <td>Germany</td>\n",
              "      <td>Female</td>\n",
              "      <td>29</td>\n",
              "      <td>4.0</td>\n",
              "      <td>115046.74</td>\n",
              "      <td>4</td>\n",
              "      <td>1</td>\n",
              "      <td>0</td>\n",
              "      <td>119346.88</td>\n",
              "      <td>1</td>\n",
              "    </tr>\n",
              "    <tr>\n",
              "      <th>8</th>\n",
              "      <td>9</td>\n",
              "      <td>15792365</td>\n",
              "      <td>He</td>\n",
              "      <td>501</td>\n",
              "      <td>France</td>\n",
              "      <td>Male</td>\n",
              "      <td>44</td>\n",
              "      <td>4.0</td>\n",
              "      <td>142051.07</td>\n",
              "      <td>2</td>\n",
              "      <td>0</td>\n",
              "      <td>1</td>\n",
              "      <td>74940.50</td>\n",
              "      <td>0</td>\n",
              "    </tr>\n",
              "    <tr>\n",
              "      <th>9</th>\n",
              "      <td>10</td>\n",
              "      <td>15592389</td>\n",
              "      <td>H?</td>\n",
              "      <td>684</td>\n",
              "      <td>France</td>\n",
              "      <td>Male</td>\n",
              "      <td>27</td>\n",
              "      <td>2.0</td>\n",
              "      <td>134603.88</td>\n",
              "      <td>1</td>\n",
              "      <td>1</td>\n",
              "      <td>1</td>\n",
              "      <td>71725.73</td>\n",
              "      <td>0</td>\n",
              "    </tr>\n",
              "  </tbody>\n",
              "</table>\n",
              "</div>"
            ],
            "text/plain": [
              "   RowNumber  CustomerId   Surname  CreditScore Geography  Gender  Age  \\\n",
              "0          1    15634602  Hargrave          619    France  Female   42   \n",
              "1          2    15647311      Hill          608     Spain  Female   41   \n",
              "2          3    15619304      Onio          502    France  Female   42   \n",
              "3          4    15701354      Boni          699    France  Female   39   \n",
              "4          5    15737888  Mitchell          850     Spain  Female   43   \n",
              "5          6    15574012       Chu          645     Spain    Male   44   \n",
              "6          7    15592531  Bartlett          822    France    Male   50   \n",
              "7          8    15656148    Obinna          376   Germany  Female   29   \n",
              "8          9    15792365        He          501    France    Male   44   \n",
              "9         10    15592389        H?          684    France    Male   27   \n",
              "\n",
              "   Tenure    Balance  NumOfProducts  HasCrCard  IsActiveMember  \\\n",
              "0     2.0       0.00              1          1               1   \n",
              "1     1.0   83807.86              1          0               1   \n",
              "2     8.0  159660.80              3          1               0   \n",
              "3     1.0       0.00              2          0               0   \n",
              "4     2.0  125510.82              1          1               1   \n",
              "5     8.0  113755.78              2          1               0   \n",
              "6     7.0       0.00              2          1               1   \n",
              "7     4.0  115046.74              4          1               0   \n",
              "8     4.0  142051.07              2          0               1   \n",
              "9     2.0  134603.88              1          1               1   \n",
              "\n",
              "   EstimatedSalary  Exited  \n",
              "0        101348.88       1  \n",
              "1        112542.58       0  \n",
              "2        113931.57       1  \n",
              "3         93826.63       0  \n",
              "4         79084.10       0  \n",
              "5        149756.71       1  \n",
              "6         10062.80       0  \n",
              "7        119346.88       1  \n",
              "8         74940.50       0  \n",
              "9         71725.73       0  "
            ]
          },
          "execution_count": 5,
          "metadata": {},
          "output_type": "execute_result"
        }
      ],
      "source": [
        "df.head(10)"
      ]
    },
    {
      "cell_type": "code",
      "execution_count": null,
      "metadata": {
        "id": "QwMeQVyJTbqN",
        "outputId": "89c2801a-1405-4f66-a894-74e256f22eeb"
      },
      "outputs": [
        {
          "data": {
            "text/html": [
              "<div>\n",
              "<style scoped>\n",
              "    .dataframe tbody tr th:only-of-type {\n",
              "        vertical-align: middle;\n",
              "    }\n",
              "\n",
              "    .dataframe tbody tr th {\n",
              "        vertical-align: top;\n",
              "    }\n",
              "\n",
              "    .dataframe thead th {\n",
              "        text-align: right;\n",
              "    }\n",
              "</style>\n",
              "<table border=\"1\" class=\"dataframe\">\n",
              "  <thead>\n",
              "    <tr style=\"text-align: right;\">\n",
              "      <th></th>\n",
              "      <th>RowNumber</th>\n",
              "      <th>CustomerId</th>\n",
              "      <th>Surname</th>\n",
              "      <th>CreditScore</th>\n",
              "      <th>Geography</th>\n",
              "      <th>Gender</th>\n",
              "      <th>Age</th>\n",
              "      <th>Tenure</th>\n",
              "      <th>Balance</th>\n",
              "      <th>NumOfProducts</th>\n",
              "      <th>HasCrCard</th>\n",
              "      <th>IsActiveMember</th>\n",
              "      <th>EstimatedSalary</th>\n",
              "      <th>Exited</th>\n",
              "    </tr>\n",
              "  </thead>\n",
              "  <tbody>\n",
              "    <tr>\n",
              "      <th>9990</th>\n",
              "      <td>9991</td>\n",
              "      <td>15798964</td>\n",
              "      <td>Nkemakonam</td>\n",
              "      <td>714</td>\n",
              "      <td>Germany</td>\n",
              "      <td>Male</td>\n",
              "      <td>33</td>\n",
              "      <td>3.0</td>\n",
              "      <td>35016.60</td>\n",
              "      <td>1</td>\n",
              "      <td>1</td>\n",
              "      <td>0</td>\n",
              "      <td>53667.08</td>\n",
              "      <td>0</td>\n",
              "    </tr>\n",
              "    <tr>\n",
              "      <th>9991</th>\n",
              "      <td>9992</td>\n",
              "      <td>15769959</td>\n",
              "      <td>Ajuluchukwu</td>\n",
              "      <td>597</td>\n",
              "      <td>France</td>\n",
              "      <td>Female</td>\n",
              "      <td>53</td>\n",
              "      <td>4.0</td>\n",
              "      <td>88381.21</td>\n",
              "      <td>1</td>\n",
              "      <td>1</td>\n",
              "      <td>0</td>\n",
              "      <td>69384.71</td>\n",
              "      <td>1</td>\n",
              "    </tr>\n",
              "    <tr>\n",
              "      <th>9992</th>\n",
              "      <td>9993</td>\n",
              "      <td>15657105</td>\n",
              "      <td>Chukwualuka</td>\n",
              "      <td>726</td>\n",
              "      <td>Spain</td>\n",
              "      <td>Male</td>\n",
              "      <td>36</td>\n",
              "      <td>2.0</td>\n",
              "      <td>0.00</td>\n",
              "      <td>1</td>\n",
              "      <td>1</td>\n",
              "      <td>0</td>\n",
              "      <td>195192.40</td>\n",
              "      <td>0</td>\n",
              "    </tr>\n",
              "    <tr>\n",
              "      <th>9993</th>\n",
              "      <td>9994</td>\n",
              "      <td>15569266</td>\n",
              "      <td>Rahman</td>\n",
              "      <td>644</td>\n",
              "      <td>France</td>\n",
              "      <td>Male</td>\n",
              "      <td>28</td>\n",
              "      <td>7.0</td>\n",
              "      <td>155060.41</td>\n",
              "      <td>1</td>\n",
              "      <td>1</td>\n",
              "      <td>0</td>\n",
              "      <td>29179.52</td>\n",
              "      <td>0</td>\n",
              "    </tr>\n",
              "    <tr>\n",
              "      <th>9994</th>\n",
              "      <td>9995</td>\n",
              "      <td>15719294</td>\n",
              "      <td>Wood</td>\n",
              "      <td>800</td>\n",
              "      <td>France</td>\n",
              "      <td>Female</td>\n",
              "      <td>29</td>\n",
              "      <td>2.0</td>\n",
              "      <td>0.00</td>\n",
              "      <td>2</td>\n",
              "      <td>0</td>\n",
              "      <td>0</td>\n",
              "      <td>167773.55</td>\n",
              "      <td>0</td>\n",
              "    </tr>\n",
              "    <tr>\n",
              "      <th>9995</th>\n",
              "      <td>9996</td>\n",
              "      <td>15606229</td>\n",
              "      <td>Obijiaku</td>\n",
              "      <td>771</td>\n",
              "      <td>France</td>\n",
              "      <td>Male</td>\n",
              "      <td>39</td>\n",
              "      <td>5.0</td>\n",
              "      <td>0.00</td>\n",
              "      <td>2</td>\n",
              "      <td>1</td>\n",
              "      <td>0</td>\n",
              "      <td>96270.64</td>\n",
              "      <td>0</td>\n",
              "    </tr>\n",
              "    <tr>\n",
              "      <th>9996</th>\n",
              "      <td>9997</td>\n",
              "      <td>15569892</td>\n",
              "      <td>Johnstone</td>\n",
              "      <td>516</td>\n",
              "      <td>France</td>\n",
              "      <td>Male</td>\n",
              "      <td>35</td>\n",
              "      <td>10.0</td>\n",
              "      <td>57369.61</td>\n",
              "      <td>1</td>\n",
              "      <td>1</td>\n",
              "      <td>1</td>\n",
              "      <td>101699.77</td>\n",
              "      <td>0</td>\n",
              "    </tr>\n",
              "    <tr>\n",
              "      <th>9997</th>\n",
              "      <td>9998</td>\n",
              "      <td>15584532</td>\n",
              "      <td>Liu</td>\n",
              "      <td>709</td>\n",
              "      <td>France</td>\n",
              "      <td>Female</td>\n",
              "      <td>36</td>\n",
              "      <td>7.0</td>\n",
              "      <td>0.00</td>\n",
              "      <td>1</td>\n",
              "      <td>0</td>\n",
              "      <td>1</td>\n",
              "      <td>42085.58</td>\n",
              "      <td>1</td>\n",
              "    </tr>\n",
              "    <tr>\n",
              "      <th>9998</th>\n",
              "      <td>9999</td>\n",
              "      <td>15682355</td>\n",
              "      <td>Sabbatini</td>\n",
              "      <td>772</td>\n",
              "      <td>Germany</td>\n",
              "      <td>Male</td>\n",
              "      <td>42</td>\n",
              "      <td>3.0</td>\n",
              "      <td>75075.31</td>\n",
              "      <td>2</td>\n",
              "      <td>1</td>\n",
              "      <td>0</td>\n",
              "      <td>92888.52</td>\n",
              "      <td>1</td>\n",
              "    </tr>\n",
              "    <tr>\n",
              "      <th>9999</th>\n",
              "      <td>10000</td>\n",
              "      <td>15628319</td>\n",
              "      <td>Walker</td>\n",
              "      <td>792</td>\n",
              "      <td>France</td>\n",
              "      <td>Female</td>\n",
              "      <td>28</td>\n",
              "      <td>NaN</td>\n",
              "      <td>130142.79</td>\n",
              "      <td>1</td>\n",
              "      <td>1</td>\n",
              "      <td>0</td>\n",
              "      <td>38190.78</td>\n",
              "      <td>0</td>\n",
              "    </tr>\n",
              "  </tbody>\n",
              "</table>\n",
              "</div>"
            ],
            "text/plain": [
              "      RowNumber  CustomerId      Surname  CreditScore Geography  Gender  Age  \\\n",
              "9990       9991    15798964   Nkemakonam          714   Germany    Male   33   \n",
              "9991       9992    15769959  Ajuluchukwu          597    France  Female   53   \n",
              "9992       9993    15657105  Chukwualuka          726     Spain    Male   36   \n",
              "9993       9994    15569266       Rahman          644    France    Male   28   \n",
              "9994       9995    15719294         Wood          800    France  Female   29   \n",
              "9995       9996    15606229     Obijiaku          771    France    Male   39   \n",
              "9996       9997    15569892    Johnstone          516    France    Male   35   \n",
              "9997       9998    15584532          Liu          709    France  Female   36   \n",
              "9998       9999    15682355    Sabbatini          772   Germany    Male   42   \n",
              "9999      10000    15628319       Walker          792    France  Female   28   \n",
              "\n",
              "      Tenure    Balance  NumOfProducts  HasCrCard  IsActiveMember  \\\n",
              "9990     3.0   35016.60              1          1               0   \n",
              "9991     4.0   88381.21              1          1               0   \n",
              "9992     2.0       0.00              1          1               0   \n",
              "9993     7.0  155060.41              1          1               0   \n",
              "9994     2.0       0.00              2          0               0   \n",
              "9995     5.0       0.00              2          1               0   \n",
              "9996    10.0   57369.61              1          1               1   \n",
              "9997     7.0       0.00              1          0               1   \n",
              "9998     3.0   75075.31              2          1               0   \n",
              "9999     NaN  130142.79              1          1               0   \n",
              "\n",
              "      EstimatedSalary  Exited  \n",
              "9990         53667.08       0  \n",
              "9991         69384.71       1  \n",
              "9992        195192.40       0  \n",
              "9993         29179.52       0  \n",
              "9994        167773.55       0  \n",
              "9995         96270.64       0  \n",
              "9996        101699.77       0  \n",
              "9997         42085.58       1  \n",
              "9998         92888.52       1  \n",
              "9999         38190.78       0  "
            ]
          },
          "execution_count": 6,
          "metadata": {},
          "output_type": "execute_result"
        }
      ],
      "source": [
        "df.tail(10)"
      ]
    },
    {
      "cell_type": "markdown",
      "metadata": {
        "id": "ruMOprT9TbqO"
      },
      "source": [
        "Сразу можно отметить:\n",
        "\n",
        "- необходимо скорректировать названия столбцов (нижний регистр, \"змеиный\" стиль);\n",
        "- столбец \"RowNumber\", по сути, дублирует индекс датасета;\n",
        "- столбец \"Surname\",\"CustomerId\" не несут дополнительной информации;\n",
        "- столбец \"Geography\", \"Gender\" необходимо будет преобразовать."
      ]
    },
    {
      "cell_type": "code",
      "execution_count": null,
      "metadata": {
        "id": "FoRsWzrnTbqP",
        "outputId": "d3095356-1c43-4884-d9d0-0be2541fe24b"
      },
      "outputs": [
        {
          "data": {
            "text/html": [
              "<div>\n",
              "<style scoped>\n",
              "    .dataframe tbody tr th:only-of-type {\n",
              "        vertical-align: middle;\n",
              "    }\n",
              "\n",
              "    .dataframe tbody tr th {\n",
              "        vertical-align: top;\n",
              "    }\n",
              "\n",
              "    .dataframe thead th {\n",
              "        text-align: right;\n",
              "    }\n",
              "</style>\n",
              "<table border=\"1\" class=\"dataframe\">\n",
              "  <thead>\n",
              "    <tr style=\"text-align: right;\">\n",
              "      <th></th>\n",
              "      <th>RowNumber</th>\n",
              "      <th>CustomerId</th>\n",
              "      <th>CreditScore</th>\n",
              "      <th>Age</th>\n",
              "      <th>Tenure</th>\n",
              "      <th>Balance</th>\n",
              "      <th>NumOfProducts</th>\n",
              "      <th>HasCrCard</th>\n",
              "      <th>IsActiveMember</th>\n",
              "      <th>EstimatedSalary</th>\n",
              "      <th>Exited</th>\n",
              "    </tr>\n",
              "  </thead>\n",
              "  <tbody>\n",
              "    <tr>\n",
              "      <th>RowNumber</th>\n",
              "      <td>1.000000</td>\n",
              "      <td>0.004202</td>\n",
              "      <td>0.005840</td>\n",
              "      <td>0.000783</td>\n",
              "      <td>-0.007322</td>\n",
              "      <td>-0.009067</td>\n",
              "      <td>0.007246</td>\n",
              "      <td>0.000599</td>\n",
              "      <td>0.012044</td>\n",
              "      <td>-0.005988</td>\n",
              "      <td>-0.016571</td>\n",
              "    </tr>\n",
              "    <tr>\n",
              "      <th>CustomerId</th>\n",
              "      <td>0.004202</td>\n",
              "      <td>1.000000</td>\n",
              "      <td>0.005308</td>\n",
              "      <td>0.009497</td>\n",
              "      <td>-0.021418</td>\n",
              "      <td>-0.012419</td>\n",
              "      <td>0.016972</td>\n",
              "      <td>-0.014025</td>\n",
              "      <td>0.001665</td>\n",
              "      <td>0.015271</td>\n",
              "      <td>-0.006248</td>\n",
              "    </tr>\n",
              "    <tr>\n",
              "      <th>CreditScore</th>\n",
              "      <td>0.005840</td>\n",
              "      <td>0.005308</td>\n",
              "      <td>1.000000</td>\n",
              "      <td>-0.003965</td>\n",
              "      <td>-0.000062</td>\n",
              "      <td>0.006268</td>\n",
              "      <td>0.012238</td>\n",
              "      <td>-0.005458</td>\n",
              "      <td>0.025651</td>\n",
              "      <td>-0.001384</td>\n",
              "      <td>-0.027094</td>\n",
              "    </tr>\n",
              "    <tr>\n",
              "      <th>Age</th>\n",
              "      <td>0.000783</td>\n",
              "      <td>0.009497</td>\n",
              "      <td>-0.003965</td>\n",
              "      <td>1.000000</td>\n",
              "      <td>-0.013134</td>\n",
              "      <td>0.028308</td>\n",
              "      <td>-0.030680</td>\n",
              "      <td>-0.011721</td>\n",
              "      <td>0.085472</td>\n",
              "      <td>-0.007201</td>\n",
              "      <td>0.285323</td>\n",
              "    </tr>\n",
              "    <tr>\n",
              "      <th>Tenure</th>\n",
              "      <td>-0.007322</td>\n",
              "      <td>-0.021418</td>\n",
              "      <td>-0.000062</td>\n",
              "      <td>-0.013134</td>\n",
              "      <td>1.000000</td>\n",
              "      <td>-0.007911</td>\n",
              "      <td>0.011979</td>\n",
              "      <td>0.027232</td>\n",
              "      <td>-0.032178</td>\n",
              "      <td>0.010520</td>\n",
              "      <td>-0.016761</td>\n",
              "    </tr>\n",
              "    <tr>\n",
              "      <th>Balance</th>\n",
              "      <td>-0.009067</td>\n",
              "      <td>-0.012419</td>\n",
              "      <td>0.006268</td>\n",
              "      <td>0.028308</td>\n",
              "      <td>-0.007911</td>\n",
              "      <td>1.000000</td>\n",
              "      <td>-0.304180</td>\n",
              "      <td>-0.014858</td>\n",
              "      <td>-0.010084</td>\n",
              "      <td>0.012797</td>\n",
              "      <td>0.118533</td>\n",
              "    </tr>\n",
              "    <tr>\n",
              "      <th>NumOfProducts</th>\n",
              "      <td>0.007246</td>\n",
              "      <td>0.016972</td>\n",
              "      <td>0.012238</td>\n",
              "      <td>-0.030680</td>\n",
              "      <td>0.011979</td>\n",
              "      <td>-0.304180</td>\n",
              "      <td>1.000000</td>\n",
              "      <td>0.003183</td>\n",
              "      <td>0.009612</td>\n",
              "      <td>0.014204</td>\n",
              "      <td>-0.047820</td>\n",
              "    </tr>\n",
              "    <tr>\n",
              "      <th>HasCrCard</th>\n",
              "      <td>0.000599</td>\n",
              "      <td>-0.014025</td>\n",
              "      <td>-0.005458</td>\n",
              "      <td>-0.011721</td>\n",
              "      <td>0.027232</td>\n",
              "      <td>-0.014858</td>\n",
              "      <td>0.003183</td>\n",
              "      <td>1.000000</td>\n",
              "      <td>-0.011866</td>\n",
              "      <td>-0.009933</td>\n",
              "      <td>-0.007138</td>\n",
              "    </tr>\n",
              "    <tr>\n",
              "      <th>IsActiveMember</th>\n",
              "      <td>0.012044</td>\n",
              "      <td>0.001665</td>\n",
              "      <td>0.025651</td>\n",
              "      <td>0.085472</td>\n",
              "      <td>-0.032178</td>\n",
              "      <td>-0.010084</td>\n",
              "      <td>0.009612</td>\n",
              "      <td>-0.011866</td>\n",
              "      <td>1.000000</td>\n",
              "      <td>-0.011421</td>\n",
              "      <td>-0.156128</td>\n",
              "    </tr>\n",
              "    <tr>\n",
              "      <th>EstimatedSalary</th>\n",
              "      <td>-0.005988</td>\n",
              "      <td>0.015271</td>\n",
              "      <td>-0.001384</td>\n",
              "      <td>-0.007201</td>\n",
              "      <td>0.010520</td>\n",
              "      <td>0.012797</td>\n",
              "      <td>0.014204</td>\n",
              "      <td>-0.009933</td>\n",
              "      <td>-0.011421</td>\n",
              "      <td>1.000000</td>\n",
              "      <td>0.012097</td>\n",
              "    </tr>\n",
              "    <tr>\n",
              "      <th>Exited</th>\n",
              "      <td>-0.016571</td>\n",
              "      <td>-0.006248</td>\n",
              "      <td>-0.027094</td>\n",
              "      <td>0.285323</td>\n",
              "      <td>-0.016761</td>\n",
              "      <td>0.118533</td>\n",
              "      <td>-0.047820</td>\n",
              "      <td>-0.007138</td>\n",
              "      <td>-0.156128</td>\n",
              "      <td>0.012097</td>\n",
              "      <td>1.000000</td>\n",
              "    </tr>\n",
              "  </tbody>\n",
              "</table>\n",
              "</div>"
            ],
            "text/plain": [
              "                 RowNumber  CustomerId  CreditScore       Age    Tenure  \\\n",
              "RowNumber         1.000000    0.004202     0.005840  0.000783 -0.007322   \n",
              "CustomerId        0.004202    1.000000     0.005308  0.009497 -0.021418   \n",
              "CreditScore       0.005840    0.005308     1.000000 -0.003965 -0.000062   \n",
              "Age               0.000783    0.009497    -0.003965  1.000000 -0.013134   \n",
              "Tenure           -0.007322   -0.021418    -0.000062 -0.013134  1.000000   \n",
              "Balance          -0.009067   -0.012419     0.006268  0.028308 -0.007911   \n",
              "NumOfProducts     0.007246    0.016972     0.012238 -0.030680  0.011979   \n",
              "HasCrCard         0.000599   -0.014025    -0.005458 -0.011721  0.027232   \n",
              "IsActiveMember    0.012044    0.001665     0.025651  0.085472 -0.032178   \n",
              "EstimatedSalary  -0.005988    0.015271    -0.001384 -0.007201  0.010520   \n",
              "Exited           -0.016571   -0.006248    -0.027094  0.285323 -0.016761   \n",
              "\n",
              "                  Balance  NumOfProducts  HasCrCard  IsActiveMember  \\\n",
              "RowNumber       -0.009067       0.007246   0.000599        0.012044   \n",
              "CustomerId      -0.012419       0.016972  -0.014025        0.001665   \n",
              "CreditScore      0.006268       0.012238  -0.005458        0.025651   \n",
              "Age              0.028308      -0.030680  -0.011721        0.085472   \n",
              "Tenure          -0.007911       0.011979   0.027232       -0.032178   \n",
              "Balance          1.000000      -0.304180  -0.014858       -0.010084   \n",
              "NumOfProducts   -0.304180       1.000000   0.003183        0.009612   \n",
              "HasCrCard       -0.014858       0.003183   1.000000       -0.011866   \n",
              "IsActiveMember  -0.010084       0.009612  -0.011866        1.000000   \n",
              "EstimatedSalary  0.012797       0.014204  -0.009933       -0.011421   \n",
              "Exited           0.118533      -0.047820  -0.007138       -0.156128   \n",
              "\n",
              "                 EstimatedSalary    Exited  \n",
              "RowNumber              -0.005988 -0.016571  \n",
              "CustomerId              0.015271 -0.006248  \n",
              "CreditScore            -0.001384 -0.027094  \n",
              "Age                    -0.007201  0.285323  \n",
              "Tenure                  0.010520 -0.016761  \n",
              "Balance                 0.012797  0.118533  \n",
              "NumOfProducts           0.014204 -0.047820  \n",
              "HasCrCard              -0.009933 -0.007138  \n",
              "IsActiveMember         -0.011421 -0.156128  \n",
              "EstimatedSalary         1.000000  0.012097  \n",
              "Exited                  0.012097  1.000000  "
            ]
          },
          "execution_count": 7,
          "metadata": {},
          "output_type": "execute_result"
        }
      ],
      "source": [
        "df.corr()"
      ]
    },
    {
      "cell_type": "code",
      "execution_count": null,
      "metadata": {
        "id": "wie5vx96TbqP",
        "outputId": "62a2cf31-59e1-42e4-8463-dacbfce94b31"
      },
      "outputs": [
        {
          "data": {
            "image/png": "[encoded data removed]",
            "text/plain": [
              "<Figure size 864x432 with 2 Axes>"
            ]
          },
          "metadata": {},
          "output_type": "display_data"
        }
      ],
      "source": [
        "sns.set(rc = {'figure.figsize':(12,6)})\n",
        "sns.heatmap(df.corr(), annot = True, fmt='.1g',  cmap='summer')\n",
        "plt.title(\"Матрица корреляции данных датасета\")\n",
        "plt.show()"
      ]
    },
    {
      "cell_type": "markdown",
      "metadata": {
        "id": "nXtja7NaTbqQ"
      },
      "source": [
        "По анализу корреляции данных датасета можно сделать вывод об отсутствии (или крайне низкой) корреляции между данными столбцов датасета. Следовательно, по критерию корреляции, все столбцы необходимо сохранить."
      ]
    },
    {
      "cell_type": "code",
      "execution_count": null,
      "metadata": {
        "id": "-Vvr1vCtTbqQ",
        "outputId": "9e700ed6-8f0c-4052-eba0-1e896ba236e3"
      },
      "outputs": [
        {
          "data": {
            "text/plain": [
              "0"
            ]
          },
          "execution_count": 9,
          "metadata": {},
          "output_type": "execute_result"
        }
      ],
      "source": [
        "df.duplicated().sum()"
      ]
    },
    {
      "cell_type": "markdown",
      "metadata": {
        "id": "ZYVa5jUxTbqQ"
      },
      "source": [
        "Датасет не содержит явных полных дубликатов строк."
      ]
    },
    {
      "cell_type": "code",
      "execution_count": null,
      "metadata": {
        "id": "W4U5T43-TbqR"
      },
      "outputs": [],
      "source": [
        "df = df.drop(['RowNumber','Surname', 'CustomerId'], axis=1)\n",
        "df.columns = df.columns.str.lower()\n",
        "df = df.rename(columns={'creditscore':'credit_score', 'numofproducts':'num_of_products',\n",
        "                        'hascrcard':'has_cr_card', 'isactivemember':'is_active', 'estimatedsalary':'estimated_salary'})"
      ]
    },
    {
      "cell_type": "code",
      "execution_count": null,
      "metadata": {
        "id": "LwuFy9a6TbqR",
        "outputId": "dc88c48e-6d19-4011-baa0-3d9b5d04f537"
      },
      "outputs": [
        {
          "data": {
            "text/html": [
              "<div>\n",
              "<style scoped>\n",
              "    .dataframe tbody tr th:only-of-type {\n",
              "        vertical-align: middle;\n",
              "    }\n",
              "\n",
              "    .dataframe tbody tr th {\n",
              "        vertical-align: top;\n",
              "    }\n",
              "\n",
              "    .dataframe thead th {\n",
              "        text-align: right;\n",
              "    }\n",
              "</style>\n",
              "<table border=\"1\" class=\"dataframe\">\n",
              "  <thead>\n",
              "    <tr style=\"text-align: right;\">\n",
              "      <th></th>\n",
              "      <th>credit_score</th>\n",
              "      <th>geography</th>\n",
              "      <th>gender</th>\n",
              "      <th>age</th>\n",
              "      <th>tenure</th>\n",
              "      <th>balance</th>\n",
              "      <th>num_of_products</th>\n",
              "      <th>has_cr_card</th>\n",
              "      <th>is_active</th>\n",
              "      <th>estimated_salary</th>\n",
              "      <th>exited</th>\n",
              "    </tr>\n",
              "  </thead>\n",
              "  <tbody>\n",
              "    <tr>\n",
              "      <th>30</th>\n",
              "      <td>591</td>\n",
              "      <td>Spain</td>\n",
              "      <td>Female</td>\n",
              "      <td>39</td>\n",
              "      <td>NaN</td>\n",
              "      <td>0.00</td>\n",
              "      <td>3</td>\n",
              "      <td>1</td>\n",
              "      <td>0</td>\n",
              "      <td>140469.38</td>\n",
              "      <td>1</td>\n",
              "    </tr>\n",
              "    <tr>\n",
              "      <th>48</th>\n",
              "      <td>550</td>\n",
              "      <td>Germany</td>\n",
              "      <td>Male</td>\n",
              "      <td>38</td>\n",
              "      <td>NaN</td>\n",
              "      <td>103391.38</td>\n",
              "      <td>1</td>\n",
              "      <td>0</td>\n",
              "      <td>1</td>\n",
              "      <td>90878.13</td>\n",
              "      <td>0</td>\n",
              "    </tr>\n",
              "    <tr>\n",
              "      <th>51</th>\n",
              "      <td>585</td>\n",
              "      <td>Germany</td>\n",
              "      <td>Male</td>\n",
              "      <td>36</td>\n",
              "      <td>NaN</td>\n",
              "      <td>146050.97</td>\n",
              "      <td>2</td>\n",
              "      <td>0</td>\n",
              "      <td>0</td>\n",
              "      <td>86424.57</td>\n",
              "      <td>0</td>\n",
              "    </tr>\n",
              "    <tr>\n",
              "      <th>53</th>\n",
              "      <td>655</td>\n",
              "      <td>Germany</td>\n",
              "      <td>Male</td>\n",
              "      <td>41</td>\n",
              "      <td>NaN</td>\n",
              "      <td>125561.97</td>\n",
              "      <td>1</td>\n",
              "      <td>0</td>\n",
              "      <td>0</td>\n",
              "      <td>164040.94</td>\n",
              "      <td>1</td>\n",
              "    </tr>\n",
              "    <tr>\n",
              "      <th>60</th>\n",
              "      <td>742</td>\n",
              "      <td>Germany</td>\n",
              "      <td>Male</td>\n",
              "      <td>35</td>\n",
              "      <td>NaN</td>\n",
              "      <td>136857.00</td>\n",
              "      <td>1</td>\n",
              "      <td>0</td>\n",
              "      <td>0</td>\n",
              "      <td>84509.57</td>\n",
              "      <td>0</td>\n",
              "    </tr>\n",
              "    <tr>\n",
              "      <th>82</th>\n",
              "      <td>543</td>\n",
              "      <td>France</td>\n",
              "      <td>Female</td>\n",
              "      <td>36</td>\n",
              "      <td>NaN</td>\n",
              "      <td>0.00</td>\n",
              "      <td>2</td>\n",
              "      <td>0</td>\n",
              "      <td>0</td>\n",
              "      <td>26019.59</td>\n",
              "      <td>0</td>\n",
              "    </tr>\n",
              "    <tr>\n",
              "      <th>85</th>\n",
              "      <td>652</td>\n",
              "      <td>Spain</td>\n",
              "      <td>Female</td>\n",
              "      <td>75</td>\n",
              "      <td>NaN</td>\n",
              "      <td>0.00</td>\n",
              "      <td>2</td>\n",
              "      <td>1</td>\n",
              "      <td>1</td>\n",
              "      <td>114675.75</td>\n",
              "      <td>0</td>\n",
              "    </tr>\n",
              "    <tr>\n",
              "      <th>94</th>\n",
              "      <td>730</td>\n",
              "      <td>Spain</td>\n",
              "      <td>Male</td>\n",
              "      <td>42</td>\n",
              "      <td>NaN</td>\n",
              "      <td>0.00</td>\n",
              "      <td>2</td>\n",
              "      <td>0</td>\n",
              "      <td>1</td>\n",
              "      <td>85982.47</td>\n",
              "      <td>0</td>\n",
              "    </tr>\n",
              "    <tr>\n",
              "      <th>99</th>\n",
              "      <td>413</td>\n",
              "      <td>France</td>\n",
              "      <td>Male</td>\n",
              "      <td>34</td>\n",
              "      <td>NaN</td>\n",
              "      <td>0.00</td>\n",
              "      <td>2</td>\n",
              "      <td>0</td>\n",
              "      <td>0</td>\n",
              "      <td>6534.18</td>\n",
              "      <td>0</td>\n",
              "    </tr>\n",
              "    <tr>\n",
              "      <th>111</th>\n",
              "      <td>538</td>\n",
              "      <td>Germany</td>\n",
              "      <td>Male</td>\n",
              "      <td>39</td>\n",
              "      <td>NaN</td>\n",
              "      <td>108055.10</td>\n",
              "      <td>2</td>\n",
              "      <td>1</td>\n",
              "      <td>0</td>\n",
              "      <td>27231.26</td>\n",
              "      <td>0</td>\n",
              "    </tr>\n",
              "  </tbody>\n",
              "</table>\n",
              "</div>"
            ],
            "text/plain": [
              "     credit_score geography  gender  age  tenure    balance  num_of_products  \\\n",
              "30            591     Spain  Female   39     NaN       0.00                3   \n",
              "48            550   Germany    Male   38     NaN  103391.38                1   \n",
              "51            585   Germany    Male   36     NaN  146050.97                2   \n",
              "53            655   Germany    Male   41     NaN  125561.97                1   \n",
              "60            742   Germany    Male   35     NaN  136857.00                1   \n",
              "82            543    France  Female   36     NaN       0.00                2   \n",
              "85            652     Spain  Female   75     NaN       0.00                2   \n",
              "94            730     Spain    Male   42     NaN       0.00                2   \n",
              "99            413    France    Male   34     NaN       0.00                2   \n",
              "111           538   Germany    Male   39     NaN  108055.10                2   \n",
              "\n",
              "     has_cr_card  is_active  estimated_salary  exited  \n",
              "30             1          0         140469.38       1  \n",
              "48             0          1          90878.13       0  \n",
              "51             0          0          86424.57       0  \n",
              "53             0          0         164040.94       1  \n",
              "60             0          0          84509.57       0  \n",
              "82             0          0          26019.59       0  \n",
              "85             1          1         114675.75       0  \n",
              "94             0          1          85982.47       0  \n",
              "99             0          0           6534.18       0  \n",
              "111            1          0          27231.26       0  "
            ]
          },
          "execution_count": 11,
          "metadata": {},
          "output_type": "execute_result"
        }
      ],
      "source": [
        "df_nul_tenure=df.loc[df['tenure'].isna()]\n",
        "df_nul_tenure.head(10)"
      ]
    },
    {
      "cell_type": "markdown",
      "metadata": {
        "id": "Ff5-IPjQTbqS"
      },
      "source": [
        "Явной зависимости наличия пропусков в столбце \"tenure\"с другими данными датасета не прослеживается.\n",
        "Вычислим медиану значений столбца \"tenure\" отдельно для ушедших и оставшихся клиентов."
      ]
    },
    {
      "cell_type": "code",
      "execution_count": null,
      "metadata": {
        "id": "WrGjt6-FTbqS",
        "outputId": "177252f7-da06-4a5e-a356-3c98dd6c8a41"
      },
      "outputs": [
        {
          "name": "stdout",
          "output_type": "stream",
          "text": [
            "5.0\n",
            "5.0\n",
            "0\n"
          ]
        }
      ],
      "source": [
        "df1=df.query('exited==0 and tenure.isna()==False')['tenure'].median()\n",
        "df2=df.query('exited==1 and tenure.isna()==False')['tenure'].median()\n",
        "\n",
        "print(df1)\n",
        "print(df2)\n",
        "\n",
        "df['tenure']=df['tenure'].fillna(5)\n",
        "\n",
        "print(df['tenure'].isna().sum())\n",
        "df['tenure'] = df['tenure'].astype(int)"
      ]
    },
    {
      "cell_type": "markdown",
      "metadata": {
        "id": "cyf29KmWTbqS"
      },
      "source": [
        "Так как значение медианы для двух типов кл иентов совпало - заполнилним пропуски в столбце \"tenure\" медианным значением.\n",
        "\n",
        "В столбце \"gender\" изменим название на \"is_male\" в соответсвии с логикой замены значений."
      ]
    },
    {
      "cell_type": "code",
      "execution_count": null,
      "metadata": {
        "id": "LM4N_5FwTbqT"
      },
      "outputs": [],
      "source": [
        "df.loc[(df['gender'] == 'Male'), 'gender'] = 1\n",
        "df.loc[(df['gender'] == 'Female'), 'gender'] = 0\n",
        "\n",
        "df = df.rename(columns={'gender':'is_male'})\n",
        "df['is_male']=df['is_male'].astype(int)"
      ]
    },
    {
      "cell_type": "markdown",
      "metadata": {
        "id": "PFFl9YbLTbqY"
      },
      "source": [
        "Преобразуем категориальные признаки столбца \"geography\" в численные техникой прямого кодирования (OHE), избегая дамми-ловушку."
      ]
    },
    {
      "cell_type": "code",
      "execution_count": null,
      "metadata": {
        "id": "yCfFuGIPTbqY"
      },
      "outputs": [],
      "source": [
        "df=pd.get_dummies(df, drop_first=True)\n",
        "df.columns = df.columns.str.lower()\n",
        "df[['geography_germany','geography_spain']] = df[['geography_germany','geography_spain']].astype(int)"
      ]
    },
    {
      "cell_type": "markdown",
      "metadata": {
        "id": "fxWUmZBgTbqZ"
      },
      "source": [
        "Как результат - получили датасет без пропусков и дубликатов, содержаций только численные значения."
      ]
    },
    {
      "cell_type": "code",
      "execution_count": null,
      "metadata": {
        "id": "gXUY8aQiTbqa",
        "outputId": "26712243-aadc-447e-975d-70c765e87b44"
      },
      "outputs": [
        {
          "name": "stdout",
          "output_type": "stream",
          "text": [
            "<class 'pandas.core.frame.DataFrame'>\n",
            "RangeIndex: 10000 entries, 0 to 9999\n",
            "Data columns (total 12 columns):\n",
            " #   Column             Non-Null Count  Dtype  \n",
            "---  ------             --------------  -----  \n",
            " 0   credit_score       10000 non-null  int64  \n",
            " 1   is_male            10000 non-null  int64  \n",
            " 2   age                10000 non-null  int64  \n",
            " 3   tenure             10000 non-null  int64  \n",
            " 4   balance            10000 non-null  float64\n",
            " 5   num_of_products    10000 non-null  int64  \n",
            " 6   has_cr_card        10000 non-null  int64  \n",
            " 7   is_active          10000 non-null  int64  \n",
            " 8   estimated_salary   10000 non-null  float64\n",
            " 9   exited             10000 non-null  int64  \n",
            " 10  geography_germany  10000 non-null  int64  \n",
            " 11  geography_spain    10000 non-null  int64  \n",
            "dtypes: float64(2), int64(10)\n",
            "memory usage: 937.6 KB\n"
          ]
        }
      ],
      "source": [
        "df.info()"
      ]
    },
    {
      "cell_type": "code",
      "execution_count": null,
      "metadata": {
        "id": "8AhPwP9zTbqb",
        "outputId": "f4ef4737-f9f9-4c05-c42d-c77c73a43f2c"
      },
      "outputs": [
        {
          "data": {
            "text/html": [
              "<div>\n",
              "<style scoped>\n",
              "    .dataframe tbody tr th:only-of-type {\n",
              "        vertical-align: middle;\n",
              "    }\n",
              "\n",
              "    .dataframe tbody tr th {\n",
              "        vertical-align: top;\n",
              "    }\n",
              "\n",
              "    .dataframe thead th {\n",
              "        text-align: right;\n",
              "    }\n",
              "</style>\n",
              "<table border=\"1\" class=\"dataframe\">\n",
              "  <thead>\n",
              "    <tr style=\"text-align: right;\">\n",
              "      <th></th>\n",
              "      <th>credit_score</th>\n",
              "      <th>is_male</th>\n",
              "      <th>age</th>\n",
              "      <th>tenure</th>\n",
              "      <th>balance</th>\n",
              "      <th>num_of_products</th>\n",
              "      <th>has_cr_card</th>\n",
              "      <th>is_active</th>\n",
              "      <th>estimated_salary</th>\n",
              "      <th>exited</th>\n",
              "      <th>geography_germany</th>\n",
              "      <th>geography_spain</th>\n",
              "    </tr>\n",
              "  </thead>\n",
              "  <tbody>\n",
              "    <tr>\n",
              "      <th>0</th>\n",
              "      <td>619</td>\n",
              "      <td>0</td>\n",
              "      <td>42</td>\n",
              "      <td>2</td>\n",
              "      <td>0.00</td>\n",
              "      <td>1</td>\n",
              "      <td>1</td>\n",
              "      <td>1</td>\n",
              "      <td>101348.88</td>\n",
              "      <td>1</td>\n",
              "      <td>0</td>\n",
              "      <td>0</td>\n",
              "    </tr>\n",
              "    <tr>\n",
              "      <th>1</th>\n",
              "      <td>608</td>\n",
              "      <td>0</td>\n",
              "      <td>41</td>\n",
              "      <td>1</td>\n",
              "      <td>83807.86</td>\n",
              "      <td>1</td>\n",
              "      <td>0</td>\n",
              "      <td>1</td>\n",
              "      <td>112542.58</td>\n",
              "      <td>0</td>\n",
              "      <td>0</td>\n",
              "      <td>1</td>\n",
              "    </tr>\n",
              "    <tr>\n",
              "      <th>2</th>\n",
              "      <td>502</td>\n",
              "      <td>0</td>\n",
              "      <td>42</td>\n",
              "      <td>8</td>\n",
              "      <td>159660.80</td>\n",
              "      <td>3</td>\n",
              "      <td>1</td>\n",
              "      <td>0</td>\n",
              "      <td>113931.57</td>\n",
              "      <td>1</td>\n",
              "      <td>0</td>\n",
              "      <td>0</td>\n",
              "    </tr>\n",
              "    <tr>\n",
              "      <th>3</th>\n",
              "      <td>699</td>\n",
              "      <td>0</td>\n",
              "      <td>39</td>\n",
              "      <td>1</td>\n",
              "      <td>0.00</td>\n",
              "      <td>2</td>\n",
              "      <td>0</td>\n",
              "      <td>0</td>\n",
              "      <td>93826.63</td>\n",
              "      <td>0</td>\n",
              "      <td>0</td>\n",
              "      <td>0</td>\n",
              "    </tr>\n",
              "    <tr>\n",
              "      <th>4</th>\n",
              "      <td>850</td>\n",
              "      <td>0</td>\n",
              "      <td>43</td>\n",
              "      <td>2</td>\n",
              "      <td>125510.82</td>\n",
              "      <td>1</td>\n",
              "      <td>1</td>\n",
              "      <td>1</td>\n",
              "      <td>79084.10</td>\n",
              "      <td>0</td>\n",
              "      <td>0</td>\n",
              "      <td>1</td>\n",
              "    </tr>\n",
              "  </tbody>\n",
              "</table>\n",
              "</div>"
            ],
            "text/plain": [
              "   credit_score  is_male  age  tenure    balance  num_of_products  \\\n",
              "0           619        0   42       2       0.00                1   \n",
              "1           608        0   41       1   83807.86                1   \n",
              "2           502        0   42       8  159660.80                3   \n",
              "3           699        0   39       1       0.00                2   \n",
              "4           850        0   43       2  125510.82                1   \n",
              "\n",
              "   has_cr_card  is_active  estimated_salary  exited  geography_germany  \\\n",
              "0            1          1         101348.88       1                  0   \n",
              "1            0          1         112542.58       0                  0   \n",
              "2            1          0         113931.57       1                  0   \n",
              "3            0          0          93826.63       0                  0   \n",
              "4            1          1          79084.10       0                  0   \n",
              "\n",
              "   geography_spain  \n",
              "0                0  \n",
              "1                1  \n",
              "2                0  \n",
              "3                0  \n",
              "4                1  "
            ]
          },
          "execution_count": 17,
          "metadata": {},
          "output_type": "execute_result"
        }
      ],
      "source": [
        "df.head()"
      ]
    },
    {
      "cell_type": "markdown",
      "metadata": {
        "id": "5V9SnIpmTbq_"
      },
      "source": [
        "**Вывод по разделу:**\n",
        "\n",
        "В имеющемся датасете размерностью 10 000 срок и 13 столбцов в результате подготовки данных произведено:\n",
        "\n",
        "- заполнение пропусков столбца \"tenure' медианным значением;\n",
        "- преобразование типов данных в результате чего все столбы имеют численный тип данных;\n",
        "- исключение избыточных столбцов данных.\n",
        "\n",
        "Итоговый датасет содержит 10 000 строк, 11 столбцов, не содержит пропусков, дубликатов строк и зависимых между собой столбцов.\n",
        "\n",
        "Данные готовы для построения на них моделей машинного обучения."
      ]
    },
    {
      "cell_type": "markdown",
      "metadata": {
        "id": "gUr7mOb0TbrA"
      },
      "source": [
        "## Исследование задачи"
      ]
    },
    {
      "cell_type": "markdown",
      "metadata": {
        "id": "xNabXS4KTbrA"
      },
      "source": [
        "Сформируем признаки и целевой признак.\n",
        "\n",
        "Разделим выборку на три составляющих: обучающую, валидационную и тестовую. Данные для выборок сформируем в соотношении 3:1:1. Разделение проведем в 2 этапа, сначала выделив обучающие выборки, а потом валидационные и тестовые.\n",
        "\n",
        "Построим и найдем лучшие гиперпараметры для моделей:\n",
        "\n",
        "- Решающее дерево\n",
        "- Случайный лес\n",
        "- Логическая регрессия."
      ]
    },
    {
      "cell_type": "code",
      "execution_count": null,
      "metadata": {
        "id": "1790rP7qTbrB",
        "outputId": "7ae37a74-1e77-45ff-e77a-bda5d3e02b70"
      },
      "outputs": [
        {
          "name": "stdout",
          "output_type": "stream",
          "text": [
            "(6000, 11) (2000, 11) (2000, 11)\n",
            "(6000,) (2000,) (2000,)\n"
          ]
        }
      ],
      "source": [
        "pd.options.mode.chained_assignment = None\n",
        "\n",
        "\n",
        "features = df.drop(['exited'], axis=1)\n",
        "target = df['exited']\n",
        "\n",
        "features_train, features_temp, target_train, target_temp = \\\n",
        "          train_test_split(features, target, test_size=0.4, random_state=12345)\n",
        "\n",
        "features_test, features_valid, target_test, target_valid = \\\n",
        "         train_test_split(features_temp, target_temp, test_size=0.5, random_state=12345)\n",
        "\n",
        "scaler = StandardScaler()\n",
        "num_columns = ['credit_score', 'age', 'tenure', 'balance', 'num_of_products', 'estimated_salary']\n",
        "scaler.fit(features_train[num_columns])\n",
        "features_train[num_columns] = scaler.transform(features_train[num_columns])\n",
        "features_valid[num_columns] = scaler.transform(features_valid[num_columns])\n",
        "features_test[num_columns] = scaler.transform(features_test[num_columns])\n",
        "\n",
        "print(features_train.shape, features_test.shape, features_valid.shape)\n",
        "print(target_train.shape, target_test.shape, target_valid.shape)"
      ]
    },
    {
      "cell_type": "markdown",
      "metadata": {
        "id": "KqeP5BoHTbrC"
      },
      "source": [
        "**Модель Решающее дерево**"
      ]
    },
    {
      "cell_type": "code",
      "execution_count": null,
      "metadata": {
        "id": "p05lApwoTbrC",
        "outputId": "acc10504-94fb-4dfa-bf8b-286b3ae4cf36"
      },
      "outputs": [
        {
          "name": "stdout",
          "output_type": "stream",
          "text": [
            "Глубина дерева лучшей модели: 6\n",
            "F1 лучшей модели 0.5262 AUC-ROC лучшей модели 0.8363\n"
          ]
        }
      ],
      "source": [
        "best_model = None\n",
        "best_depth = 0\n",
        "best_result = 0\n",
        "best_roc_auc = 0\n",
        "\n",
        "for depth in range(1, 8):\n",
        "    model = DecisionTreeClassifier(random_state=12345, max_depth=depth)\n",
        "    model.fit(features_train, target_train)\n",
        "    predictions_valid = model.predict(features_valid)\n",
        "    result_valid = f1_score(target_valid, predictions_valid)\n",
        "\n",
        "    if result_valid > best_result:\n",
        "        best_model = model\n",
        "        best_depth = depth\n",
        "        best_result = result_valid\n",
        "        best_roc_auc = roc_auc_score(target_valid, model.predict_proba(features_valid)[:,1])\n",
        "\n",
        "print(\"Глубина дерева лучшей модели:\", best_depth)\n",
        "print(\"F1 лучшей модели\", best_result.round(4), \"AUC-ROC лучшей модели\", best_roc_auc.round(4))"
      ]
    },
    {
      "cell_type": "markdown",
      "metadata": {
        "id": "agMlTV2nTbrD"
      },
      "source": [
        "**Модель Случайный лес**"
      ]
    },
    {
      "cell_type": "code",
      "execution_count": null,
      "metadata": {
        "id": "64PrxlncTbrD",
        "outputId": "bbff577c-d105-48fd-bb89-b5ab0ca16f7c"
      },
      "outputs": [
        {
          "name": "stdout",
          "output_type": "stream",
          "text": [
            "Лучшая модель: Глубина дерева: 17 Количество деревьев: 11\n",
            "F1 лучшей модели 0.5538 AUC-ROC лучшей модели 0.8259\n"
          ]
        }
      ],
      "source": [
        "best_model = None\n",
        "best_depth = 0\n",
        "best_est = 0\n",
        "best_result = 0\n",
        "best_roc_auc = 0\n",
        "\n",
        "for est in range(1, 13):\n",
        "    for depth in range (1, 19):\n",
        "        model = RandomForestClassifier(random_state=12345, n_estimators=est, max_depth=depth)\n",
        "        model.fit(features_train, target_train)\n",
        "        predictions_valid = model.predict(features_valid)\n",
        "        result_valid = f1_score(target_valid, predictions_valid)\n",
        "\n",
        "        if result_valid > best_result:\n",
        "            best_model = model\n",
        "            best_depth = depth\n",
        "            best_est = est\n",
        "            best_result = result_valid\n",
        "            best_roc_auc = roc_auc_score(target_valid, model.predict_proba(features_valid)[:,1])\n",
        "\n",
        "\n",
        "print(\"Лучшая модель: Глубина дерева:\", best_depth, \"Количество деревьев:\", best_est)\n",
        "print(\"F1 лучшей модели\", best_result.round(4), \"AUC-ROC лучшей модели\", best_roc_auc.round(4))"
      ]
    },
    {
      "cell_type": "markdown",
      "metadata": {
        "id": "AyGcmgv_TbrD"
      },
      "source": [
        "**Модель Логическая регрессия**"
      ]
    },
    {
      "cell_type": "code",
      "execution_count": null,
      "metadata": {
        "id": "SIQNb9hNTbrE",
        "outputId": "01bf0bf4-d3ab-45ee-9045-316301a70dbf"
      },
      "outputs": [
        {
          "name": "stdout",
          "output_type": "stream",
          "text": [
            "F1 модели 0.2748 AUC-ROC модели 0.7386\n"
          ]
        }
      ],
      "source": [
        "model = LogisticRegression(random_state=12345, solver='liblinear')\n",
        "model.fit(features_train, target_train)\n",
        "predictions_valid = model.predict(features_valid)\n",
        "\n",
        "result_valid = f1_score(target_valid, predictions_valid)\n",
        "roc_auc_valid = roc_auc_score(target_valid, model.predict_proba(features_valid)[:,1])\n",
        "\n",
        "print(\"F1 модели\", result_valid.round(4), \"AUC-ROC модели\", roc_auc_valid.round(4))"
      ]
    },
    {
      "cell_type": "markdown",
      "metadata": {
        "id": "GGAUtqw2TbrE"
      },
      "source": [
        "**Вывод по разделу:**\n",
        "\n",
        "Из данных моделей лучшее значение F1-меры показала модель **Случайный лес** с гиперпараметрами: количество деревьев = 11, глубина дерева = 17. **F1-мера** данной модели = **0.55**. Данный показатель ниже минимально допустимого, определенного заказчиком (0.59).\n",
        "\n",
        "Необходимо дальнейшее увовершенствование модели."
      ]
    },
    {
      "cell_type": "markdown",
      "metadata": {
        "id": "8PAQD31FTbrF"
      },
      "source": [
        "## Борьба с дисбалансом"
      ]
    },
    {
      "cell_type": "markdown",
      "metadata": {
        "id": "P6JaSSpsTbrF"
      },
      "source": [
        "Проведем анализ класоов и определим наличие (отсутствие) дисбаланса и, при наличии, существующую расбалансированность классов в данных."
      ]
    },
    {
      "cell_type": "code",
      "execution_count": null,
      "metadata": {
        "id": "OXFB_1qTTbrF",
        "outputId": "5965a33a-2e29-4f65-c327-9002efebfb35"
      },
      "outputs": [
        {
          "name": "stdout",
          "output_type": "stream",
          "text": [
            "0    4804\n",
            "1    1196\n",
            "Name: exited, dtype: int64\n",
            "0    1577\n",
            "1     423\n",
            "Name: exited, dtype: int64\n",
            "0    1582\n",
            "1     418\n",
            "Name: exited, dtype: int64\n"
          ]
        }
      ],
      "source": [
        "print(target_train.value_counts())\n",
        "print(target_valid.value_counts())\n",
        "print(target_test.value_counts())"
      ]
    },
    {
      "cell_type": "markdown",
      "metadata": {
        "id": "n_ArUTWaTbrG"
      },
      "source": [
        "Налицо дисбаланс классов: отрицательных ответов более, чем в 4 раза больше, чем положительных. На лучшей подели из раздела \"Исследование задачи\", проверим различные варианты устранения дисбаланса классов."
      ]
    },
    {
      "cell_type": "markdown",
      "metadata": {
        "id": "wnLpuxoNTbrG"
      },
      "source": [
        "**Метод балансировки весов классов (Взвешивание классов)**"
      ]
    },
    {
      "cell_type": "code",
      "execution_count": null,
      "metadata": {
        "id": "UU-ny1gXTbrH",
        "outputId": "f2928b68-f4f8-477a-fe0f-15a1d8f69f82"
      },
      "outputs": [
        {
          "name": "stdout",
          "output_type": "stream",
          "text": [
            "Лучшая модель: Глубина дерева: 7 Количество деревьев: 16\n",
            "F1 лучшей модели 0.6151 AUC-ROC лучшей модели 0.8449\n"
          ]
        }
      ],
      "source": [
        "best_model = None\n",
        "best_depth = 0\n",
        "best_est = 0\n",
        "best_result = 0\n",
        "best_roc_auc = 0\n",
        "\n",
        "for est in range(1, 18):\n",
        "    for depth in range (1, 9):\n",
        "        model = RandomForestClassifier(random_state=12345, n_estimators=est, max_depth=depth, class_weight='balanced')\n",
        "        model.fit(features_train, target_train)\n",
        "        predictions_valid = model.predict(features_valid)\n",
        "        result_valid = f1_score(target_valid, predictions_valid)\n",
        "\n",
        "        if result_valid > best_result:\n",
        "            best_model = model\n",
        "            best_depth = depth\n",
        "            best_est = est\n",
        "            best_result = result_valid\n",
        "            best_roc_auc = roc_auc_score(target_valid, model.predict_proba(features_valid)[:,1])\n",
        "\n",
        "print(\"Лучшая модель: Глубина дерева:\", best_depth, \"Количество деревьев:\", best_est)\n",
        "print(\"F1 лучшей модели\", best_result.round(4), \"AUC-ROC лучшей модели\", best_roc_auc.round(4))"
      ]
    },
    {
      "cell_type": "markdown",
      "metadata": {
        "id": "mp2nGqYuTbrH"
      },
      "source": [
        "Метрика F1 c примением метода взвешивания классов существенно улучшилась и уже выше требуемого минимального значения (0,59).\n",
        "\n",
        "Тем не менее, проверим остальные методы устранения дисбаланса классов."
      ]
    },
    {
      "cell_type": "markdown",
      "metadata": {
        "id": "AZoCsPKrTbrI"
      },
      "source": [
        "**Метод увеличения выборки положительных ответов**"
      ]
    },
    {
      "cell_type": "code",
      "execution_count": null,
      "metadata": {
        "id": "a4l7wYnrTbrI",
        "outputId": "46aa906e-19ce-41df-bc42-64bd783b17a3"
      },
      "outputs": [
        {
          "name": "stdout",
          "output_type": "stream",
          "text": [
            "Лучшая модель: Глубина дерева: 10 Количество деревьев: 18\n",
            "F1 лучшей модели 0.6132 AUC-ROC лучшей модели 0.849\n"
          ]
        }
      ],
      "source": [
        "def upsample(features, target, repeat):\n",
        "    features_zeros = features[target == 0]\n",
        "    features_ones = features[target == 1]\n",
        "    target_zeros = target[target == 0]\n",
        "    target_ones = target[target == 1]\n",
        "\n",
        "    features_upsampled = pd.concat([features_zeros] + [features_ones] * repeat)\n",
        "    target_upsampled = pd.concat([target_zeros] + [target_ones] * repeat)\n",
        "\n",
        "    features_upsampled, target_upsampled = shuffle(\n",
        "        features_upsampled, target_upsampled, random_state=12345)\n",
        "\n",
        "    return features_upsampled, target_upsampled\n",
        "\n",
        "features_upsampled, target_upsampled = upsample(features_train, target_train, 4)\n",
        "\n",
        "best_model = None\n",
        "best_depth = 0\n",
        "best_est = 0\n",
        "best_result = 0\n",
        "best_roc_auc = 0\n",
        "\n",
        "for est in range(1, 20):\n",
        "    for depth in range (1, 12):\n",
        "        model = RandomForestClassifier(random_state=12345, n_estimators=est, max_depth=depth)\n",
        "        model.fit(features_upsampled, target_upsampled)\n",
        "        predictions_valid = model.predict(features_valid)\n",
        "        result_valid = f1_score(target_valid, predictions_valid)\n",
        "\n",
        "        if result_valid > best_result:\n",
        "            best_model = model\n",
        "            best_depth = depth\n",
        "            best_est = est\n",
        "            best_result = result_valid\n",
        "            best_roc_auc = roc_auc_score(target_valid, model.predict_proba(features_valid)[:,1])\n",
        "\n",
        "print(\"Лучшая модель: Глубина дерева:\", best_depth, \"Количество деревьев:\", best_est)\n",
        "print(\"F1 лучшей модели\", best_result.round(4), \"AUC-ROC лучшей модели\", best_roc_auc.round(4))"
      ]
    },
    {
      "cell_type": "markdown",
      "metadata": {
        "id": "Yb0Lnj6lTbrJ"
      },
      "source": [
        "Значение метрики F1-мера ухудшилось. Данная модель не подходит."
      ]
    },
    {
      "cell_type": "markdown",
      "metadata": {
        "id": "YSs8hNyYTbrJ"
      },
      "source": [
        "**Метод уменьшения выборки отрицательных ответов**"
      ]
    },
    {
      "cell_type": "code",
      "execution_count": null,
      "metadata": {
        "id": "7AnWRCchTbrK",
        "outputId": "738bfe8f-e723-48ae-88b7-4be64f47d0fb"
      },
      "outputs": [
        {
          "name": "stdout",
          "output_type": "stream",
          "text": [
            "Лучшая модель: Глубина дерева: 5 Количество деревьев: 9\n",
            "F1 лучшей модели 0.5762 AUC-ROC лучшей модели 0.8285\n"
          ]
        }
      ],
      "source": [
        "def downsample(features, target, fraction):\n",
        "    features_zeros = features[target == 0]\n",
        "    features_ones = features[target == 1]\n",
        "    target_zeros = target[target == 0]\n",
        "    target_ones = target[target == 1]\n",
        "\n",
        "    features_downsampled = pd.concat(\n",
        "        [features_zeros.sample(frac=fraction, random_state=12345)] + [features_ones])\n",
        "    target_downsampled = pd.concat(\n",
        "        [target_zeros.sample(frac=fraction, random_state=12345)] + [target_ones])\n",
        "\n",
        "    features_downsampled, target_downsampled = shuffle(\n",
        "        features_downsampled, target_downsampled, random_state=12345)\n",
        "\n",
        "    return features_downsampled, target_downsampled\n",
        "\n",
        "features_downsampled, target_downsampled = downsample(features_train, target_train, 0.25)\n",
        "\n",
        "best_model = None\n",
        "best_depth = 0\n",
        "best_est = 0\n",
        "best_result = 0\n",
        "best_roc_auc = 0\n",
        "\n",
        "for est in range(1, 11):\n",
        "    for depth in range (1, 7):\n",
        "        model = RandomForestClassifier(random_state=12345, n_estimators=est, max_depth=depth)\n",
        "        model.fit(features_downsampled, target_downsampled)\n",
        "        predictions_valid = model.predict(features_valid)\n",
        "        result_valid = f1_score(target_valid, predictions_valid)\n",
        "\n",
        "        if result_valid > best_result:\n",
        "            best_model = model\n",
        "            best_depth = depth\n",
        "            best_est = est\n",
        "            best_result = result_valid\n",
        "            best_roc_auc = roc_auc_score(target_valid, model.predict_proba(features_valid)[:,1])\n",
        "\n",
        "print(\"Лучшая модель: Глубина дерева:\", best_depth, \"Количество деревьев:\", best_est)\n",
        "print(\"F1 лучшей модели\", best_result.round(4), \"AUC-ROC лучшей модели\", best_roc_auc.round(4))"
      ]
    },
    {
      "cell_type": "markdown",
      "metadata": {
        "id": "LSDdGdr7TbrK"
      },
      "source": [
        "Значение метрики F1-мера ухудшилось. Данная модель не подходит."
      ]
    },
    {
      "cell_type": "markdown",
      "metadata": {
        "id": "gx7BVuGHTbrL"
      },
      "source": [
        "**Вывод по разделу:**\n",
        "\n",
        "В результате построения лучшей модели из предыдущего раздела установлено, что лучшие результаты показывает метод балансировки весов классов, для которого **F1-мера = 0.615**."
      ]
    },
    {
      "cell_type": "markdown",
      "metadata": {
        "id": "QVQTRNYZTbrM"
      },
      "source": [
        "## Тестирование модели"
      ]
    },
    {
      "cell_type": "markdown",
      "metadata": {
        "id": "0_TLW_FeTbrM"
      },
      "source": [
        "Проверим модель на тестовых выборках."
      ]
    },
    {
      "cell_type": "markdown",
      "metadata": {
        "id": "mawYbdUATbrM"
      },
      "source": [
        "**Модель случайный лес. Метод балансировки весов классов.**"
      ]
    },
    {
      "cell_type": "code",
      "execution_count": null,
      "metadata": {
        "id": "LROjmcoxTbrM",
        "outputId": "ebaea0f8-ddac-447d-b66c-98193adbea93"
      },
      "outputs": [
        {
          "name": "stdout",
          "output_type": "stream",
          "text": [
            "F1 лучшей модели 0.6135 AUC-ROC лучшей модели 0.8493\n"
          ]
        }
      ],
      "source": [
        "model = RandomForestClassifier(random_state=12345, n_estimators=16, max_depth=7, class_weight='balanced')\n",
        "model.fit(features_train, target_train)\n",
        "predictions_test = model.predict(features_test)\n",
        "result_test = f1_score(target_test, predictions_test)\n",
        "roc_auc_test = roc_auc_score(target_test, model.predict_proba(features_test)[:,1])\n",
        "\n",
        "print(\"F1 лучшей модели\", result_test.round(4), \"AUC-ROC лучшей модели\", roc_auc_test.round(4))"
      ]
    },
    {
      "cell_type": "markdown",
      "metadata": {
        "id": "JGXMqhZ0TbrO"
      },
      "source": [
        "На тестовой выборке, выбранная ранее лучшая модель (Случайный лес) с подобранными гиперпараметрами и применением алгоритма устранения дисбаланса классов путем балансировки весов классов, значение **F1-меры = 0.6135**, что выше минимального требования заказчика (0,59)"
      ]
    },
    {
      "cell_type": "markdown",
      "metadata": {
        "id": "vsZ3jHsNTbrO"
      },
      "source": [
        "**ОБЩИЙ вывод по проекту:**\n",
        "\n",
        "В результате выполнения проекта был исследован датасет с историческими данными поведения клиентов \"Бета-Банка\" и расторжению договоров с ним и сформирована модель решения задачи классификации обучения с учителем.\n",
        "\n",
        "Объем датасета 10 000 строк и 13 столбцов.\n",
        "\n",
        "В процессе выполнения проекта проведена обработка данных датасета с устранением пропусков даннных, исключением избыточных стобцов, изменением типов данных.\n",
        "\n",
        "Для применения алгоритмов машинного обучения выборка исходных данных состояла из 10 000 строк, не содержащих пропуски и 11 столбцов. Все данные приведены к численному формату и стандартизированы.\n",
        "\n",
        "Были проанализированы три модели:\n",
        "\n",
        "- Решающее дерево\n",
        "- Случайный лес\n",
        "- Логическая регрессия.\n",
        "\n",
        "Критерий успешности модели определен заказчиком - F1-мера.\n",
        "\n",
        "Лучшей моделью оказалась модель Случайный лес, которая на валидационной выборке показала значение F1-меры = 0.615, а на тестовой **0.613**. Оба показателя выше минимально требуемого заказчиком значения **0.59**, таким образом, **выбранная модель является успешной** и может применяться в \"Бета-Банке\" для прогнозирования возможного расторжения контракта существующими клиентами.\n",
        "\n",
        "Дополнительно на всех моделях рассчитывался показатель AUC-ROC, который также оказался довольно высоким: 0.84 на валидационной и 0.85 на тестовой выборках."
      ]
    }
  ],
  "metadata": {
    "ExecuteTimeLog": [
      {
        "duration": 1363,
        "start_time": "2023-04-16T17:08:45.550Z"
      },
      {
        "duration": 15,
        "start_time": "2023-04-16T17:08:46.916Z"
      },
      {
        "duration": 20,
        "start_time": "2023-04-16T17:08:59.384Z"
      },
      {
        "duration": 50,
        "start_time": "2023-04-16T17:09:57.149Z"
      },
      {
        "duration": 13,
        "start_time": "2023-04-16T17:10:13.474Z"
      },
      {
        "duration": 16,
        "start_time": "2023-04-16T17:10:22.576Z"
      },
      {
        "duration": 22,
        "start_time": "2023-04-16T17:11:21.411Z"
      },
      {
        "duration": 16,
        "start_time": "2023-04-16T17:12:40.933Z"
      },
      {
        "duration": 17,
        "start_time": "2023-04-16T17:12:48.111Z"
      },
      {
        "duration": 17,
        "start_time": "2023-04-16T17:14:56.307Z"
      },
      {
        "duration": 19,
        "start_time": "2023-04-16T17:15:07.869Z"
      },
      {
        "duration": 20,
        "start_time": "2023-04-16T17:15:19.550Z"
      },
      {
        "duration": 13,
        "start_time": "2023-04-16T17:16:28.523Z"
      },
      {
        "duration": 12,
        "start_time": "2023-04-16T17:16:37.830Z"
      },
      {
        "duration": 139,
        "start_time": "2023-04-16T17:19:50.232Z"
      },
      {
        "duration": 24,
        "start_time": "2023-04-16T17:23:43.030Z"
      },
      {
        "duration": 23,
        "start_time": "2023-04-16T17:24:32.739Z"
      },
      {
        "duration": 17,
        "start_time": "2023-04-16T17:26:57.228Z"
      },
      {
        "duration": 14,
        "start_time": "2023-04-16T17:27:27.227Z"
      },
      {
        "duration": 14,
        "start_time": "2023-04-16T17:27:38.254Z"
      },
      {
        "duration": 5,
        "start_time": "2023-04-16T17:29:27.559Z"
      },
      {
        "duration": 24,
        "start_time": "2023-04-16T17:29:40.017Z"
      },
      {
        "duration": 14,
        "start_time": "2023-04-16T17:34:03.719Z"
      },
      {
        "duration": 1195,
        "start_time": "2023-04-16T17:34:28.743Z"
      },
      {
        "duration": 16,
        "start_time": "2023-04-16T17:34:29.941Z"
      },
      {
        "duration": 54,
        "start_time": "2023-04-16T17:34:29.959Z"
      },
      {
        "duration": 22,
        "start_time": "2023-04-16T17:34:30.016Z"
      },
      {
        "duration": 45,
        "start_time": "2023-04-16T17:34:30.040Z"
      },
      {
        "duration": 58,
        "start_time": "2023-04-16T17:34:30.087Z"
      },
      {
        "duration": 14,
        "start_time": "2023-04-16T17:34:30.147Z"
      },
      {
        "duration": 18,
        "start_time": "2023-04-16T17:34:30.163Z"
      },
      {
        "duration": 52,
        "start_time": "2023-04-16T17:34:30.183Z"
      },
      {
        "duration": 117,
        "start_time": "2023-04-16T17:37:23.730Z"
      },
      {
        "duration": 1154,
        "start_time": "2023-04-16T17:38:12.229Z"
      },
      {
        "duration": 14,
        "start_time": "2023-04-16T17:38:13.385Z"
      },
      {
        "duration": 51,
        "start_time": "2023-04-16T17:38:13.401Z"
      },
      {
        "duration": 38,
        "start_time": "2023-04-16T17:38:13.454Z"
      },
      {
        "duration": 17,
        "start_time": "2023-04-16T17:38:13.494Z"
      },
      {
        "duration": 25,
        "start_time": "2023-04-16T17:38:13.513Z"
      },
      {
        "duration": 11,
        "start_time": "2023-04-16T17:38:13.539Z"
      },
      {
        "duration": 39,
        "start_time": "2023-04-16T17:38:13.552Z"
      },
      {
        "duration": 22,
        "start_time": "2023-04-16T17:38:13.593Z"
      },
      {
        "duration": 138,
        "start_time": "2023-04-16T17:51:31.216Z"
      },
      {
        "duration": 18,
        "start_time": "2023-04-16T17:56:34.515Z"
      },
      {
        "duration": 18,
        "start_time": "2023-04-16T17:57:20.677Z"
      },
      {
        "duration": 17,
        "start_time": "2023-04-16T17:58:11.145Z"
      },
      {
        "duration": 13,
        "start_time": "2023-04-16T17:59:00.449Z"
      },
      {
        "duration": 13,
        "start_time": "2023-04-16T17:59:46.159Z"
      },
      {
        "duration": 14,
        "start_time": "2023-04-16T17:59:57.017Z"
      },
      {
        "duration": 113,
        "start_time": "2023-04-16T18:00:37.532Z"
      },
      {
        "duration": 15,
        "start_time": "2023-04-16T18:00:46.427Z"
      },
      {
        "duration": 13,
        "start_time": "2023-04-16T18:01:47.511Z"
      },
      {
        "duration": 12,
        "start_time": "2023-04-16T18:02:55.103Z"
      },
      {
        "duration": 72,
        "start_time": "2023-04-16T18:19:37.691Z"
      },
      {
        "duration": 17,
        "start_time": "2023-04-16T18:20:33.195Z"
      },
      {
        "duration": 9,
        "start_time": "2023-04-16T18:21:56.451Z"
      },
      {
        "duration": 89,
        "start_time": "2023-04-16T18:22:49.610Z"
      },
      {
        "duration": 13,
        "start_time": "2023-04-16T18:22:57.843Z"
      },
      {
        "duration": 16,
        "start_time": "2023-04-16T18:23:18.899Z"
      },
      {
        "duration": 15,
        "start_time": "2023-04-16T18:24:09.703Z"
      },
      {
        "duration": 12,
        "start_time": "2023-04-16T18:25:11.757Z"
      },
      {
        "duration": 13,
        "start_time": "2023-04-16T18:25:22.117Z"
      },
      {
        "duration": 11,
        "start_time": "2023-04-16T18:25:26.460Z"
      },
      {
        "duration": 12,
        "start_time": "2023-04-16T18:27:17.405Z"
      },
      {
        "duration": 1310,
        "start_time": "2023-04-16T18:27:30.874Z"
      },
      {
        "duration": 16,
        "start_time": "2023-04-16T18:27:32.187Z"
      },
      {
        "duration": 55,
        "start_time": "2023-04-16T18:27:32.206Z"
      },
      {
        "duration": 34,
        "start_time": "2023-04-16T18:27:32.264Z"
      },
      {
        "duration": 18,
        "start_time": "2023-04-16T18:27:32.300Z"
      },
      {
        "duration": 27,
        "start_time": "2023-04-16T18:27:32.319Z"
      },
      {
        "duration": 12,
        "start_time": "2023-04-16T18:27:32.348Z"
      },
      {
        "duration": 32,
        "start_time": "2023-04-16T18:27:32.361Z"
      },
      {
        "duration": 27,
        "start_time": "2023-04-16T18:27:32.395Z"
      },
      {
        "duration": 135,
        "start_time": "2023-04-16T18:27:32.425Z"
      },
      {
        "duration": 19,
        "start_time": "2023-04-16T18:29:55.814Z"
      },
      {
        "duration": 6,
        "start_time": "2023-04-16T18:30:33.161Z"
      },
      {
        "duration": 1273,
        "start_time": "2023-04-16T18:31:19.025Z"
      },
      {
        "duration": 21,
        "start_time": "2023-04-16T18:31:20.301Z"
      },
      {
        "duration": 88,
        "start_time": "2023-04-16T18:31:20.324Z"
      },
      {
        "duration": 29,
        "start_time": "2023-04-16T18:31:20.415Z"
      },
      {
        "duration": 44,
        "start_time": "2023-04-16T18:31:20.447Z"
      },
      {
        "duration": 29,
        "start_time": "2023-04-16T18:31:20.494Z"
      },
      {
        "duration": 16,
        "start_time": "2023-04-16T18:31:20.525Z"
      },
      {
        "duration": 9,
        "start_time": "2023-04-16T18:31:20.545Z"
      },
      {
        "duration": 27,
        "start_time": "2023-04-16T18:31:20.588Z"
      },
      {
        "duration": 13,
        "start_time": "2023-04-16T18:31:20.618Z"
      },
      {
        "duration": 32,
        "start_time": "2023-04-16T18:32:36.415Z"
      },
      {
        "duration": 1273,
        "start_time": "2023-04-16T18:33:32.014Z"
      },
      {
        "duration": 22,
        "start_time": "2023-04-16T18:33:33.291Z"
      },
      {
        "duration": 68,
        "start_time": "2023-04-16T18:33:33.315Z"
      },
      {
        "duration": 28,
        "start_time": "2023-04-16T18:33:33.385Z"
      },
      {
        "duration": 19,
        "start_time": "2023-04-16T18:33:33.415Z"
      },
      {
        "duration": 22,
        "start_time": "2023-04-16T18:33:33.436Z"
      },
      {
        "duration": 43,
        "start_time": "2023-04-16T18:33:33.459Z"
      },
      {
        "duration": 7,
        "start_time": "2023-04-16T18:33:33.506Z"
      },
      {
        "duration": 24,
        "start_time": "2023-04-16T18:33:33.515Z"
      },
      {
        "duration": 25,
        "start_time": "2023-04-16T18:33:33.541Z"
      },
      {
        "duration": 1230,
        "start_time": "2023-04-16T19:05:59.098Z"
      },
      {
        "duration": 19,
        "start_time": "2023-04-16T19:06:00.331Z"
      },
      {
        "duration": 137,
        "start_time": "2023-04-16T19:06:00.352Z"
      },
      {
        "duration": 27,
        "start_time": "2023-04-16T19:06:00.491Z"
      },
      {
        "duration": 77,
        "start_time": "2023-04-16T19:06:00.521Z"
      },
      {
        "duration": 97,
        "start_time": "2023-04-16T19:06:00.600Z"
      },
      {
        "duration": 31,
        "start_time": "2023-04-16T19:06:00.699Z"
      },
      {
        "duration": 31,
        "start_time": "2023-04-16T19:06:00.733Z"
      },
      {
        "duration": 67,
        "start_time": "2023-04-16T19:06:00.767Z"
      },
      {
        "duration": 812,
        "start_time": "2023-04-16T19:06:00.836Z"
      },
      {
        "duration": 20,
        "start_time": "2023-04-16T19:06:46.651Z"
      },
      {
        "duration": 18,
        "start_time": "2023-04-16T19:08:12.150Z"
      },
      {
        "duration": 1176,
        "start_time": "2023-04-16T19:08:29.432Z"
      },
      {
        "duration": 14,
        "start_time": "2023-04-16T19:08:30.611Z"
      },
      {
        "duration": 76,
        "start_time": "2023-04-16T19:08:30.627Z"
      },
      {
        "duration": 22,
        "start_time": "2023-04-16T19:08:30.705Z"
      },
      {
        "duration": 54,
        "start_time": "2023-04-16T19:08:30.730Z"
      },
      {
        "duration": 54,
        "start_time": "2023-04-16T19:08:30.786Z"
      },
      {
        "duration": 26,
        "start_time": "2023-04-16T19:08:30.842Z"
      },
      {
        "duration": 31,
        "start_time": "2023-04-16T19:08:30.870Z"
      },
      {
        "duration": 40,
        "start_time": "2023-04-16T19:08:30.903Z"
      },
      {
        "duration": 48,
        "start_time": "2023-04-16T19:08:30.945Z"
      },
      {
        "duration": 69,
        "start_time": "2023-04-16T19:09:26.046Z"
      },
      {
        "duration": 24,
        "start_time": "2023-04-16T19:09:31.357Z"
      },
      {
        "duration": 118,
        "start_time": "2023-04-16T19:13:32.579Z"
      },
      {
        "duration": 886,
        "start_time": "2023-04-16T19:15:52.987Z"
      },
      {
        "duration": 73,
        "start_time": "2023-04-16T19:18:02.936Z"
      },
      {
        "duration": 901,
        "start_time": "2023-04-16T19:18:19.309Z"
      },
      {
        "duration": 916,
        "start_time": "2023-04-16T19:19:59.829Z"
      },
      {
        "duration": 1240,
        "start_time": "2023-04-16T19:21:02.463Z"
      },
      {
        "duration": 14,
        "start_time": "2023-04-16T19:21:03.705Z"
      },
      {
        "duration": 96,
        "start_time": "2023-04-16T19:21:03.721Z"
      },
      {
        "duration": 24,
        "start_time": "2023-04-16T19:21:03.818Z"
      },
      {
        "duration": 42,
        "start_time": "2023-04-16T19:21:03.844Z"
      },
      {
        "duration": 28,
        "start_time": "2023-04-16T19:21:03.888Z"
      },
      {
        "duration": 13,
        "start_time": "2023-04-16T19:21:03.918Z"
      },
      {
        "duration": 7,
        "start_time": "2023-04-16T19:21:03.933Z"
      },
      {
        "duration": 47,
        "start_time": "2023-04-16T19:21:03.942Z"
      },
      {
        "duration": 29,
        "start_time": "2023-04-16T19:21:03.991Z"
      },
      {
        "duration": 106,
        "start_time": "2023-04-16T19:22:59.921Z"
      },
      {
        "duration": 24,
        "start_time": "2023-04-16T19:23:22.949Z"
      },
      {
        "duration": 11,
        "start_time": "2023-04-16T19:25:52.786Z"
      },
      {
        "duration": 16,
        "start_time": "2023-04-16T19:26:25.953Z"
      },
      {
        "duration": 14,
        "start_time": "2023-04-16T19:27:58.155Z"
      },
      {
        "duration": 16,
        "start_time": "2023-04-16T19:29:08.045Z"
      },
      {
        "duration": 15,
        "start_time": "2023-04-16T19:30:58.869Z"
      },
      {
        "duration": 23,
        "start_time": "2023-04-16T19:31:28.233Z"
      },
      {
        "duration": 24,
        "start_time": "2023-04-16T19:31:47.942Z"
      },
      {
        "duration": 21,
        "start_time": "2023-04-16T19:32:30.583Z"
      },
      {
        "duration": 16,
        "start_time": "2023-04-16T19:33:30.414Z"
      },
      {
        "duration": 15,
        "start_time": "2023-04-16T19:33:52.954Z"
      },
      {
        "duration": 8,
        "start_time": "2023-04-16T19:36:39.214Z"
      },
      {
        "duration": 6,
        "start_time": "2023-04-16T19:38:23.046Z"
      },
      {
        "duration": 13,
        "start_time": "2023-04-16T19:38:31.042Z"
      },
      {
        "duration": 1223,
        "start_time": "2023-04-16T19:39:36.574Z"
      },
      {
        "duration": 14,
        "start_time": "2023-04-16T19:39:37.800Z"
      },
      {
        "duration": 54,
        "start_time": "2023-04-16T19:39:37.819Z"
      },
      {
        "duration": 24,
        "start_time": "2023-04-16T19:39:37.888Z"
      },
      {
        "duration": 34,
        "start_time": "2023-04-16T19:39:37.915Z"
      },
      {
        "duration": 37,
        "start_time": "2023-04-16T19:39:37.952Z"
      },
      {
        "duration": 12,
        "start_time": "2023-04-16T19:39:37.991Z"
      },
      {
        "duration": 7,
        "start_time": "2023-04-16T19:39:38.005Z"
      },
      {
        "duration": 23,
        "start_time": "2023-04-16T19:39:38.014Z"
      },
      {
        "duration": 20,
        "start_time": "2023-04-16T19:39:38.039Z"
      },
      {
        "duration": 35,
        "start_time": "2023-04-16T19:39:38.060Z"
      },
      {
        "duration": 41,
        "start_time": "2023-04-16T19:39:38.096Z"
      },
      {
        "duration": 15,
        "start_time": "2023-04-16T19:39:38.139Z"
      },
      {
        "duration": 4,
        "start_time": "2023-04-16T19:45:17.745Z"
      },
      {
        "duration": 5,
        "start_time": "2023-04-16T19:45:30.424Z"
      },
      {
        "duration": 13,
        "start_time": "2023-04-16T19:45:32.783Z"
      },
      {
        "duration": 13,
        "start_time": "2023-04-16T19:45:52.822Z"
      },
      {
        "duration": 17,
        "start_time": "2023-04-16T20:00:17.527Z"
      },
      {
        "duration": 1277,
        "start_time": "2023-04-16T20:02:24.229Z"
      },
      {
        "duration": 17,
        "start_time": "2023-04-16T20:02:25.509Z"
      },
      {
        "duration": 70,
        "start_time": "2023-04-16T20:02:25.528Z"
      },
      {
        "duration": 30,
        "start_time": "2023-04-16T20:02:25.601Z"
      },
      {
        "duration": 18,
        "start_time": "2023-04-16T20:02:25.633Z"
      },
      {
        "duration": 51,
        "start_time": "2023-04-16T20:02:25.654Z"
      },
      {
        "duration": 13,
        "start_time": "2023-04-16T20:02:25.707Z"
      },
      {
        "duration": 7,
        "start_time": "2023-04-16T20:02:25.722Z"
      },
      {
        "duration": 21,
        "start_time": "2023-04-16T20:02:25.731Z"
      },
      {
        "duration": 49,
        "start_time": "2023-04-16T20:02:25.754Z"
      },
      {
        "duration": 8,
        "start_time": "2023-04-16T20:02:25.805Z"
      },
      {
        "duration": 33,
        "start_time": "2023-04-16T20:02:25.815Z"
      },
      {
        "duration": 8,
        "start_time": "2023-04-16T20:02:25.850Z"
      },
      {
        "duration": 17,
        "start_time": "2023-04-16T20:02:25.861Z"
      },
      {
        "duration": 11,
        "start_time": "2023-04-16T20:02:25.880Z"
      },
      {
        "duration": 4,
        "start_time": "2023-04-16T20:05:14.871Z"
      },
      {
        "duration": 1260,
        "start_time": "2023-04-16T20:05:24.118Z"
      },
      {
        "duration": 6,
        "start_time": "2023-04-16T20:07:41.841Z"
      },
      {
        "duration": 7,
        "start_time": "2023-04-16T20:07:50.238Z"
      },
      {
        "duration": 15,
        "start_time": "2023-04-16T20:07:59.107Z"
      },
      {
        "duration": 7,
        "start_time": "2023-04-16T20:08:19.818Z"
      },
      {
        "duration": 10,
        "start_time": "2023-04-16T20:08:59.377Z"
      },
      {
        "duration": 14,
        "start_time": "2023-04-16T20:09:01.087Z"
      },
      {
        "duration": 20,
        "start_time": "2023-04-16T20:09:32.875Z"
      },
      {
        "duration": 23,
        "start_time": "2023-04-16T20:11:11.914Z"
      },
      {
        "duration": 11,
        "start_time": "2023-04-16T20:11:38.747Z"
      },
      {
        "duration": 1120,
        "start_time": "2023-04-16T20:12:27.810Z"
      },
      {
        "duration": 1326,
        "start_time": "2023-04-16T20:12:59.673Z"
      },
      {
        "duration": 15,
        "start_time": "2023-04-16T20:13:01.001Z"
      },
      {
        "duration": 70,
        "start_time": "2023-04-16T20:13:01.018Z"
      },
      {
        "duration": 22,
        "start_time": "2023-04-16T20:13:01.090Z"
      },
      {
        "duration": 50,
        "start_time": "2023-04-16T20:13:01.114Z"
      },
      {
        "duration": 57,
        "start_time": "2023-04-16T20:13:01.166Z"
      },
      {
        "duration": 46,
        "start_time": "2023-04-16T20:13:01.225Z"
      },
      {
        "duration": 34,
        "start_time": "2023-04-16T20:13:01.272Z"
      },
      {
        "duration": 84,
        "start_time": "2023-04-16T20:13:01.308Z"
      },
      {
        "duration": 30,
        "start_time": "2023-04-16T20:13:01.394Z"
      },
      {
        "duration": 27,
        "start_time": "2023-04-16T20:13:01.426Z"
      },
      {
        "duration": 40,
        "start_time": "2023-04-16T20:13:01.456Z"
      },
      {
        "duration": 35,
        "start_time": "2023-04-16T20:13:01.498Z"
      },
      {
        "duration": 31,
        "start_time": "2023-04-16T20:13:01.535Z"
      },
      {
        "duration": 154,
        "start_time": "2023-04-16T20:13:01.569Z"
      },
      {
        "duration": 1201,
        "start_time": "2023-04-16T20:14:18.098Z"
      },
      {
        "duration": 15,
        "start_time": "2023-04-16T20:14:19.302Z"
      },
      {
        "duration": 51,
        "start_time": "2023-04-16T20:14:19.319Z"
      },
      {
        "duration": 34,
        "start_time": "2023-04-16T20:14:19.372Z"
      },
      {
        "duration": 17,
        "start_time": "2023-04-16T20:14:19.409Z"
      },
      {
        "duration": 21,
        "start_time": "2023-04-16T20:14:19.429Z"
      },
      {
        "duration": 46,
        "start_time": "2023-04-16T20:14:19.452Z"
      },
      {
        "duration": 9,
        "start_time": "2023-04-16T20:14:19.501Z"
      },
      {
        "duration": 33,
        "start_time": "2023-04-16T20:14:19.512Z"
      },
      {
        "duration": 19,
        "start_time": "2023-04-16T20:14:19.547Z"
      },
      {
        "duration": 22,
        "start_time": "2023-04-16T20:14:19.567Z"
      },
      {
        "duration": 7,
        "start_time": "2023-04-16T20:14:19.591Z"
      },
      {
        "duration": 12,
        "start_time": "2023-04-16T20:14:19.601Z"
      },
      {
        "duration": 13,
        "start_time": "2023-04-16T20:14:19.615Z"
      },
      {
        "duration": 110,
        "start_time": "2023-04-16T20:16:35.098Z"
      },
      {
        "duration": 11,
        "start_time": "2023-04-16T20:18:54.473Z"
      },
      {
        "duration": 14,
        "start_time": "2023-04-16T20:20:07.283Z"
      },
      {
        "duration": 16,
        "start_time": "2023-04-16T20:22:13.919Z"
      },
      {
        "duration": 36,
        "start_time": "2023-04-16T20:30:12.514Z"
      },
      {
        "duration": 11,
        "start_time": "2023-04-16T20:30:28.913Z"
      },
      {
        "duration": 1200,
        "start_time": "2023-04-16T20:37:20.114Z"
      },
      {
        "duration": 1169,
        "start_time": "2023-04-16T20:38:01.107Z"
      },
      {
        "duration": 1156,
        "start_time": "2023-04-16T20:43:44.066Z"
      },
      {
        "duration": 60323,
        "start_time": "2023-04-16T20:45:42.180Z"
      },
      {
        "duration": 60693,
        "start_time": "2023-04-16T20:47:07.933Z"
      },
      {
        "duration": 8840,
        "start_time": "2023-04-16T20:49:23.605Z"
      },
      {
        "duration": 181,
        "start_time": "2023-04-16T20:51:50.307Z"
      },
      {
        "duration": 84,
        "start_time": "2023-04-16T20:58:08.607Z"
      },
      {
        "duration": 65,
        "start_time": "2023-04-17T14:28:50.325Z"
      },
      {
        "duration": 1371,
        "start_time": "2023-04-17T14:28:58.464Z"
      },
      {
        "duration": 137,
        "start_time": "2023-04-17T14:29:01.066Z"
      },
      {
        "duration": 24,
        "start_time": "2023-04-17T14:29:03.523Z"
      },
      {
        "duration": 65,
        "start_time": "2023-04-17T14:29:08.419Z"
      },
      {
        "duration": 14,
        "start_time": "2023-04-17T14:29:11.681Z"
      },
      {
        "duration": 29,
        "start_time": "2023-04-17T14:29:19.634Z"
      },
      {
        "duration": 1563,
        "start_time": "2023-04-17T14:29:53.870Z"
      },
      {
        "duration": 9,
        "start_time": "2023-04-17T14:30:03.013Z"
      },
      {
        "duration": 1255,
        "start_time": "2023-04-17T14:30:16.079Z"
      },
      {
        "duration": 51,
        "start_time": "2023-04-17T14:30:17.344Z"
      },
      {
        "duration": 13,
        "start_time": "2023-04-17T14:30:17.396Z"
      },
      {
        "duration": 67,
        "start_time": "2023-04-17T14:30:17.411Z"
      },
      {
        "duration": 14,
        "start_time": "2023-04-17T14:30:17.480Z"
      },
      {
        "duration": 17,
        "start_time": "2023-04-17T14:30:17.496Z"
      },
      {
        "duration": 45,
        "start_time": "2023-04-17T14:30:17.515Z"
      },
      {
        "duration": 16,
        "start_time": "2023-04-17T14:30:17.562Z"
      },
      {
        "duration": 10,
        "start_time": "2023-04-17T14:30:17.580Z"
      },
      {
        "duration": 16,
        "start_time": "2023-04-17T14:30:17.593Z"
      },
      {
        "duration": 39,
        "start_time": "2023-04-17T14:30:17.610Z"
      },
      {
        "duration": 13,
        "start_time": "2023-04-17T14:30:17.651Z"
      },
      {
        "duration": 22,
        "start_time": "2023-04-17T14:30:17.671Z"
      },
      {
        "duration": 28,
        "start_time": "2023-04-17T14:30:17.695Z"
      },
      {
        "duration": 20,
        "start_time": "2023-04-17T14:30:17.725Z"
      },
      {
        "duration": 27,
        "start_time": "2023-04-17T14:30:17.757Z"
      },
      {
        "duration": 13,
        "start_time": "2023-04-17T14:30:17.786Z"
      },
      {
        "duration": 13,
        "start_time": "2023-04-17T14:30:17.800Z"
      },
      {
        "duration": 1322,
        "start_time": "2023-04-17T14:30:17.815Z"
      },
      {
        "duration": 0,
        "start_time": "2023-04-17T14:30:19.139Z"
      },
      {
        "duration": 0,
        "start_time": "2023-04-17T14:30:19.140Z"
      },
      {
        "duration": 1483,
        "start_time": "2023-04-17T14:33:38.957Z"
      },
      {
        "duration": 754,
        "start_time": "2023-04-17T14:33:58.026Z"
      },
      {
        "duration": 294,
        "start_time": "2023-04-17T14:34:04.857Z"
      },
      {
        "duration": 8986,
        "start_time": "2023-04-17T14:34:13.491Z"
      },
      {
        "duration": 75,
        "start_time": "2023-04-17T14:34:53.682Z"
      },
      {
        "duration": 13,
        "start_time": "2023-04-17T14:38:29.864Z"
      },
      {
        "duration": 29227,
        "start_time": "2023-04-17T14:48:01.045Z"
      },
      {
        "duration": 11839,
        "start_time": "2023-04-17T14:48:59.907Z"
      },
      {
        "duration": 38167,
        "start_time": "2023-04-17T14:55:03.152Z"
      },
      {
        "duration": 17441,
        "start_time": "2023-04-17T14:56:32.223Z"
      },
      {
        "duration": 17106,
        "start_time": "2023-04-17T15:02:34.400Z"
      },
      {
        "duration": 7534,
        "start_time": "2023-04-17T15:03:27.409Z"
      },
      {
        "duration": 200,
        "start_time": "2023-04-17T15:11:53.325Z"
      },
      {
        "duration": 1526,
        "start_time": "2023-04-17T19:15:39.420Z"
      },
      {
        "duration": 92,
        "start_time": "2023-04-17T19:15:43.461Z"
      },
      {
        "duration": 8,
        "start_time": "2023-04-17T19:29:27.100Z"
      },
      {
        "duration": 39,
        "start_time": "2023-04-17T19:43:21.328Z"
      },
      {
        "duration": 9,
        "start_time": "2023-04-17T19:44:38.622Z"
      },
      {
        "duration": 6,
        "start_time": "2023-04-17T19:44:47.828Z"
      },
      {
        "duration": 16,
        "start_time": "2023-04-17T19:44:51.192Z"
      },
      {
        "duration": 41,
        "start_time": "2023-04-17T19:46:05.933Z"
      },
      {
        "duration": 46,
        "start_time": "2023-04-17T19:46:09.463Z"
      },
      {
        "duration": 22,
        "start_time": "2023-04-17T19:46:38.902Z"
      },
      {
        "duration": 1617,
        "start_time": "2023-04-17T19:47:31.292Z"
      },
      {
        "duration": 63,
        "start_time": "2023-04-17T19:47:32.912Z"
      },
      {
        "duration": 18,
        "start_time": "2023-04-17T19:47:32.978Z"
      },
      {
        "duration": 109,
        "start_time": "2023-04-17T19:47:32.998Z"
      },
      {
        "duration": 18,
        "start_time": "2023-04-17T19:47:33.115Z"
      },
      {
        "duration": 65,
        "start_time": "2023-04-17T19:47:33.135Z"
      },
      {
        "duration": 70,
        "start_time": "2023-04-17T19:47:33.203Z"
      },
      {
        "duration": 44,
        "start_time": "2023-04-17T19:47:33.277Z"
      },
      {
        "duration": 17,
        "start_time": "2023-04-17T19:47:33.324Z"
      },
      {
        "duration": 69,
        "start_time": "2023-04-17T19:47:33.343Z"
      },
      {
        "duration": 54,
        "start_time": "2023-04-17T19:47:33.414Z"
      },
      {
        "duration": 1899,
        "start_time": "2023-04-17T19:47:33.471Z"
      },
      {
        "duration": 0,
        "start_time": "2023-04-17T19:47:35.374Z"
      },
      {
        "duration": 0,
        "start_time": "2023-04-17T19:47:35.376Z"
      },
      {
        "duration": 0,
        "start_time": "2023-04-17T19:47:35.382Z"
      },
      {
        "duration": 0,
        "start_time": "2023-04-17T19:47:35.384Z"
      },
      {
        "duration": 0,
        "start_time": "2023-04-17T19:47:35.386Z"
      },
      {
        "duration": 0,
        "start_time": "2023-04-17T19:47:35.388Z"
      },
      {
        "duration": 0,
        "start_time": "2023-04-17T19:47:35.391Z"
      },
      {
        "duration": 0,
        "start_time": "2023-04-17T19:47:35.392Z"
      },
      {
        "duration": 0,
        "start_time": "2023-04-17T19:47:35.406Z"
      },
      {
        "duration": 0,
        "start_time": "2023-04-17T19:47:35.407Z"
      },
      {
        "duration": 0,
        "start_time": "2023-04-17T19:47:35.408Z"
      },
      {
        "duration": 0,
        "start_time": "2023-04-17T19:47:35.409Z"
      },
      {
        "duration": 0,
        "start_time": "2023-04-17T19:47:35.413Z"
      },
      {
        "duration": 0,
        "start_time": "2023-04-17T19:47:35.415Z"
      },
      {
        "duration": 1719,
        "start_time": "2023-04-17T19:48:44.227Z"
      },
      {
        "duration": 72,
        "start_time": "2023-04-17T19:48:45.967Z"
      },
      {
        "duration": 44,
        "start_time": "2023-04-17T19:48:46.041Z"
      },
      {
        "duration": 198,
        "start_time": "2023-04-17T19:48:46.091Z"
      },
      {
        "duration": 28,
        "start_time": "2023-04-17T19:48:46.292Z"
      },
      {
        "duration": 96,
        "start_time": "2023-04-17T19:48:46.324Z"
      },
      {
        "duration": 97,
        "start_time": "2023-04-17T19:48:46.423Z"
      },
      {
        "duration": 29,
        "start_time": "2023-04-17T19:48:46.522Z"
      },
      {
        "duration": 147,
        "start_time": "2023-04-17T19:48:46.558Z"
      },
      {
        "duration": 108,
        "start_time": "2023-04-17T19:48:46.721Z"
      },
      {
        "duration": 41,
        "start_time": "2023-04-17T19:48:46.831Z"
      },
      {
        "duration": 83,
        "start_time": "2023-04-17T19:48:46.876Z"
      },
      {
        "duration": 57,
        "start_time": "2023-04-17T19:48:46.962Z"
      },
      {
        "duration": 82,
        "start_time": "2023-04-17T19:48:47.022Z"
      },
      {
        "duration": 84,
        "start_time": "2023-04-17T19:48:47.106Z"
      },
      {
        "duration": 149,
        "start_time": "2023-04-17T19:48:47.206Z"
      },
      {
        "duration": 89,
        "start_time": "2023-04-17T19:48:47.360Z"
      },
      {
        "duration": 40,
        "start_time": "2023-04-17T19:48:47.459Z"
      },
      {
        "duration": 461,
        "start_time": "2023-04-17T19:48:47.502Z"
      },
      {
        "duration": 15500,
        "start_time": "2023-04-17T19:48:47.973Z"
      },
      {
        "duration": 208,
        "start_time": "2023-04-17T19:49:03.480Z"
      },
      {
        "duration": 69,
        "start_time": "2023-04-17T19:49:03.716Z"
      },
      {
        "duration": 18937,
        "start_time": "2023-04-17T19:49:03.795Z"
      },
      {
        "duration": 26247,
        "start_time": "2023-04-17T19:49:22.734Z"
      },
      {
        "duration": 11641,
        "start_time": "2023-04-17T19:49:48.983Z"
      },
      {
        "duration": 351,
        "start_time": "2023-04-17T19:50:00.631Z"
      },
      {
        "duration": 238,
        "start_time": "2023-04-17T19:50:59.563Z"
      },
      {
        "duration": 1729,
        "start_time": "2023-04-17T19:53:27.291Z"
      },
      {
        "duration": 36,
        "start_time": "2023-04-17T19:53:52.875Z"
      },
      {
        "duration": 1684,
        "start_time": "2023-04-17T19:54:30.640Z"
      },
      {
        "duration": 86,
        "start_time": "2023-04-17T19:54:32.330Z"
      },
      {
        "duration": 16,
        "start_time": "2023-04-17T19:54:32.418Z"
      },
      {
        "duration": 149,
        "start_time": "2023-04-17T19:54:32.437Z"
      },
      {
        "duration": 21,
        "start_time": "2023-04-17T19:54:32.588Z"
      },
      {
        "duration": 66,
        "start_time": "2023-04-17T19:54:32.617Z"
      },
      {
        "duration": 50,
        "start_time": "2023-04-17T19:54:32.686Z"
      },
      {
        "duration": 38,
        "start_time": "2023-04-17T19:54:32.739Z"
      },
      {
        "duration": 30,
        "start_time": "2023-04-17T19:54:32.779Z"
      },
      {
        "duration": 48,
        "start_time": "2023-04-17T19:54:32.813Z"
      },
      {
        "duration": 29,
        "start_time": "2023-04-17T19:54:32.864Z"
      },
      {
        "duration": 25,
        "start_time": "2023-04-17T19:54:32.896Z"
      },
      {
        "duration": 14,
        "start_time": "2023-04-17T19:54:32.923Z"
      },
      {
        "duration": 253,
        "start_time": "2023-04-17T19:54:32.939Z"
      },
      {
        "duration": 0,
        "start_time": "2023-04-17T19:54:33.203Z"
      },
      {
        "duration": 0,
        "start_time": "2023-04-17T19:54:33.204Z"
      },
      {
        "duration": 0,
        "start_time": "2023-04-17T19:54:33.205Z"
      },
      {
        "duration": 0,
        "start_time": "2023-04-17T19:54:33.206Z"
      },
      {
        "duration": 0,
        "start_time": "2023-04-17T19:54:33.208Z"
      },
      {
        "duration": 0,
        "start_time": "2023-04-17T19:54:33.209Z"
      },
      {
        "duration": 0,
        "start_time": "2023-04-17T19:54:33.210Z"
      },
      {
        "duration": 0,
        "start_time": "2023-04-17T19:54:33.211Z"
      },
      {
        "duration": 0,
        "start_time": "2023-04-17T19:54:33.213Z"
      },
      {
        "duration": 0,
        "start_time": "2023-04-17T19:54:33.214Z"
      },
      {
        "duration": 0,
        "start_time": "2023-04-17T19:54:33.215Z"
      },
      {
        "duration": 0,
        "start_time": "2023-04-17T19:54:33.216Z"
      },
      {
        "duration": 14,
        "start_time": "2023-04-17T19:55:16.924Z"
      },
      {
        "duration": 24,
        "start_time": "2023-04-17T19:55:36.293Z"
      },
      {
        "duration": 26,
        "start_time": "2023-04-17T19:57:51.056Z"
      },
      {
        "duration": 1865,
        "start_time": "2023-04-17T19:58:47.989Z"
      },
      {
        "duration": 69,
        "start_time": "2023-04-17T19:58:49.868Z"
      },
      {
        "duration": 38,
        "start_time": "2023-04-17T19:58:49.939Z"
      },
      {
        "duration": 159,
        "start_time": "2023-04-17T19:58:49.979Z"
      },
      {
        "duration": 94,
        "start_time": "2023-04-17T19:58:50.141Z"
      },
      {
        "duration": 65,
        "start_time": "2023-04-17T19:58:50.238Z"
      },
      {
        "duration": 124,
        "start_time": "2023-04-17T19:58:50.305Z"
      },
      {
        "duration": 36,
        "start_time": "2023-04-17T19:58:50.432Z"
      },
      {
        "duration": 62,
        "start_time": "2023-04-17T19:58:50.470Z"
      },
      {
        "duration": 64,
        "start_time": "2023-04-17T19:58:50.535Z"
      },
      {
        "duration": 67,
        "start_time": "2023-04-17T19:58:50.602Z"
      },
      {
        "duration": 68,
        "start_time": "2023-04-17T19:58:50.671Z"
      },
      {
        "duration": 91,
        "start_time": "2023-04-17T19:58:50.748Z"
      },
      {
        "duration": 339,
        "start_time": "2023-04-17T19:58:50.855Z"
      },
      {
        "duration": 161,
        "start_time": "2023-04-17T19:58:51.201Z"
      },
      {
        "duration": 99,
        "start_time": "2023-04-17T19:58:51.368Z"
      },
      {
        "duration": 83,
        "start_time": "2023-04-17T19:58:51.469Z"
      },
      {
        "duration": 96,
        "start_time": "2023-04-17T19:58:51.555Z"
      },
      {
        "duration": 555,
        "start_time": "2023-04-17T19:58:51.657Z"
      },
      {
        "duration": 13355,
        "start_time": "2023-04-17T19:58:52.214Z"
      },
      {
        "duration": 269,
        "start_time": "2023-04-17T19:59:05.575Z"
      },
      {
        "duration": 30,
        "start_time": "2023-04-17T19:59:05.879Z"
      },
      {
        "duration": 23881,
        "start_time": "2023-04-17T19:59:05.917Z"
      },
      {
        "duration": 28577,
        "start_time": "2023-04-17T19:59:29.801Z"
      },
      {
        "duration": 15343,
        "start_time": "2023-04-17T19:59:58.386Z"
      },
      {
        "duration": 354,
        "start_time": "2023-04-17T20:00:13.732Z"
      },
      {
        "duration": 127,
        "start_time": "2023-04-17T20:00:14.437Z"
      },
      {
        "duration": 116,
        "start_time": "2023-04-17T20:00:14.572Z"
      },
      {
        "duration": 1989,
        "start_time": "2023-04-17T20:00:40.692Z"
      },
      {
        "duration": 90,
        "start_time": "2023-04-17T20:00:42.687Z"
      },
      {
        "duration": 28,
        "start_time": "2023-04-17T20:00:42.785Z"
      },
      {
        "duration": 118,
        "start_time": "2023-04-17T20:00:42.821Z"
      },
      {
        "duration": 45,
        "start_time": "2023-04-17T20:00:42.941Z"
      },
      {
        "duration": 100,
        "start_time": "2023-04-17T20:00:42.988Z"
      },
      {
        "duration": 72,
        "start_time": "2023-04-17T20:00:43.091Z"
      },
      {
        "duration": 113,
        "start_time": "2023-04-17T20:00:43.168Z"
      },
      {
        "duration": 125,
        "start_time": "2023-04-17T20:00:43.294Z"
      },
      {
        "duration": 74,
        "start_time": "2023-04-17T20:00:43.423Z"
      },
      {
        "duration": 63,
        "start_time": "2023-04-17T20:00:43.499Z"
      },
      {
        "duration": 68,
        "start_time": "2023-04-17T20:00:43.565Z"
      },
      {
        "duration": 49,
        "start_time": "2023-04-17T20:00:43.636Z"
      },
      {
        "duration": 213,
        "start_time": "2023-04-17T20:00:43.698Z"
      },
      {
        "duration": 144,
        "start_time": "2023-04-17T20:00:43.914Z"
      },
      {
        "duration": 211,
        "start_time": "2023-04-17T20:00:44.061Z"
      },
      {
        "duration": 55,
        "start_time": "2023-04-17T20:00:44.282Z"
      },
      {
        "duration": 166,
        "start_time": "2023-04-17T20:00:44.343Z"
      },
      {
        "duration": 745,
        "start_time": "2023-04-17T20:00:44.512Z"
      },
      {
        "duration": 15018,
        "start_time": "2023-04-17T20:00:45.260Z"
      },
      {
        "duration": 228,
        "start_time": "2023-04-17T20:01:00.281Z"
      },
      {
        "duration": 209,
        "start_time": "2023-04-17T20:01:00.530Z"
      },
      {
        "duration": 20957,
        "start_time": "2023-04-17T20:01:00.760Z"
      },
      {
        "duration": 2200,
        "start_time": "2023-04-17T20:01:30.457Z"
      },
      {
        "duration": 126,
        "start_time": "2023-04-17T20:01:32.666Z"
      },
      {
        "duration": 89,
        "start_time": "2023-04-17T20:01:32.804Z"
      },
      {
        "duration": 212,
        "start_time": "2023-04-17T20:01:32.903Z"
      },
      {
        "duration": 131,
        "start_time": "2023-04-17T20:01:33.124Z"
      },
      {
        "duration": 201,
        "start_time": "2023-04-17T20:01:33.264Z"
      },
      {
        "duration": 278,
        "start_time": "2023-04-17T20:01:33.467Z"
      },
      {
        "duration": 69,
        "start_time": "2023-04-17T20:01:33.748Z"
      },
      {
        "duration": 204,
        "start_time": "2023-04-17T20:01:33.820Z"
      },
      {
        "duration": 255,
        "start_time": "2023-04-17T20:01:34.036Z"
      },
      {
        "duration": 196,
        "start_time": "2023-04-17T20:01:34.298Z"
      },
      {
        "duration": 77,
        "start_time": "2023-04-17T20:01:34.506Z"
      },
      {
        "duration": 185,
        "start_time": "2023-04-17T20:01:34.592Z"
      },
      {
        "duration": 289,
        "start_time": "2023-04-17T20:01:34.780Z"
      },
      {
        "duration": 109,
        "start_time": "2023-04-17T20:01:35.076Z"
      },
      {
        "duration": 195,
        "start_time": "2023-04-17T20:01:35.188Z"
      },
      {
        "duration": 163,
        "start_time": "2023-04-17T20:01:35.386Z"
      },
      {
        "duration": 131,
        "start_time": "2023-04-17T20:01:35.552Z"
      },
      {
        "duration": 682,
        "start_time": "2023-04-17T20:01:35.686Z"
      },
      {
        "duration": 14852,
        "start_time": "2023-04-17T20:01:36.383Z"
      },
      {
        "duration": 234,
        "start_time": "2023-04-17T20:01:51.246Z"
      },
      {
        "duration": 45,
        "start_time": "2023-04-17T20:01:51.516Z"
      },
      {
        "duration": 23684,
        "start_time": "2023-04-17T20:01:51.569Z"
      },
      {
        "duration": 31459,
        "start_time": "2023-04-17T20:02:15.275Z"
      },
      {
        "duration": 12778,
        "start_time": "2023-04-17T20:02:46.746Z"
      },
      {
        "duration": 447,
        "start_time": "2023-04-17T20:02:59.542Z"
      },
      {
        "duration": 27,
        "start_time": "2023-04-17T20:05:10.530Z"
      },
      {
        "duration": 13448,
        "start_time": "2023-04-17T20:43:28.731Z"
      },
      {
        "duration": 34934,
        "start_time": "2023-04-17T20:43:53.327Z"
      },
      {
        "duration": 22,
        "start_time": "2023-04-17T20:49:30.816Z"
      },
      {
        "duration": 359,
        "start_time": "2023-04-17T20:49:35.263Z"
      },
      {
        "duration": 299,
        "start_time": "2023-04-17T20:50:00.420Z"
      },
      {
        "duration": 14117,
        "start_time": "2023-04-17T20:50:36.007Z"
      },
      {
        "duration": 60,
        "start_time": "2023-04-17T20:51:26.899Z"
      },
      {
        "duration": 136,
        "start_time": "2023-04-17T20:52:34.062Z"
      },
      {
        "duration": 16941,
        "start_time": "2023-04-17T21:04:47.762Z"
      },
      {
        "duration": 23584,
        "start_time": "2023-04-17T21:08:28.268Z"
      },
      {
        "duration": 18955,
        "start_time": "2023-04-17T21:09:27.072Z"
      },
      {
        "duration": 10674,
        "start_time": "2023-04-17T21:11:34.605Z"
      },
      {
        "duration": 1426,
        "start_time": "2023-04-17T21:12:10.394Z"
      },
      {
        "duration": 278,
        "start_time": "2023-04-17T21:22:07.391Z"
      },
      {
        "duration": 1624,
        "start_time": "2023-04-18T08:03:54.226Z"
      },
      {
        "duration": 179,
        "start_time": "2023-04-18T08:03:55.852Z"
      },
      {
        "duration": 23,
        "start_time": "2023-04-18T08:03:56.033Z"
      },
      {
        "duration": 100,
        "start_time": "2023-04-18T08:03:56.072Z"
      },
      {
        "duration": 23,
        "start_time": "2023-04-18T08:03:56.178Z"
      },
      {
        "duration": 40,
        "start_time": "2023-04-18T08:03:56.203Z"
      },
      {
        "duration": 85,
        "start_time": "2023-04-18T08:03:56.245Z"
      },
      {
        "duration": 24,
        "start_time": "2023-04-18T08:03:56.332Z"
      },
      {
        "duration": 65,
        "start_time": "2023-04-18T08:03:56.358Z"
      },
      {
        "duration": 92,
        "start_time": "2023-04-18T08:03:56.425Z"
      },
      {
        "duration": 37,
        "start_time": "2023-04-18T08:03:56.519Z"
      },
      {
        "duration": 29,
        "start_time": "2023-04-18T08:03:56.558Z"
      },
      {
        "duration": 40,
        "start_time": "2023-04-18T08:03:56.589Z"
      },
      {
        "duration": 20,
        "start_time": "2023-04-18T08:03:56.631Z"
      },
      {
        "duration": 92,
        "start_time": "2023-04-18T08:03:56.653Z"
      },
      {
        "duration": 44,
        "start_time": "2023-04-18T08:03:56.750Z"
      },
      {
        "duration": 105,
        "start_time": "2023-04-18T08:03:56.797Z"
      },
      {
        "duration": 221,
        "start_time": "2023-04-18T08:03:56.903Z"
      },
      {
        "duration": 13557,
        "start_time": "2023-04-18T08:03:57.126Z"
      },
      {
        "duration": 138,
        "start_time": "2023-04-18T08:04:10.685Z"
      },
      {
        "duration": 30,
        "start_time": "2023-04-18T08:04:10.866Z"
      },
      {
        "duration": 15558,
        "start_time": "2023-04-18T08:04:10.898Z"
      },
      {
        "duration": 15747,
        "start_time": "2023-04-18T08:04:26.457Z"
      },
      {
        "duration": 1088,
        "start_time": "2023-04-18T08:04:42.205Z"
      },
      {
        "duration": 224,
        "start_time": "2023-04-18T08:04:43.296Z"
      },
      {
        "duration": 2310,
        "start_time": "2023-04-18T08:28:34.408Z"
      },
      {
        "duration": 1470,
        "start_time": "2023-04-18T08:28:53.012Z"
      },
      {
        "duration": 93,
        "start_time": "2023-04-18T08:28:54.623Z"
      },
      {
        "duration": 19,
        "start_time": "2023-04-18T08:28:55.024Z"
      },
      {
        "duration": 66,
        "start_time": "2023-04-18T08:28:59.258Z"
      },
      {
        "duration": 20,
        "start_time": "2023-04-18T08:28:59.703Z"
      },
      {
        "duration": 15,
        "start_time": "2023-04-18T08:29:00.315Z"
      },
      {
        "duration": 33,
        "start_time": "2023-04-18T08:29:05.398Z"
      },
      {
        "duration": 16,
        "start_time": "2023-04-18T08:29:07.898Z"
      },
      {
        "duration": 15,
        "start_time": "2023-04-18T08:29:09.150Z"
      },
      {
        "duration": 16,
        "start_time": "2023-04-18T08:29:12.706Z"
      },
      {
        "duration": 23,
        "start_time": "2023-04-18T08:29:18.016Z"
      },
      {
        "duration": 21,
        "start_time": "2023-04-18T08:29:21.098Z"
      },
      {
        "duration": 3338,
        "start_time": "2023-04-18T08:30:10.385Z"
      },
      {
        "duration": 1587,
        "start_time": "2023-04-18T08:35:09.415Z"
      },
      {
        "duration": 87,
        "start_time": "2023-04-18T08:35:11.013Z"
      },
      {
        "duration": 17,
        "start_time": "2023-04-18T08:35:17.430Z"
      },
      {
        "duration": 30,
        "start_time": "2023-04-18T08:35:19.163Z"
      },
      {
        "duration": 29,
        "start_time": "2023-04-18T08:35:24.223Z"
      },
      {
        "duration": 42,
        "start_time": "2023-04-18T08:35:27.259Z"
      },
      {
        "duration": 17,
        "start_time": "2023-04-18T08:35:56.467Z"
      },
      {
        "duration": 16,
        "start_time": "2023-04-18T08:36:23.616Z"
      },
      {
        "duration": 11,
        "start_time": "2023-04-18T08:39:08.673Z"
      },
      {
        "duration": 17,
        "start_time": "2023-04-18T08:39:12.907Z"
      },
      {
        "duration": 31,
        "start_time": "2023-04-18T09:46:58.140Z"
      },
      {
        "duration": 20,
        "start_time": "2023-04-18T09:47:00.559Z"
      },
      {
        "duration": 14,
        "start_time": "2023-04-18T09:48:22.465Z"
      },
      {
        "duration": 150,
        "start_time": "2023-04-18T09:48:33.352Z"
      },
      {
        "duration": 9236,
        "start_time": "2023-04-18T09:48:41.725Z"
      },
      {
        "duration": 92,
        "start_time": "2023-04-18T09:50:09.979Z"
      },
      {
        "duration": 19,
        "start_time": "2023-04-18T09:58:25.430Z"
      },
      {
        "duration": 13234,
        "start_time": "2023-04-18T09:59:43.927Z"
      },
      {
        "duration": 14465,
        "start_time": "2023-04-18T10:00:12.831Z"
      },
      {
        "duration": 12646,
        "start_time": "2023-04-18T10:06:23.828Z"
      },
      {
        "duration": 866,
        "start_time": "2023-04-18T10:07:39.676Z"
      },
      {
        "duration": 184,
        "start_time": "2023-04-18T10:09:33.732Z"
      },
      {
        "duration": 1499,
        "start_time": "2023-04-18T10:29:17.881Z"
      },
      {
        "duration": 41,
        "start_time": "2023-04-18T10:29:19.385Z"
      },
      {
        "duration": 27,
        "start_time": "2023-04-18T10:29:19.428Z"
      },
      {
        "duration": 103,
        "start_time": "2023-04-18T10:29:19.456Z"
      },
      {
        "duration": 24,
        "start_time": "2023-04-18T10:29:19.562Z"
      },
      {
        "duration": 39,
        "start_time": "2023-04-18T10:29:19.588Z"
      },
      {
        "duration": 75,
        "start_time": "2023-04-18T10:29:19.629Z"
      },
      {
        "duration": 10,
        "start_time": "2023-04-18T10:29:19.705Z"
      },
      {
        "duration": 6,
        "start_time": "2023-04-18T10:29:19.717Z"
      },
      {
        "duration": 35,
        "start_time": "2023-04-18T10:29:19.725Z"
      },
      {
        "duration": 44,
        "start_time": "2023-04-18T10:29:19.761Z"
      },
      {
        "duration": 7,
        "start_time": "2023-04-18T10:29:19.807Z"
      },
      {
        "duration": 15,
        "start_time": "2023-04-18T10:29:19.816Z"
      },
      {
        "duration": 47,
        "start_time": "2023-04-18T10:29:19.833Z"
      },
      {
        "duration": 33,
        "start_time": "2023-04-18T10:29:19.884Z"
      },
      {
        "duration": 11,
        "start_time": "2023-04-18T10:29:19.919Z"
      },
      {
        "duration": 66,
        "start_time": "2023-04-18T10:29:19.931Z"
      },
      {
        "duration": 165,
        "start_time": "2023-04-18T10:29:19.999Z"
      },
      {
        "duration": 8926,
        "start_time": "2023-04-18T10:29:20.166Z"
      },
      {
        "duration": 64,
        "start_time": "2023-04-18T10:29:29.093Z"
      },
      {
        "duration": 12,
        "start_time": "2023-04-18T10:29:29.254Z"
      },
      {
        "duration": 14060,
        "start_time": "2023-04-18T10:29:29.335Z"
      },
      {
        "duration": 13520,
        "start_time": "2023-04-18T10:29:43.396Z"
      },
      {
        "duration": 971,
        "start_time": "2023-04-18T10:29:56.918Z"
      },
      {
        "duration": 199,
        "start_time": "2023-04-18T10:29:57.890Z"
      },
      {
        "duration": 1433,
        "start_time": "2023-04-18T10:52:40.381Z"
      },
      {
        "duration": 111,
        "start_time": "2023-04-18T10:52:41.816Z"
      },
      {
        "duration": 25,
        "start_time": "2023-04-18T10:52:41.930Z"
      },
      {
        "duration": 147,
        "start_time": "2023-04-18T10:52:41.957Z"
      },
      {
        "duration": 17,
        "start_time": "2023-04-18T10:52:42.106Z"
      },
      {
        "duration": 65,
        "start_time": "2023-04-18T10:52:42.125Z"
      },
      {
        "duration": 51,
        "start_time": "2023-04-18T10:52:42.192Z"
      },
      {
        "duration": 16,
        "start_time": "2023-04-18T10:52:42.247Z"
      },
      {
        "duration": 24,
        "start_time": "2023-04-18T10:52:42.265Z"
      },
      {
        "duration": 26,
        "start_time": "2023-04-18T10:52:42.291Z"
      },
      {
        "duration": 74,
        "start_time": "2023-04-18T10:52:42.318Z"
      },
      {
        "duration": 22,
        "start_time": "2023-04-18T10:52:42.394Z"
      },
      {
        "duration": 15,
        "start_time": "2023-04-18T10:52:42.418Z"
      },
      {
        "duration": 25,
        "start_time": "2023-04-18T10:52:42.436Z"
      },
      {
        "duration": 36,
        "start_time": "2023-04-18T10:52:42.464Z"
      },
      {
        "duration": 24,
        "start_time": "2023-04-18T10:52:42.502Z"
      },
      {
        "duration": 62,
        "start_time": "2023-04-18T10:52:42.527Z"
      },
      {
        "duration": 176,
        "start_time": "2023-04-18T10:52:42.591Z"
      },
      {
        "duration": 10850,
        "start_time": "2023-04-18T10:52:42.771Z"
      },
      {
        "duration": 52,
        "start_time": "2023-04-18T10:52:53.623Z"
      },
      {
        "duration": 8,
        "start_time": "2023-04-18T10:52:53.767Z"
      },
      {
        "duration": 16282,
        "start_time": "2023-04-18T10:52:53.776Z"
      },
      {
        "duration": 13869,
        "start_time": "2023-04-18T10:53:10.060Z"
      },
      {
        "duration": 948,
        "start_time": "2023-04-18T10:53:23.931Z"
      },
      {
        "duration": 217,
        "start_time": "2023-04-18T10:53:24.881Z"
      },
      {
        "duration": 513,
        "start_time": "2023-04-18T11:34:56.680Z"
      },
      {
        "duration": 1630,
        "start_time": "2023-04-18T11:37:08.534Z"
      },
      {
        "duration": 4,
        "start_time": "2023-04-18T11:37:51.387Z"
      },
      {
        "duration": 1339,
        "start_time": "2023-04-18T11:38:03.175Z"
      },
      {
        "duration": 1442,
        "start_time": "2023-04-18T11:38:16.364Z"
      },
      {
        "duration": 1432,
        "start_time": "2023-04-18T11:38:36.526Z"
      },
      {
        "duration": 1509,
        "start_time": "2023-04-18T11:38:46.622Z"
      },
      {
        "duration": 166,
        "start_time": "2023-04-18T11:39:43.011Z"
      },
      {
        "duration": 183,
        "start_time": "2023-04-18T11:39:49.722Z"
      },
      {
        "duration": 432,
        "start_time": "2023-04-18T11:39:57.276Z"
      },
      {
        "duration": 26,
        "start_time": "2023-04-18T11:40:50.068Z"
      },
      {
        "duration": 1778,
        "start_time": "2023-04-18T11:41:15.798Z"
      },
      {
        "duration": 45,
        "start_time": "2023-04-18T11:41:17.581Z"
      },
      {
        "duration": 23,
        "start_time": "2023-04-18T11:41:17.627Z"
      },
      {
        "duration": 115,
        "start_time": "2023-04-18T11:41:17.655Z"
      },
      {
        "duration": 21,
        "start_time": "2023-04-18T11:41:17.772Z"
      },
      {
        "duration": 99,
        "start_time": "2023-04-18T11:41:17.799Z"
      },
      {
        "duration": 22,
        "start_time": "2023-04-18T11:41:17.899Z"
      },
      {
        "duration": 1147,
        "start_time": "2023-04-18T11:41:17.922Z"
      },
      {
        "duration": 19,
        "start_time": "2023-04-18T11:41:19.072Z"
      },
      {
        "duration": 13,
        "start_time": "2023-04-18T11:41:19.092Z"
      },
      {
        "duration": 52,
        "start_time": "2023-04-18T11:41:19.106Z"
      },
      {
        "duration": 44,
        "start_time": "2023-04-18T11:41:19.160Z"
      },
      {
        "duration": 7,
        "start_time": "2023-04-18T11:41:19.205Z"
      },
      {
        "duration": 12,
        "start_time": "2023-04-18T11:41:19.214Z"
      },
      {
        "duration": 74,
        "start_time": "2023-04-18T11:41:19.227Z"
      },
      {
        "duration": 101,
        "start_time": "2023-04-18T11:41:19.303Z"
      },
      {
        "duration": 12,
        "start_time": "2023-04-18T11:41:19.406Z"
      },
      {
        "duration": 13,
        "start_time": "2023-04-18T11:41:19.420Z"
      },
      {
        "duration": 173,
        "start_time": "2023-04-18T11:41:19.436Z"
      },
      {
        "duration": 8374,
        "start_time": "2023-04-18T11:41:19.611Z"
      },
      {
        "duration": 63,
        "start_time": "2023-04-18T11:41:27.987Z"
      },
      {
        "duration": 98,
        "start_time": "2023-04-18T11:41:28.056Z"
      },
      {
        "duration": 13186,
        "start_time": "2023-04-18T11:41:28.155Z"
      },
      {
        "duration": 11800,
        "start_time": "2023-04-18T11:41:41.343Z"
      },
      {
        "duration": 832,
        "start_time": "2023-04-18T11:41:53.150Z"
      },
      {
        "duration": 167,
        "start_time": "2023-04-18T11:41:53.989Z"
      },
      {
        "duration": 1634,
        "start_time": "2023-04-18T11:52:19.275Z"
      },
      {
        "duration": 77,
        "start_time": "2023-04-18T11:52:20.911Z"
      },
      {
        "duration": 61,
        "start_time": "2023-04-18T11:52:20.992Z"
      },
      {
        "duration": 134,
        "start_time": "2023-04-18T11:52:21.057Z"
      },
      {
        "duration": 102,
        "start_time": "2023-04-18T11:52:21.195Z"
      },
      {
        "duration": 79,
        "start_time": "2023-04-18T11:52:21.299Z"
      },
      {
        "duration": 45,
        "start_time": "2023-04-18T11:52:21.379Z"
      },
      {
        "duration": 1470,
        "start_time": "2023-04-18T11:52:21.426Z"
      },
      {
        "duration": 61,
        "start_time": "2023-04-18T11:52:22.898Z"
      },
      {
        "duration": 49,
        "start_time": "2023-04-18T11:52:22.962Z"
      },
      {
        "duration": 62,
        "start_time": "2023-04-18T11:52:23.012Z"
      },
      {
        "duration": 77,
        "start_time": "2023-04-18T11:52:23.075Z"
      },
      {
        "duration": 22,
        "start_time": "2023-04-18T11:52:23.159Z"
      },
      {
        "duration": 61,
        "start_time": "2023-04-18T11:52:23.183Z"
      },
      {
        "duration": 98,
        "start_time": "2023-04-18T11:52:23.246Z"
      },
      {
        "duration": 124,
        "start_time": "2023-04-18T11:52:23.346Z"
      },
      {
        "duration": 26,
        "start_time": "2023-04-18T11:52:23.472Z"
      },
      {
        "duration": 57,
        "start_time": "2023-04-18T11:52:23.539Z"
      },
      {
        "duration": 285,
        "start_time": "2023-04-18T11:52:23.597Z"
      },
      {
        "duration": 10284,
        "start_time": "2023-04-18T11:52:23.889Z"
      },
      {
        "duration": 69,
        "start_time": "2023-04-18T11:52:34.178Z"
      },
      {
        "duration": 109,
        "start_time": "2023-04-18T11:52:34.248Z"
      },
      {
        "duration": 13419,
        "start_time": "2023-04-18T11:52:34.367Z"
      },
      {
        "duration": 11768,
        "start_time": "2023-04-18T11:52:47.797Z"
      },
      {
        "duration": 838,
        "start_time": "2023-04-18T11:52:59.567Z"
      },
      {
        "duration": 183,
        "start_time": "2023-04-18T11:53:00.407Z"
      },
      {
        "duration": 8,
        "start_time": "2023-04-18T11:54:10.718Z"
      },
      {
        "duration": 15,
        "start_time": "2023-04-18T11:54:19.763Z"
      },
      {
        "duration": 2868,
        "start_time": "2023-04-18T11:55:15.208Z"
      },
      {
        "duration": 1323,
        "start_time": "2023-04-18T11:56:56.191Z"
      },
      {
        "duration": 882,
        "start_time": "2023-04-18T11:58:25.651Z"
      },
      {
        "duration": 1607,
        "start_time": "2023-04-18T12:00:49.987Z"
      },
      {
        "duration": 63,
        "start_time": "2023-04-18T12:00:51.630Z"
      },
      {
        "duration": 15,
        "start_time": "2023-04-18T12:00:52.221Z"
      },
      {
        "duration": 60,
        "start_time": "2023-04-18T12:00:53.162Z"
      },
      {
        "duration": 15,
        "start_time": "2023-04-18T12:00:53.382Z"
      },
      {
        "duration": 17,
        "start_time": "2023-04-18T12:00:53.579Z"
      },
      {
        "duration": 57,
        "start_time": "2023-04-18T12:00:57.230Z"
      },
      {
        "duration": 1132,
        "start_time": "2023-04-18T12:00:58.883Z"
      },
      {
        "duration": 11,
        "start_time": "2023-04-18T12:01:04.183Z"
      },
      {
        "duration": 6,
        "start_time": "2023-04-18T12:01:11.678Z"
      },
      {
        "duration": 24,
        "start_time": "2023-04-18T12:01:18.266Z"
      },
      {
        "duration": 21,
        "start_time": "2023-04-18T12:01:23.469Z"
      },
      {
        "duration": 11,
        "start_time": "2023-04-18T12:01:27.979Z"
      },
      {
        "duration": 11,
        "start_time": "2023-04-18T12:01:31.480Z"
      },
      {
        "duration": 11,
        "start_time": "2023-04-18T12:01:43.775Z"
      },
      {
        "duration": 38,
        "start_time": "2023-04-18T12:06:39.390Z"
      },
      {
        "duration": 9,
        "start_time": "2023-04-18T12:08:49.476Z"
      },
      {
        "duration": 42,
        "start_time": "2023-04-18T12:13:48.556Z"
      },
      {
        "duration": 47,
        "start_time": "2023-04-18T12:15:11.931Z"
      },
      {
        "duration": 123,
        "start_time": "2023-04-18T12:15:31.986Z"
      },
      {
        "duration": 8891,
        "start_time": "2023-04-18T12:15:39.291Z"
      },
      {
        "duration": 9503,
        "start_time": "2023-04-18T12:15:57.771Z"
      },
      {
        "duration": 49,
        "start_time": "2023-04-18T12:16:26.448Z"
      },
      {
        "duration": 84,
        "start_time": "2023-04-18T12:16:46.766Z"
      },
      {
        "duration": 11,
        "start_time": "2023-04-18T12:23:06.861Z"
      },
      {
        "duration": 13745,
        "start_time": "2023-04-18T12:23:33.525Z"
      },
      {
        "duration": 13199,
        "start_time": "2023-04-18T12:24:03.044Z"
      },
      {
        "duration": 14121,
        "start_time": "2023-04-18T12:24:34.128Z"
      },
      {
        "duration": 6365,
        "start_time": "2023-04-18T12:25:00.362Z"
      },
      {
        "duration": 15365,
        "start_time": "2023-04-18T12:25:38.378Z"
      },
      {
        "duration": 904,
        "start_time": "2023-04-18T12:26:52.498Z"
      },
      {
        "duration": 1177,
        "start_time": "2023-04-18T12:27:45.078Z"
      },
      {
        "duration": 1441,
        "start_time": "2023-04-18T12:27:52.464Z"
      },
      {
        "duration": 1355,
        "start_time": "2023-04-18T12:28:07.263Z"
      },
      {
        "duration": 262,
        "start_time": "2023-04-18T12:32:30.724Z"
      },
      {
        "duration": 113,
        "start_time": "2023-04-18T12:33:13.331Z"
      },
      {
        "duration": 124,
        "start_time": "2023-04-18T12:33:50.827Z"
      },
      {
        "duration": 1757,
        "start_time": "2023-04-18T12:40:33.730Z"
      },
      {
        "duration": 68,
        "start_time": "2023-04-18T12:40:35.493Z"
      },
      {
        "duration": 38,
        "start_time": "2023-04-18T12:40:35.572Z"
      },
      {
        "duration": 82,
        "start_time": "2023-04-18T12:40:35.616Z"
      },
      {
        "duration": 54,
        "start_time": "2023-04-18T12:40:35.705Z"
      },
      {
        "duration": 89,
        "start_time": "2023-04-18T12:40:35.763Z"
      },
      {
        "duration": 83,
        "start_time": "2023-04-18T12:40:35.855Z"
      },
      {
        "duration": 1382,
        "start_time": "2023-04-18T12:40:35.942Z"
      },
      {
        "duration": 39,
        "start_time": "2023-04-18T12:40:37.327Z"
      },
      {
        "duration": 38,
        "start_time": "2023-04-18T12:40:37.367Z"
      },
      {
        "duration": 54,
        "start_time": "2023-04-18T12:40:37.408Z"
      },
      {
        "duration": 95,
        "start_time": "2023-04-18T12:40:37.463Z"
      },
      {
        "duration": 38,
        "start_time": "2023-04-18T12:40:37.560Z"
      },
      {
        "duration": 40,
        "start_time": "2023-04-18T12:40:37.601Z"
      },
      {
        "duration": 39,
        "start_time": "2023-04-18T12:40:37.646Z"
      },
      {
        "duration": 47,
        "start_time": "2023-04-18T12:40:37.691Z"
      },
      {
        "duration": 73,
        "start_time": "2023-04-18T12:40:37.749Z"
      },
      {
        "duration": 92,
        "start_time": "2023-04-18T12:40:37.824Z"
      },
      {
        "duration": 153,
        "start_time": "2023-04-18T12:40:37.920Z"
      },
      {
        "duration": 10561,
        "start_time": "2023-04-18T12:40:38.075Z"
      },
      {
        "duration": 133,
        "start_time": "2023-04-18T12:40:48.638Z"
      },
      {
        "duration": 88,
        "start_time": "2023-04-18T12:40:48.781Z"
      },
      {
        "duration": 6572,
        "start_time": "2023-04-18T12:40:48.873Z"
      },
      {
        "duration": 15866,
        "start_time": "2023-04-18T12:40:55.449Z"
      },
      {
        "duration": 1267,
        "start_time": "2023-04-18T12:41:11.317Z"
      },
      {
        "duration": 111,
        "start_time": "2023-04-18T12:41:12.592Z"
      },
      {
        "duration": 189,
        "start_time": "2023-04-18T12:45:16.284Z"
      },
      {
        "duration": 33,
        "start_time": "2023-04-18T12:45:27.027Z"
      },
      {
        "duration": 1470,
        "start_time": "2023-04-18T12:46:45.625Z"
      },
      {
        "duration": 1314,
        "start_time": "2023-04-18T12:46:58.906Z"
      },
      {
        "duration": 1464,
        "start_time": "2023-04-19T07:38:58.019Z"
      },
      {
        "duration": 152,
        "start_time": "2023-04-19T07:38:59.485Z"
      },
      {
        "duration": 11,
        "start_time": "2023-04-19T07:38:59.639Z"
      },
      {
        "duration": 42,
        "start_time": "2023-04-19T07:38:59.651Z"
      },
      {
        "duration": 12,
        "start_time": "2023-04-19T07:38:59.695Z"
      },
      {
        "duration": 16,
        "start_time": "2023-04-19T07:38:59.708Z"
      },
      {
        "duration": 24,
        "start_time": "2023-04-19T07:38:59.726Z"
      },
      {
        "duration": 1161,
        "start_time": "2023-04-19T07:38:59.751Z"
      },
      {
        "duration": 10,
        "start_time": "2023-04-19T07:39:00.914Z"
      },
      {
        "duration": 26,
        "start_time": "2023-04-19T07:39:00.925Z"
      },
      {
        "duration": 55,
        "start_time": "2023-04-19T07:39:00.953Z"
      },
      {
        "duration": 61,
        "start_time": "2023-04-19T07:39:01.010Z"
      },
      {
        "duration": 22,
        "start_time": "2023-04-19T07:39:01.073Z"
      },
      {
        "duration": 38,
        "start_time": "2023-04-19T07:39:01.098Z"
      },
      {
        "duration": 27,
        "start_time": "2023-04-19T07:39:01.138Z"
      },
      {
        "duration": 30,
        "start_time": "2023-04-19T07:39:01.167Z"
      },
      {
        "duration": 53,
        "start_time": "2023-04-19T07:39:01.199Z"
      },
      {
        "duration": 52,
        "start_time": "2023-04-19T07:39:01.254Z"
      },
      {
        "duration": 123,
        "start_time": "2023-04-19T07:39:01.308Z"
      },
      {
        "duration": 7496,
        "start_time": "2023-04-19T07:39:01.432Z"
      },
      {
        "duration": 66,
        "start_time": "2023-04-19T07:39:08.929Z"
      },
      {
        "duration": 97,
        "start_time": "2023-04-19T07:39:08.997Z"
      },
      {
        "duration": 4862,
        "start_time": "2023-04-19T07:39:09.096Z"
      },
      {
        "duration": 11329,
        "start_time": "2023-04-19T07:39:13.959Z"
      },
      {
        "duration": 917,
        "start_time": "2023-04-19T07:39:25.289Z"
      },
      {
        "duration": 78,
        "start_time": "2023-04-19T07:39:26.208Z"
      }
    ],
    "kernelspec": {
      "display_name": "Python 3 (ipykernel)",
      "language": "python",
      "name": "python3"
    },
    "language_info": {
      "codemirror_mode": {
        "name": "ipython",
        "version": 3
      },
      "file_extension": ".py",
      "mimetype": "text/x-python",
      "name": "python",
      "nbconvert_exporter": "python",
      "pygments_lexer": "ipython3",
      "version": "3.9.5"
    },
    "toc": {
      "base_numbering": 1,
      "nav_menu": {},
      "number_sections": true,
      "sideBar": true,
      "skip_h1_title": true,
      "title_cell": "Содержание",
      "title_sidebar": "Contents",
      "toc_cell": true,
      "toc_position": {
        "height": "calc(100% - 180px)",
        "left": "10px",
        "top": "150px",
        "width": "210.387px"
      },
      "toc_section_display": true,
      "toc_window_display": true
    },
    "colab": {
      "provenance": []
    }
  },
  "nbformat": 4,
  "nbformat_minor": 0
}