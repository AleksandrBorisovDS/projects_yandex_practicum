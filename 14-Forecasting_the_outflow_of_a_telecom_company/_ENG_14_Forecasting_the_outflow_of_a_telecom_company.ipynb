{
  "cells": [
    {
      "cell_type": "markdown",
      "metadata": {
        "id": "PhkXcpr-mFqR"
      },
      "source": [
        "# PROJECT\n",
        "# development of a machine learning model for predicting customer churn for a telecommunications company"
      ]
    },
    {
      "cell_type": "markdown",
      "metadata": {
        "id": "4QQxiVplmFqS"
      },
      "source": [
        "## Formulation of the problem\n",
        "\n",
        "The telecom operator **Niedinogorazryva.com** wants to learn how to predict customer outflow.\n",
        "\n",
        "If it turns out that the user is planning to leave, they will be offered promotional codes and special conditions.\n",
        "\n",
        "Historical data available, incl. personal data about some clients, information about their tariffs and contracts.\n",
        "\n",
        "**Description of services**\n",
        "\n",
        "The operator provides two main types of services:\n",
        "\n",
        "- Landline telephone connection. It is possible to connect a telephone set to several lines simultaneously.\n",
        "- Internet. The connection can be of two types: via a telephone line (DSL, from the English digital subscriber line, “digital subscriber line”) or fiber optic cable (Fiber optic).\n",
        "\n",
        "The following services are also available:\n",
        "\n",
        "Internet security: antivirus (DeviceProtection) and blocking of unsafe sites (OnlineSecurity);\n",
        "\n",
        "Dedicated technical support line (TechSupport);\n",
        "\n",
        "Cloud file storage for data backup (OnlineBackup);\n",
        "\n",
        "Streaming television (StreamingTV) and movie catalog (StreamingMovies).\n",
        "\n",
        "Clients can pay for services every month or sign a contract for 1–2 years. Various payment methods and the ability to receive an electronic receipt are available.\n",
        "\n",
        "**Description of data**\n",
        "\n",
        "The data is presented in 4 tables:\n",
        "\n",
        "- contract_new.csv — information about the contract;\n",
        "- personal_new.csv — client’s personal data;\n",
        "- internet_new.csv — information about Internet services;\n",
        "- phone_new.csv — information about telephony services.\n",
        "\n",
        "In all files, the customerID column contains the customer ID.\n",
        "\n",
        "\n",
        "The data is located in the /datasets/ folder.\n",
        "\n",
        "Information about contracts is current as of **01 February 2020**.\n",
        "\n",
        "**Formulation of the problem**\n",
        "\n",
        "It is necessary to form a machine learning model that predicts, based on historical data, whether a customer plans to leave or not. Those. it is necessary to solve **classification problem, supervised learning**. Train a model that determines the client’s desire to refuse the company’s services in order not to lose him and promptly offer promotional codes and special conditions.\n",
        "\n",
        "Quality metric of the resulting model: **AUC-ROC**\n",
        "\n",
        "Required metric value: **more than 0.85**."
      ]
    },
    {
      "cell_type": "markdown",
      "metadata": {
        "id": "aI-wUPSHmFqT"
      },
      "source": [
        "## Project Execution Plan\n",
        "\n",
        "**1. Pre-processing and exploratory data analysis**\n",
        "- Loading data from files\n",
        "- Combining data into one dataset\n",
        "- Data preprocessing\n",
        "- Bringing data to correct formats\n",
        "- Filling in the blanks\n",
        "- Study of anomalies\n",
        "- Study of correlation between data\n",
        "- Elimination of redundant data\n",
        "\n",
        "**2. Preparing data for training models and training multiple models**\n",
        "- Dividing the data into training and test samples, in a ratio of 3:1\n",
        "- Coding of features: categorical and numeric\n",
        "- Training of several models (at least 3) with selection of the best hyperparameters\n",
        "- Selecting the best model on the training set\n",
        "- Checking the best model on a test sample\n",
        "\n",
        "**3. Generation of the final report**\n",
        "- Summarizing data on the completed project and formulating the final conclusion, incl. study of the importance of features and the formation and interpretation of an error matrix\n",
        "- Indication of the best model with its hyperparameters\n",
        "- List of features on which the model was trained."
      ]
    },
    {
      "cell_type": "markdown",
      "metadata": {
        "id": "0OzkEqBImFqU"
      },
      "source": [
        "## Pre-processing and exploratory data analysis"
      ]
    },
    {
      "cell_type": "code",
      "execution_count": null,
      "metadata": {
        "id": "RlIozv_DmFqU",
        "outputId": "167fc036-533c-40c6-b6af-3062d35b34f1"
      },
      "outputs": [
        {
          "name": "stdout",
          "output_type": "stream",
          "text": [
            "Collecting phik\n",
            "  Downloading phik-0.12.3-cp39-cp39-manylinux_2_17_x86_64.manylinux2014_x86_64.whl (679 kB)\n",
            "\u001b[K     |████████████████████████████████| 679 kB 1.1 MB/s eta 0:00:01\n",
            "\u001b[?25hRequirement already satisfied: matplotlib>=2.2.3 in /opt/conda/lib/python3.9/site-packages (from phik) (3.3.4)\n",
            "Requirement already satisfied: pandas>=0.25.1 in /opt/conda/lib/python3.9/site-packages (from phik) (1.2.4)\n",
            "Requirement already satisfied: numpy>=1.18.0 in /opt/conda/lib/python3.9/site-packages (from phik) (1.21.1)\n",
            "Requirement already satisfied: scipy>=1.5.2 in /opt/conda/lib/python3.9/site-packages (from phik) (1.9.1)\n",
            "Requirement already satisfied: joblib>=0.14.1 in /opt/conda/lib/python3.9/site-packages (from phik) (1.1.0)\n",
            "Requirement already satisfied: pyparsing!=2.0.4,!=2.1.2,!=2.1.6,>=2.0.3 in /opt/conda/lib/python3.9/site-packages (from matplotlib>=2.2.3->phik) (2.4.7)\n",
            "Requirement already satisfied: python-dateutil>=2.1 in /opt/conda/lib/python3.9/site-packages (from matplotlib>=2.2.3->phik) (2.8.1)\n",
            "Requirement already satisfied: pillow>=6.2.0 in /opt/conda/lib/python3.9/site-packages (from matplotlib>=2.2.3->phik) (8.4.0)\n",
            "Requirement already satisfied: cycler>=0.10 in /opt/conda/lib/python3.9/site-packages (from matplotlib>=2.2.3->phik) (0.11.0)\n",
            "Requirement already satisfied: kiwisolver>=1.0.1 in /opt/conda/lib/python3.9/site-packages (from matplotlib>=2.2.3->phik) (1.4.4)\n",
            "Requirement already satisfied: pytz>=2017.3 in /opt/conda/lib/python3.9/site-packages (from pandas>=0.25.1->phik) (2021.1)\n",
            "Requirement already satisfied: six>=1.5 in /opt/conda/lib/python3.9/site-packages (from python-dateutil>=2.1->matplotlib>=2.2.3->phik) (1.16.0)\n",
            "Installing collected packages: phik\n",
            "Successfully installed phik-0.12.3\n",
            "Note: you may need to restart the kernel to use updated packages.\n"
          ]
        }
      ],
      "source": [
        "pip install phik"
      ]
    },
    {
      "cell_type": "code",
      "execution_count": null,
      "metadata": {
        "id": "25h_-m-JmFqW"
      },
      "outputs": [],
      "source": [
        "import pandas as pd\n",
        "import numpy as np\n",
        "import phik\n",
        "import re\n",
        "\n",
        "import seaborn as sns\n",
        "import matplotlib.pyplot as plt\n",
        "from phik.report import plot_correlation_matrix\n",
        "\n",
        "from functools import reduce\n",
        "\n",
        "from sklearn.preprocessing import StandardScaler, OneHotEncoder\n",
        "\n",
        "from sklearn.pipeline import Pipeline\n",
        "from sklearn.pipeline import make_pipeline\n",
        "\n",
        "from sklearn.compose import ColumnTransformer\n",
        "\n",
        "from sklearn.linear_model import LogisticRegression\n",
        "from sklearn.ensemble import RandomForestClassifier\n",
        "from catboost import CatBoostClassifier, Pool\n",
        "\n",
        "from sklearn.model_selection import GridSearchCV\n",
        "from sklearn.feature_selection import SelectFromModel\n",
        "\n",
        "from sklearn.model_selection import train_test_split as tts\n",
        "\n",
        "from sklearn.metrics import roc_auc_score as roc_auc\n",
        "from sklearn.metrics import accuracy_score as acc\n",
        "\n",
        "from sklearn.metrics import confusion_matrix, ConfusionMatrixDisplay\n",
        "\n",
        "import warnings\n",
        "warnings.filterwarnings('ignore')"
      ]
    },
    {
      "cell_type": "markdown",
      "metadata": {
        "id": "qRiFpXBUmFqW"
      },
      "source": [
        "Loading data from files:"
      ]
    },
    {
      "cell_type": "code",
      "execution_count": null,
      "metadata": {
        "id": "Vwrt3mepmFqW"
      },
      "outputs": [],
      "source": [
        "df_c = pd.read_csv('/datasets/contract_new.csv', index_col = 'customerID', parse_dates = ['BeginDate', 'EndDate'])\n",
        "df_pd = pd.read_csv('/datasets/personal_new.csv', index_col = 'customerID')\n",
        "df_int = pd.read_csv('/datasets/internet_new.csv', index_col = 'customerID')\n",
        "df_phone = pd.read_csv('/datasets/phone_new.csv', index_col = 'customerID')"
      ]
    },
    {
      "cell_type": "markdown",
      "metadata": {
        "id": "pNjPTR67mFqX"
      },
      "source": [
        "### Data overview"
      ]
    },
    {
      "cell_type": "markdown",
      "metadata": {
        "id": "0uOwmAJMmFqX"
      },
      "source": [
        "We create a data review function from downloaded files"
      ]
    },
    {
      "cell_type": "code",
      "execution_count": null,
      "metadata": {
        "id": "fWZHgMB9mFqX"
      },
      "outputs": [],
      "source": [
        "def df_info(df):\n",
        "    df.info()\n",
        "    print()\n",
        "    display(df.shape)\n",
        "    print()\n",
        "    display(df.describe())\n",
        "    print()\n",
        "    display(df.head(10))"
      ]
    },
    {
      "cell_type": "markdown",
      "metadata": {
        "id": "Hy2ce7PJmFqX"
      },
      "source": [
        "**Dataset overview 'contract'**"
      ]
    },
    {
      "cell_type": "code",
      "execution_count": null,
      "metadata": {
        "id": "8D7MEtwsmFqX",
        "outputId": "6aa25b87-b1ce-4ab1-bac7-976f01a61470"
      },
      "outputs": [
        {
          "name": "stdout",
          "output_type": "stream",
          "text": [
            "<class 'pandas.core.frame.DataFrame'>\n",
            "Index: 7043 entries, 7590-VHVEG to 3186-AJIEK\n",
            "Data columns (total 7 columns):\n",
            " #   Column            Non-Null Count  Dtype         \n",
            "---  ------            --------------  -----         \n",
            " 0   BeginDate         7043 non-null   datetime64[ns]\n",
            " 1   EndDate           7043 non-null   object        \n",
            " 2   Type              7043 non-null   object        \n",
            " 3   PaperlessBilling  7043 non-null   object        \n",
            " 4   PaymentMethod     7043 non-null   object        \n",
            " 5   MonthlyCharges    7043 non-null   float64       \n",
            " 6   TotalCharges      7043 non-null   object        \n",
            "dtypes: datetime64[ns](1), float64(1), object(5)\n",
            "memory usage: 440.2+ KB\n",
            "\n"
          ]
        },
        {
          "data": {
            "text/plain": [
              "(7043, 7)"
            ]
          },
          "metadata": {},
          "output_type": "display_data"
        },
        {
          "name": "stdout",
          "output_type": "stream",
          "text": [
            "\n"
          ]
        },
        {
          "data": {
            "text/html": [
              "<div>\n",
              "<style scoped>\n",
              "    .dataframe tbody tr th:only-of-type {\n",
              "        vertical-align: middle;\n",
              "    }\n",
              "\n",
              "    .dataframe tbody tr th {\n",
              "        vertical-align: top;\n",
              "    }\n",
              "\n",
              "    .dataframe thead th {\n",
              "        text-align: right;\n",
              "    }\n",
              "</style>\n",
              "<table border=\"1\" class=\"dataframe\">\n",
              "  <thead>\n",
              "    <tr style=\"text-align: right;\">\n",
              "      <th></th>\n",
              "      <th>MonthlyCharges</th>\n",
              "    </tr>\n",
              "  </thead>\n",
              "  <tbody>\n",
              "    <tr>\n",
              "      <th>count</th>\n",
              "      <td>7043.000000</td>\n",
              "    </tr>\n",
              "    <tr>\n",
              "      <th>mean</th>\n",
              "      <td>64.761692</td>\n",
              "    </tr>\n",
              "    <tr>\n",
              "      <th>std</th>\n",
              "      <td>30.090047</td>\n",
              "    </tr>\n",
              "    <tr>\n",
              "      <th>min</th>\n",
              "      <td>18.250000</td>\n",
              "    </tr>\n",
              "    <tr>\n",
              "      <th>25%</th>\n",
              "      <td>35.500000</td>\n",
              "    </tr>\n",
              "    <tr>\n",
              "      <th>50%</th>\n",
              "      <td>70.350000</td>\n",
              "    </tr>\n",
              "    <tr>\n",
              "      <th>75%</th>\n",
              "      <td>89.850000</td>\n",
              "    </tr>\n",
              "    <tr>\n",
              "      <th>max</th>\n",
              "      <td>118.750000</td>\n",
              "    </tr>\n",
              "  </tbody>\n",
              "</table>\n",
              "</div>"
            ],
            "text/plain": [
              "       MonthlyCharges\n",
              "count     7043.000000\n",
              "mean        64.761692\n",
              "std         30.090047\n",
              "min         18.250000\n",
              "25%         35.500000\n",
              "50%         70.350000\n",
              "75%         89.850000\n",
              "max        118.750000"
            ]
          },
          "metadata": {},
          "output_type": "display_data"
        },
        {
          "name": "stdout",
          "output_type": "stream",
          "text": [
            "\n"
          ]
        },
        {
          "data": {
            "text/html": [
              "<div>\n",
              "<style scoped>\n",
              "    .dataframe tbody tr th:only-of-type {\n",
              "        vertical-align: middle;\n",
              "    }\n",
              "\n",
              "    .dataframe tbody tr th {\n",
              "        vertical-align: top;\n",
              "    }\n",
              "\n",
              "    .dataframe thead th {\n",
              "        text-align: right;\n",
              "    }\n",
              "</style>\n",
              "<table border=\"1\" class=\"dataframe\">\n",
              "  <thead>\n",
              "    <tr style=\"text-align: right;\">\n",
              "      <th></th>\n",
              "      <th>BeginDate</th>\n",
              "      <th>EndDate</th>\n",
              "      <th>Type</th>\n",
              "      <th>PaperlessBilling</th>\n",
              "      <th>PaymentMethod</th>\n",
              "      <th>MonthlyCharges</th>\n",
              "      <th>TotalCharges</th>\n",
              "    </tr>\n",
              "    <tr>\n",
              "      <th>customerID</th>\n",
              "      <th></th>\n",
              "      <th></th>\n",
              "      <th></th>\n",
              "      <th></th>\n",
              "      <th></th>\n",
              "      <th></th>\n",
              "      <th></th>\n",
              "    </tr>\n",
              "  </thead>\n",
              "  <tbody>\n",
              "    <tr>\n",
              "      <th>7590-VHVEG</th>\n",
              "      <td>2020-01-01</td>\n",
              "      <td>No</td>\n",
              "      <td>Month-to-month</td>\n",
              "      <td>Yes</td>\n",
              "      <td>Electronic check</td>\n",
              "      <td>29.85</td>\n",
              "      <td>31.04</td>\n",
              "    </tr>\n",
              "    <tr>\n",
              "      <th>5575-GNVDE</th>\n",
              "      <td>2017-04-01</td>\n",
              "      <td>No</td>\n",
              "      <td>One year</td>\n",
              "      <td>No</td>\n",
              "      <td>Mailed check</td>\n",
              "      <td>56.95</td>\n",
              "      <td>2071.84</td>\n",
              "    </tr>\n",
              "    <tr>\n",
              "      <th>3668-QPYBK</th>\n",
              "      <td>2019-10-01</td>\n",
              "      <td>No</td>\n",
              "      <td>Month-to-month</td>\n",
              "      <td>Yes</td>\n",
              "      <td>Mailed check</td>\n",
              "      <td>53.85</td>\n",
              "      <td>226.17</td>\n",
              "    </tr>\n",
              "    <tr>\n",
              "      <th>7795-CFOCW</th>\n",
              "      <td>2016-05-01</td>\n",
              "      <td>No</td>\n",
              "      <td>One year</td>\n",
              "      <td>No</td>\n",
              "      <td>Bank transfer (automatic)</td>\n",
              "      <td>42.30</td>\n",
              "      <td>1960.6</td>\n",
              "    </tr>\n",
              "    <tr>\n",
              "      <th>9237-HQITU</th>\n",
              "      <td>2019-09-01</td>\n",
              "      <td>No</td>\n",
              "      <td>Month-to-month</td>\n",
              "      <td>Yes</td>\n",
              "      <td>Electronic check</td>\n",
              "      <td>70.70</td>\n",
              "      <td>353.5</td>\n",
              "    </tr>\n",
              "    <tr>\n",
              "      <th>9305-CDSKC</th>\n",
              "      <td>2019-03-01</td>\n",
              "      <td>No</td>\n",
              "      <td>Month-to-month</td>\n",
              "      <td>Yes</td>\n",
              "      <td>Electronic check</td>\n",
              "      <td>99.65</td>\n",
              "      <td>1150.96</td>\n",
              "    </tr>\n",
              "    <tr>\n",
              "      <th>1452-KIOVK</th>\n",
              "      <td>2018-04-01</td>\n",
              "      <td>No</td>\n",
              "      <td>Month-to-month</td>\n",
              "      <td>Yes</td>\n",
              "      <td>Credit card (automatic)</td>\n",
              "      <td>89.10</td>\n",
              "      <td>2058.21</td>\n",
              "    </tr>\n",
              "    <tr>\n",
              "      <th>6713-OKOMC</th>\n",
              "      <td>2019-04-01</td>\n",
              "      <td>No</td>\n",
              "      <td>Month-to-month</td>\n",
              "      <td>No</td>\n",
              "      <td>Mailed check</td>\n",
              "      <td>29.75</td>\n",
              "      <td>300.48</td>\n",
              "    </tr>\n",
              "    <tr>\n",
              "      <th>7892-POOKP</th>\n",
              "      <td>2017-07-01</td>\n",
              "      <td>No</td>\n",
              "      <td>Month-to-month</td>\n",
              "      <td>Yes</td>\n",
              "      <td>Electronic check</td>\n",
              "      <td>104.80</td>\n",
              "      <td>3573.68</td>\n",
              "    </tr>\n",
              "    <tr>\n",
              "      <th>6388-TABGU</th>\n",
              "      <td>2014-12-01</td>\n",
              "      <td>2017-05-01</td>\n",
              "      <td>One year</td>\n",
              "      <td>No</td>\n",
              "      <td>Bank transfer (automatic)</td>\n",
              "      <td>56.15</td>\n",
              "      <td>1628.35</td>\n",
              "    </tr>\n",
              "  </tbody>\n",
              "</table>\n",
              "</div>"
            ],
            "text/plain": [
              "            BeginDate     EndDate            Type PaperlessBilling  \\\n",
              "customerID                                                           \n",
              "7590-VHVEG 2020-01-01          No  Month-to-month              Yes   \n",
              "5575-GNVDE 2017-04-01          No        One year               No   \n",
              "3668-QPYBK 2019-10-01          No  Month-to-month              Yes   \n",
              "7795-CFOCW 2016-05-01          No        One year               No   \n",
              "9237-HQITU 2019-09-01          No  Month-to-month              Yes   \n",
              "9305-CDSKC 2019-03-01          No  Month-to-month              Yes   \n",
              "1452-KIOVK 2018-04-01          No  Month-to-month              Yes   \n",
              "6713-OKOMC 2019-04-01          No  Month-to-month               No   \n",
              "7892-POOKP 2017-07-01          No  Month-to-month              Yes   \n",
              "6388-TABGU 2014-12-01  2017-05-01        One year               No   \n",
              "\n",
              "                        PaymentMethod  MonthlyCharges TotalCharges  \n",
              "customerID                                                          \n",
              "7590-VHVEG           Electronic check           29.85        31.04  \n",
              "5575-GNVDE               Mailed check           56.95      2071.84  \n",
              "3668-QPYBK               Mailed check           53.85       226.17  \n",
              "7795-CFOCW  Bank transfer (automatic)           42.30       1960.6  \n",
              "9237-HQITU           Electronic check           70.70        353.5  \n",
              "9305-CDSKC           Electronic check           99.65      1150.96  \n",
              "1452-KIOVK    Credit card (automatic)           89.10      2058.21  \n",
              "6713-OKOMC               Mailed check           29.75       300.48  \n",
              "7892-POOKP           Electronic check          104.80      3573.68  \n",
              "6388-TABGU  Bank transfer (automatic)           56.15      1628.35  "
            ]
          },
          "metadata": {},
          "output_type": "display_data"
        }
      ],
      "source": [
        "df_info(df_c)"
      ]
    },
    {
      "cell_type": "markdown",
      "metadata": {
        "id": "gcFLHSx_mFqX"
      },
      "source": [
        "The 'EndDate' column was loaded with the 'object' type because... it contains 'No' values, implying that the client is still a client; to work with this column in the future, it will be necessary to replace this value with a date. Considering that the date of data upload (=data actuality date) = 02/01/2020, in the future, we will replace the value 'No' with this date.\n",
        "The 'TotalCharges' column is also loaded with type 'object', you will need to convert it to type 'float64' later.\n",
        "There are no gaps in the data."
      ]
    },
    {
      "cell_type": "markdown",
      "metadata": {
        "id": "WdT9fESWmFqY"
      },
      "source": [
        "**Dataset overview 'personal'**"
      ]
    },
    {
      "cell_type": "code",
      "execution_count": null,
      "metadata": {
        "id": "OVSWTU1OmFqY",
        "outputId": "09cc2dcf-591d-4d15-af1b-c80c6fef4aeb"
      },
      "outputs": [
        {
          "name": "stdout",
          "output_type": "stream",
          "text": [
            "<class 'pandas.core.frame.DataFrame'>\n",
            "Index: 7043 entries, 7590-VHVEG to 3186-AJIEK\n",
            "Data columns (total 4 columns):\n",
            " #   Column         Non-Null Count  Dtype \n",
            "---  ------         --------------  ----- \n",
            " 0   gender         7043 non-null   object\n",
            " 1   SeniorCitizen  7043 non-null   int64 \n",
            " 2   Partner        7043 non-null   object\n",
            " 3   Dependents     7043 non-null   object\n",
            "dtypes: int64(1), object(3)\n",
            "memory usage: 275.1+ KB\n",
            "\n"
          ]
        },
        {
          "data": {
            "text/plain": [
              "(7043, 4)"
            ]
          },
          "metadata": {},
          "output_type": "display_data"
        },
        {
          "name": "stdout",
          "output_type": "stream",
          "text": [
            "\n"
          ]
        },
        {
          "data": {
            "text/html": [
              "<div>\n",
              "<style scoped>\n",
              "    .dataframe tbody tr th:only-of-type {\n",
              "        vertical-align: middle;\n",
              "    }\n",
              "\n",
              "    .dataframe tbody tr th {\n",
              "        vertical-align: top;\n",
              "    }\n",
              "\n",
              "    .dataframe thead th {\n",
              "        text-align: right;\n",
              "    }\n",
              "</style>\n",
              "<table border=\"1\" class=\"dataframe\">\n",
              "  <thead>\n",
              "    <tr style=\"text-align: right;\">\n",
              "      <th></th>\n",
              "      <th>SeniorCitizen</th>\n",
              "    </tr>\n",
              "  </thead>\n",
              "  <tbody>\n",
              "    <tr>\n",
              "      <th>count</th>\n",
              "      <td>7043.000000</td>\n",
              "    </tr>\n",
              "    <tr>\n",
              "      <th>mean</th>\n",
              "      <td>0.162147</td>\n",
              "    </tr>\n",
              "    <tr>\n",
              "      <th>std</th>\n",
              "      <td>0.368612</td>\n",
              "    </tr>\n",
              "    <tr>\n",
              "      <th>min</th>\n",
              "      <td>0.000000</td>\n",
              "    </tr>\n",
              "    <tr>\n",
              "      <th>25%</th>\n",
              "      <td>0.000000</td>\n",
              "    </tr>\n",
              "    <tr>\n",
              "      <th>50%</th>\n",
              "      <td>0.000000</td>\n",
              "    </tr>\n",
              "    <tr>\n",
              "      <th>75%</th>\n",
              "      <td>0.000000</td>\n",
              "    </tr>\n",
              "    <tr>\n",
              "      <th>max</th>\n",
              "      <td>1.000000</td>\n",
              "    </tr>\n",
              "  </tbody>\n",
              "</table>\n",
              "</div>"
            ],
            "text/plain": [
              "       SeniorCitizen\n",
              "count    7043.000000\n",
              "mean        0.162147\n",
              "std         0.368612\n",
              "min         0.000000\n",
              "25%         0.000000\n",
              "50%         0.000000\n",
              "75%         0.000000\n",
              "max         1.000000"
            ]
          },
          "metadata": {},
          "output_type": "display_data"
        },
        {
          "name": "stdout",
          "output_type": "stream",
          "text": [
            "\n"
          ]
        },
        {
          "data": {
            "text/html": [
              "<div>\n",
              "<style scoped>\n",
              "    .dataframe tbody tr th:only-of-type {\n",
              "        vertical-align: middle;\n",
              "    }\n",
              "\n",
              "    .dataframe tbody tr th {\n",
              "        vertical-align: top;\n",
              "    }\n",
              "\n",
              "    .dataframe thead th {\n",
              "        text-align: right;\n",
              "    }\n",
              "</style>\n",
              "<table border=\"1\" class=\"dataframe\">\n",
              "  <thead>\n",
              "    <tr style=\"text-align: right;\">\n",
              "      <th></th>\n",
              "      <th>gender</th>\n",
              "      <th>SeniorCitizen</th>\n",
              "      <th>Partner</th>\n",
              "      <th>Dependents</th>\n",
              "    </tr>\n",
              "    <tr>\n",
              "      <th>customerID</th>\n",
              "      <th></th>\n",
              "      <th></th>\n",
              "      <th></th>\n",
              "      <th></th>\n",
              "    </tr>\n",
              "  </thead>\n",
              "  <tbody>\n",
              "    <tr>\n",
              "      <th>7590-VHVEG</th>\n",
              "      <td>Female</td>\n",
              "      <td>0</td>\n",
              "      <td>Yes</td>\n",
              "      <td>No</td>\n",
              "    </tr>\n",
              "    <tr>\n",
              "      <th>5575-GNVDE</th>\n",
              "      <td>Male</td>\n",
              "      <td>0</td>\n",
              "      <td>No</td>\n",
              "      <td>No</td>\n",
              "    </tr>\n",
              "    <tr>\n",
              "      <th>3668-QPYBK</th>\n",
              "      <td>Male</td>\n",
              "      <td>0</td>\n",
              "      <td>No</td>\n",
              "      <td>No</td>\n",
              "    </tr>\n",
              "    <tr>\n",
              "      <th>7795-CFOCW</th>\n",
              "      <td>Male</td>\n",
              "      <td>0</td>\n",
              "      <td>No</td>\n",
              "      <td>No</td>\n",
              "    </tr>\n",
              "    <tr>\n",
              "      <th>9237-HQITU</th>\n",
              "      <td>Female</td>\n",
              "      <td>0</td>\n",
              "      <td>No</td>\n",
              "      <td>No</td>\n",
              "    </tr>\n",
              "    <tr>\n",
              "      <th>9305-CDSKC</th>\n",
              "      <td>Female</td>\n",
              "      <td>0</td>\n",
              "      <td>No</td>\n",
              "      <td>No</td>\n",
              "    </tr>\n",
              "    <tr>\n",
              "      <th>1452-KIOVK</th>\n",
              "      <td>Male</td>\n",
              "      <td>0</td>\n",
              "      <td>No</td>\n",
              "      <td>Yes</td>\n",
              "    </tr>\n",
              "    <tr>\n",
              "      <th>6713-OKOMC</th>\n",
              "      <td>Female</td>\n",
              "      <td>0</td>\n",
              "      <td>No</td>\n",
              "      <td>No</td>\n",
              "    </tr>\n",
              "    <tr>\n",
              "      <th>7892-POOKP</th>\n",
              "      <td>Female</td>\n",
              "      <td>0</td>\n",
              "      <td>Yes</td>\n",
              "      <td>No</td>\n",
              "    </tr>\n",
              "    <tr>\n",
              "      <th>6388-TABGU</th>\n",
              "      <td>Male</td>\n",
              "      <td>0</td>\n",
              "      <td>No</td>\n",
              "      <td>Yes</td>\n",
              "    </tr>\n",
              "  </tbody>\n",
              "</table>\n",
              "</div>"
            ],
            "text/plain": [
              "            gender  SeniorCitizen Partner Dependents\n",
              "customerID                                          \n",
              "7590-VHVEG  Female              0     Yes         No\n",
              "5575-GNVDE    Male              0      No         No\n",
              "3668-QPYBK    Male              0      No         No\n",
              "7795-CFOCW    Male              0      No         No\n",
              "9237-HQITU  Female              0      No         No\n",
              "9305-CDSKC  Female              0      No         No\n",
              "1452-KIOVK    Male              0      No        Yes\n",
              "6713-OKOMC  Female              0      No         No\n",
              "7892-POOKP  Female              0     Yes         No\n",
              "6388-TABGU    Male              0      No        Yes"
            ]
          },
          "metadata": {},
          "output_type": "display_data"
        }
      ],
      "source": [
        "df_info(df_pd)"
      ]
    },
    {
      "cell_type": "markdown",
      "metadata": {
        "id": "W3VScseemFqY"
      },
      "source": [
        "The number of lines in 'personal' is the same as the number of lines in 'contract', i.e. Contract data is provided for all clients. There are no gaps in the data. At first glance, the information in 'personal' does not need to be adjusted/transformed."
      ]
    },
    {
      "cell_type": "markdown",
      "metadata": {
        "id": "zpXhYIDFmFqY"
      },
      "source": [
        "**Dataset overview 'internet'**"
      ]
    },
    {
      "cell_type": "code",
      "execution_count": null,
      "metadata": {
        "id": "ycuv4LsamFqY",
        "outputId": "755840fa-40c6-4281-e199-a7196278fe7b"
      },
      "outputs": [
        {
          "name": "stdout",
          "output_type": "stream",
          "text": [
            "<class 'pandas.core.frame.DataFrame'>\n",
            "Index: 5517 entries, 7590-VHVEG to 3186-AJIEK\n",
            "Data columns (total 7 columns):\n",
            " #   Column            Non-Null Count  Dtype \n",
            "---  ------            --------------  ----- \n",
            " 0   InternetService   5517 non-null   object\n",
            " 1   OnlineSecurity    5517 non-null   object\n",
            " 2   OnlineBackup      5517 non-null   object\n",
            " 3   DeviceProtection  5517 non-null   object\n",
            " 4   TechSupport       5517 non-null   object\n",
            " 5   StreamingTV       5517 non-null   object\n",
            " 6   StreamingMovies   5517 non-null   object\n",
            "dtypes: object(7)\n",
            "memory usage: 344.8+ KB\n",
            "\n"
          ]
        },
        {
          "data": {
            "text/plain": [
              "(5517, 7)"
            ]
          },
          "metadata": {},
          "output_type": "display_data"
        },
        {
          "name": "stdout",
          "output_type": "stream",
          "text": [
            "\n"
          ]
        },
        {
          "data": {
            "text/html": [
              "<div>\n",
              "<style scoped>\n",
              "    .dataframe tbody tr th:only-of-type {\n",
              "        vertical-align: middle;\n",
              "    }\n",
              "\n",
              "    .dataframe tbody tr th {\n",
              "        vertical-align: top;\n",
              "    }\n",
              "\n",
              "    .dataframe thead th {\n",
              "        text-align: right;\n",
              "    }\n",
              "</style>\n",
              "<table border=\"1\" class=\"dataframe\">\n",
              "  <thead>\n",
              "    <tr style=\"text-align: right;\">\n",
              "      <th></th>\n",
              "      <th>InternetService</th>\n",
              "      <th>OnlineSecurity</th>\n",
              "      <th>OnlineBackup</th>\n",
              "      <th>DeviceProtection</th>\n",
              "      <th>TechSupport</th>\n",
              "      <th>StreamingTV</th>\n",
              "      <th>StreamingMovies</th>\n",
              "    </tr>\n",
              "  </thead>\n",
              "  <tbody>\n",
              "    <tr>\n",
              "      <th>count</th>\n",
              "      <td>5517</td>\n",
              "      <td>5517</td>\n",
              "      <td>5517</td>\n",
              "      <td>5517</td>\n",
              "      <td>5517</td>\n",
              "      <td>5517</td>\n",
              "      <td>5517</td>\n",
              "    </tr>\n",
              "    <tr>\n",
              "      <th>unique</th>\n",
              "      <td>2</td>\n",
              "      <td>2</td>\n",
              "      <td>2</td>\n",
              "      <td>2</td>\n",
              "      <td>2</td>\n",
              "      <td>2</td>\n",
              "      <td>2</td>\n",
              "    </tr>\n",
              "    <tr>\n",
              "      <th>top</th>\n",
              "      <td>Fiber optic</td>\n",
              "      <td>No</td>\n",
              "      <td>No</td>\n",
              "      <td>No</td>\n",
              "      <td>No</td>\n",
              "      <td>No</td>\n",
              "      <td>No</td>\n",
              "    </tr>\n",
              "    <tr>\n",
              "      <th>freq</th>\n",
              "      <td>3096</td>\n",
              "      <td>3498</td>\n",
              "      <td>3088</td>\n",
              "      <td>3095</td>\n",
              "      <td>3473</td>\n",
              "      <td>2810</td>\n",
              "      <td>2785</td>\n",
              "    </tr>\n",
              "  </tbody>\n",
              "</table>\n",
              "</div>"
            ],
            "text/plain": [
              "       InternetService OnlineSecurity OnlineBackup DeviceProtection  \\\n",
              "count             5517           5517         5517             5517   \n",
              "unique               2              2            2                2   \n",
              "top        Fiber optic             No           No               No   \n",
              "freq              3096           3498         3088             3095   \n",
              "\n",
              "       TechSupport StreamingTV StreamingMovies  \n",
              "count         5517        5517            5517  \n",
              "unique           2           2               2  \n",
              "top             No          No              No  \n",
              "freq          3473        2810            2785  "
            ]
          },
          "metadata": {},
          "output_type": "display_data"
        },
        {
          "name": "stdout",
          "output_type": "stream",
          "text": [
            "\n"
          ]
        },
        {
          "data": {
            "text/html": [
              "<div>\n",
              "<style scoped>\n",
              "    .dataframe tbody tr th:only-of-type {\n",
              "        vertical-align: middle;\n",
              "    }\n",
              "\n",
              "    .dataframe tbody tr th {\n",
              "        vertical-align: top;\n",
              "    }\n",
              "\n",
              "    .dataframe thead th {\n",
              "        text-align: right;\n",
              "    }\n",
              "</style>\n",
              "<table border=\"1\" class=\"dataframe\">\n",
              "  <thead>\n",
              "    <tr style=\"text-align: right;\">\n",
              "      <th></th>\n",
              "      <th>InternetService</th>\n",
              "      <th>OnlineSecurity</th>\n",
              "      <th>OnlineBackup</th>\n",
              "      <th>DeviceProtection</th>\n",
              "      <th>TechSupport</th>\n",
              "      <th>StreamingTV</th>\n",
              "      <th>StreamingMovies</th>\n",
              "    </tr>\n",
              "    <tr>\n",
              "      <th>customerID</th>\n",
              "      <th></th>\n",
              "      <th></th>\n",
              "      <th></th>\n",
              "      <th></th>\n",
              "      <th></th>\n",
              "      <th></th>\n",
              "      <th></th>\n",
              "    </tr>\n",
              "  </thead>\n",
              "  <tbody>\n",
              "    <tr>\n",
              "      <th>7590-VHVEG</th>\n",
              "      <td>DSL</td>\n",
              "      <td>No</td>\n",
              "      <td>Yes</td>\n",
              "      <td>No</td>\n",
              "      <td>No</td>\n",
              "      <td>No</td>\n",
              "      <td>No</td>\n",
              "    </tr>\n",
              "    <tr>\n",
              "      <th>5575-GNVDE</th>\n",
              "      <td>DSL</td>\n",
              "      <td>Yes</td>\n",
              "      <td>No</td>\n",
              "      <td>Yes</td>\n",
              "      <td>No</td>\n",
              "      <td>No</td>\n",
              "      <td>No</td>\n",
              "    </tr>\n",
              "    <tr>\n",
              "      <th>3668-QPYBK</th>\n",
              "      <td>DSL</td>\n",
              "      <td>Yes</td>\n",
              "      <td>Yes</td>\n",
              "      <td>No</td>\n",
              "      <td>No</td>\n",
              "      <td>No</td>\n",
              "      <td>No</td>\n",
              "    </tr>\n",
              "    <tr>\n",
              "      <th>7795-CFOCW</th>\n",
              "      <td>DSL</td>\n",
              "      <td>Yes</td>\n",
              "      <td>No</td>\n",
              "      <td>Yes</td>\n",
              "      <td>Yes</td>\n",
              "      <td>No</td>\n",
              "      <td>No</td>\n",
              "    </tr>\n",
              "    <tr>\n",
              "      <th>9237-HQITU</th>\n",
              "      <td>Fiber optic</td>\n",
              "      <td>No</td>\n",
              "      <td>No</td>\n",
              "      <td>No</td>\n",
              "      <td>No</td>\n",
              "      <td>No</td>\n",
              "      <td>No</td>\n",
              "    </tr>\n",
              "    <tr>\n",
              "      <th>9305-CDSKC</th>\n",
              "      <td>Fiber optic</td>\n",
              "      <td>No</td>\n",
              "      <td>No</td>\n",
              "      <td>Yes</td>\n",
              "      <td>No</td>\n",
              "      <td>Yes</td>\n",
              "      <td>Yes</td>\n",
              "    </tr>\n",
              "    <tr>\n",
              "      <th>1452-KIOVK</th>\n",
              "      <td>Fiber optic</td>\n",
              "      <td>No</td>\n",
              "      <td>Yes</td>\n",
              "      <td>No</td>\n",
              "      <td>No</td>\n",
              "      <td>Yes</td>\n",
              "      <td>No</td>\n",
              "    </tr>\n",
              "    <tr>\n",
              "      <th>6713-OKOMC</th>\n",
              "      <td>DSL</td>\n",
              "      <td>Yes</td>\n",
              "      <td>No</td>\n",
              "      <td>No</td>\n",
              "      <td>No</td>\n",
              "      <td>No</td>\n",
              "      <td>No</td>\n",
              "    </tr>\n",
              "    <tr>\n",
              "      <th>7892-POOKP</th>\n",
              "      <td>Fiber optic</td>\n",
              "      <td>No</td>\n",
              "      <td>No</td>\n",
              "      <td>Yes</td>\n",
              "      <td>Yes</td>\n",
              "      <td>Yes</td>\n",
              "      <td>Yes</td>\n",
              "    </tr>\n",
              "    <tr>\n",
              "      <th>6388-TABGU</th>\n",
              "      <td>DSL</td>\n",
              "      <td>Yes</td>\n",
              "      <td>Yes</td>\n",
              "      <td>No</td>\n",
              "      <td>No</td>\n",
              "      <td>No</td>\n",
              "      <td>No</td>\n",
              "    </tr>\n",
              "  </tbody>\n",
              "</table>\n",
              "</div>"
            ],
            "text/plain": [
              "           InternetService OnlineSecurity OnlineBackup DeviceProtection  \\\n",
              "customerID                                                                \n",
              "7590-VHVEG             DSL             No          Yes               No   \n",
              "5575-GNVDE             DSL            Yes           No              Yes   \n",
              "3668-QPYBK             DSL            Yes          Yes               No   \n",
              "7795-CFOCW             DSL            Yes           No              Yes   \n",
              "9237-HQITU     Fiber optic             No           No               No   \n",
              "9305-CDSKC     Fiber optic             No           No              Yes   \n",
              "1452-KIOVK     Fiber optic             No          Yes               No   \n",
              "6713-OKOMC             DSL            Yes           No               No   \n",
              "7892-POOKP     Fiber optic             No           No              Yes   \n",
              "6388-TABGU             DSL            Yes          Yes               No   \n",
              "\n",
              "           TechSupport StreamingTV StreamingMovies  \n",
              "customerID                                          \n",
              "7590-VHVEG          No          No              No  \n",
              "5575-GNVDE          No          No              No  \n",
              "3668-QPYBK          No          No              No  \n",
              "7795-CFOCW         Yes          No              No  \n",
              "9237-HQITU          No          No              No  \n",
              "9305-CDSKC          No         Yes             Yes  \n",
              "1452-KIOVK          No         Yes              No  \n",
              "6713-OKOMC          No          No              No  \n",
              "7892-POOKP         Yes         Yes             Yes  \n",
              "6388-TABGU          No          No              No  "
            ]
          },
          "metadata": {},
          "output_type": "display_data"
        }
      ],
      "source": [
        "df_info(df_int)"
      ]
    },
    {
      "cell_type": "markdown",
      "metadata": {
        "id": "mWWvXnDymFqY"
      },
      "source": [
        "The number of lines in 'internet' is less than in 'contract' and 'personal', therefore not all clients use the Internet service.\n",
        "There are no gaps in the data.\n",
        "At first glance, the data on the 'internet' does not need to be adjusted/transformed."
      ]
    },
    {
      "cell_type": "markdown",
      "metadata": {
        "id": "sqCxq64imFqZ"
      },
      "source": [
        "**Dataset overview 'phone'**"
      ]
    },
    {
      "cell_type": "code",
      "execution_count": null,
      "metadata": {
        "id": "o_V6fH-WmFqZ",
        "outputId": "5c633497-43db-4112-a444-c4688011cd7f"
      },
      "outputs": [
        {
          "name": "stdout",
          "output_type": "stream",
          "text": [
            "<class 'pandas.core.frame.DataFrame'>\n",
            "Index: 6361 entries, 5575-GNVDE to 3186-AJIEK\n",
            "Data columns (total 1 columns):\n",
            " #   Column         Non-Null Count  Dtype \n",
            "---  ------         --------------  ----- \n",
            " 0   MultipleLines  6361 non-null   object\n",
            "dtypes: object(1)\n",
            "memory usage: 99.4+ KB\n",
            "\n"
          ]
        },
        {
          "data": {
            "text/plain": [
              "(6361, 1)"
            ]
          },
          "metadata": {},
          "output_type": "display_data"
        },
        {
          "name": "stdout",
          "output_type": "stream",
          "text": [
            "\n"
          ]
        },
        {
          "data": {
            "text/html": [
              "<div>\n",
              "<style scoped>\n",
              "    .dataframe tbody tr th:only-of-type {\n",
              "        vertical-align: middle;\n",
              "    }\n",
              "\n",
              "    .dataframe tbody tr th {\n",
              "        vertical-align: top;\n",
              "    }\n",
              "\n",
              "    .dataframe thead th {\n",
              "        text-align: right;\n",
              "    }\n",
              "</style>\n",
              "<table border=\"1\" class=\"dataframe\">\n",
              "  <thead>\n",
              "    <tr style=\"text-align: right;\">\n",
              "      <th></th>\n",
              "      <th>MultipleLines</th>\n",
              "    </tr>\n",
              "  </thead>\n",
              "  <tbody>\n",
              "    <tr>\n",
              "      <th>count</th>\n",
              "      <td>6361</td>\n",
              "    </tr>\n",
              "    <tr>\n",
              "      <th>unique</th>\n",
              "      <td>2</td>\n",
              "    </tr>\n",
              "    <tr>\n",
              "      <th>top</th>\n",
              "      <td>No</td>\n",
              "    </tr>\n",
              "    <tr>\n",
              "      <th>freq</th>\n",
              "      <td>3390</td>\n",
              "    </tr>\n",
              "  </tbody>\n",
              "</table>\n",
              "</div>"
            ],
            "text/plain": [
              "       MultipleLines\n",
              "count           6361\n",
              "unique             2\n",
              "top               No\n",
              "freq            3390"
            ]
          },
          "metadata": {},
          "output_type": "display_data"
        },
        {
          "name": "stdout",
          "output_type": "stream",
          "text": [
            "\n"
          ]
        },
        {
          "data": {
            "text/html": [
              "<div>\n",
              "<style scoped>\n",
              "    .dataframe tbody tr th:only-of-type {\n",
              "        vertical-align: middle;\n",
              "    }\n",
              "\n",
              "    .dataframe tbody tr th {\n",
              "        vertical-align: top;\n",
              "    }\n",
              "\n",
              "    .dataframe thead th {\n",
              "        text-align: right;\n",
              "    }\n",
              "</style>\n",
              "<table border=\"1\" class=\"dataframe\">\n",
              "  <thead>\n",
              "    <tr style=\"text-align: right;\">\n",
              "      <th></th>\n",
              "      <th>MultipleLines</th>\n",
              "    </tr>\n",
              "    <tr>\n",
              "      <th>customerID</th>\n",
              "      <th></th>\n",
              "    </tr>\n",
              "  </thead>\n",
              "  <tbody>\n",
              "    <tr>\n",
              "      <th>5575-GNVDE</th>\n",
              "      <td>No</td>\n",
              "    </tr>\n",
              "    <tr>\n",
              "      <th>3668-QPYBK</th>\n",
              "      <td>No</td>\n",
              "    </tr>\n",
              "    <tr>\n",
              "      <th>9237-HQITU</th>\n",
              "      <td>No</td>\n",
              "    </tr>\n",
              "    <tr>\n",
              "      <th>9305-CDSKC</th>\n",
              "      <td>Yes</td>\n",
              "    </tr>\n",
              "    <tr>\n",
              "      <th>1452-KIOVK</th>\n",
              "      <td>Yes</td>\n",
              "    </tr>\n",
              "    <tr>\n",
              "      <th>7892-POOKP</th>\n",
              "      <td>Yes</td>\n",
              "    </tr>\n",
              "    <tr>\n",
              "      <th>6388-TABGU</th>\n",
              "      <td>No</td>\n",
              "    </tr>\n",
              "    <tr>\n",
              "      <th>9763-GRSKD</th>\n",
              "      <td>No</td>\n",
              "    </tr>\n",
              "    <tr>\n",
              "      <th>7469-LKBCI</th>\n",
              "      <td>No</td>\n",
              "    </tr>\n",
              "    <tr>\n",
              "      <th>8091-TTVAX</th>\n",
              "      <td>Yes</td>\n",
              "    </tr>\n",
              "  </tbody>\n",
              "</table>\n",
              "</div>"
            ],
            "text/plain": [
              "           MultipleLines\n",
              "customerID              \n",
              "5575-GNVDE            No\n",
              "3668-QPYBK            No\n",
              "9237-HQITU            No\n",
              "9305-CDSKC           Yes\n",
              "1452-KIOVK           Yes\n",
              "7892-POOKP           Yes\n",
              "6388-TABGU            No\n",
              "9763-GRSKD            No\n",
              "7469-LKBCI            No\n",
              "8091-TTVAX           Yes"
            ]
          },
          "metadata": {},
          "output_type": "display_data"
        }
      ],
      "source": [
        "df_info(df_phone)"
      ]
    },
    {
      "cell_type": "markdown",
      "metadata": {
        "id": "dzJHBndWmFqZ"
      },
      "source": [
        "The number of lines in 'phone' is less than in 'contract' and 'personal', therefore not all clients use the Internet service, but more than in 'internet', therefore some clients use both Internet and telephone services. There are no gaps in the data. At first glance, the data on the 'internet' does not need to be adjusted/transformed."
      ]
    },
    {
      "cell_type": "markdown",
      "metadata": {
        "id": "zMU9CcnkmFqZ"
      },
      "source": [
        "### Combining data into one dataset"
      ]
    },
    {
      "cell_type": "markdown",
      "metadata": {
        "id": "2Ql7lPX6mFqa"
      },
      "source": [
        "We will combine the data using a common characteristic for all tables: **customerID**"
      ]
    },
    {
      "cell_type": "code",
      "execution_count": null,
      "metadata": {
        "id": "IoGFGHDqmFqa",
        "outputId": "490834b6-765b-45ae-986a-9c8369dba0f0"
      },
      "outputs": [
        {
          "name": "stdout",
          "output_type": "stream",
          "text": [
            "<class 'pandas.core.frame.DataFrame'>\n",
            "Index: 7043 entries, 7590-VHVEG to 3186-AJIEK\n",
            "Data columns (total 19 columns):\n",
            " #   Column            Non-Null Count  Dtype         \n",
            "---  ------            --------------  -----         \n",
            " 0   BeginDate         7043 non-null   datetime64[ns]\n",
            " 1   EndDate           7043 non-null   object        \n",
            " 2   Type              7043 non-null   object        \n",
            " 3   PaperlessBilling  7043 non-null   object        \n",
            " 4   PaymentMethod     7043 non-null   object        \n",
            " 5   MonthlyCharges    7043 non-null   float64       \n",
            " 6   TotalCharges      7043 non-null   object        \n",
            " 7   gender            7043 non-null   object        \n",
            " 8   SeniorCitizen     7043 non-null   int64         \n",
            " 9   Partner           7043 non-null   object        \n",
            " 10  Dependents        7043 non-null   object        \n",
            " 11  InternetService   5517 non-null   object        \n",
            " 12  OnlineSecurity    5517 non-null   object        \n",
            " 13  OnlineBackup      5517 non-null   object        \n",
            " 14  DeviceProtection  5517 non-null   object        \n",
            " 15  TechSupport       5517 non-null   object        \n",
            " 16  StreamingTV       5517 non-null   object        \n",
            " 17  StreamingMovies   5517 non-null   object        \n",
            " 18  MultipleLines     6361 non-null   object        \n",
            "dtypes: datetime64[ns](1), float64(1), int64(1), object(16)\n",
            "memory usage: 1.1+ MB\n",
            "\n"
          ]
        },
        {
          "data": {
            "text/plain": [
              "(7043, 19)"
            ]
          },
          "metadata": {},
          "output_type": "display_data"
        },
        {
          "name": "stdout",
          "output_type": "stream",
          "text": [
            "\n"
          ]
        },
        {
          "data": {
            "text/html": [
              "<div>\n",
              "<style scoped>\n",
              "    .dataframe tbody tr th:only-of-type {\n",
              "        vertical-align: middle;\n",
              "    }\n",
              "\n",
              "    .dataframe tbody tr th {\n",
              "        vertical-align: top;\n",
              "    }\n",
              "\n",
              "    .dataframe thead th {\n",
              "        text-align: right;\n",
              "    }\n",
              "</style>\n",
              "<table border=\"1\" class=\"dataframe\">\n",
              "  <thead>\n",
              "    <tr style=\"text-align: right;\">\n",
              "      <th></th>\n",
              "      <th>MonthlyCharges</th>\n",
              "      <th>SeniorCitizen</th>\n",
              "    </tr>\n",
              "  </thead>\n",
              "  <tbody>\n",
              "    <tr>\n",
              "      <th>count</th>\n",
              "      <td>7043.000000</td>\n",
              "      <td>7043.000000</td>\n",
              "    </tr>\n",
              "    <tr>\n",
              "      <th>mean</th>\n",
              "      <td>64.761692</td>\n",
              "      <td>0.162147</td>\n",
              "    </tr>\n",
              "    <tr>\n",
              "      <th>std</th>\n",
              "      <td>30.090047</td>\n",
              "      <td>0.368612</td>\n",
              "    </tr>\n",
              "    <tr>\n",
              "      <th>min</th>\n",
              "      <td>18.250000</td>\n",
              "      <td>0.000000</td>\n",
              "    </tr>\n",
              "    <tr>\n",
              "      <th>25%</th>\n",
              "      <td>35.500000</td>\n",
              "      <td>0.000000</td>\n",
              "    </tr>\n",
              "    <tr>\n",
              "      <th>50%</th>\n",
              "      <td>70.350000</td>\n",
              "      <td>0.000000</td>\n",
              "    </tr>\n",
              "    <tr>\n",
              "      <th>75%</th>\n",
              "      <td>89.850000</td>\n",
              "      <td>0.000000</td>\n",
              "    </tr>\n",
              "    <tr>\n",
              "      <th>max</th>\n",
              "      <td>118.750000</td>\n",
              "      <td>1.000000</td>\n",
              "    </tr>\n",
              "  </tbody>\n",
              "</table>\n",
              "</div>"
            ],
            "text/plain": [
              "       MonthlyCharges  SeniorCitizen\n",
              "count     7043.000000    7043.000000\n",
              "mean        64.761692       0.162147\n",
              "std         30.090047       0.368612\n",
              "min         18.250000       0.000000\n",
              "25%         35.500000       0.000000\n",
              "50%         70.350000       0.000000\n",
              "75%         89.850000       0.000000\n",
              "max        118.750000       1.000000"
            ]
          },
          "metadata": {},
          "output_type": "display_data"
        },
        {
          "name": "stdout",
          "output_type": "stream",
          "text": [
            "\n"
          ]
        },
        {
          "data": {
            "text/html": [
              "<div>\n",
              "<style scoped>\n",
              "    .dataframe tbody tr th:only-of-type {\n",
              "        vertical-align: middle;\n",
              "    }\n",
              "\n",
              "    .dataframe tbody tr th {\n",
              "        vertical-align: top;\n",
              "    }\n",
              "\n",
              "    .dataframe thead th {\n",
              "        text-align: right;\n",
              "    }\n",
              "</style>\n",
              "<table border=\"1\" class=\"dataframe\">\n",
              "  <thead>\n",
              "    <tr style=\"text-align: right;\">\n",
              "      <th></th>\n",
              "      <th>BeginDate</th>\n",
              "      <th>EndDate</th>\n",
              "      <th>Type</th>\n",
              "      <th>PaperlessBilling</th>\n",
              "      <th>PaymentMethod</th>\n",
              "      <th>MonthlyCharges</th>\n",
              "      <th>TotalCharges</th>\n",
              "      <th>gender</th>\n",
              "      <th>SeniorCitizen</th>\n",
              "      <th>Partner</th>\n",
              "      <th>Dependents</th>\n",
              "      <th>InternetService</th>\n",
              "      <th>OnlineSecurity</th>\n",
              "      <th>OnlineBackup</th>\n",
              "      <th>DeviceProtection</th>\n",
              "      <th>TechSupport</th>\n",
              "      <th>StreamingTV</th>\n",
              "      <th>StreamingMovies</th>\n",
              "      <th>MultipleLines</th>\n",
              "    </tr>\n",
              "    <tr>\n",
              "      <th>customerID</th>\n",
              "      <th></th>\n",
              "      <th></th>\n",
              "      <th></th>\n",
              "      <th></th>\n",
              "      <th></th>\n",
              "      <th></th>\n",
              "      <th></th>\n",
              "      <th></th>\n",
              "      <th></th>\n",
              "      <th></th>\n",
              "      <th></th>\n",
              "      <th></th>\n",
              "      <th></th>\n",
              "      <th></th>\n",
              "      <th></th>\n",
              "      <th></th>\n",
              "      <th></th>\n",
              "      <th></th>\n",
              "      <th></th>\n",
              "    </tr>\n",
              "  </thead>\n",
              "  <tbody>\n",
              "    <tr>\n",
              "      <th>7590-VHVEG</th>\n",
              "      <td>2020-01-01</td>\n",
              "      <td>No</td>\n",
              "      <td>Month-to-month</td>\n",
              "      <td>Yes</td>\n",
              "      <td>Electronic check</td>\n",
              "      <td>29.85</td>\n",
              "      <td>31.04</td>\n",
              "      <td>Female</td>\n",
              "      <td>0</td>\n",
              "      <td>Yes</td>\n",
              "      <td>No</td>\n",
              "      <td>DSL</td>\n",
              "      <td>No</td>\n",
              "      <td>Yes</td>\n",
              "      <td>No</td>\n",
              "      <td>No</td>\n",
              "      <td>No</td>\n",
              "      <td>No</td>\n",
              "      <td>NaN</td>\n",
              "    </tr>\n",
              "    <tr>\n",
              "      <th>5575-GNVDE</th>\n",
              "      <td>2017-04-01</td>\n",
              "      <td>No</td>\n",
              "      <td>One year</td>\n",
              "      <td>No</td>\n",
              "      <td>Mailed check</td>\n",
              "      <td>56.95</td>\n",
              "      <td>2071.84</td>\n",
              "      <td>Male</td>\n",
              "      <td>0</td>\n",
              "      <td>No</td>\n",
              "      <td>No</td>\n",
              "      <td>DSL</td>\n",
              "      <td>Yes</td>\n",
              "      <td>No</td>\n",
              "      <td>Yes</td>\n",
              "      <td>No</td>\n",
              "      <td>No</td>\n",
              "      <td>No</td>\n",
              "      <td>No</td>\n",
              "    </tr>\n",
              "    <tr>\n",
              "      <th>3668-QPYBK</th>\n",
              "      <td>2019-10-01</td>\n",
              "      <td>No</td>\n",
              "      <td>Month-to-month</td>\n",
              "      <td>Yes</td>\n",
              "      <td>Mailed check</td>\n",
              "      <td>53.85</td>\n",
              "      <td>226.17</td>\n",
              "      <td>Male</td>\n",
              "      <td>0</td>\n",
              "      <td>No</td>\n",
              "      <td>No</td>\n",
              "      <td>DSL</td>\n",
              "      <td>Yes</td>\n",
              "      <td>Yes</td>\n",
              "      <td>No</td>\n",
              "      <td>No</td>\n",
              "      <td>No</td>\n",
              "      <td>No</td>\n",
              "      <td>No</td>\n",
              "    </tr>\n",
              "    <tr>\n",
              "      <th>7795-CFOCW</th>\n",
              "      <td>2016-05-01</td>\n",
              "      <td>No</td>\n",
              "      <td>One year</td>\n",
              "      <td>No</td>\n",
              "      <td>Bank transfer (automatic)</td>\n",
              "      <td>42.30</td>\n",
              "      <td>1960.6</td>\n",
              "      <td>Male</td>\n",
              "      <td>0</td>\n",
              "      <td>No</td>\n",
              "      <td>No</td>\n",
              "      <td>DSL</td>\n",
              "      <td>Yes</td>\n",
              "      <td>No</td>\n",
              "      <td>Yes</td>\n",
              "      <td>Yes</td>\n",
              "      <td>No</td>\n",
              "      <td>No</td>\n",
              "      <td>NaN</td>\n",
              "    </tr>\n",
              "    <tr>\n",
              "      <th>9237-HQITU</th>\n",
              "      <td>2019-09-01</td>\n",
              "      <td>No</td>\n",
              "      <td>Month-to-month</td>\n",
              "      <td>Yes</td>\n",
              "      <td>Electronic check</td>\n",
              "      <td>70.70</td>\n",
              "      <td>353.5</td>\n",
              "      <td>Female</td>\n",
              "      <td>0</td>\n",
              "      <td>No</td>\n",
              "      <td>No</td>\n",
              "      <td>Fiber optic</td>\n",
              "      <td>No</td>\n",
              "      <td>No</td>\n",
              "      <td>No</td>\n",
              "      <td>No</td>\n",
              "      <td>No</td>\n",
              "      <td>No</td>\n",
              "      <td>No</td>\n",
              "    </tr>\n",
              "    <tr>\n",
              "      <th>9305-CDSKC</th>\n",
              "      <td>2019-03-01</td>\n",
              "      <td>No</td>\n",
              "      <td>Month-to-month</td>\n",
              "      <td>Yes</td>\n",
              "      <td>Electronic check</td>\n",
              "      <td>99.65</td>\n",
              "      <td>1150.96</td>\n",
              "      <td>Female</td>\n",
              "      <td>0</td>\n",
              "      <td>No</td>\n",
              "      <td>No</td>\n",
              "      <td>Fiber optic</td>\n",
              "      <td>No</td>\n",
              "      <td>No</td>\n",
              "      <td>Yes</td>\n",
              "      <td>No</td>\n",
              "      <td>Yes</td>\n",
              "      <td>Yes</td>\n",
              "      <td>Yes</td>\n",
              "    </tr>\n",
              "    <tr>\n",
              "      <th>1452-KIOVK</th>\n",
              "      <td>2018-04-01</td>\n",
              "      <td>No</td>\n",
              "      <td>Month-to-month</td>\n",
              "      <td>Yes</td>\n",
              "      <td>Credit card (automatic)</td>\n",
              "      <td>89.10</td>\n",
              "      <td>2058.21</td>\n",
              "      <td>Male</td>\n",
              "      <td>0</td>\n",
              "      <td>No</td>\n",
              "      <td>Yes</td>\n",
              "      <td>Fiber optic</td>\n",
              "      <td>No</td>\n",
              "      <td>Yes</td>\n",
              "      <td>No</td>\n",
              "      <td>No</td>\n",
              "      <td>Yes</td>\n",
              "      <td>No</td>\n",
              "      <td>Yes</td>\n",
              "    </tr>\n",
              "    <tr>\n",
              "      <th>6713-OKOMC</th>\n",
              "      <td>2019-04-01</td>\n",
              "      <td>No</td>\n",
              "      <td>Month-to-month</td>\n",
              "      <td>No</td>\n",
              "      <td>Mailed check</td>\n",
              "      <td>29.75</td>\n",
              "      <td>300.48</td>\n",
              "      <td>Female</td>\n",
              "      <td>0</td>\n",
              "      <td>No</td>\n",
              "      <td>No</td>\n",
              "      <td>DSL</td>\n",
              "      <td>Yes</td>\n",
              "      <td>No</td>\n",
              "      <td>No</td>\n",
              "      <td>No</td>\n",
              "      <td>No</td>\n",
              "      <td>No</td>\n",
              "      <td>NaN</td>\n",
              "    </tr>\n",
              "    <tr>\n",
              "      <th>7892-POOKP</th>\n",
              "      <td>2017-07-01</td>\n",
              "      <td>No</td>\n",
              "      <td>Month-to-month</td>\n",
              "      <td>Yes</td>\n",
              "      <td>Electronic check</td>\n",
              "      <td>104.80</td>\n",
              "      <td>3573.68</td>\n",
              "      <td>Female</td>\n",
              "      <td>0</td>\n",
              "      <td>Yes</td>\n",
              "      <td>No</td>\n",
              "      <td>Fiber optic</td>\n",
              "      <td>No</td>\n",
              "      <td>No</td>\n",
              "      <td>Yes</td>\n",
              "      <td>Yes</td>\n",
              "      <td>Yes</td>\n",
              "      <td>Yes</td>\n",
              "      <td>Yes</td>\n",
              "    </tr>\n",
              "    <tr>\n",
              "      <th>6388-TABGU</th>\n",
              "      <td>2014-12-01</td>\n",
              "      <td>2017-05-01</td>\n",
              "      <td>One year</td>\n",
              "      <td>No</td>\n",
              "      <td>Bank transfer (automatic)</td>\n",
              "      <td>56.15</td>\n",
              "      <td>1628.35</td>\n",
              "      <td>Male</td>\n",
              "      <td>0</td>\n",
              "      <td>No</td>\n",
              "      <td>Yes</td>\n",
              "      <td>DSL</td>\n",
              "      <td>Yes</td>\n",
              "      <td>Yes</td>\n",
              "      <td>No</td>\n",
              "      <td>No</td>\n",
              "      <td>No</td>\n",
              "      <td>No</td>\n",
              "      <td>No</td>\n",
              "    </tr>\n",
              "  </tbody>\n",
              "</table>\n",
              "</div>"
            ],
            "text/plain": [
              "            BeginDate     EndDate            Type PaperlessBilling  \\\n",
              "customerID                                                           \n",
              "7590-VHVEG 2020-01-01          No  Month-to-month              Yes   \n",
              "5575-GNVDE 2017-04-01          No        One year               No   \n",
              "3668-QPYBK 2019-10-01          No  Month-to-month              Yes   \n",
              "7795-CFOCW 2016-05-01          No        One year               No   \n",
              "9237-HQITU 2019-09-01          No  Month-to-month              Yes   \n",
              "9305-CDSKC 2019-03-01          No  Month-to-month              Yes   \n",
              "1452-KIOVK 2018-04-01          No  Month-to-month              Yes   \n",
              "6713-OKOMC 2019-04-01          No  Month-to-month               No   \n",
              "7892-POOKP 2017-07-01          No  Month-to-month              Yes   \n",
              "6388-TABGU 2014-12-01  2017-05-01        One year               No   \n",
              "\n",
              "                        PaymentMethod  MonthlyCharges TotalCharges  gender  \\\n",
              "customerID                                                                   \n",
              "7590-VHVEG           Electronic check           29.85        31.04  Female   \n",
              "5575-GNVDE               Mailed check           56.95      2071.84    Male   \n",
              "3668-QPYBK               Mailed check           53.85       226.17    Male   \n",
              "7795-CFOCW  Bank transfer (automatic)           42.30       1960.6    Male   \n",
              "9237-HQITU           Electronic check           70.70        353.5  Female   \n",
              "9305-CDSKC           Electronic check           99.65      1150.96  Female   \n",
              "1452-KIOVK    Credit card (automatic)           89.10      2058.21    Male   \n",
              "6713-OKOMC               Mailed check           29.75       300.48  Female   \n",
              "7892-POOKP           Electronic check          104.80      3573.68  Female   \n",
              "6388-TABGU  Bank transfer (automatic)           56.15      1628.35    Male   \n",
              "\n",
              "            SeniorCitizen Partner Dependents InternetService OnlineSecurity  \\\n",
              "customerID                                                                    \n",
              "7590-VHVEG              0     Yes         No             DSL             No   \n",
              "5575-GNVDE              0      No         No             DSL            Yes   \n",
              "3668-QPYBK              0      No         No             DSL            Yes   \n",
              "7795-CFOCW              0      No         No             DSL            Yes   \n",
              "9237-HQITU              0      No         No     Fiber optic             No   \n",
              "9305-CDSKC              0      No         No     Fiber optic             No   \n",
              "1452-KIOVK              0      No        Yes     Fiber optic             No   \n",
              "6713-OKOMC              0      No         No             DSL            Yes   \n",
              "7892-POOKP              0     Yes         No     Fiber optic             No   \n",
              "6388-TABGU              0      No        Yes             DSL            Yes   \n",
              "\n",
              "           OnlineBackup DeviceProtection TechSupport StreamingTV  \\\n",
              "customerID                                                         \n",
              "7590-VHVEG          Yes               No          No          No   \n",
              "5575-GNVDE           No              Yes          No          No   \n",
              "3668-QPYBK          Yes               No          No          No   \n",
              "7795-CFOCW           No              Yes         Yes          No   \n",
              "9237-HQITU           No               No          No          No   \n",
              "9305-CDSKC           No              Yes          No         Yes   \n",
              "1452-KIOVK          Yes               No          No         Yes   \n",
              "6713-OKOMC           No               No          No          No   \n",
              "7892-POOKP           No              Yes         Yes         Yes   \n",
              "6388-TABGU          Yes               No          No          No   \n",
              "\n",
              "           StreamingMovies MultipleLines  \n",
              "customerID                                \n",
              "7590-VHVEG              No           NaN  \n",
              "5575-GNVDE              No            No  \n",
              "3668-QPYBK              No            No  \n",
              "7795-CFOCW              No           NaN  \n",
              "9237-HQITU              No            No  \n",
              "9305-CDSKC             Yes           Yes  \n",
              "1452-KIOVK              No           Yes  \n",
              "6713-OKOMC              No           NaN  \n",
              "7892-POOKP             Yes           Yes  \n",
              "6388-TABGU              No            No  "
            ]
          },
          "metadata": {},
          "output_type": "display_data"
        }
      ],
      "source": [
        "df_full = reduce(lambda left,right: pd.merge(left, right, on=['customerID'], how='outer'),\n",
        "              [df_c, df_pd, df_int, df_phone])\n",
        "\n",
        "df_info(df_full)"
      ]
    },
    {
      "cell_type": "markdown",
      "metadata": {
        "id": "eiWlWrpGmFqa"
      },
      "source": [
        "After merging the data, it is necessary to transform the data in the 'EndDate' column - exclude 'No', replacing it with the date of relevance of the data = 02/01/2020 and fill in the gaps in the columns, starting with 'InternetService'. Because All these columns are categorical, describing the types of services that the client uses, then the absence of data in these columns is equivalent to the value 'No'.\n",
        "\n",
        "Let's perform these transformations."
      ]
    },
    {
      "cell_type": "markdown",
      "metadata": {
        "id": "HY_5u9rpmFqb"
      },
      "source": [
        "### Converting Column Data"
      ]
    },
    {
      "cell_type": "markdown",
      "metadata": {
        "id": "qML9j6FSmFqb"
      },
      "source": [
        "Let's check how many rows already contain the value '02/01/2020' in the column 'EndDate'"
      ]
    },
    {
      "cell_type": "code",
      "execution_count": null,
      "metadata": {
        "id": "eZQ0ygeymFqb",
        "outputId": "e3a31b98-4283-40ac-fd2c-755e814bd066"
      },
      "outputs": [
        {
          "data": {
            "text/plain": [
              "0"
            ]
          },
          "execution_count": 10,
          "metadata": {},
          "output_type": "execute_result"
        }
      ],
      "source": [
        "end_date_count = len(df_full[df_full['EndDate'] == '2020-02-01'])\n",
        "end_date_count"
      ]
    },
    {
      "cell_type": "markdown",
      "metadata": {
        "id": "lmSoTrDPmFqb"
      },
      "source": [
        "Before the transformation, the 'EndDate' column does not contain the date 02/01/2020, which means replacing 'No' with this date will not affect the quality of the data in this column and its statistical characteristics."
      ]
    },
    {
      "cell_type": "code",
      "execution_count": null,
      "metadata": {
        "id": "nWql3w43mFqc"
      },
      "outputs": [],
      "source": [
        "df_full['EndDate'] = df_full['EndDate'].replace('No', '2020-02-01')"
      ]
    },
    {
      "cell_type": "markdown",
      "metadata": {
        "id": "1hCFKafkmFqc"
      },
      "source": [
        "The task of the project is to determine whether the client will remain a client or leave, therefore it is necessary to form a target category attribute based on the value in the 'EndDate' column - all values except 02/01/2020 will be leveled to 0, and 02/01/2020 to 1. Thus. 0 means that the client has left, and 1 that it is still an active client."
      ]
    },
    {
      "cell_type": "code",
      "execution_count": null,
      "metadata": {
        "id": "SOKsLVTrmFqc"
      },
      "outputs": [],
      "source": [
        "def target(date):\n",
        "    if date == '2020-02-01':\n",
        "        return 1\n",
        "    else:\n",
        "        return 0\n",
        "df_full['target'] = df_full['EndDate'].apply(target)"
      ]
    },
    {
      "cell_type": "markdown",
      "metadata": {
        "id": "suNDidJamFqc"
      },
      "source": [
        "Convert 'EndDate' to format datetime"
      ]
    },
    {
      "cell_type": "code",
      "execution_count": null,
      "metadata": {
        "id": "Cm2oxnRPmFqd"
      },
      "outputs": [],
      "source": [
        "df_full['EndDate'] = pd.to_datetime(df_full['EndDate'])"
      ]
    },
    {
      "cell_type": "markdown",
      "metadata": {
        "id": "8tM8fa4cmFqd"
      },
      "source": [
        "Let's add a column for the period during which the client is a client. We calculate it as the difference (in days) between 'BeginDate' и 'EndDate'."
      ]
    },
    {
      "cell_type": "code",
      "execution_count": null,
      "metadata": {
        "id": "u0gA5r-zmFqd"
      },
      "outputs": [],
      "source": [
        "df_full['client_period'] = (df_full['EndDate'] - df_full['BeginDate']).dt.days"
      ]
    },
    {
      "cell_type": "markdown",
      "metadata": {
        "id": "nFNK_rGYmFqd"
      },
      "source": [
        "When completing date conversions, let's delete the 'BeginDate' and 'EndDate' columns, because a column has already been added instead 'client_period'."
      ]
    },
    {
      "cell_type": "code",
      "execution_count": null,
      "metadata": {
        "id": "JRwM7YWomFqe"
      },
      "outputs": [],
      "source": [
        "df_full.drop(['EndDate', 'BeginDate'], axis=1, inplace=True)"
      ]
    },
    {
      "cell_type": "code",
      "execution_count": null,
      "metadata": {
        "id": "sMzpjUB_mFqe",
        "outputId": "ee5e8e82-f9e0-4e7d-f84b-75b05bc305cf"
      },
      "outputs": [
        {
          "data": {
            "text/html": [
              "<div>\n",
              "<style scoped>\n",
              "    .dataframe tbody tr th:only-of-type {\n",
              "        vertical-align: middle;\n",
              "    }\n",
              "\n",
              "    .dataframe tbody tr th {\n",
              "        vertical-align: top;\n",
              "    }\n",
              "\n",
              "    .dataframe thead th {\n",
              "        text-align: right;\n",
              "    }\n",
              "</style>\n",
              "<table border=\"1\" class=\"dataframe\">\n",
              "  <thead>\n",
              "    <tr style=\"text-align: right;\">\n",
              "      <th></th>\n",
              "      <th>Type</th>\n",
              "      <th>PaperlessBilling</th>\n",
              "      <th>PaymentMethod</th>\n",
              "      <th>MonthlyCharges</th>\n",
              "      <th>TotalCharges</th>\n",
              "      <th>gender</th>\n",
              "      <th>SeniorCitizen</th>\n",
              "      <th>Partner</th>\n",
              "      <th>Dependents</th>\n",
              "      <th>InternetService</th>\n",
              "      <th>OnlineSecurity</th>\n",
              "      <th>OnlineBackup</th>\n",
              "      <th>DeviceProtection</th>\n",
              "      <th>TechSupport</th>\n",
              "      <th>StreamingTV</th>\n",
              "      <th>StreamingMovies</th>\n",
              "      <th>MultipleLines</th>\n",
              "      <th>target</th>\n",
              "      <th>client_period</th>\n",
              "    </tr>\n",
              "    <tr>\n",
              "      <th>customerID</th>\n",
              "      <th></th>\n",
              "      <th></th>\n",
              "      <th></th>\n",
              "      <th></th>\n",
              "      <th></th>\n",
              "      <th></th>\n",
              "      <th></th>\n",
              "      <th></th>\n",
              "      <th></th>\n",
              "      <th></th>\n",
              "      <th></th>\n",
              "      <th></th>\n",
              "      <th></th>\n",
              "      <th></th>\n",
              "      <th></th>\n",
              "      <th></th>\n",
              "      <th></th>\n",
              "      <th></th>\n",
              "      <th></th>\n",
              "    </tr>\n",
              "  </thead>\n",
              "  <tbody>\n",
              "    <tr>\n",
              "      <th>7590-VHVEG</th>\n",
              "      <td>Month-to-month</td>\n",
              "      <td>Yes</td>\n",
              "      <td>Electronic check</td>\n",
              "      <td>29.85</td>\n",
              "      <td>31.04</td>\n",
              "      <td>Female</td>\n",
              "      <td>0</td>\n",
              "      <td>Yes</td>\n",
              "      <td>No</td>\n",
              "      <td>DSL</td>\n",
              "      <td>No</td>\n",
              "      <td>Yes</td>\n",
              "      <td>No</td>\n",
              "      <td>No</td>\n",
              "      <td>No</td>\n",
              "      <td>No</td>\n",
              "      <td>NaN</td>\n",
              "      <td>1</td>\n",
              "      <td>31</td>\n",
              "    </tr>\n",
              "    <tr>\n",
              "      <th>5575-GNVDE</th>\n",
              "      <td>One year</td>\n",
              "      <td>No</td>\n",
              "      <td>Mailed check</td>\n",
              "      <td>56.95</td>\n",
              "      <td>2071.84</td>\n",
              "      <td>Male</td>\n",
              "      <td>0</td>\n",
              "      <td>No</td>\n",
              "      <td>No</td>\n",
              "      <td>DSL</td>\n",
              "      <td>Yes</td>\n",
              "      <td>No</td>\n",
              "      <td>Yes</td>\n",
              "      <td>No</td>\n",
              "      <td>No</td>\n",
              "      <td>No</td>\n",
              "      <td>No</td>\n",
              "      <td>1</td>\n",
              "      <td>1036</td>\n",
              "    </tr>\n",
              "    <tr>\n",
              "      <th>3668-QPYBK</th>\n",
              "      <td>Month-to-month</td>\n",
              "      <td>Yes</td>\n",
              "      <td>Mailed check</td>\n",
              "      <td>53.85</td>\n",
              "      <td>226.17</td>\n",
              "      <td>Male</td>\n",
              "      <td>0</td>\n",
              "      <td>No</td>\n",
              "      <td>No</td>\n",
              "      <td>DSL</td>\n",
              "      <td>Yes</td>\n",
              "      <td>Yes</td>\n",
              "      <td>No</td>\n",
              "      <td>No</td>\n",
              "      <td>No</td>\n",
              "      <td>No</td>\n",
              "      <td>No</td>\n",
              "      <td>1</td>\n",
              "      <td>123</td>\n",
              "    </tr>\n",
              "    <tr>\n",
              "      <th>7795-CFOCW</th>\n",
              "      <td>One year</td>\n",
              "      <td>No</td>\n",
              "      <td>Bank transfer (automatic)</td>\n",
              "      <td>42.30</td>\n",
              "      <td>1960.6</td>\n",
              "      <td>Male</td>\n",
              "      <td>0</td>\n",
              "      <td>No</td>\n",
              "      <td>No</td>\n",
              "      <td>DSL</td>\n",
              "      <td>Yes</td>\n",
              "      <td>No</td>\n",
              "      <td>Yes</td>\n",
              "      <td>Yes</td>\n",
              "      <td>No</td>\n",
              "      <td>No</td>\n",
              "      <td>NaN</td>\n",
              "      <td>1</td>\n",
              "      <td>1371</td>\n",
              "    </tr>\n",
              "    <tr>\n",
              "      <th>9237-HQITU</th>\n",
              "      <td>Month-to-month</td>\n",
              "      <td>Yes</td>\n",
              "      <td>Electronic check</td>\n",
              "      <td>70.70</td>\n",
              "      <td>353.5</td>\n",
              "      <td>Female</td>\n",
              "      <td>0</td>\n",
              "      <td>No</td>\n",
              "      <td>No</td>\n",
              "      <td>Fiber optic</td>\n",
              "      <td>No</td>\n",
              "      <td>No</td>\n",
              "      <td>No</td>\n",
              "      <td>No</td>\n",
              "      <td>No</td>\n",
              "      <td>No</td>\n",
              "      <td>No</td>\n",
              "      <td>1</td>\n",
              "      <td>153</td>\n",
              "    </tr>\n",
              "    <tr>\n",
              "      <th>9305-CDSKC</th>\n",
              "      <td>Month-to-month</td>\n",
              "      <td>Yes</td>\n",
              "      <td>Electronic check</td>\n",
              "      <td>99.65</td>\n",
              "      <td>1150.96</td>\n",
              "      <td>Female</td>\n",
              "      <td>0</td>\n",
              "      <td>No</td>\n",
              "      <td>No</td>\n",
              "      <td>Fiber optic</td>\n",
              "      <td>No</td>\n",
              "      <td>No</td>\n",
              "      <td>Yes</td>\n",
              "      <td>No</td>\n",
              "      <td>Yes</td>\n",
              "      <td>Yes</td>\n",
              "      <td>Yes</td>\n",
              "      <td>1</td>\n",
              "      <td>337</td>\n",
              "    </tr>\n",
              "    <tr>\n",
              "      <th>1452-KIOVK</th>\n",
              "      <td>Month-to-month</td>\n",
              "      <td>Yes</td>\n",
              "      <td>Credit card (automatic)</td>\n",
              "      <td>89.10</td>\n",
              "      <td>2058.21</td>\n",
              "      <td>Male</td>\n",
              "      <td>0</td>\n",
              "      <td>No</td>\n",
              "      <td>Yes</td>\n",
              "      <td>Fiber optic</td>\n",
              "      <td>No</td>\n",
              "      <td>Yes</td>\n",
              "      <td>No</td>\n",
              "      <td>No</td>\n",
              "      <td>Yes</td>\n",
              "      <td>No</td>\n",
              "      <td>Yes</td>\n",
              "      <td>1</td>\n",
              "      <td>671</td>\n",
              "    </tr>\n",
              "    <tr>\n",
              "      <th>6713-OKOMC</th>\n",
              "      <td>Month-to-month</td>\n",
              "      <td>No</td>\n",
              "      <td>Mailed check</td>\n",
              "      <td>29.75</td>\n",
              "      <td>300.48</td>\n",
              "      <td>Female</td>\n",
              "      <td>0</td>\n",
              "      <td>No</td>\n",
              "      <td>No</td>\n",
              "      <td>DSL</td>\n",
              "      <td>Yes</td>\n",
              "      <td>No</td>\n",
              "      <td>No</td>\n",
              "      <td>No</td>\n",
              "      <td>No</td>\n",
              "      <td>No</td>\n",
              "      <td>NaN</td>\n",
              "      <td>1</td>\n",
              "      <td>306</td>\n",
              "    </tr>\n",
              "    <tr>\n",
              "      <th>7892-POOKP</th>\n",
              "      <td>Month-to-month</td>\n",
              "      <td>Yes</td>\n",
              "      <td>Electronic check</td>\n",
              "      <td>104.80</td>\n",
              "      <td>3573.68</td>\n",
              "      <td>Female</td>\n",
              "      <td>0</td>\n",
              "      <td>Yes</td>\n",
              "      <td>No</td>\n",
              "      <td>Fiber optic</td>\n",
              "      <td>No</td>\n",
              "      <td>No</td>\n",
              "      <td>Yes</td>\n",
              "      <td>Yes</td>\n",
              "      <td>Yes</td>\n",
              "      <td>Yes</td>\n",
              "      <td>Yes</td>\n",
              "      <td>1</td>\n",
              "      <td>945</td>\n",
              "    </tr>\n",
              "    <tr>\n",
              "      <th>6388-TABGU</th>\n",
              "      <td>One year</td>\n",
              "      <td>No</td>\n",
              "      <td>Bank transfer (automatic)</td>\n",
              "      <td>56.15</td>\n",
              "      <td>1628.35</td>\n",
              "      <td>Male</td>\n",
              "      <td>0</td>\n",
              "      <td>No</td>\n",
              "      <td>Yes</td>\n",
              "      <td>DSL</td>\n",
              "      <td>Yes</td>\n",
              "      <td>Yes</td>\n",
              "      <td>No</td>\n",
              "      <td>No</td>\n",
              "      <td>No</td>\n",
              "      <td>No</td>\n",
              "      <td>No</td>\n",
              "      <td>0</td>\n",
              "      <td>882</td>\n",
              "    </tr>\n",
              "  </tbody>\n",
              "</table>\n",
              "</div>"
            ],
            "text/plain": [
              "                      Type PaperlessBilling              PaymentMethod  \\\n",
              "customerID                                                               \n",
              "7590-VHVEG  Month-to-month              Yes           Electronic check   \n",
              "5575-GNVDE        One year               No               Mailed check   \n",
              "3668-QPYBK  Month-to-month              Yes               Mailed check   \n",
              "7795-CFOCW        One year               No  Bank transfer (automatic)   \n",
              "9237-HQITU  Month-to-month              Yes           Electronic check   \n",
              "9305-CDSKC  Month-to-month              Yes           Electronic check   \n",
              "1452-KIOVK  Month-to-month              Yes    Credit card (automatic)   \n",
              "6713-OKOMC  Month-to-month               No               Mailed check   \n",
              "7892-POOKP  Month-to-month              Yes           Electronic check   \n",
              "6388-TABGU        One year               No  Bank transfer (automatic)   \n",
              "\n",
              "            MonthlyCharges TotalCharges  gender  SeniorCitizen Partner  \\\n",
              "customerID                                                               \n",
              "7590-VHVEG           29.85        31.04  Female              0     Yes   \n",
              "5575-GNVDE           56.95      2071.84    Male              0      No   \n",
              "3668-QPYBK           53.85       226.17    Male              0      No   \n",
              "7795-CFOCW           42.30       1960.6    Male              0      No   \n",
              "9237-HQITU           70.70        353.5  Female              0      No   \n",
              "9305-CDSKC           99.65      1150.96  Female              0      No   \n",
              "1452-KIOVK           89.10      2058.21    Male              0      No   \n",
              "6713-OKOMC           29.75       300.48  Female              0      No   \n",
              "7892-POOKP          104.80      3573.68  Female              0     Yes   \n",
              "6388-TABGU           56.15      1628.35    Male              0      No   \n",
              "\n",
              "           Dependents InternetService OnlineSecurity OnlineBackup  \\\n",
              "customerID                                                          \n",
              "7590-VHVEG         No             DSL             No          Yes   \n",
              "5575-GNVDE         No             DSL            Yes           No   \n",
              "3668-QPYBK         No             DSL            Yes          Yes   \n",
              "7795-CFOCW         No             DSL            Yes           No   \n",
              "9237-HQITU         No     Fiber optic             No           No   \n",
              "9305-CDSKC         No     Fiber optic             No           No   \n",
              "1452-KIOVK        Yes     Fiber optic             No          Yes   \n",
              "6713-OKOMC         No             DSL            Yes           No   \n",
              "7892-POOKP         No     Fiber optic             No           No   \n",
              "6388-TABGU        Yes             DSL            Yes          Yes   \n",
              "\n",
              "           DeviceProtection TechSupport StreamingTV StreamingMovies  \\\n",
              "customerID                                                            \n",
              "7590-VHVEG               No          No          No              No   \n",
              "5575-GNVDE              Yes          No          No              No   \n",
              "3668-QPYBK               No          No          No              No   \n",
              "7795-CFOCW              Yes         Yes          No              No   \n",
              "9237-HQITU               No          No          No              No   \n",
              "9305-CDSKC              Yes          No         Yes             Yes   \n",
              "1452-KIOVK               No          No         Yes              No   \n",
              "6713-OKOMC               No          No          No              No   \n",
              "7892-POOKP              Yes         Yes         Yes             Yes   \n",
              "6388-TABGU               No          No          No              No   \n",
              "\n",
              "           MultipleLines  target  client_period  \n",
              "customerID                                       \n",
              "7590-VHVEG           NaN       1             31  \n",
              "5575-GNVDE            No       1           1036  \n",
              "3668-QPYBK            No       1            123  \n",
              "7795-CFOCW           NaN       1           1371  \n",
              "9237-HQITU            No       1            153  \n",
              "9305-CDSKC           Yes       1            337  \n",
              "1452-KIOVK           Yes       1            671  \n",
              "6713-OKOMC           NaN       1            306  \n",
              "7892-POOKP           Yes       1            945  \n",
              "6388-TABGU            No       0            882  "
            ]
          },
          "execution_count": 17,
          "metadata": {},
          "output_type": "execute_result"
        }
      ],
      "source": [
        "df_full.head(10)"
      ]
    },
    {
      "cell_type": "markdown",
      "metadata": {
        "id": "_ZjzIk4UmFqe"
      },
      "source": [
        "### Filling in the blanks"
      ]
    },
    {
      "cell_type": "markdown",
      "metadata": {
        "id": "9dptOndQmFqe"
      },
      "source": [
        "Let's fill in the data gaps by replacing them with 'No'."
      ]
    },
    {
      "cell_type": "code",
      "execution_count": null,
      "metadata": {
        "id": "SuLZ3GBimFqe"
      },
      "outputs": [],
      "source": [
        "df_full = df_full.fillna('No')"
      ]
    },
    {
      "cell_type": "markdown",
      "metadata": {
        "id": "yFVXrKvqmFqf"
      },
      "source": [
        "### Removing duplicate rows"
      ]
    },
    {
      "cell_type": "markdown",
      "metadata": {
        "id": "WPXFP6wvmFqf"
      },
      "source": [
        "Let's check for complete explicit duplicate rows"
      ]
    },
    {
      "cell_type": "code",
      "execution_count": null,
      "metadata": {
        "id": "5pjjDTAzmFqf",
        "outputId": "b812aa2c-f923-40ca-9f42-640728057195"
      },
      "outputs": [
        {
          "data": {
            "text/plain": [
              "4"
            ]
          },
          "execution_count": 19,
          "metadata": {},
          "output_type": "execute_result"
        }
      ],
      "source": [
        "df_full.duplicated().sum()"
      ]
    },
    {
      "cell_type": "markdown",
      "metadata": {
        "id": "Q9t7j_rYmFqf"
      },
      "source": [
        "Let's remove duplicates"
      ]
    },
    {
      "cell_type": "code",
      "execution_count": null,
      "metadata": {
        "id": "dknw_LDkmFqf"
      },
      "outputs": [],
      "source": [
        "df_full = df_full.drop_duplicates()"
      ]
    },
    {
      "cell_type": "markdown",
      "metadata": {
        "id": "iBoWbvsGmFqg"
      },
      "source": [
        "### Changing data types in columns"
      ]
    },
    {
      "cell_type": "code",
      "execution_count": null,
      "metadata": {
        "id": "BdSvt2U4mFqg"
      },
      "outputs": [],
      "source": [
        "df_full.loc[df_full['TotalCharges'] == ' ', 'TotalCharges'] = 0\n",
        "\n",
        "df_full['TotalCharges'] = pd.to_numeric(df_full['TotalCharges'])"
      ]
    },
    {
      "cell_type": "code",
      "execution_count": null,
      "metadata": {
        "id": "n5Eau1SPmFqg",
        "outputId": "3117e428-107b-4d82-be09-9d30c3755d62"
      },
      "outputs": [
        {
          "name": "stdout",
          "output_type": "stream",
          "text": [
            "<class 'pandas.core.frame.DataFrame'>\n",
            "Index: 7039 entries, 7590-VHVEG to 3186-AJIEK\n",
            "Data columns (total 19 columns):\n",
            " #   Column            Non-Null Count  Dtype  \n",
            "---  ------            --------------  -----  \n",
            " 0   Type              7039 non-null   object \n",
            " 1   PaperlessBilling  7039 non-null   object \n",
            " 2   PaymentMethod     7039 non-null   object \n",
            " 3   MonthlyCharges    7039 non-null   float64\n",
            " 4   TotalCharges      7039 non-null   float64\n",
            " 5   gender            7039 non-null   object \n",
            " 6   SeniorCitizen     7039 non-null   int64  \n",
            " 7   Partner           7039 non-null   object \n",
            " 8   Dependents        7039 non-null   object \n",
            " 9   InternetService   7039 non-null   object \n",
            " 10  OnlineSecurity    7039 non-null   object \n",
            " 11  OnlineBackup      7039 non-null   object \n",
            " 12  DeviceProtection  7039 non-null   object \n",
            " 13  TechSupport       7039 non-null   object \n",
            " 14  StreamingTV       7039 non-null   object \n",
            " 15  StreamingMovies   7039 non-null   object \n",
            " 16  MultipleLines     7039 non-null   object \n",
            " 17  target            7039 non-null   int64  \n",
            " 18  client_period     7039 non-null   int64  \n",
            "dtypes: float64(2), int64(3), object(14)\n",
            "memory usage: 1.1+ MB\n"
          ]
        }
      ],
      "source": [
        "df_full.info()"
      ]
    },
    {
      "cell_type": "markdown",
      "metadata": {
        "id": "7VmR6aTMmFqg"
      },
      "source": [
        "### Exploring the correlation between columns of data"
      ]
    },
    {
      "cell_type": "code",
      "execution_count": null,
      "metadata": {
        "id": "H-atGVSfmFqg"
      },
      "outputs": [],
      "source": [
        "df_full_features = df_full.copy()\n",
        "df_full_features.drop(['target'],axis=1,inplace=True)"
      ]
    },
    {
      "cell_type": "code",
      "execution_count": null,
      "metadata": {
        "id": "8soRhK5TmFqh",
        "outputId": "d627253e-5c3f-4c40-fdda-95fbb058f6b2"
      },
      "outputs": [
        {
          "data": {
            "image/png": "[encoded data removed]",
            "text/plain": [
              "<Figure size 1152x648 with 2 Axes>"
            ]
          },
          "metadata": {
            "needs_background": "light"
          },
          "output_type": "display_data"
        }
      ],
      "source": [
        "corr_matrix = df_full_features.phik_matrix(interval_cols=['MonthlyCharges','client_period','TotalCharges', 'SeniorCitizen'])\n",
        "\n",
        "fig, ax = plt.subplots(figsize=(16, 9))\n",
        "sns.heatmap(corr_matrix, annot=True, cmap='crest', linewidths=0.5, ax=ax, center=0)\n",
        "ax.set_title('Тепловая карта корреляции признаков', fontsize=20);"
      ]
    },
    {
      "cell_type": "markdown",
      "metadata": {
        "id": "Ice3Ho2EmFqh"
      },
      "source": [
        "The correlation heat map shows a relationship between the data in the 'InternetService' and 'MonthlyCharges' columns. Correlation coefficient value = 0.92. Despite this, we will not rule out any of these signs."
      ]
    },
    {
      "cell_type": "markdown",
      "metadata": {
        "id": "McaaLJdBmFqh"
      },
      "source": [
        "### Converting column names to snake style"
      ]
    },
    {
      "cell_type": "markdown",
      "metadata": {
        "id": "0gxvIUjumFqh"
      },
      "source": [
        "At the end of the preprocessing stage, we convert the column names to “snake case”."
      ]
    },
    {
      "cell_type": "code",
      "execution_count": null,
      "metadata": {
        "id": "lw17Zf1WmFqh"
      },
      "outputs": [],
      "source": [
        "def snake_column_name (column_name):\n",
        "    mask = re.sub('(.)([A-Z][a-z]+)', r'\\1_\\2', column_name)\n",
        "    snake_column_name = re.sub('([a-z0-9])([A-Z])', r'\\1_\\2', mask).lower()\n",
        "    return snake_column_name\n",
        "\n",
        "def re_name (df):\n",
        "    new_names = []\n",
        "    for column in df.columns:\n",
        "        new_name = snake_column_name(column)\n",
        "        new_names.append(new_name)\n",
        "    df.columns = new_names\n",
        "    return df\n",
        "\n",
        "df_full_features = re_name(df_full_features)"
      ]
    },
    {
      "cell_type": "markdown",
      "metadata": {
        "id": "th20MxXRmFqi"
      },
      "source": [
        "### Results of preprocessing"
      ]
    },
    {
      "cell_type": "code",
      "execution_count": null,
      "metadata": {
        "id": "S1y00pqsmFqi"
      },
      "outputs": [],
      "source": [
        "df_full_features=df_full_features.astype({'senior_citizen':object})"
      ]
    },
    {
      "cell_type": "code",
      "execution_count": null,
      "metadata": {
        "id": "7c7YckvFmFqi",
        "outputId": "7158d169-1cf9-45d7-9e3e-dfdd005d2a0b"
      },
      "outputs": [
        {
          "name": "stdout",
          "output_type": "stream",
          "text": [
            "<class 'pandas.core.frame.DataFrame'>\n",
            "Index: 7039 entries, 7590-VHVEG to 3186-AJIEK\n",
            "Data columns (total 18 columns):\n",
            " #   Column             Non-Null Count  Dtype  \n",
            "---  ------             --------------  -----  \n",
            " 0   type               7039 non-null   object \n",
            " 1   paperless_billing  7039 non-null   object \n",
            " 2   payment_method     7039 non-null   object \n",
            " 3   monthly_charges    7039 non-null   float64\n",
            " 4   total_charges      7039 non-null   float64\n",
            " 5   gender             7039 non-null   object \n",
            " 6   senior_citizen     7039 non-null   object \n",
            " 7   partner            7039 non-null   object \n",
            " 8   dependents         7039 non-null   object \n",
            " 9   internet_service   7039 non-null   object \n",
            " 10  online_security    7039 non-null   object \n",
            " 11  online_backup      7039 non-null   object \n",
            " 12  device_protection  7039 non-null   object \n",
            " 13  tech_support       7039 non-null   object \n",
            " 14  streaming_tv       7039 non-null   object \n",
            " 15  streaming_movies   7039 non-null   object \n",
            " 16  multiple_lines     7039 non-null   object \n",
            " 17  client_period      7039 non-null   int64  \n",
            "dtypes: float64(2), int64(1), object(15)\n",
            "memory usage: 1.0+ MB\n"
          ]
        }
      ],
      "source": [
        "df_full_features.info()"
      ]
    },
    {
      "cell_type": "markdown",
      "metadata": {
        "id": "lXFMSEK3mFqi"
      },
      "source": [
        "Intermediate conclusion for the section.\n",
        "\n",
        "After preprocessing, the data is ready to form samples (training and testing), on which various machine learning models will be trained."
      ]
    },
    {
      "cell_type": "markdown",
      "metadata": {
        "id": "GVgRkNLvmFqj"
      },
      "source": [
        "## Model training and selection of the best model"
      ]
    },
    {
      "cell_type": "markdown",
      "metadata": {
        "id": "Dmm-7XMRmFqj"
      },
      "source": [
        "### Dividing samples into training and testing"
      ]
    },
    {
      "cell_type": "code",
      "execution_count": null,
      "metadata": {
        "id": "Yn1pSpjqmFqj"
      },
      "outputs": [],
      "source": [
        "RANDOM_STATE = 280823"
      ]
    },
    {
      "cell_type": "code",
      "execution_count": null,
      "metadata": {
        "id": "rIdsTc5BmFqj"
      },
      "outputs": [],
      "source": [
        "features = df_full_features\n",
        "target   = df_full['target']\n",
        "\n",
        "numeric_features  = ['monthly_charges', 'total_charges', 'client_period']\n",
        "category_features = features.drop(['monthly_charges', 'total_charges','client_period'], axis=1).columns.tolist()\n",
        "\n",
        "features_train, features_test, target_train, target_test = tts(features, target, test_size=0.25, random_state=RANDOM_STATE)"
      ]
    },
    {
      "cell_type": "markdown",
      "metadata": {
        "id": "E-QFRxO9mFqk"
      },
      "source": [
        "Checking the ratio of dimensions of training and test samples"
      ]
    },
    {
      "cell_type": "code",
      "execution_count": null,
      "metadata": {
        "id": "ENxv-0t1mFqk",
        "outputId": "4aa46124-f89a-4083-cd21-aa512399b546"
      },
      "outputs": [
        {
          "data": {
            "text/plain": [
              "['type',\n",
              " 'paperless_billing',\n",
              " 'payment_method',\n",
              " 'gender',\n",
              " 'senior_citizen',\n",
              " 'partner',\n",
              " 'dependents',\n",
              " 'internet_service',\n",
              " 'online_security',\n",
              " 'online_backup',\n",
              " 'device_protection',\n",
              " 'tech_support',\n",
              " 'streaming_tv',\n",
              " 'streaming_movies',\n",
              " 'multiple_lines']"
            ]
          },
          "execution_count": 30,
          "metadata": {},
          "output_type": "execute_result"
        }
      ],
      "source": [
        "category_features"
      ]
    },
    {
      "cell_type": "code",
      "execution_count": null,
      "metadata": {
        "id": "ENxUgPFimFqk",
        "outputId": "3b7ade0d-54d2-41c4-93c3-2385d2509288"
      },
      "outputs": [
        {
          "data": {
            "text/plain": [
              "array(['One year', 'Month-to-month', 'Two year'], dtype=object)"
            ]
          },
          "execution_count": 31,
          "metadata": {},
          "output_type": "execute_result"
        }
      ],
      "source": [
        "features_train['type'].unique()"
      ]
    },
    {
      "cell_type": "code",
      "execution_count": null,
      "metadata": {
        "id": "e4jxW6ttmFqk",
        "outputId": "27193c22-52df-45fe-dc3d-144a91cd087c"
      },
      "outputs": [
        {
          "data": {
            "text/plain": [
              "array(['Yes', 'No'], dtype=object)"
            ]
          },
          "execution_count": 32,
          "metadata": {},
          "output_type": "execute_result"
        }
      ],
      "source": [
        "features_train['paperless_billing'].unique()"
      ]
    },
    {
      "cell_type": "code",
      "execution_count": null,
      "metadata": {
        "id": "dLVoyjYjmFql",
        "outputId": "015522cd-54e1-4974-c810-87f089307cf3"
      },
      "outputs": [
        {
          "data": {
            "text/plain": [
              "array(['Bank transfer (automatic)', 'Mailed check', 'Electronic check',\n",
              "       'Credit card (automatic)'], dtype=object)"
            ]
          },
          "execution_count": 33,
          "metadata": {},
          "output_type": "execute_result"
        }
      ],
      "source": [
        "features_train['payment_method'].unique()"
      ]
    },
    {
      "cell_type": "code",
      "execution_count": null,
      "metadata": {
        "id": "vClmrlW5mFql",
        "outputId": "71964577-e6c2-4b86-bf0b-b43661e683ac"
      },
      "outputs": [
        {
          "data": {
            "text/plain": [
              "array(['Female', 'Male'], dtype=object)"
            ]
          },
          "execution_count": 34,
          "metadata": {},
          "output_type": "execute_result"
        }
      ],
      "source": [
        "features_train['gender'].unique()"
      ]
    },
    {
      "cell_type": "code",
      "execution_count": null,
      "metadata": {
        "id": "aQAk0ixGmFql",
        "outputId": "daf5d507-33a1-4e73-ef04-86c0f036f70f"
      },
      "outputs": [
        {
          "data": {
            "text/plain": [
              "array([0, 1], dtype=object)"
            ]
          },
          "execution_count": 35,
          "metadata": {},
          "output_type": "execute_result"
        }
      ],
      "source": [
        "features_train['senior_citizen'].unique()"
      ]
    },
    {
      "cell_type": "code",
      "execution_count": null,
      "metadata": {
        "id": "C-1tDOxTmFql",
        "outputId": "7b8ed597-3996-4484-826d-d1b03fe0e670"
      },
      "outputs": [
        {
          "data": {
            "text/plain": [
              "array(['No', 'Yes'], dtype=object)"
            ]
          },
          "execution_count": 36,
          "metadata": {},
          "output_type": "execute_result"
        }
      ],
      "source": [
        "features_train['partner'].unique()"
      ]
    },
    {
      "cell_type": "code",
      "execution_count": null,
      "metadata": {
        "id": "BHznC-pKmFql",
        "outputId": "141c6611-2b4e-497c-95a2-60f631523fcd"
      },
      "outputs": [
        {
          "data": {
            "text/plain": [
              "array(['No', 'Yes'], dtype=object)"
            ]
          },
          "execution_count": 37,
          "metadata": {},
          "output_type": "execute_result"
        }
      ],
      "source": [
        "features_train['dependents'].unique()"
      ]
    },
    {
      "cell_type": "code",
      "execution_count": null,
      "metadata": {
        "id": "MW2By28bmFqm",
        "outputId": "584e8715-7e9b-45f9-f398-6fa85bf5d2fa"
      },
      "outputs": [
        {
          "data": {
            "text/plain": [
              "array(['Fiber optic', 'No', 'DSL'], dtype=object)"
            ]
          },
          "execution_count": 38,
          "metadata": {},
          "output_type": "execute_result"
        }
      ],
      "source": [
        "features_train['internet_service'].unique()"
      ]
    },
    {
      "cell_type": "code",
      "execution_count": null,
      "metadata": {
        "id": "oRqI2aG8mFqm",
        "outputId": "15e7a645-01bc-479c-bcca-3d38fd7f39d5"
      },
      "outputs": [
        {
          "data": {
            "text/plain": [
              "array(['Yes', 'No'], dtype=object)"
            ]
          },
          "execution_count": 39,
          "metadata": {},
          "output_type": "execute_result"
        }
      ],
      "source": [
        "features_train['online_security'].unique()"
      ]
    },
    {
      "cell_type": "code",
      "execution_count": null,
      "metadata": {
        "id": "AUHCIFGMmFqm",
        "outputId": "94e78fc4-370d-482f-a1ad-19cd7997abf0"
      },
      "outputs": [
        {
          "data": {
            "text/plain": [
              "array(['No', 'Yes'], dtype=object)"
            ]
          },
          "execution_count": 40,
          "metadata": {},
          "output_type": "execute_result"
        }
      ],
      "source": [
        "features_train['online_backup'].unique()"
      ]
    },
    {
      "cell_type": "code",
      "execution_count": null,
      "metadata": {
        "id": "NnziyLg3mFqm",
        "outputId": "daaf93a1-a99d-4df0-d02c-53d720852165"
      },
      "outputs": [
        {
          "data": {
            "text/plain": [
              "array(['Yes', 'No'], dtype=object)"
            ]
          },
          "execution_count": 41,
          "metadata": {},
          "output_type": "execute_result"
        }
      ],
      "source": [
        "features_train['device_protection'].unique()"
      ]
    },
    {
      "cell_type": "code",
      "execution_count": null,
      "metadata": {
        "id": "w4HDRkDsmFqm",
        "outputId": "7ff0ca24-fe1d-4029-8b03-1d3060cf0ed6"
      },
      "outputs": [
        {
          "data": {
            "text/plain": [
              "array(['No', 'Yes'], dtype=object)"
            ]
          },
          "execution_count": 42,
          "metadata": {},
          "output_type": "execute_result"
        }
      ],
      "source": [
        "features_train['streaming_tv'].unique()"
      ]
    },
    {
      "cell_type": "code",
      "execution_count": null,
      "metadata": {
        "id": "ufQJ87eimFqm",
        "outputId": "3b824d14-f64b-4d97-a244-103aa66774d2"
      },
      "outputs": [
        {
          "data": {
            "text/plain": [
              "array(['Yes', 'No'], dtype=object)"
            ]
          },
          "execution_count": 43,
          "metadata": {},
          "output_type": "execute_result"
        }
      ],
      "source": [
        "features_train['streaming_movies'].unique()"
      ]
    },
    {
      "cell_type": "code",
      "execution_count": null,
      "metadata": {
        "id": "v1SaEnr6mFqn",
        "outputId": "88726521-8324-4a56-9cf1-6222e55d72c0"
      },
      "outputs": [
        {
          "data": {
            "text/plain": [
              "array(['No', 'Yes'], dtype=object)"
            ]
          },
          "execution_count": 44,
          "metadata": {},
          "output_type": "execute_result"
        }
      ],
      "source": [
        "features_train['multiple_lines'].unique()"
      ]
    },
    {
      "cell_type": "code",
      "execution_count": null,
      "metadata": {
        "id": "OtavNkAdmFqn",
        "outputId": "22c704da-b82d-44ce-adcf-37f6348c75a3"
      },
      "outputs": [
        {
          "data": {
            "text/plain": [
              "(5279, 18)"
            ]
          },
          "execution_count": 45,
          "metadata": {},
          "output_type": "execute_result"
        }
      ],
      "source": [
        "features_train.shape"
      ]
    },
    {
      "cell_type": "code",
      "execution_count": null,
      "metadata": {
        "id": "6Docx797mFqn",
        "outputId": "6baf0d53-59a8-4ac0-fb64-83eced3f559f"
      },
      "outputs": [
        {
          "data": {
            "text/plain": [
              "(1760, 18)"
            ]
          },
          "execution_count": 46,
          "metadata": {},
          "output_type": "execute_result"
        }
      ],
      "source": [
        "features_test.shape"
      ]
    },
    {
      "cell_type": "code",
      "execution_count": null,
      "metadata": {
        "id": "Izioso97mFqn",
        "outputId": "1b3f61bc-0326-4644-d16e-2e3739d15299"
      },
      "outputs": [
        {
          "name": "stdout",
          "output_type": "stream",
          "text": [
            "3.0\n"
          ]
        }
      ],
      "source": [
        "print(round(features_train.shape[0]/features_test.shape[0],2))"
      ]
    },
    {
      "cell_type": "code",
      "execution_count": null,
      "metadata": {
        "id": "CZVBgNI6mFqn",
        "outputId": "78227316-c62e-48df-995d-cc5bc51d5666"
      },
      "outputs": [
        {
          "data": {
            "text/plain": [
              "(5279,)"
            ]
          },
          "execution_count": 48,
          "metadata": {},
          "output_type": "execute_result"
        }
      ],
      "source": [
        "target_train.shape"
      ]
    },
    {
      "cell_type": "code",
      "execution_count": null,
      "metadata": {
        "id": "7yKLW7C1mFqo",
        "outputId": "8b69bbe2-a2bc-48f7-adaf-a4f98b966188"
      },
      "outputs": [
        {
          "data": {
            "text/plain": [
              "(1760,)"
            ]
          },
          "execution_count": 49,
          "metadata": {},
          "output_type": "execute_result"
        }
      ],
      "source": [
        "target_test.shape"
      ]
    },
    {
      "cell_type": "code",
      "execution_count": null,
      "metadata": {
        "id": "KFiI3grNmFqo",
        "outputId": "fce5c184-2343-419b-ccc8-8f10a26ba0fb"
      },
      "outputs": [
        {
          "name": "stdout",
          "output_type": "stream",
          "text": [
            "3.0\n"
          ]
        }
      ],
      "source": [
        "print(round(target_train.shape[0]/target_test.shape[0],2))"
      ]
    },
    {
      "cell_type": "markdown",
      "metadata": {
        "id": "yJHmhZ7AmFqo"
      },
      "source": [
        "The division of data into training and test samples was performed correctly, in the required ratio of 3:1."
      ]
    },
    {
      "cell_type": "markdown",
      "metadata": {
        "id": "wq72OgyYmFqo"
      },
      "source": [
        "### Model training LogisticRegression"
      ]
    },
    {
      "cell_type": "code",
      "execution_count": null,
      "metadata": {
        "id": "xb_3jixomFqo"
      },
      "outputs": [],
      "source": [
        "numeric_scaler = StandardScaler()\n",
        "category_encoder_lr = OneHotEncoder(handle_unknown='error', drop='first')"
      ]
    },
    {
      "cell_type": "code",
      "execution_count": null,
      "metadata": {
        "id": "sbqBXjqOmFqo"
      },
      "outputs": [],
      "source": [
        "transform_lr = ColumnTransformer(transformers=[('num', numeric_scaler, numeric_features),\n",
        "                                               ('cat', category_encoder_lr, category_features)])"
      ]
    },
    {
      "cell_type": "code",
      "execution_count": null,
      "metadata": {
        "id": "4NyDTtksmFqp"
      },
      "outputs": [],
      "source": [
        "pipe_line_lr = Pipeline(steps=[\n",
        "    ('preprocessor', transform_lr),\n",
        "    ('feature_selection', SelectFromModel(LogisticRegression(random_state=RANDOM_STATE), threshold=0.05)),\n",
        "    ('classifier', LogisticRegression(random_state=RANDOM_STATE))])\n",
        "\n",
        "model_lr_parametrs = {'classifier__C': [0.1, 0.5, 1.0, 1.5,2.0],\n",
        "                      'classifier__penalty': ['l1', 'l2'],\n",
        "                      'classifier__solver': ['liblinear']}"
      ]
    },
    {
      "cell_type": "code",
      "execution_count": null,
      "metadata": {
        "id": "LpApv93imFqp"
      },
      "outputs": [],
      "source": [
        "model_lr = GridSearchCV(pipe_line_lr,\n",
        "                        model_lr_parametrs,\n",
        "                        cv=5,\n",
        "                        scoring='roc_auc',\n",
        "                        n_jobs=-1)"
      ]
    },
    {
      "cell_type": "code",
      "execution_count": null,
      "metadata": {
        "id": "En0ur534mFqq",
        "outputId": "f1c38331-8603-470e-adff-1ca5437cb788"
      },
      "outputs": [
        {
          "data": {
            "text/plain": [
              "GridSearchCV(cv=5,\n",
              "             estimator=Pipeline(steps=[('preprocessor',\n",
              "                                        ColumnTransformer(transformers=[('num',\n",
              "                                                                         StandardScaler(),\n",
              "                                                                         ['monthly_charges',\n",
              "                                                                          'total_charges',\n",
              "                                                                          'client_period']),\n",
              "                                                                        ('cat',\n",
              "                                                                         OneHotEncoder(drop='first'),\n",
              "                                                                         ['type',\n",
              "                                                                          'paperless_billing',\n",
              "                                                                          'payment_method',\n",
              "                                                                          'gender',\n",
              "                                                                          'senior_citizen',\n",
              "                                                                          'partner',\n",
              "                                                                          'dependents',\n",
              "                                                                          'internet_service',\n",
              "                                                                          'online_security',\n",
              "                                                                          'online_backup'...\n",
              "                                                                          'streaming_movies',\n",
              "                                                                          'multiple_lines'])])),\n",
              "                                       ('feature_selection',\n",
              "                                        SelectFromModel(estimator=LogisticRegression(random_state=280823),\n",
              "                                                        threshold=0.05)),\n",
              "                                       ('classifier',\n",
              "                                        LogisticRegression(random_state=280823))]),\n",
              "             n_jobs=-1,\n",
              "             param_grid={'classifier__C': [0.1, 0.5, 1.0, 1.5, 2.0],\n",
              "                         'classifier__penalty': ['l1', 'l2'],\n",
              "                         'classifier__solver': ['liblinear']},\n",
              "             scoring='roc_auc')"
            ]
          },
          "execution_count": 55,
          "metadata": {},
          "output_type": "execute_result"
        }
      ],
      "source": [
        "model_lr.fit(features_train, target_train)"
      ]
    },
    {
      "cell_type": "code",
      "execution_count": null,
      "metadata": {
        "id": "zjKzSZccmFqq",
        "outputId": "e4835efa-4a41-43f1-d67f-00119a0e6820"
      },
      "outputs": [
        {
          "name": "stdout",
          "output_type": "stream",
          "text": [
            "Лучшие гиперпараметры:  {'classifier__C': 1.0, 'classifier__penalty': 'l1', 'classifier__solver': 'liblinear'}\n",
            "Лучшее значение метрики ROC-AUC:  0.769\n"
          ]
        }
      ],
      "source": [
        "print('Лучшие гиперпараметры: ', model_lr.best_params_)\n",
        "print('Лучшее значение метрики ROC-AUC: ', round(model_lr.best_score_,3))"
      ]
    },
    {
      "cell_type": "markdown",
      "metadata": {
        "id": "UA3SfsFjmFqr"
      },
      "source": [
        "### Model training RandomForestClassifier"
      ]
    },
    {
      "cell_type": "code",
      "execution_count": null,
      "metadata": {
        "id": "aFE1q5fGmFqr"
      },
      "outputs": [],
      "source": [
        "numeric_scaler   = StandardScaler()\n",
        "category_encoder = OneHotEncoder(handle_unknown='ignore')"
      ]
    },
    {
      "cell_type": "code",
      "execution_count": null,
      "metadata": {
        "id": "SERVDdjcmFqs"
      },
      "outputs": [],
      "source": [
        "transform_rfc = ColumnTransformer(transformers=[('num', numeric_scaler, numeric_features),\n",
        "                                                ('cat', category_encoder, category_features)])"
      ]
    },
    {
      "cell_type": "code",
      "execution_count": null,
      "metadata": {
        "id": "uqI-swFCmFqs"
      },
      "outputs": [],
      "source": [
        "pipe_line_rfc = Pipeline(steps=[\n",
        "    ('preprocessor', transform_rfc),\n",
        "    ('feature_selection', SelectFromModel(RandomForestClassifier(random_state=RANDOM_STATE), threshold=0.05)),\n",
        "    ('classifier', RandomForestClassifier(random_state=RANDOM_STATE))])\n",
        "\n",
        "model_rfc_parametrs = {'classifier__n_estimators': range(100, 601, 250),\n",
        "                       'classifier__max_depth': range(1, 27, 5),\n",
        "                       'classifier__min_samples_split': [2, 10, 20],\n",
        "                       'classifier__min_samples_leaf': [1, 2] }"
      ]
    },
    {
      "cell_type": "code",
      "execution_count": null,
      "metadata": {
        "id": "JwyXBZh0mFqs"
      },
      "outputs": [],
      "source": [
        "model_rfc = GridSearchCV(pipe_line_rfc,\n",
        "                         model_rfc_parametrs,\n",
        "                         cv=5,\n",
        "                         scoring='roc_auc',\n",
        "                         n_jobs=-1)"
      ]
    },
    {
      "cell_type": "code",
      "execution_count": null,
      "metadata": {
        "id": "h1UcXndZmFqs",
        "outputId": "ef5004ef-dfe1-44a6-e9fe-c11c11bdf139"
      },
      "outputs": [
        {
          "data": {
            "text/plain": [
              "GridSearchCV(cv=5,\n",
              "             estimator=Pipeline(steps=[('preprocessor',\n",
              "                                        ColumnTransformer(transformers=[('num',\n",
              "                                                                         StandardScaler(),\n",
              "                                                                         ['monthly_charges',\n",
              "                                                                          'total_charges',\n",
              "                                                                          'client_period']),\n",
              "                                                                        ('cat',\n",
              "                                                                         OneHotEncoder(handle_unknown='ignore'),\n",
              "                                                                         ['type',\n",
              "                                                                          'paperless_billing',\n",
              "                                                                          'payment_method',\n",
              "                                                                          'gender',\n",
              "                                                                          'senior_citizen',\n",
              "                                                                          'partner',\n",
              "                                                                          'dependents',\n",
              "                                                                          'internet_service',\n",
              "                                                                          'online_security',\n",
              "                                                                          'onl...\n",
              "                                        SelectFromModel(estimator=RandomForestClassifier(random_state=280823),\n",
              "                                                        threshold=0.05)),\n",
              "                                       ('classifier',\n",
              "                                        RandomForestClassifier(random_state=280823))]),\n",
              "             n_jobs=-1,\n",
              "             param_grid={'classifier__max_depth': range(1, 27, 5),\n",
              "                         'classifier__min_samples_leaf': [1, 2],\n",
              "                         'classifier__min_samples_split': [2, 10, 20],\n",
              "                         'classifier__n_estimators': range(100, 601, 250)},\n",
              "             scoring='roc_auc')"
            ]
          },
          "execution_count": 61,
          "metadata": {},
          "output_type": "execute_result"
        }
      ],
      "source": [
        "model_rfc.fit(features_train, target_train)"
      ]
    },
    {
      "cell_type": "code",
      "execution_count": null,
      "metadata": {
        "id": "zmuLI-1BmFqs",
        "outputId": "c8d153e2-a04a-4c51-f440-60238a78ccca"
      },
      "outputs": [
        {
          "name": "stdout",
          "output_type": "stream",
          "text": [
            "Лучшие гиперпараметры:  {'classifier__max_depth': 16, 'classifier__min_samples_leaf': 1, 'classifier__min_samples_split': 20, 'classifier__n_estimators': 350}\n",
            "Лучшее значение метрики ROC-AUC:  0.808\n"
          ]
        }
      ],
      "source": [
        "print('Лучшие гиперпараметры: ', model_rfc.best_params_)\n",
        "print('Лучшее значение метрики ROC-AUC: ', round(model_rfc.best_score_,3))"
      ]
    },
    {
      "cell_type": "markdown",
      "metadata": {
        "id": "5UI4YlDImFqt"
      },
      "source": [
        "### Model training CatBoostClassifier"
      ]
    },
    {
      "cell_type": "code",
      "execution_count": null,
      "metadata": {
        "id": "D1E5ma53mFqt"
      },
      "outputs": [],
      "source": [
        "features_train[category_features] = features_train[category_features].astype('category')"
      ]
    },
    {
      "cell_type": "code",
      "execution_count": null,
      "metadata": {
        "id": "LgGB6EImmFqt",
        "outputId": "20b5cc7a-e79d-4220-e7a0-ad13635b5944"
      },
      "outputs": [
        {
          "name": "stdout",
          "output_type": "stream",
          "text": [
            "<class 'pandas.core.frame.DataFrame'>\n",
            "Index: 5279 entries, 9909-DFRJA to 5712-AHQNN\n",
            "Data columns (total 18 columns):\n",
            " #   Column             Non-Null Count  Dtype   \n",
            "---  ------             --------------  -----   \n",
            " 0   type               5279 non-null   category\n",
            " 1   paperless_billing  5279 non-null   category\n",
            " 2   payment_method     5279 non-null   category\n",
            " 3   monthly_charges    5279 non-null   float64 \n",
            " 4   total_charges      5279 non-null   float64 \n",
            " 5   gender             5279 non-null   category\n",
            " 6   senior_citizen     5279 non-null   category\n",
            " 7   partner            5279 non-null   category\n",
            " 8   dependents         5279 non-null   category\n",
            " 9   internet_service   5279 non-null   category\n",
            " 10  online_security    5279 non-null   category\n",
            " 11  online_backup      5279 non-null   category\n",
            " 12  device_protection  5279 non-null   category\n",
            " 13  tech_support       5279 non-null   category\n",
            " 14  streaming_tv       5279 non-null   category\n",
            " 15  streaming_movies   5279 non-null   category\n",
            " 16  multiple_lines     5279 non-null   category\n",
            " 17  client_period      5279 non-null   int64   \n",
            "dtypes: category(15), float64(2), int64(1)\n",
            "memory usage: 244.2+ KB\n"
          ]
        }
      ],
      "source": [
        "features_train.info()"
      ]
    },
    {
      "cell_type": "code",
      "execution_count": null,
      "metadata": {
        "id": "COLFGMAMmFqt",
        "outputId": "0be52277-de65-49e9-9cd1-f66333e9c6fd"
      },
      "outputs": [
        {
          "data": {
            "text/plain": [
              "['type',\n",
              " 'paperless_billing',\n",
              " 'payment_method',\n",
              " 'gender',\n",
              " 'senior_citizen',\n",
              " 'partner',\n",
              " 'dependents',\n",
              " 'internet_service',\n",
              " 'online_security',\n",
              " 'online_backup',\n",
              " 'device_protection',\n",
              " 'tech_support',\n",
              " 'streaming_tv',\n",
              " 'streaming_movies',\n",
              " 'multiple_lines']"
            ]
          },
          "execution_count": 65,
          "metadata": {},
          "output_type": "execute_result"
        }
      ],
      "source": [
        "category_features"
      ]
    },
    {
      "cell_type": "code",
      "execution_count": null,
      "metadata": {
        "id": "lYOkZ8RbmFqu"
      },
      "outputs": [],
      "source": [
        "pipe_line_cbc = Pipeline(steps=[\n",
        "    ('feature_selection', SelectFromModel(CatBoostClassifier(random_state=RANDOM_STATE,\n",
        "                                                             cat_features=[0,1,2,5,6,7,8,9,10,11,12,13,14,15,16],\n",
        "                                                             verbose=False),\n",
        "                                          threshold=0.05)),\n",
        "    ('classifier', CatBoostClassifier(random_state=RANDOM_STATE,\n",
        "                                      verbose=False,\n",
        "                                      cat_features=[0,1,2,5,6,7,8,9,10,11,12,13,14,15,16]))\n",
        "])"
      ]
    },
    {
      "cell_type": "code",
      "execution_count": null,
      "metadata": {
        "id": "e4xOzLwumFqu"
      },
      "outputs": [],
      "source": [
        "model_cbc_parametrs = {\n",
        "                       'classifier__iterations': [1000, 1500, 2000],\n",
        "                       'classifier__learning_rate': [0.03, 0.1],\n",
        "                       'classifier__depth': [4, 6],\n",
        "                       'classifier__l2_leaf_reg': [1, 3]\n",
        "                      }\n",
        "\n",
        "model_cbc = GridSearchCV(pipe_line_cbc,\n",
        "                         model_cbc_parametrs,\n",
        "                         cv=5,\n",
        "                         error_score='raise',\n",
        "                         scoring='roc_auc',\n",
        "                         n_jobs=-1)"
      ]
    },
    {
      "cell_type": "code",
      "execution_count": null,
      "metadata": {
        "id": "Fsgo4eRSmFqu",
        "outputId": "5c2994e1-125c-4693-cb0d-00e9bec091f9"
      },
      "outputs": [
        {
          "data": {
            "text/plain": [
              "GridSearchCV(cv=5, error_score='raise',\n",
              "             estimator=Pipeline(steps=[('feature_selection',\n",
              "                                        SelectFromModel(estimator=<catboost.core.CatBoostClassifier object at 0x7f6db30d0880>,\n",
              "                                                        threshold=0.05)),\n",
              "                                       ('classifier',\n",
              "                                        <catboost.core.CatBoostClassifier object at 0x7f6db30d0dc0>)]),\n",
              "             n_jobs=-1,\n",
              "             param_grid={'classifier__depth': [4, 6],\n",
              "                         'classifier__iterations': [1000, 1500, 2000],\n",
              "                         'classifier__l2_leaf_reg': [1, 3],\n",
              "                         'classifier__learning_rate': [0.03, 0.1]},\n",
              "             scoring='roc_auc')"
            ]
          },
          "execution_count": 68,
          "metadata": {},
          "output_type": "execute_result"
        }
      ],
      "source": [
        "model_cbc.fit(features_train, target_train)"
      ]
    },
    {
      "cell_type": "code",
      "execution_count": null,
      "metadata": {
        "id": "9T2MWq4MmFqu",
        "outputId": "6abb8108-7197-479b-da8e-f28c2dbc46c5"
      },
      "outputs": [
        {
          "name": "stdout",
          "output_type": "stream",
          "text": [
            "Лучшие гиперпараметры:  {'classifier__depth': 4, 'classifier__iterations': 1000, 'classifier__l2_leaf_reg': 1, 'classifier__learning_rate': 0.1}\n",
            "Лучшее значение метрики ROC-AUC:  0.925\n"
          ]
        }
      ],
      "source": [
        "print('Лучшие гиперпараметры: ', model_cbc.best_params_)\n",
        "print('Лучшее значение метрики ROC-AUC: ', round(model_cbc.best_score_,3))"
      ]
    },
    {
      "cell_type": "markdown",
      "metadata": {
        "id": "gTeinqQXmFqv"
      },
      "source": [
        "### Checking the best model on a test set"
      ]
    },
    {
      "cell_type": "code",
      "execution_count": null,
      "metadata": {
        "id": "mbCwyxHtmFqv"
      },
      "outputs": [],
      "source": [
        "model = model_cbc.best_estimator_\n",
        "\n",
        "model_pred  = model.predict_proba(features_test)\n",
        "model_score = roc_auc(target_test, model_pred[:, 1])"
      ]
    },
    {
      "cell_type": "code",
      "execution_count": null,
      "metadata": {
        "id": "wH35zlqTmFqv",
        "outputId": "1a7bd03b-8b2a-41c5-d295-412f3dbb9918"
      },
      "outputs": [
        {
          "name": "stdout",
          "output_type": "stream",
          "text": [
            "Значение метрики 'ROC-AUC' на тестовой выборке:  0.917\n"
          ]
        }
      ],
      "source": [
        "print('Значение метрики \\'ROC-AUC\\' на тестовой выборке: ', round(model_score,3))"
      ]
    },
    {
      "cell_type": "markdown",
      "metadata": {
        "id": "S5DOyEvNmFqv"
      },
      "source": [
        "The best model on the test sample showed a **ROC-AUC metric value of 91.7%**, which is higher than the required value (85%) determined when setting the problem.\n",
        "\n",
        "Thus, the task has been completed: the model has been selected (**CatBoostClassifier**) and hyperparameters have been selected for it, giving the best value for the roc-auc metric."
      ]
    },
    {
      "cell_type": "markdown",
      "metadata": {
        "id": "Y7Z9JevvmFqw"
      },
      "source": [
        "### Error matrix of the best model"
      ]
    },
    {
      "cell_type": "code",
      "execution_count": null,
      "metadata": {
        "id": "l9Rz_KqrmFqw"
      },
      "outputs": [],
      "source": [
        "model_pred  = model.predict(features_test)\n",
        "\n",
        "confusion_matrix = confusion_matrix(target_test, model_pred)"
      ]
    },
    {
      "cell_type": "code",
      "execution_count": null,
      "metadata": {
        "id": "K3MZ7ERqmFqw",
        "outputId": "a3efbc51-f2ec-4649-fd11-7d019bfae48c"
      },
      "outputs": [
        {
          "data": {
            "image/png": "[encoded data removed]",
            "text/plain": [
              "<Figure size 432x288 with 2 Axes>"
            ]
          },
          "metadata": {
            "needs_background": "light"
          },
          "output_type": "display_data"
        }
      ],
      "source": [
        "disp = ConfusionMatrixDisplay(confusion_matrix=confusion_matrix, display_labels=model.classes_)\n",
        "\n",
        "disp.plot(cmap='Blues')\n",
        "\n",
        "plt.title ('Матрица ошибок', fontsize=16)\n",
        "plt.ylabel('Истинные значения', fontsize=14)\n",
        "plt.xlabel('Предсказанные значения', fontsize=14);"
      ]
    },
    {
      "cell_type": "markdown",
      "metadata": {
        "id": "FKFBYnmamFqx"
      },
      "source": [
        "Of the available 1,760 objects in the test sample, the model correctly predicted 1,625 (1,474 - 1/1 and 151 - 0/0). Those. in more than 92% of cases the model gives the correct result.\n",
        "\n",
        "The model is very good at predicting customers who will stay with the company, here the accuracy of the model is more than 98.5% (1,474 / 1,495).\n",
        "\n",
        "For a large proportion of 43% (114 / 265) clients who left, the model predicts that the client will remain. This indicator, without taking into account the total number of objects in the test sample, may seem significant, however, if we evaluate the final value of the model error - less than 8% ((21+114) / 1,760), then we can consider that the model successfully copes with the task, significantly exceeding the minimum specified accuracy of 85%."
      ]
    },
    {
      "cell_type": "markdown",
      "metadata": {
        "id": "n6-c2jUamFqx"
      },
      "source": [
        "### Feature significance analysis"
      ]
    },
    {
      "cell_type": "code",
      "execution_count": null,
      "metadata": {
        "id": "7ZCgUGcWmFqx",
        "outputId": "1a7ac0f5-382a-4d31-907b-ea2e58272760"
      },
      "outputs": [
        {
          "data": {
            "text/html": [
              "<div>\n",
              "<style scoped>\n",
              "    .dataframe tbody tr th:only-of-type {\n",
              "        vertical-align: middle;\n",
              "    }\n",
              "\n",
              "    .dataframe tbody tr th {\n",
              "        vertical-align: top;\n",
              "    }\n",
              "\n",
              "    .dataframe thead th {\n",
              "        text-align: right;\n",
              "    }\n",
              "</style>\n",
              "<table border=\"1\" class=\"dataframe\">\n",
              "  <thead>\n",
              "    <tr style=\"text-align: right;\">\n",
              "      <th></th>\n",
              "      <th>Признак</th>\n",
              "      <th>Значимость</th>\n",
              "    </tr>\n",
              "  </thead>\n",
              "  <tbody>\n",
              "    <tr>\n",
              "      <th>17</th>\n",
              "      <td>client_period</td>\n",
              "      <td>54.704242</td>\n",
              "    </tr>\n",
              "    <tr>\n",
              "      <th>4</th>\n",
              "      <td>total_charges</td>\n",
              "      <td>11.595487</td>\n",
              "    </tr>\n",
              "    <tr>\n",
              "      <th>3</th>\n",
              "      <td>monthly_charges</td>\n",
              "      <td>9.774656</td>\n",
              "    </tr>\n",
              "    <tr>\n",
              "      <th>0</th>\n",
              "      <td>type</td>\n",
              "      <td>6.792472</td>\n",
              "    </tr>\n",
              "    <tr>\n",
              "      <th>2</th>\n",
              "      <td>payment_method</td>\n",
              "      <td>3.446375</td>\n",
              "    </tr>\n",
              "    <tr>\n",
              "      <th>7</th>\n",
              "      <td>partner</td>\n",
              "      <td>2.624335</td>\n",
              "    </tr>\n",
              "    <tr>\n",
              "      <th>9</th>\n",
              "      <td>internet_service</td>\n",
              "      <td>2.093089</td>\n",
              "    </tr>\n",
              "    <tr>\n",
              "      <th>16</th>\n",
              "      <td>multiple_lines</td>\n",
              "      <td>1.715298</td>\n",
              "    </tr>\n",
              "    <tr>\n",
              "      <th>11</th>\n",
              "      <td>online_backup</td>\n",
              "      <td>1.483644</td>\n",
              "    </tr>\n",
              "    <tr>\n",
              "      <th>12</th>\n",
              "      <td>device_protection</td>\n",
              "      <td>1.017820</td>\n",
              "    </tr>\n",
              "    <tr>\n",
              "      <th>6</th>\n",
              "      <td>senior_citizen</td>\n",
              "      <td>0.888821</td>\n",
              "    </tr>\n",
              "    <tr>\n",
              "      <th>15</th>\n",
              "      <td>streaming_movies</td>\n",
              "      <td>0.741980</td>\n",
              "    </tr>\n",
              "    <tr>\n",
              "      <th>1</th>\n",
              "      <td>paperless_billing</td>\n",
              "      <td>0.718114</td>\n",
              "    </tr>\n",
              "    <tr>\n",
              "      <th>8</th>\n",
              "      <td>dependents</td>\n",
              "      <td>0.682141</td>\n",
              "    </tr>\n",
              "    <tr>\n",
              "      <th>13</th>\n",
              "      <td>tech_support</td>\n",
              "      <td>0.537247</td>\n",
              "    </tr>\n",
              "    <tr>\n",
              "      <th>14</th>\n",
              "      <td>streaming_tv</td>\n",
              "      <td>0.465831</td>\n",
              "    </tr>\n",
              "    <tr>\n",
              "      <th>10</th>\n",
              "      <td>online_security</td>\n",
              "      <td>0.400982</td>\n",
              "    </tr>\n",
              "    <tr>\n",
              "      <th>5</th>\n",
              "      <td>gender</td>\n",
              "      <td>0.317467</td>\n",
              "    </tr>\n",
              "  </tbody>\n",
              "</table>\n",
              "</div>"
            ],
            "text/plain": [
              "              Признак  Значимость\n",
              "17      client_period   54.704242\n",
              "4       total_charges   11.595487\n",
              "3     monthly_charges    9.774656\n",
              "0                type    6.792472\n",
              "2      payment_method    3.446375\n",
              "7             partner    2.624335\n",
              "9    internet_service    2.093089\n",
              "16     multiple_lines    1.715298\n",
              "11      online_backup    1.483644\n",
              "12  device_protection    1.017820\n",
              "6      senior_citizen    0.888821\n",
              "15   streaming_movies    0.741980\n",
              "1   paperless_billing    0.718114\n",
              "8          dependents    0.682141\n",
              "13       tech_support    0.537247\n",
              "14       streaming_tv    0.465831\n",
              "10    online_security    0.400982\n",
              "5              gender    0.317467"
            ]
          },
          "execution_count": 74,
          "metadata": {},
          "output_type": "execute_result"
        }
      ],
      "source": [
        "features_names = features.columns.tolist()\n",
        "features_importances = model.named_steps['classifier'].feature_importances_\n",
        "\n",
        "features_importance = pd.DataFrame({'Признак': features_names,\n",
        "                                    'Значимость': features_importances}).sort_values(by='Значимость', ascending=False)\n",
        "\n",
        "features_importance"
      ]
    },
    {
      "cell_type": "code",
      "execution_count": null,
      "metadata": {
        "id": "6WUlJY17mFqx",
        "outputId": "38f46395-86f9-4c81-dcc0-3051c4189b74"
      },
      "outputs": [
        {
          "data": {
            "image/png": "[encoded data removed]",
            "text/plain": [
              "<Figure size 1152x648 with 1 Axes>"
            ]
          },
          "metadata": {
            "needs_background": "light"
          },
          "output_type": "display_data"
        }
      ],
      "source": [
        "plt.figure(figsize=(16, 9))\n",
        "ax = sns.barplot(x='Значимость', y='Признак', data=features_importance, orient='h')\n",
        "ax.set_xlabel('Значимость', fontsize=14)\n",
        "ax.set_ylabel('Признак', fontsize=14)\n",
        "ax.set_title('График значимости признаков', fontsize=16)\n",
        "\n",
        "for i, v in enumerate(features_importance['Значимость']):\n",
        "     ax.text(v/2, i + .25, str(round(v, 1)), color='black', fontweight='bold', ha='center', fontsize=9);"
      ]
    },
    {
      "cell_type": "markdown",
      "metadata": {
        "id": "ERCvIqFBmFqy"
      },
      "source": [
        "Of the **18** features on which the model was trained, the main influence is exerted by the **'client_period'** feature - the period during which the client uses the company's services. Next in order of importance are the signs with the size of total (**'total_charges'**) and monthly payments (**'monthly_charges'**) and payment types.\n",
        "\n",
        "The total importance of the **7** most important features is **91%**.\n",
        "\n",
        "\n",
        "**The least influence** on the model is characterized by the attributes 'gender', 'online_security', 'streaming_tv', 'tech_support', 'dependents'. Their combined influence on the model is **only 2.4%**."
      ]
    },
    {
      "cell_type": "markdown",
      "metadata": {
        "id": "Nt_kYzMbmFqy"
      },
      "source": [
        "**OUTPUT by section:**\n",
        "\n",
        "As a result of performing the selection of the best model, based on the roc-auc metric, the **CatBoostClassifier** model was selected. The remaining models considered (LogisticRegression and RandomForestClassifier) give the worst results in terms of quality metrics.\n",
        "\n",
        "For the best model, the best hyperparameters were selected to maximize the quality metric.\n",
        "\n",
        "The best hyperparameters for the selected model are:\n",
        "- 'classifier__depth': 4,\n",
        "- 'classifier__iterations': 1000,\n",
        "- 'classifier__l2_leaf_reg': 1,\n",
        "- 'classifier__learning_rate': 0.1\n",
        "\n",
        "The best model was tested on a test sample and showed a quality metric value of **91.7%**.\n",
        "\n",
        "The importance of the features was analyzed and the most important features (client_period, total_charges, monthly_charges) and the least important ('gender', 'online_security', 'streaming_tv', 'tech_support', 'dependents') were identified.\n",
        "It was found that the importance of the first three signs is 76.1%, and the last 5 - 2.4%."
      ]
    },
    {
      "cell_type": "markdown",
      "metadata": {
        "id": "NtbV_YURmFqy"
      },
      "source": [
        "## PROJECT REPORT"
      ]
    },
    {
      "cell_type": "markdown",
      "metadata": {
        "id": "P86FjWGHmFqy"
      },
      "source": [
        "### Project goals and objectives"
      ]
    },
    {
      "cell_type": "markdown",
      "metadata": {
        "id": "7MKHtYPZmFqz"
      },
      "source": [
        "**Objective of the project:**\n",
        "\n",
        "To create a machine learning model for the customer - telecom operator **\"Niedinogazryva.com\"**, which predicts, based on historical data, whether the client plans to leave or not.\n",
        "\n",
        "**Project objectives:**\n",
        "\n",
        "- Solve **classification problem, supervised learning**.\n",
        "- Train a model that determines the client’s desire to refuse the company’s services.\n",
        "- The trained model must have a quality metric score **AUC-ROC** of at least **0.85**."
      ]
    },
    {
      "cell_type": "markdown",
      "metadata": {
        "id": "JcZKLzvBmFqz"
      },
      "source": [
        "### Project execution plan:\n"
      ]
    },
    {
      "cell_type": "markdown",
      "metadata": {
        "id": "E1JItGjLmFqz"
      },
      "source": [
        "**1. Pre-processing and exploratory data analysis**\n",
        "- Loading data from files\n",
        "- Combining data into one dataset\n",
        "- Data preprocessing\n",
        "- Bringing data to correct formats\n",
        "- Filling in the blanks\n",
        "- Study of anomalies\n",
        "- Study of correlation between data\n",
        "- Elimination of redundant data\n",
        "\n",
        "**2. Preparing data for training models and training multiple models**\n",
        "- Dividing the data into training and test samples, in a ratio of 3:1\n",
        "- Coding of features: categorical and numeric\n",
        "- Training of several models (at least 3) with selection of the best hyperparameters\n",
        "- Selecting the best model on the training set\n",
        "- Checking the best model on a test sample\n",
        "\n",
        "**3. Generation of the final report**\n",
        "- Summarizing data on the completed project and formulating the final conclusion, incl. study of the importance of features and the formation and interpretation of an error matrix\n",
        "- Indication of the best model with its hyperparameters\n",
        "- List of features on which the model was trained."
      ]
    },
    {
      "cell_type": "markdown",
      "metadata": {
        "id": "haWm30L6mFqz"
      },
      "source": [
        "**During the implementation of the project, the plan was fully implemented; no adjustments to the plan based on actual actions had to be made.**"
      ]
    },
    {
      "cell_type": "markdown",
      "metadata": {
        "id": "kvlV3d8gmFqz"
      },
      "source": [
        "### Description of the main steps actually performed when working on the project:\n",
        "\n",
        "- The data was loaded from 4 different files into 4 variables. Already during the loading process, an attempt was made to load date data into datetime format.\n",
        "- A review of the data loaded from each file was performed.\n",
        "- The data was merged into 1 file (merge(left, right, on=['customerID'], how='outer')).\n",
        "- Obvious complete duplicate lines have been removed, gaps have been filled in (with the value \"No\").\n",
        "- Based on data about the beginning (BeginDate) and end (EndDate) of the contractual relationship with the client, two additional characteristics were created: - the period (\"client_period\") during which the client is (was) a client and the target characteristic (\"target\") is cb rkbtyn rkbtynjv (1) or the client is no longer a client (0). After which the BeginDate and EndDate columns were removed from the characteristics, because no longer provide value for model training;\n",
        "- Data are reduced to the required formats - numeric attributes to float and int formats, and categorical attributes to object;\n",
        "- The correlation between signs has been studied. It was found that the characteristics InternetService and MonthlyCharges have the highest correlation, the correlation coefficient between them is 0.92;\n",
        "- column names are adjusted to \"snake_style\".\n",
        "\n",
        "**TOTAL, for training the models, a sample size of 7,039 rows by 18 columns was generated, of which 1 - int, 2 - float and 15 - object.**\n",
        "\n",
        "### RESULTS of the project:\n",
        "\n",
        "To solve the project problem, 3 machine learning models were created and trained:\n",
        "- LogisticRegression;\n",
        "- RandomForestClassifier;\n",
        "- CatBoostClassifier.\n",
        "\n",
        "The selection of the best hyperparameters of the models was carried out using GridSearchCV.\n",
        "\n",
        "The results of training models with the best hyperparameters according to the roc-auc quality metric are as follows:\n",
        "- LogisticRegression - 76.9%;\n",
        "- RandomForestClassifier - 80.8%;\n",
        "- CatBoostClassifier - 92.5%.\n",
        "\n",
        "Thus, the best indicator in terms of quality metric was the **CatBoostClassifier** model with the following hyperparameters:\n",
        "- 'classifier__depth': 4,\n",
        "- 'classifier__iterations': 1000,\n",
        "- 'classifier__l2_leaf_reg': 1,\n",
        "- 'classifier__learning_rate': 0.1\n",
        "\n",
        "The best model was tested on a test sample, where it showed a quality metric value of **91.7%**,\n",
        "\n",
        "Thus, **project objectives have been fully completed**.\n",
        "\n",
        "Also, during the project, the error matrix of the best model was analyzed and it was found that the model correctly predicts customers who remain in the company with almost 100% accuracy (98.5%) and predicts those who leave the company with worse accuracy. In general, the model copes with the task and even exceeds it (the actual metric value is significantly higher than the minimum required threshold).\n",
        "\n",
        "In conclusion, an analysis of the importance of features was carried out, which showed that of the **18** features on which the model was trained, the main influence is exerted by the feature **'client_period'** - the period during which the client uses the company's services. Next in order of importance are the signs with the size of total (**'total_charges'**) and monthly payments (**'monthly_charges'**) and payment types. The total importance of the **7** most important features is **91%**.\n",
        "**The least influence** on the model is characterized by the attributes 'gender', 'online_security', 'streaming_tv', 'tech_support', 'dependents'. Their combined influence on the model is **only 2.4%**."
      ]
    },
    {
      "cell_type": "markdown",
      "metadata": {
        "id": "-E4b4dSYmFq0"
      },
      "source": [
        "**Appendix to the Project Report**\n",
        "\n",
        "List of features on which the best model was trained:\n",
        "\n",
        "- client_period - the period in days during which the client had a contractual relationship with the customer;\n",
        "- total_charges - total subscriber expenses;\n",
        "- monthly_charges - monthly expenses;\n",
        "- type - type of payment: once a year or two or monthly;\n",
        "- payment_method - payment type;\n",
        "- partner - whether the subscriber has a spouse;\n",
        "- internet_service - connection type;\n",
        "- multiple_lines - connect the phone to several lines at the same time;\n",
        "- online_backup - cloud file storage for data backup;\n",
        "- device_protection - antivirus;\n",
        "- senior_citizen - whether the subscriber is a pensioner;\n",
        "- streaming_movies - movie directory;\n",
        "- paperless_billing - electronic pay sheet;\n",
        "- dependents - whether the subscriber has children;\n",
        "- tech_support - dedicated technical support line;\n",
        "- streaming_tv - streaming television;\n",
        "- online_security - blocking dangerous sites;\n",
        "- gender - gender."
      ]
    }
  ],
  "metadata": {
    "ExecuteTimeLog": [
      {
        "duration": 3635,
        "start_time": "2023-09-04T21:48:19.349Z"
      },
      {
        "duration": 1684,
        "start_time": "2023-09-04T21:48:22.987Z"
      },
      {
        "duration": 467,
        "start_time": "2023-09-04T21:48:24.673Z"
      },
      {
        "duration": 3,
        "start_time": "2023-09-04T21:48:25.142Z"
      },
      {
        "duration": 57,
        "start_time": "2023-09-04T21:48:25.148Z"
      },
      {
        "duration": 40,
        "start_time": "2023-09-04T21:48:25.207Z"
      },
      {
        "duration": 104,
        "start_time": "2023-09-04T21:48:25.250Z"
      },
      {
        "duration": 55,
        "start_time": "2023-09-04T21:48:25.357Z"
      },
      {
        "duration": 110,
        "start_time": "2023-09-04T21:48:25.414Z"
      },
      {
        "duration": 7,
        "start_time": "2023-09-04T21:48:25.525Z"
      },
      {
        "duration": 16,
        "start_time": "2023-09-04T21:48:25.535Z"
      },
      {
        "duration": 20,
        "start_time": "2023-09-04T21:48:25.554Z"
      },
      {
        "duration": 78,
        "start_time": "2023-09-04T21:48:25.577Z"
      },
      {
        "duration": 0,
        "start_time": "2023-09-04T21:48:25.658Z"
      },
      {
        "duration": 0,
        "start_time": "2023-09-04T21:48:25.660Z"
      },
      {
        "duration": 0,
        "start_time": "2023-09-04T21:48:25.661Z"
      },
      {
        "duration": 0,
        "start_time": "2023-09-04T21:48:25.662Z"
      },
      {
        "duration": 0,
        "start_time": "2023-09-04T21:48:25.664Z"
      },
      {
        "duration": 0,
        "start_time": "2023-09-04T21:48:25.665Z"
      },
      {
        "duration": 0,
        "start_time": "2023-09-04T21:48:25.667Z"
      },
      {
        "duration": 0,
        "start_time": "2023-09-04T21:48:25.668Z"
      },
      {
        "duration": 0,
        "start_time": "2023-09-04T21:48:25.669Z"
      },
      {
        "duration": 0,
        "start_time": "2023-09-04T21:48:25.671Z"
      },
      {
        "duration": 0,
        "start_time": "2023-09-04T21:48:25.672Z"
      },
      {
        "duration": 0,
        "start_time": "2023-09-04T21:48:25.674Z"
      },
      {
        "duration": 0,
        "start_time": "2023-09-04T21:48:25.675Z"
      },
      {
        "duration": 0,
        "start_time": "2023-09-04T21:48:25.677Z"
      },
      {
        "duration": 0,
        "start_time": "2023-09-04T21:48:25.678Z"
      },
      {
        "duration": 0,
        "start_time": "2023-09-04T21:48:25.680Z"
      },
      {
        "duration": 0,
        "start_time": "2023-09-04T21:48:25.681Z"
      },
      {
        "duration": 0,
        "start_time": "2023-09-04T21:48:25.682Z"
      },
      {
        "duration": 0,
        "start_time": "2023-09-04T21:48:25.685Z"
      },
      {
        "duration": 0,
        "start_time": "2023-09-04T21:48:25.686Z"
      },
      {
        "duration": 0,
        "start_time": "2023-09-04T21:48:25.687Z"
      },
      {
        "duration": 0,
        "start_time": "2023-09-04T21:48:25.688Z"
      },
      {
        "duration": 0,
        "start_time": "2023-09-04T21:48:25.690Z"
      },
      {
        "duration": 0,
        "start_time": "2023-09-04T21:48:25.690Z"
      },
      {
        "duration": 0,
        "start_time": "2023-09-04T21:48:25.691Z"
      },
      {
        "duration": 0,
        "start_time": "2023-09-04T21:48:25.692Z"
      },
      {
        "duration": 0,
        "start_time": "2023-09-04T21:48:25.693Z"
      },
      {
        "duration": 0,
        "start_time": "2023-09-04T21:48:25.694Z"
      },
      {
        "duration": 0,
        "start_time": "2023-09-04T21:48:25.695Z"
      },
      {
        "duration": 0,
        "start_time": "2023-09-04T21:48:25.695Z"
      },
      {
        "duration": 0,
        "start_time": "2023-09-04T21:48:25.696Z"
      },
      {
        "duration": 0,
        "start_time": "2023-09-04T21:48:25.696Z"
      },
      {
        "duration": 0,
        "start_time": "2023-09-04T21:48:25.697Z"
      },
      {
        "duration": 0,
        "start_time": "2023-09-04T21:48:25.697Z"
      },
      {
        "duration": 0,
        "start_time": "2023-09-04T21:48:25.710Z"
      },
      {
        "duration": 0,
        "start_time": "2023-09-04T21:48:25.711Z"
      },
      {
        "duration": 0,
        "start_time": "2023-09-04T21:48:25.713Z"
      },
      {
        "duration": 0,
        "start_time": "2023-09-04T21:48:25.714Z"
      },
      {
        "duration": 0,
        "start_time": "2023-09-04T21:48:25.715Z"
      },
      {
        "duration": 0,
        "start_time": "2023-09-04T21:48:25.716Z"
      },
      {
        "duration": 0,
        "start_time": "2023-09-04T21:48:25.717Z"
      },
      {
        "duration": 0,
        "start_time": "2023-09-04T21:48:25.718Z"
      },
      {
        "duration": 0,
        "start_time": "2023-09-04T21:48:25.720Z"
      },
      {
        "duration": 0,
        "start_time": "2023-09-04T21:48:25.721Z"
      },
      {
        "duration": 0,
        "start_time": "2023-09-04T21:48:25.722Z"
      },
      {
        "duration": 0,
        "start_time": "2023-09-04T21:48:25.723Z"
      },
      {
        "duration": 0,
        "start_time": "2023-09-04T21:48:25.724Z"
      },
      {
        "duration": 0,
        "start_time": "2023-09-04T21:48:25.726Z"
      },
      {
        "duration": 0,
        "start_time": "2023-09-04T21:48:25.727Z"
      },
      {
        "duration": 0,
        "start_time": "2023-09-04T21:48:25.728Z"
      },
      {
        "duration": 0,
        "start_time": "2023-09-04T21:48:25.729Z"
      },
      {
        "duration": 0,
        "start_time": "2023-09-04T21:48:25.730Z"
      },
      {
        "duration": 0,
        "start_time": "2023-09-04T21:48:25.731Z"
      },
      {
        "duration": 0,
        "start_time": "2023-09-04T21:48:25.732Z"
      },
      {
        "duration": 0,
        "start_time": "2023-09-04T21:48:25.733Z"
      },
      {
        "duration": 0,
        "start_time": "2023-09-04T21:48:25.734Z"
      },
      {
        "duration": 0,
        "start_time": "2023-09-04T21:48:25.735Z"
      },
      {
        "duration": 0,
        "start_time": "2023-09-04T21:48:25.736Z"
      },
      {
        "duration": 0,
        "start_time": "2023-09-04T21:48:25.737Z"
      },
      {
        "duration": 0,
        "start_time": "2023-09-04T21:48:25.738Z"
      },
      {
        "duration": 0,
        "start_time": "2023-09-04T21:48:25.740Z"
      },
      {
        "duration": 0,
        "start_time": "2023-09-04T21:48:25.741Z"
      },
      {
        "duration": 9,
        "start_time": "2023-09-04T21:49:06.225Z"
      },
      {
        "duration": 7,
        "start_time": "2023-09-04T21:49:07.237Z"
      },
      {
        "duration": 7,
        "start_time": "2023-09-04T21:49:10.157Z"
      },
      {
        "duration": 19,
        "start_time": "2023-09-04T21:49:10.630Z"
      },
      {
        "duration": 10,
        "start_time": "2023-09-04T21:49:12.765Z"
      },
      {
        "duration": 19,
        "start_time": "2023-09-04T21:49:14.894Z"
      },
      {
        "duration": 16,
        "start_time": "2023-09-04T21:49:16.625Z"
      },
      {
        "duration": 7,
        "start_time": "2023-09-04T21:49:17.207Z"
      },
      {
        "duration": 29,
        "start_time": "2023-09-04T21:49:18.558Z"
      },
      {
        "duration": 6,
        "start_time": "2023-09-04T21:49:20.197Z"
      },
      {
        "duration": 3269,
        "start_time": "2023-09-04T21:49:20.742Z"
      },
      {
        "duration": 5,
        "start_time": "2023-09-04T21:49:27.714Z"
      },
      {
        "duration": 9,
        "start_time": "2023-09-04T21:49:30.974Z"
      },
      {
        "duration": 18,
        "start_time": "2023-09-04T21:49:31.518Z"
      },
      {
        "duration": 2,
        "start_time": "2023-09-04T21:49:35.095Z"
      },
      {
        "duration": 11,
        "start_time": "2023-09-04T21:49:35.782Z"
      },
      {
        "duration": 4,
        "start_time": "2023-09-04T21:49:36.760Z"
      },
      {
        "duration": 5,
        "start_time": "2023-09-04T21:49:36.956Z"
      },
      {
        "duration": 4,
        "start_time": "2023-09-04T21:49:37.160Z"
      },
      {
        "duration": 5,
        "start_time": "2023-09-04T21:49:37.318Z"
      },
      {
        "duration": 5,
        "start_time": "2023-09-04T21:49:37.503Z"
      },
      {
        "duration": 5,
        "start_time": "2023-09-04T21:49:37.661Z"
      },
      {
        "duration": 5,
        "start_time": "2023-09-04T21:49:37.831Z"
      },
      {
        "duration": 4,
        "start_time": "2023-09-04T21:49:37.998Z"
      },
      {
        "duration": 4,
        "start_time": "2023-09-04T21:49:38.161Z"
      },
      {
        "duration": 5,
        "start_time": "2023-09-04T21:49:38.334Z"
      },
      {
        "duration": 4,
        "start_time": "2023-09-04T21:49:38.502Z"
      },
      {
        "duration": 5,
        "start_time": "2023-09-04T21:49:38.680Z"
      },
      {
        "duration": 5,
        "start_time": "2023-09-04T21:49:38.862Z"
      },
      {
        "duration": 5,
        "start_time": "2023-09-04T21:49:39.039Z"
      },
      {
        "duration": 5,
        "start_time": "2023-09-04T21:49:39.231Z"
      },
      {
        "duration": 4,
        "start_time": "2023-09-04T21:49:39.452Z"
      },
      {
        "duration": 4,
        "start_time": "2023-09-04T21:49:39.639Z"
      },
      {
        "duration": 3,
        "start_time": "2023-09-04T21:49:39.823Z"
      },
      {
        "duration": 4,
        "start_time": "2023-09-04T21:49:40.007Z"
      },
      {
        "duration": 4,
        "start_time": "2023-09-04T21:49:40.223Z"
      },
      {
        "duration": 3,
        "start_time": "2023-09-04T21:49:40.561Z"
      },
      {
        "duration": 3,
        "start_time": "2023-09-04T21:49:41.919Z"
      },
      {
        "duration": 3,
        "start_time": "2023-09-04T21:49:42.366Z"
      },
      {
        "duration": 6,
        "start_time": "2023-09-04T21:49:43.303Z"
      },
      {
        "duration": 3,
        "start_time": "2023-09-04T21:49:45.060Z"
      },
      {
        "duration": 48206,
        "start_time": "2023-09-04T21:49:46.061Z"
      },
      {
        "duration": 4,
        "start_time": "2023-09-04T21:50:34.269Z"
      },
      {
        "duration": 10,
        "start_time": "2023-09-04T21:50:34.275Z"
      },
      {
        "duration": 24,
        "start_time": "2023-09-04T21:50:34.287Z"
      },
      {
        "duration": 6,
        "start_time": "2023-09-04T21:50:34.312Z"
      },
      {
        "duration": 5,
        "start_time": "2023-09-04T21:50:34.320Z"
      },
      {
        "duration": 990807,
        "start_time": "2023-09-04T21:50:34.327Z"
      },
      {
        "duration": 4,
        "start_time": "2023-09-04T22:07:05.136Z"
      },
      {
        "duration": 32,
        "start_time": "2023-09-04T22:07:05.142Z"
      },
      {
        "duration": 44,
        "start_time": "2023-09-04T22:07:05.177Z"
      },
      {
        "duration": 7,
        "start_time": "2023-09-04T22:07:05.226Z"
      },
      {
        "duration": 26,
        "start_time": "2023-09-04T22:07:05.237Z"
      },
      {
        "duration": 20,
        "start_time": "2023-09-04T22:07:05.267Z"
      },
      {
        "duration": 2430537,
        "start_time": "2023-09-04T22:07:05.289Z"
      },
      {
        "duration": 4,
        "start_time": "2023-09-04T22:47:35.828Z"
      },
      {
        "duration": 20,
        "start_time": "2023-09-04T22:47:35.835Z"
      },
      {
        "duration": 4,
        "start_time": "2023-09-04T22:47:35.857Z"
      },
      {
        "duration": 22,
        "start_time": "2023-09-04T22:47:35.863Z"
      },
      {
        "duration": 203,
        "start_time": "2023-09-04T22:47:35.887Z"
      },
      {
        "duration": 26,
        "start_time": "2023-09-04T22:47:36.093Z"
      },
      {
        "duration": 377,
        "start_time": "2023-09-04T22:47:36.122Z"
      }
    ],
    "kernelspec": {
      "display_name": "Python 3 (ipykernel)",
      "language": "python",
      "name": "python3"
    },
    "language_info": {
      "codemirror_mode": {
        "name": "ipython",
        "version": 3
      },
      "file_extension": ".py",
      "mimetype": "text/x-python",
      "name": "python",
      "nbconvert_exporter": "python",
      "pygments_lexer": "ipython3",
      "version": "3.9.5"
    },
    "toc": {
      "base_numbering": 1,
      "nav_menu": {},
      "number_sections": true,
      "sideBar": true,
      "skip_h1_title": true,
      "title_cell": "Table of Contents",
      "title_sidebar": "Contents",
      "toc_cell": false,
      "toc_position": {},
      "toc_section_display": true,
      "toc_window_display": false
    },
    "colab": {
      "provenance": []
    }
  },
  "nbformat": 4,
  "nbformat_minor": 0
}