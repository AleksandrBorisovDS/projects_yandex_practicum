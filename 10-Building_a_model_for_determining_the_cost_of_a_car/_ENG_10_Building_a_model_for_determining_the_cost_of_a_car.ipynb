{
  "cells": [
    {
      "cell_type": "markdown",
      "metadata": {
        "id": "BGnmDpUPMu9S"
      },
      "source": [
        "# PROJECT\n",
        "# Development of a machine learning model to predict the cost of a used car"
      ]
    },
    {
      "cell_type": "markdown",
      "metadata": {
        "id": "kN4ZW_LJMu9T"
      },
      "source": [
        "##Formulation of the problem"
      ]
    },
    {
      "cell_type": "markdown",
      "metadata": {
        "id": "VeEc1pmUMu9U"
      },
      "source": [
        "The customer, the service for selling used cars “Not a Bit, Not a Paint,” is developing an application to attract new customers.\n",
        "\n",
        "There you can **quickly** find out the market value of your car.\n",
        "\n",
        "Based on historical data (technical characteristics, configurations and prices of cars), it is necessary to build a machine learning model (solve a regression problem, supervised learning) to predict the market value of cars of application users.\n",
        "\n",
        "The following are important to the customer:\n",
        "- prediction quality (must be determined by the RMSE metric, the value of which should be less than 2,500);\n",
        "- prediction speed;\n",
        "- studying time.\n",
        "\n",
        "Composition of historical data:\n",
        "\n",
        "**Features**\n",
        "- DateCrawled — date the profile was downloaded from the database\n",
        "- VehicleType - car body type\n",
        "- RegistrationYear—year of vehicle registration\n",
        "- Gearbox - gearbox type\n",
        "- Power - power (hp)\n",
        "- Model - car model\n",
        "- Kilometer - mileage (km)\n",
        "- RegistrationMonth—month of vehicle registration\n",
        "- FuelType - fuel type\n",
        "- Brand - car brand\n",
        "- Repaired - whether the car was repaired or not\n",
        "- DateCreated — date of creation of the profile\n",
        "- NumberOfPictures — number of photos of the car\n",
        "- PostalCode — postal code of the profile owner (user)\n",
        "- LastSeen — date of the user’s last activity\n",
        "\n",
        "**Target feature**\n",
        "- Price — price (euros)"
      ]
    },
    {
      "cell_type": "markdown",
      "metadata": {
        "id": "uw7h2YraMu9U"
      },
      "source": [
        "## Data preparation"
      ]
    },
    {
      "cell_type": "code",
      "execution_count": null,
      "metadata": {
        "id": "nCXEd1r0Mu9V"
      },
      "outputs": [],
      "source": [
        "import lightgbm as lgb\n",
        "import numpy    as np\n",
        "import pandas   as pd\n",
        "import seaborn  as sns\n",
        "from matplotlib import pyplot as plt\n",
        "\n",
        "from catboost import CatBoostRegressor\n",
        "from sklearn.linear_model import LinearRegression\n",
        "\n",
        "from sklearn.compose import make_column_transformer\n",
        "from sklearn.model_selection import train_test_split as tts\n",
        "from sklearn.preprocessing import StandardScaler, OrdinalEncoder, OneHotEncoder\n",
        "\n",
        "from sklearn.compose import ColumnTransformer\n",
        "from sklearn.compose._column_transformer import _is_empty_column_selection\n",
        "\n",
        "from sklearn.metrics import mean_squared_error as mse\n",
        "\n",
        "import time\n",
        "import warnings\n",
        "warnings.filterwarnings('ignore')"
      ]
    },
    {
      "cell_type": "code",
      "execution_count": null,
      "metadata": {
        "id": "LxcLm2qbMu9X"
      },
      "outputs": [],
      "source": [
        "data = pd.read_csv('/datasets/autos.csv', parse_dates = ['DateCrawled', 'DateCreated', 'LastSeen'])"
      ]
    },
    {
      "cell_type": "code",
      "execution_count": null,
      "metadata": {
        "id": "Zt2SpBKzMu9X",
        "outputId": "ad6f366b-5c17-4073-9ae3-629865f39ab5"
      },
      "outputs": [
        {
          "name": "stdout",
          "output_type": "stream",
          "text": [
            "<class 'pandas.core.frame.DataFrame'>\n",
            "RangeIndex: 354369 entries, 0 to 354368\n",
            "Data columns (total 16 columns):\n",
            " #   Column             Non-Null Count   Dtype         \n",
            "---  ------             --------------   -----         \n",
            " 0   DateCrawled        354369 non-null  datetime64[ns]\n",
            " 1   Price              354369 non-null  int64         \n",
            " 2   VehicleType        316879 non-null  object        \n",
            " 3   RegistrationYear   354369 non-null  int64         \n",
            " 4   Gearbox            334536 non-null  object        \n",
            " 5   Power              354369 non-null  int64         \n",
            " 6   Model              334664 non-null  object        \n",
            " 7   Kilometer          354369 non-null  int64         \n",
            " 8   RegistrationMonth  354369 non-null  int64         \n",
            " 9   FuelType           321474 non-null  object        \n",
            " 10  Brand              354369 non-null  object        \n",
            " 11  Repaired           283215 non-null  object        \n",
            " 12  DateCreated        354369 non-null  datetime64[ns]\n",
            " 13  NumberOfPictures   354369 non-null  int64         \n",
            " 14  PostalCode         354369 non-null  int64         \n",
            " 15  LastSeen           354369 non-null  datetime64[ns]\n",
            "dtypes: datetime64[ns](3), int64(7), object(6)\n",
            "memory usage: 43.3+ MB\n"
          ]
        }
      ],
      "source": [
        "data.info()"
      ]
    },
    {
      "cell_type": "markdown",
      "metadata": {
        "id": "YtgSRBSAMu9Y"
      },
      "source": [
        "Since the model must predict the price of a car based on data about its technical characteristics, we will remove all columns that do not relate to them.\n",
        "\n",
        "Namely:\n",
        "\n",
        "- DateCrawled — date the profile was downloaded from the database\n",
        "- RegistrationMonth—month of vehicle registration\n",
        "- DateCreated — date of creation of the profile\n",
        "- NumberOfPictures — number of photos of the car\n",
        "- PostalCode — postal code of the profile owner (user)\n",
        "- LastSeen — date of the user’s last activity"
      ]
    },
    {
      "cell_type": "code",
      "execution_count": null,
      "metadata": {
        "id": "8WCPGFFKMu9Y"
      },
      "outputs": [],
      "source": [
        "data.drop(['DateCrawled', 'RegistrationMonth', 'DateCreated',\n",
        "         'NumberOfPictures', 'PostalCode', 'LastSeen'], axis=1, inplace=True)"
      ]
    },
    {
      "cell_type": "markdown",
      "metadata": {
        "id": "xz6305J4Mu9Z"
      },
      "source": [
        "Let's convert the columns to the \"snake\" register:"
      ]
    },
    {
      "cell_type": "code",
      "execution_count": null,
      "metadata": {
        "id": "zgCP9eQkMu9Z"
      },
      "outputs": [],
      "source": [
        "data.columns = data.columns.str.lower()\n",
        "data.rename(columns={'vehicletype':'vehicle_type', 'registrationyear':'registration_year',\n",
        "                                                     'fueltype':'fuel_type'}, inplace=True)"
      ]
    },
    {
      "cell_type": "code",
      "execution_count": null,
      "metadata": {
        "id": "EUx40q77Mu9Z",
        "outputId": "e2727933-871c-415d-ac4f-649da3fd1640"
      },
      "outputs": [
        {
          "data": {
            "text/html": [
              "<div>\n",
              "<style scoped>\n",
              "    .dataframe tbody tr th:only-of-type {\n",
              "        vertical-align: middle;\n",
              "    }\n",
              "\n",
              "    .dataframe tbody tr th {\n",
              "        vertical-align: top;\n",
              "    }\n",
              "\n",
              "    .dataframe thead th {\n",
              "        text-align: right;\n",
              "    }\n",
              "</style>\n",
              "<table border=\"1\" class=\"dataframe\">\n",
              "  <thead>\n",
              "    <tr style=\"text-align: right;\">\n",
              "      <th></th>\n",
              "      <th>price</th>\n",
              "      <th>vehicle_type</th>\n",
              "      <th>registration_year</th>\n",
              "      <th>gearbox</th>\n",
              "      <th>power</th>\n",
              "      <th>model</th>\n",
              "      <th>kilometer</th>\n",
              "      <th>fuel_type</th>\n",
              "      <th>brand</th>\n",
              "      <th>repaired</th>\n",
              "    </tr>\n",
              "  </thead>\n",
              "  <tbody>\n",
              "    <tr>\n",
              "      <th>0</th>\n",
              "      <td>480</td>\n",
              "      <td>NaN</td>\n",
              "      <td>1993</td>\n",
              "      <td>manual</td>\n",
              "      <td>0</td>\n",
              "      <td>golf</td>\n",
              "      <td>150000</td>\n",
              "      <td>petrol</td>\n",
              "      <td>volkswagen</td>\n",
              "      <td>NaN</td>\n",
              "    </tr>\n",
              "    <tr>\n",
              "      <th>1</th>\n",
              "      <td>18300</td>\n",
              "      <td>coupe</td>\n",
              "      <td>2011</td>\n",
              "      <td>manual</td>\n",
              "      <td>190</td>\n",
              "      <td>NaN</td>\n",
              "      <td>125000</td>\n",
              "      <td>gasoline</td>\n",
              "      <td>audi</td>\n",
              "      <td>yes</td>\n",
              "    </tr>\n",
              "    <tr>\n",
              "      <th>2</th>\n",
              "      <td>9800</td>\n",
              "      <td>suv</td>\n",
              "      <td>2004</td>\n",
              "      <td>auto</td>\n",
              "      <td>163</td>\n",
              "      <td>grand</td>\n",
              "      <td>125000</td>\n",
              "      <td>gasoline</td>\n",
              "      <td>jeep</td>\n",
              "      <td>NaN</td>\n",
              "    </tr>\n",
              "    <tr>\n",
              "      <th>3</th>\n",
              "      <td>1500</td>\n",
              "      <td>small</td>\n",
              "      <td>2001</td>\n",
              "      <td>manual</td>\n",
              "      <td>75</td>\n",
              "      <td>golf</td>\n",
              "      <td>150000</td>\n",
              "      <td>petrol</td>\n",
              "      <td>volkswagen</td>\n",
              "      <td>no</td>\n",
              "    </tr>\n",
              "    <tr>\n",
              "      <th>4</th>\n",
              "      <td>3600</td>\n",
              "      <td>small</td>\n",
              "      <td>2008</td>\n",
              "      <td>manual</td>\n",
              "      <td>69</td>\n",
              "      <td>fabia</td>\n",
              "      <td>90000</td>\n",
              "      <td>gasoline</td>\n",
              "      <td>skoda</td>\n",
              "      <td>no</td>\n",
              "    </tr>\n",
              "    <tr>\n",
              "      <th>5</th>\n",
              "      <td>650</td>\n",
              "      <td>sedan</td>\n",
              "      <td>1995</td>\n",
              "      <td>manual</td>\n",
              "      <td>102</td>\n",
              "      <td>3er</td>\n",
              "      <td>150000</td>\n",
              "      <td>petrol</td>\n",
              "      <td>bmw</td>\n",
              "      <td>yes</td>\n",
              "    </tr>\n",
              "    <tr>\n",
              "      <th>6</th>\n",
              "      <td>2200</td>\n",
              "      <td>convertible</td>\n",
              "      <td>2004</td>\n",
              "      <td>manual</td>\n",
              "      <td>109</td>\n",
              "      <td>2_reihe</td>\n",
              "      <td>150000</td>\n",
              "      <td>petrol</td>\n",
              "      <td>peugeot</td>\n",
              "      <td>no</td>\n",
              "    </tr>\n",
              "    <tr>\n",
              "      <th>7</th>\n",
              "      <td>0</td>\n",
              "      <td>sedan</td>\n",
              "      <td>1980</td>\n",
              "      <td>manual</td>\n",
              "      <td>50</td>\n",
              "      <td>other</td>\n",
              "      <td>40000</td>\n",
              "      <td>petrol</td>\n",
              "      <td>volkswagen</td>\n",
              "      <td>no</td>\n",
              "    </tr>\n",
              "    <tr>\n",
              "      <th>8</th>\n",
              "      <td>14500</td>\n",
              "      <td>bus</td>\n",
              "      <td>2014</td>\n",
              "      <td>manual</td>\n",
              "      <td>125</td>\n",
              "      <td>c_max</td>\n",
              "      <td>30000</td>\n",
              "      <td>petrol</td>\n",
              "      <td>ford</td>\n",
              "      <td>NaN</td>\n",
              "    </tr>\n",
              "    <tr>\n",
              "      <th>9</th>\n",
              "      <td>999</td>\n",
              "      <td>small</td>\n",
              "      <td>1998</td>\n",
              "      <td>manual</td>\n",
              "      <td>101</td>\n",
              "      <td>golf</td>\n",
              "      <td>150000</td>\n",
              "      <td>NaN</td>\n",
              "      <td>volkswagen</td>\n",
              "      <td>NaN</td>\n",
              "    </tr>\n",
              "  </tbody>\n",
              "</table>\n",
              "</div>"
            ],
            "text/plain": [
              "   price vehicle_type  registration_year gearbox  power    model  kilometer  \\\n",
              "0    480          NaN               1993  manual      0     golf     150000   \n",
              "1  18300        coupe               2011  manual    190      NaN     125000   \n",
              "2   9800          suv               2004    auto    163    grand     125000   \n",
              "3   1500        small               2001  manual     75     golf     150000   \n",
              "4   3600        small               2008  manual     69    fabia      90000   \n",
              "5    650        sedan               1995  manual    102      3er     150000   \n",
              "6   2200  convertible               2004  manual    109  2_reihe     150000   \n",
              "7      0        sedan               1980  manual     50    other      40000   \n",
              "8  14500          bus               2014  manual    125    c_max      30000   \n",
              "9    999        small               1998  manual    101     golf     150000   \n",
              "\n",
              "  fuel_type       brand repaired  \n",
              "0    petrol  volkswagen      NaN  \n",
              "1  gasoline        audi      yes  \n",
              "2  gasoline        jeep      NaN  \n",
              "3    petrol  volkswagen       no  \n",
              "4  gasoline       skoda       no  \n",
              "5    petrol         bmw      yes  \n",
              "6    petrol     peugeot       no  \n",
              "7    petrol  volkswagen       no  \n",
              "8    petrol        ford      NaN  \n",
              "9       NaN  volkswagen      NaN  "
            ]
          },
          "execution_count": 6,
          "metadata": {},
          "output_type": "execute_result"
        }
      ],
      "source": [
        "data.head(10)"
      ]
    },
    {
      "cell_type": "markdown",
      "metadata": {
        "id": "2WFS4cu0Mu9Z"
      },
      "source": [
        "In columns:\n",
        "-VehicleType\n",
        "- Gearbox\n",
        "-Model\n",
        "- FuelType\n",
        "-Repaired\n",
        "\n",
        "gaps in data.\n",
        "\n",
        "Let's process them as follows:\n",
        "\n",
        "- gaps in the VehicleType, Gearbox, Model columns - affect the determination of vehicle characteristics - replace them with 'other';\n",
        "\n",
        "- gaps in the FuelType column - do not critically affect the characteristics of the car - replace them with \"N\\A\"\n",
        "\n",
        "- let’s assume that the gaps in the Repaired column indicate that the car has not been repaired; replace them with “no”."
      ]
    },
    {
      "cell_type": "code",
      "execution_count": null,
      "metadata": {
        "id": "Sjrd6rzHMu9a",
        "outputId": "628f2139-62b8-4a9c-902b-d1833a3fa2d3"
      },
      "outputs": [
        {
          "data": {
            "text/html": [
              "<div>\n",
              "<style scoped>\n",
              "    .dataframe tbody tr th:only-of-type {\n",
              "        vertical-align: middle;\n",
              "    }\n",
              "\n",
              "    .dataframe tbody tr th {\n",
              "        vertical-align: top;\n",
              "    }\n",
              "\n",
              "    .dataframe thead th {\n",
              "        text-align: right;\n",
              "    }\n",
              "</style>\n",
              "<table border=\"1\" class=\"dataframe\">\n",
              "  <thead>\n",
              "    <tr style=\"text-align: right;\">\n",
              "      <th></th>\n",
              "      <th>price</th>\n",
              "      <th>vehicle_type</th>\n",
              "      <th>registration_year</th>\n",
              "      <th>gearbox</th>\n",
              "      <th>power</th>\n",
              "      <th>model</th>\n",
              "      <th>kilometer</th>\n",
              "      <th>fuel_type</th>\n",
              "      <th>brand</th>\n",
              "      <th>repaired</th>\n",
              "    </tr>\n",
              "  </thead>\n",
              "  <tbody>\n",
              "    <tr>\n",
              "      <th>0</th>\n",
              "      <td>480</td>\n",
              "      <td>other</td>\n",
              "      <td>1993</td>\n",
              "      <td>manual</td>\n",
              "      <td>0</td>\n",
              "      <td>golf</td>\n",
              "      <td>150000</td>\n",
              "      <td>petrol</td>\n",
              "      <td>volkswagen</td>\n",
              "      <td>no</td>\n",
              "    </tr>\n",
              "    <tr>\n",
              "      <th>1</th>\n",
              "      <td>18300</td>\n",
              "      <td>coupe</td>\n",
              "      <td>2011</td>\n",
              "      <td>manual</td>\n",
              "      <td>190</td>\n",
              "      <td>other</td>\n",
              "      <td>125000</td>\n",
              "      <td>gasoline</td>\n",
              "      <td>audi</td>\n",
              "      <td>yes</td>\n",
              "    </tr>\n",
              "    <tr>\n",
              "      <th>2</th>\n",
              "      <td>9800</td>\n",
              "      <td>suv</td>\n",
              "      <td>2004</td>\n",
              "      <td>auto</td>\n",
              "      <td>163</td>\n",
              "      <td>grand</td>\n",
              "      <td>125000</td>\n",
              "      <td>gasoline</td>\n",
              "      <td>jeep</td>\n",
              "      <td>no</td>\n",
              "    </tr>\n",
              "    <tr>\n",
              "      <th>3</th>\n",
              "      <td>1500</td>\n",
              "      <td>small</td>\n",
              "      <td>2001</td>\n",
              "      <td>manual</td>\n",
              "      <td>75</td>\n",
              "      <td>golf</td>\n",
              "      <td>150000</td>\n",
              "      <td>petrol</td>\n",
              "      <td>volkswagen</td>\n",
              "      <td>no</td>\n",
              "    </tr>\n",
              "    <tr>\n",
              "      <th>4</th>\n",
              "      <td>3600</td>\n",
              "      <td>small</td>\n",
              "      <td>2008</td>\n",
              "      <td>manual</td>\n",
              "      <td>69</td>\n",
              "      <td>fabia</td>\n",
              "      <td>90000</td>\n",
              "      <td>gasoline</td>\n",
              "      <td>skoda</td>\n",
              "      <td>no</td>\n",
              "    </tr>\n",
              "    <tr>\n",
              "      <th>5</th>\n",
              "      <td>650</td>\n",
              "      <td>sedan</td>\n",
              "      <td>1995</td>\n",
              "      <td>manual</td>\n",
              "      <td>102</td>\n",
              "      <td>3er</td>\n",
              "      <td>150000</td>\n",
              "      <td>petrol</td>\n",
              "      <td>bmw</td>\n",
              "      <td>yes</td>\n",
              "    </tr>\n",
              "    <tr>\n",
              "      <th>6</th>\n",
              "      <td>2200</td>\n",
              "      <td>convertible</td>\n",
              "      <td>2004</td>\n",
              "      <td>manual</td>\n",
              "      <td>109</td>\n",
              "      <td>2_reihe</td>\n",
              "      <td>150000</td>\n",
              "      <td>petrol</td>\n",
              "      <td>peugeot</td>\n",
              "      <td>no</td>\n",
              "    </tr>\n",
              "    <tr>\n",
              "      <th>7</th>\n",
              "      <td>0</td>\n",
              "      <td>sedan</td>\n",
              "      <td>1980</td>\n",
              "      <td>manual</td>\n",
              "      <td>50</td>\n",
              "      <td>other</td>\n",
              "      <td>40000</td>\n",
              "      <td>petrol</td>\n",
              "      <td>volkswagen</td>\n",
              "      <td>no</td>\n",
              "    </tr>\n",
              "    <tr>\n",
              "      <th>8</th>\n",
              "      <td>14500</td>\n",
              "      <td>bus</td>\n",
              "      <td>2014</td>\n",
              "      <td>manual</td>\n",
              "      <td>125</td>\n",
              "      <td>c_max</td>\n",
              "      <td>30000</td>\n",
              "      <td>petrol</td>\n",
              "      <td>ford</td>\n",
              "      <td>no</td>\n",
              "    </tr>\n",
              "    <tr>\n",
              "      <th>9</th>\n",
              "      <td>999</td>\n",
              "      <td>small</td>\n",
              "      <td>1998</td>\n",
              "      <td>manual</td>\n",
              "      <td>101</td>\n",
              "      <td>golf</td>\n",
              "      <td>150000</td>\n",
              "      <td>N\\A</td>\n",
              "      <td>volkswagen</td>\n",
              "      <td>no</td>\n",
              "    </tr>\n",
              "  </tbody>\n",
              "</table>\n",
              "</div>"
            ],
            "text/plain": [
              "   price vehicle_type  registration_year gearbox  power    model  kilometer  \\\n",
              "0    480        other               1993  manual      0     golf     150000   \n",
              "1  18300        coupe               2011  manual    190    other     125000   \n",
              "2   9800          suv               2004    auto    163    grand     125000   \n",
              "3   1500        small               2001  manual     75     golf     150000   \n",
              "4   3600        small               2008  manual     69    fabia      90000   \n",
              "5    650        sedan               1995  manual    102      3er     150000   \n",
              "6   2200  convertible               2004  manual    109  2_reihe     150000   \n",
              "7      0        sedan               1980  manual     50    other      40000   \n",
              "8  14500          bus               2014  manual    125    c_max      30000   \n",
              "9    999        small               1998  manual    101     golf     150000   \n",
              "\n",
              "  fuel_type       brand repaired  \n",
              "0    petrol  volkswagen       no  \n",
              "1  gasoline        audi      yes  \n",
              "2  gasoline        jeep       no  \n",
              "3    petrol  volkswagen       no  \n",
              "4  gasoline       skoda       no  \n",
              "5    petrol         bmw      yes  \n",
              "6    petrol     peugeot       no  \n",
              "7    petrol  volkswagen       no  \n",
              "8    petrol        ford       no  \n",
              "9       N\\A  volkswagen       no  "
            ]
          },
          "execution_count": 7,
          "metadata": {},
          "output_type": "execute_result"
        }
      ],
      "source": [
        "data['fuel_type'] = data['fuel_type'].fillna('N\\A')\n",
        "data['repaired'] = data['repaired'].fillna('no')\n",
        "data['vehicle_type'] = data['vehicle_type'].fillna('other')\n",
        "data['gearbox'] = data['gearbox'].fillna('other')\n",
        "data['model'] = data['model'].fillna('other')\n",
        "\n",
        "data.head(10)"
      ]
    },
    {
      "cell_type": "markdown",
      "metadata": {
        "id": "tsKr6QsrMu9a"
      },
      "source": [
        "We will sequentially study the statistical characteristics of the data in the columns and exclude/correct (if possible) anomalous values (outliers).\n",
        "\n",
        "Let's create a function to review the data in the column:"
      ]
    },
    {
      "cell_type": "code",
      "execution_count": null,
      "metadata": {
        "id": "MySWSw9vMu9a"
      },
      "outputs": [],
      "source": [
        "def data_info (column):\n",
        "\n",
        "    print(column.value_counts())\n",
        "    print()\n",
        "    print(column.describe())\n",
        "\n",
        "    sns.set(rc={'figure.figsize':(12,6)})\n",
        "\n",
        "    sns.boxplot(x=column)\n",
        "    plt.show()\n",
        "\n",
        "    sns.histplot(data=column, bins=100)\n",
        "    plt.show()"
      ]
    },
    {
      "cell_type": "markdown",
      "metadata": {
        "id": "HwQPj_IhMu9a"
      },
      "source": [
        "### **PRICE column (target attribute)**"
      ]
    },
    {
      "cell_type": "code",
      "execution_count": null,
      "metadata": {
        "id": "rIpQnMhAMu9b",
        "outputId": "d8ab4d26-243a-45a2-84a8-470a13b50c9c"
      },
      "outputs": [
        {
          "name": "stdout",
          "output_type": "stream",
          "text": [
            "0        10772\n",
            "500       5670\n",
            "1500      5394\n",
            "1000      4649\n",
            "1200      4594\n",
            "         ...  \n",
            "13180        1\n",
            "10879        1\n",
            "2683         1\n",
            "634          1\n",
            "8188         1\n",
            "Name: price, Length: 3731, dtype: int64\n",
            "\n",
            "count    354369.000000\n",
            "mean       4416.656776\n",
            "std        4514.158514\n",
            "min           0.000000\n",
            "25%        1050.000000\n",
            "50%        2700.000000\n",
            "75%        6400.000000\n",
            "max       20000.000000\n",
            "Name: price, dtype: float64\n"
          ]
        },
        {
          "data": {
            "image/png": "[encoded data removed]",
            "text/plain": [
              "<Figure size 864x432 with 1 Axes>"
            ]
          },
          "metadata": {},
          "output_type": "display_data"
        },
        {
          "data": {
            "image/png": "[encoded data removed]",
            "text/plain": [
              "<Figure size 864x432 with 1 Axes>"
            ]
          },
          "metadata": {},
          "output_type": "display_data"
        }
      ],
      "source": [
        "data_info(data['price'])"
      ]
    },
    {
      "cell_type": "markdown",
      "metadata": {
        "id": "Vx9K4-YTMu9b"
      },
      "source": [
        "We see that there are quite a lot of rows (10,772) with a zero price. Let's exclude them, as well as those where the price is less than the median / 5 (2700 / 5=540)"
      ]
    },
    {
      "cell_type": "code",
      "execution_count": null,
      "metadata": {
        "id": "qLWIB3SAMu9b"
      },
      "outputs": [],
      "source": [
        "data.drop(data.loc[data['price']<540].index, inplace=True)"
      ]
    },
    {
      "cell_type": "code",
      "execution_count": null,
      "metadata": {
        "id": "hsioDxUUMu9b",
        "outputId": "2ea50f6c-496a-46e9-f430-dfe072a52305"
      },
      "outputs": [
        {
          "name": "stdout",
          "output_type": "stream",
          "text": [
            "1500    5394\n",
            "1000    4649\n",
            "1200    4594\n",
            "2500    4438\n",
            "600     3819\n",
            "        ... \n",
            "4782       1\n",
            "6575       1\n",
            "8519       1\n",
            "2221       1\n",
            "8188       1\n",
            "Name: price, Length: 3450, dtype: int64\n",
            "\n",
            "count    312490.000000\n",
            "mean       4976.999046\n",
            "std        4521.830659\n",
            "min         540.000000\n",
            "25%        1500.000000\n",
            "50%        3300.000000\n",
            "75%        6999.000000\n",
            "max       20000.000000\n",
            "Name: price, dtype: float64\n"
          ]
        },
        {
          "data": {
            "image/png": "[encoded data removed]",
            "text/plain": [
              "<Figure size 864x432 with 1 Axes>"
            ]
          },
          "metadata": {},
          "output_type": "display_data"
        },
        {
          "data": {
            "image/png": "[encoded data removed]",
            "text/plain": [
              "<Figure size 864x432 with 1 Axes>"
            ]
          },
          "metadata": {},
          "output_type": "display_data"
        }
      ],
      "source": [
        "data_info(data['price'])"
      ]
    },
    {
      "cell_type": "markdown",
      "metadata": {
        "id": "Ban2jhTyMu9b"
      },
      "source": [
        "### **Column VEHICLE_TYPE**"
      ]
    },
    {
      "cell_type": "code",
      "execution_count": null,
      "metadata": {
        "id": "OioNMObwMu9c",
        "outputId": "07f0c5f6-aa06-4268-b7e1-8ae4aaed219a"
      },
      "outputs": [
        {
          "data": {
            "text/plain": [
              "sedan          84101\n",
              "small          66261\n",
              "wagon          59789\n",
              "other          28924\n",
              "bus            27645\n",
              "convertible    19441\n",
              "coupe          14643\n",
              "suv            11686\n",
              "Name: vehicle_type, dtype: int64"
            ]
          },
          "execution_count": 12,
          "metadata": {},
          "output_type": "execute_result"
        }
      ],
      "source": [
        "data['vehicle_type'].value_counts()"
      ]
    },
    {
      "cell_type": "markdown",
      "metadata": {
        "id": "FsrBtCzNMu9c"
      },
      "source": [
        "Category column. The data does not need to be processed."
      ]
    },
    {
      "cell_type": "markdown",
      "metadata": {
        "id": "W8NJhqRXMu9c"
      },
      "source": [
        "### Column REGISTRATION_YEAR"
      ]
    },
    {
      "cell_type": "code",
      "execution_count": null,
      "metadata": {
        "id": "Ljv-doOxMu9c",
        "outputId": "bad54645-7476-4c0e-9040-36e4df6441e0"
      },
      "outputs": [
        {
          "name": "stdout",
          "output_type": "stream",
          "text": [
            "2005    20982\n",
            "2006    19599\n",
            "2000    19244\n",
            "2004    19183\n",
            "2003    19159\n",
            "        ...  \n",
            "1949        1\n",
            "5300        1\n",
            "8888        1\n",
            "7100        1\n",
            "2290        1\n",
            "Name: registration_year, Length: 127, dtype: int64\n",
            "\n",
            "count    312490.000000\n",
            "mean       2004.230654\n",
            "std          64.346760\n",
            "min        1000.000000\n",
            "25%        2000.000000\n",
            "50%        2004.000000\n",
            "75%        2008.000000\n",
            "max        9999.000000\n",
            "Name: registration_year, dtype: float64\n"
          ]
        },
        {
          "data": {
            "image/png": "[encoded data removed]",
            "text/plain": [
              "<Figure size 864x432 with 1 Axes>"
            ]
          },
          "metadata": {},
          "output_type": "display_data"
        },
        {
          "data": {
            "image/png": "[encoded data removed]",
            "text/plain": [
              "<Figure size 864x432 with 1 Axes>"
            ]
          },
          "metadata": {},
          "output_type": "display_data"
        }
      ],
      "source": [
        "data_info(data['registration_year'])"
      ]
    },
    {
      "cell_type": "markdown",
      "metadata": {
        "id": "44Uv1zJ5Mu9c"
      },
      "source": [
        "Let's exclude all rows whose year of registration does not fall within the range 1900 - 2023"
      ]
    },
    {
      "cell_type": "code",
      "execution_count": null,
      "metadata": {
        "id": "A0Eo3mfDMu9c"
      },
      "outputs": [],
      "source": [
        "data.drop(data.loc[data['registration_year']>2023].index, inplace=True)\n",
        "data.drop(data.loc[data['registration_year']<1900].index, inplace=True)"
      ]
    },
    {
      "cell_type": "code",
      "execution_count": null,
      "metadata": {
        "id": "OOoVY-n_Mu9d",
        "outputId": "64d782a7-e32a-414e-fddc-5d251f140c29"
      },
      "outputs": [
        {
          "name": "stdout",
          "output_type": "stream",
          "text": [
            "2005    20982\n",
            "2006    19599\n",
            "2000    19244\n",
            "2004    19183\n",
            "2003    19159\n",
            "        ...  \n",
            "1946        1\n",
            "1931        1\n",
            "1949        1\n",
            "1927        1\n",
            "1925        1\n",
            "Name: registration_year, Length: 95, dtype: int64\n",
            "\n",
            "count    312419.000000\n",
            "mean       2003.572452\n",
            "std           7.181944\n",
            "min        1910.000000\n",
            "25%        2000.000000\n",
            "50%        2004.000000\n",
            "75%        2008.000000\n",
            "max        2019.000000\n",
            "Name: registration_year, dtype: float64\n"
          ]
        },
        {
          "data": {
            "image/png": "[encoded data removed]",
            "text/plain": [
              "<Figure size 864x432 with 1 Axes>"
            ]
          },
          "metadata": {},
          "output_type": "display_data"
        },
        {
          "data": {
            "image/png": "[encoded data removed]",
            "text/plain": [
              "<Figure size 864x432 with 1 Axes>"
            ]
          },
          "metadata": {},
          "output_type": "display_data"
        }
      ],
      "source": [
        "data_info(data['registration_year'])"
      ]
    },
    {
      "cell_type": "markdown",
      "metadata": {
        "id": "J-EOSp_EMu9d"
      },
      "source": [
        "### Column GEARBOX"
      ]
    },
    {
      "cell_type": "code",
      "execution_count": null,
      "metadata": {
        "id": "esOBDyw2Mu9d",
        "outputId": "af824c53-b5ba-4f98-9a51-12cb0a3e57b6"
      },
      "outputs": [
        {
          "data": {
            "text/plain": [
              "manual    236696\n",
              "auto       62906\n",
              "other      12817\n",
              "Name: gearbox, dtype: int64"
            ]
          },
          "execution_count": 16,
          "metadata": {},
          "output_type": "execute_result"
        }
      ],
      "source": [
        "data['gearbox'].value_counts()"
      ]
    },
    {
      "cell_type": "markdown",
      "metadata": {
        "id": "zPrIpEWxMu9d"
      },
      "source": [
        "Category column. The data does not need to be processed."
      ]
    },
    {
      "cell_type": "markdown",
      "metadata": {
        "id": "BkUGj-PdMu9d"
      },
      "source": [
        "### Column POWER"
      ]
    },
    {
      "cell_type": "code",
      "execution_count": null,
      "metadata": {
        "id": "GSTxOyBbMu9e",
        "outputId": "2076bbbd-f9d0-4e4e-b823-30263b8ece58"
      },
      "outputs": [
        {
          "name": "stdout",
          "output_type": "stream",
          "text": [
            "0       27526\n",
            "75      20080\n",
            "150     13725\n",
            "140     12542\n",
            "101     12109\n",
            "        ...  \n",
            "9013        1\n",
            "4400        1\n",
            "1436        1\n",
            "2461        1\n",
            "6512        1\n",
            "Name: power, Length: 663, dtype: int64\n",
            "\n",
            "count    312419.000000\n",
            "mean        115.671652\n",
            "std         188.936247\n",
            "min           0.000000\n",
            "25%          75.000000\n",
            "50%         109.000000\n",
            "75%         147.000000\n",
            "max       20000.000000\n",
            "Name: power, dtype: float64\n"
          ]
        },
        {
          "data": {
            "image/png": "[encoded data removed]",
            "text/plain": [
              "<Figure size 864x432 with 1 Axes>"
            ]
          },
          "metadata": {},
          "output_type": "display_data"
        },
        {
          "data": {
            "image/png": "[encoded data removed]",
            "text/plain": [
              "<Figure size 864x432 with 1 Axes>"
            ]
          },
          "metadata": {},
          "output_type": "display_data"
        }
      ],
      "source": [
        "data_info(data['power'])"
      ]
    },
    {
      "cell_type": "markdown",
      "metadata": {
        "id": "3lhnMsm6Mu9e"
      },
      "source": [
        "Let's exclude zero values and values less than 50 hp, and divide all values above 2500 by 10 (consecutively, twice), because We consider such values to be typos/input errors."
      ]
    },
    {
      "cell_type": "code",
      "execution_count": null,
      "metadata": {
        "id": "_H4xzjYuMu9e"
      },
      "outputs": [],
      "source": [
        "data.drop(data.loc[data['power']<=50].index, inplace=True)\n",
        "data.loc[(data['power'] >= 2500), 'power'] = data['power'] / 10\n",
        "data.loc[(data['power'] >= 2500), 'power'] = data['power'] / 10"
      ]
    },
    {
      "cell_type": "code",
      "execution_count": null,
      "metadata": {
        "id": "tLfkht8CMu9f",
        "outputId": "ae125976-d015-47b2-a360-1765fbfad158"
      },
      "outputs": [
        {
          "data": {
            "text/plain": [
              "384"
            ]
          },
          "execution_count": 19,
          "metadata": {},
          "output_type": "execute_result"
        }
      ],
      "source": [
        "data.loc[(data['power'] >= 500), 'power'].count()"
      ]
    },
    {
      "cell_type": "markdown",
      "metadata": {
        "id": "Cjg_llLTMu9f"
      },
      "source": [
        "We see that after converting the “typos” there are only 384 lines of data left with a power of 500 hp or more. Let's exclude this data, because Due to their small number, such exclusion will not have an impact on the remaining data."
      ]
    },
    {
      "cell_type": "code",
      "execution_count": null,
      "metadata": {
        "id": "mRMJrd65Mu9f"
      },
      "outputs": [],
      "source": [
        "data.drop(data.loc[data['power']>=500].index, inplace=True)"
      ]
    },
    {
      "cell_type": "code",
      "execution_count": null,
      "metadata": {
        "id": "vNhl67OtMu9f",
        "outputId": "1ddf3b99-7b79-44ec-afb1-dc57f47e0063"
      },
      "outputs": [
        {
          "name": "stdout",
          "output_type": "stream",
          "text": [
            "75.0     20080\n",
            "150.0    13725\n",
            "140.0    12542\n",
            "101.0    12109\n",
            "60.0     12096\n",
            "         ...  \n",
            "457.0        1\n",
            "332.0        1\n",
            "475.0        1\n",
            "353.0        1\n",
            "248.0        1\n",
            "Name: power, Length: 366, dtype: int64\n",
            "\n",
            "count    277080.000000\n",
            "mean        125.097705\n",
            "std          52.472601\n",
            "min          51.000000\n",
            "25%          86.000000\n",
            "50%         116.000000\n",
            "75%         150.000000\n",
            "max         490.000000\n",
            "Name: power, dtype: float64\n"
          ]
        },
        {
          "data": {
            "image/png": "[encoded data removed]",
            "text/plain": [
              "<Figure size 864x432 with 1 Axes>"
            ]
          },
          "metadata": {},
          "output_type": "display_data"
        },
        {
          "data": {
            "image/png": "[encoded data removed]",
            "text/plain": [
              "<Figure size 864x432 with 1 Axes>"
            ]
          },
          "metadata": {},
          "output_type": "display_data"
        }
      ],
      "source": [
        "data_info(data['power'])"
      ]
    },
    {
      "cell_type": "markdown",
      "metadata": {
        "id": "p7INAnfZMu9f"
      },
      "source": [
        "### Column MODEL"
      ]
    },
    {
      "cell_type": "code",
      "execution_count": null,
      "metadata": {
        "id": "EoS6G8GXMu9f",
        "outputId": "c7876668-bc8d-43d1-937d-f8bd5ae6617c"
      },
      "outputs": [
        {
          "data": {
            "text/plain": [
              "other                 28786\n",
              "golf                  23879\n",
              "3er                   17030\n",
              "a4                     8629\n",
              "passat                 8592\n",
              "                      ...  \n",
              "i3                        4\n",
              "serie_3                   3\n",
              "rangerover                3\n",
              "samara                    3\n",
              "range_rover_evoque        2\n",
              "Name: model, Length: 248, dtype: int64"
            ]
          },
          "execution_count": 22,
          "metadata": {},
          "output_type": "execute_result"
        }
      ],
      "source": [
        "data['model'].value_counts()"
      ]
    },
    {
      "cell_type": "code",
      "execution_count": null,
      "metadata": {
        "id": "e3U-AuR6Mu9g",
        "outputId": "2a6060db-8a9d-4e29-c283-ed1838d3d42f"
      },
      "outputs": [
        {
          "data": {
            "text/plain": [
              "count     277080\n",
              "unique       248\n",
              "top        other\n",
              "freq       28786\n",
              "Name: model, dtype: object"
            ]
          },
          "execution_count": 23,
          "metadata": {},
          "output_type": "execute_result"
        }
      ],
      "source": [
        "data['model'].describe()"
      ]
    },
    {
      "cell_type": "code",
      "execution_count": null,
      "metadata": {
        "id": "p7_bHsNXMu9g",
        "outputId": "deb239c1-848b-44bf-f016-52bd52909a27"
      },
      "outputs": [
        {
          "data": {
            "text/plain": [
              "array(['other', 'grand', 'golf', 'fabia', '3er', '2_reihe', 'c_max',\n",
              "       '3_reihe', 'passat', 'navara', 'twingo', 'a_klasse', 'scirocco',\n",
              "       '5er', 'meriva', 'c4', 'civic', 'punto', 'e_klasse', 'clio',\n",
              "       'kadett', 'one', 'fortwo', '1er', 'b_klasse', 'a8', 'jetta',\n",
              "       'astra', 'c_klasse', 'micra', 'vito', 'sprinter', 'escort',\n",
              "       'forester', 'xc_reihe', 'fiesta', 'scenic', 'a1', 'transporter',\n",
              "       'focus', 'a4', 'tt', 'a6', 'jazz', 'polo', 'slk', '7er', 'combo',\n",
              "       '80', '147', 'z_reihe', 'sportage', 'sorento', 'ibiza', 'mustang',\n",
              "       'eos', 'touran', 'getz', 'insignia', 'ka', 'almera', 'megane',\n",
              "       'a3', 'caddy', 'corsa', 'mondeo', 'cordoba', 'colt', 'impreza',\n",
              "       'vectra', 'lupo', 'berlingo', 'tiguan', 'i_reihe', '6_reihe',\n",
              "       'panda', 'up', 'ceed', 'kangoo', '5_reihe', 'yeti', 'octavia',\n",
              "       'zafira', 'mii', 'rx_reihe', '6er', 'modus', 'fox', 'matiz',\n",
              "       'beetle', 'rio', 'touareg', 'logan', 'spider', 'omega', 'cuore',\n",
              "       's_max', 'a2', 'galaxy', 'c3', 'viano', 's_klasse', '1_reihe',\n",
              "       'sharan', 'avensis', 'roomster', 'sl', 'santa', 'leon', 'cooper',\n",
              "       '4_reihe', 'a5', 'laguna', 'ptcruiser', 'clk', 'primera', 'espace',\n",
              "       'exeo', '159', 'transit', 'juke', 'x_reihe', 'v40', 'carisma',\n",
              "       'accord', 'corolla', 'lanos', 'phaeton', 'verso', 'rav', 'qashqai',\n",
              "       'swift', 'picanto', 'boxster', 'superb', 'stilo', 'alhambra',\n",
              "       'roadster', 'galant', '90', 'signum', 'crossfire', 'agila',\n",
              "       'duster', 'v50', 'mx_reihe', 'c_reihe', 'v_klasse', 'm_klasse',\n",
              "       'yaris', 'c5', 'aygo', 'cc', 'carnival', '911', 'bora', 'cl',\n",
              "       'tigra', '156', '300c', '500', '100', 'cr_reihe', 'spark', 'kuga',\n",
              "       'x_type', 'ducato', 's_type', 'x_trail', 'toledo', 'altea',\n",
              "       'voyager', 'v70', 'forfour', 'tucson', 'c1', 'citigo', 'jimny',\n",
              "       'cayenne', 'wrangler', 'lybra', 'lancer', 'captiva', 'fusion',\n",
              "       'c2', 'discovery', 'freelander', 'sandero', 'q7', 'note',\n",
              "       'seicento', 'antara', 'sirion', '900', 'cherokee', 'clubman',\n",
              "       'arosa', 'defender', 'cx_reihe', 'legacy', 'pajero', 'auris',\n",
              "       'niva', 's60', 'm_reihe', 'nubira', 'vivaro', 'g_klasse',\n",
              "       'ypsilon', 'justy', 'lodgy', 'range_rover', '850', 'q3', 'serie_2',\n",
              "       'calibra', 'glk', 'charade', 'croma', 'bravo', 'outlander',\n",
              "       'kaefer', 'doblo', 'musa', '9000', 'kalos', 'v60', 'aveo', 'r19',\n",
              "       '200', '145', 'b_max', 'range_rover_sport', 'rangerover', 'q5',\n",
              "       'range_rover_evoque', 'materia', 'terios', 'gl', 'move', 'kalina',\n",
              "       'elefantino', 'delta', 'i3', 'samara', 'amarok', 'kappa',\n",
              "       'serie_3'], dtype=object)"
            ]
          },
          "execution_count": 24,
          "metadata": {},
          "output_type": "execute_result"
        }
      ],
      "source": [
        "data['model'].unique()"
      ]
    },
    {
      "cell_type": "markdown",
      "metadata": {
        "id": "_LiHZbEcMu9g"
      },
      "source": [
        "Let's unite range_rover and rangerover."
      ]
    },
    {
      "cell_type": "code",
      "execution_count": null,
      "metadata": {
        "id": "lORHC3RXMu9g"
      },
      "outputs": [],
      "source": [
        "data.loc[(data['model'] == 'rangerover'), 'model'] = 'range_rover'"
      ]
    },
    {
      "cell_type": "code",
      "execution_count": null,
      "metadata": {
        "id": "qsquOv5CMu9g",
        "outputId": "27b48daf-2ddc-49f9-885b-972751a9c9f7"
      },
      "outputs": [
        {
          "data": {
            "text/plain": [
              "other                 28786\n",
              "golf                  23879\n",
              "3er                   17030\n",
              "a4                     8629\n",
              "passat                 8592\n",
              "                      ...  \n",
              "serie_2                   5\n",
              "i3                        4\n",
              "serie_3                   3\n",
              "samara                    3\n",
              "range_rover_evoque        2\n",
              "Name: model, Length: 247, dtype: int64"
            ]
          },
          "execution_count": 26,
          "metadata": {},
          "output_type": "execute_result"
        }
      ],
      "source": [
        "data['model'].value_counts()"
      ]
    },
    {
      "cell_type": "markdown",
      "metadata": {
        "id": "75BmLZ0WMu9h"
      },
      "source": [
        "Let's shorten the list of models by combining models with less than 300 in the 'other' category. Total number of such lines of order 5%."
      ]
    },
    {
      "cell_type": "code",
      "execution_count": null,
      "metadata": {
        "id": "NcwZc7x7Mu9h",
        "outputId": "5689d296-914b-44d6-eb75-417c22ddae21"
      },
      "outputs": [
        {
          "name": "stdout",
          "output_type": "stream",
          "text": [
            "model    15555\n",
            "dtype: int64\n"
          ]
        }
      ],
      "source": [
        "other_models = data['model'].value_counts().to_frame().loc[data['model'].value_counts().to_frame()['model']<300].index\n",
        "print(data['model'].value_counts().to_frame().loc[data['model'].value_counts().to_frame()['model']<300].sum())\n",
        "\n",
        "for model in other_models:\n",
        "    data.loc[data['model'] == model, 'model'] = 'other'"
      ]
    },
    {
      "cell_type": "code",
      "execution_count": null,
      "metadata": {
        "id": "pt0k6S_cMu9h",
        "outputId": "1e6d1899-224c-406d-d990-b7c57520d651"
      },
      "outputs": [
        {
          "data": {
            "text/plain": [
              "other      44341\n",
              "golf       23879\n",
              "3er        17030\n",
              "a4          8629\n",
              "passat      8592\n",
              "           ...  \n",
              "rio          312\n",
              "100          310\n",
              "sorento      307\n",
              "kuga         306\n",
              "accord       304\n",
              "Name: model, Length: 127, dtype: int64"
            ]
          },
          "execution_count": 28,
          "metadata": {},
          "output_type": "execute_result"
        }
      ],
      "source": [
        "data['model'].value_counts()"
      ]
    },
    {
      "cell_type": "markdown",
      "metadata": {
        "id": "xMtpMdSsMu9h"
      },
      "source": [
        "The list of models (categorical feature) was reduced by more than 2 times without a significant effect on the data."
      ]
    },
    {
      "cell_type": "markdown",
      "metadata": {
        "id": "hDzBxmuCMu9h"
      },
      "source": [
        "### Column KILOMETER"
      ]
    },
    {
      "cell_type": "code",
      "execution_count": null,
      "metadata": {
        "id": "QJ-mwqmQMu9i",
        "outputId": "224b3ffd-09c0-4b69-80bd-5d318aaa0f72"
      },
      "outputs": [
        {
          "name": "stdout",
          "output_type": "stream",
          "text": [
            "150000    181627\n",
            "125000     30214\n",
            "100000     12246\n",
            "90000       9953\n",
            "80000       8796\n",
            "70000       7623\n",
            "60000       6664\n",
            "50000       5562\n",
            "40000       4401\n",
            "30000       3747\n",
            "20000       3107\n",
            "5000        2293\n",
            "10000        847\n",
            "Name: kilometer, dtype: int64\n",
            "\n",
            "count    277080.000000\n",
            "mean     127858.109571\n",
            "std       36813.269388\n",
            "min        5000.000000\n",
            "25%      125000.000000\n",
            "50%      150000.000000\n",
            "75%      150000.000000\n",
            "max      150000.000000\n",
            "Name: kilometer, dtype: float64\n"
          ]
        },
        {
          "data": {
            "image/png": "[encoded data removed]",
            "text/plain": [
              "<Figure size 864x432 with 1 Axes>"
            ]
          },
          "metadata": {},
          "output_type": "display_data"
        },
        {
          "data": {
            "image/png": "[encoded data removed]",
            "text/plain": [
              "<Figure size 864x432 with 1 Axes>"
            ]
          },
          "metadata": {},
          "output_type": "display_data"
        }
      ],
      "source": [
        "data_info(data['kilometer'])"
      ]
    },
    {
      "cell_type": "markdown",
      "metadata": {
        "id": "oOzzUpHxMu9i"
      },
      "source": [
        "It is likely that mileage was initially entered/stored only in certain values (in 5,000 km increments) and therefore the values in this column can be considered categorical. The data does not require additional processing."
      ]
    },
    {
      "cell_type": "markdown",
      "metadata": {
        "id": "uD410pNOMu9i"
      },
      "source": [
        "### Column FUEL_TYPE"
      ]
    },
    {
      "cell_type": "code",
      "execution_count": null,
      "metadata": {
        "id": "wD1VEri2Mu9i",
        "outputId": "08a549b3-6a3c-4db7-a341-dcf4b7c8ed3d"
      },
      "outputs": [
        {
          "data": {
            "text/plain": [
              "petrol      168561\n",
              "gasoline     87633\n",
              "N\\A          15506\n",
              "lpg           4623\n",
              "cng            478\n",
              "hybrid         201\n",
              "other           48\n",
              "electric        30\n",
              "Name: fuel_type, dtype: int64"
            ]
          },
          "execution_count": 30,
          "metadata": {},
          "output_type": "execute_result"
        }
      ],
      "source": [
        "data['fuel_type'].value_counts()"
      ]
    },
    {
      "cell_type": "code",
      "execution_count": null,
      "metadata": {
        "id": "IFnqHwCTMu9i",
        "outputId": "5236a5b0-2b99-424e-ef83-4a43ac9b5c3c"
      },
      "outputs": [
        {
          "data": {
            "text/plain": [
              "count     277080\n",
              "unique         8\n",
              "top       petrol\n",
              "freq      168561\n",
              "Name: fuel_type, dtype: object"
            ]
          },
          "execution_count": 31,
          "metadata": {},
          "output_type": "execute_result"
        }
      ],
      "source": [
        "data['fuel_type'].describe()"
      ]
    },
    {
      "cell_type": "markdown",
      "metadata": {
        "id": "COw9VNXIMu9j"
      },
      "source": [
        "We combine the N\\A values with which we replaced the gaps and 'other'. Otherwise, the column contains categorical data that does not require additional processing."
      ]
    },
    {
      "cell_type": "code",
      "execution_count": null,
      "metadata": {
        "id": "UzeJrhXQMu9j"
      },
      "outputs": [],
      "source": [
        "data.loc[(data['fuel_type'] == 'N\\A'), 'fuel_type'] = 'other'"
      ]
    },
    {
      "cell_type": "code",
      "execution_count": null,
      "metadata": {
        "id": "_cvEVOHUMu9j",
        "outputId": "cc0b701b-5ed7-42a0-e58f-ef7ae09c42d6"
      },
      "outputs": [
        {
          "data": {
            "text/plain": [
              "petrol      168561\n",
              "gasoline     87633\n",
              "other        15554\n",
              "lpg           4623\n",
              "cng            478\n",
              "hybrid         201\n",
              "electric        30\n",
              "Name: fuel_type, dtype: int64"
            ]
          },
          "execution_count": 33,
          "metadata": {},
          "output_type": "execute_result"
        }
      ],
      "source": [
        "data['fuel_type'].value_counts()"
      ]
    },
    {
      "cell_type": "markdown",
      "metadata": {
        "id": "5ZUpdUt8Mu9j"
      },
      "source": [
        "### Column BRAND"
      ]
    },
    {
      "cell_type": "code",
      "execution_count": null,
      "metadata": {
        "id": "kbRtaVKnMu9j",
        "outputId": "20c694ea-daad-4df5-9ee3-c199c0733c0a"
      },
      "outputs": [
        {
          "data": {
            "text/plain": [
              "volkswagen        58847\n",
              "bmw               32053\n",
              "opel              28774\n",
              "mercedes_benz     27566\n",
              "audi              25437\n",
              "ford              18164\n",
              "renault           12486\n",
              "peugeot            8745\n",
              "fiat               6634\n",
              "seat               5091\n",
              "skoda              4929\n",
              "mazda              4426\n",
              "toyota             4042\n",
              "citroen            3975\n",
              "nissan             3722\n",
              "smart              3571\n",
              "hyundai            3067\n",
              "mini               3019\n",
              "volvo              2652\n",
              "honda              2288\n",
              "mitsubishi         2222\n",
              "kia                2068\n",
              "alfa_romeo         1875\n",
              "suzuki             1815\n",
              "sonstige_autos     1494\n",
              "chevrolet          1469\n",
              "chrysler           1109\n",
              "dacia               820\n",
              "porsche             616\n",
              "jeep                590\n",
              "subaru              566\n",
              "daihatsu            470\n",
              "land_rover          467\n",
              "saab                446\n",
              "jaguar              434\n",
              "daewoo              333\n",
              "lancia              328\n",
              "rover               308\n",
              "lada                156\n",
              "trabant               6\n",
              "Name: brand, dtype: int64"
            ]
          },
          "execution_count": 34,
          "metadata": {},
          "output_type": "execute_result"
        }
      ],
      "source": [
        "data['brand'].value_counts()"
      ]
    },
    {
      "cell_type": "code",
      "execution_count": null,
      "metadata": {
        "id": "J06uSbS6Mu9j",
        "outputId": "383bce05-659f-414e-aea8-6fb63ad7fbcc"
      },
      "outputs": [
        {
          "data": {
            "text/plain": [
              "count         277080\n",
              "unique            40\n",
              "top       volkswagen\n",
              "freq           58847\n",
              "Name: brand, dtype: object"
            ]
          },
          "execution_count": 35,
          "metadata": {},
          "output_type": "execute_result"
        }
      ],
      "source": [
        "data['brand'].describe()"
      ]
    },
    {
      "cell_type": "markdown",
      "metadata": {
        "id": "pDdKG9ACMu9k"
      },
      "source": [
        "Categorical feature - does not require modification."
      ]
    },
    {
      "cell_type": "markdown",
      "metadata": {
        "id": "rK5jRGs9Mu9k"
      },
      "source": [
        "### Column REPAIRED"
      ]
    },
    {
      "cell_type": "code",
      "execution_count": null,
      "metadata": {
        "id": "1aWAo8enMu9k",
        "outputId": "20769f1e-f1a4-4f4f-f7d7-b0c3c09e78ff"
      },
      "outputs": [
        {
          "data": {
            "text/plain": [
              "no     255504\n",
              "yes     21576\n",
              "Name: repaired, dtype: int64"
            ]
          },
          "execution_count": 36,
          "metadata": {},
          "output_type": "execute_result"
        }
      ],
      "source": [
        "data['repaired'].value_counts()"
      ]
    },
    {
      "cell_type": "code",
      "execution_count": null,
      "metadata": {
        "id": "NR_bbyS-Mu9k",
        "outputId": "1c591b7f-a410-46ce-eadd-cc5370494e15"
      },
      "outputs": [
        {
          "data": {
            "text/plain": [
              "count     277080\n",
              "unique         2\n",
              "top           no\n",
              "freq      255504\n",
              "Name: repaired, dtype: object"
            ]
          },
          "execution_count": 37,
          "metadata": {},
          "output_type": "execute_result"
        }
      ],
      "source": [
        "data['repaired'].describe()"
      ]
    },
    {
      "cell_type": "markdown",
      "metadata": {
        "id": "XaVdPjlLMu9k"
      },
      "source": [
        "Categorical feature - does not require modification."
      ]
    },
    {
      "cell_type": "markdown",
      "metadata": {
        "id": "Er1ez20LMu9l"
      },
      "source": [
        "Let's remove complete duplicate rows."
      ]
    },
    {
      "cell_type": "code",
      "execution_count": null,
      "metadata": {
        "id": "N8aTo0NbMu9l",
        "outputId": "ff2e3a49-d413-4107-cdab-9693776adf6b"
      },
      "outputs": [
        {
          "data": {
            "text/plain": [
              "41710"
            ]
          },
          "execution_count": 38,
          "metadata": {},
          "output_type": "execute_result"
        }
      ],
      "source": [
        "data.duplicated().sum()"
      ]
    },
    {
      "cell_type": "markdown",
      "metadata": {
        "id": "F6hFCVNcMu9m"
      },
      "source": [
        "FINAL parameters of the dataset for generating samples for machine learning models:"
      ]
    },
    {
      "cell_type": "code",
      "execution_count": null,
      "metadata": {
        "id": "GVLFUsIuMu9m",
        "outputId": "21554b3b-9158-4511-bf48-f624780a8e97"
      },
      "outputs": [
        {
          "name": "stdout",
          "output_type": "stream",
          "text": [
            "<class 'pandas.core.frame.DataFrame'>\n",
            "Int64Index: 277080 entries, 1 to 354368\n",
            "Data columns (total 10 columns):\n",
            " #   Column             Non-Null Count   Dtype  \n",
            "---  ------             --------------   -----  \n",
            " 0   price              277080 non-null  int64  \n",
            " 1   vehicle_type       277080 non-null  object \n",
            " 2   registration_year  277080 non-null  int64  \n",
            " 3   gearbox            277080 non-null  object \n",
            " 4   power              277080 non-null  float64\n",
            " 5   model              277080 non-null  object \n",
            " 6   kilometer          277080 non-null  int64  \n",
            " 7   fuel_type          277080 non-null  object \n",
            " 8   brand              277080 non-null  object \n",
            " 9   repaired           277080 non-null  object \n",
            "dtypes: float64(1), int64(3), object(6)\n",
            "memory usage: 23.3+ MB\n"
          ]
        }
      ],
      "source": [
        "data.info()"
      ]
    },
    {
      "cell_type": "markdown",
      "metadata": {
        "id": "GnzpT_MeMu9m"
      },
      "source": [
        "**CONCLUSION for the section:**"
      ]
    },
    {
      "cell_type": "markdown",
      "metadata": {
        "id": "Iv_1kjJYMu9m"
      },
      "source": [
        "The original historical vehicle performance data contained 354,369 rows and 16 columns, 5 columns contained missing data, and 6 columns did not contain vehicle performance information.\n",
        "\n",
        "As a result of preprocessing:\n",
        "\n",
        "- columns that did not contain data on vehicle characteristics were excluded;\n",
        "- data processing was carried out in the data columns: omissions were excluded (replaced), values were corrected (combined with each other), anomalies (elections) were removed.\n",
        "\n",
        "The data prepared for generating samples for training and testing machine learning models contains 277,080 rows and 10 columns - 9 feature columns and 1 target feature (price).\n"
      ]
    },
    {
      "cell_type": "markdown",
      "metadata": {
        "id": "fD03nGoeMu9n"
      },
      "source": [
        "## Model training"
      ]
    },
    {
      "cell_type": "markdown",
      "metadata": {
        "id": "d0QmIQs4Mu9n"
      },
      "source": [
        "We will create training, validation and test samples. Let's create a copy of these samples for the linear regression model."
      ]
    },
    {
      "cell_type": "code",
      "execution_count": null,
      "metadata": {
        "id": "3cRFpdPTMu9n"
      },
      "outputs": [],
      "source": [
        "features = data.drop(['price'], axis=1)\n",
        "target   = data['price']\n",
        "\n",
        "features_train, features_test, target_train, target_test = tts(features, target, train_size=0.7, random_state=12345)\n",
        "\n",
        "features_test, features_val, target_test, target_val = tts(features_test, target_test, train_size=0.5, random_state=12345)"
      ]
    },
    {
      "cell_type": "code",
      "execution_count": null,
      "metadata": {
        "id": "c6ebyHIWMu9o"
      },
      "outputs": [],
      "source": [
        "features_train_m_lr = features_train.copy()\n",
        "features_val_m_lr  = features_val.copy()"
      ]
    },
    {
      "cell_type": "markdown",
      "metadata": {
        "id": "smqrzwKrMu9o"
      },
      "source": [
        "Let's check the dimensions of the resulting samples."
      ]
    },
    {
      "cell_type": "code",
      "execution_count": null,
      "metadata": {
        "id": "MZigmWyVMu9o",
        "outputId": "ba2b3ab6-956b-488c-f59a-8d545b589de9"
      },
      "outputs": [
        {
          "data": {
            "text/plain": [
              "(193956, 9)"
            ]
          },
          "execution_count": 43,
          "metadata": {},
          "output_type": "execute_result"
        }
      ],
      "source": [
        "features_train.shape"
      ]
    },
    {
      "cell_type": "code",
      "execution_count": null,
      "metadata": {
        "id": "GQ38pBceMu9p",
        "outputId": "05fa3dae-bf43-4942-ee67-2eed3082d07b"
      },
      "outputs": [
        {
          "data": {
            "text/plain": [
              "(41562, 9)"
            ]
          },
          "execution_count": 44,
          "metadata": {},
          "output_type": "execute_result"
        }
      ],
      "source": [
        "features_val.shape"
      ]
    },
    {
      "cell_type": "code",
      "execution_count": null,
      "metadata": {
        "id": "WnKqdC9lMu9p",
        "outputId": "13f3b570-c4d1-4fae-e4bd-13008e777faa"
      },
      "outputs": [
        {
          "data": {
            "text/plain": [
              "(41562, 9)"
            ]
          },
          "execution_count": 45,
          "metadata": {},
          "output_type": "execute_result"
        }
      ],
      "source": [
        "features_test.shape"
      ]
    },
    {
      "cell_type": "markdown",
      "metadata": {
        "id": "i_LUq8a4Mu9p"
      },
      "source": [
        "Let's reduce categorical features to the category format so that they can be used in the LightGBM and CatBoost models."
      ]
    },
    {
      "cell_type": "code",
      "execution_count": null,
      "metadata": {
        "id": "PcwHRafkMu9p"
      },
      "outputs": [],
      "source": [
        "categorical = ['brand', 'model', 'vehicle_type', 'gearbox', 'fuel_type', 'kilometer', 'repaired']\n",
        "\n",
        "features_train[categorical] = features_train[categorical].astype('category')\n",
        "features_val[categorical] = features_val[categorical].astype('category')\n",
        "features_test[categorical] = features_test[categorical].astype('category')"
      ]
    },
    {
      "cell_type": "markdown",
      "metadata": {
        "id": "SuL8hcnjMu9p"
      },
      "source": [
        "**Model LightGBM**"
      ]
    },
    {
      "cell_type": "code",
      "execution_count": null,
      "metadata": {
        "id": "jcAh6yPwMu9p"
      },
      "outputs": [],
      "source": [
        "model = lgb.LGBMRegressor(cat_feature=categorical)"
      ]
    },
    {
      "cell_type": "code",
      "execution_count": null,
      "metadata": {
        "id": "XluEcC-PMu9q",
        "outputId": "23e8dca7-b892-4b14-ead8-17d8ca2d3193"
      },
      "outputs": [
        {
          "name": "stdout",
          "output_type": "stream",
          "text": [
            "Время обучения модели:  370.2477\n"
          ]
        }
      ],
      "source": [
        "time_begin = time.time()\n",
        "model.fit(features_train, target_train)\n",
        "time_end = time.time()\n",
        "time_fit = time_end - time_begin\n",
        "print('Время обучения модели: ',round(time_fit,4))"
      ]
    },
    {
      "cell_type": "code",
      "execution_count": null,
      "metadata": {
        "id": "5cbmcBDPMu9q",
        "outputId": "45285e4e-0356-47c0-e329-77c49c9230e1"
      },
      "outputs": [
        {
          "name": "stdout",
          "output_type": "stream",
          "text": [
            "Время предсказания модели:  0.4959\n"
          ]
        }
      ],
      "source": [
        "time_begin = time.time()\n",
        "predict = model.predict(features_val)\n",
        "time_end = time.time()\n",
        "time_pred = time_end - time_begin\n",
        "print('Время предсказания модели: ',round(time_pred,4))"
      ]
    },
    {
      "cell_type": "code",
      "execution_count": null,
      "metadata": {
        "id": "-Et3ErjCMu9q",
        "outputId": "0e152e89-8f65-4084-d849-5629bbbf1b17"
      },
      "outputs": [
        {
          "name": "stdout",
          "output_type": "stream",
          "text": [
            "RMSE модели:  1652.2277\n"
          ]
        }
      ],
      "source": [
        "rmse = round(mse(target_val, predict, squared=False),5)\n",
        "print('RMSE модели: ', rmse)"
      ]
    },
    {
      "cell_type": "markdown",
      "metadata": {
        "id": "MoLmJbJZMu9r"
      },
      "source": [
        "**Model CatBoost**"
      ]
    },
    {
      "cell_type": "code",
      "execution_count": null,
      "metadata": {
        "id": "R6--RcitMu9r"
      },
      "outputs": [],
      "source": [
        "model = CatBoostRegressor(cat_features=categorical)"
      ]
    },
    {
      "cell_type": "code",
      "execution_count": null,
      "metadata": {
        "id": "cZn4ES6-Mu9r",
        "outputId": "c0411805-90b8-4e9b-8046-f79a684e7df2"
      },
      "outputs": [
        {
          "name": "stdout",
          "output_type": "stream",
          "text": [
            "Learning rate set to 0.09411\n",
            "0:\tlearn: 4313.1502164\ttotal: 324ms\tremaining: 5m 23s\n",
            "1:\tlearn: 4067.7828961\ttotal: 549ms\tremaining: 4m 34s\n",
            "2:\tlearn: 3847.2197714\ttotal: 773ms\tremaining: 4m 16s\n",
            "3:\tlearn: 3654.4948625\ttotal: 1.07s\tremaining: 4m 26s\n",
            "4:\tlearn: 3480.6868131\ttotal: 1.27s\tremaining: 4m 13s\n",
            "5:\tlearn: 3330.9178088\ttotal: 1.42s\tremaining: 3m 55s\n",
            "6:\tlearn: 3182.4501032\ttotal: 1.71s\tremaining: 4m 3s\n",
            "7:\tlearn: 3061.6698384\ttotal: 1.94s\tremaining: 4m\n",
            "8:\tlearn: 2949.9106670\ttotal: 2.14s\tremaining: 3m 55s\n",
            "9:\tlearn: 2844.7331699\ttotal: 2.35s\tremaining: 3m 52s\n",
            "10:\tlearn: 2757.5288351\ttotal: 2.6s\tremaining: 3m 53s\n",
            "11:\tlearn: 2681.4618387\ttotal: 2.83s\tremaining: 3m 52s\n",
            "12:\tlearn: 2609.7557448\ttotal: 3.02s\tremaining: 3m 49s\n",
            "13:\tlearn: 2545.9350763\ttotal: 3.22s\tremaining: 3m 46s\n",
            "14:\tlearn: 2487.2340256\ttotal: 3.4s\tremaining: 3m 43s\n",
            "15:\tlearn: 2436.6165138\ttotal: 3.63s\tremaining: 3m 43s\n",
            "16:\tlearn: 2388.4199816\ttotal: 3.91s\tremaining: 3m 45s\n",
            "17:\tlearn: 2345.0233791\ttotal: 4.1s\tremaining: 3m 43s\n",
            "18:\tlearn: 2303.8179242\ttotal: 4.29s\tremaining: 3m 41s\n",
            "19:\tlearn: 2270.0069357\ttotal: 4.53s\tremaining: 3m 41s\n",
            "20:\tlearn: 2239.8951409\ttotal: 4.78s\tremaining: 3m 43s\n",
            "21:\tlearn: 2208.2869217\ttotal: 5.01s\tremaining: 3m 42s\n",
            "22:\tlearn: 2183.7037571\ttotal: 5.29s\tremaining: 3m 44s\n",
            "23:\tlearn: 2160.4813624\ttotal: 5.44s\tremaining: 3m 41s\n",
            "24:\tlearn: 2137.9923518\ttotal: 5.64s\tremaining: 3m 39s\n",
            "25:\tlearn: 2115.4713369\ttotal: 5.87s\tremaining: 3m 39s\n",
            "26:\tlearn: 2098.3956793\ttotal: 6.04s\tremaining: 3m 37s\n",
            "27:\tlearn: 2079.6306293\ttotal: 6.22s\tremaining: 3m 35s\n",
            "28:\tlearn: 2061.8108806\ttotal: 6.44s\tremaining: 3m 35s\n",
            "29:\tlearn: 2046.9205554\ttotal: 6.67s\tremaining: 3m 35s\n",
            "30:\tlearn: 2034.1425770\ttotal: 6.9s\tremaining: 3m 35s\n",
            "31:\tlearn: 2022.7288107\ttotal: 7.12s\tremaining: 3m 35s\n",
            "32:\tlearn: 2012.6559160\ttotal: 7.31s\tremaining: 3m 34s\n",
            "33:\tlearn: 2001.8469129\ttotal: 7.53s\tremaining: 3m 33s\n",
            "34:\tlearn: 1992.4542593\ttotal: 7.73s\tremaining: 3m 33s\n",
            "35:\tlearn: 1982.0808002\ttotal: 7.91s\tremaining: 3m 31s\n",
            "36:\tlearn: 1970.9039157\ttotal: 8.1s\tremaining: 3m 30s\n",
            "37:\tlearn: 1961.8242859\ttotal: 8.29s\tremaining: 3m 29s\n",
            "38:\tlearn: 1955.7850594\ttotal: 8.45s\tremaining: 3m 28s\n",
            "39:\tlearn: 1949.3129663\ttotal: 8.71s\tremaining: 3m 28s\n",
            "40:\tlearn: 1943.0496130\ttotal: 8.87s\tremaining: 3m 27s\n",
            "41:\tlearn: 1937.5134980\ttotal: 9.08s\tremaining: 3m 27s\n",
            "42:\tlearn: 1931.0410064\ttotal: 9.34s\tremaining: 3m 27s\n",
            "43:\tlearn: 1925.8831661\ttotal: 9.54s\tremaining: 3m 27s\n",
            "44:\tlearn: 1920.8659562\ttotal: 9.73s\tremaining: 3m 26s\n",
            "45:\tlearn: 1916.3452749\ttotal: 9.87s\tremaining: 3m 24s\n",
            "46:\tlearn: 1911.1969800\ttotal: 10.1s\tremaining: 3m 24s\n",
            "47:\tlearn: 1907.9185754\ttotal: 10.3s\tremaining: 3m 23s\n",
            "48:\tlearn: 1903.2946130\ttotal: 10.4s\tremaining: 3m 22s\n",
            "49:\tlearn: 1899.6486078\ttotal: 10.6s\tremaining: 3m 20s\n",
            "50:\tlearn: 1896.9242712\ttotal: 10.8s\tremaining: 3m 21s\n",
            "51:\tlearn: 1893.1318256\ttotal: 11s\tremaining: 3m 20s\n",
            "52:\tlearn: 1889.9596224\ttotal: 11.2s\tremaining: 3m 20s\n",
            "53:\tlearn: 1886.9052334\ttotal: 11.4s\tremaining: 3m 20s\n",
            "54:\tlearn: 1884.1942718\ttotal: 11.6s\tremaining: 3m 19s\n",
            "55:\tlearn: 1880.7983169\ttotal: 11.8s\tremaining: 3m 19s\n",
            "56:\tlearn: 1877.5929154\ttotal: 12s\tremaining: 3m 19s\n",
            "57:\tlearn: 1874.5479208\ttotal: 12.2s\tremaining: 3m 18s\n",
            "58:\tlearn: 1871.2305403\ttotal: 12.4s\tremaining: 3m 17s\n",
            "59:\tlearn: 1868.5794534\ttotal: 12.6s\tremaining: 3m 17s\n",
            "60:\tlearn: 1865.9601522\ttotal: 12.8s\tremaining: 3m 17s\n",
            "61:\tlearn: 1863.9587059\ttotal: 13s\tremaining: 3m 17s\n",
            "62:\tlearn: 1861.1011738\ttotal: 13.3s\tremaining: 3m 17s\n",
            "63:\tlearn: 1858.3494598\ttotal: 13.4s\tremaining: 3m 16s\n",
            "64:\tlearn: 1856.8652252\ttotal: 13.6s\tremaining: 3m 15s\n",
            "65:\tlearn: 1853.8916327\ttotal: 13.8s\tremaining: 3m 15s\n",
            "66:\tlearn: 1851.9542950\ttotal: 14s\tremaining: 3m 14s\n",
            "67:\tlearn: 1849.9011817\ttotal: 14.2s\tremaining: 3m 14s\n",
            "68:\tlearn: 1846.9179153\ttotal: 14.4s\tremaining: 3m 14s\n",
            "69:\tlearn: 1845.0064418\ttotal: 14.7s\tremaining: 3m 14s\n",
            "70:\tlearn: 1842.4235075\ttotal: 14.9s\tremaining: 3m 14s\n",
            "71:\tlearn: 1840.7080628\ttotal: 15s\tremaining: 3m 13s\n",
            "72:\tlearn: 1838.4278916\ttotal: 15.2s\tremaining: 3m 13s\n",
            "73:\tlearn: 1836.9184784\ttotal: 15.4s\tremaining: 3m 12s\n",
            "74:\tlearn: 1835.1910886\ttotal: 15.6s\tremaining: 3m 12s\n",
            "75:\tlearn: 1833.9799585\ttotal: 15.8s\tremaining: 3m 12s\n",
            "76:\tlearn: 1832.9106946\ttotal: 16s\tremaining: 3m 12s\n",
            "77:\tlearn: 1830.4336211\ttotal: 16.3s\tremaining: 3m 12s\n",
            "78:\tlearn: 1828.8178938\ttotal: 16.4s\tremaining: 3m 11s\n",
            "79:\tlearn: 1826.8600961\ttotal: 16.6s\tremaining: 3m 10s\n",
            "80:\tlearn: 1824.9645617\ttotal: 16.8s\tremaining: 3m 10s\n",
            "81:\tlearn: 1823.4340857\ttotal: 17s\tremaining: 3m 10s\n",
            "82:\tlearn: 1821.3040268\ttotal: 17.2s\tremaining: 3m 9s\n",
            "83:\tlearn: 1819.1086628\ttotal: 17.3s\tremaining: 3m 9s\n",
            "84:\tlearn: 1817.1715263\ttotal: 17.5s\tremaining: 3m 8s\n",
            "85:\tlearn: 1815.1036547\ttotal: 17.7s\tremaining: 3m 7s\n",
            "86:\tlearn: 1813.0072023\ttotal: 17.9s\tremaining: 3m 8s\n",
            "87:\tlearn: 1810.8398866\ttotal: 18.1s\tremaining: 3m 7s\n",
            "88:\tlearn: 1809.9210919\ttotal: 18.3s\tremaining: 3m 7s\n",
            "89:\tlearn: 1808.0560026\ttotal: 18.5s\tremaining: 3m 7s\n",
            "90:\tlearn: 1807.0912031\ttotal: 18.7s\tremaining: 3m 6s\n",
            "91:\tlearn: 1806.2531895\ttotal: 18.9s\tremaining: 3m 6s\n",
            "92:\tlearn: 1804.7096285\ttotal: 19.1s\tremaining: 3m 6s\n",
            "93:\tlearn: 1803.2829255\ttotal: 19.3s\tremaining: 3m 6s\n",
            "94:\tlearn: 1801.6472097\ttotal: 19.5s\tremaining: 3m 6s\n",
            "95:\tlearn: 1800.3807180\ttotal: 19.7s\tremaining: 3m 5s\n",
            "96:\tlearn: 1799.4366077\ttotal: 19.9s\tremaining: 3m 5s\n",
            "97:\tlearn: 1798.1765690\ttotal: 20.1s\tremaining: 3m 4s\n",
            "98:\tlearn: 1796.9698689\ttotal: 20.3s\tremaining: 3m 4s\n",
            "99:\tlearn: 1795.2708696\ttotal: 20.5s\tremaining: 3m 4s\n",
            "100:\tlearn: 1793.2312271\ttotal: 20.7s\tremaining: 3m 4s\n",
            "101:\tlearn: 1791.8340608\ttotal: 21s\tremaining: 3m 4s\n",
            "102:\tlearn: 1790.5123038\ttotal: 21.2s\tremaining: 3m 4s\n",
            "103:\tlearn: 1789.5137708\ttotal: 21.4s\tremaining: 3m 4s\n",
            "104:\tlearn: 1788.0864448\ttotal: 21.5s\tremaining: 3m 3s\n",
            "105:\tlearn: 1786.8900858\ttotal: 21.7s\tremaining: 3m 2s\n",
            "106:\tlearn: 1785.4707863\ttotal: 21.9s\tremaining: 3m 2s\n",
            "107:\tlearn: 1784.6287804\ttotal: 22.1s\tremaining: 3m 2s\n",
            "108:\tlearn: 1783.3314847\ttotal: 22.3s\tremaining: 3m 2s\n",
            "109:\tlearn: 1782.7946687\ttotal: 22.5s\tremaining: 3m 1s\n",
            "110:\tlearn: 1781.7341628\ttotal: 22.7s\tremaining: 3m 1s\n",
            "111:\tlearn: 1781.1531769\ttotal: 23s\tremaining: 3m 2s\n",
            "112:\tlearn: 1779.5724480\ttotal: 23.1s\tremaining: 3m 1s\n",
            "113:\tlearn: 1778.7480759\ttotal: 23.4s\tremaining: 3m 1s\n",
            "114:\tlearn: 1777.8486221\ttotal: 23.5s\tremaining: 3m\n",
            "115:\tlearn: 1776.7673848\ttotal: 23.7s\tremaining: 3m\n",
            "116:\tlearn: 1775.5838628\ttotal: 23.9s\tremaining: 3m\n",
            "117:\tlearn: 1774.4881032\ttotal: 24.1s\tremaining: 3m\n",
            "118:\tlearn: 1772.8106746\ttotal: 24.3s\tremaining: 3m\n",
            "119:\tlearn: 1771.8328716\ttotal: 24.5s\tremaining: 3m\n",
            "120:\tlearn: 1770.2134090\ttotal: 24.7s\tremaining: 2m 59s\n",
            "121:\tlearn: 1769.1921781\ttotal: 24.8s\tremaining: 2m 58s\n",
            "122:\tlearn: 1768.3128002\ttotal: 25s\tremaining: 2m 58s\n",
            "123:\tlearn: 1767.1334290\ttotal: 25.2s\tremaining: 2m 57s\n",
            "124:\tlearn: 1765.9268406\ttotal: 25.4s\tremaining: 2m 57s\n",
            "125:\tlearn: 1765.0251953\ttotal: 25.6s\tremaining: 2m 57s\n",
            "126:\tlearn: 1763.9603501\ttotal: 25.8s\tremaining: 2m 57s\n",
            "127:\tlearn: 1763.0424806\ttotal: 26s\tremaining: 2m 57s\n",
            "128:\tlearn: 1762.2346811\ttotal: 26.2s\tremaining: 2m 57s\n",
            "129:\tlearn: 1761.3433281\ttotal: 26.4s\tremaining: 2m 56s\n",
            "130:\tlearn: 1760.4192325\ttotal: 26.6s\tremaining: 2m 56s\n",
            "131:\tlearn: 1759.3936942\ttotal: 26.8s\tremaining: 2m 56s\n",
            "132:\tlearn: 1758.1288267\ttotal: 27.1s\tremaining: 2m 56s\n",
            "133:\tlearn: 1757.1643799\ttotal: 27.3s\tremaining: 2m 56s\n",
            "134:\tlearn: 1756.1062836\ttotal: 27.5s\tremaining: 2m 56s\n",
            "135:\tlearn: 1755.2764993\ttotal: 27.7s\tremaining: 2m 55s\n",
            "136:\tlearn: 1754.6559980\ttotal: 27.9s\tremaining: 2m 55s\n",
            "137:\tlearn: 1753.4679499\ttotal: 28.1s\tremaining: 2m 55s\n",
            "138:\tlearn: 1752.8914365\ttotal: 28.3s\tremaining: 2m 55s\n",
            "139:\tlearn: 1752.2473570\ttotal: 28.5s\tremaining: 2m 54s\n",
            "140:\tlearn: 1751.2251240\ttotal: 28.7s\tremaining: 2m 54s\n",
            "141:\tlearn: 1750.1194508\ttotal: 28.9s\tremaining: 2m 54s\n",
            "142:\tlearn: 1748.7385614\ttotal: 29.1s\tremaining: 2m 54s\n",
            "143:\tlearn: 1748.1508765\ttotal: 29.3s\tremaining: 2m 53s\n",
            "144:\tlearn: 1747.3669272\ttotal: 29.4s\tremaining: 2m 53s\n",
            "145:\tlearn: 1746.4085953\ttotal: 29.6s\tremaining: 2m 53s\n",
            "146:\tlearn: 1745.7473747\ttotal: 29.8s\tremaining: 2m 53s\n",
            "147:\tlearn: 1745.1216140\ttotal: 30.1s\tremaining: 2m 53s\n",
            "148:\tlearn: 1744.3494152\ttotal: 30.2s\tremaining: 2m 52s\n",
            "149:\tlearn: 1743.1039537\ttotal: 30.5s\tremaining: 2m 52s\n",
            "150:\tlearn: 1742.6681423\ttotal: 30.7s\tremaining: 2m 52s\n",
            "151:\tlearn: 1741.8431418\ttotal: 30.9s\tremaining: 2m 52s\n",
            "152:\tlearn: 1741.3374780\ttotal: 31.1s\tremaining: 2m 52s\n",
            "153:\tlearn: 1740.6327264\ttotal: 31.3s\tremaining: 2m 51s\n",
            "154:\tlearn: 1739.5897318\ttotal: 31.5s\tremaining: 2m 51s\n",
            "155:\tlearn: 1738.9709122\ttotal: 31.8s\tremaining: 2m 51s\n",
            "156:\tlearn: 1738.1546590\ttotal: 32s\tremaining: 2m 51s\n",
            "157:\tlearn: 1737.5751145\ttotal: 32.2s\tremaining: 2m 51s\n",
            "158:\tlearn: 1737.0359582\ttotal: 32.4s\tremaining: 2m 51s\n",
            "159:\tlearn: 1736.5454612\ttotal: 32.7s\tremaining: 2m 51s\n",
            "160:\tlearn: 1735.8649431\ttotal: 32.9s\tremaining: 2m 51s\n",
            "161:\tlearn: 1735.1198738\ttotal: 33.1s\tremaining: 2m 51s\n",
            "162:\tlearn: 1734.5071599\ttotal: 33.3s\tremaining: 2m 51s\n",
            "163:\tlearn: 1734.2493191\ttotal: 33.5s\tremaining: 2m 50s\n",
            "164:\tlearn: 1733.6366106\ttotal: 33.7s\tremaining: 2m 50s\n",
            "165:\tlearn: 1732.8164143\ttotal: 33.9s\tremaining: 2m 50s\n",
            "166:\tlearn: 1732.3181560\ttotal: 34.1s\tremaining: 2m 50s\n",
            "167:\tlearn: 1731.7366429\ttotal: 34.4s\tremaining: 2m 50s\n",
            "168:\tlearn: 1731.2570441\ttotal: 34.6s\tremaining: 2m 49s\n",
            "169:\tlearn: 1730.6550555\ttotal: 34.8s\tremaining: 2m 49s\n",
            "170:\tlearn: 1729.9890590\ttotal: 35s\tremaining: 2m 49s\n",
            "171:\tlearn: 1729.4361265\ttotal: 35.2s\tremaining: 2m 49s\n",
            "172:\tlearn: 1728.5045956\ttotal: 35.4s\tremaining: 2m 49s\n",
            "173:\tlearn: 1727.9333556\ttotal: 35.6s\tremaining: 2m 48s\n",
            "174:\tlearn: 1727.5890519\ttotal: 35.7s\tremaining: 2m 48s\n",
            "175:\tlearn: 1726.9109506\ttotal: 36s\tremaining: 2m 48s\n",
            "176:\tlearn: 1726.1230685\ttotal: 36.2s\tremaining: 2m 48s\n",
            "177:\tlearn: 1725.4194650\ttotal: 36.4s\tremaining: 2m 48s\n",
            "178:\tlearn: 1724.7671916\ttotal: 36.6s\tremaining: 2m 48s\n",
            "179:\tlearn: 1724.0440489\ttotal: 36.9s\tremaining: 2m 48s\n",
            "180:\tlearn: 1723.2554896\ttotal: 37.1s\tremaining: 2m 47s\n",
            "181:\tlearn: 1722.6300148\ttotal: 37.3s\tremaining: 2m 47s\n",
            "182:\tlearn: 1721.6819443\ttotal: 37.4s\tremaining: 2m 47s\n",
            "183:\tlearn: 1721.1760189\ttotal: 37.6s\tremaining: 2m 46s\n",
            "184:\tlearn: 1720.9180839\ttotal: 37.9s\tremaining: 2m 46s\n",
            "185:\tlearn: 1719.6766047\ttotal: 38.1s\tremaining: 2m 46s\n",
            "186:\tlearn: 1718.9754601\ttotal: 38.3s\tremaining: 2m 46s\n",
            "187:\tlearn: 1718.5280829\ttotal: 38.5s\tremaining: 2m 46s\n",
            "188:\tlearn: 1718.0589726\ttotal: 38.7s\tremaining: 2m 45s\n",
            "189:\tlearn: 1717.7590777\ttotal: 38.9s\tremaining: 2m 45s\n",
            "190:\tlearn: 1717.4573738\ttotal: 39.1s\tremaining: 2m 45s\n",
            "191:\tlearn: 1717.0977922\ttotal: 39.3s\tremaining: 2m 45s\n",
            "192:\tlearn: 1716.7872033\ttotal: 39.5s\tremaining: 2m 45s\n",
            "193:\tlearn: 1716.3111641\ttotal: 39.7s\tremaining: 2m 45s\n",
            "194:\tlearn: 1715.6596028\ttotal: 39.9s\tremaining: 2m 44s\n",
            "195:\tlearn: 1715.3133961\ttotal: 40.1s\tremaining: 2m 44s\n",
            "196:\tlearn: 1714.6323666\ttotal: 40.3s\tremaining: 2m 44s\n",
            "197:\tlearn: 1714.4550041\ttotal: 40.5s\tremaining: 2m 43s\n",
            "198:\tlearn: 1714.1907499\ttotal: 40.6s\tremaining: 2m 43s\n",
            "199:\tlearn: 1713.7089527\ttotal: 40.9s\tremaining: 2m 43s\n",
            "200:\tlearn: 1712.9558592\ttotal: 41.1s\tremaining: 2m 43s\n",
            "201:\tlearn: 1712.3604805\ttotal: 41.3s\tremaining: 2m 43s\n",
            "202:\tlearn: 1711.8814655\ttotal: 41.5s\tremaining: 2m 42s\n",
            "203:\tlearn: 1711.3837581\ttotal: 41.6s\tremaining: 2m 42s\n",
            "204:\tlearn: 1710.7948351\ttotal: 41.9s\tremaining: 2m 42s\n",
            "205:\tlearn: 1710.4218221\ttotal: 42s\tremaining: 2m 42s\n",
            "206:\tlearn: 1709.8581974\ttotal: 42.2s\tremaining: 2m 41s\n",
            "207:\tlearn: 1709.7310279\ttotal: 42.5s\tremaining: 2m 41s\n",
            "208:\tlearn: 1709.3683590\ttotal: 42.7s\tremaining: 2m 41s\n",
            "209:\tlearn: 1709.1115173\ttotal: 42.8s\tremaining: 2m 41s\n",
            "210:\tlearn: 1708.8914951\ttotal: 43s\tremaining: 2m 40s\n",
            "211:\tlearn: 1708.2087791\ttotal: 43.2s\tremaining: 2m 40s\n",
            "212:\tlearn: 1707.9254498\ttotal: 43.5s\tremaining: 2m 40s\n",
            "213:\tlearn: 1707.6273646\ttotal: 43.7s\tremaining: 2m 40s\n",
            "214:\tlearn: 1707.5030468\ttotal: 43.9s\tremaining: 2m 40s\n",
            "215:\tlearn: 1707.0025155\ttotal: 44.1s\tremaining: 2m 40s\n",
            "216:\tlearn: 1706.5554699\ttotal: 44.4s\tremaining: 2m 40s\n",
            "217:\tlearn: 1706.3587409\ttotal: 44.6s\tremaining: 2m 39s\n",
            "218:\tlearn: 1706.1316318\ttotal: 44.8s\tremaining: 2m 39s\n",
            "219:\tlearn: 1705.5663759\ttotal: 45s\tremaining: 2m 39s\n",
            "220:\tlearn: 1705.2664455\ttotal: 45.2s\tremaining: 2m 39s\n",
            "221:\tlearn: 1705.0278398\ttotal: 45.4s\tremaining: 2m 39s\n",
            "222:\tlearn: 1704.8638816\ttotal: 45.6s\tremaining: 2m 38s\n",
            "223:\tlearn: 1704.6152860\ttotal: 45.8s\tremaining: 2m 38s\n",
            "224:\tlearn: 1704.5508805\ttotal: 45.9s\tremaining: 2m 38s\n",
            "225:\tlearn: 1704.1206459\ttotal: 46.1s\tremaining: 2m 37s\n",
            "226:\tlearn: 1703.8263280\ttotal: 46.3s\tremaining: 2m 37s\n",
            "227:\tlearn: 1703.4524391\ttotal: 46.5s\tremaining: 2m 37s\n",
            "228:\tlearn: 1703.2360056\ttotal: 46.7s\tremaining: 2m 37s\n",
            "229:\tlearn: 1702.7756698\ttotal: 47s\tremaining: 2m 37s\n",
            "230:\tlearn: 1702.2975822\ttotal: 47.2s\tremaining: 2m 37s\n",
            "231:\tlearn: 1701.9584161\ttotal: 47.4s\tremaining: 2m 36s\n",
            "232:\tlearn: 1701.4792605\ttotal: 47.6s\tremaining: 2m 36s\n",
            "233:\tlearn: 1700.9759589\ttotal: 47.9s\tremaining: 2m 36s\n",
            "234:\tlearn: 1700.4983228\ttotal: 48.1s\tremaining: 2m 36s\n",
            "235:\tlearn: 1700.4601153\ttotal: 48.3s\tremaining: 2m 36s\n",
            "236:\tlearn: 1700.0827759\ttotal: 48.5s\tremaining: 2m 36s\n",
            "237:\tlearn: 1699.8613116\ttotal: 48.8s\tremaining: 2m 36s\n",
            "238:\tlearn: 1699.4363570\ttotal: 49s\tremaining: 2m 35s\n",
            "239:\tlearn: 1699.0498692\ttotal: 49.1s\tremaining: 2m 35s\n",
            "240:\tlearn: 1698.6239650\ttotal: 49.3s\tremaining: 2m 35s\n",
            "241:\tlearn: 1698.1221817\ttotal: 49.5s\tremaining: 2m 35s\n",
            "242:\tlearn: 1697.8238345\ttotal: 49.7s\tremaining: 2m 34s\n",
            "243:\tlearn: 1697.1709960\ttotal: 49.9s\tremaining: 2m 34s\n",
            "244:\tlearn: 1696.7270307\ttotal: 50.2s\tremaining: 2m 34s\n",
            "245:\tlearn: 1696.3245902\ttotal: 50.4s\tremaining: 2m 34s\n",
            "246:\tlearn: 1696.1249884\ttotal: 50.6s\tremaining: 2m 34s\n",
            "247:\tlearn: 1695.6909449\ttotal: 50.8s\tremaining: 2m 33s\n",
            "248:\tlearn: 1695.3823662\ttotal: 50.9s\tremaining: 2m 33s\n",
            "249:\tlearn: 1694.9645461\ttotal: 51.1s\tremaining: 2m 33s\n",
            "250:\tlearn: 1694.5055296\ttotal: 51.3s\tremaining: 2m 33s\n",
            "251:\tlearn: 1694.2788676\ttotal: 51.5s\tremaining: 2m 32s\n",
            "252:\tlearn: 1694.0259176\ttotal: 51.7s\tremaining: 2m 32s\n",
            "253:\tlearn: 1693.6440481\ttotal: 51.9s\tremaining: 2m 32s\n",
            "254:\tlearn: 1693.4073388\ttotal: 52.1s\tremaining: 2m 32s\n",
            "255:\tlearn: 1693.1266579\ttotal: 52.3s\tremaining: 2m 32s\n",
            "256:\tlearn: 1692.9571689\ttotal: 52.6s\tremaining: 2m 31s\n",
            "257:\tlearn: 1692.7600479\ttotal: 52.7s\tremaining: 2m 31s\n",
            "258:\tlearn: 1692.6367288\ttotal: 52.9s\tremaining: 2m 31s\n",
            "259:\tlearn: 1692.5181047\ttotal: 53.2s\tremaining: 2m 31s\n",
            "260:\tlearn: 1692.2705689\ttotal: 53.4s\tremaining: 2m 31s\n",
            "261:\tlearn: 1691.8769228\ttotal: 53.5s\tremaining: 2m 30s\n",
            "262:\tlearn: 1691.3843801\ttotal: 53.8s\tremaining: 2m 30s\n",
            "263:\tlearn: 1691.2736062\ttotal: 54s\tremaining: 2m 30s\n",
            "264:\tlearn: 1690.8991440\ttotal: 54.2s\tremaining: 2m 30s\n",
            "265:\tlearn: 1690.5928455\ttotal: 54.4s\tremaining: 2m 30s\n",
            "266:\tlearn: 1690.0667475\ttotal: 54.6s\tremaining: 2m 29s\n",
            "267:\tlearn: 1689.6261261\ttotal: 54.8s\tremaining: 2m 29s\n",
            "268:\tlearn: 1689.5661173\ttotal: 55s\tremaining: 2m 29s\n",
            "269:\tlearn: 1689.1312752\ttotal: 55.3s\tremaining: 2m 29s\n",
            "270:\tlearn: 1688.5506675\ttotal: 55.5s\tremaining: 2m 29s\n",
            "271:\tlearn: 1688.3309372\ttotal: 55.7s\tremaining: 2m 29s\n",
            "272:\tlearn: 1687.9654298\ttotal: 55.9s\tremaining: 2m 28s\n",
            "273:\tlearn: 1687.8751794\ttotal: 56s\tremaining: 2m 28s\n",
            "274:\tlearn: 1687.2734940\ttotal: 56.2s\tremaining: 2m 28s\n",
            "275:\tlearn: 1686.9322073\ttotal: 56.4s\tremaining: 2m 27s\n",
            "276:\tlearn: 1686.3891815\ttotal: 56.6s\tremaining: 2m 27s\n",
            "277:\tlearn: 1685.7761005\ttotal: 56.8s\tremaining: 2m 27s\n",
            "278:\tlearn: 1685.6411057\ttotal: 57s\tremaining: 2m 27s\n",
            "279:\tlearn: 1685.1058449\ttotal: 57.2s\tremaining: 2m 27s\n",
            "280:\tlearn: 1684.8489488\ttotal: 57.4s\tremaining: 2m 26s\n",
            "281:\tlearn: 1684.1280913\ttotal: 57.6s\tremaining: 2m 26s\n",
            "282:\tlearn: 1683.9277049\ttotal: 57.8s\tremaining: 2m 26s\n",
            "283:\tlearn: 1683.7388904\ttotal: 57.9s\tremaining: 2m 26s\n",
            "284:\tlearn: 1683.0688783\ttotal: 58.1s\tremaining: 2m 25s\n",
            "285:\tlearn: 1682.3663697\ttotal: 58.3s\tremaining: 2m 25s\n",
            "286:\tlearn: 1682.1924132\ttotal: 58.5s\tremaining: 2m 25s\n",
            "287:\tlearn: 1681.5566810\ttotal: 58.7s\tremaining: 2m 25s\n",
            "288:\tlearn: 1681.3337402\ttotal: 58.8s\tremaining: 2m 24s\n",
            "289:\tlearn: 1680.9414898\ttotal: 59s\tremaining: 2m 24s\n",
            "290:\tlearn: 1680.5968733\ttotal: 59.2s\tremaining: 2m 24s\n",
            "291:\tlearn: 1680.1622467\ttotal: 59.4s\tremaining: 2m 24s\n",
            "292:\tlearn: 1679.7837140\ttotal: 59.6s\tremaining: 2m 23s\n",
            "293:\tlearn: 1679.4102665\ttotal: 59.9s\tremaining: 2m 23s\n",
            "294:\tlearn: 1679.1941591\ttotal: 1m\tremaining: 2m 23s\n",
            "295:\tlearn: 1679.0870629\ttotal: 1m\tremaining: 2m 23s\n",
            "296:\tlearn: 1678.9162764\ttotal: 1m\tremaining: 2m 23s\n",
            "297:\tlearn: 1678.7183264\ttotal: 1m\tremaining: 2m 22s\n",
            "298:\tlearn: 1678.0639837\ttotal: 1m\tremaining: 2m 22s\n",
            "299:\tlearn: 1677.7358489\ttotal: 1m 1s\tremaining: 2m 22s\n",
            "300:\tlearn: 1677.2849246\ttotal: 1m 1s\tremaining: 2m 22s\n",
            "301:\tlearn: 1676.8032354\ttotal: 1m 1s\tremaining: 2m 22s\n",
            "302:\tlearn: 1676.7626939\ttotal: 1m 1s\tremaining: 2m 21s\n",
            "303:\tlearn: 1676.5837465\ttotal: 1m 1s\tremaining: 2m 21s\n",
            "304:\tlearn: 1676.2330236\ttotal: 1m 2s\tremaining: 2m 21s\n",
            "305:\tlearn: 1675.9407988\ttotal: 1m 2s\tremaining: 2m 21s\n",
            "306:\tlearn: 1675.8865096\ttotal: 1m 2s\tremaining: 2m 21s\n",
            "307:\tlearn: 1675.4354372\ttotal: 1m 2s\tremaining: 2m 20s\n",
            "308:\tlearn: 1675.1850008\ttotal: 1m 2s\tremaining: 2m 20s\n",
            "309:\tlearn: 1674.7786047\ttotal: 1m 3s\tremaining: 2m 20s\n",
            "310:\tlearn: 1674.6020617\ttotal: 1m 3s\tremaining: 2m 20s\n",
            "311:\tlearn: 1674.3914794\ttotal: 1m 3s\tremaining: 2m 20s\n",
            "312:\tlearn: 1674.1077233\ttotal: 1m 3s\tremaining: 2m 20s\n",
            "313:\tlearn: 1673.9268798\ttotal: 1m 4s\tremaining: 2m 19s\n",
            "314:\tlearn: 1673.7176514\ttotal: 1m 4s\tremaining: 2m 19s\n",
            "315:\tlearn: 1673.3312934\ttotal: 1m 4s\tremaining: 2m 19s\n",
            "316:\tlearn: 1673.0089393\ttotal: 1m 4s\tremaining: 2m 19s\n",
            "317:\tlearn: 1672.7716502\ttotal: 1m 4s\tremaining: 2m 19s\n",
            "318:\tlearn: 1672.4878656\ttotal: 1m 5s\tremaining: 2m 18s\n",
            "319:\tlearn: 1672.2298760\ttotal: 1m 5s\tremaining: 2m 18s\n",
            "320:\tlearn: 1671.9591690\ttotal: 1m 5s\tremaining: 2m 18s\n",
            "321:\tlearn: 1671.6897094\ttotal: 1m 5s\tremaining: 2m 18s\n",
            "322:\tlearn: 1671.3364170\ttotal: 1m 5s\tremaining: 2m 17s\n",
            "323:\tlearn: 1670.9680014\ttotal: 1m 5s\tremaining: 2m 17s\n",
            "324:\tlearn: 1670.5250840\ttotal: 1m 6s\tremaining: 2m 17s\n",
            "325:\tlearn: 1670.2426720\ttotal: 1m 6s\tremaining: 2m 17s\n",
            "326:\tlearn: 1669.9586975\ttotal: 1m 6s\tremaining: 2m 17s\n",
            "327:\tlearn: 1669.6139484\ttotal: 1m 6s\tremaining: 2m 17s\n",
            "328:\tlearn: 1669.2220922\ttotal: 1m 7s\tremaining: 2m 16s\n",
            "329:\tlearn: 1668.9224603\ttotal: 1m 7s\tremaining: 2m 16s\n",
            "330:\tlearn: 1668.3744323\ttotal: 1m 7s\tremaining: 2m 16s\n",
            "331:\tlearn: 1668.2691423\ttotal: 1m 7s\tremaining: 2m 16s\n",
            "332:\tlearn: 1667.7529290\ttotal: 1m 7s\tremaining: 2m 15s\n",
            "333:\tlearn: 1667.4518991\ttotal: 1m 7s\tremaining: 2m 15s\n",
            "334:\tlearn: 1667.2576797\ttotal: 1m 8s\tremaining: 2m 15s\n",
            "335:\tlearn: 1667.2123971\ttotal: 1m 8s\tremaining: 2m 15s\n",
            "336:\tlearn: 1667.1485907\ttotal: 1m 8s\tremaining: 2m 14s\n",
            "337:\tlearn: 1666.6501923\ttotal: 1m 8s\tremaining: 2m 14s\n",
            "338:\tlearn: 1666.4265642\ttotal: 1m 8s\tremaining: 2m 14s\n",
            "339:\tlearn: 1666.1795480\ttotal: 1m 9s\tremaining: 2m 14s\n",
            "340:\tlearn: 1665.8811434\ttotal: 1m 9s\tremaining: 2m 13s\n",
            "341:\tlearn: 1665.7457004\ttotal: 1m 9s\tremaining: 2m 13s\n",
            "342:\tlearn: 1665.4827886\ttotal: 1m 9s\tremaining: 2m 13s\n",
            "343:\tlearn: 1665.2289568\ttotal: 1m 9s\tremaining: 2m 13s\n",
            "344:\tlearn: 1665.0602662\ttotal: 1m 10s\tremaining: 2m 13s\n",
            "345:\tlearn: 1664.8507413\ttotal: 1m 10s\tremaining: 2m 12s\n",
            "346:\tlearn: 1664.6320852\ttotal: 1m 10s\tremaining: 2m 12s\n",
            "347:\tlearn: 1664.3834103\ttotal: 1m 10s\tremaining: 2m 12s\n",
            "348:\tlearn: 1664.2632556\ttotal: 1m 10s\tremaining: 2m 12s\n",
            "349:\tlearn: 1664.0948393\ttotal: 1m 11s\tremaining: 2m 11s\n",
            "350:\tlearn: 1663.8261824\ttotal: 1m 11s\tremaining: 2m 11s\n",
            "351:\tlearn: 1663.6299292\ttotal: 1m 11s\tremaining: 2m 11s\n",
            "352:\tlearn: 1663.2825928\ttotal: 1m 11s\tremaining: 2m 11s\n",
            "353:\tlearn: 1663.0652065\ttotal: 1m 11s\tremaining: 2m 11s\n",
            "354:\tlearn: 1662.5547023\ttotal: 1m 12s\tremaining: 2m 10s\n",
            "355:\tlearn: 1661.9979350\ttotal: 1m 12s\tremaining: 2m 10s\n",
            "356:\tlearn: 1661.6789619\ttotal: 1m 12s\tremaining: 2m 10s\n",
            "357:\tlearn: 1661.5922809\ttotal: 1m 12s\tremaining: 2m 10s\n",
            "358:\tlearn: 1661.5378344\ttotal: 1m 12s\tremaining: 2m 10s\n",
            "359:\tlearn: 1661.4143485\ttotal: 1m 13s\tremaining: 2m 9s\n",
            "360:\tlearn: 1661.2707417\ttotal: 1m 13s\tremaining: 2m 9s\n",
            "361:\tlearn: 1660.8207201\ttotal: 1m 13s\tremaining: 2m 9s\n",
            "362:\tlearn: 1660.5963622\ttotal: 1m 13s\tremaining: 2m 9s\n",
            "363:\tlearn: 1660.3347795\ttotal: 1m 13s\tremaining: 2m 9s\n",
            "364:\tlearn: 1660.0764372\ttotal: 1m 14s\tremaining: 2m 8s\n",
            "365:\tlearn: 1660.0447271\ttotal: 1m 14s\tremaining: 2m 8s\n",
            "366:\tlearn: 1659.8502666\ttotal: 1m 14s\tremaining: 2m 8s\n",
            "367:\tlearn: 1659.8366907\ttotal: 1m 14s\tremaining: 2m 8s\n",
            "368:\tlearn: 1659.6866467\ttotal: 1m 14s\tremaining: 2m 8s\n",
            "369:\tlearn: 1659.5026395\ttotal: 1m 15s\tremaining: 2m 7s\n",
            "370:\tlearn: 1659.1193103\ttotal: 1m 15s\tremaining: 2m 7s\n",
            "371:\tlearn: 1658.9497921\ttotal: 1m 15s\tremaining: 2m 7s\n",
            "372:\tlearn: 1658.7524272\ttotal: 1m 15s\tremaining: 2m 7s\n",
            "373:\tlearn: 1658.6918628\ttotal: 1m 15s\tremaining: 2m 7s\n",
            "374:\tlearn: 1658.4942251\ttotal: 1m 16s\tremaining: 2m 6s\n",
            "375:\tlearn: 1658.1874701\ttotal: 1m 16s\tremaining: 2m 6s\n",
            "376:\tlearn: 1658.1052396\ttotal: 1m 16s\tremaining: 2m 6s\n",
            "377:\tlearn: 1657.9375447\ttotal: 1m 16s\tremaining: 2m 6s\n",
            "378:\tlearn: 1657.5994340\ttotal: 1m 16s\tremaining: 2m 5s\n",
            "379:\tlearn: 1657.3803541\ttotal: 1m 17s\tremaining: 2m 5s\n",
            "380:\tlearn: 1657.0602971\ttotal: 1m 17s\tremaining: 2m 5s\n",
            "381:\tlearn: 1656.7833571\ttotal: 1m 17s\tremaining: 2m 5s\n",
            "382:\tlearn: 1656.5747658\ttotal: 1m 17s\tremaining: 2m 5s\n",
            "383:\tlearn: 1656.5555396\ttotal: 1m 17s\tremaining: 2m 5s\n",
            "384:\tlearn: 1656.2314004\ttotal: 1m 18s\tremaining: 2m 4s\n",
            "385:\tlearn: 1655.9860219\ttotal: 1m 18s\tremaining: 2m 4s\n",
            "386:\tlearn: 1655.7337366\ttotal: 1m 18s\tremaining: 2m 4s\n",
            "387:\tlearn: 1655.4227743\ttotal: 1m 18s\tremaining: 2m 4s\n",
            "388:\tlearn: 1655.2507665\ttotal: 1m 18s\tremaining: 2m 4s\n",
            "389:\tlearn: 1654.8383017\ttotal: 1m 19s\tremaining: 2m 3s\n",
            "390:\tlearn: 1654.4912012\ttotal: 1m 19s\tremaining: 2m 3s\n",
            "391:\tlearn: 1654.4518364\ttotal: 1m 19s\tremaining: 2m 3s\n",
            "392:\tlearn: 1654.3833932\ttotal: 1m 19s\tremaining: 2m 3s\n",
            "393:\tlearn: 1654.2265101\ttotal: 1m 20s\tremaining: 2m 3s\n",
            "394:\tlearn: 1653.8898568\ttotal: 1m 20s\tremaining: 2m 3s\n",
            "395:\tlearn: 1653.6641297\ttotal: 1m 20s\tremaining: 2m 3s\n",
            "396:\tlearn: 1653.3656717\ttotal: 1m 20s\tremaining: 2m 2s\n",
            "397:\tlearn: 1653.2340465\ttotal: 1m 21s\tremaining: 2m 2s\n",
            "398:\tlearn: 1652.9834096\ttotal: 1m 21s\tremaining: 2m 2s\n",
            "399:\tlearn: 1652.7825178\ttotal: 1m 21s\tremaining: 2m 2s\n",
            "400:\tlearn: 1652.6524335\ttotal: 1m 21s\tremaining: 2m 2s\n",
            "401:\tlearn: 1652.3247225\ttotal: 1m 21s\tremaining: 2m 1s\n",
            "402:\tlearn: 1651.9562999\ttotal: 1m 22s\tremaining: 2m 1s\n",
            "403:\tlearn: 1651.8317345\ttotal: 1m 22s\tremaining: 2m 1s\n",
            "404:\tlearn: 1651.8258914\ttotal: 1m 22s\tremaining: 2m 1s\n",
            "405:\tlearn: 1651.5581721\ttotal: 1m 22s\tremaining: 2m 1s\n",
            "406:\tlearn: 1651.1718993\ttotal: 1m 23s\tremaining: 2m\n",
            "407:\tlearn: 1650.6946273\ttotal: 1m 23s\tremaining: 2m\n",
            "408:\tlearn: 1650.6833822\ttotal: 1m 23s\tremaining: 2m\n",
            "409:\tlearn: 1650.3050994\ttotal: 1m 23s\tremaining: 2m\n",
            "410:\tlearn: 1650.1433895\ttotal: 1m 23s\tremaining: 2m\n",
            "411:\tlearn: 1650.1341602\ttotal: 1m 24s\tremaining: 2m\n",
            "412:\tlearn: 1649.7366548\ttotal: 1m 24s\tremaining: 1m 59s\n",
            "413:\tlearn: 1649.5674172\ttotal: 1m 24s\tremaining: 1m 59s\n",
            "414:\tlearn: 1649.3768948\ttotal: 1m 24s\tremaining: 1m 59s\n",
            "415:\tlearn: 1649.0745363\ttotal: 1m 25s\tremaining: 1m 59s\n",
            "416:\tlearn: 1648.5161597\ttotal: 1m 25s\tremaining: 1m 59s\n",
            "417:\tlearn: 1648.3395058\ttotal: 1m 25s\tremaining: 1m 58s\n",
            "418:\tlearn: 1648.1744433\ttotal: 1m 25s\tremaining: 1m 58s\n",
            "419:\tlearn: 1647.7185205\ttotal: 1m 25s\tremaining: 1m 58s\n",
            "420:\tlearn: 1647.6587357\ttotal: 1m 26s\tremaining: 1m 58s\n",
            "421:\tlearn: 1647.5545723\ttotal: 1m 26s\tremaining: 1m 58s\n",
            "422:\tlearn: 1647.1462536\ttotal: 1m 26s\tremaining: 1m 57s\n",
            "423:\tlearn: 1646.9627673\ttotal: 1m 26s\tremaining: 1m 57s\n",
            "424:\tlearn: 1646.7131239\ttotal: 1m 26s\tremaining: 1m 57s\n",
            "425:\tlearn: 1646.3053898\ttotal: 1m 27s\tremaining: 1m 57s\n",
            "426:\tlearn: 1646.1026231\ttotal: 1m 27s\tremaining: 1m 57s\n",
            "427:\tlearn: 1645.9673477\ttotal: 1m 27s\tremaining: 1m 57s\n",
            "428:\tlearn: 1645.7175164\ttotal: 1m 27s\tremaining: 1m 56s\n",
            "429:\tlearn: 1645.6514267\ttotal: 1m 27s\tremaining: 1m 56s\n",
            "430:\tlearn: 1645.4511747\ttotal: 1m 28s\tremaining: 1m 56s\n",
            "431:\tlearn: 1645.4427451\ttotal: 1m 28s\tremaining: 1m 56s\n",
            "432:\tlearn: 1645.3601293\ttotal: 1m 28s\tremaining: 1m 55s\n",
            "433:\tlearn: 1644.9846795\ttotal: 1m 28s\tremaining: 1m 55s\n",
            "434:\tlearn: 1644.7824295\ttotal: 1m 28s\tremaining: 1m 55s\n",
            "435:\tlearn: 1644.6524343\ttotal: 1m 29s\tremaining: 1m 55s\n",
            "436:\tlearn: 1644.4412127\ttotal: 1m 29s\tremaining: 1m 55s\n",
            "437:\tlearn: 1644.1486286\ttotal: 1m 29s\tremaining: 1m 54s\n",
            "438:\tlearn: 1643.8666347\ttotal: 1m 29s\tremaining: 1m 54s\n",
            "439:\tlearn: 1643.6735289\ttotal: 1m 29s\tremaining: 1m 54s\n",
            "440:\tlearn: 1643.4197358\ttotal: 1m 30s\tremaining: 1m 54s\n",
            "441:\tlearn: 1643.1137434\ttotal: 1m 30s\tremaining: 1m 54s\n",
            "442:\tlearn: 1643.0294902\ttotal: 1m 30s\tremaining: 1m 53s\n",
            "443:\tlearn: 1642.8415568\ttotal: 1m 30s\tremaining: 1m 53s\n",
            "444:\tlearn: 1642.7313642\ttotal: 1m 30s\tremaining: 1m 53s\n",
            "445:\tlearn: 1642.4009121\ttotal: 1m 31s\tremaining: 1m 53s\n",
            "446:\tlearn: 1642.2790840\ttotal: 1m 31s\tremaining: 1m 52s\n",
            "447:\tlearn: 1641.9694422\ttotal: 1m 31s\tremaining: 1m 52s\n",
            "448:\tlearn: 1641.8986331\ttotal: 1m 31s\tremaining: 1m 52s\n",
            "449:\tlearn: 1641.8463168\ttotal: 1m 31s\tremaining: 1m 52s\n",
            "450:\tlearn: 1641.7178658\ttotal: 1m 31s\tremaining: 1m 51s\n",
            "451:\tlearn: 1641.6081561\ttotal: 1m 32s\tremaining: 1m 51s\n",
            "452:\tlearn: 1641.4019264\ttotal: 1m 32s\tremaining: 1m 51s\n",
            "453:\tlearn: 1641.1345940\ttotal: 1m 32s\tremaining: 1m 51s\n",
            "454:\tlearn: 1640.8238488\ttotal: 1m 32s\tremaining: 1m 51s\n",
            "455:\tlearn: 1640.6958190\ttotal: 1m 32s\tremaining: 1m 50s\n",
            "456:\tlearn: 1640.2991395\ttotal: 1m 33s\tremaining: 1m 50s\n",
            "457:\tlearn: 1640.1561761\ttotal: 1m 33s\tremaining: 1m 50s\n",
            "458:\tlearn: 1639.9617912\ttotal: 1m 33s\tremaining: 1m 50s\n",
            "459:\tlearn: 1639.6864086\ttotal: 1m 33s\tremaining: 1m 50s\n",
            "460:\tlearn: 1639.5053476\ttotal: 1m 34s\tremaining: 1m 49s\n",
            "461:\tlearn: 1639.4934810\ttotal: 1m 34s\tremaining: 1m 49s\n",
            "462:\tlearn: 1639.4866783\ttotal: 1m 34s\tremaining: 1m 49s\n",
            "463:\tlearn: 1639.4038387\ttotal: 1m 34s\tremaining: 1m 49s\n",
            "464:\tlearn: 1639.0495738\ttotal: 1m 34s\tremaining: 1m 49s\n",
            "465:\tlearn: 1638.7891700\ttotal: 1m 35s\tremaining: 1m 48s\n",
            "466:\tlearn: 1638.6107675\ttotal: 1m 35s\tremaining: 1m 48s\n",
            "467:\tlearn: 1638.5999299\ttotal: 1m 35s\tremaining: 1m 48s\n",
            "468:\tlearn: 1638.2853664\ttotal: 1m 35s\tremaining: 1m 48s\n",
            "469:\tlearn: 1637.8477277\ttotal: 1m 35s\tremaining: 1m 48s\n",
            "470:\tlearn: 1637.6852129\ttotal: 1m 36s\tremaining: 1m 48s\n",
            "471:\tlearn: 1637.6306054\ttotal: 1m 36s\tremaining: 1m 47s\n",
            "472:\tlearn: 1637.2706337\ttotal: 1m 36s\tremaining: 1m 47s\n",
            "473:\tlearn: 1637.1588031\ttotal: 1m 36s\tremaining: 1m 47s\n",
            "474:\tlearn: 1637.1377745\ttotal: 1m 36s\tremaining: 1m 47s\n",
            "475:\tlearn: 1636.9830613\ttotal: 1m 37s\tremaining: 1m 46s\n",
            "476:\tlearn: 1636.7032572\ttotal: 1m 37s\tremaining: 1m 46s\n",
            "477:\tlearn: 1636.4610349\ttotal: 1m 37s\tremaining: 1m 46s\n",
            "478:\tlearn: 1636.2433934\ttotal: 1m 37s\tremaining: 1m 46s\n",
            "479:\tlearn: 1635.9378178\ttotal: 1m 37s\tremaining: 1m 45s\n",
            "480:\tlearn: 1635.6333581\ttotal: 1m 38s\tremaining: 1m 45s\n",
            "481:\tlearn: 1635.3035397\ttotal: 1m 38s\tremaining: 1m 45s\n",
            "482:\tlearn: 1635.2972382\ttotal: 1m 38s\tremaining: 1m 45s\n",
            "483:\tlearn: 1635.1038747\ttotal: 1m 38s\tremaining: 1m 45s\n",
            "484:\tlearn: 1635.0639098\ttotal: 1m 38s\tremaining: 1m 44s\n",
            "485:\tlearn: 1634.9868838\ttotal: 1m 39s\tremaining: 1m 44s\n",
            "486:\tlearn: 1634.8305014\ttotal: 1m 39s\tremaining: 1m 44s\n",
            "487:\tlearn: 1634.6354114\ttotal: 1m 39s\tremaining: 1m 44s\n",
            "488:\tlearn: 1634.3860145\ttotal: 1m 39s\tremaining: 1m 44s\n",
            "489:\tlearn: 1634.2584010\ttotal: 1m 39s\tremaining: 1m 43s\n",
            "490:\tlearn: 1633.9541222\ttotal: 1m 40s\tremaining: 1m 43s\n",
            "491:\tlearn: 1633.8143879\ttotal: 1m 40s\tremaining: 1m 43s\n",
            "492:\tlearn: 1633.7306193\ttotal: 1m 40s\tremaining: 1m 43s\n",
            "493:\tlearn: 1633.5604208\ttotal: 1m 40s\tremaining: 1m 43s\n",
            "494:\tlearn: 1633.3192210\ttotal: 1m 40s\tremaining: 1m 43s\n",
            "495:\tlearn: 1632.9677004\ttotal: 1m 41s\tremaining: 1m 42s\n",
            "496:\tlearn: 1632.8500442\ttotal: 1m 41s\tremaining: 1m 42s\n",
            "497:\tlearn: 1632.5987210\ttotal: 1m 41s\tremaining: 1m 42s\n",
            "498:\tlearn: 1632.5167085\ttotal: 1m 41s\tremaining: 1m 42s\n",
            "499:\tlearn: 1632.2915888\ttotal: 1m 41s\tremaining: 1m 41s\n",
            "500:\tlearn: 1632.1604161\ttotal: 1m 42s\tremaining: 1m 41s\n",
            "501:\tlearn: 1632.1503855\ttotal: 1m 42s\tremaining: 1m 41s\n",
            "502:\tlearn: 1631.9367260\ttotal: 1m 42s\tremaining: 1m 41s\n",
            "503:\tlearn: 1631.5913601\ttotal: 1m 42s\tremaining: 1m 41s\n",
            "504:\tlearn: 1631.5785099\ttotal: 1m 43s\tremaining: 1m 41s\n",
            "505:\tlearn: 1631.5045831\ttotal: 1m 43s\tremaining: 1m 40s\n",
            "506:\tlearn: 1631.2126263\ttotal: 1m 43s\tremaining: 1m 40s\n",
            "507:\tlearn: 1631.1296988\ttotal: 1m 43s\tremaining: 1m 40s\n",
            "508:\tlearn: 1630.9744516\ttotal: 1m 43s\tremaining: 1m 40s\n",
            "509:\tlearn: 1630.9030786\ttotal: 1m 44s\tremaining: 1m 40s\n",
            "510:\tlearn: 1630.6853409\ttotal: 1m 44s\tremaining: 1m 39s\n",
            "511:\tlearn: 1630.5243735\ttotal: 1m 44s\tremaining: 1m 39s\n",
            "512:\tlearn: 1630.3344420\ttotal: 1m 44s\tremaining: 1m 39s\n",
            "513:\tlearn: 1630.0925387\ttotal: 1m 44s\tremaining: 1m 39s\n",
            "514:\tlearn: 1629.9206820\ttotal: 1m 45s\tremaining: 1m 39s\n",
            "515:\tlearn: 1629.7551120\ttotal: 1m 45s\tremaining: 1m 38s\n",
            "516:\tlearn: 1629.5656055\ttotal: 1m 45s\tremaining: 1m 38s\n",
            "517:\tlearn: 1629.2960589\ttotal: 1m 45s\tremaining: 1m 38s\n",
            "518:\tlearn: 1629.0810706\ttotal: 1m 46s\tremaining: 1m 38s\n",
            "519:\tlearn: 1628.9191106\ttotal: 1m 46s\tremaining: 1m 38s\n",
            "520:\tlearn: 1628.7812858\ttotal: 1m 46s\tremaining: 1m 37s\n",
            "521:\tlearn: 1628.5137353\ttotal: 1m 46s\tremaining: 1m 37s\n",
            "522:\tlearn: 1628.4846570\ttotal: 1m 46s\tremaining: 1m 37s\n",
            "523:\tlearn: 1628.2951270\ttotal: 1m 47s\tremaining: 1m 37s\n",
            "524:\tlearn: 1628.1144738\ttotal: 1m 47s\tremaining: 1m 37s\n",
            "525:\tlearn: 1627.8197650\ttotal: 1m 47s\tremaining: 1m 36s\n",
            "526:\tlearn: 1627.6208211\ttotal: 1m 47s\tremaining: 1m 36s\n",
            "527:\tlearn: 1627.3562869\ttotal: 1m 47s\tremaining: 1m 36s\n",
            "528:\tlearn: 1627.1309900\ttotal: 1m 48s\tremaining: 1m 36s\n",
            "529:\tlearn: 1626.9513793\ttotal: 1m 48s\tremaining: 1m 36s\n",
            "530:\tlearn: 1626.9500365\ttotal: 1m 48s\tremaining: 1m 35s\n",
            "531:\tlearn: 1626.9082795\ttotal: 1m 48s\tremaining: 1m 35s\n",
            "532:\tlearn: 1626.7085820\ttotal: 1m 48s\tremaining: 1m 35s\n",
            "533:\tlearn: 1626.6548829\ttotal: 1m 49s\tremaining: 1m 35s\n",
            "534:\tlearn: 1626.6228604\ttotal: 1m 49s\tremaining: 1m 35s\n",
            "535:\tlearn: 1626.4055785\ttotal: 1m 49s\tremaining: 1m 34s\n",
            "536:\tlearn: 1626.1884282\ttotal: 1m 49s\tremaining: 1m 34s\n",
            "537:\tlearn: 1626.1315113\ttotal: 1m 50s\tremaining: 1m 34s\n",
            "538:\tlearn: 1626.1181812\ttotal: 1m 50s\tremaining: 1m 34s\n",
            "539:\tlearn: 1626.1093293\ttotal: 1m 50s\tremaining: 1m 34s\n",
            "540:\tlearn: 1625.7710259\ttotal: 1m 50s\tremaining: 1m 34s\n",
            "541:\tlearn: 1625.6912769\ttotal: 1m 51s\tremaining: 1m 33s\n",
            "542:\tlearn: 1625.5056509\ttotal: 1m 51s\tremaining: 1m 33s\n",
            "543:\tlearn: 1625.2873415\ttotal: 1m 51s\tremaining: 1m 33s\n",
            "544:\tlearn: 1625.0935411\ttotal: 1m 51s\tremaining: 1m 33s\n",
            "545:\tlearn: 1624.8922653\ttotal: 1m 52s\tremaining: 1m 33s\n",
            "546:\tlearn: 1624.7331832\ttotal: 1m 52s\tremaining: 1m 32s\n",
            "547:\tlearn: 1624.6050689\ttotal: 1m 52s\tremaining: 1m 32s\n",
            "548:\tlearn: 1624.3372938\ttotal: 1m 52s\tremaining: 1m 32s\n",
            "549:\tlearn: 1624.3045054\ttotal: 1m 52s\tremaining: 1m 32s\n",
            "550:\tlearn: 1624.1956094\ttotal: 1m 53s\tremaining: 1m 32s\n",
            "551:\tlearn: 1624.1011107\ttotal: 1m 53s\tremaining: 1m 32s\n",
            "552:\tlearn: 1624.0279541\ttotal: 1m 53s\tremaining: 1m 31s\n",
            "553:\tlearn: 1623.8003423\ttotal: 1m 53s\tremaining: 1m 31s\n",
            "554:\tlearn: 1623.6278731\ttotal: 1m 53s\tremaining: 1m 31s\n",
            "555:\tlearn: 1623.2849734\ttotal: 1m 54s\tremaining: 1m 31s\n",
            "556:\tlearn: 1623.2582840\ttotal: 1m 54s\tremaining: 1m 30s\n",
            "557:\tlearn: 1623.1960099\ttotal: 1m 54s\tremaining: 1m 30s\n",
            "558:\tlearn: 1623.0466394\ttotal: 1m 54s\tremaining: 1m 30s\n",
            "559:\tlearn: 1623.0261121\ttotal: 1m 54s\tremaining: 1m 30s\n",
            "560:\tlearn: 1623.0235776\ttotal: 1m 55s\tremaining: 1m 30s\n",
            "561:\tlearn: 1622.7189656\ttotal: 1m 55s\tremaining: 1m 29s\n",
            "562:\tlearn: 1622.5009513\ttotal: 1m 55s\tremaining: 1m 29s\n",
            "563:\tlearn: 1622.3307036\ttotal: 1m 55s\tremaining: 1m 29s\n",
            "564:\tlearn: 1622.2192528\ttotal: 1m 56s\tremaining: 1m 29s\n",
            "565:\tlearn: 1622.1090782\ttotal: 1m 56s\tremaining: 1m 29s\n",
            "566:\tlearn: 1621.9458238\ttotal: 1m 56s\tremaining: 1m 28s\n",
            "567:\tlearn: 1621.9234131\ttotal: 1m 56s\tremaining: 1m 28s\n",
            "568:\tlearn: 1621.8349635\ttotal: 1m 56s\tremaining: 1m 28s\n",
            "569:\tlearn: 1621.7954305\ttotal: 1m 57s\tremaining: 1m 28s\n",
            "570:\tlearn: 1621.5265431\ttotal: 1m 57s\tremaining: 1m 28s\n",
            "571:\tlearn: 1621.4009768\ttotal: 1m 57s\tremaining: 1m 27s\n",
            "572:\tlearn: 1621.2875357\ttotal: 1m 57s\tremaining: 1m 27s\n",
            "573:\tlearn: 1621.1739829\ttotal: 1m 57s\tremaining: 1m 27s\n",
            "574:\tlearn: 1621.0205505\ttotal: 1m 58s\tremaining: 1m 27s\n",
            "575:\tlearn: 1620.7767286\ttotal: 1m 58s\tremaining: 1m 27s\n",
            "576:\tlearn: 1620.6566746\ttotal: 1m 58s\tremaining: 1m 26s\n",
            "577:\tlearn: 1620.5220828\ttotal: 1m 58s\tremaining: 1m 26s\n",
            "578:\tlearn: 1620.3481243\ttotal: 1m 58s\tremaining: 1m 26s\n",
            "579:\tlearn: 1620.2180586\ttotal: 1m 59s\tremaining: 1m 26s\n",
            "580:\tlearn: 1620.1126217\ttotal: 1m 59s\tremaining: 1m 26s\n",
            "581:\tlearn: 1619.9097924\ttotal: 1m 59s\tremaining: 1m 25s\n",
            "582:\tlearn: 1619.6855252\ttotal: 1m 59s\tremaining: 1m 25s\n",
            "583:\tlearn: 1619.4253584\ttotal: 1m 59s\tremaining: 1m 25s\n",
            "584:\tlearn: 1619.3533438\ttotal: 2m\tremaining: 1m 25s\n",
            "585:\tlearn: 1619.1231390\ttotal: 2m\tremaining: 1m 24s\n",
            "586:\tlearn: 1618.9459357\ttotal: 2m\tremaining: 1m 24s\n",
            "587:\tlearn: 1618.6866114\ttotal: 2m\tremaining: 1m 24s\n",
            "588:\tlearn: 1618.6792401\ttotal: 2m\tremaining: 1m 24s\n",
            "589:\tlearn: 1618.6265684\ttotal: 2m\tremaining: 1m 24s\n",
            "590:\tlearn: 1618.4386458\ttotal: 2m 1s\tremaining: 1m 23s\n",
            "591:\tlearn: 1618.4218980\ttotal: 2m 1s\tremaining: 1m 23s\n",
            "592:\tlearn: 1618.3695128\ttotal: 2m 1s\tremaining: 1m 23s\n",
            "593:\tlearn: 1618.2247715\ttotal: 2m 1s\tremaining: 1m 23s\n",
            "594:\tlearn: 1618.0547356\ttotal: 2m 2s\tremaining: 1m 23s\n",
            "595:\tlearn: 1617.9572128\ttotal: 2m 2s\tremaining: 1m 22s\n",
            "596:\tlearn: 1617.8594210\ttotal: 2m 2s\tremaining: 1m 22s\n",
            "597:\tlearn: 1617.7607743\ttotal: 2m 2s\tremaining: 1m 22s\n",
            "598:\tlearn: 1617.5758346\ttotal: 2m 2s\tremaining: 1m 22s\n",
            "599:\tlearn: 1617.4826628\ttotal: 2m 3s\tremaining: 1m 22s\n",
            "600:\tlearn: 1617.4141090\ttotal: 2m 3s\tremaining: 1m 21s\n",
            "601:\tlearn: 1617.3421724\ttotal: 2m 3s\tremaining: 1m 21s\n",
            "602:\tlearn: 1617.3040218\ttotal: 2m 3s\tremaining: 1m 21s\n",
            "603:\tlearn: 1617.1667084\ttotal: 2m 3s\tremaining: 1m 21s\n",
            "604:\tlearn: 1617.0112521\ttotal: 2m 4s\tremaining: 1m 20s\n",
            "605:\tlearn: 1616.8318590\ttotal: 2m 4s\tremaining: 1m 20s\n",
            "606:\tlearn: 1616.6280171\ttotal: 2m 4s\tremaining: 1m 20s\n",
            "607:\tlearn: 1616.4155778\ttotal: 2m 4s\tremaining: 1m 20s\n",
            "608:\tlearn: 1616.2030864\ttotal: 2m 4s\tremaining: 1m 20s\n",
            "609:\tlearn: 1616.1219148\ttotal: 2m 5s\tremaining: 1m 19s\n",
            "610:\tlearn: 1615.9930164\ttotal: 2m 5s\tremaining: 1m 19s\n",
            "611:\tlearn: 1615.9309734\ttotal: 2m 5s\tremaining: 1m 19s\n",
            "612:\tlearn: 1615.7837577\ttotal: 2m 5s\tremaining: 1m 19s\n",
            "613:\tlearn: 1615.6488003\ttotal: 2m 5s\tremaining: 1m 19s\n",
            "614:\tlearn: 1615.4617303\ttotal: 2m 6s\tremaining: 1m 18s\n",
            "615:\tlearn: 1615.3686818\ttotal: 2m 6s\tremaining: 1m 18s\n",
            "616:\tlearn: 1615.1403783\ttotal: 2m 6s\tremaining: 1m 18s\n",
            "617:\tlearn: 1615.0689426\ttotal: 2m 6s\tremaining: 1m 18s\n",
            "618:\tlearn: 1614.9748799\ttotal: 2m 6s\tremaining: 1m 18s\n",
            "619:\tlearn: 1614.9305030\ttotal: 2m 7s\tremaining: 1m 17s\n",
            "620:\tlearn: 1614.8730127\ttotal: 2m 7s\tremaining: 1m 17s\n",
            "621:\tlearn: 1614.7617072\ttotal: 2m 7s\tremaining: 1m 17s\n",
            "622:\tlearn: 1614.7489408\ttotal: 2m 7s\tremaining: 1m 17s\n",
            "623:\tlearn: 1614.6750269\ttotal: 2m 7s\tremaining: 1m 17s\n",
            "624:\tlearn: 1614.5675534\ttotal: 2m 8s\tremaining: 1m 16s\n",
            "625:\tlearn: 1614.3847848\ttotal: 2m 8s\tremaining: 1m 16s\n",
            "626:\tlearn: 1614.2859174\ttotal: 2m 8s\tremaining: 1m 16s\n",
            "627:\tlearn: 1614.1827463\ttotal: 2m 8s\tremaining: 1m 16s\n",
            "628:\tlearn: 1613.9583817\ttotal: 2m 9s\tremaining: 1m 16s\n",
            "629:\tlearn: 1613.8926473\ttotal: 2m 9s\tremaining: 1m 15s\n",
            "630:\tlearn: 1613.7478604\ttotal: 2m 9s\tremaining: 1m 15s\n",
            "631:\tlearn: 1613.5755811\ttotal: 2m 9s\tremaining: 1m 15s\n",
            "632:\tlearn: 1613.4926955\ttotal: 2m 9s\tremaining: 1m 15s\n",
            "633:\tlearn: 1613.4224077\ttotal: 2m 10s\tremaining: 1m 15s\n",
            "634:\tlearn: 1613.2417977\ttotal: 2m 10s\tremaining: 1m 14s\n",
            "635:\tlearn: 1613.0507391\ttotal: 2m 10s\tremaining: 1m 14s\n",
            "636:\tlearn: 1612.8234750\ttotal: 2m 10s\tremaining: 1m 14s\n",
            "637:\tlearn: 1612.6165924\ttotal: 2m 11s\tremaining: 1m 14s\n",
            "638:\tlearn: 1612.5107751\ttotal: 2m 11s\tremaining: 1m 14s\n",
            "639:\tlearn: 1612.4974904\ttotal: 2m 11s\tremaining: 1m 13s\n",
            "640:\tlearn: 1612.3536530\ttotal: 2m 11s\tremaining: 1m 13s\n",
            "641:\tlearn: 1612.2568511\ttotal: 2m 11s\tremaining: 1m 13s\n",
            "642:\tlearn: 1612.1984768\ttotal: 2m 12s\tremaining: 1m 13s\n",
            "643:\tlearn: 1612.1081875\ttotal: 2m 12s\tremaining: 1m 13s\n",
            "644:\tlearn: 1611.8900836\ttotal: 2m 12s\tremaining: 1m 12s\n",
            "645:\tlearn: 1611.8247596\ttotal: 2m 12s\tremaining: 1m 12s\n",
            "646:\tlearn: 1611.7191852\ttotal: 2m 12s\tremaining: 1m 12s\n",
            "647:\tlearn: 1611.5294240\ttotal: 2m 13s\tremaining: 1m 12s\n",
            "648:\tlearn: 1611.3974414\ttotal: 2m 13s\tremaining: 1m 12s\n",
            "649:\tlearn: 1611.3610343\ttotal: 2m 13s\tremaining: 1m 11s\n",
            "650:\tlearn: 1610.9741595\ttotal: 2m 13s\tremaining: 1m 11s\n",
            "651:\tlearn: 1610.8050223\ttotal: 2m 13s\tremaining: 1m 11s\n",
            "652:\tlearn: 1610.5989683\ttotal: 2m 14s\tremaining: 1m 11s\n",
            "653:\tlearn: 1610.5284155\ttotal: 2m 14s\tremaining: 1m 11s\n",
            "654:\tlearn: 1610.3036171\ttotal: 2m 14s\tremaining: 1m 10s\n",
            "655:\tlearn: 1610.2005655\ttotal: 2m 14s\tremaining: 1m 10s\n",
            "656:\tlearn: 1610.1124585\ttotal: 2m 14s\tremaining: 1m 10s\n",
            "657:\tlearn: 1609.9185694\ttotal: 2m 15s\tremaining: 1m 10s\n",
            "658:\tlearn: 1609.8124928\ttotal: 2m 15s\tremaining: 1m 10s\n",
            "659:\tlearn: 1609.6779782\ttotal: 2m 15s\tremaining: 1m 9s\n",
            "660:\tlearn: 1609.5819151\ttotal: 2m 15s\tremaining: 1m 9s\n",
            "661:\tlearn: 1609.5227064\ttotal: 2m 16s\tremaining: 1m 9s\n",
            "662:\tlearn: 1609.3648248\ttotal: 2m 16s\tremaining: 1m 9s\n",
            "663:\tlearn: 1609.3164651\ttotal: 2m 16s\tremaining: 1m 9s\n",
            "664:\tlearn: 1609.2081934\ttotal: 2m 16s\tremaining: 1m 8s\n",
            "665:\tlearn: 1609.1336878\ttotal: 2m 16s\tremaining: 1m 8s\n",
            "666:\tlearn: 1608.8321910\ttotal: 2m 17s\tremaining: 1m 8s\n",
            "667:\tlearn: 1608.6605524\ttotal: 2m 17s\tremaining: 1m 8s\n",
            "668:\tlearn: 1608.5109254\ttotal: 2m 17s\tremaining: 1m 8s\n",
            "669:\tlearn: 1608.4575924\ttotal: 2m 17s\tremaining: 1m 7s\n",
            "670:\tlearn: 1608.2993540\ttotal: 2m 18s\tremaining: 1m 7s\n",
            "671:\tlearn: 1608.0670695\ttotal: 2m 18s\tremaining: 1m 7s\n",
            "672:\tlearn: 1607.8527928\ttotal: 2m 18s\tremaining: 1m 7s\n",
            "673:\tlearn: 1607.6590861\ttotal: 2m 18s\tremaining: 1m 7s\n",
            "674:\tlearn: 1607.4965340\ttotal: 2m 18s\tremaining: 1m 6s\n",
            "675:\tlearn: 1607.2876139\ttotal: 2m 19s\tremaining: 1m 6s\n",
            "676:\tlearn: 1607.2385358\ttotal: 2m 19s\tremaining: 1m 6s\n",
            "677:\tlearn: 1607.1216713\ttotal: 2m 19s\tremaining: 1m 6s\n",
            "678:\tlearn: 1607.0355963\ttotal: 2m 19s\tremaining: 1m 6s\n",
            "679:\tlearn: 1606.9270473\ttotal: 2m 20s\tremaining: 1m 5s\n",
            "680:\tlearn: 1606.8229888\ttotal: 2m 20s\tremaining: 1m 5s\n",
            "681:\tlearn: 1606.7170794\ttotal: 2m 20s\tremaining: 1m 5s\n",
            "682:\tlearn: 1606.7046240\ttotal: 2m 20s\tremaining: 1m 5s\n",
            "683:\tlearn: 1606.4554975\ttotal: 2m 21s\tremaining: 1m 5s\n",
            "684:\tlearn: 1606.4135925\ttotal: 2m 21s\tremaining: 1m 4s\n",
            "685:\tlearn: 1606.1891236\ttotal: 2m 21s\tremaining: 1m 4s\n",
            "686:\tlearn: 1606.1407665\ttotal: 2m 21s\tremaining: 1m 4s\n",
            "687:\tlearn: 1606.0419000\ttotal: 2m 21s\tremaining: 1m 4s\n",
            "688:\tlearn: 1605.9930072\ttotal: 2m 22s\tremaining: 1m 4s\n",
            "689:\tlearn: 1605.9453436\ttotal: 2m 22s\tremaining: 1m 3s\n",
            "690:\tlearn: 1605.8440289\ttotal: 2m 22s\tremaining: 1m 3s\n",
            "691:\tlearn: 1605.7750215\ttotal: 2m 22s\tremaining: 1m 3s\n",
            "692:\tlearn: 1605.6270947\ttotal: 2m 23s\tremaining: 1m 3s\n",
            "693:\tlearn: 1605.4822074\ttotal: 2m 23s\tremaining: 1m 3s\n",
            "694:\tlearn: 1605.4228668\ttotal: 2m 23s\tremaining: 1m 2s\n",
            "695:\tlearn: 1605.3315399\ttotal: 2m 23s\tremaining: 1m 2s\n",
            "696:\tlearn: 1605.3101798\ttotal: 2m 23s\tremaining: 1m 2s\n",
            "697:\tlearn: 1605.1367944\ttotal: 2m 24s\tremaining: 1m 2s\n",
            "698:\tlearn: 1605.0590983\ttotal: 2m 24s\tremaining: 1m 2s\n",
            "699:\tlearn: 1604.9084816\ttotal: 2m 24s\tremaining: 1m 1s\n",
            "700:\tlearn: 1604.7962526\ttotal: 2m 24s\tremaining: 1m 1s\n",
            "701:\tlearn: 1604.6175940\ttotal: 2m 25s\tremaining: 1m 1s\n",
            "702:\tlearn: 1604.4582664\ttotal: 2m 25s\tremaining: 1m 1s\n",
            "703:\tlearn: 1604.2904912\ttotal: 2m 25s\tremaining: 1m 1s\n",
            "704:\tlearn: 1604.2636448\ttotal: 2m 25s\tremaining: 1m\n",
            "705:\tlearn: 1604.1412948\ttotal: 2m 25s\tremaining: 1m\n",
            "706:\tlearn: 1603.8798463\ttotal: 2m 26s\tremaining: 1m\n",
            "707:\tlearn: 1603.6905843\ttotal: 2m 26s\tremaining: 1m\n",
            "708:\tlearn: 1603.5370163\ttotal: 2m 26s\tremaining: 1m\n",
            "709:\tlearn: 1603.4950209\ttotal: 2m 26s\tremaining: 59.9s\n",
            "710:\tlearn: 1603.3185350\ttotal: 2m 26s\tremaining: 59.7s\n",
            "711:\tlearn: 1603.0882671\ttotal: 2m 27s\tremaining: 59.5s\n",
            "712:\tlearn: 1603.0845090\ttotal: 2m 27s\tremaining: 59.3s\n",
            "713:\tlearn: 1602.9502177\ttotal: 2m 27s\tremaining: 59.1s\n",
            "714:\tlearn: 1602.7456099\ttotal: 2m 27s\tremaining: 58.9s\n",
            "715:\tlearn: 1602.5896624\ttotal: 2m 27s\tremaining: 58.7s\n",
            "716:\tlearn: 1602.4311391\ttotal: 2m 28s\tremaining: 58.5s\n",
            "717:\tlearn: 1602.2883708\ttotal: 2m 28s\tremaining: 58.3s\n",
            "718:\tlearn: 1602.1983470\ttotal: 2m 28s\tremaining: 58.1s\n",
            "719:\tlearn: 1602.1605889\ttotal: 2m 28s\tremaining: 57.9s\n",
            "720:\tlearn: 1602.1317843\ttotal: 2m 28s\tremaining: 57.6s\n",
            "721:\tlearn: 1601.9996437\ttotal: 2m 29s\tremaining: 57.5s\n",
            "722:\tlearn: 1601.9466942\ttotal: 2m 29s\tremaining: 57.2s\n",
            "723:\tlearn: 1601.8321552\ttotal: 2m 29s\tremaining: 57s\n",
            "724:\tlearn: 1601.8078814\ttotal: 2m 29s\tremaining: 56.8s\n",
            "725:\tlearn: 1601.6392275\ttotal: 2m 29s\tremaining: 56.6s\n",
            "726:\tlearn: 1601.5140870\ttotal: 2m 30s\tremaining: 56.4s\n",
            "727:\tlearn: 1601.5137412\ttotal: 2m 30s\tremaining: 56.2s\n",
            "728:\tlearn: 1601.4407281\ttotal: 2m 30s\tremaining: 56s\n",
            "729:\tlearn: 1601.3552621\ttotal: 2m 30s\tremaining: 55.8s\n",
            "730:\tlearn: 1601.2154034\ttotal: 2m 30s\tremaining: 55.6s\n",
            "731:\tlearn: 1600.9806516\ttotal: 2m 31s\tremaining: 55.3s\n",
            "732:\tlearn: 1600.6161087\ttotal: 2m 31s\tremaining: 55.1s\n",
            "733:\tlearn: 1600.5459921\ttotal: 2m 31s\tremaining: 54.9s\n",
            "734:\tlearn: 1600.5036548\ttotal: 2m 31s\tremaining: 54.7s\n",
            "735:\tlearn: 1600.4133043\ttotal: 2m 32s\tremaining: 54.5s\n",
            "736:\tlearn: 1600.3336896\ttotal: 2m 32s\tremaining: 54.3s\n",
            "737:\tlearn: 1600.0960797\ttotal: 2m 32s\tremaining: 54.1s\n",
            "738:\tlearn: 1599.9921825\ttotal: 2m 32s\tremaining: 53.9s\n",
            "739:\tlearn: 1599.8171377\ttotal: 2m 32s\tremaining: 53.7s\n",
            "740:\tlearn: 1599.5915554\ttotal: 2m 33s\tremaining: 53.5s\n",
            "741:\tlearn: 1599.5647073\ttotal: 2m 33s\tremaining: 53.3s\n",
            "742:\tlearn: 1599.2725237\ttotal: 2m 33s\tremaining: 53.1s\n",
            "743:\tlearn: 1599.2120852\ttotal: 2m 33s\tremaining: 52.9s\n",
            "744:\tlearn: 1598.9287948\ttotal: 2m 34s\tremaining: 52.7s\n",
            "745:\tlearn: 1598.7856405\ttotal: 2m 34s\tremaining: 52.5s\n",
            "746:\tlearn: 1598.6619487\ttotal: 2m 34s\tremaining: 52.3s\n",
            "747:\tlearn: 1598.5740513\ttotal: 2m 34s\tremaining: 52.1s\n",
            "748:\tlearn: 1598.5145596\ttotal: 2m 34s\tremaining: 51.9s\n",
            "749:\tlearn: 1598.4747917\ttotal: 2m 35s\tremaining: 51.7s\n",
            "750:\tlearn: 1598.3847927\ttotal: 2m 35s\tremaining: 51.5s\n",
            "751:\tlearn: 1598.2526308\ttotal: 2m 35s\tremaining: 51.3s\n",
            "752:\tlearn: 1598.1832501\ttotal: 2m 35s\tremaining: 51.1s\n",
            "753:\tlearn: 1598.0368182\ttotal: 2m 35s\tremaining: 50.9s\n",
            "754:\tlearn: 1597.9289217\ttotal: 2m 36s\tremaining: 50.7s\n",
            "755:\tlearn: 1597.8159088\ttotal: 2m 36s\tremaining: 50.4s\n",
            "756:\tlearn: 1597.7281565\ttotal: 2m 36s\tremaining: 50.3s\n",
            "757:\tlearn: 1597.6601219\ttotal: 2m 36s\tremaining: 50.1s\n",
            "758:\tlearn: 1597.4688223\ttotal: 2m 36s\tremaining: 49.8s\n",
            "759:\tlearn: 1597.3296155\ttotal: 2m 37s\tremaining: 49.6s\n",
            "760:\tlearn: 1597.1728553\ttotal: 2m 37s\tremaining: 49.4s\n",
            "761:\tlearn: 1597.0960664\ttotal: 2m 37s\tremaining: 49.2s\n",
            "762:\tlearn: 1597.0764046\ttotal: 2m 37s\tremaining: 49s\n",
            "763:\tlearn: 1597.0380702\ttotal: 2m 38s\tremaining: 48.8s\n",
            "764:\tlearn: 1596.9946637\ttotal: 2m 38s\tremaining: 48.6s\n",
            "765:\tlearn: 1596.8351673\ttotal: 2m 38s\tremaining: 48.4s\n",
            "766:\tlearn: 1596.8318271\ttotal: 2m 38s\tremaining: 48.2s\n",
            "767:\tlearn: 1596.7077025\ttotal: 2m 38s\tremaining: 48s\n",
            "768:\tlearn: 1596.5728314\ttotal: 2m 39s\tremaining: 47.8s\n",
            "769:\tlearn: 1596.4541415\ttotal: 2m 39s\tremaining: 47.6s\n",
            "770:\tlearn: 1596.3106480\ttotal: 2m 39s\tremaining: 47.4s\n",
            "771:\tlearn: 1596.2756339\ttotal: 2m 39s\tremaining: 47.2s\n",
            "772:\tlearn: 1596.0694272\ttotal: 2m 39s\tremaining: 47s\n",
            "773:\tlearn: 1596.0211419\ttotal: 2m 40s\tremaining: 46.8s\n",
            "774:\tlearn: 1595.9842483\ttotal: 2m 40s\tremaining: 46.6s\n",
            "775:\tlearn: 1595.7150957\ttotal: 2m 40s\tremaining: 46.4s\n",
            "776:\tlearn: 1595.6828338\ttotal: 2m 40s\tremaining: 46.2s\n",
            "777:\tlearn: 1595.5882523\ttotal: 2m 41s\tremaining: 46s\n",
            "778:\tlearn: 1595.5162763\ttotal: 2m 41s\tremaining: 45.8s\n",
            "779:\tlearn: 1595.4380613\ttotal: 2m 41s\tremaining: 45.6s\n",
            "780:\tlearn: 1595.3843997\ttotal: 2m 41s\tremaining: 45.4s\n",
            "781:\tlearn: 1595.3812684\ttotal: 2m 42s\tremaining: 45.2s\n",
            "782:\tlearn: 1595.3241240\ttotal: 2m 42s\tremaining: 45s\n",
            "783:\tlearn: 1595.2930932\ttotal: 2m 42s\tremaining: 44.8s\n",
            "784:\tlearn: 1595.1889499\ttotal: 2m 42s\tremaining: 44.6s\n",
            "785:\tlearn: 1595.1865752\ttotal: 2m 42s\tremaining: 44.4s\n",
            "786:\tlearn: 1595.0874153\ttotal: 2m 43s\tremaining: 44.2s\n",
            "787:\tlearn: 1595.0690439\ttotal: 2m 43s\tremaining: 44s\n",
            "788:\tlearn: 1594.9692779\ttotal: 2m 43s\tremaining: 43.8s\n",
            "789:\tlearn: 1594.9230151\ttotal: 2m 43s\tremaining: 43.5s\n",
            "790:\tlearn: 1594.9045967\ttotal: 2m 44s\tremaining: 43.3s\n",
            "791:\tlearn: 1594.8962711\ttotal: 2m 44s\tremaining: 43.1s\n",
            "792:\tlearn: 1594.7213460\ttotal: 2m 44s\tremaining: 42.9s\n",
            "793:\tlearn: 1594.5766663\ttotal: 2m 44s\tremaining: 42.7s\n",
            "794:\tlearn: 1594.4697755\ttotal: 2m 44s\tremaining: 42.5s\n",
            "795:\tlearn: 1594.2881241\ttotal: 2m 45s\tremaining: 42.3s\n",
            "796:\tlearn: 1594.2092854\ttotal: 2m 45s\tremaining: 42.1s\n",
            "797:\tlearn: 1594.1816069\ttotal: 2m 45s\tremaining: 41.9s\n",
            "798:\tlearn: 1594.0601106\ttotal: 2m 45s\tremaining: 41.7s\n",
            "799:\tlearn: 1593.9545876\ttotal: 2m 45s\tremaining: 41.5s\n",
            "800:\tlearn: 1593.7245942\ttotal: 2m 46s\tremaining: 41.3s\n",
            "801:\tlearn: 1593.5996662\ttotal: 2m 46s\tremaining: 41s\n",
            "802:\tlearn: 1593.3572701\ttotal: 2m 46s\tremaining: 40.8s\n",
            "803:\tlearn: 1593.2102507\ttotal: 2m 46s\tremaining: 40.6s\n",
            "804:\tlearn: 1593.1352665\ttotal: 2m 46s\tremaining: 40.4s\n",
            "805:\tlearn: 1593.0427509\ttotal: 2m 47s\tremaining: 40.2s\n",
            "806:\tlearn: 1592.9126516\ttotal: 2m 47s\tremaining: 40s\n",
            "807:\tlearn: 1592.7885970\ttotal: 2m 47s\tremaining: 39.8s\n",
            "808:\tlearn: 1592.7432255\ttotal: 2m 47s\tremaining: 39.6s\n",
            "809:\tlearn: 1592.7248583\ttotal: 2m 47s\tremaining: 39.4s\n",
            "810:\tlearn: 1592.6627516\ttotal: 2m 48s\tremaining: 39.2s\n",
            "811:\tlearn: 1592.5613189\ttotal: 2m 48s\tremaining: 39s\n",
            "812:\tlearn: 1592.4510553\ttotal: 2m 48s\tremaining: 38.8s\n",
            "813:\tlearn: 1592.4196273\ttotal: 2m 48s\tremaining: 38.6s\n",
            "814:\tlearn: 1592.3251439\ttotal: 2m 49s\tremaining: 38.4s\n",
            "815:\tlearn: 1592.1424548\ttotal: 2m 49s\tremaining: 38.2s\n",
            "816:\tlearn: 1591.9689081\ttotal: 2m 49s\tremaining: 38s\n",
            "817:\tlearn: 1591.9106895\ttotal: 2m 49s\tremaining: 37.8s\n",
            "818:\tlearn: 1591.5866779\ttotal: 2m 50s\tremaining: 37.6s\n",
            "819:\tlearn: 1591.4114080\ttotal: 2m 50s\tremaining: 37.4s\n",
            "820:\tlearn: 1591.3262274\ttotal: 2m 50s\tremaining: 37.2s\n",
            "821:\tlearn: 1591.3239777\ttotal: 2m 50s\tremaining: 37s\n",
            "822:\tlearn: 1591.2803531\ttotal: 2m 50s\tremaining: 36.7s\n",
            "823:\tlearn: 1591.1511332\ttotal: 2m 51s\tremaining: 36.5s\n",
            "824:\tlearn: 1590.8990521\ttotal: 2m 51s\tremaining: 36.3s\n",
            "825:\tlearn: 1590.8188187\ttotal: 2m 51s\tremaining: 36.1s\n",
            "826:\tlearn: 1590.7327602\ttotal: 2m 51s\tremaining: 35.9s\n",
            "827:\tlearn: 1590.6373721\ttotal: 2m 51s\tremaining: 35.7s\n",
            "828:\tlearn: 1590.6161167\ttotal: 2m 52s\tremaining: 35.5s\n",
            "829:\tlearn: 1590.4750241\ttotal: 2m 52s\tremaining: 35.3s\n",
            "830:\tlearn: 1590.2867652\ttotal: 2m 52s\tremaining: 35.1s\n",
            "831:\tlearn: 1590.2413915\ttotal: 2m 52s\tremaining: 34.9s\n",
            "832:\tlearn: 1590.1670156\ttotal: 2m 52s\tremaining: 34.7s\n",
            "833:\tlearn: 1590.0637963\ttotal: 2m 53s\tremaining: 34.5s\n",
            "834:\tlearn: 1589.8497456\ttotal: 2m 53s\tremaining: 34.3s\n",
            "835:\tlearn: 1589.8075300\ttotal: 2m 53s\tremaining: 34.1s\n",
            "836:\tlearn: 1589.7924237\ttotal: 2m 53s\tremaining: 33.8s\n",
            "837:\tlearn: 1589.6899968\ttotal: 2m 53s\tremaining: 33.6s\n",
            "838:\tlearn: 1589.5092335\ttotal: 2m 54s\tremaining: 33.4s\n",
            "839:\tlearn: 1589.4519796\ttotal: 2m 54s\tremaining: 33.2s\n",
            "840:\tlearn: 1589.3753219\ttotal: 2m 54s\tremaining: 33s\n",
            "841:\tlearn: 1589.3178145\ttotal: 2m 54s\tremaining: 32.8s\n",
            "842:\tlearn: 1589.2844622\ttotal: 2m 54s\tremaining: 32.6s\n",
            "843:\tlearn: 1589.1192083\ttotal: 2m 55s\tremaining: 32.4s\n",
            "844:\tlearn: 1589.0574677\ttotal: 2m 55s\tremaining: 32.2s\n",
            "845:\tlearn: 1588.8548872\ttotal: 2m 55s\tremaining: 32s\n",
            "846:\tlearn: 1588.8241113\ttotal: 2m 55s\tremaining: 31.7s\n",
            "847:\tlearn: 1588.5434072\ttotal: 2m 55s\tremaining: 31.5s\n",
            "848:\tlearn: 1588.4401835\ttotal: 2m 56s\tremaining: 31.3s\n",
            "849:\tlearn: 1588.2878890\ttotal: 2m 56s\tremaining: 31.1s\n",
            "850:\tlearn: 1587.9461248\ttotal: 2m 56s\tremaining: 30.9s\n",
            "851:\tlearn: 1587.8489584\ttotal: 2m 56s\tremaining: 30.7s\n",
            "852:\tlearn: 1587.7757958\ttotal: 2m 57s\tremaining: 30.5s\n",
            "853:\tlearn: 1587.6412214\ttotal: 2m 57s\tremaining: 30.3s\n",
            "854:\tlearn: 1587.6135823\ttotal: 2m 57s\tremaining: 30.1s\n",
            "855:\tlearn: 1587.5146851\ttotal: 2m 57s\tremaining: 29.9s\n",
            "856:\tlearn: 1587.4431735\ttotal: 2m 57s\tremaining: 29.7s\n",
            "857:\tlearn: 1587.3477532\ttotal: 2m 58s\tremaining: 29.5s\n",
            "858:\tlearn: 1587.1839123\ttotal: 2m 58s\tremaining: 29.3s\n",
            "859:\tlearn: 1587.1374363\ttotal: 2m 58s\tremaining: 29.1s\n",
            "860:\tlearn: 1587.0342064\ttotal: 2m 58s\tremaining: 28.9s\n",
            "861:\tlearn: 1586.9664960\ttotal: 2m 58s\tremaining: 28.6s\n",
            "862:\tlearn: 1586.9415950\ttotal: 2m 59s\tremaining: 28.4s\n",
            "863:\tlearn: 1586.8939454\ttotal: 2m 59s\tremaining: 28.2s\n",
            "864:\tlearn: 1586.8655736\ttotal: 2m 59s\tremaining: 28s\n",
            "865:\tlearn: 1586.7097500\ttotal: 2m 59s\tremaining: 27.8s\n",
            "866:\tlearn: 1586.4868848\ttotal: 2m 59s\tremaining: 27.6s\n",
            "867:\tlearn: 1586.4667184\ttotal: 3m\tremaining: 27.4s\n",
            "868:\tlearn: 1586.3502574\ttotal: 3m\tremaining: 27.2s\n",
            "869:\tlearn: 1585.9715121\ttotal: 3m\tremaining: 27s\n",
            "870:\tlearn: 1585.8815138\ttotal: 3m\tremaining: 26.8s\n",
            "871:\tlearn: 1585.7673370\ttotal: 3m\tremaining: 26.5s\n",
            "872:\tlearn: 1585.6105142\ttotal: 3m 1s\tremaining: 26.3s\n",
            "873:\tlearn: 1585.5136230\ttotal: 3m 1s\tremaining: 26.1s\n",
            "874:\tlearn: 1585.3858030\ttotal: 3m 1s\tremaining: 25.9s\n",
            "875:\tlearn: 1585.2748367\ttotal: 3m 1s\tremaining: 25.7s\n",
            "876:\tlearn: 1585.1782026\ttotal: 3m 1s\tremaining: 25.5s\n",
            "877:\tlearn: 1585.1206285\ttotal: 3m 2s\tremaining: 25.3s\n",
            "878:\tlearn: 1584.9572695\ttotal: 3m 2s\tremaining: 25.1s\n",
            "879:\tlearn: 1584.9386660\ttotal: 3m 2s\tremaining: 24.9s\n",
            "880:\tlearn: 1584.6629187\ttotal: 3m 2s\tremaining: 24.7s\n",
            "881:\tlearn: 1584.6204412\ttotal: 3m 3s\tremaining: 24.5s\n",
            "882:\tlearn: 1584.5145360\ttotal: 3m 3s\tremaining: 24.3s\n",
            "883:\tlearn: 1584.4609810\ttotal: 3m 3s\tremaining: 24.1s\n",
            "884:\tlearn: 1584.4285966\ttotal: 3m 3s\tremaining: 23.9s\n",
            "885:\tlearn: 1584.3090849\ttotal: 3m 3s\tremaining: 23.7s\n",
            "886:\tlearn: 1584.1427099\ttotal: 3m 4s\tremaining: 23.5s\n",
            "887:\tlearn: 1584.1040084\ttotal: 3m 4s\tremaining: 23.3s\n",
            "888:\tlearn: 1583.9935457\ttotal: 3m 4s\tremaining: 23s\n",
            "889:\tlearn: 1583.9007775\ttotal: 3m 4s\tremaining: 22.8s\n",
            "890:\tlearn: 1583.8696328\ttotal: 3m 4s\tremaining: 22.6s\n",
            "891:\tlearn: 1583.8091318\ttotal: 3m 5s\tremaining: 22.4s\n",
            "892:\tlearn: 1583.6127818\ttotal: 3m 5s\tremaining: 22.2s\n",
            "893:\tlearn: 1583.4828382\ttotal: 3m 5s\tremaining: 22s\n",
            "894:\tlearn: 1583.4595973\ttotal: 3m 5s\tremaining: 21.8s\n",
            "895:\tlearn: 1583.3983936\ttotal: 3m 5s\tremaining: 21.6s\n",
            "896:\tlearn: 1583.2627305\ttotal: 3m 6s\tremaining: 21.4s\n",
            "897:\tlearn: 1583.1130416\ttotal: 3m 6s\tremaining: 21.2s\n",
            "898:\tlearn: 1583.0630892\ttotal: 3m 6s\tremaining: 21s\n",
            "899:\tlearn: 1582.9675652\ttotal: 3m 6s\tremaining: 20.7s\n",
            "900:\tlearn: 1582.8758690\ttotal: 3m 6s\tremaining: 20.5s\n",
            "901:\tlearn: 1582.7979783\ttotal: 3m 7s\tremaining: 20.3s\n",
            "902:\tlearn: 1582.6941677\ttotal: 3m 7s\tremaining: 20.1s\n",
            "903:\tlearn: 1582.6063579\ttotal: 3m 7s\tremaining: 19.9s\n",
            "904:\tlearn: 1582.5111514\ttotal: 3m 7s\tremaining: 19.7s\n",
            "905:\tlearn: 1582.4386228\ttotal: 3m 7s\tremaining: 19.5s\n",
            "906:\tlearn: 1582.3705016\ttotal: 3m 8s\tremaining: 19.3s\n",
            "907:\tlearn: 1582.2310372\ttotal: 3m 8s\tremaining: 19.1s\n",
            "908:\tlearn: 1582.1752633\ttotal: 3m 8s\tremaining: 18.9s\n",
            "909:\tlearn: 1582.1231809\ttotal: 3m 8s\tremaining: 18.7s\n",
            "910:\tlearn: 1582.0986380\ttotal: 3m 9s\tremaining: 18.5s\n",
            "911:\tlearn: 1582.0655576\ttotal: 3m 9s\tremaining: 18.3s\n",
            "912:\tlearn: 1581.9683194\ttotal: 3m 9s\tremaining: 18s\n",
            "913:\tlearn: 1581.7867069\ttotal: 3m 9s\tremaining: 17.8s\n",
            "914:\tlearn: 1581.5696440\ttotal: 3m 9s\tremaining: 17.6s\n",
            "915:\tlearn: 1581.5272677\ttotal: 3m 10s\tremaining: 17.4s\n",
            "916:\tlearn: 1581.4167595\ttotal: 3m 10s\tremaining: 17.2s\n",
            "917:\tlearn: 1581.3408660\ttotal: 3m 10s\tremaining: 17s\n",
            "918:\tlearn: 1581.2960824\ttotal: 3m 10s\tremaining: 16.8s\n",
            "919:\tlearn: 1581.2631620\ttotal: 3m 10s\tremaining: 16.6s\n",
            "920:\tlearn: 1581.1752180\ttotal: 3m 11s\tremaining: 16.4s\n",
            "921:\tlearn: 1581.0406601\ttotal: 3m 11s\tremaining: 16.2s\n",
            "922:\tlearn: 1580.9120338\ttotal: 3m 11s\tremaining: 16s\n",
            "923:\tlearn: 1580.6811344\ttotal: 3m 11s\tremaining: 15.8s\n",
            "924:\tlearn: 1580.5865901\ttotal: 3m 12s\tremaining: 15.6s\n",
            "925:\tlearn: 1580.4871457\ttotal: 3m 12s\tremaining: 15.4s\n",
            "926:\tlearn: 1580.3760999\ttotal: 3m 12s\tremaining: 15.2s\n",
            "927:\tlearn: 1580.3350898\ttotal: 3m 12s\tremaining: 15s\n",
            "928:\tlearn: 1580.2253080\ttotal: 3m 12s\tremaining: 14.7s\n",
            "929:\tlearn: 1580.0728629\ttotal: 3m 13s\tremaining: 14.5s\n",
            "930:\tlearn: 1579.9611025\ttotal: 3m 13s\tremaining: 14.3s\n",
            "931:\tlearn: 1579.8128714\ttotal: 3m 13s\tremaining: 14.1s\n",
            "932:\tlearn: 1579.7475480\ttotal: 3m 13s\tremaining: 13.9s\n",
            "933:\tlearn: 1579.7354328\ttotal: 3m 13s\tremaining: 13.7s\n",
            "934:\tlearn: 1579.6881363\ttotal: 3m 14s\tremaining: 13.5s\n",
            "935:\tlearn: 1579.6471382\ttotal: 3m 14s\tremaining: 13.3s\n",
            "936:\tlearn: 1579.6225315\ttotal: 3m 14s\tremaining: 13.1s\n",
            "937:\tlearn: 1579.5555710\ttotal: 3m 14s\tremaining: 12.9s\n",
            "938:\tlearn: 1579.4867279\ttotal: 3m 15s\tremaining: 12.7s\n",
            "939:\tlearn: 1579.4370572\ttotal: 3m 15s\tremaining: 12.5s\n",
            "940:\tlearn: 1579.3703572\ttotal: 3m 15s\tremaining: 12.3s\n",
            "941:\tlearn: 1579.2961976\ttotal: 3m 15s\tremaining: 12.1s\n",
            "942:\tlearn: 1579.2066884\ttotal: 3m 16s\tremaining: 11.8s\n",
            "943:\tlearn: 1579.1122213\ttotal: 3m 16s\tremaining: 11.6s\n",
            "944:\tlearn: 1579.0669037\ttotal: 3m 16s\tremaining: 11.4s\n",
            "945:\tlearn: 1578.9907522\ttotal: 3m 16s\tremaining: 11.2s\n",
            "946:\tlearn: 1578.9887584\ttotal: 3m 16s\tremaining: 11s\n",
            "947:\tlearn: 1578.8485165\ttotal: 3m 17s\tremaining: 10.8s\n",
            "948:\tlearn: 1578.7758573\ttotal: 3m 17s\tremaining: 10.6s\n",
            "949:\tlearn: 1578.6696838\ttotal: 3m 17s\tremaining: 10.4s\n",
            "950:\tlearn: 1578.5172344\ttotal: 3m 17s\tremaining: 10.2s\n",
            "951:\tlearn: 1578.3862619\ttotal: 3m 18s\tremaining: 9.99s\n",
            "952:\tlearn: 1578.2574394\ttotal: 3m 18s\tremaining: 9.79s\n",
            "953:\tlearn: 1578.1647350\ttotal: 3m 18s\tremaining: 9.58s\n",
            "954:\tlearn: 1578.1628652\ttotal: 3m 18s\tremaining: 9.37s\n",
            "955:\tlearn: 1578.1262923\ttotal: 3m 19s\tremaining: 9.16s\n",
            "956:\tlearn: 1578.0562694\ttotal: 3m 19s\tremaining: 8.96s\n",
            "957:\tlearn: 1578.0048032\ttotal: 3m 19s\tremaining: 8.75s\n",
            "958:\tlearn: 1577.8688866\ttotal: 3m 19s\tremaining: 8.54s\n",
            "959:\tlearn: 1577.7817006\ttotal: 3m 20s\tremaining: 8.34s\n",
            "960:\tlearn: 1577.7357409\ttotal: 3m 20s\tremaining: 8.13s\n",
            "961:\tlearn: 1577.6514774\ttotal: 3m 20s\tremaining: 7.92s\n",
            "962:\tlearn: 1577.5687269\ttotal: 3m 20s\tremaining: 7.71s\n",
            "963:\tlearn: 1577.5460471\ttotal: 3m 21s\tremaining: 7.51s\n",
            "964:\tlearn: 1577.4687893\ttotal: 3m 21s\tremaining: 7.3s\n",
            "965:\tlearn: 1577.2550534\ttotal: 3m 21s\tremaining: 7.09s\n",
            "966:\tlearn: 1577.1282264\ttotal: 3m 21s\tremaining: 6.89s\n",
            "967:\tlearn: 1577.0566977\ttotal: 3m 22s\tremaining: 6.68s\n",
            "968:\tlearn: 1577.0004109\ttotal: 3m 22s\tremaining: 6.47s\n",
            "969:\tlearn: 1576.9673602\ttotal: 3m 22s\tremaining: 6.26s\n",
            "970:\tlearn: 1576.8800741\ttotal: 3m 22s\tremaining: 6.05s\n",
            "971:\tlearn: 1576.7798937\ttotal: 3m 22s\tremaining: 5.84s\n",
            "972:\tlearn: 1576.6809509\ttotal: 3m 23s\tremaining: 5.64s\n",
            "973:\tlearn: 1576.6365116\ttotal: 3m 23s\tremaining: 5.43s\n",
            "974:\tlearn: 1576.5982989\ttotal: 3m 23s\tremaining: 5.22s\n",
            "975:\tlearn: 1576.5533431\ttotal: 3m 23s\tremaining: 5.01s\n",
            "976:\tlearn: 1576.4698898\ttotal: 3m 24s\tremaining: 4.8s\n",
            "977:\tlearn: 1576.3931801\ttotal: 3m 24s\tremaining: 4.59s\n",
            "978:\tlearn: 1576.3641649\ttotal: 3m 24s\tremaining: 4.38s\n",
            "979:\tlearn: 1576.3464907\ttotal: 3m 24s\tremaining: 4.17s\n",
            "980:\tlearn: 1576.2893341\ttotal: 3m 24s\tremaining: 3.97s\n",
            "981:\tlearn: 1576.0981475\ttotal: 3m 25s\tremaining: 3.76s\n",
            "982:\tlearn: 1575.9805620\ttotal: 3m 25s\tremaining: 3.55s\n",
            "983:\tlearn: 1575.8421744\ttotal: 3m 25s\tremaining: 3.34s\n",
            "984:\tlearn: 1575.6868034\ttotal: 3m 25s\tremaining: 3.13s\n",
            "985:\tlearn: 1575.6112555\ttotal: 3m 26s\tremaining: 2.92s\n",
            "986:\tlearn: 1575.5399154\ttotal: 3m 26s\tremaining: 2.72s\n",
            "987:\tlearn: 1575.3667714\ttotal: 3m 26s\tremaining: 2.51s\n",
            "988:\tlearn: 1575.3146506\ttotal: 3m 26s\tremaining: 2.3s\n",
            "989:\tlearn: 1575.3118777\ttotal: 3m 26s\tremaining: 2.09s\n",
            "990:\tlearn: 1575.2722998\ttotal: 3m 27s\tremaining: 1.88s\n",
            "991:\tlearn: 1575.2190224\ttotal: 3m 27s\tremaining: 1.67s\n",
            "992:\tlearn: 1575.1365051\ttotal: 3m 27s\tremaining: 1.46s\n",
            "993:\tlearn: 1575.0723019\ttotal: 3m 27s\tremaining: 1.25s\n",
            "994:\tlearn: 1575.0148104\ttotal: 3m 27s\tremaining: 1.04s\n",
            "995:\tlearn: 1574.8813046\ttotal: 3m 28s\tremaining: 836ms\n",
            "996:\tlearn: 1574.6933823\ttotal: 3m 28s\tremaining: 627ms\n",
            "997:\tlearn: 1574.6012819\ttotal: 3m 28s\tremaining: 418ms\n",
            "998:\tlearn: 1574.5746205\ttotal: 3m 28s\tremaining: 209ms\n",
            "999:\tlearn: 1574.5334775\ttotal: 3m 29s\tremaining: 0us\n"
          ]
        }
      ],
      "source": [
        "time_begin = time.time()\n",
        "model.fit(features_train, target_train)\n",
        "time_end = time.time()\n",
        "time_fit = time_end - time_begin"
      ]
    },
    {
      "cell_type": "code",
      "execution_count": null,
      "metadata": {
        "id": "BUa8AC1HMu9r",
        "outputId": "ac36a3b8-35ef-492d-bbda-293091921d9a"
      },
      "outputs": [
        {
          "name": "stdout",
          "output_type": "stream",
          "text": [
            "Время обучения модели:  212.7156\n"
          ]
        }
      ],
      "source": [
        "print('Время обучения модели: ',round(time_fit,4))"
      ]
    },
    {
      "cell_type": "code",
      "execution_count": null,
      "metadata": {
        "id": "GozfROb7Mu9s",
        "outputId": "0cd7ac36-7b6b-4a42-9b7b-3465c3a52edc"
      },
      "outputs": [
        {
          "name": "stdout",
          "output_type": "stream",
          "text": [
            "Время предсказания модели:  0.3936\n"
          ]
        }
      ],
      "source": [
        "time_begin = time.time()\n",
        "predict = model.predict(features_val)\n",
        "time_end = time.time()\n",
        "time_pred = time_end - time_begin\n",
        "print('Время предсказания модели: ',round(time_pred,4))"
      ]
    },
    {
      "cell_type": "code",
      "execution_count": null,
      "metadata": {
        "id": "KRnlGQ-1Mu9s",
        "outputId": "197b4722-0252-4868-8138-92ef1f06b89a"
      },
      "outputs": [
        {
          "name": "stdout",
          "output_type": "stream",
          "text": [
            "RMSE модели:  1625.38799\n"
          ]
        }
      ],
      "source": [
        "rmse = round(mse(target_val, predict, squared=False),5)\n",
        "print('RMSE модели: ', rmse)"
      ]
    },
    {
      "cell_type": "markdown",
      "metadata": {
        "id": "vWImgFDmMu9s"
      },
      "source": [
        "**Linear Regression Model**"
      ]
    },
    {
      "cell_type": "code",
      "execution_count": null,
      "metadata": {
        "id": "JX1ZA9b0Mu9s",
        "outputId": "5ad7c20c-8224-40ab-cdab-1d7fd62d7017"
      },
      "outputs": [
        {
          "name": "stdout",
          "output_type": "stream",
          "text": [
            "['vehicle_type', 'gearbox', 'model', 'fuel_type', 'brand', 'repaired']\n",
            "['registration_year', 'power', 'kilometer']\n"
          ]
        }
      ],
      "source": [
        "ohe_features_m_lr = features_train_m_lr.select_dtypes(include='object').columns.to_list()\n",
        "print(ohe_features_m_lr)\n",
        "\n",
        "num_features_m_lr = features_train_m_lr.select_dtypes(exclude='object').columns.to_list()\n",
        "print(num_features_m_lr)\n",
        "\n",
        "encoder_ohe = OneHotEncoder(drop='first', handle_unknown='error', sparse=False)\n",
        "encoder_ohe.fit(features_train_m_lr[ohe_features_m_lr])\n",
        "\n",
        "features_train_m_lr[encoder_ohe.get_feature_names()] = encoder_ohe.transform(features_train_m_lr[ohe_features_m_lr])\n",
        "features_train_m_lr = features_train_m_lr.drop(ohe_features_m_lr, axis=1)\n",
        "\n",
        "features_val_m_lr[encoder_ohe.get_feature_names()] = encoder_ohe.transform(features_val_m_lr[ohe_features_m_lr])\n",
        "features_val_m_lr = features_val_m_lr.drop(ohe_features_m_lr, axis=1)\n",
        "\n",
        "scaler = StandardScaler()\n",
        "features_train_m_lr[num_features_m_lr] = scaler.fit_transform(features_train_m_lr[num_features_m_lr])\n",
        "features_val_m_lr[num_features_m_lr]   = scaler.transform(features_val_m_lr[num_features_m_lr])"
      ]
    },
    {
      "cell_type": "code",
      "execution_count": null,
      "metadata": {
        "id": "VFVLY4i_Mu9u"
      },
      "outputs": [],
      "source": [
        "model = LinearRegression()"
      ]
    },
    {
      "cell_type": "code",
      "execution_count": null,
      "metadata": {
        "id": "UT-YE5YlMu9u",
        "outputId": "2120f67a-104c-463e-c7ca-c8bfe1466b16"
      },
      "outputs": [
        {
          "name": "stdout",
          "output_type": "stream",
          "text": [
            "Время обучения модели:  17.3587\n"
          ]
        }
      ],
      "source": [
        "time_begin = time.time()\n",
        "model.fit(features_train_m_lr, target_train)\n",
        "time_end = time.time()\n",
        "time_fit = time_end - time_begin\n",
        "print('Время обучения модели: ',round(time_fit,4))"
      ]
    },
    {
      "cell_type": "code",
      "execution_count": null,
      "metadata": {
        "id": "9NyoUIMaMu9u",
        "outputId": "f86b8cc3-acb0-4d7c-aabe-676783e4c41a"
      },
      "outputs": [
        {
          "name": "stdout",
          "output_type": "stream",
          "text": [
            "Время предсказания модели:  0.1856\n"
          ]
        }
      ],
      "source": [
        "time_begin = time.time()\n",
        "predict_m_lr = model.predict(features_val_m_lr)\n",
        "time_end = time.time()\n",
        "time_pred = time_end - time_begin\n",
        "print('Время предсказания модели: ',round(time_pred,4))"
      ]
    },
    {
      "cell_type": "code",
      "execution_count": null,
      "metadata": {
        "id": "xycXB4QkMu9u",
        "outputId": "d89f41bb-a998-466b-e80c-3992df847793"
      },
      "outputs": [
        {
          "name": "stdout",
          "output_type": "stream",
          "text": [
            "RMSE модели:  2629.708\n"
          ]
        }
      ],
      "source": [
        "rmse = round(mse(target_val, predict_m_lr, squared=False),5)\n",
        "print('RMSE модели: ', rmse)"
      ]
    },
    {
      "cell_type": "markdown",
      "metadata": {
        "id": "h7TX8AS9Mu9u"
      },
      "source": [
        "**CONCLUSION for the section:**"
      ]
    },
    {
      "cell_type": "markdown",
      "metadata": {
        "id": "A_XPsQqJMu9u"
      },
      "source": [
        "The results turned out to be mixed: the best prediction time is demonstrated by the linear regression model, but it also shows the worst performance in terms of quality metrics. The value of the quality metric (RMSE) turned out to be greater than required, so we no longer consider this model.\n",
        "\n",
        "The **CatBoost** model demonstrates better prediction time and quality metrics compared to LightGBM.\n",
        "\n",
        "At the next stage of the project, by tuning (searching for optimal) hyperparameters of these models, we will improve the training and prediction time, while maintaining the value of the quality metric within the boundaries specified by the customer."
      ]
    },
    {
      "cell_type": "markdown",
      "metadata": {
        "id": "jK9k4AU1Mu9v"
      },
      "source": [
        "## Model Analysis"
      ]
    },
    {
      "cell_type": "markdown",
      "metadata": {
        "id": "dmXB5VL8Mu9v"
      },
      "source": [
        "**Model LightGBM**"
      ]
    },
    {
      "cell_type": "code",
      "execution_count": null,
      "metadata": {
        "id": "Omhl2C1bMu9v"
      },
      "outputs": [],
      "source": [
        "model = lgb.LGBMRegressor(cat_feature=categorical, n_estimators=50, max_depth=10)"
      ]
    },
    {
      "cell_type": "code",
      "execution_count": null,
      "metadata": {
        "id": "3kFo4oyqMu9v",
        "outputId": "bcc1a969-5b5e-42e3-be52-c0e98e93d1a3"
      },
      "outputs": [
        {
          "name": "stdout",
          "output_type": "stream",
          "text": [
            "Время обучения модели:  184.8492\n"
          ]
        }
      ],
      "source": [
        "time_begin = time.time()\n",
        "model.fit(features_train, target_train)\n",
        "time_end = time.time()\n",
        "time_fit = time_end - time_begin\n",
        "print('Время обучения модели: ',round(time_fit,4))"
      ]
    },
    {
      "cell_type": "code",
      "execution_count": null,
      "metadata": {
        "id": "IjZE3IldMu9v",
        "outputId": "572cb733-18e6-4215-f3b9-7811fa290622"
      },
      "outputs": [
        {
          "name": "stdout",
          "output_type": "stream",
          "text": [
            "Время предсказания модели:  0.2187\n"
          ]
        }
      ],
      "source": [
        "time_begin = time.time()\n",
        "predict = model.predict(features_test)\n",
        "time_end = time.time()\n",
        "time_pred = time_end - time_begin\n",
        "print('Время предсказания модели: ',round(time_pred,4))"
      ]
    },
    {
      "cell_type": "code",
      "execution_count": null,
      "metadata": {
        "id": "qOOjkuSdMu9w",
        "outputId": "fbdb7e5d-67a8-411a-dc1d-422ef84411b8"
      },
      "outputs": [
        {
          "name": "stdout",
          "output_type": "stream",
          "text": [
            "RMSE модели:  1718.72456\n"
          ]
        }
      ],
      "source": [
        "rmse = round(mse(target_test, predict, squared=False),5)\n",
        "print('RMSE модели: ', rmse)"
      ]
    },
    {
      "cell_type": "markdown",
      "metadata": {
        "id": "1ExR9nz-Mu9w"
      },
      "source": [
        "**Model CatBoost**"
      ]
    },
    {
      "cell_type": "code",
      "execution_count": null,
      "metadata": {
        "id": "5CAT3iTiMu9w"
      },
      "outputs": [],
      "source": [
        "model = CatBoostRegressor(cat_features=categorical, iterations=100, max_depth=10, random_seed=1)"
      ]
    },
    {
      "cell_type": "code",
      "execution_count": null,
      "metadata": {
        "id": "oR5jhegeMu9w",
        "outputId": "4bc9b6d3-b6c9-4414-8f47-3c45180cc457"
      },
      "outputs": [
        {
          "name": "stdout",
          "output_type": "stream",
          "text": [
            "Learning rate set to 0.5\n",
            "0:\tlearn: 3189.5830608\ttotal: 135ms\tremaining: 13.3s\n",
            "1:\tlearn: 2556.4805501\ttotal: 272ms\tremaining: 13.3s\n",
            "2:\tlearn: 2277.0798612\ttotal: 426ms\tremaining: 13.8s\n",
            "3:\tlearn: 2086.9681264\ttotal: 551ms\tremaining: 13.2s\n",
            "4:\tlearn: 1996.6599199\ttotal: 675ms\tremaining: 12.8s\n",
            "5:\tlearn: 1921.8254319\ttotal: 800ms\tremaining: 12.5s\n",
            "6:\tlearn: 1891.7201335\ttotal: 934ms\tremaining: 12.4s\n",
            "7:\tlearn: 1856.9005213\ttotal: 1.06s\tremaining: 12.2s\n",
            "8:\tlearn: 1833.2278087\ttotal: 1.19s\tremaining: 12s\n",
            "9:\tlearn: 1814.2596764\ttotal: 1.31s\tremaining: 11.8s\n",
            "10:\tlearn: 1799.2255369\ttotal: 1.44s\tremaining: 11.7s\n",
            "11:\tlearn: 1786.0577091\ttotal: 1.56s\tremaining: 11.5s\n",
            "12:\tlearn: 1777.7571689\ttotal: 1.69s\tremaining: 11.3s\n",
            "13:\tlearn: 1762.9785845\ttotal: 1.8s\tremaining: 11.1s\n",
            "14:\tlearn: 1751.5521346\ttotal: 2s\tremaining: 11.3s\n",
            "15:\tlearn: 1744.8180676\ttotal: 2.12s\tremaining: 11.1s\n",
            "16:\tlearn: 1738.1111021\ttotal: 2.24s\tremaining: 10.9s\n",
            "17:\tlearn: 1731.2125132\ttotal: 2.38s\tremaining: 10.8s\n",
            "18:\tlearn: 1723.3449871\ttotal: 2.52s\tremaining: 10.7s\n",
            "19:\tlearn: 1716.6016122\ttotal: 2.64s\tremaining: 10.6s\n",
            "20:\tlearn: 1712.5330264\ttotal: 2.76s\tremaining: 10.4s\n",
            "21:\tlearn: 1700.8109234\ttotal: 2.9s\tremaining: 10.3s\n",
            "22:\tlearn: 1693.0510671\ttotal: 3.04s\tremaining: 10.2s\n",
            "23:\tlearn: 1689.5472572\ttotal: 3.18s\tremaining: 10.1s\n",
            "24:\tlearn: 1684.6800242\ttotal: 3.3s\tremaining: 9.91s\n",
            "25:\tlearn: 1678.8562903\ttotal: 3.42s\tremaining: 9.74s\n",
            "26:\tlearn: 1669.0953448\ttotal: 3.54s\tremaining: 9.57s\n",
            "27:\tlearn: 1664.6665150\ttotal: 3.66s\tremaining: 9.41s\n",
            "28:\tlearn: 1660.0009461\ttotal: 3.79s\tremaining: 9.27s\n",
            "29:\tlearn: 1654.1332043\ttotal: 3.9s\tremaining: 9.1s\n",
            "30:\tlearn: 1647.2796955\ttotal: 4.03s\tremaining: 8.96s\n",
            "31:\tlearn: 1640.6072899\ttotal: 4.16s\tremaining: 8.83s\n",
            "32:\tlearn: 1635.7477543\ttotal: 4.28s\tremaining: 8.7s\n",
            "33:\tlearn: 1631.4106083\ttotal: 4.43s\tremaining: 8.61s\n",
            "34:\tlearn: 1628.8569891\ttotal: 4.59s\tremaining: 8.52s\n",
            "35:\tlearn: 1620.8241044\ttotal: 4.74s\tremaining: 8.42s\n",
            "36:\tlearn: 1617.2502818\ttotal: 4.86s\tremaining: 8.28s\n",
            "37:\tlearn: 1614.5411600\ttotal: 4.99s\tremaining: 8.13s\n",
            "38:\tlearn: 1610.0786791\ttotal: 5.11s\tremaining: 7.99s\n",
            "39:\tlearn: 1607.3945315\ttotal: 5.23s\tremaining: 7.84s\n",
            "40:\tlearn: 1602.4344017\ttotal: 5.36s\tremaining: 7.71s\n",
            "41:\tlearn: 1600.0096139\ttotal: 5.49s\tremaining: 7.58s\n",
            "42:\tlearn: 1595.5399965\ttotal: 5.61s\tremaining: 7.43s\n",
            "43:\tlearn: 1591.4802220\ttotal: 5.74s\tremaining: 7.3s\n",
            "44:\tlearn: 1587.6617058\ttotal: 5.86s\tremaining: 7.17s\n",
            "45:\tlearn: 1584.5281521\ttotal: 5.99s\tremaining: 7.03s\n",
            "46:\tlearn: 1583.3243151\ttotal: 6.11s\tremaining: 6.89s\n",
            "47:\tlearn: 1578.2220756\ttotal: 6.23s\tremaining: 6.75s\n",
            "48:\tlearn: 1574.8962899\ttotal: 6.37s\tremaining: 6.63s\n",
            "49:\tlearn: 1574.6164475\ttotal: 6.48s\tremaining: 6.48s\n",
            "50:\tlearn: 1572.3571888\ttotal: 6.61s\tremaining: 6.35s\n",
            "51:\tlearn: 1570.7540760\ttotal: 6.74s\tremaining: 6.22s\n",
            "52:\tlearn: 1568.6341901\ttotal: 6.87s\tremaining: 6.09s\n",
            "53:\tlearn: 1565.2398208\ttotal: 6.99s\tremaining: 5.96s\n",
            "54:\tlearn: 1563.5952695\ttotal: 7.11s\tremaining: 5.82s\n",
            "55:\tlearn: 1561.2016232\ttotal: 7.24s\tremaining: 5.69s\n",
            "56:\tlearn: 1558.0466938\ttotal: 7.38s\tremaining: 5.57s\n",
            "57:\tlearn: 1554.6728688\ttotal: 7.52s\tremaining: 5.45s\n",
            "58:\tlearn: 1552.8602252\ttotal: 7.65s\tremaining: 5.32s\n",
            "59:\tlearn: 1550.8751729\ttotal: 7.78s\tremaining: 5.18s\n",
            "60:\tlearn: 1548.4960876\ttotal: 7.89s\tremaining: 5.05s\n",
            "61:\tlearn: 1544.4998521\ttotal: 8.02s\tremaining: 4.92s\n",
            "62:\tlearn: 1541.9411537\ttotal: 8.15s\tremaining: 4.79s\n",
            "63:\tlearn: 1540.1764248\ttotal: 8.29s\tremaining: 4.66s\n",
            "64:\tlearn: 1538.6462336\ttotal: 8.47s\tremaining: 4.56s\n",
            "65:\tlearn: 1536.5036638\ttotal: 8.66s\tremaining: 4.46s\n",
            "66:\tlearn: 1533.7990223\ttotal: 8.78s\tremaining: 4.33s\n",
            "67:\tlearn: 1531.0070781\ttotal: 8.91s\tremaining: 4.19s\n",
            "68:\tlearn: 1530.3229055\ttotal: 9.09s\tremaining: 4.08s\n",
            "69:\tlearn: 1527.4743649\ttotal: 9.28s\tremaining: 3.98s\n",
            "70:\tlearn: 1525.2157564\ttotal: 9.43s\tremaining: 3.85s\n",
            "71:\tlearn: 1523.6216635\ttotal: 9.58s\tremaining: 3.73s\n",
            "72:\tlearn: 1522.0136362\ttotal: 9.7s\tremaining: 3.59s\n",
            "73:\tlearn: 1521.1077707\ttotal: 9.82s\tremaining: 3.45s\n",
            "74:\tlearn: 1517.1299479\ttotal: 9.94s\tremaining: 3.31s\n",
            "75:\tlearn: 1516.4662598\ttotal: 10.1s\tremaining: 3.18s\n",
            "76:\tlearn: 1516.0229344\ttotal: 10.2s\tremaining: 3.04s\n",
            "77:\tlearn: 1514.1687920\ttotal: 10.3s\tremaining: 2.91s\n",
            "78:\tlearn: 1512.4341369\ttotal: 10.4s\tremaining: 2.77s\n",
            "79:\tlearn: 1511.1577049\ttotal: 10.6s\tremaining: 2.64s\n",
            "80:\tlearn: 1511.1471777\ttotal: 10.7s\tremaining: 2.5s\n",
            "81:\tlearn: 1510.1854086\ttotal: 10.8s\tremaining: 2.37s\n",
            "82:\tlearn: 1508.6845977\ttotal: 10.9s\tremaining: 2.23s\n",
            "83:\tlearn: 1507.6410728\ttotal: 11s\tremaining: 2.1s\n",
            "84:\tlearn: 1506.9310617\ttotal: 11.1s\tremaining: 1.97s\n",
            "85:\tlearn: 1505.7908582\ttotal: 11.3s\tremaining: 1.83s\n",
            "86:\tlearn: 1505.1053661\ttotal: 11.4s\tremaining: 1.7s\n",
            "87:\tlearn: 1503.5118321\ttotal: 11.5s\tremaining: 1.57s\n",
            "88:\tlearn: 1501.2378622\ttotal: 11.7s\tremaining: 1.44s\n",
            "89:\tlearn: 1499.1546989\ttotal: 11.8s\tremaining: 1.31s\n",
            "90:\tlearn: 1496.7808855\ttotal: 11.9s\tremaining: 1.18s\n",
            "91:\tlearn: 1495.9177899\ttotal: 12.1s\tremaining: 1.05s\n",
            "92:\tlearn: 1494.0026068\ttotal: 12.2s\tremaining: 918ms\n",
            "93:\tlearn: 1493.1645837\ttotal: 12.3s\tremaining: 786ms\n",
            "94:\tlearn: 1492.1195748\ttotal: 12.5s\tremaining: 656ms\n",
            "95:\tlearn: 1490.7243779\ttotal: 12.6s\tremaining: 527ms\n",
            "96:\tlearn: 1490.1922190\ttotal: 12.8s\tremaining: 395ms\n",
            "97:\tlearn: 1489.2371547\ttotal: 12.9s\tremaining: 263ms\n",
            "98:\tlearn: 1488.0349059\ttotal: 13s\tremaining: 132ms\n",
            "99:\tlearn: 1487.1455941\ttotal: 13.2s\tremaining: 0us\n"
          ]
        }
      ],
      "source": [
        "time_begin = time.time()\n",
        "model.fit(features_train, target_train)\n",
        "time_end = time.time()\n",
        "time_fit = time_end - time_begin"
      ]
    },
    {
      "cell_type": "code",
      "execution_count": null,
      "metadata": {
        "id": "ttNxbdj7Mu9w",
        "outputId": "2155bf32-1b4b-4c14-cc77-1ae4f8ab2a09"
      },
      "outputs": [
        {
          "name": "stdout",
          "output_type": "stream",
          "text": [
            "Время обучения модели:  14.4719\n"
          ]
        }
      ],
      "source": [
        "print('Время обучения модели: ',round(time_fit,4))"
      ]
    },
    {
      "cell_type": "code",
      "execution_count": null,
      "metadata": {
        "id": "_L8UTWWmMu9x",
        "outputId": "1c61a6ac-7ec4-48b5-917c-563491763eb0"
      },
      "outputs": [
        {
          "name": "stdout",
          "output_type": "stream",
          "text": [
            "Время предсказания модели:  0.0541\n"
          ]
        }
      ],
      "source": [
        "time_begin = time.time()\n",
        "predict = model.predict(features_test)\n",
        "time_end = time.time()\n",
        "time_pred = time_end - time_begin\n",
        "print('Время предсказания модели: ',round(time_pred,4))"
      ]
    },
    {
      "cell_type": "code",
      "execution_count": null,
      "metadata": {
        "id": "tcJ7pepIMu9x",
        "outputId": "47c5d9b2-c764-4f7a-9502-d22140f894df"
      },
      "outputs": [
        {
          "name": "stdout",
          "output_type": "stream",
          "text": [
            "RMSE модели:  1626.70161\n"
          ]
        }
      ],
      "source": [
        "rmse = round(mse(target_test, predict, squared=False),5)\n",
        "print('RMSE модели: ', rmse)"
      ]
    },
    {
      "cell_type": "markdown",
      "metadata": {
        "id": "dgFvJBClMu9x"
      },
      "source": [
        "**CONCLUSION for the section:**\n",
        "\n",
        "As a result of selecting the hyperparameters of the LightGBM and CatBoost models, it was possible to significantly reduce the training and prediction time of these models, while maintaining the value of the quality metric below the level required by the customer.\n",
        "\n",
        "Considering that the main qualitative characteristic of the model’s work was the ability to **quickly** obtain a price prediction (since this was precisely what was noted in the task as an advantage of the customer’s application), the final model was chosen as the **CatBoost** model, for which:\n",
        "\n",
        "\n",
        "- Training time was: 12.9\n",
        "- The prediction time on the test sample was: 0.049\n",
        "- RMSE: 1 626"
      ]
    },
    {
      "cell_type": "markdown",
      "metadata": {
        "id": "G-I8REblMu9x"
      },
      "source": [
        "**PROJECT CONCLUSION:**\n",
        "\n",
        "In accordance with the assignment, the customer, the service for selling used cars \"Not a Bit, Not a Paint\", while developing an application that provides the ability to **quickly** determine the cost of a car based on its technical parameters, set the task of developing a machine learning model that I would have predicted this price.\n",
        "\n",
        "The characteristics of the model required by the customer: high speed of operation, quality metric RMSE no more than 2,500.\n",
        "\n",
        "To develop the project, a dataset was provided with historical data on sales prices of used cars, including the technical characteristics of these cars.\n",
        "\n",
        "The dataset contained 354,369 rows and 16 columns. The data contained gaps.\n",
        "\n",
        "As a result of the data preprocessing, a dataset of 277,080 rows and 10 columns was prepared, containing no gaps, full of explicit and implicit duplicate rows, which was used for training and testing machine learning models.\n",
        "\n",
        "3 machine learning models were studied: LightBRM, CatBoost and linear regression. Linear regression, although it showed better results in terms of training and prediction time, did not provide the required quality.\n",
        "\n",
        "The LightBRM and CatBoost models were further analyzed in detail and, using the selection of hyperparameters, both training and prediction times were significantly reduced. The quality metric of these models in all cases was significantly lower than the threshold value specified by the customer.\n",
        "\n",
        "As a result, the **CatBoost** model was chosen as the best model, which showed the following results:\n",
        "\n",
        "- Training time was: 12.9 s.\n",
        "- Prediction time on the test sample was: 0.049 s.\n",
        "- RMSE: **1,626**. The resulting RMSE value is significantly lower than the threshold specified by the customer (2,500), and therefore the task can be considered **completely completed**."
      ]
    }
  ],
  "metadata": {
    "ExecuteTimeLog": [
      {
        "duration": 1686,
        "start_time": "2023-06-12T15:21:36.533Z"
      },
      {
        "duration": 1218,
        "start_time": "2023-06-12T15:22:42.737Z"
      },
      {
        "duration": 151,
        "start_time": "2023-06-12T15:22:57.152Z"
      },
      {
        "duration": 1085,
        "start_time": "2023-06-12T15:26:34.905Z"
      },
      {
        "duration": 94,
        "start_time": "2023-06-12T15:26:37.551Z"
      },
      {
        "duration": 287,
        "start_time": "2023-06-12T15:34:19.772Z"
      },
      {
        "duration": 119,
        "start_time": "2023-06-12T15:35:11.636Z"
      },
      {
        "duration": 283,
        "start_time": "2023-06-12T15:35:21.110Z"
      },
      {
        "duration": 24,
        "start_time": "2023-06-12T15:39:42.273Z"
      },
      {
        "duration": 13,
        "start_time": "2023-06-12T15:43:16.574Z"
      },
      {
        "duration": 12,
        "start_time": "2023-06-12T15:43:24.339Z"
      },
      {
        "duration": 9,
        "start_time": "2023-06-12T15:44:17.925Z"
      },
      {
        "duration": 13,
        "start_time": "2023-06-12T15:44:45.978Z"
      },
      {
        "duration": 3,
        "start_time": "2023-06-12T15:44:56.899Z"
      },
      {
        "duration": 13,
        "start_time": "2023-06-12T15:45:12.207Z"
      },
      {
        "duration": 13,
        "start_time": "2023-06-12T15:47:16.297Z"
      },
      {
        "duration": 5,
        "start_time": "2023-06-12T15:48:43.889Z"
      },
      {
        "duration": 16,
        "start_time": "2023-06-12T15:48:47.161Z"
      },
      {
        "duration": 1398,
        "start_time": "2023-06-12T16:04:46.820Z"
      },
      {
        "duration": 149,
        "start_time": "2023-06-12T16:05:55.516Z"
      },
      {
        "duration": 188,
        "start_time": "2023-06-12T16:07:48.943Z"
      },
      {
        "duration": 169,
        "start_time": "2023-06-12T16:09:02.078Z"
      },
      {
        "duration": 151,
        "start_time": "2023-06-12T16:09:09.247Z"
      },
      {
        "duration": 161,
        "start_time": "2023-06-12T16:09:30.247Z"
      },
      {
        "duration": 4,
        "start_time": "2023-06-12T16:18:33.910Z"
      },
      {
        "duration": 686,
        "start_time": "2023-06-12T16:19:12.501Z"
      },
      {
        "duration": 3,
        "start_time": "2023-06-12T16:20:17.030Z"
      },
      {
        "duration": 707,
        "start_time": "2023-06-12T16:20:18.343Z"
      },
      {
        "duration": 4,
        "start_time": "2023-06-12T16:21:11.159Z"
      },
      {
        "duration": 659,
        "start_time": "2023-06-12T16:21:11.791Z"
      },
      {
        "duration": 68,
        "start_time": "2023-06-12T16:30:35.327Z"
      },
      {
        "duration": 754,
        "start_time": "2023-06-12T16:30:51.757Z"
      },
      {
        "duration": 119,
        "start_time": "2023-06-12T16:35:47.023Z"
      },
      {
        "duration": 4,
        "start_time": "2023-06-12T16:39:21.322Z"
      },
      {
        "duration": 33,
        "start_time": "2023-06-12T16:39:27.027Z"
      },
      {
        "duration": 886,
        "start_time": "2023-06-12T16:43:26.246Z"
      },
      {
        "duration": 2827,
        "start_time": "2023-06-12T16:47:32.611Z"
      },
      {
        "duration": 81,
        "start_time": "2023-06-12T16:48:05.749Z"
      },
      {
        "duration": 4,
        "start_time": "2023-06-12T16:48:45.248Z"
      },
      {
        "duration": 717,
        "start_time": "2023-06-12T16:48:47.020Z"
      },
      {
        "duration": 62,
        "start_time": "2023-06-12T16:48:52.634Z"
      },
      {
        "duration": 696,
        "start_time": "2023-06-12T16:48:53.206Z"
      },
      {
        "duration": 42,
        "start_time": "2023-06-12T16:48:57.996Z"
      },
      {
        "duration": 646,
        "start_time": "2023-06-12T16:49:00.111Z"
      },
      {
        "duration": 107,
        "start_time": "2023-06-12T16:49:13.202Z"
      },
      {
        "duration": 785,
        "start_time": "2023-06-12T16:50:11.400Z"
      },
      {
        "duration": 2281,
        "start_time": "2023-06-12T16:53:51.149Z"
      },
      {
        "duration": 31,
        "start_time": "2023-06-12T16:55:40.212Z"
      },
      {
        "duration": 737,
        "start_time": "2023-06-12T16:58:05.697Z"
      },
      {
        "duration": 64,
        "start_time": "2023-06-12T17:11:13.092Z"
      },
      {
        "duration": 684,
        "start_time": "2023-06-12T17:11:14.769Z"
      },
      {
        "duration": 7,
        "start_time": "2023-06-12T17:13:29.075Z"
      },
      {
        "duration": 5,
        "start_time": "2023-06-12T17:13:44.633Z"
      },
      {
        "duration": 27,
        "start_time": "2023-06-12T17:14:26.921Z"
      },
      {
        "duration": 690,
        "start_time": "2023-06-12T17:14:31.621Z"
      },
      {
        "duration": 39,
        "start_time": "2023-06-12T17:16:21.318Z"
      },
      {
        "duration": 6,
        "start_time": "2023-06-12T17:16:22.441Z"
      },
      {
        "duration": 46,
        "start_time": "2023-06-12T17:16:29.525Z"
      },
      {
        "duration": 771,
        "start_time": "2023-06-12T17:16:35.221Z"
      },
      {
        "duration": 30,
        "start_time": "2023-06-12T17:18:24.023Z"
      },
      {
        "duration": 62,
        "start_time": "2023-06-12T17:18:38.061Z"
      },
      {
        "duration": 16,
        "start_time": "2023-06-12T17:19:04.743Z"
      },
      {
        "duration": 61,
        "start_time": "2023-06-12T17:19:37.049Z"
      },
      {
        "duration": 31,
        "start_time": "2023-06-12T17:20:01.814Z"
      },
      {
        "duration": 20,
        "start_time": "2023-06-12T17:29:21.589Z"
      },
      {
        "duration": 36,
        "start_time": "2023-06-12T17:30:09.511Z"
      },
      {
        "duration": 38,
        "start_time": "2023-06-12T17:30:29.827Z"
      },
      {
        "duration": 18,
        "start_time": "2023-06-12T17:31:00.144Z"
      },
      {
        "duration": 27,
        "start_time": "2023-06-12T17:31:13.590Z"
      },
      {
        "duration": 19,
        "start_time": "2023-06-12T17:31:16.736Z"
      },
      {
        "duration": 31,
        "start_time": "2023-06-12T17:32:21.418Z"
      },
      {
        "duration": 19,
        "start_time": "2023-06-12T17:32:35.589Z"
      },
      {
        "duration": 86,
        "start_time": "2023-06-12T17:33:19.089Z"
      },
      {
        "duration": 25,
        "start_time": "2023-06-12T17:34:17.043Z"
      },
      {
        "duration": 98,
        "start_time": "2023-06-12T17:34:26.484Z"
      },
      {
        "duration": 118,
        "start_time": "2023-06-12T17:40:55.512Z"
      },
      {
        "duration": 121,
        "start_time": "2023-06-12T17:42:43.409Z"
      },
      {
        "duration": 1480,
        "start_time": "2023-06-12T17:43:14.879Z"
      },
      {
        "duration": 994,
        "start_time": "2023-06-12T17:43:16.362Z"
      },
      {
        "duration": 91,
        "start_time": "2023-06-12T17:43:17.357Z"
      },
      {
        "duration": 34,
        "start_time": "2023-06-12T17:43:17.450Z"
      },
      {
        "duration": 14,
        "start_time": "2023-06-12T17:43:17.486Z"
      },
      {
        "duration": 39,
        "start_time": "2023-06-12T17:43:17.501Z"
      },
      {
        "duration": 149,
        "start_time": "2023-06-12T17:43:17.542Z"
      },
      {
        "duration": 4,
        "start_time": "2023-06-12T17:43:17.692Z"
      },
      {
        "duration": 727,
        "start_time": "2023-06-12T17:43:17.698Z"
      },
      {
        "duration": 52,
        "start_time": "2023-06-12T17:43:18.428Z"
      },
      {
        "duration": 709,
        "start_time": "2023-06-12T17:43:18.482Z"
      },
      {
        "duration": 30,
        "start_time": "2023-06-12T17:43:19.194Z"
      },
      {
        "duration": 561,
        "start_time": "2023-06-12T17:43:19.226Z"
      },
      {
        "duration": 87,
        "start_time": "2023-06-12T17:43:19.791Z"
      },
      {
        "duration": 571,
        "start_time": "2023-06-12T17:43:19.880Z"
      },
      {
        "duration": 34,
        "start_time": "2023-06-12T17:43:20.453Z"
      },
      {
        "duration": 622,
        "start_time": "2023-06-12T17:43:20.488Z"
      },
      {
        "duration": 74,
        "start_time": "2023-06-12T17:43:21.112Z"
      },
      {
        "duration": 4,
        "start_time": "2023-06-12T17:43:21.188Z"
      },
      {
        "duration": 41,
        "start_time": "2023-06-12T17:43:21.194Z"
      },
      {
        "duration": 640,
        "start_time": "2023-06-12T17:43:21.237Z"
      },
      {
        "duration": 31,
        "start_time": "2023-06-12T17:43:21.878Z"
      },
      {
        "duration": 69,
        "start_time": "2023-06-12T17:43:21.910Z"
      },
      {
        "duration": 29,
        "start_time": "2023-06-12T17:43:21.981Z"
      },
      {
        "duration": 125,
        "start_time": "2023-06-12T17:43:22.012Z"
      },
      {
        "duration": 19,
        "start_time": "2023-06-12T17:43:22.139Z"
      },
      {
        "duration": 141,
        "start_time": "2023-06-12T17:43:22.160Z"
      },
      {
        "duration": 142,
        "start_time": "2023-06-12T17:43:22.302Z"
      },
      {
        "duration": 1438,
        "start_time": "2023-06-12T17:44:11.381Z"
      },
      {
        "duration": 6001,
        "start_time": "2023-06-12T17:44:12.821Z"
      },
      {
        "duration": 93,
        "start_time": "2023-06-12T17:44:18.824Z"
      },
      {
        "duration": 26,
        "start_time": "2023-06-12T17:44:18.918Z"
      },
      {
        "duration": 7,
        "start_time": "2023-06-12T17:44:18.946Z"
      },
      {
        "duration": 32,
        "start_time": "2023-06-12T17:44:18.954Z"
      },
      {
        "duration": 261,
        "start_time": "2023-06-12T17:44:18.987Z"
      },
      {
        "duration": 0,
        "start_time": "2023-06-12T17:44:19.250Z"
      },
      {
        "duration": 0,
        "start_time": "2023-06-12T17:44:19.251Z"
      },
      {
        "duration": 0,
        "start_time": "2023-06-12T17:44:19.252Z"
      },
      {
        "duration": 0,
        "start_time": "2023-06-12T17:44:19.253Z"
      },
      {
        "duration": 0,
        "start_time": "2023-06-12T17:44:19.254Z"
      },
      {
        "duration": 0,
        "start_time": "2023-06-12T17:44:19.255Z"
      },
      {
        "duration": 0,
        "start_time": "2023-06-12T17:44:19.256Z"
      },
      {
        "duration": 0,
        "start_time": "2023-06-12T17:44:19.257Z"
      },
      {
        "duration": 0,
        "start_time": "2023-06-12T17:44:19.258Z"
      },
      {
        "duration": 0,
        "start_time": "2023-06-12T17:44:19.259Z"
      },
      {
        "duration": 0,
        "start_time": "2023-06-12T17:44:19.276Z"
      },
      {
        "duration": 0,
        "start_time": "2023-06-12T17:44:19.278Z"
      },
      {
        "duration": 0,
        "start_time": "2023-06-12T17:44:19.279Z"
      },
      {
        "duration": 0,
        "start_time": "2023-06-12T17:44:19.280Z"
      },
      {
        "duration": 0,
        "start_time": "2023-06-12T17:44:19.281Z"
      },
      {
        "duration": 0,
        "start_time": "2023-06-12T17:44:19.281Z"
      },
      {
        "duration": 0,
        "start_time": "2023-06-12T17:44:19.282Z"
      },
      {
        "duration": 0,
        "start_time": "2023-06-12T17:44:19.283Z"
      },
      {
        "duration": 0,
        "start_time": "2023-06-12T17:44:19.284Z"
      },
      {
        "duration": 0,
        "start_time": "2023-06-12T17:44:19.286Z"
      },
      {
        "duration": 0,
        "start_time": "2023-06-12T17:44:19.286Z"
      },
      {
        "duration": 9,
        "start_time": "2023-06-12T17:47:55.709Z"
      },
      {
        "duration": 1374,
        "start_time": "2023-06-12T17:55:41.413Z"
      },
      {
        "duration": 1035,
        "start_time": "2023-06-12T17:55:42.789Z"
      },
      {
        "duration": 98,
        "start_time": "2023-06-12T17:55:43.826Z"
      },
      {
        "duration": 28,
        "start_time": "2023-06-12T17:55:43.927Z"
      },
      {
        "duration": 20,
        "start_time": "2023-06-12T17:55:43.957Z"
      },
      {
        "duration": 15,
        "start_time": "2023-06-12T17:55:43.978Z"
      },
      {
        "duration": 173,
        "start_time": "2023-06-12T17:55:43.995Z"
      },
      {
        "duration": 3,
        "start_time": "2023-06-12T17:55:44.176Z"
      },
      {
        "duration": 660,
        "start_time": "2023-06-12T17:55:44.181Z"
      },
      {
        "duration": 50,
        "start_time": "2023-06-12T17:55:44.844Z"
      },
      {
        "duration": 727,
        "start_time": "2023-06-12T17:55:44.895Z"
      },
      {
        "duration": 32,
        "start_time": "2023-06-12T17:55:45.623Z"
      },
      {
        "duration": 591,
        "start_time": "2023-06-12T17:55:45.657Z"
      },
      {
        "duration": 86,
        "start_time": "2023-06-12T17:55:46.250Z"
      },
      {
        "duration": 675,
        "start_time": "2023-06-12T17:55:46.338Z"
      },
      {
        "duration": 32,
        "start_time": "2023-06-12T17:55:47.015Z"
      },
      {
        "duration": 596,
        "start_time": "2023-06-12T17:55:47.049Z"
      },
      {
        "duration": 90,
        "start_time": "2023-06-12T17:55:47.647Z"
      },
      {
        "duration": 6,
        "start_time": "2023-06-12T17:55:47.739Z"
      },
      {
        "duration": 40,
        "start_time": "2023-06-12T17:55:47.747Z"
      },
      {
        "duration": 655,
        "start_time": "2023-06-12T17:55:47.789Z"
      },
      {
        "duration": 36,
        "start_time": "2023-06-12T17:55:48.445Z"
      },
      {
        "duration": 41,
        "start_time": "2023-06-12T17:55:48.483Z"
      },
      {
        "duration": 21,
        "start_time": "2023-06-12T17:55:48.525Z"
      },
      {
        "duration": 133,
        "start_time": "2023-06-12T17:55:48.547Z"
      },
      {
        "duration": 21,
        "start_time": "2023-06-12T17:55:48.682Z"
      },
      {
        "duration": 173,
        "start_time": "2023-06-12T17:55:48.705Z"
      },
      {
        "duration": 180,
        "start_time": "2023-06-12T17:55:48.882Z"
      },
      {
        "duration": 1454,
        "start_time": "2023-06-12T18:40:09.336Z"
      },
      {
        "duration": 1033,
        "start_time": "2023-06-12T18:40:10.793Z"
      },
      {
        "duration": 99,
        "start_time": "2023-06-12T18:40:11.828Z"
      },
      {
        "duration": 29,
        "start_time": "2023-06-12T18:40:11.930Z"
      },
      {
        "duration": 14,
        "start_time": "2023-06-12T18:40:11.966Z"
      },
      {
        "duration": 17,
        "start_time": "2023-06-12T18:40:11.982Z"
      },
      {
        "duration": 97,
        "start_time": "2023-06-12T18:40:12.001Z"
      },
      {
        "duration": 4,
        "start_time": "2023-06-12T18:40:12.100Z"
      },
      {
        "duration": 700,
        "start_time": "2023-06-12T18:40:12.106Z"
      },
      {
        "duration": 48,
        "start_time": "2023-06-12T18:40:12.809Z"
      },
      {
        "duration": 724,
        "start_time": "2023-06-12T18:40:12.859Z"
      },
      {
        "duration": 33,
        "start_time": "2023-06-12T18:40:13.585Z"
      },
      {
        "duration": 584,
        "start_time": "2023-06-12T18:40:13.620Z"
      },
      {
        "duration": 96,
        "start_time": "2023-06-12T18:40:14.206Z"
      },
      {
        "duration": 596,
        "start_time": "2023-06-12T18:40:14.304Z"
      },
      {
        "duration": 31,
        "start_time": "2023-06-12T18:40:14.903Z"
      },
      {
        "duration": 617,
        "start_time": "2023-06-12T18:40:14.936Z"
      },
      {
        "duration": 79,
        "start_time": "2023-06-12T18:40:15.554Z"
      },
      {
        "duration": 7,
        "start_time": "2023-06-12T18:40:15.635Z"
      },
      {
        "duration": 43,
        "start_time": "2023-06-12T18:40:15.644Z"
      },
      {
        "duration": 660,
        "start_time": "2023-06-12T18:40:15.689Z"
      },
      {
        "duration": 45,
        "start_time": "2023-06-12T18:40:16.351Z"
      },
      {
        "duration": 69,
        "start_time": "2023-06-12T18:40:16.398Z"
      },
      {
        "duration": 34,
        "start_time": "2023-06-12T18:40:16.469Z"
      },
      {
        "duration": 145,
        "start_time": "2023-06-12T18:40:16.505Z"
      },
      {
        "duration": 40,
        "start_time": "2023-06-12T18:40:16.652Z"
      },
      {
        "duration": 132,
        "start_time": "2023-06-12T18:40:16.694Z"
      },
      {
        "duration": 147,
        "start_time": "2023-06-12T18:40:16.830Z"
      },
      {
        "duration": 81,
        "start_time": "2023-06-12T18:45:27.644Z"
      },
      {
        "duration": 17,
        "start_time": "2023-06-12T18:46:52.851Z"
      },
      {
        "duration": 23,
        "start_time": "2023-06-12T18:46:57.427Z"
      },
      {
        "duration": 125,
        "start_time": "2023-06-12T18:47:14.577Z"
      },
      {
        "duration": 10,
        "start_time": "2023-06-12T18:47:26.155Z"
      },
      {
        "duration": 13,
        "start_time": "2023-06-12T18:47:40.746Z"
      },
      {
        "duration": 31,
        "start_time": "2023-06-12T18:47:47.802Z"
      },
      {
        "duration": 772,
        "start_time": "2023-06-12T18:57:19.904Z"
      },
      {
        "duration": 27,
        "start_time": "2023-06-12T18:57:22.359Z"
      },
      {
        "duration": 1142,
        "start_time": "2023-06-12T18:57:43.729Z"
      },
      {
        "duration": 31,
        "start_time": "2023-06-12T18:57:46.625Z"
      },
      {
        "duration": 782,
        "start_time": "2023-06-12T18:58:01.632Z"
      },
      {
        "duration": 26,
        "start_time": "2023-06-12T18:58:05.107Z"
      },
      {
        "duration": 81,
        "start_time": "2023-06-12T19:03:01.788Z"
      },
      {
        "duration": 61,
        "start_time": "2023-06-12T19:03:21.388Z"
      },
      {
        "duration": 135,
        "start_time": "2023-06-12T19:04:45.221Z"
      },
      {
        "duration": 108,
        "start_time": "2023-06-12T19:05:25.133Z"
      },
      {
        "duration": 118,
        "start_time": "2023-06-12T19:06:37.750Z"
      },
      {
        "duration": 1436,
        "start_time": "2023-06-12T19:08:27.125Z"
      },
      {
        "duration": 1015,
        "start_time": "2023-06-12T19:08:28.563Z"
      },
      {
        "duration": 115,
        "start_time": "2023-06-12T19:08:29.580Z"
      },
      {
        "duration": 30,
        "start_time": "2023-06-12T19:08:29.697Z"
      },
      {
        "duration": 8,
        "start_time": "2023-06-12T19:08:29.729Z"
      },
      {
        "duration": 29,
        "start_time": "2023-06-12T19:08:29.740Z"
      },
      {
        "duration": 88,
        "start_time": "2023-06-12T19:08:29.777Z"
      },
      {
        "duration": 4,
        "start_time": "2023-06-12T19:08:29.877Z"
      },
      {
        "duration": 697,
        "start_time": "2023-06-12T19:08:29.884Z"
      },
      {
        "duration": 46,
        "start_time": "2023-06-12T19:08:30.583Z"
      },
      {
        "duration": 738,
        "start_time": "2023-06-12T19:08:30.631Z"
      },
      {
        "duration": 50,
        "start_time": "2023-06-12T19:08:31.376Z"
      },
      {
        "duration": 690,
        "start_time": "2023-06-12T19:08:31.427Z"
      },
      {
        "duration": 85,
        "start_time": "2023-06-12T19:08:32.119Z"
      },
      {
        "duration": 574,
        "start_time": "2023-06-12T19:08:32.206Z"
      },
      {
        "duration": 29,
        "start_time": "2023-06-12T19:08:32.783Z"
      },
      {
        "duration": 590,
        "start_time": "2023-06-12T19:08:32.814Z"
      },
      {
        "duration": 73,
        "start_time": "2023-06-12T19:08:33.406Z"
      },
      {
        "duration": 5,
        "start_time": "2023-06-12T19:08:33.481Z"
      },
      {
        "duration": 43,
        "start_time": "2023-06-12T19:08:33.487Z"
      },
      {
        "duration": 638,
        "start_time": "2023-06-12T19:08:33.531Z"
      },
      {
        "duration": 29,
        "start_time": "2023-06-12T19:08:34.171Z"
      },
      {
        "duration": 39,
        "start_time": "2023-06-12T19:08:34.202Z"
      },
      {
        "duration": 41,
        "start_time": "2023-06-12T19:08:34.242Z"
      },
      {
        "duration": 18,
        "start_time": "2023-06-12T19:08:34.285Z"
      },
      {
        "duration": 31,
        "start_time": "2023-06-12T19:08:34.304Z"
      },
      {
        "duration": 121,
        "start_time": "2023-06-12T19:08:34.338Z"
      },
      {
        "duration": 31,
        "start_time": "2023-06-12T19:08:34.461Z"
      },
      {
        "duration": 139,
        "start_time": "2023-06-12T19:08:34.494Z"
      },
      {
        "duration": 143,
        "start_time": "2023-06-12T19:08:34.634Z"
      },
      {
        "duration": 96,
        "start_time": "2023-06-12T19:10:17.353Z"
      },
      {
        "duration": 112,
        "start_time": "2023-06-12T19:10:45.988Z"
      },
      {
        "duration": 106,
        "start_time": "2023-06-12T19:11:06.499Z"
      },
      {
        "duration": 95,
        "start_time": "2023-06-12T19:12:18.633Z"
      },
      {
        "duration": 2104,
        "start_time": "2023-06-12T19:12:29.923Z"
      },
      {
        "duration": 27,
        "start_time": "2023-06-12T19:12:34.113Z"
      },
      {
        "duration": 596,
        "start_time": "2023-06-12T19:15:41.725Z"
      },
      {
        "duration": 25,
        "start_time": "2023-06-12T19:20:33.495Z"
      },
      {
        "duration": 36,
        "start_time": "2023-06-12T19:20:34.639Z"
      },
      {
        "duration": 20,
        "start_time": "2023-06-12T19:28:34.790Z"
      },
      {
        "duration": 26,
        "start_time": "2023-06-12T19:28:57.293Z"
      },
      {
        "duration": 18,
        "start_time": "2023-06-12T19:29:25.631Z"
      },
      {
        "duration": 28,
        "start_time": "2023-06-12T19:29:26.157Z"
      },
      {
        "duration": 24,
        "start_time": "2023-06-12T19:33:33.416Z"
      },
      {
        "duration": 35,
        "start_time": "2023-06-12T19:33:42.423Z"
      },
      {
        "duration": 25,
        "start_time": "2023-06-12T19:39:30.040Z"
      },
      {
        "duration": 33,
        "start_time": "2023-06-12T19:39:33.949Z"
      },
      {
        "duration": 111,
        "start_time": "2023-06-12T19:40:33.956Z"
      },
      {
        "duration": 131,
        "start_time": "2023-06-12T19:40:35.805Z"
      },
      {
        "duration": 120,
        "start_time": "2023-06-12T19:46:42.580Z"
      },
      {
        "duration": 11,
        "start_time": "2023-06-12T19:54:47.525Z"
      },
      {
        "duration": 75,
        "start_time": "2023-06-12T19:55:11.255Z"
      },
      {
        "duration": 67,
        "start_time": "2023-06-12T19:56:28.318Z"
      },
      {
        "duration": 1516,
        "start_time": "2023-06-12T19:58:36.880Z"
      },
      {
        "duration": 1010,
        "start_time": "2023-06-12T19:58:38.398Z"
      },
      {
        "duration": 105,
        "start_time": "2023-06-12T19:58:39.410Z"
      },
      {
        "duration": 26,
        "start_time": "2023-06-12T19:58:39.517Z"
      },
      {
        "duration": 13,
        "start_time": "2023-06-12T19:58:39.545Z"
      },
      {
        "duration": 35,
        "start_time": "2023-06-12T19:58:39.560Z"
      },
      {
        "duration": 137,
        "start_time": "2023-06-12T19:58:39.597Z"
      },
      {
        "duration": 4,
        "start_time": "2023-06-12T19:58:39.736Z"
      },
      {
        "duration": 703,
        "start_time": "2023-06-12T19:58:39.742Z"
      },
      {
        "duration": 53,
        "start_time": "2023-06-12T19:58:40.447Z"
      },
      {
        "duration": 732,
        "start_time": "2023-06-12T19:58:40.502Z"
      },
      {
        "duration": 50,
        "start_time": "2023-06-12T19:58:41.236Z"
      },
      {
        "duration": 577,
        "start_time": "2023-06-12T19:58:41.288Z"
      },
      {
        "duration": 80,
        "start_time": "2023-06-12T19:58:41.866Z"
      },
      {
        "duration": 594,
        "start_time": "2023-06-12T19:58:41.948Z"
      },
      {
        "duration": 38,
        "start_time": "2023-06-12T19:58:42.543Z"
      },
      {
        "duration": 595,
        "start_time": "2023-06-12T19:58:42.583Z"
      },
      {
        "duration": 75,
        "start_time": "2023-06-12T19:58:43.180Z"
      },
      {
        "duration": 4,
        "start_time": "2023-06-12T19:58:43.257Z"
      },
      {
        "duration": 41,
        "start_time": "2023-06-12T19:58:43.263Z"
      },
      {
        "duration": 660,
        "start_time": "2023-06-12T19:58:43.305Z"
      },
      {
        "duration": 41,
        "start_time": "2023-06-12T19:58:43.967Z"
      },
      {
        "duration": 41,
        "start_time": "2023-06-12T19:58:44.010Z"
      },
      {
        "duration": 47,
        "start_time": "2023-06-12T19:58:44.053Z"
      },
      {
        "duration": 29,
        "start_time": "2023-06-12T19:58:44.102Z"
      },
      {
        "duration": 60,
        "start_time": "2023-06-12T19:58:44.133Z"
      },
      {
        "duration": 2340,
        "start_time": "2023-06-12T19:58:44.195Z"
      },
      {
        "duration": 41,
        "start_time": "2023-06-12T19:58:46.540Z"
      },
      {
        "duration": 673,
        "start_time": "2023-06-12T19:58:46.583Z"
      },
      {
        "duration": 42,
        "start_time": "2023-06-12T19:58:47.258Z"
      },
      {
        "duration": 53,
        "start_time": "2023-06-12T19:58:47.301Z"
      },
      {
        "duration": 33,
        "start_time": "2023-06-12T19:58:47.356Z"
      },
      {
        "duration": 35,
        "start_time": "2023-06-12T19:58:47.392Z"
      },
      {
        "duration": 55,
        "start_time": "2023-06-12T19:58:47.429Z"
      },
      {
        "duration": 53,
        "start_time": "2023-06-12T19:58:47.487Z"
      },
      {
        "duration": 55,
        "start_time": "2023-06-12T19:58:47.542Z"
      },
      {
        "duration": 45,
        "start_time": "2023-06-12T19:58:47.598Z"
      },
      {
        "duration": 163,
        "start_time": "2023-06-12T19:58:47.645Z"
      },
      {
        "duration": 144,
        "start_time": "2023-06-12T19:58:47.810Z"
      },
      {
        "duration": 75,
        "start_time": "2023-06-12T19:58:47.956Z"
      },
      {
        "duration": 61,
        "start_time": "2023-06-12T20:09:38.055Z"
      },
      {
        "duration": 8,
        "start_time": "2023-06-12T20:09:39.073Z"
      },
      {
        "duration": 5,
        "start_time": "2023-06-12T20:10:07.228Z"
      },
      {
        "duration": 4,
        "start_time": "2023-06-12T20:10:21.807Z"
      },
      {
        "duration": 65,
        "start_time": "2023-06-12T20:11:31.160Z"
      },
      {
        "duration": 12,
        "start_time": "2023-06-12T20:11:31.727Z"
      },
      {
        "duration": 4,
        "start_time": "2023-06-12T20:11:32.304Z"
      },
      {
        "duration": 4,
        "start_time": "2023-06-12T20:11:32.896Z"
      },
      {
        "duration": 1060,
        "start_time": "2023-06-12T20:19:50.525Z"
      },
      {
        "duration": 116,
        "start_time": "2023-06-12T20:20:33.282Z"
      },
      {
        "duration": 3,
        "start_time": "2023-06-12T20:30:01.702Z"
      },
      {
        "duration": 235170,
        "start_time": "2023-06-12T20:30:05.718Z"
      },
      {
        "duration": 237188,
        "start_time": "2023-06-12T20:34:58.173Z"
      },
      {
        "duration": 235793,
        "start_time": "2023-06-12T20:39:40.757Z"
      },
      {
        "duration": 4,
        "start_time": "2023-06-12T20:43:49.870Z"
      },
      {
        "duration": 5,
        "start_time": "2023-06-12T20:44:29.749Z"
      },
      {
        "duration": 2231,
        "start_time": "2023-06-12T20:47:15.871Z"
      },
      {
        "duration": 15,
        "start_time": "2023-06-12T20:48:15.224Z"
      },
      {
        "duration": 546,
        "start_time": "2023-06-12T20:50:45.791Z"
      },
      {
        "duration": 3,
        "start_time": "2023-06-12T20:50:51.404Z"
      },
      {
        "duration": 5,
        "start_time": "2023-06-12T20:51:07.208Z"
      },
      {
        "duration": 2,
        "start_time": "2023-06-12T20:53:49.486Z"
      },
      {
        "duration": 33,
        "start_time": "2023-06-12T20:54:06.225Z"
      },
      {
        "duration": 2,
        "start_time": "2023-06-12T20:57:23.854Z"
      },
      {
        "duration": 4843,
        "start_time": "2023-06-12T20:57:37.135Z"
      },
      {
        "duration": 611,
        "start_time": "2023-06-12T20:57:46.870Z"
      },
      {
        "duration": 5,
        "start_time": "2023-06-12T20:57:52.638Z"
      },
      {
        "duration": 1282,
        "start_time": "2023-06-12T21:01:53.810Z"
      },
      {
        "duration": 3,
        "start_time": "2023-06-12T21:02:10.322Z"
      },
      {
        "duration": 57,
        "start_time": "2023-06-12T21:02:31.841Z"
      },
      {
        "duration": 10,
        "start_time": "2023-06-12T21:02:52.499Z"
      },
      {
        "duration": 9935,
        "start_time": "2023-06-12T21:03:19.050Z"
      },
      {
        "duration": 17,
        "start_time": "2023-06-12T21:04:27.435Z"
      },
      {
        "duration": 6,
        "start_time": "2023-06-12T21:04:45.421Z"
      },
      {
        "duration": 4,
        "start_time": "2023-06-12T21:09:48.999Z"
      },
      {
        "duration": 17225,
        "start_time": "2023-06-12T21:10:58.253Z"
      },
      {
        "duration": 4,
        "start_time": "2023-06-12T21:12:53.817Z"
      },
      {
        "duration": 76,
        "start_time": "2023-06-12T21:12:57.932Z"
      },
      {
        "duration": 5,
        "start_time": "2023-06-12T21:13:01.868Z"
      },
      {
        "duration": 3,
        "start_time": "2023-06-12T21:14:30.140Z"
      },
      {
        "duration": 2927,
        "start_time": "2023-06-12T21:15:24.362Z"
      },
      {
        "duration": 284,
        "start_time": "2023-06-12T21:15:29.810Z"
      },
      {
        "duration": 5,
        "start_time": "2023-06-12T21:15:32.178Z"
      },
      {
        "duration": 47,
        "start_time": "2023-06-13T07:30:48.253Z"
      },
      {
        "duration": 1863,
        "start_time": "2023-06-13T07:31:59.859Z"
      },
      {
        "duration": 1274,
        "start_time": "2023-06-13T07:32:01.724Z"
      },
      {
        "duration": 84,
        "start_time": "2023-06-13T07:32:03.000Z"
      },
      {
        "duration": 27,
        "start_time": "2023-06-13T07:32:03.086Z"
      },
      {
        "duration": 34,
        "start_time": "2023-06-13T07:32:03.116Z"
      },
      {
        "duration": 46,
        "start_time": "2023-06-13T07:32:03.151Z"
      },
      {
        "duration": 116,
        "start_time": "2023-06-13T07:32:03.199Z"
      },
      {
        "duration": 5,
        "start_time": "2023-06-13T07:32:03.322Z"
      },
      {
        "duration": 718,
        "start_time": "2023-06-13T07:32:03.328Z"
      },
      {
        "duration": 40,
        "start_time": "2023-06-13T07:32:04.049Z"
      },
      {
        "duration": 683,
        "start_time": "2023-06-13T07:32:04.091Z"
      },
      {
        "duration": 28,
        "start_time": "2023-06-13T07:32:04.776Z"
      },
      {
        "duration": 617,
        "start_time": "2023-06-13T07:32:04.805Z"
      },
      {
        "duration": 80,
        "start_time": "2023-06-13T07:32:05.424Z"
      },
      {
        "duration": 610,
        "start_time": "2023-06-13T07:32:05.505Z"
      },
      {
        "duration": 39,
        "start_time": "2023-06-13T07:32:06.117Z"
      },
      {
        "duration": 634,
        "start_time": "2023-06-13T07:32:06.157Z"
      },
      {
        "duration": 67,
        "start_time": "2023-06-13T07:32:06.793Z"
      },
      {
        "duration": 6,
        "start_time": "2023-06-13T07:32:06.862Z"
      },
      {
        "duration": 31,
        "start_time": "2023-06-13T07:32:06.869Z"
      },
      {
        "duration": 511,
        "start_time": "2023-06-13T07:32:06.901Z"
      },
      {
        "duration": 28,
        "start_time": "2023-06-13T07:32:07.413Z"
      },
      {
        "duration": 40,
        "start_time": "2023-06-13T07:32:07.443Z"
      },
      {
        "duration": 35,
        "start_time": "2023-06-13T07:32:07.485Z"
      },
      {
        "duration": 25,
        "start_time": "2023-06-13T07:32:07.522Z"
      },
      {
        "duration": 40,
        "start_time": "2023-06-13T07:32:07.548Z"
      },
      {
        "duration": 2067,
        "start_time": "2023-06-13T07:32:07.590Z"
      },
      {
        "duration": 24,
        "start_time": "2023-06-13T07:32:09.661Z"
      },
      {
        "duration": 628,
        "start_time": "2023-06-13T07:32:09.686Z"
      },
      {
        "duration": 37,
        "start_time": "2023-06-13T07:32:10.316Z"
      },
      {
        "duration": 38,
        "start_time": "2023-06-13T07:32:10.354Z"
      },
      {
        "duration": 31,
        "start_time": "2023-06-13T07:32:10.394Z"
      },
      {
        "duration": 31,
        "start_time": "2023-06-13T07:32:10.427Z"
      },
      {
        "duration": 37,
        "start_time": "2023-06-13T07:32:10.460Z"
      },
      {
        "duration": 56,
        "start_time": "2023-06-13T07:32:10.498Z"
      },
      {
        "duration": 100,
        "start_time": "2023-06-13T07:32:10.556Z"
      },
      {
        "duration": 46,
        "start_time": "2023-06-13T07:32:10.658Z"
      },
      {
        "duration": 141,
        "start_time": "2023-06-13T07:32:10.705Z"
      },
      {
        "duration": 158,
        "start_time": "2023-06-13T07:32:10.848Z"
      },
      {
        "duration": 69,
        "start_time": "2023-06-13T07:32:11.008Z"
      },
      {
        "duration": 68,
        "start_time": "2023-06-13T07:32:11.079Z"
      },
      {
        "duration": 19,
        "start_time": "2023-06-13T07:32:11.149Z"
      },
      {
        "duration": 5,
        "start_time": "2023-06-13T07:32:11.169Z"
      },
      {
        "duration": 5,
        "start_time": "2023-06-13T07:32:11.176Z"
      },
      {
        "duration": 161,
        "start_time": "2023-06-13T07:32:11.182Z"
      },
      {
        "duration": 3,
        "start_time": "2023-06-13T07:32:11.345Z"
      },
      {
        "duration": 1475,
        "start_time": "2023-06-13T07:38:35.000Z"
      },
      {
        "duration": 894,
        "start_time": "2023-06-13T07:38:36.476Z"
      },
      {
        "duration": 79,
        "start_time": "2023-06-13T07:38:37.371Z"
      },
      {
        "duration": 25,
        "start_time": "2023-06-13T07:38:37.452Z"
      },
      {
        "duration": 8,
        "start_time": "2023-06-13T07:38:37.478Z"
      },
      {
        "duration": 32,
        "start_time": "2023-06-13T07:38:37.488Z"
      },
      {
        "duration": 116,
        "start_time": "2023-06-13T07:38:37.521Z"
      },
      {
        "duration": 4,
        "start_time": "2023-06-13T07:38:37.639Z"
      },
      {
        "duration": 685,
        "start_time": "2023-06-13T07:38:37.644Z"
      },
      {
        "duration": 40,
        "start_time": "2023-06-13T07:38:38.333Z"
      },
      {
        "duration": 661,
        "start_time": "2023-06-13T07:38:38.374Z"
      },
      {
        "duration": 27,
        "start_time": "2023-06-13T07:38:39.036Z"
      },
      {
        "duration": 539,
        "start_time": "2023-06-13T07:38:39.065Z"
      },
      {
        "duration": 67,
        "start_time": "2023-06-13T07:38:39.606Z"
      },
      {
        "duration": 558,
        "start_time": "2023-06-13T07:38:39.675Z"
      },
      {
        "duration": 28,
        "start_time": "2023-06-13T07:38:40.237Z"
      },
      {
        "duration": 555,
        "start_time": "2023-06-13T07:38:40.266Z"
      },
      {
        "duration": 56,
        "start_time": "2023-06-13T07:38:40.823Z"
      },
      {
        "duration": 5,
        "start_time": "2023-06-13T07:38:40.880Z"
      },
      {
        "duration": 41,
        "start_time": "2023-06-13T07:38:40.887Z"
      },
      {
        "duration": 591,
        "start_time": "2023-06-13T07:38:40.929Z"
      },
      {
        "duration": 35,
        "start_time": "2023-06-13T07:38:41.522Z"
      },
      {
        "duration": 34,
        "start_time": "2023-06-13T07:38:41.558Z"
      },
      {
        "duration": 43,
        "start_time": "2023-06-13T07:38:41.593Z"
      },
      {
        "duration": 16,
        "start_time": "2023-06-13T07:38:41.638Z"
      },
      {
        "duration": 30,
        "start_time": "2023-06-13T07:38:41.656Z"
      },
      {
        "duration": 1831,
        "start_time": "2023-06-13T07:38:41.688Z"
      },
      {
        "duration": 27,
        "start_time": "2023-06-13T07:38:43.523Z"
      },
      {
        "duration": 596,
        "start_time": "2023-06-13T07:38:43.551Z"
      },
      {
        "duration": 25,
        "start_time": "2023-06-13T07:38:44.148Z"
      },
      {
        "duration": 45,
        "start_time": "2023-06-13T07:38:44.174Z"
      },
      {
        "duration": 20,
        "start_time": "2023-06-13T07:38:44.221Z"
      },
      {
        "duration": 36,
        "start_time": "2023-06-13T07:38:44.243Z"
      },
      {
        "duration": 50,
        "start_time": "2023-06-13T07:38:44.281Z"
      },
      {
        "duration": 49,
        "start_time": "2023-06-13T07:38:44.332Z"
      },
      {
        "duration": 24,
        "start_time": "2023-06-13T07:38:44.383Z"
      },
      {
        "duration": 86,
        "start_time": "2023-06-13T07:38:44.409Z"
      },
      {
        "duration": 155,
        "start_time": "2023-06-13T07:38:44.496Z"
      },
      {
        "duration": 137,
        "start_time": "2023-06-13T07:38:44.652Z"
      },
      {
        "duration": 65,
        "start_time": "2023-06-13T07:38:44.790Z"
      },
      {
        "duration": 44,
        "start_time": "2023-06-13T07:38:44.856Z"
      },
      {
        "duration": 6,
        "start_time": "2023-06-13T07:38:44.902Z"
      },
      {
        "duration": 36,
        "start_time": "2023-06-13T07:38:44.909Z"
      },
      {
        "duration": 29,
        "start_time": "2023-06-13T07:38:44.947Z"
      },
      {
        "duration": 134,
        "start_time": "2023-06-13T07:38:44.977Z"
      },
      {
        "duration": 2,
        "start_time": "2023-06-13T07:38:45.113Z"
      },
      {
        "duration": 802020,
        "start_time": "2023-06-13T07:38:45.117Z"
      },
      {
        "duration": 715,
        "start_time": "2023-06-13T07:52:07.216Z"
      },
      {
        "duration": 4,
        "start_time": "2023-06-13T07:52:07.933Z"
      },
      {
        "duration": 46,
        "start_time": "2023-06-13T07:52:07.938Z"
      },
      {
        "duration": 199284,
        "start_time": "2023-06-13T07:52:07.985Z"
      },
      {
        "duration": 3,
        "start_time": "2023-06-13T07:55:27.270Z"
      },
      {
        "duration": 443,
        "start_time": "2023-06-13T07:55:27.274Z"
      },
      {
        "duration": 4,
        "start_time": "2023-06-13T07:55:27.720Z"
      },
      {
        "duration": 1159,
        "start_time": "2023-06-13T07:55:27.726Z"
      },
      {
        "duration": 3,
        "start_time": "2023-06-13T07:55:28.887Z"
      },
      {
        "duration": 17525,
        "start_time": "2023-06-13T07:55:28.891Z"
      },
      {
        "duration": 23,
        "start_time": "2023-06-13T07:55:46.417Z"
      },
      {
        "duration": 11,
        "start_time": "2023-06-13T07:55:46.522Z"
      },
      {
        "duration": 83,
        "start_time": "2023-06-13T07:55:46.534Z"
      },
      {
        "duration": 17983,
        "start_time": "2023-06-13T07:55:46.619Z"
      },
      {
        "duration": 3,
        "start_time": "2023-06-13T07:56:04.604Z"
      },
      {
        "duration": 101,
        "start_time": "2023-06-13T07:56:04.608Z"
      },
      {
        "duration": 4,
        "start_time": "2023-06-13T07:56:04.711Z"
      },
      {
        "duration": 25,
        "start_time": "2023-06-13T07:56:04.717Z"
      },
      {
        "duration": 537177,
        "start_time": "2023-06-13T07:56:04.744Z"
      },
      {
        "duration": 520,
        "start_time": "2023-06-13T08:05:01.924Z"
      },
      {
        "duration": 5,
        "start_time": "2023-06-13T08:05:02.445Z"
      },
      {
        "duration": 3,
        "start_time": "2023-06-13T08:15:01.476Z"
      },
      {
        "duration": 13280,
        "start_time": "2023-06-13T08:15:01.713Z"
      },
      {
        "duration": 1414,
        "start_time": "2023-06-13T08:17:53.370Z"
      },
      {
        "duration": 1049,
        "start_time": "2023-06-13T08:17:54.788Z"
      },
      {
        "duration": 101,
        "start_time": "2023-06-13T08:17:55.839Z"
      },
      {
        "duration": 29,
        "start_time": "2023-06-13T08:17:55.942Z"
      },
      {
        "duration": 39,
        "start_time": "2023-06-13T08:17:55.973Z"
      },
      {
        "duration": 69,
        "start_time": "2023-06-13T08:17:56.013Z"
      },
      {
        "duration": 163,
        "start_time": "2023-06-13T08:17:56.084Z"
      },
      {
        "duration": 4,
        "start_time": "2023-06-13T08:17:56.248Z"
      },
      {
        "duration": 803,
        "start_time": "2023-06-13T08:17:56.254Z"
      },
      {
        "duration": 41,
        "start_time": "2023-06-13T08:17:57.059Z"
      },
      {
        "duration": 732,
        "start_time": "2023-06-13T08:17:57.102Z"
      },
      {
        "duration": 32,
        "start_time": "2023-06-13T08:17:57.837Z"
      },
      {
        "duration": 593,
        "start_time": "2023-06-13T08:17:57.872Z"
      },
      {
        "duration": 88,
        "start_time": "2023-06-13T08:17:58.468Z"
      },
      {
        "duration": 595,
        "start_time": "2023-06-13T08:17:58.558Z"
      },
      {
        "duration": 26,
        "start_time": "2023-06-13T08:17:59.154Z"
      },
      {
        "duration": 654,
        "start_time": "2023-06-13T08:17:59.181Z"
      },
      {
        "duration": 59,
        "start_time": "2023-06-13T08:17:59.837Z"
      },
      {
        "duration": 4,
        "start_time": "2023-06-13T08:17:59.898Z"
      },
      {
        "duration": 37,
        "start_time": "2023-06-13T08:17:59.904Z"
      },
      {
        "duration": 618,
        "start_time": "2023-06-13T08:17:59.947Z"
      },
      {
        "duration": 25,
        "start_time": "2023-06-13T08:18:00.566Z"
      },
      {
        "duration": 92,
        "start_time": "2023-06-13T08:18:00.593Z"
      },
      {
        "duration": 55,
        "start_time": "2023-06-13T08:18:00.686Z"
      },
      {
        "duration": 72,
        "start_time": "2023-06-13T08:18:00.743Z"
      },
      {
        "duration": 84,
        "start_time": "2023-06-13T08:18:00.818Z"
      },
      {
        "duration": 2335,
        "start_time": "2023-06-13T08:18:00.904Z"
      },
      {
        "duration": 28,
        "start_time": "2023-06-13T08:18:03.242Z"
      },
      {
        "duration": 871,
        "start_time": "2023-06-13T08:18:03.271Z"
      },
      {
        "duration": 28,
        "start_time": "2023-06-13T08:18:04.143Z"
      },
      {
        "duration": 180,
        "start_time": "2023-06-13T08:18:04.172Z"
      },
      {
        "duration": 189,
        "start_time": "2023-06-13T08:18:04.354Z"
      },
      {
        "duration": 140,
        "start_time": "2023-06-13T08:18:04.544Z"
      },
      {
        "duration": 159,
        "start_time": "2023-06-13T08:18:04.685Z"
      },
      {
        "duration": 139,
        "start_time": "2023-06-13T08:18:04.845Z"
      },
      {
        "duration": 90,
        "start_time": "2023-06-13T08:18:04.986Z"
      },
      {
        "duration": 103,
        "start_time": "2023-06-13T08:18:05.077Z"
      },
      {
        "duration": 217,
        "start_time": "2023-06-13T08:18:05.182Z"
      },
      {
        "duration": 182,
        "start_time": "2023-06-13T08:18:05.401Z"
      },
      {
        "duration": 96,
        "start_time": "2023-06-13T08:18:05.585Z"
      },
      {
        "duration": 69,
        "start_time": "2023-06-13T08:18:05.687Z"
      },
      {
        "duration": 19,
        "start_time": "2023-06-13T08:18:05.759Z"
      },
      {
        "duration": 24,
        "start_time": "2023-06-13T08:18:05.780Z"
      },
      {
        "duration": 42,
        "start_time": "2023-06-13T08:18:05.805Z"
      },
      {
        "duration": 191,
        "start_time": "2023-06-13T08:18:05.849Z"
      },
      {
        "duration": 3,
        "start_time": "2023-06-13T08:18:06.042Z"
      },
      {
        "duration": 623688,
        "start_time": "2023-06-13T08:18:06.046Z"
      },
      {
        "duration": 711,
        "start_time": "2023-06-13T08:28:29.738Z"
      },
      {
        "duration": 8,
        "start_time": "2023-06-13T08:28:30.525Z"
      },
      {
        "duration": 105,
        "start_time": "2023-06-13T08:28:30.534Z"
      },
      {
        "duration": 205870,
        "start_time": "2023-06-13T08:28:30.640Z"
      },
      {
        "duration": 2,
        "start_time": "2023-06-13T08:31:56.512Z"
      },
      {
        "duration": 553,
        "start_time": "2023-06-13T08:31:56.516Z"
      },
      {
        "duration": 5,
        "start_time": "2023-06-13T08:31:57.071Z"
      },
      {
        "duration": 1212,
        "start_time": "2023-06-13T08:31:57.078Z"
      },
      {
        "duration": 3,
        "start_time": "2023-06-13T08:31:58.291Z"
      },
      {
        "duration": 27537,
        "start_time": "2023-06-13T08:31:58.295Z"
      },
      {
        "duration": 188,
        "start_time": "2023-06-13T08:32:25.837Z"
      },
      {
        "duration": 11,
        "start_time": "2023-06-13T08:32:26.034Z"
      },
      {
        "duration": 75,
        "start_time": "2023-06-13T08:32:26.046Z"
      },
      {
        "duration": 385411,
        "start_time": "2023-06-13T08:32:26.122Z"
      },
      {
        "duration": 480,
        "start_time": "2023-06-13T08:38:51.535Z"
      },
      {
        "duration": 5,
        "start_time": "2023-06-13T08:38:52.016Z"
      },
      {
        "duration": 57,
        "start_time": "2023-06-13T08:38:52.022Z"
      },
      {
        "duration": 20285,
        "start_time": "2023-06-13T08:38:52.082Z"
      },
      {
        "duration": 3,
        "start_time": "2023-06-13T08:39:12.368Z"
      },
      {
        "duration": 100,
        "start_time": "2023-06-13T08:39:12.373Z"
      },
      {
        "duration": 4,
        "start_time": "2023-06-13T08:39:12.475Z"
      },
      {
        "duration": 4,
        "start_time": "2023-06-13T08:40:55.141Z"
      },
      {
        "duration": 14188,
        "start_time": "2023-06-13T08:40:56.039Z"
      },
      {
        "duration": 11,
        "start_time": "2023-06-13T08:42:01.242Z"
      },
      {
        "duration": 8449,
        "start_time": "2023-06-13T08:42:02.006Z"
      },
      {
        "duration": 2,
        "start_time": "2023-06-13T08:42:17.460Z"
      },
      {
        "duration": 89,
        "start_time": "2023-06-13T08:42:19.707Z"
      },
      {
        "duration": 5,
        "start_time": "2023-06-13T08:42:21.752Z"
      },
      {
        "duration": 4,
        "start_time": "2023-06-13T08:42:53.542Z"
      },
      {
        "duration": 14340,
        "start_time": "2023-06-13T08:42:54.403Z"
      },
      {
        "duration": 4,
        "start_time": "2023-06-13T08:43:15.096Z"
      },
      {
        "duration": 82,
        "start_time": "2023-06-13T08:43:15.978Z"
      },
      {
        "duration": 5,
        "start_time": "2023-06-13T08:43:19.269Z"
      },
      {
        "duration": 2361,
        "start_time": "2023-06-13T08:54:13.464Z"
      },
      {
        "duration": 885,
        "start_time": "2023-06-13T08:54:15.827Z"
      },
      {
        "duration": 83,
        "start_time": "2023-06-13T08:54:16.713Z"
      },
      {
        "duration": 35,
        "start_time": "2023-06-13T08:54:16.798Z"
      },
      {
        "duration": 12,
        "start_time": "2023-06-13T08:54:16.835Z"
      },
      {
        "duration": 30,
        "start_time": "2023-06-13T08:54:16.849Z"
      },
      {
        "duration": 96,
        "start_time": "2023-06-13T08:54:16.880Z"
      },
      {
        "duration": 3,
        "start_time": "2023-06-13T08:54:16.978Z"
      },
      {
        "duration": 609,
        "start_time": "2023-06-13T08:54:16.982Z"
      },
      {
        "duration": 45,
        "start_time": "2023-06-13T08:54:17.593Z"
      },
      {
        "duration": 632,
        "start_time": "2023-06-13T08:54:17.639Z"
      },
      {
        "duration": 25,
        "start_time": "2023-06-13T08:54:18.273Z"
      },
      {
        "duration": 528,
        "start_time": "2023-06-13T08:54:18.300Z"
      },
      {
        "duration": 66,
        "start_time": "2023-06-13T08:54:18.830Z"
      },
      {
        "duration": 526,
        "start_time": "2023-06-13T08:54:18.898Z"
      },
      {
        "duration": 24,
        "start_time": "2023-06-13T08:54:19.426Z"
      },
      {
        "duration": 548,
        "start_time": "2023-06-13T08:54:19.451Z"
      },
      {
        "duration": 60,
        "start_time": "2023-06-13T08:54:20.000Z"
      },
      {
        "duration": 4,
        "start_time": "2023-06-13T08:54:20.062Z"
      },
      {
        "duration": 48,
        "start_time": "2023-06-13T08:54:20.068Z"
      },
      {
        "duration": 571,
        "start_time": "2023-06-13T08:54:20.118Z"
      },
      {
        "duration": 28,
        "start_time": "2023-06-13T08:54:20.691Z"
      },
      {
        "duration": 49,
        "start_time": "2023-06-13T08:54:20.720Z"
      },
      {
        "duration": 19,
        "start_time": "2023-06-13T08:54:20.770Z"
      },
      {
        "duration": 42,
        "start_time": "2023-06-13T08:54:20.791Z"
      },
      {
        "duration": 37,
        "start_time": "2023-06-13T08:54:20.834Z"
      },
      {
        "duration": 1808,
        "start_time": "2023-06-13T08:54:20.872Z"
      },
      {
        "duration": 23,
        "start_time": "2023-06-13T08:54:22.684Z"
      },
      {
        "duration": 561,
        "start_time": "2023-06-13T08:54:22.715Z"
      },
      {
        "duration": 24,
        "start_time": "2023-06-13T08:54:23.277Z"
      },
      {
        "duration": 46,
        "start_time": "2023-06-13T08:54:23.303Z"
      },
      {
        "duration": 34,
        "start_time": "2023-06-13T08:54:23.351Z"
      },
      {
        "duration": 34,
        "start_time": "2023-06-13T08:54:23.386Z"
      },
      {
        "duration": 35,
        "start_time": "2023-06-13T08:54:23.421Z"
      },
      {
        "duration": 82,
        "start_time": "2023-06-13T08:54:23.457Z"
      },
      {
        "duration": 49,
        "start_time": "2023-06-13T08:54:23.540Z"
      },
      {
        "duration": 70,
        "start_time": "2023-06-13T08:54:23.591Z"
      },
      {
        "duration": 150,
        "start_time": "2023-06-13T08:54:23.662Z"
      },
      {
        "duration": 136,
        "start_time": "2023-06-13T08:54:23.815Z"
      },
      {
        "duration": 51,
        "start_time": "2023-06-13T08:54:23.953Z"
      },
      {
        "duration": 77,
        "start_time": "2023-06-13T08:54:24.006Z"
      },
      {
        "duration": 6,
        "start_time": "2023-06-13T08:54:24.085Z"
      },
      {
        "duration": 41,
        "start_time": "2023-06-13T08:54:24.093Z"
      },
      {
        "duration": 28,
        "start_time": "2023-06-13T08:54:24.136Z"
      },
      {
        "duration": 126,
        "start_time": "2023-06-13T08:54:24.165Z"
      },
      {
        "duration": 2,
        "start_time": "2023-06-13T08:54:24.293Z"
      },
      {
        "duration": 4825,
        "start_time": "2023-06-13T08:54:24.297Z"
      },
      {
        "duration": 698,
        "start_time": "2023-06-13T08:54:29.123Z"
      },
      {
        "duration": 4,
        "start_time": "2023-06-13T08:54:29.825Z"
      },
      {
        "duration": 86,
        "start_time": "2023-06-13T08:54:29.830Z"
      },
      {
        "duration": 185330,
        "start_time": "2023-06-13T08:54:29.919Z"
      },
      {
        "duration": 3,
        "start_time": "2023-06-13T08:57:35.251Z"
      },
      {
        "duration": 481,
        "start_time": "2023-06-13T08:57:35.256Z"
      },
      {
        "duration": 4,
        "start_time": "2023-06-13T08:57:35.738Z"
      },
      {
        "duration": 1137,
        "start_time": "2023-06-13T08:57:35.743Z"
      },
      {
        "duration": 3,
        "start_time": "2023-06-13T08:57:36.882Z"
      },
      {
        "duration": 9534,
        "start_time": "2023-06-13T08:57:36.886Z"
      },
      {
        "duration": 99,
        "start_time": "2023-06-13T08:57:46.422Z"
      },
      {
        "duration": 106,
        "start_time": "2023-06-13T08:57:46.522Z"
      },
      {
        "duration": 106,
        "start_time": "2023-06-13T08:57:46.630Z"
      },
      {
        "duration": 4082,
        "start_time": "2023-06-13T08:57:46.738Z"
      },
      {
        "duration": 398,
        "start_time": "2023-06-13T08:57:50.824Z"
      },
      {
        "duration": 93,
        "start_time": "2023-06-13T08:57:51.224Z"
      },
      {
        "duration": 17,
        "start_time": "2023-06-13T08:57:51.318Z"
      },
      {
        "duration": 11473,
        "start_time": "2023-06-13T08:57:51.337Z"
      },
      {
        "duration": 4,
        "start_time": "2023-06-13T08:58:02.812Z"
      },
      {
        "duration": 83,
        "start_time": "2023-06-13T08:58:02.817Z"
      },
      {
        "duration": 5,
        "start_time": "2023-06-13T08:58:02.902Z"
      },
      {
        "duration": 1542,
        "start_time": "2023-06-13T18:29:09.301Z"
      },
      {
        "duration": 1102,
        "start_time": "2023-06-13T18:29:10.845Z"
      },
      {
        "duration": 90,
        "start_time": "2023-06-13T18:29:11.951Z"
      },
      {
        "duration": 29,
        "start_time": "2023-06-13T18:29:12.050Z"
      },
      {
        "duration": 5,
        "start_time": "2023-06-13T18:29:12.081Z"
      },
      {
        "duration": 17,
        "start_time": "2023-06-13T18:29:12.088Z"
      },
      {
        "duration": 116,
        "start_time": "2023-06-13T18:29:12.107Z"
      },
      {
        "duration": 6,
        "start_time": "2023-06-13T18:29:12.226Z"
      },
      {
        "duration": 775,
        "start_time": "2023-06-13T18:29:12.235Z"
      },
      {
        "duration": 54,
        "start_time": "2023-06-13T18:29:13.013Z"
      },
      {
        "duration": 757,
        "start_time": "2023-06-13T18:29:13.069Z"
      },
      {
        "duration": 39,
        "start_time": "2023-06-13T18:29:13.828Z"
      },
      {
        "duration": 703,
        "start_time": "2023-06-13T18:29:13.869Z"
      },
      {
        "duration": 94,
        "start_time": "2023-06-13T18:29:14.573Z"
      },
      {
        "duration": 633,
        "start_time": "2023-06-13T18:29:14.669Z"
      },
      {
        "duration": 26,
        "start_time": "2023-06-13T18:29:15.304Z"
      },
      {
        "duration": 732,
        "start_time": "2023-06-13T18:29:15.332Z"
      },
      {
        "duration": 62,
        "start_time": "2023-06-13T18:29:16.066Z"
      },
      {
        "duration": 5,
        "start_time": "2023-06-13T18:29:16.130Z"
      },
      {
        "duration": 42,
        "start_time": "2023-06-13T18:29:16.136Z"
      },
      {
        "duration": 678,
        "start_time": "2023-06-13T18:29:16.180Z"
      },
      {
        "duration": 29,
        "start_time": "2023-06-13T18:29:16.860Z"
      },
      {
        "duration": 34,
        "start_time": "2023-06-13T18:29:16.891Z"
      },
      {
        "duration": 51,
        "start_time": "2023-06-13T18:29:16.927Z"
      },
      {
        "duration": 27,
        "start_time": "2023-06-13T18:29:16.980Z"
      },
      {
        "duration": 53,
        "start_time": "2023-06-13T18:29:17.010Z"
      },
      {
        "duration": 2150,
        "start_time": "2023-06-13T18:29:17.065Z"
      },
      {
        "duration": 34,
        "start_time": "2023-06-13T18:29:19.219Z"
      },
      {
        "duration": 731,
        "start_time": "2023-06-13T18:29:19.255Z"
      },
      {
        "duration": 37,
        "start_time": "2023-06-13T18:29:19.988Z"
      },
      {
        "duration": 58,
        "start_time": "2023-06-13T18:29:20.028Z"
      },
      {
        "duration": 21,
        "start_time": "2023-06-13T18:29:20.088Z"
      },
      {
        "duration": 56,
        "start_time": "2023-06-13T18:29:20.111Z"
      },
      {
        "duration": 28,
        "start_time": "2023-06-13T18:29:20.169Z"
      },
      {
        "duration": 36,
        "start_time": "2023-06-13T18:29:20.198Z"
      },
      {
        "duration": 41,
        "start_time": "2023-06-13T18:29:20.235Z"
      },
      {
        "duration": 57,
        "start_time": "2023-06-13T18:29:20.278Z"
      },
      {
        "duration": 137,
        "start_time": "2023-06-13T18:29:20.336Z"
      },
      {
        "duration": 136,
        "start_time": "2023-06-13T18:29:20.475Z"
      },
      {
        "duration": 65,
        "start_time": "2023-06-13T18:29:20.613Z"
      },
      {
        "duration": 55,
        "start_time": "2023-06-13T18:29:20.680Z"
      },
      {
        "duration": 27,
        "start_time": "2023-06-13T18:29:20.737Z"
      },
      {
        "duration": 4,
        "start_time": "2023-06-13T18:29:20.766Z"
      },
      {
        "duration": 22,
        "start_time": "2023-06-13T18:29:20.771Z"
      },
      {
        "duration": 147,
        "start_time": "2023-06-13T18:29:20.795Z"
      },
      {
        "duration": 3,
        "start_time": "2023-06-13T18:29:20.944Z"
      },
      {
        "duration": 1643,
        "start_time": "2023-06-13T19:58:46.687Z"
      },
      {
        "duration": 3059,
        "start_time": "2023-06-13T19:58:48.333Z"
      },
      {
        "duration": 77,
        "start_time": "2023-06-13T19:58:51.394Z"
      },
      {
        "duration": 27,
        "start_time": "2023-06-13T19:58:51.474Z"
      },
      {
        "duration": 9,
        "start_time": "2023-06-13T19:58:51.503Z"
      },
      {
        "duration": 18,
        "start_time": "2023-06-13T19:58:51.513Z"
      },
      {
        "duration": 94,
        "start_time": "2023-06-13T19:58:51.532Z"
      },
      {
        "duration": 4,
        "start_time": "2023-06-13T19:58:51.629Z"
      },
      {
        "duration": 663,
        "start_time": "2023-06-13T19:58:51.635Z"
      },
      {
        "duration": 60,
        "start_time": "2023-06-13T19:58:52.302Z"
      },
      {
        "duration": 723,
        "start_time": "2023-06-13T19:58:52.364Z"
      },
      {
        "duration": 28,
        "start_time": "2023-06-13T19:58:53.089Z"
      },
      {
        "duration": 594,
        "start_time": "2023-06-13T19:58:53.119Z"
      },
      {
        "duration": 100,
        "start_time": "2023-06-13T19:58:53.715Z"
      },
      {
        "duration": 570,
        "start_time": "2023-06-13T19:58:53.817Z"
      },
      {
        "duration": 25,
        "start_time": "2023-06-13T19:58:54.388Z"
      },
      {
        "duration": 686,
        "start_time": "2023-06-13T19:58:54.415Z"
      },
      {
        "duration": 77,
        "start_time": "2023-06-13T19:58:55.103Z"
      },
      {
        "duration": 6,
        "start_time": "2023-06-13T19:58:55.182Z"
      },
      {
        "duration": 52,
        "start_time": "2023-06-13T19:58:55.190Z"
      },
      {
        "duration": 526,
        "start_time": "2023-06-13T19:58:55.244Z"
      },
      {
        "duration": 28,
        "start_time": "2023-06-13T19:58:55.772Z"
      },
      {
        "duration": 57,
        "start_time": "2023-06-13T19:58:55.802Z"
      },
      {
        "duration": 20,
        "start_time": "2023-06-13T19:58:55.861Z"
      },
      {
        "duration": 21,
        "start_time": "2023-06-13T19:58:55.882Z"
      },
      {
        "duration": 27,
        "start_time": "2023-06-13T19:58:55.905Z"
      },
      {
        "duration": 1806,
        "start_time": "2023-06-13T19:58:55.958Z"
      },
      {
        "duration": 24,
        "start_time": "2023-06-13T19:58:57.768Z"
      },
      {
        "duration": 647,
        "start_time": "2023-06-13T19:58:57.793Z"
      },
      {
        "duration": 33,
        "start_time": "2023-06-13T19:58:58.442Z"
      },
      {
        "duration": 63,
        "start_time": "2023-06-13T19:58:58.476Z"
      },
      {
        "duration": 20,
        "start_time": "2023-06-13T19:58:58.540Z"
      },
      {
        "duration": 28,
        "start_time": "2023-06-13T19:58:58.561Z"
      },
      {
        "duration": 25,
        "start_time": "2023-06-13T19:58:58.592Z"
      },
      {
        "duration": 49,
        "start_time": "2023-06-13T19:58:58.620Z"
      },
      {
        "duration": 28,
        "start_time": "2023-06-13T19:58:58.671Z"
      },
      {
        "duration": 54,
        "start_time": "2023-06-13T19:58:58.700Z"
      },
      {
        "duration": 154,
        "start_time": "2023-06-13T19:58:58.756Z"
      },
      {
        "duration": 3,
        "start_time": "2023-06-13T19:58:58.912Z"
      },
      {
        "duration": 87,
        "start_time": "2023-06-13T19:58:58.918Z"
      },
      {
        "duration": 105,
        "start_time": "2023-06-13T19:58:59.007Z"
      },
      {
        "duration": 22,
        "start_time": "2023-06-13T19:58:59.114Z"
      },
      {
        "duration": 5,
        "start_time": "2023-06-13T19:58:59.138Z"
      },
      {
        "duration": 4,
        "start_time": "2023-06-13T19:58:59.157Z"
      },
      {
        "duration": 9,
        "start_time": "2023-06-13T19:58:59.163Z"
      },
      {
        "duration": 173,
        "start_time": "2023-06-13T19:58:59.173Z"
      },
      {
        "duration": 2,
        "start_time": "2023-06-13T19:58:59.348Z"
      },
      {
        "duration": 4411,
        "start_time": "2023-06-13T19:58:59.351Z"
      },
      {
        "duration": 497,
        "start_time": "2023-06-13T19:59:03.764Z"
      },
      {
        "duration": 5,
        "start_time": "2023-06-13T19:59:04.262Z"
      },
      {
        "duration": 13,
        "start_time": "2023-06-13T19:59:04.269Z"
      },
      {
        "duration": 201541,
        "start_time": "2023-06-13T19:59:04.284Z"
      },
      {
        "duration": 4,
        "start_time": "2023-06-13T20:02:25.827Z"
      },
      {
        "duration": 337,
        "start_time": "2023-06-13T20:02:25.832Z"
      },
      {
        "duration": 6,
        "start_time": "2023-06-13T20:02:26.171Z"
      },
      {
        "duration": 1599,
        "start_time": "2023-06-13T20:02:26.178Z"
      },
      {
        "duration": 0,
        "start_time": "2023-06-13T20:02:27.779Z"
      },
      {
        "duration": 0,
        "start_time": "2023-06-13T20:02:27.780Z"
      },
      {
        "duration": 0,
        "start_time": "2023-06-13T20:02:27.782Z"
      },
      {
        "duration": 0,
        "start_time": "2023-06-13T20:02:27.784Z"
      },
      {
        "duration": 0,
        "start_time": "2023-06-13T20:02:27.785Z"
      },
      {
        "duration": 0,
        "start_time": "2023-06-13T20:02:27.786Z"
      },
      {
        "duration": 0,
        "start_time": "2023-06-13T20:02:27.789Z"
      },
      {
        "duration": 0,
        "start_time": "2023-06-13T20:02:27.790Z"
      },
      {
        "duration": 1,
        "start_time": "2023-06-13T20:02:27.791Z"
      },
      {
        "duration": 0,
        "start_time": "2023-06-13T20:02:27.793Z"
      },
      {
        "duration": 0,
        "start_time": "2023-06-13T20:02:27.794Z"
      },
      {
        "duration": 0,
        "start_time": "2023-06-13T20:02:27.796Z"
      },
      {
        "duration": 0,
        "start_time": "2023-06-13T20:02:27.797Z"
      },
      {
        "duration": 18,
        "start_time": "2023-06-13T20:05:34.836Z"
      },
      {
        "duration": 1450,
        "start_time": "2023-06-13T20:07:01.589Z"
      },
      {
        "duration": 1005,
        "start_time": "2023-06-13T20:07:03.041Z"
      },
      {
        "duration": 87,
        "start_time": "2023-06-13T20:07:04.048Z"
      },
      {
        "duration": 32,
        "start_time": "2023-06-13T20:07:04.138Z"
      },
      {
        "duration": 8,
        "start_time": "2023-06-13T20:07:04.172Z"
      },
      {
        "duration": 29,
        "start_time": "2023-06-13T20:07:04.182Z"
      },
      {
        "duration": 94,
        "start_time": "2023-06-13T20:07:04.213Z"
      },
      {
        "duration": 3,
        "start_time": "2023-06-13T20:07:04.309Z"
      },
      {
        "duration": 650,
        "start_time": "2023-06-13T20:07:04.314Z"
      },
      {
        "duration": 47,
        "start_time": "2023-06-13T20:07:04.967Z"
      },
      {
        "duration": 743,
        "start_time": "2023-06-13T20:07:05.016Z"
      },
      {
        "duration": 27,
        "start_time": "2023-06-13T20:07:05.760Z"
      },
      {
        "duration": 567,
        "start_time": "2023-06-13T20:07:05.788Z"
      },
      {
        "duration": 84,
        "start_time": "2023-06-13T20:07:06.356Z"
      },
      {
        "duration": 569,
        "start_time": "2023-06-13T20:07:06.441Z"
      },
      {
        "duration": 26,
        "start_time": "2023-06-13T20:07:07.012Z"
      },
      {
        "duration": 641,
        "start_time": "2023-06-13T20:07:07.039Z"
      },
      {
        "duration": 76,
        "start_time": "2023-06-13T20:07:07.681Z"
      },
      {
        "duration": 7,
        "start_time": "2023-06-13T20:07:07.759Z"
      },
      {
        "duration": 28,
        "start_time": "2023-06-13T20:07:07.768Z"
      },
      {
        "duration": 686,
        "start_time": "2023-06-13T20:07:07.798Z"
      },
      {
        "duration": 28,
        "start_time": "2023-06-13T20:07:08.486Z"
      },
      {
        "duration": 53,
        "start_time": "2023-06-13T20:07:08.516Z"
      },
      {
        "duration": 46,
        "start_time": "2023-06-13T20:07:08.571Z"
      },
      {
        "duration": 20,
        "start_time": "2023-06-13T20:07:08.619Z"
      },
      {
        "duration": 27,
        "start_time": "2023-06-13T20:07:08.641Z"
      },
      {
        "duration": 1779,
        "start_time": "2023-06-13T20:07:08.670Z"
      },
      {
        "duration": 24,
        "start_time": "2023-06-13T20:07:10.456Z"
      },
      {
        "duration": 616,
        "start_time": "2023-06-13T20:07:10.482Z"
      },
      {
        "duration": 26,
        "start_time": "2023-06-13T20:07:11.099Z"
      },
      {
        "duration": 45,
        "start_time": "2023-06-13T20:07:11.127Z"
      },
      {
        "duration": 17,
        "start_time": "2023-06-13T20:07:11.174Z"
      },
      {
        "duration": 34,
        "start_time": "2023-06-13T20:07:11.192Z"
      },
      {
        "duration": 35,
        "start_time": "2023-06-13T20:07:11.228Z"
      },
      {
        "duration": 38,
        "start_time": "2023-06-13T20:07:11.265Z"
      },
      {
        "duration": 26,
        "start_time": "2023-06-13T20:07:11.305Z"
      },
      {
        "duration": 49,
        "start_time": "2023-06-13T20:07:11.333Z"
      },
      {
        "duration": 138,
        "start_time": "2023-06-13T20:07:11.383Z"
      },
      {
        "duration": 3,
        "start_time": "2023-06-13T20:07:11.522Z"
      },
      {
        "duration": 73,
        "start_time": "2023-06-13T20:07:11.527Z"
      },
      {
        "duration": 102,
        "start_time": "2023-06-13T20:07:11.602Z"
      },
      {
        "duration": 19,
        "start_time": "2023-06-13T20:07:11.706Z"
      },
      {
        "duration": 4,
        "start_time": "2023-06-13T20:07:11.727Z"
      },
      {
        "duration": 8,
        "start_time": "2023-06-13T20:07:11.732Z"
      },
      {
        "duration": 4,
        "start_time": "2023-06-13T20:07:11.757Z"
      },
      {
        "duration": 154,
        "start_time": "2023-06-13T20:07:11.763Z"
      },
      {
        "duration": 2,
        "start_time": "2023-06-13T20:07:11.919Z"
      },
      {
        "duration": 4939,
        "start_time": "2023-06-13T20:07:11.923Z"
      },
      {
        "duration": 493,
        "start_time": "2023-06-13T20:07:16.864Z"
      },
      {
        "duration": 5,
        "start_time": "2023-06-13T20:07:17.359Z"
      },
      {
        "duration": 14,
        "start_time": "2023-06-13T20:07:17.366Z"
      },
      {
        "duration": 204659,
        "start_time": "2023-06-13T20:07:17.382Z"
      },
      {
        "duration": 4,
        "start_time": "2023-06-13T20:10:42.042Z"
      },
      {
        "duration": 329,
        "start_time": "2023-06-13T20:10:42.047Z"
      },
      {
        "duration": 5,
        "start_time": "2023-06-13T20:10:42.377Z"
      },
      {
        "duration": 1608,
        "start_time": "2023-06-13T20:10:42.383Z"
      },
      {
        "duration": 5,
        "start_time": "2023-06-13T20:10:43.992Z"
      },
      {
        "duration": 17376,
        "start_time": "2023-06-13T20:10:43.998Z"
      },
      {
        "duration": 183,
        "start_time": "2023-06-13T20:11:01.376Z"
      },
      {
        "duration": 224,
        "start_time": "2023-06-13T20:11:01.573Z"
      },
      {
        "duration": 0,
        "start_time": "2023-06-13T20:11:01.799Z"
      },
      {
        "duration": 0,
        "start_time": "2023-06-13T20:11:01.800Z"
      },
      {
        "duration": 0,
        "start_time": "2023-06-13T20:11:01.801Z"
      },
      {
        "duration": 0,
        "start_time": "2023-06-13T20:11:01.802Z"
      },
      {
        "duration": 0,
        "start_time": "2023-06-13T20:11:01.804Z"
      },
      {
        "duration": 0,
        "start_time": "2023-06-13T20:11:01.805Z"
      },
      {
        "duration": 0,
        "start_time": "2023-06-13T20:11:01.806Z"
      },
      {
        "duration": 0,
        "start_time": "2023-06-13T20:11:01.808Z"
      },
      {
        "duration": 0,
        "start_time": "2023-06-13T20:11:01.809Z"
      },
      {
        "duration": 3,
        "start_time": "2023-06-13T20:22:07.626Z"
      },
      {
        "duration": 5,
        "start_time": "2023-06-13T20:22:10.963Z"
      },
      {
        "duration": 4,
        "start_time": "2023-06-13T20:22:40.828Z"
      },
      {
        "duration": 4,
        "start_time": "2023-06-13T20:23:24.483Z"
      },
      {
        "duration": 4,
        "start_time": "2023-06-13T20:24:19.284Z"
      },
      {
        "duration": 1440,
        "start_time": "2023-06-13T20:30:12.898Z"
      },
      {
        "duration": 1005,
        "start_time": "2023-06-13T20:30:14.340Z"
      },
      {
        "duration": 96,
        "start_time": "2023-06-13T20:30:15.347Z"
      },
      {
        "duration": 39,
        "start_time": "2023-06-13T20:30:15.446Z"
      },
      {
        "duration": 28,
        "start_time": "2023-06-13T20:30:15.487Z"
      },
      {
        "duration": 22,
        "start_time": "2023-06-13T20:30:15.517Z"
      },
      {
        "duration": 93,
        "start_time": "2023-06-13T20:30:15.541Z"
      },
      {
        "duration": 3,
        "start_time": "2023-06-13T20:30:15.636Z"
      },
      {
        "duration": 682,
        "start_time": "2023-06-13T20:30:15.641Z"
      },
      {
        "duration": 55,
        "start_time": "2023-06-13T20:30:16.325Z"
      },
      {
        "duration": 710,
        "start_time": "2023-06-13T20:30:16.381Z"
      },
      {
        "duration": 26,
        "start_time": "2023-06-13T20:30:17.093Z"
      },
      {
        "duration": 567,
        "start_time": "2023-06-13T20:30:17.121Z"
      },
      {
        "duration": 93,
        "start_time": "2023-06-13T20:30:17.690Z"
      },
      {
        "duration": 574,
        "start_time": "2023-06-13T20:30:17.785Z"
      },
      {
        "duration": 32,
        "start_time": "2023-06-13T20:30:18.360Z"
      },
      {
        "duration": 658,
        "start_time": "2023-06-13T20:30:18.394Z"
      },
      {
        "duration": 74,
        "start_time": "2023-06-13T20:30:19.057Z"
      },
      {
        "duration": 5,
        "start_time": "2023-06-13T20:30:19.133Z"
      },
      {
        "duration": 63,
        "start_time": "2023-06-13T20:30:19.140Z"
      },
      {
        "duration": 629,
        "start_time": "2023-06-13T20:30:19.205Z"
      },
      {
        "duration": 32,
        "start_time": "2023-06-13T20:30:19.836Z"
      },
      {
        "duration": 33,
        "start_time": "2023-06-13T20:30:19.870Z"
      },
      {
        "duration": 31,
        "start_time": "2023-06-13T20:30:19.905Z"
      },
      {
        "duration": 33,
        "start_time": "2023-06-13T20:30:19.938Z"
      },
      {
        "duration": 35,
        "start_time": "2023-06-13T20:30:19.973Z"
      },
      {
        "duration": 1834,
        "start_time": "2023-06-13T20:30:20.010Z"
      },
      {
        "duration": 26,
        "start_time": "2023-06-13T20:30:21.857Z"
      },
      {
        "duration": 596,
        "start_time": "2023-06-13T20:30:21.885Z"
      },
      {
        "duration": 23,
        "start_time": "2023-06-13T20:30:22.482Z"
      },
      {
        "duration": 51,
        "start_time": "2023-06-13T20:30:22.507Z"
      },
      {
        "duration": 32,
        "start_time": "2023-06-13T20:30:22.560Z"
      },
      {
        "duration": 38,
        "start_time": "2023-06-13T20:30:22.594Z"
      },
      {
        "duration": 56,
        "start_time": "2023-06-13T20:30:22.634Z"
      },
      {
        "duration": 47,
        "start_time": "2023-06-13T20:30:22.691Z"
      },
      {
        "duration": 49,
        "start_time": "2023-06-13T20:30:22.740Z"
      },
      {
        "duration": 54,
        "start_time": "2023-06-13T20:30:22.790Z"
      },
      {
        "duration": 123,
        "start_time": "2023-06-13T20:30:22.846Z"
      },
      {
        "duration": 3,
        "start_time": "2023-06-13T20:30:22.970Z"
      },
      {
        "duration": 66,
        "start_time": "2023-06-13T20:30:22.974Z"
      },
      {
        "duration": 91,
        "start_time": "2023-06-13T20:30:23.041Z"
      },
      {
        "duration": 24,
        "start_time": "2023-06-13T20:30:23.134Z"
      },
      {
        "duration": 13,
        "start_time": "2023-06-13T20:30:23.160Z"
      },
      {
        "duration": 9,
        "start_time": "2023-06-13T20:30:23.174Z"
      },
      {
        "duration": 6,
        "start_time": "2023-06-13T20:30:23.185Z"
      },
      {
        "duration": 177,
        "start_time": "2023-06-13T20:30:23.193Z"
      },
      {
        "duration": 4,
        "start_time": "2023-06-13T20:30:23.372Z"
      },
      {
        "duration": 4189,
        "start_time": "2023-06-13T20:30:23.377Z"
      },
      {
        "duration": 493,
        "start_time": "2023-06-13T20:30:27.568Z"
      },
      {
        "duration": 5,
        "start_time": "2023-06-13T20:30:28.064Z"
      },
      {
        "duration": 14,
        "start_time": "2023-06-13T20:30:28.070Z"
      },
      {
        "duration": 201922,
        "start_time": "2023-06-13T20:30:28.086Z"
      },
      {
        "duration": 4,
        "start_time": "2023-06-13T20:33:50.010Z"
      },
      {
        "duration": 333,
        "start_time": "2023-06-13T20:33:50.016Z"
      },
      {
        "duration": 9,
        "start_time": "2023-06-13T20:33:50.351Z"
      },
      {
        "duration": 1560,
        "start_time": "2023-06-13T20:33:50.361Z"
      },
      {
        "duration": 0,
        "start_time": "2023-06-13T20:33:51.923Z"
      },
      {
        "duration": 0,
        "start_time": "2023-06-13T20:33:51.924Z"
      },
      {
        "duration": 0,
        "start_time": "2023-06-13T20:33:51.925Z"
      },
      {
        "duration": 0,
        "start_time": "2023-06-13T20:33:51.926Z"
      },
      {
        "duration": 0,
        "start_time": "2023-06-13T20:33:51.927Z"
      },
      {
        "duration": 0,
        "start_time": "2023-06-13T20:33:51.928Z"
      },
      {
        "duration": 0,
        "start_time": "2023-06-13T20:33:51.929Z"
      },
      {
        "duration": 0,
        "start_time": "2023-06-13T20:33:51.930Z"
      },
      {
        "duration": 0,
        "start_time": "2023-06-13T20:33:51.932Z"
      },
      {
        "duration": 0,
        "start_time": "2023-06-13T20:33:51.933Z"
      },
      {
        "duration": 0,
        "start_time": "2023-06-13T20:33:51.934Z"
      },
      {
        "duration": 0,
        "start_time": "2023-06-13T20:33:51.935Z"
      },
      {
        "duration": 0,
        "start_time": "2023-06-13T20:33:51.936Z"
      },
      {
        "duration": 0,
        "start_time": "2023-06-13T20:33:51.957Z"
      },
      {
        "duration": 0,
        "start_time": "2023-06-13T20:33:51.958Z"
      },
      {
        "duration": 1,
        "start_time": "2023-06-13T20:33:51.959Z"
      },
      {
        "duration": 10,
        "start_time": "2023-06-13T20:53:50.389Z"
      },
      {
        "duration": 4,
        "start_time": "2023-06-13T20:54:00.432Z"
      },
      {
        "duration": 13,
        "start_time": "2023-06-13T20:54:14.864Z"
      },
      {
        "duration": 13,
        "start_time": "2023-06-13T20:59:01.538Z"
      },
      {
        "duration": 8970,
        "start_time": "2023-06-13T21:00:47.451Z"
      },
      {
        "duration": 58,
        "start_time": "2023-06-13T21:02:46.493Z"
      },
      {
        "duration": 1628,
        "start_time": "2023-06-13T21:03:00.446Z"
      },
      {
        "duration": 3041,
        "start_time": "2023-06-13T21:03:02.077Z"
      },
      {
        "duration": 77,
        "start_time": "2023-06-13T21:03:05.120Z"
      },
      {
        "duration": 31,
        "start_time": "2023-06-13T21:03:05.199Z"
      },
      {
        "duration": 15,
        "start_time": "2023-06-13T21:03:05.232Z"
      },
      {
        "duration": 18,
        "start_time": "2023-06-13T21:03:05.249Z"
      },
      {
        "duration": 94,
        "start_time": "2023-06-13T21:03:05.269Z"
      },
      {
        "duration": 5,
        "start_time": "2023-06-13T21:03:05.365Z"
      },
      {
        "duration": 676,
        "start_time": "2023-06-13T21:03:05.372Z"
      },
      {
        "duration": 65,
        "start_time": "2023-06-13T21:03:06.051Z"
      },
      {
        "duration": 717,
        "start_time": "2023-06-13T21:03:06.118Z"
      },
      {
        "duration": 32,
        "start_time": "2023-06-13T21:03:06.837Z"
      },
      {
        "duration": 588,
        "start_time": "2023-06-13T21:03:06.870Z"
      },
      {
        "duration": 99,
        "start_time": "2023-06-13T21:03:07.460Z"
      },
      {
        "duration": 587,
        "start_time": "2023-06-13T21:03:07.561Z"
      },
      {
        "duration": 25,
        "start_time": "2023-06-13T21:03:08.156Z"
      },
      {
        "duration": 680,
        "start_time": "2023-06-13T21:03:08.182Z"
      },
      {
        "duration": 92,
        "start_time": "2023-06-13T21:03:08.864Z"
      },
      {
        "duration": 6,
        "start_time": "2023-06-13T21:03:08.958Z"
      },
      {
        "duration": 37,
        "start_time": "2023-06-13T21:03:08.966Z"
      },
      {
        "duration": 679,
        "start_time": "2023-06-13T21:03:09.006Z"
      },
      {
        "duration": 26,
        "start_time": "2023-06-13T21:03:09.687Z"
      },
      {
        "duration": 47,
        "start_time": "2023-06-13T21:03:09.714Z"
      },
      {
        "duration": 21,
        "start_time": "2023-06-13T21:03:09.762Z"
      },
      {
        "duration": 17,
        "start_time": "2023-06-13T21:03:09.785Z"
      },
      {
        "duration": 25,
        "start_time": "2023-06-13T21:03:09.804Z"
      },
      {
        "duration": 1803,
        "start_time": "2023-06-13T21:03:09.830Z"
      },
      {
        "duration": 29,
        "start_time": "2023-06-13T21:03:11.637Z"
      },
      {
        "duration": 623,
        "start_time": "2023-06-13T21:03:11.668Z"
      },
      {
        "duration": 25,
        "start_time": "2023-06-13T21:03:12.293Z"
      },
      {
        "duration": 48,
        "start_time": "2023-06-13T21:03:12.319Z"
      },
      {
        "duration": 22,
        "start_time": "2023-06-13T21:03:12.369Z"
      },
      {
        "duration": 29,
        "start_time": "2023-06-13T21:03:12.393Z"
      },
      {
        "duration": 41,
        "start_time": "2023-06-13T21:03:12.424Z"
      },
      {
        "duration": 33,
        "start_time": "2023-06-13T21:03:12.467Z"
      },
      {
        "duration": 26,
        "start_time": "2023-06-13T21:03:12.502Z"
      },
      {
        "duration": 53,
        "start_time": "2023-06-13T21:03:12.530Z"
      },
      {
        "duration": 130,
        "start_time": "2023-06-13T21:03:12.585Z"
      },
      {
        "duration": 2,
        "start_time": "2023-06-13T21:03:12.717Z"
      },
      {
        "duration": 75,
        "start_time": "2023-06-13T21:03:12.720Z"
      },
      {
        "duration": 106,
        "start_time": "2023-06-13T21:03:12.798Z"
      },
      {
        "duration": 19,
        "start_time": "2023-06-13T21:03:12.906Z"
      },
      {
        "duration": 5,
        "start_time": "2023-06-13T21:03:12.927Z"
      },
      {
        "duration": 23,
        "start_time": "2023-06-13T21:03:12.934Z"
      },
      {
        "duration": 4,
        "start_time": "2023-06-13T21:03:12.959Z"
      },
      {
        "duration": 163,
        "start_time": "2023-06-13T21:03:12.964Z"
      },
      {
        "duration": 3,
        "start_time": "2023-06-13T21:03:13.128Z"
      },
      {
        "duration": 470031,
        "start_time": "2023-06-13T21:03:13.133Z"
      },
      {
        "duration": 509,
        "start_time": "2023-06-13T21:11:03.166Z"
      },
      {
        "duration": 5,
        "start_time": "2023-06-13T21:11:03.677Z"
      },
      {
        "duration": 8,
        "start_time": "2023-06-13T21:11:03.684Z"
      },
      {
        "duration": 209253,
        "start_time": "2023-06-13T21:11:03.693Z"
      },
      {
        "duration": 5,
        "start_time": "2023-06-13T21:14:32.948Z"
      },
      {
        "duration": 484,
        "start_time": "2023-06-13T21:14:32.955Z"
      },
      {
        "duration": 16,
        "start_time": "2023-06-13T21:14:33.441Z"
      },
      {
        "duration": 1794,
        "start_time": "2023-06-13T21:14:33.458Z"
      },
      {
        "duration": 0,
        "start_time": "2023-06-13T21:14:35.257Z"
      },
      {
        "duration": 0,
        "start_time": "2023-06-13T21:14:35.258Z"
      },
      {
        "duration": 0,
        "start_time": "2023-06-13T21:14:35.261Z"
      },
      {
        "duration": 0,
        "start_time": "2023-06-13T21:14:35.262Z"
      },
      {
        "duration": 1,
        "start_time": "2023-06-13T21:14:35.263Z"
      },
      {
        "duration": 0,
        "start_time": "2023-06-13T21:14:35.265Z"
      },
      {
        "duration": 0,
        "start_time": "2023-06-13T21:14:35.266Z"
      },
      {
        "duration": 0,
        "start_time": "2023-06-13T21:14:35.267Z"
      },
      {
        "duration": 0,
        "start_time": "2023-06-13T21:14:35.269Z"
      },
      {
        "duration": 0,
        "start_time": "2023-06-13T21:14:35.270Z"
      },
      {
        "duration": 0,
        "start_time": "2023-06-13T21:14:35.271Z"
      },
      {
        "duration": 0,
        "start_time": "2023-06-13T21:14:35.273Z"
      },
      {
        "duration": 0,
        "start_time": "2023-06-13T21:14:35.275Z"
      },
      {
        "duration": 0,
        "start_time": "2023-06-13T21:14:35.276Z"
      },
      {
        "duration": 0,
        "start_time": "2023-06-13T21:14:35.279Z"
      },
      {
        "duration": 1,
        "start_time": "2023-06-13T21:14:35.280Z"
      },
      {
        "duration": 62,
        "start_time": "2023-06-13T21:16:29.230Z"
      },
      {
        "duration": 1458,
        "start_time": "2023-06-13T21:16:37.910Z"
      },
      {
        "duration": 3068,
        "start_time": "2023-06-13T21:16:39.370Z"
      },
      {
        "duration": 76,
        "start_time": "2023-06-13T21:16:42.441Z"
      },
      {
        "duration": 29,
        "start_time": "2023-06-13T21:16:42.519Z"
      },
      {
        "duration": 25,
        "start_time": "2023-06-13T21:16:42.550Z"
      },
      {
        "duration": 18,
        "start_time": "2023-06-13T21:16:42.577Z"
      },
      {
        "duration": 93,
        "start_time": "2023-06-13T21:16:42.597Z"
      },
      {
        "duration": 3,
        "start_time": "2023-06-13T21:16:42.693Z"
      },
      {
        "duration": 665,
        "start_time": "2023-06-13T21:16:42.698Z"
      },
      {
        "duration": 50,
        "start_time": "2023-06-13T21:16:43.365Z"
      },
      {
        "duration": 747,
        "start_time": "2023-06-13T21:16:43.417Z"
      },
      {
        "duration": 26,
        "start_time": "2023-06-13T21:16:44.166Z"
      },
      {
        "duration": 567,
        "start_time": "2023-06-13T21:16:44.194Z"
      },
      {
        "duration": 105,
        "start_time": "2023-06-13T21:16:44.764Z"
      },
      {
        "duration": 606,
        "start_time": "2023-06-13T21:16:44.871Z"
      },
      {
        "duration": 27,
        "start_time": "2023-06-13T21:16:45.479Z"
      },
      {
        "duration": 587,
        "start_time": "2023-06-13T21:16:45.508Z"
      },
      {
        "duration": 78,
        "start_time": "2023-06-13T21:16:46.096Z"
      },
      {
        "duration": 5,
        "start_time": "2023-06-13T21:16:46.176Z"
      },
      {
        "duration": 34,
        "start_time": "2023-06-13T21:16:46.183Z"
      },
      {
        "duration": 640,
        "start_time": "2023-06-13T21:16:46.219Z"
      },
      {
        "duration": 24,
        "start_time": "2023-06-13T21:16:46.861Z"
      },
      {
        "duration": 32,
        "start_time": "2023-06-13T21:16:46.887Z"
      },
      {
        "duration": 38,
        "start_time": "2023-06-13T21:16:46.921Z"
      },
      {
        "duration": 22,
        "start_time": "2023-06-13T21:16:46.960Z"
      },
      {
        "duration": 25,
        "start_time": "2023-06-13T21:16:46.984Z"
      },
      {
        "duration": 1949,
        "start_time": "2023-06-13T21:16:47.011Z"
      },
      {
        "duration": 28,
        "start_time": "2023-06-13T21:16:48.965Z"
      },
      {
        "duration": 618,
        "start_time": "2023-06-13T21:16:48.994Z"
      },
      {
        "duration": 25,
        "start_time": "2023-06-13T21:16:49.614Z"
      },
      {
        "duration": 48,
        "start_time": "2023-06-13T21:16:49.641Z"
      },
      {
        "duration": 30,
        "start_time": "2023-06-13T21:16:49.691Z"
      },
      {
        "duration": 27,
        "start_time": "2023-06-13T21:16:49.723Z"
      },
      {
        "duration": 39,
        "start_time": "2023-06-13T21:16:49.757Z"
      },
      {
        "duration": 37,
        "start_time": "2023-06-13T21:16:49.798Z"
      },
      {
        "duration": 30,
        "start_time": "2023-06-13T21:16:49.837Z"
      },
      {
        "duration": 33,
        "start_time": "2023-06-13T21:16:49.869Z"
      },
      {
        "duration": 131,
        "start_time": "2023-06-13T21:16:49.904Z"
      },
      {
        "duration": 3,
        "start_time": "2023-06-13T21:16:50.037Z"
      },
      {
        "duration": 72,
        "start_time": "2023-06-13T21:16:50.041Z"
      },
      {
        "duration": 107,
        "start_time": "2023-06-13T21:16:50.115Z"
      },
      {
        "duration": 20,
        "start_time": "2023-06-13T21:16:50.224Z"
      },
      {
        "duration": 4,
        "start_time": "2023-06-13T21:16:50.257Z"
      },
      {
        "duration": 5,
        "start_time": "2023-06-13T21:16:50.263Z"
      },
      {
        "duration": 13,
        "start_time": "2023-06-13T21:16:50.269Z"
      },
      {
        "duration": 162,
        "start_time": "2023-06-13T21:16:50.285Z"
      },
      {
        "duration": 7,
        "start_time": "2023-06-13T21:16:50.449Z"
      },
      {
        "duration": 89804,
        "start_time": "2023-06-13T21:16:50.458Z"
      },
      {
        "duration": 492,
        "start_time": "2023-06-13T21:18:20.264Z"
      },
      {
        "duration": 5,
        "start_time": "2023-06-13T21:18:20.758Z"
      },
      {
        "duration": 8,
        "start_time": "2023-06-13T21:18:20.764Z"
      },
      {
        "duration": 218699,
        "start_time": "2023-06-13T21:18:20.774Z"
      },
      {
        "duration": 4,
        "start_time": "2023-06-13T21:21:59.475Z"
      },
      {
        "duration": 380,
        "start_time": "2023-06-13T21:21:59.480Z"
      },
      {
        "duration": 5,
        "start_time": "2023-06-13T21:21:59.863Z"
      },
      {
        "duration": 5659,
        "start_time": "2023-06-13T21:21:59.870Z"
      },
      {
        "duration": 4,
        "start_time": "2023-06-13T21:22:05.531Z"
      },
      {
        "duration": 122726,
        "start_time": "2023-06-13T21:22:05.537Z"
      },
      {
        "duration": 115,
        "start_time": "2023-06-13T21:24:08.265Z"
      },
      {
        "duration": 8,
        "start_time": "2023-06-13T21:24:08.463Z"
      },
      {
        "duration": 89,
        "start_time": "2023-06-13T21:24:08.473Z"
      },
      {
        "duration": 7,
        "start_time": "2023-06-13T21:24:08.568Z"
      },
      {
        "duration": 6,
        "start_time": "2023-06-13T21:24:08.577Z"
      },
      {
        "duration": 3,
        "start_time": "2023-06-13T21:24:08.584Z"
      },
      {
        "duration": 34879,
        "start_time": "2023-06-13T21:24:08.588Z"
      },
      {
        "duration": 211,
        "start_time": "2023-06-13T21:24:43.469Z"
      },
      {
        "duration": 87,
        "start_time": "2023-06-13T21:24:43.682Z"
      },
      {
        "duration": 3,
        "start_time": "2023-06-13T21:24:43.771Z"
      },
      {
        "duration": 12922,
        "start_time": "2023-06-13T21:24:43.776Z"
      },
      {
        "duration": 4,
        "start_time": "2023-06-13T21:24:56.699Z"
      },
      {
        "duration": 67,
        "start_time": "2023-06-13T21:24:56.704Z"
      },
      {
        "duration": 5,
        "start_time": "2023-06-13T21:24:56.773Z"
      },
      {
        "duration": 1569,
        "start_time": "2023-06-13T21:32:59.755Z"
      },
      {
        "duration": 1145,
        "start_time": "2023-06-13T21:33:01.326Z"
      },
      {
        "duration": 99,
        "start_time": "2023-06-13T21:33:02.473Z"
      },
      {
        "duration": 35,
        "start_time": "2023-06-13T21:33:02.575Z"
      },
      {
        "duration": 14,
        "start_time": "2023-06-13T21:33:02.612Z"
      },
      {
        "duration": 55,
        "start_time": "2023-06-13T21:33:02.627Z"
      },
      {
        "duration": 94,
        "start_time": "2023-06-13T21:33:02.684Z"
      },
      {
        "duration": 3,
        "start_time": "2023-06-13T21:33:02.780Z"
      },
      {
        "duration": 705,
        "start_time": "2023-06-13T21:33:02.785Z"
      },
      {
        "duration": 50,
        "start_time": "2023-06-13T21:33:03.493Z"
      },
      {
        "duration": 762,
        "start_time": "2023-06-13T21:33:03.562Z"
      },
      {
        "duration": 47,
        "start_time": "2023-06-13T21:33:04.325Z"
      },
      {
        "duration": 568,
        "start_time": "2023-06-13T21:33:04.373Z"
      },
      {
        "duration": 108,
        "start_time": "2023-06-13T21:33:04.944Z"
      },
      {
        "duration": 666,
        "start_time": "2023-06-13T21:33:05.054Z"
      },
      {
        "duration": 39,
        "start_time": "2023-06-13T21:33:05.722Z"
      },
      {
        "duration": 623,
        "start_time": "2023-06-13T21:33:05.773Z"
      },
      {
        "duration": 87,
        "start_time": "2023-06-13T21:33:06.399Z"
      },
      {
        "duration": 5,
        "start_time": "2023-06-13T21:33:06.488Z"
      },
      {
        "duration": 32,
        "start_time": "2023-06-13T21:33:06.495Z"
      },
      {
        "duration": 689,
        "start_time": "2023-06-13T21:33:06.529Z"
      },
      {
        "duration": 52,
        "start_time": "2023-06-13T21:33:07.220Z"
      },
      {
        "duration": 40,
        "start_time": "2023-06-13T21:33:07.275Z"
      },
      {
        "duration": 27,
        "start_time": "2023-06-13T21:33:07.318Z"
      },
      {
        "duration": 27,
        "start_time": "2023-06-13T21:33:07.358Z"
      },
      {
        "duration": 35,
        "start_time": "2023-06-13T21:33:07.388Z"
      },
      {
        "duration": 2036,
        "start_time": "2023-06-13T21:33:07.425Z"
      },
      {
        "duration": 26,
        "start_time": "2023-06-13T21:33:09.473Z"
      },
      {
        "duration": 632,
        "start_time": "2023-06-13T21:33:09.501Z"
      },
      {
        "duration": 44,
        "start_time": "2023-06-13T21:33:10.135Z"
      },
      {
        "duration": 93,
        "start_time": "2023-06-13T21:33:10.181Z"
      },
      {
        "duration": 19,
        "start_time": "2023-06-13T21:33:10.276Z"
      },
      {
        "duration": 24,
        "start_time": "2023-06-13T21:33:10.297Z"
      },
      {
        "duration": 53,
        "start_time": "2023-06-13T21:33:10.323Z"
      },
      {
        "duration": 33,
        "start_time": "2023-06-13T21:33:10.377Z"
      },
      {
        "duration": 22,
        "start_time": "2023-06-13T21:33:10.412Z"
      },
      {
        "duration": 53,
        "start_time": "2023-06-13T21:33:10.436Z"
      },
      {
        "duration": 125,
        "start_time": "2023-06-13T21:33:10.491Z"
      },
      {
        "duration": 2,
        "start_time": "2023-06-13T21:33:10.618Z"
      },
      {
        "duration": 84,
        "start_time": "2023-06-13T21:33:10.622Z"
      },
      {
        "duration": 105,
        "start_time": "2023-06-13T21:33:10.708Z"
      },
      {
        "duration": 20,
        "start_time": "2023-06-13T21:33:10.815Z"
      },
      {
        "duration": 4,
        "start_time": "2023-06-13T21:33:10.837Z"
      },
      {
        "duration": 5,
        "start_time": "2023-06-13T21:33:10.868Z"
      },
      {
        "duration": 5,
        "start_time": "2023-06-13T21:33:10.874Z"
      },
      {
        "duration": 154,
        "start_time": "2023-06-13T21:33:10.880Z"
      },
      {
        "duration": 3,
        "start_time": "2023-06-13T21:33:11.036Z"
      },
      {
        "duration": 78931,
        "start_time": "2023-06-13T21:33:11.040Z"
      },
      {
        "duration": 490,
        "start_time": "2023-06-13T21:34:29.973Z"
      },
      {
        "duration": 7,
        "start_time": "2023-06-13T21:34:30.466Z"
      },
      {
        "duration": 56,
        "start_time": "2023-06-13T21:34:30.478Z"
      },
      {
        "duration": 213433,
        "start_time": "2023-06-13T21:34:30.536Z"
      },
      {
        "duration": 4,
        "start_time": "2023-06-13T21:38:03.971Z"
      },
      {
        "duration": 345,
        "start_time": "2023-06-13T21:38:03.977Z"
      },
      {
        "duration": 5,
        "start_time": "2023-06-13T21:38:04.324Z"
      },
      {
        "duration": 5290,
        "start_time": "2023-06-13T21:38:04.330Z"
      },
      {
        "duration": 4,
        "start_time": "2023-06-13T21:38:09.621Z"
      },
      {
        "duration": 127634,
        "start_time": "2023-06-13T21:38:09.626Z"
      },
      {
        "duration": 193,
        "start_time": "2023-06-13T21:40:17.262Z"
      },
      {
        "duration": 8,
        "start_time": "2023-06-13T21:40:17.459Z"
      },
      {
        "duration": 100,
        "start_time": "2023-06-13T21:40:17.468Z"
      },
      {
        "duration": 75501,
        "start_time": "2023-06-13T21:40:17.571Z"
      },
      {
        "duration": 295,
        "start_time": "2023-06-13T21:41:33.075Z"
      },
      {
        "duration": 6,
        "start_time": "2023-06-13T21:41:33.372Z"
      },
      {
        "duration": 31,
        "start_time": "2023-06-13T21:41:33.380Z"
      },
      {
        "duration": 13114,
        "start_time": "2023-06-13T21:41:33.414Z"
      },
      {
        "duration": 4,
        "start_time": "2023-06-13T21:41:46.530Z"
      },
      {
        "duration": 54,
        "start_time": "2023-06-13T21:41:46.536Z"
      },
      {
        "duration": 5,
        "start_time": "2023-06-13T21:41:46.593Z"
      },
      {
        "duration": 2290,
        "start_time": "2023-06-14T11:34:22.218Z"
      },
      {
        "duration": 4887,
        "start_time": "2023-06-14T11:34:24.511Z"
      },
      {
        "duration": 138,
        "start_time": "2023-06-14T11:34:29.400Z"
      },
      {
        "duration": 51,
        "start_time": "2023-06-14T11:34:29.540Z"
      },
      {
        "duration": 8,
        "start_time": "2023-06-14T11:34:29.601Z"
      },
      {
        "duration": 50,
        "start_time": "2023-06-14T11:34:29.611Z"
      },
      {
        "duration": 127,
        "start_time": "2023-06-14T11:34:29.665Z"
      },
      {
        "duration": 5,
        "start_time": "2023-06-14T11:34:29.794Z"
      },
      {
        "duration": 1109,
        "start_time": "2023-06-14T11:34:29.800Z"
      },
      {
        "duration": 67,
        "start_time": "2023-06-14T11:34:30.911Z"
      },
      {
        "duration": 1041,
        "start_time": "2023-06-14T11:34:30.980Z"
      },
      {
        "duration": 49,
        "start_time": "2023-06-14T11:34:32.023Z"
      },
      {
        "duration": 813,
        "start_time": "2023-06-14T11:34:32.074Z"
      },
      {
        "duration": 105,
        "start_time": "2023-06-14T11:34:32.893Z"
      },
      {
        "duration": 912,
        "start_time": "2023-06-14T11:34:33.001Z"
      },
      {
        "duration": 59,
        "start_time": "2023-06-14T11:34:33.916Z"
      },
      {
        "duration": 1134,
        "start_time": "2023-06-14T11:34:33.977Z"
      },
      {
        "duration": 81,
        "start_time": "2023-06-14T11:34:35.113Z"
      },
      {
        "duration": 21,
        "start_time": "2023-06-14T11:34:35.196Z"
      },
      {
        "duration": 66,
        "start_time": "2023-06-14T11:34:35.223Z"
      },
      {
        "duration": 718,
        "start_time": "2023-06-14T11:34:35.291Z"
      },
      {
        "duration": 56,
        "start_time": "2023-06-14T11:34:36.011Z"
      },
      {
        "duration": 84,
        "start_time": "2023-06-14T11:34:36.069Z"
      },
      {
        "duration": 26,
        "start_time": "2023-06-14T11:34:36.155Z"
      },
      {
        "duration": 24,
        "start_time": "2023-06-14T11:34:36.183Z"
      },
      {
        "duration": 61,
        "start_time": "2023-06-14T11:34:36.209Z"
      },
      {
        "duration": 2682,
        "start_time": "2023-06-14T11:34:36.272Z"
      },
      {
        "duration": 41,
        "start_time": "2023-06-14T11:34:38.958Z"
      },
      {
        "duration": 1004,
        "start_time": "2023-06-14T11:34:39.002Z"
      },
      {
        "duration": 64,
        "start_time": "2023-06-14T11:34:40.008Z"
      },
      {
        "duration": 43,
        "start_time": "2023-06-14T11:34:40.077Z"
      },
      {
        "duration": 49,
        "start_time": "2023-06-14T11:34:40.122Z"
      },
      {
        "duration": 78,
        "start_time": "2023-06-14T11:34:40.175Z"
      },
      {
        "duration": 49,
        "start_time": "2023-06-14T11:34:40.258Z"
      },
      {
        "duration": 112,
        "start_time": "2023-06-14T11:34:40.309Z"
      },
      {
        "duration": 46,
        "start_time": "2023-06-14T11:34:40.423Z"
      },
      {
        "duration": 70,
        "start_time": "2023-06-14T11:34:40.471Z"
      },
      {
        "duration": 195,
        "start_time": "2023-06-14T11:34:40.547Z"
      },
      {
        "duration": 5,
        "start_time": "2023-06-14T11:34:40.746Z"
      },
      {
        "duration": 320,
        "start_time": "2023-06-14T11:34:40.757Z"
      },
      {
        "duration": 134,
        "start_time": "2023-06-14T11:34:41.082Z"
      },
      {
        "duration": 40,
        "start_time": "2023-06-14T11:34:41.219Z"
      },
      {
        "duration": 6,
        "start_time": "2023-06-14T11:34:41.263Z"
      },
      {
        "duration": 65,
        "start_time": "2023-06-14T11:34:41.271Z"
      },
      {
        "duration": 15,
        "start_time": "2023-06-14T11:34:41.338Z"
      },
      {
        "duration": 275,
        "start_time": "2023-06-14T11:34:41.357Z"
      },
      {
        "duration": 15,
        "start_time": "2023-06-14T11:34:41.636Z"
      },
      {
        "duration": 533093,
        "start_time": "2023-06-14T11:34:41.656Z"
      },
      {
        "duration": 494,
        "start_time": "2023-06-14T11:43:34.757Z"
      },
      {
        "duration": 7,
        "start_time": "2023-06-14T11:43:35.260Z"
      },
      {
        "duration": 23,
        "start_time": "2023-06-14T11:43:35.270Z"
      },
      {
        "duration": 254132,
        "start_time": "2023-06-14T11:43:35.295Z"
      },
      {
        "duration": 5,
        "start_time": "2023-06-14T11:47:49.431Z"
      },
      {
        "duration": 510,
        "start_time": "2023-06-14T11:47:49.437Z"
      },
      {
        "duration": 9,
        "start_time": "2023-06-14T11:47:49.950Z"
      },
      {
        "duration": 145,
        "start_time": "2023-06-14T11:47:49.962Z"
      },
      {
        "duration": 0,
        "start_time": "2023-06-14T11:47:50.111Z"
      },
      {
        "duration": 0,
        "start_time": "2023-06-14T11:47:50.112Z"
      },
      {
        "duration": 0,
        "start_time": "2023-06-14T11:47:50.114Z"
      },
      {
        "duration": 0,
        "start_time": "2023-06-14T11:47:50.115Z"
      },
      {
        "duration": 0,
        "start_time": "2023-06-14T11:47:50.116Z"
      },
      {
        "duration": 0,
        "start_time": "2023-06-14T11:47:50.118Z"
      },
      {
        "duration": 0,
        "start_time": "2023-06-14T11:47:50.120Z"
      },
      {
        "duration": 0,
        "start_time": "2023-06-14T11:47:50.121Z"
      },
      {
        "duration": 0,
        "start_time": "2023-06-14T11:47:50.122Z"
      },
      {
        "duration": 0,
        "start_time": "2023-06-14T11:47:50.124Z"
      },
      {
        "duration": 0,
        "start_time": "2023-06-14T11:47:50.125Z"
      },
      {
        "duration": 0,
        "start_time": "2023-06-14T11:47:50.126Z"
      },
      {
        "duration": 0,
        "start_time": "2023-06-14T11:47:50.129Z"
      },
      {
        "duration": 206,
        "start_time": "2023-06-14T11:49:00.144Z"
      },
      {
        "duration": 29,
        "start_time": "2023-06-14T11:50:26.253Z"
      },
      {
        "duration": 35,
        "start_time": "2023-06-14T11:54:44.581Z"
      },
      {
        "duration": 728,
        "start_time": "2023-06-14T11:56:00.260Z"
      },
      {
        "duration": 6,
        "start_time": "2023-06-14T11:58:58.941Z"
      },
      {
        "duration": 745,
        "start_time": "2023-06-14T11:59:23.205Z"
      },
      {
        "duration": 15,
        "start_time": "2023-06-14T12:12:56.513Z"
      },
      {
        "duration": 888,
        "start_time": "2023-06-14T12:13:25.729Z"
      },
      {
        "duration": 83,
        "start_time": "2023-06-14T12:18:46.837Z"
      },
      {
        "duration": 883,
        "start_time": "2023-06-14T12:19:08.414Z"
      },
      {
        "duration": 719,
        "start_time": "2023-06-14T12:24:26.198Z"
      },
      {
        "duration": 7,
        "start_time": "2023-06-14T12:27:19.903Z"
      },
      {
        "duration": 840,
        "start_time": "2023-06-14T12:27:35.819Z"
      },
      {
        "duration": 34749,
        "start_time": "2023-06-14T12:28:01.238Z"
      },
      {
        "duration": 7485,
        "start_time": "2023-06-14T12:29:33.485Z"
      },
      {
        "duration": 6434,
        "start_time": "2023-06-14T12:30:22.592Z"
      },
      {
        "duration": 130,
        "start_time": "2023-06-14T12:32:39.438Z"
      },
      {
        "duration": 6237,
        "start_time": "2023-06-14T12:32:55.598Z"
      },
      {
        "duration": 1495,
        "start_time": "2023-06-14T12:33:36.355Z"
      },
      {
        "duration": 1104,
        "start_time": "2023-06-14T12:33:41.101Z"
      },
      {
        "duration": 36,
        "start_time": "2023-06-14T12:33:46.423Z"
      },
      {
        "duration": 5,
        "start_time": "2023-06-14T12:33:49.588Z"
      },
      {
        "duration": 102,
        "start_time": "2023-06-14T12:33:54.422Z"
      },
      {
        "duration": 51,
        "start_time": "2023-06-14T12:34:05.124Z"
      },
      {
        "duration": 82,
        "start_time": "2023-06-14T12:34:17.767Z"
      },
      {
        "duration": 63,
        "start_time": "2023-06-14T12:34:24.472Z"
      },
      {
        "duration": 7,
        "start_time": "2023-06-14T12:34:27.662Z"
      },
      {
        "duration": 27,
        "start_time": "2023-06-14T12:34:30.359Z"
      },
      {
        "duration": 24,
        "start_time": "2023-06-14T12:34:35.419Z"
      },
      {
        "duration": 2218,
        "start_time": "2023-06-14T12:34:43.286Z"
      },
      {
        "duration": 20,
        "start_time": "2023-06-14T12:34:53.255Z"
      },
      {
        "duration": 101,
        "start_time": "2023-06-14T12:35:10.263Z"
      },
      {
        "duration": 27,
        "start_time": "2023-06-14T12:35:21.301Z"
      },
      {
        "duration": 40129,
        "start_time": "2023-06-14T12:36:27.131Z"
      },
      {
        "duration": 6,
        "start_time": "2023-06-14T12:37:20.716Z"
      },
      {
        "duration": 2639,
        "start_time": "2023-06-14T12:37:22.252Z"
      },
      {
        "duration": 1497,
        "start_time": "2023-06-14T12:40:42.983Z"
      },
      {
        "duration": 1086,
        "start_time": "2023-06-14T12:40:47.306Z"
      },
      {
        "duration": 31,
        "start_time": "2023-06-14T12:40:52.401Z"
      },
      {
        "duration": 4,
        "start_time": "2023-06-14T12:40:55.598Z"
      },
      {
        "duration": 99,
        "start_time": "2023-06-14T12:40:59.355Z"
      },
      {
        "duration": 50,
        "start_time": "2023-06-14T12:41:05.454Z"
      },
      {
        "duration": 82,
        "start_time": "2023-06-14T12:41:11.499Z"
      },
      {
        "duration": 71,
        "start_time": "2023-06-14T12:41:17.404Z"
      },
      {
        "duration": 6,
        "start_time": "2023-06-14T12:41:20.236Z"
      },
      {
        "duration": 38,
        "start_time": "2023-06-14T12:41:22.492Z"
      },
      {
        "duration": 25,
        "start_time": "2023-06-14T12:41:28.148Z"
      },
      {
        "duration": 2093,
        "start_time": "2023-06-14T12:41:31.900Z"
      },
      {
        "duration": 22,
        "start_time": "2023-06-14T12:41:41.198Z"
      },
      {
        "duration": 95,
        "start_time": "2023-06-14T12:41:55.443Z"
      },
      {
        "duration": 29,
        "start_time": "2023-06-14T12:41:56.609Z"
      },
      {
        "duration": 38668,
        "start_time": "2023-06-14T12:42:14.399Z"
      },
      {
        "duration": 3,
        "start_time": "2023-06-14T12:42:58.330Z"
      },
      {
        "duration": 19219,
        "start_time": "2023-06-14T12:42:59.401Z"
      },
      {
        "duration": 70,
        "start_time": "2023-06-14T12:43:20.305Z"
      },
      {
        "duration": 6,
        "start_time": "2023-06-14T12:43:23.820Z"
      },
      {
        "duration": 1614,
        "start_time": "2023-06-14T12:45:03.197Z"
      },
      {
        "duration": 1070,
        "start_time": "2023-06-14T12:45:04.813Z"
      },
      {
        "duration": 107,
        "start_time": "2023-06-14T12:45:05.885Z"
      },
      {
        "duration": 40,
        "start_time": "2023-06-14T12:45:05.994Z"
      },
      {
        "duration": 18,
        "start_time": "2023-06-14T12:45:06.036Z"
      },
      {
        "duration": 23,
        "start_time": "2023-06-14T12:45:06.056Z"
      },
      {
        "duration": 104,
        "start_time": "2023-06-14T12:45:06.081Z"
      },
      {
        "duration": 4,
        "start_time": "2023-06-14T12:45:06.187Z"
      },
      {
        "duration": 800,
        "start_time": "2023-06-14T12:45:06.192Z"
      },
      {
        "duration": 65,
        "start_time": "2023-06-14T12:45:06.996Z"
      },
      {
        "duration": 816,
        "start_time": "2023-06-14T12:45:07.063Z"
      },
      {
        "duration": 57,
        "start_time": "2023-06-14T12:45:07.880Z"
      },
      {
        "duration": 644,
        "start_time": "2023-06-14T12:45:07.939Z"
      },
      {
        "duration": 96,
        "start_time": "2023-06-14T12:45:08.584Z"
      },
      {
        "duration": 654,
        "start_time": "2023-06-14T12:45:08.682Z"
      },
      {
        "duration": 32,
        "start_time": "2023-06-14T12:45:09.338Z"
      },
      {
        "duration": 787,
        "start_time": "2023-06-14T12:45:09.372Z"
      },
      {
        "duration": 80,
        "start_time": "2023-06-14T12:45:10.162Z"
      },
      {
        "duration": 7,
        "start_time": "2023-06-14T12:45:10.243Z"
      },
      {
        "duration": 70,
        "start_time": "2023-06-14T12:45:10.251Z"
      },
      {
        "duration": 746,
        "start_time": "2023-06-14T12:45:10.325Z"
      },
      {
        "duration": 28,
        "start_time": "2023-06-14T12:45:11.073Z"
      },
      {
        "duration": 63,
        "start_time": "2023-06-14T12:45:11.112Z"
      },
      {
        "duration": 35,
        "start_time": "2023-06-14T12:45:11.177Z"
      },
      {
        "duration": 37,
        "start_time": "2023-06-14T12:45:11.215Z"
      },
      {
        "duration": 28,
        "start_time": "2023-06-14T12:45:11.254Z"
      },
      {
        "duration": 2254,
        "start_time": "2023-06-14T12:45:11.284Z"
      },
      {
        "duration": 26,
        "start_time": "2023-06-14T12:45:13.542Z"
      },
      {
        "duration": 780,
        "start_time": "2023-06-14T12:45:13.570Z"
      },
      {
        "duration": 29,
        "start_time": "2023-06-14T12:45:14.352Z"
      },
      {
        "duration": 57,
        "start_time": "2023-06-14T12:45:14.383Z"
      },
      {
        "duration": 29,
        "start_time": "2023-06-14T12:45:14.442Z"
      },
      {
        "duration": 53,
        "start_time": "2023-06-14T12:45:14.473Z"
      },
      {
        "duration": 33,
        "start_time": "2023-06-14T12:45:14.530Z"
      },
      {
        "duration": 46,
        "start_time": "2023-06-14T12:45:14.564Z"
      },
      {
        "duration": 57,
        "start_time": "2023-06-14T12:45:14.612Z"
      },
      {
        "duration": 68,
        "start_time": "2023-06-14T12:45:14.671Z"
      },
      {
        "duration": 133,
        "start_time": "2023-06-14T12:45:14.741Z"
      },
      {
        "duration": 3,
        "start_time": "2023-06-14T12:45:14.876Z"
      },
      {
        "duration": 85,
        "start_time": "2023-06-14T12:45:14.881Z"
      },
      {
        "duration": 135,
        "start_time": "2023-06-14T12:45:14.969Z"
      },
      {
        "duration": 28,
        "start_time": "2023-06-14T12:45:15.106Z"
      },
      {
        "duration": 9,
        "start_time": "2023-06-14T12:45:15.135Z"
      },
      {
        "duration": 34,
        "start_time": "2023-06-14T12:45:15.146Z"
      },
      {
        "duration": 27,
        "start_time": "2023-06-14T12:45:15.182Z"
      },
      {
        "duration": 196,
        "start_time": "2023-06-14T12:45:15.211Z"
      },
      {
        "duration": 2,
        "start_time": "2023-06-14T12:45:15.410Z"
      },
      {
        "duration": 370308,
        "start_time": "2023-06-14T12:45:15.423Z"
      },
      {
        "duration": 499,
        "start_time": "2023-06-14T12:51:25.735Z"
      },
      {
        "duration": 6,
        "start_time": "2023-06-14T12:51:26.236Z"
      },
      {
        "duration": 32,
        "start_time": "2023-06-14T12:51:26.243Z"
      },
      {
        "duration": 212739,
        "start_time": "2023-06-14T12:51:26.277Z"
      },
      {
        "duration": 3,
        "start_time": "2023-06-14T12:54:59.021Z"
      },
      {
        "duration": 403,
        "start_time": "2023-06-14T12:54:59.026Z"
      },
      {
        "duration": 6,
        "start_time": "2023-06-14T12:54:59.431Z"
      },
      {
        "duration": 42200,
        "start_time": "2023-06-14T12:54:59.439Z"
      },
      {
        "duration": 5,
        "start_time": "2023-06-14T12:55:41.641Z"
      },
      {
        "duration": 17375,
        "start_time": "2023-06-14T12:55:41.648Z"
      },
      {
        "duration": 194,
        "start_time": "2023-06-14T12:55:59.026Z"
      },
      {
        "duration": 6,
        "start_time": "2023-06-14T12:55:59.222Z"
      },
      {
        "duration": 120,
        "start_time": "2023-06-14T12:55:59.230Z"
      },
      {
        "duration": 184893,
        "start_time": "2023-06-14T12:55:59.352Z"
      },
      {
        "duration": 299,
        "start_time": "2023-06-14T12:59:04.314Z"
      },
      {
        "duration": 10,
        "start_time": "2023-06-14T12:59:04.620Z"
      },
      {
        "duration": 29,
        "start_time": "2023-06-14T12:59:04.636Z"
      },
      {
        "duration": 14486,
        "start_time": "2023-06-14T12:59:04.667Z"
      },
      {
        "duration": 3,
        "start_time": "2023-06-14T12:59:19.155Z"
      },
      {
        "duration": 70,
        "start_time": "2023-06-14T12:59:19.160Z"
      },
      {
        "duration": 9,
        "start_time": "2023-06-14T12:59:19.236Z"
      }
    ],
    "kernelspec": {
      "display_name": "Python 3 (ipykernel)",
      "language": "python",
      "name": "python3"
    },
    "language_info": {
      "codemirror_mode": {
        "name": "ipython",
        "version": 3
      },
      "file_extension": ".py",
      "mimetype": "text/x-python",
      "name": "python",
      "nbconvert_exporter": "python",
      "pygments_lexer": "ipython3",
      "version": "3.9.5"
    },
    "toc": {
      "base_numbering": 1,
      "nav_menu": {},
      "number_sections": true,
      "sideBar": true,
      "skip_h1_title": true,
      "title_cell": "Table of Contents",
      "title_sidebar": "Contents",
      "toc_cell": false,
      "toc_position": {},
      "toc_section_display": true,
      "toc_window_display": false
    },
    "colab": {
      "provenance": []
    }
  },
  "nbformat": 4,
  "nbformat_minor": 0
}
