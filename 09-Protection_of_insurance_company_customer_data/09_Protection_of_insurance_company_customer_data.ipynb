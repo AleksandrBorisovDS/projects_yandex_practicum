{
  "cells": [
    {
      "cell_type": "markdown",
      "metadata": {
        "toc": true,
        "id": "juPqWFqHHafe"
      },
      "source": [
        "<h1>Содержание<span class=\"tocSkip\"></span></h1>\n",
        "<div class=\"toc\"><ul class=\"toc-item\"><li><span><a href=\"#Постановка-задачи\" data-toc-modified-id=\"Постановка-задачи-1\"><span class=\"toc-item-num\">1&nbsp;&nbsp;</span>Постановка задачи</a></span></li><li><span><a href=\"#Загрузка,-обзор,-предобработка-данных\" data-toc-modified-id=\"Загрузка,-обзор,-предобработка-данных-2\"><span class=\"toc-item-num\">2&nbsp;&nbsp;</span>Загрузка, обзор, предобработка данных</a></span></li><li><span><a href=\"#Рассмотрение-метода-умножения-матриц\" data-toc-modified-id=\"Рассмотрение-метода-умножения-матриц-3\"><span class=\"toc-item-num\">3&nbsp;&nbsp;</span>Рассмотрение метода умножения матриц</a></span></li><li><span><a href=\"#Выбор-и-обоснование-алгоритма-преобразования-данных\" data-toc-modified-id=\"Выбор-и-обоснование-алгоритма-преобразования-данных-4\"><span class=\"toc-item-num\">4&nbsp;&nbsp;</span>Выбор и обоснование алгоритма преобразования данных</a></span></li><li><span><a href=\"#Проверка-выбранного-алгоритма-на-метриках-качества-работы-модели-машинного-обучения\" data-toc-modified-id=\"Проверка-выбранного-алгоритма-на-метриках-качества-работы-модели-машинного-обучения-5\"><span class=\"toc-item-num\">5&nbsp;&nbsp;</span>Проверка выбранного алгоритма на метриках качества работы модели машинного обучения</a></span></li><li><span><a href=\"#Чек-лист-проверки\" data-toc-modified-id=\"Чек-лист-проверки-6\"><span class=\"toc-item-num\">6&nbsp;&nbsp;</span>Чек-лист проверки</a></span></li></ul></div>"
      ]
    },
    {
      "cell_type": "markdown",
      "metadata": {
        "id": "ZGacMSDdHaff"
      },
      "source": [
        "# ПРОЕКТ\n",
        "# Разработка метода преобразования данных для обеспечения защиты персональных данных клиентов страховой компании \"Хоть потоп\""
      ]
    },
    {
      "cell_type": "markdown",
      "metadata": {
        "id": "lmALyQfiHaff"
      },
      "source": [
        "## Постановка задачи"
      ]
    },
    {
      "cell_type": "markdown",
      "metadata": {
        "id": "iOtiQ6Z2Hafg"
      },
      "source": [
        "Необходимо разработать метод преобразования персональных данных клиентов страховой компании \"Хоть потоп\", таким образом, чтобы\n",
        "- с одной стороны данные было сложно восстановить;\n",
        "- с другой - преобразование данных не ухудшило качество работы модели машинного обучения (линейной регрессии).\n",
        "\n",
        "**Порядок выполнения проекта.**\n",
        "\n",
        "Проект будет выполнен в 4 шага:\n",
        "- загрузка, обзор и предобработка данных;\n",
        "- рассмотрение метода умножения матриц;\n",
        "- выбор и  обоснование алгоритма преобразования данных;\n",
        "- проверка выбранного алгоритма на метриках качества работы модели машинного обучения."
      ]
    },
    {
      "cell_type": "markdown",
      "metadata": {
        "id": "xfpoopnGHafg"
      },
      "source": [
        "## Загрузка, обзор, предобработка данных"
      ]
    },
    {
      "cell_type": "code",
      "execution_count": null,
      "metadata": {
        "id": "NKnbqh6AHafh"
      },
      "outputs": [],
      "source": [
        "import pandas as pd\n",
        "import numpy as np\n",
        "\n",
        "from sklearn.linear_model import LinearRegression\n",
        "from sklearn.metrics import r2_score as r2\n",
        "from sklearn.preprocessing import StandardScaler"
      ]
    },
    {
      "cell_type": "code",
      "execution_count": null,
      "metadata": {
        "id": "kKb34NaiHafj"
      },
      "outputs": [],
      "source": [
        "data = pd.read_csv('/datasets/insurance.csv')"
      ]
    },
    {
      "cell_type": "code",
      "execution_count": null,
      "metadata": {
        "id": "tBCNSRo1Hafj",
        "outputId": "ba22b4bf-12b4-414b-fef8-fdac77afba6c"
      },
      "outputs": [
        {
          "name": "stdout",
          "output_type": "stream",
          "text": [
            "<class 'pandas.core.frame.DataFrame'>\n",
            "RangeIndex: 5000 entries, 0 to 4999\n",
            "Data columns (total 5 columns):\n",
            " #   Column             Non-Null Count  Dtype  \n",
            "---  ------             --------------  -----  \n",
            " 0   Пол                5000 non-null   int64  \n",
            " 1   Возраст            5000 non-null   float64\n",
            " 2   Зарплата           5000 non-null   float64\n",
            " 3   Члены семьи        5000 non-null   int64  \n",
            " 4   Страховые выплаты  5000 non-null   int64  \n",
            "dtypes: float64(2), int64(3)\n",
            "memory usage: 195.4 KB\n"
          ]
        }
      ],
      "source": [
        "data.info()"
      ]
    },
    {
      "cell_type": "code",
      "execution_count": null,
      "metadata": {
        "id": "mb8_RJlbHafl",
        "outputId": "c1397e67-1e85-4cd4-eaff-b0afb6be157f"
      },
      "outputs": [
        {
          "data": {
            "text/html": [
              "<div>\n",
              "<style scoped>\n",
              "    .dataframe tbody tr th:only-of-type {\n",
              "        vertical-align: middle;\n",
              "    }\n",
              "\n",
              "    .dataframe tbody tr th {\n",
              "        vertical-align: top;\n",
              "    }\n",
              "\n",
              "    .dataframe thead th {\n",
              "        text-align: right;\n",
              "    }\n",
              "</style>\n",
              "<table border=\"1\" class=\"dataframe\">\n",
              "  <thead>\n",
              "    <tr style=\"text-align: right;\">\n",
              "      <th></th>\n",
              "      <th>Пол</th>\n",
              "      <th>Возраст</th>\n",
              "      <th>Зарплата</th>\n",
              "      <th>Члены семьи</th>\n",
              "      <th>Страховые выплаты</th>\n",
              "    </tr>\n",
              "  </thead>\n",
              "  <tbody>\n",
              "    <tr>\n",
              "      <th>0</th>\n",
              "      <td>1</td>\n",
              "      <td>41.0</td>\n",
              "      <td>49600.0</td>\n",
              "      <td>1</td>\n",
              "      <td>0</td>\n",
              "    </tr>\n",
              "    <tr>\n",
              "      <th>1</th>\n",
              "      <td>0</td>\n",
              "      <td>46.0</td>\n",
              "      <td>38000.0</td>\n",
              "      <td>1</td>\n",
              "      <td>1</td>\n",
              "    </tr>\n",
              "    <tr>\n",
              "      <th>2</th>\n",
              "      <td>0</td>\n",
              "      <td>29.0</td>\n",
              "      <td>21000.0</td>\n",
              "      <td>0</td>\n",
              "      <td>0</td>\n",
              "    </tr>\n",
              "    <tr>\n",
              "      <th>3</th>\n",
              "      <td>0</td>\n",
              "      <td>21.0</td>\n",
              "      <td>41700.0</td>\n",
              "      <td>2</td>\n",
              "      <td>0</td>\n",
              "    </tr>\n",
              "    <tr>\n",
              "      <th>4</th>\n",
              "      <td>1</td>\n",
              "      <td>28.0</td>\n",
              "      <td>26100.0</td>\n",
              "      <td>0</td>\n",
              "      <td>0</td>\n",
              "    </tr>\n",
              "    <tr>\n",
              "      <th>5</th>\n",
              "      <td>1</td>\n",
              "      <td>43.0</td>\n",
              "      <td>41000.0</td>\n",
              "      <td>2</td>\n",
              "      <td>1</td>\n",
              "    </tr>\n",
              "    <tr>\n",
              "      <th>6</th>\n",
              "      <td>1</td>\n",
              "      <td>39.0</td>\n",
              "      <td>39700.0</td>\n",
              "      <td>2</td>\n",
              "      <td>0</td>\n",
              "    </tr>\n",
              "    <tr>\n",
              "      <th>7</th>\n",
              "      <td>1</td>\n",
              "      <td>25.0</td>\n",
              "      <td>38600.0</td>\n",
              "      <td>4</td>\n",
              "      <td>0</td>\n",
              "    </tr>\n",
              "    <tr>\n",
              "      <th>8</th>\n",
              "      <td>1</td>\n",
              "      <td>36.0</td>\n",
              "      <td>49700.0</td>\n",
              "      <td>1</td>\n",
              "      <td>0</td>\n",
              "    </tr>\n",
              "    <tr>\n",
              "      <th>9</th>\n",
              "      <td>1</td>\n",
              "      <td>32.0</td>\n",
              "      <td>51700.0</td>\n",
              "      <td>1</td>\n",
              "      <td>0</td>\n",
              "    </tr>\n",
              "  </tbody>\n",
              "</table>\n",
              "</div>"
            ],
            "text/plain": [
              "   Пол  Возраст  Зарплата  Члены семьи  Страховые выплаты\n",
              "0    1     41.0   49600.0            1                  0\n",
              "1    0     46.0   38000.0            1                  1\n",
              "2    0     29.0   21000.0            0                  0\n",
              "3    0     21.0   41700.0            2                  0\n",
              "4    1     28.0   26100.0            0                  0\n",
              "5    1     43.0   41000.0            2                  1\n",
              "6    1     39.0   39700.0            2                  0\n",
              "7    1     25.0   38600.0            4                  0\n",
              "8    1     36.0   49700.0            1                  0\n",
              "9    1     32.0   51700.0            1                  0"
            ]
          },
          "execution_count": 4,
          "metadata": {},
          "output_type": "execute_result"
        }
      ],
      "source": [
        "data.head(10)"
      ]
    },
    {
      "cell_type": "code",
      "execution_count": null,
      "metadata": {
        "id": "E_vKawb0Hafl",
        "outputId": "35a5a875-fb9a-435b-ba67-6a4e8d33c656"
      },
      "outputs": [
        {
          "data": {
            "text/html": [
              "<div>\n",
              "<style scoped>\n",
              "    .dataframe tbody tr th:only-of-type {\n",
              "        vertical-align: middle;\n",
              "    }\n",
              "\n",
              "    .dataframe tbody tr th {\n",
              "        vertical-align: top;\n",
              "    }\n",
              "\n",
              "    .dataframe thead th {\n",
              "        text-align: right;\n",
              "    }\n",
              "</style>\n",
              "<table border=\"1\" class=\"dataframe\">\n",
              "  <thead>\n",
              "    <tr style=\"text-align: right;\">\n",
              "      <th></th>\n",
              "      <th>Пол</th>\n",
              "      <th>Возраст</th>\n",
              "      <th>Зарплата</th>\n",
              "      <th>Члены семьи</th>\n",
              "      <th>Страховые выплаты</th>\n",
              "    </tr>\n",
              "  </thead>\n",
              "  <tbody>\n",
              "    <tr>\n",
              "      <th>count</th>\n",
              "      <td>5000.000000</td>\n",
              "      <td>5000.000000</td>\n",
              "      <td>5000.000000</td>\n",
              "      <td>5000.000000</td>\n",
              "      <td>5000.000000</td>\n",
              "    </tr>\n",
              "    <tr>\n",
              "      <th>mean</th>\n",
              "      <td>0.499000</td>\n",
              "      <td>30.952800</td>\n",
              "      <td>39916.360000</td>\n",
              "      <td>1.194200</td>\n",
              "      <td>0.148000</td>\n",
              "    </tr>\n",
              "    <tr>\n",
              "      <th>std</th>\n",
              "      <td>0.500049</td>\n",
              "      <td>8.440807</td>\n",
              "      <td>9900.083569</td>\n",
              "      <td>1.091387</td>\n",
              "      <td>0.463183</td>\n",
              "    </tr>\n",
              "    <tr>\n",
              "      <th>min</th>\n",
              "      <td>0.000000</td>\n",
              "      <td>18.000000</td>\n",
              "      <td>5300.000000</td>\n",
              "      <td>0.000000</td>\n",
              "      <td>0.000000</td>\n",
              "    </tr>\n",
              "    <tr>\n",
              "      <th>25%</th>\n",
              "      <td>0.000000</td>\n",
              "      <td>24.000000</td>\n",
              "      <td>33300.000000</td>\n",
              "      <td>0.000000</td>\n",
              "      <td>0.000000</td>\n",
              "    </tr>\n",
              "    <tr>\n",
              "      <th>50%</th>\n",
              "      <td>0.000000</td>\n",
              "      <td>30.000000</td>\n",
              "      <td>40200.000000</td>\n",
              "      <td>1.000000</td>\n",
              "      <td>0.000000</td>\n",
              "    </tr>\n",
              "    <tr>\n",
              "      <th>75%</th>\n",
              "      <td>1.000000</td>\n",
              "      <td>37.000000</td>\n",
              "      <td>46600.000000</td>\n",
              "      <td>2.000000</td>\n",
              "      <td>0.000000</td>\n",
              "    </tr>\n",
              "    <tr>\n",
              "      <th>max</th>\n",
              "      <td>1.000000</td>\n",
              "      <td>65.000000</td>\n",
              "      <td>79000.000000</td>\n",
              "      <td>6.000000</td>\n",
              "      <td>5.000000</td>\n",
              "    </tr>\n",
              "  </tbody>\n",
              "</table>\n",
              "</div>"
            ],
            "text/plain": [
              "               Пол      Возраст      Зарплата  Члены семьи  Страховые выплаты\n",
              "count  5000.000000  5000.000000   5000.000000  5000.000000        5000.000000\n",
              "mean      0.499000    30.952800  39916.360000     1.194200           0.148000\n",
              "std       0.500049     8.440807   9900.083569     1.091387           0.463183\n",
              "min       0.000000    18.000000   5300.000000     0.000000           0.000000\n",
              "25%       0.000000    24.000000  33300.000000     0.000000           0.000000\n",
              "50%       0.000000    30.000000  40200.000000     1.000000           0.000000\n",
              "75%       1.000000    37.000000  46600.000000     2.000000           0.000000\n",
              "max       1.000000    65.000000  79000.000000     6.000000           5.000000"
            ]
          },
          "execution_count": 5,
          "metadata": {},
          "output_type": "execute_result"
        }
      ],
      "source": [
        "data.describe()"
      ]
    },
    {
      "cell_type": "code",
      "execution_count": null,
      "metadata": {
        "id": "aell2L1mHafm",
        "outputId": "27ac3ec6-d873-4100-bbb7-28c996bc933b"
      },
      "outputs": [
        {
          "data": {
            "text/html": [
              "<div>\n",
              "<style scoped>\n",
              "    .dataframe tbody tr th:only-of-type {\n",
              "        vertical-align: middle;\n",
              "    }\n",
              "\n",
              "    .dataframe tbody tr th {\n",
              "        vertical-align: top;\n",
              "    }\n",
              "\n",
              "    .dataframe thead th {\n",
              "        text-align: right;\n",
              "    }\n",
              "</style>\n",
              "<table border=\"1\" class=\"dataframe\">\n",
              "  <thead>\n",
              "    <tr style=\"text-align: right;\">\n",
              "      <th></th>\n",
              "      <th>Пол</th>\n",
              "      <th>Возраст</th>\n",
              "      <th>Зарплата</th>\n",
              "      <th>Члены семьи</th>\n",
              "      <th>Страховые выплаты</th>\n",
              "    </tr>\n",
              "  </thead>\n",
              "  <tbody>\n",
              "    <tr>\n",
              "      <th>Пол</th>\n",
              "      <td>1.000000</td>\n",
              "      <td>0.002074</td>\n",
              "      <td>0.014910</td>\n",
              "      <td>-0.008991</td>\n",
              "      <td>0.010140</td>\n",
              "    </tr>\n",
              "    <tr>\n",
              "      <th>Возраст</th>\n",
              "      <td>0.002074</td>\n",
              "      <td>1.000000</td>\n",
              "      <td>-0.019093</td>\n",
              "      <td>-0.006692</td>\n",
              "      <td>0.651030</td>\n",
              "    </tr>\n",
              "    <tr>\n",
              "      <th>Зарплата</th>\n",
              "      <td>0.014910</td>\n",
              "      <td>-0.019093</td>\n",
              "      <td>1.000000</td>\n",
              "      <td>-0.030296</td>\n",
              "      <td>-0.014963</td>\n",
              "    </tr>\n",
              "    <tr>\n",
              "      <th>Члены семьи</th>\n",
              "      <td>-0.008991</td>\n",
              "      <td>-0.006692</td>\n",
              "      <td>-0.030296</td>\n",
              "      <td>1.000000</td>\n",
              "      <td>-0.036290</td>\n",
              "    </tr>\n",
              "    <tr>\n",
              "      <th>Страховые выплаты</th>\n",
              "      <td>0.010140</td>\n",
              "      <td>0.651030</td>\n",
              "      <td>-0.014963</td>\n",
              "      <td>-0.036290</td>\n",
              "      <td>1.000000</td>\n",
              "    </tr>\n",
              "  </tbody>\n",
              "</table>\n",
              "</div>"
            ],
            "text/plain": [
              "                        Пол   Возраст  Зарплата  Члены семьи  \\\n",
              "Пол                1.000000  0.002074  0.014910    -0.008991   \n",
              "Возраст            0.002074  1.000000 -0.019093    -0.006692   \n",
              "Зарплата           0.014910 -0.019093  1.000000    -0.030296   \n",
              "Члены семьи       -0.008991 -0.006692 -0.030296     1.000000   \n",
              "Страховые выплаты  0.010140  0.651030 -0.014963    -0.036290   \n",
              "\n",
              "                   Страховые выплаты  \n",
              "Пол                         0.010140  \n",
              "Возраст                     0.651030  \n",
              "Зарплата                   -0.014963  \n",
              "Члены семьи                -0.036290  \n",
              "Страховые выплаты           1.000000  "
            ]
          },
          "execution_count": 6,
          "metadata": {},
          "output_type": "execute_result"
        }
      ],
      "source": [
        "data.corr()"
      ]
    },
    {
      "cell_type": "code",
      "execution_count": null,
      "metadata": {
        "id": "aNCtHi-SHafn",
        "outputId": "32d776e2-ca19-4954-c326-f3535de476f1"
      },
      "outputs": [
        {
          "data": {
            "text/plain": [
              "153"
            ]
          },
          "execution_count": 7,
          "metadata": {},
          "output_type": "execute_result"
        }
      ],
      "source": [
        "data.duplicated().sum()"
      ]
    },
    {
      "cell_type": "code",
      "execution_count": null,
      "metadata": {
        "id": "kWS2Ttt8Hafo"
      },
      "outputs": [],
      "source": [
        "data.drop_duplicates(inplace=True)"
      ]
    },
    {
      "cell_type": "markdown",
      "metadata": {
        "id": "ehW_JGqHHafo"
      },
      "source": [
        "Данные не содержат пропусков, типы данных соответствуют данным, дубликаты строк удалены. Корреляция между признаками отсутствует. Определенная корреляция (0,65) существует между Возрастом и целевым признаком (Страховые выплаты), что не повлияет на качество обучения модели. Статистические характеристики данных (минимум, максимум, среднее, медиана итд) позволяют сделать вывод об отсутствии явных аномалий в данных. Сам датасет не нуждается в дополнительной предобработке, за исключением преобразования наименований столбцов:"
      ]
    },
    {
      "cell_type": "code",
      "execution_count": null,
      "metadata": {
        "id": "Syd6Ax8PHafp"
      },
      "outputs": [],
      "source": [
        "data.rename(columns = {'Пол':'gender', 'Возраст':'age', 'Зарплата':'salary',\n",
        "                     'Члены семьи':'family_size', 'Страховые выплаты':'payments_count'},\n",
        "          inplace = True)"
      ]
    },
    {
      "cell_type": "code",
      "execution_count": null,
      "metadata": {
        "id": "W8bUNqiDHafp",
        "outputId": "31aee56b-4cb0-4825-b753-3befd06d872f"
      },
      "outputs": [
        {
          "name": "stdout",
          "output_type": "stream",
          "text": [
            "<class 'pandas.core.frame.DataFrame'>\n",
            "Int64Index: 4847 entries, 0 to 4999\n",
            "Data columns (total 5 columns):\n",
            " #   Column          Non-Null Count  Dtype  \n",
            "---  ------          --------------  -----  \n",
            " 0   gender          4847 non-null   int64  \n",
            " 1   age             4847 non-null   float64\n",
            " 2   salary          4847 non-null   float64\n",
            " 3   family_size     4847 non-null   int64  \n",
            " 4   payments_count  4847 non-null   int64  \n",
            "dtypes: float64(2), int64(3)\n",
            "memory usage: 227.2 KB\n"
          ]
        }
      ],
      "source": [
        "data.info()"
      ]
    },
    {
      "cell_type": "markdown",
      "metadata": {
        "id": "U5-B8xBkHafq"
      },
      "source": [
        "**Вывод по разделу:**\n",
        "\n",
        "Полные дубликаты строк удалены. Наименование столбцов приведено в стандарту.\n",
        "\n",
        "Данные готовы для дальнейшей работы."
      ]
    },
    {
      "cell_type": "markdown",
      "metadata": {
        "id": "rugxa4QQHafr"
      },
      "source": [
        "## Рассмотрение метода умножения матриц"
      ]
    },
    {
      "cell_type": "markdown",
      "metadata": {
        "id": "VWPyNvcDHafr"
      },
      "source": [
        "В данном разделе необходимо аргументированно ответить на вопрос: изменится ли качество линейной регрессии при умножении матрицы признаков на обратимую матрицу.\n",
        "\n",
        "Если изменится - необходимо привести примеры матриц.\n",
        "\n",
        "Если не изменится - указать, как связаны параметры линейной регрессии в исходной задаче и в преобразованной."
      ]
    },
    {
      "cell_type": "markdown",
      "metadata": {
        "id": "kP3ubLe6Hafr"
      },
      "source": [
        "Обозначения:\n",
        "\n",
        "- $X$ — матрица признаков (нулевой столбец состоит из единиц)\n",
        "\n",
        "- $y$ — вектор целевого признака\n",
        "\n",
        "- $P$ — матрица, на которую умножаются признаки\n",
        "\n",
        "- $w$ — вектор весов линейной регрессии (нулевой элемент равен сдвигу)\n",
        "\n",
        "- $X'$ — матрица признаков, умноженная на обратимую матрицу"
      ]
    },
    {
      "cell_type": "markdown",
      "metadata": {
        "id": "pgSDJYdMHafr"
      },
      "source": [
        "Предсказания:\n",
        "\n",
        "$$\n",
        "a = Xw\n",
        "$$\n",
        "\n",
        "Задача обучения:\n",
        "\n",
        "$$\n",
        "w = \\arg\\min_w MSE(Xw, y)\n",
        "$$\n",
        "\n",
        "Формула обучения:\n",
        "\n",
        "$$\n",
        "w = (X^T X)^{-1} X^T y\n",
        "$$"
      ]
    },
    {
      "cell_type": "markdown",
      "metadata": {
        "id": "IwR14t28Hafs"
      },
      "source": [
        "Формула для $$X'$$.\n",
        "\n",
        "$$X'= X * P$$\n",
        "\n",
        "Тогда формула обучения принимает следующий вид:\n",
        "$$ ((XP)^T XP)^{-1} (XP)^T y $$\n",
        "\n",
        "При выполнении действий, получаем:\n",
        "\n",
        "$$ P^{-1} (X^T X)^ {-1} ((P^T)^{-1} P^T) X^T y $$\n",
        "\n",
        "Учитывая, что P - обратимая матрица, то $$ (P^T)^{-1} * P^T = E $$\n",
        "\n",
        "тогда $$ P^{-1} (X^T X)^ {-1} ((P^T)^{-1} P^T) X^T y  =  P^{-1} (X^T X)^ {-1} X^T y$$\n",
        "\n",
        "и формула обучения тогда выглядит следующим образом:\n",
        "\n",
        "$$ w' = P^{-1} * w $$\n",
        "\n",
        "Тогда формула предстказаний линейной регрессии выглядит следующим образом:\n",
        "\n",
        "$$ a' = X' * w' = X P P^{-1} w $$, а, учитывая, что $$ P P ^{-1} = E$$, то $$ a' = XEw = Xw = a$$\n",
        "\n",
        "Т.е. предсказания для матрицы признаков, умноженной на обратимую матрицу равны предсказаниям по матрице призанков.\n",
        "Таким образом, умноженирем матрицы признаков на обратимую матрицу никак не влияет на качество предсказаний модели линейной регрессии.\n",
        "\n",
        "Но, учитывая, что при умножении, изменяются веса для новых признаков - модель необходимо переубучать на новых признаках.\n"
      ]
    },
    {
      "cell_type": "markdown",
      "metadata": {
        "id": "_MoepcaKHaft"
      },
      "source": [
        "**Вывод по разделу**\n",
        "\n",
        "Умножение матрицы признаков на обратимую матрицу не влияет на качество работы модели линейной реграессии при условии переобучения модели на новых признаках."
      ]
    },
    {
      "cell_type": "markdown",
      "metadata": {
        "id": "x6xgGy4WHaft"
      },
      "source": [
        "## Выбор и обоснование алгоритма преобразования данных"
      ]
    },
    {
      "cell_type": "markdown",
      "metadata": {
        "id": "e4DXvCTzHafu"
      },
      "source": [
        "Алгоритмом преобразования данных выберем рассмотренный выше алгоритм умножения исходной матрицы признаков на квадратную обратимую матрицу размера, равного количеству признаков."
      ]
    },
    {
      "cell_type": "markdown",
      "metadata": {
        "id": "ASshRqlLHafu"
      },
      "source": [
        "Сформируем датасеты признаков и целевого признака:"
      ]
    },
    {
      "cell_type": "code",
      "execution_count": null,
      "metadata": {
        "id": "nlhyCW1dHafu"
      },
      "outputs": [],
      "source": [
        "features = data.drop('payments_count', axis = 1)\n",
        "target = data['payments_count']"
      ]
    },
    {
      "cell_type": "markdown",
      "metadata": {
        "id": "5WigyFFhHafu"
      },
      "source": [
        "Создадим случайную квадратную матрицу, на которую будем умножать матрицу признаков."
      ]
    },
    {
      "cell_type": "code",
      "execution_count": null,
      "metadata": {
        "id": "_AdX56n9Hafv"
      },
      "outputs": [],
      "source": [
        "multiplier = np.random.randint(100, size=(features.shape[1], features.shape[1]))"
      ]
    },
    {
      "cell_type": "markdown",
      "metadata": {
        "id": "QK0J7DGRHaf2"
      },
      "source": [
        "Проверим полученную матрицу на обратимость:"
      ]
    },
    {
      "cell_type": "code",
      "execution_count": null,
      "metadata": {
        "id": "-3QWAT3VHaf2"
      },
      "outputs": [],
      "source": [
        "multiplier_inv = np.linalg.inv(multiplier)"
      ]
    },
    {
      "cell_type": "markdown",
      "metadata": {
        "id": "j0_H1YrlHaf3"
      },
      "source": [
        "Так так код выполняется без ошибок - сформированная случайная матрица - обратима."
      ]
    },
    {
      "cell_type": "markdown",
      "metadata": {
        "id": "tb4cOU-eHaf4"
      },
      "source": [
        "Преобразуем датасет призаков методом StandartScaler:"
      ]
    },
    {
      "cell_type": "code",
      "execution_count": null,
      "metadata": {
        "id": "BfFqq4kFHaf4"
      },
      "outputs": [],
      "source": [
        "scaler = StandardScaler()\n",
        "\n",
        "scaler.fit(features)\n",
        "features = scaler.transform(features)"
      ]
    },
    {
      "cell_type": "markdown",
      "metadata": {
        "id": "P18jksClHaf4"
      },
      "source": [
        "Определим веса (w) по формуле из предыдущего раздела и вектор предсказаний (а):"
      ]
    },
    {
      "cell_type": "code",
      "execution_count": null,
      "metadata": {
        "id": "HomYpF7xHaf4"
      },
      "outputs": [],
      "source": [
        "features_ordg = features.copy()\n",
        "\n",
        "features = np.concatenate((np.ones((features.shape[0], 1)), features), axis=1)\n",
        "\n",
        "\n",
        "w = np.linalg.inv(features.T @ (features)) @ (features.T) @ (target)"
      ]
    },
    {
      "cell_type": "code",
      "execution_count": null,
      "metadata": {
        "id": "i643k4z7Haf5",
        "outputId": "55faabbe-81c2-4cee-cc85-6052b7fae76a"
      },
      "outputs": [
        {
          "name": "stdout",
          "output_type": "stream",
          "text": [
            "[[ 1.          1.0030995   1.1754362   0.97315092 -0.18517565]\n",
            " [ 1.         -0.99691008  1.76456423 -0.19011493 -0.18517565]\n",
            " [ 1.         -0.99691008 -0.23847105 -1.89490109 -1.09546611]\n",
            " ...\n",
            " [ 1.         -0.99691008 -1.29890149 -0.60126924  0.7251148 ]\n",
            " [ 1.          1.0030995  -1.06325028 -0.72160708  1.63540526]\n",
            " [ 1.          1.0030995  -0.35629665  0.07061707 -0.18517565]]\n"
          ]
        }
      ],
      "source": [
        "print(features)"
      ]
    },
    {
      "cell_type": "code",
      "execution_count": null,
      "metadata": {
        "id": "lbC6UTGTHaf6"
      },
      "outputs": [],
      "source": [
        "a = features @ w"
      ]
    },
    {
      "cell_type": "markdown",
      "metadata": {
        "id": "ORjdkmf-Haf7"
      },
      "source": [
        "Повторим расчеты для матрицы признаков умноженной на обратимую матрицу (multiplier):"
      ]
    },
    {
      "cell_type": "code",
      "execution_count": null,
      "metadata": {
        "id": "Z2zxL8E1Haf7"
      },
      "outputs": [],
      "source": [
        "features_multiplied = features_ordg @ multiplier"
      ]
    },
    {
      "cell_type": "code",
      "execution_count": null,
      "metadata": {
        "id": "JMalXckcHaf8"
      },
      "outputs": [],
      "source": [
        "features_multiplied_ordg = features_multiplied.copy()"
      ]
    },
    {
      "cell_type": "code",
      "execution_count": null,
      "metadata": {
        "id": "zHMkVq9oHaf9"
      },
      "outputs": [],
      "source": [
        "features_multiplied = np.concatenate((np.ones((features_multiplied.shape[0], 1)), features_multiplied), axis=1)"
      ]
    },
    {
      "cell_type": "code",
      "execution_count": null,
      "metadata": {
        "id": "S05Y5pPCHaf9",
        "outputId": "32f9380c-112a-4345-89fb-a65df5e95c03"
      },
      "outputs": [
        {
          "name": "stdout",
          "output_type": "stream",
          "text": [
            "[[   1.           96.73983323  262.32175551  168.63138486  118.41653848]\n",
            " [   1.          121.75712742   55.14508187    6.11289152  -22.03660917]\n",
            " [   1.         -149.2287952  -246.0862322  -183.55100586 -264.88280028]\n",
            " ...\n",
            " [   1.          -51.88649768 -243.43386482 -144.57217843  -51.01821528]\n",
            " [   1.           68.21311423  -14.31003345  103.49618287   91.82729848]\n",
            " [   1.          -40.04853155   66.26523835   63.10687627   17.57504654]]\n"
          ]
        }
      ],
      "source": [
        "print(features_multiplied)"
      ]
    },
    {
      "cell_type": "code",
      "execution_count": null,
      "metadata": {
        "id": "4faiCPceHaf-"
      },
      "outputs": [],
      "source": [
        "w_mlt = np.linalg.inv(features_multiplied.T @ (features_multiplied)) @ (features_multiplied.T) @ (target)"
      ]
    },
    {
      "cell_type": "code",
      "execution_count": null,
      "metadata": {
        "id": "G-PZNoS9Haf-"
      },
      "outputs": [],
      "source": [
        "a_mlt = features_multiplied @ w_mlt"
      ]
    },
    {
      "cell_type": "markdown",
      "metadata": {
        "id": "uYBpNhLoHaf_"
      },
      "source": [
        "Определим. насколько отличаются вектор предсказаний до умножения и после.\n",
        "Рассчитаем разницу элементов векторов и сложим их:"
      ]
    },
    {
      "cell_type": "code",
      "execution_count": null,
      "metadata": {
        "id": "nZhzrHbaHaf_",
        "outputId": "f3f7e6d8-6185-4ab5-e55d-0060037c49ac"
      },
      "outputs": [
        {
          "data": {
            "text/plain": [
              "4.750965788315187e-14"
            ]
          },
          "execution_count": 24,
          "metadata": {},
          "output_type": "execute_result"
        }
      ],
      "source": [
        "(a-a_mlt).sum()"
      ]
    },
    {
      "cell_type": "markdown",
      "metadata": {
        "id": "BJoiUF2kHagA"
      },
      "source": [
        "Суммарная разница элементов вектора предсказаний до умножения и после близка к нулю, следовательно, примененное преобразование не оказывает влияние на качество работы модели линейной регрессии."
      ]
    },
    {
      "cell_type": "markdown",
      "metadata": {
        "id": "CxCud4Y9HagC"
      },
      "source": [
        "**Вывод по разделу:**\n",
        "\n",
        "В качестве метода защиты персональных данных предложен метод умножения матрицы признаков на обратимую матрицу.\n",
        "Проведенный расчет показал, что такое умножение не влияет на качество работы модели (векторы предсказаний до умножения и после практически совпадают)."
      ]
    },
    {
      "cell_type": "markdown",
      "metadata": {
        "id": "qo_KSNCCHagD"
      },
      "source": [
        "## Проверка выбранного алгоритма на метриках качества работы модели машинного обучения"
      ]
    },
    {
      "cell_type": "markdown",
      "metadata": {
        "id": "k-bd623JHagD"
      },
      "source": [
        "Обучим модель линейной регрессии, рассчитаем предсказания и метрику качества (R2)."
      ]
    },
    {
      "cell_type": "code",
      "execution_count": null,
      "metadata": {
        "id": "qP8pFcmfHagD"
      },
      "outputs": [],
      "source": [
        "model = LinearRegression()\n",
        "\n",
        "model.fit(features_ordg, target)\n",
        "predictions = model.predict(features_ordg)"
      ]
    },
    {
      "cell_type": "code",
      "execution_count": null,
      "metadata": {
        "id": "eAMOOD6qHagE",
        "outputId": "39fcbea6-bb3c-417d-b8cf-e272c2914c20"
      },
      "outputs": [
        {
          "name": "stdout",
          "output_type": "stream",
          "text": [
            "Метрика качества модели линейной регрессии до преобразования признаков:\n",
            "R2:  0.430201\n"
          ]
        }
      ],
      "source": [
        "print('Метрика качества модели линейной регрессии до преобразования признаков:')\n",
        "print('R2: ',round(r2(target, predictions),6))"
      ]
    },
    {
      "cell_type": "markdown",
      "metadata": {
        "id": "rmC2qNA6HagE"
      },
      "source": [
        "Повторим расчеты для модели, обученой на признаках после преобразования (умножения на обратимую матрицу). После чего сравним значения метрики качества."
      ]
    },
    {
      "cell_type": "code",
      "execution_count": null,
      "metadata": {
        "id": "9tnI1RTVHagF",
        "outputId": "4ea57157-065e-470e-8231-7d6c9cc2f230"
      },
      "outputs": [
        {
          "name": "stdout",
          "output_type": "stream",
          "text": [
            "[[  96.73983323  262.32175551  168.63138486  118.41653848]\n",
            " [ 121.75712742   55.14508187    6.11289152  -22.03660917]\n",
            " [-149.2287952  -246.0862322  -183.55100586 -264.88280028]\n",
            " ...\n",
            " [ -51.88649768 -243.43386482 -144.57217843  -51.01821528]\n",
            " [  68.21311423  -14.31003345  103.49618287   91.82729848]\n",
            " [ -40.04853155   66.26523835   63.10687627   17.57504654]]\n"
          ]
        }
      ],
      "source": [
        "print(features_multiplied_ordg)"
      ]
    },
    {
      "cell_type": "code",
      "execution_count": null,
      "metadata": {
        "id": "VDg1Y9C2HagF"
      },
      "outputs": [],
      "source": [
        "#scaler = StandardScaler()\n",
        "\n",
        "#scaler.fit(features_multiplied)\n",
        "#features_multiplied = scaler.transform(features_multiplied)\n",
        "\n",
        "\n",
        "model = LinearRegression()\n",
        "\n",
        "model.fit(features_multiplied_ordg, target)\n",
        "predictions = model.predict(features_multiplied_ordg)"
      ]
    },
    {
      "cell_type": "code",
      "execution_count": null,
      "metadata": {
        "id": "COBGBPWZHagH",
        "outputId": "7e18bf70-5f8e-4145-9a16-9c5dcbc5b5a0"
      },
      "outputs": [
        {
          "name": "stdout",
          "output_type": "stream",
          "text": [
            "Метрика качества модели линейной регрессии после преобразования признаков:\n",
            "R2:  0.430201\n"
          ]
        }
      ],
      "source": [
        "print('Метрика качества модели линейной регрессии после преобразования признаков:')\n",
        "print('R2: ',round(r2(target, predictions),6))"
      ]
    },
    {
      "cell_type": "markdown",
      "metadata": {
        "id": "ycBVmG3-HagH"
      },
      "source": [
        "**Вывод по разделу:**\n",
        "\n",
        "Метрика качества модели линейной регрессии, рассчитанная на модели, обученной на исходных признаках и на преобразованных не отличаются. Следовательно, примененное преобразование не влияет на качество работы модели линейной регрессии."
      ]
    },
    {
      "cell_type": "markdown",
      "metadata": {
        "id": "3LJLiG7yHagI"
      },
      "source": [
        "**Вывод по проекту:**\n",
        "\n",
        "В соответсвии с заданием, необходимо было предложить метод защиты персональных данных клиентов страховой компании \"Хоть потоп\", который бы не позволял легко восстанавливать данные и, при этом, не оказывал бы влияние на качество модели машинного обучения (линейной регрессии), которая предсказывала бы количество страховых выплат.\n",
        "\n",
        "В результате работы над проектом был исследован датасет размером 5 000 строк и 5 столбцов.\n",
        "\n",
        "По результатам предобработки были найдены и исключены 153 строки полных дубликатов, в остальном - данные были готовы для обработки (отсутствовали пропуски, типы данных соответствовали данным, отсутствовала корреляция между признаками).\n",
        "\n",
        "Методом, отвечающим требованиям задачи, был выбран метод умножения матрицы признаков на обратимую матрицу.\n",
        "Возможность применения этого метода была подтверждена теоритически через формулы расчета весов и вектора предсказаний.\n",
        "\n",
        "А также практически через расчет метрики качества модели линейной регрессии по исходным признакам и по признакам после соотвествующего умножения на обратимую матрицу.\n",
        "\n",
        "ВЫВОД: метод умножения матрицы признаков на обратимую матрицу может использоваться для защиты персональных данных, при этом не влияет на качество работы модели линейной регрессии."
      ]
    }
  ],
  "metadata": {
    "ExecuteTimeLog": [
      {
        "duration": 1137,
        "start_time": "2023-05-29T07:31:12.202Z"
      },
      {
        "duration": 91,
        "start_time": "2023-05-29T07:31:14.357Z"
      },
      {
        "duration": 13,
        "start_time": "2023-05-29T07:31:16.650Z"
      },
      {
        "duration": 10,
        "start_time": "2023-05-29T07:31:45.021Z"
      },
      {
        "duration": 21,
        "start_time": "2023-05-29T07:32:16.897Z"
      },
      {
        "duration": 10,
        "start_time": "2023-05-29T07:32:28.153Z"
      },
      {
        "duration": 7,
        "start_time": "2023-05-29T07:33:20.917Z"
      },
      {
        "duration": 5,
        "start_time": "2023-05-29T07:33:48.312Z"
      },
      {
        "duration": 9,
        "start_time": "2023-05-29T07:34:41.979Z"
      },
      {
        "duration": 86,
        "start_time": "2023-05-29T07:42:53.758Z"
      },
      {
        "duration": 4,
        "start_time": "2023-05-29T07:43:04.265Z"
      },
      {
        "duration": 10,
        "start_time": "2023-05-29T07:43:16.413Z"
      },
      {
        "duration": 4,
        "start_time": "2023-05-29T07:49:56.601Z"
      },
      {
        "duration": 10,
        "start_time": "2023-05-29T07:49:57.209Z"
      },
      {
        "duration": 5,
        "start_time": "2023-05-29T09:29:41.495Z"
      },
      {
        "duration": 4,
        "start_time": "2023-05-29T09:30:22.486Z"
      },
      {
        "duration": 3,
        "start_time": "2023-05-29T09:30:24.701Z"
      },
      {
        "duration": 4,
        "start_time": "2023-05-29T09:32:27.415Z"
      },
      {
        "duration": 9,
        "start_time": "2023-05-29T09:35:34.524Z"
      },
      {
        "duration": 3,
        "start_time": "2023-05-29T09:38:33.222Z"
      },
      {
        "duration": 9,
        "start_time": "2023-05-29T09:39:59.223Z"
      },
      {
        "duration": 8,
        "start_time": "2023-05-29T09:40:06.846Z"
      },
      {
        "duration": 17,
        "start_time": "2023-05-29T09:41:10.645Z"
      },
      {
        "duration": 3,
        "start_time": "2023-05-29T09:45:38.601Z"
      },
      {
        "duration": 3,
        "start_time": "2023-05-29T09:47:38.235Z"
      },
      {
        "duration": 6,
        "start_time": "2023-05-29T09:47:39.690Z"
      },
      {
        "duration": 4,
        "start_time": "2023-05-29T09:49:46.017Z"
      },
      {
        "duration": 5,
        "start_time": "2023-05-29T11:09:59.697Z"
      },
      {
        "duration": 5,
        "start_time": "2023-05-29T11:10:01.710Z"
      },
      {
        "duration": 7,
        "start_time": "2023-05-29T11:13:39.693Z"
      },
      {
        "duration": 5,
        "start_time": "2023-05-29T11:13:41.705Z"
      },
      {
        "duration": 6,
        "start_time": "2023-05-29T11:16:59.700Z"
      },
      {
        "duration": 6,
        "start_time": "2023-05-29T11:17:00.193Z"
      },
      {
        "duration": 6,
        "start_time": "2023-05-29T11:18:51.340Z"
      },
      {
        "duration": 6,
        "start_time": "2023-05-29T11:18:53.577Z"
      },
      {
        "duration": 987,
        "start_time": "2023-05-29T11:31:49.642Z"
      },
      {
        "duration": 39,
        "start_time": "2023-05-29T11:31:50.632Z"
      },
      {
        "duration": 10,
        "start_time": "2023-05-29T11:31:50.673Z"
      },
      {
        "duration": 18,
        "start_time": "2023-05-29T11:31:50.684Z"
      },
      {
        "duration": 37,
        "start_time": "2023-05-29T11:31:50.704Z"
      },
      {
        "duration": 24,
        "start_time": "2023-05-29T11:31:50.743Z"
      },
      {
        "duration": 11,
        "start_time": "2023-05-29T11:31:50.768Z"
      },
      {
        "duration": 11,
        "start_time": "2023-05-29T11:31:50.780Z"
      },
      {
        "duration": 8,
        "start_time": "2023-05-29T11:31:50.792Z"
      },
      {
        "duration": 24,
        "start_time": "2023-05-29T11:31:50.802Z"
      },
      {
        "duration": 9,
        "start_time": "2023-05-29T11:31:50.828Z"
      },
      {
        "duration": 106,
        "start_time": "2023-05-29T11:31:50.838Z"
      },
      {
        "duration": 0,
        "start_time": "2023-05-29T11:31:50.946Z"
      },
      {
        "duration": 0,
        "start_time": "2023-05-29T11:31:50.947Z"
      },
      {
        "duration": 1,
        "start_time": "2023-05-29T11:31:50.948Z"
      },
      {
        "duration": 0,
        "start_time": "2023-05-29T11:31:50.949Z"
      },
      {
        "duration": 0,
        "start_time": "2023-05-29T11:31:50.950Z"
      },
      {
        "duration": 0,
        "start_time": "2023-05-29T11:31:50.951Z"
      },
      {
        "duration": 0,
        "start_time": "2023-05-29T11:31:50.953Z"
      },
      {
        "duration": 0,
        "start_time": "2023-05-29T11:31:50.954Z"
      },
      {
        "duration": 0,
        "start_time": "2023-05-29T11:31:50.955Z"
      },
      {
        "duration": 0,
        "start_time": "2023-05-29T11:31:50.956Z"
      },
      {
        "duration": 0,
        "start_time": "2023-05-29T11:31:50.957Z"
      },
      {
        "duration": 987,
        "start_time": "2023-05-29T11:41:35.345Z"
      },
      {
        "duration": 29,
        "start_time": "2023-05-29T11:41:36.334Z"
      },
      {
        "duration": 12,
        "start_time": "2023-05-29T11:41:36.365Z"
      },
      {
        "duration": 21,
        "start_time": "2023-05-29T11:41:36.379Z"
      },
      {
        "duration": 20,
        "start_time": "2023-05-29T11:41:36.402Z"
      },
      {
        "duration": 8,
        "start_time": "2023-05-29T11:41:36.423Z"
      },
      {
        "duration": 5,
        "start_time": "2023-05-29T11:41:36.432Z"
      },
      {
        "duration": 3,
        "start_time": "2023-05-29T11:41:36.438Z"
      },
      {
        "duration": 4,
        "start_time": "2023-05-29T11:41:36.442Z"
      },
      {
        "duration": 10,
        "start_time": "2023-05-29T11:41:36.447Z"
      },
      {
        "duration": 3,
        "start_time": "2023-05-29T11:41:36.458Z"
      },
      {
        "duration": 44,
        "start_time": "2023-05-29T11:41:36.462Z"
      },
      {
        "duration": 8,
        "start_time": "2023-05-29T11:41:36.508Z"
      },
      {
        "duration": 4,
        "start_time": "2023-05-29T11:41:36.518Z"
      },
      {
        "duration": 97,
        "start_time": "2023-05-29T11:41:36.524Z"
      },
      {
        "duration": 83,
        "start_time": "2023-05-29T11:41:36.623Z"
      },
      {
        "duration": 21,
        "start_time": "2023-05-29T11:41:36.708Z"
      },
      {
        "duration": 10,
        "start_time": "2023-05-29T11:41:36.731Z"
      },
      {
        "duration": 164,
        "start_time": "2023-05-29T11:41:36.743Z"
      },
      {
        "duration": 19,
        "start_time": "2023-05-29T11:41:36.909Z"
      },
      {
        "duration": 78,
        "start_time": "2023-05-29T11:41:36.929Z"
      },
      {
        "duration": 7,
        "start_time": "2023-05-29T11:41:37.008Z"
      },
      {
        "duration": 99,
        "start_time": "2023-05-29T11:41:37.106Z"
      },
      {
        "duration": 3,
        "start_time": "2023-05-29T11:46:32.091Z"
      },
      {
        "duration": 1019,
        "start_time": "2023-05-29T11:52:59.777Z"
      },
      {
        "duration": 29,
        "start_time": "2023-05-29T11:53:00.798Z"
      },
      {
        "duration": 33,
        "start_time": "2023-05-29T11:53:00.829Z"
      },
      {
        "duration": 58,
        "start_time": "2023-05-29T11:53:00.863Z"
      },
      {
        "duration": 63,
        "start_time": "2023-05-29T11:53:00.923Z"
      },
      {
        "duration": 37,
        "start_time": "2023-05-29T11:53:00.988Z"
      },
      {
        "duration": 27,
        "start_time": "2023-05-29T11:53:01.027Z"
      },
      {
        "duration": 50,
        "start_time": "2023-05-29T11:53:01.056Z"
      },
      {
        "duration": 44,
        "start_time": "2023-05-29T11:53:01.107Z"
      },
      {
        "duration": 45,
        "start_time": "2023-05-29T11:53:01.153Z"
      },
      {
        "duration": 29,
        "start_time": "2023-05-29T11:53:01.200Z"
      },
      {
        "duration": 10,
        "start_time": "2023-05-29T11:53:01.231Z"
      },
      {
        "duration": 23,
        "start_time": "2023-05-29T11:53:01.243Z"
      },
      {
        "duration": 43,
        "start_time": "2023-05-29T11:53:01.269Z"
      },
      {
        "duration": 94,
        "start_time": "2023-05-29T11:53:01.314Z"
      },
      {
        "duration": 97,
        "start_time": "2023-05-29T11:53:01.410Z"
      },
      {
        "duration": 115,
        "start_time": "2023-05-29T11:53:01.509Z"
      },
      {
        "duration": 40,
        "start_time": "2023-05-29T11:53:01.626Z"
      },
      {
        "duration": 63,
        "start_time": "2023-05-29T11:53:01.668Z"
      },
      {
        "duration": 102,
        "start_time": "2023-05-29T11:53:01.807Z"
      },
      {
        "duration": 41,
        "start_time": "2023-05-29T11:53:01.910Z"
      },
      {
        "duration": 155,
        "start_time": "2023-05-29T11:53:01.952Z"
      },
      {
        "duration": 37,
        "start_time": "2023-05-29T11:53:02.109Z"
      },
      {
        "duration": 162,
        "start_time": "2023-05-29T11:53:02.148Z"
      },
      {
        "duration": 1040,
        "start_time": "2023-05-29T11:55:28.319Z"
      },
      {
        "duration": 28,
        "start_time": "2023-05-29T11:55:29.361Z"
      },
      {
        "duration": 12,
        "start_time": "2023-05-29T11:55:29.390Z"
      },
      {
        "duration": 26,
        "start_time": "2023-05-29T11:55:29.405Z"
      },
      {
        "duration": 29,
        "start_time": "2023-05-29T11:55:29.432Z"
      },
      {
        "duration": 8,
        "start_time": "2023-05-29T11:55:29.463Z"
      },
      {
        "duration": 13,
        "start_time": "2023-05-29T11:55:29.472Z"
      },
      {
        "duration": 8,
        "start_time": "2023-05-29T11:55:29.487Z"
      },
      {
        "duration": 7,
        "start_time": "2023-05-29T11:55:29.496Z"
      },
      {
        "duration": 16,
        "start_time": "2023-05-29T11:55:29.505Z"
      },
      {
        "duration": 5,
        "start_time": "2023-05-29T11:55:29.522Z"
      },
      {
        "duration": 15,
        "start_time": "2023-05-29T11:55:29.528Z"
      },
      {
        "duration": 20,
        "start_time": "2023-05-29T11:55:29.545Z"
      },
      {
        "duration": 46,
        "start_time": "2023-05-29T11:55:29.566Z"
      },
      {
        "duration": 7,
        "start_time": "2023-05-29T11:55:29.613Z"
      },
      {
        "duration": 93,
        "start_time": "2023-05-29T11:55:29.621Z"
      },
      {
        "duration": 3,
        "start_time": "2023-05-29T11:55:29.716Z"
      },
      {
        "duration": 99,
        "start_time": "2023-05-29T11:55:29.720Z"
      },
      {
        "duration": 22,
        "start_time": "2023-05-29T11:55:29.906Z"
      },
      {
        "duration": 4,
        "start_time": "2023-05-29T11:55:30.007Z"
      },
      {
        "duration": 96,
        "start_time": "2023-05-29T11:55:30.013Z"
      },
      {
        "duration": 106,
        "start_time": "2023-05-29T11:55:30.111Z"
      },
      {
        "duration": 109,
        "start_time": "2023-05-29T11:55:30.221Z"
      },
      {
        "duration": 174,
        "start_time": "2023-05-29T11:55:30.335Z"
      },
      {
        "duration": 1988,
        "start_time": "2023-05-29T12:23:29.190Z"
      },
      {
        "duration": 141,
        "start_time": "2023-05-29T12:23:31.181Z"
      },
      {
        "duration": 13,
        "start_time": "2023-05-29T12:23:31.324Z"
      },
      {
        "duration": 58,
        "start_time": "2023-05-29T12:23:31.338Z"
      },
      {
        "duration": 39,
        "start_time": "2023-05-29T12:23:31.398Z"
      },
      {
        "duration": 19,
        "start_time": "2023-05-29T12:23:31.439Z"
      },
      {
        "duration": 13,
        "start_time": "2023-05-29T12:23:31.466Z"
      },
      {
        "duration": 23,
        "start_time": "2023-05-29T12:23:31.482Z"
      },
      {
        "duration": 25,
        "start_time": "2023-05-29T12:23:31.507Z"
      },
      {
        "duration": 48,
        "start_time": "2023-05-29T12:23:31.533Z"
      },
      {
        "duration": 36,
        "start_time": "2023-05-29T12:23:31.583Z"
      },
      {
        "duration": 37,
        "start_time": "2023-05-29T12:23:31.621Z"
      },
      {
        "duration": 26,
        "start_time": "2023-05-29T12:23:31.660Z"
      },
      {
        "duration": 80,
        "start_time": "2023-05-29T12:23:31.691Z"
      },
      {
        "duration": 12,
        "start_time": "2023-05-29T12:23:31.774Z"
      },
      {
        "duration": 186,
        "start_time": "2023-05-29T12:23:31.788Z"
      },
      {
        "duration": 6,
        "start_time": "2023-05-29T12:23:31.976Z"
      },
      {
        "duration": 95,
        "start_time": "2023-05-29T12:23:31.984Z"
      },
      {
        "duration": 93,
        "start_time": "2023-05-29T12:23:32.084Z"
      },
      {
        "duration": 78,
        "start_time": "2023-05-29T12:23:32.190Z"
      },
      {
        "duration": 87,
        "start_time": "2023-05-29T12:23:32.276Z"
      },
      {
        "duration": 19,
        "start_time": "2023-05-29T12:23:32.368Z"
      },
      {
        "duration": 68,
        "start_time": "2023-05-29T12:23:32.391Z"
      },
      {
        "duration": 24,
        "start_time": "2023-05-29T12:23:32.462Z"
      },
      {
        "duration": 5,
        "start_time": "2023-05-29T13:12:33.918Z"
      },
      {
        "duration": 1047,
        "start_time": "2023-05-29T14:45:57.354Z"
      },
      {
        "duration": 131,
        "start_time": "2023-05-29T14:45:58.403Z"
      },
      {
        "duration": 11,
        "start_time": "2023-05-29T14:45:58.536Z"
      },
      {
        "duration": 21,
        "start_time": "2023-05-29T14:45:58.548Z"
      },
      {
        "duration": 21,
        "start_time": "2023-05-29T14:45:58.570Z"
      },
      {
        "duration": 8,
        "start_time": "2023-05-29T14:45:58.593Z"
      },
      {
        "duration": 4,
        "start_time": "2023-05-29T14:45:58.603Z"
      },
      {
        "duration": 5,
        "start_time": "2023-05-29T14:45:58.608Z"
      },
      {
        "duration": 3,
        "start_time": "2023-05-29T14:45:58.614Z"
      },
      {
        "duration": 15,
        "start_time": "2023-05-29T14:45:58.619Z"
      },
      {
        "duration": 3,
        "start_time": "2023-05-29T14:45:58.635Z"
      },
      {
        "duration": 8,
        "start_time": "2023-05-29T14:45:58.640Z"
      },
      {
        "duration": 5,
        "start_time": "2023-05-29T14:45:58.649Z"
      },
      {
        "duration": 3,
        "start_time": "2023-05-29T14:45:58.656Z"
      },
      {
        "duration": 5,
        "start_time": "2023-05-29T14:45:58.661Z"
      },
      {
        "duration": 69,
        "start_time": "2023-05-29T14:45:58.668Z"
      },
      {
        "duration": 304,
        "start_time": "2023-05-29T14:45:58.739Z"
      },
      {
        "duration": 0,
        "start_time": "2023-05-29T14:45:59.044Z"
      },
      {
        "duration": 0,
        "start_time": "2023-05-29T14:45:59.045Z"
      },
      {
        "duration": 0,
        "start_time": "2023-05-29T14:45:59.046Z"
      },
      {
        "duration": 0,
        "start_time": "2023-05-29T14:45:59.047Z"
      },
      {
        "duration": 0,
        "start_time": "2023-05-29T14:45:59.048Z"
      },
      {
        "duration": 0,
        "start_time": "2023-05-29T14:45:59.049Z"
      },
      {
        "duration": 0,
        "start_time": "2023-05-29T14:45:59.050Z"
      },
      {
        "duration": 0,
        "start_time": "2023-05-29T14:45:59.051Z"
      },
      {
        "duration": 3,
        "start_time": "2023-05-29T14:53:49.304Z"
      },
      {
        "duration": 3,
        "start_time": "2023-05-29T14:54:11.579Z"
      },
      {
        "duration": 11,
        "start_time": "2023-05-29T14:55:36.149Z"
      },
      {
        "duration": 9,
        "start_time": "2023-05-29T14:55:57.308Z"
      },
      {
        "duration": 13,
        "start_time": "2023-05-29T15:03:59.012Z"
      },
      {
        "duration": 8,
        "start_time": "2023-05-29T15:04:33.639Z"
      },
      {
        "duration": 4,
        "start_time": "2023-05-29T15:04:36.936Z"
      },
      {
        "duration": 3,
        "start_time": "2023-05-29T15:04:38.893Z"
      },
      {
        "duration": 5,
        "start_time": "2023-05-29T15:04:39.609Z"
      },
      {
        "duration": 7,
        "start_time": "2023-05-29T15:04:43.171Z"
      },
      {
        "duration": 4,
        "start_time": "2023-05-29T15:05:05.330Z"
      },
      {
        "duration": 7,
        "start_time": "2023-05-29T15:05:05.849Z"
      },
      {
        "duration": 7,
        "start_time": "2023-05-29T15:05:06.391Z"
      },
      {
        "duration": 5,
        "start_time": "2023-05-29T15:05:08.089Z"
      },
      {
        "duration": 5,
        "start_time": "2023-05-29T15:05:18.065Z"
      },
      {
        "duration": 9,
        "start_time": "2023-05-29T15:05:18.628Z"
      },
      {
        "duration": 10,
        "start_time": "2023-05-29T15:05:23.893Z"
      },
      {
        "duration": 4,
        "start_time": "2023-05-29T15:05:29.141Z"
      },
      {
        "duration": 1009,
        "start_time": "2023-05-29T15:06:17.896Z"
      },
      {
        "duration": 35,
        "start_time": "2023-05-29T15:06:18.907Z"
      },
      {
        "duration": 11,
        "start_time": "2023-05-29T15:06:18.943Z"
      },
      {
        "duration": 14,
        "start_time": "2023-05-29T15:06:18.955Z"
      },
      {
        "duration": 21,
        "start_time": "2023-05-29T15:06:18.971Z"
      },
      {
        "duration": 8,
        "start_time": "2023-05-29T15:06:18.994Z"
      },
      {
        "duration": 4,
        "start_time": "2023-05-29T15:06:19.004Z"
      },
      {
        "duration": 7,
        "start_time": "2023-05-29T15:06:19.030Z"
      },
      {
        "duration": 7,
        "start_time": "2023-05-29T15:06:19.039Z"
      },
      {
        "duration": 12,
        "start_time": "2023-05-29T15:06:19.047Z"
      },
      {
        "duration": 4,
        "start_time": "2023-05-29T15:06:19.060Z"
      },
      {
        "duration": 33,
        "start_time": "2023-05-29T15:06:19.065Z"
      },
      {
        "duration": 10,
        "start_time": "2023-05-29T15:06:19.100Z"
      },
      {
        "duration": 115,
        "start_time": "2023-05-29T15:06:19.114Z"
      },
      {
        "duration": 0,
        "start_time": "2023-05-29T15:06:19.231Z"
      },
      {
        "duration": 0,
        "start_time": "2023-05-29T15:06:19.233Z"
      },
      {
        "duration": 1,
        "start_time": "2023-05-29T15:06:19.234Z"
      },
      {
        "duration": 0,
        "start_time": "2023-05-29T15:06:19.235Z"
      },
      {
        "duration": 0,
        "start_time": "2023-05-29T15:06:19.236Z"
      },
      {
        "duration": 0,
        "start_time": "2023-05-29T15:06:19.237Z"
      },
      {
        "duration": 0,
        "start_time": "2023-05-29T15:06:19.238Z"
      },
      {
        "duration": 0,
        "start_time": "2023-05-29T15:06:19.238Z"
      },
      {
        "duration": 0,
        "start_time": "2023-05-29T15:06:19.239Z"
      },
      {
        "duration": 0,
        "start_time": "2023-05-29T15:06:19.239Z"
      },
      {
        "duration": 0,
        "start_time": "2023-05-29T15:06:19.240Z"
      },
      {
        "duration": 7,
        "start_time": "2023-05-29T15:06:56.962Z"
      },
      {
        "duration": 4,
        "start_time": "2023-05-29T15:06:58.362Z"
      },
      {
        "duration": 6,
        "start_time": "2023-05-29T15:06:58.880Z"
      },
      {
        "duration": 2,
        "start_time": "2023-05-29T15:07:00.275Z"
      },
      {
        "duration": 7,
        "start_time": "2023-05-29T15:07:00.825Z"
      },
      {
        "duration": 7,
        "start_time": "2023-05-29T15:07:01.346Z"
      },
      {
        "duration": 4,
        "start_time": "2023-05-29T15:07:04.469Z"
      },
      {
        "duration": 7,
        "start_time": "2023-05-29T15:07:09.238Z"
      },
      {
        "duration": 6,
        "start_time": "2023-05-29T15:07:09.788Z"
      },
      {
        "duration": 9,
        "start_time": "2023-05-29T15:07:13.535Z"
      },
      {
        "duration": 5,
        "start_time": "2023-05-29T15:08:05.451Z"
      },
      {
        "duration": 1111,
        "start_time": "2023-05-29T15:08:39.349Z"
      },
      {
        "duration": 28,
        "start_time": "2023-05-29T15:08:40.462Z"
      },
      {
        "duration": 11,
        "start_time": "2023-05-29T15:08:40.491Z"
      },
      {
        "duration": 47,
        "start_time": "2023-05-29T15:08:40.504Z"
      },
      {
        "duration": 41,
        "start_time": "2023-05-29T15:08:40.553Z"
      },
      {
        "duration": 10,
        "start_time": "2023-05-29T15:08:40.595Z"
      },
      {
        "duration": 7,
        "start_time": "2023-05-29T15:08:40.607Z"
      },
      {
        "duration": 34,
        "start_time": "2023-05-29T15:08:40.616Z"
      },
      {
        "duration": 10,
        "start_time": "2023-05-29T15:08:40.651Z"
      },
      {
        "duration": 25,
        "start_time": "2023-05-29T15:08:40.663Z"
      },
      {
        "duration": 7,
        "start_time": "2023-05-29T15:08:40.689Z"
      },
      {
        "duration": 21,
        "start_time": "2023-05-29T15:08:40.698Z"
      },
      {
        "duration": 19,
        "start_time": "2023-05-29T15:08:40.720Z"
      },
      {
        "duration": 13,
        "start_time": "2023-05-29T15:08:40.741Z"
      },
      {
        "duration": 74,
        "start_time": "2023-05-29T15:08:40.756Z"
      },
      {
        "duration": 23,
        "start_time": "2023-05-29T15:08:40.832Z"
      },
      {
        "duration": 107,
        "start_time": "2023-05-29T15:08:40.926Z"
      },
      {
        "duration": 21,
        "start_time": "2023-05-29T15:08:41.035Z"
      },
      {
        "duration": 12,
        "start_time": "2023-05-29T15:08:41.058Z"
      },
      {
        "duration": 70,
        "start_time": "2023-05-29T15:08:41.071Z"
      },
      {
        "duration": 87,
        "start_time": "2023-05-29T15:08:41.143Z"
      },
      {
        "duration": 14,
        "start_time": "2023-05-29T15:08:41.234Z"
      },
      {
        "duration": 95,
        "start_time": "2023-05-29T15:08:41.333Z"
      },
      {
        "duration": 5,
        "start_time": "2023-05-29T15:08:41.430Z"
      },
      {
        "duration": 1020,
        "start_time": "2023-05-29T15:11:52.680Z"
      },
      {
        "duration": 36,
        "start_time": "2023-05-29T15:11:53.702Z"
      },
      {
        "duration": 9,
        "start_time": "2023-05-29T15:11:53.740Z"
      },
      {
        "duration": 35,
        "start_time": "2023-05-29T15:11:53.751Z"
      },
      {
        "duration": 20,
        "start_time": "2023-05-29T15:11:53.788Z"
      },
      {
        "duration": 8,
        "start_time": "2023-05-29T15:11:53.809Z"
      },
      {
        "duration": 22,
        "start_time": "2023-05-29T15:11:53.818Z"
      },
      {
        "duration": 7,
        "start_time": "2023-05-29T15:11:53.841Z"
      },
      {
        "duration": 12,
        "start_time": "2023-05-29T15:11:53.849Z"
      },
      {
        "duration": 14,
        "start_time": "2023-05-29T15:11:53.862Z"
      },
      {
        "duration": 4,
        "start_time": "2023-05-29T15:11:53.878Z"
      },
      {
        "duration": 20,
        "start_time": "2023-05-29T15:11:53.883Z"
      },
      {
        "duration": 11,
        "start_time": "2023-05-29T15:11:53.904Z"
      },
      {
        "duration": 17,
        "start_time": "2023-05-29T15:11:53.917Z"
      },
      {
        "duration": 5,
        "start_time": "2023-05-29T15:11:53.938Z"
      },
      {
        "duration": 92,
        "start_time": "2023-05-29T15:11:53.944Z"
      },
      {
        "duration": 4,
        "start_time": "2023-05-29T15:11:54.037Z"
      },
      {
        "duration": 89,
        "start_time": "2023-05-29T15:11:54.042Z"
      },
      {
        "duration": 6,
        "start_time": "2023-05-29T15:11:54.133Z"
      },
      {
        "duration": 83,
        "start_time": "2023-05-29T15:11:54.145Z"
      },
      {
        "duration": 101,
        "start_time": "2023-05-29T15:11:54.230Z"
      },
      {
        "duration": 13,
        "start_time": "2023-05-29T15:11:54.334Z"
      },
      {
        "duration": 189,
        "start_time": "2023-05-29T15:11:54.349Z"
      },
      {
        "duration": 91,
        "start_time": "2023-05-29T15:11:54.540Z"
      },
      {
        "duration": 1687,
        "start_time": "2023-05-29T16:29:40.486Z"
      },
      {
        "duration": 28,
        "start_time": "2023-05-29T16:29:42.175Z"
      },
      {
        "duration": 13,
        "start_time": "2023-05-29T16:29:42.205Z"
      },
      {
        "duration": 17,
        "start_time": "2023-05-29T16:29:42.220Z"
      },
      {
        "duration": 32,
        "start_time": "2023-05-29T16:29:42.239Z"
      },
      {
        "duration": 19,
        "start_time": "2023-05-29T16:29:42.273Z"
      },
      {
        "duration": 15,
        "start_time": "2023-05-29T16:29:42.293Z"
      },
      {
        "duration": 14,
        "start_time": "2023-05-29T16:29:42.310Z"
      },
      {
        "duration": 6,
        "start_time": "2023-05-29T16:29:42.325Z"
      },
      {
        "duration": 22,
        "start_time": "2023-05-29T16:29:42.333Z"
      },
      {
        "duration": 5,
        "start_time": "2023-05-29T16:29:42.357Z"
      },
      {
        "duration": 5,
        "start_time": "2023-05-29T16:29:42.364Z"
      },
      {
        "duration": 11,
        "start_time": "2023-05-29T16:29:42.371Z"
      },
      {
        "duration": 13,
        "start_time": "2023-05-29T16:29:42.384Z"
      },
      {
        "duration": 68,
        "start_time": "2023-05-29T16:29:42.399Z"
      },
      {
        "duration": 88,
        "start_time": "2023-05-29T16:29:42.469Z"
      },
      {
        "duration": 4,
        "start_time": "2023-05-29T16:29:42.559Z"
      },
      {
        "duration": 97,
        "start_time": "2023-05-29T16:29:42.565Z"
      },
      {
        "duration": 93,
        "start_time": "2023-05-29T16:29:42.664Z"
      },
      {
        "duration": 4,
        "start_time": "2023-05-29T16:29:42.759Z"
      },
      {
        "duration": 92,
        "start_time": "2023-05-29T16:29:42.765Z"
      },
      {
        "duration": 10,
        "start_time": "2023-05-29T16:29:42.860Z"
      },
      {
        "duration": 6,
        "start_time": "2023-05-29T16:29:42.957Z"
      },
      {
        "duration": 6,
        "start_time": "2023-05-29T16:29:42.965Z"
      },
      {
        "duration": 0,
        "start_time": "2023-05-29T17:22:13.326Z"
      },
      {
        "duration": 0,
        "start_time": "2023-05-29T17:22:13.327Z"
      },
      {
        "duration": 0,
        "start_time": "2023-05-29T17:22:13.328Z"
      },
      {
        "duration": 0,
        "start_time": "2023-05-29T17:22:13.328Z"
      },
      {
        "duration": 0,
        "start_time": "2023-05-29T17:22:13.329Z"
      },
      {
        "duration": 0,
        "start_time": "2023-05-29T17:22:13.330Z"
      },
      {
        "duration": 0,
        "start_time": "2023-05-29T17:22:13.330Z"
      },
      {
        "duration": 0,
        "start_time": "2023-05-29T17:22:13.331Z"
      },
      {
        "duration": 0,
        "start_time": "2023-05-29T17:22:13.331Z"
      },
      {
        "duration": 0,
        "start_time": "2023-05-29T17:22:13.332Z"
      },
      {
        "duration": 0,
        "start_time": "2023-05-29T17:22:13.333Z"
      },
      {
        "duration": 0,
        "start_time": "2023-05-29T17:22:13.334Z"
      },
      {
        "duration": 0,
        "start_time": "2023-05-29T17:22:13.334Z"
      },
      {
        "duration": 0,
        "start_time": "2023-05-29T17:22:13.335Z"
      },
      {
        "duration": 0,
        "start_time": "2023-05-29T17:22:13.336Z"
      },
      {
        "duration": 0,
        "start_time": "2023-05-29T17:22:13.336Z"
      },
      {
        "duration": 0,
        "start_time": "2023-05-29T17:22:13.337Z"
      },
      {
        "duration": 0,
        "start_time": "2023-05-29T17:22:13.338Z"
      },
      {
        "duration": 0,
        "start_time": "2023-05-29T17:22:13.338Z"
      },
      {
        "duration": 0,
        "start_time": "2023-05-29T17:22:13.339Z"
      },
      {
        "duration": 0,
        "start_time": "2023-05-29T17:22:13.339Z"
      },
      {
        "duration": 0,
        "start_time": "2023-05-29T17:22:13.340Z"
      },
      {
        "duration": 0,
        "start_time": "2023-05-29T17:22:13.341Z"
      },
      {
        "duration": 0,
        "start_time": "2023-05-29T17:22:13.341Z"
      },
      {
        "duration": 1137,
        "start_time": "2023-05-29T17:22:24.909Z"
      },
      {
        "duration": 37,
        "start_time": "2023-05-29T17:22:26.048Z"
      },
      {
        "duration": 12,
        "start_time": "2023-05-29T17:22:26.086Z"
      },
      {
        "duration": 51,
        "start_time": "2023-05-29T17:22:26.100Z"
      },
      {
        "duration": 34,
        "start_time": "2023-05-29T17:22:26.155Z"
      },
      {
        "duration": 9,
        "start_time": "2023-05-29T17:22:26.190Z"
      },
      {
        "duration": 16,
        "start_time": "2023-05-29T17:22:26.200Z"
      },
      {
        "duration": 5,
        "start_time": "2023-05-29T17:22:26.217Z"
      },
      {
        "duration": 15,
        "start_time": "2023-05-29T17:22:26.223Z"
      },
      {
        "duration": 17,
        "start_time": "2023-05-29T17:22:26.240Z"
      },
      {
        "duration": 3,
        "start_time": "2023-05-29T17:22:26.263Z"
      },
      {
        "duration": 17,
        "start_time": "2023-05-29T17:22:26.268Z"
      },
      {
        "duration": 13,
        "start_time": "2023-05-29T17:22:26.286Z"
      },
      {
        "duration": 36,
        "start_time": "2023-05-29T17:22:26.301Z"
      },
      {
        "duration": 38,
        "start_time": "2023-05-29T17:22:26.338Z"
      },
      {
        "duration": 95,
        "start_time": "2023-05-29T17:22:26.436Z"
      },
      {
        "duration": 185,
        "start_time": "2023-05-29T17:22:26.533Z"
      },
      {
        "duration": 0,
        "start_time": "2023-05-29T17:22:26.726Z"
      },
      {
        "duration": 0,
        "start_time": "2023-05-29T17:22:26.727Z"
      },
      {
        "duration": 0,
        "start_time": "2023-05-29T17:22:26.728Z"
      },
      {
        "duration": 0,
        "start_time": "2023-05-29T17:22:26.728Z"
      },
      {
        "duration": 0,
        "start_time": "2023-05-29T17:22:26.731Z"
      },
      {
        "duration": 0,
        "start_time": "2023-05-29T17:22:26.732Z"
      },
      {
        "duration": 0,
        "start_time": "2023-05-29T17:22:26.732Z"
      },
      {
        "duration": 1128,
        "start_time": "2023-05-29T17:24:45.212Z"
      },
      {
        "duration": 34,
        "start_time": "2023-05-29T17:24:46.348Z"
      },
      {
        "duration": 10,
        "start_time": "2023-05-29T17:24:46.383Z"
      },
      {
        "duration": 15,
        "start_time": "2023-05-29T17:24:46.395Z"
      },
      {
        "duration": 26,
        "start_time": "2023-05-29T17:24:46.411Z"
      },
      {
        "duration": 11,
        "start_time": "2023-05-29T17:24:46.438Z"
      },
      {
        "duration": 9,
        "start_time": "2023-05-29T17:24:46.451Z"
      },
      {
        "duration": 6,
        "start_time": "2023-05-29T17:24:46.462Z"
      },
      {
        "duration": 3,
        "start_time": "2023-05-29T17:24:46.470Z"
      },
      {
        "duration": 9,
        "start_time": "2023-05-29T17:24:46.475Z"
      },
      {
        "duration": 3,
        "start_time": "2023-05-29T17:24:46.486Z"
      },
      {
        "duration": 5,
        "start_time": "2023-05-29T17:24:46.490Z"
      },
      {
        "duration": 36,
        "start_time": "2023-05-29T17:24:46.497Z"
      },
      {
        "duration": 13,
        "start_time": "2023-05-29T17:24:46.535Z"
      },
      {
        "duration": 95,
        "start_time": "2023-05-29T17:24:46.550Z"
      },
      {
        "duration": 89,
        "start_time": "2023-05-29T17:24:46.650Z"
      },
      {
        "duration": 11,
        "start_time": "2023-05-29T17:24:46.746Z"
      },
      {
        "duration": 79,
        "start_time": "2023-05-29T17:24:46.766Z"
      },
      {
        "duration": 10,
        "start_time": "2023-05-29T17:24:46.866Z"
      },
      {
        "duration": 20,
        "start_time": "2023-05-29T17:24:46.929Z"
      },
      {
        "duration": 74,
        "start_time": "2023-05-29T17:24:46.955Z"
      },
      {
        "duration": 15,
        "start_time": "2023-05-29T17:24:47.040Z"
      },
      {
        "duration": 64,
        "start_time": "2023-05-29T17:24:47.060Z"
      },
      {
        "duration": 9,
        "start_time": "2023-05-29T17:24:47.126Z"
      },
      {
        "duration": 2,
        "start_time": "2023-05-29T17:27:40.465Z"
      },
      {
        "duration": 4,
        "start_time": "2023-05-29T17:27:42.080Z"
      },
      {
        "duration": 1079,
        "start_time": "2023-05-29T17:33:51.263Z"
      },
      {
        "duration": 31,
        "start_time": "2023-05-29T17:33:52.355Z"
      },
      {
        "duration": 11,
        "start_time": "2023-05-29T17:33:52.387Z"
      },
      {
        "duration": 21,
        "start_time": "2023-05-29T17:33:52.400Z"
      },
      {
        "duration": 37,
        "start_time": "2023-05-29T17:33:52.422Z"
      },
      {
        "duration": 12,
        "start_time": "2023-05-29T17:33:52.460Z"
      },
      {
        "duration": 18,
        "start_time": "2023-05-29T17:33:52.474Z"
      },
      {
        "duration": 7,
        "start_time": "2023-05-29T17:33:52.494Z"
      },
      {
        "duration": 18,
        "start_time": "2023-05-29T17:33:52.502Z"
      },
      {
        "duration": 23,
        "start_time": "2023-05-29T17:33:52.522Z"
      },
      {
        "duration": 3,
        "start_time": "2023-05-29T17:33:52.546Z"
      },
      {
        "duration": 16,
        "start_time": "2023-05-29T17:33:52.557Z"
      },
      {
        "duration": 33,
        "start_time": "2023-05-29T17:33:52.575Z"
      },
      {
        "duration": 21,
        "start_time": "2023-05-29T17:33:52.611Z"
      },
      {
        "duration": 15,
        "start_time": "2023-05-29T17:33:52.634Z"
      },
      {
        "duration": 96,
        "start_time": "2023-05-29T17:33:52.650Z"
      },
      {
        "duration": 7,
        "start_time": "2023-05-29T17:33:52.751Z"
      },
      {
        "duration": 65,
        "start_time": "2023-05-29T17:33:52.763Z"
      },
      {
        "duration": 24,
        "start_time": "2023-05-29T17:33:52.830Z"
      },
      {
        "duration": 8,
        "start_time": "2023-05-29T17:33:52.856Z"
      },
      {
        "duration": 89,
        "start_time": "2023-05-29T17:33:52.866Z"
      },
      {
        "duration": 74,
        "start_time": "2023-05-29T17:33:52.957Z"
      },
      {
        "duration": 29,
        "start_time": "2023-05-29T17:33:53.032Z"
      },
      {
        "duration": 75,
        "start_time": "2023-05-29T17:33:53.062Z"
      },
      {
        "duration": 1885,
        "start_time": "2023-05-29T17:46:05.794Z"
      },
      {
        "duration": 29,
        "start_time": "2023-05-29T17:46:07.681Z"
      },
      {
        "duration": 11,
        "start_time": "2023-05-29T17:46:07.712Z"
      },
      {
        "duration": 15,
        "start_time": "2023-05-29T17:46:07.725Z"
      },
      {
        "duration": 24,
        "start_time": "2023-05-29T17:46:07.742Z"
      },
      {
        "duration": 10,
        "start_time": "2023-05-29T17:46:07.767Z"
      },
      {
        "duration": 29,
        "start_time": "2023-05-29T17:46:07.779Z"
      },
      {
        "duration": 9,
        "start_time": "2023-05-29T17:46:07.809Z"
      },
      {
        "duration": 9,
        "start_time": "2023-05-29T17:46:07.820Z"
      },
      {
        "duration": 13,
        "start_time": "2023-05-29T17:46:07.831Z"
      },
      {
        "duration": 7,
        "start_time": "2023-05-29T17:46:07.845Z"
      },
      {
        "duration": 8,
        "start_time": "2023-05-29T17:46:07.854Z"
      },
      {
        "duration": 8,
        "start_time": "2023-05-29T17:46:07.863Z"
      },
      {
        "duration": 8,
        "start_time": "2023-05-29T17:46:07.874Z"
      },
      {
        "duration": 75,
        "start_time": "2023-05-29T17:46:07.884Z"
      },
      {
        "duration": 99,
        "start_time": "2023-05-29T17:46:07.961Z"
      },
      {
        "duration": 3,
        "start_time": "2023-05-29T17:46:08.062Z"
      },
      {
        "duration": 98,
        "start_time": "2023-05-29T17:46:08.067Z"
      },
      {
        "duration": 10,
        "start_time": "2023-05-29T17:46:08.167Z"
      },
      {
        "duration": 4,
        "start_time": "2023-05-29T17:46:08.258Z"
      },
      {
        "duration": 97,
        "start_time": "2023-05-29T17:46:08.264Z"
      },
      {
        "duration": 93,
        "start_time": "2023-05-29T17:46:08.364Z"
      },
      {
        "duration": 7,
        "start_time": "2023-05-29T17:46:08.459Z"
      },
      {
        "duration": 93,
        "start_time": "2023-05-29T17:46:08.467Z"
      },
      {
        "duration": 4,
        "start_time": "2023-05-29T17:51:46.898Z"
      },
      {
        "duration": 1243,
        "start_time": "2023-05-29T18:30:43.184Z"
      },
      {
        "duration": 57,
        "start_time": "2023-05-29T18:30:44.437Z"
      },
      {
        "duration": 11,
        "start_time": "2023-05-29T18:30:44.496Z"
      },
      {
        "duration": 24,
        "start_time": "2023-05-29T18:30:44.509Z"
      },
      {
        "duration": 35,
        "start_time": "2023-05-29T18:30:44.535Z"
      },
      {
        "duration": 18,
        "start_time": "2023-05-29T18:30:44.572Z"
      },
      {
        "duration": 9,
        "start_time": "2023-05-29T18:30:44.591Z"
      },
      {
        "duration": 4,
        "start_time": "2023-05-29T18:30:44.602Z"
      },
      {
        "duration": 4,
        "start_time": "2023-05-29T18:30:44.607Z"
      },
      {
        "duration": 28,
        "start_time": "2023-05-29T18:30:44.613Z"
      },
      {
        "duration": 10,
        "start_time": "2023-05-29T18:30:44.642Z"
      },
      {
        "duration": 10,
        "start_time": "2023-05-29T18:30:44.654Z"
      },
      {
        "duration": 25,
        "start_time": "2023-05-29T18:30:44.665Z"
      },
      {
        "duration": 35,
        "start_time": "2023-05-29T18:30:44.692Z"
      },
      {
        "duration": 10,
        "start_time": "2023-05-29T18:30:44.729Z"
      },
      {
        "duration": 39,
        "start_time": "2023-05-29T18:30:44.741Z"
      },
      {
        "duration": 177,
        "start_time": "2023-05-29T18:30:44.853Z"
      },
      {
        "duration": 0,
        "start_time": "2023-05-29T18:30:45.033Z"
      },
      {
        "duration": 0,
        "start_time": "2023-05-29T18:30:45.034Z"
      },
      {
        "duration": 0,
        "start_time": "2023-05-29T18:30:45.035Z"
      },
      {
        "duration": 0,
        "start_time": "2023-05-29T18:30:45.036Z"
      },
      {
        "duration": 0,
        "start_time": "2023-05-29T18:30:45.037Z"
      },
      {
        "duration": 0,
        "start_time": "2023-05-29T18:30:45.039Z"
      },
      {
        "duration": 0,
        "start_time": "2023-05-29T18:30:45.040Z"
      },
      {
        "duration": 0,
        "start_time": "2023-05-29T18:30:45.042Z"
      },
      {
        "duration": 1137,
        "start_time": "2023-05-29T18:31:42.954Z"
      },
      {
        "duration": 29,
        "start_time": "2023-05-29T18:31:44.093Z"
      },
      {
        "duration": 28,
        "start_time": "2023-05-29T18:31:44.124Z"
      },
      {
        "duration": 20,
        "start_time": "2023-05-29T18:31:44.154Z"
      },
      {
        "duration": 23,
        "start_time": "2023-05-29T18:31:44.178Z"
      },
      {
        "duration": 9,
        "start_time": "2023-05-29T18:31:44.203Z"
      },
      {
        "duration": 17,
        "start_time": "2023-05-29T18:31:44.214Z"
      },
      {
        "duration": 20,
        "start_time": "2023-05-29T18:31:44.233Z"
      },
      {
        "duration": 19,
        "start_time": "2023-05-29T18:31:44.255Z"
      },
      {
        "duration": 12,
        "start_time": "2023-05-29T18:31:44.276Z"
      },
      {
        "duration": 3,
        "start_time": "2023-05-29T18:31:44.290Z"
      },
      {
        "duration": 14,
        "start_time": "2023-05-29T18:31:44.294Z"
      },
      {
        "duration": 11,
        "start_time": "2023-05-29T18:31:44.310Z"
      },
      {
        "duration": 28,
        "start_time": "2023-05-29T18:31:44.325Z"
      },
      {
        "duration": 81,
        "start_time": "2023-05-29T18:31:44.366Z"
      },
      {
        "duration": 33,
        "start_time": "2023-05-29T18:31:44.451Z"
      },
      {
        "duration": 206,
        "start_time": "2023-05-29T18:31:44.526Z"
      },
      {
        "duration": 0,
        "start_time": "2023-05-29T18:31:44.734Z"
      },
      {
        "duration": 0,
        "start_time": "2023-05-29T18:31:44.736Z"
      },
      {
        "duration": 0,
        "start_time": "2023-05-29T18:31:44.737Z"
      },
      {
        "duration": 0,
        "start_time": "2023-05-29T18:31:44.738Z"
      },
      {
        "duration": 0,
        "start_time": "2023-05-29T18:31:44.739Z"
      },
      {
        "duration": 0,
        "start_time": "2023-05-29T18:31:44.740Z"
      },
      {
        "duration": 0,
        "start_time": "2023-05-29T18:31:44.750Z"
      },
      {
        "duration": 0,
        "start_time": "2023-05-29T18:31:44.751Z"
      },
      {
        "duration": 18,
        "start_time": "2023-05-29T18:33:20.120Z"
      },
      {
        "duration": 12,
        "start_time": "2023-05-29T18:33:33.321Z"
      },
      {
        "duration": 4,
        "start_time": "2023-05-29T18:33:58.903Z"
      },
      {
        "duration": 185,
        "start_time": "2023-05-29T18:34:26.149Z"
      },
      {
        "duration": 1261,
        "start_time": "2023-05-29T18:35:22.320Z"
      },
      {
        "duration": 29,
        "start_time": "2023-05-29T18:35:23.584Z"
      },
      {
        "duration": 20,
        "start_time": "2023-05-29T18:35:23.615Z"
      },
      {
        "duration": 23,
        "start_time": "2023-05-29T18:35:23.640Z"
      },
      {
        "duration": 29,
        "start_time": "2023-05-29T18:35:23.669Z"
      },
      {
        "duration": 9,
        "start_time": "2023-05-29T18:35:23.700Z"
      },
      {
        "duration": 4,
        "start_time": "2023-05-29T18:35:23.711Z"
      },
      {
        "duration": 16,
        "start_time": "2023-05-29T18:35:23.716Z"
      },
      {
        "duration": 4,
        "start_time": "2023-05-29T18:35:23.733Z"
      },
      {
        "duration": 23,
        "start_time": "2023-05-29T18:35:23.742Z"
      },
      {
        "duration": 5,
        "start_time": "2023-05-29T18:35:23.766Z"
      },
      {
        "duration": 7,
        "start_time": "2023-05-29T18:35:23.773Z"
      },
      {
        "duration": 10,
        "start_time": "2023-05-29T18:35:23.782Z"
      },
      {
        "duration": 50,
        "start_time": "2023-05-29T18:35:23.794Z"
      },
      {
        "duration": 27,
        "start_time": "2023-05-29T18:35:23.846Z"
      },
      {
        "duration": 106,
        "start_time": "2023-05-29T18:35:23.926Z"
      },
      {
        "duration": 182,
        "start_time": "2023-05-29T18:35:24.040Z"
      },
      {
        "duration": 0,
        "start_time": "2023-05-29T18:35:24.223Z"
      },
      {
        "duration": 0,
        "start_time": "2023-05-29T18:35:24.229Z"
      },
      {
        "duration": 0,
        "start_time": "2023-05-29T18:35:24.233Z"
      },
      {
        "duration": 0,
        "start_time": "2023-05-29T18:35:24.234Z"
      },
      {
        "duration": 0,
        "start_time": "2023-05-29T18:35:24.235Z"
      },
      {
        "duration": 0,
        "start_time": "2023-05-29T18:35:24.236Z"
      },
      {
        "duration": 0,
        "start_time": "2023-05-29T18:35:24.240Z"
      },
      {
        "duration": 0,
        "start_time": "2023-05-29T18:35:24.243Z"
      },
      {
        "duration": 0,
        "start_time": "2023-05-29T18:35:24.244Z"
      },
      {
        "duration": 0,
        "start_time": "2023-05-29T18:35:24.244Z"
      },
      {
        "duration": 4,
        "start_time": "2023-05-29T18:35:44.708Z"
      },
      {
        "duration": 15,
        "start_time": "2023-05-29T18:35:47.824Z"
      },
      {
        "duration": 3,
        "start_time": "2023-05-29T18:35:52.520Z"
      },
      {
        "duration": 37,
        "start_time": "2023-05-29T18:35:53.955Z"
      },
      {
        "duration": 10,
        "start_time": "2023-05-29T18:36:45.093Z"
      },
      {
        "duration": 8,
        "start_time": "2023-05-29T18:37:30.502Z"
      },
      {
        "duration": 8,
        "start_time": "2023-05-29T18:37:37.603Z"
      },
      {
        "duration": 4,
        "start_time": "2023-05-29T18:38:05.316Z"
      },
      {
        "duration": 5,
        "start_time": "2023-05-29T18:38:54.806Z"
      },
      {
        "duration": 1671,
        "start_time": "2023-05-29T18:39:40.399Z"
      },
      {
        "duration": 166,
        "start_time": "2023-05-29T18:39:46.847Z"
      },
      {
        "duration": 1410,
        "start_time": "2023-05-29T18:39:56.292Z"
      },
      {
        "duration": 36,
        "start_time": "2023-05-29T18:39:57.704Z"
      },
      {
        "duration": 19,
        "start_time": "2023-05-29T18:39:57.745Z"
      },
      {
        "duration": 34,
        "start_time": "2023-05-29T18:39:57.766Z"
      },
      {
        "duration": 58,
        "start_time": "2023-05-29T18:39:57.803Z"
      },
      {
        "duration": 18,
        "start_time": "2023-05-29T18:39:57.867Z"
      },
      {
        "duration": 12,
        "start_time": "2023-05-29T18:39:57.888Z"
      },
      {
        "duration": 11,
        "start_time": "2023-05-29T18:39:57.902Z"
      },
      {
        "duration": 5,
        "start_time": "2023-05-29T18:39:57.915Z"
      },
      {
        "duration": 44,
        "start_time": "2023-05-29T18:39:57.922Z"
      },
      {
        "duration": 7,
        "start_time": "2023-05-29T18:39:57.971Z"
      },
      {
        "duration": 7,
        "start_time": "2023-05-29T18:39:57.983Z"
      },
      {
        "duration": 7,
        "start_time": "2023-05-29T18:39:57.993Z"
      },
      {
        "duration": 41,
        "start_time": "2023-05-29T18:39:58.004Z"
      },
      {
        "duration": 22,
        "start_time": "2023-05-29T18:39:58.057Z"
      },
      {
        "duration": 100,
        "start_time": "2023-05-29T18:39:58.086Z"
      },
      {
        "duration": 226,
        "start_time": "2023-05-29T18:39:58.193Z"
      },
      {
        "duration": 0,
        "start_time": "2023-05-29T18:39:58.421Z"
      },
      {
        "duration": 0,
        "start_time": "2023-05-29T18:39:58.423Z"
      },
      {
        "duration": 0,
        "start_time": "2023-05-29T18:39:58.424Z"
      },
      {
        "duration": 0,
        "start_time": "2023-05-29T18:39:58.425Z"
      },
      {
        "duration": 0,
        "start_time": "2023-05-29T18:39:58.426Z"
      },
      {
        "duration": 1,
        "start_time": "2023-05-29T18:39:58.426Z"
      },
      {
        "duration": 0,
        "start_time": "2023-05-29T18:39:58.427Z"
      },
      {
        "duration": 0,
        "start_time": "2023-05-29T18:39:58.428Z"
      },
      {
        "duration": 0,
        "start_time": "2023-05-29T18:39:58.429Z"
      },
      {
        "duration": 0,
        "start_time": "2023-05-29T18:39:58.429Z"
      },
      {
        "duration": 1405,
        "start_time": "2023-05-29T18:41:40.652Z"
      },
      {
        "duration": 47,
        "start_time": "2023-05-29T18:41:42.059Z"
      },
      {
        "duration": 23,
        "start_time": "2023-05-29T18:41:42.108Z"
      },
      {
        "duration": 35,
        "start_time": "2023-05-29T18:41:42.141Z"
      },
      {
        "duration": 27,
        "start_time": "2023-05-29T18:41:42.184Z"
      },
      {
        "duration": 13,
        "start_time": "2023-05-29T18:41:42.213Z"
      },
      {
        "duration": 30,
        "start_time": "2023-05-29T18:41:42.232Z"
      },
      {
        "duration": 14,
        "start_time": "2023-05-29T18:41:42.268Z"
      },
      {
        "duration": 7,
        "start_time": "2023-05-29T18:41:42.288Z"
      },
      {
        "duration": 14,
        "start_time": "2023-05-29T18:41:42.301Z"
      },
      {
        "duration": 14,
        "start_time": "2023-05-29T18:41:42.316Z"
      },
      {
        "duration": 6,
        "start_time": "2023-05-29T18:41:42.331Z"
      },
      {
        "duration": 57,
        "start_time": "2023-05-29T18:41:42.339Z"
      },
      {
        "duration": 10,
        "start_time": "2023-05-29T18:41:42.411Z"
      },
      {
        "duration": 17,
        "start_time": "2023-05-29T18:41:42.425Z"
      },
      {
        "duration": 105,
        "start_time": "2023-05-29T18:41:42.444Z"
      },
      {
        "duration": 16,
        "start_time": "2023-05-29T18:41:42.563Z"
      },
      {
        "duration": 51,
        "start_time": "2023-05-29T18:41:42.582Z"
      },
      {
        "duration": 10,
        "start_time": "2023-05-29T18:41:42.635Z"
      },
      {
        "duration": 20,
        "start_time": "2023-05-29T18:41:42.649Z"
      },
      {
        "duration": 428,
        "start_time": "2023-05-29T18:41:42.673Z"
      },
      {
        "duration": 0,
        "start_time": "2023-05-29T18:41:43.102Z"
      },
      {
        "duration": 0,
        "start_time": "2023-05-29T18:41:43.103Z"
      },
      {
        "duration": 0,
        "start_time": "2023-05-29T18:41:43.104Z"
      },
      {
        "duration": 0,
        "start_time": "2023-05-29T18:41:43.105Z"
      },
      {
        "duration": 0,
        "start_time": "2023-05-29T18:41:43.106Z"
      },
      {
        "duration": 0,
        "start_time": "2023-05-29T18:41:43.107Z"
      },
      {
        "duration": 4,
        "start_time": "2023-05-29T18:42:22.315Z"
      },
      {
        "duration": 1147,
        "start_time": "2023-05-29T18:45:22.694Z"
      },
      {
        "duration": 45,
        "start_time": "2023-05-29T18:45:23.854Z"
      },
      {
        "duration": 13,
        "start_time": "2023-05-29T18:45:23.900Z"
      },
      {
        "duration": 43,
        "start_time": "2023-05-29T18:45:23.914Z"
      },
      {
        "duration": 33,
        "start_time": "2023-05-29T18:45:23.967Z"
      },
      {
        "duration": 13,
        "start_time": "2023-05-29T18:45:24.002Z"
      },
      {
        "duration": 5,
        "start_time": "2023-05-29T18:45:24.017Z"
      },
      {
        "duration": 22,
        "start_time": "2023-05-29T18:45:24.024Z"
      },
      {
        "duration": 10,
        "start_time": "2023-05-29T18:45:24.049Z"
      },
      {
        "duration": 24,
        "start_time": "2023-05-29T18:45:24.064Z"
      },
      {
        "duration": 5,
        "start_time": "2023-05-29T18:45:24.091Z"
      },
      {
        "duration": 8,
        "start_time": "2023-05-29T18:45:24.098Z"
      },
      {
        "duration": 15,
        "start_time": "2023-05-29T18:45:24.108Z"
      },
      {
        "duration": 16,
        "start_time": "2023-05-29T18:45:24.131Z"
      },
      {
        "duration": 84,
        "start_time": "2023-05-29T18:45:24.149Z"
      },
      {
        "duration": 9,
        "start_time": "2023-05-29T18:45:24.238Z"
      },
      {
        "duration": 136,
        "start_time": "2023-05-29T18:45:24.252Z"
      },
      {
        "duration": 47,
        "start_time": "2023-05-29T18:45:24.390Z"
      },
      {
        "duration": 18,
        "start_time": "2023-05-29T18:45:24.439Z"
      },
      {
        "duration": 18,
        "start_time": "2023-05-29T18:45:24.459Z"
      },
      {
        "duration": 8,
        "start_time": "2023-05-29T18:45:24.480Z"
      },
      {
        "duration": 5,
        "start_time": "2023-05-29T18:45:24.494Z"
      },
      {
        "duration": 324,
        "start_time": "2023-05-29T18:45:24.500Z"
      },
      {
        "duration": 0,
        "start_time": "2023-05-29T18:45:24.834Z"
      },
      {
        "duration": 0,
        "start_time": "2023-05-29T18:45:24.834Z"
      },
      {
        "duration": 0,
        "start_time": "2023-05-29T18:45:24.835Z"
      },
      {
        "duration": 0,
        "start_time": "2023-05-29T18:45:24.836Z"
      },
      {
        "duration": 0,
        "start_time": "2023-05-29T18:45:24.836Z"
      },
      {
        "duration": 0,
        "start_time": "2023-05-29T18:45:24.837Z"
      },
      {
        "duration": 1118,
        "start_time": "2023-05-29T18:47:03.858Z"
      },
      {
        "duration": 31,
        "start_time": "2023-05-29T18:47:04.981Z"
      },
      {
        "duration": 20,
        "start_time": "2023-05-29T18:47:05.013Z"
      },
      {
        "duration": 55,
        "start_time": "2023-05-29T18:47:05.036Z"
      },
      {
        "duration": 53,
        "start_time": "2023-05-29T18:47:05.093Z"
      },
      {
        "duration": 28,
        "start_time": "2023-05-29T18:47:05.147Z"
      },
      {
        "duration": 24,
        "start_time": "2023-05-29T18:47:05.177Z"
      },
      {
        "duration": 58,
        "start_time": "2023-05-29T18:47:05.203Z"
      },
      {
        "duration": 43,
        "start_time": "2023-05-29T18:47:05.262Z"
      },
      {
        "duration": 65,
        "start_time": "2023-05-29T18:47:05.308Z"
      },
      {
        "duration": 37,
        "start_time": "2023-05-29T18:47:05.375Z"
      },
      {
        "duration": 47,
        "start_time": "2023-05-29T18:47:05.414Z"
      },
      {
        "duration": 46,
        "start_time": "2023-05-29T18:47:05.464Z"
      },
      {
        "duration": 62,
        "start_time": "2023-05-29T18:47:05.511Z"
      },
      {
        "duration": 28,
        "start_time": "2023-05-29T18:47:05.629Z"
      },
      {
        "duration": 71,
        "start_time": "2023-05-29T18:47:05.672Z"
      },
      {
        "duration": 128,
        "start_time": "2023-05-29T18:47:05.753Z"
      },
      {
        "duration": 45,
        "start_time": "2023-05-29T18:47:05.928Z"
      },
      {
        "duration": 10,
        "start_time": "2023-05-29T18:47:05.981Z"
      },
      {
        "duration": 39,
        "start_time": "2023-05-29T18:47:05.992Z"
      },
      {
        "duration": 8,
        "start_time": "2023-05-29T18:47:06.033Z"
      },
      {
        "duration": 31,
        "start_time": "2023-05-29T18:47:06.044Z"
      },
      {
        "duration": 13,
        "start_time": "2023-05-29T18:47:06.077Z"
      },
      {
        "duration": 85,
        "start_time": "2023-05-29T18:47:06.092Z"
      },
      {
        "duration": 8,
        "start_time": "2023-05-29T18:47:06.237Z"
      },
      {
        "duration": 84,
        "start_time": "2023-05-29T18:47:06.247Z"
      },
      {
        "duration": 18,
        "start_time": "2023-05-29T18:47:06.337Z"
      },
      {
        "duration": 90,
        "start_time": "2023-05-29T18:47:06.362Z"
      },
      {
        "duration": 17,
        "start_time": "2023-05-29T18:47:06.460Z"
      },
      {
        "duration": 1117,
        "start_time": "2023-05-29T18:48:24.007Z"
      },
      {
        "duration": 50,
        "start_time": "2023-05-29T18:48:25.132Z"
      },
      {
        "duration": 10,
        "start_time": "2023-05-29T18:48:25.184Z"
      },
      {
        "duration": 15,
        "start_time": "2023-05-29T18:48:25.196Z"
      },
      {
        "duration": 41,
        "start_time": "2023-05-29T18:48:25.213Z"
      },
      {
        "duration": 20,
        "start_time": "2023-05-29T18:48:25.261Z"
      },
      {
        "duration": 5,
        "start_time": "2023-05-29T18:48:25.283Z"
      },
      {
        "duration": 5,
        "start_time": "2023-05-29T18:48:25.290Z"
      },
      {
        "duration": 4,
        "start_time": "2023-05-29T18:48:25.297Z"
      },
      {
        "duration": 10,
        "start_time": "2023-05-29T18:48:25.303Z"
      },
      {
        "duration": 4,
        "start_time": "2023-05-29T18:48:25.314Z"
      },
      {
        "duration": 5,
        "start_time": "2023-05-29T18:48:25.319Z"
      },
      {
        "duration": 18,
        "start_time": "2023-05-29T18:48:25.325Z"
      },
      {
        "duration": 18,
        "start_time": "2023-05-29T18:48:25.344Z"
      },
      {
        "duration": 78,
        "start_time": "2023-05-29T18:48:25.365Z"
      },
      {
        "duration": 76,
        "start_time": "2023-05-29T18:48:25.452Z"
      },
      {
        "duration": 9,
        "start_time": "2023-05-29T18:48:25.536Z"
      },
      {
        "duration": 11,
        "start_time": "2023-05-29T18:48:25.554Z"
      },
      {
        "duration": 61,
        "start_time": "2023-05-29T18:48:25.570Z"
      },
      {
        "duration": 34,
        "start_time": "2023-05-29T18:48:25.633Z"
      },
      {
        "duration": 51,
        "start_time": "2023-05-29T18:48:25.678Z"
      },
      {
        "duration": 21,
        "start_time": "2023-05-29T18:48:25.743Z"
      },
      {
        "duration": 46,
        "start_time": "2023-05-29T18:48:25.829Z"
      },
      {
        "duration": 63,
        "start_time": "2023-05-29T18:48:25.882Z"
      },
      {
        "duration": 111,
        "start_time": "2023-05-29T18:48:25.948Z"
      },
      {
        "duration": 56,
        "start_time": "2023-05-29T18:48:26.073Z"
      },
      {
        "duration": 4,
        "start_time": "2023-05-29T18:51:41.894Z"
      },
      {
        "duration": 1387,
        "start_time": "2023-05-29T18:52:16.470Z"
      },
      {
        "duration": 45,
        "start_time": "2023-05-29T18:52:17.859Z"
      },
      {
        "duration": 12,
        "start_time": "2023-05-29T18:52:17.906Z"
      },
      {
        "duration": 35,
        "start_time": "2023-05-29T18:52:17.919Z"
      },
      {
        "duration": 27,
        "start_time": "2023-05-29T18:52:17.956Z"
      },
      {
        "duration": 14,
        "start_time": "2023-05-29T18:52:17.985Z"
      },
      {
        "duration": 6,
        "start_time": "2023-05-29T18:52:18.001Z"
      },
      {
        "duration": 7,
        "start_time": "2023-05-29T18:52:18.009Z"
      },
      {
        "duration": 20,
        "start_time": "2023-05-29T18:52:18.017Z"
      },
      {
        "duration": 38,
        "start_time": "2023-05-29T18:52:18.038Z"
      },
      {
        "duration": 11,
        "start_time": "2023-05-29T18:52:18.078Z"
      },
      {
        "duration": 9,
        "start_time": "2023-05-29T18:52:18.090Z"
      },
      {
        "duration": 4,
        "start_time": "2023-05-29T18:52:18.102Z"
      },
      {
        "duration": 21,
        "start_time": "2023-05-29T18:52:18.110Z"
      },
      {
        "duration": 35,
        "start_time": "2023-05-29T18:52:18.133Z"
      },
      {
        "duration": 17,
        "start_time": "2023-05-29T18:52:18.227Z"
      },
      {
        "duration": 29,
        "start_time": "2023-05-29T18:52:18.261Z"
      },
      {
        "duration": 11,
        "start_time": "2023-05-29T18:52:18.340Z"
      },
      {
        "duration": 9,
        "start_time": "2023-05-29T18:52:18.361Z"
      },
      {
        "duration": 48,
        "start_time": "2023-05-29T18:52:18.379Z"
      },
      {
        "duration": 40,
        "start_time": "2023-05-29T18:52:18.448Z"
      },
      {
        "duration": 36,
        "start_time": "2023-05-29T18:52:18.493Z"
      },
      {
        "duration": 21,
        "start_time": "2023-05-29T18:52:18.541Z"
      },
      {
        "duration": 79,
        "start_time": "2023-05-29T18:52:18.571Z"
      },
      {
        "duration": 30,
        "start_time": "2023-05-29T18:52:18.664Z"
      },
      {
        "duration": 51,
        "start_time": "2023-05-29T18:52:18.740Z"
      },
      {
        "duration": 12,
        "start_time": "2023-05-29T18:52:18.925Z"
      },
      {
        "duration": 1192,
        "start_time": "2023-05-29T18:55:40.607Z"
      },
      {
        "duration": 44,
        "start_time": "2023-05-29T18:55:41.801Z"
      },
      {
        "duration": 30,
        "start_time": "2023-05-29T18:55:41.847Z"
      },
      {
        "duration": 17,
        "start_time": "2023-05-29T18:55:41.881Z"
      },
      {
        "duration": 23,
        "start_time": "2023-05-29T18:55:41.900Z"
      },
      {
        "duration": 16,
        "start_time": "2023-05-29T18:55:41.932Z"
      },
      {
        "duration": 26,
        "start_time": "2023-05-29T18:55:41.950Z"
      },
      {
        "duration": 5,
        "start_time": "2023-05-29T18:55:41.982Z"
      },
      {
        "duration": 4,
        "start_time": "2023-05-29T18:55:41.988Z"
      },
      {
        "duration": 11,
        "start_time": "2023-05-29T18:55:41.994Z"
      },
      {
        "duration": 4,
        "start_time": "2023-05-29T18:55:42.006Z"
      },
      {
        "duration": 4,
        "start_time": "2023-05-29T18:55:42.012Z"
      },
      {
        "duration": 5,
        "start_time": "2023-05-29T18:55:42.018Z"
      },
      {
        "duration": 12,
        "start_time": "2023-05-29T18:55:42.028Z"
      },
      {
        "duration": 23,
        "start_time": "2023-05-29T18:55:42.045Z"
      },
      {
        "duration": 7,
        "start_time": "2023-05-29T18:55:42.072Z"
      },
      {
        "duration": 162,
        "start_time": "2023-05-29T18:55:42.081Z"
      },
      {
        "duration": 11,
        "start_time": "2023-05-29T18:55:42.249Z"
      },
      {
        "duration": 10,
        "start_time": "2023-05-29T18:55:42.263Z"
      },
      {
        "duration": 5,
        "start_time": "2023-05-29T18:55:42.278Z"
      },
      {
        "duration": 56,
        "start_time": "2023-05-29T18:55:42.285Z"
      },
      {
        "duration": 37,
        "start_time": "2023-05-29T18:55:42.346Z"
      },
      {
        "duration": 77,
        "start_time": "2023-05-29T18:55:42.456Z"
      },
      {
        "duration": 15,
        "start_time": "2023-05-29T18:55:42.538Z"
      },
      {
        "duration": 13,
        "start_time": "2023-05-29T18:55:42.558Z"
      },
      {
        "duration": 61,
        "start_time": "2023-05-29T18:55:42.576Z"
      },
      {
        "duration": 12,
        "start_time": "2023-05-29T18:55:42.641Z"
      },
      {
        "duration": 1095,
        "start_time": "2023-05-29T18:58:56.872Z"
      },
      {
        "duration": 28,
        "start_time": "2023-05-29T18:58:57.969Z"
      },
      {
        "duration": 10,
        "start_time": "2023-05-29T18:58:57.999Z"
      },
      {
        "duration": 29,
        "start_time": "2023-05-29T18:58:58.011Z"
      },
      {
        "duration": 32,
        "start_time": "2023-05-29T18:58:58.050Z"
      },
      {
        "duration": 10,
        "start_time": "2023-05-29T18:58:58.083Z"
      },
      {
        "duration": 6,
        "start_time": "2023-05-29T18:58:58.095Z"
      },
      {
        "duration": 6,
        "start_time": "2023-05-29T18:58:58.103Z"
      },
      {
        "duration": 5,
        "start_time": "2023-05-29T18:58:58.110Z"
      },
      {
        "duration": 36,
        "start_time": "2023-05-29T18:58:58.117Z"
      },
      {
        "duration": 7,
        "start_time": "2023-05-29T18:58:58.159Z"
      },
      {
        "duration": 6,
        "start_time": "2023-05-29T18:58:58.168Z"
      },
      {
        "duration": 11,
        "start_time": "2023-05-29T18:58:58.176Z"
      },
      {
        "duration": 44,
        "start_time": "2023-05-29T18:58:58.188Z"
      },
      {
        "duration": 13,
        "start_time": "2023-05-29T18:58:58.234Z"
      },
      {
        "duration": 5,
        "start_time": "2023-05-29T18:58:58.249Z"
      },
      {
        "duration": 80,
        "start_time": "2023-05-29T18:58:58.256Z"
      },
      {
        "duration": 4,
        "start_time": "2023-05-29T18:58:58.341Z"
      },
      {
        "duration": 5,
        "start_time": "2023-05-29T18:58:58.347Z"
      },
      {
        "duration": 68,
        "start_time": "2023-05-29T18:58:58.358Z"
      },
      {
        "duration": 19,
        "start_time": "2023-05-29T18:58:58.429Z"
      },
      {
        "duration": 19,
        "start_time": "2023-05-29T18:58:58.450Z"
      },
      {
        "duration": 67,
        "start_time": "2023-05-29T18:58:58.470Z"
      },
      {
        "duration": 202,
        "start_time": "2023-05-29T18:58:58.539Z"
      },
      {
        "duration": 0,
        "start_time": "2023-05-29T18:58:58.743Z"
      },
      {
        "duration": 0,
        "start_time": "2023-05-29T18:58:58.744Z"
      },
      {
        "duration": 0,
        "start_time": "2023-05-29T18:58:58.745Z"
      },
      {
        "duration": 20,
        "start_time": "2023-05-29T19:01:48.653Z"
      },
      {
        "duration": 5,
        "start_time": "2023-05-29T19:01:50.915Z"
      },
      {
        "duration": 31,
        "start_time": "2023-05-29T19:01:53.848Z"
      },
      {
        "duration": 11,
        "start_time": "2023-05-29T19:01:55.534Z"
      },
      {
        "duration": 1419,
        "start_time": "2023-05-29T19:02:07.296Z"
      },
      {
        "duration": 51,
        "start_time": "2023-05-29T19:02:08.717Z"
      },
      {
        "duration": 12,
        "start_time": "2023-05-29T19:02:08.771Z"
      },
      {
        "duration": 15,
        "start_time": "2023-05-29T19:02:08.784Z"
      },
      {
        "duration": 22,
        "start_time": "2023-05-29T19:02:08.801Z"
      },
      {
        "duration": 12,
        "start_time": "2023-05-29T19:02:08.824Z"
      },
      {
        "duration": 7,
        "start_time": "2023-05-29T19:02:08.841Z"
      },
      {
        "duration": 8,
        "start_time": "2023-05-29T19:02:08.850Z"
      },
      {
        "duration": 21,
        "start_time": "2023-05-29T19:02:08.860Z"
      },
      {
        "duration": 18,
        "start_time": "2023-05-29T19:02:08.883Z"
      },
      {
        "duration": 5,
        "start_time": "2023-05-29T19:02:08.902Z"
      },
      {
        "duration": 16,
        "start_time": "2023-05-29T19:02:08.924Z"
      },
      {
        "duration": 15,
        "start_time": "2023-05-29T19:02:08.945Z"
      },
      {
        "duration": 21,
        "start_time": "2023-05-29T19:02:08.966Z"
      },
      {
        "duration": 40,
        "start_time": "2023-05-29T19:02:09.026Z"
      },
      {
        "duration": 71,
        "start_time": "2023-05-29T19:02:09.068Z"
      },
      {
        "duration": 190,
        "start_time": "2023-05-29T19:02:09.145Z"
      },
      {
        "duration": 7,
        "start_time": "2023-05-29T19:02:09.341Z"
      },
      {
        "duration": 5,
        "start_time": "2023-05-29T19:02:09.356Z"
      },
      {
        "duration": 11,
        "start_time": "2023-05-29T19:02:09.365Z"
      },
      {
        "duration": 4,
        "start_time": "2023-05-29T19:02:09.378Z"
      },
      {
        "duration": 56,
        "start_time": "2023-05-29T19:02:09.385Z"
      },
      {
        "duration": 8,
        "start_time": "2023-05-29T19:02:09.443Z"
      },
      {
        "duration": 14,
        "start_time": "2023-05-29T19:02:09.456Z"
      },
      {
        "duration": 17,
        "start_time": "2023-05-29T19:02:09.538Z"
      },
      {
        "duration": 69,
        "start_time": "2023-05-29T19:02:09.571Z"
      },
      {
        "duration": 11,
        "start_time": "2023-05-29T19:02:09.645Z"
      },
      {
        "duration": 1820,
        "start_time": "2023-05-29T20:03:06.325Z"
      },
      {
        "duration": 128,
        "start_time": "2023-05-29T20:03:08.147Z"
      },
      {
        "duration": 12,
        "start_time": "2023-05-29T20:03:08.276Z"
      },
      {
        "duration": 14,
        "start_time": "2023-05-29T20:03:08.290Z"
      },
      {
        "duration": 21,
        "start_time": "2023-05-29T20:03:08.306Z"
      },
      {
        "duration": 8,
        "start_time": "2023-05-29T20:03:08.329Z"
      },
      {
        "duration": 4,
        "start_time": "2023-05-29T20:03:08.339Z"
      },
      {
        "duration": 37,
        "start_time": "2023-05-29T20:03:08.344Z"
      },
      {
        "duration": 3,
        "start_time": "2023-05-29T20:03:08.383Z"
      },
      {
        "duration": 15,
        "start_time": "2023-05-29T20:03:08.387Z"
      },
      {
        "duration": 4,
        "start_time": "2023-05-29T20:03:08.404Z"
      },
      {
        "duration": 5,
        "start_time": "2023-05-29T20:03:08.410Z"
      },
      {
        "duration": 6,
        "start_time": "2023-05-29T20:03:08.416Z"
      },
      {
        "duration": 60,
        "start_time": "2023-05-29T20:03:08.426Z"
      },
      {
        "duration": 13,
        "start_time": "2023-05-29T20:03:08.488Z"
      },
      {
        "duration": 79,
        "start_time": "2023-05-29T20:03:08.503Z"
      },
      {
        "duration": 96,
        "start_time": "2023-05-29T20:03:08.583Z"
      },
      {
        "duration": 2,
        "start_time": "2023-05-29T20:03:08.682Z"
      },
      {
        "duration": 6,
        "start_time": "2023-05-29T20:03:08.689Z"
      },
      {
        "duration": 86,
        "start_time": "2023-05-29T20:03:08.697Z"
      },
      {
        "duration": 4,
        "start_time": "2023-05-29T20:03:08.787Z"
      },
      {
        "duration": 84,
        "start_time": "2023-05-29T20:03:08.793Z"
      },
      {
        "duration": 8,
        "start_time": "2023-05-29T20:03:08.885Z"
      },
      {
        "duration": 84,
        "start_time": "2023-05-29T20:03:08.896Z"
      },
      {
        "duration": 9,
        "start_time": "2023-05-29T20:03:08.985Z"
      },
      {
        "duration": 12,
        "start_time": "2023-05-29T20:03:08.999Z"
      },
      {
        "duration": 15,
        "start_time": "2023-05-29T20:03:09.079Z"
      },
      {
        "duration": 5,
        "start_time": "2023-05-29T20:28:00.297Z"
      },
      {
        "duration": 5,
        "start_time": "2023-05-29T20:29:07.150Z"
      },
      {
        "duration": 4,
        "start_time": "2023-05-29T20:39:52.352Z"
      },
      {
        "duration": 1050,
        "start_time": "2023-05-30T04:21:08.034Z"
      },
      {
        "duration": 73,
        "start_time": "2023-05-30T04:21:09.086Z"
      },
      {
        "duration": 11,
        "start_time": "2023-05-30T04:21:09.160Z"
      },
      {
        "duration": 47,
        "start_time": "2023-05-30T04:21:09.173Z"
      },
      {
        "duration": 41,
        "start_time": "2023-05-30T04:21:09.221Z"
      },
      {
        "duration": 25,
        "start_time": "2023-05-30T04:21:09.264Z"
      },
      {
        "duration": 15,
        "start_time": "2023-05-30T04:21:09.291Z"
      },
      {
        "duration": 32,
        "start_time": "2023-05-30T04:21:09.307Z"
      },
      {
        "duration": 29,
        "start_time": "2023-05-30T04:21:09.340Z"
      },
      {
        "duration": 27,
        "start_time": "2023-05-30T04:21:09.371Z"
      },
      {
        "duration": 17,
        "start_time": "2023-05-30T04:21:09.400Z"
      },
      {
        "duration": 25,
        "start_time": "2023-05-30T04:21:09.419Z"
      },
      {
        "duration": 22,
        "start_time": "2023-05-30T04:21:09.445Z"
      },
      {
        "duration": 60,
        "start_time": "2023-05-30T04:21:09.470Z"
      },
      {
        "duration": 104,
        "start_time": "2023-05-30T04:21:09.533Z"
      },
      {
        "duration": 94,
        "start_time": "2023-05-30T04:21:09.640Z"
      },
      {
        "duration": 91,
        "start_time": "2023-05-30T04:21:09.737Z"
      },
      {
        "duration": 6,
        "start_time": "2023-05-30T04:21:09.830Z"
      },
      {
        "duration": 98,
        "start_time": "2023-05-30T04:21:09.839Z"
      },
      {
        "duration": 9,
        "start_time": "2023-05-30T04:21:09.940Z"
      },
      {
        "duration": 6,
        "start_time": "2023-05-30T04:21:09.951Z"
      },
      {
        "duration": 12,
        "start_time": "2023-05-30T04:21:09.959Z"
      },
      {
        "duration": 51,
        "start_time": "2023-05-30T04:21:09.974Z"
      },
      {
        "duration": 95,
        "start_time": "2023-05-30T04:21:10.031Z"
      },
      {
        "duration": 103,
        "start_time": "2023-05-30T04:21:10.128Z"
      },
      {
        "duration": 98,
        "start_time": "2023-05-30T04:21:10.233Z"
      },
      {
        "duration": 102,
        "start_time": "2023-05-30T04:21:10.333Z"
      },
      {
        "duration": 90,
        "start_time": "2023-05-30T04:21:10.440Z"
      },
      {
        "duration": 3,
        "start_time": "2023-05-30T04:23:27.584Z"
      },
      {
        "duration": 1026,
        "start_time": "2023-05-30T04:27:10.233Z"
      },
      {
        "duration": 28,
        "start_time": "2023-05-30T04:27:11.261Z"
      },
      {
        "duration": 11,
        "start_time": "2023-05-30T04:27:11.290Z"
      },
      {
        "duration": 13,
        "start_time": "2023-05-30T04:27:11.303Z"
      },
      {
        "duration": 22,
        "start_time": "2023-05-30T04:27:11.318Z"
      },
      {
        "duration": 9,
        "start_time": "2023-05-30T04:27:11.341Z"
      },
      {
        "duration": 9,
        "start_time": "2023-05-30T04:27:11.351Z"
      },
      {
        "duration": 18,
        "start_time": "2023-05-30T04:27:11.361Z"
      },
      {
        "duration": 10,
        "start_time": "2023-05-30T04:27:11.380Z"
      },
      {
        "duration": 13,
        "start_time": "2023-05-30T04:27:11.392Z"
      },
      {
        "duration": 6,
        "start_time": "2023-05-30T04:27:11.406Z"
      },
      {
        "duration": 11,
        "start_time": "2023-05-30T04:27:11.414Z"
      },
      {
        "duration": 6,
        "start_time": "2023-05-30T04:27:11.427Z"
      },
      {
        "duration": 18,
        "start_time": "2023-05-30T04:27:11.435Z"
      },
      {
        "duration": 6,
        "start_time": "2023-05-30T04:27:11.526Z"
      },
      {
        "duration": 93,
        "start_time": "2023-05-30T04:27:11.534Z"
      },
      {
        "duration": 97,
        "start_time": "2023-05-30T04:27:11.629Z"
      },
      {
        "duration": 99,
        "start_time": "2023-05-30T04:27:11.729Z"
      },
      {
        "duration": 9,
        "start_time": "2023-05-30T04:27:11.830Z"
      },
      {
        "duration": 10,
        "start_time": "2023-05-30T04:27:11.841Z"
      },
      {
        "duration": 9,
        "start_time": "2023-05-30T04:27:11.853Z"
      },
      {
        "duration": 12,
        "start_time": "2023-05-30T04:27:11.864Z"
      },
      {
        "duration": 7,
        "start_time": "2023-05-30T04:27:11.926Z"
      },
      {
        "duration": 91,
        "start_time": "2023-05-30T04:27:11.937Z"
      },
      {
        "duration": 106,
        "start_time": "2023-05-30T04:27:12.030Z"
      },
      {
        "duration": 88,
        "start_time": "2023-05-30T04:27:12.139Z"
      },
      {
        "duration": 5,
        "start_time": "2023-05-30T04:27:12.232Z"
      },
      {
        "duration": 10,
        "start_time": "2023-05-30T04:27:12.326Z"
      },
      {
        "duration": 106,
        "start_time": "2023-05-30T04:27:12.338Z"
      },
      {
        "duration": 1799,
        "start_time": "2023-05-30T06:48:58.318Z"
      },
      {
        "duration": 46,
        "start_time": "2023-05-30T06:49:00.119Z"
      },
      {
        "duration": 18,
        "start_time": "2023-05-30T06:49:00.167Z"
      },
      {
        "duration": 19,
        "start_time": "2023-05-30T06:49:00.187Z"
      },
      {
        "duration": 47,
        "start_time": "2023-05-30T06:49:00.207Z"
      },
      {
        "duration": 12,
        "start_time": "2023-05-30T06:49:00.256Z"
      },
      {
        "duration": 10,
        "start_time": "2023-05-30T06:49:00.269Z"
      },
      {
        "duration": 17,
        "start_time": "2023-05-30T06:49:00.281Z"
      },
      {
        "duration": 16,
        "start_time": "2023-05-30T06:49:00.300Z"
      },
      {
        "duration": 32,
        "start_time": "2023-05-30T06:49:00.319Z"
      },
      {
        "duration": 30,
        "start_time": "2023-05-30T06:49:00.352Z"
      },
      {
        "duration": 33,
        "start_time": "2023-05-30T06:49:00.383Z"
      },
      {
        "duration": 45,
        "start_time": "2023-05-30T06:49:00.418Z"
      },
      {
        "duration": 22,
        "start_time": "2023-05-30T06:49:00.465Z"
      },
      {
        "duration": 18,
        "start_time": "2023-05-30T06:49:00.547Z"
      },
      {
        "duration": 98,
        "start_time": "2023-05-30T06:49:00.649Z"
      },
      {
        "duration": 15,
        "start_time": "2023-05-30T06:49:00.749Z"
      },
      {
        "duration": 191,
        "start_time": "2023-05-30T06:49:00.771Z"
      },
      {
        "duration": 40,
        "start_time": "2023-05-30T06:49:00.964Z"
      },
      {
        "duration": 52,
        "start_time": "2023-05-30T06:49:01.006Z"
      },
      {
        "duration": 32,
        "start_time": "2023-05-30T06:49:01.060Z"
      },
      {
        "duration": 35,
        "start_time": "2023-05-30T06:49:01.093Z"
      },
      {
        "duration": 130,
        "start_time": "2023-05-30T06:49:01.130Z"
      },
      {
        "duration": 195,
        "start_time": "2023-05-30T06:49:01.266Z"
      },
      {
        "duration": 35,
        "start_time": "2023-05-30T06:49:01.463Z"
      },
      {
        "duration": 177,
        "start_time": "2023-05-30T06:49:01.500Z"
      },
      {
        "duration": 27,
        "start_time": "2023-05-30T06:49:01.679Z"
      },
      {
        "duration": 27,
        "start_time": "2023-05-30T06:49:01.709Z"
      },
      {
        "duration": 150,
        "start_time": "2023-05-30T06:49:01.738Z"
      }
    ],
    "kernelspec": {
      "display_name": "Python 3 (ipykernel)",
      "language": "python",
      "name": "python3"
    },
    "language_info": {
      "codemirror_mode": {
        "name": "ipython",
        "version": 3
      },
      "file_extension": ".py",
      "mimetype": "text/x-python",
      "name": "python",
      "nbconvert_exporter": "python",
      "pygments_lexer": "ipython3",
      "version": "3.9.5"
    },
    "toc": {
      "base_numbering": 1,
      "nav_menu": {},
      "number_sections": true,
      "sideBar": true,
      "skip_h1_title": true,
      "title_cell": "Содержание",
      "title_sidebar": "Contents",
      "toc_cell": true,
      "toc_position": {},
      "toc_section_display": true,
      "toc_window_display": true
    },
    "colab": {
      "provenance": []
    }
  },
  "nbformat": 4,
  "nbformat_minor": 0
}