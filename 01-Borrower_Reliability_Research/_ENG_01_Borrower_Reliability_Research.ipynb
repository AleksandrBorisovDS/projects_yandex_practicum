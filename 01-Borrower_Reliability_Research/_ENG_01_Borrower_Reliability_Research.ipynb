{
  "cells": [
    {
      "cell_type": "markdown",
      "id": "183d86fc",
      "metadata": {
        "deletable": false,
        "editable": false,
        "id": "183d86fc"
      },
      "source": [
        "# Study of borrower reliability\n"
      ]
    },
    {
      "cell_type": "markdown",
      "id": "45d9abe3",
      "metadata": {
        "deletable": false,
        "editable": false,
        "id": "45d9abe3"
      },
      "source": [
        "## Open the table and explore general information about the data\n"
      ]
    },
    {
      "cell_type": "markdown",
      "id": "b265302a",
      "metadata": {
        "deletable": false,
        "editable": false,
        "id": "b265302a"
      },
      "source": [
        "**Task 1. Import the pandas library. Read data from a csv file into a dataframe and save it into the `data` variable. The path to the file:** `/datasets/data.csv`"
      ]
    },
    {
      "cell_type": "code",
      "execution_count": 1,
      "id": "43600065",
      "metadata": {
        "deletable": false,
        "id": "43600065"
      },
      "outputs": [],
      "source": [
        "import pandas as pd\n",
        "\n",
        "try:\n",
        "    data = pd.read_csv('/datasets/data.csv')\n",
        "except:\n",
        "    data = pd.read_csv('https://code.s3.yandex.net/datasets/data.csv')"
      ]
    },
    {
      "cell_type": "markdown",
      "id": "33c0010f",
      "metadata": {
        "deletable": false,
        "editable": false,
        "id": "33c0010f"
      },
      "source": [
        "**Task 2. Display the first 20 lines of the `data` dataframe on the screen.**"
      ]
    },
    {
      "cell_type": "code",
      "execution_count": 2,
      "id": "abb8b01a",
      "metadata": {
        "deletable": false,
        "id": "abb8b01a",
        "outputId": "bb8d4ec6-5e32-40f2-db3b-caad3b4503f9",
        "colab": {
          "base_uri": "https://localhost:8080/",
          "height": 677
        }
      },
      "outputs": [
        {
          "output_type": "execute_result",
          "data": {
            "text/plain": [
              "    children  days_employed  dob_years            education  education_id  \\\n",
              "0          1   -8437.673028         42               высшее             0   \n",
              "1          1   -4024.803754         36              среднее             1   \n",
              "2          0   -5623.422610         33              Среднее             1   \n",
              "3          3   -4124.747207         32              среднее             1   \n",
              "4          0  340266.072047         53              среднее             1   \n",
              "5          0    -926.185831         27               высшее             0   \n",
              "6          0   -2879.202052         43               высшее             0   \n",
              "7          0    -152.779569         50              СРЕДНЕЕ             1   \n",
              "8          2   -6929.865299         35               ВЫСШЕЕ             0   \n",
              "9          0   -2188.756445         41              среднее             1   \n",
              "10         2   -4171.483647         36               высшее             0   \n",
              "11         0    -792.701887         40              среднее             1   \n",
              "12         0            NaN         65              среднее             1   \n",
              "13         0   -1846.641941         54  неоконченное высшее             2   \n",
              "14         0   -1844.956182         56               высшее             0   \n",
              "15         1    -972.364419         26              среднее             1   \n",
              "16         0   -1719.934226         35              среднее             1   \n",
              "17         0   -2369.999720         33               высшее             0   \n",
              "18         0  400281.136913         53              среднее             1   \n",
              "19         0  -10038.818549         48              СРЕДНЕЕ             1   \n",
              "\n",
              "       family_status  family_status_id gender income_type  debt  \\\n",
              "0    женат / замужем                 0      F   сотрудник     0   \n",
              "1    женат / замужем                 0      F   сотрудник     0   \n",
              "2    женат / замужем                 0      M   сотрудник     0   \n",
              "3    женат / замужем                 0      M   сотрудник     0   \n",
              "4   гражданский брак                 1      F   пенсионер     0   \n",
              "5   гражданский брак                 1      M   компаньон     0   \n",
              "6    женат / замужем                 0      F   компаньон     0   \n",
              "7    женат / замужем                 0      M   сотрудник     0   \n",
              "8   гражданский брак                 1      F   сотрудник     0   \n",
              "9    женат / замужем                 0      M   сотрудник     0   \n",
              "10   женат / замужем                 0      M   компаньон     0   \n",
              "11   женат / замужем                 0      F   сотрудник     0   \n",
              "12  гражданский брак                 1      M   пенсионер     0   \n",
              "13   женат / замужем                 0      F   сотрудник     0   \n",
              "14  гражданский брак                 1      F   компаньон     1   \n",
              "15   женат / замужем                 0      F   сотрудник     0   \n",
              "16   женат / замужем                 0      F   сотрудник     0   \n",
              "17  гражданский брак                 1      M   сотрудник     0   \n",
              "18    вдовец / вдова                 2      F   пенсионер     0   \n",
              "19         в разводе                 3      F   сотрудник     0   \n",
              "\n",
              "     total_income                                 purpose  \n",
              "0   253875.639453                           покупка жилья  \n",
              "1   112080.014102                 приобретение автомобиля  \n",
              "2   145885.952297                           покупка жилья  \n",
              "3   267628.550329              дополнительное образование  \n",
              "4   158616.077870                         сыграть свадьбу  \n",
              "5   255763.565419                           покупка жилья  \n",
              "6   240525.971920                       операции с жильем  \n",
              "7   135823.934197                             образование  \n",
              "8    95856.832424                   на проведение свадьбы  \n",
              "9   144425.938277                 покупка жилья для семьи  \n",
              "10  113943.491460                    покупка недвижимости  \n",
              "11   77069.234271       покупка коммерческой недвижимости  \n",
              "12            NaN                         сыграть свадьбу  \n",
              "13  130458.228857                 приобретение автомобиля  \n",
              "14  165127.911772              покупка жилой недвижимости  \n",
              "15  116820.904450  строительство собственной недвижимости  \n",
              "16  289202.704229                            недвижимость  \n",
              "17   90410.586745              строительство недвижимости  \n",
              "18   56823.777243      на покупку подержанного автомобиля  \n",
              "19  242831.107982            на покупку своего автомобиля  "
            ],
            "text/html": [
              "\n",
              "  <div id=\"df-ede0d44a-128e-4473-b4ed-040952931eca\" class=\"colab-df-container\">\n",
              "    <div>\n",
              "<style scoped>\n",
              "    .dataframe tbody tr th:only-of-type {\n",
              "        vertical-align: middle;\n",
              "    }\n",
              "\n",
              "    .dataframe tbody tr th {\n",
              "        vertical-align: top;\n",
              "    }\n",
              "\n",
              "    .dataframe thead th {\n",
              "        text-align: right;\n",
              "    }\n",
              "</style>\n",
              "<table border=\"1\" class=\"dataframe\">\n",
              "  <thead>\n",
              "    <tr style=\"text-align: right;\">\n",
              "      <th></th>\n",
              "      <th>children</th>\n",
              "      <th>days_employed</th>\n",
              "      <th>dob_years</th>\n",
              "      <th>education</th>\n",
              "      <th>education_id</th>\n",
              "      <th>family_status</th>\n",
              "      <th>family_status_id</th>\n",
              "      <th>gender</th>\n",
              "      <th>income_type</th>\n",
              "      <th>debt</th>\n",
              "      <th>total_income</th>\n",
              "      <th>purpose</th>\n",
              "    </tr>\n",
              "  </thead>\n",
              "  <tbody>\n",
              "    <tr>\n",
              "      <th>0</th>\n",
              "      <td>1</td>\n",
              "      <td>-8437.673028</td>\n",
              "      <td>42</td>\n",
              "      <td>высшее</td>\n",
              "      <td>0</td>\n",
              "      <td>женат / замужем</td>\n",
              "      <td>0</td>\n",
              "      <td>F</td>\n",
              "      <td>сотрудник</td>\n",
              "      <td>0</td>\n",
              "      <td>253875.639453</td>\n",
              "      <td>покупка жилья</td>\n",
              "    </tr>\n",
              "    <tr>\n",
              "      <th>1</th>\n",
              "      <td>1</td>\n",
              "      <td>-4024.803754</td>\n",
              "      <td>36</td>\n",
              "      <td>среднее</td>\n",
              "      <td>1</td>\n",
              "      <td>женат / замужем</td>\n",
              "      <td>0</td>\n",
              "      <td>F</td>\n",
              "      <td>сотрудник</td>\n",
              "      <td>0</td>\n",
              "      <td>112080.014102</td>\n",
              "      <td>приобретение автомобиля</td>\n",
              "    </tr>\n",
              "    <tr>\n",
              "      <th>2</th>\n",
              "      <td>0</td>\n",
              "      <td>-5623.422610</td>\n",
              "      <td>33</td>\n",
              "      <td>Среднее</td>\n",
              "      <td>1</td>\n",
              "      <td>женат / замужем</td>\n",
              "      <td>0</td>\n",
              "      <td>M</td>\n",
              "      <td>сотрудник</td>\n",
              "      <td>0</td>\n",
              "      <td>145885.952297</td>\n",
              "      <td>покупка жилья</td>\n",
              "    </tr>\n",
              "    <tr>\n",
              "      <th>3</th>\n",
              "      <td>3</td>\n",
              "      <td>-4124.747207</td>\n",
              "      <td>32</td>\n",
              "      <td>среднее</td>\n",
              "      <td>1</td>\n",
              "      <td>женат / замужем</td>\n",
              "      <td>0</td>\n",
              "      <td>M</td>\n",
              "      <td>сотрудник</td>\n",
              "      <td>0</td>\n",
              "      <td>267628.550329</td>\n",
              "      <td>дополнительное образование</td>\n",
              "    </tr>\n",
              "    <tr>\n",
              "      <th>4</th>\n",
              "      <td>0</td>\n",
              "      <td>340266.072047</td>\n",
              "      <td>53</td>\n",
              "      <td>среднее</td>\n",
              "      <td>1</td>\n",
              "      <td>гражданский брак</td>\n",
              "      <td>1</td>\n",
              "      <td>F</td>\n",
              "      <td>пенсионер</td>\n",
              "      <td>0</td>\n",
              "      <td>158616.077870</td>\n",
              "      <td>сыграть свадьбу</td>\n",
              "    </tr>\n",
              "    <tr>\n",
              "      <th>5</th>\n",
              "      <td>0</td>\n",
              "      <td>-926.185831</td>\n",
              "      <td>27</td>\n",
              "      <td>высшее</td>\n",
              "      <td>0</td>\n",
              "      <td>гражданский брак</td>\n",
              "      <td>1</td>\n",
              "      <td>M</td>\n",
              "      <td>компаньон</td>\n",
              "      <td>0</td>\n",
              "      <td>255763.565419</td>\n",
              "      <td>покупка жилья</td>\n",
              "    </tr>\n",
              "    <tr>\n",
              "      <th>6</th>\n",
              "      <td>0</td>\n",
              "      <td>-2879.202052</td>\n",
              "      <td>43</td>\n",
              "      <td>высшее</td>\n",
              "      <td>0</td>\n",
              "      <td>женат / замужем</td>\n",
              "      <td>0</td>\n",
              "      <td>F</td>\n",
              "      <td>компаньон</td>\n",
              "      <td>0</td>\n",
              "      <td>240525.971920</td>\n",
              "      <td>операции с жильем</td>\n",
              "    </tr>\n",
              "    <tr>\n",
              "      <th>7</th>\n",
              "      <td>0</td>\n",
              "      <td>-152.779569</td>\n",
              "      <td>50</td>\n",
              "      <td>СРЕДНЕЕ</td>\n",
              "      <td>1</td>\n",
              "      <td>женат / замужем</td>\n",
              "      <td>0</td>\n",
              "      <td>M</td>\n",
              "      <td>сотрудник</td>\n",
              "      <td>0</td>\n",
              "      <td>135823.934197</td>\n",
              "      <td>образование</td>\n",
              "    </tr>\n",
              "    <tr>\n",
              "      <th>8</th>\n",
              "      <td>2</td>\n",
              "      <td>-6929.865299</td>\n",
              "      <td>35</td>\n",
              "      <td>ВЫСШЕЕ</td>\n",
              "      <td>0</td>\n",
              "      <td>гражданский брак</td>\n",
              "      <td>1</td>\n",
              "      <td>F</td>\n",
              "      <td>сотрудник</td>\n",
              "      <td>0</td>\n",
              "      <td>95856.832424</td>\n",
              "      <td>на проведение свадьбы</td>\n",
              "    </tr>\n",
              "    <tr>\n",
              "      <th>9</th>\n",
              "      <td>0</td>\n",
              "      <td>-2188.756445</td>\n",
              "      <td>41</td>\n",
              "      <td>среднее</td>\n",
              "      <td>1</td>\n",
              "      <td>женат / замужем</td>\n",
              "      <td>0</td>\n",
              "      <td>M</td>\n",
              "      <td>сотрудник</td>\n",
              "      <td>0</td>\n",
              "      <td>144425.938277</td>\n",
              "      <td>покупка жилья для семьи</td>\n",
              "    </tr>\n",
              "    <tr>\n",
              "      <th>10</th>\n",
              "      <td>2</td>\n",
              "      <td>-4171.483647</td>\n",
              "      <td>36</td>\n",
              "      <td>высшее</td>\n",
              "      <td>0</td>\n",
              "      <td>женат / замужем</td>\n",
              "      <td>0</td>\n",
              "      <td>M</td>\n",
              "      <td>компаньон</td>\n",
              "      <td>0</td>\n",
              "      <td>113943.491460</td>\n",
              "      <td>покупка недвижимости</td>\n",
              "    </tr>\n",
              "    <tr>\n",
              "      <th>11</th>\n",
              "      <td>0</td>\n",
              "      <td>-792.701887</td>\n",
              "      <td>40</td>\n",
              "      <td>среднее</td>\n",
              "      <td>1</td>\n",
              "      <td>женат / замужем</td>\n",
              "      <td>0</td>\n",
              "      <td>F</td>\n",
              "      <td>сотрудник</td>\n",
              "      <td>0</td>\n",
              "      <td>77069.234271</td>\n",
              "      <td>покупка коммерческой недвижимости</td>\n",
              "    </tr>\n",
              "    <tr>\n",
              "      <th>12</th>\n",
              "      <td>0</td>\n",
              "      <td>NaN</td>\n",
              "      <td>65</td>\n",
              "      <td>среднее</td>\n",
              "      <td>1</td>\n",
              "      <td>гражданский брак</td>\n",
              "      <td>1</td>\n",
              "      <td>M</td>\n",
              "      <td>пенсионер</td>\n",
              "      <td>0</td>\n",
              "      <td>NaN</td>\n",
              "      <td>сыграть свадьбу</td>\n",
              "    </tr>\n",
              "    <tr>\n",
              "      <th>13</th>\n",
              "      <td>0</td>\n",
              "      <td>-1846.641941</td>\n",
              "      <td>54</td>\n",
              "      <td>неоконченное высшее</td>\n",
              "      <td>2</td>\n",
              "      <td>женат / замужем</td>\n",
              "      <td>0</td>\n",
              "      <td>F</td>\n",
              "      <td>сотрудник</td>\n",
              "      <td>0</td>\n",
              "      <td>130458.228857</td>\n",
              "      <td>приобретение автомобиля</td>\n",
              "    </tr>\n",
              "    <tr>\n",
              "      <th>14</th>\n",
              "      <td>0</td>\n",
              "      <td>-1844.956182</td>\n",
              "      <td>56</td>\n",
              "      <td>высшее</td>\n",
              "      <td>0</td>\n",
              "      <td>гражданский брак</td>\n",
              "      <td>1</td>\n",
              "      <td>F</td>\n",
              "      <td>компаньон</td>\n",
              "      <td>1</td>\n",
              "      <td>165127.911772</td>\n",
              "      <td>покупка жилой недвижимости</td>\n",
              "    </tr>\n",
              "    <tr>\n",
              "      <th>15</th>\n",
              "      <td>1</td>\n",
              "      <td>-972.364419</td>\n",
              "      <td>26</td>\n",
              "      <td>среднее</td>\n",
              "      <td>1</td>\n",
              "      <td>женат / замужем</td>\n",
              "      <td>0</td>\n",
              "      <td>F</td>\n",
              "      <td>сотрудник</td>\n",
              "      <td>0</td>\n",
              "      <td>116820.904450</td>\n",
              "      <td>строительство собственной недвижимости</td>\n",
              "    </tr>\n",
              "    <tr>\n",
              "      <th>16</th>\n",
              "      <td>0</td>\n",
              "      <td>-1719.934226</td>\n",
              "      <td>35</td>\n",
              "      <td>среднее</td>\n",
              "      <td>1</td>\n",
              "      <td>женат / замужем</td>\n",
              "      <td>0</td>\n",
              "      <td>F</td>\n",
              "      <td>сотрудник</td>\n",
              "      <td>0</td>\n",
              "      <td>289202.704229</td>\n",
              "      <td>недвижимость</td>\n",
              "    </tr>\n",
              "    <tr>\n",
              "      <th>17</th>\n",
              "      <td>0</td>\n",
              "      <td>-2369.999720</td>\n",
              "      <td>33</td>\n",
              "      <td>высшее</td>\n",
              "      <td>0</td>\n",
              "      <td>гражданский брак</td>\n",
              "      <td>1</td>\n",
              "      <td>M</td>\n",
              "      <td>сотрудник</td>\n",
              "      <td>0</td>\n",
              "      <td>90410.586745</td>\n",
              "      <td>строительство недвижимости</td>\n",
              "    </tr>\n",
              "    <tr>\n",
              "      <th>18</th>\n",
              "      <td>0</td>\n",
              "      <td>400281.136913</td>\n",
              "      <td>53</td>\n",
              "      <td>среднее</td>\n",
              "      <td>1</td>\n",
              "      <td>вдовец / вдова</td>\n",
              "      <td>2</td>\n",
              "      <td>F</td>\n",
              "      <td>пенсионер</td>\n",
              "      <td>0</td>\n",
              "      <td>56823.777243</td>\n",
              "      <td>на покупку подержанного автомобиля</td>\n",
              "    </tr>\n",
              "    <tr>\n",
              "      <th>19</th>\n",
              "      <td>0</td>\n",
              "      <td>-10038.818549</td>\n",
              "      <td>48</td>\n",
              "      <td>СРЕДНЕЕ</td>\n",
              "      <td>1</td>\n",
              "      <td>в разводе</td>\n",
              "      <td>3</td>\n",
              "      <td>F</td>\n",
              "      <td>сотрудник</td>\n",
              "      <td>0</td>\n",
              "      <td>242831.107982</td>\n",
              "      <td>на покупку своего автомобиля</td>\n",
              "    </tr>\n",
              "  </tbody>\n",
              "</table>\n",
              "</div>\n",
              "    <div class=\"colab-df-buttons\">\n",
              "\n",
              "  <div class=\"colab-df-container\">\n",
              "    <button class=\"colab-df-convert\" onclick=\"convertToInteractive('df-ede0d44a-128e-4473-b4ed-040952931eca')\"\n",
              "            title=\"Convert this dataframe to an interactive table.\"\n",
              "            style=\"display:none;\">\n",
              "\n",
              "  <svg xmlns=\"http://www.w3.org/2000/svg\" height=\"24px\" viewBox=\"0 -960 960 960\">\n",
              "    <path d=\"M120-120v-720h720v720H120Zm60-500h600v-160H180v160Zm220 220h160v-160H400v160Zm0 220h160v-160H400v160ZM180-400h160v-160H180v160Zm440 0h160v-160H620v160ZM180-180h160v-160H180v160Zm440 0h160v-160H620v160Z\"/>\n",
              "  </svg>\n",
              "    </button>\n",
              "\n",
              "  <style>\n",
              "    .colab-df-container {\n",
              "      display:flex;\n",
              "      gap: 12px;\n",
              "    }\n",
              "\n",
              "    .colab-df-convert {\n",
              "      background-color: #E8F0FE;\n",
              "      border: none;\n",
              "      border-radius: 50%;\n",
              "      cursor: pointer;\n",
              "      display: none;\n",
              "      fill: #1967D2;\n",
              "      height: 32px;\n",
              "      padding: 0 0 0 0;\n",
              "      width: 32px;\n",
              "    }\n",
              "\n",
              "    .colab-df-convert:hover {\n",
              "      background-color: #E2EBFA;\n",
              "      box-shadow: 0px 1px 2px rgba(60, 64, 67, 0.3), 0px 1px 3px 1px rgba(60, 64, 67, 0.15);\n",
              "      fill: #174EA6;\n",
              "    }\n",
              "\n",
              "    .colab-df-buttons div {\n",
              "      margin-bottom: 4px;\n",
              "    }\n",
              "\n",
              "    [theme=dark] .colab-df-convert {\n",
              "      background-color: #3B4455;\n",
              "      fill: #D2E3FC;\n",
              "    }\n",
              "\n",
              "    [theme=dark] .colab-df-convert:hover {\n",
              "      background-color: #434B5C;\n",
              "      box-shadow: 0px 1px 3px 1px rgba(0, 0, 0, 0.15);\n",
              "      filter: drop-shadow(0px 1px 2px rgba(0, 0, 0, 0.3));\n",
              "      fill: #FFFFFF;\n",
              "    }\n",
              "  </style>\n",
              "\n",
              "    <script>\n",
              "      const buttonEl =\n",
              "        document.querySelector('#df-ede0d44a-128e-4473-b4ed-040952931eca button.colab-df-convert');\n",
              "      buttonEl.style.display =\n",
              "        google.colab.kernel.accessAllowed ? 'block' : 'none';\n",
              "\n",
              "      async function convertToInteractive(key) {\n",
              "        const element = document.querySelector('#df-ede0d44a-128e-4473-b4ed-040952931eca');\n",
              "        const dataTable =\n",
              "          await google.colab.kernel.invokeFunction('convertToInteractive',\n",
              "                                                    [key], {});\n",
              "        if (!dataTable) return;\n",
              "\n",
              "        const docLinkHtml = 'Like what you see? Visit the ' +\n",
              "          '<a target=\"_blank\" href=https://colab.research.google.com/notebooks/data_table.ipynb>data table notebook</a>'\n",
              "          + ' to learn more about interactive tables.';\n",
              "        element.innerHTML = '';\n",
              "        dataTable['output_type'] = 'display_data';\n",
              "        await google.colab.output.renderOutput(dataTable, element);\n",
              "        const docLink = document.createElement('div');\n",
              "        docLink.innerHTML = docLinkHtml;\n",
              "        element.appendChild(docLink);\n",
              "      }\n",
              "    </script>\n",
              "  </div>\n",
              "\n",
              "\n",
              "<div id=\"df-ecefd2e8-5a67-4406-bb1a-22fadab44c85\">\n",
              "  <button class=\"colab-df-quickchart\" onclick=\"quickchart('df-ecefd2e8-5a67-4406-bb1a-22fadab44c85')\"\n",
              "            title=\"Suggest charts.\"\n",
              "            style=\"display:none;\">\n",
              "\n",
              "<svg xmlns=\"http://www.w3.org/2000/svg\" height=\"24px\"viewBox=\"0 0 24 24\"\n",
              "     width=\"24px\">\n",
              "    <g>\n",
              "        <path d=\"M19 3H5c-1.1 0-2 .9-2 2v14c0 1.1.9 2 2 2h14c1.1 0 2-.9 2-2V5c0-1.1-.9-2-2-2zM9 17H7v-7h2v7zm4 0h-2V7h2v10zm4 0h-2v-4h2v4z\"/>\n",
              "    </g>\n",
              "</svg>\n",
              "  </button>\n",
              "\n",
              "<style>\n",
              "  .colab-df-quickchart {\n",
              "      --bg-color: #E8F0FE;\n",
              "      --fill-color: #1967D2;\n",
              "      --hover-bg-color: #E2EBFA;\n",
              "      --hover-fill-color: #174EA6;\n",
              "      --disabled-fill-color: #AAA;\n",
              "      --disabled-bg-color: #DDD;\n",
              "  }\n",
              "\n",
              "  [theme=dark] .colab-df-quickchart {\n",
              "      --bg-color: #3B4455;\n",
              "      --fill-color: #D2E3FC;\n",
              "      --hover-bg-color: #434B5C;\n",
              "      --hover-fill-color: #FFFFFF;\n",
              "      --disabled-bg-color: #3B4455;\n",
              "      --disabled-fill-color: #666;\n",
              "  }\n",
              "\n",
              "  .colab-df-quickchart {\n",
              "    background-color: var(--bg-color);\n",
              "    border: none;\n",
              "    border-radius: 50%;\n",
              "    cursor: pointer;\n",
              "    display: none;\n",
              "    fill: var(--fill-color);\n",
              "    height: 32px;\n",
              "    padding: 0;\n",
              "    width: 32px;\n",
              "  }\n",
              "\n",
              "  .colab-df-quickchart:hover {\n",
              "    background-color: var(--hover-bg-color);\n",
              "    box-shadow: 0 1px 2px rgba(60, 64, 67, 0.3), 0 1px 3px 1px rgba(60, 64, 67, 0.15);\n",
              "    fill: var(--button-hover-fill-color);\n",
              "  }\n",
              "\n",
              "  .colab-df-quickchart-complete:disabled,\n",
              "  .colab-df-quickchart-complete:disabled:hover {\n",
              "    background-color: var(--disabled-bg-color);\n",
              "    fill: var(--disabled-fill-color);\n",
              "    box-shadow: none;\n",
              "  }\n",
              "\n",
              "  .colab-df-spinner {\n",
              "    border: 2px solid var(--fill-color);\n",
              "    border-color: transparent;\n",
              "    border-bottom-color: var(--fill-color);\n",
              "    animation:\n",
              "      spin 1s steps(1) infinite;\n",
              "  }\n",
              "\n",
              "  @keyframes spin {\n",
              "    0% {\n",
              "      border-color: transparent;\n",
              "      border-bottom-color: var(--fill-color);\n",
              "      border-left-color: var(--fill-color);\n",
              "    }\n",
              "    20% {\n",
              "      border-color: transparent;\n",
              "      border-left-color: var(--fill-color);\n",
              "      border-top-color: var(--fill-color);\n",
              "    }\n",
              "    30% {\n",
              "      border-color: transparent;\n",
              "      border-left-color: var(--fill-color);\n",
              "      border-top-color: var(--fill-color);\n",
              "      border-right-color: var(--fill-color);\n",
              "    }\n",
              "    40% {\n",
              "      border-color: transparent;\n",
              "      border-right-color: var(--fill-color);\n",
              "      border-top-color: var(--fill-color);\n",
              "    }\n",
              "    60% {\n",
              "      border-color: transparent;\n",
              "      border-right-color: var(--fill-color);\n",
              "    }\n",
              "    80% {\n",
              "      border-color: transparent;\n",
              "      border-right-color: var(--fill-color);\n",
              "      border-bottom-color: var(--fill-color);\n",
              "    }\n",
              "    90% {\n",
              "      border-color: transparent;\n",
              "      border-bottom-color: var(--fill-color);\n",
              "    }\n",
              "  }\n",
              "</style>\n",
              "\n",
              "  <script>\n",
              "    async function quickchart(key) {\n",
              "      const quickchartButtonEl =\n",
              "        document.querySelector('#' + key + ' button');\n",
              "      quickchartButtonEl.disabled = true;  // To prevent multiple clicks.\n",
              "      quickchartButtonEl.classList.add('colab-df-spinner');\n",
              "      try {\n",
              "        const charts = await google.colab.kernel.invokeFunction(\n",
              "            'suggestCharts', [key], {});\n",
              "      } catch (error) {\n",
              "        console.error('Error during call to suggestCharts:', error);\n",
              "      }\n",
              "      quickchartButtonEl.classList.remove('colab-df-spinner');\n",
              "      quickchartButtonEl.classList.add('colab-df-quickchart-complete');\n",
              "    }\n",
              "    (() => {\n",
              "      let quickchartButtonEl =\n",
              "        document.querySelector('#df-ecefd2e8-5a67-4406-bb1a-22fadab44c85 button');\n",
              "      quickchartButtonEl.style.display =\n",
              "        google.colab.kernel.accessAllowed ? 'block' : 'none';\n",
              "    })();\n",
              "  </script>\n",
              "</div>\n",
              "    </div>\n",
              "  </div>\n"
            ]
          },
          "metadata": {},
          "execution_count": 2
        }
      ],
      "source": [
        "data.head(20)"
      ]
    },
    {
      "cell_type": "markdown",
      "id": "70c52add",
      "metadata": {
        "deletable": false,
        "editable": false,
        "id": "70c52add"
      },
      "source": [
        "**Task 3. Display basic information about the dataframe using the method `info()`.**"
      ]
    },
    {
      "cell_type": "code",
      "execution_count": 3,
      "id": "29f8cb72",
      "metadata": {
        "deletable": false,
        "id": "29f8cb72",
        "outputId": "91c41654-d841-4898-acfd-8fa8704cb294",
        "colab": {
          "base_uri": "https://localhost:8080/"
        }
      },
      "outputs": [
        {
          "output_type": "stream",
          "name": "stdout",
          "text": [
            "<class 'pandas.core.frame.DataFrame'>\n",
            "RangeIndex: 21525 entries, 0 to 21524\n",
            "Data columns (total 12 columns):\n",
            " #   Column            Non-Null Count  Dtype  \n",
            "---  ------            --------------  -----  \n",
            " 0   children          21525 non-null  int64  \n",
            " 1   days_employed     19351 non-null  float64\n",
            " 2   dob_years         21525 non-null  int64  \n",
            " 3   education         21525 non-null  object \n",
            " 4   education_id      21525 non-null  int64  \n",
            " 5   family_status     21525 non-null  object \n",
            " 6   family_status_id  21525 non-null  int64  \n",
            " 7   gender            21525 non-null  object \n",
            " 8   income_type       21525 non-null  object \n",
            " 9   debt              21525 non-null  int64  \n",
            " 10  total_income      19351 non-null  float64\n",
            " 11  purpose           21525 non-null  object \n",
            "dtypes: float64(2), int64(5), object(5)\n",
            "memory usage: 2.0+ MB\n"
          ]
        }
      ],
      "source": [
        "data.info()"
      ]
    },
    {
      "cell_type": "markdown",
      "id": "b97d8d5e",
      "metadata": {
        "deletable": false,
        "editable": false,
        "id": "b97d8d5e"
      },
      "source": [
        "## Data preprocessing"
      ]
    },
    {
      "cell_type": "markdown",
      "id": "6dbc300e",
      "metadata": {
        "deletable": false,
        "editable": false,
        "id": "6dbc300e"
      },
      "source": [
        "### Removing gaps"
      ]
    },
    {
      "cell_type": "markdown",
      "id": "45c69c10",
      "metadata": {
        "deletable": false,
        "editable": false,
        "id": "45c69c10"
      },
      "source": [
        "**Task 4. Print the number of missing values ​​for each column. Use a combination of two methods.**"
      ]
    },
    {
      "cell_type": "code",
      "execution_count": 4,
      "id": "0635c197",
      "metadata": {
        "deletable": false,
        "id": "0635c197",
        "outputId": "03e707c6-6bb8-4861-9897-78cf7640e079",
        "colab": {
          "base_uri": "https://localhost:8080/"
        }
      },
      "outputs": [
        {
          "output_type": "execute_result",
          "data": {
            "text/plain": [
              "children               0\n",
              "days_employed       2174\n",
              "dob_years              0\n",
              "education              0\n",
              "education_id           0\n",
              "family_status          0\n",
              "family_status_id       0\n",
              "gender                 0\n",
              "income_type            0\n",
              "debt                   0\n",
              "total_income        2174\n",
              "purpose                0\n",
              "dtype: int64"
            ]
          },
          "metadata": {},
          "execution_count": 4
        }
      ],
      "source": [
        "data.isna().sum()"
      ]
    },
    {
      "cell_type": "markdown",
      "id": "5db75b58",
      "metadata": {
        "deletable": false,
        "editable": false,
        "id": "5db75b58"
      },
      "source": [
        "**Task 5. Two columns have missing values. One of them is `days_employed`. You will handle gaps in this column in the next step. Another column with missing values, `total_income`, stores income data. The amount of income is most influenced by the type of employment, so you need to fill in the gaps in this column with the median value for each type from the `income_type` column. For example, for a person with an employment type of `employee`, the gap in the `total_income` column should be filled with the median income among all records with the same type.**"
      ]
    },
    {
      "cell_type": "code",
      "execution_count": 5,
      "id": "bb1a129f",
      "metadata": {
        "deletable": false,
        "id": "bb1a129f"
      },
      "outputs": [],
      "source": [
        "for t in data['income_type'].unique():\n",
        "    data.loc[(data['income_type'] == t) & (data['total_income'].isna()), 'total_income'] = \\\n",
        "    data.loc[(data['income_type'] == t), 'total_income'].median()"
      ]
    },
    {
      "cell_type": "markdown",
      "id": "46dc2aa2",
      "metadata": {
        "deletable": false,
        "editable": false,
        "id": "46dc2aa2"
      },
      "source": [
        "### Handling anomalous values"
      ]
    },
    {
      "cell_type": "markdown",
      "id": "92a93eed",
      "metadata": {
        "deletable": false,
        "editable": false,
        "id": "92a93eed"
      },
      "source": [
        "**Task 6. Data may contain artifacts (anomalies) - values ​​that do not reflect reality and appeared due to some error. such an artifact would be a negative number of days of employment in the `days_employed` column. This is normal for real data. Process the values ​​in this column: replace all negative values ​​with positive ones using the method `abs()`.**"
      ]
    },
    {
      "cell_type": "code",
      "execution_count": 6,
      "id": "973a155c",
      "metadata": {
        "deletable": false,
        "id": "973a155c"
      },
      "outputs": [],
      "source": [
        "data['days_employed'] = data['days_employed'].abs()"
      ]
    },
    {
      "cell_type": "markdown",
      "id": "0fd5838c",
      "metadata": {
        "deletable": false,
        "editable": false,
        "id": "0fd5838c"
      },
      "source": [
        "**Task 7. For each type of employment, print the median value of length of service days_employed in days.**"
      ]
    },
    {
      "cell_type": "code",
      "execution_count": 7,
      "id": "ed6d6d8a",
      "metadata": {
        "deletable": false,
        "id": "ed6d6d8a",
        "outputId": "ce292c55-33df-4ae4-9227-a92c67ea8205",
        "colab": {
          "base_uri": "https://localhost:8080/"
        }
      },
      "outputs": [
        {
          "output_type": "execute_result",
          "data": {
            "text/plain": [
              "income_type\n",
              "безработный        366413.652744\n",
              "в декрете            3296.759962\n",
              "госслужащий          2689.368353\n",
              "компаньон            1547.382223\n",
              "пенсионер          365213.306266\n",
              "предприниматель       520.848083\n",
              "сотрудник            1574.202821\n",
              "студент               578.751554\n",
              "Name: days_employed, dtype: float64"
            ]
          },
          "metadata": {},
          "execution_count": 7
        }
      ],
      "source": [
        "data.groupby('income_type')['days_employed'].agg('median')"
      ]
    },
    {
      "cell_type": "markdown",
      "id": "dbbabd4a",
      "metadata": {
        "deletable": false,
        "editable": false,
        "id": "dbbabd4a"
      },
      "source": [
        "Two types (unemployed and pensioners) will have abnormally large values. These values ​​are difficult to correct, so leave them as they are. Moreover, you will not need this column for research."
      ]
    },
    {
      "cell_type": "markdown",
      "id": "5e366aa4",
      "metadata": {
        "deletable": false,
        "editable": false,
        "id": "5e366aa4"
      },
      "source": [
        "**Task 8. List the unique values ​​of a column `children`.**"
      ]
    },
    {
      "cell_type": "code",
      "execution_count": 8,
      "id": "45be36d9",
      "metadata": {
        "deletable": false,
        "id": "45be36d9",
        "outputId": "f7d5df22-18e2-423d-9c21-48cc8d0f8f4e",
        "colab": {
          "base_uri": "https://localhost:8080/"
        }
      },
      "outputs": [
        {
          "output_type": "execute_result",
          "data": {
            "text/plain": [
              "array([ 1,  0,  3,  2, -1,  4, 20,  5])"
            ]
          },
          "metadata": {},
          "execution_count": 8
        }
      ],
      "source": [
        "data['children'].unique()"
      ]
    },
    {
      "cell_type": "markdown",
      "id": "414cc8dd",
      "metadata": {
        "deletable": false,
        "editable": false,
        "id": "414cc8dd"
      },
      "source": [
        "**Task 9. There are two anomalous values ​​in the `children` column. Remove rows containing such anomalous values ​​from the dataframe `data`.**"
      ]
    },
    {
      "cell_type": "code",
      "execution_count": 9,
      "id": "3e62cdc3",
      "metadata": {
        "deletable": false,
        "id": "3e62cdc3"
      },
      "outputs": [],
      "source": [
        "data = data[(data['children'] != -1) & (data['children'] != 20)]"
      ]
    },
    {
      "cell_type": "markdown",
      "id": "ed448b44",
      "metadata": {
        "deletable": false,
        "editable": false,
        "id": "ed448b44"
      },
      "source": [
        "**Task 10. List the unique values ​​of the `children` column again to make sure that the artifacts have been removed.**"
      ]
    },
    {
      "cell_type": "code",
      "execution_count": 10,
      "id": "848d4165",
      "metadata": {
        "deletable": false,
        "id": "848d4165",
        "outputId": "b351fd3b-95c6-49ab-8c6e-e6878e5cc04d",
        "colab": {
          "base_uri": "https://localhost:8080/"
        }
      },
      "outputs": [
        {
          "output_type": "execute_result",
          "data": {
            "text/plain": [
              "array([1, 0, 3, 2, 4, 5])"
            ]
          },
          "metadata": {},
          "execution_count": 10
        }
      ],
      "source": [
        "data['children'].unique()"
      ]
    },
    {
      "cell_type": "markdown",
      "id": "20e19d55",
      "metadata": {
        "deletable": false,
        "editable": false,
        "id": "20e19d55"
      },
      "source": [
        "### Removing gaps (continued)"
      ]
    },
    {
      "cell_type": "markdown",
      "id": "c96cebed",
      "metadata": {
        "deletable": false,
        "editable": false,
        "id": "c96cebed"
      },
      "source": [
        "**Task 11. Fill in the blanks in the `days_employed` column with the median values ​​for each type of employment `income_type`.**"
      ]
    },
    {
      "cell_type": "code",
      "execution_count": 11,
      "id": "2b0328a0",
      "metadata": {
        "deletable": false,
        "id": "2b0328a0"
      },
      "outputs": [],
      "source": [
        "for t in data['income_type'].unique():\n",
        "    data.loc[(data['income_type'] == t) & (data['days_employed'].isna()), 'days_employed'] = \\\n",
        "    data.loc[(data['income_type'] == t), 'days_employed'].median()"
      ]
    },
    {
      "cell_type": "markdown",
      "id": "ab0ee937",
      "metadata": {
        "deletable": false,
        "editable": false,
        "id": "ab0ee937"
      },
      "source": [
        "**Task 12. Make sure all blanks are filled in. Test yourself and again print the number of missing values ​​for each column using two methods.**"
      ]
    },
    {
      "cell_type": "code",
      "execution_count": 12,
      "id": "d98f281c",
      "metadata": {
        "deletable": false,
        "id": "d98f281c",
        "outputId": "8bb88b1b-5c1b-4014-a152-a4e845275e42",
        "colab": {
          "base_uri": "https://localhost:8080/"
        }
      },
      "outputs": [
        {
          "output_type": "execute_result",
          "data": {
            "text/plain": [
              "children            0\n",
              "days_employed       0\n",
              "dob_years           0\n",
              "education           0\n",
              "education_id        0\n",
              "family_status       0\n",
              "family_status_id    0\n",
              "gender              0\n",
              "income_type         0\n",
              "debt                0\n",
              "total_income        0\n",
              "purpose             0\n",
              "dtype: int64"
            ]
          },
          "metadata": {},
          "execution_count": 12
        }
      ],
      "source": [
        "data.isna().sum()"
      ]
    },
    {
      "cell_type": "markdown",
      "id": "48a57ad0",
      "metadata": {
        "deletable": false,
        "editable": false,
        "id": "48a57ad0"
      },
      "source": [
        "### Changing Data Types"
      ]
    },
    {
      "cell_type": "markdown",
      "id": "940a3342",
      "metadata": {
        "deletable": false,
        "editable": false,
        "id": "940a3342"
      },
      "source": [
        "**Task 13. Replace the real data type in the `total_income` column with an integer using the method `astype()`.**"
      ]
    },
    {
      "cell_type": "code",
      "execution_count": 13,
      "id": "e3821775",
      "metadata": {
        "deletable": false,
        "id": "e3821775"
      },
      "outputs": [],
      "source": [
        "data['total_income'] = data['total_income'].astype(int)"
      ]
    },
    {
      "cell_type": "markdown",
      "id": "6a7ec5d2",
      "metadata": {
        "deletable": false,
        "editable": false,
        "id": "6a7ec5d2"
      },
      "source": [
        "### Handling duplicates"
      ]
    },
    {
      "cell_type": "markdown",
      "id": "b0380d79",
      "metadata": {
        "deletable": false,
        "editable": false,
        "id": "b0380d79"
      },
      "source": [
        "**Task 14: Handle implicit duplicates in the `education` column. This column has the same values, but written differently, using uppercase and lowercase letters. Convert them to lower case. Check the remaining columns.**"
      ]
    },
    {
      "cell_type": "code",
      "execution_count": 14,
      "id": "5a8e6cc6",
      "metadata": {
        "deletable": false,
        "id": "5a8e6cc6"
      },
      "outputs": [],
      "source": [
        "data['education'] = data['education'].str.lower()"
      ]
    },
    {
      "cell_type": "markdown",
      "id": "2dcdf4c7",
      "metadata": {
        "deletable": false,
        "editable": false,
        "id": "2dcdf4c7"
      },
      "source": [
        "**Task 15. Display the number of duplicate rows in the data. If such lines are present, remove them.**"
      ]
    },
    {
      "cell_type": "code",
      "execution_count": 15,
      "id": "66284a05",
      "metadata": {
        "deletable": false,
        "id": "66284a05",
        "outputId": "07fb4d00-3a7d-4849-e34a-be46ac57f027",
        "colab": {
          "base_uri": "https://localhost:8080/"
        }
      },
      "outputs": [
        {
          "output_type": "execute_result",
          "data": {
            "text/plain": [
              "71"
            ]
          },
          "metadata": {},
          "execution_count": 15
        }
      ],
      "source": [
        "data.duplicated().sum()"
      ]
    },
    {
      "cell_type": "code",
      "execution_count": 16,
      "id": "ff612e5f",
      "metadata": {
        "deletable": false,
        "id": "ff612e5f"
      },
      "outputs": [],
      "source": [
        "data = data.drop_duplicates()"
      ]
    },
    {
      "cell_type": "markdown",
      "id": "459d77b2",
      "metadata": {
        "deletable": false,
        "editable": false,
        "id": "459d77b2"
      },
      "source": [
        "### Data categorization"
      ]
    },
    {
      "cell_type": "markdown",
      "id": "84534f8c",
      "metadata": {
        "deletable": false,
        "editable": false,
        "id": "84534f8c"
      },
      "source": [
        "**Task 16. Based on the ranges indicated below, create a column `total_income_category` with categories in the `data` dataframe:**\n",
        "\n",
        "- 0–30000 — `'E'`;\n",
        "- 30001–50000 — `'D'`;\n",
        "- 50001–200000 — `'C'`;\n",
        "- 200001–1000000 — `'B'`;\n",
        "- 1000001 и выше — `'A'`.\n",
        "\n",
        "\n",
        "**For example, a borrower with an income of 25,000 should be assigned category `'E'`, and a client receiving 235,000 should be assigned category `'B'`. Use your own function called `categorize_income()` and method `apply()`.**"
      ]
    },
    {
      "cell_type": "code",
      "execution_count": 26,
      "id": "50d0a214",
      "metadata": {
        "deletable": false,
        "id": "50d0a214"
      },
      "outputs": [],
      "source": [
        "def categorize_income(income):\n",
        "    try:\n",
        "        if 0 <= income <= 30000:\n",
        "            return 'E (< 30 000)'\n",
        "        elif 30001 <= income <= 50000:\n",
        "            return 'D (30 001 - 50 000)'\n",
        "        elif 50001 <= income <= 200000:\n",
        "            return 'C (50 001 - 200 000)'\n",
        "        elif 200001 <= income <= 1000000:\n",
        "            return 'B (200 001 - 1 000 000)'\n",
        "        elif income >= 1000001:\n",
        "            return 'A (more 1 000 000)'\n",
        "    except:\n",
        "        pass"
      ]
    },
    {
      "cell_type": "code",
      "execution_count": 27,
      "id": "e094dbd0",
      "metadata": {
        "deletable": false,
        "id": "e094dbd0"
      },
      "outputs": [],
      "source": [
        "data['total_income_category'] = data['total_income'].apply(categorize_income)"
      ]
    },
    {
      "cell_type": "markdown",
      "id": "2a52b029",
      "metadata": {
        "deletable": false,
        "editable": false,
        "id": "2a52b029"
      },
      "source": [
        "**Task 17. Display a list of unique purposes for taking out a loan from the column `purpose`.**"
      ]
    },
    {
      "cell_type": "code",
      "execution_count": 28,
      "id": "9aa3b9aa",
      "metadata": {
        "deletable": false,
        "id": "9aa3b9aa",
        "outputId": "b76c530d-1e4d-46ee-b015-c7cc447884ed",
        "colab": {
          "base_uri": "https://localhost:8080/"
        }
      },
      "outputs": [
        {
          "output_type": "execute_result",
          "data": {
            "text/plain": [
              "array(['покупка жилья', 'приобретение автомобиля',\n",
              "       'дополнительное образование', 'сыграть свадьбу',\n",
              "       'операции с жильем', 'образование', 'на проведение свадьбы',\n",
              "       'покупка жилья для семьи', 'покупка недвижимости',\n",
              "       'покупка коммерческой недвижимости', 'покупка жилой недвижимости',\n",
              "       'строительство собственной недвижимости', 'недвижимость',\n",
              "       'строительство недвижимости', 'на покупку подержанного автомобиля',\n",
              "       'на покупку своего автомобиля',\n",
              "       'операции с коммерческой недвижимостью',\n",
              "       'строительство жилой недвижимости', 'жилье',\n",
              "       'операции со своей недвижимостью', 'автомобили',\n",
              "       'заняться образованием', 'сделка с подержанным автомобилем',\n",
              "       'получение образования', 'автомобиль', 'свадьба',\n",
              "       'получение дополнительного образования', 'покупка своего жилья',\n",
              "       'операции с недвижимостью', 'получение высшего образования',\n",
              "       'свой автомобиль', 'сделка с автомобилем',\n",
              "       'профильное образование', 'высшее образование',\n",
              "       'покупка жилья для сдачи', 'на покупку автомобиля', 'ремонт жилью',\n",
              "       'заняться высшим образованием'], dtype=object)"
            ]
          },
          "metadata": {},
          "execution_count": 28
        }
      ],
      "source": [
        "data['purpose'].unique()"
      ]
    },
    {
      "cell_type": "markdown",
      "id": "28227580",
      "metadata": {
        "deletable": false,
        "editable": false,
        "id": "28227580"
      },
      "source": [
        "**Task 18. Create a function that, based on data from the `purpose` column, will generate a new `purpose_category` column, which will include the following categories:**\n",
        "\n",
        "- ``operations with a car'`,\n",
        "- ``real estate transactions'`,\n",
        "- ``carrying out a wedding'`,\n",
        "- ``getting an education'`.\n",
        "\n",
        "**For example, if the `purpose` column contains the substring ``for the purchase of a car'`, then the `purpose_category` column should contain the string ``operations with a car'`.**\n",
        "\n",
        "**Use your own function named `categorize_purpose()` and method `apply()`. Examine the data in the `purpose` column and determine which substrings will help you correctly identify the category**"
      ]
    },
    {
      "cell_type": "code",
      "execution_count": 20,
      "id": "f6cdcc8a",
      "metadata": {
        "deletable": false,
        "id": "f6cdcc8a"
      },
      "outputs": [],
      "source": [
        "def categorize_purpose(row):\n",
        "    try:\n",
        "        if 'автом' in row:\n",
        "            return 'operations with a car'\n",
        "        elif 'жил' in row or 'недвиж' in row:\n",
        "            return 'real estate transactions'\n",
        "        elif 'свад' in row:\n",
        "            return 'carrying out a wedding'\n",
        "        elif 'образов' in row:\n",
        "            return 'getting an education'\n",
        "    except:\n",
        "        return 'mo category'"
      ]
    },
    {
      "cell_type": "code",
      "execution_count": 21,
      "id": "06cb1bb7",
      "metadata": {
        "deletable": false,
        "id": "06cb1bb7"
      },
      "outputs": [],
      "source": [
        "data['purpose_category'] = data['purpose'].apply(categorize_purpose)"
      ]
    },
    {
      "cell_type": "markdown",
      "id": "41173aea",
      "metadata": {
        "deletable": false,
        "editable": false,
        "id": "41173aea"
      },
      "source": [
        "#### Is there a relationship between the number of children and repayment of the loan on time?"
      ]
    },
    {
      "cell_type": "code",
      "execution_count": 22,
      "id": "134ed621",
      "metadata": {
        "deletable": false,
        "id": "134ed621",
        "outputId": "114b27ee-351c-4576-b770-a66c8cae62de",
        "colab": {
          "base_uri": "https://localhost:8080/",
          "height": 300
        }
      },
      "outputs": [
        {
          "output_type": "display_data",
          "data": {
            "text/plain": [
              "          count  mean\n",
              "           debt  debt\n",
              "children             \n",
              "0         14091  7.54\n",
              "1          4808  9.23\n",
              "2          2052  9.45\n",
              "3           330  8.18\n",
              "4            41  9.76\n",
              "5             9  0.00"
            ],
            "text/html": [
              "\n",
              "  <div id=\"df-d39ecbe9-172a-4a77-99fa-71423d1d0365\" class=\"colab-df-container\">\n",
              "    <div>\n",
              "<style scoped>\n",
              "    .dataframe tbody tr th:only-of-type {\n",
              "        vertical-align: middle;\n",
              "    }\n",
              "\n",
              "    .dataframe tbody tr th {\n",
              "        vertical-align: top;\n",
              "    }\n",
              "\n",
              "    .dataframe thead tr th {\n",
              "        text-align: left;\n",
              "    }\n",
              "\n",
              "    .dataframe thead tr:last-of-type th {\n",
              "        text-align: right;\n",
              "    }\n",
              "</style>\n",
              "<table border=\"1\" class=\"dataframe\">\n",
              "  <thead>\n",
              "    <tr>\n",
              "      <th></th>\n",
              "      <th>count</th>\n",
              "      <th>mean</th>\n",
              "    </tr>\n",
              "    <tr>\n",
              "      <th></th>\n",
              "      <th>debt</th>\n",
              "      <th>debt</th>\n",
              "    </tr>\n",
              "    <tr>\n",
              "      <th>children</th>\n",
              "      <th></th>\n",
              "      <th></th>\n",
              "    </tr>\n",
              "  </thead>\n",
              "  <tbody>\n",
              "    <tr>\n",
              "      <th>0</th>\n",
              "      <td>14091</td>\n",
              "      <td>7.54</td>\n",
              "    </tr>\n",
              "    <tr>\n",
              "      <th>1</th>\n",
              "      <td>4808</td>\n",
              "      <td>9.23</td>\n",
              "    </tr>\n",
              "    <tr>\n",
              "      <th>2</th>\n",
              "      <td>2052</td>\n",
              "      <td>9.45</td>\n",
              "    </tr>\n",
              "    <tr>\n",
              "      <th>3</th>\n",
              "      <td>330</td>\n",
              "      <td>8.18</td>\n",
              "    </tr>\n",
              "    <tr>\n",
              "      <th>4</th>\n",
              "      <td>41</td>\n",
              "      <td>9.76</td>\n",
              "    </tr>\n",
              "    <tr>\n",
              "      <th>5</th>\n",
              "      <td>9</td>\n",
              "      <td>0.00</td>\n",
              "    </tr>\n",
              "  </tbody>\n",
              "</table>\n",
              "</div>\n",
              "    <div class=\"colab-df-buttons\">\n",
              "\n",
              "  <div class=\"colab-df-container\">\n",
              "    <button class=\"colab-df-convert\" onclick=\"convertToInteractive('df-d39ecbe9-172a-4a77-99fa-71423d1d0365')\"\n",
              "            title=\"Convert this dataframe to an interactive table.\"\n",
              "            style=\"display:none;\">\n",
              "\n",
              "  <svg xmlns=\"http://www.w3.org/2000/svg\" height=\"24px\" viewBox=\"0 -960 960 960\">\n",
              "    <path d=\"M120-120v-720h720v720H120Zm60-500h600v-160H180v160Zm220 220h160v-160H400v160Zm0 220h160v-160H400v160ZM180-400h160v-160H180v160Zm440 0h160v-160H620v160ZM180-180h160v-160H180v160Zm440 0h160v-160H620v160Z\"/>\n",
              "  </svg>\n",
              "    </button>\n",
              "\n",
              "  <style>\n",
              "    .colab-df-container {\n",
              "      display:flex;\n",
              "      gap: 12px;\n",
              "    }\n",
              "\n",
              "    .colab-df-convert {\n",
              "      background-color: #E8F0FE;\n",
              "      border: none;\n",
              "      border-radius: 50%;\n",
              "      cursor: pointer;\n",
              "      display: none;\n",
              "      fill: #1967D2;\n",
              "      height: 32px;\n",
              "      padding: 0 0 0 0;\n",
              "      width: 32px;\n",
              "    }\n",
              "\n",
              "    .colab-df-convert:hover {\n",
              "      background-color: #E2EBFA;\n",
              "      box-shadow: 0px 1px 2px rgba(60, 64, 67, 0.3), 0px 1px 3px 1px rgba(60, 64, 67, 0.15);\n",
              "      fill: #174EA6;\n",
              "    }\n",
              "\n",
              "    .colab-df-buttons div {\n",
              "      margin-bottom: 4px;\n",
              "    }\n",
              "\n",
              "    [theme=dark] .colab-df-convert {\n",
              "      background-color: #3B4455;\n",
              "      fill: #D2E3FC;\n",
              "    }\n",
              "\n",
              "    [theme=dark] .colab-df-convert:hover {\n",
              "      background-color: #434B5C;\n",
              "      box-shadow: 0px 1px 3px 1px rgba(0, 0, 0, 0.15);\n",
              "      filter: drop-shadow(0px 1px 2px rgba(0, 0, 0, 0.3));\n",
              "      fill: #FFFFFF;\n",
              "    }\n",
              "  </style>\n",
              "\n",
              "    <script>\n",
              "      const buttonEl =\n",
              "        document.querySelector('#df-d39ecbe9-172a-4a77-99fa-71423d1d0365 button.colab-df-convert');\n",
              "      buttonEl.style.display =\n",
              "        google.colab.kernel.accessAllowed ? 'block' : 'none';\n",
              "\n",
              "      async function convertToInteractive(key) {\n",
              "        const element = document.querySelector('#df-d39ecbe9-172a-4a77-99fa-71423d1d0365');\n",
              "        const dataTable =\n",
              "          await google.colab.kernel.invokeFunction('convertToInteractive',\n",
              "                                                    [key], {});\n",
              "        if (!dataTable) return;\n",
              "\n",
              "        const docLinkHtml = 'Like what you see? Visit the ' +\n",
              "          '<a target=\"_blank\" href=https://colab.research.google.com/notebooks/data_table.ipynb>data table notebook</a>'\n",
              "          + ' to learn more about interactive tables.';\n",
              "        element.innerHTML = '';\n",
              "        dataTable['output_type'] = 'display_data';\n",
              "        await google.colab.output.renderOutput(dataTable, element);\n",
              "        const docLink = document.createElement('div');\n",
              "        docLink.innerHTML = docLinkHtml;\n",
              "        element.appendChild(docLink);\n",
              "      }\n",
              "    </script>\n",
              "  </div>\n",
              "\n",
              "\n",
              "<div id=\"df-e86030bd-97d7-449f-aec2-e678b9cd6466\">\n",
              "  <button class=\"colab-df-quickchart\" onclick=\"quickchart('df-e86030bd-97d7-449f-aec2-e678b9cd6466')\"\n",
              "            title=\"Suggest charts.\"\n",
              "            style=\"display:none;\">\n",
              "\n",
              "<svg xmlns=\"http://www.w3.org/2000/svg\" height=\"24px\"viewBox=\"0 0 24 24\"\n",
              "     width=\"24px\">\n",
              "    <g>\n",
              "        <path d=\"M19 3H5c-1.1 0-2 .9-2 2v14c0 1.1.9 2 2 2h14c1.1 0 2-.9 2-2V5c0-1.1-.9-2-2-2zM9 17H7v-7h2v7zm4 0h-2V7h2v10zm4 0h-2v-4h2v4z\"/>\n",
              "    </g>\n",
              "</svg>\n",
              "  </button>\n",
              "\n",
              "<style>\n",
              "  .colab-df-quickchart {\n",
              "      --bg-color: #E8F0FE;\n",
              "      --fill-color: #1967D2;\n",
              "      --hover-bg-color: #E2EBFA;\n",
              "      --hover-fill-color: #174EA6;\n",
              "      --disabled-fill-color: #AAA;\n",
              "      --disabled-bg-color: #DDD;\n",
              "  }\n",
              "\n",
              "  [theme=dark] .colab-df-quickchart {\n",
              "      --bg-color: #3B4455;\n",
              "      --fill-color: #D2E3FC;\n",
              "      --hover-bg-color: #434B5C;\n",
              "      --hover-fill-color: #FFFFFF;\n",
              "      --disabled-bg-color: #3B4455;\n",
              "      --disabled-fill-color: #666;\n",
              "  }\n",
              "\n",
              "  .colab-df-quickchart {\n",
              "    background-color: var(--bg-color);\n",
              "    border: none;\n",
              "    border-radius: 50%;\n",
              "    cursor: pointer;\n",
              "    display: none;\n",
              "    fill: var(--fill-color);\n",
              "    height: 32px;\n",
              "    padding: 0;\n",
              "    width: 32px;\n",
              "  }\n",
              "\n",
              "  .colab-df-quickchart:hover {\n",
              "    background-color: var(--hover-bg-color);\n",
              "    box-shadow: 0 1px 2px rgba(60, 64, 67, 0.3), 0 1px 3px 1px rgba(60, 64, 67, 0.15);\n",
              "    fill: var(--button-hover-fill-color);\n",
              "  }\n",
              "\n",
              "  .colab-df-quickchart-complete:disabled,\n",
              "  .colab-df-quickchart-complete:disabled:hover {\n",
              "    background-color: var(--disabled-bg-color);\n",
              "    fill: var(--disabled-fill-color);\n",
              "    box-shadow: none;\n",
              "  }\n",
              "\n",
              "  .colab-df-spinner {\n",
              "    border: 2px solid var(--fill-color);\n",
              "    border-color: transparent;\n",
              "    border-bottom-color: var(--fill-color);\n",
              "    animation:\n",
              "      spin 1s steps(1) infinite;\n",
              "  }\n",
              "\n",
              "  @keyframes spin {\n",
              "    0% {\n",
              "      border-color: transparent;\n",
              "      border-bottom-color: var(--fill-color);\n",
              "      border-left-color: var(--fill-color);\n",
              "    }\n",
              "    20% {\n",
              "      border-color: transparent;\n",
              "      border-left-color: var(--fill-color);\n",
              "      border-top-color: var(--fill-color);\n",
              "    }\n",
              "    30% {\n",
              "      border-color: transparent;\n",
              "      border-left-color: var(--fill-color);\n",
              "      border-top-color: var(--fill-color);\n",
              "      border-right-color: var(--fill-color);\n",
              "    }\n",
              "    40% {\n",
              "      border-color: transparent;\n",
              "      border-right-color: var(--fill-color);\n",
              "      border-top-color: var(--fill-color);\n",
              "    }\n",
              "    60% {\n",
              "      border-color: transparent;\n",
              "      border-right-color: var(--fill-color);\n",
              "    }\n",
              "    80% {\n",
              "      border-color: transparent;\n",
              "      border-right-color: var(--fill-color);\n",
              "      border-bottom-color: var(--fill-color);\n",
              "    }\n",
              "    90% {\n",
              "      border-color: transparent;\n",
              "      border-bottom-color: var(--fill-color);\n",
              "    }\n",
              "  }\n",
              "</style>\n",
              "\n",
              "  <script>\n",
              "    async function quickchart(key) {\n",
              "      const quickchartButtonEl =\n",
              "        document.querySelector('#' + key + ' button');\n",
              "      quickchartButtonEl.disabled = true;  // To prevent multiple clicks.\n",
              "      quickchartButtonEl.classList.add('colab-df-spinner');\n",
              "      try {\n",
              "        const charts = await google.colab.kernel.invokeFunction(\n",
              "            'suggestCharts', [key], {});\n",
              "      } catch (error) {\n",
              "        console.error('Error during call to suggestCharts:', error);\n",
              "      }\n",
              "      quickchartButtonEl.classList.remove('colab-df-spinner');\n",
              "      quickchartButtonEl.classList.add('colab-df-quickchart-complete');\n",
              "    }\n",
              "    (() => {\n",
              "      let quickchartButtonEl =\n",
              "        document.querySelector('#df-e86030bd-97d7-449f-aec2-e678b9cd6466 button');\n",
              "      quickchartButtonEl.style.display =\n",
              "        google.colab.kernel.accessAllowed ? 'block' : 'none';\n",
              "    })();\n",
              "  </script>\n",
              "</div>\n",
              "    </div>\n",
              "  </div>\n"
            ]
          },
          "metadata": {}
        }
      ],
      "source": [
        "# We will group the data using the pivot table method by the number of children, in the columns we will calculate the number of loans issued to borrowers,\n",
        "# with the corresponding number of children and, immediately, the share of overdue loans.\n",
        "# We will format the output of the share of overdue loans: round to 4 decimal places and multiply by 100.\n",
        "\n",
        "result_3_1 = pd.pivot_table(data,index=['children'],values =['debt'], aggfunc=['count','mean'])\n",
        "result_3_1[( 'mean', 'debt')]=result_3_1[( 'mean', 'debt')].round(4)*100\n",
        "\n",
        "display(result_3_1)"
      ]
    },
    {
      "cell_type": "markdown",
      "id": "cdc9823b",
      "metadata": {
        "deletable": false,
        "id": "cdc9823b"
      },
      "source": [
        "**Conclusion:**\n",
        "\n",
        "From the data provided, it is clear that if there are 5 children, there are no overdue loan payments; at the same time, there are only 9 such loans, which means that their influence on the overall conclusion can be neglected. The share of overdue loans from the total number of loans for borrowers with 1, 2, 4 children is approximately equal and ranges from 9.2% to 9.7%. The share of overdue loans from the total number of loans for borrowers with 3 children is comparatively lower and amounts to 8.1%. The share of overdue loans from the total number of loans for borrowers without children is the lowest of all categories of borrowers and amounts to 7.5%.\n",
        "\n",
        "**General conclusion:** the very fact that borrowers have children increases the likelihood of loan delinquency, while the number of children has less influence on the change in this probability."
      ]
    },
    {
      "cell_type": "markdown",
      "id": "0077a27f",
      "metadata": {
        "deletable": false,
        "editable": false,
        "id": "0077a27f"
      },
      "source": [
        "#### Is there a relationship between marital status and repayment of the loan on time?"
      ]
    },
    {
      "cell_type": "code",
      "execution_count": 23,
      "id": "b1da5026",
      "metadata": {
        "deletable": false,
        "id": "b1da5026",
        "outputId": "52dbe7e7-106d-48d2-d9ce-cdd93e865ce6",
        "colab": {
          "base_uri": "https://localhost:8080/",
          "height": 269
        }
      },
      "outputs": [
        {
          "output_type": "display_data",
          "data": {
            "text/plain": [
              "                       count  mean\n",
              "                        debt  debt\n",
              "family_status                     \n",
              "Не женат / не замужем   2796  9.76\n",
              "в разводе               1189  7.06\n",
              "вдовец / вдова           951  6.62\n",
              "гражданский брак        4134  9.31\n",
              "женат / замужем        12261  7.56"
            ],
            "text/html": [
              "\n",
              "  <div id=\"df-93d53b31-8ce7-4511-9b70-457884504ad6\" class=\"colab-df-container\">\n",
              "    <div>\n",
              "<style scoped>\n",
              "    .dataframe tbody tr th:only-of-type {\n",
              "        vertical-align: middle;\n",
              "    }\n",
              "\n",
              "    .dataframe tbody tr th {\n",
              "        vertical-align: top;\n",
              "    }\n",
              "\n",
              "    .dataframe thead tr th {\n",
              "        text-align: left;\n",
              "    }\n",
              "\n",
              "    .dataframe thead tr:last-of-type th {\n",
              "        text-align: right;\n",
              "    }\n",
              "</style>\n",
              "<table border=\"1\" class=\"dataframe\">\n",
              "  <thead>\n",
              "    <tr>\n",
              "      <th></th>\n",
              "      <th>count</th>\n",
              "      <th>mean</th>\n",
              "    </tr>\n",
              "    <tr>\n",
              "      <th></th>\n",
              "      <th>debt</th>\n",
              "      <th>debt</th>\n",
              "    </tr>\n",
              "    <tr>\n",
              "      <th>family_status</th>\n",
              "      <th></th>\n",
              "      <th></th>\n",
              "    </tr>\n",
              "  </thead>\n",
              "  <tbody>\n",
              "    <tr>\n",
              "      <th>Не женат / не замужем</th>\n",
              "      <td>2796</td>\n",
              "      <td>9.76</td>\n",
              "    </tr>\n",
              "    <tr>\n",
              "      <th>в разводе</th>\n",
              "      <td>1189</td>\n",
              "      <td>7.06</td>\n",
              "    </tr>\n",
              "    <tr>\n",
              "      <th>вдовец / вдова</th>\n",
              "      <td>951</td>\n",
              "      <td>6.62</td>\n",
              "    </tr>\n",
              "    <tr>\n",
              "      <th>гражданский брак</th>\n",
              "      <td>4134</td>\n",
              "      <td>9.31</td>\n",
              "    </tr>\n",
              "    <tr>\n",
              "      <th>женат / замужем</th>\n",
              "      <td>12261</td>\n",
              "      <td>7.56</td>\n",
              "    </tr>\n",
              "  </tbody>\n",
              "</table>\n",
              "</div>\n",
              "    <div class=\"colab-df-buttons\">\n",
              "\n",
              "  <div class=\"colab-df-container\">\n",
              "    <button class=\"colab-df-convert\" onclick=\"convertToInteractive('df-93d53b31-8ce7-4511-9b70-457884504ad6')\"\n",
              "            title=\"Convert this dataframe to an interactive table.\"\n",
              "            style=\"display:none;\">\n",
              "\n",
              "  <svg xmlns=\"http://www.w3.org/2000/svg\" height=\"24px\" viewBox=\"0 -960 960 960\">\n",
              "    <path d=\"M120-120v-720h720v720H120Zm60-500h600v-160H180v160Zm220 220h160v-160H400v160Zm0 220h160v-160H400v160ZM180-400h160v-160H180v160Zm440 0h160v-160H620v160ZM180-180h160v-160H180v160Zm440 0h160v-160H620v160Z\"/>\n",
              "  </svg>\n",
              "    </button>\n",
              "\n",
              "  <style>\n",
              "    .colab-df-container {\n",
              "      display:flex;\n",
              "      gap: 12px;\n",
              "    }\n",
              "\n",
              "    .colab-df-convert {\n",
              "      background-color: #E8F0FE;\n",
              "      border: none;\n",
              "      border-radius: 50%;\n",
              "      cursor: pointer;\n",
              "      display: none;\n",
              "      fill: #1967D2;\n",
              "      height: 32px;\n",
              "      padding: 0 0 0 0;\n",
              "      width: 32px;\n",
              "    }\n",
              "\n",
              "    .colab-df-convert:hover {\n",
              "      background-color: #E2EBFA;\n",
              "      box-shadow: 0px 1px 2px rgba(60, 64, 67, 0.3), 0px 1px 3px 1px rgba(60, 64, 67, 0.15);\n",
              "      fill: #174EA6;\n",
              "    }\n",
              "\n",
              "    .colab-df-buttons div {\n",
              "      margin-bottom: 4px;\n",
              "    }\n",
              "\n",
              "    [theme=dark] .colab-df-convert {\n",
              "      background-color: #3B4455;\n",
              "      fill: #D2E3FC;\n",
              "    }\n",
              "\n",
              "    [theme=dark] .colab-df-convert:hover {\n",
              "      background-color: #434B5C;\n",
              "      box-shadow: 0px 1px 3px 1px rgba(0, 0, 0, 0.15);\n",
              "      filter: drop-shadow(0px 1px 2px rgba(0, 0, 0, 0.3));\n",
              "      fill: #FFFFFF;\n",
              "    }\n",
              "  </style>\n",
              "\n",
              "    <script>\n",
              "      const buttonEl =\n",
              "        document.querySelector('#df-93d53b31-8ce7-4511-9b70-457884504ad6 button.colab-df-convert');\n",
              "      buttonEl.style.display =\n",
              "        google.colab.kernel.accessAllowed ? 'block' : 'none';\n",
              "\n",
              "      async function convertToInteractive(key) {\n",
              "        const element = document.querySelector('#df-93d53b31-8ce7-4511-9b70-457884504ad6');\n",
              "        const dataTable =\n",
              "          await google.colab.kernel.invokeFunction('convertToInteractive',\n",
              "                                                    [key], {});\n",
              "        if (!dataTable) return;\n",
              "\n",
              "        const docLinkHtml = 'Like what you see? Visit the ' +\n",
              "          '<a target=\"_blank\" href=https://colab.research.google.com/notebooks/data_table.ipynb>data table notebook</a>'\n",
              "          + ' to learn more about interactive tables.';\n",
              "        element.innerHTML = '';\n",
              "        dataTable['output_type'] = 'display_data';\n",
              "        await google.colab.output.renderOutput(dataTable, element);\n",
              "        const docLink = document.createElement('div');\n",
              "        docLink.innerHTML = docLinkHtml;\n",
              "        element.appendChild(docLink);\n",
              "      }\n",
              "    </script>\n",
              "  </div>\n",
              "\n",
              "\n",
              "<div id=\"df-ce82d18b-7f6f-4f04-9741-3f030ead3d14\">\n",
              "  <button class=\"colab-df-quickchart\" onclick=\"quickchart('df-ce82d18b-7f6f-4f04-9741-3f030ead3d14')\"\n",
              "            title=\"Suggest charts.\"\n",
              "            style=\"display:none;\">\n",
              "\n",
              "<svg xmlns=\"http://www.w3.org/2000/svg\" height=\"24px\"viewBox=\"0 0 24 24\"\n",
              "     width=\"24px\">\n",
              "    <g>\n",
              "        <path d=\"M19 3H5c-1.1 0-2 .9-2 2v14c0 1.1.9 2 2 2h14c1.1 0 2-.9 2-2V5c0-1.1-.9-2-2-2zM9 17H7v-7h2v7zm4 0h-2V7h2v10zm4 0h-2v-4h2v4z\"/>\n",
              "    </g>\n",
              "</svg>\n",
              "  </button>\n",
              "\n",
              "<style>\n",
              "  .colab-df-quickchart {\n",
              "      --bg-color: #E8F0FE;\n",
              "      --fill-color: #1967D2;\n",
              "      --hover-bg-color: #E2EBFA;\n",
              "      --hover-fill-color: #174EA6;\n",
              "      --disabled-fill-color: #AAA;\n",
              "      --disabled-bg-color: #DDD;\n",
              "  }\n",
              "\n",
              "  [theme=dark] .colab-df-quickchart {\n",
              "      --bg-color: #3B4455;\n",
              "      --fill-color: #D2E3FC;\n",
              "      --hover-bg-color: #434B5C;\n",
              "      --hover-fill-color: #FFFFFF;\n",
              "      --disabled-bg-color: #3B4455;\n",
              "      --disabled-fill-color: #666;\n",
              "  }\n",
              "\n",
              "  .colab-df-quickchart {\n",
              "    background-color: var(--bg-color);\n",
              "    border: none;\n",
              "    border-radius: 50%;\n",
              "    cursor: pointer;\n",
              "    display: none;\n",
              "    fill: var(--fill-color);\n",
              "    height: 32px;\n",
              "    padding: 0;\n",
              "    width: 32px;\n",
              "  }\n",
              "\n",
              "  .colab-df-quickchart:hover {\n",
              "    background-color: var(--hover-bg-color);\n",
              "    box-shadow: 0 1px 2px rgba(60, 64, 67, 0.3), 0 1px 3px 1px rgba(60, 64, 67, 0.15);\n",
              "    fill: var(--button-hover-fill-color);\n",
              "  }\n",
              "\n",
              "  .colab-df-quickchart-complete:disabled,\n",
              "  .colab-df-quickchart-complete:disabled:hover {\n",
              "    background-color: var(--disabled-bg-color);\n",
              "    fill: var(--disabled-fill-color);\n",
              "    box-shadow: none;\n",
              "  }\n",
              "\n",
              "  .colab-df-spinner {\n",
              "    border: 2px solid var(--fill-color);\n",
              "    border-color: transparent;\n",
              "    border-bottom-color: var(--fill-color);\n",
              "    animation:\n",
              "      spin 1s steps(1) infinite;\n",
              "  }\n",
              "\n",
              "  @keyframes spin {\n",
              "    0% {\n",
              "      border-color: transparent;\n",
              "      border-bottom-color: var(--fill-color);\n",
              "      border-left-color: var(--fill-color);\n",
              "    }\n",
              "    20% {\n",
              "      border-color: transparent;\n",
              "      border-left-color: var(--fill-color);\n",
              "      border-top-color: var(--fill-color);\n",
              "    }\n",
              "    30% {\n",
              "      border-color: transparent;\n",
              "      border-left-color: var(--fill-color);\n",
              "      border-top-color: var(--fill-color);\n",
              "      border-right-color: var(--fill-color);\n",
              "    }\n",
              "    40% {\n",
              "      border-color: transparent;\n",
              "      border-right-color: var(--fill-color);\n",
              "      border-top-color: var(--fill-color);\n",
              "    }\n",
              "    60% {\n",
              "      border-color: transparent;\n",
              "      border-right-color: var(--fill-color);\n",
              "    }\n",
              "    80% {\n",
              "      border-color: transparent;\n",
              "      border-right-color: var(--fill-color);\n",
              "      border-bottom-color: var(--fill-color);\n",
              "    }\n",
              "    90% {\n",
              "      border-color: transparent;\n",
              "      border-bottom-color: var(--fill-color);\n",
              "    }\n",
              "  }\n",
              "</style>\n",
              "\n",
              "  <script>\n",
              "    async function quickchart(key) {\n",
              "      const quickchartButtonEl =\n",
              "        document.querySelector('#' + key + ' button');\n",
              "      quickchartButtonEl.disabled = true;  // To prevent multiple clicks.\n",
              "      quickchartButtonEl.classList.add('colab-df-spinner');\n",
              "      try {\n",
              "        const charts = await google.colab.kernel.invokeFunction(\n",
              "            'suggestCharts', [key], {});\n",
              "      } catch (error) {\n",
              "        console.error('Error during call to suggestCharts:', error);\n",
              "      }\n",
              "      quickchartButtonEl.classList.remove('colab-df-spinner');\n",
              "      quickchartButtonEl.classList.add('colab-df-quickchart-complete');\n",
              "    }\n",
              "    (() => {\n",
              "      let quickchartButtonEl =\n",
              "        document.querySelector('#df-ce82d18b-7f6f-4f04-9741-3f030ead3d14 button');\n",
              "      quickchartButtonEl.style.display =\n",
              "        google.colab.kernel.accessAllowed ? 'block' : 'none';\n",
              "    })();\n",
              "  </script>\n",
              "</div>\n",
              "    </div>\n",
              "  </div>\n"
            ]
          },
          "metadata": {}
        }
      ],
      "source": [
        "# We will group the data using the pivot table method by marital status, and in the columns we will calculate the number of loans issued to borrowers,\n",
        "# according to the relevant marital status and, immediately, the share of overdue loans.\n",
        "# We will format the output of the share of overdue loans: round to 4 decimal places and multiply by 100.\n",
        "\n",
        "result_3_2 = pd.pivot_table(data,index=['family_status'],values =['debt'], aggfunc=['count','mean'])\n",
        "result_3_2[( 'mean', 'debt')]=result_3_2[( 'mean', 'debt')].round(4)*100\n",
        "\n",
        "display(result_3_2)"
      ]
    },
    {
      "cell_type": "markdown",
      "id": "b75582f4",
      "metadata": {
        "deletable": false,
        "id": "b75582f4"
      },
      "source": [
        "**Conclusion:**\n",
        "\n",
        "From the presented data it is clear that borrowers with formalized family relationships (married/divorced, widower) have a lower percentage of overdue loans; this percentage is in the range of 6.6% - 7.5%. At the same time, there is a tendency towards a decrease in this percentage for borrowers with ended family relationships: 7.0% for divorced people, versus 7.5% for married ones. For borrowers who are not in a formal relationship (civil marriage, single), the share of overdue loans is significantly higher - 9.3% - 9.7% compared to borrowers with a formal marital status.\n",
        "\n",
        "**General conclusion:** if the borrower has a formalized family relationship, it will increase the likelihood of timely repayment of the loan. At the same time, the greatest discipline in terms of returns on time is observed in the “widower/widow” category. And for borrowers with unregistered family relationships (civil marriage), the probability of delay is comparable to unmarried borrowers."
      ]
    },
    {
      "cell_type": "markdown",
      "id": "3e68f158",
      "metadata": {
        "deletable": false,
        "editable": false,
        "id": "3e68f158"
      },
      "source": [
        "#### Is there a relationship between income level and loan repayment on time?"
      ]
    },
    {
      "cell_type": "code",
      "execution_count": 29,
      "id": "f8c62c9a",
      "metadata": {
        "deletable": false,
        "id": "f8c62c9a",
        "colab": {
          "base_uri": "https://localhost:8080/"
        },
        "outputId": "1afd7841-ebf8-4ba5-c442-683d579c6fa9"
      },
      "outputs": [
        {
          "output_type": "stream",
          "name": "stdout",
          "text": [
            "                         count  mean\n",
            "                          debt  debt\n",
            "total_income_category               \n",
            "A (more 1 000 000)          25  8.00\n",
            "B (200 001 - 1 000 000)   5014  7.06\n",
            "C (50 001 - 200 000)     15921  8.50\n",
            "D (30 001 - 50 000)        349  6.02\n",
            "E (< 30 000)                22  9.09\n"
          ]
        }
      ],
      "source": [
        "# We will group the data using the pivot table method by income level category, and in the columns we will calculate the number of loans issued\n",
        "# borrowers, according to their marital status and, immediately, the share of overdue loans.\n",
        "# We will format the output of the share of overdue loans: round to 4 decimal places and multiply by100.\n",
        "\n",
        "result_3_3 = pd.pivot_table(data,index=['total_income_category'],values =['debt'], aggfunc=['count','mean'])\n",
        "result_3_3[( 'mean', 'debt')]=result_3_3[( 'mean', 'debt')].round(4)*100\n",
        "\n",
        "print(result_3_3)"
      ]
    },
    {
      "cell_type": "markdown",
      "id": "743a8a9d",
      "metadata": {
        "deletable": false,
        "id": "743a8a9d"
      },
      "source": [
        "**Conclusion:**\n",
        "\n",
        "From the presented data it is clear that the most disciplined are borrowers with income category “D” - from 30,001 to 50,000. For them, the share of overdue loans is a minimum of 6.0%. The least disciplined are borrowers with income category \"E\" - up to 30,000. For them, the share of overdue loans is 9.0%. In other categories, the share of overdue loans is 7.0 - 8.4%\n",
        "\n",
        "**General conclusion:** The probability of loan delinquency is minimal for borrowers with an income level from 30,001 to 50,000 and maximum for borrowers with an income level up to 30,000. For other groups of borrowers, there is a weak dependence of the probability of loan delinquency on income level."
      ]
    },
    {
      "cell_type": "markdown",
      "id": "810172e5",
      "metadata": {
        "deletable": false,
        "editable": false,
        "id": "810172e5"
      },
      "source": [
        "#### How do different purposes of a loan affect its repayment on time?"
      ]
    },
    {
      "cell_type": "code",
      "execution_count": 25,
      "id": "99ba60ac",
      "metadata": {
        "deletable": false,
        "id": "99ba60ac",
        "outputId": "da0ce895-4a04-42d3-8df6-a81f2920e2be",
        "colab": {
          "base_uri": "https://localhost:8080/",
          "height": 238
        }
      },
      "outputs": [
        {
          "output_type": "display_data",
          "data": {
            "text/plain": [
              "                          count  mean\n",
              "                           debt  debt\n",
              "purpose_category                     \n",
              "carrying out a wedding     2313  7.91\n",
              "getting an education       3988  9.25\n",
              "operations with a car      4279  9.35\n",
              "real estate transactions  10751  7.26"
            ],
            "text/html": [
              "\n",
              "  <div id=\"df-43ee37ae-eaf6-4e32-a3bc-bc783a0f0800\" class=\"colab-df-container\">\n",
              "    <div>\n",
              "<style scoped>\n",
              "    .dataframe tbody tr th:only-of-type {\n",
              "        vertical-align: middle;\n",
              "    }\n",
              "\n",
              "    .dataframe tbody tr th {\n",
              "        vertical-align: top;\n",
              "    }\n",
              "\n",
              "    .dataframe thead tr th {\n",
              "        text-align: left;\n",
              "    }\n",
              "\n",
              "    .dataframe thead tr:last-of-type th {\n",
              "        text-align: right;\n",
              "    }\n",
              "</style>\n",
              "<table border=\"1\" class=\"dataframe\">\n",
              "  <thead>\n",
              "    <tr>\n",
              "      <th></th>\n",
              "      <th>count</th>\n",
              "      <th>mean</th>\n",
              "    </tr>\n",
              "    <tr>\n",
              "      <th></th>\n",
              "      <th>debt</th>\n",
              "      <th>debt</th>\n",
              "    </tr>\n",
              "    <tr>\n",
              "      <th>purpose_category</th>\n",
              "      <th></th>\n",
              "      <th></th>\n",
              "    </tr>\n",
              "  </thead>\n",
              "  <tbody>\n",
              "    <tr>\n",
              "      <th>carrying out a wedding</th>\n",
              "      <td>2313</td>\n",
              "      <td>7.91</td>\n",
              "    </tr>\n",
              "    <tr>\n",
              "      <th>getting an education</th>\n",
              "      <td>3988</td>\n",
              "      <td>9.25</td>\n",
              "    </tr>\n",
              "    <tr>\n",
              "      <th>operations with a car</th>\n",
              "      <td>4279</td>\n",
              "      <td>9.35</td>\n",
              "    </tr>\n",
              "    <tr>\n",
              "      <th>real estate transactions</th>\n",
              "      <td>10751</td>\n",
              "      <td>7.26</td>\n",
              "    </tr>\n",
              "  </tbody>\n",
              "</table>\n",
              "</div>\n",
              "    <div class=\"colab-df-buttons\">\n",
              "\n",
              "  <div class=\"colab-df-container\">\n",
              "    <button class=\"colab-df-convert\" onclick=\"convertToInteractive('df-43ee37ae-eaf6-4e32-a3bc-bc783a0f0800')\"\n",
              "            title=\"Convert this dataframe to an interactive table.\"\n",
              "            style=\"display:none;\">\n",
              "\n",
              "  <svg xmlns=\"http://www.w3.org/2000/svg\" height=\"24px\" viewBox=\"0 -960 960 960\">\n",
              "    <path d=\"M120-120v-720h720v720H120Zm60-500h600v-160H180v160Zm220 220h160v-160H400v160Zm0 220h160v-160H400v160ZM180-400h160v-160H180v160Zm440 0h160v-160H620v160ZM180-180h160v-160H180v160Zm440 0h160v-160H620v160Z\"/>\n",
              "  </svg>\n",
              "    </button>\n",
              "\n",
              "  <style>\n",
              "    .colab-df-container {\n",
              "      display:flex;\n",
              "      gap: 12px;\n",
              "    }\n",
              "\n",
              "    .colab-df-convert {\n",
              "      background-color: #E8F0FE;\n",
              "      border: none;\n",
              "      border-radius: 50%;\n",
              "      cursor: pointer;\n",
              "      display: none;\n",
              "      fill: #1967D2;\n",
              "      height: 32px;\n",
              "      padding: 0 0 0 0;\n",
              "      width: 32px;\n",
              "    }\n",
              "\n",
              "    .colab-df-convert:hover {\n",
              "      background-color: #E2EBFA;\n",
              "      box-shadow: 0px 1px 2px rgba(60, 64, 67, 0.3), 0px 1px 3px 1px rgba(60, 64, 67, 0.15);\n",
              "      fill: #174EA6;\n",
              "    }\n",
              "\n",
              "    .colab-df-buttons div {\n",
              "      margin-bottom: 4px;\n",
              "    }\n",
              "\n",
              "    [theme=dark] .colab-df-convert {\n",
              "      background-color: #3B4455;\n",
              "      fill: #D2E3FC;\n",
              "    }\n",
              "\n",
              "    [theme=dark] .colab-df-convert:hover {\n",
              "      background-color: #434B5C;\n",
              "      box-shadow: 0px 1px 3px 1px rgba(0, 0, 0, 0.15);\n",
              "      filter: drop-shadow(0px 1px 2px rgba(0, 0, 0, 0.3));\n",
              "      fill: #FFFFFF;\n",
              "    }\n",
              "  </style>\n",
              "\n",
              "    <script>\n",
              "      const buttonEl =\n",
              "        document.querySelector('#df-43ee37ae-eaf6-4e32-a3bc-bc783a0f0800 button.colab-df-convert');\n",
              "      buttonEl.style.display =\n",
              "        google.colab.kernel.accessAllowed ? 'block' : 'none';\n",
              "\n",
              "      async function convertToInteractive(key) {\n",
              "        const element = document.querySelector('#df-43ee37ae-eaf6-4e32-a3bc-bc783a0f0800');\n",
              "        const dataTable =\n",
              "          await google.colab.kernel.invokeFunction('convertToInteractive',\n",
              "                                                    [key], {});\n",
              "        if (!dataTable) return;\n",
              "\n",
              "        const docLinkHtml = 'Like what you see? Visit the ' +\n",
              "          '<a target=\"_blank\" href=https://colab.research.google.com/notebooks/data_table.ipynb>data table notebook</a>'\n",
              "          + ' to learn more about interactive tables.';\n",
              "        element.innerHTML = '';\n",
              "        dataTable['output_type'] = 'display_data';\n",
              "        await google.colab.output.renderOutput(dataTable, element);\n",
              "        const docLink = document.createElement('div');\n",
              "        docLink.innerHTML = docLinkHtml;\n",
              "        element.appendChild(docLink);\n",
              "      }\n",
              "    </script>\n",
              "  </div>\n",
              "\n",
              "\n",
              "<div id=\"df-272f8e67-72ee-4759-a035-5fc53a9d1fe8\">\n",
              "  <button class=\"colab-df-quickchart\" onclick=\"quickchart('df-272f8e67-72ee-4759-a035-5fc53a9d1fe8')\"\n",
              "            title=\"Suggest charts.\"\n",
              "            style=\"display:none;\">\n",
              "\n",
              "<svg xmlns=\"http://www.w3.org/2000/svg\" height=\"24px\"viewBox=\"0 0 24 24\"\n",
              "     width=\"24px\">\n",
              "    <g>\n",
              "        <path d=\"M19 3H5c-1.1 0-2 .9-2 2v14c0 1.1.9 2 2 2h14c1.1 0 2-.9 2-2V5c0-1.1-.9-2-2-2zM9 17H7v-7h2v7zm4 0h-2V7h2v10zm4 0h-2v-4h2v4z\"/>\n",
              "    </g>\n",
              "</svg>\n",
              "  </button>\n",
              "\n",
              "<style>\n",
              "  .colab-df-quickchart {\n",
              "      --bg-color: #E8F0FE;\n",
              "      --fill-color: #1967D2;\n",
              "      --hover-bg-color: #E2EBFA;\n",
              "      --hover-fill-color: #174EA6;\n",
              "      --disabled-fill-color: #AAA;\n",
              "      --disabled-bg-color: #DDD;\n",
              "  }\n",
              "\n",
              "  [theme=dark] .colab-df-quickchart {\n",
              "      --bg-color: #3B4455;\n",
              "      --fill-color: #D2E3FC;\n",
              "      --hover-bg-color: #434B5C;\n",
              "      --hover-fill-color: #FFFFFF;\n",
              "      --disabled-bg-color: #3B4455;\n",
              "      --disabled-fill-color: #666;\n",
              "  }\n",
              "\n",
              "  .colab-df-quickchart {\n",
              "    background-color: var(--bg-color);\n",
              "    border: none;\n",
              "    border-radius: 50%;\n",
              "    cursor: pointer;\n",
              "    display: none;\n",
              "    fill: var(--fill-color);\n",
              "    height: 32px;\n",
              "    padding: 0;\n",
              "    width: 32px;\n",
              "  }\n",
              "\n",
              "  .colab-df-quickchart:hover {\n",
              "    background-color: var(--hover-bg-color);\n",
              "    box-shadow: 0 1px 2px rgba(60, 64, 67, 0.3), 0 1px 3px 1px rgba(60, 64, 67, 0.15);\n",
              "    fill: var(--button-hover-fill-color);\n",
              "  }\n",
              "\n",
              "  .colab-df-quickchart-complete:disabled,\n",
              "  .colab-df-quickchart-complete:disabled:hover {\n",
              "    background-color: var(--disabled-bg-color);\n",
              "    fill: var(--disabled-fill-color);\n",
              "    box-shadow: none;\n",
              "  }\n",
              "\n",
              "  .colab-df-spinner {\n",
              "    border: 2px solid var(--fill-color);\n",
              "    border-color: transparent;\n",
              "    border-bottom-color: var(--fill-color);\n",
              "    animation:\n",
              "      spin 1s steps(1) infinite;\n",
              "  }\n",
              "\n",
              "  @keyframes spin {\n",
              "    0% {\n",
              "      border-color: transparent;\n",
              "      border-bottom-color: var(--fill-color);\n",
              "      border-left-color: var(--fill-color);\n",
              "    }\n",
              "    20% {\n",
              "      border-color: transparent;\n",
              "      border-left-color: var(--fill-color);\n",
              "      border-top-color: var(--fill-color);\n",
              "    }\n",
              "    30% {\n",
              "      border-color: transparent;\n",
              "      border-left-color: var(--fill-color);\n",
              "      border-top-color: var(--fill-color);\n",
              "      border-right-color: var(--fill-color);\n",
              "    }\n",
              "    40% {\n",
              "      border-color: transparent;\n",
              "      border-right-color: var(--fill-color);\n",
              "      border-top-color: var(--fill-color);\n",
              "    }\n",
              "    60% {\n",
              "      border-color: transparent;\n",
              "      border-right-color: var(--fill-color);\n",
              "    }\n",
              "    80% {\n",
              "      border-color: transparent;\n",
              "      border-right-color: var(--fill-color);\n",
              "      border-bottom-color: var(--fill-color);\n",
              "    }\n",
              "    90% {\n",
              "      border-color: transparent;\n",
              "      border-bottom-color: var(--fill-color);\n",
              "    }\n",
              "  }\n",
              "</style>\n",
              "\n",
              "  <script>\n",
              "    async function quickchart(key) {\n",
              "      const quickchartButtonEl =\n",
              "        document.querySelector('#' + key + ' button');\n",
              "      quickchartButtonEl.disabled = true;  // To prevent multiple clicks.\n",
              "      quickchartButtonEl.classList.add('colab-df-spinner');\n",
              "      try {\n",
              "        const charts = await google.colab.kernel.invokeFunction(\n",
              "            'suggestCharts', [key], {});\n",
              "      } catch (error) {\n",
              "        console.error('Error during call to suggestCharts:', error);\n",
              "      }\n",
              "      quickchartButtonEl.classList.remove('colab-df-spinner');\n",
              "      quickchartButtonEl.classList.add('colab-df-quickchart-complete');\n",
              "    }\n",
              "    (() => {\n",
              "      let quickchartButtonEl =\n",
              "        document.querySelector('#df-272f8e67-72ee-4759-a035-5fc53a9d1fe8 button');\n",
              "      quickchartButtonEl.style.display =\n",
              "        google.colab.kernel.accessAllowed ? 'block' : 'none';\n",
              "    })();\n",
              "  </script>\n",
              "</div>\n",
              "    </div>\n",
              "  </div>\n"
            ]
          },
          "metadata": {}
        }
      ],
      "source": [
        "# We will group the data using the pivot table method by category of loan purpose, and in the columns we will calculate the number of loans issued\n",
        "# to borrowers, according to the corresponding category of loan purpose and, immediately, the share of overdue loans.\n",
        "# We will format the output of the share of overdue loans: round to 4 decimal places and multiply by 100.\n",
        "\n",
        "result_3_4 = pd.pivot_table(data,index=['purpose_category'],values =['debt'], aggfunc=['count','mean'])\n",
        "result_3_4[( 'mean', 'debt')]=result_3_4[( 'mean', 'debt')].round(4)*100\n",
        "\n",
        "display(result_3_4)"
      ]
    },
    {
      "cell_type": "markdown",
      "id": "44a8500c",
      "metadata": {
        "deletable": false,
        "id": "44a8500c"
      },
      "source": [
        "**Conclusion:**\n",
        "\n",
        "From the presented data it is clear that the least risky are loans associated with the purchase of real estate. In this category, on average, the share of overdue loans is 7.2%. The most risky are loans for the purchase of a car. Here the share of overdue loans is more than 9.3%. Education loans are only slightly inferior in risk to car loans. The overdue rate for them is 9.2%\n",
        "\n",
        "**General conclusion**: loans for the purchase of real estate, on average, are the most reliable, and for car loans and education loans, in comparison, the risk of delinquency increases by approximately 1.3 times."
      ]
    },
    {
      "cell_type": "markdown",
      "id": "819e794a",
      "metadata": {
        "deletable": false,
        "editable": false,
        "id": "819e794a"
      },
      "source": [
        "#### Give possible reasons for the appearance of gaps in the source data."
      ]
    },
    {
      "cell_type": "markdown",
      "id": "5ce2695a",
      "metadata": {
        "deletable": false,
        "id": "5ce2695a"
      },
      "source": [
        "*Answer:*\n",
        "\n",
        "As can be seen from paragraph 3. Data gaps occurred only in the “Work Experience” and “Amount of Income” columns.\n",
        "Upon further examination of the data (clause 1.), you can note that the omissions are typical for “Income Type” = “pensioner”, i.e., it can be assumed that the presence of omissions of data is due to the inaccuracy of the loan application form, which allows When filling out, do not enter data in the specified columns; when choosing the type of income = “pensioner”.\n",
        "\n",
        "**In general**, gaps in data may be the result of errors in the operation of data recording devices, errors in data transfer, export/import, errors in algorithms for generating data downloads, errors in data entry, or intentional omission of certain data when entering.\n",
        "    \n",
        "    \n",
        "Additionally, omissions **in the studied dataset** may be the result of either erroneously not filling out this data (missed, not noticed), or deliberately ignoring it, either due to the fact that the potential lender did not have a job at the time of applying for a loan and, therefore, had no income i.e. or was temporarily unemployed or, in principle, had never worked before, in this case the lack of data on work experience and earnings is fully consistent with the real state of affairs."
      ]
    },
    {
      "cell_type": "markdown",
      "id": "b592c43d",
      "metadata": {
        "deletable": false,
        "editable": false,
        "id": "b592c43d"
      },
      "source": [
        "#### Explain why filling the blanks with the median is the best solution for quantitative variables."
      ]
    },
    {
      "cell_type": "markdown",
      "id": "7ec57806",
      "metadata": {
        "deletable": false,
        "id": "7ec57806"
      },
      "source": [
        "*Answer:*\n",
        "\n",
        "It is best to fill in the gaps in quantitative variables with median values, because Such filling of gaps, firstly, allows you to save a dataframe row for further analysis in other columns and secondly, it has the least impact (introduces the least error) into the statistical characteristics of the column under study, incl. and because for data that has a normal distribution (or close to normal), with a relatively large amount of data, the median will be equal to the mean value.\n",
        "\n",
        "The median is a value that splits the data, **sorted in order** of increasing values, into two equal parts. That is, the median shows the central value in the sample if the number of observations is odd and the arithmetic mean of two values if the number of observations in the sample is even. That. To determine the median, you must first sort the list of data and then take the middle (located in the middle of the list) data element. While the average is the result of dividing the sum of all data by their number.\n",
        "    \n",
        "**The main difference** between the median and the average is its resistance to “outliers” - uncharacteristic of the sample being studied, values that are too large or too small. Such \"outliers\" can have a significant impact on the average even if the number of \"outliers\" themselves is insignificant. And, on the contrary, they do not affect the median."
      ]
    },
    {
      "cell_type": "markdown",
      "id": "00d49749",
      "metadata": {
        "deletable": false,
        "editable": false,
        "id": "00d49749"
      },
      "source": [
        "### General conclusion."
      ]
    },
    {
      "cell_type": "markdown",
      "id": "54381dea",
      "metadata": {
        "deletable": false,
        "id": "54381dea"
      },
      "source": [
        "The purpose of this project was to study the reliability of borrowers, depending on various factors, incl. marital status, number of children, income level. The data volume was 21,525 rows. After preprocessing and excluding rows with anomalous values, the data volume totaled 21,331 rows.\n",
        "\n",
        "Based on the results of the study, conclusions were drawn about the dependence of the probability of loan delays on various characteristics of the borrower.\n",
        "\n",
        "Based on these findings, it is possible to draw up a “portrait of an **ideal** borrower”, in respect of whom one can expect the least probability of delay. This is a borrower who is/was in a registered marriage, without children, with an income level of 30,001 to 50,000, who wants to get a loan to purchase real estate.\n",
        "\n",
        "And, conversely, the **least reliable** borrower will be an unmarried borrower, incl. civilian, with 4 children, with an income of up to 30,000, wanting to get a car loan."
      ]
    },
    {
      "cell_type": "code",
      "execution_count": 25,
      "id": "0702f188",
      "metadata": {
        "id": "0702f188"
      },
      "outputs": [],
      "source": []
    }
  ],
  "metadata": {
    "ExecuteTimeLog": [
      {
        "duration": 50,
        "start_time": "2023-02-06T08:43:58.672Z"
      },
      {
        "duration": 539,
        "start_time": "2023-02-06T08:44:28.021Z"
      },
      {
        "duration": 23,
        "start_time": "2023-02-06T08:44:28.562Z"
      },
      {
        "duration": 15,
        "start_time": "2023-02-06T08:44:28.609Z"
      },
      {
        "duration": 9,
        "start_time": "2023-02-06T08:44:28.626Z"
      },
      {
        "duration": 30,
        "start_time": "2023-02-06T08:44:28.636Z"
      },
      {
        "duration": 4,
        "start_time": "2023-02-06T08:44:28.668Z"
      },
      {
        "duration": 43,
        "start_time": "2023-02-06T08:44:28.674Z"
      },
      {
        "duration": 4,
        "start_time": "2023-02-06T08:44:28.719Z"
      },
      {
        "duration": 8,
        "start_time": "2023-02-06T08:44:28.725Z"
      },
      {
        "duration": 5,
        "start_time": "2023-02-06T08:44:28.735Z"
      },
      {
        "duration": 33,
        "start_time": "2023-02-06T08:44:28.742Z"
      },
      {
        "duration": 8,
        "start_time": "2023-02-06T08:44:28.777Z"
      },
      {
        "duration": 25,
        "start_time": "2023-02-06T08:44:28.787Z"
      },
      {
        "duration": 14,
        "start_time": "2023-02-06T08:44:28.814Z"
      },
      {
        "duration": 18,
        "start_time": "2023-02-06T08:44:28.830Z"
      },
      {
        "duration": 17,
        "start_time": "2023-02-06T08:44:28.850Z"
      },
      {
        "duration": 4,
        "start_time": "2023-02-06T08:44:28.869Z"
      },
      {
        "duration": 45,
        "start_time": "2023-02-06T08:44:28.875Z"
      },
      {
        "duration": 8,
        "start_time": "2023-02-06T08:44:28.921Z"
      },
      {
        "duration": 4,
        "start_time": "2023-02-06T08:44:28.931Z"
      },
      {
        "duration": 13,
        "start_time": "2023-02-06T08:44:28.936Z"
      },
      {
        "duration": 5,
        "start_time": "2023-02-06T08:44:28.950Z"
      },
      {
        "duration": 5,
        "start_time": "2023-02-06T08:44:28.956Z"
      },
      {
        "duration": 3,
        "start_time": "2023-02-06T08:44:28.962Z"
      },
      {
        "duration": 4,
        "start_time": "2023-02-06T08:44:28.967Z"
      },
      {
        "duration": 7,
        "start_time": "2023-02-06T08:45:58.974Z"
      },
      {
        "duration": 65,
        "start_time": "2023-02-06T08:51:31.730Z"
      },
      {
        "duration": 85,
        "start_time": "2023-02-06T08:51:40.570Z"
      },
      {
        "duration": 86,
        "start_time": "2023-02-06T08:53:36.642Z"
      },
      {
        "duration": 111,
        "start_time": "2023-02-06T08:54:07.155Z"
      },
      {
        "duration": 85,
        "start_time": "2023-02-06T08:54:16.059Z"
      },
      {
        "duration": 9,
        "start_time": "2023-02-06T08:54:55.962Z"
      },
      {
        "duration": 15,
        "start_time": "2023-02-06T08:55:30.003Z"
      },
      {
        "duration": 11,
        "start_time": "2023-02-06T08:55:42.554Z"
      },
      {
        "duration": 10,
        "start_time": "2023-02-06T08:55:53.821Z"
      },
      {
        "duration": 22,
        "start_time": "2023-02-06T09:00:15.286Z"
      },
      {
        "duration": 6,
        "start_time": "2023-02-06T09:12:54.036Z"
      },
      {
        "duration": 10,
        "start_time": "2023-02-06T09:13:23.828Z"
      },
      {
        "duration": 7,
        "start_time": "2023-02-06T09:14:33.845Z"
      },
      {
        "duration": 69,
        "start_time": "2023-02-06T09:16:12.847Z"
      },
      {
        "duration": 11,
        "start_time": "2023-02-06T09:19:09.985Z"
      },
      {
        "duration": 7,
        "start_time": "2023-02-06T09:19:33.038Z"
      },
      {
        "duration": 3,
        "start_time": "2023-02-06T09:23:46.269Z"
      },
      {
        "duration": 841,
        "start_time": "2023-02-06T09:24:05.561Z"
      },
      {
        "duration": 862,
        "start_time": "2023-02-06T09:24:33.316Z"
      },
      {
        "duration": 853,
        "start_time": "2023-02-06T09:25:32.885Z"
      },
      {
        "duration": 8,
        "start_time": "2023-02-06T09:25:40.742Z"
      },
      {
        "duration": 7,
        "start_time": "2023-02-06T09:37:09.974Z"
      },
      {
        "duration": 8,
        "start_time": "2023-02-06T09:37:41.748Z"
      },
      {
        "duration": 13,
        "start_time": "2023-02-06T09:39:37.428Z"
      },
      {
        "duration": 14,
        "start_time": "2023-02-06T09:40:22.933Z"
      },
      {
        "duration": 9,
        "start_time": "2023-02-06T09:40:45.598Z"
      },
      {
        "duration": 50,
        "start_time": "2023-02-06T16:52:55.385Z"
      },
      {
        "duration": 8,
        "start_time": "2023-02-06T16:53:07.057Z"
      },
      {
        "duration": 697,
        "start_time": "2023-02-06T16:53:27.762Z"
      },
      {
        "duration": 22,
        "start_time": "2023-02-06T16:53:28.461Z"
      },
      {
        "duration": 13,
        "start_time": "2023-02-06T16:53:28.484Z"
      },
      {
        "duration": 9,
        "start_time": "2023-02-06T16:53:28.499Z"
      },
      {
        "duration": 31,
        "start_time": "2023-02-06T16:53:28.510Z"
      },
      {
        "duration": 4,
        "start_time": "2023-02-06T16:53:28.543Z"
      },
      {
        "duration": 10,
        "start_time": "2023-02-06T16:53:28.548Z"
      },
      {
        "duration": 35,
        "start_time": "2023-02-06T16:53:28.559Z"
      },
      {
        "duration": 8,
        "start_time": "2023-02-06T16:53:28.596Z"
      },
      {
        "duration": 3,
        "start_time": "2023-02-06T16:53:28.607Z"
      },
      {
        "duration": 33,
        "start_time": "2023-02-06T16:53:28.612Z"
      },
      {
        "duration": 9,
        "start_time": "2023-02-06T16:53:28.647Z"
      },
      {
        "duration": 36,
        "start_time": "2023-02-06T16:53:28.658Z"
      },
      {
        "duration": 12,
        "start_time": "2023-02-06T16:53:28.696Z"
      },
      {
        "duration": 20,
        "start_time": "2023-02-06T16:53:28.710Z"
      },
      {
        "duration": 18,
        "start_time": "2023-02-06T16:53:28.732Z"
      },
      {
        "duration": 4,
        "start_time": "2023-02-06T16:53:28.752Z"
      },
      {
        "duration": 43,
        "start_time": "2023-02-06T16:53:28.757Z"
      },
      {
        "duration": 11,
        "start_time": "2023-02-06T16:53:28.802Z"
      },
      {
        "duration": 3,
        "start_time": "2023-02-06T16:53:28.816Z"
      },
      {
        "duration": 18,
        "start_time": "2023-02-06T16:53:28.821Z"
      },
      {
        "duration": 10,
        "start_time": "2023-02-06T16:53:28.841Z"
      },
      {
        "duration": 11,
        "start_time": "2023-02-06T16:53:28.852Z"
      },
      {
        "duration": 31,
        "start_time": "2023-02-06T16:53:28.866Z"
      },
      {
        "duration": 2,
        "start_time": "2023-02-06T16:53:28.898Z"
      },
      {
        "duration": 9,
        "start_time": "2023-02-06T17:06:47.484Z"
      },
      {
        "duration": 10,
        "start_time": "2023-02-06T17:09:38.899Z"
      },
      {
        "duration": 14,
        "start_time": "2023-02-06T17:10:52.915Z"
      },
      {
        "duration": 11,
        "start_time": "2023-02-06T17:20:37.457Z"
      },
      {
        "duration": 21,
        "start_time": "2023-02-06T17:44:31.722Z"
      },
      {
        "duration": 10,
        "start_time": "2023-02-06T17:44:45.424Z"
      },
      {
        "duration": 23,
        "start_time": "2023-02-06T17:48:20.971Z"
      },
      {
        "duration": 10,
        "start_time": "2023-02-06T17:48:32.546Z"
      },
      {
        "duration": 14,
        "start_time": "2023-02-06T17:54:58.299Z"
      },
      {
        "duration": 499,
        "start_time": "2023-02-06T18:04:14.989Z"
      },
      {
        "duration": 39,
        "start_time": "2023-02-06T18:04:15.506Z"
      },
      {
        "duration": 16,
        "start_time": "2023-02-06T18:04:15.547Z"
      },
      {
        "duration": 10,
        "start_time": "2023-02-06T18:04:15.565Z"
      },
      {
        "duration": 55,
        "start_time": "2023-02-06T18:04:15.576Z"
      },
      {
        "duration": 4,
        "start_time": "2023-02-06T18:04:15.632Z"
      },
      {
        "duration": 12,
        "start_time": "2023-02-06T18:04:15.638Z"
      },
      {
        "duration": 4,
        "start_time": "2023-02-06T18:04:15.651Z"
      },
      {
        "duration": 47,
        "start_time": "2023-02-06T18:04:15.657Z"
      },
      {
        "duration": 6,
        "start_time": "2023-02-06T18:04:15.713Z"
      },
      {
        "duration": 55,
        "start_time": "2023-02-06T18:04:15.721Z"
      },
      {
        "duration": 10,
        "start_time": "2023-02-06T18:04:15.778Z"
      },
      {
        "duration": 16,
        "start_time": "2023-02-06T18:04:15.795Z"
      },
      {
        "duration": 33,
        "start_time": "2023-02-06T18:04:15.813Z"
      },
      {
        "duration": 21,
        "start_time": "2023-02-06T18:04:15.848Z"
      },
      {
        "duration": 27,
        "start_time": "2023-02-06T18:04:15.871Z"
      },
      {
        "duration": 12,
        "start_time": "2023-02-06T18:04:15.899Z"
      },
      {
        "duration": 23,
        "start_time": "2023-02-06T18:04:15.914Z"
      },
      {
        "duration": 14,
        "start_time": "2023-02-06T18:04:15.939Z"
      },
      {
        "duration": 15,
        "start_time": "2023-02-06T18:04:15.955Z"
      },
      {
        "duration": 18,
        "start_time": "2023-02-06T18:04:15.971Z"
      },
      {
        "duration": 29,
        "start_time": "2023-02-06T18:04:15.995Z"
      },
      {
        "duration": 13,
        "start_time": "2023-02-06T18:04:16.026Z"
      },
      {
        "duration": 26,
        "start_time": "2023-02-06T18:04:16.042Z"
      },
      {
        "duration": 24,
        "start_time": "2023-02-06T18:04:16.070Z"
      },
      {
        "duration": 489,
        "start_time": "2023-02-07T12:53:22.314Z"
      },
      {
        "duration": 20,
        "start_time": "2023-02-07T12:53:22.805Z"
      },
      {
        "duration": 15,
        "start_time": "2023-02-07T12:53:22.827Z"
      },
      {
        "duration": 10,
        "start_time": "2023-02-07T12:53:22.844Z"
      },
      {
        "duration": 63,
        "start_time": "2023-02-07T12:53:22.856Z"
      },
      {
        "duration": 4,
        "start_time": "2023-02-07T12:53:22.920Z"
      },
      {
        "duration": 11,
        "start_time": "2023-02-07T12:53:22.925Z"
      },
      {
        "duration": 5,
        "start_time": "2023-02-07T12:53:22.937Z"
      },
      {
        "duration": 8,
        "start_time": "2023-02-07T12:53:22.944Z"
      },
      {
        "duration": 5,
        "start_time": "2023-02-07T12:53:22.955Z"
      },
      {
        "duration": 59,
        "start_time": "2023-02-07T12:53:22.961Z"
      },
      {
        "duration": 9,
        "start_time": "2023-02-07T12:53:23.022Z"
      },
      {
        "duration": 15,
        "start_time": "2023-02-07T12:53:23.033Z"
      },
      {
        "duration": 12,
        "start_time": "2023-02-07T12:53:23.050Z"
      },
      {
        "duration": 22,
        "start_time": "2023-02-07T12:53:23.063Z"
      },
      {
        "duration": 36,
        "start_time": "2023-02-07T12:53:23.087Z"
      },
      {
        "duration": 4,
        "start_time": "2023-02-07T12:53:23.125Z"
      },
      {
        "duration": 16,
        "start_time": "2023-02-07T12:53:23.131Z"
      },
      {
        "duration": 7,
        "start_time": "2023-02-07T12:53:23.149Z"
      },
      {
        "duration": 3,
        "start_time": "2023-02-07T12:53:23.158Z"
      },
      {
        "duration": 15,
        "start_time": "2023-02-07T12:53:23.162Z"
      },
      {
        "duration": 29,
        "start_time": "2023-02-07T12:53:23.178Z"
      },
      {
        "duration": 9,
        "start_time": "2023-02-07T12:53:23.209Z"
      },
      {
        "duration": 9,
        "start_time": "2023-02-07T12:53:23.219Z"
      },
      {
        "duration": 9,
        "start_time": "2023-02-07T12:53:23.229Z"
      },
      {
        "duration": 49,
        "start_time": "2023-02-07T17:42:52.453Z"
      },
      {
        "duration": 513,
        "start_time": "2023-02-07T17:43:10.796Z"
      },
      {
        "duration": 26,
        "start_time": "2023-02-07T17:43:11.312Z"
      },
      {
        "duration": 18,
        "start_time": "2023-02-07T17:43:11.340Z"
      },
      {
        "duration": 11,
        "start_time": "2023-02-07T17:43:11.361Z"
      },
      {
        "duration": 36,
        "start_time": "2023-02-07T17:43:11.374Z"
      },
      {
        "duration": 27,
        "start_time": "2023-02-07T17:43:11.412Z"
      },
      {
        "duration": 22,
        "start_time": "2023-02-07T17:43:11.442Z"
      },
      {
        "duration": 8,
        "start_time": "2023-02-07T17:43:11.466Z"
      },
      {
        "duration": 12,
        "start_time": "2023-02-07T17:43:11.475Z"
      },
      {
        "duration": 6,
        "start_time": "2023-02-07T17:43:11.489Z"
      },
      {
        "duration": 54,
        "start_time": "2023-02-07T17:43:11.497Z"
      },
      {
        "duration": 11,
        "start_time": "2023-02-07T17:43:11.553Z"
      },
      {
        "duration": 7,
        "start_time": "2023-02-07T17:43:11.565Z"
      },
      {
        "duration": 17,
        "start_time": "2023-02-07T17:43:11.573Z"
      },
      {
        "duration": 24,
        "start_time": "2023-02-07T17:43:11.592Z"
      },
      {
        "duration": 35,
        "start_time": "2023-02-07T17:43:11.618Z"
      },
      {
        "duration": 4,
        "start_time": "2023-02-07T17:43:11.655Z"
      },
      {
        "duration": 35,
        "start_time": "2023-02-07T17:43:11.660Z"
      },
      {
        "duration": 28,
        "start_time": "2023-02-07T17:43:11.697Z"
      },
      {
        "duration": 4,
        "start_time": "2023-02-07T17:43:11.727Z"
      },
      {
        "duration": 11,
        "start_time": "2023-02-07T17:43:11.733Z"
      },
      {
        "duration": 19,
        "start_time": "2023-02-07T17:43:11.746Z"
      },
      {
        "duration": 10,
        "start_time": "2023-02-07T17:43:11.767Z"
      },
      {
        "duration": 9,
        "start_time": "2023-02-07T17:43:11.779Z"
      },
      {
        "duration": 22,
        "start_time": "2023-02-07T17:43:11.790Z"
      },
      {
        "duration": 86,
        "start_time": "2023-02-07T17:45:06.514Z"
      },
      {
        "duration": 40,
        "start_time": "2023-02-07T17:45:51.716Z"
      },
      {
        "duration": 20,
        "start_time": "2023-02-07T17:48:15.409Z"
      },
      {
        "duration": 14,
        "start_time": "2023-02-07T17:50:39.957Z"
      },
      {
        "duration": 27,
        "start_time": "2023-02-07T17:56:03.254Z"
      },
      {
        "duration": 1449,
        "start_time": "2023-02-07T17:56:44.192Z"
      },
      {
        "duration": 25,
        "start_time": "2023-02-07T17:56:51.977Z"
      },
      {
        "duration": 22,
        "start_time": "2023-02-07T17:57:20.599Z"
      },
      {
        "duration": 19,
        "start_time": "2023-02-07T17:57:37.392Z"
      },
      {
        "duration": 25,
        "start_time": "2023-02-07T17:59:27.977Z"
      },
      {
        "duration": 18,
        "start_time": "2023-02-07T17:59:45.626Z"
      },
      {
        "duration": 22,
        "start_time": "2023-02-07T18:05:40.047Z"
      },
      {
        "duration": 24,
        "start_time": "2023-02-07T18:06:20.086Z"
      },
      {
        "duration": 21,
        "start_time": "2023-02-07T18:06:40.447Z"
      },
      {
        "duration": 19,
        "start_time": "2023-02-07T18:07:11.142Z"
      },
      {
        "duration": 19,
        "start_time": "2023-02-07T18:07:34.791Z"
      },
      {
        "duration": 1227,
        "start_time": "2023-02-07T18:18:45.751Z"
      },
      {
        "duration": 20,
        "start_time": "2023-02-07T18:24:54.395Z"
      },
      {
        "duration": 21,
        "start_time": "2023-02-07T18:25:53.698Z"
      },
      {
        "duration": 19,
        "start_time": "2023-02-07T18:26:38.105Z"
      },
      {
        "duration": 70,
        "start_time": "2023-02-07T18:27:05.156Z"
      },
      {
        "duration": 20,
        "start_time": "2023-02-07T18:27:36.842Z"
      },
      {
        "duration": 18,
        "start_time": "2023-02-07T18:27:42.787Z"
      },
      {
        "duration": 23,
        "start_time": "2023-02-07T18:33:33.846Z"
      },
      {
        "duration": 21,
        "start_time": "2023-02-07T18:33:44.418Z"
      },
      {
        "duration": 23,
        "start_time": "2023-02-07T18:34:16.231Z"
      },
      {
        "duration": 23,
        "start_time": "2023-02-07T18:34:29.138Z"
      },
      {
        "duration": 19,
        "start_time": "2023-02-07T18:35:05.336Z"
      },
      {
        "duration": 26,
        "start_time": "2023-02-07T18:42:07.972Z"
      },
      {
        "duration": 35,
        "start_time": "2023-02-07T18:42:58.936Z"
      },
      {
        "duration": 24,
        "start_time": "2023-02-07T18:46:43.136Z"
      },
      {
        "duration": 461,
        "start_time": "2023-02-07T18:49:46.282Z"
      },
      {
        "duration": 27,
        "start_time": "2023-02-07T18:49:46.745Z"
      },
      {
        "duration": 19,
        "start_time": "2023-02-07T18:49:46.774Z"
      },
      {
        "duration": 11,
        "start_time": "2023-02-07T18:49:46.796Z"
      },
      {
        "duration": 78,
        "start_time": "2023-02-07T18:49:46.810Z"
      },
      {
        "duration": 4,
        "start_time": "2023-02-07T18:49:46.890Z"
      },
      {
        "duration": 11,
        "start_time": "2023-02-07T18:49:46.895Z"
      },
      {
        "duration": 4,
        "start_time": "2023-02-07T18:49:46.908Z"
      },
      {
        "duration": 32,
        "start_time": "2023-02-07T18:49:46.913Z"
      },
      {
        "duration": 5,
        "start_time": "2023-02-07T18:49:46.948Z"
      },
      {
        "duration": 39,
        "start_time": "2023-02-07T18:49:46.954Z"
      },
      {
        "duration": 45,
        "start_time": "2023-02-07T18:49:46.995Z"
      },
      {
        "duration": 13,
        "start_time": "2023-02-07T18:49:47.043Z"
      },
      {
        "duration": 14,
        "start_time": "2023-02-07T18:49:47.059Z"
      },
      {
        "duration": 21,
        "start_time": "2023-02-07T18:49:47.075Z"
      },
      {
        "duration": 19,
        "start_time": "2023-02-07T18:49:47.098Z"
      },
      {
        "duration": 5,
        "start_time": "2023-02-07T18:49:47.141Z"
      },
      {
        "duration": 22,
        "start_time": "2023-02-07T18:49:47.148Z"
      },
      {
        "duration": 11,
        "start_time": "2023-02-07T18:49:47.172Z"
      },
      {
        "duration": 5,
        "start_time": "2023-02-07T18:49:47.184Z"
      },
      {
        "duration": 12,
        "start_time": "2023-02-07T18:49:47.190Z"
      },
      {
        "duration": 63,
        "start_time": "2023-02-07T18:49:47.204Z"
      },
      {
        "duration": 21,
        "start_time": "2023-02-07T18:49:47.269Z"
      },
      {
        "duration": 22,
        "start_time": "2023-02-07T18:49:47.292Z"
      },
      {
        "duration": 34,
        "start_time": "2023-02-07T18:49:47.316Z"
      },
      {
        "duration": 23,
        "start_time": "2023-02-07T19:02:58.738Z"
      },
      {
        "duration": 12,
        "start_time": "2023-02-07T19:18:29.339Z"
      },
      {
        "duration": 64,
        "start_time": "2023-02-07T19:18:41.995Z"
      },
      {
        "duration": 8,
        "start_time": "2023-02-07T19:19:03.625Z"
      },
      {
        "duration": 8,
        "start_time": "2023-02-07T19:19:11.500Z"
      },
      {
        "duration": 8,
        "start_time": "2023-02-07T19:19:31.340Z"
      },
      {
        "duration": 9,
        "start_time": "2023-02-07T19:20:31.990Z"
      },
      {
        "duration": 81,
        "start_time": "2023-02-07T19:20:49.860Z"
      },
      {
        "duration": 9,
        "start_time": "2023-02-07T19:20:56.883Z"
      },
      {
        "duration": 6,
        "start_time": "2023-02-07T19:21:52.472Z"
      },
      {
        "duration": 9,
        "start_time": "2023-02-07T19:22:42.640Z"
      },
      {
        "duration": 9,
        "start_time": "2023-02-07T19:22:55.398Z"
      },
      {
        "duration": 7,
        "start_time": "2023-02-07T19:25:31.544Z"
      },
      {
        "duration": 9,
        "start_time": "2023-02-07T19:26:10.294Z"
      },
      {
        "duration": 506,
        "start_time": "2023-02-07T19:26:57.256Z"
      },
      {
        "duration": 28,
        "start_time": "2023-02-07T19:26:57.764Z"
      },
      {
        "duration": 16,
        "start_time": "2023-02-07T19:26:57.795Z"
      },
      {
        "duration": 28,
        "start_time": "2023-02-07T19:26:57.813Z"
      },
      {
        "duration": 39,
        "start_time": "2023-02-07T19:26:57.843Z"
      },
      {
        "duration": 5,
        "start_time": "2023-02-07T19:26:57.884Z"
      },
      {
        "duration": 12,
        "start_time": "2023-02-07T19:26:57.890Z"
      },
      {
        "duration": 38,
        "start_time": "2023-02-07T19:26:57.904Z"
      },
      {
        "duration": 10,
        "start_time": "2023-02-07T19:26:57.944Z"
      },
      {
        "duration": 5,
        "start_time": "2023-02-07T19:26:57.958Z"
      },
      {
        "duration": 37,
        "start_time": "2023-02-07T19:26:57.965Z"
      },
      {
        "duration": 37,
        "start_time": "2023-02-07T19:26:58.004Z"
      },
      {
        "duration": 4,
        "start_time": "2023-02-07T19:26:58.043Z"
      },
      {
        "duration": 14,
        "start_time": "2023-02-07T19:26:58.050Z"
      },
      {
        "duration": 27,
        "start_time": "2023-02-07T19:26:58.066Z"
      },
      {
        "duration": 21,
        "start_time": "2023-02-07T19:26:58.095Z"
      },
      {
        "duration": 3,
        "start_time": "2023-02-07T19:26:58.140Z"
      },
      {
        "duration": 14,
        "start_time": "2023-02-07T19:26:58.145Z"
      },
      {
        "duration": 11,
        "start_time": "2023-02-07T19:26:58.161Z"
      },
      {
        "duration": 16,
        "start_time": "2023-02-07T19:26:58.174Z"
      },
      {
        "duration": 26,
        "start_time": "2023-02-07T19:26:58.192Z"
      },
      {
        "duration": 35,
        "start_time": "2023-02-07T19:26:58.221Z"
      },
      {
        "duration": 41,
        "start_time": "2023-02-07T19:26:58.259Z"
      },
      {
        "duration": 23,
        "start_time": "2023-02-07T19:26:58.301Z"
      },
      {
        "duration": 24,
        "start_time": "2023-02-07T19:26:58.340Z"
      },
      {
        "duration": 9,
        "start_time": "2023-02-07T19:27:52.617Z"
      },
      {
        "duration": 82,
        "start_time": "2023-02-07T19:28:17.297Z"
      },
      {
        "duration": 23,
        "start_time": "2023-02-07T19:28:17.381Z"
      },
      {
        "duration": 36,
        "start_time": "2023-02-07T19:28:17.409Z"
      },
      {
        "duration": 14,
        "start_time": "2023-02-07T19:28:17.448Z"
      },
      {
        "duration": 48,
        "start_time": "2023-02-07T19:28:17.464Z"
      },
      {
        "duration": 5,
        "start_time": "2023-02-07T19:28:17.540Z"
      },
      {
        "duration": 19,
        "start_time": "2023-02-07T19:28:17.547Z"
      },
      {
        "duration": 12,
        "start_time": "2023-02-07T19:28:17.568Z"
      },
      {
        "duration": 27,
        "start_time": "2023-02-07T19:28:17.582Z"
      },
      {
        "duration": 8,
        "start_time": "2023-02-07T19:28:17.611Z"
      },
      {
        "duration": 61,
        "start_time": "2023-02-07T19:28:17.621Z"
      },
      {
        "duration": 16,
        "start_time": "2023-02-07T19:28:17.684Z"
      },
      {
        "duration": 7,
        "start_time": "2023-02-07T19:28:17.702Z"
      },
      {
        "duration": 46,
        "start_time": "2023-02-07T19:28:17.711Z"
      },
      {
        "duration": 46,
        "start_time": "2023-02-07T19:28:17.759Z"
      },
      {
        "duration": 19,
        "start_time": "2023-02-07T19:28:17.807Z"
      },
      {
        "duration": 30,
        "start_time": "2023-02-07T19:28:17.829Z"
      },
      {
        "duration": 73,
        "start_time": "2023-02-07T19:28:17.861Z"
      },
      {
        "duration": 9,
        "start_time": "2023-02-07T19:28:17.936Z"
      },
      {
        "duration": 10,
        "start_time": "2023-02-07T19:28:17.947Z"
      },
      {
        "duration": 28,
        "start_time": "2023-02-07T19:28:17.959Z"
      },
      {
        "duration": 34,
        "start_time": "2023-02-07T19:28:17.989Z"
      },
      {
        "duration": 41,
        "start_time": "2023-02-07T19:28:18.025Z"
      },
      {
        "duration": 26,
        "start_time": "2023-02-07T19:28:18.068Z"
      },
      {
        "duration": 45,
        "start_time": "2023-02-07T19:28:18.096Z"
      },
      {
        "duration": 9,
        "start_time": "2023-02-07T19:31:07.932Z"
      },
      {
        "duration": 442,
        "start_time": "2023-02-07T19:31:34.195Z"
      },
      {
        "duration": 23,
        "start_time": "2023-02-07T19:31:34.639Z"
      },
      {
        "duration": 15,
        "start_time": "2023-02-07T19:31:34.665Z"
      },
      {
        "duration": 15,
        "start_time": "2023-02-07T19:31:34.683Z"
      },
      {
        "duration": 58,
        "start_time": "2023-02-07T19:31:34.699Z"
      },
      {
        "duration": 4,
        "start_time": "2023-02-07T19:31:34.759Z"
      },
      {
        "duration": 12,
        "start_time": "2023-02-07T19:31:34.765Z"
      },
      {
        "duration": 6,
        "start_time": "2023-02-07T19:31:34.779Z"
      },
      {
        "duration": 10,
        "start_time": "2023-02-07T19:31:34.787Z"
      },
      {
        "duration": 5,
        "start_time": "2023-02-07T19:31:34.800Z"
      },
      {
        "duration": 60,
        "start_time": "2023-02-07T19:31:34.807Z"
      },
      {
        "duration": 10,
        "start_time": "2023-02-07T19:31:34.869Z"
      },
      {
        "duration": 4,
        "start_time": "2023-02-07T19:31:34.881Z"
      },
      {
        "duration": 12,
        "start_time": "2023-02-07T19:31:34.887Z"
      },
      {
        "duration": 50,
        "start_time": "2023-02-07T19:31:34.900Z"
      },
      {
        "duration": 19,
        "start_time": "2023-02-07T19:31:34.951Z"
      },
      {
        "duration": 4,
        "start_time": "2023-02-07T19:31:34.972Z"
      },
      {
        "duration": 12,
        "start_time": "2023-02-07T19:31:34.977Z"
      },
      {
        "duration": 7,
        "start_time": "2023-02-07T19:31:34.990Z"
      },
      {
        "duration": 4,
        "start_time": "2023-02-07T19:31:34.999Z"
      },
      {
        "duration": 39,
        "start_time": "2023-02-07T19:31:35.005Z"
      },
      {
        "duration": 26,
        "start_time": "2023-02-07T19:31:35.045Z"
      },
      {
        "duration": 31,
        "start_time": "2023-02-07T19:31:35.073Z"
      },
      {
        "duration": 52,
        "start_time": "2023-02-07T19:31:35.106Z"
      },
      {
        "duration": 27,
        "start_time": "2023-02-07T19:31:35.160Z"
      },
      {
        "duration": 530,
        "start_time": "2023-02-07T19:42:20.510Z"
      },
      {
        "duration": 24,
        "start_time": "2023-02-07T19:42:21.042Z"
      },
      {
        "duration": 18,
        "start_time": "2023-02-07T19:42:21.068Z"
      },
      {
        "duration": 11,
        "start_time": "2023-02-07T19:42:21.089Z"
      },
      {
        "duration": 66,
        "start_time": "2023-02-07T19:42:21.101Z"
      },
      {
        "duration": 4,
        "start_time": "2023-02-07T19:42:21.169Z"
      },
      {
        "duration": 11,
        "start_time": "2023-02-07T19:42:21.174Z"
      },
      {
        "duration": 23,
        "start_time": "2023-02-07T19:42:21.186Z"
      },
      {
        "duration": 15,
        "start_time": "2023-02-07T19:42:21.210Z"
      },
      {
        "duration": 4,
        "start_time": "2023-02-07T19:42:21.228Z"
      },
      {
        "duration": 48,
        "start_time": "2023-02-07T19:42:21.234Z"
      },
      {
        "duration": 11,
        "start_time": "2023-02-07T19:42:21.283Z"
      },
      {
        "duration": 12,
        "start_time": "2023-02-07T19:42:21.296Z"
      },
      {
        "duration": 22,
        "start_time": "2023-02-07T19:42:21.310Z"
      },
      {
        "duration": 30,
        "start_time": "2023-02-07T19:42:21.340Z"
      },
      {
        "duration": 21,
        "start_time": "2023-02-07T19:42:21.372Z"
      },
      {
        "duration": 4,
        "start_time": "2023-02-07T19:42:21.394Z"
      },
      {
        "duration": 28,
        "start_time": "2023-02-07T19:42:21.400Z"
      },
      {
        "duration": 14,
        "start_time": "2023-02-07T19:42:21.429Z"
      },
      {
        "duration": 17,
        "start_time": "2023-02-07T19:42:21.444Z"
      },
      {
        "duration": 13,
        "start_time": "2023-02-07T19:42:21.463Z"
      },
      {
        "duration": 26,
        "start_time": "2023-02-07T19:42:21.478Z"
      },
      {
        "duration": 34,
        "start_time": "2023-02-07T19:42:21.506Z"
      },
      {
        "duration": 24,
        "start_time": "2023-02-07T19:42:21.541Z"
      },
      {
        "duration": 26,
        "start_time": "2023-02-07T19:42:21.567Z"
      },
      {
        "duration": 495,
        "start_time": "2023-02-07T19:57:49.231Z"
      },
      {
        "duration": 25,
        "start_time": "2023-02-07T19:57:49.728Z"
      },
      {
        "duration": 16,
        "start_time": "2023-02-07T19:57:49.755Z"
      },
      {
        "duration": 11,
        "start_time": "2023-02-07T19:57:49.773Z"
      },
      {
        "duration": 60,
        "start_time": "2023-02-07T19:57:49.786Z"
      },
      {
        "duration": 4,
        "start_time": "2023-02-07T19:57:49.848Z"
      },
      {
        "duration": 12,
        "start_time": "2023-02-07T19:57:49.854Z"
      },
      {
        "duration": 5,
        "start_time": "2023-02-07T19:57:49.868Z"
      },
      {
        "duration": 10,
        "start_time": "2023-02-07T19:57:49.875Z"
      },
      {
        "duration": 21,
        "start_time": "2023-02-07T19:57:49.888Z"
      },
      {
        "duration": 52,
        "start_time": "2023-02-07T19:57:49.911Z"
      },
      {
        "duration": 11,
        "start_time": "2023-02-07T19:57:49.964Z"
      },
      {
        "duration": 3,
        "start_time": "2023-02-07T19:57:49.977Z"
      },
      {
        "duration": 19,
        "start_time": "2023-02-07T19:57:49.982Z"
      },
      {
        "duration": 38,
        "start_time": "2023-02-07T19:57:50.003Z"
      },
      {
        "duration": 18,
        "start_time": "2023-02-07T19:57:50.043Z"
      },
      {
        "duration": 4,
        "start_time": "2023-02-07T19:57:50.062Z"
      },
      {
        "duration": 20,
        "start_time": "2023-02-07T19:57:50.067Z"
      },
      {
        "duration": 18,
        "start_time": "2023-02-07T19:57:50.088Z"
      },
      {
        "duration": 5,
        "start_time": "2023-02-07T19:57:50.107Z"
      },
      {
        "duration": 11,
        "start_time": "2023-02-07T19:57:50.114Z"
      },
      {
        "duration": 32,
        "start_time": "2023-02-07T19:57:50.126Z"
      },
      {
        "duration": 22,
        "start_time": "2023-02-07T19:57:50.160Z"
      },
      {
        "duration": 29,
        "start_time": "2023-02-07T19:57:50.184Z"
      },
      {
        "duration": 40,
        "start_time": "2023-02-07T19:57:50.215Z"
      },
      {
        "duration": 45,
        "start_time": "2023-02-08T17:56:15.017Z"
      },
      {
        "duration": 8,
        "start_time": "2023-02-08T17:56:40.049Z"
      },
      {
        "duration": 480,
        "start_time": "2023-02-08T17:57:09.070Z"
      },
      {
        "duration": 21,
        "start_time": "2023-02-08T17:57:09.552Z"
      },
      {
        "duration": 15,
        "start_time": "2023-02-08T17:57:09.575Z"
      },
      {
        "duration": 9,
        "start_time": "2023-02-08T17:57:09.593Z"
      },
      {
        "duration": 40,
        "start_time": "2023-02-08T17:57:09.604Z"
      },
      {
        "duration": 4,
        "start_time": "2023-02-08T17:57:09.646Z"
      },
      {
        "duration": 9,
        "start_time": "2023-02-08T17:57:09.652Z"
      },
      {
        "duration": 11,
        "start_time": "2023-02-08T17:57:09.663Z"
      },
      {
        "duration": 8,
        "start_time": "2023-02-08T17:57:09.675Z"
      },
      {
        "duration": 4,
        "start_time": "2023-02-08T17:57:09.687Z"
      },
      {
        "duration": 62,
        "start_time": "2023-02-08T17:57:09.692Z"
      },
      {
        "duration": 9,
        "start_time": "2023-02-08T17:57:09.755Z"
      },
      {
        "duration": 3,
        "start_time": "2023-02-08T17:57:09.765Z"
      },
      {
        "duration": 10,
        "start_time": "2023-02-08T17:57:09.770Z"
      },
      {
        "duration": 18,
        "start_time": "2023-02-08T17:57:09.782Z"
      },
      {
        "duration": 37,
        "start_time": "2023-02-08T17:57:09.801Z"
      },
      {
        "duration": 4,
        "start_time": "2023-02-08T17:57:09.839Z"
      },
      {
        "duration": 12,
        "start_time": "2023-02-08T17:57:09.844Z"
      },
      {
        "duration": 6,
        "start_time": "2023-02-08T17:57:09.857Z"
      },
      {
        "duration": 3,
        "start_time": "2023-02-08T17:57:09.864Z"
      },
      {
        "duration": 9,
        "start_time": "2023-02-08T17:57:09.869Z"
      },
      {
        "duration": 64,
        "start_time": "2023-02-08T17:57:09.880Z"
      },
      {
        "duration": 0,
        "start_time": "2023-02-08T17:57:09.946Z"
      },
      {
        "duration": 0,
        "start_time": "2023-02-08T17:57:09.947Z"
      },
      {
        "duration": 0,
        "start_time": "2023-02-08T17:57:09.948Z"
      },
      {
        "duration": 23,
        "start_time": "2023-02-08T17:57:47.657Z"
      },
      {
        "duration": 24,
        "start_time": "2023-02-08T17:58:12.681Z"
      },
      {
        "duration": 24,
        "start_time": "2023-02-08T17:58:31.217Z"
      }
    ],
    "colab": {
      "provenance": []
    },
    "kernelspec": {
      "display_name": "Python 3 (ipykernel)",
      "language": "python",
      "name": "python3"
    },
    "language_info": {
      "codemirror_mode": {
        "name": "ipython",
        "version": 3
      },
      "file_extension": ".py",
      "mimetype": "text/x-python",
      "name": "python",
      "nbconvert_exporter": "python",
      "pygments_lexer": "ipython3",
      "version": "3.9.5"
    },
    "toc": {
      "base_numbering": 1,
      "nav_menu": {},
      "number_sections": true,
      "sideBar": true,
      "skip_h1_title": true,
      "title_cell": "Table of Contents",
      "title_sidebar": "Contents",
      "toc_cell": false,
      "toc_position": {
        "height": "calc(100% - 180px)",
        "left": "10px",
        "top": "150px",
        "width": "366.188px"
      },
      "toc_section_display": true,
      "toc_window_display": true
    }
  },
  "nbformat": 4,
  "nbformat_minor": 5
}