{
  "cells": [
    {
      "cell_type": "markdown",
      "id": "183d86fc",
      "metadata": {
        "deletable": false,
        "editable": false,
        "id": "183d86fc"
      },
      "source": [
        "# Исследование надежности заемщиков\n"
      ]
    },
    {
      "cell_type": "markdown",
      "id": "45d9abe3",
      "metadata": {
        "deletable": false,
        "editable": false,
        "id": "45d9abe3"
      },
      "source": [
        "## Откройте таблицу и изучите общую информацию о данных"
      ]
    },
    {
      "cell_type": "markdown",
      "id": "b265302a",
      "metadata": {
        "deletable": false,
        "editable": false,
        "id": "b265302a"
      },
      "source": [
        "**Задание 1. Импортируйте библиотеку pandas. Считайте данные из csv-файла в датафрейм и сохраните в переменную `data`. Путь к файлу:** `/datasets/data.csv`"
      ]
    },
    {
      "cell_type": "code",
      "execution_count": null,
      "id": "43600065",
      "metadata": {
        "deletable": false,
        "id": "43600065"
      },
      "outputs": [],
      "source": [
        "import pandas as pd\n",
        "\n",
        "try:\n",
        "    data = pd.read_csv('/datasets/data.csv')\n",
        "except:\n",
        "    data = pd.read_csv('https://code.s3.yandex.net/datasets/data.csv')"
      ]
    },
    {
      "cell_type": "markdown",
      "id": "33c0010f",
      "metadata": {
        "deletable": false,
        "editable": false,
        "id": "33c0010f"
      },
      "source": [
        "**Задание 2. Выведите первые 20 строчек датафрейма `data` на экран.**"
      ]
    },
    {
      "cell_type": "code",
      "execution_count": null,
      "id": "abb8b01a",
      "metadata": {
        "deletable": false,
        "id": "abb8b01a",
        "outputId": "1a8f3ef2-d323-4ec2-ddf7-89670b5944c4"
      },
      "outputs": [
        {
          "data": {
            "text/html": [
              "<div>\n",
              "<style scoped>\n",
              "    .dataframe tbody tr th:only-of-type {\n",
              "        vertical-align: middle;\n",
              "    }\n",
              "\n",
              "    .dataframe tbody tr th {\n",
              "        vertical-align: top;\n",
              "    }\n",
              "\n",
              "    .dataframe thead th {\n",
              "        text-align: right;\n",
              "    }\n",
              "</style>\n",
              "<table border=\"1\" class=\"dataframe\">\n",
              "  <thead>\n",
              "    <tr style=\"text-align: right;\">\n",
              "      <th></th>\n",
              "      <th>children</th>\n",
              "      <th>days_employed</th>\n",
              "      <th>dob_years</th>\n",
              "      <th>education</th>\n",
              "      <th>education_id</th>\n",
              "      <th>family_status</th>\n",
              "      <th>family_status_id</th>\n",
              "      <th>gender</th>\n",
              "      <th>income_type</th>\n",
              "      <th>debt</th>\n",
              "      <th>total_income</th>\n",
              "      <th>purpose</th>\n",
              "    </tr>\n",
              "  </thead>\n",
              "  <tbody>\n",
              "    <tr>\n",
              "      <th>0</th>\n",
              "      <td>1</td>\n",
              "      <td>-8437.673028</td>\n",
              "      <td>42</td>\n",
              "      <td>высшее</td>\n",
              "      <td>0</td>\n",
              "      <td>женат / замужем</td>\n",
              "      <td>0</td>\n",
              "      <td>F</td>\n",
              "      <td>сотрудник</td>\n",
              "      <td>0</td>\n",
              "      <td>253875.639453</td>\n",
              "      <td>покупка жилья</td>\n",
              "    </tr>\n",
              "    <tr>\n",
              "      <th>1</th>\n",
              "      <td>1</td>\n",
              "      <td>-4024.803754</td>\n",
              "      <td>36</td>\n",
              "      <td>среднее</td>\n",
              "      <td>1</td>\n",
              "      <td>женат / замужем</td>\n",
              "      <td>0</td>\n",
              "      <td>F</td>\n",
              "      <td>сотрудник</td>\n",
              "      <td>0</td>\n",
              "      <td>112080.014102</td>\n",
              "      <td>приобретение автомобиля</td>\n",
              "    </tr>\n",
              "    <tr>\n",
              "      <th>2</th>\n",
              "      <td>0</td>\n",
              "      <td>-5623.422610</td>\n",
              "      <td>33</td>\n",
              "      <td>Среднее</td>\n",
              "      <td>1</td>\n",
              "      <td>женат / замужем</td>\n",
              "      <td>0</td>\n",
              "      <td>M</td>\n",
              "      <td>сотрудник</td>\n",
              "      <td>0</td>\n",
              "      <td>145885.952297</td>\n",
              "      <td>покупка жилья</td>\n",
              "    </tr>\n",
              "    <tr>\n",
              "      <th>3</th>\n",
              "      <td>3</td>\n",
              "      <td>-4124.747207</td>\n",
              "      <td>32</td>\n",
              "      <td>среднее</td>\n",
              "      <td>1</td>\n",
              "      <td>женат / замужем</td>\n",
              "      <td>0</td>\n",
              "      <td>M</td>\n",
              "      <td>сотрудник</td>\n",
              "      <td>0</td>\n",
              "      <td>267628.550329</td>\n",
              "      <td>дополнительное образование</td>\n",
              "    </tr>\n",
              "    <tr>\n",
              "      <th>4</th>\n",
              "      <td>0</td>\n",
              "      <td>340266.072047</td>\n",
              "      <td>53</td>\n",
              "      <td>среднее</td>\n",
              "      <td>1</td>\n",
              "      <td>гражданский брак</td>\n",
              "      <td>1</td>\n",
              "      <td>F</td>\n",
              "      <td>пенсионер</td>\n",
              "      <td>0</td>\n",
              "      <td>158616.077870</td>\n",
              "      <td>сыграть свадьбу</td>\n",
              "    </tr>\n",
              "    <tr>\n",
              "      <th>5</th>\n",
              "      <td>0</td>\n",
              "      <td>-926.185831</td>\n",
              "      <td>27</td>\n",
              "      <td>высшее</td>\n",
              "      <td>0</td>\n",
              "      <td>гражданский брак</td>\n",
              "      <td>1</td>\n",
              "      <td>M</td>\n",
              "      <td>компаньон</td>\n",
              "      <td>0</td>\n",
              "      <td>255763.565419</td>\n",
              "      <td>покупка жилья</td>\n",
              "    </tr>\n",
              "    <tr>\n",
              "      <th>6</th>\n",
              "      <td>0</td>\n",
              "      <td>-2879.202052</td>\n",
              "      <td>43</td>\n",
              "      <td>высшее</td>\n",
              "      <td>0</td>\n",
              "      <td>женат / замужем</td>\n",
              "      <td>0</td>\n",
              "      <td>F</td>\n",
              "      <td>компаньон</td>\n",
              "      <td>0</td>\n",
              "      <td>240525.971920</td>\n",
              "      <td>операции с жильем</td>\n",
              "    </tr>\n",
              "    <tr>\n",
              "      <th>7</th>\n",
              "      <td>0</td>\n",
              "      <td>-152.779569</td>\n",
              "      <td>50</td>\n",
              "      <td>СРЕДНЕЕ</td>\n",
              "      <td>1</td>\n",
              "      <td>женат / замужем</td>\n",
              "      <td>0</td>\n",
              "      <td>M</td>\n",
              "      <td>сотрудник</td>\n",
              "      <td>0</td>\n",
              "      <td>135823.934197</td>\n",
              "      <td>образование</td>\n",
              "    </tr>\n",
              "    <tr>\n",
              "      <th>8</th>\n",
              "      <td>2</td>\n",
              "      <td>-6929.865299</td>\n",
              "      <td>35</td>\n",
              "      <td>ВЫСШЕЕ</td>\n",
              "      <td>0</td>\n",
              "      <td>гражданский брак</td>\n",
              "      <td>1</td>\n",
              "      <td>F</td>\n",
              "      <td>сотрудник</td>\n",
              "      <td>0</td>\n",
              "      <td>95856.832424</td>\n",
              "      <td>на проведение свадьбы</td>\n",
              "    </tr>\n",
              "    <tr>\n",
              "      <th>9</th>\n",
              "      <td>0</td>\n",
              "      <td>-2188.756445</td>\n",
              "      <td>41</td>\n",
              "      <td>среднее</td>\n",
              "      <td>1</td>\n",
              "      <td>женат / замужем</td>\n",
              "      <td>0</td>\n",
              "      <td>M</td>\n",
              "      <td>сотрудник</td>\n",
              "      <td>0</td>\n",
              "      <td>144425.938277</td>\n",
              "      <td>покупка жилья для семьи</td>\n",
              "    </tr>\n",
              "    <tr>\n",
              "      <th>10</th>\n",
              "      <td>2</td>\n",
              "      <td>-4171.483647</td>\n",
              "      <td>36</td>\n",
              "      <td>высшее</td>\n",
              "      <td>0</td>\n",
              "      <td>женат / замужем</td>\n",
              "      <td>0</td>\n",
              "      <td>M</td>\n",
              "      <td>компаньон</td>\n",
              "      <td>0</td>\n",
              "      <td>113943.491460</td>\n",
              "      <td>покупка недвижимости</td>\n",
              "    </tr>\n",
              "    <tr>\n",
              "      <th>11</th>\n",
              "      <td>0</td>\n",
              "      <td>-792.701887</td>\n",
              "      <td>40</td>\n",
              "      <td>среднее</td>\n",
              "      <td>1</td>\n",
              "      <td>женат / замужем</td>\n",
              "      <td>0</td>\n",
              "      <td>F</td>\n",
              "      <td>сотрудник</td>\n",
              "      <td>0</td>\n",
              "      <td>77069.234271</td>\n",
              "      <td>покупка коммерческой недвижимости</td>\n",
              "    </tr>\n",
              "    <tr>\n",
              "      <th>12</th>\n",
              "      <td>0</td>\n",
              "      <td>NaN</td>\n",
              "      <td>65</td>\n",
              "      <td>среднее</td>\n",
              "      <td>1</td>\n",
              "      <td>гражданский брак</td>\n",
              "      <td>1</td>\n",
              "      <td>M</td>\n",
              "      <td>пенсионер</td>\n",
              "      <td>0</td>\n",
              "      <td>NaN</td>\n",
              "      <td>сыграть свадьбу</td>\n",
              "    </tr>\n",
              "    <tr>\n",
              "      <th>13</th>\n",
              "      <td>0</td>\n",
              "      <td>-1846.641941</td>\n",
              "      <td>54</td>\n",
              "      <td>неоконченное высшее</td>\n",
              "      <td>2</td>\n",
              "      <td>женат / замужем</td>\n",
              "      <td>0</td>\n",
              "      <td>F</td>\n",
              "      <td>сотрудник</td>\n",
              "      <td>0</td>\n",
              "      <td>130458.228857</td>\n",
              "      <td>приобретение автомобиля</td>\n",
              "    </tr>\n",
              "    <tr>\n",
              "      <th>14</th>\n",
              "      <td>0</td>\n",
              "      <td>-1844.956182</td>\n",
              "      <td>56</td>\n",
              "      <td>высшее</td>\n",
              "      <td>0</td>\n",
              "      <td>гражданский брак</td>\n",
              "      <td>1</td>\n",
              "      <td>F</td>\n",
              "      <td>компаньон</td>\n",
              "      <td>1</td>\n",
              "      <td>165127.911772</td>\n",
              "      <td>покупка жилой недвижимости</td>\n",
              "    </tr>\n",
              "    <tr>\n",
              "      <th>15</th>\n",
              "      <td>1</td>\n",
              "      <td>-972.364419</td>\n",
              "      <td>26</td>\n",
              "      <td>среднее</td>\n",
              "      <td>1</td>\n",
              "      <td>женат / замужем</td>\n",
              "      <td>0</td>\n",
              "      <td>F</td>\n",
              "      <td>сотрудник</td>\n",
              "      <td>0</td>\n",
              "      <td>116820.904450</td>\n",
              "      <td>строительство собственной недвижимости</td>\n",
              "    </tr>\n",
              "    <tr>\n",
              "      <th>16</th>\n",
              "      <td>0</td>\n",
              "      <td>-1719.934226</td>\n",
              "      <td>35</td>\n",
              "      <td>среднее</td>\n",
              "      <td>1</td>\n",
              "      <td>женат / замужем</td>\n",
              "      <td>0</td>\n",
              "      <td>F</td>\n",
              "      <td>сотрудник</td>\n",
              "      <td>0</td>\n",
              "      <td>289202.704229</td>\n",
              "      <td>недвижимость</td>\n",
              "    </tr>\n",
              "    <tr>\n",
              "      <th>17</th>\n",
              "      <td>0</td>\n",
              "      <td>-2369.999720</td>\n",
              "      <td>33</td>\n",
              "      <td>высшее</td>\n",
              "      <td>0</td>\n",
              "      <td>гражданский брак</td>\n",
              "      <td>1</td>\n",
              "      <td>M</td>\n",
              "      <td>сотрудник</td>\n",
              "      <td>0</td>\n",
              "      <td>90410.586745</td>\n",
              "      <td>строительство недвижимости</td>\n",
              "    </tr>\n",
              "    <tr>\n",
              "      <th>18</th>\n",
              "      <td>0</td>\n",
              "      <td>400281.136913</td>\n",
              "      <td>53</td>\n",
              "      <td>среднее</td>\n",
              "      <td>1</td>\n",
              "      <td>вдовец / вдова</td>\n",
              "      <td>2</td>\n",
              "      <td>F</td>\n",
              "      <td>пенсионер</td>\n",
              "      <td>0</td>\n",
              "      <td>56823.777243</td>\n",
              "      <td>на покупку подержанного автомобиля</td>\n",
              "    </tr>\n",
              "    <tr>\n",
              "      <th>19</th>\n",
              "      <td>0</td>\n",
              "      <td>-10038.818549</td>\n",
              "      <td>48</td>\n",
              "      <td>СРЕДНЕЕ</td>\n",
              "      <td>1</td>\n",
              "      <td>в разводе</td>\n",
              "      <td>3</td>\n",
              "      <td>F</td>\n",
              "      <td>сотрудник</td>\n",
              "      <td>0</td>\n",
              "      <td>242831.107982</td>\n",
              "      <td>на покупку своего автомобиля</td>\n",
              "    </tr>\n",
              "  </tbody>\n",
              "</table>\n",
              "</div>"
            ],
            "text/plain": [
              "    children  days_employed  dob_years            education  education_id  \\\n",
              "0          1   -8437.673028         42               высшее             0   \n",
              "1          1   -4024.803754         36              среднее             1   \n",
              "2          0   -5623.422610         33              Среднее             1   \n",
              "3          3   -4124.747207         32              среднее             1   \n",
              "4          0  340266.072047         53              среднее             1   \n",
              "5          0    -926.185831         27               высшее             0   \n",
              "6          0   -2879.202052         43               высшее             0   \n",
              "7          0    -152.779569         50              СРЕДНЕЕ             1   \n",
              "8          2   -6929.865299         35               ВЫСШЕЕ             0   \n",
              "9          0   -2188.756445         41              среднее             1   \n",
              "10         2   -4171.483647         36               высшее             0   \n",
              "11         0    -792.701887         40              среднее             1   \n",
              "12         0            NaN         65              среднее             1   \n",
              "13         0   -1846.641941         54  неоконченное высшее             2   \n",
              "14         0   -1844.956182         56               высшее             0   \n",
              "15         1    -972.364419         26              среднее             1   \n",
              "16         0   -1719.934226         35              среднее             1   \n",
              "17         0   -2369.999720         33               высшее             0   \n",
              "18         0  400281.136913         53              среднее             1   \n",
              "19         0  -10038.818549         48              СРЕДНЕЕ             1   \n",
              "\n",
              "       family_status  family_status_id gender income_type  debt  \\\n",
              "0    женат / замужем                 0      F   сотрудник     0   \n",
              "1    женат / замужем                 0      F   сотрудник     0   \n",
              "2    женат / замужем                 0      M   сотрудник     0   \n",
              "3    женат / замужем                 0      M   сотрудник     0   \n",
              "4   гражданский брак                 1      F   пенсионер     0   \n",
              "5   гражданский брак                 1      M   компаньон     0   \n",
              "6    женат / замужем                 0      F   компаньон     0   \n",
              "7    женат / замужем                 0      M   сотрудник     0   \n",
              "8   гражданский брак                 1      F   сотрудник     0   \n",
              "9    женат / замужем                 0      M   сотрудник     0   \n",
              "10   женат / замужем                 0      M   компаньон     0   \n",
              "11   женат / замужем                 0      F   сотрудник     0   \n",
              "12  гражданский брак                 1      M   пенсионер     0   \n",
              "13   женат / замужем                 0      F   сотрудник     0   \n",
              "14  гражданский брак                 1      F   компаньон     1   \n",
              "15   женат / замужем                 0      F   сотрудник     0   \n",
              "16   женат / замужем                 0      F   сотрудник     0   \n",
              "17  гражданский брак                 1      M   сотрудник     0   \n",
              "18    вдовец / вдова                 2      F   пенсионер     0   \n",
              "19         в разводе                 3      F   сотрудник     0   \n",
              "\n",
              "     total_income                                 purpose  \n",
              "0   253875.639453                           покупка жилья  \n",
              "1   112080.014102                 приобретение автомобиля  \n",
              "2   145885.952297                           покупка жилья  \n",
              "3   267628.550329              дополнительное образование  \n",
              "4   158616.077870                         сыграть свадьбу  \n",
              "5   255763.565419                           покупка жилья  \n",
              "6   240525.971920                       операции с жильем  \n",
              "7   135823.934197                             образование  \n",
              "8    95856.832424                   на проведение свадьбы  \n",
              "9   144425.938277                 покупка жилья для семьи  \n",
              "10  113943.491460                    покупка недвижимости  \n",
              "11   77069.234271       покупка коммерческой недвижимости  \n",
              "12            NaN                         сыграть свадьбу  \n",
              "13  130458.228857                 приобретение автомобиля  \n",
              "14  165127.911772              покупка жилой недвижимости  \n",
              "15  116820.904450  строительство собственной недвижимости  \n",
              "16  289202.704229                            недвижимость  \n",
              "17   90410.586745              строительство недвижимости  \n",
              "18   56823.777243      на покупку подержанного автомобиля  \n",
              "19  242831.107982            на покупку своего автомобиля  "
            ]
          },
          "execution_count": 4,
          "metadata": {},
          "output_type": "execute_result"
        }
      ],
      "source": [
        "data.head(20)"
      ]
    },
    {
      "cell_type": "markdown",
      "id": "70c52add",
      "metadata": {
        "deletable": false,
        "editable": false,
        "id": "70c52add"
      },
      "source": [
        "**Задание 3. Выведите основную информацию о датафрейме с помощью метода `info()`.**"
      ]
    },
    {
      "cell_type": "code",
      "execution_count": null,
      "id": "29f8cb72",
      "metadata": {
        "deletable": false,
        "id": "29f8cb72",
        "outputId": "15376089-8dad-46c9-b520-c05248d43158"
      },
      "outputs": [
        {
          "name": "stdout",
          "output_type": "stream",
          "text": [
            "<class 'pandas.core.frame.DataFrame'>\n",
            "RangeIndex: 21525 entries, 0 to 21524\n",
            "Data columns (total 12 columns):\n",
            " #   Column            Non-Null Count  Dtype  \n",
            "---  ------            --------------  -----  \n",
            " 0   children          21525 non-null  int64  \n",
            " 1   days_employed     19351 non-null  float64\n",
            " 2   dob_years         21525 non-null  int64  \n",
            " 3   education         21525 non-null  object \n",
            " 4   education_id      21525 non-null  int64  \n",
            " 5   family_status     21525 non-null  object \n",
            " 6   family_status_id  21525 non-null  int64  \n",
            " 7   gender            21525 non-null  object \n",
            " 8   income_type       21525 non-null  object \n",
            " 9   debt              21525 non-null  int64  \n",
            " 10  total_income      19351 non-null  float64\n",
            " 11  purpose           21525 non-null  object \n",
            "dtypes: float64(2), int64(5), object(5)\n",
            "memory usage: 2.0+ MB\n"
          ]
        }
      ],
      "source": [
        "data.info()"
      ]
    },
    {
      "cell_type": "markdown",
      "id": "b97d8d5e",
      "metadata": {
        "deletable": false,
        "editable": false,
        "id": "b97d8d5e"
      },
      "source": [
        "## Предобработка данных"
      ]
    },
    {
      "cell_type": "markdown",
      "id": "6dbc300e",
      "metadata": {
        "deletable": false,
        "editable": false,
        "id": "6dbc300e"
      },
      "source": [
        "### Удаление пропусков"
      ]
    },
    {
      "cell_type": "markdown",
      "id": "45c69c10",
      "metadata": {
        "deletable": false,
        "editable": false,
        "id": "45c69c10"
      },
      "source": [
        "**Задание 4. Выведите количество пропущенных значений для каждого столбца. Используйте комбинацию двух методов.**"
      ]
    },
    {
      "cell_type": "code",
      "execution_count": null,
      "id": "0635c197",
      "metadata": {
        "deletable": false,
        "id": "0635c197",
        "outputId": "81f4d817-781c-465c-ed15-91ce4446810d"
      },
      "outputs": [
        {
          "data": {
            "text/plain": [
              "children               0\n",
              "days_employed       2174\n",
              "dob_years              0\n",
              "education              0\n",
              "education_id           0\n",
              "family_status          0\n",
              "family_status_id       0\n",
              "gender                 0\n",
              "income_type            0\n",
              "debt                   0\n",
              "total_income        2174\n",
              "purpose                0\n",
              "dtype: int64"
            ]
          },
          "execution_count": 6,
          "metadata": {},
          "output_type": "execute_result"
        }
      ],
      "source": [
        "data.isna().sum()"
      ]
    },
    {
      "cell_type": "markdown",
      "id": "5db75b58",
      "metadata": {
        "deletable": false,
        "editable": false,
        "id": "5db75b58"
      },
      "source": [
        "**Задание 5. В двух столбцах есть пропущенные значения. Один из них — `days_employed`. Пропуски в этом столбце вы обработаете на следующем этапе. Другой столбец с пропущенными значениями — `total_income` — хранит данные о доходах. На сумму дохода сильнее всего влияет тип занятости, поэтому заполнить пропуски в этом столбце нужно медианным значением по каждому типу из столбца `income_type`. Например, у человека с типом занятости `сотрудник` пропуск в столбце `total_income` должен быть заполнен медианным доходом среди всех записей с тем же типом.**"
      ]
    },
    {
      "cell_type": "code",
      "execution_count": null,
      "id": "bb1a129f",
      "metadata": {
        "deletable": false,
        "id": "bb1a129f"
      },
      "outputs": [],
      "source": [
        "for t in data['income_type'].unique():\n",
        "    data.loc[(data['income_type'] == t) & (data['total_income'].isna()), 'total_income'] = \\\n",
        "    data.loc[(data['income_type'] == t), 'total_income'].median()"
      ]
    },
    {
      "cell_type": "markdown",
      "id": "46dc2aa2",
      "metadata": {
        "deletable": false,
        "editable": false,
        "id": "46dc2aa2"
      },
      "source": [
        "### Обработка аномальных значений"
      ]
    },
    {
      "cell_type": "markdown",
      "id": "92a93eed",
      "metadata": {
        "deletable": false,
        "editable": false,
        "id": "92a93eed"
      },
      "source": [
        "**Задание 6. В данных могут встречаться артефакты (аномалии) — значения, которые не отражают действительность и появились по какой-то ошибке. таким артефактом будет отрицательное количество дней трудового стажа в столбце `days_employed`. Для реальных данных это нормально. Обработайте значения в этом столбце: замените все отрицательные значения положительными с помощью метода `abs()`.**"
      ]
    },
    {
      "cell_type": "code",
      "execution_count": null,
      "id": "973a155c",
      "metadata": {
        "deletable": false,
        "id": "973a155c"
      },
      "outputs": [],
      "source": [
        "data['days_employed'] = data['days_employed'].abs()"
      ]
    },
    {
      "cell_type": "markdown",
      "id": "0fd5838c",
      "metadata": {
        "deletable": false,
        "editable": false,
        "id": "0fd5838c"
      },
      "source": [
        "**Задание 7. Для каждого типа занятости выведите медианное значение трудового стажа `days_employed` в днях.**"
      ]
    },
    {
      "cell_type": "code",
      "execution_count": null,
      "id": "ed6d6d8a",
      "metadata": {
        "deletable": false,
        "id": "ed6d6d8a",
        "outputId": "801ef80e-522b-4668-f34e-565af7432bcf"
      },
      "outputs": [
        {
          "data": {
            "text/plain": [
              "income_type\n",
              "безработный        366413.652744\n",
              "в декрете            3296.759962\n",
              "госслужащий          2689.368353\n",
              "компаньон            1547.382223\n",
              "пенсионер          365213.306266\n",
              "предприниматель       520.848083\n",
              "сотрудник            1574.202821\n",
              "студент               578.751554\n",
              "Name: days_employed, dtype: float64"
            ]
          },
          "execution_count": 9,
          "metadata": {},
          "output_type": "execute_result"
        }
      ],
      "source": [
        "data.groupby('income_type')['days_employed'].agg('median')"
      ]
    },
    {
      "cell_type": "markdown",
      "id": "dbbabd4a",
      "metadata": {
        "deletable": false,
        "editable": false,
        "id": "dbbabd4a"
      },
      "source": [
        "У двух типов (безработные и пенсионеры) получатся аномально большие значения. Исправить такие значения сложно, поэтому оставьте их как есть. Тем более этот столбец не понадобится вам для исследования."
      ]
    },
    {
      "cell_type": "markdown",
      "id": "5e366aa4",
      "metadata": {
        "deletable": false,
        "editable": false,
        "id": "5e366aa4"
      },
      "source": [
        "**Задание 8. Выведите перечень уникальных значений столбца `children`.**"
      ]
    },
    {
      "cell_type": "code",
      "execution_count": null,
      "id": "45be36d9",
      "metadata": {
        "deletable": false,
        "id": "45be36d9",
        "outputId": "6975b15c-7f95-4697-d16d-a0c79b657b03"
      },
      "outputs": [
        {
          "data": {
            "text/plain": [
              "array([ 1,  0,  3,  2, -1,  4, 20,  5])"
            ]
          },
          "execution_count": 10,
          "metadata": {},
          "output_type": "execute_result"
        }
      ],
      "source": [
        "data['children'].unique()"
      ]
    },
    {
      "cell_type": "markdown",
      "id": "414cc8dd",
      "metadata": {
        "deletable": false,
        "editable": false,
        "id": "414cc8dd"
      },
      "source": [
        "**Задание 9. В столбце `children` есть два аномальных значения. Удалите строки, в которых встречаются такие аномальные значения из датафрейма `data`.**"
      ]
    },
    {
      "cell_type": "code",
      "execution_count": null,
      "id": "3e62cdc3",
      "metadata": {
        "deletable": false,
        "id": "3e62cdc3"
      },
      "outputs": [],
      "source": [
        "data = data[(data['children'] != -1) & (data['children'] != 20)]"
      ]
    },
    {
      "cell_type": "markdown",
      "id": "ed448b44",
      "metadata": {
        "deletable": false,
        "editable": false,
        "id": "ed448b44"
      },
      "source": [
        "**Задание 10. Ещё раз выведите перечень уникальных значений столбца `children`, чтобы убедиться, что артефакты удалены.**"
      ]
    },
    {
      "cell_type": "code",
      "execution_count": null,
      "id": "848d4165",
      "metadata": {
        "deletable": false,
        "id": "848d4165",
        "outputId": "b2097101-d49d-44d9-901b-32a65c9463d1"
      },
      "outputs": [
        {
          "data": {
            "text/plain": [
              "array([1, 0, 3, 2, 4, 5])"
            ]
          },
          "execution_count": 12,
          "metadata": {},
          "output_type": "execute_result"
        }
      ],
      "source": [
        "data['children'].unique()"
      ]
    },
    {
      "cell_type": "markdown",
      "id": "20e19d55",
      "metadata": {
        "deletable": false,
        "editable": false,
        "id": "20e19d55"
      },
      "source": [
        "### Удаление пропусков (продолжение)"
      ]
    },
    {
      "cell_type": "markdown",
      "id": "c96cebed",
      "metadata": {
        "deletable": false,
        "editable": false,
        "id": "c96cebed"
      },
      "source": [
        "**Задание 11. Заполните пропуски в столбце `days_employed` медианными значениями по каждого типа занятости `income_type`.**"
      ]
    },
    {
      "cell_type": "code",
      "execution_count": null,
      "id": "2b0328a0",
      "metadata": {
        "deletable": false,
        "id": "2b0328a0"
      },
      "outputs": [],
      "source": [
        "for t in data['income_type'].unique():\n",
        "    data.loc[(data['income_type'] == t) & (data['days_employed'].isna()), 'days_employed'] = \\\n",
        "    data.loc[(data['income_type'] == t), 'days_employed'].median()"
      ]
    },
    {
      "cell_type": "markdown",
      "id": "ab0ee937",
      "metadata": {
        "deletable": false,
        "editable": false,
        "id": "ab0ee937"
      },
      "source": [
        "**Задание 12. Убедитесь, что все пропуски заполнены. Проверьте себя и ещё раз выведите количество пропущенных значений для каждого столбца с помощью двух методов.**"
      ]
    },
    {
      "cell_type": "code",
      "execution_count": null,
      "id": "d98f281c",
      "metadata": {
        "deletable": false,
        "id": "d98f281c",
        "outputId": "8da1e4e1-358e-4e87-98c9-f261bce0a7b2"
      },
      "outputs": [
        {
          "data": {
            "text/plain": [
              "children            0\n",
              "days_employed       0\n",
              "dob_years           0\n",
              "education           0\n",
              "education_id        0\n",
              "family_status       0\n",
              "family_status_id    0\n",
              "gender              0\n",
              "income_type         0\n",
              "debt                0\n",
              "total_income        0\n",
              "purpose             0\n",
              "dtype: int64"
            ]
          },
          "execution_count": 14,
          "metadata": {},
          "output_type": "execute_result"
        }
      ],
      "source": [
        "data.isna().sum()"
      ]
    },
    {
      "cell_type": "markdown",
      "id": "48a57ad0",
      "metadata": {
        "deletable": false,
        "editable": false,
        "id": "48a57ad0"
      },
      "source": [
        "### Изменение типов данных"
      ]
    },
    {
      "cell_type": "markdown",
      "id": "940a3342",
      "metadata": {
        "deletable": false,
        "editable": false,
        "id": "940a3342"
      },
      "source": [
        "**Задание 13. Замените вещественный тип данных в столбце `total_income` на целочисленный с помощью метода `astype()`.**"
      ]
    },
    {
      "cell_type": "code",
      "execution_count": null,
      "id": "e3821775",
      "metadata": {
        "deletable": false,
        "id": "e3821775"
      },
      "outputs": [],
      "source": [
        "data['total_income'] = data['total_income'].astype(int)"
      ]
    },
    {
      "cell_type": "markdown",
      "id": "6a7ec5d2",
      "metadata": {
        "deletable": false,
        "editable": false,
        "id": "6a7ec5d2"
      },
      "source": [
        "### Обработка дубликатов"
      ]
    },
    {
      "cell_type": "markdown",
      "id": "b0380d79",
      "metadata": {
        "deletable": false,
        "editable": false,
        "id": "b0380d79"
      },
      "source": [
        "**Задание 14. Обработайте неявные дубликаты в столбце `education`. В этом столбце есть одни и те же значения, но записанные по-разному: с использованием заглавных и строчных букв. Приведите их к нижнему регистру. Проверьте остальные столбцы.**"
      ]
    },
    {
      "cell_type": "code",
      "execution_count": null,
      "id": "5a8e6cc6",
      "metadata": {
        "deletable": false,
        "id": "5a8e6cc6"
      },
      "outputs": [],
      "source": [
        "data['education'] = data['education'].str.lower()"
      ]
    },
    {
      "cell_type": "markdown",
      "id": "2dcdf4c7",
      "metadata": {
        "deletable": false,
        "editable": false,
        "id": "2dcdf4c7"
      },
      "source": [
        "**Задание 15. Выведите на экран количество строк-дубликатов в данных. Если такие строки присутствуют, удалите их.**"
      ]
    },
    {
      "cell_type": "code",
      "execution_count": null,
      "id": "66284a05",
      "metadata": {
        "deletable": false,
        "id": "66284a05",
        "outputId": "9684deba-1934-42d1-99e1-cda61740f822"
      },
      "outputs": [
        {
          "data": {
            "text/plain": [
              "71"
            ]
          },
          "execution_count": 17,
          "metadata": {},
          "output_type": "execute_result"
        }
      ],
      "source": [
        "data.duplicated().sum()"
      ]
    },
    {
      "cell_type": "code",
      "execution_count": null,
      "id": "ff612e5f",
      "metadata": {
        "deletable": false,
        "id": "ff612e5f"
      },
      "outputs": [],
      "source": [
        "data = data.drop_duplicates()"
      ]
    },
    {
      "cell_type": "markdown",
      "id": "459d77b2",
      "metadata": {
        "deletable": false,
        "editable": false,
        "id": "459d77b2"
      },
      "source": [
        "### Категоризация данных"
      ]
    },
    {
      "cell_type": "markdown",
      "id": "84534f8c",
      "metadata": {
        "deletable": false,
        "editable": false,
        "id": "84534f8c"
      },
      "source": [
        "**Задание 16. На основании диапазонов, указанных ниже, создайте в датафрейме `data` столбец `total_income_category` с категориями:**\n",
        "\n",
        "- 0–30000 — `'E'`;\n",
        "- 30001–50000 — `'D'`;\n",
        "- 50001–200000 — `'C'`;\n",
        "- 200001–1000000 — `'B'`;\n",
        "- 1000001 и выше — `'A'`.\n",
        "\n",
        "\n",
        "**Например, кредитополучателю с доходом 25000 нужно назначить категорию `'E'`, а клиенту, получающему 235000, — `'B'`. Используйте собственную функцию с именем `categorize_income()` и метод `apply()`.**"
      ]
    },
    {
      "cell_type": "code",
      "execution_count": null,
      "id": "50d0a214",
      "metadata": {
        "deletable": false,
        "id": "50d0a214"
      },
      "outputs": [],
      "source": [
        "def categorize_income(income):\n",
        "    try:\n",
        "        if 0 <= income <= 30000:\n",
        "            return 'E (до 30 000)'\n",
        "        elif 30001 <= income <= 50000:\n",
        "            return 'D (от 30 001 до 50 000)'\n",
        "        elif 50001 <= income <= 200000:\n",
        "            return 'C (от 50 001 до 200 000)'\n",
        "        elif 200001 <= income <= 1000000:\n",
        "            return 'B (от 200 001 до 1 000 000)'\n",
        "        elif income >= 1000001:\n",
        "            return 'A (свыше 1 000 000)'\n",
        "    except:\n",
        "        pass"
      ]
    },
    {
      "cell_type": "code",
      "execution_count": null,
      "id": "e094dbd0",
      "metadata": {
        "deletable": false,
        "id": "e094dbd0"
      },
      "outputs": [],
      "source": [
        "data['total_income_category'] = data['total_income'].apply(categorize_income)"
      ]
    },
    {
      "cell_type": "markdown",
      "id": "2a52b029",
      "metadata": {
        "deletable": false,
        "editable": false,
        "id": "2a52b029"
      },
      "source": [
        "**Задание 17. Выведите на экран перечень уникальных целей взятия кредита из столбца `purpose`.**"
      ]
    },
    {
      "cell_type": "code",
      "execution_count": null,
      "id": "9aa3b9aa",
      "metadata": {
        "deletable": false,
        "id": "9aa3b9aa",
        "outputId": "673c12d9-7d7e-4ae0-9812-c622c89dd244"
      },
      "outputs": [
        {
          "data": {
            "text/plain": [
              "array(['покупка жилья', 'приобретение автомобиля',\n",
              "       'дополнительное образование', 'сыграть свадьбу',\n",
              "       'операции с жильем', 'образование', 'на проведение свадьбы',\n",
              "       'покупка жилья для семьи', 'покупка недвижимости',\n",
              "       'покупка коммерческой недвижимости', 'покупка жилой недвижимости',\n",
              "       'строительство собственной недвижимости', 'недвижимость',\n",
              "       'строительство недвижимости', 'на покупку подержанного автомобиля',\n",
              "       'на покупку своего автомобиля',\n",
              "       'операции с коммерческой недвижимостью',\n",
              "       'строительство жилой недвижимости', 'жилье',\n",
              "       'операции со своей недвижимостью', 'автомобили',\n",
              "       'заняться образованием', 'сделка с подержанным автомобилем',\n",
              "       'получение образования', 'автомобиль', 'свадьба',\n",
              "       'получение дополнительного образования', 'покупка своего жилья',\n",
              "       'операции с недвижимостью', 'получение высшего образования',\n",
              "       'свой автомобиль', 'сделка с автомобилем',\n",
              "       'профильное образование', 'высшее образование',\n",
              "       'покупка жилья для сдачи', 'на покупку автомобиля', 'ремонт жилью',\n",
              "       'заняться высшим образованием'], dtype=object)"
            ]
          },
          "execution_count": 21,
          "metadata": {},
          "output_type": "execute_result"
        }
      ],
      "source": [
        "data['purpose'].unique()"
      ]
    },
    {
      "cell_type": "markdown",
      "id": "28227580",
      "metadata": {
        "deletable": false,
        "editable": false,
        "id": "28227580"
      },
      "source": [
        "**Задание 18. Создайте функцию, которая на основании данных из столбца `purpose` сформирует новый столбец `purpose_category`, в который войдут следующие категории:**\n",
        "\n",
        "- `'операции с автомобилем'`,\n",
        "- `'операции с недвижимостью'`,\n",
        "- `'проведение свадьбы'`,\n",
        "- `'получение образования'`.\n",
        "\n",
        "**Например, если в столбце `purpose` находится подстрока `'на покупку автомобиля'`, то в столбце `purpose_category` должна появиться строка `'операции с автомобилем'`.**\n",
        "\n",
        "**Используйте собственную функцию с именем `categorize_purpose()` и метод `apply()`. Изучите данные в столбце `purpose` и определите, какие подстроки помогут вам правильно определить категорию.**"
      ]
    },
    {
      "cell_type": "code",
      "execution_count": null,
      "id": "f6cdcc8a",
      "metadata": {
        "deletable": false,
        "id": "f6cdcc8a"
      },
      "outputs": [],
      "source": [
        "def categorize_purpose(row):\n",
        "    try:\n",
        "        if 'автом' in row:\n",
        "            return 'операции с автомобилем'\n",
        "        elif 'жил' in row or 'недвиж' in row:\n",
        "            return 'операции с недвижимостью'\n",
        "        elif 'свад' in row:\n",
        "            return 'проведение свадьбы'\n",
        "        elif 'образов' in row:\n",
        "            return 'получение образования'\n",
        "    except:\n",
        "        return 'нет категории'"
      ]
    },
    {
      "cell_type": "code",
      "execution_count": null,
      "id": "06cb1bb7",
      "metadata": {
        "deletable": false,
        "id": "06cb1bb7"
      },
      "outputs": [],
      "source": [
        "data['purpose_category'] = data['purpose'].apply(categorize_purpose)"
      ]
    },
    {
      "cell_type": "markdown",
      "id": "41173aea",
      "metadata": {
        "deletable": false,
        "editable": false,
        "id": "41173aea"
      },
      "source": [
        "#### Есть ли зависимость между количеством детей и возвратом кредита в срок?"
      ]
    },
    {
      "cell_type": "code",
      "execution_count": null,
      "id": "134ed621",
      "metadata": {
        "deletable": false,
        "id": "134ed621",
        "outputId": "33c46ca0-61d3-4247-921d-15c33839df42"
      },
      "outputs": [
        {
          "data": {
            "text/html": [
              "<div>\n",
              "<style scoped>\n",
              "    .dataframe tbody tr th:only-of-type {\n",
              "        vertical-align: middle;\n",
              "    }\n",
              "\n",
              "    .dataframe tbody tr th {\n",
              "        vertical-align: top;\n",
              "    }\n",
              "\n",
              "    .dataframe thead tr th {\n",
              "        text-align: left;\n",
              "    }\n",
              "\n",
              "    .dataframe thead tr:last-of-type th {\n",
              "        text-align: right;\n",
              "    }\n",
              "</style>\n",
              "<table border=\"1\" class=\"dataframe\">\n",
              "  <thead>\n",
              "    <tr>\n",
              "      <th></th>\n",
              "      <th>count</th>\n",
              "      <th>mean</th>\n",
              "    </tr>\n",
              "    <tr>\n",
              "      <th></th>\n",
              "      <th>debt</th>\n",
              "      <th>debt</th>\n",
              "    </tr>\n",
              "    <tr>\n",
              "      <th>children</th>\n",
              "      <th></th>\n",
              "      <th></th>\n",
              "    </tr>\n",
              "  </thead>\n",
              "  <tbody>\n",
              "    <tr>\n",
              "      <th>0</th>\n",
              "      <td>14091</td>\n",
              "      <td>7.54</td>\n",
              "    </tr>\n",
              "    <tr>\n",
              "      <th>1</th>\n",
              "      <td>4808</td>\n",
              "      <td>9.23</td>\n",
              "    </tr>\n",
              "    <tr>\n",
              "      <th>2</th>\n",
              "      <td>2052</td>\n",
              "      <td>9.45</td>\n",
              "    </tr>\n",
              "    <tr>\n",
              "      <th>3</th>\n",
              "      <td>330</td>\n",
              "      <td>8.18</td>\n",
              "    </tr>\n",
              "    <tr>\n",
              "      <th>4</th>\n",
              "      <td>41</td>\n",
              "      <td>9.76</td>\n",
              "    </tr>\n",
              "    <tr>\n",
              "      <th>5</th>\n",
              "      <td>9</td>\n",
              "      <td>0.00</td>\n",
              "    </tr>\n",
              "  </tbody>\n",
              "</table>\n",
              "</div>"
            ],
            "text/plain": [
              "          count  mean\n",
              "           debt  debt\n",
              "children             \n",
              "0         14091  7.54\n",
              "1          4808  9.23\n",
              "2          2052  9.45\n",
              "3           330  8.18\n",
              "4            41  9.76\n",
              "5             9  0.00"
            ]
          },
          "metadata": {},
          "output_type": "display_data"
        }
      ],
      "source": [
        "# Сгруппируем данные методом сводных таблиц по количеству детей, в столбцах рассчитаем количество выданных кредитов заемщикам,\n",
        "# с соответствующим количеством детей и, сразу, долю кредиов с просрочкой.\n",
        "# Вывод доли кредитов с просрочкой отформатируем: округлим до 4 знаков после запятой и умножим на 100.\n",
        "\n",
        "result_3_1 = pd.pivot_table(data,index=['children'],values =['debt'], aggfunc=['count','mean'])\n",
        "result_3_1[( 'mean', 'debt')]=result_3_1[( 'mean', 'debt')].round(4)*100\n",
        "\n",
        "display(result_3_1)"
      ]
    },
    {
      "cell_type": "markdown",
      "id": "cdc9823b",
      "metadata": {
        "deletable": false,
        "id": "cdc9823b"
      },
      "source": [
        "**Вывод:**\n",
        "\n",
        "Из предоставленных данных видно, что при наличии 5 детей просроченные платежи по кредиту отсутствуют, вместе с этим, таких кредитов всего 9, а значит, их влиянием на общий вывод можно пренебречь.\n",
        "Доля кредитов с просрочками от общего количества кредитов у заемщиков, имющих 1,2,4 ребенка, примерно равна и составляет от 9,2% до 9,7%.\n",
        "Доля кредитов с просрочками от общего количества кредитов у заемщиков, имеющих 3 детей, сравнительно ниже и составляет 8,1%.\n",
        "Доля кредитов с просрочками от общего количества кредитов у заемщиков, не имеющим детей наиболее низкая из всех категорий заемщиков и составляет 7,5%.\n",
        "\n",
        "**Общий вывод**: сам факт наличия детей у заемщиков повышает вероятность просрочек по кредиту, при этом количество детей оказывает меньшее влияние на изменение данной вероятности."
      ]
    },
    {
      "cell_type": "markdown",
      "id": "0077a27f",
      "metadata": {
        "deletable": false,
        "editable": false,
        "id": "0077a27f"
      },
      "source": [
        "#### Есть ли зависимость между семейным положением и возвратом кредита в срок?"
      ]
    },
    {
      "cell_type": "code",
      "execution_count": null,
      "id": "b1da5026",
      "metadata": {
        "deletable": false,
        "id": "b1da5026",
        "outputId": "d7825da8-3b16-4677-8a29-bf245bdfeb8d"
      },
      "outputs": [
        {
          "data": {
            "text/html": [
              "<div>\n",
              "<style scoped>\n",
              "    .dataframe tbody tr th:only-of-type {\n",
              "        vertical-align: middle;\n",
              "    }\n",
              "\n",
              "    .dataframe tbody tr th {\n",
              "        vertical-align: top;\n",
              "    }\n",
              "\n",
              "    .dataframe thead tr th {\n",
              "        text-align: left;\n",
              "    }\n",
              "\n",
              "    .dataframe thead tr:last-of-type th {\n",
              "        text-align: right;\n",
              "    }\n",
              "</style>\n",
              "<table border=\"1\" class=\"dataframe\">\n",
              "  <thead>\n",
              "    <tr>\n",
              "      <th></th>\n",
              "      <th>count</th>\n",
              "      <th>mean</th>\n",
              "    </tr>\n",
              "    <tr>\n",
              "      <th></th>\n",
              "      <th>debt</th>\n",
              "      <th>debt</th>\n",
              "    </tr>\n",
              "    <tr>\n",
              "      <th>family_status</th>\n",
              "      <th></th>\n",
              "      <th></th>\n",
              "    </tr>\n",
              "  </thead>\n",
              "  <tbody>\n",
              "    <tr>\n",
              "      <th>Не женат / не замужем</th>\n",
              "      <td>2796</td>\n",
              "      <td>9.76</td>\n",
              "    </tr>\n",
              "    <tr>\n",
              "      <th>в разводе</th>\n",
              "      <td>1189</td>\n",
              "      <td>7.06</td>\n",
              "    </tr>\n",
              "    <tr>\n",
              "      <th>вдовец / вдова</th>\n",
              "      <td>951</td>\n",
              "      <td>6.62</td>\n",
              "    </tr>\n",
              "    <tr>\n",
              "      <th>гражданский брак</th>\n",
              "      <td>4134</td>\n",
              "      <td>9.31</td>\n",
              "    </tr>\n",
              "    <tr>\n",
              "      <th>женат / замужем</th>\n",
              "      <td>12261</td>\n",
              "      <td>7.56</td>\n",
              "    </tr>\n",
              "  </tbody>\n",
              "</table>\n",
              "</div>"
            ],
            "text/plain": [
              "                       count  mean\n",
              "                        debt  debt\n",
              "family_status                     \n",
              "Не женат / не замужем   2796  9.76\n",
              "в разводе               1189  7.06\n",
              "вдовец / вдова           951  6.62\n",
              "гражданский брак        4134  9.31\n",
              "женат / замужем        12261  7.56"
            ]
          },
          "metadata": {},
          "output_type": "display_data"
        }
      ],
      "source": [
        "# Сгруппируем данные методом сводных таблиц по семейному положению,в столбцах рассчитаем количество выданных кредитов заемщикам,\n",
        "# по соответствующему семейному положению и, сразу, долю кредиов с просрочкой.\n",
        "# Вывод доли кредитов с просрочкой отформатируем: округлим до 4 знаков после запятой и умножим на 100.\n",
        "\n",
        "result_3_2 = pd.pivot_table(data,index=['family_status'],values =['debt'], aggfunc=['count','mean'])\n",
        "result_3_2[( 'mean', 'debt')]=result_3_2[( 'mean', 'debt')].round(4)*100\n",
        "\n",
        "display(result_3_2)"
      ]
    },
    {
      "cell_type": "markdown",
      "id": "b75582f4",
      "metadata": {
        "deletable": false,
        "id": "b75582f4"
      },
      "source": [
        "**Вывод:**\n",
        "\n",
        "Из представленных данных видно, что меньший процент кредитов с просрочкой имеют заемщики с оформленными семейными отношениями (женат/замужем. в разводе, вдовец/вдова) этот процент находится в диапазоне 6.6% - 7.5%. При этом, отмечется тенденция к снижению такого процента для заемщиков с завершившимися семейными отношениями 7.0% для разведенных, против 7,5% для находящихся в браке.\n",
        "Для заемщиков, не состоящих в оформленных отношениях (гражданский брак, не женат/ не замужем) доля кредитов с просрочкой существенно выше - 9.3% - 9,7% в сравнении с заемщиками с оформленными семейным положением.\n",
        "\n",
        "**Общий вывод**: наличие у заемщика оформленных семейных отношений повышет вероятность своевременного возврата кредита. При этом, наибольшая дисциплинированность по возвратам в срок наблюдается в категории \"вдовец/вдова\". А для заемщиков с неоформленными семейными отношениями (гражданский брак) верятность просрочки сопаоставима с не женатыми (не замужними) заемщиками."
      ]
    },
    {
      "cell_type": "markdown",
      "id": "3e68f158",
      "metadata": {
        "deletable": false,
        "editable": false,
        "id": "3e68f158"
      },
      "source": [
        "#### Есть ли зависимость между уровнем дохода и возвратом кредита в срок?"
      ]
    },
    {
      "cell_type": "code",
      "execution_count": null,
      "id": "f8c62c9a",
      "metadata": {
        "deletable": false,
        "id": "f8c62c9a"
      },
      "outputs": [],
      "source": [
        "# Сгруппируем данные методом сводных таблиц по категории уровня дохода, в столбцах рассчитаем количество выданных кредитов\n",
        "# заемщикам, по соответствующему семейному положению и, сразу, долю кредиов с просрочкой.\n",
        "# Вывод доли кредитов с просрочкой отформатируем: округлим до 4 знаков после запятой и умножим на 100.\n",
        "\n",
        "result_3_3 = pd.pivot_table(data,index=['total_income_category'],values =['debt'], aggfunc=['count','mean'])\n",
        "result_3_3[( 'mean', 'debt')]=result_3_3[( 'mean', 'debt')].round(4)*100\n",
        "\n",
        "print(result_3_3)"
      ]
    },
    {
      "cell_type": "markdown",
      "id": "743a8a9d",
      "metadata": {
        "deletable": false,
        "id": "743a8a9d"
      },
      "source": [
        "**Вывод:**\n",
        "\n",
        "Из представленных данных видно, что наиболее дисциплинированными являются заемщики с категорией дохода \"D\" - от 30 001 до 50 000. Для них доля просроченных кредитов составляет миинимальные 6.0%. Наименее дисциплинированными являются заемщики с категорией дохода \"Е\" - до 30 000. Для них доля просроченных кредитов составляет 9.0%. В остальных категориях доля просроченных кредитов состоавляет 7.0 - 8.4%  \n",
        "\n",
        "**Общий вывод**: Вероятность просрочки по кредиту минимальная для заемщиколв с уровнем дохода от 30 001 до 50 000 и максимальная для заемщиков с уровнем дохода до 30 000. Для остальных групп заемщиков наблюдается слабая зависимость вероятности просрочки по кредиту от уровня дохода."
      ]
    },
    {
      "cell_type": "markdown",
      "id": "810172e5",
      "metadata": {
        "deletable": false,
        "editable": false,
        "id": "810172e5"
      },
      "source": [
        "#### Как разные цели кредита влияют на его возврат в срок?"
      ]
    },
    {
      "cell_type": "code",
      "execution_count": null,
      "id": "99ba60ac",
      "metadata": {
        "deletable": false,
        "id": "99ba60ac",
        "outputId": "db282e07-6b72-41d9-9714-e90e072f5b96"
      },
      "outputs": [
        {
          "data": {
            "text/html": [
              "<div>\n",
              "<style scoped>\n",
              "    .dataframe tbody tr th:only-of-type {\n",
              "        vertical-align: middle;\n",
              "    }\n",
              "\n",
              "    .dataframe tbody tr th {\n",
              "        vertical-align: top;\n",
              "    }\n",
              "\n",
              "    .dataframe thead tr th {\n",
              "        text-align: left;\n",
              "    }\n",
              "\n",
              "    .dataframe thead tr:last-of-type th {\n",
              "        text-align: right;\n",
              "    }\n",
              "</style>\n",
              "<table border=\"1\" class=\"dataframe\">\n",
              "  <thead>\n",
              "    <tr>\n",
              "      <th></th>\n",
              "      <th>count</th>\n",
              "      <th>mean</th>\n",
              "    </tr>\n",
              "    <tr>\n",
              "      <th></th>\n",
              "      <th>debt</th>\n",
              "      <th>debt</th>\n",
              "    </tr>\n",
              "    <tr>\n",
              "      <th>purpose_category</th>\n",
              "      <th></th>\n",
              "      <th></th>\n",
              "    </tr>\n",
              "  </thead>\n",
              "  <tbody>\n",
              "    <tr>\n",
              "      <th>операции с автомобилем</th>\n",
              "      <td>4279</td>\n",
              "      <td>9.35</td>\n",
              "    </tr>\n",
              "    <tr>\n",
              "      <th>операции с недвижимостью</th>\n",
              "      <td>10751</td>\n",
              "      <td>7.26</td>\n",
              "    </tr>\n",
              "    <tr>\n",
              "      <th>получение образования</th>\n",
              "      <td>3988</td>\n",
              "      <td>9.25</td>\n",
              "    </tr>\n",
              "    <tr>\n",
              "      <th>проведение свадьбы</th>\n",
              "      <td>2313</td>\n",
              "      <td>7.91</td>\n",
              "    </tr>\n",
              "  </tbody>\n",
              "</table>\n",
              "</div>"
            ],
            "text/plain": [
              "                          count  mean\n",
              "                           debt  debt\n",
              "purpose_category                     \n",
              "операции с автомобилем     4279  9.35\n",
              "операции с недвижимостью  10751  7.26\n",
              "получение образования      3988  9.25\n",
              "проведение свадьбы         2313  7.91"
            ]
          },
          "metadata": {},
          "output_type": "display_data"
        }
      ],
      "source": [
        "# Сгруппируем данные методом сводных таблиц по категории цели кредита, в столбцах рассчитаем количество выданных кредитов\n",
        "# заемщикам, по соответствующей категории цели кредита и, сразу, долю кредиов с просрочкой.\n",
        "# Вывод доли кредитов с просрочкой отформатируем: округлим до 4 знаков после запятой и умножим на 100.\n",
        "\n",
        "result_3_4 = pd.pivot_table(data,index=['purpose_category'],values =['debt'], aggfunc=['count','mean'])\n",
        "result_3_4[( 'mean', 'debt')]=result_3_4[( 'mean', 'debt')].round(4)*100\n",
        "\n",
        "display(result_3_4)"
      ]
    },
    {
      "cell_type": "markdown",
      "id": "44a8500c",
      "metadata": {
        "deletable": false,
        "id": "44a8500c"
      },
      "source": [
        "**Вывод:**\n",
        "\n",
        "Из представленных данных видно, что наименее рискованными являются кредиты, связанные с приобретением недвижимости. В данной категории, в среднем, доля кредитов с просрочкой составляет 7.2%. Наиболее рискованными являются кредиты на покупку автомобиля. Здесь доля просроченных кредитов больше 9.3%. Кредиты на получение образования лишь немонгим уступают по уровню риска автокредитам. Доля просрочки для них составляет 9.2%\n",
        "\n",
        "**Общий вывод**: кредиты на покупку недвижимости, в среднем, являются наиболее надежными, а для автокредитов и кредитов на образование, в сравнении с ними, риск просрочек увеличивается примерно в 1,3 раза."
      ]
    },
    {
      "cell_type": "markdown",
      "id": "819e794a",
      "metadata": {
        "deletable": false,
        "editable": false,
        "id": "819e794a"
      },
      "source": [
        "#### Приведите возможные причины появления пропусков в исходных данных."
      ]
    },
    {
      "cell_type": "markdown",
      "id": "5ce2695a",
      "metadata": {
        "deletable": false,
        "id": "5ce2695a"
      },
      "source": [
        "*Ответ:*\n",
        "\n",
        "Как видно из п.3. пропуски данных имели место только в столбцах \"Трудовой стаж\" и \"Сумма дохода\".\n",
        "При дальнейшем рассмотрении данных (п.1.) можно обратить внимание, что пропуски характерны для \"Типа дохода\" = \"пенсионер\", т.о., можно предположить, что  наличие пропусков данных связано с неточностью формы заявления на предоставление кредита, допускающую, при заполнении, не вносить данные в указанные графы, при выборе типа дохода = \"пенсионер\".\n",
        "\n",
        "**В общем случае**, пропуски в данных могут быть следствием ошибок в работе регистрирующих данные приборов, ошибках при передаче данных, экспорте / импорте, ошибок алгоритмов формирования выгрузок данных, ошибок при вводе данных или намеренное незаполнение тех или иных данных при вводе.\n",
        "    \n",
        "    \n",
        "Дополнительно, пропуски **в исследуемом датасете** могут быть следствием как ошибочного незаполнения этих данных (пропустили, не заметили), так и намеренного их игнорирования, как вследствии того, что потенциальный замщик на момент обращения за кредитом не имел работы и, следовательно, не имел дохода т.е. или был временно безработным или, в принципе, еще никогда не работал, в этом случае отсутствие данных о трудовом стаже и заработке полностью соответсвует реальному положению дел."
      ]
    },
    {
      "cell_type": "markdown",
      "id": "b592c43d",
      "metadata": {
        "deletable": false,
        "editable": false,
        "id": "b592c43d"
      },
      "source": [
        "#### Объясните, почему заполнить пропуски медианным значением — лучшее решение для количественных переменных."
      ]
    },
    {
      "cell_type": "markdown",
      "id": "7ec57806",
      "metadata": {
        "deletable": false,
        "id": "7ec57806"
      },
      "source": [
        "*Ответ:*\n",
        "\n",
        "Заполнять пропуски в количественных переменных медианными значениями лучше всего, т.к. такое заполнение пропусков, во-первых позволяет сохранить строку датафрейма для дальнейшего анализа по другим столбцам и во-вторых, оказывает наименьшее влияние (вносит наименьшую ошибку) в статистические характеристики исследуемого столбца, в т.ч. и потому, что для данных имеющих нормальное распределение (или близкое к нормальному), при сравнительно большом количестве данных, медиана будет равняться среднему значению.\n",
        "\n",
        "Медиана — значение, которое разбивает данные, **отсортированные по порядку** увеличения значений, на две равные части. Т.е., медиана показывает центральное значение в выборке, если наблюдений нечетное количество и среднее арифметическое двух значений, если количество наблюдений в выборке четно. Т.о. для определения медианы необходимо сначала отсортировать список данных, а потом взять средний (находящийся по середине списка) элемент данных. В то время как среднее, есть результат деления суммы всех данных на их количество.\n",
        "    \n",
        "**Основное отличие** медианы от среднего - устойчивость к \"выбросам\" - нехарактерным для изучаемой выборки,слишком большим или слишком малым значениям. Такие \"выбросы\" могут оказать существенное влияние на среднее значение даже при незначительном количестве самих \"выбросов\". И, напротив, не оказывают влияние на медиану."
      ]
    },
    {
      "cell_type": "markdown",
      "id": "00d49749",
      "metadata": {
        "deletable": false,
        "editable": false,
        "id": "00d49749"
      },
      "source": [
        "### Общий вывод."
      ]
    },
    {
      "cell_type": "markdown",
      "id": "54381dea",
      "metadata": {
        "deletable": false,
        "id": "54381dea"
      },
      "source": [
        "Целью данного проекта являлось исследование надежности заемщиков, в зависимости от различных факторов, в т.ч. семейного положения, количества детей, уровня дохода. Объем данных составлял 21 525 строк. После предобработки и исключения строк с аномальными значениями объем данных итогово составил 21 331 строку.\n",
        "\n",
        "По результатам исследования сделаны выводы о зависимости вероятности просрочек по кредиту от различных характеристик заемщика.\n",
        "\n",
        "На основании данных выводов возможно составить \"портрет **идеального** заещика\", в отношении которого можно ожидать наименьшей вероятности просрочки. Это заемщик, состоящий / состоявший в зарегистрированном браке, не имеющий детей с уровнем дохода от 30 001 до 50 000, имеющий желание получить кредит на покупку недвижимости.\n",
        "\n",
        "И, наоборот, **наименее надежным** заемщиком будет заемщик не состоящий в браке, в т.ч. гражданском, имеющий 4 детей, с доходом до 30 000, желающий получить автокредит."
      ]
    },
    {
      "cell_type": "code",
      "execution_count": null,
      "id": "0702f188",
      "metadata": {
        "id": "0702f188"
      },
      "outputs": [],
      "source": []
    }
  ],
  "metadata": {
    "ExecuteTimeLog": [
      {
        "duration": 50,
        "start_time": "2023-02-06T08:43:58.672Z"
      },
      {
        "duration": 539,
        "start_time": "2023-02-06T08:44:28.021Z"
      },
      {
        "duration": 23,
        "start_time": "2023-02-06T08:44:28.562Z"
      },
      {
        "duration": 15,
        "start_time": "2023-02-06T08:44:28.609Z"
      },
      {
        "duration": 9,
        "start_time": "2023-02-06T08:44:28.626Z"
      },
      {
        "duration": 30,
        "start_time": "2023-02-06T08:44:28.636Z"
      },
      {
        "duration": 4,
        "start_time": "2023-02-06T08:44:28.668Z"
      },
      {
        "duration": 43,
        "start_time": "2023-02-06T08:44:28.674Z"
      },
      {
        "duration": 4,
        "start_time": "2023-02-06T08:44:28.719Z"
      },
      {
        "duration": 8,
        "start_time": "2023-02-06T08:44:28.725Z"
      },
      {
        "duration": 5,
        "start_time": "2023-02-06T08:44:28.735Z"
      },
      {
        "duration": 33,
        "start_time": "2023-02-06T08:44:28.742Z"
      },
      {
        "duration": 8,
        "start_time": "2023-02-06T08:44:28.777Z"
      },
      {
        "duration": 25,
        "start_time": "2023-02-06T08:44:28.787Z"
      },
      {
        "duration": 14,
        "start_time": "2023-02-06T08:44:28.814Z"
      },
      {
        "duration": 18,
        "start_time": "2023-02-06T08:44:28.830Z"
      },
      {
        "duration": 17,
        "start_time": "2023-02-06T08:44:28.850Z"
      },
      {
        "duration": 4,
        "start_time": "2023-02-06T08:44:28.869Z"
      },
      {
        "duration": 45,
        "start_time": "2023-02-06T08:44:28.875Z"
      },
      {
        "duration": 8,
        "start_time": "2023-02-06T08:44:28.921Z"
      },
      {
        "duration": 4,
        "start_time": "2023-02-06T08:44:28.931Z"
      },
      {
        "duration": 13,
        "start_time": "2023-02-06T08:44:28.936Z"
      },
      {
        "duration": 5,
        "start_time": "2023-02-06T08:44:28.950Z"
      },
      {
        "duration": 5,
        "start_time": "2023-02-06T08:44:28.956Z"
      },
      {
        "duration": 3,
        "start_time": "2023-02-06T08:44:28.962Z"
      },
      {
        "duration": 4,
        "start_time": "2023-02-06T08:44:28.967Z"
      },
      {
        "duration": 7,
        "start_time": "2023-02-06T08:45:58.974Z"
      },
      {
        "duration": 65,
        "start_time": "2023-02-06T08:51:31.730Z"
      },
      {
        "duration": 85,
        "start_time": "2023-02-06T08:51:40.570Z"
      },
      {
        "duration": 86,
        "start_time": "2023-02-06T08:53:36.642Z"
      },
      {
        "duration": 111,
        "start_time": "2023-02-06T08:54:07.155Z"
      },
      {
        "duration": 85,
        "start_time": "2023-02-06T08:54:16.059Z"
      },
      {
        "duration": 9,
        "start_time": "2023-02-06T08:54:55.962Z"
      },
      {
        "duration": 15,
        "start_time": "2023-02-06T08:55:30.003Z"
      },
      {
        "duration": 11,
        "start_time": "2023-02-06T08:55:42.554Z"
      },
      {
        "duration": 10,
        "start_time": "2023-02-06T08:55:53.821Z"
      },
      {
        "duration": 22,
        "start_time": "2023-02-06T09:00:15.286Z"
      },
      {
        "duration": 6,
        "start_time": "2023-02-06T09:12:54.036Z"
      },
      {
        "duration": 10,
        "start_time": "2023-02-06T09:13:23.828Z"
      },
      {
        "duration": 7,
        "start_time": "2023-02-06T09:14:33.845Z"
      },
      {
        "duration": 69,
        "start_time": "2023-02-06T09:16:12.847Z"
      },
      {
        "duration": 11,
        "start_time": "2023-02-06T09:19:09.985Z"
      },
      {
        "duration": 7,
        "start_time": "2023-02-06T09:19:33.038Z"
      },
      {
        "duration": 3,
        "start_time": "2023-02-06T09:23:46.269Z"
      },
      {
        "duration": 841,
        "start_time": "2023-02-06T09:24:05.561Z"
      },
      {
        "duration": 862,
        "start_time": "2023-02-06T09:24:33.316Z"
      },
      {
        "duration": 853,
        "start_time": "2023-02-06T09:25:32.885Z"
      },
      {
        "duration": 8,
        "start_time": "2023-02-06T09:25:40.742Z"
      },
      {
        "duration": 7,
        "start_time": "2023-02-06T09:37:09.974Z"
      },
      {
        "duration": 8,
        "start_time": "2023-02-06T09:37:41.748Z"
      },
      {
        "duration": 13,
        "start_time": "2023-02-06T09:39:37.428Z"
      },
      {
        "duration": 14,
        "start_time": "2023-02-06T09:40:22.933Z"
      },
      {
        "duration": 9,
        "start_time": "2023-02-06T09:40:45.598Z"
      },
      {
        "duration": 50,
        "start_time": "2023-02-06T16:52:55.385Z"
      },
      {
        "duration": 8,
        "start_time": "2023-02-06T16:53:07.057Z"
      },
      {
        "duration": 697,
        "start_time": "2023-02-06T16:53:27.762Z"
      },
      {
        "duration": 22,
        "start_time": "2023-02-06T16:53:28.461Z"
      },
      {
        "duration": 13,
        "start_time": "2023-02-06T16:53:28.484Z"
      },
      {
        "duration": 9,
        "start_time": "2023-02-06T16:53:28.499Z"
      },
      {
        "duration": 31,
        "start_time": "2023-02-06T16:53:28.510Z"
      },
      {
        "duration": 4,
        "start_time": "2023-02-06T16:53:28.543Z"
      },
      {
        "duration": 10,
        "start_time": "2023-02-06T16:53:28.548Z"
      },
      {
        "duration": 35,
        "start_time": "2023-02-06T16:53:28.559Z"
      },
      {
        "duration": 8,
        "start_time": "2023-02-06T16:53:28.596Z"
      },
      {
        "duration": 3,
        "start_time": "2023-02-06T16:53:28.607Z"
      },
      {
        "duration": 33,
        "start_time": "2023-02-06T16:53:28.612Z"
      },
      {
        "duration": 9,
        "start_time": "2023-02-06T16:53:28.647Z"
      },
      {
        "duration": 36,
        "start_time": "2023-02-06T16:53:28.658Z"
      },
      {
        "duration": 12,
        "start_time": "2023-02-06T16:53:28.696Z"
      },
      {
        "duration": 20,
        "start_time": "2023-02-06T16:53:28.710Z"
      },
      {
        "duration": 18,
        "start_time": "2023-02-06T16:53:28.732Z"
      },
      {
        "duration": 4,
        "start_time": "2023-02-06T16:53:28.752Z"
      },
      {
        "duration": 43,
        "start_time": "2023-02-06T16:53:28.757Z"
      },
      {
        "duration": 11,
        "start_time": "2023-02-06T16:53:28.802Z"
      },
      {
        "duration": 3,
        "start_time": "2023-02-06T16:53:28.816Z"
      },
      {
        "duration": 18,
        "start_time": "2023-02-06T16:53:28.821Z"
      },
      {
        "duration": 10,
        "start_time": "2023-02-06T16:53:28.841Z"
      },
      {
        "duration": 11,
        "start_time": "2023-02-06T16:53:28.852Z"
      },
      {
        "duration": 31,
        "start_time": "2023-02-06T16:53:28.866Z"
      },
      {
        "duration": 2,
        "start_time": "2023-02-06T16:53:28.898Z"
      },
      {
        "duration": 9,
        "start_time": "2023-02-06T17:06:47.484Z"
      },
      {
        "duration": 10,
        "start_time": "2023-02-06T17:09:38.899Z"
      },
      {
        "duration": 14,
        "start_time": "2023-02-06T17:10:52.915Z"
      },
      {
        "duration": 11,
        "start_time": "2023-02-06T17:20:37.457Z"
      },
      {
        "duration": 21,
        "start_time": "2023-02-06T17:44:31.722Z"
      },
      {
        "duration": 10,
        "start_time": "2023-02-06T17:44:45.424Z"
      },
      {
        "duration": 23,
        "start_time": "2023-02-06T17:48:20.971Z"
      },
      {
        "duration": 10,
        "start_time": "2023-02-06T17:48:32.546Z"
      },
      {
        "duration": 14,
        "start_time": "2023-02-06T17:54:58.299Z"
      },
      {
        "duration": 499,
        "start_time": "2023-02-06T18:04:14.989Z"
      },
      {
        "duration": 39,
        "start_time": "2023-02-06T18:04:15.506Z"
      },
      {
        "duration": 16,
        "start_time": "2023-02-06T18:04:15.547Z"
      },
      {
        "duration": 10,
        "start_time": "2023-02-06T18:04:15.565Z"
      },
      {
        "duration": 55,
        "start_time": "2023-02-06T18:04:15.576Z"
      },
      {
        "duration": 4,
        "start_time": "2023-02-06T18:04:15.632Z"
      },
      {
        "duration": 12,
        "start_time": "2023-02-06T18:04:15.638Z"
      },
      {
        "duration": 4,
        "start_time": "2023-02-06T18:04:15.651Z"
      },
      {
        "duration": 47,
        "start_time": "2023-02-06T18:04:15.657Z"
      },
      {
        "duration": 6,
        "start_time": "2023-02-06T18:04:15.713Z"
      },
      {
        "duration": 55,
        "start_time": "2023-02-06T18:04:15.721Z"
      },
      {
        "duration": 10,
        "start_time": "2023-02-06T18:04:15.778Z"
      },
      {
        "duration": 16,
        "start_time": "2023-02-06T18:04:15.795Z"
      },
      {
        "duration": 33,
        "start_time": "2023-02-06T18:04:15.813Z"
      },
      {
        "duration": 21,
        "start_time": "2023-02-06T18:04:15.848Z"
      },
      {
        "duration": 27,
        "start_time": "2023-02-06T18:04:15.871Z"
      },
      {
        "duration": 12,
        "start_time": "2023-02-06T18:04:15.899Z"
      },
      {
        "duration": 23,
        "start_time": "2023-02-06T18:04:15.914Z"
      },
      {
        "duration": 14,
        "start_time": "2023-02-06T18:04:15.939Z"
      },
      {
        "duration": 15,
        "start_time": "2023-02-06T18:04:15.955Z"
      },
      {
        "duration": 18,
        "start_time": "2023-02-06T18:04:15.971Z"
      },
      {
        "duration": 29,
        "start_time": "2023-02-06T18:04:15.995Z"
      },
      {
        "duration": 13,
        "start_time": "2023-02-06T18:04:16.026Z"
      },
      {
        "duration": 26,
        "start_time": "2023-02-06T18:04:16.042Z"
      },
      {
        "duration": 24,
        "start_time": "2023-02-06T18:04:16.070Z"
      },
      {
        "duration": 489,
        "start_time": "2023-02-07T12:53:22.314Z"
      },
      {
        "duration": 20,
        "start_time": "2023-02-07T12:53:22.805Z"
      },
      {
        "duration": 15,
        "start_time": "2023-02-07T12:53:22.827Z"
      },
      {
        "duration": 10,
        "start_time": "2023-02-07T12:53:22.844Z"
      },
      {
        "duration": 63,
        "start_time": "2023-02-07T12:53:22.856Z"
      },
      {
        "duration": 4,
        "start_time": "2023-02-07T12:53:22.920Z"
      },
      {
        "duration": 11,
        "start_time": "2023-02-07T12:53:22.925Z"
      },
      {
        "duration": 5,
        "start_time": "2023-02-07T12:53:22.937Z"
      },
      {
        "duration": 8,
        "start_time": "2023-02-07T12:53:22.944Z"
      },
      {
        "duration": 5,
        "start_time": "2023-02-07T12:53:22.955Z"
      },
      {
        "duration": 59,
        "start_time": "2023-02-07T12:53:22.961Z"
      },
      {
        "duration": 9,
        "start_time": "2023-02-07T12:53:23.022Z"
      },
      {
        "duration": 15,
        "start_time": "2023-02-07T12:53:23.033Z"
      },
      {
        "duration": 12,
        "start_time": "2023-02-07T12:53:23.050Z"
      },
      {
        "duration": 22,
        "start_time": "2023-02-07T12:53:23.063Z"
      },
      {
        "duration": 36,
        "start_time": "2023-02-07T12:53:23.087Z"
      },
      {
        "duration": 4,
        "start_time": "2023-02-07T12:53:23.125Z"
      },
      {
        "duration": 16,
        "start_time": "2023-02-07T12:53:23.131Z"
      },
      {
        "duration": 7,
        "start_time": "2023-02-07T12:53:23.149Z"
      },
      {
        "duration": 3,
        "start_time": "2023-02-07T12:53:23.158Z"
      },
      {
        "duration": 15,
        "start_time": "2023-02-07T12:53:23.162Z"
      },
      {
        "duration": 29,
        "start_time": "2023-02-07T12:53:23.178Z"
      },
      {
        "duration": 9,
        "start_time": "2023-02-07T12:53:23.209Z"
      },
      {
        "duration": 9,
        "start_time": "2023-02-07T12:53:23.219Z"
      },
      {
        "duration": 9,
        "start_time": "2023-02-07T12:53:23.229Z"
      },
      {
        "duration": 49,
        "start_time": "2023-02-07T17:42:52.453Z"
      },
      {
        "duration": 513,
        "start_time": "2023-02-07T17:43:10.796Z"
      },
      {
        "duration": 26,
        "start_time": "2023-02-07T17:43:11.312Z"
      },
      {
        "duration": 18,
        "start_time": "2023-02-07T17:43:11.340Z"
      },
      {
        "duration": 11,
        "start_time": "2023-02-07T17:43:11.361Z"
      },
      {
        "duration": 36,
        "start_time": "2023-02-07T17:43:11.374Z"
      },
      {
        "duration": 27,
        "start_time": "2023-02-07T17:43:11.412Z"
      },
      {
        "duration": 22,
        "start_time": "2023-02-07T17:43:11.442Z"
      },
      {
        "duration": 8,
        "start_time": "2023-02-07T17:43:11.466Z"
      },
      {
        "duration": 12,
        "start_time": "2023-02-07T17:43:11.475Z"
      },
      {
        "duration": 6,
        "start_time": "2023-02-07T17:43:11.489Z"
      },
      {
        "duration": 54,
        "start_time": "2023-02-07T17:43:11.497Z"
      },
      {
        "duration": 11,
        "start_time": "2023-02-07T17:43:11.553Z"
      },
      {
        "duration": 7,
        "start_time": "2023-02-07T17:43:11.565Z"
      },
      {
        "duration": 17,
        "start_time": "2023-02-07T17:43:11.573Z"
      },
      {
        "duration": 24,
        "start_time": "2023-02-07T17:43:11.592Z"
      },
      {
        "duration": 35,
        "start_time": "2023-02-07T17:43:11.618Z"
      },
      {
        "duration": 4,
        "start_time": "2023-02-07T17:43:11.655Z"
      },
      {
        "duration": 35,
        "start_time": "2023-02-07T17:43:11.660Z"
      },
      {
        "duration": 28,
        "start_time": "2023-02-07T17:43:11.697Z"
      },
      {
        "duration": 4,
        "start_time": "2023-02-07T17:43:11.727Z"
      },
      {
        "duration": 11,
        "start_time": "2023-02-07T17:43:11.733Z"
      },
      {
        "duration": 19,
        "start_time": "2023-02-07T17:43:11.746Z"
      },
      {
        "duration": 10,
        "start_time": "2023-02-07T17:43:11.767Z"
      },
      {
        "duration": 9,
        "start_time": "2023-02-07T17:43:11.779Z"
      },
      {
        "duration": 22,
        "start_time": "2023-02-07T17:43:11.790Z"
      },
      {
        "duration": 86,
        "start_time": "2023-02-07T17:45:06.514Z"
      },
      {
        "duration": 40,
        "start_time": "2023-02-07T17:45:51.716Z"
      },
      {
        "duration": 20,
        "start_time": "2023-02-07T17:48:15.409Z"
      },
      {
        "duration": 14,
        "start_time": "2023-02-07T17:50:39.957Z"
      },
      {
        "duration": 27,
        "start_time": "2023-02-07T17:56:03.254Z"
      },
      {
        "duration": 1449,
        "start_time": "2023-02-07T17:56:44.192Z"
      },
      {
        "duration": 25,
        "start_time": "2023-02-07T17:56:51.977Z"
      },
      {
        "duration": 22,
        "start_time": "2023-02-07T17:57:20.599Z"
      },
      {
        "duration": 19,
        "start_time": "2023-02-07T17:57:37.392Z"
      },
      {
        "duration": 25,
        "start_time": "2023-02-07T17:59:27.977Z"
      },
      {
        "duration": 18,
        "start_time": "2023-02-07T17:59:45.626Z"
      },
      {
        "duration": 22,
        "start_time": "2023-02-07T18:05:40.047Z"
      },
      {
        "duration": 24,
        "start_time": "2023-02-07T18:06:20.086Z"
      },
      {
        "duration": 21,
        "start_time": "2023-02-07T18:06:40.447Z"
      },
      {
        "duration": 19,
        "start_time": "2023-02-07T18:07:11.142Z"
      },
      {
        "duration": 19,
        "start_time": "2023-02-07T18:07:34.791Z"
      },
      {
        "duration": 1227,
        "start_time": "2023-02-07T18:18:45.751Z"
      },
      {
        "duration": 20,
        "start_time": "2023-02-07T18:24:54.395Z"
      },
      {
        "duration": 21,
        "start_time": "2023-02-07T18:25:53.698Z"
      },
      {
        "duration": 19,
        "start_time": "2023-02-07T18:26:38.105Z"
      },
      {
        "duration": 70,
        "start_time": "2023-02-07T18:27:05.156Z"
      },
      {
        "duration": 20,
        "start_time": "2023-02-07T18:27:36.842Z"
      },
      {
        "duration": 18,
        "start_time": "2023-02-07T18:27:42.787Z"
      },
      {
        "duration": 23,
        "start_time": "2023-02-07T18:33:33.846Z"
      },
      {
        "duration": 21,
        "start_time": "2023-02-07T18:33:44.418Z"
      },
      {
        "duration": 23,
        "start_time": "2023-02-07T18:34:16.231Z"
      },
      {
        "duration": 23,
        "start_time": "2023-02-07T18:34:29.138Z"
      },
      {
        "duration": 19,
        "start_time": "2023-02-07T18:35:05.336Z"
      },
      {
        "duration": 26,
        "start_time": "2023-02-07T18:42:07.972Z"
      },
      {
        "duration": 35,
        "start_time": "2023-02-07T18:42:58.936Z"
      },
      {
        "duration": 24,
        "start_time": "2023-02-07T18:46:43.136Z"
      },
      {
        "duration": 461,
        "start_time": "2023-02-07T18:49:46.282Z"
      },
      {
        "duration": 27,
        "start_time": "2023-02-07T18:49:46.745Z"
      },
      {
        "duration": 19,
        "start_time": "2023-02-07T18:49:46.774Z"
      },
      {
        "duration": 11,
        "start_time": "2023-02-07T18:49:46.796Z"
      },
      {
        "duration": 78,
        "start_time": "2023-02-07T18:49:46.810Z"
      },
      {
        "duration": 4,
        "start_time": "2023-02-07T18:49:46.890Z"
      },
      {
        "duration": 11,
        "start_time": "2023-02-07T18:49:46.895Z"
      },
      {
        "duration": 4,
        "start_time": "2023-02-07T18:49:46.908Z"
      },
      {
        "duration": 32,
        "start_time": "2023-02-07T18:49:46.913Z"
      },
      {
        "duration": 5,
        "start_time": "2023-02-07T18:49:46.948Z"
      },
      {
        "duration": 39,
        "start_time": "2023-02-07T18:49:46.954Z"
      },
      {
        "duration": 45,
        "start_time": "2023-02-07T18:49:46.995Z"
      },
      {
        "duration": 13,
        "start_time": "2023-02-07T18:49:47.043Z"
      },
      {
        "duration": 14,
        "start_time": "2023-02-07T18:49:47.059Z"
      },
      {
        "duration": 21,
        "start_time": "2023-02-07T18:49:47.075Z"
      },
      {
        "duration": 19,
        "start_time": "2023-02-07T18:49:47.098Z"
      },
      {
        "duration": 5,
        "start_time": "2023-02-07T18:49:47.141Z"
      },
      {
        "duration": 22,
        "start_time": "2023-02-07T18:49:47.148Z"
      },
      {
        "duration": 11,
        "start_time": "2023-02-07T18:49:47.172Z"
      },
      {
        "duration": 5,
        "start_time": "2023-02-07T18:49:47.184Z"
      },
      {
        "duration": 12,
        "start_time": "2023-02-07T18:49:47.190Z"
      },
      {
        "duration": 63,
        "start_time": "2023-02-07T18:49:47.204Z"
      },
      {
        "duration": 21,
        "start_time": "2023-02-07T18:49:47.269Z"
      },
      {
        "duration": 22,
        "start_time": "2023-02-07T18:49:47.292Z"
      },
      {
        "duration": 34,
        "start_time": "2023-02-07T18:49:47.316Z"
      },
      {
        "duration": 23,
        "start_time": "2023-02-07T19:02:58.738Z"
      },
      {
        "duration": 12,
        "start_time": "2023-02-07T19:18:29.339Z"
      },
      {
        "duration": 64,
        "start_time": "2023-02-07T19:18:41.995Z"
      },
      {
        "duration": 8,
        "start_time": "2023-02-07T19:19:03.625Z"
      },
      {
        "duration": 8,
        "start_time": "2023-02-07T19:19:11.500Z"
      },
      {
        "duration": 8,
        "start_time": "2023-02-07T19:19:31.340Z"
      },
      {
        "duration": 9,
        "start_time": "2023-02-07T19:20:31.990Z"
      },
      {
        "duration": 81,
        "start_time": "2023-02-07T19:20:49.860Z"
      },
      {
        "duration": 9,
        "start_time": "2023-02-07T19:20:56.883Z"
      },
      {
        "duration": 6,
        "start_time": "2023-02-07T19:21:52.472Z"
      },
      {
        "duration": 9,
        "start_time": "2023-02-07T19:22:42.640Z"
      },
      {
        "duration": 9,
        "start_time": "2023-02-07T19:22:55.398Z"
      },
      {
        "duration": 7,
        "start_time": "2023-02-07T19:25:31.544Z"
      },
      {
        "duration": 9,
        "start_time": "2023-02-07T19:26:10.294Z"
      },
      {
        "duration": 506,
        "start_time": "2023-02-07T19:26:57.256Z"
      },
      {
        "duration": 28,
        "start_time": "2023-02-07T19:26:57.764Z"
      },
      {
        "duration": 16,
        "start_time": "2023-02-07T19:26:57.795Z"
      },
      {
        "duration": 28,
        "start_time": "2023-02-07T19:26:57.813Z"
      },
      {
        "duration": 39,
        "start_time": "2023-02-07T19:26:57.843Z"
      },
      {
        "duration": 5,
        "start_time": "2023-02-07T19:26:57.884Z"
      },
      {
        "duration": 12,
        "start_time": "2023-02-07T19:26:57.890Z"
      },
      {
        "duration": 38,
        "start_time": "2023-02-07T19:26:57.904Z"
      },
      {
        "duration": 10,
        "start_time": "2023-02-07T19:26:57.944Z"
      },
      {
        "duration": 5,
        "start_time": "2023-02-07T19:26:57.958Z"
      },
      {
        "duration": 37,
        "start_time": "2023-02-07T19:26:57.965Z"
      },
      {
        "duration": 37,
        "start_time": "2023-02-07T19:26:58.004Z"
      },
      {
        "duration": 4,
        "start_time": "2023-02-07T19:26:58.043Z"
      },
      {
        "duration": 14,
        "start_time": "2023-02-07T19:26:58.050Z"
      },
      {
        "duration": 27,
        "start_time": "2023-02-07T19:26:58.066Z"
      },
      {
        "duration": 21,
        "start_time": "2023-02-07T19:26:58.095Z"
      },
      {
        "duration": 3,
        "start_time": "2023-02-07T19:26:58.140Z"
      },
      {
        "duration": 14,
        "start_time": "2023-02-07T19:26:58.145Z"
      },
      {
        "duration": 11,
        "start_time": "2023-02-07T19:26:58.161Z"
      },
      {
        "duration": 16,
        "start_time": "2023-02-07T19:26:58.174Z"
      },
      {
        "duration": 26,
        "start_time": "2023-02-07T19:26:58.192Z"
      },
      {
        "duration": 35,
        "start_time": "2023-02-07T19:26:58.221Z"
      },
      {
        "duration": 41,
        "start_time": "2023-02-07T19:26:58.259Z"
      },
      {
        "duration": 23,
        "start_time": "2023-02-07T19:26:58.301Z"
      },
      {
        "duration": 24,
        "start_time": "2023-02-07T19:26:58.340Z"
      },
      {
        "duration": 9,
        "start_time": "2023-02-07T19:27:52.617Z"
      },
      {
        "duration": 82,
        "start_time": "2023-02-07T19:28:17.297Z"
      },
      {
        "duration": 23,
        "start_time": "2023-02-07T19:28:17.381Z"
      },
      {
        "duration": 36,
        "start_time": "2023-02-07T19:28:17.409Z"
      },
      {
        "duration": 14,
        "start_time": "2023-02-07T19:28:17.448Z"
      },
      {
        "duration": 48,
        "start_time": "2023-02-07T19:28:17.464Z"
      },
      {
        "duration": 5,
        "start_time": "2023-02-07T19:28:17.540Z"
      },
      {
        "duration": 19,
        "start_time": "2023-02-07T19:28:17.547Z"
      },
      {
        "duration": 12,
        "start_time": "2023-02-07T19:28:17.568Z"
      },
      {
        "duration": 27,
        "start_time": "2023-02-07T19:28:17.582Z"
      },
      {
        "duration": 8,
        "start_time": "2023-02-07T19:28:17.611Z"
      },
      {
        "duration": 61,
        "start_time": "2023-02-07T19:28:17.621Z"
      },
      {
        "duration": 16,
        "start_time": "2023-02-07T19:28:17.684Z"
      },
      {
        "duration": 7,
        "start_time": "2023-02-07T19:28:17.702Z"
      },
      {
        "duration": 46,
        "start_time": "2023-02-07T19:28:17.711Z"
      },
      {
        "duration": 46,
        "start_time": "2023-02-07T19:28:17.759Z"
      },
      {
        "duration": 19,
        "start_time": "2023-02-07T19:28:17.807Z"
      },
      {
        "duration": 30,
        "start_time": "2023-02-07T19:28:17.829Z"
      },
      {
        "duration": 73,
        "start_time": "2023-02-07T19:28:17.861Z"
      },
      {
        "duration": 9,
        "start_time": "2023-02-07T19:28:17.936Z"
      },
      {
        "duration": 10,
        "start_time": "2023-02-07T19:28:17.947Z"
      },
      {
        "duration": 28,
        "start_time": "2023-02-07T19:28:17.959Z"
      },
      {
        "duration": 34,
        "start_time": "2023-02-07T19:28:17.989Z"
      },
      {
        "duration": 41,
        "start_time": "2023-02-07T19:28:18.025Z"
      },
      {
        "duration": 26,
        "start_time": "2023-02-07T19:28:18.068Z"
      },
      {
        "duration": 45,
        "start_time": "2023-02-07T19:28:18.096Z"
      },
      {
        "duration": 9,
        "start_time": "2023-02-07T19:31:07.932Z"
      },
      {
        "duration": 442,
        "start_time": "2023-02-07T19:31:34.195Z"
      },
      {
        "duration": 23,
        "start_time": "2023-02-07T19:31:34.639Z"
      },
      {
        "duration": 15,
        "start_time": "2023-02-07T19:31:34.665Z"
      },
      {
        "duration": 15,
        "start_time": "2023-02-07T19:31:34.683Z"
      },
      {
        "duration": 58,
        "start_time": "2023-02-07T19:31:34.699Z"
      },
      {
        "duration": 4,
        "start_time": "2023-02-07T19:31:34.759Z"
      },
      {
        "duration": 12,
        "start_time": "2023-02-07T19:31:34.765Z"
      },
      {
        "duration": 6,
        "start_time": "2023-02-07T19:31:34.779Z"
      },
      {
        "duration": 10,
        "start_time": "2023-02-07T19:31:34.787Z"
      },
      {
        "duration": 5,
        "start_time": "2023-02-07T19:31:34.800Z"
      },
      {
        "duration": 60,
        "start_time": "2023-02-07T19:31:34.807Z"
      },
      {
        "duration": 10,
        "start_time": "2023-02-07T19:31:34.869Z"
      },
      {
        "duration": 4,
        "start_time": "2023-02-07T19:31:34.881Z"
      },
      {
        "duration": 12,
        "start_time": "2023-02-07T19:31:34.887Z"
      },
      {
        "duration": 50,
        "start_time": "2023-02-07T19:31:34.900Z"
      },
      {
        "duration": 19,
        "start_time": "2023-02-07T19:31:34.951Z"
      },
      {
        "duration": 4,
        "start_time": "2023-02-07T19:31:34.972Z"
      },
      {
        "duration": 12,
        "start_time": "2023-02-07T19:31:34.977Z"
      },
      {
        "duration": 7,
        "start_time": "2023-02-07T19:31:34.990Z"
      },
      {
        "duration": 4,
        "start_time": "2023-02-07T19:31:34.999Z"
      },
      {
        "duration": 39,
        "start_time": "2023-02-07T19:31:35.005Z"
      },
      {
        "duration": 26,
        "start_time": "2023-02-07T19:31:35.045Z"
      },
      {
        "duration": 31,
        "start_time": "2023-02-07T19:31:35.073Z"
      },
      {
        "duration": 52,
        "start_time": "2023-02-07T19:31:35.106Z"
      },
      {
        "duration": 27,
        "start_time": "2023-02-07T19:31:35.160Z"
      },
      {
        "duration": 530,
        "start_time": "2023-02-07T19:42:20.510Z"
      },
      {
        "duration": 24,
        "start_time": "2023-02-07T19:42:21.042Z"
      },
      {
        "duration": 18,
        "start_time": "2023-02-07T19:42:21.068Z"
      },
      {
        "duration": 11,
        "start_time": "2023-02-07T19:42:21.089Z"
      },
      {
        "duration": 66,
        "start_time": "2023-02-07T19:42:21.101Z"
      },
      {
        "duration": 4,
        "start_time": "2023-02-07T19:42:21.169Z"
      },
      {
        "duration": 11,
        "start_time": "2023-02-07T19:42:21.174Z"
      },
      {
        "duration": 23,
        "start_time": "2023-02-07T19:42:21.186Z"
      },
      {
        "duration": 15,
        "start_time": "2023-02-07T19:42:21.210Z"
      },
      {
        "duration": 4,
        "start_time": "2023-02-07T19:42:21.228Z"
      },
      {
        "duration": 48,
        "start_time": "2023-02-07T19:42:21.234Z"
      },
      {
        "duration": 11,
        "start_time": "2023-02-07T19:42:21.283Z"
      },
      {
        "duration": 12,
        "start_time": "2023-02-07T19:42:21.296Z"
      },
      {
        "duration": 22,
        "start_time": "2023-02-07T19:42:21.310Z"
      },
      {
        "duration": 30,
        "start_time": "2023-02-07T19:42:21.340Z"
      },
      {
        "duration": 21,
        "start_time": "2023-02-07T19:42:21.372Z"
      },
      {
        "duration": 4,
        "start_time": "2023-02-07T19:42:21.394Z"
      },
      {
        "duration": 28,
        "start_time": "2023-02-07T19:42:21.400Z"
      },
      {
        "duration": 14,
        "start_time": "2023-02-07T19:42:21.429Z"
      },
      {
        "duration": 17,
        "start_time": "2023-02-07T19:42:21.444Z"
      },
      {
        "duration": 13,
        "start_time": "2023-02-07T19:42:21.463Z"
      },
      {
        "duration": 26,
        "start_time": "2023-02-07T19:42:21.478Z"
      },
      {
        "duration": 34,
        "start_time": "2023-02-07T19:42:21.506Z"
      },
      {
        "duration": 24,
        "start_time": "2023-02-07T19:42:21.541Z"
      },
      {
        "duration": 26,
        "start_time": "2023-02-07T19:42:21.567Z"
      },
      {
        "duration": 495,
        "start_time": "2023-02-07T19:57:49.231Z"
      },
      {
        "duration": 25,
        "start_time": "2023-02-07T19:57:49.728Z"
      },
      {
        "duration": 16,
        "start_time": "2023-02-07T19:57:49.755Z"
      },
      {
        "duration": 11,
        "start_time": "2023-02-07T19:57:49.773Z"
      },
      {
        "duration": 60,
        "start_time": "2023-02-07T19:57:49.786Z"
      },
      {
        "duration": 4,
        "start_time": "2023-02-07T19:57:49.848Z"
      },
      {
        "duration": 12,
        "start_time": "2023-02-07T19:57:49.854Z"
      },
      {
        "duration": 5,
        "start_time": "2023-02-07T19:57:49.868Z"
      },
      {
        "duration": 10,
        "start_time": "2023-02-07T19:57:49.875Z"
      },
      {
        "duration": 21,
        "start_time": "2023-02-07T19:57:49.888Z"
      },
      {
        "duration": 52,
        "start_time": "2023-02-07T19:57:49.911Z"
      },
      {
        "duration": 11,
        "start_time": "2023-02-07T19:57:49.964Z"
      },
      {
        "duration": 3,
        "start_time": "2023-02-07T19:57:49.977Z"
      },
      {
        "duration": 19,
        "start_time": "2023-02-07T19:57:49.982Z"
      },
      {
        "duration": 38,
        "start_time": "2023-02-07T19:57:50.003Z"
      },
      {
        "duration": 18,
        "start_time": "2023-02-07T19:57:50.043Z"
      },
      {
        "duration": 4,
        "start_time": "2023-02-07T19:57:50.062Z"
      },
      {
        "duration": 20,
        "start_time": "2023-02-07T19:57:50.067Z"
      },
      {
        "duration": 18,
        "start_time": "2023-02-07T19:57:50.088Z"
      },
      {
        "duration": 5,
        "start_time": "2023-02-07T19:57:50.107Z"
      },
      {
        "duration": 11,
        "start_time": "2023-02-07T19:57:50.114Z"
      },
      {
        "duration": 32,
        "start_time": "2023-02-07T19:57:50.126Z"
      },
      {
        "duration": 22,
        "start_time": "2023-02-07T19:57:50.160Z"
      },
      {
        "duration": 29,
        "start_time": "2023-02-07T19:57:50.184Z"
      },
      {
        "duration": 40,
        "start_time": "2023-02-07T19:57:50.215Z"
      },
      {
        "duration": 45,
        "start_time": "2023-02-08T17:56:15.017Z"
      },
      {
        "duration": 8,
        "start_time": "2023-02-08T17:56:40.049Z"
      },
      {
        "duration": 480,
        "start_time": "2023-02-08T17:57:09.070Z"
      },
      {
        "duration": 21,
        "start_time": "2023-02-08T17:57:09.552Z"
      },
      {
        "duration": 15,
        "start_time": "2023-02-08T17:57:09.575Z"
      },
      {
        "duration": 9,
        "start_time": "2023-02-08T17:57:09.593Z"
      },
      {
        "duration": 40,
        "start_time": "2023-02-08T17:57:09.604Z"
      },
      {
        "duration": 4,
        "start_time": "2023-02-08T17:57:09.646Z"
      },
      {
        "duration": 9,
        "start_time": "2023-02-08T17:57:09.652Z"
      },
      {
        "duration": 11,
        "start_time": "2023-02-08T17:57:09.663Z"
      },
      {
        "duration": 8,
        "start_time": "2023-02-08T17:57:09.675Z"
      },
      {
        "duration": 4,
        "start_time": "2023-02-08T17:57:09.687Z"
      },
      {
        "duration": 62,
        "start_time": "2023-02-08T17:57:09.692Z"
      },
      {
        "duration": 9,
        "start_time": "2023-02-08T17:57:09.755Z"
      },
      {
        "duration": 3,
        "start_time": "2023-02-08T17:57:09.765Z"
      },
      {
        "duration": 10,
        "start_time": "2023-02-08T17:57:09.770Z"
      },
      {
        "duration": 18,
        "start_time": "2023-02-08T17:57:09.782Z"
      },
      {
        "duration": 37,
        "start_time": "2023-02-08T17:57:09.801Z"
      },
      {
        "duration": 4,
        "start_time": "2023-02-08T17:57:09.839Z"
      },
      {
        "duration": 12,
        "start_time": "2023-02-08T17:57:09.844Z"
      },
      {
        "duration": 6,
        "start_time": "2023-02-08T17:57:09.857Z"
      },
      {
        "duration": 3,
        "start_time": "2023-02-08T17:57:09.864Z"
      },
      {
        "duration": 9,
        "start_time": "2023-02-08T17:57:09.869Z"
      },
      {
        "duration": 64,
        "start_time": "2023-02-08T17:57:09.880Z"
      },
      {
        "duration": 0,
        "start_time": "2023-02-08T17:57:09.946Z"
      },
      {
        "duration": 0,
        "start_time": "2023-02-08T17:57:09.947Z"
      },
      {
        "duration": 0,
        "start_time": "2023-02-08T17:57:09.948Z"
      },
      {
        "duration": 23,
        "start_time": "2023-02-08T17:57:47.657Z"
      },
      {
        "duration": 24,
        "start_time": "2023-02-08T17:58:12.681Z"
      },
      {
        "duration": 24,
        "start_time": "2023-02-08T17:58:31.217Z"
      }
    ],
    "colab": {
      "provenance": []
    },
    "kernelspec": {
      "display_name": "Python 3 (ipykernel)",
      "language": "python",
      "name": "python3"
    },
    "language_info": {
      "codemirror_mode": {
        "name": "ipython",
        "version": 3
      },
      "file_extension": ".py",
      "mimetype": "text/x-python",
      "name": "python",
      "nbconvert_exporter": "python",
      "pygments_lexer": "ipython3",
      "version": "3.9.5"
    },
    "toc": {
      "base_numbering": 1,
      "nav_menu": {},
      "number_sections": true,
      "sideBar": true,
      "skip_h1_title": true,
      "title_cell": "Table of Contents",
      "title_sidebar": "Contents",
      "toc_cell": false,
      "toc_position": {
        "height": "calc(100% - 180px)",
        "left": "10px",
        "top": "150px",
        "width": "366.188px"
      },
      "toc_section_display": true,
      "toc_window_display": true
    }
  },
  "nbformat": 4,
  "nbformat_minor": 5
}