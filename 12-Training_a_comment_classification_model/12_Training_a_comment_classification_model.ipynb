{
  "cells": [
    {
      "cell_type": "markdown",
      "metadata": {
        "toc": true,
        "id": "lWbA7Rl8hDDB"
      },
      "source": [
        "<h1>Содержание<span class=\"tocSkip\"></span></h1>\n",
        "<div class=\"toc\"><ul class=\"toc-item\"><li><span><a href=\"#Постановка-задачи\" data-toc-modified-id=\"Постановка-задачи-1\"><span class=\"toc-item-num\">1&nbsp;&nbsp;</span>Постановка задачи</a></span></li><li><span><a href=\"#Загрузка,-обзор-и-предобработка-данных\" data-toc-modified-id=\"Загрузка,-обзор-и-предобработка-данных-2\"><span class=\"toc-item-num\">2&nbsp;&nbsp;</span>Загрузка, обзор и предобработка данных</a></span></li><li><span><a href=\"#Формирование-признаков-для-моделей-машинного-обучения\" data-toc-modified-id=\"Формирование-признаков-для-моделей-машинного-обучения-3\"><span class=\"toc-item-num\">3&nbsp;&nbsp;</span>Формирование признаков для моделей машинного обучения</a></span></li><li><span><a href=\"#Обучение-моделей-и-расчет-целевой-метрики-(f1)\" data-toc-modified-id=\"Обучение-моделей-и-расчет-целевой-метрики-(f1)-4\"><span class=\"toc-item-num\">4&nbsp;&nbsp;</span>Обучение моделей и расчет целевой метрики (f1)</a></span><ul class=\"toc-item\"><li><span><a href=\"#Модель-Логистическая-регрессия\" data-toc-modified-id=\"Модель-Логистическая-регрессия-4.1\"><span class=\"toc-item-num\">4.1&nbsp;&nbsp;</span>Модель Логистическая регрессия</a></span></li><li><span><a href=\"#Модель-Решающее-дерево\" data-toc-modified-id=\"Модель-Решающее-дерево-4.2\"><span class=\"toc-item-num\">4.2&nbsp;&nbsp;</span>Модель Решающее дерево</a></span></li><li><span><a href=\"#Модель-Случайный-лес\" data-toc-modified-id=\"Модель-Случайный-лес-4.3\"><span class=\"toc-item-num\">4.3&nbsp;&nbsp;</span>Модель Случайный лес</a></span></li></ul></li><li><span><a href=\"#Чек-лист-проверки\" data-toc-modified-id=\"Чек-лист-проверки-5\"><span class=\"toc-item-num\">5&nbsp;&nbsp;</span>Чек-лист проверки</a></span></li></ul></div>"
      ]
    },
    {
      "cell_type": "markdown",
      "metadata": {
        "id": "p50S5UEkhDDD"
      },
      "source": [
        "# Проект\n",
        "\n",
        "# разработки модели машинного обучения по определению токсичности комментариев\n",
        "# для интернет-магазина «Викишоп»"
      ]
    },
    {
      "cell_type": "markdown",
      "metadata": {
        "id": "CsVodfODhDDD"
      },
      "source": [
        "## Постановка задачи"
      ]
    },
    {
      "cell_type": "markdown",
      "metadata": {
        "id": "ekbfYc-WhDDE"
      },
      "source": [
        "Заказчику - Интернет-магазину «Викишоп», в связи с запуском нового сервиса - предоставление пользователям возможности редактировать и дополнять **описания товаров** (как в вики-сообществах) необходимо разработать инструмент - модель машинного обучения (задача бинарной классификации, обучение с учителем), который будет определять токсичные комментарии и отправлять их на модерацию.\n",
        "\n",
        "От заказчика предоставлен набор данных с разметкой о токсичности правок (столбец *text* - текст комментария, а *toxic* — целевой признак).\n",
        "\n",
        "Тредование заказчика по качеству работы модели - значение метрики качества **F1** не меньше **0.75**.\n",
        "\n",
        "**Проект будет выполнен в 3 шага:**\n",
        "\n",
        "- загрузка, обзор и предобработка данных;\n",
        "- формирование признаков для моделей машинного обучения;\n",
        "- обучение различных моделей и подбор лучших гиперпараметров."
      ]
    },
    {
      "cell_type": "markdown",
      "metadata": {
        "id": "jSQ1dTP7hDDE"
      },
      "source": [
        "## Загрузка, обзор и предобработка данных"
      ]
    },
    {
      "cell_type": "code",
      "execution_count": null,
      "metadata": {
        "id": "mwEs2ByKhDDF"
      },
      "outputs": [],
      "source": [
        "import pandas as pd\n",
        "import matplotlib.pyplot as plt\n",
        "\n",
        "import re\n",
        "from nltk.corpus import stopwords\n",
        "from nltk.stem.wordnet import WordNetLemmatizer\n",
        "\n",
        "from sklearn.feature_extraction.text import TfidfVectorizer\n",
        "\n",
        "from sklearn.linear_model import LogisticRegression\n",
        "from sklearn.tree import DecisionTreeClassifier\n",
        "from sklearn.ensemble import RandomForestClassifier\n",
        "\n",
        "from sklearn.metrics import f1_score as f1_s\n",
        "from sklearn.model_selection import GridSearchCV\n",
        "\n",
        "from sklearn.experimental import enable_halving_search_cv\n",
        "from sklearn.model_selection import HalvingGridSearchCV, StratifiedKFold\n",
        "\n",
        "from sklearn.model_selection import train_test_split as tts\n",
        "\n",
        "import warnings\n",
        "warnings.filterwarnings('ignore')\n",
        "\n",
        "pd.set_option('display.max_colwidth', 100)"
      ]
    },
    {
      "cell_type": "code",
      "execution_count": null,
      "metadata": {
        "id": "rIaf2JJshDDG"
      },
      "outputs": [],
      "source": [
        "data = pd.read_csv('/datasets/toxic_comments.csv')"
      ]
    },
    {
      "cell_type": "code",
      "execution_count": null,
      "metadata": {
        "id": "lOCZjG5jhDDH",
        "outputId": "3267cee3-0127-4df5-ad75-b5b615832712"
      },
      "outputs": [
        {
          "name": "stdout",
          "output_type": "stream",
          "text": [
            "<class 'pandas.core.frame.DataFrame'>\n",
            "RangeIndex: 159292 entries, 0 to 159291\n",
            "Data columns (total 3 columns):\n",
            " #   Column      Non-Null Count   Dtype \n",
            "---  ------      --------------   ----- \n",
            " 0   Unnamed: 0  159292 non-null  int64 \n",
            " 1   text        159292 non-null  object\n",
            " 2   toxic       159292 non-null  int64 \n",
            "dtypes: int64(2), object(1)\n",
            "memory usage: 3.6+ MB\n"
          ]
        }
      ],
      "source": [
        "data.info()"
      ]
    },
    {
      "cell_type": "code",
      "execution_count": null,
      "metadata": {
        "id": "-rI7C1EohDDI",
        "outputId": "b1714429-ba7a-45af-976d-1cefcb1d352e"
      },
      "outputs": [
        {
          "data": {
            "text/html": [
              "<div>\n",
              "<style scoped>\n",
              "    .dataframe tbody tr th:only-of-type {\n",
              "        vertical-align: middle;\n",
              "    }\n",
              "\n",
              "    .dataframe tbody tr th {\n",
              "        vertical-align: top;\n",
              "    }\n",
              "\n",
              "    .dataframe thead th {\n",
              "        text-align: right;\n",
              "    }\n",
              "</style>\n",
              "<table border=\"1\" class=\"dataframe\">\n",
              "  <thead>\n",
              "    <tr style=\"text-align: right;\">\n",
              "      <th></th>\n",
              "      <th>Unnamed: 0</th>\n",
              "      <th>text</th>\n",
              "      <th>toxic</th>\n",
              "    </tr>\n",
              "  </thead>\n",
              "  <tbody>\n",
              "    <tr>\n",
              "      <th>0</th>\n",
              "      <td>0</td>\n",
              "      <td>Explanation\\nWhy the edits made under my username Hardcore Metallica Fan were reverted? They wer...</td>\n",
              "      <td>0</td>\n",
              "    </tr>\n",
              "    <tr>\n",
              "      <th>1</th>\n",
              "      <td>1</td>\n",
              "      <td>D'aww! He matches this background colour I'm seemingly stuck with. Thanks.  (talk) 21:51, Januar...</td>\n",
              "      <td>0</td>\n",
              "    </tr>\n",
              "    <tr>\n",
              "      <th>2</th>\n",
              "      <td>2</td>\n",
              "      <td>Hey man, I'm really not trying to edit war. It's just that this guy is constantly removing relev...</td>\n",
              "      <td>0</td>\n",
              "    </tr>\n",
              "    <tr>\n",
              "      <th>3</th>\n",
              "      <td>3</td>\n",
              "      <td>\"\\nMore\\nI can't make any real suggestions on improvement - I wondered if the section statistics...</td>\n",
              "      <td>0</td>\n",
              "    </tr>\n",
              "    <tr>\n",
              "      <th>4</th>\n",
              "      <td>4</td>\n",
              "      <td>You, sir, are my hero. Any chance you remember what page that's on?</td>\n",
              "      <td>0</td>\n",
              "    </tr>\n",
              "  </tbody>\n",
              "</table>\n",
              "</div>"
            ],
            "text/plain": [
              "   Unnamed: 0  \\\n",
              "0           0   \n",
              "1           1   \n",
              "2           2   \n",
              "3           3   \n",
              "4           4   \n",
              "\n",
              "                                                                                                  text  \\\n",
              "0  Explanation\\nWhy the edits made under my username Hardcore Metallica Fan were reverted? They wer...   \n",
              "1  D'aww! He matches this background colour I'm seemingly stuck with. Thanks.  (talk) 21:51, Januar...   \n",
              "2  Hey man, I'm really not trying to edit war. It's just that this guy is constantly removing relev...   \n",
              "3  \"\\nMore\\nI can't make any real suggestions on improvement - I wondered if the section statistics...   \n",
              "4                                  You, sir, are my hero. Any chance you remember what page that's on?   \n",
              "\n",
              "   toxic  \n",
              "0      0  \n",
              "1      0  \n",
              "2      0  \n",
              "3      0  \n",
              "4      0  "
            ]
          },
          "execution_count": 4,
          "metadata": {},
          "output_type": "execute_result"
        }
      ],
      "source": [
        "data.head()"
      ]
    },
    {
      "cell_type": "markdown",
      "metadata": {
        "id": "IMAg-EwKhDDI"
      },
      "source": [
        "Удалим лишнюю колонку \"Unnamed: 0\"."
      ]
    },
    {
      "cell_type": "code",
      "execution_count": null,
      "metadata": {
        "id": "fyHsLPuPhDDI"
      },
      "outputs": [],
      "source": [
        "data.drop(columns = data.columns[0], axis= 1 , inplace= True)"
      ]
    },
    {
      "cell_type": "code",
      "execution_count": null,
      "metadata": {
        "id": "juj1TG4-hDDI",
        "outputId": "e606c2f0-0e30-4b4d-eacc-3dc915a910e8"
      },
      "outputs": [
        {
          "name": "stdout",
          "output_type": "stream",
          "text": [
            "<class 'pandas.core.frame.DataFrame'>\n",
            "RangeIndex: 159292 entries, 0 to 159291\n",
            "Data columns (total 2 columns):\n",
            " #   Column  Non-Null Count   Dtype \n",
            "---  ------  --------------   ----- \n",
            " 0   text    159292 non-null  object\n",
            " 1   toxic   159292 non-null  int64 \n",
            "dtypes: int64(1), object(1)\n",
            "memory usage: 2.4+ MB\n"
          ]
        }
      ],
      "source": [
        "data.info()"
      ]
    },
    {
      "cell_type": "markdown",
      "metadata": {
        "id": "jJwiIxr-hDDJ"
      },
      "source": [
        "Скопируем колонку 'text' для того, чтобы дальнейшую предобработку комментариев осуществлять уже с данными в отдельной колонке, при этом не потеряв исходный вид (содержание) этих коментариев."
      ]
    },
    {
      "cell_type": "code",
      "execution_count": null,
      "metadata": {
        "id": "QUUZFQmxhDDJ"
      },
      "outputs": [],
      "source": [
        "data['origin_text'] = data['text'].copy()\n",
        "data = data.reindex(columns=['origin_text', 'text', 'toxic'])"
      ]
    },
    {
      "cell_type": "code",
      "execution_count": null,
      "metadata": {
        "id": "NL37h312hDDJ",
        "outputId": "d0805143-0ac0-4ee8-bb76-f6e762b1484a"
      },
      "outputs": [
        {
          "data": {
            "text/plain": [
              "0"
            ]
          },
          "execution_count": 8,
          "metadata": {},
          "output_type": "execute_result"
        }
      ],
      "source": [
        "data.duplicated().sum()"
      ]
    },
    {
      "cell_type": "markdown",
      "metadata": {
        "id": "jZUxOvHAhDDJ"
      },
      "source": [
        "Удалим из данных колонки \"text\" знаки препинания, числа, приведем к нижнему регистру, а разделим строку на отдельные слова (токены)."
      ]
    },
    {
      "cell_type": "code",
      "execution_count": null,
      "metadata": {
        "id": "AJYolDnThDDJ"
      },
      "outputs": [],
      "source": [
        "def clean_split(text):\n",
        "    return re.split(' ', (re.sub(r'[\\W\\d]\\s*', ' ', text).lower()))\n",
        "data['text'] = data['text'].apply(clean_split)"
      ]
    },
    {
      "cell_type": "code",
      "execution_count": null,
      "metadata": {
        "id": "0oTGZTKGhDDJ",
        "outputId": "f6e0c66e-7040-4ba3-e4c2-0259ac921f27"
      },
      "outputs": [
        {
          "data": {
            "text/html": [
              "<div>\n",
              "<style scoped>\n",
              "    .dataframe tbody tr th:only-of-type {\n",
              "        vertical-align: middle;\n",
              "    }\n",
              "\n",
              "    .dataframe tbody tr th {\n",
              "        vertical-align: top;\n",
              "    }\n",
              "\n",
              "    .dataframe thead th {\n",
              "        text-align: right;\n",
              "    }\n",
              "</style>\n",
              "<table border=\"1\" class=\"dataframe\">\n",
              "  <thead>\n",
              "    <tr style=\"text-align: right;\">\n",
              "      <th></th>\n",
              "      <th>origin_text</th>\n",
              "      <th>text</th>\n",
              "      <th>toxic</th>\n",
              "    </tr>\n",
              "  </thead>\n",
              "  <tbody>\n",
              "    <tr>\n",
              "      <th>0</th>\n",
              "      <td>Explanation\\nWhy the edits made under my username Hardcore Metallica Fan were reverted? They wer...</td>\n",
              "      <td>[explanation, why, the, edits, made, under, my, username, hardcore, metallica, fan, were, revert...</td>\n",
              "      <td>0</td>\n",
              "    </tr>\n",
              "    <tr>\n",
              "      <th>1</th>\n",
              "      <td>D'aww! He matches this background colour I'm seemingly stuck with. Thanks.  (talk) 21:51, Januar...</td>\n",
              "      <td>[d, aww, he, matches, this, background, colour, i, m, seemingly, stuck, with, thanks, , talk, , ...</td>\n",
              "      <td>0</td>\n",
              "    </tr>\n",
              "    <tr>\n",
              "      <th>2</th>\n",
              "      <td>Hey man, I'm really not trying to edit war. It's just that this guy is constantly removing relev...</td>\n",
              "      <td>[hey, man, i, m, really, not, trying, to, edit, war, it, s, just, that, this, guy, is, constantl...</td>\n",
              "      <td>0</td>\n",
              "    </tr>\n",
              "    <tr>\n",
              "      <th>3</th>\n",
              "      <td>\"\\nMore\\nI can't make any real suggestions on improvement - I wondered if the section statistics...</td>\n",
              "      <td>[, more, i, can, t, make, any, real, suggestions, on, improvement, , i, wondered, if, the, secti...</td>\n",
              "      <td>0</td>\n",
              "    </tr>\n",
              "    <tr>\n",
              "      <th>4</th>\n",
              "      <td>You, sir, are my hero. Any chance you remember what page that's on?</td>\n",
              "      <td>[you, sir, are, my, hero, any, chance, you, remember, what, page, that, s, on, ]</td>\n",
              "      <td>0</td>\n",
              "    </tr>\n",
              "    <tr>\n",
              "      <th>5</th>\n",
              "      <td>\"\\n\\nCongratulations from me as well, use the tools well.  · talk \"</td>\n",
              "      <td>[, congratulations, from, me, as, well, use, the, tools, well, , talk, , ]</td>\n",
              "      <td>0</td>\n",
              "    </tr>\n",
              "    <tr>\n",
              "      <th>6</th>\n",
              "      <td>COCKSUCKER BEFORE YOU PISS AROUND ON MY WORK</td>\n",
              "      <td>[cocksucker, before, you, piss, around, on, my, work]</td>\n",
              "      <td>1</td>\n",
              "    </tr>\n",
              "    <tr>\n",
              "      <th>7</th>\n",
              "      <td>Your vandalism to the Matt Shirvington article has been reverted.  Please don't do it again, or ...</td>\n",
              "      <td>[your, vandalism, to, the, matt, shirvington, article, has, been, reverted, please, don, t, do, ...</td>\n",
              "      <td>0</td>\n",
              "    </tr>\n",
              "    <tr>\n",
              "      <th>8</th>\n",
              "      <td>Sorry if the word 'nonsense' was offensive to you. Anyway, I'm not intending to write anything i...</td>\n",
              "      <td>[sorry, if, the, word, , nonsense, was, offensive, to, you, anyway, i, m, not, intending, to, wr...</td>\n",
              "      <td>0</td>\n",
              "    </tr>\n",
              "    <tr>\n",
              "      <th>9</th>\n",
              "      <td>alignment on this subject and which are contrary to those of DuLithgow</td>\n",
              "      <td>[alignment, on, this, subject, and, which, are, contrary, to, those, of, dulithgow]</td>\n",
              "      <td>0</td>\n",
              "    </tr>\n",
              "  </tbody>\n",
              "</table>\n",
              "</div>"
            ],
            "text/plain": [
              "                                                                                           origin_text  \\\n",
              "0  Explanation\\nWhy the edits made under my username Hardcore Metallica Fan were reverted? They wer...   \n",
              "1  D'aww! He matches this background colour I'm seemingly stuck with. Thanks.  (talk) 21:51, Januar...   \n",
              "2  Hey man, I'm really not trying to edit war. It's just that this guy is constantly removing relev...   \n",
              "3  \"\\nMore\\nI can't make any real suggestions on improvement - I wondered if the section statistics...   \n",
              "4                                  You, sir, are my hero. Any chance you remember what page that's on?   \n",
              "5                                  \"\\n\\nCongratulations from me as well, use the tools well.  · talk \"   \n",
              "6                                                         COCKSUCKER BEFORE YOU PISS AROUND ON MY WORK   \n",
              "7  Your vandalism to the Matt Shirvington article has been reverted.  Please don't do it again, or ...   \n",
              "8  Sorry if the word 'nonsense' was offensive to you. Anyway, I'm not intending to write anything i...   \n",
              "9                               alignment on this subject and which are contrary to those of DuLithgow   \n",
              "\n",
              "                                                                                                  text  \\\n",
              "0  [explanation, why, the, edits, made, under, my, username, hardcore, metallica, fan, were, revert...   \n",
              "1  [d, aww, he, matches, this, background, colour, i, m, seemingly, stuck, with, thanks, , talk, , ...   \n",
              "2  [hey, man, i, m, really, not, trying, to, edit, war, it, s, just, that, this, guy, is, constantl...   \n",
              "3  [, more, i, can, t, make, any, real, suggestions, on, improvement, , i, wondered, if, the, secti...   \n",
              "4                     [you, sir, are, my, hero, any, chance, you, remember, what, page, that, s, on, ]   \n",
              "5                           [, congratulations, from, me, as, well, use, the, tools, well, , talk, , ]   \n",
              "6                                                [cocksucker, before, you, piss, around, on, my, work]   \n",
              "7  [your, vandalism, to, the, matt, shirvington, article, has, been, reverted, please, don, t, do, ...   \n",
              "8  [sorry, if, the, word, , nonsense, was, offensive, to, you, anyway, i, m, not, intending, to, wr...   \n",
              "9                  [alignment, on, this, subject, and, which, are, contrary, to, those, of, dulithgow]   \n",
              "\n",
              "   toxic  \n",
              "0      0  \n",
              "1      0  \n",
              "2      0  \n",
              "3      0  \n",
              "4      0  \n",
              "5      0  \n",
              "6      1  \n",
              "7      0  \n",
              "8      0  \n",
              "9      0  "
            ]
          },
          "execution_count": 10,
          "metadata": {},
          "output_type": "execute_result"
        }
      ],
      "source": [
        "data.head(10)"
      ]
    },
    {
      "cell_type": "markdown",
      "metadata": {
        "id": "JVwUUCD9hDDK"
      },
      "source": [
        "Удалим стоп-слова (слова, не несущие значения)"
      ]
    },
    {
      "cell_type": "code",
      "execution_count": null,
      "metadata": {
        "id": "9XyEakMwhDDK"
      },
      "outputs": [],
      "source": [
        "stop_words = stopwords.words('english')\n",
        "\n",
        "def del_stop_words(text):\n",
        "    return [word for word in text if word not in stop_words]\n",
        "\n",
        "data['text'] = data['text'].apply(del_stop_words)"
      ]
    },
    {
      "cell_type": "markdown",
      "metadata": {
        "id": "D_aE_e09hDDK"
      },
      "source": [
        "Приведем слова к первоначальной форме-лемме."
      ]
    },
    {
      "cell_type": "code",
      "execution_count": null,
      "metadata": {
        "id": "3V8Pte0QhDDK"
      },
      "outputs": [],
      "source": [
        "lemmatizer = WordNetLemmatizer()\n",
        "\n",
        "def lemmatize(text):\n",
        "    return [lemmatizer.lemmatize(word) for word in text]\n",
        "\n",
        "data['text'] = data['text'].apply(lemmatize)"
      ]
    },
    {
      "cell_type": "code",
      "execution_count": null,
      "metadata": {
        "id": "9ZWnXLqphDDK",
        "outputId": "3e9a8876-4f9d-4842-de8a-98d27e5ec303"
      },
      "outputs": [
        {
          "data": {
            "text/html": [
              "<div>\n",
              "<style scoped>\n",
              "    .dataframe tbody tr th:only-of-type {\n",
              "        vertical-align: middle;\n",
              "    }\n",
              "\n",
              "    .dataframe tbody tr th {\n",
              "        vertical-align: top;\n",
              "    }\n",
              "\n",
              "    .dataframe thead th {\n",
              "        text-align: right;\n",
              "    }\n",
              "</style>\n",
              "<table border=\"1\" class=\"dataframe\">\n",
              "  <thead>\n",
              "    <tr style=\"text-align: right;\">\n",
              "      <th></th>\n",
              "      <th>origin_text</th>\n",
              "      <th>text</th>\n",
              "      <th>toxic</th>\n",
              "    </tr>\n",
              "  </thead>\n",
              "  <tbody>\n",
              "    <tr>\n",
              "      <th>0</th>\n",
              "      <td>Explanation\\nWhy the edits made under my username Hardcore Metallica Fan were reverted? They wer...</td>\n",
              "      <td>[explanation, edits, made, username, hardcore, metallica, fan, reverted, vandalism, closure, gas...</td>\n",
              "      <td>0</td>\n",
              "    </tr>\n",
              "    <tr>\n",
              "      <th>1</th>\n",
              "      <td>D'aww! He matches this background colour I'm seemingly stuck with. Thanks.  (talk) 21:51, Januar...</td>\n",
              "      <td>[aww, match, background, colour, seemingly, stuck, thanks, , talk, , , , , , , january, , , , , ...</td>\n",
              "      <td>0</td>\n",
              "    </tr>\n",
              "    <tr>\n",
              "      <th>2</th>\n",
              "      <td>Hey man, I'm really not trying to edit war. It's just that this guy is constantly removing relev...</td>\n",
              "      <td>[hey, man, really, trying, edit, war, guy, constantly, removing, relevant, information, talking,...</td>\n",
              "      <td>0</td>\n",
              "    </tr>\n",
              "    <tr>\n",
              "      <th>3</th>\n",
              "      <td>\"\\nMore\\nI can't make any real suggestions on improvement - I wondered if the section statistics...</td>\n",
              "      <td>[, make, real, suggestion, improvement, , wondered, section, statistic, later, subsection, , , t...</td>\n",
              "      <td>0</td>\n",
              "    </tr>\n",
              "    <tr>\n",
              "      <th>4</th>\n",
              "      <td>You, sir, are my hero. Any chance you remember what page that's on?</td>\n",
              "      <td>[sir, hero, chance, remember, page, ]</td>\n",
              "      <td>0</td>\n",
              "    </tr>\n",
              "    <tr>\n",
              "      <th>5</th>\n",
              "      <td>\"\\n\\nCongratulations from me as well, use the tools well.  · talk \"</td>\n",
              "      <td>[, congratulation, well, use, tool, well, , talk, , ]</td>\n",
              "      <td>0</td>\n",
              "    </tr>\n",
              "    <tr>\n",
              "      <th>6</th>\n",
              "      <td>COCKSUCKER BEFORE YOU PISS AROUND ON MY WORK</td>\n",
              "      <td>[cocksucker, piss, around, work]</td>\n",
              "      <td>1</td>\n",
              "    </tr>\n",
              "    <tr>\n",
              "      <th>7</th>\n",
              "      <td>Your vandalism to the Matt Shirvington article has been reverted.  Please don't do it again, or ...</td>\n",
              "      <td>[vandalism, matt, shirvington, article, reverted, please, banned, ]</td>\n",
              "      <td>0</td>\n",
              "    </tr>\n",
              "    <tr>\n",
              "      <th>8</th>\n",
              "      <td>Sorry if the word 'nonsense' was offensive to you. Anyway, I'm not intending to write anything i...</td>\n",
              "      <td>[sorry, word, , nonsense, offensive, anyway, intending, write, anything, article, wow, would, ju...</td>\n",
              "      <td>0</td>\n",
              "    </tr>\n",
              "    <tr>\n",
              "      <th>9</th>\n",
              "      <td>alignment on this subject and which are contrary to those of DuLithgow</td>\n",
              "      <td>[alignment, subject, contrary, dulithgow]</td>\n",
              "      <td>0</td>\n",
              "    </tr>\n",
              "  </tbody>\n",
              "</table>\n",
              "</div>"
            ],
            "text/plain": [
              "                                                                                           origin_text  \\\n",
              "0  Explanation\\nWhy the edits made under my username Hardcore Metallica Fan were reverted? They wer...   \n",
              "1  D'aww! He matches this background colour I'm seemingly stuck with. Thanks.  (talk) 21:51, Januar...   \n",
              "2  Hey man, I'm really not trying to edit war. It's just that this guy is constantly removing relev...   \n",
              "3  \"\\nMore\\nI can't make any real suggestions on improvement - I wondered if the section statistics...   \n",
              "4                                  You, sir, are my hero. Any chance you remember what page that's on?   \n",
              "5                                  \"\\n\\nCongratulations from me as well, use the tools well.  · talk \"   \n",
              "6                                                         COCKSUCKER BEFORE YOU PISS AROUND ON MY WORK   \n",
              "7  Your vandalism to the Matt Shirvington article has been reverted.  Please don't do it again, or ...   \n",
              "8  Sorry if the word 'nonsense' was offensive to you. Anyway, I'm not intending to write anything i...   \n",
              "9                               alignment on this subject and which are contrary to those of DuLithgow   \n",
              "\n",
              "                                                                                                  text  \\\n",
              "0  [explanation, edits, made, username, hardcore, metallica, fan, reverted, vandalism, closure, gas...   \n",
              "1  [aww, match, background, colour, seemingly, stuck, thanks, , talk, , , , , , , january, , , , , ...   \n",
              "2  [hey, man, really, trying, edit, war, guy, constantly, removing, relevant, information, talking,...   \n",
              "3  [, make, real, suggestion, improvement, , wondered, section, statistic, later, subsection, , , t...   \n",
              "4                                                                [sir, hero, chance, remember, page, ]   \n",
              "5                                                [, congratulation, well, use, tool, well, , talk, , ]   \n",
              "6                                                                     [cocksucker, piss, around, work]   \n",
              "7                                  [vandalism, matt, shirvington, article, reverted, please, banned, ]   \n",
              "8  [sorry, word, , nonsense, offensive, anyway, intending, write, anything, article, wow, would, ju...   \n",
              "9                                                            [alignment, subject, contrary, dulithgow]   \n",
              "\n",
              "   toxic  \n",
              "0      0  \n",
              "1      0  \n",
              "2      0  \n",
              "3      0  \n",
              "4      0  \n",
              "5      0  \n",
              "6      1  \n",
              "7      0  \n",
              "8      0  \n",
              "9      0  "
            ]
          },
          "execution_count": 13,
          "metadata": {},
          "output_type": "execute_result"
        }
      ],
      "source": [
        "data.head(10)"
      ]
    },
    {
      "cell_type": "markdown",
      "metadata": {
        "id": "ALoZJz6qhDDL"
      },
      "source": [
        "Удалим пустые значения в колонке \"text\"."
      ]
    },
    {
      "cell_type": "code",
      "execution_count": null,
      "metadata": {
        "id": "q8lqZRnKhDDL"
      },
      "outputs": [],
      "source": [
        "def del_na(text):\n",
        "    return [word for word in text if word!='']\n",
        "data['text'] = data['text'].apply(del_na)"
      ]
    },
    {
      "cell_type": "markdown",
      "metadata": {
        "id": "JaI2o2UhhDDL"
      },
      "source": [
        "В результете получаем: \"было\" - столбец \"origin_text\", \"стало\" - столбец \"text\"."
      ]
    },
    {
      "cell_type": "code",
      "execution_count": null,
      "metadata": {
        "id": "2eIrroxuhDDL",
        "outputId": "6c5bb61e-3d7b-40f1-8719-06b8e4a5df3c"
      },
      "outputs": [
        {
          "data": {
            "text/html": [
              "<div>\n",
              "<style scoped>\n",
              "    .dataframe tbody tr th:only-of-type {\n",
              "        vertical-align: middle;\n",
              "    }\n",
              "\n",
              "    .dataframe tbody tr th {\n",
              "        vertical-align: top;\n",
              "    }\n",
              "\n",
              "    .dataframe thead th {\n",
              "        text-align: right;\n",
              "    }\n",
              "</style>\n",
              "<table border=\"1\" class=\"dataframe\">\n",
              "  <thead>\n",
              "    <tr style=\"text-align: right;\">\n",
              "      <th></th>\n",
              "      <th>origin_text</th>\n",
              "      <th>text</th>\n",
              "      <th>toxic</th>\n",
              "    </tr>\n",
              "  </thead>\n",
              "  <tbody>\n",
              "    <tr>\n",
              "      <th>0</th>\n",
              "      <td>Explanation\\nWhy the edits made under my username Hardcore Metallica Fan were reverted? They wer...</td>\n",
              "      <td>[explanation, edits, made, username, hardcore, metallica, fan, reverted, vandalism, closure, gas...</td>\n",
              "      <td>0</td>\n",
              "    </tr>\n",
              "    <tr>\n",
              "      <th>1</th>\n",
              "      <td>D'aww! He matches this background colour I'm seemingly stuck with. Thanks.  (talk) 21:51, Januar...</td>\n",
              "      <td>[aww, match, background, colour, seemingly, stuck, thanks, talk, january, utc]</td>\n",
              "      <td>0</td>\n",
              "    </tr>\n",
              "    <tr>\n",
              "      <th>2</th>\n",
              "      <td>Hey man, I'm really not trying to edit war. It's just that this guy is constantly removing relev...</td>\n",
              "      <td>[hey, man, really, trying, edit, war, guy, constantly, removing, relevant, information, talking,...</td>\n",
              "      <td>0</td>\n",
              "    </tr>\n",
              "    <tr>\n",
              "      <th>3</th>\n",
              "      <td>\"\\nMore\\nI can't make any real suggestions on improvement - I wondered if the section statistics...</td>\n",
              "      <td>[make, real, suggestion, improvement, wondered, section, statistic, later, subsection, type, acc...</td>\n",
              "      <td>0</td>\n",
              "    </tr>\n",
              "    <tr>\n",
              "      <th>4</th>\n",
              "      <td>You, sir, are my hero. Any chance you remember what page that's on?</td>\n",
              "      <td>[sir, hero, chance, remember, page]</td>\n",
              "      <td>0</td>\n",
              "    </tr>\n",
              "    <tr>\n",
              "      <th>5</th>\n",
              "      <td>\"\\n\\nCongratulations from me as well, use the tools well.  · talk \"</td>\n",
              "      <td>[congratulation, well, use, tool, well, talk]</td>\n",
              "      <td>0</td>\n",
              "    </tr>\n",
              "    <tr>\n",
              "      <th>6</th>\n",
              "      <td>COCKSUCKER BEFORE YOU PISS AROUND ON MY WORK</td>\n",
              "      <td>[cocksucker, piss, around, work]</td>\n",
              "      <td>1</td>\n",
              "    </tr>\n",
              "    <tr>\n",
              "      <th>7</th>\n",
              "      <td>Your vandalism to the Matt Shirvington article has been reverted.  Please don't do it again, or ...</td>\n",
              "      <td>[vandalism, matt, shirvington, article, reverted, please, banned]</td>\n",
              "      <td>0</td>\n",
              "    </tr>\n",
              "    <tr>\n",
              "      <th>8</th>\n",
              "      <td>Sorry if the word 'nonsense' was offensive to you. Anyway, I'm not intending to write anything i...</td>\n",
              "      <td>[sorry, word, nonsense, offensive, anyway, intending, write, anything, article, wow, would, jump...</td>\n",
              "      <td>0</td>\n",
              "    </tr>\n",
              "    <tr>\n",
              "      <th>9</th>\n",
              "      <td>alignment on this subject and which are contrary to those of DuLithgow</td>\n",
              "      <td>[alignment, subject, contrary, dulithgow]</td>\n",
              "      <td>0</td>\n",
              "    </tr>\n",
              "  </tbody>\n",
              "</table>\n",
              "</div>"
            ],
            "text/plain": [
              "                                                                                           origin_text  \\\n",
              "0  Explanation\\nWhy the edits made under my username Hardcore Metallica Fan were reverted? They wer...   \n",
              "1  D'aww! He matches this background colour I'm seemingly stuck with. Thanks.  (talk) 21:51, Januar...   \n",
              "2  Hey man, I'm really not trying to edit war. It's just that this guy is constantly removing relev...   \n",
              "3  \"\\nMore\\nI can't make any real suggestions on improvement - I wondered if the section statistics...   \n",
              "4                                  You, sir, are my hero. Any chance you remember what page that's on?   \n",
              "5                                  \"\\n\\nCongratulations from me as well, use the tools well.  · talk \"   \n",
              "6                                                         COCKSUCKER BEFORE YOU PISS AROUND ON MY WORK   \n",
              "7  Your vandalism to the Matt Shirvington article has been reverted.  Please don't do it again, or ...   \n",
              "8  Sorry if the word 'nonsense' was offensive to you. Anyway, I'm not intending to write anything i...   \n",
              "9                               alignment on this subject and which are contrary to those of DuLithgow   \n",
              "\n",
              "                                                                                                  text  \\\n",
              "0  [explanation, edits, made, username, hardcore, metallica, fan, reverted, vandalism, closure, gas...   \n",
              "1                       [aww, match, background, colour, seemingly, stuck, thanks, talk, january, utc]   \n",
              "2  [hey, man, really, trying, edit, war, guy, constantly, removing, relevant, information, talking,...   \n",
              "3  [make, real, suggestion, improvement, wondered, section, statistic, later, subsection, type, acc...   \n",
              "4                                                                  [sir, hero, chance, remember, page]   \n",
              "5                                                        [congratulation, well, use, tool, well, talk]   \n",
              "6                                                                     [cocksucker, piss, around, work]   \n",
              "7                                    [vandalism, matt, shirvington, article, reverted, please, banned]   \n",
              "8  [sorry, word, nonsense, offensive, anyway, intending, write, anything, article, wow, would, jump...   \n",
              "9                                                            [alignment, subject, contrary, dulithgow]   \n",
              "\n",
              "   toxic  \n",
              "0      0  \n",
              "1      0  \n",
              "2      0  \n",
              "3      0  \n",
              "4      0  \n",
              "5      0  \n",
              "6      1  \n",
              "7      0  \n",
              "8      0  \n",
              "9      0  "
            ]
          },
          "execution_count": 15,
          "metadata": {},
          "output_type": "execute_result"
        }
      ],
      "source": [
        "data.head(10)"
      ]
    },
    {
      "cell_type": "markdown",
      "metadata": {
        "id": "Fjyj9_TBhDDL"
      },
      "source": [
        "**Вывод по разделу:**\n",
        "\n",
        "В исследуемом датасете изначально было 3 столбца и 159 292 строк. Данные не имели пропусков и полных явных дубликатов строк. Типы данных также не требовали корректировки.\n",
        "\n",
        "Была произедена предобработка данных:\n",
        "\n",
        "- удален лишний столбец \"Unnamed: 0\";\n",
        "- данные столбца \"text\" были скопированы в отдельный столбец для сохранения исходного текста коментариев;\n",
        "- данные столбца \"text\" были подготовлены к формированию признаков моделей машинного обучаения: тексты приведены к нижнему регистру, слова - к первоначальной форме (лемме), удалены стоп-слова (предлоги, союзы и т.д.. не несущие смысла), тексты комментариев преобразованы в списки слов - токены.\n",
        "\n",
        "В результате проведенной обработки - получили данные, которые можно использовать для формирования признаков для обучения моделей машинного обучения."
      ]
    },
    {
      "cell_type": "markdown",
      "metadata": {
        "id": "1uk47GeLhDDM"
      },
      "source": [
        "## Формирование признаков для моделей машинного обучения"
      ]
    },
    {
      "cell_type": "markdown",
      "metadata": {
        "id": "8JD55sQuhDDM"
      },
      "source": [
        "Разделим датасет на обучающую и тестовую выборки в соотношении 4:1."
      ]
    },
    {
      "cell_type": "code",
      "execution_count": null,
      "metadata": {
        "id": "LW5o41dXhDDM"
      },
      "outputs": [],
      "source": [
        "train, test = tts(data, test_size=0.2, random_state=12345)"
      ]
    },
    {
      "cell_type": "code",
      "execution_count": null,
      "metadata": {
        "id": "lfNzKddshDDM",
        "outputId": "a763f3a4-dd12-493c-f105-487a52cdfda6"
      },
      "outputs": [
        {
          "data": {
            "text/plain": [
              "(127433, 3)"
            ]
          },
          "execution_count": 17,
          "metadata": {},
          "output_type": "execute_result"
        }
      ],
      "source": [
        "train.shape"
      ]
    },
    {
      "cell_type": "code",
      "execution_count": null,
      "metadata": {
        "id": "h61iTCPYhDDM",
        "outputId": "6fb2e002-bfb2-4b2e-e649-b19d88bc3c8f"
      },
      "outputs": [
        {
          "data": {
            "text/plain": [
              "(31859, 3)"
            ]
          },
          "execution_count": 18,
          "metadata": {},
          "output_type": "execute_result"
        }
      ],
      "source": [
        "test.shape"
      ]
    },
    {
      "cell_type": "markdown",
      "metadata": {
        "id": "Uc6h7JGVhDDM"
      },
      "source": [
        "Проведем оценку сбалансированности классов позитивных и негативных комментариев:"
      ]
    },
    {
      "cell_type": "code",
      "execution_count": null,
      "metadata": {
        "id": "dEWXnr50hDDN",
        "outputId": "31d2edde-27bb-43dd-fff8-af36fa704a7d"
      },
      "outputs": [
        {
          "data": {
            "image/png": "[encoded data removed]",
            "text/plain": [
              "<Figure size 432x288 with 1 Axes>"
            ]
          },
          "metadata": {
            "needs_background": "light"
          },
          "output_type": "display_data"
        }
      ],
      "source": [
        "train['toxic'].value_counts().plot.bar();"
      ]
    },
    {
      "cell_type": "markdown",
      "metadata": {
        "id": "XnEWs-2YhDDN"
      },
      "source": [
        "По графику очевидна разбалансированность классов в сторону существенно большего объема позитивных комментариев (0), в сравнении с негативными (1).\n",
        "\n",
        "Данное обстоятельство должно быть учтено при формировании моделей машинного обучения через установление для параметра \"вес класса\" значения \"сбалансированный\"."
      ]
    },
    {
      "cell_type": "markdown",
      "metadata": {
        "id": "TwpFw28zhDDN"
      },
      "source": [
        "Создадим счетчик TF-IDF"
      ]
    },
    {
      "cell_type": "code",
      "execution_count": null,
      "metadata": {
        "id": "ginzBnKfhDDN"
      },
      "outputs": [],
      "source": [
        "count_tf_idf = TfidfVectorizer()"
      ]
    },
    {
      "cell_type": "markdown",
      "metadata": {
        "id": "TeUDw7c3hDDO"
      },
      "source": [
        "Сформируем обучающую и тестовую выборки признаков и целевого признака."
      ]
    },
    {
      "cell_type": "code",
      "execution_count": null,
      "metadata": {
        "id": "od9y_BhOhDDO"
      },
      "outputs": [],
      "source": [
        "features_train = train['text'].astype('U')\n",
        "target_train   = train['toxic']\n",
        "\n",
        "features_test = test['text'].astype('U')\n",
        "target_test   = test['toxic']"
      ]
    },
    {
      "cell_type": "markdown",
      "metadata": {
        "id": "xFopeml5hDDO"
      },
      "source": [
        "Применим счетчик TF-IDF к выборкам признаков. Обучим на train и применим к train и test."
      ]
    },
    {
      "cell_type": "code",
      "execution_count": null,
      "metadata": {
        "id": "0qtOgC7OhDDP"
      },
      "outputs": [],
      "source": [
        "features_train = count_tf_idf.fit_transform(features_train)\n",
        "features_test  = count_tf_idf.transform(features_test)"
      ]
    },
    {
      "cell_type": "markdown",
      "metadata": {
        "id": "5oVSo-r4hDDP"
      },
      "source": [
        "## Обучение моделей и расчет целевой метрики (f1)"
      ]
    },
    {
      "cell_type": "markdown",
      "metadata": {
        "id": "bRnwMZSfhDDP"
      },
      "source": [
        "### Модель Логистическая регрессия"
      ]
    },
    {
      "cell_type": "code",
      "execution_count": null,
      "metadata": {
        "id": "vObFyvMRhDDP"
      },
      "outputs": [],
      "source": [
        "model_lr = LogisticRegression()"
      ]
    },
    {
      "cell_type": "code",
      "execution_count": null,
      "metadata": {
        "id": "ShV_fskXhDDP",
        "outputId": "a562ea44-a79e-4d7e-92b0-bc48f08241dd"
      },
      "outputs": [
        {
          "name": "stdout",
          "output_type": "stream",
          "text": [
            "n_iterations: 2\n",
            "n_required_iterations: 2\n",
            "n_possible_iterations: 2\n",
            "min_resources_: 42477\n",
            "max_resources_: 127433\n",
            "aggressive_elimination: False\n",
            "factor: 3\n",
            "----------\n",
            "iter: 0\n",
            "n_candidates: 4\n",
            "n_resources: 42477\n",
            "Fitting 2 folds for each of 4 candidates, totalling 8 fits\n",
            "[CV 1/2] END ...........................................C=12; total time=  34.6s\n",
            "[CV 2/2] END ...........................................C=12; total time=  42.9s\n",
            "[CV 1/2] END ...........................................C=14; total time=  35.6s\n",
            "[CV 2/2] END ...........................................C=14; total time=  44.3s\n",
            "[CV 1/2] END ...........................................C=16; total time=  26.1s\n",
            "[CV 2/2] END ...........................................C=16; total time=  33.9s\n",
            "[CV 1/2] END ...........................................C=18; total time=  34.4s\n",
            "[CV 2/2] END ...........................................C=18; total time=  34.7s\n",
            "----------\n",
            "iter: 1\n",
            "n_candidates: 2\n",
            "n_resources: 127431\n",
            "Fitting 2 folds for each of 2 candidates, totalling 4 fits\n",
            "[CV 1/2] END ...........................................C=16; total time=  40.3s\n",
            "[CV 2/2] END ...........................................C=16; total time=  43.1s\n",
            "[CV 1/2] END ...........................................C=18; total time=  41.2s\n",
            "[CV 2/2] END ...........................................C=18; total time=  43.3s\n"
          ]
        },
        {
          "data": {
            "text/plain": [
              "0.7571856259926213"
            ]
          },
          "execution_count": 24,
          "metadata": {},
          "output_type": "execute_result"
        }
      ],
      "source": [
        "#grid_lr = GridSearchCV(model_lr, {\"C\" : range(1,13,1)}, f1_s)\n",
        "#grid_lr.fit(features_train, target_train)\n",
        "# поиск параметра С через GridSearchCV , почему-то приводит у \"зависанию\" Юпитера. :-(.\n",
        "#Пришлось перебрать руками, меняя в настройках модели.\n",
        "#model_lr.fit(features_train, target_train)\n",
        "\n",
        "\n",
        "skf = StratifiedKFold(n_splits=2, shuffle=True, random_state=12345)\n",
        "\n",
        "param = {'C': range(12,19,2)}\n",
        "\n",
        "grid_lr = HalvingGridSearchCV(model_lr, param, factor=3, resource='n_samples', max_resources='auto',\n",
        "                              min_resources='exhaust', aggressive_elimination=False, cv=skf, scoring='f1',\n",
        "                              refit=True, return_train_score=True, random_state=None, n_jobs=-1, verbose=3)\n",
        "\n",
        "grid_lr.fit(features_train, target_train)\n",
        "\n",
        "grid_lr.best_score_"
      ]
    },
    {
      "cell_type": "code",
      "execution_count": null,
      "metadata": {
        "id": "7KGu2GoshDDQ",
        "outputId": "104cd69f-07af-4692-8d04-50fbbe36daca"
      },
      "outputs": [
        {
          "data": {
            "text/plain": [
              "LogisticRegression(C=16)"
            ]
          },
          "execution_count": 25,
          "metadata": {},
          "output_type": "execute_result"
        }
      ],
      "source": [
        "grid_lr.best_estimator_"
      ]
    },
    {
      "cell_type": "markdown",
      "metadata": {
        "id": "rCRS-JN2hDDR"
      },
      "source": [
        "### Модель Решающее дерево"
      ]
    },
    {
      "cell_type": "code",
      "execution_count": null,
      "metadata": {
        "id": "jKy_eC2ThDDS"
      },
      "outputs": [],
      "source": [
        "model_dtc= DecisionTreeClassifier()   #class_weight='balanced', max_depth = 12"
      ]
    },
    {
      "cell_type": "code",
      "execution_count": null,
      "metadata": {
        "id": "nz9o-Pd-hDDS",
        "outputId": "bfd5542f-c981-4e27-83e2-e491981e00fd"
      },
      "outputs": [
        {
          "name": "stdout",
          "output_type": "stream",
          "text": [
            "n_iterations: 2\n",
            "n_required_iterations: 2\n",
            "n_possible_iterations: 2\n",
            "min_resources_: 42477\n",
            "max_resources_: 127433\n",
            "aggressive_elimination: False\n",
            "factor: 3\n",
            "----------\n",
            "iter: 0\n",
            "n_candidates: 6\n",
            "n_resources: 42477\n",
            "Fitting 2 folds for each of 6 candidates, totalling 12 fits\n",
            "[CV 1/2] END ...................................max_depth=50; total time=   5.5s\n",
            "[CV 2/2] END ...................................max_depth=50; total time=   5.4s\n",
            "[CV 1/2] END ...................................max_depth=60; total time=   6.4s\n",
            "[CV 2/2] END ...................................max_depth=60; total time=   6.2s\n",
            "[CV 1/2] END ...................................max_depth=70; total time=   7.1s\n",
            "[CV 2/2] END ...................................max_depth=70; total time=   6.6s\n",
            "[CV 1/2] END ...................................max_depth=80; total time=   7.5s\n",
            "[CV 2/2] END ...................................max_depth=80; total time=   7.6s\n",
            "[CV 1/2] END ...................................max_depth=90; total time=   8.5s\n",
            "[CV 2/2] END ...................................max_depth=90; total time=   8.4s\n",
            "[CV 1/2] END ..................................max_depth=100; total time=   9.2s\n",
            "[CV 2/2] END ..................................max_depth=100; total time=   9.5s\n",
            "----------\n",
            "iter: 1\n",
            "n_candidates: 2\n",
            "n_resources: 127431\n",
            "Fitting 2 folds for each of 2 candidates, totalling 4 fits\n",
            "[CV 1/2] END ...................................max_depth=80; total time=  29.3s\n",
            "[CV 2/2] END ...................................max_depth=80; total time=  28.3s\n",
            "[CV 1/2] END ...................................max_depth=90; total time=  31.6s\n",
            "[CV 2/2] END ...................................max_depth=90; total time=  30.8s\n"
          ]
        },
        {
          "data": {
            "text/plain": [
              "0.7228391873867408"
            ]
          },
          "execution_count": 29,
          "metadata": {},
          "output_type": "execute_result"
        }
      ],
      "source": [
        "param = {'max_depth': range(50,101,10)}\n",
        "\n",
        "grid_dtc = HalvingGridSearchCV(model_dtc, param, factor=3, resource='n_samples', max_resources='auto',\n",
        "                              min_resources='exhaust', aggressive_elimination=False, cv=skf, scoring='f1',\n",
        "                              refit=True, return_train_score=True, random_state=None, n_jobs=-1, verbose=3)\n",
        "\n",
        "grid_dtc.fit(features_train, target_train)\n",
        "\n",
        "grid_dtc.best_score_"
      ]
    },
    {
      "cell_type": "code",
      "execution_count": null,
      "metadata": {
        "id": "FCSBwiZghDDS",
        "outputId": "98868b6c-d6f0-480f-8beb-aab74c894e37"
      },
      "outputs": [
        {
          "data": {
            "text/plain": [
              "DecisionTreeClassifier(max_depth=90)"
            ]
          },
          "execution_count": 30,
          "metadata": {},
          "output_type": "execute_result"
        }
      ],
      "source": [
        "grid_dtc.best_estimator_"
      ]
    },
    {
      "cell_type": "markdown",
      "metadata": {
        "id": "eoq9dxhdhDDT"
      },
      "source": [
        "### Модель Случайный лес"
      ]
    },
    {
      "cell_type": "code",
      "execution_count": null,
      "metadata": {
        "id": "fIJ8g9kchDDT"
      },
      "outputs": [],
      "source": [
        "model_rfc = RandomForestClassifier()  #class_weight='balanced', max_depth = 12"
      ]
    },
    {
      "cell_type": "code",
      "execution_count": null,
      "metadata": {
        "id": "HtD2X3HvhDDT",
        "outputId": "fba95ec7-969d-4fc2-8579-bd1b22c758f7"
      },
      "outputs": [
        {
          "name": "stdout",
          "output_type": "stream",
          "text": [
            "n_iterations: 4\n",
            "n_required_iterations: 4\n",
            "n_possible_iterations: 4\n",
            "min_resources_: 4719\n",
            "max_resources_: 127433\n",
            "aggressive_elimination: False\n",
            "factor: 3\n",
            "----------\n",
            "iter: 0\n",
            "n_candidates: 77\n",
            "n_resources: 4719\n",
            "Fitting 2 folds for each of 77 candidates, totalling 154 fits\n",
            "[CV 1/2] END ...................max_depth=10, n_estimators=1; total time=   0.0s\n",
            "[CV 2/2] END ...................max_depth=10, n_estimators=1; total time=   0.0s\n",
            "[CV 1/2] END ..................max_depth=10, n_estimators=51; total time=   0.3s\n",
            "[CV 2/2] END ..................max_depth=10, n_estimators=51; total time=   0.3s\n",
            "[CV 1/2] END .................max_depth=10, n_estimators=101; total time=   0.5s\n",
            "[CV 2/2] END .................max_depth=10, n_estimators=101; total time=   0.5s\n",
            "[CV 1/2] END .................max_depth=10, n_estimators=151; total time=   0.7s\n",
            "[CV 2/2] END .................max_depth=10, n_estimators=151; total time=   0.7s\n",
            "[CV 1/2] END .................max_depth=10, n_estimators=201; total time=   1.0s\n",
            "[CV 2/2] END .................max_depth=10, n_estimators=201; total time=   1.1s\n",
            "[CV 1/2] END .................max_depth=10, n_estimators=251; total time=   1.4s\n",
            "[CV 2/2] END .................max_depth=10, n_estimators=251; total time=   1.2s\n",
            "[CV 1/2] END .................max_depth=10, n_estimators=301; total time=   1.5s\n",
            "[CV 2/2] END .................max_depth=10, n_estimators=301; total time=   1.5s\n",
            "[CV 1/2] END ...................max_depth=20, n_estimators=1; total time=   0.0s\n",
            "[CV 2/2] END ...................max_depth=20, n_estimators=1; total time=   0.0s\n",
            "[CV 1/2] END ..................max_depth=20, n_estimators=51; total time=   0.5s\n",
            "[CV 2/2] END ..................max_depth=20, n_estimators=51; total time=   0.5s\n",
            "[CV 1/2] END .................max_depth=20, n_estimators=101; total time=   0.9s\n",
            "[CV 2/2] END .................max_depth=20, n_estimators=101; total time=   0.9s\n",
            "[CV 1/2] END .................max_depth=20, n_estimators=151; total time=   1.3s\n",
            "[CV 2/2] END .................max_depth=20, n_estimators=151; total time=   1.3s\n",
            "[CV 1/2] END .................max_depth=20, n_estimators=201; total time=   1.8s\n",
            "[CV 2/2] END .................max_depth=20, n_estimators=201; total time=   1.8s\n",
            "[CV 1/2] END .................max_depth=20, n_estimators=251; total time=   2.2s\n",
            "[CV 2/2] END .................max_depth=20, n_estimators=251; total time=   2.3s\n",
            "[CV 1/2] END .................max_depth=20, n_estimators=301; total time=   2.5s\n",
            "[CV 2/2] END .................max_depth=20, n_estimators=301; total time=   2.6s\n",
            "[CV 1/2] END ...................max_depth=30, n_estimators=1; total time=   0.0s\n",
            "[CV 2/2] END ...................max_depth=30, n_estimators=1; total time=   0.0s\n",
            "[CV 1/2] END ..................max_depth=30, n_estimators=51; total time=   0.7s\n",
            "[CV 2/2] END ..................max_depth=30, n_estimators=51; total time=   0.7s\n",
            "[CV 1/2] END .................max_depth=30, n_estimators=101; total time=   1.3s\n",
            "[CV 2/2] END .................max_depth=30, n_estimators=101; total time=   1.4s\n",
            "[CV 1/2] END .................max_depth=30, n_estimators=151; total time=   2.0s\n",
            "[CV 2/2] END .................max_depth=30, n_estimators=151; total time=   1.8s\n",
            "[CV 1/2] END .................max_depth=30, n_estimators=201; total time=   2.3s\n",
            "[CV 2/2] END .................max_depth=30, n_estimators=201; total time=   2.6s\n",
            "[CV 1/2] END .................max_depth=30, n_estimators=251; total time=   3.0s\n",
            "[CV 2/2] END .................max_depth=30, n_estimators=251; total time=   3.0s\n",
            "[CV 1/2] END .................max_depth=30, n_estimators=301; total time=   3.7s\n",
            "[CV 2/2] END .................max_depth=30, n_estimators=301; total time=   3.7s\n",
            "[CV 1/2] END ...................max_depth=40, n_estimators=1; total time=   0.0s\n",
            "[CV 2/2] END ...................max_depth=40, n_estimators=1; total time=   0.0s\n",
            "[CV 1/2] END ..................max_depth=40, n_estimators=51; total time=   0.8s\n",
            "[CV 2/2] END ..................max_depth=40, n_estimators=51; total time=   0.9s\n",
            "[CV 1/2] END .................max_depth=40, n_estimators=101; total time=   1.6s\n",
            "[CV 2/2] END .................max_depth=40, n_estimators=101; total time=   1.6s\n",
            "[CV 1/2] END .................max_depth=40, n_estimators=151; total time=   2.8s\n",
            "[CV 2/2] END .................max_depth=40, n_estimators=151; total time=   2.6s\n",
            "[CV 1/2] END .................max_depth=40, n_estimators=201; total time=   3.1s\n",
            "[CV 2/2] END .................max_depth=40, n_estimators=201; total time=   3.5s\n",
            "[CV 1/2] END .................max_depth=40, n_estimators=251; total time=   3.9s\n",
            "[CV 2/2] END .................max_depth=40, n_estimators=251; total time=   4.4s\n",
            "[CV 1/2] END .................max_depth=40, n_estimators=301; total time=   4.9s\n",
            "[CV 2/2] END .................max_depth=40, n_estimators=301; total time=   5.2s\n",
            "[CV 1/2] END ...................max_depth=50, n_estimators=1; total time=   0.0s\n",
            "[CV 2/2] END ...................max_depth=50, n_estimators=1; total time=   0.0s\n",
            "[CV 1/2] END ..................max_depth=50, n_estimators=51; total time=   1.0s\n",
            "[CV 2/2] END ..................max_depth=50, n_estimators=51; total time=   1.1s\n",
            "[CV 1/2] END .................max_depth=50, n_estimators=101; total time=   2.1s\n",
            "[CV 2/2] END .................max_depth=50, n_estimators=101; total time=   2.1s\n",
            "[CV 1/2] END .................max_depth=50, n_estimators=151; total time=   3.3s\n",
            "[CV 2/2] END .................max_depth=50, n_estimators=151; total time=   3.1s\n",
            "[CV 1/2] END .................max_depth=50, n_estimators=201; total time=   4.1s\n",
            "[CV 2/2] END .................max_depth=50, n_estimators=201; total time=   4.3s\n",
            "[CV 1/2] END .................max_depth=50, n_estimators=251; total time=   4.9s\n",
            "[CV 2/2] END .................max_depth=50, n_estimators=251; total time=   5.2s\n",
            "[CV 1/2] END .................max_depth=50, n_estimators=301; total time=   6.1s\n",
            "[CV 2/2] END .................max_depth=50, n_estimators=301; total time=   6.2s\n",
            "[CV 1/2] END ...................max_depth=60, n_estimators=1; total time=   0.0s\n",
            "[CV 2/2] END ...................max_depth=60, n_estimators=1; total time=   0.0s\n",
            "[CV 1/2] END ..................max_depth=60, n_estimators=51; total time=   1.2s\n",
            "[CV 2/2] END ..................max_depth=60, n_estimators=51; total time=   1.3s\n",
            "[CV 1/2] END .................max_depth=60, n_estimators=101; total time=   2.5s\n",
            "[CV 2/2] END .................max_depth=60, n_estimators=101; total time=   2.5s\n",
            "[CV 1/2] END .................max_depth=60, n_estimators=151; total time=   3.5s\n",
            "[CV 2/2] END .................max_depth=60, n_estimators=151; total time=   3.7s\n",
            "[CV 1/2] END .................max_depth=60, n_estimators=201; total time=   4.7s\n",
            "[CV 2/2] END .................max_depth=60, n_estimators=201; total time=   5.0s\n",
            "[CV 1/2] END .................max_depth=60, n_estimators=251; total time=   5.7s\n",
            "[CV 2/2] END .................max_depth=60, n_estimators=251; total time=   5.9s\n",
            "[CV 1/2] END .................max_depth=60, n_estimators=301; total time=   7.0s\n",
            "[CV 2/2] END .................max_depth=60, n_estimators=301; total time=   7.1s\n",
            "[CV 1/2] END ...................max_depth=70, n_estimators=1; total time=   0.1s\n",
            "[CV 2/2] END ...................max_depth=70, n_estimators=1; total time=   0.0s\n",
            "[CV 1/2] END ..................max_depth=70, n_estimators=51; total time=   1.3s\n",
            "[CV 2/2] END ..................max_depth=70, n_estimators=51; total time=   1.3s\n",
            "[CV 1/2] END .................max_depth=70, n_estimators=101; total time=   2.5s\n",
            "[CV 2/2] END .................max_depth=70, n_estimators=101; total time=   2.6s\n",
            "[CV 1/2] END .................max_depth=70, n_estimators=151; total time=   4.0s\n",
            "[CV 2/2] END .................max_depth=70, n_estimators=151; total time=   4.0s\n",
            "[CV 1/2] END .................max_depth=70, n_estimators=201; total time=   5.0s\n",
            "[CV 2/2] END .................max_depth=70, n_estimators=201; total time=   5.4s\n",
            "[CV 1/2] END .................max_depth=70, n_estimators=251; total time=   6.4s\n",
            "[CV 2/2] END .................max_depth=70, n_estimators=251; total time=   7.0s\n",
            "[CV 1/2] END .................max_depth=70, n_estimators=301; total time=   7.9s\n",
            "[CV 2/2] END .................max_depth=70, n_estimators=301; total time=   8.0s\n",
            "[CV 1/2] END ...................max_depth=80, n_estimators=1; total time=   0.0s\n",
            "[CV 2/2] END ...................max_depth=80, n_estimators=1; total time=   0.0s\n",
            "[CV 1/2] END ..................max_depth=80, n_estimators=51; total time=   1.4s\n",
            "[CV 2/2] END ..................max_depth=80, n_estimators=51; total time=   1.4s\n",
            "[CV 1/2] END .................max_depth=80, n_estimators=101; total time=   2.8s\n",
            "[CV 2/2] END .................max_depth=80, n_estimators=101; total time=   2.8s\n",
            "[CV 1/2] END .................max_depth=80, n_estimators=151; total time=   4.5s\n",
            "[CV 2/2] END .................max_depth=80, n_estimators=151; total time=   4.5s\n",
            "[CV 1/2] END .................max_depth=80, n_estimators=201; total time=   5.6s\n",
            "[CV 2/2] END .................max_depth=80, n_estimators=201; total time=   5.8s\n",
            "[CV 1/2] END .................max_depth=80, n_estimators=251; total time=   7.2s\n",
            "[CV 2/2] END .................max_depth=80, n_estimators=251; total time=   7.3s\n",
            "[CV 1/2] END .................max_depth=80, n_estimators=301; total time=   8.5s\n",
            "[CV 2/2] END .................max_depth=80, n_estimators=301; total time=   8.6s\n",
            "[CV 1/2] END ...................max_depth=90, n_estimators=1; total time=   0.1s\n",
            "[CV 2/2] END ...................max_depth=90, n_estimators=1; total time=   0.1s\n",
            "[CV 1/2] END ..................max_depth=90, n_estimators=51; total time=   1.6s\n",
            "[CV 2/2] END ..................max_depth=90, n_estimators=51; total time=   1.6s\n",
            "[CV 1/2] END .................max_depth=90, n_estimators=101; total time=   3.1s\n",
            "[CV 2/2] END .................max_depth=90, n_estimators=101; total time=   3.2s\n",
            "[CV 1/2] END .................max_depth=90, n_estimators=151; total time=   4.4s\n",
            "[CV 2/2] END .................max_depth=90, n_estimators=151; total time=   5.0s\n",
            "[CV 1/2] END .................max_depth=90, n_estimators=201; total time=   6.3s\n",
            "[CV 2/2] END .................max_depth=90, n_estimators=201; total time=   6.4s\n",
            "[CV 1/2] END .................max_depth=90, n_estimators=251; total time=   8.2s\n",
            "[CV 2/2] END .................max_depth=90, n_estimators=251; total time=   7.9s\n",
            "[CV 1/2] END .................max_depth=90, n_estimators=301; total time=   9.4s\n",
            "[CV 2/2] END .................max_depth=90, n_estimators=301; total time=  10.0s\n",
            "[CV 1/2] END ..................max_depth=100, n_estimators=1; total time=   0.0s\n",
            "[CV 2/2] END ..................max_depth=100, n_estimators=1; total time=   0.0s\n",
            "[CV 1/2] END .................max_depth=100, n_estimators=51; total time=   1.9s\n",
            "[CV 2/2] END .................max_depth=100, n_estimators=51; total time=   1.9s\n",
            "[CV 1/2] END ................max_depth=100, n_estimators=101; total time=   3.6s\n",
            "[CV 2/2] END ................max_depth=100, n_estimators=101; total time=   3.7s\n",
            "[CV 1/2] END ................max_depth=100, n_estimators=151; total time=   5.1s\n",
            "[CV 2/2] END ................max_depth=100, n_estimators=151; total time=   5.4s\n",
            "[CV 1/2] END ................max_depth=100, n_estimators=201; total time=   6.8s\n",
            "[CV 2/2] END ................max_depth=100, n_estimators=201; total time=   7.0s\n",
            "[CV 1/2] END ................max_depth=100, n_estimators=251; total time=   8.5s\n",
            "[CV 2/2] END ................max_depth=100, n_estimators=251; total time=   8.8s\n",
            "[CV 1/2] END ................max_depth=100, n_estimators=301; total time=  10.9s\n",
            "[CV 2/2] END ................max_depth=100, n_estimators=301; total time=  11.6s\n",
            "[CV 1/2] END ..................max_depth=110, n_estimators=1; total time=   0.1s\n",
            "[CV 2/2] END ..................max_depth=110, n_estimators=1; total time=   0.1s\n",
            "[CV 1/2] END .................max_depth=110, n_estimators=51; total time=   2.0s\n",
            "[CV 2/2] END .................max_depth=110, n_estimators=51; total time=   2.0s\n",
            "[CV 1/2] END ................max_depth=110, n_estimators=101; total time=   3.9s\n",
            "[CV 2/2] END ................max_depth=110, n_estimators=101; total time=   4.0s\n",
            "[CV 1/2] END ................max_depth=110, n_estimators=151; total time=   5.8s\n",
            "[CV 2/2] END ................max_depth=110, n_estimators=151; total time=   5.9s\n",
            "[CV 1/2] END ................max_depth=110, n_estimators=201; total time=   7.5s\n",
            "[CV 2/2] END ................max_depth=110, n_estimators=201; total time=   7.9s\n",
            "[CV 1/2] END ................max_depth=110, n_estimators=251; total time=  10.0s\n",
            "[CV 2/2] END ................max_depth=110, n_estimators=251; total time=   9.7s\n",
            "[CV 1/2] END ................max_depth=110, n_estimators=301; total time=  11.9s\n",
            "[CV 2/2] END ................max_depth=110, n_estimators=301; total time=  11.7s\n",
            "----------\n",
            "iter: 1\n",
            "n_candidates: 26\n",
            "n_resources: 14157\n",
            "Fitting 2 folds for each of 26 candidates, totalling 52 fits\n",
            "[CV 1/2] END .................max_depth=90, n_estimators=301; total time=  28.4s\n",
            "[CV 2/2] END .................max_depth=90, n_estimators=301; total time=  28.9s\n",
            "[CV 1/2] END ..................max_depth=90, n_estimators=51; total time=   4.7s\n",
            "[CV 2/2] END ..................max_depth=90, n_estimators=51; total time=   4.9s\n",
            "[CV 1/2] END .................max_depth=90, n_estimators=101; total time=   9.8s\n",
            "[CV 2/2] END .................max_depth=90, n_estimators=101; total time=   9.6s\n",
            "[CV 1/2] END .................max_depth=90, n_estimators=251; total time=  23.7s\n",
            "[CV 2/2] END .................max_depth=90, n_estimators=251; total time=  24.2s\n",
            "[CV 1/2] END ................max_depth=100, n_estimators=151; total time=  15.5s\n",
            "[CV 2/2] END ................max_depth=100, n_estimators=151; total time=  15.7s\n",
            "[CV 1/2] END ................max_depth=100, n_estimators=201; total time=  20.7s\n",
            "[CV 2/2] END ................max_depth=100, n_estimators=201; total time=  20.9s\n",
            "[CV 1/2] END ................max_depth=110, n_estimators=301; total time=  31.9s\n",
            "[CV 2/2] END ................max_depth=110, n_estimators=301; total time=  33.2s\n",
            "[CV 1/2] END ................max_depth=100, n_estimators=301; total time=  29.8s\n",
            "[CV 2/2] END ................max_depth=100, n_estimators=301; total time=  31.3s\n",
            "[CV 1/2] END ................max_depth=100, n_estimators=101; total time=  10.0s\n",
            "[CV 2/2] END ................max_depth=100, n_estimators=101; total time=  10.1s\n",
            "[CV 1/2] END ................max_depth=110, n_estimators=151; total time=  16.3s\n",
            "[CV 2/2] END ................max_depth=110, n_estimators=151; total time=  16.7s\n",
            "[CV 1/2] END .................max_depth=90, n_estimators=151; total time=  13.8s\n",
            "[CV 2/2] END .................max_depth=90, n_estimators=151; total time=  14.1s\n",
            "[CV 1/2] END ................max_depth=110, n_estimators=201; total time=  21.8s\n",
            "[CV 2/2] END ................max_depth=110, n_estimators=201; total time=  22.3s\n",
            "[CV 1/2] END ................max_depth=110, n_estimators=251; total time=  27.3s\n",
            "[CV 2/2] END ................max_depth=110, n_estimators=251; total time=  28.1s\n",
            "[CV 1/2] END .................max_depth=100, n_estimators=51; total time=   5.3s\n",
            "[CV 2/2] END .................max_depth=100, n_estimators=51; total time=   5.3s\n",
            "[CV 1/2] END ................max_depth=100, n_estimators=251; total time=  24.7s\n",
            "[CV 2/2] END ................max_depth=100, n_estimators=251; total time=  25.5s\n",
            "[CV 1/2] END ................max_depth=110, n_estimators=101; total time=  11.1s\n",
            "[CV 2/2] END ................max_depth=110, n_estimators=101; total time=  10.9s\n",
            "[CV 1/2] END ...................max_depth=30, n_estimators=1; total time=   0.1s\n",
            "[CV 2/2] END ...................max_depth=30, n_estimators=1; total time=   0.1s\n",
            "[CV 1/2] END .................max_depth=110, n_estimators=51; total time=   5.5s\n",
            "[CV 2/2] END .................max_depth=110, n_estimators=51; total time=   5.6s\n",
            "[CV 1/2] END ...................max_depth=40, n_estimators=1; total time=   0.1s\n",
            "[CV 2/2] END ...................max_depth=40, n_estimators=1; total time=   0.1s\n",
            "[CV 1/2] END ...................max_depth=50, n_estimators=1; total time=   0.1s\n",
            "[CV 2/2] END ...................max_depth=50, n_estimators=1; total time=   0.1s\n",
            "[CV 1/2] END ...................max_depth=60, n_estimators=1; total time=   0.1s\n",
            "[CV 2/2] END ...................max_depth=60, n_estimators=1; total time=   0.1s\n",
            "[CV 1/2] END ..................max_depth=110, n_estimators=1; total time=   0.1s\n",
            "[CV 2/2] END ..................max_depth=110, n_estimators=1; total time=   0.1s\n",
            "[CV 1/2] END ...................max_depth=90, n_estimators=1; total time=   0.1s\n",
            "[CV 2/2] END ...................max_depth=90, n_estimators=1; total time=   0.1s\n",
            "[CV 1/2] END ...................max_depth=70, n_estimators=1; total time=   0.1s\n",
            "[CV 2/2] END ...................max_depth=70, n_estimators=1; total time=   0.1s\n",
            "[CV 1/2] END ..................max_depth=100, n_estimators=1; total time=   0.1s\n",
            "[CV 2/2] END ..................max_depth=100, n_estimators=1; total time=   0.1s\n",
            "[CV 1/2] END ...................max_depth=80, n_estimators=1; total time=   0.1s\n",
            "[CV 2/2] END ...................max_depth=80, n_estimators=1; total time=   0.1s\n",
            "----------\n",
            "iter: 2\n",
            "n_candidates: 9\n",
            "n_resources: 42471\n",
            "Fitting 2 folds for each of 9 candidates, totalling 18 fits\n",
            "[CV 1/2] END ................max_depth=110, n_estimators=101; total time=  38.2s\n",
            "[CV 2/2] END ................max_depth=110, n_estimators=101; total time=  37.1s\n",
            "[CV 1/2] END ................max_depth=110, n_estimators=151; total time=  57.2s\n",
            "[CV 2/2] END ................max_depth=110, n_estimators=151; total time=  55.8s\n",
            "[CV 1/2] END .................max_depth=110, n_estimators=51; total time=  18.7s\n",
            "[CV 2/2] END .................max_depth=110, n_estimators=51; total time=  18.5s\n",
            "[CV 1/2] END ...................max_depth=90, n_estimators=1; total time=   0.3s\n",
            "[CV 2/2] END ...................max_depth=90, n_estimators=1; total time=   0.4s\n",
            "[CV 1/2] END ...................max_depth=70, n_estimators=1; total time=   0.3s\n",
            "[CV 2/2] END ...................max_depth=70, n_estimators=1; total time=   0.3s\n",
            "[CV 1/2] END ...................max_depth=60, n_estimators=1; total time=   0.2s\n",
            "[CV 2/2] END ...................max_depth=60, n_estimators=1; total time=   0.3s\n",
            "[CV 1/2] END ..................max_depth=110, n_estimators=1; total time=   0.5s\n",
            "[CV 2/2] END ..................max_depth=110, n_estimators=1; total time=   0.4s\n",
            "[CV 1/2] END ..................max_depth=100, n_estimators=1; total time=   0.4s\n",
            "[CV 2/2] END ..................max_depth=100, n_estimators=1; total time=   0.4s\n",
            "[CV 1/2] END ...................max_depth=80, n_estimators=1; total time=   0.3s\n",
            "[CV 2/2] END ...................max_depth=80, n_estimators=1; total time=   0.3s\n",
            "----------\n",
            "iter: 3\n",
            "n_candidates: 3\n",
            "n_resources: 127413\n",
            "Fitting 2 folds for each of 3 candidates, totalling 6 fits\n",
            "[CV 1/2] END ...................max_depth=80, n_estimators=1; total time=   1.3s\n",
            "[CV 2/2] END ...................max_depth=80, n_estimators=1; total time=   1.2s\n",
            "[CV 1/2] END ..................max_depth=110, n_estimators=1; total time=   1.5s\n",
            "[CV 2/2] END ..................max_depth=110, n_estimators=1; total time=   1.7s\n",
            "[CV 1/2] END ..................max_depth=100, n_estimators=1; total time=   1.5s\n",
            "[CV 2/2] END ..................max_depth=100, n_estimators=1; total time=   1.6s\n"
          ]
        },
        {
          "data": {
            "text/plain": [
              "0.3858647675173156"
            ]
          },
          "execution_count": 34,
          "metadata": {},
          "output_type": "execute_result"
        }
      ],
      "source": [
        "param = {'max_depth': range(10,111,10), 'n_estimators':range(1,302,50) }\n",
        "\n",
        "grid_rfc = HalvingGridSearchCV(model_rfc, param, factor=3, resource='n_samples', max_resources='auto',\n",
        "                              min_resources='exhaust', aggressive_elimination=False, cv=skf, scoring='f1',\n",
        "                              refit=True, return_train_score=True, random_state=None, n_jobs=-1, verbose=3)\n",
        "\n",
        "grid_rfc.fit(features_train, target_train)\n",
        "\n",
        "grid_rfc.best_score_"
      ]
    },
    {
      "cell_type": "code",
      "execution_count": null,
      "metadata": {
        "id": "JLzc4VwwhDDT",
        "outputId": "4f2bdac9-7590-4d39-e2d1-c4d1a430c373"
      },
      "outputs": [
        {
          "data": {
            "text/plain": [
              "RandomForestClassifier(max_depth=110, n_estimators=1)"
            ]
          },
          "execution_count": 35,
          "metadata": {},
          "output_type": "execute_result"
        }
      ],
      "source": [
        "grid_rfc.best_estimator_"
      ]
    },
    {
      "cell_type": "markdown",
      "metadata": {
        "id": "z7Wjq68KhDDU"
      },
      "source": [
        "Проверим качество работы лучшей из сформированных моделей (Логистической регрессии) на тестовой выборке."
      ]
    },
    {
      "cell_type": "code",
      "execution_count": null,
      "metadata": {
        "id": "Qj0P_AZGhDDU"
      },
      "outputs": [],
      "source": [
        "pred = grid_lr.predict(features_test)"
      ]
    },
    {
      "cell_type": "code",
      "execution_count": null,
      "metadata": {
        "id": "Ea2Ib915hDDV",
        "outputId": "9ced4b94-547a-406e-bde9-729b1b8decc4"
      },
      "outputs": [
        {
          "name": "stdout",
          "output_type": "stream",
          "text": [
            "F1 Score: 0.7888\n"
          ]
        }
      ],
      "source": [
        "f1 = f1_s(target_test, pred)\n",
        "print('F1 Score:', round(f1, 4))"
      ]
    },
    {
      "cell_type": "markdown",
      "metadata": {
        "id": "AuH-y70chDDV"
      },
      "source": [
        "**Вывод по разделу:**\n",
        "\n",
        "В результате анализа баланса классов было выявлено существенное преобладание позитивных комментариев, данное обстоятельство было учтено при формировании моделей машинного обучения через применение StratifiedKFold.\n",
        "\n",
        "Были проверены 3 модели:\n",
        "\n",
        "- Логистическая регрессия;\n",
        "- Решающее дерево;\n",
        "- Случайный лес.\n",
        "\n",
        "Для всех моделей были подобраны лучшие гиперпараметры.\n",
        "\n",
        "В результате, только модель **Логистическая регрессия** по требуемому показателю качества (значение метрики F1), соответствует поставленной задаче. Значение F1 для этой модели = 0.757 на обучающей/валидационной выьорке и **0.788 на тестовой**."
      ]
    },
    {
      "cell_type": "markdown",
      "metadata": {
        "id": "P5dd73m4hDDW"
      },
      "source": [
        "**ВЫВОД по проекту:**\n",
        "\n",
        "Заказчику - интернет магазину \"Викишоп\" необходимо было разработать модель машинного обучения (задача бинарной классификации, обучение с учителем) для определения токсичности комментариев, которые пользователи могут оставлять в описании товаров. Токсичные комментарии должны отправляться на модерацию.\n",
        "\n",
        "От заказчика предоставлены исходные данные с разметкой комментариев по токсичности. Объем данных: 159 292 строк и 2 столбца (текст комментария и разметка токсичности).\n",
        "\n",
        "Необходимо было разработать модель машинного обучения с качеством определения токсичности комментариев по метрике F1 не ниже 0.75.\n",
        "\n",
        "В результате выполнения проекта:\n",
        "\n",
        "- данные были предобработаны: комментарии приведены к первоначальной форме слов, удалены стоп-слова;\n",
        "- проведен анализ сбалансированности классов, результаты которого учтены в параметрах моделей;\n",
        "- обучено три модели машинного обучения: логистическая регрессия, решающее дерево и случайный лес.\n",
        "- для каждой модели подобраны лучшие гиперпараметры.\n",
        "\n",
        "\n",
        "В результате, лучшее значение метрики F1 показала модель Логистической регрессии, для которой на тестовой выборке (при параметре C=16) значение метрики **F1 = 0.7888**.\n",
        "\n",
        "Данный показатель выше требуемого заказчиком качества (F1 >= 0.75), а значит поставленная задача **успешно выполнена**."
      ]
    }
  ],
  "metadata": {
    "ExecuteTimeLog": [
      {
        "duration": 2183,
        "start_time": "2023-06-29T07:02:14.352Z"
      },
      {
        "duration": 3375,
        "start_time": "2023-06-29T07:02:23.291Z"
      },
      {
        "duration": 3490,
        "start_time": "2023-06-29T07:03:13.489Z"
      },
      {
        "duration": 37,
        "start_time": "2023-06-29T07:03:36.350Z"
      },
      {
        "duration": 45,
        "start_time": "2023-06-29T07:05:26.587Z"
      },
      {
        "duration": 31,
        "start_time": "2023-06-29T07:05:46.733Z"
      },
      {
        "duration": 34,
        "start_time": "2023-06-29T07:06:07.326Z"
      },
      {
        "duration": 10,
        "start_time": "2023-06-29T07:06:31.125Z"
      },
      {
        "duration": 6,
        "start_time": "2023-06-29T07:06:37.837Z"
      },
      {
        "duration": 9,
        "start_time": "2023-06-29T07:06:55.750Z"
      },
      {
        "duration": 16,
        "start_time": "2023-06-29T07:10:44.391Z"
      },
      {
        "duration": 15,
        "start_time": "2023-06-29T07:11:35.264Z"
      },
      {
        "duration": 11,
        "start_time": "2023-06-29T07:12:00.761Z"
      },
      {
        "duration": 12,
        "start_time": "2023-06-29T07:12:07.543Z"
      },
      {
        "duration": 10,
        "start_time": "2023-06-29T07:12:12.095Z"
      },
      {
        "duration": 11,
        "start_time": "2023-06-29T07:13:08.464Z"
      },
      {
        "duration": 32,
        "start_time": "2023-06-29T07:13:10.939Z"
      },
      {
        "duration": 37,
        "start_time": "2023-06-29T07:20:33.063Z"
      },
      {
        "duration": 31,
        "start_time": "2023-06-29T07:22:55.102Z"
      },
      {
        "duration": 11,
        "start_time": "2023-06-29T07:26:28.793Z"
      },
      {
        "duration": 11,
        "start_time": "2023-06-29T07:26:50.762Z"
      },
      {
        "duration": 4329,
        "start_time": "2023-06-29T07:28:51.482Z"
      },
      {
        "duration": 6358,
        "start_time": "2023-06-29T07:34:28.766Z"
      },
      {
        "duration": 13,
        "start_time": "2023-06-29T07:34:56.192Z"
      },
      {
        "duration": 106,
        "start_time": "2023-06-29T07:35:59.854Z"
      },
      {
        "duration": 104,
        "start_time": "2023-06-29T07:36:37.637Z"
      },
      {
        "duration": 53,
        "start_time": "2023-06-29T07:36:48.614Z"
      },
      {
        "duration": 44,
        "start_time": "2023-06-29T07:37:06.703Z"
      },
      {
        "duration": 16866,
        "start_time": "2023-06-29T07:41:04.641Z"
      },
      {
        "duration": 26282,
        "start_time": "2023-06-29T07:43:06.867Z"
      },
      {
        "duration": 29,
        "start_time": "2023-06-29T07:44:00.330Z"
      },
      {
        "duration": 16,
        "start_time": "2023-06-29T07:44:38.671Z"
      },
      {
        "duration": 44,
        "start_time": "2023-06-29T07:46:21.433Z"
      },
      {
        "duration": 3,
        "start_time": "2023-06-29T07:46:43.189Z"
      },
      {
        "duration": 912,
        "start_time": "2023-06-29T07:48:25.047Z"
      },
      {
        "duration": 7087,
        "start_time": "2023-06-29T07:49:23.066Z"
      },
      {
        "duration": 160,
        "start_time": "2023-06-29T07:59:36.448Z"
      },
      {
        "duration": 4289,
        "start_time": "2023-06-29T10:28:51.561Z"
      },
      {
        "duration": 834,
        "start_time": "2023-06-29T10:28:55.852Z"
      },
      {
        "duration": 53,
        "start_time": "2023-06-29T10:28:56.688Z"
      },
      {
        "duration": 42,
        "start_time": "2023-06-29T10:28:56.750Z"
      },
      {
        "duration": 30,
        "start_time": "2023-06-29T10:28:56.794Z"
      },
      {
        "duration": 48,
        "start_time": "2023-06-29T10:28:56.828Z"
      },
      {
        "duration": 52,
        "start_time": "2023-06-29T10:28:56.878Z"
      },
      {
        "duration": 7397,
        "start_time": "2023-06-29T10:28:56.932Z"
      },
      {
        "duration": 20,
        "start_time": "2023-06-29T10:29:04.330Z"
      },
      {
        "duration": 46,
        "start_time": "2023-06-29T10:29:04.353Z"
      },
      {
        "duration": 19386,
        "start_time": "2023-06-29T10:29:04.401Z"
      },
      {
        "duration": 28959,
        "start_time": "2023-06-29T10:29:23.789Z"
      },
      {
        "duration": 26,
        "start_time": "2023-06-29T10:29:52.750Z"
      },
      {
        "duration": 33,
        "start_time": "2023-06-29T10:29:52.778Z"
      },
      {
        "duration": 131,
        "start_time": "2023-06-29T10:29:52.813Z"
      },
      {
        "duration": 194,
        "start_time": "2023-06-29T10:29:52.947Z"
      },
      {
        "duration": 3,
        "start_time": "2023-06-29T10:29:53.144Z"
      },
      {
        "duration": 1041,
        "start_time": "2023-06-29T10:29:53.149Z"
      },
      {
        "duration": 7159,
        "start_time": "2023-06-29T10:29:54.192Z"
      },
      {
        "duration": 3,
        "start_time": "2023-06-29T10:30:01.353Z"
      },
      {
        "duration": 192,
        "start_time": "2023-06-29T10:30:01.358Z"
      },
      {
        "duration": 0,
        "start_time": "2023-06-29T10:30:01.553Z"
      },
      {
        "duration": 0,
        "start_time": "2023-06-29T10:30:01.555Z"
      },
      {
        "duration": 49821,
        "start_time": "2023-06-29T10:31:06.699Z"
      },
      {
        "duration": 8,
        "start_time": "2023-06-29T10:32:12.874Z"
      },
      {
        "duration": 228,
        "start_time": "2023-06-29T10:32:13.809Z"
      },
      {
        "duration": 29,
        "start_time": "2023-06-29T10:32:19.923Z"
      },
      {
        "duration": 38,
        "start_time": "2023-06-29T10:32:40.514Z"
      },
      {
        "duration": 11,
        "start_time": "2023-06-29T10:34:38.188Z"
      },
      {
        "duration": 4133,
        "start_time": "2023-06-29T10:35:34.794Z"
      },
      {
        "duration": 821,
        "start_time": "2023-06-29T10:35:38.930Z"
      },
      {
        "duration": 39,
        "start_time": "2023-06-29T10:35:39.753Z"
      },
      {
        "duration": 33,
        "start_time": "2023-06-29T10:35:39.795Z"
      },
      {
        "duration": 15,
        "start_time": "2023-06-29T10:35:39.834Z"
      },
      {
        "duration": 42,
        "start_time": "2023-06-29T10:35:39.851Z"
      },
      {
        "duration": 79,
        "start_time": "2023-06-29T10:35:39.895Z"
      },
      {
        "duration": 6207,
        "start_time": "2023-06-29T10:35:39.976Z"
      },
      {
        "duration": 13,
        "start_time": "2023-06-29T10:35:46.185Z"
      },
      {
        "duration": 53,
        "start_time": "2023-06-29T10:35:46.200Z"
      },
      {
        "duration": 17499,
        "start_time": "2023-06-29T10:35:46.255Z"
      },
      {
        "duration": 25244,
        "start_time": "2023-06-29T10:36:03.756Z"
      },
      {
        "duration": 28,
        "start_time": "2023-06-29T10:36:29.002Z"
      },
      {
        "duration": 10,
        "start_time": "2023-06-29T10:36:29.033Z"
      },
      {
        "duration": 49,
        "start_time": "2023-06-29T10:36:29.044Z"
      },
      {
        "duration": 167,
        "start_time": "2023-06-29T10:36:29.095Z"
      },
      {
        "duration": 3,
        "start_time": "2023-06-29T10:36:29.264Z"
      },
      {
        "duration": 986,
        "start_time": "2023-06-29T10:36:29.268Z"
      },
      {
        "duration": 6399,
        "start_time": "2023-06-29T10:36:30.256Z"
      },
      {
        "duration": 3,
        "start_time": "2023-06-29T10:36:36.657Z"
      },
      {
        "duration": 44252,
        "start_time": "2023-06-29T10:36:36.662Z"
      },
      {
        "duration": 9,
        "start_time": "2023-06-29T10:37:20.917Z"
      },
      {
        "duration": 113,
        "start_time": "2023-06-29T10:37:20.928Z"
      },
      {
        "duration": 17,
        "start_time": "2023-06-29T10:37:45.648Z"
      },
      {
        "duration": 4,
        "start_time": "2023-06-29T10:43:29.795Z"
      },
      {
        "duration": 142,
        "start_time": "2023-06-29T10:43:31.688Z"
      },
      {
        "duration": 15828,
        "start_time": "2023-06-29T10:43:39.520Z"
      },
      {
        "duration": 31,
        "start_time": "2023-06-29T10:44:06.899Z"
      },
      {
        "duration": 24,
        "start_time": "2023-06-29T10:44:09.100Z"
      },
      {
        "duration": 3,
        "start_time": "2023-06-29T10:56:27.329Z"
      },
      {
        "duration": 10334,
        "start_time": "2023-06-29T10:56:29.667Z"
      },
      {
        "duration": 977,
        "start_time": "2023-06-29T10:56:43.627Z"
      },
      {
        "duration": 17,
        "start_time": "2023-06-29T10:56:46.427Z"
      },
      {
        "duration": 3,
        "start_time": "2023-06-29T10:57:29.725Z"
      },
      {
        "duration": 9949,
        "start_time": "2023-06-29T10:57:30.169Z"
      },
      {
        "duration": 946,
        "start_time": "2023-06-29T10:57:40.120Z"
      },
      {
        "duration": 25,
        "start_time": "2023-06-29T10:57:41.068Z"
      },
      {
        "duration": 3,
        "start_time": "2023-06-29T10:59:21.984Z"
      },
      {
        "duration": 48061,
        "start_time": "2023-06-29T10:59:22.453Z"
      },
      {
        "duration": 87,
        "start_time": "2023-06-29T11:00:10.529Z"
      },
      {
        "duration": 33,
        "start_time": "2023-06-29T11:00:10.618Z"
      },
      {
        "duration": 3,
        "start_time": "2023-06-29T11:00:49.055Z"
      },
      {
        "duration": 47578,
        "start_time": "2023-06-29T11:00:49.950Z"
      },
      {
        "duration": 94,
        "start_time": "2023-06-29T11:01:37.531Z"
      },
      {
        "duration": 33,
        "start_time": "2023-06-29T11:01:37.627Z"
      },
      {
        "duration": 3,
        "start_time": "2023-06-29T11:01:53.679Z"
      },
      {
        "duration": 47635,
        "start_time": "2023-06-29T11:01:53.896Z"
      },
      {
        "duration": 84,
        "start_time": "2023-06-29T11:02:41.533Z"
      },
      {
        "duration": 23,
        "start_time": "2023-06-29T11:02:41.623Z"
      },
      {
        "duration": 2,
        "start_time": "2023-06-29T11:02:48.535Z"
      },
      {
        "duration": 46358,
        "start_time": "2023-06-29T11:02:48.775Z"
      },
      {
        "duration": 83,
        "start_time": "2023-06-29T11:03:35.135Z"
      },
      {
        "duration": 38,
        "start_time": "2023-06-29T11:03:35.219Z"
      },
      {
        "duration": 3,
        "start_time": "2023-06-29T11:03:42.457Z"
      },
      {
        "duration": 50823,
        "start_time": "2023-06-29T11:03:42.896Z"
      },
      {
        "duration": 13,
        "start_time": "2023-06-29T11:04:33.724Z"
      },
      {
        "duration": 17,
        "start_time": "2023-06-29T11:04:33.739Z"
      },
      {
        "duration": 3,
        "start_time": "2023-06-29T11:05:11.969Z"
      },
      {
        "duration": 46508,
        "start_time": "2023-06-29T11:05:12.705Z"
      },
      {
        "duration": 13,
        "start_time": "2023-06-29T11:05:59.217Z"
      },
      {
        "duration": 22,
        "start_time": "2023-06-29T11:05:59.232Z"
      },
      {
        "duration": 3,
        "start_time": "2023-06-29T11:06:09.890Z"
      },
      {
        "duration": 45089,
        "start_time": "2023-06-29T11:06:10.425Z"
      },
      {
        "duration": 9,
        "start_time": "2023-06-29T11:06:55.517Z"
      },
      {
        "duration": 23,
        "start_time": "2023-06-29T11:06:55.528Z"
      },
      {
        "duration": 3,
        "start_time": "2023-06-29T11:07:14.202Z"
      },
      {
        "duration": 47232,
        "start_time": "2023-06-29T11:07:14.685Z"
      },
      {
        "duration": 9,
        "start_time": "2023-06-29T11:08:01.920Z"
      },
      {
        "duration": 126,
        "start_time": "2023-06-29T11:08:01.931Z"
      },
      {
        "duration": 3,
        "start_time": "2023-06-29T11:08:11.314Z"
      },
      {
        "duration": 47003,
        "start_time": "2023-06-29T11:08:11.811Z"
      },
      {
        "duration": 11,
        "start_time": "2023-06-29T11:08:58.816Z"
      },
      {
        "duration": 17,
        "start_time": "2023-06-29T11:08:58.914Z"
      },
      {
        "duration": 3,
        "start_time": "2023-06-29T11:09:11.779Z"
      },
      {
        "duration": 47423,
        "start_time": "2023-06-29T11:09:12.212Z"
      },
      {
        "duration": 14,
        "start_time": "2023-06-29T11:09:59.712Z"
      },
      {
        "duration": 29,
        "start_time": "2023-06-29T11:09:59.731Z"
      },
      {
        "duration": 4,
        "start_time": "2023-06-29T11:11:05.342Z"
      },
      {
        "duration": 46470,
        "start_time": "2023-06-29T11:11:05.551Z"
      },
      {
        "duration": 21,
        "start_time": "2023-06-29T11:11:52.024Z"
      },
      {
        "duration": 17,
        "start_time": "2023-06-29T11:11:52.048Z"
      },
      {
        "duration": 4,
        "start_time": "2023-06-29T11:13:10.113Z"
      },
      {
        "duration": 47231,
        "start_time": "2023-06-29T11:13:10.295Z"
      },
      {
        "duration": 94,
        "start_time": "2023-06-29T11:13:57.625Z"
      },
      {
        "duration": 17,
        "start_time": "2023-06-29T11:13:57.720Z"
      },
      {
        "duration": 4249,
        "start_time": "2023-06-29T11:18:05.079Z"
      },
      {
        "duration": 852,
        "start_time": "2023-06-29T11:18:09.331Z"
      },
      {
        "duration": 38,
        "start_time": "2023-06-29T11:18:10.185Z"
      },
      {
        "duration": 11,
        "start_time": "2023-06-29T11:18:10.226Z"
      },
      {
        "duration": 12,
        "start_time": "2023-06-29T11:18:10.239Z"
      },
      {
        "duration": 42,
        "start_time": "2023-06-29T11:18:10.253Z"
      },
      {
        "duration": 67,
        "start_time": "2023-06-29T11:18:10.297Z"
      },
      {
        "duration": 5959,
        "start_time": "2023-06-29T11:18:10.366Z"
      },
      {
        "duration": 16,
        "start_time": "2023-06-29T11:18:16.327Z"
      },
      {
        "duration": 48,
        "start_time": "2023-06-29T11:18:16.346Z"
      },
      {
        "duration": 548,
        "start_time": "2023-06-29T11:18:16.395Z"
      },
      {
        "duration": 0,
        "start_time": "2023-06-29T11:18:16.946Z"
      },
      {
        "duration": 0,
        "start_time": "2023-06-29T11:18:16.947Z"
      },
      {
        "duration": 0,
        "start_time": "2023-06-29T11:18:16.950Z"
      },
      {
        "duration": 0,
        "start_time": "2023-06-29T11:18:16.951Z"
      },
      {
        "duration": 0,
        "start_time": "2023-06-29T11:18:16.952Z"
      },
      {
        "duration": 0,
        "start_time": "2023-06-29T11:18:16.953Z"
      },
      {
        "duration": 0,
        "start_time": "2023-06-29T11:18:16.955Z"
      },
      {
        "duration": 0,
        "start_time": "2023-06-29T11:18:16.956Z"
      },
      {
        "duration": 0,
        "start_time": "2023-06-29T11:18:16.957Z"
      },
      {
        "duration": 0,
        "start_time": "2023-06-29T11:18:16.958Z"
      },
      {
        "duration": 0,
        "start_time": "2023-06-29T11:18:16.960Z"
      },
      {
        "duration": 0,
        "start_time": "2023-06-29T11:18:16.961Z"
      },
      {
        "duration": 0,
        "start_time": "2023-06-29T11:18:16.962Z"
      },
      {
        "duration": 0,
        "start_time": "2023-06-29T11:18:16.963Z"
      },
      {
        "duration": 0,
        "start_time": "2023-06-29T11:18:16.964Z"
      },
      {
        "duration": 0,
        "start_time": "2023-06-29T11:18:16.966Z"
      },
      {
        "duration": 0,
        "start_time": "2023-06-29T11:18:16.967Z"
      },
      {
        "duration": 0,
        "start_time": "2023-06-29T11:18:16.969Z"
      },
      {
        "duration": 0,
        "start_time": "2023-06-29T11:18:16.970Z"
      },
      {
        "duration": 0,
        "start_time": "2023-06-29T11:18:16.971Z"
      },
      {
        "duration": 0,
        "start_time": "2023-06-29T11:18:16.972Z"
      },
      {
        "duration": 0,
        "start_time": "2023-06-29T11:18:16.974Z"
      },
      {
        "duration": 12,
        "start_time": "2023-06-29T11:18:22.330Z"
      },
      {
        "duration": 4338,
        "start_time": "2023-06-29T11:18:49.520Z"
      },
      {
        "duration": 817,
        "start_time": "2023-06-29T11:18:53.861Z"
      },
      {
        "duration": 38,
        "start_time": "2023-06-29T11:18:54.679Z"
      },
      {
        "duration": 12,
        "start_time": "2023-06-29T11:18:54.719Z"
      },
      {
        "duration": 49,
        "start_time": "2023-06-29T11:18:54.733Z"
      },
      {
        "duration": 41,
        "start_time": "2023-06-29T11:18:54.784Z"
      },
      {
        "duration": 52,
        "start_time": "2023-06-29T11:18:54.827Z"
      },
      {
        "duration": 6149,
        "start_time": "2023-06-29T11:18:54.881Z"
      },
      {
        "duration": 15,
        "start_time": "2023-06-29T11:19:01.032Z"
      },
      {
        "duration": 355,
        "start_time": "2023-06-29T11:19:01.051Z"
      },
      {
        "duration": 1252,
        "start_time": "2023-06-29T11:19:01.408Z"
      },
      {
        "duration": 0,
        "start_time": "2023-06-29T11:19:02.663Z"
      },
      {
        "duration": 0,
        "start_time": "2023-06-29T11:19:02.664Z"
      },
      {
        "duration": 0,
        "start_time": "2023-06-29T11:19:02.665Z"
      },
      {
        "duration": 0,
        "start_time": "2023-06-29T11:19:02.666Z"
      },
      {
        "duration": 0,
        "start_time": "2023-06-29T11:19:02.667Z"
      },
      {
        "duration": 0,
        "start_time": "2023-06-29T11:19:02.668Z"
      },
      {
        "duration": 0,
        "start_time": "2023-06-29T11:19:02.669Z"
      },
      {
        "duration": 0,
        "start_time": "2023-06-29T11:19:02.670Z"
      },
      {
        "duration": 0,
        "start_time": "2023-06-29T11:19:02.671Z"
      },
      {
        "duration": 0,
        "start_time": "2023-06-29T11:19:02.672Z"
      },
      {
        "duration": 0,
        "start_time": "2023-06-29T11:19:02.673Z"
      },
      {
        "duration": 0,
        "start_time": "2023-06-29T11:19:02.674Z"
      },
      {
        "duration": 0,
        "start_time": "2023-06-29T11:19:02.676Z"
      },
      {
        "duration": 0,
        "start_time": "2023-06-29T11:19:02.676Z"
      },
      {
        "duration": 1,
        "start_time": "2023-06-29T11:19:02.677Z"
      },
      {
        "duration": 0,
        "start_time": "2023-06-29T11:19:02.678Z"
      },
      {
        "duration": 0,
        "start_time": "2023-06-29T11:19:02.679Z"
      },
      {
        "duration": 0,
        "start_time": "2023-06-29T11:19:02.680Z"
      },
      {
        "duration": 0,
        "start_time": "2023-06-29T11:19:02.682Z"
      },
      {
        "duration": 0,
        "start_time": "2023-06-29T11:19:02.683Z"
      },
      {
        "duration": 0,
        "start_time": "2023-06-29T11:19:02.684Z"
      },
      {
        "duration": 0,
        "start_time": "2023-06-29T11:19:02.686Z"
      },
      {
        "duration": 17898,
        "start_time": "2023-06-29T11:19:18.631Z"
      },
      {
        "duration": 24039,
        "start_time": "2023-06-29T11:22:29.501Z"
      },
      {
        "duration": 10,
        "start_time": "2023-06-29T11:22:53.542Z"
      },
      {
        "duration": 1526,
        "start_time": "2023-06-29T11:22:53.554Z"
      },
      {
        "duration": 11,
        "start_time": "2023-06-29T11:22:55.082Z"
      },
      {
        "duration": 32,
        "start_time": "2023-06-29T11:23:22.629Z"
      },
      {
        "duration": 155,
        "start_time": "2023-06-29T11:23:24.381Z"
      },
      {
        "duration": 2,
        "start_time": "2023-06-29T11:23:29.461Z"
      },
      {
        "duration": 801,
        "start_time": "2023-06-29T11:23:30.780Z"
      },
      {
        "duration": 5346,
        "start_time": "2023-06-29T11:23:32.575Z"
      },
      {
        "duration": 3,
        "start_time": "2023-06-29T11:24:14.343Z"
      },
      {
        "duration": 45158,
        "start_time": "2023-06-29T11:24:14.862Z"
      },
      {
        "duration": 96,
        "start_time": "2023-06-29T11:25:00.023Z"
      },
      {
        "duration": 109,
        "start_time": "2023-06-29T11:25:00.120Z"
      },
      {
        "duration": 3,
        "start_time": "2023-06-29T11:25:05.690Z"
      },
      {
        "duration": 13299,
        "start_time": "2023-06-29T11:25:06.167Z"
      },
      {
        "duration": 28,
        "start_time": "2023-06-29T11:25:19.467Z"
      },
      {
        "duration": 27,
        "start_time": "2023-06-29T11:25:19.497Z"
      },
      {
        "duration": 2,
        "start_time": "2023-06-29T11:25:23.278Z"
      },
      {
        "duration": 5,
        "start_time": "2023-06-29T11:25:23.857Z"
      },
      {
        "duration": 19,
        "start_time": "2023-06-29T11:25:23.916Z"
      },
      {
        "duration": 11,
        "start_time": "2023-06-29T11:25:31.278Z"
      },
      {
        "duration": 8870,
        "start_time": "2023-06-29T11:25:41.342Z"
      },
      {
        "duration": 876,
        "start_time": "2023-06-29T11:25:51.280Z"
      },
      {
        "duration": 17,
        "start_time": "2023-06-29T11:25:53.263Z"
      },
      {
        "duration": 4,
        "start_time": "2023-06-29T11:31:49.030Z"
      },
      {
        "duration": 463,
        "start_time": "2023-06-29T11:31:59.163Z"
      },
      {
        "duration": 173,
        "start_time": "2023-06-29T11:32:14.392Z"
      },
      {
        "duration": 550627,
        "start_time": "2023-06-29T11:32:48.748Z"
      },
      {
        "duration": 13,
        "start_time": "2023-06-29T11:41:59.378Z"
      },
      {
        "duration": 29,
        "start_time": "2023-06-29T11:41:59.393Z"
      },
      {
        "duration": 3,
        "start_time": "2023-06-29T11:49:19.816Z"
      },
      {
        "duration": 529617,
        "start_time": "2023-06-29T11:49:20.337Z"
      },
      {
        "duration": 14,
        "start_time": "2023-06-29T11:58:09.957Z"
      },
      {
        "duration": 22,
        "start_time": "2023-06-29T11:58:09.974Z"
      },
      {
        "duration": 0,
        "start_time": "2023-06-29T11:58:10.075Z"
      },
      {
        "duration": 0,
        "start_time": "2023-06-29T11:58:10.077Z"
      },
      {
        "duration": 0,
        "start_time": "2023-06-29T11:58:10.079Z"
      },
      {
        "duration": 0,
        "start_time": "2023-06-29T11:58:10.081Z"
      },
      {
        "duration": 0,
        "start_time": "2023-06-29T11:58:10.082Z"
      },
      {
        "duration": 0,
        "start_time": "2023-06-29T11:58:10.086Z"
      },
      {
        "duration": 1,
        "start_time": "2023-06-29T11:58:10.087Z"
      },
      {
        "duration": 0,
        "start_time": "2023-06-29T11:58:10.089Z"
      },
      {
        "duration": 3387,
        "start_time": "2023-06-29T12:00:05.484Z"
      },
      {
        "duration": 887,
        "start_time": "2023-06-29T12:00:08.874Z"
      },
      {
        "duration": 37,
        "start_time": "2023-06-29T12:00:09.764Z"
      },
      {
        "duration": 12,
        "start_time": "2023-06-29T12:00:09.813Z"
      },
      {
        "duration": 12,
        "start_time": "2023-06-29T12:00:09.828Z"
      },
      {
        "duration": 43,
        "start_time": "2023-06-29T12:00:09.843Z"
      },
      {
        "duration": 64,
        "start_time": "2023-06-29T12:00:09.888Z"
      },
      {
        "duration": 6101,
        "start_time": "2023-06-29T12:00:09.954Z"
      },
      {
        "duration": 14,
        "start_time": "2023-06-29T12:00:16.056Z"
      },
      {
        "duration": 16897,
        "start_time": "2023-06-29T12:00:16.071Z"
      },
      {
        "duration": 24619,
        "start_time": "2023-06-29T12:00:32.970Z"
      },
      {
        "duration": 12,
        "start_time": "2023-06-29T12:00:57.591Z"
      },
      {
        "duration": 1374,
        "start_time": "2023-06-29T12:00:57.605Z"
      },
      {
        "duration": 11,
        "start_time": "2023-06-29T12:00:58.982Z"
      },
      {
        "duration": 73,
        "start_time": "2023-06-29T12:00:58.994Z"
      },
      {
        "duration": 131,
        "start_time": "2023-06-29T12:00:59.070Z"
      },
      {
        "duration": 10,
        "start_time": "2023-06-29T12:00:59.204Z"
      },
      {
        "duration": 903,
        "start_time": "2023-06-29T12:00:59.216Z"
      },
      {
        "duration": 5969,
        "start_time": "2023-06-29T12:01:00.121Z"
      },
      {
        "duration": 3,
        "start_time": "2023-06-29T12:01:06.092Z"
      },
      {
        "duration": 3531,
        "start_time": "2023-06-29T12:15:41.537Z"
      },
      {
        "duration": 878,
        "start_time": "2023-06-29T12:15:46.377Z"
      },
      {
        "duration": 37,
        "start_time": "2023-06-29T12:15:47.465Z"
      },
      {
        "duration": 11,
        "start_time": "2023-06-29T12:15:57.225Z"
      },
      {
        "duration": 12,
        "start_time": "2023-06-29T12:16:02.538Z"
      },
      {
        "duration": 32,
        "start_time": "2023-06-29T12:16:05.518Z"
      },
      {
        "duration": 57,
        "start_time": "2023-06-29T12:16:08.930Z"
      },
      {
        "duration": 6194,
        "start_time": "2023-06-29T12:16:11.011Z"
      },
      {
        "duration": 17,
        "start_time": "2023-06-29T12:16:17.208Z"
      },
      {
        "duration": 16744,
        "start_time": "2023-06-29T12:16:17.228Z"
      },
      {
        "duration": 24000,
        "start_time": "2023-06-29T12:16:33.974Z"
      },
      {
        "duration": 15,
        "start_time": "2023-06-29T12:16:57.976Z"
      },
      {
        "duration": 1484,
        "start_time": "2023-06-29T12:16:57.992Z"
      },
      {
        "duration": 1067,
        "start_time": "2023-06-29T12:17:11.347Z"
      },
      {
        "duration": 877,
        "start_time": "2023-06-29T12:18:21.628Z"
      },
      {
        "duration": 1620,
        "start_time": "2023-06-29T12:18:40.797Z"
      },
      {
        "duration": 830,
        "start_time": "2023-06-29T12:18:44.287Z"
      },
      {
        "duration": 34,
        "start_time": "2023-06-29T12:18:45.119Z"
      },
      {
        "duration": 10,
        "start_time": "2023-06-29T12:18:46.356Z"
      },
      {
        "duration": 12,
        "start_time": "2023-06-29T12:18:51.315Z"
      },
      {
        "duration": 33,
        "start_time": "2023-06-29T12:18:52.116Z"
      },
      {
        "duration": 57,
        "start_time": "2023-06-29T12:18:53.420Z"
      },
      {
        "duration": 425,
        "start_time": "2023-06-29T12:18:55.792Z"
      },
      {
        "duration": 5773,
        "start_time": "2023-06-29T12:25:09.873Z"
      },
      {
        "duration": 13,
        "start_time": "2023-06-29T12:25:15.648Z"
      },
      {
        "duration": 15997,
        "start_time": "2023-06-29T12:25:15.664Z"
      },
      {
        "duration": 23595,
        "start_time": "2023-06-29T12:25:31.663Z"
      },
      {
        "duration": 10,
        "start_time": "2023-06-29T12:25:55.260Z"
      },
      {
        "duration": 1384,
        "start_time": "2023-06-29T12:25:55.272Z"
      },
      {
        "duration": 10,
        "start_time": "2023-06-29T12:25:56.658Z"
      },
      {
        "duration": 65,
        "start_time": "2023-06-29T12:28:48.485Z"
      },
      {
        "duration": 4,
        "start_time": "2023-06-29T12:29:16.973Z"
      },
      {
        "duration": 4,
        "start_time": "2023-06-29T12:29:32.437Z"
      },
      {
        "duration": 124,
        "start_time": "2023-06-29T12:30:23.126Z"
      },
      {
        "duration": 2,
        "start_time": "2023-06-29T12:34:37.098Z"
      },
      {
        "duration": 932,
        "start_time": "2023-06-29T12:35:37.231Z"
      },
      {
        "duration": 5832,
        "start_time": "2023-06-29T12:37:50.801Z"
      },
      {
        "duration": 3,
        "start_time": "2023-06-29T12:39:09.929Z"
      },
      {
        "duration": 1623,
        "start_time": "2023-06-29T13:14:28.002Z"
      },
      {
        "duration": 895,
        "start_time": "2023-06-29T13:14:29.628Z"
      },
      {
        "duration": 37,
        "start_time": "2023-06-29T13:14:30.525Z"
      },
      {
        "duration": 63,
        "start_time": "2023-06-29T13:14:30.564Z"
      },
      {
        "duration": 37,
        "start_time": "2023-06-29T13:14:30.629Z"
      },
      {
        "duration": 61,
        "start_time": "2023-06-29T13:14:30.667Z"
      },
      {
        "duration": 106,
        "start_time": "2023-06-29T13:14:30.730Z"
      },
      {
        "duration": 531,
        "start_time": "2023-06-29T13:14:30.838Z"
      },
      {
        "duration": 5984,
        "start_time": "2023-06-29T13:14:31.371Z"
      },
      {
        "duration": 13,
        "start_time": "2023-06-29T13:14:37.357Z"
      },
      {
        "duration": 16340,
        "start_time": "2023-06-29T13:14:37.373Z"
      },
      {
        "duration": 23573,
        "start_time": "2023-06-29T13:14:53.715Z"
      },
      {
        "duration": 11,
        "start_time": "2023-06-29T13:15:17.290Z"
      },
      {
        "duration": 1395,
        "start_time": "2023-06-29T13:15:17.314Z"
      },
      {
        "duration": 11,
        "start_time": "2023-06-29T13:15:18.712Z"
      },
      {
        "duration": 39,
        "start_time": "2023-06-29T13:15:18.725Z"
      },
      {
        "duration": 4,
        "start_time": "2023-06-29T13:15:18.766Z"
      },
      {
        "duration": 16,
        "start_time": "2023-06-29T13:15:18.772Z"
      },
      {
        "duration": 132,
        "start_time": "2023-06-29T13:15:18.790Z"
      },
      {
        "duration": 3,
        "start_time": "2023-06-29T13:15:18.924Z"
      },
      {
        "duration": 856,
        "start_time": "2023-06-29T13:15:18.928Z"
      },
      {
        "duration": 5652,
        "start_time": "2023-06-29T13:15:19.786Z"
      },
      {
        "duration": 3,
        "start_time": "2023-06-29T13:15:25.440Z"
      },
      {
        "duration": 43171,
        "start_time": "2023-06-29T13:15:25.445Z"
      },
      {
        "duration": 96,
        "start_time": "2023-06-29T13:16:08.618Z"
      },
      {
        "duration": 18,
        "start_time": "2023-06-29T13:16:08.715Z"
      },
      {
        "duration": 5,
        "start_time": "2023-06-29T13:16:08.735Z"
      },
      {
        "duration": 713601,
        "start_time": "2023-06-29T13:16:08.741Z"
      },
      {
        "duration": 19,
        "start_time": "2023-06-29T13:28:02.344Z"
      },
      {
        "duration": 24,
        "start_time": "2023-06-29T13:28:02.365Z"
      },
      {
        "duration": 68,
        "start_time": "2023-06-29T13:28:02.390Z"
      },
      {
        "duration": 0,
        "start_time": "2023-06-29T15:58:22.867Z"
      },
      {
        "duration": 0,
        "start_time": "2023-06-29T15:58:22.868Z"
      },
      {
        "duration": 0,
        "start_time": "2023-06-29T15:58:22.869Z"
      },
      {
        "duration": 2,
        "start_time": "2023-06-29T15:58:28.881Z"
      },
      {
        "duration": 9,
        "start_time": "2023-06-29T15:58:32.736Z"
      },
      {
        "duration": 8317,
        "start_time": "2023-06-29T15:58:38.488Z"
      },
      {
        "duration": 9,
        "start_time": "2023-06-29T15:58:52.274Z"
      },
      {
        "duration": 13,
        "start_time": "2023-06-29T15:58:53.127Z"
      },
      {
        "duration": 2,
        "start_time": "2023-06-29T16:01:53.338Z"
      },
      {
        "duration": 4488,
        "start_time": "2023-06-29T16:01:54.465Z"
      },
      {
        "duration": 500,
        "start_time": "2023-06-29T16:02:04.870Z"
      },
      {
        "duration": 14,
        "start_time": "2023-06-29T16:02:09.417Z"
      },
      {
        "duration": 3009,
        "start_time": "2023-07-02T17:30:02.802Z"
      },
      {
        "duration": 19,
        "start_time": "2023-07-02T17:31:13.419Z"
      },
      {
        "duration": 17,
        "start_time": "2023-07-02T17:32:33.532Z"
      },
      {
        "duration": 5,
        "start_time": "2023-07-02T17:41:39.912Z"
      },
      {
        "duration": 1695,
        "start_time": "2023-07-02T17:41:58.314Z"
      },
      {
        "duration": 3523,
        "start_time": "2023-07-02T17:42:05.399Z"
      },
      {
        "duration": 38,
        "start_time": "2023-07-02T17:42:10.112Z"
      },
      {
        "duration": 15,
        "start_time": "2023-07-02T17:42:11.199Z"
      },
      {
        "duration": 13,
        "start_time": "2023-07-02T17:42:14.912Z"
      },
      {
        "duration": 36,
        "start_time": "2023-07-02T17:42:15.375Z"
      },
      {
        "duration": 79,
        "start_time": "2023-07-02T17:42:22.587Z"
      },
      {
        "duration": 486,
        "start_time": "2023-07-02T17:42:23.234Z"
      },
      {
        "duration": 6923,
        "start_time": "2023-07-02T17:42:27.488Z"
      },
      {
        "duration": 13,
        "start_time": "2023-07-02T17:42:34.413Z"
      },
      {
        "duration": 17773,
        "start_time": "2023-07-02T17:42:38.544Z"
      },
      {
        "duration": 26862,
        "start_time": "2023-07-02T17:42:56.320Z"
      },
      {
        "duration": 13,
        "start_time": "2023-07-02T17:43:23.184Z"
      },
      {
        "duration": 1743,
        "start_time": "2023-07-02T17:43:31.336Z"
      },
      {
        "duration": 13,
        "start_time": "2023-07-02T17:43:33.082Z"
      },
      {
        "duration": 41,
        "start_time": "2023-07-02T17:43:42.888Z"
      },
      {
        "duration": 4,
        "start_time": "2023-07-02T17:43:43.408Z"
      },
      {
        "duration": 6,
        "start_time": "2023-07-02T17:43:43.897Z"
      },
      {
        "duration": 130,
        "start_time": "2023-07-02T17:43:57.816Z"
      },
      {
        "duration": 3,
        "start_time": "2023-07-02T17:44:03.057Z"
      },
      {
        "duration": 4,
        "start_time": "2023-07-02T17:44:04.685Z"
      },
      {
        "duration": 136,
        "start_time": "2023-07-02T17:44:15.609Z"
      },
      {
        "duration": 903,
        "start_time": "2023-07-02T17:45:56.204Z"
      },
      {
        "duration": 6086,
        "start_time": "2023-07-02T17:46:00.170Z"
      },
      {
        "duration": 3,
        "start_time": "2023-07-02T17:47:37.120Z"
      },
      {
        "duration": 91,
        "start_time": "2023-07-02T17:48:39.788Z"
      },
      {
        "duration": 83,
        "start_time": "2023-07-02T17:50:09.518Z"
      },
      {
        "duration": 110,
        "start_time": "2023-07-02T17:50:43.976Z"
      },
      {
        "duration": 15,
        "start_time": "2023-07-02T17:51:42.503Z"
      },
      {
        "duration": 80,
        "start_time": "2023-07-02T17:52:06.385Z"
      },
      {
        "duration": 104,
        "start_time": "2023-07-02T17:53:19.119Z"
      },
      {
        "duration": 9,
        "start_time": "2023-07-02T17:54:13.925Z"
      },
      {
        "duration": 102,
        "start_time": "2023-07-02T17:54:19.594Z"
      },
      {
        "duration": 3,
        "start_time": "2023-07-02T17:55:55.393Z"
      },
      {
        "duration": 62,
        "start_time": "2023-07-02T17:55:56.809Z"
      },
      {
        "duration": 1737835,
        "start_time": "2023-07-02T17:56:14.745Z"
      },
      {
        "duration": 13,
        "start_time": "2023-07-02T18:26:09.995Z"
      },
      {
        "duration": 4,
        "start_time": "2023-07-02T18:27:12.516Z"
      },
      {
        "duration": 3,
        "start_time": "2023-07-02T18:27:58.428Z"
      },
      {
        "duration": 557223,
        "start_time": "2023-07-02T18:28:02.348Z"
      },
      {
        "duration": 95,
        "start_time": "2023-07-02T18:37:19.573Z"
      },
      {
        "duration": 496203,
        "start_time": "2023-07-02T18:38:32.267Z"
      },
      {
        "duration": 96,
        "start_time": "2023-07-02T18:46:48.472Z"
      },
      {
        "duration": 6,
        "start_time": "2023-07-02T18:48:04.006Z"
      },
      {
        "duration": 101690,
        "start_time": "2023-07-02T18:48:10.357Z"
      },
      {
        "duration": 5,
        "start_time": "2023-07-02T18:50:04.274Z"
      },
      {
        "duration": 97687,
        "start_time": "2023-07-02T18:50:52.365Z"
      },
      {
        "duration": 4,
        "start_time": "2023-07-02T18:52:30.054Z"
      },
      {
        "duration": 147677,
        "start_time": "2023-07-02T18:53:10.134Z"
      },
      {
        "duration": 5,
        "start_time": "2023-07-02T18:55:37.813Z"
      },
      {
        "duration": 263292,
        "start_time": "2023-07-02T18:56:20.761Z"
      },
      {
        "duration": 11,
        "start_time": "2023-07-02T19:00:44.056Z"
      },
      {
        "duration": 3,
        "start_time": "2023-07-02T19:01:09.147Z"
      },
      {
        "duration": 57,
        "start_time": "2023-07-02T19:01:39.540Z"
      },
      {
        "duration": 494948,
        "start_time": "2023-07-02T19:02:44.126Z"
      },
      {
        "duration": 4,
        "start_time": "2023-07-02T19:10:59.078Z"
      },
      {
        "duration": 1645843,
        "start_time": "2023-07-02T19:13:28.736Z"
      },
      {
        "duration": 5,
        "start_time": "2023-07-02T19:40:54.581Z"
      },
      {
        "duration": 7,
        "start_time": "2023-07-02T19:42:25.100Z"
      },
      {
        "duration": 13,
        "start_time": "2023-07-02T19:42:28.053Z"
      },
      {
        "duration": 19,
        "start_time": "2023-07-02T19:42:36.979Z"
      },
      {
        "duration": 2553,
        "start_time": "2023-07-02T19:48:26.899Z"
      },
      {
        "duration": 3702,
        "start_time": "2023-07-02T19:48:29.457Z"
      },
      {
        "duration": 49,
        "start_time": "2023-07-02T19:48:33.164Z"
      },
      {
        "duration": 19,
        "start_time": "2023-07-02T19:48:33.216Z"
      },
      {
        "duration": 35,
        "start_time": "2023-07-02T19:48:33.240Z"
      },
      {
        "duration": 52,
        "start_time": "2023-07-02T19:48:33.278Z"
      },
      {
        "duration": 112,
        "start_time": "2023-07-02T19:48:33.333Z"
      },
      {
        "duration": 551,
        "start_time": "2023-07-02T19:48:33.447Z"
      },
      {
        "duration": 8092,
        "start_time": "2023-07-02T19:48:34.001Z"
      },
      {
        "duration": 16,
        "start_time": "2023-07-02T19:48:42.095Z"
      },
      {
        "duration": 20922,
        "start_time": "2023-07-02T19:48:42.113Z"
      },
      {
        "duration": 29246,
        "start_time": "2023-07-02T19:49:03.038Z"
      },
      {
        "duration": 14,
        "start_time": "2023-07-02T19:49:32.286Z"
      },
      {
        "duration": 1606,
        "start_time": "2023-07-02T19:49:32.304Z"
      },
      {
        "duration": 20,
        "start_time": "2023-07-02T19:49:33.912Z"
      },
      {
        "duration": 69,
        "start_time": "2023-07-02T19:49:33.934Z"
      },
      {
        "duration": 10,
        "start_time": "2023-07-02T19:49:34.006Z"
      },
      {
        "duration": 5,
        "start_time": "2023-07-02T19:49:34.021Z"
      },
      {
        "duration": 218,
        "start_time": "2023-07-02T19:49:34.028Z"
      },
      {
        "duration": 3,
        "start_time": "2023-07-02T19:49:34.248Z"
      },
      {
        "duration": 941,
        "start_time": "2023-07-02T19:49:34.253Z"
      },
      {
        "duration": 6582,
        "start_time": "2023-07-02T19:49:35.196Z"
      },
      {
        "duration": 2,
        "start_time": "2023-07-02T19:49:41.780Z"
      },
      {
        "duration": 506185,
        "start_time": "2023-07-02T19:49:41.784Z"
      },
      {
        "duration": 19,
        "start_time": "2023-07-02T19:58:07.972Z"
      },
      {
        "duration": 43,
        "start_time": "2023-07-02T19:58:07.993Z"
      },
      {
        "duration": 43,
        "start_time": "2023-07-02T19:58:08.038Z"
      },
      {
        "duration": 4,
        "start_time": "2023-07-02T19:58:08.084Z"
      },
      {
        "duration": 269598,
        "start_time": "2023-07-02T19:58:08.090Z"
      },
      {
        "duration": 4,
        "start_time": "2023-07-02T20:02:37.690Z"
      },
      {
        "duration": 21,
        "start_time": "2023-07-02T20:02:37.696Z"
      },
      {
        "duration": 22,
        "start_time": "2023-07-02T20:02:37.719Z"
      },
      {
        "duration": 7,
        "start_time": "2023-07-02T20:02:37.743Z"
      },
      {
        "duration": 1425634,
        "start_time": "2023-07-02T20:02:37.752Z"
      },
      {
        "duration": 5,
        "start_time": "2023-07-02T20:26:23.389Z"
      },
      {
        "duration": 8,
        "start_time": "2023-07-02T20:26:23.396Z"
      },
      {
        "duration": 10,
        "start_time": "2023-07-02T20:26:23.405Z"
      },
      {
        "duration": 12,
        "start_time": "2023-07-02T20:26:23.417Z"
      },
      {
        "duration": 14,
        "start_time": "2023-07-02T20:26:23.430Z"
      }
    ],
    "kernelspec": {
      "display_name": "Python 3 (ipykernel)",
      "language": "python",
      "name": "python3"
    },
    "language_info": {
      "codemirror_mode": {
        "name": "ipython",
        "version": 3
      },
      "file_extension": ".py",
      "mimetype": "text/x-python",
      "name": "python",
      "nbconvert_exporter": "python",
      "pygments_lexer": "ipython3",
      "version": "3.9.5"
    },
    "toc": {
      "base_numbering": 1,
      "nav_menu": {},
      "number_sections": true,
      "sideBar": true,
      "skip_h1_title": true,
      "title_cell": "Содержание",
      "title_sidebar": "Contents",
      "toc_cell": true,
      "toc_position": {
        "height": "calc(100% - 180px)",
        "left": "10px",
        "top": "150px",
        "width": "302.391px"
      },
      "toc_section_display": true,
      "toc_window_display": false
    },
    "colab": {
      "provenance": []
    }
  },
  "nbformat": 4,
  "nbformat_minor": 0
}