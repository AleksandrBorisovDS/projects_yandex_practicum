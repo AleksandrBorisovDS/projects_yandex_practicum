{
  "cells": [
    {
      "cell_type": "markdown",
      "metadata": {
        "id": "MY8NHweaIYRv"
      },
      "source": [
        "# Рекомендация тарифов"
      ]
    },
    {
      "cell_type": "markdown",
      "metadata": {
        "id": "yt_j2lMXIYRw"
      },
      "source": [
        "**Цель проекта:**\n",
        "\n",
        "На основании данных о поведении клиентов оператора мобильной связи \"Мегалайн\", построить модель для рекомендации подходящего актуального тарифного плана (\"Смарт\" или \"Ультра\").\n",
        "\n",
        "Модель будет сформирована на основании данных о поведении пользователей, которые уже перешли на эти тарифы.\n",
        "\n",
        "**Описание процесса моделирования:**\n",
        "\n",
        "Формирование модели будет выполнено в 5 этапов:\n",
        "\n",
        "- Обзор датасета (данные в датасете уже предобработаны);\n",
        "- Разделение датасета на выборки (тренировочная, валидационная и тестовая);\n",
        "- Исследование различных моделей рекомендации тарифа (модель для задачи классификации);\n",
        "- Проверка моделей на тестовой выборке;\n",
        "- Оценка выбранной модели на адекватность."
      ]
    },
    {
      "cell_type": "markdown",
      "metadata": {
        "id": "1uPd8BE2IYRw"
      },
      "source": [
        "## Обзор датасета"
      ]
    },
    {
      "cell_type": "markdown",
      "metadata": {
        "id": "6dhRFpnRIYRw"
      },
      "source": [
        "Для формирвоание модели классификации подключаем методы библиотеки sklearn: дерево решений, случайный лес и логическая регрессия.\n",
        "\n",
        "Для разделения датасета на выборки подключаем метод train_test_split.\n",
        "\n",
        "Для оценки качества модели - метод accuracy_score."
      ]
    },
    {
      "cell_type": "code",
      "execution_count": null,
      "metadata": {
        "id": "WsT0A18RIYRx"
      },
      "outputs": [],
      "source": [
        "import pandas as pd\n",
        "from sklearn.tree import DecisionTreeClassifier\n",
        "from sklearn.ensemble import RandomForestClassifier\n",
        "from sklearn.linear_model import LogisticRegression\n",
        "\n",
        "from sklearn.model_selection import train_test_split\n",
        "from sklearn.metrics import accuracy_score"
      ]
    },
    {
      "cell_type": "code",
      "execution_count": null,
      "metadata": {
        "id": "pp7KVtzWIYRy"
      },
      "outputs": [],
      "source": [
        "df = pd.read_csv('/datasets/users_behavior.csv')"
      ]
    },
    {
      "cell_type": "code",
      "execution_count": null,
      "metadata": {
        "id": "Ow-iXc55IYRy",
        "outputId": "28238679-7153-4d8a-b1e6-33e61a3d6448"
      },
      "outputs": [
        {
          "name": "stdout",
          "output_type": "stream",
          "text": [
            "<class 'pandas.core.frame.DataFrame'>\n",
            "RangeIndex: 3214 entries, 0 to 3213\n",
            "Data columns (total 5 columns):\n",
            " #   Column    Non-Null Count  Dtype  \n",
            "---  ------    --------------  -----  \n",
            " 0   calls     3214 non-null   float64\n",
            " 1   minutes   3214 non-null   float64\n",
            " 2   messages  3214 non-null   float64\n",
            " 3   mb_used   3214 non-null   float64\n",
            " 4   is_ultra  3214 non-null   int64  \n",
            "dtypes: float64(4), int64(1)\n",
            "memory usage: 125.7 KB\n"
          ]
        },
        {
          "data": {
            "text/html": [
              "<div>\n",
              "<style scoped>\n",
              "    .dataframe tbody tr th:only-of-type {\n",
              "        vertical-align: middle;\n",
              "    }\n",
              "\n",
              "    .dataframe tbody tr th {\n",
              "        vertical-align: top;\n",
              "    }\n",
              "\n",
              "    .dataframe thead th {\n",
              "        text-align: right;\n",
              "    }\n",
              "</style>\n",
              "<table border=\"1\" class=\"dataframe\">\n",
              "  <thead>\n",
              "    <tr style=\"text-align: right;\">\n",
              "      <th></th>\n",
              "      <th>calls</th>\n",
              "      <th>minutes</th>\n",
              "      <th>messages</th>\n",
              "      <th>mb_used</th>\n",
              "      <th>is_ultra</th>\n",
              "    </tr>\n",
              "  </thead>\n",
              "  <tbody>\n",
              "    <tr>\n",
              "      <th>count</th>\n",
              "      <td>3214.000000</td>\n",
              "      <td>3214.000000</td>\n",
              "      <td>3214.000000</td>\n",
              "      <td>3214.000000</td>\n",
              "      <td>3214.000000</td>\n",
              "    </tr>\n",
              "    <tr>\n",
              "      <th>mean</th>\n",
              "      <td>63.038892</td>\n",
              "      <td>438.208787</td>\n",
              "      <td>38.281269</td>\n",
              "      <td>17207.673836</td>\n",
              "      <td>0.306472</td>\n",
              "    </tr>\n",
              "    <tr>\n",
              "      <th>std</th>\n",
              "      <td>33.236368</td>\n",
              "      <td>234.569872</td>\n",
              "      <td>36.148326</td>\n",
              "      <td>7570.968246</td>\n",
              "      <td>0.461100</td>\n",
              "    </tr>\n",
              "    <tr>\n",
              "      <th>min</th>\n",
              "      <td>0.000000</td>\n",
              "      <td>0.000000</td>\n",
              "      <td>0.000000</td>\n",
              "      <td>0.000000</td>\n",
              "      <td>0.000000</td>\n",
              "    </tr>\n",
              "    <tr>\n",
              "      <th>25%</th>\n",
              "      <td>40.000000</td>\n",
              "      <td>274.575000</td>\n",
              "      <td>9.000000</td>\n",
              "      <td>12491.902500</td>\n",
              "      <td>0.000000</td>\n",
              "    </tr>\n",
              "    <tr>\n",
              "      <th>50%</th>\n",
              "      <td>62.000000</td>\n",
              "      <td>430.600000</td>\n",
              "      <td>30.000000</td>\n",
              "      <td>16943.235000</td>\n",
              "      <td>0.000000</td>\n",
              "    </tr>\n",
              "    <tr>\n",
              "      <th>75%</th>\n",
              "      <td>82.000000</td>\n",
              "      <td>571.927500</td>\n",
              "      <td>57.000000</td>\n",
              "      <td>21424.700000</td>\n",
              "      <td>1.000000</td>\n",
              "    </tr>\n",
              "    <tr>\n",
              "      <th>max</th>\n",
              "      <td>244.000000</td>\n",
              "      <td>1632.060000</td>\n",
              "      <td>224.000000</td>\n",
              "      <td>49745.730000</td>\n",
              "      <td>1.000000</td>\n",
              "    </tr>\n",
              "  </tbody>\n",
              "</table>\n",
              "</div>"
            ],
            "text/plain": [
              "             calls      minutes     messages       mb_used     is_ultra\n",
              "count  3214.000000  3214.000000  3214.000000   3214.000000  3214.000000\n",
              "mean     63.038892   438.208787    38.281269  17207.673836     0.306472\n",
              "std      33.236368   234.569872    36.148326   7570.968246     0.461100\n",
              "min       0.000000     0.000000     0.000000      0.000000     0.000000\n",
              "25%      40.000000   274.575000     9.000000  12491.902500     0.000000\n",
              "50%      62.000000   430.600000    30.000000  16943.235000     0.000000\n",
              "75%      82.000000   571.927500    57.000000  21424.700000     1.000000\n",
              "max     244.000000  1632.060000   224.000000  49745.730000     1.000000"
            ]
          },
          "execution_count": 3,
          "metadata": {},
          "output_type": "execute_result"
        }
      ],
      "source": [
        "df.info()\n",
        "df.describe()"
      ]
    },
    {
      "cell_type": "code",
      "execution_count": null,
      "metadata": {
        "id": "CVDBV2oZIYRz",
        "outputId": "5888063d-b9a5-40ca-90f3-07fa91f73f24"
      },
      "outputs": [
        {
          "data": {
            "text/html": [
              "<div>\n",
              "<style scoped>\n",
              "    .dataframe tbody tr th:only-of-type {\n",
              "        vertical-align: middle;\n",
              "    }\n",
              "\n",
              "    .dataframe tbody tr th {\n",
              "        vertical-align: top;\n",
              "    }\n",
              "\n",
              "    .dataframe thead th {\n",
              "        text-align: right;\n",
              "    }\n",
              "</style>\n",
              "<table border=\"1\" class=\"dataframe\">\n",
              "  <thead>\n",
              "    <tr style=\"text-align: right;\">\n",
              "      <th></th>\n",
              "      <th>calls</th>\n",
              "      <th>minutes</th>\n",
              "      <th>messages</th>\n",
              "      <th>mb_used</th>\n",
              "      <th>is_ultra</th>\n",
              "    </tr>\n",
              "  </thead>\n",
              "  <tbody>\n",
              "    <tr>\n",
              "      <th>0</th>\n",
              "      <td>40.0</td>\n",
              "      <td>311.90</td>\n",
              "      <td>83.0</td>\n",
              "      <td>19915.42</td>\n",
              "      <td>0</td>\n",
              "    </tr>\n",
              "    <tr>\n",
              "      <th>1</th>\n",
              "      <td>85.0</td>\n",
              "      <td>516.75</td>\n",
              "      <td>56.0</td>\n",
              "      <td>22696.96</td>\n",
              "      <td>0</td>\n",
              "    </tr>\n",
              "    <tr>\n",
              "      <th>2</th>\n",
              "      <td>77.0</td>\n",
              "      <td>467.66</td>\n",
              "      <td>86.0</td>\n",
              "      <td>21060.45</td>\n",
              "      <td>0</td>\n",
              "    </tr>\n",
              "    <tr>\n",
              "      <th>3</th>\n",
              "      <td>106.0</td>\n",
              "      <td>745.53</td>\n",
              "      <td>81.0</td>\n",
              "      <td>8437.39</td>\n",
              "      <td>1</td>\n",
              "    </tr>\n",
              "    <tr>\n",
              "      <th>4</th>\n",
              "      <td>66.0</td>\n",
              "      <td>418.74</td>\n",
              "      <td>1.0</td>\n",
              "      <td>14502.75</td>\n",
              "      <td>0</td>\n",
              "    </tr>\n",
              "  </tbody>\n",
              "</table>\n",
              "</div>"
            ],
            "text/plain": [
              "   calls  minutes  messages   mb_used  is_ultra\n",
              "0   40.0   311.90      83.0  19915.42         0\n",
              "1   85.0   516.75      56.0  22696.96         0\n",
              "2   77.0   467.66      86.0  21060.45         0\n",
              "3  106.0   745.53      81.0   8437.39         1\n",
              "4   66.0   418.74       1.0  14502.75         0"
            ]
          },
          "execution_count": 4,
          "metadata": {},
          "output_type": "execute_result"
        }
      ],
      "source": [
        "df.head()"
      ]
    },
    {
      "cell_type": "code",
      "execution_count": null,
      "metadata": {
        "id": "gufwEK_EIYRz",
        "outputId": "df04cf97-b135-43de-9b44-1558c085cbf4"
      },
      "outputs": [
        {
          "data": {
            "text/html": [
              "<div>\n",
              "<style scoped>\n",
              "    .dataframe tbody tr th:only-of-type {\n",
              "        vertical-align: middle;\n",
              "    }\n",
              "\n",
              "    .dataframe tbody tr th {\n",
              "        vertical-align: top;\n",
              "    }\n",
              "\n",
              "    .dataframe thead th {\n",
              "        text-align: right;\n",
              "    }\n",
              "</style>\n",
              "<table border=\"1\" class=\"dataframe\">\n",
              "  <thead>\n",
              "    <tr style=\"text-align: right;\">\n",
              "      <th></th>\n",
              "      <th>calls</th>\n",
              "      <th>minutes</th>\n",
              "      <th>messages</th>\n",
              "      <th>mb_used</th>\n",
              "      <th>is_ultra</th>\n",
              "    </tr>\n",
              "  </thead>\n",
              "  <tbody>\n",
              "    <tr>\n",
              "      <th>3209</th>\n",
              "      <td>122.0</td>\n",
              "      <td>910.98</td>\n",
              "      <td>20.0</td>\n",
              "      <td>35124.90</td>\n",
              "      <td>1</td>\n",
              "    </tr>\n",
              "    <tr>\n",
              "      <th>3210</th>\n",
              "      <td>25.0</td>\n",
              "      <td>190.36</td>\n",
              "      <td>0.0</td>\n",
              "      <td>3275.61</td>\n",
              "      <td>0</td>\n",
              "    </tr>\n",
              "    <tr>\n",
              "      <th>3211</th>\n",
              "      <td>97.0</td>\n",
              "      <td>634.44</td>\n",
              "      <td>70.0</td>\n",
              "      <td>13974.06</td>\n",
              "      <td>0</td>\n",
              "    </tr>\n",
              "    <tr>\n",
              "      <th>3212</th>\n",
              "      <td>64.0</td>\n",
              "      <td>462.32</td>\n",
              "      <td>90.0</td>\n",
              "      <td>31239.78</td>\n",
              "      <td>0</td>\n",
              "    </tr>\n",
              "    <tr>\n",
              "      <th>3213</th>\n",
              "      <td>80.0</td>\n",
              "      <td>566.09</td>\n",
              "      <td>6.0</td>\n",
              "      <td>29480.52</td>\n",
              "      <td>1</td>\n",
              "    </tr>\n",
              "  </tbody>\n",
              "</table>\n",
              "</div>"
            ],
            "text/plain": [
              "      calls  minutes  messages   mb_used  is_ultra\n",
              "3209  122.0   910.98      20.0  35124.90         1\n",
              "3210   25.0   190.36       0.0   3275.61         0\n",
              "3211   97.0   634.44      70.0  13974.06         0\n",
              "3212   64.0   462.32      90.0  31239.78         0\n",
              "3213   80.0   566.09       6.0  29480.52         1"
            ]
          },
          "execution_count": 5,
          "metadata": {},
          "output_type": "execute_result"
        }
      ],
      "source": [
        "df.tail()"
      ]
    },
    {
      "cell_type": "markdown",
      "metadata": {
        "id": "L0l1URGPIYRz"
      },
      "source": [
        "**Вывод по обзору датасета:**\n",
        "\n",
        "Датасет содержит информацию о звонках, минутах, сообщениях, траффике интернета и признак тарифа \"Ультра\". Учитывая, что всего тарифа два, то строки, соответствующие значению 0 в графе \"is_ultra\" - означают, что такие пользователи выбрали тариф \"Смарт\".\n",
        "Пропусков в данных нет, тип данных соотвествует значаниям в соответсвующих графах. По среднему значению в графе \"is_ultra\" можно сказать, что чуть более 30% пользователей выбрали тариф \"Ультра\", а большинство использует тариф \"Смарт\"."
      ]
    },
    {
      "cell_type": "code",
      "execution_count": null,
      "metadata": {
        "id": "1xP6LI1-IYR0",
        "outputId": "b9ab808e-2823-4338-ab97-fe7ce0da1b52"
      },
      "outputs": [
        {
          "data": {
            "text/html": [
              "<div>\n",
              "<style scoped>\n",
              "    .dataframe tbody tr th:only-of-type {\n",
              "        vertical-align: middle;\n",
              "    }\n",
              "\n",
              "    .dataframe tbody tr th {\n",
              "        vertical-align: top;\n",
              "    }\n",
              "\n",
              "    .dataframe thead th {\n",
              "        text-align: right;\n",
              "    }\n",
              "</style>\n",
              "<table border=\"1\" class=\"dataframe\">\n",
              "  <thead>\n",
              "    <tr style=\"text-align: right;\">\n",
              "      <th></th>\n",
              "      <th>calls</th>\n",
              "      <th>minutes</th>\n",
              "      <th>messages</th>\n",
              "      <th>mb_used</th>\n",
              "      <th>is_ultra</th>\n",
              "    </tr>\n",
              "  </thead>\n",
              "  <tbody>\n",
              "    <tr>\n",
              "      <th>calls</th>\n",
              "      <td>1.000000</td>\n",
              "      <td>0.982083</td>\n",
              "      <td>0.177385</td>\n",
              "      <td>0.286442</td>\n",
              "      <td>0.207122</td>\n",
              "    </tr>\n",
              "    <tr>\n",
              "      <th>minutes</th>\n",
              "      <td>0.982083</td>\n",
              "      <td>1.000000</td>\n",
              "      <td>0.173110</td>\n",
              "      <td>0.280967</td>\n",
              "      <td>0.206955</td>\n",
              "    </tr>\n",
              "    <tr>\n",
              "      <th>messages</th>\n",
              "      <td>0.177385</td>\n",
              "      <td>0.173110</td>\n",
              "      <td>1.000000</td>\n",
              "      <td>0.195721</td>\n",
              "      <td>0.203830</td>\n",
              "    </tr>\n",
              "    <tr>\n",
              "      <th>mb_used</th>\n",
              "      <td>0.286442</td>\n",
              "      <td>0.280967</td>\n",
              "      <td>0.195721</td>\n",
              "      <td>1.000000</td>\n",
              "      <td>0.198568</td>\n",
              "    </tr>\n",
              "    <tr>\n",
              "      <th>is_ultra</th>\n",
              "      <td>0.207122</td>\n",
              "      <td>0.206955</td>\n",
              "      <td>0.203830</td>\n",
              "      <td>0.198568</td>\n",
              "      <td>1.000000</td>\n",
              "    </tr>\n",
              "  </tbody>\n",
              "</table>\n",
              "</div>"
            ],
            "text/plain": [
              "             calls   minutes  messages   mb_used  is_ultra\n",
              "calls     1.000000  0.982083  0.177385  0.286442  0.207122\n",
              "minutes   0.982083  1.000000  0.173110  0.280967  0.206955\n",
              "messages  0.177385  0.173110  1.000000  0.195721  0.203830\n",
              "mb_used   0.286442  0.280967  0.195721  1.000000  0.198568\n",
              "is_ultra  0.207122  0.206955  0.203830  0.198568  1.000000"
            ]
          },
          "execution_count": 6,
          "metadata": {},
          "output_type": "execute_result"
        }
      ],
      "source": [
        "df.corr()"
      ]
    },
    {
      "cell_type": "markdown",
      "metadata": {
        "id": "YYB5sPanIYR1"
      },
      "source": [
        "В датасете наблюдается наличие двух столбцов данных ('calls' и 'minutes'), между которыми присутствует очень высокая, близкая к единице (98.2%) корреляция. Это означает наличие прямой связи между количеством звонков и потраченных минутах, как следствие, для обучения моделей, один из этих признаков будет излишним, поэтому при формировании датафрейма признаков, исключим столбец 'calls', исключение которого, с учетом выявленной корреляции не должно повлиять на качество работы моделей."
      ]
    },
    {
      "cell_type": "markdown",
      "metadata": {
        "id": "9cucni-sIYR1"
      },
      "source": [
        "## Разделение датасета на выборки"
      ]
    },
    {
      "cell_type": "markdown",
      "metadata": {
        "id": "5cwYcc-AIYR1"
      },
      "source": [
        "Формируем датафрейм признаков и датафрейм целевого признака."
      ]
    },
    {
      "cell_type": "code",
      "execution_count": null,
      "metadata": {
        "id": "35rPgsqRIYR1"
      },
      "outputs": [],
      "source": [
        "features = df.drop(['is_ultra', 'calls'], axis=1)\n",
        "target = df['is_ultra']"
      ]
    },
    {
      "cell_type": "markdown",
      "metadata": {
        "id": "WOzBy6SoIYR2"
      },
      "source": [
        "Так как отдельной тестовой выборки нет - сформируем тестовую, валидационную и тренировочную выборки из датасета. В таком случае датасет разбивают пропорционально: 3:1:1, где 3 - коэффициент тренировочной выборки.\n",
        "\n",
        "Формирование выборок проведем последовательно в 2 этапа:\n",
        "\n",
        "- Сначала выделим тренировочную выборку - 60% от датасета\n",
        "- Потом разделим поровну оставшиеся 40%, получив тем самым валидационную и тестовую выборки."
      ]
    },
    {
      "cell_type": "code",
      "execution_count": null,
      "metadata": {
        "id": "o3aHmai0IYR2"
      },
      "outputs": [],
      "source": [
        "features_train, features_temp, target_train, target_temp = \\\n",
        "          train_test_split(features, target, test_size=0.4, random_state=12345)\n",
        "\n",
        "features_test, features_valid, target_test, target_valid = \\\n",
        "         train_test_split(features_temp, target_temp, test_size=0.5, random_state=12345)"
      ]
    },
    {
      "cell_type": "code",
      "execution_count": null,
      "metadata": {
        "id": "jGzN1gqxIYR2",
        "outputId": "62f87e7d-6669-4da4-ba7d-aa466fca9511"
      },
      "outputs": [
        {
          "name": "stdout",
          "output_type": "stream",
          "text": [
            "(1928, 3) (643, 3) (643, 3)\n",
            "(1928,) (643,) (643,)\n"
          ]
        }
      ],
      "source": [
        "print(features_train.shape, features_test.shape, features_valid.shape)\n",
        "print(target_train.shape, target_test.shape, target_valid.shape)"
      ]
    },
    {
      "cell_type": "markdown",
      "metadata": {
        "id": "1Xo1CyDoIYR3"
      },
      "source": [
        "Проверена размерность полученных выборок. Размерность соответствует требуемой пропорции 3:1:1."
      ]
    },
    {
      "cell_type": "markdown",
      "metadata": {
        "id": "JcdFmgdUIYR3"
      },
      "source": [
        "## Исследование различных моделей рекомендации тарифа"
      ]
    },
    {
      "cell_type": "markdown",
      "metadata": {
        "id": "LTArNWWNIYR3"
      },
      "source": [
        "Проедем последовательное исследование 3 моделей: Решающее дерево, Случайный лес и логическая регрессия.\n",
        "\n",
        "Модель **Решающее дерево**"
      ]
    },
    {
      "cell_type": "code",
      "execution_count": null,
      "metadata": {
        "id": "4XwonVe0IYR3",
        "outputId": "0ba5fcda-9b30-4219-bc67-580fde15f3c6"
      },
      "outputs": [
        {
          "name": "stdout",
          "output_type": "stream",
          "text": [
            "Качество наилучшей модели на валидационной выборке: 0.7963 Глубина дерева: 7\n"
          ]
        }
      ],
      "source": [
        "best_model = None\n",
        "best_result = 0\n",
        "best_depth = 0\n",
        "\n",
        "for i in range(1, 11):\n",
        "    model = DecisionTreeClassifier(random_state=12345, max_depth=i)\n",
        "    model.fit(features_train, target_train)\n",
        "    predictions_valid = model.predict(features_valid)\n",
        "    result = accuracy_score(target_valid, predictions_valid)\n",
        "\n",
        "    if result > best_result:\n",
        "        best_model = model\n",
        "        best_result = result\n",
        "        best_depth = i\n",
        "\n",
        "print(\"Качество наилучшей модели на валидационной выборке:\", best_result.round(4), \"Глубина дерева:\", best_depth)"
      ]
    },
    {
      "cell_type": "markdown",
      "metadata": {
        "id": "gZmSmybtIYR4"
      },
      "source": [
        "Так как в цикле просматриваем варианты глубины деревьев от 1 до 10, а наилучшее результаты достигаются при глубине 7, дальнейшее изменение (поиск) параметра максимальной глубины дерева нецелесообразно.\n",
        "\n",
        "Модель **Случайный лес**"
      ]
    },
    {
      "cell_type": "code",
      "execution_count": null,
      "metadata": {
        "id": "vBIQHP2BIYR4",
        "outputId": "a8090071-bcfc-43e9-b16f-1f0996534f72"
      },
      "outputs": [
        {
          "name": "stdout",
          "output_type": "stream",
          "text": [
            "Качество наилучшей модели на валидационной выборке: 0.8087 Количество деревьев: 10 Максимальная глубина: 8\n"
          ]
        }
      ],
      "source": [
        "best_model = None\n",
        "best_result = 0\n",
        "best_est = 0\n",
        "best_depth = 0\n",
        "\n",
        "for est in range(10, 41, 5):\n",
        "    for i in range (1, 11):\n",
        "        model = RandomForestClassifier(random_state=12345, n_estimators=est, max_depth=i)\n",
        "        model.fit(features_train, target_train)\n",
        "        predictions_valid = model.predict(features_valid)\n",
        "        result = accuracy_score(target_valid, predictions_valid)\n",
        "\n",
        "        if result > best_result:\n",
        "            best_model = model\n",
        "            best_result = result\n",
        "            best_est = est\n",
        "            best_depth = i\n",
        "\n",
        "print(\"Качество наилучшей модели на валидационной выборке:\", best_result.round(4), \\\n",
        "      \"Количество деревьев:\", best_est, \"Максимальная глубина:\", best_depth)"
      ]
    },
    {
      "cell_type": "markdown",
      "metadata": {
        "id": "C1T1jcHBIYR4"
      },
      "source": [
        "Так как в цикле просматриваем варианты глубины деревьев от 1 до 10 и количество деревьев от 10 до 40, а наилучшее результаты достигаются при глубине 8 и количестве деревьев 10, дальнейшее изменение (поиск) параметра максимальной глубины и количества деревьев нецелесообразно.\n",
        "\n",
        "Модель **Логическая регрессия**"
      ]
    },
    {
      "cell_type": "code",
      "execution_count": null,
      "metadata": {
        "id": "X0b2VJ40IYR5",
        "outputId": "df57ca79-4c70-4a32-b46a-f8c4027b7298"
      },
      "outputs": [
        {
          "name": "stdout",
          "output_type": "stream",
          "text": [
            "Качество модели на валидационной выборке: 0.6983\n"
          ]
        }
      ],
      "source": [
        "model = LogisticRegression(random_state=12345, solver='liblinear')\n",
        "model.fit(features_train, target_train)\n",
        "predictions_valid = model.predict(features_valid)\n",
        "result = accuracy_score(target_valid, predictions_valid)\n",
        "\n",
        "print(\"Качество модели на валидационной выборке:\", result.round(4))"
      ]
    },
    {
      "cell_type": "markdown",
      "metadata": {
        "id": "YpE-kz6CIYR5"
      },
      "source": [
        "**Вывод по разделу**\n",
        "\n",
        "Рассмотрены три модели: Решающее дерево, Случайный лес и Логическая регрессия.\n",
        "\n",
        "Для моделей Решающее дерево и Случайный лес произведен поиск лучших гиперпараметров (глубина дерева, количество деревьев) по критерию точности моделей. Определены гиперпараметры, дающие максимальную точность на валидационной выборке.\n",
        "\n",
        "По результатам расчета точности моделей лучшей признана модель **Случайный лес** с гиперпараметрами: глубина деревьев - 8, количество деревьев - 10. Такая модель показала точность на валидационной выборке = **80.9%**"
      ]
    },
    {
      "cell_type": "markdown",
      "metadata": {
        "id": "-DQ-EHKaIYR5"
      },
      "source": [
        "## Проверка моделей на тестовой выборке"
      ]
    },
    {
      "cell_type": "markdown",
      "metadata": {
        "id": "BX9MXHE2IYR5"
      },
      "source": [
        "Последовательно проверим модели с найденными лучшими гиперпараметрами на тестовой выборке.\n",
        "\n",
        "Проверим все модели, начиная с лучшей по валидационной выборке, т.к. результаты на валидационной выборке не всегда совпадают с результатами на тестовой."
      ]
    },
    {
      "cell_type": "code",
      "execution_count": null,
      "metadata": {
        "id": "jHbmtGkeIYR5",
        "outputId": "7b317f3d-8094-4eb8-9480-058d6a87eb2e"
      },
      "outputs": [
        {
          "name": "stdout",
          "output_type": "stream",
          "text": [
            "Точность модели Случайный лес на тестовой выборке: 0.7838\n"
          ]
        }
      ],
      "source": [
        "model = RandomForestClassifier(random_state=12345, n_estimators=10, max_depth=8)\n",
        "model.fit(features_train, target_train)\n",
        "predictions_test = model.predict(features_test)\n",
        "result = accuracy_score(target_test, predictions_test)\n",
        "print(\"Точность модели Случайный лес на тестовой выборке:\", result.round(4))"
      ]
    },
    {
      "cell_type": "code",
      "execution_count": null,
      "metadata": {
        "id": "bZi7-LSvIYR6",
        "outputId": "2bb9391e-a3c0-47a5-98a5-65600442a0b0"
      },
      "outputs": [
        {
          "name": "stdout",
          "output_type": "stream",
          "text": [
            "Точность модели Дерево решений на тестовой выборке: 0.7714\n"
          ]
        }
      ],
      "source": [
        "model = DecisionTreeClassifier(random_state=12345, max_depth=7)\n",
        "model.fit(features_train, target_train)\n",
        "predictions_test = model.predict(features_test)\n",
        "result = accuracy_score(target_test, predictions_test)\n",
        "print(\"Точность модели Дерево решений на тестовой выборке:\", result.round(4))"
      ]
    },
    {
      "cell_type": "code",
      "execution_count": null,
      "metadata": {
        "id": "fnjDMdc1IYR6",
        "outputId": "749e9930-4fc8-4a9f-a487-a773f35904c1"
      },
      "outputs": [
        {
          "name": "stdout",
          "output_type": "stream",
          "text": [
            "Точность модели Логическая регрессия на тестовой выборке: 0.7076\n"
          ]
        }
      ],
      "source": [
        "model = LogisticRegression(random_state=12345, solver='liblinear')\n",
        "model.fit(features_train, target_train)\n",
        "predictions_test = model.predict(features_test)\n",
        "result = accuracy_score(target_test, predictions_test)\n",
        "print(\"Точность модели Логическая регрессия на тестовой выборке:\", result.round(4))"
      ]
    },
    {
      "cell_type": "markdown",
      "metadata": {
        "id": "rUYsg3E2IYR6"
      },
      "source": [
        "**Вывод по разделу:**\n",
        "\n",
        "Модель, показавшая лучший результат точности на валидационной выборке, продемонстрировала также лучший результат и на тестовой.\n",
        "\n",
        "Итого. Выбираем лучшую модель **Случайный лес** с гиперпараметрами: глубина дерева - 8, количество деревьев - 10.\n",
        "\n",
        "Точность у данной модели на тестовой выборке составила **78.4%**, что выше заданной минимальной точности равной 75%, таким образом, данная модель удовлетворяет требованию заказчика."
      ]
    },
    {
      "cell_type": "markdown",
      "metadata": {
        "id": "_66AF2gDIYR6"
      },
      "source": [
        "## Проверка модели на адекватность"
      ]
    },
    {
      "cell_type": "markdown",
      "metadata": {
        "id": "mNBLa-edIYR7"
      },
      "source": [
        "Проверку мождели на адекватность проведем сравнив результаты работы модели на всем датасете с данными датасета - прогнозируемое и реальное (фактическое) значение в графе \"is_ultra\"."
      ]
    },
    {
      "cell_type": "code",
      "execution_count": null,
      "metadata": {
        "id": "7MhBjNKKIYR7",
        "outputId": "be70929c-179a-46c8-8d6f-696f79fe62b8"
      },
      "outputs": [
        {
          "data": {
            "text/plain": [
              "0    2229\n",
              "1     985\n",
              "Name: is_ultra, dtype: int64"
            ]
          },
          "execution_count": 16,
          "metadata": {},
          "output_type": "execute_result"
        }
      ],
      "source": [
        "df['is_ultra'].value_counts()"
      ]
    },
    {
      "cell_type": "markdown",
      "metadata": {
        "id": "mTY-My6tIYR7"
      },
      "source": [
        "В датасете всего 985 пользователей с тарифом \"Ультра\". Всего пользователей в выборке 3 214. Таким образом, вероятность случайно угадать пользователя с тарифом \"Ультра\" составляет 30.6%\n",
        "Точность модели и на валидационной и на тестовой выборках гораздо выше и составляет порядка 79%."
      ]
    },
    {
      "cell_type": "code",
      "execution_count": null,
      "metadata": {
        "id": "qKM5wlXgIYR7"
      },
      "outputs": [],
      "source": [
        "model = RandomForestClassifier(random_state=12345, n_estimators=10, max_depth=8)\n",
        "model.fit(features_train, target_train)\n",
        "predictions = model.predict(features)\n",
        "df['is_ultra_predict']=predictions"
      ]
    },
    {
      "cell_type": "code",
      "execution_count": null,
      "metadata": {
        "id": "OmjG28qGIYR7",
        "outputId": "cec0579d-b78a-4235-a3a2-255be92f9457"
      },
      "outputs": [
        {
          "data": {
            "text/plain": [
              "0    2580\n",
              "1     634\n",
              "Name: is_ultra_predict, dtype: int64"
            ]
          },
          "execution_count": 18,
          "metadata": {},
          "output_type": "execute_result"
        }
      ],
      "source": [
        "df['is_ultra_predict'].value_counts()"
      ]
    },
    {
      "cell_type": "markdown",
      "metadata": {
        "id": "FxjCsRoHIYR8"
      },
      "source": [
        "По результатам работы модели предсказано 634 пользователей с тарифом \"Ультра\" из 985. Т.е. точность определеления для тарифа \"Ультра\" составила 64.4% для всего датасета, что также существенно выше вероятности случайно угадать данный тариф."
      ]
    },
    {
      "cell_type": "code",
      "execution_count": null,
      "metadata": {
        "id": "VYWmkg_oIYR8",
        "outputId": "4d3014d3-7bd7-4a40-cfec-fb2df74a3696"
      },
      "outputs": [
        {
          "data": {
            "text/html": [
              "<div>\n",
              "<style scoped>\n",
              "    .dataframe tbody tr th:only-of-type {\n",
              "        vertical-align: middle;\n",
              "    }\n",
              "\n",
              "    .dataframe tbody tr th {\n",
              "        vertical-align: top;\n",
              "    }\n",
              "\n",
              "    .dataframe thead th {\n",
              "        text-align: right;\n",
              "    }\n",
              "</style>\n",
              "<table border=\"1\" class=\"dataframe\">\n",
              "  <thead>\n",
              "    <tr style=\"text-align: right;\">\n",
              "      <th></th>\n",
              "      <th>calls</th>\n",
              "      <th>minutes</th>\n",
              "      <th>messages</th>\n",
              "      <th>mb_used</th>\n",
              "      <th>is_ultra</th>\n",
              "      <th>is_ultra_predict</th>\n",
              "    </tr>\n",
              "  </thead>\n",
              "  <tbody>\n",
              "    <tr>\n",
              "      <th>0</th>\n",
              "      <td>40.0</td>\n",
              "      <td>311.90</td>\n",
              "      <td>83.0</td>\n",
              "      <td>19915.42</td>\n",
              "      <td>0</td>\n",
              "      <td>0</td>\n",
              "    </tr>\n",
              "    <tr>\n",
              "      <th>1</th>\n",
              "      <td>85.0</td>\n",
              "      <td>516.75</td>\n",
              "      <td>56.0</td>\n",
              "      <td>22696.96</td>\n",
              "      <td>0</td>\n",
              "      <td>0</td>\n",
              "    </tr>\n",
              "    <tr>\n",
              "      <th>2</th>\n",
              "      <td>77.0</td>\n",
              "      <td>467.66</td>\n",
              "      <td>86.0</td>\n",
              "      <td>21060.45</td>\n",
              "      <td>0</td>\n",
              "      <td>0</td>\n",
              "    </tr>\n",
              "    <tr>\n",
              "      <th>3</th>\n",
              "      <td>106.0</td>\n",
              "      <td>745.53</td>\n",
              "      <td>81.0</td>\n",
              "      <td>8437.39</td>\n",
              "      <td>1</td>\n",
              "      <td>0</td>\n",
              "    </tr>\n",
              "    <tr>\n",
              "      <th>4</th>\n",
              "      <td>66.0</td>\n",
              "      <td>418.74</td>\n",
              "      <td>1.0</td>\n",
              "      <td>14502.75</td>\n",
              "      <td>0</td>\n",
              "      <td>0</td>\n",
              "    </tr>\n",
              "    <tr>\n",
              "      <th>5</th>\n",
              "      <td>58.0</td>\n",
              "      <td>344.56</td>\n",
              "      <td>21.0</td>\n",
              "      <td>15823.37</td>\n",
              "      <td>0</td>\n",
              "      <td>0</td>\n",
              "    </tr>\n",
              "    <tr>\n",
              "      <th>6</th>\n",
              "      <td>57.0</td>\n",
              "      <td>431.64</td>\n",
              "      <td>20.0</td>\n",
              "      <td>3738.90</td>\n",
              "      <td>1</td>\n",
              "      <td>0</td>\n",
              "    </tr>\n",
              "    <tr>\n",
              "      <th>7</th>\n",
              "      <td>15.0</td>\n",
              "      <td>132.40</td>\n",
              "      <td>6.0</td>\n",
              "      <td>21911.60</td>\n",
              "      <td>0</td>\n",
              "      <td>0</td>\n",
              "    </tr>\n",
              "    <tr>\n",
              "      <th>8</th>\n",
              "      <td>7.0</td>\n",
              "      <td>43.39</td>\n",
              "      <td>3.0</td>\n",
              "      <td>2538.67</td>\n",
              "      <td>1</td>\n",
              "      <td>0</td>\n",
              "    </tr>\n",
              "    <tr>\n",
              "      <th>9</th>\n",
              "      <td>90.0</td>\n",
              "      <td>665.41</td>\n",
              "      <td>38.0</td>\n",
              "      <td>17358.61</td>\n",
              "      <td>0</td>\n",
              "      <td>0</td>\n",
              "    </tr>\n",
              "    <tr>\n",
              "      <th>10</th>\n",
              "      <td>82.0</td>\n",
              "      <td>560.51</td>\n",
              "      <td>20.0</td>\n",
              "      <td>9619.53</td>\n",
              "      <td>1</td>\n",
              "      <td>0</td>\n",
              "    </tr>\n",
              "    <tr>\n",
              "      <th>11</th>\n",
              "      <td>45.0</td>\n",
              "      <td>344.32</td>\n",
              "      <td>13.0</td>\n",
              "      <td>19898.81</td>\n",
              "      <td>0</td>\n",
              "      <td>0</td>\n",
              "    </tr>\n",
              "    <tr>\n",
              "      <th>12</th>\n",
              "      <td>51.0</td>\n",
              "      <td>437.13</td>\n",
              "      <td>61.0</td>\n",
              "      <td>21523.58</td>\n",
              "      <td>0</td>\n",
              "      <td>0</td>\n",
              "    </tr>\n",
              "    <tr>\n",
              "      <th>13</th>\n",
              "      <td>56.0</td>\n",
              "      <td>433.07</td>\n",
              "      <td>16.0</td>\n",
              "      <td>16702.36</td>\n",
              "      <td>0</td>\n",
              "      <td>0</td>\n",
              "    </tr>\n",
              "    <tr>\n",
              "      <th>14</th>\n",
              "      <td>108.0</td>\n",
              "      <td>587.90</td>\n",
              "      <td>0.0</td>\n",
              "      <td>14406.50</td>\n",
              "      <td>1</td>\n",
              "      <td>0</td>\n",
              "    </tr>\n",
              "    <tr>\n",
              "      <th>15</th>\n",
              "      <td>6.0</td>\n",
              "      <td>22.13</td>\n",
              "      <td>0.0</td>\n",
              "      <td>2710.09</td>\n",
              "      <td>0</td>\n",
              "      <td>0</td>\n",
              "    </tr>\n",
              "    <tr>\n",
              "      <th>16</th>\n",
              "      <td>2.0</td>\n",
              "      <td>18.73</td>\n",
              "      <td>0.0</td>\n",
              "      <td>588.89</td>\n",
              "      <td>0</td>\n",
              "      <td>0</td>\n",
              "    </tr>\n",
              "    <tr>\n",
              "      <th>17</th>\n",
              "      <td>26.0</td>\n",
              "      <td>163.62</td>\n",
              "      <td>4.0</td>\n",
              "      <td>16870.34</td>\n",
              "      <td>0</td>\n",
              "      <td>0</td>\n",
              "    </tr>\n",
              "    <tr>\n",
              "      <th>18</th>\n",
              "      <td>79.0</td>\n",
              "      <td>532.62</td>\n",
              "      <td>90.0</td>\n",
              "      <td>19908.31</td>\n",
              "      <td>0</td>\n",
              "      <td>0</td>\n",
              "    </tr>\n",
              "    <tr>\n",
              "      <th>19</th>\n",
              "      <td>49.0</td>\n",
              "      <td>341.67</td>\n",
              "      <td>81.0</td>\n",
              "      <td>11770.28</td>\n",
              "      <td>1</td>\n",
              "      <td>0</td>\n",
              "    </tr>\n",
              "  </tbody>\n",
              "</table>\n",
              "</div>"
            ],
            "text/plain": [
              "    calls  minutes  messages   mb_used  is_ultra  is_ultra_predict\n",
              "0    40.0   311.90      83.0  19915.42         0                 0\n",
              "1    85.0   516.75      56.0  22696.96         0                 0\n",
              "2    77.0   467.66      86.0  21060.45         0                 0\n",
              "3   106.0   745.53      81.0   8437.39         1                 0\n",
              "4    66.0   418.74       1.0  14502.75         0                 0\n",
              "5    58.0   344.56      21.0  15823.37         0                 0\n",
              "6    57.0   431.64      20.0   3738.90         1                 0\n",
              "7    15.0   132.40       6.0  21911.60         0                 0\n",
              "8     7.0    43.39       3.0   2538.67         1                 0\n",
              "9    90.0   665.41      38.0  17358.61         0                 0\n",
              "10   82.0   560.51      20.0   9619.53         1                 0\n",
              "11   45.0   344.32      13.0  19898.81         0                 0\n",
              "12   51.0   437.13      61.0  21523.58         0                 0\n",
              "13   56.0   433.07      16.0  16702.36         0                 0\n",
              "14  108.0   587.90       0.0  14406.50         1                 0\n",
              "15    6.0    22.13       0.0   2710.09         0                 0\n",
              "16    2.0    18.73       0.0    588.89         0                 0\n",
              "17   26.0   163.62       4.0  16870.34         0                 0\n",
              "18   79.0   532.62      90.0  19908.31         0                 0\n",
              "19   49.0   341.67      81.0  11770.28         1                 0"
            ]
          },
          "execution_count": 19,
          "metadata": {},
          "output_type": "execute_result"
        }
      ],
      "source": [
        "df.head(20)"
      ]
    },
    {
      "cell_type": "markdown",
      "metadata": {
        "id": "bGq2KEEoIYR8"
      },
      "source": [
        "При просмотре части данных датасета видно, что модель не предстказывает тариф \"Ультра\" для тарифов \"Смарт\" (там где is_ultra равно 0, модель также предсказывает 0). Но для часть пользователей с тарифом \"Ультра\" модель предсказывает тариф \"Смарт\". Таким образом, наблюдается односторонняя ошибка модели, объяснимая, на мой взгляд, как объемом данных самого датасета, так и итоговой точностью выбранной модели.\n",
        "\n",
        "**Вывод по разделу:**\n",
        "\n",
        "Выбранная модель подтверждает свою адекватность при дальшейшем ее исследовании."
      ]
    },
    {
      "cell_type": "markdown",
      "metadata": {
        "id": "UvN-khUfIYR8"
      },
      "source": [
        "**ОБЩИЙ ВЫВОД:**\n",
        "На датасете поведения пользователей, выбравших актуальные тарифы компании \"Мегалайн\" в объеме 3 214 строк была создана модель рекомендации тарифов, в основе которой лежит модель **Случайный лес**. Данная модель показала высокую точность как на валидационной (80.9%), так и на тестовой (**78.4%**) выборках, а также прошла проверку на адекватность.\n",
        "В связи с тем, что минимальная точность модели была определена заказчиком в 75%, данная модель может быть использована компанией \"Мегалайн\" для рекомендации актуальных тарифов для пользователей."
      ]
    }
  ],
  "metadata": {
    "ExecuteTimeLog": [
      {
        "duration": 1486,
        "start_time": "2023-03-31T18:56:20.654Z"
      },
      {
        "duration": 73,
        "start_time": "2023-03-31T18:57:26.590Z"
      },
      {
        "duration": 56,
        "start_time": "2023-03-31T18:58:48.460Z"
      },
      {
        "duration": 12,
        "start_time": "2023-03-31T18:58:55.157Z"
      },
      {
        "duration": 11,
        "start_time": "2023-03-31T18:59:07.245Z"
      },
      {
        "duration": 146,
        "start_time": "2023-03-31T19:02:03.960Z"
      },
      {
        "duration": 6,
        "start_time": "2023-03-31T19:02:13.878Z"
      },
      {
        "duration": 7,
        "start_time": "2023-03-31T19:02:31.135Z"
      },
      {
        "duration": 14,
        "start_time": "2023-03-31T19:04:56.650Z"
      },
      {
        "duration": 19,
        "start_time": "2023-03-31T19:05:05.882Z"
      },
      {
        "duration": 74,
        "start_time": "2023-03-31T19:05:17.452Z"
      },
      {
        "duration": 19133,
        "start_time": "2023-03-31T19:07:50.500Z"
      },
      {
        "duration": 42039,
        "start_time": "2023-03-31T19:08:35.452Z"
      },
      {
        "duration": 80841,
        "start_time": "2023-03-31T19:09:38.549Z"
      },
      {
        "duration": 82597,
        "start_time": "2023-03-31T19:11:21.438Z"
      },
      {
        "duration": 11,
        "start_time": "2023-03-31T19:17:12.882Z"
      },
      {
        "duration": 17,
        "start_time": "2023-03-31T19:28:53.756Z"
      },
      {
        "duration": 1641,
        "start_time": "2023-03-31T19:29:41.287Z"
      },
      {
        "duration": 15,
        "start_time": "2023-03-31T19:29:42.931Z"
      },
      {
        "duration": 14,
        "start_time": "2023-03-31T19:29:42.949Z"
      },
      {
        "duration": 182,
        "start_time": "2023-03-31T19:29:42.967Z"
      },
      {
        "duration": 0,
        "start_time": "2023-03-31T19:29:43.151Z"
      },
      {
        "duration": 0,
        "start_time": "2023-03-31T19:29:43.153Z"
      },
      {
        "duration": 0,
        "start_time": "2023-03-31T19:29:43.154Z"
      },
      {
        "duration": 13,
        "start_time": "2023-03-31T19:33:41.482Z"
      },
      {
        "duration": 7,
        "start_time": "2023-03-31T19:38:26.221Z"
      },
      {
        "duration": 8,
        "start_time": "2023-03-31T19:41:30.050Z"
      },
      {
        "duration": 7,
        "start_time": "2023-03-31T19:41:32.602Z"
      },
      {
        "duration": 67,
        "start_time": "2023-03-31T19:41:37.221Z"
      },
      {
        "duration": 75991,
        "start_time": "2023-03-31T19:41:42.901Z"
      },
      {
        "duration": 12,
        "start_time": "2023-03-31T19:43:17.235Z"
      },
      {
        "duration": 175,
        "start_time": "2023-03-31T19:46:35.301Z"
      },
      {
        "duration": 160,
        "start_time": "2023-03-31T19:47:10.581Z"
      },
      {
        "duration": 9,
        "start_time": "2023-03-31T19:48:39.078Z"
      },
      {
        "duration": 1245,
        "start_time": "2023-03-31T19:49:23.564Z"
      },
      {
        "duration": 11,
        "start_time": "2023-03-31T19:49:24.815Z"
      },
      {
        "duration": 10,
        "start_time": "2023-03-31T19:49:24.827Z"
      },
      {
        "duration": 8,
        "start_time": "2023-03-31T19:49:24.840Z"
      },
      {
        "duration": 4,
        "start_time": "2023-03-31T19:49:24.850Z"
      },
      {
        "duration": 86,
        "start_time": "2023-03-31T19:49:24.855Z"
      },
      {
        "duration": 70680,
        "start_time": "2023-03-31T19:49:24.943Z"
      },
      {
        "duration": 11,
        "start_time": "2023-03-31T19:50:35.625Z"
      },
      {
        "duration": 138,
        "start_time": "2023-03-31T19:50:35.638Z"
      },
      {
        "duration": 127,
        "start_time": "2023-03-31T19:50:35.778Z"
      },
      {
        "duration": 143,
        "start_time": "2023-03-31T19:51:43.417Z"
      },
      {
        "duration": 171,
        "start_time": "2023-03-31T19:53:10.898Z"
      },
      {
        "duration": 1146,
        "start_time": "2023-04-03T18:58:40.886Z"
      },
      {
        "duration": 61,
        "start_time": "2023-04-03T18:58:45.764Z"
      },
      {
        "duration": 38,
        "start_time": "2023-04-03T18:58:47.924Z"
      },
      {
        "duration": 11,
        "start_time": "2023-04-03T18:59:05.348Z"
      },
      {
        "duration": 10,
        "start_time": "2023-04-03T18:59:09.252Z"
      },
      {
        "duration": 7,
        "start_time": "2023-04-03T18:59:14.308Z"
      },
      {
        "duration": 7,
        "start_time": "2023-04-03T19:00:42.477Z"
      },
      {
        "duration": 5,
        "start_time": "2023-04-03T19:00:44.693Z"
      },
      {
        "duration": 73,
        "start_time": "2023-04-03T19:00:49.278Z"
      },
      {
        "duration": 69853,
        "start_time": "2023-04-03T19:00:55.661Z"
      },
      {
        "duration": 124129,
        "start_time": "2023-04-03T19:02:41.846Z"
      },
      {
        "duration": 8200,
        "start_time": "2023-04-03T19:05:11.527Z"
      },
      {
        "duration": 5428,
        "start_time": "2023-04-03T19:05:46.136Z"
      },
      {
        "duration": 9,
        "start_time": "2023-04-03T19:06:02.231Z"
      },
      {
        "duration": 131,
        "start_time": "2023-04-03T19:11:05.675Z"
      },
      {
        "duration": 104,
        "start_time": "2023-04-03T19:12:51.255Z"
      },
      {
        "duration": 133,
        "start_time": "2023-04-03T19:19:19.576Z"
      },
      {
        "duration": 11,
        "start_time": "2023-04-03T19:19:26.753Z"
      },
      {
        "duration": 12,
        "start_time": "2023-04-03T19:21:31.635Z"
      },
      {
        "duration": 3,
        "start_time": "2023-04-03T19:21:44.664Z"
      },
      {
        "duration": 22,
        "start_time": "2023-04-03T19:21:51.697Z"
      },
      {
        "duration": 124,
        "start_time": "2023-04-03T19:22:03.537Z"
      },
      {
        "duration": 13,
        "start_time": "2023-04-03T19:22:10.180Z"
      },
      {
        "duration": 13,
        "start_time": "2023-04-03T19:23:12.697Z"
      },
      {
        "duration": 11,
        "start_time": "2023-04-03T19:23:36.954Z"
      },
      {
        "duration": 14,
        "start_time": "2023-04-03T19:23:48.490Z"
      },
      {
        "duration": 97,
        "start_time": "2023-04-03T19:25:27.202Z"
      },
      {
        "duration": 99,
        "start_time": "2023-04-03T19:28:35.964Z"
      },
      {
        "duration": 79,
        "start_time": "2023-04-03T19:39:40.341Z"
      },
      {
        "duration": 65,
        "start_time": "2023-04-03T19:39:50.164Z"
      },
      {
        "duration": 1307,
        "start_time": "2023-04-03T19:40:12.820Z"
      },
      {
        "duration": 25,
        "start_time": "2023-04-03T19:40:14.129Z"
      },
      {
        "duration": 37,
        "start_time": "2023-04-03T19:40:14.156Z"
      },
      {
        "duration": 10,
        "start_time": "2023-04-03T19:40:14.195Z"
      },
      {
        "duration": 14,
        "start_time": "2023-04-03T19:40:14.207Z"
      },
      {
        "duration": 7,
        "start_time": "2023-04-03T19:40:14.223Z"
      },
      {
        "duration": 5,
        "start_time": "2023-04-03T19:40:14.232Z"
      },
      {
        "duration": 104,
        "start_time": "2023-04-03T19:40:14.239Z"
      },
      {
        "duration": 5727,
        "start_time": "2023-04-03T19:40:14.345Z"
      },
      {
        "duration": 22,
        "start_time": "2023-04-03T19:40:20.075Z"
      },
      {
        "duration": 155,
        "start_time": "2023-04-03T19:40:20.099Z"
      },
      {
        "duration": 117,
        "start_time": "2023-04-03T19:40:20.256Z"
      },
      {
        "duration": 13,
        "start_time": "2023-04-03T19:44:20.307Z"
      },
      {
        "duration": 15,
        "start_time": "2023-04-03T19:48:10.657Z"
      },
      {
        "duration": 8,
        "start_time": "2023-04-03T19:48:32.769Z"
      },
      {
        "duration": 17,
        "start_time": "2023-04-03T19:50:52.058Z"
      },
      {
        "duration": 14,
        "start_time": "2023-04-03T19:51:18.162Z"
      },
      {
        "duration": 8,
        "start_time": "2023-04-03T19:51:45.483Z"
      },
      {
        "duration": 10,
        "start_time": "2023-04-03T19:52:45.516Z"
      },
      {
        "duration": 11,
        "start_time": "2023-04-03T19:52:56.763Z"
      },
      {
        "duration": 5,
        "start_time": "2023-04-03T19:53:36.189Z"
      },
      {
        "duration": 12,
        "start_time": "2023-04-03T19:53:46.669Z"
      },
      {
        "duration": 8,
        "start_time": "2023-04-03T19:54:53.837Z"
      },
      {
        "duration": 6,
        "start_time": "2023-04-03T19:55:06.956Z"
      },
      {
        "duration": 10,
        "start_time": "2023-04-03T19:57:30.190Z"
      },
      {
        "duration": 3,
        "start_time": "2023-04-03T19:57:50.400Z"
      },
      {
        "duration": 1259,
        "start_time": "2023-04-03T20:06:48.921Z"
      },
      {
        "duration": 26,
        "start_time": "2023-04-03T20:06:50.182Z"
      },
      {
        "duration": 38,
        "start_time": "2023-04-03T20:06:50.210Z"
      },
      {
        "duration": 11,
        "start_time": "2023-04-03T20:06:50.250Z"
      },
      {
        "duration": 11,
        "start_time": "2023-04-03T20:06:50.263Z"
      },
      {
        "duration": 17,
        "start_time": "2023-04-03T20:06:50.276Z"
      },
      {
        "duration": 8,
        "start_time": "2023-04-03T20:06:50.295Z"
      },
      {
        "duration": 73,
        "start_time": "2023-04-03T20:06:50.305Z"
      },
      {
        "duration": 4600,
        "start_time": "2023-04-03T20:06:50.390Z"
      },
      {
        "duration": 13,
        "start_time": "2023-04-03T20:06:54.993Z"
      },
      {
        "duration": 113,
        "start_time": "2023-04-03T20:06:55.007Z"
      },
      {
        "duration": 11,
        "start_time": "2023-04-03T20:06:55.122Z"
      },
      {
        "duration": 11,
        "start_time": "2023-04-03T20:06:55.135Z"
      },
      {
        "duration": 5,
        "start_time": "2023-04-03T20:06:55.147Z"
      },
      {
        "duration": 41,
        "start_time": "2023-04-03T20:06:55.153Z"
      },
      {
        "duration": 6,
        "start_time": "2023-04-03T20:06:55.196Z"
      },
      {
        "duration": 39,
        "start_time": "2023-04-03T20:08:13.173Z"
      },
      {
        "duration": 9,
        "start_time": "2023-04-03T20:08:18.302Z"
      },
      {
        "duration": 116,
        "start_time": "2023-04-03T20:08:29.660Z"
      },
      {
        "duration": 14,
        "start_time": "2023-04-03T20:08:42.012Z"
      },
      {
        "duration": 43,
        "start_time": "2023-04-03T20:09:31.525Z"
      },
      {
        "duration": 11,
        "start_time": "2023-04-03T20:09:36.230Z"
      },
      {
        "duration": 132,
        "start_time": "2023-04-03T20:09:47.870Z"
      },
      {
        "duration": 4570,
        "start_time": "2023-04-03T20:10:02.768Z"
      },
      {
        "duration": 64,
        "start_time": "2023-04-03T20:10:27.719Z"
      },
      {
        "duration": 9,
        "start_time": "2023-04-03T20:10:35.614Z"
      },
      {
        "duration": 17,
        "start_time": "2023-04-03T20:10:58.695Z"
      },
      {
        "duration": 7,
        "start_time": "2023-04-03T20:11:02.355Z"
      },
      {
        "duration": 13,
        "start_time": "2023-04-03T20:11:16.470Z"
      },
      {
        "duration": 8,
        "start_time": "2023-04-03T20:11:37.215Z"
      },
      {
        "duration": 42,
        "start_time": "2023-04-03T20:14:02.768Z"
      },
      {
        "duration": 6,
        "start_time": "2023-04-03T20:15:18.889Z"
      },
      {
        "duration": 5,
        "start_time": "2023-04-03T20:15:32.154Z"
      },
      {
        "duration": 1127,
        "start_time": "2023-04-03T20:16:49.243Z"
      },
      {
        "duration": 26,
        "start_time": "2023-04-03T20:16:50.372Z"
      },
      {
        "duration": 39,
        "start_time": "2023-04-03T20:16:50.399Z"
      },
      {
        "duration": 11,
        "start_time": "2023-04-03T20:16:50.440Z"
      },
      {
        "duration": 36,
        "start_time": "2023-04-03T20:16:50.453Z"
      },
      {
        "duration": 7,
        "start_time": "2023-04-03T20:16:50.492Z"
      },
      {
        "duration": 6,
        "start_time": "2023-04-03T20:16:50.501Z"
      },
      {
        "duration": 99,
        "start_time": "2023-04-03T20:16:50.509Z"
      },
      {
        "duration": 4545,
        "start_time": "2023-04-03T20:16:50.610Z"
      },
      {
        "duration": 17,
        "start_time": "2023-04-03T20:16:55.157Z"
      },
      {
        "duration": 61,
        "start_time": "2023-04-03T20:16:55.175Z"
      },
      {
        "duration": 4,
        "start_time": "2023-04-03T20:16:55.238Z"
      },
      {
        "duration": 14,
        "start_time": "2023-04-03T20:16:55.244Z"
      },
      {
        "duration": 4,
        "start_time": "2023-04-03T20:16:55.259Z"
      },
      {
        "duration": 14,
        "start_time": "2023-04-03T20:16:55.288Z"
      },
      {
        "duration": 4,
        "start_time": "2023-04-03T20:16:55.304Z"
      },
      {
        "duration": 1100,
        "start_time": "2023-04-03T20:20:08.824Z"
      },
      {
        "duration": 25,
        "start_time": "2023-04-03T20:20:09.926Z"
      },
      {
        "duration": 37,
        "start_time": "2023-04-03T20:20:09.953Z"
      },
      {
        "duration": 10,
        "start_time": "2023-04-03T20:20:09.992Z"
      },
      {
        "duration": 25,
        "start_time": "2023-04-03T20:20:10.004Z"
      },
      {
        "duration": 14,
        "start_time": "2023-04-03T20:20:10.031Z"
      },
      {
        "duration": 20,
        "start_time": "2023-04-03T20:20:10.047Z"
      },
      {
        "duration": 138,
        "start_time": "2023-04-03T20:20:10.069Z"
      },
      {
        "duration": 0,
        "start_time": "2023-04-03T20:20:10.209Z"
      },
      {
        "duration": 0,
        "start_time": "2023-04-03T20:20:10.210Z"
      },
      {
        "duration": 0,
        "start_time": "2023-04-03T20:20:10.211Z"
      },
      {
        "duration": 0,
        "start_time": "2023-04-03T20:20:10.212Z"
      },
      {
        "duration": 0,
        "start_time": "2023-04-03T20:20:10.213Z"
      },
      {
        "duration": 0,
        "start_time": "2023-04-03T20:20:10.214Z"
      },
      {
        "duration": 0,
        "start_time": "2023-04-03T20:20:10.215Z"
      },
      {
        "duration": 0,
        "start_time": "2023-04-03T20:20:10.216Z"
      },
      {
        "duration": 78,
        "start_time": "2023-04-03T20:21:02.533Z"
      },
      {
        "duration": 44,
        "start_time": "2023-04-03T20:21:30.238Z"
      },
      {
        "duration": 4727,
        "start_time": "2023-04-03T20:21:41.062Z"
      },
      {
        "duration": 14,
        "start_time": "2023-04-03T20:22:13.046Z"
      },
      {
        "duration": 25,
        "start_time": "2023-04-03T20:22:34.101Z"
      },
      {
        "duration": 4,
        "start_time": "2023-04-03T20:22:36.270Z"
      },
      {
        "duration": 12,
        "start_time": "2023-04-03T20:22:49.670Z"
      },
      {
        "duration": 5,
        "start_time": "2023-04-03T20:22:51.510Z"
      },
      {
        "duration": 8,
        "start_time": "2023-04-03T20:23:06.726Z"
      },
      {
        "duration": 5,
        "start_time": "2023-04-03T20:23:08.981Z"
      },
      {
        "duration": 5,
        "start_time": "2023-04-03T20:23:35.147Z"
      },
      {
        "duration": 16,
        "start_time": "2023-04-03T20:23:40.176Z"
      },
      {
        "duration": 5,
        "start_time": "2023-04-03T20:23:42.070Z"
      },
      {
        "duration": 69,
        "start_time": "2023-04-03T20:25:35.440Z"
      },
      {
        "duration": 4823,
        "start_time": "2023-04-03T20:25:58.138Z"
      },
      {
        "duration": 52,
        "start_time": "2023-04-03T20:26:36.737Z"
      },
      {
        "duration": 5,
        "start_time": "2023-04-03T20:26:39.457Z"
      },
      {
        "duration": 12,
        "start_time": "2023-04-03T20:26:54.745Z"
      },
      {
        "duration": 4,
        "start_time": "2023-04-03T20:26:56.393Z"
      },
      {
        "duration": 12,
        "start_time": "2023-04-03T20:27:04.786Z"
      },
      {
        "duration": 7,
        "start_time": "2023-04-03T20:27:06.689Z"
      },
      {
        "duration": 14,
        "start_time": "2023-04-03T20:48:11.735Z"
      },
      {
        "duration": 14,
        "start_time": "2023-04-03T20:48:58.864Z"
      },
      {
        "duration": 8,
        "start_time": "2023-04-03T20:49:27.634Z"
      },
      {
        "duration": 42,
        "start_time": "2023-04-03T20:53:17.162Z"
      },
      {
        "duration": 60,
        "start_time": "2023-04-03T20:54:15.307Z"
      },
      {
        "duration": 44,
        "start_time": "2023-04-03T20:54:26.300Z"
      },
      {
        "duration": 6,
        "start_time": "2023-04-03T20:55:11.237Z"
      },
      {
        "duration": 14,
        "start_time": "2023-04-03T20:57:28.044Z"
      },
      {
        "duration": 21,
        "start_time": "2023-04-03T21:05:02.392Z"
      },
      {
        "duration": 17,
        "start_time": "2023-04-03T21:05:21.582Z"
      },
      {
        "duration": 51,
        "start_time": "2023-04-04T12:48:59.039Z"
      },
      {
        "duration": 1266,
        "start_time": "2023-04-04T12:52:17.595Z"
      },
      {
        "duration": 143,
        "start_time": "2023-04-04T12:52:18.866Z"
      },
      {
        "duration": 53,
        "start_time": "2023-04-04T12:52:19.011Z"
      },
      {
        "duration": 20,
        "start_time": "2023-04-04T12:52:19.066Z"
      },
      {
        "duration": 65,
        "start_time": "2023-04-04T12:52:19.088Z"
      },
      {
        "duration": 40,
        "start_time": "2023-04-04T12:52:19.155Z"
      },
      {
        "duration": 59,
        "start_time": "2023-04-04T12:52:19.196Z"
      },
      {
        "duration": 107,
        "start_time": "2023-04-04T12:52:19.257Z"
      },
      {
        "duration": 5620,
        "start_time": "2023-04-04T12:52:19.367Z"
      },
      {
        "duration": 13,
        "start_time": "2023-04-04T12:52:24.989Z"
      },
      {
        "duration": 73,
        "start_time": "2023-04-04T12:52:25.004Z"
      },
      {
        "duration": 13,
        "start_time": "2023-04-04T12:52:25.079Z"
      },
      {
        "duration": 12,
        "start_time": "2023-04-04T12:52:25.094Z"
      },
      {
        "duration": 17,
        "start_time": "2023-04-04T12:52:25.107Z"
      },
      {
        "duration": 71,
        "start_time": "2023-04-04T12:52:25.126Z"
      },
      {
        "duration": 7,
        "start_time": "2023-04-04T12:52:25.199Z"
      },
      {
        "duration": 49,
        "start_time": "2023-04-04T12:52:25.208Z"
      },
      {
        "duration": 14,
        "start_time": "2023-04-04T13:48:28.164Z"
      },
      {
        "duration": 20,
        "start_time": "2023-04-04T13:54:07.549Z"
      },
      {
        "duration": 1186,
        "start_time": "2023-04-04T14:01:27.430Z"
      },
      {
        "duration": 43,
        "start_time": "2023-04-04T14:01:28.618Z"
      },
      {
        "duration": 40,
        "start_time": "2023-04-04T14:01:28.663Z"
      },
      {
        "duration": 9,
        "start_time": "2023-04-04T14:01:28.705Z"
      },
      {
        "duration": 29,
        "start_time": "2023-04-04T14:01:28.716Z"
      },
      {
        "duration": 27,
        "start_time": "2023-04-04T14:01:28.747Z"
      },
      {
        "duration": 21,
        "start_time": "2023-04-04T14:01:28.776Z"
      },
      {
        "duration": 80,
        "start_time": "2023-04-04T14:01:28.799Z"
      },
      {
        "duration": 5016,
        "start_time": "2023-04-04T14:01:28.881Z"
      },
      {
        "duration": 12,
        "start_time": "2023-04-04T14:01:33.899Z"
      },
      {
        "duration": 70,
        "start_time": "2023-04-04T14:01:33.918Z"
      },
      {
        "duration": 15,
        "start_time": "2023-04-04T14:01:33.990Z"
      },
      {
        "duration": 39,
        "start_time": "2023-04-04T14:01:34.006Z"
      },
      {
        "duration": 49,
        "start_time": "2023-04-04T14:01:34.047Z"
      },
      {
        "duration": 101,
        "start_time": "2023-04-04T14:01:34.098Z"
      },
      {
        "duration": 6,
        "start_time": "2023-04-04T14:01:34.202Z"
      },
      {
        "duration": 75,
        "start_time": "2023-04-04T14:01:34.210Z"
      },
      {
        "duration": 77,
        "start_time": "2023-04-04T14:28:42.684Z"
      },
      {
        "duration": 1039,
        "start_time": "2023-04-04T18:01:08.189Z"
      },
      {
        "duration": 136,
        "start_time": "2023-04-04T18:01:09.230Z"
      },
      {
        "duration": 41,
        "start_time": "2023-04-04T18:01:09.368Z"
      },
      {
        "duration": 9,
        "start_time": "2023-04-04T18:01:09.411Z"
      },
      {
        "duration": 28,
        "start_time": "2023-04-04T18:01:09.423Z"
      },
      {
        "duration": 20,
        "start_time": "2023-04-04T18:01:09.452Z"
      },
      {
        "duration": 18,
        "start_time": "2023-04-04T18:01:09.473Z"
      },
      {
        "duration": 10,
        "start_time": "2023-04-04T18:01:09.493Z"
      },
      {
        "duration": 86,
        "start_time": "2023-04-04T18:01:09.504Z"
      },
      {
        "duration": 4394,
        "start_time": "2023-04-04T18:01:09.592Z"
      },
      {
        "duration": 12,
        "start_time": "2023-04-04T18:01:13.987Z"
      },
      {
        "duration": 42,
        "start_time": "2023-04-04T18:01:14.001Z"
      },
      {
        "duration": 33,
        "start_time": "2023-04-04T18:01:14.044Z"
      },
      {
        "duration": 17,
        "start_time": "2023-04-04T18:01:14.085Z"
      },
      {
        "duration": 13,
        "start_time": "2023-04-04T18:01:14.104Z"
      },
      {
        "duration": 81,
        "start_time": "2023-04-04T18:01:14.119Z"
      },
      {
        "duration": 7,
        "start_time": "2023-04-04T18:01:14.203Z"
      },
      {
        "duration": 35,
        "start_time": "2023-04-04T18:01:14.212Z"
      },
      {
        "duration": 68,
        "start_time": "2023-04-04T18:10:25.926Z"
      },
      {
        "duration": 100,
        "start_time": "2023-04-04T18:10:29.237Z"
      },
      {
        "duration": 60,
        "start_time": "2023-04-04T18:11:59.110Z"
      },
      {
        "duration": 57,
        "start_time": "2023-04-04T18:12:16.230Z"
      },
      {
        "duration": 149,
        "start_time": "2023-04-04T18:20:41.052Z"
      },
      {
        "duration": 3,
        "start_time": "2023-04-04T18:21:07.228Z"
      },
      {
        "duration": 4,
        "start_time": "2023-04-04T18:21:43.140Z"
      },
      {
        "duration": 13,
        "start_time": "2023-04-04T18:22:34.523Z"
      },
      {
        "duration": 3,
        "start_time": "2023-04-04T18:23:43.621Z"
      },
      {
        "duration": 9,
        "start_time": "2023-04-04T18:25:06.389Z"
      },
      {
        "duration": 12,
        "start_time": "2023-04-04T18:25:12.736Z"
      },
      {
        "duration": 5,
        "start_time": "2023-04-04T18:25:18.021Z"
      },
      {
        "duration": 4,
        "start_time": "2023-04-04T18:25:50.606Z"
      },
      {
        "duration": 85,
        "start_time": "2023-04-04T18:32:53.802Z"
      },
      {
        "duration": 1100,
        "start_time": "2023-04-04T18:35:54.498Z"
      },
      {
        "duration": 33,
        "start_time": "2023-04-04T18:35:55.600Z"
      },
      {
        "duration": 35,
        "start_time": "2023-04-04T18:35:55.636Z"
      },
      {
        "duration": 15,
        "start_time": "2023-04-04T18:35:55.679Z"
      },
      {
        "duration": 29,
        "start_time": "2023-04-04T18:35:55.695Z"
      },
      {
        "duration": 18,
        "start_time": "2023-04-04T18:35:55.730Z"
      },
      {
        "duration": 5,
        "start_time": "2023-04-04T18:35:55.750Z"
      },
      {
        "duration": 7,
        "start_time": "2023-04-04T18:35:55.757Z"
      },
      {
        "duration": 35,
        "start_time": "2023-04-04T18:35:55.766Z"
      },
      {
        "duration": 72,
        "start_time": "2023-04-04T18:35:55.805Z"
      },
      {
        "duration": 3683,
        "start_time": "2023-04-04T18:35:55.886Z"
      },
      {
        "duration": 13,
        "start_time": "2023-04-04T18:35:59.572Z"
      },
      {
        "duration": 47,
        "start_time": "2023-04-04T18:35:59.587Z"
      },
      {
        "duration": 18,
        "start_time": "2023-04-04T18:35:59.636Z"
      },
      {
        "duration": 22,
        "start_time": "2023-04-04T18:35:59.655Z"
      },
      {
        "duration": 7,
        "start_time": "2023-04-04T18:35:59.690Z"
      },
      {
        "duration": 39,
        "start_time": "2023-04-04T18:35:59.698Z"
      },
      {
        "duration": 7,
        "start_time": "2023-04-04T18:35:59.739Z"
      },
      {
        "duration": 22,
        "start_time": "2023-04-04T18:35:59.748Z"
      },
      {
        "duration": 29,
        "start_time": "2023-04-04T18:38:08.808Z"
      },
      {
        "duration": 69,
        "start_time": "2023-04-04T18:39:24.554Z"
      },
      {
        "duration": 3419,
        "start_time": "2023-04-04T18:39:30.827Z"
      },
      {
        "duration": 16,
        "start_time": "2023-04-04T18:39:41.290Z"
      },
      {
        "duration": 46,
        "start_time": "2023-04-04T18:40:05.939Z"
      },
      {
        "duration": 1169,
        "start_time": "2023-04-04T18:42:12.367Z"
      },
      {
        "duration": 29,
        "start_time": "2023-04-04T18:42:13.538Z"
      },
      {
        "duration": 78,
        "start_time": "2023-04-04T18:42:13.568Z"
      },
      {
        "duration": 8,
        "start_time": "2023-04-04T18:42:13.648Z"
      },
      {
        "duration": 37,
        "start_time": "2023-04-04T18:42:13.658Z"
      },
      {
        "duration": 19,
        "start_time": "2023-04-04T18:42:13.697Z"
      },
      {
        "duration": 3,
        "start_time": "2023-04-04T18:42:13.718Z"
      },
      {
        "duration": 8,
        "start_time": "2023-04-04T18:42:13.722Z"
      },
      {
        "duration": 6,
        "start_time": "2023-04-04T18:42:13.732Z"
      },
      {
        "duration": 79,
        "start_time": "2023-04-04T18:42:13.740Z"
      },
      {
        "duration": 3602,
        "start_time": "2023-04-04T18:42:13.821Z"
      },
      {
        "duration": 9,
        "start_time": "2023-04-04T18:42:17.425Z"
      },
      {
        "duration": 51,
        "start_time": "2023-04-04T18:42:17.435Z"
      },
      {
        "duration": 13,
        "start_time": "2023-04-04T18:42:17.487Z"
      },
      {
        "duration": 16,
        "start_time": "2023-04-04T18:42:17.501Z"
      },
      {
        "duration": 21,
        "start_time": "2023-04-04T18:42:17.518Z"
      },
      {
        "duration": 80,
        "start_time": "2023-04-04T18:42:17.541Z"
      },
      {
        "duration": 5,
        "start_time": "2023-04-04T18:42:17.624Z"
      },
      {
        "duration": 34,
        "start_time": "2023-04-04T18:42:17.630Z"
      },
      {
        "duration": 1147,
        "start_time": "2023-04-04T18:45:09.256Z"
      },
      {
        "duration": 29,
        "start_time": "2023-04-04T18:45:10.405Z"
      },
      {
        "duration": 34,
        "start_time": "2023-04-04T18:45:10.436Z"
      },
      {
        "duration": 26,
        "start_time": "2023-04-04T18:45:10.472Z"
      },
      {
        "duration": 19,
        "start_time": "2023-04-04T18:45:10.500Z"
      },
      {
        "duration": 12,
        "start_time": "2023-04-04T18:45:10.520Z"
      },
      {
        "duration": 5,
        "start_time": "2023-04-04T18:45:10.534Z"
      },
      {
        "duration": 13,
        "start_time": "2023-04-04T18:45:10.541Z"
      },
      {
        "duration": 6,
        "start_time": "2023-04-04T18:45:10.555Z"
      },
      {
        "duration": 74,
        "start_time": "2023-04-04T18:45:10.563Z"
      },
      {
        "duration": 3601,
        "start_time": "2023-04-04T18:45:10.638Z"
      },
      {
        "duration": 9,
        "start_time": "2023-04-04T18:45:14.240Z"
      },
      {
        "duration": 47,
        "start_time": "2023-04-04T18:45:14.250Z"
      },
      {
        "duration": 11,
        "start_time": "2023-04-04T18:45:14.299Z"
      },
      {
        "duration": 8,
        "start_time": "2023-04-04T18:45:14.311Z"
      },
      {
        "duration": 5,
        "start_time": "2023-04-04T18:45:14.320Z"
      },
      {
        "duration": 71,
        "start_time": "2023-04-04T18:45:14.326Z"
      },
      {
        "duration": 5,
        "start_time": "2023-04-04T18:45:14.399Z"
      },
      {
        "duration": 14,
        "start_time": "2023-04-04T18:45:14.405Z"
      }
    ],
    "kernelspec": {
      "display_name": "Python 3 (ipykernel)",
      "language": "python",
      "name": "python3"
    },
    "language_info": {
      "codemirror_mode": {
        "name": "ipython",
        "version": 3
      },
      "file_extension": ".py",
      "mimetype": "text/x-python",
      "name": "python",
      "nbconvert_exporter": "python",
      "pygments_lexer": "ipython3",
      "version": "3.9.5"
    },
    "toc": {
      "base_numbering": 1,
      "nav_menu": {},
      "number_sections": true,
      "sideBar": true,
      "skip_h1_title": true,
      "title_cell": "Table of Contents",
      "title_sidebar": "Contents",
      "toc_cell": false,
      "toc_position": {},
      "toc_section_display": true,
      "toc_window_display": false
    },
    "colab": {
      "provenance": []
    }
  },
  "nbformat": 4,
  "nbformat_minor": 0
}