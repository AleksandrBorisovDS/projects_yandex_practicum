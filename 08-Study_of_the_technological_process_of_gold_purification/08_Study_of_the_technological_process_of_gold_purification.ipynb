{
  "cells": [
    {
      "cell_type": "markdown",
      "metadata": {
        "toc": true,
        "id": "1TkuIsZVZXUS"
      },
      "source": [
        "<h1>Содержание<span class=\"tocSkip\"></span></h1>\n",
        "<div class=\"toc\"><ul class=\"toc-item\"><li><span><a href=\"#Постановка-задачи\" data-toc-modified-id=\"Постановка-задачи-1\"><span class=\"toc-item-num\">1&nbsp;&nbsp;</span>Постановка задачи</a></span></li><li><span><a href=\"#Обзор-и-предобработка-данных\" data-toc-modified-id=\"Обзор-и-предобработка-данных-2\"><span class=\"toc-item-num\">2&nbsp;&nbsp;</span>Обзор и предобработка данных</a></span><ul class=\"toc-item\"><li><span><a href=\"#Обзор-датасетов\" data-toc-modified-id=\"Обзор-датасетов-2.1\"><span class=\"toc-item-num\">2.1&nbsp;&nbsp;</span>Обзор датасетов</a></span></li><li><span><a href=\"#Проверка-корректности-расчета-признака-&quot;rougher.output.recovery_calc&quot;-на-обучающей-выборке\" data-toc-modified-id=\"Проверка-корректности-расчета-признака-&quot;rougher.output.recovery_calc&quot;-на-обучающей-выборке-2.2\"><span class=\"toc-item-num\">2.2&nbsp;&nbsp;</span>Проверка корректности расчета признака \"rougher.output.recovery_calc\" на обучающей выборке</a></span></li><li><span><a href=\"#Анализ-данных-различающихся-в-тестовой-и-обучающей-выборках.\" data-toc-modified-id=\"Анализ-данных-различающихся-в-тестовой-и-обучающей-выборках.-2.3\"><span class=\"toc-item-num\">2.3&nbsp;&nbsp;</span>Анализ данных различающихся в тестовой и обучающей выборках.</a></span></li></ul></li><li><span><a href=\"#Исследовательский-анализ-данных\" data-toc-modified-id=\"Исследовательский-анализ-данных-3\"><span class=\"toc-item-num\">3&nbsp;&nbsp;</span>Исследовательский анализ данных</a></span><ul class=\"toc-item\"><li><span><a href=\"#Исследование-изменений-концентрации-металов-по-этапам-обработки\" data-toc-modified-id=\"Исследование-изменений-концентрации-металов-по-этапам-обработки-3.1\"><span class=\"toc-item-num\">3.1&nbsp;&nbsp;</span>Исследование изменений концентрации металов по этапам обработки</a></span></li><li><span><a href=\"#Анализ-распределения-размеров-гранул-исходного-сырья-в-обучающей-и-тестовой-выборках\" data-toc-modified-id=\"Анализ-распределения-размеров-гранул-исходного-сырья-в-обучающей-и-тестовой-выборках-3.2\"><span class=\"toc-item-num\">3.2&nbsp;&nbsp;</span>Анализ распределения размеров гранул исходного сырья в обучающей и тестовой выборках</a></span></li><li><span><a href=\"#Исследование-суммарной-концентрации-металлов-по-этапам-обработки\" data-toc-modified-id=\"Исследование-суммарной-концентрации-металлов-по-этапам-обработки-3.3\"><span class=\"toc-item-num\">3.3&nbsp;&nbsp;</span>Исследование суммарной концентрации металлов по этапам обработки</a></span></li></ul></li><li><span><a href=\"#Построение,-обучение-модели-и-проверка-лучшей-модели-на-тестовой-выборке\" data-toc-modified-id=\"Построение,-обучение-модели-и-проверка-лучшей-модели-на-тестовой-выборке-4\"><span class=\"toc-item-num\">4&nbsp;&nbsp;</span>Построение, обучение модели и проверка лучшей модели на тестовой выборке</a></span><ul class=\"toc-item\"><li><span><a href=\"#Функция-для-расчета-метрики-качества-моделей-(sMAPE)\" data-toc-modified-id=\"Функция-для-расчета-метрики-качества-моделей-(sMAPE)-4.1\"><span class=\"toc-item-num\">4.1&nbsp;&nbsp;</span>Функция для расчета метрики качества моделей (sMAPE)</a></span></li><li><span><a href=\"#Подготовка-выборок-для-моделей\" data-toc-modified-id=\"Подготовка-выборок-для-моделей-4.2\"><span class=\"toc-item-num\">4.2&nbsp;&nbsp;</span>Подготовка выборок для моделей</a></span></li><li><span><a href=\"#Стандартизация-признаков-в-выборках\" data-toc-modified-id=\"Стандартизация-признаков-в-выборках-4.3\"><span class=\"toc-item-num\">4.3&nbsp;&nbsp;</span>Стандартизация признаков в выборках</a></span></li><li><span><a href=\"#Обучение-и-проверка-моделей,-выбор-лучшей-модели\" data-toc-modified-id=\"Обучение-и-проверка-моделей,-выбор-лучшей-модели-4.4\"><span class=\"toc-item-num\">4.4&nbsp;&nbsp;</span>Обучение и проверка моделей, выбор лучшей модели</a></span></li><li><span><a href=\"#Проверка-лучшей-модели-на-тестовой-выборке\" data-toc-modified-id=\"Проверка-лучшей-модели-на-тестовой-выборке-4.5\"><span class=\"toc-item-num\">4.5&nbsp;&nbsp;</span>Проверка лучшей модели на тестовой выборке</a></span></li><li><span><a href=\"#Проверка-модели-на-адекватность\" data-toc-modified-id=\"Проверка-модели-на-адекватность-4.6\"><span class=\"toc-item-num\">4.6&nbsp;&nbsp;</span>Проверка модели на адекватность</a></span></li></ul></li><li><span><a href=\"#Итоговый-вывод-по-проекту\" data-toc-modified-id=\"Итоговый-вывод-по-проекту-5\"><span class=\"toc-item-num\">5&nbsp;&nbsp;</span>Итоговый вывод по проекту</a></span></li></ul></div>"
      ]
    },
    {
      "cell_type": "markdown",
      "metadata": {
        "id": "gDSGChfrZXUT"
      },
      "source": [
        "# Проект\n",
        "\n",
        "# Разработка прототипа модели машинного обучения\n",
        "# по предсказанию коэффициента восстановления золота из золотосодержащей руды."
      ]
    },
    {
      "cell_type": "markdown",
      "metadata": {
        "id": "xIiZxmaVZXUU"
      },
      "source": [
        "## Постановка задачи\n",
        "\n",
        "**Описание задачи:**\n",
        "\n",
        "Заказчик - компания \"Цифра\", специализируется на разработках решений для эффективной работы промышленных предприятий.\n",
        "\n",
        "Необходимо:\n",
        "\n",
        "Разработать прототип модели машинного обучения, которая предсказывала бы коэффициент восстановления золота из золотосодержащей руды. В расчетах модель должна использовать как данные с параметрами добычи, так и очистки сырья.\n",
        "Результат работы модели будет использоваться с целью оптимизизации производства, позволяя не запускать предприятие с убыточными характеристиками.\n",
        "\n",
        "Модель решает задачу регрессии, обучение с учителем.\n",
        "\n",
        "Предсказания модели должны строиться независимо на параметрах исходного сырья и параметрах переработки.\n",
        "\n",
        "Качество моделей будет сравниваться по метрике sMAPE. Значения sMAPE, при котором модель будет считаться готовой заказчиком не определены, поэтому итоговой моделью будет выбрана та, которая будет показывать лучшее значение метрики (в сравнении).\n",
        "\n",
        "**Проект будет выполнен в 3 шага**:\n",
        "\n",
        "- обзор и предобработка данных;\n",
        "- исследовательский анализ данных;\n",
        "- построение, обучение модели и проверка лучшей модели на тестовой выборке."
      ]
    },
    {
      "cell_type": "markdown",
      "metadata": {
        "id": "-1q4fKVvZXUV"
      },
      "source": [
        "## Обзор и предобработка данных"
      ]
    },
    {
      "cell_type": "markdown",
      "metadata": {
        "id": "XhCWbPa1ZXUW"
      },
      "source": [
        "### Обзор датасетов"
      ]
    },
    {
      "cell_type": "code",
      "execution_count": null,
      "metadata": {
        "id": "8bnuCjaVZXUX"
      },
      "outputs": [],
      "source": [
        "import pandas as pd\n",
        "\n",
        "from matplotlib import pyplot as plt\n",
        "\n",
        "from sklearn.dummy import DummyRegressor\n",
        "from sklearn.ensemble import RandomForestRegressor\n",
        "from sklearn.metrics import make_scorer\n",
        "from sklearn.metrics import mean_absolute_error as mae\n",
        "from sklearn.model_selection import GridSearchCV\n",
        "from sklearn.preprocessing import StandardScaler\n",
        "from sklearn.tree import DecisionTreeRegressor\n",
        "\n",
        "import warnings"
      ]
    },
    {
      "cell_type": "code",
      "execution_count": null,
      "metadata": {
        "id": "iK93SmPvZXUZ"
      },
      "outputs": [],
      "source": [
        "df_train = pd.read_csv('/datasets/gold_industry_train.csv')\n",
        "df_test  = pd.read_csv('/datasets/gold_industry_test.csv' )\n",
        "df_full  = pd.read_csv('/datasets/gold_industry_full.csv' )"
      ]
    },
    {
      "cell_type": "markdown",
      "metadata": {
        "id": "2NEFMhc4ZXUb"
      },
      "source": [
        "Создадим функцию обзора датасетов и пременим ее к каждому датасету."
      ]
    },
    {
      "cell_type": "code",
      "execution_count": null,
      "metadata": {
        "id": "zshDB2s-ZXUb"
      },
      "outputs": [],
      "source": [
        "def df_info(df):\n",
        "        print('Информация по датафрейму', '\\n')\n",
        "        print('Общая информация:', '\\n')\n",
        "        print(df.info(), '\\n')\n",
        "        print('Число полных явных дубликатов строк ', df.duplicated().sum(), '\\n')\n",
        "        print('Обзор первых строк:', '\\n', df.head(), '\\n')\n",
        "        print('Статистические характеристики:', '\\n', df.describe(), '\\n')\n",
        "        print('Коэффициенты корреляции между столбцами:', '\\n', df.corr(), '\\n')\n",
        "        print('Количество уникальных значений в столбце с индексом:', '\\n')\n",
        "        for c in range(0,len(df.columns)):\n",
        "            data_c = df.iloc[:,c]\n",
        "            print(c,' = ', data_c.value_counts().count())\n",
        "        print()\n",
        "        print('Размер датафрейма', df.shape, '\\n')\n",
        "        print()"
      ]
    },
    {
      "cell_type": "code",
      "execution_count": null,
      "metadata": {
        "scrolled": true,
        "id": "nz5FcCzPZXUc",
        "outputId": "955edd05-1cdb-4de8-a8f7-e1418c6f0598"
      },
      "outputs": [
        {
          "name": "stdout",
          "output_type": "stream",
          "text": [
            "Информация по датафрейму \n",
            "\n",
            "Общая информация: \n",
            "\n",
            "<class 'pandas.core.frame.DataFrame'>\n",
            "RangeIndex: 14579 entries, 0 to 14578\n",
            "Data columns (total 87 columns):\n",
            " #   Column                                              Non-Null Count  Dtype  \n",
            "---  ------                                              --------------  -----  \n",
            " 0   date                                                14579 non-null  object \n",
            " 1   rougher.input.feed_au                               14579 non-null  float64\n",
            " 2   rougher.input.feed_ag                               14579 non-null  float64\n",
            " 3   rougher.input.feed_pb                               14507 non-null  float64\n",
            " 4   rougher.input.feed_sol                              14502 non-null  float64\n",
            " 5   rougher.input.feed_rate                             14572 non-null  float64\n",
            " 6   rougher.input.feed_size                             14478 non-null  float64\n",
            " 7   rougher.input.floatbank10_sulfate                   14548 non-null  float64\n",
            " 8   rougher.input.floatbank10_xanthate                  14572 non-null  float64\n",
            " 9   rougher.state.floatbank10_a_air                     14579 non-null  float64\n",
            " 10  rougher.state.floatbank10_a_level                   14579 non-null  float64\n",
            " 11  rougher.state.floatbank10_b_air                     14579 non-null  float64\n",
            " 12  rougher.state.floatbank10_b_level                   14579 non-null  float64\n",
            " 13  rougher.state.floatbank10_c_air                     14579 non-null  float64\n",
            " 14  rougher.state.floatbank10_c_level                   14579 non-null  float64\n",
            " 15  rougher.state.floatbank10_d_air                     14579 non-null  float64\n",
            " 16  rougher.state.floatbank10_d_level                   14579 non-null  float64\n",
            " 17  rougher.state.floatbank10_e_air                     14150 non-null  float64\n",
            " 18  rougher.state.floatbank10_e_level                   14579 non-null  float64\n",
            " 19  rougher.state.floatbank10_f_air                     14579 non-null  float64\n",
            " 20  rougher.state.floatbank10_f_level                   14579 non-null  float64\n",
            " 21  rougher.input.floatbank11_sulfate                   14543 non-null  float64\n",
            " 22  rougher.input.floatbank11_xanthate                  14172 non-null  float64\n",
            " 23  rougher.calculation.sulfate_to_au_concentrate       14578 non-null  float64\n",
            " 24  rougher.calculation.floatbank10_sulfate_to_au_feed  14578 non-null  float64\n",
            " 25  rougher.calculation.floatbank11_sulfate_to_au_feed  14578 non-null  float64\n",
            " 26  rougher.calculation.au_pb_ratio                     14579 non-null  float64\n",
            " 27  rougher.output.concentrate_au                       14579 non-null  float64\n",
            " 28  rougher.output.concentrate_ag                       14579 non-null  float64\n",
            " 29  rougher.output.concentrate_pb                       14579 non-null  float64\n",
            " 30  rougher.output.concentrate_sol                      14561 non-null  float64\n",
            " 31  rougher.output.recovery                             14579 non-null  float64\n",
            " 32  rougher.output.tail_au                              14579 non-null  float64\n",
            " 33  rougher.output.tail_ag                              14578 non-null  float64\n",
            " 34  rougher.output.tail_pb                              14579 non-null  float64\n",
            " 35  rougher.output.tail_sol                             14579 non-null  float64\n",
            " 36  primary_cleaner.input.sulfate                       14556 non-null  float64\n",
            " 37  primary_cleaner.input.depressant                    14551 non-null  float64\n",
            " 38  primary_cleaner.input.feed_size                     14579 non-null  float64\n",
            " 39  primary_cleaner.input.xanthate                      14518 non-null  float64\n",
            " 40  primary_cleaner.state.floatbank8_a_air              14576 non-null  float64\n",
            " 41  primary_cleaner.state.floatbank8_a_level            14579 non-null  float64\n",
            " 42  primary_cleaner.state.floatbank8_b_air              14576 non-null  float64\n",
            " 43  primary_cleaner.state.floatbank8_b_level            14579 non-null  float64\n",
            " 44  primary_cleaner.state.floatbank8_c_air              14579 non-null  float64\n",
            " 45  primary_cleaner.state.floatbank8_c_level            14579 non-null  float64\n",
            " 46  primary_cleaner.state.floatbank8_d_air              14578 non-null  float64\n",
            " 47  primary_cleaner.state.floatbank8_d_level            14579 non-null  float64\n",
            " 48  primary_cleaner.output.concentrate_au               14579 non-null  float64\n",
            " 49  primary_cleaner.output.concentrate_ag               14579 non-null  float64\n",
            " 50  primary_cleaner.output.concentrate_pb               14491 non-null  float64\n",
            " 51  primary_cleaner.output.concentrate_sol              14314 non-null  float64\n",
            " 52  primary_cleaner.output.tail_au                      14579 non-null  float64\n",
            " 53  primary_cleaner.output.tail_ag                      14575 non-null  float64\n",
            " 54  primary_cleaner.output.tail_pb                      14573 non-null  float64\n",
            " 55  primary_cleaner.output.tail_sol                     14534 non-null  float64\n",
            " 56  secondary_cleaner.state.floatbank2_a_air            14485 non-null  float64\n",
            " 57  secondary_cleaner.state.floatbank2_a_level          14579 non-null  float64\n",
            " 58  secondary_cleaner.state.floatbank2_b_air            14557 non-null  float64\n",
            " 59  secondary_cleaner.state.floatbank2_b_level          14579 non-null  float64\n",
            " 60  secondary_cleaner.state.floatbank3_a_air            14567 non-null  float64\n",
            " 61  secondary_cleaner.state.floatbank3_a_level          14579 non-null  float64\n",
            " 62  secondary_cleaner.state.floatbank3_b_air            14579 non-null  float64\n",
            " 63  secondary_cleaner.state.floatbank3_b_level          14579 non-null  float64\n",
            " 64  secondary_cleaner.state.floatbank4_a_air            14574 non-null  float64\n",
            " 65  secondary_cleaner.state.floatbank4_a_level          14579 non-null  float64\n",
            " 66  secondary_cleaner.state.floatbank4_b_air            14579 non-null  float64\n",
            " 67  secondary_cleaner.state.floatbank4_b_level          14579 non-null  float64\n",
            " 68  secondary_cleaner.state.floatbank5_a_air            14579 non-null  float64\n",
            " 69  secondary_cleaner.state.floatbank5_a_level          14579 non-null  float64\n",
            " 70  secondary_cleaner.state.floatbank5_b_air            14579 non-null  float64\n",
            " 71  secondary_cleaner.state.floatbank5_b_level          14579 non-null  float64\n",
            " 72  secondary_cleaner.state.floatbank6_a_air            14578 non-null  float64\n",
            " 73  secondary_cleaner.state.floatbank6_a_level          14579 non-null  float64\n",
            " 74  secondary_cleaner.output.tail_au                    14579 non-null  float64\n",
            " 75  secondary_cleaner.output.tail_ag                    14578 non-null  float64\n",
            " 76  secondary_cleaner.output.tail_pb                    14575 non-null  float64\n",
            " 77  secondary_cleaner.output.tail_sol                   13659 non-null  float64\n",
            " 78  final.output.concentrate_au                         14579 non-null  float64\n",
            " 79  final.output.concentrate_ag                         14578 non-null  float64\n",
            " 80  final.output.concentrate_pb                         14578 non-null  float64\n",
            " 81  final.output.concentrate_sol                        14387 non-null  float64\n",
            " 82  final.output.recovery                               14579 non-null  float64\n",
            " 83  final.output.tail_au                                14579 non-null  float64\n",
            " 84  final.output.tail_ag                                14578 non-null  float64\n",
            " 85  final.output.tail_pb                                14504 non-null  float64\n",
            " 86  final.output.tail_sol                               14574 non-null  float64\n",
            "dtypes: float64(86), object(1)\n",
            "memory usage: 9.7+ MB\n",
            "None \n",
            "\n",
            "Число полных явных дубликатов строк  0 \n",
            "\n",
            "Обзор первых строк: \n",
            "                   date  rougher.input.feed_au  rougher.input.feed_ag  \\\n",
            "0  2016-01-15 00:00:00               6.486150               6.100378   \n",
            "1  2016-01-15 01:00:00               6.478583               6.161113   \n",
            "2  2016-01-15 02:00:00               6.362222               6.116455   \n",
            "3  2016-01-15 03:00:00               6.118189               6.043309   \n",
            "4  2016-01-15 04:00:00               5.663707               6.060915   \n",
            "\n",
            "   rougher.input.feed_pb  rougher.input.feed_sol  rougher.input.feed_rate  \\\n",
            "0               2.284912               36.808594               523.546326   \n",
            "1               2.266033               35.753385               525.290581   \n",
            "2               2.159622               35.971630               530.026610   \n",
            "3               2.037807               36.862241               542.590390   \n",
            "4               1.786875               34.347666               540.531893   \n",
            "\n",
            "   rougher.input.feed_size  rougher.input.floatbank10_sulfate  \\\n",
            "0                55.486599                          11.986616   \n",
            "1                57.278666                          11.971193   \n",
            "2                57.510649                          11.920603   \n",
            "3                57.792734                          11.630094   \n",
            "4                56.047189                          10.957755   \n",
            "\n",
            "   rougher.input.floatbank10_xanthate  rougher.state.floatbank10_a_air  ...  \\\n",
            "0                            6.007990                       999.706909  ...   \n",
            "1                            6.005766                      1000.286398  ...   \n",
            "2                            6.197377                       999.719565  ...   \n",
            "3                            6.203177                       999.814770  ...   \n",
            "4                            6.198826                       999.678690  ...   \n",
            "\n",
            "   secondary_cleaner.output.tail_sol  final.output.concentrate_au  \\\n",
            "0                           8.764648                    42.192020   \n",
            "1                           9.001494                    42.701629   \n",
            "2                           8.842896                    42.657501   \n",
            "3                           9.122857                    42.689819   \n",
            "4                           8.871028                    42.774141   \n",
            "\n",
            "   final.output.concentrate_ag  final.output.concentrate_pb  \\\n",
            "0                     6.055403                     9.889648   \n",
            "1                     6.029369                     9.968944   \n",
            "2                     6.055926                    10.213995   \n",
            "3                     6.047977                     9.977019   \n",
            "4                     6.148599                    10.142511   \n",
            "\n",
            "   final.output.concentrate_sol  final.output.recovery  final.output.tail_au  \\\n",
            "0                      5.507324              70.541216              2.143149   \n",
            "1                      5.257781              69.266198              2.224930   \n",
            "2                      5.383759              68.116445              2.257889   \n",
            "3                      4.858634              68.347543              2.146849   \n",
            "4                      4.939416              66.927016              2.055292   \n",
            "\n",
            "   final.output.tail_ag  final.output.tail_pb  final.output.tail_sol  \n",
            "0             10.411962              0.895447              16.904297  \n",
            "1             10.462676              0.927452              16.634514  \n",
            "2             10.507046              0.953716              16.208849  \n",
            "3             10.422762              0.883763              16.532835  \n",
            "4             10.360302              0.792826              16.525686  \n",
            "\n",
            "[5 rows x 87 columns] \n",
            "\n",
            "Статистические характеристики: \n",
            "        rougher.input.feed_au  rougher.input.feed_ag  rougher.input.feed_pb  \\\n",
            "count           14579.000000           14579.000000           14507.000000   \n",
            "mean                8.352941               8.877460               3.604221   \n",
            "std                 1.934376               1.922536               1.056063   \n",
            "min                 0.010000               0.010000               0.010000   \n",
            "25%                 6.932996               7.341922               2.880490   \n",
            "50%                 8.225284               8.715859               3.532399   \n",
            "75%                 9.832210              10.255843               4.257282   \n",
            "max                13.731330              14.596026               7.052325   \n",
            "\n",
            "       rougher.input.feed_sol  rougher.input.feed_rate  \\\n",
            "count            14502.000000             14572.000000   \n",
            "mean                36.561420               474.332784   \n",
            "std                  5.209823               108.503552   \n",
            "min                  0.010000                 0.002986   \n",
            "25%                 34.093951               411.048483   \n",
            "50%                 37.097511               498.187968   \n",
            "75%                 39.899799               549.586552   \n",
            "max                 53.475325               717.508837   \n",
            "\n",
            "       rougher.input.feed_size  rougher.input.floatbank10_sulfate  \\\n",
            "count             14478.000000                       14548.000000   \n",
            "mean                 58.922712                          12.427399   \n",
            "std                  22.407410                           3.428939   \n",
            "min                   0.049194                           0.001083   \n",
            "25%                  47.278490                          10.002832   \n",
            "50%                  54.361187                          12.003320   \n",
            "75%                  64.464926                          14.929903   \n",
            "max                 484.967466                          36.118275   \n",
            "\n",
            "       rougher.input.floatbank10_xanthate  rougher.state.floatbank10_a_air  \\\n",
            "count                        14572.000000                     14579.000000   \n",
            "mean                             5.994854                      1104.208278   \n",
            "std                              1.152873                       162.235606   \n",
            "min                              0.000568                        -0.042069   \n",
            "25%                              5.304167                       999.644856   \n",
            "50%                              6.003053                      1000.982624   \n",
            "75%                              6.796632                      1292.663971   \n",
            "max                              9.703448                      1512.299531   \n",
            "\n",
            "       rougher.state.floatbank10_a_level  ...  \\\n",
            "count                       14579.000000  ...   \n",
            "mean                         -379.367166  ...   \n",
            "std                            94.652311  ...   \n",
            "min                          -657.949759  ...   \n",
            "25%                          -499.861797  ...   \n",
            "50%                          -300.314199  ...   \n",
            "75%                          -299.989315  ...   \n",
            "max                          -273.776101  ...   \n",
            "\n",
            "       secondary_cleaner.output.tail_sol  final.output.concentrate_au  \\\n",
            "count                       13659.000000                 14579.000000   \n",
            "mean                            7.111347                    43.979499   \n",
            "std                             3.909951                     5.471437   \n",
            "min                             0.000000                     0.000000   \n",
            "25%                             3.784897                    43.345906   \n",
            "50%                             7.629968                    44.975014   \n",
            "75%                            10.367050                    46.275153   \n",
            "max                            26.000772                    52.756638   \n",
            "\n",
            "       final.output.concentrate_ag  final.output.concentrate_pb  \\\n",
            "count                 14578.000000                 14578.000000   \n",
            "mean                      5.192145                     9.923809   \n",
            "std                       1.388014                     1.706976   \n",
            "min                       0.000000                     0.000000   \n",
            "25%                       4.283347                     9.103183   \n",
            "50%                       5.118647                    10.046455   \n",
            "75%                       5.925380                    10.981203   \n",
            "max                      16.001945                    16.705297   \n",
            "\n",
            "       final.output.concentrate_sol  final.output.recovery  \\\n",
            "count                  14387.000000           14579.000000   \n",
            "mean                       9.566676              66.759066   \n",
            "std                        2.805654              10.619709   \n",
            "min                        0.000000               0.000000   \n",
            "25%                        7.860030              63.114596   \n",
            "50%                        9.301970              67.962788   \n",
            "75%                       11.001573              72.598187   \n",
            "max                       19.423912             100.000000   \n",
            "\n",
            "       final.output.tail_au  final.output.tail_ag  final.output.tail_pb  \\\n",
            "count          14579.000000          14578.000000          14504.000000   \n",
            "mean               3.087939              9.731972              2.719985   \n",
            "std                0.915187              2.358143              0.958929   \n",
            "min                0.000000              0.000000              0.000000   \n",
            "25%                2.505287              8.088928              2.036512   \n",
            "50%                3.029238              9.818512              2.774847   \n",
            "75%                3.614098             11.169187              3.353845   \n",
            "max                8.245022             19.552149              5.804178   \n",
            "\n",
            "       final.output.tail_sol  \n",
            "count           14574.000000  \n",
            "mean               10.612745  \n",
            "std                 2.871075  \n",
            "min                 0.000000  \n",
            "25%                 9.013412  \n",
            "50%                10.670515  \n",
            "75%                12.130827  \n",
            "max                22.317730  \n",
            "\n",
            "[8 rows x 86 columns] \n",
            "\n",
            "Коэффициенты корреляции между столбцами: \n",
            "                          rougher.input.feed_au  rougher.input.feed_ag  \\\n",
            "rougher.input.feed_au                 1.000000               0.840868   \n",
            "rougher.input.feed_ag                 0.840868               1.000000   \n",
            "rougher.input.feed_pb                 0.716167               0.527306   \n",
            "rougher.input.feed_sol                0.121892               0.142085   \n",
            "rougher.input.feed_rate              -0.175310              -0.112570   \n",
            "...                                        ...                    ...   \n",
            "final.output.recovery                 0.320317               0.309866   \n",
            "final.output.tail_au                  0.615277               0.467331   \n",
            "final.output.tail_ag                  0.586762               0.777815   \n",
            "final.output.tail_pb                  0.499652               0.281709   \n",
            "final.output.tail_sol                -0.038867              -0.013880   \n",
            "\n",
            "                         rougher.input.feed_pb  rougher.input.feed_sol  \\\n",
            "rougher.input.feed_au                 0.716167                0.121892   \n",
            "rougher.input.feed_ag                 0.527306                0.142085   \n",
            "rougher.input.feed_pb                 1.000000                0.107954   \n",
            "rougher.input.feed_sol                0.107954                1.000000   \n",
            "rougher.input.feed_rate              -0.134044                0.620453   \n",
            "...                                        ...                     ...   \n",
            "final.output.recovery                 0.176102                0.258040   \n",
            "final.output.tail_au                  0.477194               -0.099408   \n",
            "final.output.tail_ag                  0.407188                0.039348   \n",
            "final.output.tail_pb                  0.772588               -0.000239   \n",
            "final.output.tail_sol                -0.156774                0.408207   \n",
            "\n",
            "                         rougher.input.feed_rate  rougher.input.feed_size  \\\n",
            "rougher.input.feed_au                  -0.175310                -0.132365   \n",
            "rougher.input.feed_ag                  -0.112570                -0.093059   \n",
            "rougher.input.feed_pb                  -0.134044                -0.056675   \n",
            "rougher.input.feed_sol                  0.620453                 0.144052   \n",
            "rougher.input.feed_rate                 1.000000                 0.066184   \n",
            "...                                          ...                      ...   \n",
            "final.output.recovery                   0.170899                 0.031674   \n",
            "final.output.tail_au                   -0.283575                -0.159918   \n",
            "final.output.tail_ag                   -0.030008                -0.048009   \n",
            "final.output.tail_pb                   -0.239030                -0.097079   \n",
            "final.output.tail_sol                   0.510010                -0.041124   \n",
            "\n",
            "                         rougher.input.floatbank10_sulfate  \\\n",
            "rougher.input.feed_au                             0.260829   \n",
            "rougher.input.feed_ag                             0.070859   \n",
            "rougher.input.feed_pb                             0.268031   \n",
            "rougher.input.feed_sol                            0.313654   \n",
            "rougher.input.feed_rate                           0.257446   \n",
            "...                                                    ...   \n",
            "final.output.recovery                             0.081345   \n",
            "final.output.tail_au                              0.189767   \n",
            "final.output.tail_ag                             -0.070658   \n",
            "final.output.tail_pb                              0.369532   \n",
            "final.output.tail_sol                             0.201255   \n",
            "\n",
            "                         rougher.input.floatbank10_xanthate  \\\n",
            "rougher.input.feed_au                              0.211673   \n",
            "rougher.input.feed_ag                              0.241755   \n",
            "rougher.input.feed_pb                              0.066555   \n",
            "rougher.input.feed_sol                             0.395656   \n",
            "rougher.input.feed_rate                            0.607988   \n",
            "...                                                     ...   \n",
            "final.output.recovery                              0.330164   \n",
            "final.output.tail_au                              -0.086376   \n",
            "final.output.tail_ag                               0.290650   \n",
            "final.output.tail_pb                              -0.156356   \n",
            "final.output.tail_sol                              0.339642   \n",
            "\n",
            "                         rougher.state.floatbank10_a_air  \\\n",
            "rougher.input.feed_au                           0.193020   \n",
            "rougher.input.feed_ag                           0.316638   \n",
            "rougher.input.feed_pb                           0.278095   \n",
            "rougher.input.feed_sol                          0.165927   \n",
            "rougher.input.feed_rate                        -0.000721   \n",
            "...                                                  ...   \n",
            "final.output.recovery                           0.186673   \n",
            "final.output.tail_au                           -0.017909   \n",
            "final.output.tail_ag                            0.278435   \n",
            "final.output.tail_pb                            0.115103   \n",
            "final.output.tail_sol                          -0.096554   \n",
            "\n",
            "                         rougher.state.floatbank10_a_level  ...  \\\n",
            "rougher.input.feed_au                            -0.052107  ...   \n",
            "rougher.input.feed_ag                            -0.074911  ...   \n",
            "rougher.input.feed_pb                             0.262529  ...   \n",
            "rougher.input.feed_sol                            0.310125  ...   \n",
            "rougher.input.feed_rate                           0.128412  ...   \n",
            "...                                                    ...  ...   \n",
            "final.output.recovery                             0.064613  ...   \n",
            "final.output.tail_au                             -0.115082  ...   \n",
            "final.output.tail_ag                             -0.068033  ...   \n",
            "final.output.tail_pb                              0.261150  ...   \n",
            "final.output.tail_sol                            -0.153207  ...   \n",
            "\n",
            "                         secondary_cleaner.output.tail_sol  \\\n",
            "rougher.input.feed_au                             0.222046   \n",
            "rougher.input.feed_ag                             0.246394   \n",
            "rougher.input.feed_pb                            -0.033530   \n",
            "rougher.input.feed_sol                           -0.103825   \n",
            "rougher.input.feed_rate                          -0.020944   \n",
            "...                                                    ...   \n",
            "final.output.recovery                            -0.029615   \n",
            "final.output.tail_au                              0.244910   \n",
            "final.output.tail_ag                              0.205762   \n",
            "final.output.tail_pb                             -0.027103   \n",
            "final.output.tail_sol                             0.297630   \n",
            "\n",
            "                         final.output.concentrate_au  \\\n",
            "rougher.input.feed_au                       0.047851   \n",
            "rougher.input.feed_ag                       0.039050   \n",
            "rougher.input.feed_pb                       0.016867   \n",
            "rougher.input.feed_sol                      0.224758   \n",
            "rougher.input.feed_rate                     0.165220   \n",
            "...                                              ...   \n",
            "final.output.recovery                       0.340427   \n",
            "final.output.tail_au                       -0.023502   \n",
            "final.output.tail_ag                        0.101555   \n",
            "final.output.tail_pb                        0.083138   \n",
            "final.output.tail_sol                       0.162286   \n",
            "\n",
            "                         final.output.concentrate_ag  \\\n",
            "rougher.input.feed_au                       0.300447   \n",
            "rougher.input.feed_ag                       0.439228   \n",
            "rougher.input.feed_pb                       0.088197   \n",
            "rougher.input.feed_sol                     -0.029213   \n",
            "rougher.input.feed_rate                    -0.158517   \n",
            "...                                              ...   \n",
            "final.output.recovery                       0.220187   \n",
            "final.output.tail_au                        0.184964   \n",
            "final.output.tail_ag                        0.331187   \n",
            "final.output.tail_pb                       -0.044452   \n",
            "final.output.tail_sol                       0.016868   \n",
            "\n",
            "                         final.output.concentrate_pb  \\\n",
            "rougher.input.feed_au                      -0.051808   \n",
            "rougher.input.feed_ag                      -0.173866   \n",
            "rougher.input.feed_pb                       0.287227   \n",
            "rougher.input.feed_sol                      0.123029   \n",
            "rougher.input.feed_rate                     0.064433   \n",
            "...                                              ...   \n",
            "final.output.recovery                       0.199200   \n",
            "final.output.tail_au                       -0.025301   \n",
            "final.output.tail_ag                       -0.107639   \n",
            "final.output.tail_pb                        0.215637   \n",
            "final.output.tail_sol                       0.126428   \n",
            "\n",
            "                         final.output.concentrate_sol  final.output.recovery  \\\n",
            "rougher.input.feed_au                        0.445847               0.320317   \n",
            "rougher.input.feed_ag                        0.450498               0.309866   \n",
            "rougher.input.feed_pb                        0.191184               0.176102   \n",
            "rougher.input.feed_sol                       0.035540               0.258040   \n",
            "rougher.input.feed_rate                     -0.131562               0.170899   \n",
            "...                                               ...                    ...   \n",
            "final.output.recovery                        0.312832               1.000000   \n",
            "final.output.tail_au                         0.219525              -0.391831   \n",
            "final.output.tail_ag                         0.272380               0.136024   \n",
            "final.output.tail_pb                         0.213113              -0.130100   \n",
            "final.output.tail_sol                       -0.037623              -0.021931   \n",
            "\n",
            "                         final.output.tail_au  final.output.tail_ag  \\\n",
            "rougher.input.feed_au                0.615277              0.586762   \n",
            "rougher.input.feed_ag                0.467331              0.777815   \n",
            "rougher.input.feed_pb                0.477194              0.407188   \n",
            "rougher.input.feed_sol              -0.099408              0.039348   \n",
            "rougher.input.feed_rate             -0.283575             -0.030008   \n",
            "...                                       ...                   ...   \n",
            "final.output.recovery               -0.391831              0.136024   \n",
            "final.output.tail_au                 1.000000              0.439097   \n",
            "final.output.tail_ag                 0.439097              1.000000   \n",
            "final.output.tail_pb                 0.620136              0.311269   \n",
            "final.output.tail_sol                0.045037              0.142184   \n",
            "\n",
            "                         final.output.tail_pb  final.output.tail_sol  \n",
            "rougher.input.feed_au                0.499652              -0.038867  \n",
            "rougher.input.feed_ag                0.281709              -0.013880  \n",
            "rougher.input.feed_pb                0.772588              -0.156774  \n",
            "rougher.input.feed_sol              -0.000239               0.408207  \n",
            "rougher.input.feed_rate             -0.239030               0.510010  \n",
            "...                                       ...                    ...  \n",
            "final.output.recovery               -0.130100              -0.021931  \n",
            "final.output.tail_au                 0.620136               0.045037  \n",
            "final.output.tail_ag                 0.311269               0.142184  \n",
            "final.output.tail_pb                 1.000000              -0.142567  \n",
            "final.output.tail_sol               -0.142567               1.000000  \n",
            "\n",
            "[86 rows x 86 columns] \n",
            "\n",
            "Количество уникальных значений в столбце с индексом: \n",
            "\n",
            "0  =  14579\n",
            "1  =  14556\n",
            "2  =  14556\n",
            "3  =  14480\n",
            "4  =  14469\n",
            "5  =  14572\n",
            "6  =  14475\n",
            "7  =  14548\n",
            "8  =  14572\n",
            "9  =  14579\n",
            "10  =  14579\n",
            "11  =  14579\n",
            "12  =  14579\n",
            "13  =  14579\n",
            "14  =  14579\n",
            "15  =  14579\n",
            "16  =  14579\n",
            "17  =  14150\n",
            "18  =  14579\n",
            "19  =  14579\n",
            "20  =  14578\n",
            "21  =  14543\n",
            "22  =  14162\n",
            "23  =  14578\n",
            "24  =  14578\n",
            "25  =  14578\n",
            "26  =  14556\n",
            "27  =  14161\n",
            "28  =  14161\n",
            "29  =  14123\n",
            "30  =  13892\n",
            "31  =  14163\n",
            "32  =  14547\n",
            "33  =  14545\n",
            "34  =  14555\n",
            "35  =  14460\n",
            "36  =  14556\n",
            "37  =  14543\n",
            "38  =  3850\n",
            "39  =  14518\n",
            "40  =  14576\n",
            "41  =  14579\n",
            "42  =  14576\n",
            "43  =  14579\n",
            "44  =  14579\n",
            "45  =  14579\n",
            "46  =  14578\n",
            "47  =  14579\n",
            "48  =  14364\n",
            "49  =  14364\n",
            "50  =  14257\n",
            "51  =  14097\n",
            "52  =  14461\n",
            "53  =  14457\n",
            "54  =  14455\n",
            "55  =  14416\n",
            "56  =  14484\n",
            "57  =  14579\n",
            "58  =  14457\n",
            "59  =  14579\n",
            "60  =  14513\n",
            "61  =  14579\n",
            "62  =  14488\n",
            "63  =  14579\n",
            "64  =  14569\n",
            "65  =  14579\n",
            "66  =  14565\n",
            "67  =  14577\n",
            "68  =  14579\n",
            "69  =  14579\n",
            "70  =  14579\n",
            "71  =  14579\n",
            "72  =  14578\n",
            "73  =  14579\n",
            "74  =  13845\n",
            "75  =  13844\n",
            "76  =  13838\n",
            "77  =  12924\n",
            "78  =  14454\n",
            "79  =  14453\n",
            "80  =  14436\n",
            "81  =  14259\n",
            "82  =  14399\n",
            "83  =  14493\n",
            "84  =  14492\n",
            "85  =  14418\n",
            "86  =  14488\n",
            "\n",
            "Размер датафрейма (14579, 87) \n",
            "\n",
            "\n"
          ]
        }
      ],
      "source": [
        "df_info(df_train)"
      ]
    },
    {
      "cell_type": "code",
      "execution_count": null,
      "metadata": {
        "scrolled": true,
        "id": "KTG1zq3HZXUd",
        "outputId": "9636a0e2-330e-41a1-e29a-874e044c643b"
      },
      "outputs": [
        {
          "name": "stdout",
          "output_type": "stream",
          "text": [
            "Информация по датафрейму \n",
            "\n",
            "Общая информация: \n",
            "\n",
            "<class 'pandas.core.frame.DataFrame'>\n",
            "RangeIndex: 4860 entries, 0 to 4859\n",
            "Data columns (total 53 columns):\n",
            " #   Column                                      Non-Null Count  Dtype  \n",
            "---  ------                                      --------------  -----  \n",
            " 0   date                                        4860 non-null   object \n",
            " 1   rougher.input.feed_au                       4860 non-null   float64\n",
            " 2   rougher.input.feed_ag                       4860 non-null   float64\n",
            " 3   rougher.input.feed_pb                       4832 non-null   float64\n",
            " 4   rougher.input.feed_sol                      4838 non-null   float64\n",
            " 5   rougher.input.feed_rate                     4856 non-null   float64\n",
            " 6   rougher.input.feed_size                     4816 non-null   float64\n",
            " 7   rougher.input.floatbank10_sulfate           4857 non-null   float64\n",
            " 8   rougher.input.floatbank10_xanthate          4859 non-null   float64\n",
            " 9   rougher.state.floatbank10_a_air             4859 non-null   float64\n",
            " 10  rougher.state.floatbank10_a_level           4859 non-null   float64\n",
            " 11  rougher.state.floatbank10_b_air             4859 non-null   float64\n",
            " 12  rougher.state.floatbank10_b_level           4859 non-null   float64\n",
            " 13  rougher.state.floatbank10_c_air             4859 non-null   float64\n",
            " 14  rougher.state.floatbank10_c_level           4859 non-null   float64\n",
            " 15  rougher.state.floatbank10_d_air             4860 non-null   float64\n",
            " 16  rougher.state.floatbank10_d_level           4860 non-null   float64\n",
            " 17  rougher.state.floatbank10_e_air             4853 non-null   float64\n",
            " 18  rougher.state.floatbank10_e_level           4860 non-null   float64\n",
            " 19  rougher.state.floatbank10_f_air             4860 non-null   float64\n",
            " 20  rougher.state.floatbank10_f_level           4860 non-null   float64\n",
            " 21  rougher.input.floatbank11_sulfate           4852 non-null   float64\n",
            " 22  rougher.input.floatbank11_xanthate          4814 non-null   float64\n",
            " 23  primary_cleaner.input.sulfate               4859 non-null   float64\n",
            " 24  primary_cleaner.input.depressant            4851 non-null   float64\n",
            " 25  primary_cleaner.input.feed_size             4860 non-null   float64\n",
            " 26  primary_cleaner.input.xanthate              4817 non-null   float64\n",
            " 27  primary_cleaner.state.floatbank8_a_air      4859 non-null   float64\n",
            " 28  primary_cleaner.state.floatbank8_a_level    4859 non-null   float64\n",
            " 29  primary_cleaner.state.floatbank8_b_air      4859 non-null   float64\n",
            " 30  primary_cleaner.state.floatbank8_b_level    4859 non-null   float64\n",
            " 31  primary_cleaner.state.floatbank8_c_air      4858 non-null   float64\n",
            " 32  primary_cleaner.state.floatbank8_c_level    4859 non-null   float64\n",
            " 33  primary_cleaner.state.floatbank8_d_air      4858 non-null   float64\n",
            " 34  primary_cleaner.state.floatbank8_d_level    4859 non-null   float64\n",
            " 35  secondary_cleaner.state.floatbank2_a_air    4734 non-null   float64\n",
            " 36  secondary_cleaner.state.floatbank2_a_level  4859 non-null   float64\n",
            " 37  secondary_cleaner.state.floatbank2_b_air    4859 non-null   float64\n",
            " 38  secondary_cleaner.state.floatbank2_b_level  4859 non-null   float64\n",
            " 39  secondary_cleaner.state.floatbank3_a_air    4859 non-null   float64\n",
            " 40  secondary_cleaner.state.floatbank3_a_level  4859 non-null   float64\n",
            " 41  secondary_cleaner.state.floatbank3_b_air    4859 non-null   float64\n",
            " 42  secondary_cleaner.state.floatbank3_b_level  4859 non-null   float64\n",
            " 43  secondary_cleaner.state.floatbank4_a_air    4859 non-null   float64\n",
            " 44  secondary_cleaner.state.floatbank4_a_level  4859 non-null   float64\n",
            " 45  secondary_cleaner.state.floatbank4_b_air    4859 non-null   float64\n",
            " 46  secondary_cleaner.state.floatbank4_b_level  4859 non-null   float64\n",
            " 47  secondary_cleaner.state.floatbank5_a_air    4859 non-null   float64\n",
            " 48  secondary_cleaner.state.floatbank5_a_level  4859 non-null   float64\n",
            " 49  secondary_cleaner.state.floatbank5_b_air    4859 non-null   float64\n",
            " 50  secondary_cleaner.state.floatbank5_b_level  4859 non-null   float64\n",
            " 51  secondary_cleaner.state.floatbank6_a_air    4859 non-null   float64\n",
            " 52  secondary_cleaner.state.floatbank6_a_level  4859 non-null   float64\n",
            "dtypes: float64(52), object(1)\n",
            "memory usage: 2.0+ MB\n",
            "None \n",
            "\n",
            "Число полных явных дубликатов строк  0 \n",
            "\n",
            "Обзор первых строк: \n",
            "                   date  rougher.input.feed_au  rougher.input.feed_ag  \\\n",
            "0  2017-12-09 14:59:59               4.365491               6.158718   \n",
            "1  2017-12-09 15:59:59               4.362781               6.048130   \n",
            "2  2017-12-09 16:59:59               5.081681               6.082745   \n",
            "3  2017-12-09 17:59:59               5.145949               6.084374   \n",
            "4  2017-12-09 18:59:59               5.735249               6.165220   \n",
            "\n",
            "   rougher.input.feed_pb  rougher.input.feed_sol  rougher.input.feed_rate  \\\n",
            "0               3.875727               39.135119               555.820208   \n",
            "1               3.902537               39.713906               544.731687   \n",
            "2               4.564078               37.208683               558.155110   \n",
            "3               4.768124               36.808874               539.713765   \n",
            "4               4.512346               37.810642               558.713584   \n",
            "\n",
            "   rougher.input.feed_size  rougher.input.floatbank10_sulfate  \\\n",
            "0                94.544358                           6.146982   \n",
            "1               123.742430                           6.210119   \n",
            "2                82.610855                           7.363824   \n",
            "3                77.984784                           6.927072   \n",
            "4                86.434874                           7.823471   \n",
            "\n",
            "   rougher.input.floatbank10_xanthate  rougher.state.floatbank10_a_air  ...  \\\n",
            "0                            9.308612                      1196.238112  ...   \n",
            "1                            9.297709                      1201.904177  ...   \n",
            "2                            9.003562                      1200.826926  ...   \n",
            "3                            8.955597                      1199.292489  ...   \n",
            "4                            7.490356                      1198.005449  ...   \n",
            "\n",
            "   secondary_cleaner.state.floatbank4_a_air  \\\n",
            "0                                 23.018622   \n",
            "1                                 23.024963   \n",
            "2                                 22.993827   \n",
            "3                                 23.032807   \n",
            "4                                 23.001911   \n",
            "\n",
            "   secondary_cleaner.state.floatbank4_a_level  \\\n",
            "0                                 -500.492702   \n",
            "1                                 -501.153409   \n",
            "2                                 -501.559663   \n",
            "3                                 -501.287889   \n",
            "4                                 -499.947838   \n",
            "\n",
            "   secondary_cleaner.state.floatbank4_b_air  \\\n",
            "0                                 20.020205   \n",
            "1                                 20.054122   \n",
            "2                                 20.029144   \n",
            "3                                 19.977466   \n",
            "4                                 20.023735   \n",
            "\n",
            "   secondary_cleaner.state.floatbank4_b_level  \\\n",
            "0                                 -500.220296   \n",
            "1                                 -500.314711   \n",
            "2                                 -500.000662   \n",
            "3                                 -500.159903   \n",
            "4                                 -499.713680   \n",
            "\n",
            "   secondary_cleaner.state.floatbank5_a_air  \\\n",
            "0                                 17.963512   \n",
            "1                                 17.979515   \n",
            "2                                 18.012723   \n",
            "3                                 17.980463   \n",
            "4                                 17.990955   \n",
            "\n",
            "   secondary_cleaner.state.floatbank5_a_level  \\\n",
            "0                                 -499.939490   \n",
            "1                                 -499.272871   \n",
            "2                                 -500.024764   \n",
            "3                                 -500.504602   \n",
            "4                                 -500.334769   \n",
            "\n",
            "   secondary_cleaner.state.floatbank5_b_air  \\\n",
            "0                                 12.990306   \n",
            "1                                 12.992404   \n",
            "2                                 13.016445   \n",
            "3                                 12.949071   \n",
            "4                                 13.007523   \n",
            "\n",
            "   secondary_cleaner.state.floatbank5_b_level  \\\n",
            "0                                 -500.080993   \n",
            "1                                 -499.976268   \n",
            "2                                 -500.058432   \n",
            "3                                 -500.009937   \n",
            "4                                 -499.968459   \n",
            "\n",
            "   secondary_cleaner.state.floatbank6_a_air  \\\n",
            "0                                 19.990336   \n",
            "1                                 20.013986   \n",
            "2                                 19.973767   \n",
            "3                                 20.010332   \n",
            "4                                 19.995999   \n",
            "\n",
            "   secondary_cleaner.state.floatbank6_a_level  \n",
            "0                                 -499.191575  \n",
            "1                                 -500.625471  \n",
            "2                                 -501.394155  \n",
            "3                                 -508.337973  \n",
            "4                                 -499.788805  \n",
            "\n",
            "[5 rows x 53 columns] \n",
            "\n",
            "Статистические характеристики: \n",
            "        rougher.input.feed_au  rougher.input.feed_ag  rougher.input.feed_pb  \\\n",
            "count            4860.000000            4860.000000            4832.000000   \n",
            "mean                8.005584               8.547348               3.579662   \n",
            "std                 1.993590               1.958601               1.029377   \n",
            "min                 0.010000               0.010000               0.010000   \n",
            "25%                 6.574363               6.975898               2.903612   \n",
            "50%                 7.812923               8.179714               3.540772   \n",
            "75%                 9.556589              10.084339               4.199847   \n",
            "max                13.417156              14.533698               7.142594   \n",
            "\n",
            "       rougher.input.feed_sol  rougher.input.feed_rate  \\\n",
            "count             4838.000000              4856.000000   \n",
            "mean                37.095864               490.285103   \n",
            "std                  4.926284                94.371623   \n",
            "min                  0.010000                 0.012786   \n",
            "25%                 34.510841               434.099695   \n",
            "50%                 37.499761               502.118742   \n",
            "75%                 40.461315               555.596563   \n",
            "max                 53.477742               702.523396   \n",
            "\n",
            "       rougher.input.feed_size  rougher.input.floatbank10_sulfate  \\\n",
            "count              4816.000000                        4857.000000   \n",
            "mean                 59.113400                          12.055735   \n",
            "std                  19.125122                           3.407642   \n",
            "min                   0.046369                           0.018907   \n",
            "25%                  47.596984                           9.890429   \n",
            "50%                  55.509481                          11.997859   \n",
            "75%                  66.661547                          14.496072   \n",
            "max                 363.989699                          30.010759   \n",
            "\n",
            "       rougher.input.floatbank10_xanthate  rougher.state.floatbank10_a_air  \\\n",
            "count                         4859.000000                      4859.000000   \n",
            "mean                             6.101308                      1108.635895   \n",
            "std                              1.042754                       156.493143   \n",
            "min                              0.015783                       300.792494   \n",
            "25%                              5.499808                       999.715729   \n",
            "50%                              6.099805                      1001.414798   \n",
            "75%                              6.802101                      1202.837565   \n",
            "max                              9.396928                      1521.980372   \n",
            "\n",
            "       rougher.state.floatbank10_a_level  ...  \\\n",
            "count                        4859.000000  ...   \n",
            "mean                         -368.340127  ...   \n",
            "std                            91.155929  ...   \n",
            "min                          -600.568138  ...   \n",
            "25%                          -499.731972  ...   \n",
            "50%                          -300.181367  ...   \n",
            "75%                          -299.961547  ...   \n",
            "max                          -281.039299  ...   \n",
            "\n",
            "       secondary_cleaner.state.floatbank4_a_air  \\\n",
            "count                              4.859000e+03   \n",
            "mean                               1.985770e+01   \n",
            "std                                5.913105e+00   \n",
            "min                                1.079872e-16   \n",
            "25%                                1.501123e+01   \n",
            "50%                                1.996807e+01   \n",
            "75%                                2.498900e+01   \n",
            "max                                3.008450e+01   \n",
            "\n",
            "       secondary_cleaner.state.floatbank4_a_level  \\\n",
            "count                                 4859.000000   \n",
            "mean                                  -488.665140   \n",
            "std                                     44.392714   \n",
            "min                                   -799.704969   \n",
            "25%                                   -500.704004   \n",
            "50%                                   -499.892919   \n",
            "75%                                   -498.652030   \n",
            "max                                   -383.373053   \n",
            "\n",
            "       secondary_cleaner.state.floatbank4_b_air  \\\n",
            "count                              4.859000e+03   \n",
            "mean                               1.557025e+01   \n",
            "std                                4.927361e+00   \n",
            "min                                2.489718e-17   \n",
            "25%                                1.202172e+01   \n",
            "50%                                1.501240e+01   \n",
            "75%                                1.999949e+01   \n",
            "max                                2.398898e+01   \n",
            "\n",
            "       secondary_cleaner.state.floatbank4_b_level  \\\n",
            "count                                 4859.000000   \n",
            "mean                                  -464.176507   \n",
            "std                                     65.706994   \n",
            "min                                   -799.860767   \n",
            "25%                                   -500.196517   \n",
            "50%                                   -499.540776   \n",
            "75%                                   -400.302329   \n",
            "max                                   -114.250832   \n",
            "\n",
            "       secondary_cleaner.state.floatbank5_a_air  \\\n",
            "count                               4859.000000   \n",
            "mean                                  16.594103   \n",
            "std                                    5.724305   \n",
            "min                                   -0.371498   \n",
            "25%                                   11.073822   \n",
            "50%                                   16.631195   \n",
            "75%                                   19.983191   \n",
            "max                                   33.215996   \n",
            "\n",
            "       secondary_cleaner.state.floatbank5_a_level  \\\n",
            "count                                 4859.000000   \n",
            "mean                                  -490.815250   \n",
            "std                                     32.258443   \n",
            "min                                   -797.142475   \n",
            "25%                                   -500.483564   \n",
            "50%                                   -499.873136   \n",
            "75%                                   -498.852815   \n",
            "max                                   -288.963521   \n",
            "\n",
            "       secondary_cleaner.state.floatbank5_b_air  \\\n",
            "count                               4859.000000   \n",
            "mean                                  12.945971   \n",
            "std                                    5.533176   \n",
            "min                                    1.358469   \n",
            "25%                                    9.011890   \n",
            "50%                                   11.999417   \n",
            "75%                                   15.004198   \n",
            "max                                   24.177106   \n",
            "\n",
            "       secondary_cleaner.state.floatbank5_b_level  \\\n",
            "count                                 4859.000000   \n",
            "mean                                  -489.583564   \n",
            "std                                     37.084609   \n",
            "min                                   -800.006180   \n",
            "25%                                   -500.129913   \n",
            "50%                                   -499.955304   \n",
            "75%                                   -499.643776   \n",
            "max                                   -141.934397   \n",
            "\n",
            "       secondary_cleaner.state.floatbank6_a_air  \\\n",
            "count                               4859.000000   \n",
            "mean                                  19.053888   \n",
            "std                                    5.548996   \n",
            "min                                    0.160386   \n",
            "25%                                   14.963953   \n",
            "50%                                   19.960006   \n",
            "75%                                   24.974583   \n",
            "max                                   32.028529   \n",
            "\n",
            "       secondary_cleaner.state.floatbank6_a_level  \n",
            "count                                 4859.000000  \n",
            "mean                                  -504.678924  \n",
            "std                                     38.690186  \n",
            "min                                   -809.734800  \n",
            "25%                                   -500.668501  \n",
            "50%                                   -500.033769  \n",
            "75%                                   -499.460134  \n",
            "max                                   -104.427459  \n",
            "\n",
            "[8 rows x 52 columns] \n",
            "\n",
            "Коэффициенты корреляции между столбцами: \n",
            "                                             rougher.input.feed_au  \\\n",
            "rougher.input.feed_au                                    1.000000   \n",
            "rougher.input.feed_ag                                    0.854514   \n",
            "rougher.input.feed_pb                                    0.607028   \n",
            "rougher.input.feed_sol                                   0.026065   \n",
            "rougher.input.feed_rate                                 -0.225148   \n",
            "rougher.input.feed_size                                 -0.224715   \n",
            "rougher.input.floatbank10_sulfate                        0.383709   \n",
            "rougher.input.floatbank10_xanthate                       0.218419   \n",
            "rougher.state.floatbank10_a_air                          0.045488   \n",
            "rougher.state.floatbank10_a_level                       -0.239402   \n",
            "rougher.state.floatbank10_b_air                          0.004558   \n",
            "rougher.state.floatbank10_b_level                        0.009334   \n",
            "rougher.state.floatbank10_c_air                         -0.003786   \n",
            "rougher.state.floatbank10_c_level                        0.012974   \n",
            "rougher.state.floatbank10_d_air                         -0.036562   \n",
            "rougher.state.floatbank10_d_level                        0.009875   \n",
            "rougher.state.floatbank10_e_air                         -0.098002   \n",
            "rougher.state.floatbank10_e_level                        0.041793   \n",
            "rougher.state.floatbank10_f_air                         -0.146977   \n",
            "rougher.state.floatbank10_f_level                        0.042231   \n",
            "rougher.input.floatbank11_sulfate                        0.400827   \n",
            "rougher.input.floatbank11_xanthate                       0.213709   \n",
            "primary_cleaner.input.sulfate                            0.694864   \n",
            "primary_cleaner.input.depressant                         0.446533   \n",
            "primary_cleaner.input.feed_size                          0.146513   \n",
            "primary_cleaner.input.xanthate                           0.288998   \n",
            "primary_cleaner.state.floatbank8_a_air                   0.018622   \n",
            "primary_cleaner.state.floatbank8_a_level                -0.128711   \n",
            "primary_cleaner.state.floatbank8_b_air                   0.086716   \n",
            "primary_cleaner.state.floatbank8_b_level                -0.098600   \n",
            "primary_cleaner.state.floatbank8_c_air                  -0.010379   \n",
            "primary_cleaner.state.floatbank8_c_level                -0.099745   \n",
            "primary_cleaner.state.floatbank8_d_air                   0.143328   \n",
            "primary_cleaner.state.floatbank8_d_level                -0.122483   \n",
            "secondary_cleaner.state.floatbank2_a_air                -0.247829   \n",
            "secondary_cleaner.state.floatbank2_a_level               0.010765   \n",
            "secondary_cleaner.state.floatbank2_b_air                -0.170794   \n",
            "secondary_cleaner.state.floatbank2_b_level               0.024953   \n",
            "secondary_cleaner.state.floatbank3_a_air                -0.144039   \n",
            "secondary_cleaner.state.floatbank3_a_level               0.046100   \n",
            "secondary_cleaner.state.floatbank3_b_air                -0.055644   \n",
            "secondary_cleaner.state.floatbank3_b_level              -0.008072   \n",
            "secondary_cleaner.state.floatbank4_a_air                -0.239158   \n",
            "secondary_cleaner.state.floatbank4_a_level               0.079183   \n",
            "secondary_cleaner.state.floatbank4_b_air                -0.111285   \n",
            "secondary_cleaner.state.floatbank4_b_level              -0.001285   \n",
            "secondary_cleaner.state.floatbank5_a_air                -0.292338   \n",
            "secondary_cleaner.state.floatbank5_a_level               0.081805   \n",
            "secondary_cleaner.state.floatbank5_b_air                -0.256760   \n",
            "secondary_cleaner.state.floatbank5_b_level               0.113858   \n",
            "secondary_cleaner.state.floatbank6_a_air                -0.029978   \n",
            "secondary_cleaner.state.floatbank6_a_level              -0.061652   \n",
            "\n",
            "                                            rougher.input.feed_ag  \\\n",
            "rougher.input.feed_au                                    0.854514   \n",
            "rougher.input.feed_ag                                    1.000000   \n",
            "rougher.input.feed_pb                                    0.406584   \n",
            "rougher.input.feed_sol                                   0.050202   \n",
            "rougher.input.feed_rate                                 -0.190118   \n",
            "rougher.input.feed_size                                 -0.173862   \n",
            "rougher.input.floatbank10_sulfate                        0.199531   \n",
            "rougher.input.floatbank10_xanthate                       0.216365   \n",
            "rougher.state.floatbank10_a_air                          0.168251   \n",
            "rougher.state.floatbank10_a_level                       -0.261213   \n",
            "rougher.state.floatbank10_b_air                         -0.000850   \n",
            "rougher.state.floatbank10_b_level                        0.014397   \n",
            "rougher.state.floatbank10_c_air                         -0.035472   \n",
            "rougher.state.floatbank10_c_level                        0.020407   \n",
            "rougher.state.floatbank10_d_air                         -0.042971   \n",
            "rougher.state.floatbank10_d_level                        0.016026   \n",
            "rougher.state.floatbank10_e_air                         -0.061894   \n",
            "rougher.state.floatbank10_e_level                        0.025525   \n",
            "rougher.state.floatbank10_f_air                         -0.109847   \n",
            "rougher.state.floatbank10_f_level                        0.027674   \n",
            "rougher.input.floatbank11_sulfate                        0.215392   \n",
            "rougher.input.floatbank11_xanthate                       0.206480   \n",
            "primary_cleaner.input.sulfate                            0.571546   \n",
            "primary_cleaner.input.depressant                         0.498958   \n",
            "primary_cleaner.input.feed_size                          0.176502   \n",
            "primary_cleaner.input.xanthate                           0.272240   \n",
            "primary_cleaner.state.floatbank8_a_air                   0.155437   \n",
            "primary_cleaner.state.floatbank8_a_level                -0.065667   \n",
            "primary_cleaner.state.floatbank8_b_air                   0.202615   \n",
            "primary_cleaner.state.floatbank8_b_level                -0.038587   \n",
            "primary_cleaner.state.floatbank8_c_air                   0.104557   \n",
            "primary_cleaner.state.floatbank8_c_level                -0.032916   \n",
            "primary_cleaner.state.floatbank8_d_air                   0.143829   \n",
            "primary_cleaner.state.floatbank8_d_level                -0.085567   \n",
            "secondary_cleaner.state.floatbank2_a_air                -0.167944   \n",
            "secondary_cleaner.state.floatbank2_a_level               0.041794   \n",
            "secondary_cleaner.state.floatbank2_b_air                -0.098594   \n",
            "secondary_cleaner.state.floatbank2_b_level               0.049806   \n",
            "secondary_cleaner.state.floatbank3_a_air                -0.049682   \n",
            "secondary_cleaner.state.floatbank3_a_level               0.097398   \n",
            "secondary_cleaner.state.floatbank3_b_air                -0.015979   \n",
            "secondary_cleaner.state.floatbank3_b_level               0.036336   \n",
            "secondary_cleaner.state.floatbank4_a_air                -0.132480   \n",
            "secondary_cleaner.state.floatbank4_a_level               0.110591   \n",
            "secondary_cleaner.state.floatbank4_b_air                -0.048134   \n",
            "secondary_cleaner.state.floatbank4_b_level              -0.072265   \n",
            "secondary_cleaner.state.floatbank5_a_air                -0.197588   \n",
            "secondary_cleaner.state.floatbank5_a_level               0.111015   \n",
            "secondary_cleaner.state.floatbank5_b_air                -0.182132   \n",
            "secondary_cleaner.state.floatbank5_b_level               0.130668   \n",
            "secondary_cleaner.state.floatbank6_a_air                 0.041357   \n",
            "secondary_cleaner.state.floatbank6_a_level              -0.062273   \n",
            "\n",
            "                                            rougher.input.feed_pb  \\\n",
            "rougher.input.feed_au                                    0.607028   \n",
            "rougher.input.feed_ag                                    0.406584   \n",
            "rougher.input.feed_pb                                    1.000000   \n",
            "rougher.input.feed_sol                                   0.036725   \n",
            "rougher.input.feed_rate                                 -0.159114   \n",
            "rougher.input.feed_size                                 -0.045197   \n",
            "rougher.input.floatbank10_sulfate                        0.224535   \n",
            "rougher.input.floatbank10_xanthate                       0.074750   \n",
            "rougher.state.floatbank10_a_air                          0.206702   \n",
            "rougher.state.floatbank10_a_level                        0.200647   \n",
            "rougher.state.floatbank10_b_air                         -0.263000   \n",
            "rougher.state.floatbank10_b_level                       -0.140546   \n",
            "rougher.state.floatbank10_c_air                         -0.260591   \n",
            "rougher.state.floatbank10_c_level                       -0.134046   \n",
            "rougher.state.floatbank10_d_air                         -0.329625   \n",
            "rougher.state.floatbank10_d_level                       -0.136853   \n",
            "rougher.state.floatbank10_e_air                         -0.332941   \n",
            "rougher.state.floatbank10_e_level                       -0.123264   \n",
            "rougher.state.floatbank10_f_air                         -0.306219   \n",
            "rougher.state.floatbank10_f_level                       -0.122362   \n",
            "rougher.input.floatbank11_sulfate                        0.240581   \n",
            "rougher.input.floatbank11_xanthate                       0.058185   \n",
            "primary_cleaner.input.sulfate                            0.514186   \n",
            "primary_cleaner.input.depressant                         0.282231   \n",
            "primary_cleaner.input.feed_size                         -0.066004   \n",
            "primary_cleaner.input.xanthate                           0.088746   \n",
            "primary_cleaner.state.floatbank8_a_air                  -0.037728   \n",
            "primary_cleaner.state.floatbank8_a_level                -0.050346   \n",
            "primary_cleaner.state.floatbank8_b_air                  -0.024563   \n",
            "primary_cleaner.state.floatbank8_b_level                -0.036540   \n",
            "primary_cleaner.state.floatbank8_c_air                  -0.050123   \n",
            "primary_cleaner.state.floatbank8_c_level                -0.048422   \n",
            "primary_cleaner.state.floatbank8_d_air                   0.098770   \n",
            "primary_cleaner.state.floatbank8_d_level                -0.052470   \n",
            "secondary_cleaner.state.floatbank2_a_air                 0.027079   \n",
            "secondary_cleaner.state.floatbank2_a_level              -0.044826   \n",
            "secondary_cleaner.state.floatbank2_b_air                 0.049143   \n",
            "secondary_cleaner.state.floatbank2_b_level              -0.019379   \n",
            "secondary_cleaner.state.floatbank3_a_air                 0.065165   \n",
            "secondary_cleaner.state.floatbank3_a_level               0.006785   \n",
            "secondary_cleaner.state.floatbank3_b_air                 0.055975   \n",
            "secondary_cleaner.state.floatbank3_b_level              -0.088598   \n",
            "secondary_cleaner.state.floatbank4_a_air                 0.118744   \n",
            "secondary_cleaner.state.floatbank4_a_level               0.047479   \n",
            "secondary_cleaner.state.floatbank4_b_air                 0.204102   \n",
            "secondary_cleaner.state.floatbank4_b_level              -0.033702   \n",
            "secondary_cleaner.state.floatbank5_a_air                 0.045723   \n",
            "secondary_cleaner.state.floatbank5_a_level              -0.000921   \n",
            "secondary_cleaner.state.floatbank5_b_air                 0.065444   \n",
            "secondary_cleaner.state.floatbank5_b_level               0.023209   \n",
            "secondary_cleaner.state.floatbank6_a_air                -0.106324   \n",
            "secondary_cleaner.state.floatbank6_a_level              -0.049390   \n",
            "\n",
            "                                            rougher.input.feed_sol  \\\n",
            "rougher.input.feed_au                                     0.026065   \n",
            "rougher.input.feed_ag                                     0.050202   \n",
            "rougher.input.feed_pb                                     0.036725   \n",
            "rougher.input.feed_sol                                    1.000000   \n",
            "rougher.input.feed_rate                                   0.623038   \n",
            "rougher.input.feed_size                                   0.318838   \n",
            "rougher.input.floatbank10_sulfate                         0.253770   \n",
            "rougher.input.floatbank10_xanthate                        0.334532   \n",
            "rougher.state.floatbank10_a_air                           0.187161   \n",
            "rougher.state.floatbank10_a_level                         0.328709   \n",
            "rougher.state.floatbank10_b_air                          -0.204945   \n",
            "rougher.state.floatbank10_b_level                        -0.123738   \n",
            "rougher.state.floatbank10_c_air                          -0.219385   \n",
            "rougher.state.floatbank10_c_level                        -0.126468   \n",
            "rougher.state.floatbank10_d_air                          -0.268671   \n",
            "rougher.state.floatbank10_d_level                        -0.128799   \n",
            "rougher.state.floatbank10_e_air                          -0.193039   \n",
            "rougher.state.floatbank10_e_level                        -0.146916   \n",
            "rougher.state.floatbank10_f_air                          -0.169805   \n",
            "rougher.state.floatbank10_f_level                        -0.135013   \n",
            "rougher.input.floatbank11_sulfate                         0.263489   \n",
            "rougher.input.floatbank11_xanthate                        0.302206   \n",
            "primary_cleaner.input.sulfate                             0.339808   \n",
            "primary_cleaner.input.depressant                          0.021497   \n",
            "primary_cleaner.input.feed_size                          -0.000023   \n",
            "primary_cleaner.input.xanthate                            0.227921   \n",
            "primary_cleaner.state.floatbank8_a_air                    0.015618   \n",
            "primary_cleaner.state.floatbank8_a_level                 -0.090030   \n",
            "primary_cleaner.state.floatbank8_b_air                   -0.033411   \n",
            "primary_cleaner.state.floatbank8_b_level                 -0.127249   \n",
            "primary_cleaner.state.floatbank8_c_air                   -0.025829   \n",
            "primary_cleaner.state.floatbank8_c_level                 -0.124801   \n",
            "primary_cleaner.state.floatbank8_d_air                    0.102895   \n",
            "primary_cleaner.state.floatbank8_d_level                 -0.113565   \n",
            "secondary_cleaner.state.floatbank2_a_air                  0.092586   \n",
            "secondary_cleaner.state.floatbank2_a_level               -0.044721   \n",
            "secondary_cleaner.state.floatbank2_b_air                  0.064602   \n",
            "secondary_cleaner.state.floatbank2_b_level               -0.030595   \n",
            "secondary_cleaner.state.floatbank3_a_air                  0.078281   \n",
            "secondary_cleaner.state.floatbank3_a_level               -0.057432   \n",
            "secondary_cleaner.state.floatbank3_b_air                 -0.076915   \n",
            "secondary_cleaner.state.floatbank3_b_level               -0.043705   \n",
            "secondary_cleaner.state.floatbank4_a_air                  0.233878   \n",
            "secondary_cleaner.state.floatbank4_a_level               -0.071928   \n",
            "secondary_cleaner.state.floatbank4_b_air                  0.156255   \n",
            "secondary_cleaner.state.floatbank4_b_level                0.120338   \n",
            "secondary_cleaner.state.floatbank5_a_air                  0.099137   \n",
            "secondary_cleaner.state.floatbank5_a_level               -0.086480   \n",
            "secondary_cleaner.state.floatbank5_b_air                  0.109184   \n",
            "secondary_cleaner.state.floatbank5_b_level               -0.079468   \n",
            "secondary_cleaner.state.floatbank6_a_air                 -0.166350   \n",
            "secondary_cleaner.state.floatbank6_a_level                0.002182   \n",
            "\n",
            "                                            rougher.input.feed_rate  \\\n",
            "rougher.input.feed_au                                     -0.225148   \n",
            "rougher.input.feed_ag                                     -0.190118   \n",
            "rougher.input.feed_pb                                     -0.159114   \n",
            "rougher.input.feed_sol                                     0.623038   \n",
            "rougher.input.feed_rate                                    1.000000   \n",
            "rougher.input.feed_size                                    0.350958   \n",
            "rougher.input.floatbank10_sulfate                          0.175090   \n",
            "rougher.input.floatbank10_xanthate                         0.563415   \n",
            "rougher.state.floatbank10_a_air                            0.048329   \n",
            "rougher.state.floatbank10_a_level                          0.179759   \n",
            "rougher.state.floatbank10_b_air                           -0.186895   \n",
            "rougher.state.floatbank10_b_level                         -0.181345   \n",
            "rougher.state.floatbank10_c_air                           -0.225105   \n",
            "rougher.state.floatbank10_c_level                         -0.200684   \n",
            "rougher.state.floatbank10_d_air                           -0.211289   \n",
            "rougher.state.floatbank10_d_level                         -0.194416   \n",
            "rougher.state.floatbank10_e_air                           -0.087985   \n",
            "rougher.state.floatbank10_e_level                         -0.221647   \n",
            "rougher.state.floatbank10_f_air                           -0.075430   \n",
            "rougher.state.floatbank10_f_level                         -0.210871   \n",
            "rougher.input.floatbank11_sulfate                          0.220082   \n",
            "rougher.input.floatbank11_xanthate                         0.537218   \n",
            "primary_cleaner.input.sulfate                              0.235410   \n",
            "primary_cleaner.input.depressant                           0.055682   \n",
            "primary_cleaner.input.feed_size                           -0.010695   \n",
            "primary_cleaner.input.xanthate                             0.263996   \n",
            "primary_cleaner.state.floatbank8_a_air                    -0.073102   \n",
            "primary_cleaner.state.floatbank8_a_level                   0.007920   \n",
            "primary_cleaner.state.floatbank8_b_air                    -0.089011   \n",
            "primary_cleaner.state.floatbank8_b_level                  -0.004279   \n",
            "primary_cleaner.state.floatbank8_c_air                    -0.103329   \n",
            "primary_cleaner.state.floatbank8_c_level                   0.008450   \n",
            "primary_cleaner.state.floatbank8_d_air                    -0.072282   \n",
            "primary_cleaner.state.floatbank8_d_level                  -0.016715   \n",
            "secondary_cleaner.state.floatbank2_a_air                   0.064099   \n",
            "secondary_cleaner.state.floatbank2_a_level                 0.017912   \n",
            "secondary_cleaner.state.floatbank2_b_air                   0.045494   \n",
            "secondary_cleaner.state.floatbank2_b_level                -0.004758   \n",
            "secondary_cleaner.state.floatbank3_a_air                  -0.061384   \n",
            "secondary_cleaner.state.floatbank3_a_level                -0.150728   \n",
            "secondary_cleaner.state.floatbank3_b_air                  -0.150633   \n",
            "secondary_cleaner.state.floatbank3_b_level                -0.011942   \n",
            "secondary_cleaner.state.floatbank4_a_air                   0.083570   \n",
            "secondary_cleaner.state.floatbank4_a_level                -0.218347   \n",
            "secondary_cleaner.state.floatbank4_b_air                  -0.034213   \n",
            "secondary_cleaner.state.floatbank4_b_level                -0.050217   \n",
            "secondary_cleaner.state.floatbank5_a_air                  -0.057870   \n",
            "secondary_cleaner.state.floatbank5_a_level                -0.193074   \n",
            "secondary_cleaner.state.floatbank5_b_air                  -0.088135   \n",
            "secondary_cleaner.state.floatbank5_b_level                -0.180032   \n",
            "secondary_cleaner.state.floatbank6_a_air                  -0.288715   \n",
            "secondary_cleaner.state.floatbank6_a_level                 0.037061   \n",
            "\n",
            "                                            rougher.input.feed_size  \\\n",
            "rougher.input.feed_au                                     -0.224715   \n",
            "rougher.input.feed_ag                                     -0.173862   \n",
            "rougher.input.feed_pb                                     -0.045197   \n",
            "rougher.input.feed_sol                                     0.318838   \n",
            "rougher.input.feed_rate                                    0.350958   \n",
            "rougher.input.feed_size                                    1.000000   \n",
            "rougher.input.floatbank10_sulfate                         -0.105541   \n",
            "rougher.input.floatbank10_xanthate                         0.142943   \n",
            "rougher.state.floatbank10_a_air                            0.148044   \n",
            "rougher.state.floatbank10_a_level                          0.271007   \n",
            "rougher.state.floatbank10_b_air                           -0.243692   \n",
            "rougher.state.floatbank10_b_level                         -0.186116   \n",
            "rougher.state.floatbank10_c_air                           -0.265286   \n",
            "rougher.state.floatbank10_c_level                         -0.168124   \n",
            "rougher.state.floatbank10_d_air                           -0.277205   \n",
            "rougher.state.floatbank10_d_level                         -0.156425   \n",
            "rougher.state.floatbank10_e_air                           -0.133726   \n",
            "rougher.state.floatbank10_e_level                         -0.180058   \n",
            "rougher.state.floatbank10_f_air                           -0.128172   \n",
            "rougher.state.floatbank10_f_level                         -0.205367   \n",
            "rougher.input.floatbank11_sulfate                         -0.073972   \n",
            "rougher.input.floatbank11_xanthate                         0.165185   \n",
            "primary_cleaner.input.sulfate                             -0.028170   \n",
            "primary_cleaner.input.depressant                          -0.004464   \n",
            "primary_cleaner.input.feed_size                           -0.077002   \n",
            "primary_cleaner.input.xanthate                             0.064587   \n",
            "primary_cleaner.state.floatbank8_a_air                     0.018489   \n",
            "primary_cleaner.state.floatbank8_a_level                   0.027152   \n",
            "primary_cleaner.state.floatbank8_b_air                    -0.007188   \n",
            "primary_cleaner.state.floatbank8_b_level                  -0.043749   \n",
            "primary_cleaner.state.floatbank8_c_air                     0.017259   \n",
            "primary_cleaner.state.floatbank8_c_level                   0.006247   \n",
            "primary_cleaner.state.floatbank8_d_air                     0.009815   \n",
            "primary_cleaner.state.floatbank8_d_level                  -0.026812   \n",
            "secondary_cleaner.state.floatbank2_a_air                   0.124518   \n",
            "secondary_cleaner.state.floatbank2_a_level                 0.007970   \n",
            "secondary_cleaner.state.floatbank2_b_air                   0.083610   \n",
            "secondary_cleaner.state.floatbank2_b_level                -0.000396   \n",
            "secondary_cleaner.state.floatbank3_a_air                   0.071299   \n",
            "secondary_cleaner.state.floatbank3_a_level                -0.039751   \n",
            "secondary_cleaner.state.floatbank3_b_air                  -0.070908   \n",
            "secondary_cleaner.state.floatbank3_b_level                 0.014993   \n",
            "secondary_cleaner.state.floatbank4_a_air                   0.255038   \n",
            "secondary_cleaner.state.floatbank4_a_level                -0.091452   \n",
            "secondary_cleaner.state.floatbank4_b_air                   0.129267   \n",
            "secondary_cleaner.state.floatbank4_b_level                -0.008041   \n",
            "secondary_cleaner.state.floatbank5_a_air                   0.117660   \n",
            "secondary_cleaner.state.floatbank5_a_level                -0.084532   \n",
            "secondary_cleaner.state.floatbank5_b_air                   0.074408   \n",
            "secondary_cleaner.state.floatbank5_b_level                -0.084188   \n",
            "secondary_cleaner.state.floatbank6_a_air                  -0.148957   \n",
            "secondary_cleaner.state.floatbank6_a_level                 0.041748   \n",
            "\n",
            "                                            rougher.input.floatbank10_sulfate  \\\n",
            "rougher.input.feed_au                                                0.383709   \n",
            "rougher.input.feed_ag                                                0.199531   \n",
            "rougher.input.feed_pb                                                0.224535   \n",
            "rougher.input.feed_sol                                               0.253770   \n",
            "rougher.input.feed_rate                                              0.175090   \n",
            "rougher.input.feed_size                                             -0.105541   \n",
            "rougher.input.floatbank10_sulfate                                    1.000000   \n",
            "rougher.input.floatbank10_xanthate                                   0.078372   \n",
            "rougher.state.floatbank10_a_air                                     -0.224943   \n",
            "rougher.state.floatbank10_a_level                                    0.065106   \n",
            "rougher.state.floatbank10_b_air                                      0.024383   \n",
            "rougher.state.floatbank10_b_level                                    0.166719   \n",
            "rougher.state.floatbank10_c_air                                      0.040219   \n",
            "rougher.state.floatbank10_c_level                                    0.166563   \n",
            "rougher.state.floatbank10_d_air                                     -0.003566   \n",
            "rougher.state.floatbank10_d_level                                    0.167277   \n",
            "rougher.state.floatbank10_e_air                                     -0.108322   \n",
            "rougher.state.floatbank10_e_level                                    0.163472   \n",
            "rougher.state.floatbank10_f_air                                     -0.096325   \n",
            "rougher.state.floatbank10_f_level                                    0.170730   \n",
            "rougher.input.floatbank11_sulfate                                    0.940737   \n",
            "rougher.input.floatbank11_xanthate                                   0.062562   \n",
            "primary_cleaner.input.sulfate                                        0.540963   \n",
            "primary_cleaner.input.depressant                                     0.161341   \n",
            "primary_cleaner.input.feed_size                                     -0.016904   \n",
            "primary_cleaner.input.xanthate                                       0.272262   \n",
            "primary_cleaner.state.floatbank8_a_air                              -0.111347   \n",
            "primary_cleaner.state.floatbank8_a_level                            -0.226819   \n",
            "primary_cleaner.state.floatbank8_b_air                              -0.089099   \n",
            "primary_cleaner.state.floatbank8_b_level                            -0.191338   \n",
            "primary_cleaner.state.floatbank8_c_air                              -0.161753   \n",
            "primary_cleaner.state.floatbank8_c_level                            -0.208458   \n",
            "primary_cleaner.state.floatbank8_d_air                               0.120151   \n",
            "primary_cleaner.state.floatbank8_d_level                            -0.146643   \n",
            "secondary_cleaner.state.floatbank2_a_air                            -0.202347   \n",
            "secondary_cleaner.state.floatbank2_a_level                           0.002004   \n",
            "secondary_cleaner.state.floatbank2_b_air                            -0.176438   \n",
            "secondary_cleaner.state.floatbank2_b_level                           0.012749   \n",
            "secondary_cleaner.state.floatbank3_a_air                            -0.313648   \n",
            "secondary_cleaner.state.floatbank3_a_level                          -0.045298   \n",
            "secondary_cleaner.state.floatbank3_b_air                            -0.198785   \n",
            "secondary_cleaner.state.floatbank3_b_level                          -0.048545   \n",
            "secondary_cleaner.state.floatbank4_a_air                            -0.325822   \n",
            "secondary_cleaner.state.floatbank4_a_level                           0.001742   \n",
            "secondary_cleaner.state.floatbank4_b_air                            -0.235729   \n",
            "secondary_cleaner.state.floatbank4_b_level                           0.398889   \n",
            "secondary_cleaner.state.floatbank5_a_air                            -0.271937   \n",
            "secondary_cleaner.state.floatbank5_a_level                          -0.010086   \n",
            "secondary_cleaner.state.floatbank5_b_air                            -0.239486   \n",
            "secondary_cleaner.state.floatbank5_b_level                           0.028081   \n",
            "secondary_cleaner.state.floatbank6_a_air                            -0.222429   \n",
            "secondary_cleaner.state.floatbank6_a_level                           0.030560   \n",
            "\n",
            "                                            rougher.input.floatbank10_xanthate  \\\n",
            "rougher.input.feed_au                                                 0.218419   \n",
            "rougher.input.feed_ag                                                 0.216365   \n",
            "rougher.input.feed_pb                                                 0.074750   \n",
            "rougher.input.feed_sol                                                0.334532   \n",
            "rougher.input.feed_rate                                               0.563415   \n",
            "rougher.input.feed_size                                               0.142943   \n",
            "rougher.input.floatbank10_sulfate                                     0.078372   \n",
            "rougher.input.floatbank10_xanthate                                    1.000000   \n",
            "rougher.state.floatbank10_a_air                                       0.118417   \n",
            "rougher.state.floatbank10_a_level                                    -0.059782   \n",
            "rougher.state.floatbank10_b_air                                      -0.110863   \n",
            "rougher.state.floatbank10_b_level                                    -0.274262   \n",
            "rougher.state.floatbank10_c_air                                      -0.172785   \n",
            "rougher.state.floatbank10_c_level                                    -0.295111   \n",
            "rougher.state.floatbank10_d_air                                      -0.131768   \n",
            "rougher.state.floatbank10_d_level                                    -0.290718   \n",
            "rougher.state.floatbank10_e_air                                       0.025743   \n",
            "rougher.state.floatbank10_e_level                                    -0.278272   \n",
            "rougher.state.floatbank10_f_air                                      -0.016801   \n",
            "rougher.state.floatbank10_f_level                                    -0.260941   \n",
            "rougher.input.floatbank11_sulfate                                     0.098549   \n",
            "rougher.input.floatbank11_xanthate                                    0.961247   \n",
            "primary_cleaner.input.sulfate                                         0.432970   \n",
            "primary_cleaner.input.depressant                                      0.345743   \n",
            "primary_cleaner.input.feed_size                                       0.008854   \n",
            "primary_cleaner.input.xanthate                                        0.380388   \n",
            "primary_cleaner.state.floatbank8_a_air                               -0.038284   \n",
            "primary_cleaner.state.floatbank8_a_level                              0.100146   \n",
            "primary_cleaner.state.floatbank8_b_air                                0.029268   \n",
            "primary_cleaner.state.floatbank8_b_level                              0.122197   \n",
            "primary_cleaner.state.floatbank8_c_air                               -0.002323   \n",
            "primary_cleaner.state.floatbank8_c_level                              0.115178   \n",
            "primary_cleaner.state.floatbank8_d_air                               -0.070077   \n",
            "primary_cleaner.state.floatbank8_d_level                              0.024598   \n",
            "secondary_cleaner.state.floatbank2_a_air                             -0.034570   \n",
            "secondary_cleaner.state.floatbank2_a_level                            0.054305   \n",
            "secondary_cleaner.state.floatbank2_b_air                              0.008039   \n",
            "secondary_cleaner.state.floatbank2_b_level                            0.027384   \n",
            "secondary_cleaner.state.floatbank3_a_air                             -0.115093   \n",
            "secondary_cleaner.state.floatbank3_a_level                           -0.131589   \n",
            "secondary_cleaner.state.floatbank3_b_air                             -0.135880   \n",
            "secondary_cleaner.state.floatbank3_b_level                            0.024244   \n",
            "secondary_cleaner.state.floatbank4_a_air                              0.001264   \n",
            "secondary_cleaner.state.floatbank4_a_level                           -0.233818   \n",
            "secondary_cleaner.state.floatbank4_b_air                             -0.055456   \n",
            "secondary_cleaner.state.floatbank4_b_level                           -0.187465   \n",
            "secondary_cleaner.state.floatbank5_a_air                             -0.187379   \n",
            "secondary_cleaner.state.floatbank5_a_level                           -0.174839   \n",
            "secondary_cleaner.state.floatbank5_b_air                             -0.229112   \n",
            "secondary_cleaner.state.floatbank5_b_level                           -0.134157   \n",
            "secondary_cleaner.state.floatbank6_a_air                             -0.332076   \n",
            "secondary_cleaner.state.floatbank6_a_level                            0.059007   \n",
            "\n",
            "                                            rougher.state.floatbank10_a_air  \\\n",
            "rougher.input.feed_au                                              0.045488   \n",
            "rougher.input.feed_ag                                              0.168251   \n",
            "rougher.input.feed_pb                                              0.206702   \n",
            "rougher.input.feed_sol                                             0.187161   \n",
            "rougher.input.feed_rate                                            0.048329   \n",
            "rougher.input.feed_size                                            0.148044   \n",
            "rougher.input.floatbank10_sulfate                                 -0.224943   \n",
            "rougher.input.floatbank10_xanthate                                 0.118417   \n",
            "rougher.state.floatbank10_a_air                                    1.000000   \n",
            "rougher.state.floatbank10_a_level                                  0.528229   \n",
            "rougher.state.floatbank10_b_air                                   -0.273224   \n",
            "rougher.state.floatbank10_b_level                                 -0.174008   \n",
            "rougher.state.floatbank10_c_air                                   -0.365038   \n",
            "rougher.state.floatbank10_c_level                                 -0.171866   \n",
            "rougher.state.floatbank10_d_air                                   -0.382080   \n",
            "rougher.state.floatbank10_d_level                                 -0.167913   \n",
            "rougher.state.floatbank10_e_air                                   -0.198075   \n",
            "rougher.state.floatbank10_e_level                                 -0.163091   \n",
            "rougher.state.floatbank10_f_air                                   -0.127314   \n",
            "rougher.state.floatbank10_f_level                                 -0.154839   \n",
            "rougher.input.floatbank11_sulfate                                 -0.201833   \n",
            "rougher.input.floatbank11_xanthate                                 0.097487   \n",
            "primary_cleaner.input.sulfate                                      0.055643   \n",
            "primary_cleaner.input.depressant                                   0.057308   \n",
            "primary_cleaner.input.feed_size                                   -0.191821   \n",
            "primary_cleaner.input.xanthate                                     0.047425   \n",
            "primary_cleaner.state.floatbank8_a_air                             0.373142   \n",
            "primary_cleaner.state.floatbank8_a_level                           0.038597   \n",
            "primary_cleaner.state.floatbank8_b_air                             0.399512   \n",
            "primary_cleaner.state.floatbank8_b_level                           0.020537   \n",
            "primary_cleaner.state.floatbank8_c_air                             0.408120   \n",
            "primary_cleaner.state.floatbank8_c_level                           0.022546   \n",
            "primary_cleaner.state.floatbank8_d_air                             0.219107   \n",
            "primary_cleaner.state.floatbank8_d_level                          -0.016465   \n",
            "secondary_cleaner.state.floatbank2_a_air                           0.306451   \n",
            "secondary_cleaner.state.floatbank2_a_level                        -0.177220   \n",
            "secondary_cleaner.state.floatbank2_b_air                           0.280057   \n",
            "secondary_cleaner.state.floatbank2_b_level                        -0.169835   \n",
            "secondary_cleaner.state.floatbank3_a_air                           0.398870   \n",
            "secondary_cleaner.state.floatbank3_a_level                         0.188987   \n",
            "secondary_cleaner.state.floatbank3_b_air                           0.153755   \n",
            "secondary_cleaner.state.floatbank3_b_level                        -0.065361   \n",
            "secondary_cleaner.state.floatbank4_a_air                           0.537266   \n",
            "secondary_cleaner.state.floatbank4_a_level                         0.199749   \n",
            "secondary_cleaner.state.floatbank4_b_air                           0.490853   \n",
            "secondary_cleaner.state.floatbank4_b_level                        -0.113891   \n",
            "secondary_cleaner.state.floatbank5_a_air                           0.509640   \n",
            "secondary_cleaner.state.floatbank5_a_level                         0.061759   \n",
            "secondary_cleaner.state.floatbank5_b_air                           0.452065   \n",
            "secondary_cleaner.state.floatbank5_b_level                         0.048457   \n",
            "secondary_cleaner.state.floatbank6_a_air                           0.015774   \n",
            "secondary_cleaner.state.floatbank6_a_level                        -0.034731   \n",
            "\n",
            "                                            rougher.state.floatbank10_a_level  \\\n",
            "rougher.input.feed_au                                               -0.239402   \n",
            "rougher.input.feed_ag                                               -0.261213   \n",
            "rougher.input.feed_pb                                                0.200647   \n",
            "rougher.input.feed_sol                                               0.328709   \n",
            "rougher.input.feed_rate                                              0.179759   \n",
            "rougher.input.feed_size                                              0.271007   \n",
            "rougher.input.floatbank10_sulfate                                    0.065106   \n",
            "rougher.input.floatbank10_xanthate                                  -0.059782   \n",
            "rougher.state.floatbank10_a_air                                      0.528229   \n",
            "rougher.state.floatbank10_a_level                                    1.000000   \n",
            "rougher.state.floatbank10_b_air                                     -0.436616   \n",
            "rougher.state.floatbank10_b_level                                   -0.132640   \n",
            "rougher.state.floatbank10_c_air                                     -0.460403   \n",
            "rougher.state.floatbank10_c_level                                   -0.124197   \n",
            "rougher.state.floatbank10_d_air                                     -0.521716   \n",
            "rougher.state.floatbank10_d_level                                   -0.122248   \n",
            "rougher.state.floatbank10_e_air                                     -0.374550   \n",
            "rougher.state.floatbank10_e_level                                   -0.140140   \n",
            "rougher.state.floatbank10_f_air                                     -0.291509   \n",
            "rougher.state.floatbank10_f_level                                   -0.134598   \n",
            "rougher.input.floatbank11_sulfate                                    0.043987   \n",
            "rougher.input.floatbank11_xanthate                                  -0.075952   \n",
            "primary_cleaner.input.sulfate                                       -0.042926   \n",
            "primary_cleaner.input.depressant                                    -0.243635   \n",
            "primary_cleaner.input.feed_size                                     -0.346016   \n",
            "primary_cleaner.input.xanthate                                       0.005510   \n",
            "primary_cleaner.state.floatbank8_a_air                               0.157295   \n",
            "primary_cleaner.state.floatbank8_a_level                            -0.099935   \n",
            "primary_cleaner.state.floatbank8_b_air                               0.126821   \n",
            "primary_cleaner.state.floatbank8_b_level                            -0.126232   \n",
            "primary_cleaner.state.floatbank8_c_air                               0.177703   \n",
            "primary_cleaner.state.floatbank8_c_level                            -0.132227   \n",
            "primary_cleaner.state.floatbank8_d_air                               0.263886   \n",
            "primary_cleaner.state.floatbank8_d_level                            -0.079026   \n",
            "secondary_cleaner.state.floatbank2_a_air                             0.349673   \n",
            "secondary_cleaner.state.floatbank2_a_level                          -0.166851   \n",
            "secondary_cleaner.state.floatbank2_b_air                             0.274187   \n",
            "secondary_cleaner.state.floatbank2_b_level                          -0.135791   \n",
            "secondary_cleaner.state.floatbank3_a_air                             0.302082   \n",
            "secondary_cleaner.state.floatbank3_a_level                           0.047267   \n",
            "secondary_cleaner.state.floatbank3_b_air                             0.034599   \n",
            "secondary_cleaner.state.floatbank3_b_level                          -0.108847   \n",
            "secondary_cleaner.state.floatbank4_a_air                             0.559538   \n",
            "secondary_cleaner.state.floatbank4_a_level                           0.049549   \n",
            "secondary_cleaner.state.floatbank4_b_air                             0.461481   \n",
            "secondary_cleaner.state.floatbank4_b_level                           0.182614   \n",
            "secondary_cleaner.state.floatbank5_a_air                             0.454368   \n",
            "secondary_cleaner.state.floatbank5_a_level                          -0.075071   \n",
            "secondary_cleaner.state.floatbank5_b_air                             0.437346   \n",
            "secondary_cleaner.state.floatbank5_b_level                          -0.065385   \n",
            "secondary_cleaner.state.floatbank6_a_air                            -0.242854   \n",
            "secondary_cleaner.state.floatbank6_a_level                           0.074547   \n",
            "\n",
            "                                            ...  \\\n",
            "rougher.input.feed_au                       ...   \n",
            "rougher.input.feed_ag                       ...   \n",
            "rougher.input.feed_pb                       ...   \n",
            "rougher.input.feed_sol                      ...   \n",
            "rougher.input.feed_rate                     ...   \n",
            "rougher.input.feed_size                     ...   \n",
            "rougher.input.floatbank10_sulfate           ...   \n",
            "rougher.input.floatbank10_xanthate          ...   \n",
            "rougher.state.floatbank10_a_air             ...   \n",
            "rougher.state.floatbank10_a_level           ...   \n",
            "rougher.state.floatbank10_b_air             ...   \n",
            "rougher.state.floatbank10_b_level           ...   \n",
            "rougher.state.floatbank10_c_air             ...   \n",
            "rougher.state.floatbank10_c_level           ...   \n",
            "rougher.state.floatbank10_d_air             ...   \n",
            "rougher.state.floatbank10_d_level           ...   \n",
            "rougher.state.floatbank10_e_air             ...   \n",
            "rougher.state.floatbank10_e_level           ...   \n",
            "rougher.state.floatbank10_f_air             ...   \n",
            "rougher.state.floatbank10_f_level           ...   \n",
            "rougher.input.floatbank11_sulfate           ...   \n",
            "rougher.input.floatbank11_xanthate          ...   \n",
            "primary_cleaner.input.sulfate               ...   \n",
            "primary_cleaner.input.depressant            ...   \n",
            "primary_cleaner.input.feed_size             ...   \n",
            "primary_cleaner.input.xanthate              ...   \n",
            "primary_cleaner.state.floatbank8_a_air      ...   \n",
            "primary_cleaner.state.floatbank8_a_level    ...   \n",
            "primary_cleaner.state.floatbank8_b_air      ...   \n",
            "primary_cleaner.state.floatbank8_b_level    ...   \n",
            "primary_cleaner.state.floatbank8_c_air      ...   \n",
            "primary_cleaner.state.floatbank8_c_level    ...   \n",
            "primary_cleaner.state.floatbank8_d_air      ...   \n",
            "primary_cleaner.state.floatbank8_d_level    ...   \n",
            "secondary_cleaner.state.floatbank2_a_air    ...   \n",
            "secondary_cleaner.state.floatbank2_a_level  ...   \n",
            "secondary_cleaner.state.floatbank2_b_air    ...   \n",
            "secondary_cleaner.state.floatbank2_b_level  ...   \n",
            "secondary_cleaner.state.floatbank3_a_air    ...   \n",
            "secondary_cleaner.state.floatbank3_a_level  ...   \n",
            "secondary_cleaner.state.floatbank3_b_air    ...   \n",
            "secondary_cleaner.state.floatbank3_b_level  ...   \n",
            "secondary_cleaner.state.floatbank4_a_air    ...   \n",
            "secondary_cleaner.state.floatbank4_a_level  ...   \n",
            "secondary_cleaner.state.floatbank4_b_air    ...   \n",
            "secondary_cleaner.state.floatbank4_b_level  ...   \n",
            "secondary_cleaner.state.floatbank5_a_air    ...   \n",
            "secondary_cleaner.state.floatbank5_a_level  ...   \n",
            "secondary_cleaner.state.floatbank5_b_air    ...   \n",
            "secondary_cleaner.state.floatbank5_b_level  ...   \n",
            "secondary_cleaner.state.floatbank6_a_air    ...   \n",
            "secondary_cleaner.state.floatbank6_a_level  ...   \n",
            "\n",
            "                                            secondary_cleaner.state.floatbank4_a_air  \\\n",
            "rougher.input.feed_au                                                      -0.239158   \n",
            "rougher.input.feed_ag                                                      -0.132480   \n",
            "rougher.input.feed_pb                                                       0.118744   \n",
            "rougher.input.feed_sol                                                      0.233878   \n",
            "rougher.input.feed_rate                                                     0.083570   \n",
            "rougher.input.feed_size                                                     0.255038   \n",
            "rougher.input.floatbank10_sulfate                                          -0.325822   \n",
            "rougher.input.floatbank10_xanthate                                          0.001264   \n",
            "rougher.state.floatbank10_a_air                                             0.537266   \n",
            "rougher.state.floatbank10_a_level                                           0.559538   \n",
            "rougher.state.floatbank10_b_air                                            -0.273924   \n",
            "rougher.state.floatbank10_b_level                                          -0.048299   \n",
            "rougher.state.floatbank10_c_air                                            -0.279645   \n",
            "rougher.state.floatbank10_c_level                                          -0.044080   \n",
            "rougher.state.floatbank10_d_air                                            -0.324748   \n",
            "rougher.state.floatbank10_d_level                                          -0.044033   \n",
            "rougher.state.floatbank10_e_air                                            -0.138317   \n",
            "rougher.state.floatbank10_e_level                                          -0.031829   \n",
            "rougher.state.floatbank10_f_air                                            -0.109923   \n",
            "rougher.state.floatbank10_f_level                                          -0.027684   \n",
            "rougher.input.floatbank11_sulfate                                          -0.316115   \n",
            "rougher.input.floatbank11_xanthate                                         -0.025908   \n",
            "primary_cleaner.input.sulfate                                              -0.117708   \n",
            "primary_cleaner.input.depressant                                           -0.179202   \n",
            "primary_cleaner.input.feed_size                                            -0.267604   \n",
            "primary_cleaner.input.xanthate                                             -0.096530   \n",
            "primary_cleaner.state.floatbank8_a_air                                      0.485537   \n",
            "primary_cleaner.state.floatbank8_a_level                                    0.089219   \n",
            "primary_cleaner.state.floatbank8_b_air                                      0.410026   \n",
            "primary_cleaner.state.floatbank8_b_level                                    0.043513   \n",
            "primary_cleaner.state.floatbank8_c_air                                      0.503246   \n",
            "primary_cleaner.state.floatbank8_c_level                                    0.037010   \n",
            "primary_cleaner.state.floatbank8_d_air                                      0.247711   \n",
            "primary_cleaner.state.floatbank8_d_level                                   -0.020145   \n",
            "secondary_cleaner.state.floatbank2_a_air                                    0.570097   \n",
            "secondary_cleaner.state.floatbank2_a_level                                 -0.094636   \n",
            "secondary_cleaner.state.floatbank2_b_air                                    0.492188   \n",
            "secondary_cleaner.state.floatbank2_b_level                                 -0.064299   \n",
            "secondary_cleaner.state.floatbank3_a_air                                    0.673613   \n",
            "secondary_cleaner.state.floatbank3_a_level                                  0.101870   \n",
            "secondary_cleaner.state.floatbank3_b_air                                    0.396991   \n",
            "secondary_cleaner.state.floatbank3_b_level                                 -0.092710   \n",
            "secondary_cleaner.state.floatbank4_a_air                                    1.000000   \n",
            "secondary_cleaner.state.floatbank4_a_level                                  0.239317   \n",
            "secondary_cleaner.state.floatbank4_b_air                                    0.866514   \n",
            "secondary_cleaner.state.floatbank4_b_level                                  0.013813   \n",
            "secondary_cleaner.state.floatbank5_a_air                                    0.800994   \n",
            "secondary_cleaner.state.floatbank5_a_level                                  0.098912   \n",
            "secondary_cleaner.state.floatbank5_b_air                                    0.770195   \n",
            "secondary_cleaner.state.floatbank5_b_level                                  0.072627   \n",
            "secondary_cleaner.state.floatbank6_a_air                                    0.239045   \n",
            "secondary_cleaner.state.floatbank6_a_level                                 -0.001651   \n",
            "\n",
            "                                            secondary_cleaner.state.floatbank4_a_level  \\\n",
            "rougher.input.feed_au                                                         0.079183   \n",
            "rougher.input.feed_ag                                                         0.110591   \n",
            "rougher.input.feed_pb                                                         0.047479   \n",
            "rougher.input.feed_sol                                                       -0.071928   \n",
            "rougher.input.feed_rate                                                      -0.218347   \n",
            "rougher.input.feed_size                                                      -0.091452   \n",
            "rougher.input.floatbank10_sulfate                                             0.001742   \n",
            "rougher.input.floatbank10_xanthate                                           -0.233818   \n",
            "rougher.state.floatbank10_a_air                                               0.199749   \n",
            "rougher.state.floatbank10_a_level                                             0.049549   \n",
            "rougher.state.floatbank10_b_air                                               0.262364   \n",
            "rougher.state.floatbank10_b_level                                             0.372211   \n",
            "rougher.state.floatbank10_c_air                                               0.257857   \n",
            "rougher.state.floatbank10_c_level                                             0.387359   \n",
            "rougher.state.floatbank10_d_air                                               0.172373   \n",
            "rougher.state.floatbank10_d_level                                             0.381802   \n",
            "rougher.state.floatbank10_e_air                                               0.100702   \n",
            "rougher.state.floatbank10_e_level                                             0.356305   \n",
            "rougher.state.floatbank10_f_air                                               0.140110   \n",
            "rougher.state.floatbank10_f_level                                             0.362227   \n",
            "rougher.input.floatbank11_sulfate                                             0.006239   \n",
            "rougher.input.floatbank11_xanthate                                           -0.238068   \n",
            "primary_cleaner.input.sulfate                                                -0.013545   \n",
            "primary_cleaner.input.depressant                                             -0.040070   \n",
            "primary_cleaner.input.feed_size                                               0.122504   \n",
            "primary_cleaner.input.xanthate                                               -0.173329   \n",
            "primary_cleaner.state.floatbank8_a_air                                        0.302490   \n",
            "primary_cleaner.state.floatbank8_a_level                                      0.078312   \n",
            "primary_cleaner.state.floatbank8_b_air                                        0.298400   \n",
            "primary_cleaner.state.floatbank8_b_level                                      0.112397   \n",
            "primary_cleaner.state.floatbank8_c_air                                        0.301658   \n",
            "primary_cleaner.state.floatbank8_c_level                                      0.092387   \n",
            "primary_cleaner.state.floatbank8_d_air                                        0.085305   \n",
            "primary_cleaner.state.floatbank8_d_level                                      0.055951   \n",
            "secondary_cleaner.state.floatbank2_a_air                                      0.037651   \n",
            "secondary_cleaner.state.floatbank2_a_level                                    0.047263   \n",
            "secondary_cleaner.state.floatbank2_b_air                                     -0.003367   \n",
            "secondary_cleaner.state.floatbank2_b_level                                    0.087157   \n",
            "secondary_cleaner.state.floatbank3_a_air                                      0.181478   \n",
            "secondary_cleaner.state.floatbank3_a_level                                    0.591878   \n",
            "secondary_cleaner.state.floatbank3_b_air                                      0.123367   \n",
            "secondary_cleaner.state.floatbank3_b_level                                    0.340069   \n",
            "secondary_cleaner.state.floatbank4_a_air                                      0.239317   \n",
            "secondary_cleaner.state.floatbank4_a_level                                    1.000000   \n",
            "secondary_cleaner.state.floatbank4_b_air                                      0.249025   \n",
            "secondary_cleaner.state.floatbank4_b_level                                    0.538502   \n",
            "secondary_cleaner.state.floatbank5_a_air                                      0.238426   \n",
            "secondary_cleaner.state.floatbank5_a_level                                    0.723593   \n",
            "secondary_cleaner.state.floatbank5_b_air                                      0.233088   \n",
            "secondary_cleaner.state.floatbank5_b_level                                    0.591876   \n",
            "secondary_cleaner.state.floatbank6_a_air                                      0.462287   \n",
            "secondary_cleaner.state.floatbank6_a_level                                    0.182704   \n",
            "\n",
            "                                            secondary_cleaner.state.floatbank4_b_air  \\\n",
            "rougher.input.feed_au                                                      -0.111285   \n",
            "rougher.input.feed_ag                                                      -0.048134   \n",
            "rougher.input.feed_pb                                                       0.204102   \n",
            "rougher.input.feed_sol                                                      0.156255   \n",
            "rougher.input.feed_rate                                                    -0.034213   \n",
            "rougher.input.feed_size                                                     0.129267   \n",
            "rougher.input.floatbank10_sulfate                                          -0.235729   \n",
            "rougher.input.floatbank10_xanthate                                         -0.055456   \n",
            "rougher.state.floatbank10_a_air                                             0.490853   \n",
            "rougher.state.floatbank10_a_level                                           0.461481   \n",
            "rougher.state.floatbank10_b_air                                            -0.181074   \n",
            "rougher.state.floatbank10_b_level                                          -0.060866   \n",
            "rougher.state.floatbank10_c_air                                            -0.179379   \n",
            "rougher.state.floatbank10_c_level                                          -0.061054   \n",
            "rougher.state.floatbank10_d_air                                            -0.220511   \n",
            "rougher.state.floatbank10_d_level                                          -0.063180   \n",
            "rougher.state.floatbank10_e_air                                            -0.109734   \n",
            "rougher.state.floatbank10_e_level                                          -0.037202   \n",
            "rougher.state.floatbank10_f_air                                            -0.026035   \n",
            "rougher.state.floatbank10_f_level                                          -0.031081   \n",
            "rougher.input.floatbank11_sulfate                                          -0.222087   \n",
            "rougher.input.floatbank11_xanthate                                         -0.075991   \n",
            "primary_cleaner.input.sulfate                                              -0.003235   \n",
            "primary_cleaner.input.depressant                                           -0.115301   \n",
            "primary_cleaner.input.feed_size                                            -0.214750   \n",
            "primary_cleaner.input.xanthate                                             -0.025793   \n",
            "primary_cleaner.state.floatbank8_a_air                                      0.475206   \n",
            "primary_cleaner.state.floatbank8_a_level                                    0.154912   \n",
            "primary_cleaner.state.floatbank8_b_air                                      0.409509   \n",
            "primary_cleaner.state.floatbank8_b_level                                    0.121234   \n",
            "primary_cleaner.state.floatbank8_c_air                                      0.492477   \n",
            "primary_cleaner.state.floatbank8_c_level                                    0.121938   \n",
            "primary_cleaner.state.floatbank8_d_air                                      0.200967   \n",
            "primary_cleaner.state.floatbank8_d_level                                    0.048678   \n",
            "secondary_cleaner.state.floatbank2_a_air                                    0.512301   \n",
            "secondary_cleaner.state.floatbank2_a_level                                 -0.151504   \n",
            "secondary_cleaner.state.floatbank2_b_air                                    0.591452   \n",
            "secondary_cleaner.state.floatbank2_b_level                                 -0.108422   \n",
            "secondary_cleaner.state.floatbank3_a_air                                    0.714587   \n",
            "secondary_cleaner.state.floatbank3_a_level                                  0.089757   \n",
            "secondary_cleaner.state.floatbank3_b_air                                    0.586585   \n",
            "secondary_cleaner.state.floatbank3_b_level                                 -0.224650   \n",
            "secondary_cleaner.state.floatbank4_a_air                                    0.866514   \n",
            "secondary_cleaner.state.floatbank4_a_level                                  0.249025   \n",
            "secondary_cleaner.state.floatbank4_b_air                                    1.000000   \n",
            "secondary_cleaner.state.floatbank4_b_level                                  0.013295   \n",
            "secondary_cleaner.state.floatbank5_a_air                                    0.790131   \n",
            "secondary_cleaner.state.floatbank5_a_level                                  0.035966   \n",
            "secondary_cleaner.state.floatbank5_b_air                                    0.858803   \n",
            "secondary_cleaner.state.floatbank5_b_level                                  0.040396   \n",
            "secondary_cleaner.state.floatbank6_a_air                                    0.333770   \n",
            "secondary_cleaner.state.floatbank6_a_level                                 -0.063025   \n",
            "\n",
            "                                            secondary_cleaner.state.floatbank4_b_level  \\\n",
            "rougher.input.feed_au                                                        -0.001285   \n",
            "rougher.input.feed_ag                                                        -0.072265   \n",
            "rougher.input.feed_pb                                                        -0.033702   \n",
            "rougher.input.feed_sol                                                        0.120338   \n",
            "rougher.input.feed_rate                                                      -0.050217   \n",
            "rougher.input.feed_size                                                      -0.008041   \n",
            "rougher.input.floatbank10_sulfate                                             0.398889   \n",
            "rougher.input.floatbank10_xanthate                                           -0.187465   \n",
            "rougher.state.floatbank10_a_air                                              -0.113891   \n",
            "rougher.state.floatbank10_a_level                                             0.182614   \n",
            "rougher.state.floatbank10_b_air                                               0.114047   \n",
            "rougher.state.floatbank10_b_level                                             0.272573   \n",
            "rougher.state.floatbank10_c_air                                               0.137092   \n",
            "rougher.state.floatbank10_c_level                                             0.285662   \n",
            "rougher.state.floatbank10_d_air                                               0.045121   \n",
            "rougher.state.floatbank10_d_level                                             0.284518   \n",
            "rougher.state.floatbank10_e_air                                              -0.011484   \n",
            "rougher.state.floatbank10_e_level                                             0.252748   \n",
            "rougher.state.floatbank10_f_air                                               0.006195   \n",
            "rougher.state.floatbank10_f_level                                             0.255698   \n",
            "rougher.input.floatbank11_sulfate                                             0.360010   \n",
            "rougher.input.floatbank11_xanthate                                           -0.192936   \n",
            "primary_cleaner.input.sulfate                                                 0.035973   \n",
            "primary_cleaner.input.depressant                                             -0.169725   \n",
            "primary_cleaner.input.feed_size                                              -0.008388   \n",
            "primary_cleaner.input.xanthate                                               -0.046884   \n",
            "primary_cleaner.state.floatbank8_a_air                                        0.084869   \n",
            "primary_cleaner.state.floatbank8_a_level                                     -0.059820   \n",
            "primary_cleaner.state.floatbank8_b_air                                        0.068923   \n",
            "primary_cleaner.state.floatbank8_b_level                                     -0.049511   \n",
            "primary_cleaner.state.floatbank8_c_air                                        0.079066   \n",
            "primary_cleaner.state.floatbank8_c_level                                     -0.050365   \n",
            "primary_cleaner.state.floatbank8_d_air                                        0.076363   \n",
            "primary_cleaner.state.floatbank8_d_level                                      0.004990   \n",
            "secondary_cleaner.state.floatbank2_a_air                                     -0.087852   \n",
            "secondary_cleaner.state.floatbank2_a_level                                    0.009636   \n",
            "secondary_cleaner.state.floatbank2_b_air                                     -0.151615   \n",
            "secondary_cleaner.state.floatbank2_b_level                                    0.041339   \n",
            "secondary_cleaner.state.floatbank3_a_air                                     -0.071646   \n",
            "secondary_cleaner.state.floatbank3_a_level                                    0.285896   \n",
            "secondary_cleaner.state.floatbank3_b_air                                     -0.148097   \n",
            "secondary_cleaner.state.floatbank3_b_level                                    0.201806   \n",
            "secondary_cleaner.state.floatbank4_a_air                                      0.013813   \n",
            "secondary_cleaner.state.floatbank4_a_level                                    0.538502   \n",
            "secondary_cleaner.state.floatbank4_b_air                                      0.013295   \n",
            "secondary_cleaner.state.floatbank4_b_level                                    1.000000   \n",
            "secondary_cleaner.state.floatbank5_a_air                                      0.005973   \n",
            "secondary_cleaner.state.floatbank5_a_level                                    0.398598   \n",
            "secondary_cleaner.state.floatbank5_b_air                                      0.010994   \n",
            "secondary_cleaner.state.floatbank5_b_level                                    0.336943   \n",
            "secondary_cleaner.state.floatbank6_a_air                                      0.033817   \n",
            "secondary_cleaner.state.floatbank6_a_level                                    0.168844   \n",
            "\n",
            "                                            secondary_cleaner.state.floatbank5_a_air  \\\n",
            "rougher.input.feed_au                                                      -0.292338   \n",
            "rougher.input.feed_ag                                                      -0.197588   \n",
            "rougher.input.feed_pb                                                       0.045723   \n",
            "rougher.input.feed_sol                                                      0.099137   \n",
            "rougher.input.feed_rate                                                    -0.057870   \n",
            "rougher.input.feed_size                                                     0.117660   \n",
            "rougher.input.floatbank10_sulfate                                          -0.271937   \n",
            "rougher.input.floatbank10_xanthate                                         -0.187379   \n",
            "rougher.state.floatbank10_a_air                                             0.509640   \n",
            "rougher.state.floatbank10_a_level                                           0.454368   \n",
            "rougher.state.floatbank10_b_air                                            -0.080252   \n",
            "rougher.state.floatbank10_b_level                                           0.071285   \n",
            "rougher.state.floatbank10_c_air                                            -0.086246   \n",
            "rougher.state.floatbank10_c_level                                           0.078948   \n",
            "rougher.state.floatbank10_d_air                                            -0.114857   \n",
            "rougher.state.floatbank10_d_level                                           0.078492   \n",
            "rougher.state.floatbank10_e_air                                            -0.038028   \n",
            "rougher.state.floatbank10_e_level                                           0.085277   \n",
            "rougher.state.floatbank10_f_air                                             0.030955   \n",
            "rougher.state.floatbank10_f_level                                           0.094104   \n",
            "rougher.input.floatbank11_sulfate                                          -0.276125   \n",
            "rougher.input.floatbank11_xanthate                                         -0.205221   \n",
            "primary_cleaner.input.sulfate                                              -0.195296   \n",
            "primary_cleaner.input.depressant                                           -0.239295   \n",
            "primary_cleaner.input.feed_size                                            -0.222343   \n",
            "primary_cleaner.input.xanthate                                             -0.214578   \n",
            "primary_cleaner.state.floatbank8_a_air                                      0.514782   \n",
            "primary_cleaner.state.floatbank8_a_level                                    0.102635   \n",
            "primary_cleaner.state.floatbank8_b_air                                      0.460768   \n",
            "primary_cleaner.state.floatbank8_b_level                                    0.067499   \n",
            "primary_cleaner.state.floatbank8_c_air                                      0.552163   \n",
            "primary_cleaner.state.floatbank8_c_level                                    0.059659   \n",
            "primary_cleaner.state.floatbank8_d_air                                      0.205803   \n",
            "primary_cleaner.state.floatbank8_d_level                                    0.023604   \n",
            "secondary_cleaner.state.floatbank2_a_air                                    0.505025   \n",
            "secondary_cleaner.state.floatbank2_a_level                                 -0.169983   \n",
            "secondary_cleaner.state.floatbank2_b_air                                    0.451179   \n",
            "secondary_cleaner.state.floatbank2_b_level                                 -0.127177   \n",
            "secondary_cleaner.state.floatbank3_a_air                                    0.658250   \n",
            "secondary_cleaner.state.floatbank3_a_level                                  0.120327   \n",
            "secondary_cleaner.state.floatbank3_b_air                                    0.453237   \n",
            "secondary_cleaner.state.floatbank3_b_level                                 -0.173679   \n",
            "secondary_cleaner.state.floatbank4_a_air                                    0.800994   \n",
            "secondary_cleaner.state.floatbank4_a_level                                  0.238426   \n",
            "secondary_cleaner.state.floatbank4_b_air                                    0.790131   \n",
            "secondary_cleaner.state.floatbank4_b_level                                  0.005973   \n",
            "secondary_cleaner.state.floatbank5_a_air                                    1.000000   \n",
            "secondary_cleaner.state.floatbank5_a_level                                  0.105011   \n",
            "secondary_cleaner.state.floatbank5_b_air                                    0.898035   \n",
            "secondary_cleaner.state.floatbank5_b_level                                  0.085622   \n",
            "secondary_cleaner.state.floatbank6_a_air                                    0.424429   \n",
            "secondary_cleaner.state.floatbank6_a_level                                 -0.016838   \n",
            "\n",
            "                                            secondary_cleaner.state.floatbank5_a_level  \\\n",
            "rougher.input.feed_au                                                         0.081805   \n",
            "rougher.input.feed_ag                                                         0.111015   \n",
            "rougher.input.feed_pb                                                        -0.000921   \n",
            "rougher.input.feed_sol                                                       -0.086480   \n",
            "rougher.input.feed_rate                                                      -0.193074   \n",
            "rougher.input.feed_size                                                      -0.084532   \n",
            "rougher.input.floatbank10_sulfate                                            -0.010086   \n",
            "rougher.input.floatbank10_xanthate                                           -0.174839   \n",
            "rougher.state.floatbank10_a_air                                               0.061759   \n",
            "rougher.state.floatbank10_a_level                                            -0.075071   \n",
            "rougher.state.floatbank10_b_air                                               0.282970   \n",
            "rougher.state.floatbank10_b_level                                             0.400077   \n",
            "rougher.state.floatbank10_c_air                                               0.284357   \n",
            "rougher.state.floatbank10_c_level                                             0.416724   \n",
            "rougher.state.floatbank10_d_air                                               0.207823   \n",
            "rougher.state.floatbank10_d_level                                             0.416007   \n",
            "rougher.state.floatbank10_e_air                                               0.134878   \n",
            "rougher.state.floatbank10_e_level                                             0.385949   \n",
            "rougher.state.floatbank10_f_air                                               0.137093   \n",
            "rougher.state.floatbank10_f_level                                             0.386823   \n",
            "rougher.input.floatbank11_sulfate                                            -0.003872   \n",
            "rougher.input.floatbank11_xanthate                                           -0.177587   \n",
            "primary_cleaner.input.sulfate                                                -0.041076   \n",
            "primary_cleaner.input.depressant                                             -0.067387   \n",
            "primary_cleaner.input.feed_size                                               0.140771   \n",
            "primary_cleaner.input.xanthate                                               -0.158989   \n",
            "primary_cleaner.state.floatbank8_a_air                                        0.291201   \n",
            "primary_cleaner.state.floatbank8_a_level                                      0.110292   \n",
            "primary_cleaner.state.floatbank8_b_air                                        0.283456   \n",
            "primary_cleaner.state.floatbank8_b_level                                      0.129654   \n",
            "primary_cleaner.state.floatbank8_c_air                                        0.260181   \n",
            "primary_cleaner.state.floatbank8_c_level                                      0.130140   \n",
            "primary_cleaner.state.floatbank8_d_air                                        0.059875   \n",
            "primary_cleaner.state.floatbank8_d_level                                      0.082681   \n",
            "secondary_cleaner.state.floatbank2_a_air                                     -0.018475   \n",
            "secondary_cleaner.state.floatbank2_a_level                                    0.144228   \n",
            "secondary_cleaner.state.floatbank2_b_air                                     -0.096037   \n",
            "secondary_cleaner.state.floatbank2_b_level                                    0.169676   \n",
            "secondary_cleaner.state.floatbank3_a_air                                      0.054076   \n",
            "secondary_cleaner.state.floatbank3_a_level                                    0.583943   \n",
            "secondary_cleaner.state.floatbank3_b_air                                      0.004273   \n",
            "secondary_cleaner.state.floatbank3_b_level                                    0.494893   \n",
            "secondary_cleaner.state.floatbank4_a_air                                      0.098912   \n",
            "secondary_cleaner.state.floatbank4_a_level                                    0.723593   \n",
            "secondary_cleaner.state.floatbank4_b_air                                      0.035966   \n",
            "secondary_cleaner.state.floatbank4_b_level                                    0.398598   \n",
            "secondary_cleaner.state.floatbank5_a_air                                      0.105011   \n",
            "secondary_cleaner.state.floatbank5_a_level                                    1.000000   \n",
            "secondary_cleaner.state.floatbank5_b_air                                      0.075438   \n",
            "secondary_cleaner.state.floatbank5_b_level                                    0.792690   \n",
            "secondary_cleaner.state.floatbank6_a_air                                      0.422696   \n",
            "secondary_cleaner.state.floatbank6_a_level                                    0.323758   \n",
            "\n",
            "                                            secondary_cleaner.state.floatbank5_b_air  \\\n",
            "rougher.input.feed_au                                                      -0.256760   \n",
            "rougher.input.feed_ag                                                      -0.182132   \n",
            "rougher.input.feed_pb                                                       0.065444   \n",
            "rougher.input.feed_sol                                                      0.109184   \n",
            "rougher.input.feed_rate                                                    -0.088135   \n",
            "rougher.input.feed_size                                                     0.074408   \n",
            "rougher.input.floatbank10_sulfate                                          -0.239486   \n",
            "rougher.input.floatbank10_xanthate                                         -0.229112   \n",
            "rougher.state.floatbank10_a_air                                             0.452065   \n",
            "rougher.state.floatbank10_a_level                                           0.437346   \n",
            "rougher.state.floatbank10_b_air                                            -0.057056   \n",
            "rougher.state.floatbank10_b_level                                           0.052569   \n",
            "rougher.state.floatbank10_c_air                                            -0.043862   \n",
            "rougher.state.floatbank10_c_level                                           0.057664   \n",
            "rougher.state.floatbank10_d_air                                            -0.067249   \n",
            "rougher.state.floatbank10_d_level                                           0.055949   \n",
            "rougher.state.floatbank10_e_air                                            -0.003186   \n",
            "rougher.state.floatbank10_e_level                                           0.069151   \n",
            "rougher.state.floatbank10_f_air                                             0.093786   \n",
            "rougher.state.floatbank10_f_level                                           0.075031   \n",
            "rougher.input.floatbank11_sulfate                                          -0.238147   \n",
            "rougher.input.floatbank11_xanthate                                         -0.243015   \n",
            "primary_cleaner.input.sulfate                                              -0.166774   \n",
            "primary_cleaner.input.depressant                                           -0.209807   \n",
            "primary_cleaner.input.feed_size                                            -0.191530   \n",
            "primary_cleaner.input.xanthate                                             -0.201145   \n",
            "primary_cleaner.state.floatbank8_a_air                                      0.480108   \n",
            "primary_cleaner.state.floatbank8_a_level                                    0.175704   \n",
            "primary_cleaner.state.floatbank8_b_air                                      0.391677   \n",
            "primary_cleaner.state.floatbank8_b_level                                    0.129401   \n",
            "primary_cleaner.state.floatbank8_c_air                                      0.509374   \n",
            "primary_cleaner.state.floatbank8_c_level                                    0.125211   \n",
            "primary_cleaner.state.floatbank8_d_air                                      0.148222   \n",
            "primary_cleaner.state.floatbank8_d_level                                    0.100413   \n",
            "secondary_cleaner.state.floatbank2_a_air                                    0.515198   \n",
            "secondary_cleaner.state.floatbank2_a_level                                 -0.169288   \n",
            "secondary_cleaner.state.floatbank2_b_air                                    0.536963   \n",
            "secondary_cleaner.state.floatbank2_b_level                                 -0.126495   \n",
            "secondary_cleaner.state.floatbank3_a_air                                    0.723606   \n",
            "secondary_cleaner.state.floatbank3_a_level                                  0.125365   \n",
            "secondary_cleaner.state.floatbank3_b_air                                    0.596004   \n",
            "secondary_cleaner.state.floatbank3_b_level                                 -0.201269   \n",
            "secondary_cleaner.state.floatbank4_a_air                                    0.770195   \n",
            "secondary_cleaner.state.floatbank4_a_level                                  0.233088   \n",
            "secondary_cleaner.state.floatbank4_b_air                                    0.858803   \n",
            "secondary_cleaner.state.floatbank4_b_level                                  0.010994   \n",
            "secondary_cleaner.state.floatbank5_a_air                                    0.898035   \n",
            "secondary_cleaner.state.floatbank5_a_level                                  0.075438   \n",
            "secondary_cleaner.state.floatbank5_b_air                                    1.000000   \n",
            "secondary_cleaner.state.floatbank5_b_level                                  0.056894   \n",
            "secondary_cleaner.state.floatbank6_a_air                                    0.511091   \n",
            "secondary_cleaner.state.floatbank6_a_level                                 -0.012034   \n",
            "\n",
            "                                            secondary_cleaner.state.floatbank5_b_level  \\\n",
            "rougher.input.feed_au                                                         0.113858   \n",
            "rougher.input.feed_ag                                                         0.130668   \n",
            "rougher.input.feed_pb                                                         0.023209   \n",
            "rougher.input.feed_sol                                                       -0.079468   \n",
            "rougher.input.feed_rate                                                      -0.180032   \n",
            "rougher.input.feed_size                                                      -0.084188   \n",
            "rougher.input.floatbank10_sulfate                                             0.028081   \n",
            "rougher.input.floatbank10_xanthate                                           -0.134157   \n",
            "rougher.state.floatbank10_a_air                                               0.048457   \n",
            "rougher.state.floatbank10_a_level                                            -0.065385   \n",
            "rougher.state.floatbank10_b_air                                               0.226534   \n",
            "rougher.state.floatbank10_b_level                                             0.322534   \n",
            "rougher.state.floatbank10_c_air                                               0.229081   \n",
            "rougher.state.floatbank10_c_level                                             0.335710   \n",
            "rougher.state.floatbank10_d_air                                               0.165629   \n",
            "rougher.state.floatbank10_d_level                                             0.335380   \n",
            "rougher.state.floatbank10_e_air                                               0.092670   \n",
            "rougher.state.floatbank10_e_level                                             0.311723   \n",
            "rougher.state.floatbank10_f_air                                               0.086571   \n",
            "rougher.state.floatbank10_f_level                                             0.312995   \n",
            "rougher.input.floatbank11_sulfate                                             0.033679   \n",
            "rougher.input.floatbank11_xanthate                                           -0.138194   \n",
            "primary_cleaner.input.sulfate                                                 0.001557   \n",
            "primary_cleaner.input.depressant                                             -0.060216   \n",
            "primary_cleaner.input.feed_size                                               0.123308   \n",
            "primary_cleaner.input.xanthate                                               -0.099634   \n",
            "primary_cleaner.state.floatbank8_a_air                                        0.235853   \n",
            "primary_cleaner.state.floatbank8_a_level                                      0.070236   \n",
            "primary_cleaner.state.floatbank8_b_air                                        0.232820   \n",
            "primary_cleaner.state.floatbank8_b_level                                      0.080119   \n",
            "primary_cleaner.state.floatbank8_c_air                                        0.201687   \n",
            "primary_cleaner.state.floatbank8_c_level                                      0.082571   \n",
            "primary_cleaner.state.floatbank8_d_air                                        0.057596   \n",
            "primary_cleaner.state.floatbank8_d_level                                      0.038593   \n",
            "secondary_cleaner.state.floatbank2_a_air                                     -0.028926   \n",
            "secondary_cleaner.state.floatbank2_a_level                                    0.114683   \n",
            "secondary_cleaner.state.floatbank2_b_air                                     -0.081054   \n",
            "secondary_cleaner.state.floatbank2_b_level                                    0.137446   \n",
            "secondary_cleaner.state.floatbank3_a_air                                      0.049485   \n",
            "secondary_cleaner.state.floatbank3_a_level                                    0.475774   \n",
            "secondary_cleaner.state.floatbank3_b_air                                      0.023994   \n",
            "secondary_cleaner.state.floatbank3_b_level                                    0.393951   \n",
            "secondary_cleaner.state.floatbank4_a_air                                      0.072627   \n",
            "secondary_cleaner.state.floatbank4_a_level                                    0.591876   \n",
            "secondary_cleaner.state.floatbank4_b_air                                      0.040396   \n",
            "secondary_cleaner.state.floatbank4_b_level                                    0.336943   \n",
            "secondary_cleaner.state.floatbank5_a_air                                      0.085622   \n",
            "secondary_cleaner.state.floatbank5_a_level                                    0.792690   \n",
            "secondary_cleaner.state.floatbank5_b_air                                      0.056894   \n",
            "secondary_cleaner.state.floatbank5_b_level                                    1.000000   \n",
            "secondary_cleaner.state.floatbank6_a_air                                      0.361939   \n",
            "secondary_cleaner.state.floatbank6_a_level                                    0.302578   \n",
            "\n",
            "                                            secondary_cleaner.state.floatbank6_a_air  \\\n",
            "rougher.input.feed_au                                                      -0.029978   \n",
            "rougher.input.feed_ag                                                       0.041357   \n",
            "rougher.input.feed_pb                                                      -0.106324   \n",
            "rougher.input.feed_sol                                                     -0.166350   \n",
            "rougher.input.feed_rate                                                    -0.288715   \n",
            "rougher.input.feed_size                                                    -0.148957   \n",
            "rougher.input.floatbank10_sulfate                                          -0.222429   \n",
            "rougher.input.floatbank10_xanthate                                         -0.332076   \n",
            "rougher.state.floatbank10_a_air                                             0.015774   \n",
            "rougher.state.floatbank10_a_level                                          -0.242854   \n",
            "rougher.state.floatbank10_b_air                                             0.367614   \n",
            "rougher.state.floatbank10_b_level                                           0.395136   \n",
            "rougher.state.floatbank10_c_air                                             0.419290   \n",
            "rougher.state.floatbank10_c_level                                           0.399571   \n",
            "rougher.state.floatbank10_d_air                                             0.386567   \n",
            "rougher.state.floatbank10_d_level                                           0.394754   \n",
            "rougher.state.floatbank10_e_air                                             0.271155   \n",
            "rougher.state.floatbank10_e_level                                           0.401679   \n",
            "rougher.state.floatbank10_f_air                                             0.283114   \n",
            "rougher.state.floatbank10_f_level                                           0.402647   \n",
            "rougher.input.floatbank11_sulfate                                          -0.201958   \n",
            "rougher.input.floatbank11_xanthate                                         -0.330231   \n",
            "primary_cleaner.input.sulfate                                              -0.167887   \n",
            "primary_cleaner.input.depressant                                           -0.146191   \n",
            "primary_cleaner.input.feed_size                                             0.136924   \n",
            "primary_cleaner.input.xanthate                                             -0.239502   \n",
            "primary_cleaner.state.floatbank8_a_air                                      0.352877   \n",
            "primary_cleaner.state.floatbank8_a_level                                    0.223704   \n",
            "primary_cleaner.state.floatbank8_b_air                                      0.282890   \n",
            "primary_cleaner.state.floatbank8_b_level                                    0.203526   \n",
            "primary_cleaner.state.floatbank8_c_air                                      0.329694   \n",
            "primary_cleaner.state.floatbank8_c_level                                    0.200305   \n",
            "primary_cleaner.state.floatbank8_d_air                                     -0.011759   \n",
            "primary_cleaner.state.floatbank8_d_level                                    0.116462   \n",
            "secondary_cleaner.state.floatbank2_a_air                                    0.103206   \n",
            "secondary_cleaner.state.floatbank2_a_level                                  0.019360   \n",
            "secondary_cleaner.state.floatbank2_b_air                                    0.106408   \n",
            "secondary_cleaner.state.floatbank2_b_level                                  0.039050   \n",
            "secondary_cleaner.state.floatbank3_a_air                                    0.384859   \n",
            "secondary_cleaner.state.floatbank3_a_level                                  0.350936   \n",
            "secondary_cleaner.state.floatbank3_b_air                                    0.421125   \n",
            "secondary_cleaner.state.floatbank3_b_level                                  0.115020   \n",
            "secondary_cleaner.state.floatbank4_a_air                                    0.239045   \n",
            "secondary_cleaner.state.floatbank4_a_level                                  0.462287   \n",
            "secondary_cleaner.state.floatbank4_b_air                                    0.333770   \n",
            "secondary_cleaner.state.floatbank4_b_level                                  0.033817   \n",
            "secondary_cleaner.state.floatbank5_a_air                                    0.424429   \n",
            "secondary_cleaner.state.floatbank5_a_level                                  0.422696   \n",
            "secondary_cleaner.state.floatbank5_b_air                                    0.511091   \n",
            "secondary_cleaner.state.floatbank5_b_level                                  0.361939   \n",
            "secondary_cleaner.state.floatbank6_a_air                                    1.000000   \n",
            "secondary_cleaner.state.floatbank6_a_level                                  0.113750   \n",
            "\n",
            "                                            secondary_cleaner.state.floatbank6_a_level  \n",
            "rougher.input.feed_au                                                        -0.061652  \n",
            "rougher.input.feed_ag                                                        -0.062273  \n",
            "rougher.input.feed_pb                                                        -0.049390  \n",
            "rougher.input.feed_sol                                                        0.002182  \n",
            "rougher.input.feed_rate                                                       0.037061  \n",
            "rougher.input.feed_size                                                       0.041748  \n",
            "rougher.input.floatbank10_sulfate                                             0.030560  \n",
            "rougher.input.floatbank10_xanthate                                            0.059007  \n",
            "rougher.state.floatbank10_a_air                                              -0.034731  \n",
            "rougher.state.floatbank10_a_level                                             0.074547  \n",
            "rougher.state.floatbank10_b_air                                               0.135997  \n",
            "rougher.state.floatbank10_b_level                                             0.126754  \n",
            "rougher.state.floatbank10_c_air                                               0.118393  \n",
            "rougher.state.floatbank10_c_level                                             0.130026  \n",
            "rougher.state.floatbank10_d_air                                               0.118202  \n",
            "rougher.state.floatbank10_d_level                                             0.135708  \n",
            "rougher.state.floatbank10_e_air                                               0.168207  \n",
            "rougher.state.floatbank10_e_level                                             0.133724  \n",
            "rougher.state.floatbank10_f_air                                               0.182467  \n",
            "rougher.state.floatbank10_f_level                                             0.130464  \n",
            "rougher.input.floatbank11_sulfate                                             0.027062  \n",
            "rougher.input.floatbank11_xanthate                                            0.062279  \n",
            "primary_cleaner.input.sulfate                                                -0.038728  \n",
            "primary_cleaner.input.depressant                                             -0.066836  \n",
            "primary_cleaner.input.feed_size                                               0.037387  \n",
            "primary_cleaner.input.xanthate                                                0.012189  \n",
            "primary_cleaner.state.floatbank8_a_air                                        0.054482  \n",
            "primary_cleaner.state.floatbank8_a_level                                      0.121978  \n",
            "primary_cleaner.state.floatbank8_b_air                                        0.046609  \n",
            "primary_cleaner.state.floatbank8_b_level                                      0.118593  \n",
            "primary_cleaner.state.floatbank8_c_air                                        0.039922  \n",
            "primary_cleaner.state.floatbank8_c_level                                      0.126114  \n",
            "primary_cleaner.state.floatbank8_d_air                                       -0.066558  \n",
            "primary_cleaner.state.floatbank8_d_level                                      0.112557  \n",
            "secondary_cleaner.state.floatbank2_a_air                                      0.010218  \n",
            "secondary_cleaner.state.floatbank2_a_level                                    0.096180  \n",
            "secondary_cleaner.state.floatbank2_b_air                                     -0.009760  \n",
            "secondary_cleaner.state.floatbank2_b_level                                    0.094770  \n",
            "secondary_cleaner.state.floatbank3_a_air                                      0.018222  \n",
            "secondary_cleaner.state.floatbank3_a_level                                    0.204396  \n",
            "secondary_cleaner.state.floatbank3_b_air                                      0.018334  \n",
            "secondary_cleaner.state.floatbank3_b_level                                    0.219127  \n",
            "secondary_cleaner.state.floatbank4_a_air                                     -0.001651  \n",
            "secondary_cleaner.state.floatbank4_a_level                                    0.182704  \n",
            "secondary_cleaner.state.floatbank4_b_air                                     -0.063025  \n",
            "secondary_cleaner.state.floatbank4_b_level                                    0.168844  \n",
            "secondary_cleaner.state.floatbank5_a_air                                     -0.016838  \n",
            "secondary_cleaner.state.floatbank5_a_level                                    0.323758  \n",
            "secondary_cleaner.state.floatbank5_b_air                                     -0.012034  \n",
            "secondary_cleaner.state.floatbank5_b_level                                    0.302578  \n",
            "secondary_cleaner.state.floatbank6_a_air                                      0.113750  \n",
            "secondary_cleaner.state.floatbank6_a_level                                    1.000000  \n",
            "\n",
            "[52 rows x 52 columns] \n",
            "\n",
            "Количество уникальных значений в столбце с индексом: \n",
            "\n",
            "0  =  4860\n",
            "1  =  4857\n",
            "2  =  4857\n",
            "3  =  4827\n",
            "4  =  4834\n",
            "5  =  4856\n",
            "6  =  4811\n",
            "7  =  4857\n",
            "8  =  4859\n",
            "9  =  4859\n",
            "10  =  4859\n",
            "11  =  4859\n",
            "12  =  4859\n",
            "13  =  4859\n",
            "14  =  4859\n",
            "15  =  4860\n",
            "16  =  4860\n",
            "17  =  4853\n",
            "18  =  4860\n",
            "19  =  4860\n",
            "20  =  4860\n",
            "21  =  4852\n",
            "22  =  4810\n",
            "23  =  4859\n",
            "24  =  4851\n",
            "25  =  1448\n",
            "26  =  4817\n",
            "27  =  4859\n",
            "28  =  4859\n",
            "29  =  4859\n",
            "30  =  4859\n",
            "31  =  4858\n",
            "32  =  4859\n",
            "33  =  4858\n",
            "34  =  4859\n",
            "35  =  4734\n",
            "36  =  4859\n",
            "37  =  4829\n",
            "38  =  4859\n",
            "39  =  4844\n",
            "40  =  4859\n",
            "41  =  4831\n",
            "42  =  4859\n",
            "43  =  4855\n",
            "44  =  4859\n",
            "45  =  4852\n",
            "46  =  4859\n",
            "47  =  4859\n",
            "48  =  4859\n",
            "49  =  4859\n",
            "50  =  4859\n",
            "51  =  4859\n",
            "52  =  4859\n",
            "\n",
            "Размер датафрейма (4860, 53) \n",
            "\n",
            "\n"
          ]
        }
      ],
      "source": [
        "df_info(df_test)"
      ]
    },
    {
      "cell_type": "code",
      "execution_count": null,
      "metadata": {
        "scrolled": true,
        "id": "9XhdPQOvZXUd",
        "outputId": "19635be5-8358-48f8-bf00-a42cc648097c"
      },
      "outputs": [
        {
          "name": "stdout",
          "output_type": "stream",
          "text": [
            "Информация по датафрейму \n",
            "\n",
            "Общая информация: \n",
            "\n",
            "<class 'pandas.core.frame.DataFrame'>\n",
            "RangeIndex: 19439 entries, 0 to 19438\n",
            "Data columns (total 87 columns):\n",
            " #   Column                                              Non-Null Count  Dtype  \n",
            "---  ------                                              --------------  -----  \n",
            " 0   date                                                19439 non-null  object \n",
            " 1   rougher.input.feed_au                               19439 non-null  float64\n",
            " 2   rougher.input.feed_ag                               19439 non-null  float64\n",
            " 3   rougher.input.feed_pb                               19339 non-null  float64\n",
            " 4   rougher.input.feed_sol                              19340 non-null  float64\n",
            " 5   rougher.input.feed_rate                             19428 non-null  float64\n",
            " 6   rougher.input.feed_size                             19294 non-null  float64\n",
            " 7   rougher.input.floatbank10_sulfate                   19405 non-null  float64\n",
            " 8   rougher.input.floatbank10_xanthate                  19431 non-null  float64\n",
            " 9   rougher.state.floatbank10_a_air                     19438 non-null  float64\n",
            " 10  rougher.state.floatbank10_a_level                   19438 non-null  float64\n",
            " 11  rougher.state.floatbank10_b_air                     19438 non-null  float64\n",
            " 12  rougher.state.floatbank10_b_level                   19438 non-null  float64\n",
            " 13  rougher.state.floatbank10_c_air                     19438 non-null  float64\n",
            " 14  rougher.state.floatbank10_c_level                   19438 non-null  float64\n",
            " 15  rougher.state.floatbank10_d_air                     19439 non-null  float64\n",
            " 16  rougher.state.floatbank10_d_level                   19439 non-null  float64\n",
            " 17  rougher.state.floatbank10_e_air                     19003 non-null  float64\n",
            " 18  rougher.state.floatbank10_e_level                   19439 non-null  float64\n",
            " 19  rougher.state.floatbank10_f_air                     19439 non-null  float64\n",
            " 20  rougher.state.floatbank10_f_level                   19439 non-null  float64\n",
            " 21  rougher.input.floatbank11_sulfate                   19395 non-null  float64\n",
            " 22  rougher.input.floatbank11_xanthate                  18986 non-null  float64\n",
            " 23  rougher.calculation.sulfate_to_au_concentrate       19437 non-null  float64\n",
            " 24  rougher.calculation.floatbank10_sulfate_to_au_feed  19437 non-null  float64\n",
            " 25  rougher.calculation.floatbank11_sulfate_to_au_feed  19437 non-null  float64\n",
            " 26  rougher.calculation.au_pb_ratio                     19439 non-null  float64\n",
            " 27  rougher.output.concentrate_au                       19439 non-null  float64\n",
            " 28  rougher.output.concentrate_ag                       19439 non-null  float64\n",
            " 29  rougher.output.concentrate_pb                       19439 non-null  float64\n",
            " 30  rougher.output.concentrate_sol                      19416 non-null  float64\n",
            " 31  rougher.output.recovery                             19439 non-null  float64\n",
            " 32  rougher.output.tail_au                              19439 non-null  float64\n",
            " 33  rougher.output.tail_ag                              19438 non-null  float64\n",
            " 34  rougher.output.tail_pb                              19439 non-null  float64\n",
            " 35  rougher.output.tail_sol                             19439 non-null  float64\n",
            " 36  primary_cleaner.input.sulfate                       19415 non-null  float64\n",
            " 37  primary_cleaner.input.depressant                    19402 non-null  float64\n",
            " 38  primary_cleaner.input.feed_size                     19439 non-null  float64\n",
            " 39  primary_cleaner.input.xanthate                      19335 non-null  float64\n",
            " 40  primary_cleaner.state.floatbank8_a_air              19435 non-null  float64\n",
            " 41  primary_cleaner.state.floatbank8_a_level            19438 non-null  float64\n",
            " 42  primary_cleaner.state.floatbank8_b_air              19435 non-null  float64\n",
            " 43  primary_cleaner.state.floatbank8_b_level            19438 non-null  float64\n",
            " 44  primary_cleaner.state.floatbank8_c_air              19437 non-null  float64\n",
            " 45  primary_cleaner.state.floatbank8_c_level            19438 non-null  float64\n",
            " 46  primary_cleaner.state.floatbank8_d_air              19436 non-null  float64\n",
            " 47  primary_cleaner.state.floatbank8_d_level            19438 non-null  float64\n",
            " 48  primary_cleaner.output.concentrate_au               19439 non-null  float64\n",
            " 49  primary_cleaner.output.concentrate_ag               19439 non-null  float64\n",
            " 50  primary_cleaner.output.concentrate_pb               19323 non-null  float64\n",
            " 51  primary_cleaner.output.concentrate_sol              19069 non-null  float64\n",
            " 52  primary_cleaner.output.tail_au                      19439 non-null  float64\n",
            " 53  primary_cleaner.output.tail_ag                      19435 non-null  float64\n",
            " 54  primary_cleaner.output.tail_pb                      19418 non-null  float64\n",
            " 55  primary_cleaner.output.tail_sol                     19377 non-null  float64\n",
            " 56  secondary_cleaner.state.floatbank2_a_air            19219 non-null  float64\n",
            " 57  secondary_cleaner.state.floatbank2_a_level          19438 non-null  float64\n",
            " 58  secondary_cleaner.state.floatbank2_b_air            19416 non-null  float64\n",
            " 59  secondary_cleaner.state.floatbank2_b_level          19438 non-null  float64\n",
            " 60  secondary_cleaner.state.floatbank3_a_air            19426 non-null  float64\n",
            " 61  secondary_cleaner.state.floatbank3_a_level          19438 non-null  float64\n",
            " 62  secondary_cleaner.state.floatbank3_b_air            19438 non-null  float64\n",
            " 63  secondary_cleaner.state.floatbank3_b_level          19438 non-null  float64\n",
            " 64  secondary_cleaner.state.floatbank4_a_air            19433 non-null  float64\n",
            " 65  secondary_cleaner.state.floatbank4_a_level          19438 non-null  float64\n",
            " 66  secondary_cleaner.state.floatbank4_b_air            19438 non-null  float64\n",
            " 67  secondary_cleaner.state.floatbank4_b_level          19438 non-null  float64\n",
            " 68  secondary_cleaner.state.floatbank5_a_air            19438 non-null  float64\n",
            " 69  secondary_cleaner.state.floatbank5_a_level          19438 non-null  float64\n",
            " 70  secondary_cleaner.state.floatbank5_b_air            19438 non-null  float64\n",
            " 71  secondary_cleaner.state.floatbank5_b_level          19438 non-null  float64\n",
            " 72  secondary_cleaner.state.floatbank6_a_air            19437 non-null  float64\n",
            " 73  secondary_cleaner.state.floatbank6_a_level          19438 non-null  float64\n",
            " 74  secondary_cleaner.output.tail_au                    19439 non-null  float64\n",
            " 75  secondary_cleaner.output.tail_ag                    19437 non-null  float64\n",
            " 76  secondary_cleaner.output.tail_pb                    19427 non-null  float64\n",
            " 77  secondary_cleaner.output.tail_sol                   17691 non-null  float64\n",
            " 78  final.output.concentrate_au                         19439 non-null  float64\n",
            " 79  final.output.concentrate_ag                         19438 non-null  float64\n",
            " 80  final.output.concentrate_pb                         19438 non-null  float64\n",
            " 81  final.output.concentrate_sol                        19228 non-null  float64\n",
            " 82  final.output.recovery                               19439 non-null  float64\n",
            " 83  final.output.tail_au                                19439 non-null  float64\n",
            " 84  final.output.tail_ag                                19438 non-null  float64\n",
            " 85  final.output.tail_pb                                19338 non-null  float64\n",
            " 86  final.output.tail_sol                               19433 non-null  float64\n",
            "dtypes: float64(86), object(1)\n",
            "memory usage: 12.9+ MB\n",
            "None \n",
            "\n",
            "Число полных явных дубликатов строк  0 \n",
            "\n",
            "Обзор первых строк: \n",
            "                   date  rougher.input.feed_au  rougher.input.feed_ag  \\\n",
            "0  2016-01-15 00:00:00               6.486150               6.100378   \n",
            "1  2016-01-15 01:00:00               6.478583               6.161113   \n",
            "2  2016-01-15 02:00:00               6.362222               6.116455   \n",
            "3  2016-01-15 03:00:00               6.118189               6.043309   \n",
            "4  2016-01-15 04:00:00               5.663707               6.060915   \n",
            "\n",
            "   rougher.input.feed_pb  rougher.input.feed_sol  rougher.input.feed_rate  \\\n",
            "0               2.284912               36.808594               523.546326   \n",
            "1               2.266033               35.753385               525.290581   \n",
            "2               2.159622               35.971630               530.026610   \n",
            "3               2.037807               36.862241               542.590390   \n",
            "4               1.786875               34.347666               540.531893   \n",
            "\n",
            "   rougher.input.feed_size  rougher.input.floatbank10_sulfate  \\\n",
            "0                55.486599                          11.986616   \n",
            "1                57.278666                          11.971193   \n",
            "2                57.510649                          11.920603   \n",
            "3                57.792734                          11.630094   \n",
            "4                56.047189                          10.957755   \n",
            "\n",
            "   rougher.input.floatbank10_xanthate  rougher.state.floatbank10_a_air  ...  \\\n",
            "0                            6.007990                       999.706909  ...   \n",
            "1                            6.005766                      1000.286398  ...   \n",
            "2                            6.197377                       999.719565  ...   \n",
            "3                            6.203177                       999.814770  ...   \n",
            "4                            6.198826                       999.678690  ...   \n",
            "\n",
            "   secondary_cleaner.output.tail_sol  final.output.concentrate_au  \\\n",
            "0                           8.764648                    42.192020   \n",
            "1                           9.001494                    42.701629   \n",
            "2                           8.842896                    42.657501   \n",
            "3                           9.122857                    42.689819   \n",
            "4                           8.871028                    42.774141   \n",
            "\n",
            "   final.output.concentrate_ag  final.output.concentrate_pb  \\\n",
            "0                     6.055403                     9.889648   \n",
            "1                     6.029369                     9.968944   \n",
            "2                     6.055926                    10.213995   \n",
            "3                     6.047977                     9.977019   \n",
            "4                     6.148599                    10.142511   \n",
            "\n",
            "   final.output.concentrate_sol  final.output.recovery  final.output.tail_au  \\\n",
            "0                      5.507324              70.541216              2.143149   \n",
            "1                      5.257781              69.266198              2.224930   \n",
            "2                      5.383759              68.116445              2.257889   \n",
            "3                      4.858634              68.347543              2.146849   \n",
            "4                      4.939416              66.927016              2.055292   \n",
            "\n",
            "   final.output.tail_ag  final.output.tail_pb  final.output.tail_sol  \n",
            "0             10.411962              0.895447              16.904297  \n",
            "1             10.462676              0.927452              16.634514  \n",
            "2             10.507046              0.953716              16.208849  \n",
            "3             10.422762              0.883763              16.532835  \n",
            "4             10.360302              0.792826              16.525686  \n",
            "\n",
            "[5 rows x 87 columns] \n",
            "\n",
            "Статистические характеристики: \n",
            "        rougher.input.feed_au  rougher.input.feed_ag  rougher.input.feed_pb  \\\n",
            "count           19439.000000           19439.000000           19339.000000   \n",
            "mean                8.266097               8.794927               3.598085   \n",
            "std                 1.955092               1.936847               1.049486   \n",
            "min                 0.010000               0.010000               0.010000   \n",
            "25%                 6.854384               7.237967               2.887280   \n",
            "50%                 8.125839               8.593574               3.534895   \n",
            "75%                 9.769917              10.213771               4.244161   \n",
            "max                13.731330              14.596026               7.142594   \n",
            "\n",
            "       rougher.input.feed_sol  rougher.input.feed_rate  \\\n",
            "count            19340.000000             19428.000000   \n",
            "mean                36.695114               478.320042   \n",
            "std                  5.145445               105.373758   \n",
            "min                  0.010000                 0.002986   \n",
            "25%                 34.207799               416.525453   \n",
            "50%                 37.202650               499.416120   \n",
            "75%                 40.039133               550.172183   \n",
            "max                 53.477742               717.508837   \n",
            "\n",
            "       rougher.input.feed_size  rougher.input.floatbank10_sulfate  \\\n",
            "count             19294.000000                       19405.000000   \n",
            "mean                 58.970310                          12.334373   \n",
            "std                  21.634478                           3.427317   \n",
            "min                   0.046369                           0.001083   \n",
            "25%                  47.435103                          10.000362   \n",
            "50%                  54.610197                          12.001174   \n",
            "75%                  65.023044                          14.716595   \n",
            "max                 484.967466                          36.118275   \n",
            "\n",
            "       rougher.input.floatbank10_xanthate  rougher.state.floatbank10_a_air  \\\n",
            "count                        19431.000000                     19438.000000   \n",
            "mean                             6.021474                      1105.315068   \n",
            "std                              1.127263                       160.826798   \n",
            "min                              0.000568                        -0.042069   \n",
            "25%                              5.398678                       999.661867   \n",
            "50%                              6.008273                      1001.072890   \n",
            "75%                              6.798051                      1205.620588   \n",
            "max                              9.703448                      1521.980372   \n",
            "\n",
            "       rougher.state.floatbank10_a_level  ...  \\\n",
            "count                       19438.000000  ...   \n",
            "mean                         -376.610690  ...   \n",
            "std                            93.909667  ...   \n",
            "min                          -657.949759  ...   \n",
            "25%                          -499.835165  ...   \n",
            "50%                          -300.263994  ...   \n",
            "75%                          -299.981998  ...   \n",
            "max                          -273.776101  ...   \n",
            "\n",
            "       secondary_cleaner.output.tail_sol  final.output.concentrate_au  \\\n",
            "count                       17691.000000                 19439.000000   \n",
            "mean                            7.167247                    44.076513   \n",
            "std                             3.916079                     5.129784   \n",
            "min                             0.000000                     0.000000   \n",
            "25%                             3.845475                    43.402215   \n",
            "50%                             7.685827                    45.011244   \n",
            "75%                            10.411296                    46.275313   \n",
            "max                            26.000772                    52.756638   \n",
            "\n",
            "       final.output.concentrate_ag  final.output.concentrate_pb  \\\n",
            "count                 19438.000000                 19438.000000   \n",
            "mean                      5.168470                     9.978895   \n",
            "std                       1.372348                     1.669240   \n",
            "min                       0.000000                     0.000000   \n",
            "25%                       4.251240                     9.137262   \n",
            "50%                       5.066094                    10.102433   \n",
            "75%                       5.895527                    11.035769   \n",
            "max                      16.001945                    17.031899   \n",
            "\n",
            "       final.output.concentrate_sol  final.output.recovery  \\\n",
            "count                  19228.000000           19439.000000   \n",
            "mean                       9.501224              67.050208   \n",
            "std                        2.787537              10.125840   \n",
            "min                        0.000000               0.000000   \n",
            "25%                        7.722820              63.299712   \n",
            "50%                        9.218961              68.172738   \n",
            "75%                       10.947813              72.686642   \n",
            "max                       19.615720             100.000000   \n",
            "\n",
            "       final.output.tail_au  final.output.tail_ag  final.output.tail_pb  \\\n",
            "count          19439.000000          19438.000000          19338.000000   \n",
            "mean               3.042467              9.688589              2.705795   \n",
            "std                0.922808              2.328642              0.949077   \n",
            "min                0.000000              0.000000              0.000000   \n",
            "25%                2.461138              8.062878              2.040119   \n",
            "50%                2.984909              9.743623              2.748730   \n",
            "75%                3.571351             11.134294              3.333216   \n",
            "max                8.245022             19.552149              5.804178   \n",
            "\n",
            "       final.output.tail_sol  \n",
            "count           19433.000000  \n",
            "mean               10.583728  \n",
            "std                 2.868782  \n",
            "min                 0.000000  \n",
            "25%                 8.938947  \n",
            "50%                10.622456  \n",
            "75%                12.104271  \n",
            "max                22.317730  \n",
            "\n",
            "[8 rows x 86 columns] \n",
            "\n",
            "Коэффициенты корреляции между столбцами: \n",
            "                          rougher.input.feed_au  rougher.input.feed_ag  \\\n",
            "rougher.input.feed_au                 1.000000               0.845274   \n",
            "rougher.input.feed_ag                 0.845274               1.000000   \n",
            "rougher.input.feed_pb                 0.687003               0.496579   \n",
            "rougher.input.feed_sol                0.094392               0.115878   \n",
            "rougher.input.feed_rate              -0.190381              -0.134165   \n",
            "...                                        ...                    ...   \n",
            "final.output.recovery                 0.295343               0.286823   \n",
            "final.output.tail_au                  0.642479               0.498710   \n",
            "final.output.tail_ag                  0.594311               0.777677   \n",
            "final.output.tail_pb                  0.494324               0.277462   \n",
            "final.output.tail_sol                -0.008907               0.013153   \n",
            "\n",
            "                         rougher.input.feed_pb  rougher.input.feed_sol  \\\n",
            "rougher.input.feed_au                 0.687003                0.094392   \n",
            "rougher.input.feed_ag                 0.496579                0.115878   \n",
            "rougher.input.feed_pb                 1.000000                0.090636   \n",
            "rougher.input.feed_sol                0.090636                1.000000   \n",
            "rougher.input.feed_rate              -0.139769                0.621676   \n",
            "...                                        ...                     ...   \n",
            "final.output.recovery                 0.175646                0.250058   \n",
            "final.output.tail_au                  0.459312               -0.109150   \n",
            "final.output.tail_ag                  0.400925                0.018099   \n",
            "final.output.tail_pb                  0.773465               -0.012314   \n",
            "final.output.tail_sol                -0.158319                0.382381   \n",
            "\n",
            "                         rougher.input.feed_rate  rougher.input.feed_size  \\\n",
            "rougher.input.feed_au                  -0.190381                -0.152634   \n",
            "rougher.input.feed_ag                  -0.134165                -0.110868   \n",
            "rougher.input.feed_pb                  -0.139769                -0.054133   \n",
            "rougher.input.feed_sol                  0.621676                 0.180514   \n",
            "rougher.input.feed_rate                 1.000000                 0.122620   \n",
            "...                                          ...                      ...   \n",
            "final.output.recovery                   0.172786                 0.048744   \n",
            "final.output.tail_au                   -0.293895                -0.187710   \n",
            "final.output.tail_ag                   -0.053626                -0.056861   \n",
            "final.output.tail_pb                   -0.249568                -0.110962   \n",
            "final.output.tail_sol                   0.473291                -0.028740   \n",
            "\n",
            "                         rougher.input.floatbank10_sulfate  \\\n",
            "rougher.input.feed_au                             0.294588   \n",
            "rougher.input.feed_ag                             0.106487   \n",
            "rougher.input.feed_pb                             0.257604   \n",
            "rougher.input.feed_sol                            0.296444   \n",
            "rougher.input.feed_rate                           0.234889   \n",
            "...                                                    ...   \n",
            "final.output.recovery                             0.061033   \n",
            "final.output.tail_au                              0.230868   \n",
            "final.output.tail_ag                             -0.054658   \n",
            "final.output.tail_pb                              0.370162   \n",
            "final.output.tail_sol                             0.221742   \n",
            "\n",
            "                         rougher.input.floatbank10_xanthate  \\\n",
            "rougher.input.feed_au                              0.208971   \n",
            "rougher.input.feed_ag                              0.231607   \n",
            "rougher.input.feed_pb                              0.067909   \n",
            "rougher.input.feed_sol                             0.383095   \n",
            "rougher.input.feed_rate                            0.599559   \n",
            "...                                                     ...   \n",
            "final.output.recovery                              0.328066   \n",
            "final.output.tail_au                              -0.076709   \n",
            "final.output.tail_ag                               0.291050   \n",
            "final.output.tail_pb                              -0.160586   \n",
            "final.output.tail_sol                              0.310551   \n",
            "\n",
            "                         rougher.state.floatbank10_a_air  \\\n",
            "rougher.input.feed_au                           0.154849   \n",
            "rougher.input.feed_ag                           0.278293   \n",
            "rougher.input.feed_pb                           0.260916   \n",
            "rougher.input.feed_sol                          0.171198   \n",
            "rougher.input.feed_rate                         0.010749   \n",
            "...                                                  ...   \n",
            "final.output.recovery                           0.183251   \n",
            "final.output.tail_au                           -0.036474   \n",
            "final.output.tail_ag                            0.260268   \n",
            "final.output.tail_pb                            0.102342   \n",
            "final.output.tail_sol                          -0.113732   \n",
            "\n",
            "                         rougher.state.floatbank10_a_level  ...  \\\n",
            "rougher.input.feed_au                            -0.102113  ...   \n",
            "rougher.input.feed_ag                            -0.124046  ...   \n",
            "rougher.input.feed_pb                             0.246938  ...   \n",
            "rougher.input.feed_sol                            0.315981  ...   \n",
            "rougher.input.feed_rate                           0.142343  ...   \n",
            "...                                                    ...  ...   \n",
            "final.output.recovery                             0.065421  ...   \n",
            "final.output.tail_au                             -0.153775  ...   \n",
            "final.output.tail_ag                             -0.095086  ...   \n",
            "final.output.tail_pb                              0.244610  ...   \n",
            "final.output.tail_sol                            -0.178710  ...   \n",
            "\n",
            "                         secondary_cleaner.output.tail_sol  \\\n",
            "rougher.input.feed_au                             0.242171   \n",
            "rougher.input.feed_ag                             0.265350   \n",
            "rougher.input.feed_pb                            -0.026652   \n",
            "rougher.input.feed_sol                           -0.121835   \n",
            "rougher.input.feed_rate                          -0.053967   \n",
            "...                                                    ...   \n",
            "final.output.recovery                            -0.030084   \n",
            "final.output.tail_au                              0.260681   \n",
            "final.output.tail_ag                              0.216936   \n",
            "final.output.tail_pb                             -0.026049   \n",
            "final.output.tail_sol                             0.301495   \n",
            "\n",
            "                         final.output.concentrate_au  \\\n",
            "rougher.input.feed_au                       0.035095   \n",
            "rougher.input.feed_ag                       0.020728   \n",
            "rougher.input.feed_pb                       0.011408   \n",
            "rougher.input.feed_sol                      0.219287   \n",
            "rougher.input.feed_rate                     0.161275   \n",
            "...                                              ...   \n",
            "final.output.recovery                       0.288568   \n",
            "final.output.tail_au                       -0.031696   \n",
            "final.output.tail_ag                        0.080381   \n",
            "final.output.tail_pb                        0.081291   \n",
            "final.output.tail_sol                       0.134978   \n",
            "\n",
            "                         final.output.concentrate_ag  \\\n",
            "rougher.input.feed_au                       0.315817   \n",
            "rougher.input.feed_ag                       0.456279   \n",
            "rougher.input.feed_pb                       0.074866   \n",
            "rougher.input.feed_sol                     -0.036783   \n",
            "rougher.input.feed_rate                    -0.167154   \n",
            "...                                              ...   \n",
            "final.output.recovery                       0.185952   \n",
            "final.output.tail_au                        0.206569   \n",
            "final.output.tail_ag                        0.334596   \n",
            "final.output.tail_pb                       -0.051855   \n",
            "final.output.tail_sol                       0.028890   \n",
            "\n",
            "                         final.output.concentrate_pb  \\\n",
            "rougher.input.feed_au                      -0.079812   \n",
            "rougher.input.feed_ag                      -0.207999   \n",
            "rougher.input.feed_pb                       0.301446   \n",
            "rougher.input.feed_sol                      0.116718   \n",
            "rougher.input.feed_rate                     0.066815   \n",
            "...                                              ...   \n",
            "final.output.recovery                       0.151987   \n",
            "final.output.tail_au                       -0.047446   \n",
            "final.output.tail_ag                       -0.126886   \n",
            "final.output.tail_pb                        0.221372   \n",
            "final.output.tail_sol                       0.094385   \n",
            "\n",
            "                         final.output.concentrate_sol  final.output.recovery  \\\n",
            "rougher.input.feed_au                        0.474520               0.295343   \n",
            "rougher.input.feed_ag                        0.479259               0.286823   \n",
            "rougher.input.feed_pb                        0.185576               0.175646   \n",
            "rougher.input.feed_sol                       0.010362               0.250058   \n",
            "rougher.input.feed_rate                     -0.168127               0.172786   \n",
            "...                                               ...                    ...   \n",
            "final.output.recovery                        0.265993               1.000000   \n",
            "final.output.tail_au                         0.267781              -0.409200   \n",
            "final.output.tail_ag                         0.286305               0.125986   \n",
            "final.output.tail_pb                         0.221714              -0.143094   \n",
            "final.output.tail_sol                       -0.023865              -0.050280   \n",
            "\n",
            "                         final.output.tail_au  final.output.tail_ag  \\\n",
            "rougher.input.feed_au                0.642479              0.594311   \n",
            "rougher.input.feed_ag                0.498710              0.777677   \n",
            "rougher.input.feed_pb                0.459312              0.400925   \n",
            "rougher.input.feed_sol              -0.109150              0.018099   \n",
            "rougher.input.feed_rate             -0.293895             -0.053626   \n",
            "...                                       ...                   ...   \n",
            "final.output.recovery               -0.409200              0.125986   \n",
            "final.output.tail_au                 1.000000              0.444434   \n",
            "final.output.tail_ag                 0.444434              1.000000   \n",
            "final.output.tail_pb                 0.607380              0.307887   \n",
            "final.output.tail_sol                0.076956              0.138464   \n",
            "\n",
            "                         final.output.tail_pb  final.output.tail_sol  \n",
            "rougher.input.feed_au                0.494324              -0.008907  \n",
            "rougher.input.feed_ag                0.277462               0.013153  \n",
            "rougher.input.feed_pb                0.773465              -0.158319  \n",
            "rougher.input.feed_sol              -0.012314               0.382381  \n",
            "rougher.input.feed_rate             -0.249568               0.473291  \n",
            "...                                       ...                    ...  \n",
            "final.output.recovery               -0.143094              -0.050280  \n",
            "final.output.tail_au                 0.607380               0.076956  \n",
            "final.output.tail_ag                 0.307887               0.138464  \n",
            "final.output.tail_pb                 1.000000              -0.133032  \n",
            "final.output.tail_sol               -0.133032               1.000000  \n",
            "\n",
            "[86 rows x 86 columns] \n",
            "\n",
            "Количество уникальных значений в столбце с индексом: \n",
            "\n",
            "0  =  19439\n",
            "1  =  19409\n",
            "2  =  19409\n",
            "3  =  19300\n",
            "4  =  19292\n",
            "5  =  19428\n",
            "6  =  19286\n",
            "7  =  19405\n",
            "8  =  19431\n",
            "9  =  19438\n",
            "10  =  19438\n",
            "11  =  19438\n",
            "12  =  19438\n",
            "13  =  19438\n",
            "14  =  19438\n",
            "15  =  19439\n",
            "16  =  19439\n",
            "17  =  19003\n",
            "18  =  19439\n",
            "19  =  19439\n",
            "20  =  19438\n",
            "21  =  19395\n",
            "22  =  18971\n",
            "23  =  19437\n",
            "24  =  19437\n",
            "25  =  19437\n",
            "26  =  19409\n",
            "27  =  19015\n",
            "28  =  19015\n",
            "29  =  18956\n",
            "30  =  18664\n",
            "31  =  19017\n",
            "32  =  19399\n",
            "33  =  19397\n",
            "34  =  19409\n",
            "35  =  19272\n",
            "36  =  19415\n",
            "37  =  19393\n",
            "38  =  5022\n",
            "39  =  19335\n",
            "40  =  19435\n",
            "41  =  19438\n",
            "42  =  19435\n",
            "43  =  19438\n",
            "44  =  19437\n",
            "45  =  19438\n",
            "46  =  19436\n",
            "47  =  19438\n",
            "48  =  19199\n",
            "49  =  19199\n",
            "50  =  19055\n",
            "51  =  18826\n",
            "52  =  19291\n",
            "53  =  19287\n",
            "54  =  19270\n",
            "55  =  19229\n",
            "56  =  19218\n",
            "57  =  19438\n",
            "58  =  19281\n",
            "59  =  19438\n",
            "60  =  19353\n",
            "61  =  19438\n",
            "62  =  19318\n",
            "63  =  19438\n",
            "64  =  19423\n",
            "65  =  19438\n",
            "66  =  19414\n",
            "67  =  19436\n",
            "68  =  19438\n",
            "69  =  19438\n",
            "70  =  19438\n",
            "71  =  19438\n",
            "72  =  19437\n",
            "73  =  19438\n",
            "74  =  18578\n",
            "75  =  18576\n",
            "76  =  18562\n",
            "77  =  16831\n",
            "78  =  19308\n",
            "79  =  19307\n",
            "80  =  19276\n",
            "81  =  19093\n",
            "82  =  19235\n",
            "83  =  19329\n",
            "84  =  19328\n",
            "85  =  19228\n",
            "86  =  19322\n",
            "\n",
            "Размер датафрейма (19439, 87) \n",
            "\n",
            "\n"
          ]
        }
      ],
      "source": [
        "df_info(df_full)"
      ]
    },
    {
      "cell_type": "code",
      "execution_count": null,
      "metadata": {
        "id": "a2LYKKtqZXUd",
        "outputId": "585d7400-fa6e-44fd-bd26-a30d292b1a55"
      },
      "outputs": [
        {
          "data": {
            "text/plain": [
              "2.9998"
            ]
          },
          "execution_count": 7,
          "metadata": {},
          "output_type": "execute_result"
        }
      ],
      "source": [
        "round((df_train.shape[0] / df_test.shape[0]),4)"
      ]
    },
    {
      "cell_type": "markdown",
      "metadata": {
        "id": "zaMvHDvCZXUd"
      },
      "source": [
        "**Выводы по обзорам датасетов:**\n",
        "\n",
        "Общий размер датасета 19 439 строк и 87 столбцов.\n",
        "\n",
        "Полных дубликатов строк нет ни в одном датасете.\n",
        "\n",
        "Датасеты содержат данные двух типов object- для столбца, содержащего дату и float - для остальных данных. Столбец с датой необходимо преобразовать в формат datatime.\n",
        "\n",
        "Тестовая выборка содержит только 53 столбца, т.к. формируется тогда. когда часть данных еще недоступна (не существует).\n",
        "\n",
        "В наборах данных относительно немного пропусков, которые, учитывая невозможность их восстановления, необходимо будет исключить.\n",
        "\n",
        "В связи с большим количеством столбцов - изучение и анализ корреляции между ними нецелесообразен, хотя при беглом осмотре основная часть данных характерисуется низкой корреляцией.\n",
        "\n",
        "Соотношение тестовой и обучающей выборок близко к 1:3, т.е. размеры данных выборок сформированы корректно и из можно использовать для обучение и проверок моделей."
      ]
    },
    {
      "cell_type": "markdown",
      "metadata": {
        "id": "wsY5NZQYZXUe"
      },
      "source": [
        "### Проверка корректности расчета признака \"rougher.output.recovery_calc\" на обучающей выборке"
      ]
    },
    {
      "cell_type": "markdown",
      "metadata": {
        "id": "oVEJh4HUZXUe"
      },
      "source": [
        "Сформируем расчетным путем дополнительный столбец данных в обучающей выборке:"
      ]
    },
    {
      "cell_type": "code",
      "execution_count": null,
      "metadata": {
        "id": "TqtEmhdNZXUe"
      },
      "outputs": [],
      "source": [
        "df_train['rougher.output.recovery_calc'] = \\\n",
        "        100 * (df_train['rougher.output.concentrate_au'] *\n",
        "        (df_train['rougher.input.feed_au'] - df_train['rougher.output.tail_au'] )) / \\\n",
        "        (df_train['rougher.input.feed_au'] * (df_train['rougher.output.concentrate_au'] - df_train['rougher.output.tail_au']))"
      ]
    },
    {
      "cell_type": "code",
      "execution_count": null,
      "metadata": {
        "id": "V9yCUnd5ZXUe",
        "outputId": "4bc2d0d7-995e-4368-d671-853e8b600338"
      },
      "outputs": [
        {
          "data": {
            "text/plain": [
              "1.1181885454685472e-14"
            ]
          },
          "execution_count": 9,
          "metadata": {},
          "output_type": "execute_result"
        }
      ],
      "source": [
        "mae(df_train['rougher.output.recovery'], df_train['rougher.output.recovery_calc'])"
      ]
    },
    {
      "cell_type": "markdown",
      "metadata": {
        "id": "lV3rJjxpZXUe"
      },
      "source": [
        "Учитывая, что значение MAE близко к нулю - делаем вывод о корректности расчета показателя \"rougher.output.recovery\" в данных обучающей выборки."
      ]
    },
    {
      "cell_type": "markdown",
      "metadata": {
        "id": "5VA0By4MZXUf"
      },
      "source": [
        "### Анализ данных различающихся в тестовой и обучающей выборках."
      ]
    },
    {
      "cell_type": "code",
      "execution_count": null,
      "metadata": {
        "id": "QezaoaNxZXUf",
        "outputId": "e235c271-1380-46ec-d714-a434a5f63848"
      },
      "outputs": [
        {
          "data": {
            "text/plain": [
              "Index(['final.output.concentrate_ag', 'final.output.concentrate_au',\n",
              "       'final.output.concentrate_pb', 'final.output.concentrate_sol',\n",
              "       'final.output.recovery', 'final.output.tail_ag', 'final.output.tail_au',\n",
              "       'final.output.tail_pb', 'final.output.tail_sol',\n",
              "       'primary_cleaner.output.concentrate_ag',\n",
              "       'primary_cleaner.output.concentrate_au',\n",
              "       'primary_cleaner.output.concentrate_pb',\n",
              "       'primary_cleaner.output.concentrate_sol',\n",
              "       'primary_cleaner.output.tail_ag', 'primary_cleaner.output.tail_au',\n",
              "       'primary_cleaner.output.tail_pb', 'primary_cleaner.output.tail_sol',\n",
              "       'rougher.calculation.au_pb_ratio',\n",
              "       'rougher.calculation.floatbank10_sulfate_to_au_feed',\n",
              "       'rougher.calculation.floatbank11_sulfate_to_au_feed',\n",
              "       'rougher.calculation.sulfate_to_au_concentrate',\n",
              "       'rougher.output.concentrate_ag', 'rougher.output.concentrate_au',\n",
              "       'rougher.output.concentrate_pb', 'rougher.output.concentrate_sol',\n",
              "       'rougher.output.recovery', 'rougher.output.recovery_calc',\n",
              "       'rougher.output.tail_ag', 'rougher.output.tail_au',\n",
              "       'rougher.output.tail_pb', 'rougher.output.tail_sol',\n",
              "       'secondary_cleaner.output.tail_ag', 'secondary_cleaner.output.tail_au',\n",
              "       'secondary_cleaner.output.tail_pb',\n",
              "       'secondary_cleaner.output.tail_sol'],\n",
              "      dtype='object')"
            ]
          },
          "execution_count": 10,
          "metadata": {},
          "output_type": "execute_result"
        }
      ],
      "source": [
        "df_train.columns.difference(df_test.columns)"
      ]
    },
    {
      "cell_type": "code",
      "execution_count": null,
      "metadata": {
        "id": "iTHM9bamZXUf",
        "outputId": "c6030285-4970-4c77-b876-da28521a0c67"
      },
      "outputs": [
        {
          "data": {
            "text/plain": [
              "35"
            ]
          },
          "execution_count": 11,
          "metadata": {},
          "output_type": "execute_result"
        }
      ],
      "source": [
        "len(df_train.columns.difference(df_test.columns))"
      ]
    },
    {
      "cell_type": "code",
      "execution_count": null,
      "metadata": {
        "id": "F-j_hX7nZXUf",
        "outputId": "37263cc1-b38c-4b48-d846-5297da000073"
      },
      "outputs": [
        {
          "data": {
            "text/plain": [
              "Index(['date', 'rougher.input.feed_au', 'rougher.input.feed_ag',\n",
              "       'rougher.input.feed_pb', 'rougher.input.feed_sol',\n",
              "       'rougher.input.feed_rate', 'rougher.input.feed_size',\n",
              "       'rougher.input.floatbank10_sulfate',\n",
              "       'rougher.input.floatbank10_xanthate', 'rougher.state.floatbank10_a_air',\n",
              "       'rougher.state.floatbank10_a_level', 'rougher.state.floatbank10_b_air',\n",
              "       'rougher.state.floatbank10_b_level', 'rougher.state.floatbank10_c_air',\n",
              "       'rougher.state.floatbank10_c_level', 'rougher.state.floatbank10_d_air',\n",
              "       'rougher.state.floatbank10_d_level', 'rougher.state.floatbank10_e_air',\n",
              "       'rougher.state.floatbank10_e_level', 'rougher.state.floatbank10_f_air',\n",
              "       'rougher.state.floatbank10_f_level',\n",
              "       'rougher.input.floatbank11_sulfate',\n",
              "       'rougher.input.floatbank11_xanthate', 'primary_cleaner.input.sulfate',\n",
              "       'primary_cleaner.input.depressant', 'primary_cleaner.input.feed_size',\n",
              "       'primary_cleaner.input.xanthate',\n",
              "       'primary_cleaner.state.floatbank8_a_air',\n",
              "       'primary_cleaner.state.floatbank8_a_level',\n",
              "       'primary_cleaner.state.floatbank8_b_air',\n",
              "       'primary_cleaner.state.floatbank8_b_level',\n",
              "       'primary_cleaner.state.floatbank8_c_air',\n",
              "       'primary_cleaner.state.floatbank8_c_level',\n",
              "       'primary_cleaner.state.floatbank8_d_air',\n",
              "       'primary_cleaner.state.floatbank8_d_level',\n",
              "       'secondary_cleaner.state.floatbank2_a_air',\n",
              "       'secondary_cleaner.state.floatbank2_a_level',\n",
              "       'secondary_cleaner.state.floatbank2_b_air',\n",
              "       'secondary_cleaner.state.floatbank2_b_level',\n",
              "       'secondary_cleaner.state.floatbank3_a_air',\n",
              "       'secondary_cleaner.state.floatbank3_a_level',\n",
              "       'secondary_cleaner.state.floatbank3_b_air',\n",
              "       'secondary_cleaner.state.floatbank3_b_level',\n",
              "       'secondary_cleaner.state.floatbank4_a_air',\n",
              "       'secondary_cleaner.state.floatbank4_a_level',\n",
              "       'secondary_cleaner.state.floatbank4_b_air',\n",
              "       'secondary_cleaner.state.floatbank4_b_level',\n",
              "       'secondary_cleaner.state.floatbank5_a_air',\n",
              "       'secondary_cleaner.state.floatbank5_a_level',\n",
              "       'secondary_cleaner.state.floatbank5_b_air',\n",
              "       'secondary_cleaner.state.floatbank5_b_level',\n",
              "       'secondary_cleaner.state.floatbank6_a_air',\n",
              "       'secondary_cleaner.state.floatbank6_a_level'],\n",
              "      dtype='object')"
            ]
          },
          "execution_count": 12,
          "metadata": {},
          "output_type": "execute_result"
        }
      ],
      "source": [
        "df_train.columns.intersection(df_test.columns)"
      ]
    },
    {
      "cell_type": "code",
      "execution_count": null,
      "metadata": {
        "id": "s4RKezYjZXUg",
        "outputId": "71cc5ffc-e131-43e5-e957-b6dcbb4934a2"
      },
      "outputs": [
        {
          "data": {
            "text/plain": [
              "53"
            ]
          },
          "execution_count": 13,
          "metadata": {},
          "output_type": "execute_result"
        }
      ],
      "source": [
        "len(df_train.columns.intersection(df_test.columns))"
      ]
    },
    {
      "cell_type": "markdown",
      "metadata": {
        "id": "yTs7rPyRZXUg"
      },
      "source": [
        "**Вывод по результатам сравнения данных тестовой и обучающей выборок:**\n",
        "\n",
        "Количество совпадающих столбцов тествой и обучающей выборок совпадает с количеством столбцов тествой выборки, следовательно тестовая выборка не содержит дополнительных столбцов.\n",
        "\n",
        "Дополнительные столбцы, пристствующие в обучающей выборке - столбцы с характеристиками обработки сырья на этапах очистки, а также финальные характеристики после заверщения процесса очистки. Как было указано при постановке задачи - данные параметры недоступны на начальном этапе обработки.\n",
        "\n",
        "Важно отметить, в тестовой выборке отсутствуют параметры: \"final.output.recovery\" и \"rougher.output.recovery\" - целевые признаки для модели, следовательно, впоследствии, их необходимо будет добавить в тестовую выборку."
      ]
    },
    {
      "cell_type": "markdown",
      "metadata": {
        "id": "u5G_hdSkZXUg"
      },
      "source": [
        "Преобразуем формат столбца дата в каждом датасете."
      ]
    },
    {
      "cell_type": "code",
      "execution_count": null,
      "metadata": {
        "id": "ZsCoMv_aZXUg"
      },
      "outputs": [],
      "source": [
        "df_train['date'] = pd.to_datetime(df_train['date'], format='%Y-%m-%d %H:%M:%S')\n",
        "df_test['date']  = pd.to_datetime(df_test['date'],  format='%Y-%m-%d %H:%M:%S')\n",
        "df_full['date']  = pd.to_datetime(df_full['date'],  format='%Y-%m-%d %H:%M:%S')"
      ]
    },
    {
      "cell_type": "markdown",
      "metadata": {
        "id": "moJN4SpsZXUh"
      },
      "source": [
        "Оценим объем данных с пропусками."
      ]
    },
    {
      "cell_type": "code",
      "execution_count": null,
      "metadata": {
        "id": "SFioerJsZXUh",
        "outputId": "62e218f0-9cbf-41d3-d70b-af01fdd4aaa2"
      },
      "outputs": [
        {
          "data": {
            "text/plain": [
              "0.8462"
            ]
          },
          "execution_count": 15,
          "metadata": {},
          "output_type": "execute_result"
        }
      ],
      "source": [
        "round(df_train.dropna().shape[0] / df_train.shape[0], 4)"
      ]
    },
    {
      "cell_type": "code",
      "execution_count": null,
      "metadata": {
        "id": "ohmmPEoCZXUp",
        "outputId": "5e17a8a2-1f6f-480e-d872-82ab7aad2992"
      },
      "outputs": [
        {
          "data": {
            "text/plain": [
              "0.9335"
            ]
          },
          "execution_count": 16,
          "metadata": {},
          "output_type": "execute_result"
        }
      ],
      "source": [
        "round(df_test.dropna().shape[0] / df_test.shape[0], 4)"
      ]
    },
    {
      "cell_type": "markdown",
      "metadata": {
        "id": "4VJuacj5ZXUp"
      },
      "source": [
        "В обучающей выборке меньше 16% пропусков, а в тестовой  - меньше 7%. Восстановить пропуски нет объективной возможности поэтому строки с пропусками - исключаем из датасетов. Данное исключение не должно оказать существенного влияния на работу модели т.к. даже после исключения данных, в  абсолютном выражении, остается достаточно."
      ]
    },
    {
      "cell_type": "code",
      "execution_count": null,
      "metadata": {
        "id": "9MQcmyXKZXUp"
      },
      "outputs": [],
      "source": [
        "df_train.dropna(inplace=True)"
      ]
    },
    {
      "cell_type": "code",
      "execution_count": null,
      "metadata": {
        "id": "dxfOjGavZXUq"
      },
      "outputs": [],
      "source": [
        "df_test.dropna(inplace=True)"
      ]
    },
    {
      "cell_type": "code",
      "execution_count": null,
      "metadata": {
        "id": "GG0Q2XU-ZXUq",
        "outputId": "96e09f07-d3ea-447f-ddbc-4df48aa938d4"
      },
      "outputs": [
        {
          "name": "stdout",
          "output_type": "stream",
          "text": [
            "12337\n",
            "4537\n",
            "2.7192\n"
          ]
        }
      ],
      "source": [
        "print(df_train.shape[0])\n",
        "print(df_test.shape[0])\n",
        "print(round(df_train.shape[0] / df_test.shape[0],4))"
      ]
    },
    {
      "cell_type": "markdown",
      "metadata": {
        "id": "67IVvqcsZXUr"
      },
      "source": [
        "Итоговые размеры выборок и соотношение обучающей и тестовой выборок. Соотношение после исклбчения пропусков ве еще остается близким к 3:1, что позволяет использовать эти выборки для обучение и провеки модели."
      ]
    },
    {
      "cell_type": "markdown",
      "metadata": {
        "id": "8tGsuYyxZXUs"
      },
      "source": [
        "**Общий вывод по предобработке данных:**\n",
        "\n",
        "Данные всех 3 датасетов содержат строки типов dadatime - 1 столбец и float - все остальные столбцы.\n",
        "\n",
        "Данные не содержали полных явных дубликатов строк.\n",
        "\n",
        "Данные тестовой выборки не содержат столбцов \"final.output.recovery\" и \"rougher.output.recovery\", которые являются целевыми признаками модели и поэтому должны быть ими дополнены.\n",
        "\n",
        "По результатам предобработки данные с пропусками были исключены. Объем исключений составил <16% для обучающей выборки и <7% для тестовой."
      ]
    },
    {
      "cell_type": "markdown",
      "metadata": {
        "id": "daZ4ebxYZXUt"
      },
      "source": [
        "## Исследовательский анализ данных"
      ]
    },
    {
      "cell_type": "markdown",
      "metadata": {
        "id": "R282yooEZXUt"
      },
      "source": [
        "### Исследование изменений концентрации металов по этапам обработки"
      ]
    },
    {
      "cell_type": "markdown",
      "metadata": {
        "id": "crifc9uRZXUt"
      },
      "source": [
        "Сформируем датасеты, содержащие информацию по концентрации металлов (по каждому металлу отдельно) на каждом этапе обработки."
      ]
    },
    {
      "cell_type": "code",
      "execution_count": null,
      "metadata": {
        "id": "TVq0cMo3ZXUu"
      },
      "outputs": [],
      "source": [
        "df_full_au = df_full[['rougher.input.feed_au', 'rougher.output.concentrate_au', 'primary_cleaner.output.concentrate_au', \\\n",
        "                   'final.output.concentrate_au']]\n",
        "\n",
        "df_full_ag = df_full[['rougher.input.feed_ag', 'rougher.output.concentrate_ag', 'primary_cleaner.output.concentrate_ag', \\\n",
        "                   'final.output.concentrate_ag']]\n",
        "\n",
        "df_full_pb = df_full[['rougher.input.feed_pb', 'rougher.output.concentrate_pb', 'primary_cleaner.output.concentrate_pb', \\\n",
        "                   'final.output.concentrate_pb']]"
      ]
    },
    {
      "cell_type": "markdown",
      "metadata": {
        "id": "YjekZV4ZZXUu"
      },
      "source": [
        "Построим гистограммы распределений концентраций"
      ]
    },
    {
      "cell_type": "code",
      "execution_count": null,
      "metadata": {
        "id": "D4BA1cRzZXUu",
        "outputId": "6b165ee0-b251-4771-cc21-d337bc2f9bf3"
      },
      "outputs": [
        {
          "data": {
            "image/png": "[encoded data removed]",
            "text/plain": [
              "<Figure size 1152x720 with 1 Axes>"
            ]
          },
          "metadata": {
            "needs_background": "light"
          },
          "output_type": "display_data"
        }
      ],
      "source": [
        "df_full_au.plot.hist(grid=True, figsize=(16,10), stacked=False, bins = 350, alpha = .45,\n",
        "                            title='Суммарная концентрация Au на разных стадиях');\n",
        "plt.legend(['Сырье', 'Черновой концентрат', 'Концентрат после первой очистки', 'Финальный концентрат']);\n",
        "plt.xlabel('Концентрация');\n",
        "plt.ylabel('Частота значений');"
      ]
    },
    {
      "cell_type": "code",
      "execution_count": null,
      "metadata": {
        "id": "LwscuEdCZXUu",
        "outputId": "6231d8a9-23e4-4164-e917-70fbc196ed55"
      },
      "outputs": [
        {
          "data": {
            "image/png": "[encoded data removed]",
            "text/plain": [
              "<Figure size 1152x720 with 1 Axes>"
            ]
          },
          "metadata": {
            "needs_background": "light"
          },
          "output_type": "display_data"
        }
      ],
      "source": [
        "df_full_ag.plot.hist(grid=True, figsize=(16,10), stacked=False, bins = 350, alpha = .45,\n",
        "                            title='Суммарная концентрация Ag на разных стадиях');\n",
        "plt.legend(['Сырье', 'Черновой концентрат', 'Концентрат после первой очистки', 'Финальный концентрат']);\n",
        "plt.xlabel('Концентрация');\n",
        "plt.ylabel('Частота значений');"
      ]
    },
    {
      "cell_type": "code",
      "execution_count": null,
      "metadata": {
        "id": "aXrGUEEdZXUv",
        "outputId": "9cf755e5-648c-43b8-d6cd-db3ddab3a08e"
      },
      "outputs": [
        {
          "data": {
            "image/png": "[encoded data removed]",
            "text/plain": [
              "<Figure size 1152x720 with 1 Axes>"
            ]
          },
          "metadata": {
            "needs_background": "light"
          },
          "output_type": "display_data"
        }
      ],
      "source": [
        "df_full_pb.plot.hist(grid=True, figsize=(16,10), stacked=False, bins = 350, alpha = .45,\n",
        "                            title='Суммарная концентрация Pb на разных стадиях');\n",
        "plt.legend(['Сырье', 'Черновой концентрат', 'Концентрат после первой очистки', 'Финальный концентрат']);\n",
        "plt.xlabel('Концентрация');\n",
        "plt.ylabel('Частота значений');"
      ]
    },
    {
      "cell_type": "markdown",
      "metadata": {
        "id": "RTIdJzS1ZXUv"
      },
      "source": [
        "**Выводы:**\n",
        "- распределния близки к нормальным;\n",
        "- концентрация золота по этапам обработки , ожидаемо, растет;\n",
        "- концентрация свинца растет на этапе чернового концентрата, а между первой очисткой и финальным концентратом отличается не сильно. Но, в целом, концентрация свинца увеличивается с примерно 3% на этапе сырья до 10% на финальном концентрате;\n",
        "- концентрация серебра в финальном концентрате ниже, чем в сырье (порядка 5% в сравнении с 7,5%). Вероятно - особенность технологического процесса. Возможно серебро в этом техноолгическом процессе изывается для дальнейшего обогащения в другом технологическом процессе."
      ]
    },
    {
      "cell_type": "markdown",
      "metadata": {
        "id": "LYmh0ykUZXUv"
      },
      "source": [
        "Устраним аномалии по концентрации металлов (там, где концентрация приблизительно равна нулю) на обучающей и тестовой выборках."
      ]
    },
    {
      "cell_type": "code",
      "execution_count": null,
      "metadata": {
        "id": "f636xM87ZXUw"
      },
      "outputs": [],
      "source": [
        "df_train = df_train.loc[(df_train['rougher.input.feed_au']>0.5) & (df_train['rougher.output.concentrate_au']>0.5) &\n",
        "                      (df_train['primary_cleaner.output.concentrate_au']>0.5) & (df_train['final.output.concentrate_au']>0.5)&\n",
        "                      (df_train['rougher.input.feed_ag']>0.5) & (df_train['rougher.output.concentrate_ag']>0.5) &\n",
        "                      (df_train['primary_cleaner.output.concentrate_ag']>0.5) & (df_train['final.output.concentrate_ag']>0.5)&\n",
        "                      (df_train['rougher.input.feed_pb']>0.5) & (df_train['rougher.output.concentrate_pb']>0.5) &\n",
        "                      (df_train['primary_cleaner.output.concentrate_pb']>0.5) & (df_train['final.output.concentrate_pb']>0.5)]\n",
        "\n",
        "df_test = df_test.loc[(df_test['rougher.input.feed_au']>0.5) &\n",
        "                      (df_test['rougher.input.feed_ag']>0.5) &\n",
        "                      (df_test['rougher.input.feed_pb']>0.5) ]"
      ]
    },
    {
      "cell_type": "code",
      "execution_count": null,
      "metadata": {
        "id": "MQdFKiFbZXUw",
        "outputId": "e9718156-a2e9-4abf-aaa9-35ed783beb00"
      },
      "outputs": [
        {
          "name": "stdout",
          "output_type": "stream",
          "text": [
            "(11856, 88) (4525, 53) 2.6201\n"
          ]
        }
      ],
      "source": [
        "print(df_train.shape, df_test.shape, round(df_train.shape[0]/df_test.shape[0],4))"
      ]
    },
    {
      "cell_type": "code",
      "execution_count": null,
      "metadata": {
        "id": "tR51PZfuZXUw",
        "outputId": "ca86de26-7225-4ba8-e72d-f701410cb752"
      },
      "outputs": [
        {
          "data": {
            "image/png": "[encoded data removed]",
            "text/plain": [
              "<Figure size 1152x720 with 1 Axes>"
            ]
          },
          "metadata": {
            "needs_background": "light"
          },
          "output_type": "display_data"
        }
      ],
      "source": [
        "df_train_au = df_train[['rougher.input.feed_au', 'rougher.output.concentrate_au', 'primary_cleaner.output.concentrate_au', \\\n",
        "                   'final.output.concentrate_au']]\n",
        "df_train_au.plot.hist(grid=True, figsize=(16,10), stacked=False, bins = 350, alpha = .45,\n",
        "                            title='Суммарная концентрация Au на разных стадиях');\n",
        "plt.legend(['Сырье', 'Черновой концентрат', 'Концентрат после первой очистки', 'Финальный концентрат']);\n",
        "plt.xlabel('Концентрация');\n",
        "plt.ylabel('Частота значений');"
      ]
    },
    {
      "cell_type": "markdown",
      "metadata": {
        "id": "TLNnBIYdZXUx"
      },
      "source": [
        "### Анализ распределения размеров гранул исходного сырья в обучающей и тестовой выборках"
      ]
    },
    {
      "cell_type": "markdown",
      "metadata": {
        "id": "D6BP8Gz-ZXUx"
      },
      "source": [
        "От размера гранул исходного сырья зависят и результаты последующей очистки. Поэтому, для корректной работы моделей, важно чтобы эти распределения были близки друг другу."
      ]
    },
    {
      "cell_type": "markdown",
      "metadata": {
        "id": "oTnUrLLFZXUx"
      },
      "source": [
        "Сформируем отдельный датасет с требуемыми данными из обучающей и тестовой ввыборки и построим гистограммы распределения размеров гранул исходного сырья."
      ]
    },
    {
      "cell_type": "code",
      "execution_count": null,
      "metadata": {
        "id": "jHwmeHSfZXUx"
      },
      "outputs": [],
      "source": [
        "df_feed_size_rougher_in  = pd.concat([df_train['rougher.input.feed_size'], df_test['rougher.input.feed_size']], axis = 1)\n",
        "df_feed_size_rougher_out = pd.concat([df_train['primary_cleaner.input.feed_size'],\n",
        "                                      df_test['primary_cleaner.input.feed_size']], axis = 1)"
      ]
    },
    {
      "cell_type": "raw",
      "metadata": {
        "id": "eQ3MRGk2ZXUy"
      },
      "source": [
        "df_feed_size_rougher_in.plot.hist(grid=True, figsize=(16,10), stacked=False, bins = 350, alpha = .45,\n",
        "                            title='Распределение размеров гранул исходного сырья на обучающей и тестовой выборках')\n",
        "plt.legend(['Размер гранул на обучающей выборке', 'Размер гранул на тестовой выборке']);\n",
        "plt.xlabel('Размер гранул');\n",
        "plt.ylabel('Частота значений');\n",
        "\n",
        "df_feed_size_rougher_out.plot.hist(grid=True, figsize=(16,10), stacked=False, bins = 350, alpha = .45,\n",
        "                            title='Распредедеолние размеров гранул после грубой очистки на обучающей и тестовой выборках')\n",
        "\n",
        "plt.legend(['Размер гранул на обучающей выборке', 'Размер гранул на тестовой выборке']);\n",
        "plt.xlabel('Размер гранул');\n",
        "plt.ylabel('Частота значений');"
      ]
    },
    {
      "cell_type": "code",
      "execution_count": null,
      "metadata": {
        "id": "4ee54XdFZXUy",
        "outputId": "150d42d8-041a-470d-82fc-27f0f0fc3d8f"
      },
      "outputs": [
        {
          "data": {
            "image/png": "[encoded data removed]",
            "text/plain": [
              "<Figure size 1152x720 with 1 Axes>"
            ]
          },
          "metadata": {
            "needs_background": "light"
          },
          "output_type": "display_data"
        },
        {
          "data": {
            "image/png": "[encoded data removed]",
            "text/plain": [
              "<Figure size 1152x720 with 1 Axes>"
            ]
          },
          "metadata": {
            "needs_background": "light"
          },
          "output_type": "display_data"
        }
      ],
      "source": [
        "df_feed_size_rougher_in.plot.kde(grid=True, figsize=(16,10))\n",
        "plt.title('Распределение плотности размеров гранул исходного сырья на обучающей и тестовой выборках')\n",
        "plt.legend(['на обучающей выборке', 'на тестовой выборке']);\n",
        "plt.xlabel('Размер гранул');\n",
        "plt.ylabel('Плотность распределения');\n",
        "\n",
        "\n",
        "df_feed_size_rougher_out.plot.kde(grid=True, figsize=(16,10))\n",
        "plt.title('Распределения плотности размеров гранул исходного сырья на обучающей и тестовой выборках')\n",
        "plt.legend(['на обучающей выборке', 'на тестовой выборке']);\n",
        "plt.xlabel('Размер гранул');\n",
        "plt.ylabel('Плотность распределения');\n"
      ]
    },
    {
      "cell_type": "code",
      "execution_count": null,
      "metadata": {
        "id": "9Lt3eIWFZXUy",
        "outputId": "eee4231d-af5e-4074-9a24-23197b82c909"
      },
      "outputs": [
        {
          "name": "stdout",
          "output_type": "stream",
          "text": [
            "53.255\n",
            "55.198\n",
            "0.965\n"
          ]
        }
      ],
      "source": [
        "print(df_feed_size_rougher_in.iloc[:,0].median().round(3))\n",
        "print(df_feed_size_rougher_in.iloc[:,1].median().round(3))\n",
        "print((df_feed_size_rougher_in.iloc[:,0].median()/df_feed_size_rougher_in.iloc[:,1].median()).round(3))"
      ]
    },
    {
      "cell_type": "markdown",
      "metadata": {
        "id": "fzOjPJf2ZXUy"
      },
      "source": [
        "**Выводы:**\n",
        "\n",
        "Распределения и плотности распределений как исходного сырья, так и сырья после грубой очистки практически совпадают, медианные значения совпадают на 96%, следовательно, можно считать, что размеры гранул исходного сырья в обучающей и тестовой выборках совпадают, а значит, модель, обученную по обучающей выборке можно будет проверять по тестовой выборке."
      ]
    },
    {
      "cell_type": "code",
      "execution_count": null,
      "metadata": {
        "id": "xzwOUEmzZXUz"
      },
      "outputs": [],
      "source": [
        "warnings.filterwarnings('ignore')"
      ]
    },
    {
      "cell_type": "markdown",
      "metadata": {
        "id": "_wUYRRj3ZXUz"
      },
      "source": [
        "### Исследование суммарной концентрации металлов по этапам обработки"
      ]
    },
    {
      "cell_type": "markdown",
      "metadata": {
        "id": "dMkD4j3PZXUz"
      },
      "source": [
        "Сформируем датасет содержащий данные о концентрациях металлов по этапам обработки.\n",
        "\n",
        "И построим гистограмму распределения концентраций."
      ]
    },
    {
      "cell_type": "code",
      "execution_count": null,
      "metadata": {
        "id": "G7-7ERF7ZXU0"
      },
      "outputs": [],
      "source": [
        "df_train_all_met=df_train[['rougher.input.feed_au','rougher.output.concentrate_au','primary_cleaner.output.concentrate_au', \\\n",
        "                           'final.output.concentrate_au', \\\n",
        "                           'rougher.input.feed_ag','rougher.output.concentrate_ag','primary_cleaner.output.concentrate_ag', \\\n",
        "                           'final.output.concentrate_ag', \\\n",
        "                           'rougher.input.feed_pb','rougher.output.concentrate_pb','primary_cleaner.output.concentrate_pb', \\\n",
        "                           'final.output.concentrate_pb']]\n",
        "\n",
        "df_train_all_met['rougher.output.concentrate_all_met'] = df_train_all_met['rougher.output.concentrate_au'] + \\\n",
        "df_train_all_met['rougher.output.concentrate_ag'] + df_train_all_met['rougher.output.concentrate_pb']\n",
        "\n",
        "df_train_all_met['rougher.input.feed_all_met'] = df_train_all_met['rougher.input.feed_au'] + \\\n",
        "df_train_all_met['rougher.input.feed_ag'] + df_train_all_met['rougher.input.feed_pb']\n",
        "\n",
        "df_train_all_met['primary_cleaner.output.concentrate_all_met'] = df_train_all_met['primary_cleaner.output.concentrate_au'] + \\\n",
        "df_train_all_met['primary_cleaner.output.concentrate_ag'] + df_train_all_met['primary_cleaner.output.concentrate_pb']\n",
        "\n",
        "df_train_all_met['final.output.concentrate_all_met'] = df_train_all_met['final.output.concentrate_au'] + \\\n",
        "df_train_all_met['final.output.concentrate_ag'] + df_train_all_met['final.output.concentrate_pb']\n",
        "\n",
        "df_train_all_met = df_train_all_met[['rougher.input.feed_all_met', 'rougher.output.concentrate_all_met', \\\n",
        "                                  'primary_cleaner.output.concentrate_all_met', 'final.output.concentrate_all_met']]"
      ]
    },
    {
      "cell_type": "code",
      "execution_count": null,
      "metadata": {
        "id": "oL--buSnZXU0",
        "outputId": "bc254785-9729-42a4-a105-d54a2ecfafea"
      },
      "outputs": [
        {
          "data": {
            "image/png": "[encoded data removed]",
            "text/plain": [
              "<Figure size 1152x720 with 1 Axes>"
            ]
          },
          "metadata": {
            "needs_background": "light"
          },
          "output_type": "display_data"
        }
      ],
      "source": [
        "df_train_all_met.plot.hist(grid=True, figsize=(16,10), stacked=False, bins = 350, alpha = .45,\n",
        "                            title='Суммарная концентрация Всех металлов на разных стадиях');\n",
        "plt.legend(['Сырье', 'Черновой концентрат', 'Концентрат после первой очистки', 'Финальный концентрат']);\n",
        "plt.xlabel('Концентрация');\n",
        "plt.ylabel('Частота значений');"
      ]
    },
    {
      "cell_type": "markdown",
      "metadata": {
        "id": "pSMZq50IZXU1"
      },
      "source": [
        "**Выводы:**\n",
        "\n",
        "Суммарная концентрация металлов по этапам обработки, ожидаемо растет.\n",
        "\n",
        "Разброс концентраций, ожидаемо, уменьшается на каждой последующей стации очистки.\n",
        "\n",
        "Итоговая концентрация металлов в смеси составляет порядка 60%."
      ]
    },
    {
      "cell_type": "code",
      "execution_count": null,
      "metadata": {
        "id": "IkWGIL3DZXU1"
      },
      "outputs": [],
      "source": [
        "# Обращает на себя внимание наличии данных с нулевыми концентрациями именно на этапах обработки\n",
        "# (черновой концентрат. первая и финальная очистки). Учитывая, что это не пропуски,\n",
        "# а именно нулевые значения, предположим, что это нормально для данного технологического процесса и\n",
        "# не требует какой-либо дополнительной корректировки данных в датасетах."
      ]
    },
    {
      "cell_type": "markdown",
      "metadata": {
        "id": "Gv48jaA_ZXU1"
      },
      "source": [
        "**Выводы вцелом по разделу:**\n",
        "\n",
        "Распределения концентраций золота в исходном сырье и на этапах последующей обработки близко к нормальному.\n",
        "\n",
        "Средняя концентрация золота в финальном концетрате находится на уровне 45%.\n",
        "\n",
        "По результатам исследовательского анализа данных дополнительные корректировки данных в выборках не требуются."
      ]
    },
    {
      "cell_type": "markdown",
      "metadata": {
        "id": "YwKEE4u0ZXU2"
      },
      "source": [
        "## Построение, обучение модели и проверка лучшей модели на тестовой выборке"
      ]
    },
    {
      "cell_type": "markdown",
      "metadata": {
        "id": "pIZ9TjQ8ZXU2"
      },
      "source": [
        "### Функция для расчета метрики качества моделей (sMAPE)"
      ]
    },
    {
      "cell_type": "code",
      "execution_count": null,
      "metadata": {
        "id": "nzz25NtgZXU2"
      },
      "outputs": [],
      "source": [
        "def sMAPE_def(target, prediction):\n",
        "    return 1 / len(target) * sum( abs(target - prediction) / ( (abs(target) + abs(prediction)) * 0.5) ) * 100"
      ]
    },
    {
      "cell_type": "markdown",
      "metadata": {
        "id": "fJS1gHwRZXU3"
      },
      "source": [
        "### Подготовка выборок для моделей"
      ]
    },
    {
      "cell_type": "markdown",
      "metadata": {
        "id": "J28ge3O_ZXU3"
      },
      "source": [
        "Сохраним исходную обучающую выборку."
      ]
    },
    {
      "cell_type": "code",
      "execution_count": null,
      "metadata": {
        "id": "34H_OQo8ZXU3"
      },
      "outputs": [],
      "source": [
        "df_train_temp = df_train.copy()"
      ]
    },
    {
      "cell_type": "markdown",
      "metadata": {
        "id": "kjGwe0aVZXU3"
      },
      "source": [
        "Сформируем обучающую выборку с признками совпадающими с признаками в тестовой выборке."
      ]
    },
    {
      "cell_type": "code",
      "execution_count": null,
      "metadata": {
        "id": "PsFc2RKIZXU3"
      },
      "outputs": [],
      "source": [
        "df_train = df_train.drop(list(df_train.columns.difference(df_test.columns)), axis=1)"
      ]
    },
    {
      "cell_type": "code",
      "execution_count": null,
      "metadata": {
        "id": "XLi7Jb5AZXU3",
        "outputId": "3cd9273f-8eea-40d7-c229-6177ec9ca4f5"
      },
      "outputs": [
        {
          "data": {
            "text/plain": [
              "Index(['date', 'rougher.input.feed_au', 'rougher.input.feed_ag',\n",
              "       'rougher.input.feed_pb', 'rougher.input.feed_sol',\n",
              "       'rougher.input.feed_rate', 'rougher.input.feed_size',\n",
              "       'rougher.input.floatbank10_sulfate',\n",
              "       'rougher.input.floatbank10_xanthate', 'rougher.state.floatbank10_a_air',\n",
              "       'rougher.state.floatbank10_a_level', 'rougher.state.floatbank10_b_air',\n",
              "       'rougher.state.floatbank10_b_level', 'rougher.state.floatbank10_c_air',\n",
              "       'rougher.state.floatbank10_c_level', 'rougher.state.floatbank10_d_air',\n",
              "       'rougher.state.floatbank10_d_level', 'rougher.state.floatbank10_e_air',\n",
              "       'rougher.state.floatbank10_e_level', 'rougher.state.floatbank10_f_air',\n",
              "       'rougher.state.floatbank10_f_level',\n",
              "       'rougher.input.floatbank11_sulfate',\n",
              "       'rougher.input.floatbank11_xanthate', 'primary_cleaner.input.sulfate',\n",
              "       'primary_cleaner.input.depressant', 'primary_cleaner.input.feed_size',\n",
              "       'primary_cleaner.input.xanthate',\n",
              "       'primary_cleaner.state.floatbank8_a_air',\n",
              "       'primary_cleaner.state.floatbank8_a_level',\n",
              "       'primary_cleaner.state.floatbank8_b_air',\n",
              "       'primary_cleaner.state.floatbank8_b_level',\n",
              "       'primary_cleaner.state.floatbank8_c_air',\n",
              "       'primary_cleaner.state.floatbank8_c_level',\n",
              "       'primary_cleaner.state.floatbank8_d_air',\n",
              "       'primary_cleaner.state.floatbank8_d_level',\n",
              "       'secondary_cleaner.state.floatbank2_a_air',\n",
              "       'secondary_cleaner.state.floatbank2_a_level',\n",
              "       'secondary_cleaner.state.floatbank2_b_air',\n",
              "       'secondary_cleaner.state.floatbank2_b_level',\n",
              "       'secondary_cleaner.state.floatbank3_a_air',\n",
              "       'secondary_cleaner.state.floatbank3_a_level',\n",
              "       'secondary_cleaner.state.floatbank3_b_air',\n",
              "       'secondary_cleaner.state.floatbank3_b_level',\n",
              "       'secondary_cleaner.state.floatbank4_a_air',\n",
              "       'secondary_cleaner.state.floatbank4_a_level',\n",
              "       'secondary_cleaner.state.floatbank4_b_air',\n",
              "       'secondary_cleaner.state.floatbank4_b_level',\n",
              "       'secondary_cleaner.state.floatbank5_a_air',\n",
              "       'secondary_cleaner.state.floatbank5_a_level',\n",
              "       'secondary_cleaner.state.floatbank5_b_air',\n",
              "       'secondary_cleaner.state.floatbank5_b_level',\n",
              "       'secondary_cleaner.state.floatbank6_a_air',\n",
              "       'secondary_cleaner.state.floatbank6_a_level'],\n",
              "      dtype='object')"
            ]
          },
          "execution_count": 37,
          "metadata": {},
          "output_type": "execute_result"
        }
      ],
      "source": [
        "df_train.columns"
      ]
    },
    {
      "cell_type": "markdown",
      "metadata": {
        "id": "P8YAd0RiZXU4"
      },
      "source": [
        "Так как необходимо отдельно обучить модель на признаках относящихся к характиристикам исходного сырья (rougher) и признакам, относящимся к характеристикам итогового концентрата (final) - в соответствии с компоненотами формулы расчета метрики качества моделей sMAPE - разделим обучающую и тестовую выборки по этим признакам.\n",
        "\n",
        "Сформируем отдельно выборки с признаками и целевым признаком (output.recovery)."
      ]
    },
    {
      "cell_type": "code",
      "execution_count": null,
      "metadata": {
        "id": "96-Qmt7FZXU4"
      },
      "outputs": [],
      "source": [
        "df_train_rougher_features = df_train.iloc[:,1:23]"
      ]
    },
    {
      "cell_type": "code",
      "execution_count": null,
      "metadata": {
        "id": "3UYuzkGyZXU4"
      },
      "outputs": [],
      "source": [
        "df_train_final_features = df_train.iloc[:,23:]"
      ]
    },
    {
      "cell_type": "code",
      "execution_count": null,
      "metadata": {
        "id": "1ieG3ti8ZXU4"
      },
      "outputs": [],
      "source": [
        "df_train_rougher_target = df_train_temp['rougher.output.recovery']"
      ]
    },
    {
      "cell_type": "code",
      "execution_count": null,
      "metadata": {
        "id": "jdDw1Xg5ZXU4"
      },
      "outputs": [],
      "source": [
        "df_train_final_target = df_train_temp['final.output.recovery']"
      ]
    },
    {
      "cell_type": "markdown",
      "metadata": {
        "id": "AapWgUr1ZXU5"
      },
      "source": [
        "Аналогично поступим для формирования признаков и целевого признака для тестовой выборки с единственным дополнением: значения целевого признака (output.recovery) для тестовой выборки возьмем в полном датасете отбором по индексам тестовой выборки."
      ]
    },
    {
      "cell_type": "code",
      "execution_count": null,
      "metadata": {
        "id": "HvRBxsgNZXU5"
      },
      "outputs": [],
      "source": [
        "df_test_rougher_features = df_test.iloc[:,1:23]"
      ]
    },
    {
      "cell_type": "code",
      "execution_count": null,
      "metadata": {
        "id": "VmMBxLm2ZXU5"
      },
      "outputs": [],
      "source": [
        "df_test_final_features = df_test.iloc[:,23:]"
      ]
    },
    {
      "cell_type": "code",
      "execution_count": null,
      "metadata": {
        "id": "B7KCIOriZXU5"
      },
      "outputs": [],
      "source": [
        "df_test_rougher_target = df_full.loc[df_full['date'].isin(list(df_test['date']))]['rougher.output.recovery']"
      ]
    },
    {
      "cell_type": "code",
      "execution_count": null,
      "metadata": {
        "id": "C3IS0pQCZXU5"
      },
      "outputs": [],
      "source": [
        "df_test_final_target = df_full.loc[df_full['date'].isin(list(df_test['date']))]['final.output.recovery']"
      ]
    },
    {
      "cell_type": "markdown",
      "metadata": {
        "id": "3eeyB2_aZXU6"
      },
      "source": [
        "Проверим размерности сформированных выборок."
      ]
    },
    {
      "cell_type": "code",
      "execution_count": null,
      "metadata": {
        "id": "hJQU5QrSZXU6",
        "outputId": "d339f875-21ac-4726-9ced-71f082fe4396"
      },
      "outputs": [
        {
          "name": "stdout",
          "output_type": "stream",
          "text": [
            "(11856, 22)\n"
          ]
        }
      ],
      "source": [
        "print(df_train_rougher_features.shape)"
      ]
    },
    {
      "cell_type": "code",
      "execution_count": null,
      "metadata": {
        "id": "wYnu9fBLZXU6",
        "outputId": "82d847b4-e731-4854-d69c-bf3e9d58b76e"
      },
      "outputs": [
        {
          "name": "stdout",
          "output_type": "stream",
          "text": [
            "(11856,)\n"
          ]
        }
      ],
      "source": [
        "print(df_train_rougher_target.shape)"
      ]
    },
    {
      "cell_type": "code",
      "execution_count": null,
      "metadata": {
        "id": "7XFRXV1pZXU6",
        "outputId": "b8f034f8-a799-473c-bf6d-4840f9614878"
      },
      "outputs": [
        {
          "name": "stdout",
          "output_type": "stream",
          "text": [
            "(11856, 30)\n"
          ]
        }
      ],
      "source": [
        "print(df_train_final_features.shape)"
      ]
    },
    {
      "cell_type": "code",
      "execution_count": null,
      "metadata": {
        "id": "Oms1-FReZXU7",
        "outputId": "3ba5168f-d6ba-4312-a321-ef317775f5f3"
      },
      "outputs": [
        {
          "name": "stdout",
          "output_type": "stream",
          "text": [
            "(11856,)\n"
          ]
        }
      ],
      "source": [
        "print(df_train_final_target.shape)"
      ]
    },
    {
      "cell_type": "code",
      "execution_count": null,
      "metadata": {
        "id": "a9ziJt3jZXU7",
        "outputId": "5a8ee34a-fc2d-4eee-b33d-033b6067087e"
      },
      "outputs": [
        {
          "name": "stdout",
          "output_type": "stream",
          "text": [
            "(4525, 22)\n"
          ]
        }
      ],
      "source": [
        "print(df_test_rougher_features.shape)"
      ]
    },
    {
      "cell_type": "code",
      "execution_count": null,
      "metadata": {
        "id": "CPDaZV-CZXU7",
        "outputId": "9ea6af41-413d-42fa-fb1d-77e6f9a412a4"
      },
      "outputs": [
        {
          "name": "stdout",
          "output_type": "stream",
          "text": [
            "(4525,)\n"
          ]
        }
      ],
      "source": [
        "print(df_test_rougher_target.shape)"
      ]
    },
    {
      "cell_type": "code",
      "execution_count": null,
      "metadata": {
        "id": "WCKQ1NR6ZXU8",
        "outputId": "e08ad10a-d0fb-45f4-af88-3621658c31cc"
      },
      "outputs": [
        {
          "name": "stdout",
          "output_type": "stream",
          "text": [
            "(4525, 30)\n"
          ]
        }
      ],
      "source": [
        "print(df_test_final_features.shape)"
      ]
    },
    {
      "cell_type": "code",
      "execution_count": null,
      "metadata": {
        "scrolled": true,
        "id": "RhPonqR3ZXU8",
        "outputId": "cc7157ed-d8dd-4e1d-e76c-af2b8382a72a"
      },
      "outputs": [
        {
          "name": "stdout",
          "output_type": "stream",
          "text": [
            "(4525,)\n"
          ]
        }
      ],
      "source": [
        "print(df_test_final_target.shape)"
      ]
    },
    {
      "cell_type": "markdown",
      "metadata": {
        "id": "Nu4yEbJeZXU9"
      },
      "source": [
        "### Стандартизация признаков в выборках"
      ]
    },
    {
      "cell_type": "markdown",
      "metadata": {
        "id": "zfrbMhChZXU9"
      },
      "source": [
        "Выборки сформированы корректно, можно стандартизировать признаки методом StandardScaler."
      ]
    },
    {
      "cell_type": "code",
      "execution_count": null,
      "metadata": {
        "id": "bv0MLaeuZXU9"
      },
      "outputs": [],
      "source": [
        "scaler = StandardScaler()"
      ]
    },
    {
      "cell_type": "code",
      "execution_count": null,
      "metadata": {
        "id": "nG5TorVaZXU9"
      },
      "outputs": [],
      "source": [
        "rougher_scaler = scaler.fit(df_train_rougher_features)"
      ]
    },
    {
      "cell_type": "code",
      "execution_count": null,
      "metadata": {
        "id": "JLe4xFuOZXU9"
      },
      "outputs": [],
      "source": [
        "df_train_rougher_features = pd.DataFrame(rougher_scaler.transform(df_train_rougher_features))\n",
        "df_test_rougher_features = pd.DataFrame(rougher_scaler.transform(df_test_rougher_features))"
      ]
    },
    {
      "cell_type": "code",
      "execution_count": null,
      "metadata": {
        "id": "Mg3JujLYZXU9"
      },
      "outputs": [],
      "source": [
        "final_scaler = scaler.fit(df_train_final_features)"
      ]
    },
    {
      "cell_type": "code",
      "execution_count": null,
      "metadata": {
        "id": "CeIKtSIvZXU-"
      },
      "outputs": [],
      "source": [
        "df_train_final_features = pd.DataFrame(final_scaler.transform(df_train_final_features))\n",
        "df_test_final_features = pd.DataFrame(final_scaler.transform(df_test_final_features))"
      ]
    },
    {
      "cell_type": "markdown",
      "metadata": {
        "id": "_S3kl-NgZXU-"
      },
      "source": [
        "Данные в выборках стандартизированы можно приступать к обучению моделей."
      ]
    },
    {
      "cell_type": "markdown",
      "metadata": {
        "id": "xdOKAYDGZXU_"
      },
      "source": [
        "### Обучение и проверка моделей, выбор лучшей модели"
      ]
    },
    {
      "cell_type": "markdown",
      "metadata": {
        "id": "_2YxO8K9ZXU_"
      },
      "source": [
        "В данном проекте рассмотрим две модели: Решающее дерево и Случайный лес, лучшие гиперпараметры модели будем исать методом GridSearchCV, в котором, в качестве критерия будем применять метрику sMAPE, рассчитываемую через функцию make_scorer библиотеки scikit-learn."
      ]
    },
    {
      "cell_type": "code",
      "execution_count": null,
      "metadata": {
        "id": "WFtF-oWwZXU_"
      },
      "outputs": [],
      "source": [
        "STATE = 12345\n",
        "\n",
        "model_dtr = DecisionTreeRegressor(random_state = STATE)\n",
        "model_rfr = RandomForestRegressor(random_state = STATE)"
      ]
    },
    {
      "cell_type": "code",
      "execution_count": null,
      "metadata": {
        "id": "7TkCvI5eZXVA"
      },
      "outputs": [],
      "source": [
        "sMAPE = make_scorer(sMAPE_def, greater_is_better=False)"
      ]
    },
    {
      "cell_type": "markdown",
      "metadata": {
        "id": "njukCoqJZXVA"
      },
      "source": [
        "Для каждого компонента формулы Итового sMAPE сформируем две модели. Диапазоны гиперпараметров для GridSearchCV зададим широкими, чтобы диапазоны не ограничивали поиск личшей модели.\n",
        "\n",
        "После чего послеловательно выведем значение получившейся метрики и гиперпараметры по каждой модели."
      ]
    },
    {
      "cell_type": "code",
      "execution_count": null,
      "metadata": {
        "id": "cqL-b59EZXVA"
      },
      "outputs": [],
      "source": [
        "rougher_grid_rfr = GridSearchCV(model_rfr, {\"n_estimators\":range(10, 71, 20), \"max_depth\":range(1,6)}, sMAPE)\n",
        "model_routher_rfr = rougher_grid_rfr.fit(df_train_rougher_features, df_train_rougher_target)"
      ]
    },
    {
      "cell_type": "code",
      "execution_count": null,
      "metadata": {
        "id": "3MarGPYoZXVB"
      },
      "outputs": [],
      "source": [
        "rougher_grid_dtr = GridSearchCV(model_dtr, {\"max_depth\":range(1,5)}, sMAPE)\n",
        "model_routher_dtr = rougher_grid_dtr.fit(df_train_rougher_features, df_train_rougher_target)"
      ]
    },
    {
      "cell_type": "code",
      "execution_count": null,
      "metadata": {
        "id": "Za4udWPvZXVB"
      },
      "outputs": [],
      "source": [
        "final_grid_rfr = GridSearchCV(model_rfr, {\"n_estimators\":range(10,71, 20), \"max_depth\":range(1,6)}, sMAPE)\n",
        "model_final_rfr = final_grid_rfr.fit(df_train_final_features, df_train_final_target)"
      ]
    },
    {
      "cell_type": "code",
      "execution_count": null,
      "metadata": {
        "id": "06X11fsgZXVB"
      },
      "outputs": [],
      "source": [
        "final_grid_dtr = GridSearchCV(model_dtr, {\"max_depth\":range(1,5)}, sMAPE)\n",
        "model_final_dtr = final_grid_dtr.fit(df_train_final_features, df_train_final_target)"
      ]
    },
    {
      "cell_type": "code",
      "execution_count": null,
      "metadata": {
        "id": "9rZ_f0RfZXVC",
        "outputId": "1f33ba43-c0d3-49d5-cdab-5fe907d8f5e7"
      },
      "outputs": [
        {
          "name": "stdout",
          "output_type": "stream",
          "text": [
            "Лучшее значение метрики sMAPE: 5.4794 \n",
            "Лучшие гиперпараметры модели: RandomForestRegressor(max_depth=4, n_estimators=30, random_state=12345)\n"
          ]
        }
      ],
      "source": [
        "print('Лучшее значение метрики sMAPE:', -round(model_routher_rfr.best_score_,4),\n",
        "          '\\nЛучшие гиперпараметры модели:', model_routher_rfr.best_estimator_)"
      ]
    },
    {
      "cell_type": "code",
      "execution_count": null,
      "metadata": {
        "id": "1Cb1qA0cZXVD",
        "outputId": "6b2c5e56-9287-4d06-df51-3c29fda87744"
      },
      "outputs": [
        {
          "name": "stdout",
          "output_type": "stream",
          "text": [
            "Лучшее значение метрики sMAPE: 5.7928 \n",
            "Лучшие гиперпараметры модели: DecisionTreeRegressor(max_depth=3, random_state=12345)\n"
          ]
        }
      ],
      "source": [
        "print('Лучшее значение метрики sMAPE:', -round(model_routher_dtr.best_score_,4),\n",
        "          '\\nЛучшие гиперпараметры модели:', model_routher_dtr.best_estimator_)"
      ]
    },
    {
      "cell_type": "code",
      "execution_count": null,
      "metadata": {
        "id": "AQvYM4_IZXVD",
        "outputId": "6f0159c6-2fab-4c43-cd9f-989d12bfb81f"
      },
      "outputs": [
        {
          "name": "stdout",
          "output_type": "stream",
          "text": [
            "Лучшее значение метрики sMAPE: 7.9954 \n",
            "Лучшие гиперпараметры модели: RandomForestRegressor(max_depth=2, n_estimators=50, random_state=12345)\n"
          ]
        }
      ],
      "source": [
        "print('Лучшее значение метрики sMAPE:', -round(model_final_rfr.best_score_,4),\n",
        "          '\\nЛучшие гиперпараметры модели:', model_final_rfr.best_estimator_)"
      ]
    },
    {
      "cell_type": "code",
      "execution_count": null,
      "metadata": {
        "id": "exgL0XG7ZXVD",
        "outputId": "558e92a2-9e0b-4fdb-c091-a4648c921db5"
      },
      "outputs": [
        {
          "name": "stdout",
          "output_type": "stream",
          "text": [
            "Лучшее значение метрики sMAPE: 8.1126 \n",
            "Лучшие гиперпараметры модели: DecisionTreeRegressor(max_depth=2, random_state=12345)\n"
          ]
        }
      ],
      "source": [
        "print('Лучшее значение метрики sMAPE:', -round(model_final_dtr.best_score_,4),\n",
        "          '\\nЛучшие гиперпараметры модели:', model_final_dtr.best_estimator_)"
      ]
    },
    {
      "cell_type": "markdown",
      "metadata": {
        "id": "pFCQZ6SMZXVE"
      },
      "source": [
        "При выборе из двух моделей, лучшие показатели по метрике sMAPE дает модель Случайного леса."
      ]
    },
    {
      "cell_type": "markdown",
      "metadata": {
        "id": "dni2fgN0ZXVE"
      },
      "source": [
        "Рассмотрим, каким будет значение Итогового sMAPE по этим моделям:"
      ]
    },
    {
      "cell_type": "code",
      "execution_count": null,
      "metadata": {
        "id": "khaKII5LZXVF"
      },
      "outputs": [],
      "source": [
        "def sMAPE_total(rough, final):\n",
        "    return 0.25 * rough + 0.75 * final"
      ]
    },
    {
      "cell_type": "code",
      "execution_count": null,
      "metadata": {
        "id": "aUh5kunYZXVF",
        "outputId": "a251050c-8b8c-42ae-a21b-43fca29c1d3d"
      },
      "outputs": [
        {
          "data": {
            "text/plain": [
              "7.3664"
            ]
          },
          "execution_count": 70,
          "metadata": {},
          "output_type": "execute_result"
        }
      ],
      "source": [
        "-round(sMAPE_total(model_routher_rfr.best_score_, model_final_rfr.best_score_),4)"
      ]
    },
    {
      "cell_type": "code",
      "execution_count": null,
      "metadata": {
        "id": "RR1ZAwpwZXVF",
        "outputId": "421f5f9a-44c5-4119-fa65-22315e31028b"
      },
      "outputs": [
        {
          "data": {
            "text/plain": [
              "7.5327"
            ]
          },
          "execution_count": 71,
          "metadata": {},
          "output_type": "execute_result"
        }
      ],
      "source": [
        "-round(sMAPE_total(model_routher_dtr.best_score_, model_final_dtr.best_score_),4)"
      ]
    },
    {
      "cell_type": "markdown",
      "metadata": {
        "id": "cxaVsPwkZXVF"
      },
      "source": [
        "Видим, что модель Случайного леса дает лучшее значение Итогового sMAPE."
      ]
    },
    {
      "cell_type": "markdown",
      "metadata": {
        "id": "slJmVe3FZXVG"
      },
      "source": [
        "### Проверка лучшей модели на тестовой выборке"
      ]
    },
    {
      "cell_type": "code",
      "execution_count": null,
      "metadata": {
        "id": "9Jk05T89ZXVG"
      },
      "outputs": [],
      "source": [
        "df_test_rougher_pred = model_routher_rfr.predict(df_test_rougher_features)"
      ]
    },
    {
      "cell_type": "code",
      "execution_count": null,
      "metadata": {
        "id": "zYxBA392ZXVG"
      },
      "outputs": [],
      "source": [
        "df_test_final_pred = model_final_rfr.predict(df_test_final_features)"
      ]
    },
    {
      "cell_type": "code",
      "execution_count": null,
      "metadata": {
        "id": "1JTG1vKTZXVH",
        "outputId": "e4e53975-bf58-4f31-f29c-d2972113038d"
      },
      "outputs": [
        {
          "data": {
            "text/plain": [
              "7.1063"
            ]
          },
          "execution_count": 74,
          "metadata": {},
          "output_type": "execute_result"
        }
      ],
      "source": [
        "rough=sMAPE_def(df_test_rougher_target, df_test_rougher_pred)\n",
        "final=sMAPE_def(df_test_final_target, df_test_final_pred)\n",
        "\n",
        "round(sMAPE_total(rough,final),4)"
      ]
    },
    {
      "cell_type": "markdown",
      "metadata": {
        "id": "OOAfe2qyZXVH"
      },
      "source": [
        "Итоговое значение метрики качества модели составило 7,1%, учитывая, что заказчиком уровень качества модели не был определен, то данный уровень примем за допустимый."
      ]
    },
    {
      "cell_type": "markdown",
      "metadata": {
        "id": "YMgHrff3ZXVH"
      },
      "source": [
        "### Проверка модели на адекватность"
      ]
    },
    {
      "cell_type": "code",
      "execution_count": null,
      "metadata": {
        "id": "1j3vWK4DZXVI"
      },
      "outputs": [],
      "source": [
        "model_dmr_rougher = DummyRegressor()\n",
        "model_dmr_final = DummyRegressor()"
      ]
    },
    {
      "cell_type": "code",
      "execution_count": null,
      "metadata": {
        "id": "K8Cq72PAZXVI",
        "outputId": "9bfa6e3b-841b-43b8-e5eb-1987b447198d"
      },
      "outputs": [
        {
          "data": {
            "text/plain": [
              "8.2779"
            ]
          },
          "execution_count": 78,
          "metadata": {},
          "output_type": "execute_result"
        }
      ],
      "source": [
        "model_rougher_dmr_test = model_dmr_rougher.fit(df_train_rougher_features, df_train_rougher_target)\n",
        "model_final_dmr_test   = model_dmr_final.fit(df_train_final_features, df_train_final_target)\n",
        "\n",
        "df_test_rougher_pred_dmr = model_rougher_dmr_test.predict(df_test_rougher_features)\n",
        "df_test_final_pred_dmr   = model_final_dmr_test.predict(df_test_final_features)\n",
        "\n",
        "rough = sMAPE_def(df_test_rougher_target, df_test_rougher_pred_dmr)\n",
        "final = sMAPE_def(df_test_final_target, df_test_final_pred_dmr)\n",
        "\n",
        "round(sMAPE_total(rough,final),4)"
      ]
    },
    {
      "cell_type": "markdown",
      "metadata": {
        "id": "bsNwpLjCZXVI"
      },
      "source": [
        "В сравнении с разработанной моделью, ошибка модели DummyRegressor выше - следовательно, разработанная модель дает лучшие результаты и прошла проверку на адекватность."
      ]
    },
    {
      "cell_type": "markdown",
      "metadata": {
        "id": "YQHmwDkqZXVK"
      },
      "source": [
        "## Итоговый вывод по проекту"
      ]
    },
    {
      "cell_type": "markdown",
      "metadata": {
        "id": "081UMtDTZXVK"
      },
      "source": [
        "В соответствии с заданием, необходимо было:\n",
        "\n",
        "- разработать прототип модели машинного обучения для предсказания коэффициента восстановления золота из золотосодержащей руды - решить задачу регрессии, обучение с учителем.\n",
        "- предсказания модели должны были строиться независимо на параметрах исходного сырья и параметрах переработки.\n",
        "- качество разных моделей необходимо было сравнить по метрике sMAPE.\n",
        "\n",
        "Для разработки модели были рассмотрены 3 датасета размерами 14 579 на 87, 4 860 на 53 и 19 439 строк на 87 столбцов.\n",
        "\n",
        "В ходе предобработки было установлено отстутствие в данных полных явных дубликатов строк и наличие части строк, содержащих пропуски в данных. В виду отсутствия объективной возможности восстановить пропуски, данные строки были удалены, что привело к сокращению объемов данных от 7 до 16%, тем не менее объем данных все еще оставался значительным (более 10 000 строк).\n",
        "\n",
        "Был проведен исследовательский анализ данных, показавший близкое к нормальному распределение концетраций золота (и других металллов) на разных стадиях обработки. По результатам исследовательсокого анализа было установлена возможнсть использования как обучающей, так и тестовых выборок без дополнительных корректировок.\n",
        "\n",
        "Было рассмотрено две модели: Решающее дерево и Случайный лес. Каждая модель была обучена на отдельных наборах данных из обучающей выборки, относящихся к параметрам исходного сырья и финального концентрата.\n",
        "\n",
        "По результатам расчета лучшие показатели продемонстрировала модель Случайный лес, которая на тестовой выборке показала значение требуемой метрики качества sMAPE = 7.1%.\n",
        "\n",
        "**ИТОГО: по результату выполнения проекта разработан прототип модели машинного обучения (модель Случайный лес) для предсказания коэффициента восстановления золота из золотосодержащей руды, с показателем качества на тестовой выборке по метрике sMAPE = 7,1%**"
      ]
    }
  ],
  "metadata": {
    "ExecuteTimeLog": [
      {
        "duration": 50,
        "start_time": "2023-05-08T11:52:56.124Z"
      },
      {
        "duration": 425,
        "start_time": "2023-05-08T11:53:00.563Z"
      },
      {
        "duration": 2229,
        "start_time": "2023-05-08T11:53:05.137Z"
      },
      {
        "duration": 6,
        "start_time": "2023-05-08T12:00:48.479Z"
      },
      {
        "duration": 961,
        "start_time": "2023-05-08T12:00:51.813Z"
      },
      {
        "duration": 4,
        "start_time": "2023-05-08T12:09:18.819Z"
      },
      {
        "duration": 875,
        "start_time": "2023-05-08T12:09:29.228Z"
      },
      {
        "duration": 4,
        "start_time": "2023-05-08T12:10:29.560Z"
      },
      {
        "duration": 33,
        "start_time": "2023-05-08T12:10:31.994Z"
      },
      {
        "duration": 5,
        "start_time": "2023-05-08T12:10:49.211Z"
      },
      {
        "duration": 10,
        "start_time": "2023-05-08T12:10:51.890Z"
      },
      {
        "duration": 4,
        "start_time": "2023-05-08T12:13:32.821Z"
      },
      {
        "duration": 6,
        "start_time": "2023-05-08T12:13:38.445Z"
      },
      {
        "duration": 9,
        "start_time": "2023-05-08T12:13:43.880Z"
      },
      {
        "duration": 4,
        "start_time": "2023-05-08T12:13:51.909Z"
      },
      {
        "duration": 9,
        "start_time": "2023-05-08T12:13:53.661Z"
      },
      {
        "duration": 6,
        "start_time": "2023-05-08T12:17:48.968Z"
      },
      {
        "duration": 852,
        "start_time": "2023-05-08T12:17:51.479Z"
      },
      {
        "duration": 271,
        "start_time": "2023-05-08T12:23:06.599Z"
      },
      {
        "duration": 899,
        "start_time": "2023-05-08T12:23:13.371Z"
      },
      {
        "duration": 693,
        "start_time": "2023-05-08T13:49:51.049Z"
      },
      {
        "duration": 7,
        "start_time": "2023-05-08T13:57:18.686Z"
      },
      {
        "duration": 5,
        "start_time": "2023-05-08T14:05:24.474Z"
      },
      {
        "duration": 45,
        "start_time": "2023-05-08T14:05:48.388Z"
      },
      {
        "duration": 54,
        "start_time": "2023-05-08T14:06:44.268Z"
      },
      {
        "duration": 46,
        "start_time": "2023-05-08T14:06:53.547Z"
      },
      {
        "duration": 118,
        "start_time": "2023-05-08T14:09:32.076Z"
      },
      {
        "duration": 52,
        "start_time": "2023-05-08T14:10:29.517Z"
      },
      {
        "duration": 41,
        "start_time": "2023-05-08T14:10:44.269Z"
      },
      {
        "duration": 58,
        "start_time": "2023-05-08T14:11:33.301Z"
      },
      {
        "duration": 293,
        "start_time": "2023-05-08T14:11:40.446Z"
      },
      {
        "duration": 14,
        "start_time": "2023-05-08T14:11:52.614Z"
      },
      {
        "duration": 7,
        "start_time": "2023-05-08T14:13:57.288Z"
      },
      {
        "duration": 727,
        "start_time": "2023-05-08T14:14:12.077Z"
      },
      {
        "duration": 9,
        "start_time": "2023-05-08T14:14:19.431Z"
      },
      {
        "duration": 5,
        "start_time": "2023-05-08T14:17:43.601Z"
      },
      {
        "duration": 44,
        "start_time": "2023-05-08T14:18:47.733Z"
      },
      {
        "duration": 10,
        "start_time": "2023-05-08T14:18:54.891Z"
      },
      {
        "duration": 7,
        "start_time": "2023-05-08T14:19:06.112Z"
      },
      {
        "duration": 4,
        "start_time": "2023-05-08T14:19:22.915Z"
      },
      {
        "duration": 5,
        "start_time": "2023-05-08T14:19:35.092Z"
      },
      {
        "duration": 4,
        "start_time": "2023-05-08T14:19:58.883Z"
      },
      {
        "duration": 4,
        "start_time": "2023-05-08T14:20:17.701Z"
      },
      {
        "duration": 14,
        "start_time": "2023-05-08T14:29:12.218Z"
      },
      {
        "duration": 4,
        "start_time": "2023-05-08T14:31:42.124Z"
      },
      {
        "duration": 882,
        "start_time": "2023-05-08T14:31:46.044Z"
      },
      {
        "duration": 5,
        "start_time": "2023-05-08T14:32:01.555Z"
      },
      {
        "duration": 836,
        "start_time": "2023-05-08T14:32:05.698Z"
      },
      {
        "duration": 235,
        "start_time": "2023-05-08T14:32:36.924Z"
      },
      {
        "duration": 876,
        "start_time": "2023-05-08T14:32:48.756Z"
      },
      {
        "duration": 9,
        "start_time": "2023-05-08T14:35:36.886Z"
      },
      {
        "duration": 7,
        "start_time": "2023-05-08T14:35:46.925Z"
      },
      {
        "duration": 8,
        "start_time": "2023-05-08T14:36:35.910Z"
      },
      {
        "duration": 5,
        "start_time": "2023-05-08T14:36:45.499Z"
      },
      {
        "duration": 4,
        "start_time": "2023-05-08T14:37:08.796Z"
      },
      {
        "duration": 4,
        "start_time": "2023-05-08T14:37:14.311Z"
      },
      {
        "duration": 4,
        "start_time": "2023-05-08T14:37:19.904Z"
      },
      {
        "duration": 5,
        "start_time": "2023-05-08T14:37:32.111Z"
      },
      {
        "duration": 3,
        "start_time": "2023-05-08T14:37:37.570Z"
      },
      {
        "duration": 8,
        "start_time": "2023-05-08T14:44:34.876Z"
      },
      {
        "duration": 14,
        "start_time": "2023-05-08T14:47:26.725Z"
      },
      {
        "duration": 13,
        "start_time": "2023-05-08T14:49:06.729Z"
      },
      {
        "duration": 10,
        "start_time": "2023-05-08T14:50:32.471Z"
      },
      {
        "duration": 10,
        "start_time": "2023-05-08T14:50:59.336Z"
      },
      {
        "duration": 7,
        "start_time": "2023-05-08T14:52:19.289Z"
      },
      {
        "duration": 1090,
        "start_time": "2023-05-08T14:53:52.340Z"
      },
      {
        "duration": 717,
        "start_time": "2023-05-08T14:53:53.431Z"
      },
      {
        "duration": 5,
        "start_time": "2023-05-08T14:53:54.149Z"
      },
      {
        "duration": 923,
        "start_time": "2023-05-08T14:53:54.156Z"
      },
      {
        "duration": 284,
        "start_time": "2023-05-08T14:53:55.082Z"
      },
      {
        "duration": 926,
        "start_time": "2023-05-08T14:53:55.368Z"
      },
      {
        "duration": 8,
        "start_time": "2023-05-08T14:53:56.295Z"
      },
      {
        "duration": 17,
        "start_time": "2023-05-08T14:53:56.304Z"
      },
      {
        "duration": 7,
        "start_time": "2023-05-08T14:53:56.322Z"
      },
      {
        "duration": 22,
        "start_time": "2023-05-08T14:53:56.330Z"
      },
      {
        "duration": 11,
        "start_time": "2023-05-08T14:53:56.353Z"
      },
      {
        "duration": 13,
        "start_time": "2023-05-08T14:53:56.365Z"
      },
      {
        "duration": 7,
        "start_time": "2023-05-08T14:53:56.379Z"
      },
      {
        "duration": 16,
        "start_time": "2023-05-08T14:53:56.389Z"
      },
      {
        "duration": 34,
        "start_time": "2023-05-08T14:53:56.407Z"
      },
      {
        "duration": 7,
        "start_time": "2023-05-08T14:53:56.443Z"
      },
      {
        "duration": 11,
        "start_time": "2023-05-08T14:55:24.778Z"
      },
      {
        "duration": 7,
        "start_time": "2023-05-08T14:55:28.760Z"
      },
      {
        "duration": 11,
        "start_time": "2023-05-08T14:56:35.832Z"
      },
      {
        "duration": 7,
        "start_time": "2023-05-08T14:56:50.915Z"
      },
      {
        "duration": 7,
        "start_time": "2023-05-08T14:57:05.733Z"
      },
      {
        "duration": 10,
        "start_time": "2023-05-08T14:57:11.467Z"
      },
      {
        "duration": 11,
        "start_time": "2023-05-08T14:57:17.147Z"
      },
      {
        "duration": 12,
        "start_time": "2023-05-08T14:57:27.286Z"
      },
      {
        "duration": 7,
        "start_time": "2023-05-08T14:57:29.723Z"
      },
      {
        "duration": 105,
        "start_time": "2023-05-08T14:59:32.014Z"
      },
      {
        "duration": 8,
        "start_time": "2023-05-08T15:00:01.790Z"
      },
      {
        "duration": 9,
        "start_time": "2023-05-08T15:01:22.827Z"
      },
      {
        "duration": 8,
        "start_time": "2023-05-08T15:03:53.892Z"
      },
      {
        "duration": 7,
        "start_time": "2023-05-08T15:05:18.897Z"
      },
      {
        "duration": 8,
        "start_time": "2023-05-08T15:08:26.394Z"
      },
      {
        "duration": 1046,
        "start_time": "2023-05-08T15:09:54.636Z"
      },
      {
        "duration": 690,
        "start_time": "2023-05-08T15:09:55.684Z"
      },
      {
        "duration": 5,
        "start_time": "2023-05-08T15:09:56.375Z"
      },
      {
        "duration": 852,
        "start_time": "2023-05-08T15:09:56.382Z"
      },
      {
        "duration": 266,
        "start_time": "2023-05-08T15:09:57.249Z"
      },
      {
        "duration": 889,
        "start_time": "2023-05-08T15:09:57.516Z"
      },
      {
        "duration": 9,
        "start_time": "2023-05-08T15:09:58.407Z"
      },
      {
        "duration": 8,
        "start_time": "2023-05-08T15:09:58.418Z"
      },
      {
        "duration": 27,
        "start_time": "2023-05-08T15:09:58.428Z"
      },
      {
        "duration": 13,
        "start_time": "2023-05-08T15:09:58.457Z"
      },
      {
        "duration": 25,
        "start_time": "2023-05-08T15:09:58.471Z"
      },
      {
        "duration": 21,
        "start_time": "2023-05-08T15:09:58.497Z"
      },
      {
        "duration": 7,
        "start_time": "2023-05-08T15:09:58.519Z"
      },
      {
        "duration": 16,
        "start_time": "2023-05-08T15:09:58.528Z"
      },
      {
        "duration": 27,
        "start_time": "2023-05-08T15:09:58.545Z"
      },
      {
        "duration": 14,
        "start_time": "2023-05-08T15:09:58.574Z"
      },
      {
        "duration": 26,
        "start_time": "2023-05-08T15:09:58.589Z"
      },
      {
        "duration": 6,
        "start_time": "2023-05-08T15:10:42.869Z"
      },
      {
        "duration": 4,
        "start_time": "2023-05-08T15:11:32.905Z"
      },
      {
        "duration": 4,
        "start_time": "2023-05-08T15:11:36.061Z"
      },
      {
        "duration": 3,
        "start_time": "2023-05-08T15:12:22.847Z"
      },
      {
        "duration": 4,
        "start_time": "2023-05-08T15:12:54.950Z"
      },
      {
        "duration": 459,
        "start_time": "2023-05-08T15:30:51.682Z"
      },
      {
        "duration": 114,
        "start_time": "2023-05-08T15:45:25.663Z"
      },
      {
        "duration": 696,
        "start_time": "2023-05-08T15:46:01.356Z"
      },
      {
        "duration": 11,
        "start_time": "2023-05-08T15:47:59.869Z"
      },
      {
        "duration": 798,
        "start_time": "2023-05-08T15:50:17.999Z"
      },
      {
        "duration": 4,
        "start_time": "2023-05-08T15:52:31.258Z"
      },
      {
        "duration": 792,
        "start_time": "2023-05-08T15:52:53.328Z"
      },
      {
        "duration": 264,
        "start_time": "2023-05-08T16:01:17.943Z"
      },
      {
        "duration": 489,
        "start_time": "2023-05-08T16:02:58.823Z"
      },
      {
        "duration": 814,
        "start_time": "2023-05-08T16:09:02.459Z"
      },
      {
        "duration": 793,
        "start_time": "2023-05-08T16:10:27.673Z"
      },
      {
        "duration": 808,
        "start_time": "2023-05-08T16:11:32.572Z"
      },
      {
        "duration": 100,
        "start_time": "2023-05-08T16:12:11.862Z"
      },
      {
        "duration": 109,
        "start_time": "2023-05-08T16:12:21.400Z"
      },
      {
        "duration": 817,
        "start_time": "2023-05-08T16:12:53.677Z"
      },
      {
        "duration": 1969,
        "start_time": "2023-05-08T16:14:30.080Z"
      },
      {
        "duration": 1921,
        "start_time": "2023-05-08T16:15:36.603Z"
      },
      {
        "duration": 1817,
        "start_time": "2023-05-08T16:15:56.018Z"
      },
      {
        "duration": 16,
        "start_time": "2023-05-08T16:19:00.330Z"
      },
      {
        "duration": 1100,
        "start_time": "2023-05-08T16:19:13.952Z"
      },
      {
        "duration": 1894,
        "start_time": "2023-05-08T16:20:12.377Z"
      },
      {
        "duration": 1910,
        "start_time": "2023-05-08T16:20:21.469Z"
      },
      {
        "duration": 13602,
        "start_time": "2023-05-08T16:20:35.621Z"
      },
      {
        "duration": 2040,
        "start_time": "2023-05-08T16:21:01.472Z"
      },
      {
        "duration": 2118,
        "start_time": "2023-05-08T16:21:50.180Z"
      },
      {
        "duration": 2069,
        "start_time": "2023-05-08T16:22:05.204Z"
      },
      {
        "duration": 2382,
        "start_time": "2023-05-08T16:22:19.594Z"
      },
      {
        "duration": 14,
        "start_time": "2023-05-08T16:23:14.589Z"
      },
      {
        "duration": 3,
        "start_time": "2023-05-08T16:23:46.609Z"
      },
      {
        "duration": 12,
        "start_time": "2023-05-08T16:24:12.067Z"
      },
      {
        "duration": 11,
        "start_time": "2023-05-08T16:24:20.734Z"
      },
      {
        "duration": 11,
        "start_time": "2023-05-08T16:24:37.461Z"
      },
      {
        "duration": 1309,
        "start_time": "2023-05-08T16:24:53.074Z"
      },
      {
        "duration": 830,
        "start_time": "2023-05-08T16:24:54.384Z"
      },
      {
        "duration": 5,
        "start_time": "2023-05-08T16:24:55.216Z"
      },
      {
        "duration": 872,
        "start_time": "2023-05-08T16:24:55.223Z"
      },
      {
        "duration": 281,
        "start_time": "2023-05-08T16:24:56.096Z"
      },
      {
        "duration": 938,
        "start_time": "2023-05-08T16:24:56.378Z"
      },
      {
        "duration": 6,
        "start_time": "2023-05-08T16:24:57.317Z"
      },
      {
        "duration": 28,
        "start_time": "2023-05-08T16:24:57.324Z"
      },
      {
        "duration": 6,
        "start_time": "2023-05-08T16:24:57.353Z"
      },
      {
        "duration": 17,
        "start_time": "2023-05-08T16:24:57.362Z"
      },
      {
        "duration": 4,
        "start_time": "2023-05-08T16:24:57.381Z"
      },
      {
        "duration": 5,
        "start_time": "2023-05-08T16:24:57.387Z"
      },
      {
        "duration": 29,
        "start_time": "2023-05-08T16:24:57.393Z"
      },
      {
        "duration": 60,
        "start_time": "2023-05-08T16:24:57.423Z"
      },
      {
        "duration": 39,
        "start_time": "2023-05-08T16:24:57.484Z"
      },
      {
        "duration": 37,
        "start_time": "2023-05-08T16:24:57.524Z"
      },
      {
        "duration": 43,
        "start_time": "2023-05-08T16:24:57.563Z"
      },
      {
        "duration": 25,
        "start_time": "2023-05-08T16:24:57.607Z"
      },
      {
        "duration": 44,
        "start_time": "2023-05-08T16:24:57.634Z"
      },
      {
        "duration": 29,
        "start_time": "2023-05-08T16:24:57.679Z"
      },
      {
        "duration": 117,
        "start_time": "2023-05-08T16:24:57.710Z"
      },
      {
        "duration": 1327,
        "start_time": "2023-05-08T16:25:31.461Z"
      },
      {
        "duration": 771,
        "start_time": "2023-05-08T16:25:32.790Z"
      },
      {
        "duration": 5,
        "start_time": "2023-05-08T16:25:33.563Z"
      },
      {
        "duration": 861,
        "start_time": "2023-05-08T16:25:33.570Z"
      },
      {
        "duration": 377,
        "start_time": "2023-05-08T16:25:34.435Z"
      },
      {
        "duration": 951,
        "start_time": "2023-05-08T16:25:34.814Z"
      },
      {
        "duration": 5,
        "start_time": "2023-05-08T16:25:35.767Z"
      },
      {
        "duration": 17,
        "start_time": "2023-05-08T16:25:35.774Z"
      },
      {
        "duration": 13,
        "start_time": "2023-05-08T16:25:35.793Z"
      },
      {
        "duration": 10,
        "start_time": "2023-05-08T16:25:35.807Z"
      },
      {
        "duration": 8,
        "start_time": "2023-05-08T16:25:35.818Z"
      },
      {
        "duration": 11,
        "start_time": "2023-05-08T16:25:35.827Z"
      },
      {
        "duration": 5,
        "start_time": "2023-05-08T16:25:35.840Z"
      },
      {
        "duration": 33,
        "start_time": "2023-05-08T16:25:35.847Z"
      },
      {
        "duration": 24,
        "start_time": "2023-05-08T16:25:35.881Z"
      },
      {
        "duration": 7,
        "start_time": "2023-05-08T16:25:35.906Z"
      },
      {
        "duration": 12,
        "start_time": "2023-05-08T16:25:35.914Z"
      },
      {
        "duration": 5,
        "start_time": "2023-05-08T16:25:35.928Z"
      },
      {
        "duration": 4,
        "start_time": "2023-05-08T16:25:35.935Z"
      },
      {
        "duration": 15,
        "start_time": "2023-05-08T16:25:35.940Z"
      },
      {
        "duration": 2311,
        "start_time": "2023-05-08T16:25:35.957Z"
      },
      {
        "duration": 2246,
        "start_time": "2023-05-08T16:27:01.610Z"
      },
      {
        "duration": 2197,
        "start_time": "2023-05-08T16:27:24.186Z"
      },
      {
        "duration": 2367,
        "start_time": "2023-05-08T16:27:38.568Z"
      },
      {
        "duration": 1243,
        "start_time": "2023-05-08T16:28:31.976Z"
      },
      {
        "duration": 723,
        "start_time": "2023-05-08T16:28:33.221Z"
      },
      {
        "duration": 4,
        "start_time": "2023-05-08T16:28:33.946Z"
      },
      {
        "duration": 872,
        "start_time": "2023-05-08T16:28:33.952Z"
      },
      {
        "duration": 283,
        "start_time": "2023-05-08T16:28:34.826Z"
      },
      {
        "duration": 904,
        "start_time": "2023-05-08T16:28:35.125Z"
      },
      {
        "duration": 19,
        "start_time": "2023-05-08T16:28:36.031Z"
      },
      {
        "duration": 31,
        "start_time": "2023-05-08T16:28:36.052Z"
      },
      {
        "duration": 15,
        "start_time": "2023-05-08T16:28:36.085Z"
      },
      {
        "duration": 6,
        "start_time": "2023-05-08T16:28:36.102Z"
      },
      {
        "duration": 5,
        "start_time": "2023-05-08T16:28:36.109Z"
      },
      {
        "duration": 9,
        "start_time": "2023-05-08T16:28:36.116Z"
      },
      {
        "duration": 6,
        "start_time": "2023-05-08T16:28:36.127Z"
      },
      {
        "duration": 15,
        "start_time": "2023-05-08T16:28:36.135Z"
      },
      {
        "duration": 33,
        "start_time": "2023-05-08T16:28:36.152Z"
      },
      {
        "duration": 8,
        "start_time": "2023-05-08T16:28:36.186Z"
      },
      {
        "duration": 12,
        "start_time": "2023-05-08T16:28:36.195Z"
      },
      {
        "duration": 6,
        "start_time": "2023-05-08T16:28:36.209Z"
      },
      {
        "duration": 4,
        "start_time": "2023-05-08T16:28:36.217Z"
      },
      {
        "duration": 35,
        "start_time": "2023-05-08T16:28:36.223Z"
      },
      {
        "duration": 2270,
        "start_time": "2023-05-08T16:28:36.259Z"
      },
      {
        "duration": 2447,
        "start_time": "2023-05-08T16:28:38.532Z"
      },
      {
        "duration": 2255,
        "start_time": "2023-05-08T16:28:40.981Z"
      },
      {
        "duration": 6,
        "start_time": "2023-05-08T16:30:10.767Z"
      },
      {
        "duration": 2295,
        "start_time": "2023-05-08T16:30:15.708Z"
      },
      {
        "duration": 6,
        "start_time": "2023-05-08T16:34:35.756Z"
      },
      {
        "duration": 1266,
        "start_time": "2023-05-08T16:36:22.530Z"
      },
      {
        "duration": 1240,
        "start_time": "2023-05-08T16:39:00.862Z"
      },
      {
        "duration": 117,
        "start_time": "2023-05-08T16:41:00.544Z"
      },
      {
        "duration": 5,
        "start_time": "2023-05-08T16:41:09.532Z"
      },
      {
        "duration": 720,
        "start_time": "2023-05-08T16:43:39.945Z"
      },
      {
        "duration": 5,
        "start_time": "2023-05-08T16:47:18.979Z"
      },
      {
        "duration": 5,
        "start_time": "2023-05-08T16:47:50.733Z"
      },
      {
        "duration": 5,
        "start_time": "2023-05-08T16:48:31.420Z"
      },
      {
        "duration": 7,
        "start_time": "2023-05-08T16:49:12.204Z"
      },
      {
        "duration": 5,
        "start_time": "2023-05-08T16:49:58.662Z"
      },
      {
        "duration": 9,
        "start_time": "2023-05-08T16:50:32.543Z"
      },
      {
        "duration": 5,
        "start_time": "2023-05-08T16:51:32.912Z"
      },
      {
        "duration": 6,
        "start_time": "2023-05-08T16:52:34.530Z"
      },
      {
        "duration": 6,
        "start_time": "2023-05-08T16:55:19.764Z"
      },
      {
        "duration": 1451,
        "start_time": "2023-05-09T09:31:54.691Z"
      },
      {
        "duration": 2447,
        "start_time": "2023-05-09T09:31:56.145Z"
      },
      {
        "duration": 5,
        "start_time": "2023-05-09T09:31:58.595Z"
      },
      {
        "duration": 849,
        "start_time": "2023-05-09T09:31:58.602Z"
      },
      {
        "duration": 295,
        "start_time": "2023-05-09T09:31:59.453Z"
      },
      {
        "duration": 1056,
        "start_time": "2023-05-09T09:31:59.750Z"
      },
      {
        "duration": 29,
        "start_time": "2023-05-09T09:32:00.807Z"
      },
      {
        "duration": 16,
        "start_time": "2023-05-09T09:32:00.838Z"
      },
      {
        "duration": 32,
        "start_time": "2023-05-09T09:32:00.857Z"
      },
      {
        "duration": 28,
        "start_time": "2023-05-09T09:32:00.891Z"
      },
      {
        "duration": 19,
        "start_time": "2023-05-09T09:32:00.922Z"
      },
      {
        "duration": 20,
        "start_time": "2023-05-09T09:32:00.943Z"
      },
      {
        "duration": 29,
        "start_time": "2023-05-09T09:32:00.965Z"
      },
      {
        "duration": 47,
        "start_time": "2023-05-09T09:32:00.998Z"
      },
      {
        "duration": 39,
        "start_time": "2023-05-09T09:32:01.048Z"
      },
      {
        "duration": 29,
        "start_time": "2023-05-09T09:32:01.088Z"
      },
      {
        "duration": 19,
        "start_time": "2023-05-09T09:32:01.119Z"
      },
      {
        "duration": 20,
        "start_time": "2023-05-09T09:32:01.139Z"
      },
      {
        "duration": 22,
        "start_time": "2023-05-09T09:32:01.161Z"
      },
      {
        "duration": 41,
        "start_time": "2023-05-09T09:32:01.184Z"
      },
      {
        "duration": 2499,
        "start_time": "2023-05-09T09:32:01.227Z"
      },
      {
        "duration": 2559,
        "start_time": "2023-05-09T09:32:03.728Z"
      },
      {
        "duration": 2372,
        "start_time": "2023-05-09T09:32:06.288Z"
      },
      {
        "duration": 6,
        "start_time": "2023-05-09T09:32:08.661Z"
      },
      {
        "duration": 1328,
        "start_time": "2023-05-09T09:32:08.669Z"
      },
      {
        "duration": 8,
        "start_time": "2023-05-09T09:32:09.999Z"
      },
      {
        "duration": 20,
        "start_time": "2023-05-09T10:04:44.554Z"
      },
      {
        "duration": 12,
        "start_time": "2023-05-09T10:05:21.879Z"
      },
      {
        "duration": 3,
        "start_time": "2023-05-09T10:05:58.156Z"
      },
      {
        "duration": 13,
        "start_time": "2023-05-09T10:06:03.143Z"
      },
      {
        "duration": 2394,
        "start_time": "2023-05-09T10:07:34.081Z"
      },
      {
        "duration": 3,
        "start_time": "2023-05-09T10:24:52.234Z"
      },
      {
        "duration": 3,
        "start_time": "2023-05-09T10:24:54.139Z"
      },
      {
        "duration": 5,
        "start_time": "2023-05-09T10:24:59.732Z"
      },
      {
        "duration": 5,
        "start_time": "2023-05-09T10:33:58.593Z"
      },
      {
        "duration": 4,
        "start_time": "2023-05-09T10:41:25.044Z"
      },
      {
        "duration": 4,
        "start_time": "2023-05-09T10:41:39.897Z"
      },
      {
        "duration": 4,
        "start_time": "2023-05-09T10:42:47.975Z"
      },
      {
        "duration": 4,
        "start_time": "2023-05-09T10:43:05.552Z"
      },
      {
        "duration": 810,
        "start_time": "2023-05-09T10:53:37.440Z"
      },
      {
        "duration": 1248,
        "start_time": "2023-05-09T10:56:04.152Z"
      },
      {
        "duration": 748,
        "start_time": "2023-05-09T10:56:05.401Z"
      },
      {
        "duration": 5,
        "start_time": "2023-05-09T10:56:06.151Z"
      },
      {
        "duration": 792,
        "start_time": "2023-05-09T10:56:06.158Z"
      },
      {
        "duration": 271,
        "start_time": "2023-05-09T10:56:06.952Z"
      },
      {
        "duration": 833,
        "start_time": "2023-05-09T10:56:07.224Z"
      },
      {
        "duration": 5,
        "start_time": "2023-05-09T10:56:08.060Z"
      },
      {
        "duration": 9,
        "start_time": "2023-05-09T10:56:08.067Z"
      },
      {
        "duration": 13,
        "start_time": "2023-05-09T10:56:08.078Z"
      },
      {
        "duration": 9,
        "start_time": "2023-05-09T10:56:08.093Z"
      },
      {
        "duration": 5,
        "start_time": "2023-05-09T10:56:08.104Z"
      },
      {
        "duration": 25,
        "start_time": "2023-05-09T10:56:08.111Z"
      },
      {
        "duration": 11,
        "start_time": "2023-05-09T10:56:08.138Z"
      },
      {
        "duration": 13,
        "start_time": "2023-05-09T10:56:08.151Z"
      },
      {
        "duration": 36,
        "start_time": "2023-05-09T10:56:08.166Z"
      },
      {
        "duration": 7,
        "start_time": "2023-05-09T10:56:08.204Z"
      },
      {
        "duration": 10,
        "start_time": "2023-05-09T10:56:08.213Z"
      },
      {
        "duration": 11,
        "start_time": "2023-05-09T10:56:08.225Z"
      },
      {
        "duration": 5,
        "start_time": "2023-05-09T10:56:08.238Z"
      },
      {
        "duration": 12,
        "start_time": "2023-05-09T10:56:08.245Z"
      },
      {
        "duration": 2305,
        "start_time": "2023-05-09T10:56:08.259Z"
      },
      {
        "duration": 2559,
        "start_time": "2023-05-09T10:56:10.566Z"
      },
      {
        "duration": 2419,
        "start_time": "2023-05-09T10:56:13.127Z"
      },
      {
        "duration": 4,
        "start_time": "2023-05-09T10:56:15.548Z"
      },
      {
        "duration": 1412,
        "start_time": "2023-05-09T10:56:15.554Z"
      },
      {
        "duration": 7,
        "start_time": "2023-05-09T10:56:16.967Z"
      },
      {
        "duration": 5,
        "start_time": "2023-05-09T10:56:16.975Z"
      },
      {
        "duration": 6,
        "start_time": "2023-05-09T10:56:16.983Z"
      },
      {
        "duration": 21,
        "start_time": "2023-05-09T10:56:16.990Z"
      },
      {
        "duration": 2251,
        "start_time": "2023-05-09T10:56:17.013Z"
      },
      {
        "duration": 4,
        "start_time": "2023-05-09T10:56:19.265Z"
      },
      {
        "duration": 7,
        "start_time": "2023-05-09T10:56:19.271Z"
      },
      {
        "duration": 8,
        "start_time": "2023-05-09T10:56:19.280Z"
      },
      {
        "duration": 13,
        "start_time": "2023-05-09T10:56:19.290Z"
      },
      {
        "duration": 9,
        "start_time": "2023-05-09T10:56:19.305Z"
      },
      {
        "duration": 19,
        "start_time": "2023-05-09T10:56:19.315Z"
      },
      {
        "duration": 5,
        "start_time": "2023-05-09T10:56:19.336Z"
      },
      {
        "duration": 6,
        "start_time": "2023-05-09T10:56:19.342Z"
      },
      {
        "duration": 3,
        "start_time": "2023-05-09T10:57:59.214Z"
      },
      {
        "duration": 3,
        "start_time": "2023-05-09T10:59:12.527Z"
      },
      {
        "duration": 5,
        "start_time": "2023-05-09T10:59:49.159Z"
      },
      {
        "duration": 3,
        "start_time": "2023-05-09T11:07:51.936Z"
      },
      {
        "duration": 3,
        "start_time": "2023-05-09T11:07:53.236Z"
      },
      {
        "duration": 898,
        "start_time": "2023-05-09T11:07:53.771Z"
      },
      {
        "duration": 0,
        "start_time": "2023-05-09T11:07:54.671Z"
      },
      {
        "duration": 807,
        "start_time": "2023-05-09T11:11:11.398Z"
      },
      {
        "duration": 4,
        "start_time": "2023-05-09T11:17:55.361Z"
      },
      {
        "duration": 5,
        "start_time": "2023-05-09T11:17:59.916Z"
      },
      {
        "duration": 5,
        "start_time": "2023-05-09T11:18:05.728Z"
      },
      {
        "duration": 7,
        "start_time": "2023-05-09T11:20:31.278Z"
      },
      {
        "duration": 7,
        "start_time": "2023-05-09T11:21:07.707Z"
      },
      {
        "duration": 8,
        "start_time": "2023-05-09T11:22:31.196Z"
      },
      {
        "duration": 1249,
        "start_time": "2023-05-09T11:23:21.564Z"
      },
      {
        "duration": 838,
        "start_time": "2023-05-09T11:23:22.815Z"
      },
      {
        "duration": 4,
        "start_time": "2023-05-09T11:23:23.655Z"
      },
      {
        "duration": 828,
        "start_time": "2023-05-09T11:23:23.661Z"
      },
      {
        "duration": 377,
        "start_time": "2023-05-09T11:23:24.490Z"
      },
      {
        "duration": 895,
        "start_time": "2023-05-09T11:23:24.869Z"
      },
      {
        "duration": 5,
        "start_time": "2023-05-09T11:23:25.766Z"
      },
      {
        "duration": 15,
        "start_time": "2023-05-09T11:23:25.773Z"
      },
      {
        "duration": 8,
        "start_time": "2023-05-09T11:23:25.790Z"
      },
      {
        "duration": 6,
        "start_time": "2023-05-09T11:23:25.801Z"
      },
      {
        "duration": 39,
        "start_time": "2023-05-09T11:23:25.808Z"
      },
      {
        "duration": 8,
        "start_time": "2023-05-09T11:23:25.850Z"
      },
      {
        "duration": 18,
        "start_time": "2023-05-09T11:23:25.859Z"
      },
      {
        "duration": 17,
        "start_time": "2023-05-09T11:23:25.878Z"
      },
      {
        "duration": 32,
        "start_time": "2023-05-09T11:23:25.896Z"
      },
      {
        "duration": 9,
        "start_time": "2023-05-09T11:23:25.929Z"
      },
      {
        "duration": 25,
        "start_time": "2023-05-09T11:23:25.943Z"
      },
      {
        "duration": 6,
        "start_time": "2023-05-09T11:23:25.970Z"
      },
      {
        "duration": 5,
        "start_time": "2023-05-09T11:23:25.977Z"
      },
      {
        "duration": 9,
        "start_time": "2023-05-09T11:23:25.983Z"
      },
      {
        "duration": 2732,
        "start_time": "2023-05-09T11:23:25.993Z"
      },
      {
        "duration": 2991,
        "start_time": "2023-05-09T11:23:28.727Z"
      },
      {
        "duration": 2695,
        "start_time": "2023-05-09T11:23:31.720Z"
      },
      {
        "duration": 17,
        "start_time": "2023-05-09T11:23:34.417Z"
      },
      {
        "duration": 1463,
        "start_time": "2023-05-09T11:23:34.437Z"
      },
      {
        "duration": 7,
        "start_time": "2023-05-09T11:23:35.902Z"
      },
      {
        "duration": 15,
        "start_time": "2023-05-09T11:23:35.911Z"
      },
      {
        "duration": 41,
        "start_time": "2023-05-09T11:23:35.930Z"
      },
      {
        "duration": 27,
        "start_time": "2023-05-09T11:23:35.973Z"
      },
      {
        "duration": 2559,
        "start_time": "2023-05-09T11:23:36.001Z"
      },
      {
        "duration": 3,
        "start_time": "2023-05-09T11:23:38.562Z"
      },
      {
        "duration": 9,
        "start_time": "2023-05-09T11:23:38.567Z"
      },
      {
        "duration": 16,
        "start_time": "2023-05-09T11:23:38.577Z"
      },
      {
        "duration": 8,
        "start_time": "2023-05-09T11:23:38.594Z"
      },
      {
        "duration": 16,
        "start_time": "2023-05-09T11:23:38.603Z"
      },
      {
        "duration": 7,
        "start_time": "2023-05-09T11:23:38.621Z"
      },
      {
        "duration": 8,
        "start_time": "2023-05-09T11:23:38.629Z"
      },
      {
        "duration": 15,
        "start_time": "2023-05-09T11:23:38.638Z"
      },
      {
        "duration": 5,
        "start_time": "2023-05-09T11:23:38.655Z"
      },
      {
        "duration": 6,
        "start_time": "2023-05-09T11:23:38.662Z"
      },
      {
        "duration": 6,
        "start_time": "2023-05-09T11:23:38.669Z"
      },
      {
        "duration": 9,
        "start_time": "2023-05-09T11:23:38.676Z"
      },
      {
        "duration": 7,
        "start_time": "2023-05-09T11:23:38.687Z"
      },
      {
        "duration": 3,
        "start_time": "2023-05-09T11:23:38.695Z"
      },
      {
        "duration": 3,
        "start_time": "2023-05-09T11:25:42.535Z"
      },
      {
        "duration": 3,
        "start_time": "2023-05-09T11:28:30.888Z"
      },
      {
        "duration": 4,
        "start_time": "2023-05-09T11:28:37.072Z"
      },
      {
        "duration": 4,
        "start_time": "2023-05-09T11:30:11.451Z"
      },
      {
        "duration": 3,
        "start_time": "2023-05-09T11:30:22.562Z"
      },
      {
        "duration": 4,
        "start_time": "2023-05-09T11:30:23.351Z"
      },
      {
        "duration": 4,
        "start_time": "2023-05-09T11:30:27.913Z"
      },
      {
        "duration": 1319,
        "start_time": "2023-05-09T11:34:20.155Z"
      },
      {
        "duration": 814,
        "start_time": "2023-05-09T11:34:21.477Z"
      },
      {
        "duration": 5,
        "start_time": "2023-05-09T11:34:22.293Z"
      },
      {
        "duration": 823,
        "start_time": "2023-05-09T11:34:22.300Z"
      },
      {
        "duration": 320,
        "start_time": "2023-05-09T11:34:23.135Z"
      },
      {
        "duration": 926,
        "start_time": "2023-05-09T11:34:23.457Z"
      },
      {
        "duration": 5,
        "start_time": "2023-05-09T11:34:24.384Z"
      },
      {
        "duration": 49,
        "start_time": "2023-05-09T11:34:24.391Z"
      },
      {
        "duration": 13,
        "start_time": "2023-05-09T11:34:24.443Z"
      },
      {
        "duration": 9,
        "start_time": "2023-05-09T11:34:24.457Z"
      },
      {
        "duration": 6,
        "start_time": "2023-05-09T11:34:24.468Z"
      },
      {
        "duration": 7,
        "start_time": "2023-05-09T11:34:24.475Z"
      },
      {
        "duration": 9,
        "start_time": "2023-05-09T11:34:24.483Z"
      },
      {
        "duration": 15,
        "start_time": "2023-05-09T11:34:24.495Z"
      },
      {
        "duration": 62,
        "start_time": "2023-05-09T11:34:24.511Z"
      },
      {
        "duration": 9,
        "start_time": "2023-05-09T11:34:24.575Z"
      },
      {
        "duration": 16,
        "start_time": "2023-05-09T11:34:24.586Z"
      },
      {
        "duration": 11,
        "start_time": "2023-05-09T11:34:24.604Z"
      },
      {
        "duration": 39,
        "start_time": "2023-05-09T11:34:24.616Z"
      },
      {
        "duration": 25,
        "start_time": "2023-05-09T11:34:24.657Z"
      },
      {
        "duration": 2564,
        "start_time": "2023-05-09T11:34:24.684Z"
      },
      {
        "duration": 2603,
        "start_time": "2023-05-09T11:34:27.249Z"
      },
      {
        "duration": 2733,
        "start_time": "2023-05-09T11:34:29.854Z"
      },
      {
        "duration": 6,
        "start_time": "2023-05-09T11:34:32.588Z"
      },
      {
        "duration": 1542,
        "start_time": "2023-05-09T11:34:32.595Z"
      },
      {
        "duration": 20,
        "start_time": "2023-05-09T11:34:34.141Z"
      },
      {
        "duration": 16,
        "start_time": "2023-05-09T11:34:34.169Z"
      },
      {
        "duration": 16,
        "start_time": "2023-05-09T11:34:34.186Z"
      },
      {
        "duration": 22,
        "start_time": "2023-05-09T11:34:34.204Z"
      },
      {
        "duration": 3061,
        "start_time": "2023-05-09T11:34:34.228Z"
      },
      {
        "duration": 12,
        "start_time": "2023-05-09T11:34:37.291Z"
      },
      {
        "duration": 37,
        "start_time": "2023-05-09T11:34:37.305Z"
      },
      {
        "duration": 31,
        "start_time": "2023-05-09T11:34:37.343Z"
      },
      {
        "duration": 15,
        "start_time": "2023-05-09T11:34:37.375Z"
      },
      {
        "duration": 9,
        "start_time": "2023-05-09T11:34:37.392Z"
      },
      {
        "duration": 13,
        "start_time": "2023-05-09T11:34:37.403Z"
      },
      {
        "duration": 11,
        "start_time": "2023-05-09T11:34:37.418Z"
      },
      {
        "duration": 28,
        "start_time": "2023-05-09T11:34:37.431Z"
      },
      {
        "duration": 13,
        "start_time": "2023-05-09T11:34:37.461Z"
      },
      {
        "duration": 11,
        "start_time": "2023-05-09T11:34:37.476Z"
      },
      {
        "duration": 7,
        "start_time": "2023-05-09T11:34:37.493Z"
      },
      {
        "duration": 45,
        "start_time": "2023-05-09T11:34:37.502Z"
      },
      {
        "duration": 11,
        "start_time": "2023-05-09T11:34:37.554Z"
      },
      {
        "duration": 9,
        "start_time": "2023-05-09T11:34:37.567Z"
      },
      {
        "duration": 7,
        "start_time": "2023-05-09T11:34:37.577Z"
      },
      {
        "duration": 13,
        "start_time": "2023-05-09T11:34:37.586Z"
      },
      {
        "duration": 7,
        "start_time": "2023-05-09T11:34:37.600Z"
      },
      {
        "duration": 17,
        "start_time": "2023-05-09T11:34:37.608Z"
      },
      {
        "duration": 37,
        "start_time": "2023-05-09T11:34:37.627Z"
      },
      {
        "duration": 16,
        "start_time": "2023-05-09T11:34:37.666Z"
      },
      {
        "duration": 11,
        "start_time": "2023-05-09T11:34:37.684Z"
      },
      {
        "duration": 10,
        "start_time": "2023-05-09T11:45:47.523Z"
      },
      {
        "duration": 112,
        "start_time": "2023-05-09T11:46:32.227Z"
      },
      {
        "duration": 1420,
        "start_time": "2023-05-09T11:48:40.285Z"
      },
      {
        "duration": 847,
        "start_time": "2023-05-09T11:48:41.707Z"
      },
      {
        "duration": 5,
        "start_time": "2023-05-09T11:48:42.556Z"
      },
      {
        "duration": 888,
        "start_time": "2023-05-09T11:48:42.563Z"
      },
      {
        "duration": 314,
        "start_time": "2023-05-09T11:48:43.455Z"
      },
      {
        "duration": 1037,
        "start_time": "2023-05-09T11:48:43.771Z"
      },
      {
        "duration": 9,
        "start_time": "2023-05-09T11:48:44.810Z"
      },
      {
        "duration": 28,
        "start_time": "2023-05-09T11:48:44.835Z"
      },
      {
        "duration": 32,
        "start_time": "2023-05-09T11:48:44.864Z"
      },
      {
        "duration": 22,
        "start_time": "2023-05-09T11:48:44.900Z"
      },
      {
        "duration": 20,
        "start_time": "2023-05-09T11:48:44.924Z"
      },
      {
        "duration": 42,
        "start_time": "2023-05-09T11:48:44.945Z"
      },
      {
        "duration": 44,
        "start_time": "2023-05-09T11:48:44.992Z"
      },
      {
        "duration": 45,
        "start_time": "2023-05-09T11:48:45.038Z"
      },
      {
        "duration": 40,
        "start_time": "2023-05-09T11:48:45.085Z"
      },
      {
        "duration": 9,
        "start_time": "2023-05-09T11:48:45.127Z"
      },
      {
        "duration": 23,
        "start_time": "2023-05-09T11:48:45.140Z"
      },
      {
        "duration": 18,
        "start_time": "2023-05-09T11:48:45.165Z"
      },
      {
        "duration": 4,
        "start_time": "2023-05-09T11:48:45.186Z"
      },
      {
        "duration": 18,
        "start_time": "2023-05-09T11:48:45.192Z"
      },
      {
        "duration": 2716,
        "start_time": "2023-05-09T11:48:45.213Z"
      },
      {
        "duration": 2712,
        "start_time": "2023-05-09T11:48:47.934Z"
      },
      {
        "duration": 2564,
        "start_time": "2023-05-09T11:48:50.651Z"
      },
      {
        "duration": 25,
        "start_time": "2023-05-09T11:48:53.216Z"
      },
      {
        "duration": 1483,
        "start_time": "2023-05-09T11:48:53.244Z"
      },
      {
        "duration": 12,
        "start_time": "2023-05-09T11:48:54.730Z"
      },
      {
        "duration": 35,
        "start_time": "2023-05-09T11:48:54.745Z"
      },
      {
        "duration": 7,
        "start_time": "2023-05-09T11:48:54.784Z"
      },
      {
        "duration": 23,
        "start_time": "2023-05-09T11:48:54.793Z"
      },
      {
        "duration": 2589,
        "start_time": "2023-05-09T11:48:54.819Z"
      },
      {
        "duration": 3,
        "start_time": "2023-05-09T11:48:57.410Z"
      },
      {
        "duration": 12,
        "start_time": "2023-05-09T11:48:57.415Z"
      },
      {
        "duration": 6,
        "start_time": "2023-05-09T11:48:57.435Z"
      },
      {
        "duration": 28,
        "start_time": "2023-05-09T11:48:57.443Z"
      },
      {
        "duration": 7,
        "start_time": "2023-05-09T11:48:57.472Z"
      },
      {
        "duration": 6,
        "start_time": "2023-05-09T11:48:57.481Z"
      },
      {
        "duration": 6,
        "start_time": "2023-05-09T11:48:57.489Z"
      },
      {
        "duration": 4,
        "start_time": "2023-05-09T11:48:57.497Z"
      },
      {
        "duration": 5,
        "start_time": "2023-05-09T11:48:57.503Z"
      },
      {
        "duration": 6,
        "start_time": "2023-05-09T11:48:57.509Z"
      },
      {
        "duration": 9,
        "start_time": "2023-05-09T11:48:57.516Z"
      },
      {
        "duration": 135,
        "start_time": "2023-05-09T11:48:57.527Z"
      },
      {
        "duration": 0,
        "start_time": "2023-05-09T11:48:57.664Z"
      },
      {
        "duration": 0,
        "start_time": "2023-05-09T11:48:57.665Z"
      },
      {
        "duration": 0,
        "start_time": "2023-05-09T11:48:57.667Z"
      },
      {
        "duration": 0,
        "start_time": "2023-05-09T11:48:57.668Z"
      },
      {
        "duration": 0,
        "start_time": "2023-05-09T11:48:57.669Z"
      },
      {
        "duration": 0,
        "start_time": "2023-05-09T11:48:57.670Z"
      },
      {
        "duration": 0,
        "start_time": "2023-05-09T11:48:57.671Z"
      },
      {
        "duration": 0,
        "start_time": "2023-05-09T11:48:57.672Z"
      },
      {
        "duration": 0,
        "start_time": "2023-05-09T11:48:57.674Z"
      },
      {
        "duration": 0,
        "start_time": "2023-05-09T11:48:57.676Z"
      },
      {
        "duration": 0,
        "start_time": "2023-05-09T11:48:57.677Z"
      },
      {
        "duration": 0,
        "start_time": "2023-05-09T11:48:57.678Z"
      },
      {
        "duration": 17,
        "start_time": "2023-05-09T11:49:49.957Z"
      },
      {
        "duration": 13,
        "start_time": "2023-05-09T11:54:11.996Z"
      },
      {
        "duration": 8,
        "start_time": "2023-05-09T11:56:28.362Z"
      },
      {
        "duration": 12,
        "start_time": "2023-05-09T11:56:40.739Z"
      },
      {
        "duration": 7,
        "start_time": "2023-05-09T11:57:16.579Z"
      },
      {
        "duration": 3,
        "start_time": "2023-05-09T11:57:22.457Z"
      },
      {
        "duration": 4,
        "start_time": "2023-05-09T11:57:22.690Z"
      },
      {
        "duration": 4,
        "start_time": "2023-05-09T11:57:22.874Z"
      },
      {
        "duration": 3,
        "start_time": "2023-05-09T11:57:23.065Z"
      },
      {
        "duration": 4,
        "start_time": "2023-05-09T11:57:23.298Z"
      },
      {
        "duration": 3,
        "start_time": "2023-05-09T11:57:26.729Z"
      },
      {
        "duration": 4,
        "start_time": "2023-05-09T11:57:29.578Z"
      },
      {
        "duration": 4,
        "start_time": "2023-05-09T11:57:30.209Z"
      },
      {
        "duration": 1367,
        "start_time": "2023-05-09T11:58:14.602Z"
      },
      {
        "duration": 912,
        "start_time": "2023-05-09T11:58:15.971Z"
      },
      {
        "duration": 7,
        "start_time": "2023-05-09T11:58:16.885Z"
      },
      {
        "duration": 915,
        "start_time": "2023-05-09T11:58:16.895Z"
      },
      {
        "duration": 350,
        "start_time": "2023-05-09T11:58:17.812Z"
      },
      {
        "duration": 931,
        "start_time": "2023-05-09T11:58:18.164Z"
      },
      {
        "duration": 6,
        "start_time": "2023-05-09T11:58:19.096Z"
      },
      {
        "duration": 17,
        "start_time": "2023-05-09T11:58:19.103Z"
      },
      {
        "duration": 15,
        "start_time": "2023-05-09T11:58:19.122Z"
      },
      {
        "duration": 5,
        "start_time": "2023-05-09T11:58:19.140Z"
      },
      {
        "duration": 9,
        "start_time": "2023-05-09T11:58:19.150Z"
      },
      {
        "duration": 13,
        "start_time": "2023-05-09T11:58:19.161Z"
      },
      {
        "duration": 13,
        "start_time": "2023-05-09T11:58:19.175Z"
      },
      {
        "duration": 19,
        "start_time": "2023-05-09T11:58:19.189Z"
      },
      {
        "duration": 41,
        "start_time": "2023-05-09T11:58:19.210Z"
      },
      {
        "duration": 9,
        "start_time": "2023-05-09T11:58:19.254Z"
      },
      {
        "duration": 12,
        "start_time": "2023-05-09T11:58:19.266Z"
      },
      {
        "duration": 13,
        "start_time": "2023-05-09T11:58:19.280Z"
      },
      {
        "duration": 5,
        "start_time": "2023-05-09T11:58:19.295Z"
      },
      {
        "duration": 9,
        "start_time": "2023-05-09T11:58:19.301Z"
      },
      {
        "duration": 2517,
        "start_time": "2023-05-09T11:58:19.313Z"
      },
      {
        "duration": 2770,
        "start_time": "2023-05-09T11:58:21.834Z"
      },
      {
        "duration": 2621,
        "start_time": "2023-05-09T11:58:24.607Z"
      },
      {
        "duration": 20,
        "start_time": "2023-05-09T11:58:27.229Z"
      },
      {
        "duration": 1329,
        "start_time": "2023-05-09T11:58:27.251Z"
      },
      {
        "duration": 8,
        "start_time": "2023-05-09T11:58:28.582Z"
      },
      {
        "duration": 6,
        "start_time": "2023-05-09T11:58:28.591Z"
      },
      {
        "duration": 6,
        "start_time": "2023-05-09T11:58:28.600Z"
      },
      {
        "duration": 34,
        "start_time": "2023-05-09T11:58:28.607Z"
      },
      {
        "duration": 2545,
        "start_time": "2023-05-09T11:58:28.646Z"
      },
      {
        "duration": 3,
        "start_time": "2023-05-09T11:58:31.193Z"
      },
      {
        "duration": 30,
        "start_time": "2023-05-09T11:58:31.198Z"
      },
      {
        "duration": 36,
        "start_time": "2023-05-09T11:58:31.230Z"
      },
      {
        "duration": 40,
        "start_time": "2023-05-09T11:58:31.268Z"
      },
      {
        "duration": 22,
        "start_time": "2023-05-09T11:58:31.310Z"
      },
      {
        "duration": 30,
        "start_time": "2023-05-09T11:58:31.334Z"
      },
      {
        "duration": 32,
        "start_time": "2023-05-09T11:58:31.365Z"
      },
      {
        "duration": 33,
        "start_time": "2023-05-09T11:58:31.399Z"
      },
      {
        "duration": 50,
        "start_time": "2023-05-09T11:58:31.434Z"
      },
      {
        "duration": 33,
        "start_time": "2023-05-09T11:58:31.486Z"
      },
      {
        "duration": 48,
        "start_time": "2023-05-09T11:58:31.520Z"
      },
      {
        "duration": 49,
        "start_time": "2023-05-09T11:58:31.570Z"
      },
      {
        "duration": 54,
        "start_time": "2023-05-09T11:58:31.620Z"
      },
      {
        "duration": 39,
        "start_time": "2023-05-09T11:58:31.676Z"
      },
      {
        "duration": 39,
        "start_time": "2023-05-09T11:58:31.717Z"
      },
      {
        "duration": 23,
        "start_time": "2023-05-09T11:58:31.759Z"
      },
      {
        "duration": 22,
        "start_time": "2023-05-09T11:58:31.784Z"
      },
      {
        "duration": 24,
        "start_time": "2023-05-09T11:58:31.807Z"
      },
      {
        "duration": 24,
        "start_time": "2023-05-09T11:58:31.833Z"
      },
      {
        "duration": 30,
        "start_time": "2023-05-09T11:58:31.858Z"
      },
      {
        "duration": 43,
        "start_time": "2023-05-09T11:58:31.890Z"
      },
      {
        "duration": 129,
        "start_time": "2023-05-09T11:58:31.937Z"
      },
      {
        "duration": 0,
        "start_time": "2023-05-09T11:58:32.068Z"
      },
      {
        "duration": 0,
        "start_time": "2023-05-09T11:58:32.068Z"
      },
      {
        "duration": 1284,
        "start_time": "2023-05-09T12:04:55.982Z"
      },
      {
        "duration": 836,
        "start_time": "2023-05-09T12:04:57.268Z"
      },
      {
        "duration": 5,
        "start_time": "2023-05-09T12:04:58.105Z"
      },
      {
        "duration": 848,
        "start_time": "2023-05-09T12:04:58.112Z"
      },
      {
        "duration": 299,
        "start_time": "2023-05-09T12:04:58.962Z"
      },
      {
        "duration": 851,
        "start_time": "2023-05-09T12:04:59.263Z"
      },
      {
        "duration": 21,
        "start_time": "2023-05-09T12:05:00.115Z"
      },
      {
        "duration": 25,
        "start_time": "2023-05-09T12:05:00.139Z"
      },
      {
        "duration": 27,
        "start_time": "2023-05-09T12:05:00.166Z"
      },
      {
        "duration": 19,
        "start_time": "2023-05-09T12:05:00.195Z"
      },
      {
        "duration": 32,
        "start_time": "2023-05-09T12:05:00.216Z"
      },
      {
        "duration": 44,
        "start_time": "2023-05-09T12:05:00.251Z"
      },
      {
        "duration": 24,
        "start_time": "2023-05-09T12:05:00.296Z"
      },
      {
        "duration": 32,
        "start_time": "2023-05-09T12:05:00.322Z"
      },
      {
        "duration": 55,
        "start_time": "2023-05-09T12:05:00.356Z"
      },
      {
        "duration": 47,
        "start_time": "2023-05-09T12:05:00.413Z"
      },
      {
        "duration": 90,
        "start_time": "2023-05-09T12:05:00.461Z"
      },
      {
        "duration": 23,
        "start_time": "2023-05-09T12:05:00.553Z"
      },
      {
        "duration": 20,
        "start_time": "2023-05-09T12:05:00.578Z"
      },
      {
        "duration": 46,
        "start_time": "2023-05-09T12:05:00.600Z"
      },
      {
        "duration": 2606,
        "start_time": "2023-05-09T12:05:00.647Z"
      },
      {
        "duration": 2701,
        "start_time": "2023-05-09T12:05:03.255Z"
      },
      {
        "duration": 2465,
        "start_time": "2023-05-09T12:05:05.958Z"
      },
      {
        "duration": 15,
        "start_time": "2023-05-09T12:05:08.424Z"
      },
      {
        "duration": 1351,
        "start_time": "2023-05-09T12:05:08.444Z"
      },
      {
        "duration": 7,
        "start_time": "2023-05-09T12:05:09.796Z"
      },
      {
        "duration": 5,
        "start_time": "2023-05-09T12:05:09.805Z"
      },
      {
        "duration": 3,
        "start_time": "2023-05-09T12:05:09.813Z"
      },
      {
        "duration": 29,
        "start_time": "2023-05-09T12:05:09.818Z"
      },
      {
        "duration": 2550,
        "start_time": "2023-05-09T12:05:09.851Z"
      },
      {
        "duration": 3,
        "start_time": "2023-05-09T12:05:12.402Z"
      },
      {
        "duration": 10,
        "start_time": "2023-05-09T12:05:12.406Z"
      },
      {
        "duration": 26,
        "start_time": "2023-05-09T12:05:12.417Z"
      },
      {
        "duration": 8,
        "start_time": "2023-05-09T12:05:12.445Z"
      },
      {
        "duration": 17,
        "start_time": "2023-05-09T12:05:12.456Z"
      },
      {
        "duration": 8,
        "start_time": "2023-05-09T12:05:12.475Z"
      },
      {
        "duration": 6,
        "start_time": "2023-05-09T12:05:12.484Z"
      },
      {
        "duration": 5,
        "start_time": "2023-05-09T12:05:12.491Z"
      },
      {
        "duration": 6,
        "start_time": "2023-05-09T12:05:12.497Z"
      },
      {
        "duration": 6,
        "start_time": "2023-05-09T12:05:12.504Z"
      },
      {
        "duration": 8,
        "start_time": "2023-05-09T12:05:12.511Z"
      },
      {
        "duration": 7,
        "start_time": "2023-05-09T12:05:12.521Z"
      },
      {
        "duration": 31,
        "start_time": "2023-05-09T12:05:12.530Z"
      },
      {
        "duration": 7,
        "start_time": "2023-05-09T12:05:12.563Z"
      },
      {
        "duration": 7,
        "start_time": "2023-05-09T12:05:12.572Z"
      },
      {
        "duration": 13,
        "start_time": "2023-05-09T12:05:12.581Z"
      },
      {
        "duration": 7,
        "start_time": "2023-05-09T12:05:12.596Z"
      },
      {
        "duration": 6,
        "start_time": "2023-05-09T12:05:12.605Z"
      },
      {
        "duration": 9,
        "start_time": "2023-05-09T12:05:12.613Z"
      },
      {
        "duration": 10,
        "start_time": "2023-05-09T12:05:12.624Z"
      },
      {
        "duration": 32,
        "start_time": "2023-05-09T12:05:12.635Z"
      },
      {
        "duration": 11,
        "start_time": "2023-05-09T12:05:12.668Z"
      },
      {
        "duration": 114,
        "start_time": "2023-05-09T12:05:12.680Z"
      },
      {
        "duration": 0,
        "start_time": "2023-05-09T12:05:12.796Z"
      },
      {
        "duration": 0,
        "start_time": "2023-05-09T12:05:12.797Z"
      },
      {
        "duration": 7,
        "start_time": "2023-05-09T12:06:53.112Z"
      },
      {
        "duration": 9,
        "start_time": "2023-05-09T12:06:54.704Z"
      },
      {
        "duration": 3,
        "start_time": "2023-05-09T12:06:56.527Z"
      },
      {
        "duration": 4,
        "start_time": "2023-05-09T12:06:56.775Z"
      },
      {
        "duration": 7,
        "start_time": "2023-05-09T12:06:57.043Z"
      },
      {
        "duration": 3,
        "start_time": "2023-05-09T12:06:57.281Z"
      },
      {
        "duration": 4,
        "start_time": "2023-05-09T12:06:57.513Z"
      },
      {
        "duration": 2,
        "start_time": "2023-05-09T12:06:58.808Z"
      },
      {
        "duration": 3,
        "start_time": "2023-05-09T12:06:59.715Z"
      },
      {
        "duration": 4,
        "start_time": "2023-05-09T12:07:00.549Z"
      },
      {
        "duration": 1347,
        "start_time": "2023-05-09T12:08:07.310Z"
      },
      {
        "duration": 814,
        "start_time": "2023-05-09T12:08:08.658Z"
      },
      {
        "duration": 4,
        "start_time": "2023-05-09T12:08:09.474Z"
      },
      {
        "duration": 816,
        "start_time": "2023-05-09T12:08:09.480Z"
      },
      {
        "duration": 294,
        "start_time": "2023-05-09T12:08:10.298Z"
      },
      {
        "duration": 881,
        "start_time": "2023-05-09T12:08:10.594Z"
      },
      {
        "duration": 5,
        "start_time": "2023-05-09T12:08:11.477Z"
      },
      {
        "duration": 9,
        "start_time": "2023-05-09T12:08:11.483Z"
      },
      {
        "duration": 8,
        "start_time": "2023-05-09T12:08:11.493Z"
      },
      {
        "duration": 39,
        "start_time": "2023-05-09T12:08:11.504Z"
      },
      {
        "duration": 12,
        "start_time": "2023-05-09T12:08:11.546Z"
      },
      {
        "duration": 9,
        "start_time": "2023-05-09T12:08:11.560Z"
      },
      {
        "duration": 110,
        "start_time": "2023-05-09T12:08:11.571Z"
      },
      {
        "duration": 20,
        "start_time": "2023-05-09T12:08:11.682Z"
      },
      {
        "duration": 36,
        "start_time": "2023-05-09T12:08:11.703Z"
      },
      {
        "duration": 11,
        "start_time": "2023-05-09T12:08:11.741Z"
      },
      {
        "duration": 11,
        "start_time": "2023-05-09T12:08:11.753Z"
      },
      {
        "duration": 6,
        "start_time": "2023-05-09T12:08:11.765Z"
      },
      {
        "duration": 12,
        "start_time": "2023-05-09T12:08:11.772Z"
      },
      {
        "duration": 8,
        "start_time": "2023-05-09T12:08:11.786Z"
      },
      {
        "duration": 2452,
        "start_time": "2023-05-09T12:08:11.795Z"
      },
      {
        "duration": 2693,
        "start_time": "2023-05-09T12:08:14.251Z"
      },
      {
        "duration": 2486,
        "start_time": "2023-05-09T12:08:16.946Z"
      },
      {
        "duration": 11,
        "start_time": "2023-05-09T12:08:19.434Z"
      },
      {
        "duration": 1371,
        "start_time": "2023-05-09T12:08:19.447Z"
      },
      {
        "duration": 22,
        "start_time": "2023-05-09T12:08:20.820Z"
      },
      {
        "duration": 3,
        "start_time": "2023-05-09T12:08:20.844Z"
      },
      {
        "duration": 9,
        "start_time": "2023-05-09T12:08:20.852Z"
      },
      {
        "duration": 16,
        "start_time": "2023-05-09T12:08:20.863Z"
      },
      {
        "duration": 2530,
        "start_time": "2023-05-09T12:08:20.880Z"
      },
      {
        "duration": 3,
        "start_time": "2023-05-09T12:08:23.412Z"
      },
      {
        "duration": 34,
        "start_time": "2023-05-09T12:08:23.417Z"
      },
      {
        "duration": 24,
        "start_time": "2023-05-09T12:08:23.453Z"
      },
      {
        "duration": 23,
        "start_time": "2023-05-09T12:08:23.479Z"
      },
      {
        "duration": 20,
        "start_time": "2023-05-09T12:08:23.503Z"
      },
      {
        "duration": 14,
        "start_time": "2023-05-09T12:08:23.525Z"
      },
      {
        "duration": 13,
        "start_time": "2023-05-09T12:08:23.542Z"
      },
      {
        "duration": 9,
        "start_time": "2023-05-09T12:08:23.556Z"
      },
      {
        "duration": 9,
        "start_time": "2023-05-09T12:08:23.567Z"
      },
      {
        "duration": 10,
        "start_time": "2023-05-09T12:08:23.577Z"
      },
      {
        "duration": 8,
        "start_time": "2023-05-09T12:08:23.588Z"
      },
      {
        "duration": 15,
        "start_time": "2023-05-09T12:08:23.598Z"
      },
      {
        "duration": 21,
        "start_time": "2023-05-09T12:08:23.614Z"
      },
      {
        "duration": 17,
        "start_time": "2023-05-09T12:08:23.642Z"
      },
      {
        "duration": 7,
        "start_time": "2023-05-09T12:08:23.660Z"
      },
      {
        "duration": 6,
        "start_time": "2023-05-09T12:08:23.669Z"
      },
      {
        "duration": 7,
        "start_time": "2023-05-09T12:08:23.676Z"
      },
      {
        "duration": 13,
        "start_time": "2023-05-09T12:08:23.685Z"
      },
      {
        "duration": 10,
        "start_time": "2023-05-09T12:08:23.700Z"
      },
      {
        "duration": 7,
        "start_time": "2023-05-09T12:08:23.711Z"
      },
      {
        "duration": 8,
        "start_time": "2023-05-09T12:08:23.719Z"
      },
      {
        "duration": 5,
        "start_time": "2023-05-09T12:08:23.728Z"
      },
      {
        "duration": 183,
        "start_time": "2023-05-09T12:08:23.734Z"
      },
      {
        "duration": 0,
        "start_time": "2023-05-09T12:08:23.919Z"
      },
      {
        "duration": 255,
        "start_time": "2023-05-09T12:11:28.554Z"
      },
      {
        "duration": 93,
        "start_time": "2023-05-09T12:16:17.749Z"
      },
      {
        "duration": 1462,
        "start_time": "2023-05-09T12:17:53.932Z"
      },
      {
        "duration": 809,
        "start_time": "2023-05-09T12:17:55.396Z"
      },
      {
        "duration": 5,
        "start_time": "2023-05-09T12:17:56.206Z"
      },
      {
        "duration": 931,
        "start_time": "2023-05-09T12:17:56.212Z"
      },
      {
        "duration": 308,
        "start_time": "2023-05-09T12:17:57.150Z"
      },
      {
        "duration": 881,
        "start_time": "2023-05-09T12:17:57.460Z"
      },
      {
        "duration": 6,
        "start_time": "2023-05-09T12:17:58.343Z"
      },
      {
        "duration": 33,
        "start_time": "2023-05-09T12:17:58.350Z"
      },
      {
        "duration": 5,
        "start_time": "2023-05-09T12:17:58.384Z"
      },
      {
        "duration": 8,
        "start_time": "2023-05-09T12:17:58.392Z"
      },
      {
        "duration": 9,
        "start_time": "2023-05-09T12:17:58.401Z"
      },
      {
        "duration": 6,
        "start_time": "2023-05-09T12:17:58.411Z"
      },
      {
        "duration": 7,
        "start_time": "2023-05-09T12:17:58.419Z"
      },
      {
        "duration": 23,
        "start_time": "2023-05-09T12:17:58.427Z"
      },
      {
        "duration": 27,
        "start_time": "2023-05-09T12:17:58.452Z"
      },
      {
        "duration": 7,
        "start_time": "2023-05-09T12:17:58.482Z"
      },
      {
        "duration": 11,
        "start_time": "2023-05-09T12:17:58.490Z"
      },
      {
        "duration": 6,
        "start_time": "2023-05-09T12:17:58.502Z"
      },
      {
        "duration": 3,
        "start_time": "2023-05-09T12:17:58.510Z"
      },
      {
        "duration": 22,
        "start_time": "2023-05-09T12:17:58.515Z"
      },
      {
        "duration": 2517,
        "start_time": "2023-05-09T12:17:58.540Z"
      },
      {
        "duration": 2689,
        "start_time": "2023-05-09T12:18:01.060Z"
      },
      {
        "duration": 2512,
        "start_time": "2023-05-09T12:18:03.753Z"
      },
      {
        "duration": 7,
        "start_time": "2023-05-09T12:18:06.267Z"
      },
      {
        "duration": 1412,
        "start_time": "2023-05-09T12:18:06.275Z"
      },
      {
        "duration": 7,
        "start_time": "2023-05-09T12:18:07.689Z"
      },
      {
        "duration": 9,
        "start_time": "2023-05-09T12:18:07.697Z"
      },
      {
        "duration": 4,
        "start_time": "2023-05-09T12:18:07.709Z"
      },
      {
        "duration": 33,
        "start_time": "2023-05-09T12:18:07.714Z"
      },
      {
        "duration": 2466,
        "start_time": "2023-05-09T12:18:07.751Z"
      },
      {
        "duration": 16,
        "start_time": "2023-05-09T12:18:10.219Z"
      },
      {
        "duration": 24,
        "start_time": "2023-05-09T12:18:10.237Z"
      },
      {
        "duration": 19,
        "start_time": "2023-05-09T12:18:10.262Z"
      },
      {
        "duration": 10,
        "start_time": "2023-05-09T12:18:10.282Z"
      },
      {
        "duration": 10,
        "start_time": "2023-05-09T12:18:10.293Z"
      },
      {
        "duration": 6,
        "start_time": "2023-05-09T12:18:10.304Z"
      },
      {
        "duration": 6,
        "start_time": "2023-05-09T12:18:10.311Z"
      },
      {
        "duration": 6,
        "start_time": "2023-05-09T12:18:10.318Z"
      },
      {
        "duration": 7,
        "start_time": "2023-05-09T12:18:10.325Z"
      },
      {
        "duration": 24,
        "start_time": "2023-05-09T12:18:10.333Z"
      },
      {
        "duration": 9,
        "start_time": "2023-05-09T12:18:10.358Z"
      },
      {
        "duration": 13,
        "start_time": "2023-05-09T12:18:10.368Z"
      },
      {
        "duration": 8,
        "start_time": "2023-05-09T12:18:10.382Z"
      },
      {
        "duration": 10,
        "start_time": "2023-05-09T12:18:10.391Z"
      },
      {
        "duration": 11,
        "start_time": "2023-05-09T12:18:10.402Z"
      },
      {
        "duration": 10,
        "start_time": "2023-05-09T12:18:10.415Z"
      },
      {
        "duration": 6,
        "start_time": "2023-05-09T12:18:10.426Z"
      },
      {
        "duration": 20,
        "start_time": "2023-05-09T12:18:10.434Z"
      },
      {
        "duration": 5,
        "start_time": "2023-05-09T12:18:10.456Z"
      },
      {
        "duration": 5,
        "start_time": "2023-05-09T12:18:10.463Z"
      },
      {
        "duration": 7,
        "start_time": "2023-05-09T12:18:10.469Z"
      },
      {
        "duration": 5,
        "start_time": "2023-05-09T12:18:10.477Z"
      },
      {
        "duration": 177,
        "start_time": "2023-05-09T12:18:10.484Z"
      },
      {
        "duration": 0,
        "start_time": "2023-05-09T12:18:10.664Z"
      },
      {
        "duration": 0,
        "start_time": "2023-05-09T12:18:10.665Z"
      },
      {
        "duration": 13,
        "start_time": "2023-05-09T12:19:56.231Z"
      },
      {
        "duration": 1399,
        "start_time": "2023-05-09T12:22:31.811Z"
      },
      {
        "duration": 814,
        "start_time": "2023-05-09T12:22:33.212Z"
      },
      {
        "duration": 12,
        "start_time": "2023-05-09T12:22:34.027Z"
      },
      {
        "duration": 924,
        "start_time": "2023-05-09T12:22:34.041Z"
      },
      {
        "duration": 309,
        "start_time": "2023-05-09T12:22:34.967Z"
      },
      {
        "duration": 871,
        "start_time": "2023-05-09T12:22:35.278Z"
      },
      {
        "duration": 6,
        "start_time": "2023-05-09T12:22:36.152Z"
      },
      {
        "duration": 18,
        "start_time": "2023-05-09T12:22:36.160Z"
      },
      {
        "duration": 29,
        "start_time": "2023-05-09T12:22:36.180Z"
      },
      {
        "duration": 16,
        "start_time": "2023-05-09T12:22:36.211Z"
      },
      {
        "duration": 38,
        "start_time": "2023-05-09T12:22:36.229Z"
      },
      {
        "duration": 16,
        "start_time": "2023-05-09T12:22:36.269Z"
      },
      {
        "duration": 8,
        "start_time": "2023-05-09T12:22:36.286Z"
      },
      {
        "duration": 12,
        "start_time": "2023-05-09T12:22:36.296Z"
      },
      {
        "duration": 23,
        "start_time": "2023-05-09T12:22:36.309Z"
      },
      {
        "duration": 9,
        "start_time": "2023-05-09T12:22:36.333Z"
      },
      {
        "duration": 51,
        "start_time": "2023-05-09T12:22:36.344Z"
      },
      {
        "duration": 15,
        "start_time": "2023-05-09T12:22:36.396Z"
      },
      {
        "duration": 9,
        "start_time": "2023-05-09T12:22:36.413Z"
      },
      {
        "duration": 8,
        "start_time": "2023-05-09T12:22:36.424Z"
      },
      {
        "duration": 2528,
        "start_time": "2023-05-09T12:22:36.433Z"
      },
      {
        "duration": 2518,
        "start_time": "2023-05-09T12:22:38.963Z"
      },
      {
        "duration": 2474,
        "start_time": "2023-05-09T12:22:41.483Z"
      },
      {
        "duration": 5,
        "start_time": "2023-05-09T12:22:43.959Z"
      },
      {
        "duration": 1576,
        "start_time": "2023-05-09T12:22:43.966Z"
      },
      {
        "duration": 9,
        "start_time": "2023-05-09T12:22:45.549Z"
      },
      {
        "duration": 5,
        "start_time": "2023-05-09T12:22:45.559Z"
      },
      {
        "duration": 6,
        "start_time": "2023-05-09T12:22:45.565Z"
      },
      {
        "duration": 16,
        "start_time": "2023-05-09T12:22:45.573Z"
      },
      {
        "duration": 2483,
        "start_time": "2023-05-09T12:22:45.591Z"
      },
      {
        "duration": 3,
        "start_time": "2023-05-09T12:22:48.075Z"
      },
      {
        "duration": 10,
        "start_time": "2023-05-09T12:22:48.079Z"
      },
      {
        "duration": 13,
        "start_time": "2023-05-09T12:22:48.090Z"
      },
      {
        "duration": 8,
        "start_time": "2023-05-09T12:22:48.105Z"
      },
      {
        "duration": 8,
        "start_time": "2023-05-09T12:22:48.114Z"
      },
      {
        "duration": 5,
        "start_time": "2023-05-09T12:22:48.134Z"
      },
      {
        "duration": 16,
        "start_time": "2023-05-09T12:22:48.140Z"
      },
      {
        "duration": 5,
        "start_time": "2023-05-09T12:22:48.158Z"
      },
      {
        "duration": 6,
        "start_time": "2023-05-09T12:22:48.165Z"
      },
      {
        "duration": 11,
        "start_time": "2023-05-09T12:22:48.172Z"
      },
      {
        "duration": 5,
        "start_time": "2023-05-09T12:22:48.186Z"
      },
      {
        "duration": 9,
        "start_time": "2023-05-09T12:22:48.192Z"
      },
      {
        "duration": 8,
        "start_time": "2023-05-09T12:22:48.202Z"
      },
      {
        "duration": 3,
        "start_time": "2023-05-09T12:22:48.211Z"
      },
      {
        "duration": 5,
        "start_time": "2023-05-09T12:22:48.216Z"
      },
      {
        "duration": 23,
        "start_time": "2023-05-09T12:22:48.222Z"
      },
      {
        "duration": 11,
        "start_time": "2023-05-09T12:22:48.250Z"
      },
      {
        "duration": 7,
        "start_time": "2023-05-09T12:22:48.262Z"
      },
      {
        "duration": 6,
        "start_time": "2023-05-09T12:22:48.270Z"
      },
      {
        "duration": 6,
        "start_time": "2023-05-09T12:22:48.278Z"
      },
      {
        "duration": 8,
        "start_time": "2023-05-09T12:22:48.285Z"
      },
      {
        "duration": 14,
        "start_time": "2023-05-09T12:22:48.294Z"
      },
      {
        "duration": 3,
        "start_time": "2023-05-09T12:22:48.309Z"
      },
      {
        "duration": 187,
        "start_time": "2023-05-09T12:22:48.313Z"
      },
      {
        "duration": 0,
        "start_time": "2023-05-09T12:22:48.502Z"
      },
      {
        "duration": 0,
        "start_time": "2023-05-09T12:22:48.503Z"
      },
      {
        "duration": 1452,
        "start_time": "2023-05-09T12:23:36.715Z"
      },
      {
        "duration": 832,
        "start_time": "2023-05-09T12:23:38.169Z"
      },
      {
        "duration": 4,
        "start_time": "2023-05-09T12:23:39.003Z"
      },
      {
        "duration": 866,
        "start_time": "2023-05-09T12:23:39.009Z"
      },
      {
        "duration": 286,
        "start_time": "2023-05-09T12:23:39.877Z"
      },
      {
        "duration": 897,
        "start_time": "2023-05-09T12:23:40.165Z"
      },
      {
        "duration": 6,
        "start_time": "2023-05-09T12:23:41.063Z"
      },
      {
        "duration": 19,
        "start_time": "2023-05-09T12:23:41.070Z"
      },
      {
        "duration": 6,
        "start_time": "2023-05-09T12:23:41.091Z"
      },
      {
        "duration": 4,
        "start_time": "2023-05-09T12:23:41.099Z"
      },
      {
        "duration": 5,
        "start_time": "2023-05-09T12:23:41.105Z"
      },
      {
        "duration": 26,
        "start_time": "2023-05-09T12:23:41.111Z"
      },
      {
        "duration": 11,
        "start_time": "2023-05-09T12:23:41.140Z"
      },
      {
        "duration": 15,
        "start_time": "2023-05-09T12:23:41.152Z"
      },
      {
        "duration": 24,
        "start_time": "2023-05-09T12:23:41.168Z"
      },
      {
        "duration": 7,
        "start_time": "2023-05-09T12:23:41.194Z"
      },
      {
        "duration": 14,
        "start_time": "2023-05-09T12:23:41.203Z"
      },
      {
        "duration": 32,
        "start_time": "2023-05-09T12:23:41.218Z"
      },
      {
        "duration": 10,
        "start_time": "2023-05-09T12:23:41.252Z"
      },
      {
        "duration": 12,
        "start_time": "2023-05-09T12:23:41.264Z"
      },
      {
        "duration": 2474,
        "start_time": "2023-05-09T12:23:41.278Z"
      },
      {
        "duration": 2733,
        "start_time": "2023-05-09T12:23:43.754Z"
      },
      {
        "duration": 2551,
        "start_time": "2023-05-09T12:23:46.490Z"
      },
      {
        "duration": 9,
        "start_time": "2023-05-09T12:23:49.048Z"
      },
      {
        "duration": 1364,
        "start_time": "2023-05-09T12:23:49.059Z"
      },
      {
        "duration": 15,
        "start_time": "2023-05-09T12:23:50.425Z"
      },
      {
        "duration": 11,
        "start_time": "2023-05-09T12:23:50.444Z"
      },
      {
        "duration": 5,
        "start_time": "2023-05-09T12:23:50.458Z"
      },
      {
        "duration": 18,
        "start_time": "2023-05-09T12:23:50.464Z"
      },
      {
        "duration": 2464,
        "start_time": "2023-05-09T12:23:50.483Z"
      },
      {
        "duration": 3,
        "start_time": "2023-05-09T12:23:52.952Z"
      },
      {
        "duration": 14,
        "start_time": "2023-05-09T12:23:52.957Z"
      },
      {
        "duration": 32,
        "start_time": "2023-05-09T12:23:52.972Z"
      },
      {
        "duration": 14,
        "start_time": "2023-05-09T12:23:53.006Z"
      },
      {
        "duration": 8,
        "start_time": "2023-05-09T12:23:53.021Z"
      },
      {
        "duration": 19,
        "start_time": "2023-05-09T12:23:53.030Z"
      },
      {
        "duration": 9,
        "start_time": "2023-05-09T12:23:53.051Z"
      },
      {
        "duration": 9,
        "start_time": "2023-05-09T12:23:53.062Z"
      },
      {
        "duration": 9,
        "start_time": "2023-05-09T12:23:53.072Z"
      },
      {
        "duration": 10,
        "start_time": "2023-05-09T12:23:53.082Z"
      },
      {
        "duration": 10,
        "start_time": "2023-05-09T12:23:53.094Z"
      },
      {
        "duration": 9,
        "start_time": "2023-05-09T12:23:53.105Z"
      },
      {
        "duration": 8,
        "start_time": "2023-05-09T12:23:53.115Z"
      },
      {
        "duration": 6,
        "start_time": "2023-05-09T12:23:53.125Z"
      },
      {
        "duration": 23,
        "start_time": "2023-05-09T12:23:53.132Z"
      },
      {
        "duration": 7,
        "start_time": "2023-05-09T12:23:53.157Z"
      },
      {
        "duration": 6,
        "start_time": "2023-05-09T12:23:53.165Z"
      },
      {
        "duration": 6,
        "start_time": "2023-05-09T12:23:53.172Z"
      },
      {
        "duration": 5,
        "start_time": "2023-05-09T12:23:53.179Z"
      },
      {
        "duration": 6,
        "start_time": "2023-05-09T12:23:53.185Z"
      },
      {
        "duration": 6,
        "start_time": "2023-05-09T12:23:53.192Z"
      },
      {
        "duration": 14,
        "start_time": "2023-05-09T12:23:53.199Z"
      },
      {
        "duration": 3,
        "start_time": "2023-05-09T12:23:53.215Z"
      },
      {
        "duration": 17,
        "start_time": "2023-05-09T12:23:53.220Z"
      },
      {
        "duration": 32,
        "start_time": "2023-05-09T12:23:53.238Z"
      },
      {
        "duration": 34,
        "start_time": "2023-05-09T12:23:53.272Z"
      },
      {
        "duration": 9,
        "start_time": "2023-05-09T12:27:39.208Z"
      },
      {
        "duration": 27,
        "start_time": "2023-05-09T12:27:40.046Z"
      },
      {
        "duration": 1350,
        "start_time": "2023-05-09T12:29:47.321Z"
      },
      {
        "duration": 811,
        "start_time": "2023-05-09T12:29:48.673Z"
      },
      {
        "duration": 4,
        "start_time": "2023-05-09T12:29:49.486Z"
      },
      {
        "duration": 831,
        "start_time": "2023-05-09T12:29:49.492Z"
      },
      {
        "duration": 303,
        "start_time": "2023-05-09T12:29:50.325Z"
      },
      {
        "duration": 863,
        "start_time": "2023-05-09T12:29:50.630Z"
      },
      {
        "duration": 5,
        "start_time": "2023-05-09T12:29:51.495Z"
      },
      {
        "duration": 43,
        "start_time": "2023-05-09T12:29:51.502Z"
      },
      {
        "duration": 39,
        "start_time": "2023-05-09T12:29:51.547Z"
      },
      {
        "duration": 16,
        "start_time": "2023-05-09T12:29:51.588Z"
      },
      {
        "duration": 40,
        "start_time": "2023-05-09T12:29:51.605Z"
      },
      {
        "duration": 28,
        "start_time": "2023-05-09T12:29:51.646Z"
      },
      {
        "duration": 11,
        "start_time": "2023-05-09T12:29:51.676Z"
      },
      {
        "duration": 19,
        "start_time": "2023-05-09T12:29:51.691Z"
      },
      {
        "duration": 60,
        "start_time": "2023-05-09T12:29:51.712Z"
      },
      {
        "duration": 9,
        "start_time": "2023-05-09T12:29:51.774Z"
      },
      {
        "duration": 13,
        "start_time": "2023-05-09T12:29:51.784Z"
      },
      {
        "duration": 17,
        "start_time": "2023-05-09T12:29:51.799Z"
      },
      {
        "duration": 14,
        "start_time": "2023-05-09T12:29:51.817Z"
      },
      {
        "duration": 29,
        "start_time": "2023-05-09T12:29:51.833Z"
      },
      {
        "duration": 2520,
        "start_time": "2023-05-09T12:29:51.864Z"
      },
      {
        "duration": 2679,
        "start_time": "2023-05-09T12:29:54.386Z"
      },
      {
        "duration": 2601,
        "start_time": "2023-05-09T12:29:57.067Z"
      },
      {
        "duration": 6,
        "start_time": "2023-05-09T12:29:59.670Z"
      },
      {
        "duration": 1572,
        "start_time": "2023-05-09T12:29:59.677Z"
      },
      {
        "duration": 8,
        "start_time": "2023-05-09T12:30:01.251Z"
      },
      {
        "duration": 48,
        "start_time": "2023-05-09T12:30:01.261Z"
      },
      {
        "duration": 40,
        "start_time": "2023-05-09T12:30:01.310Z"
      },
      {
        "duration": 45,
        "start_time": "2023-05-09T12:30:01.352Z"
      },
      {
        "duration": 2508,
        "start_time": "2023-05-09T12:30:01.398Z"
      },
      {
        "duration": 3,
        "start_time": "2023-05-09T12:30:03.907Z"
      },
      {
        "duration": 61,
        "start_time": "2023-05-09T12:30:03.911Z"
      },
      {
        "duration": 23,
        "start_time": "2023-05-09T12:30:03.974Z"
      },
      {
        "duration": 44,
        "start_time": "2023-05-09T12:30:03.999Z"
      },
      {
        "duration": 20,
        "start_time": "2023-05-09T12:30:04.045Z"
      },
      {
        "duration": 17,
        "start_time": "2023-05-09T12:30:04.066Z"
      },
      {
        "duration": 26,
        "start_time": "2023-05-09T12:30:04.084Z"
      },
      {
        "duration": 43,
        "start_time": "2023-05-09T12:30:04.112Z"
      },
      {
        "duration": 23,
        "start_time": "2023-05-09T12:30:04.157Z"
      },
      {
        "duration": 21,
        "start_time": "2023-05-09T12:30:04.181Z"
      },
      {
        "duration": 46,
        "start_time": "2023-05-09T12:30:04.205Z"
      },
      {
        "duration": 19,
        "start_time": "2023-05-09T12:30:04.253Z"
      },
      {
        "duration": 22,
        "start_time": "2023-05-09T12:30:04.273Z"
      },
      {
        "duration": 14,
        "start_time": "2023-05-09T12:30:04.296Z"
      },
      {
        "duration": 25,
        "start_time": "2023-05-09T12:30:04.311Z"
      },
      {
        "duration": 36,
        "start_time": "2023-05-09T12:30:04.339Z"
      },
      {
        "duration": 29,
        "start_time": "2023-05-09T12:30:04.377Z"
      },
      {
        "duration": 35,
        "start_time": "2023-05-09T12:30:04.408Z"
      },
      {
        "duration": 18,
        "start_time": "2023-05-09T12:30:04.447Z"
      },
      {
        "duration": 16,
        "start_time": "2023-05-09T12:30:04.467Z"
      },
      {
        "duration": 9,
        "start_time": "2023-05-09T12:30:04.485Z"
      },
      {
        "duration": 54,
        "start_time": "2023-05-09T12:30:04.495Z"
      },
      {
        "duration": 131,
        "start_time": "2023-05-09T12:30:04.551Z"
      },
      {
        "duration": 36,
        "start_time": "2023-05-09T12:30:04.684Z"
      },
      {
        "duration": 67,
        "start_time": "2023-05-09T12:30:04.722Z"
      },
      {
        "duration": 9,
        "start_time": "2023-05-09T12:30:04.791Z"
      },
      {
        "duration": 130,
        "start_time": "2023-05-09T12:30:04.802Z"
      },
      {
        "duration": 8,
        "start_time": "2023-05-09T12:30:56.581Z"
      },
      {
        "duration": 36,
        "start_time": "2023-05-09T12:30:57.413Z"
      },
      {
        "duration": 1397,
        "start_time": "2023-05-09T12:35:20.878Z"
      },
      {
        "duration": 862,
        "start_time": "2023-05-09T12:35:22.277Z"
      },
      {
        "duration": 10,
        "start_time": "2023-05-09T12:35:23.144Z"
      },
      {
        "duration": 881,
        "start_time": "2023-05-09T12:35:23.158Z"
      },
      {
        "duration": 305,
        "start_time": "2023-05-09T12:35:24.040Z"
      },
      {
        "duration": 975,
        "start_time": "2023-05-09T12:35:24.346Z"
      },
      {
        "duration": 7,
        "start_time": "2023-05-09T12:35:25.322Z"
      },
      {
        "duration": 33,
        "start_time": "2023-05-09T12:35:25.336Z"
      },
      {
        "duration": 32,
        "start_time": "2023-05-09T12:35:25.371Z"
      },
      {
        "duration": 7,
        "start_time": "2023-05-09T12:35:25.406Z"
      },
      {
        "duration": 50,
        "start_time": "2023-05-09T12:35:25.415Z"
      },
      {
        "duration": 18,
        "start_time": "2023-05-09T12:35:25.466Z"
      },
      {
        "duration": 21,
        "start_time": "2023-05-09T12:35:25.486Z"
      },
      {
        "duration": 24,
        "start_time": "2023-05-09T12:35:25.509Z"
      },
      {
        "duration": 47,
        "start_time": "2023-05-09T12:35:25.541Z"
      },
      {
        "duration": 6,
        "start_time": "2023-05-09T12:35:25.590Z"
      },
      {
        "duration": 20,
        "start_time": "2023-05-09T12:35:25.597Z"
      },
      {
        "duration": 10,
        "start_time": "2023-05-09T12:35:25.619Z"
      },
      {
        "duration": 24,
        "start_time": "2023-05-09T12:35:25.631Z"
      },
      {
        "duration": 11,
        "start_time": "2023-05-09T12:35:25.657Z"
      },
      {
        "duration": 2532,
        "start_time": "2023-05-09T12:35:25.669Z"
      },
      {
        "duration": 2859,
        "start_time": "2023-05-09T12:35:28.203Z"
      },
      {
        "duration": 2705,
        "start_time": "2023-05-09T12:35:31.064Z"
      },
      {
        "duration": 6,
        "start_time": "2023-05-09T12:35:33.771Z"
      },
      {
        "duration": 1394,
        "start_time": "2023-05-09T12:35:33.779Z"
      },
      {
        "duration": 7,
        "start_time": "2023-05-09T12:35:35.174Z"
      },
      {
        "duration": 14,
        "start_time": "2023-05-09T12:35:35.182Z"
      },
      {
        "duration": 34,
        "start_time": "2023-05-09T12:35:35.199Z"
      },
      {
        "duration": 2466,
        "start_time": "2023-05-09T12:35:35.242Z"
      },
      {
        "duration": 3,
        "start_time": "2023-05-09T12:35:37.709Z"
      },
      {
        "duration": 18,
        "start_time": "2023-05-09T12:35:37.713Z"
      },
      {
        "duration": 37,
        "start_time": "2023-05-09T12:35:37.733Z"
      },
      {
        "duration": 8,
        "start_time": "2023-05-09T12:35:37.771Z"
      },
      {
        "duration": 16,
        "start_time": "2023-05-09T12:35:37.780Z"
      },
      {
        "duration": 9,
        "start_time": "2023-05-09T12:35:37.797Z"
      },
      {
        "duration": 22,
        "start_time": "2023-05-09T12:35:37.808Z"
      },
      {
        "duration": 28,
        "start_time": "2023-05-09T12:35:37.831Z"
      },
      {
        "duration": 14,
        "start_time": "2023-05-09T12:35:37.860Z"
      },
      {
        "duration": 9,
        "start_time": "2023-05-09T12:35:37.875Z"
      },
      {
        "duration": 19,
        "start_time": "2023-05-09T12:35:37.885Z"
      },
      {
        "duration": 14,
        "start_time": "2023-05-09T12:35:37.906Z"
      },
      {
        "duration": 9,
        "start_time": "2023-05-09T12:35:37.922Z"
      },
      {
        "duration": 20,
        "start_time": "2023-05-09T12:35:37.933Z"
      },
      {
        "duration": 12,
        "start_time": "2023-05-09T12:35:37.954Z"
      },
      {
        "duration": 18,
        "start_time": "2023-05-09T12:35:37.967Z"
      },
      {
        "duration": 17,
        "start_time": "2023-05-09T12:35:37.986Z"
      },
      {
        "duration": 19,
        "start_time": "2023-05-09T12:35:38.004Z"
      },
      {
        "duration": 19,
        "start_time": "2023-05-09T12:35:38.024Z"
      },
      {
        "duration": 31,
        "start_time": "2023-05-09T12:35:38.047Z"
      },
      {
        "duration": 11,
        "start_time": "2023-05-09T12:35:38.079Z"
      },
      {
        "duration": 30,
        "start_time": "2023-05-09T12:35:38.091Z"
      },
      {
        "duration": 17,
        "start_time": "2023-05-09T12:35:38.123Z"
      },
      {
        "duration": 44,
        "start_time": "2023-05-09T12:35:38.142Z"
      },
      {
        "duration": 39,
        "start_time": "2023-05-09T12:35:38.187Z"
      },
      {
        "duration": 14,
        "start_time": "2023-05-09T12:35:38.228Z"
      },
      {
        "duration": 30,
        "start_time": "2023-05-09T12:35:38.249Z"
      },
      {
        "duration": 4,
        "start_time": "2023-05-09T12:38:50.650Z"
      },
      {
        "duration": 3,
        "start_time": "2023-05-09T12:41:49.180Z"
      },
      {
        "duration": 124,
        "start_time": "2023-05-09T12:48:16.728Z"
      },
      {
        "duration": 4,
        "start_time": "2023-05-09T12:48:25.512Z"
      },
      {
        "duration": 2,
        "start_time": "2023-05-09T12:48:31.376Z"
      },
      {
        "duration": 200955,
        "start_time": "2023-05-09T13:07:44.572Z"
      },
      {
        "duration": 5,
        "start_time": "2023-05-09T13:13:59.813Z"
      },
      {
        "duration": 4,
        "start_time": "2023-05-09T13:15:15.497Z"
      },
      {
        "duration": 4,
        "start_time": "2023-05-09T13:15:45.009Z"
      },
      {
        "duration": 4,
        "start_time": "2023-05-09T13:16:17.320Z"
      },
      {
        "duration": 3,
        "start_time": "2023-05-09T13:26:06.907Z"
      },
      {
        "duration": 4,
        "start_time": "2023-05-09T13:29:08.556Z"
      },
      {
        "duration": 4,
        "start_time": "2023-05-09T13:29:21.552Z"
      },
      {
        "duration": 4,
        "start_time": "2023-05-09T13:29:24.041Z"
      },
      {
        "duration": 3,
        "start_time": "2023-05-09T13:45:00.564Z"
      },
      {
        "duration": 8,
        "start_time": "2023-05-09T13:45:05.916Z"
      },
      {
        "duration": 4,
        "start_time": "2023-05-09T13:46:09.030Z"
      },
      {
        "duration": 4,
        "start_time": "2023-05-09T13:46:27.419Z"
      },
      {
        "duration": 5,
        "start_time": "2023-05-09T13:47:32.764Z"
      },
      {
        "duration": 14,
        "start_time": "2023-05-09T13:53:42.200Z"
      },
      {
        "duration": 17,
        "start_time": "2023-05-09T13:53:43.734Z"
      },
      {
        "duration": 14,
        "start_time": "2023-05-09T13:53:44.879Z"
      },
      {
        "duration": 1436,
        "start_time": "2023-05-09T13:59:00.707Z"
      },
      {
        "duration": 817,
        "start_time": "2023-05-09T13:59:02.145Z"
      },
      {
        "duration": 5,
        "start_time": "2023-05-09T13:59:02.964Z"
      },
      {
        "duration": 808,
        "start_time": "2023-05-09T13:59:02.970Z"
      },
      {
        "duration": 323,
        "start_time": "2023-05-09T13:59:03.780Z"
      },
      {
        "duration": 883,
        "start_time": "2023-05-09T13:59:04.106Z"
      },
      {
        "duration": 6,
        "start_time": "2023-05-09T13:59:04.991Z"
      },
      {
        "duration": 38,
        "start_time": "2023-05-09T13:59:04.998Z"
      },
      {
        "duration": 17,
        "start_time": "2023-05-09T13:59:05.038Z"
      },
      {
        "duration": 15,
        "start_time": "2023-05-09T13:59:05.057Z"
      },
      {
        "duration": 20,
        "start_time": "2023-05-09T13:59:05.074Z"
      },
      {
        "duration": 20,
        "start_time": "2023-05-09T13:59:05.096Z"
      },
      {
        "duration": 14,
        "start_time": "2023-05-09T13:59:05.117Z"
      },
      {
        "duration": 19,
        "start_time": "2023-05-09T13:59:05.132Z"
      },
      {
        "duration": 40,
        "start_time": "2023-05-09T13:59:05.153Z"
      },
      {
        "duration": 13,
        "start_time": "2023-05-09T13:59:05.195Z"
      },
      {
        "duration": 27,
        "start_time": "2023-05-09T13:59:05.210Z"
      },
      {
        "duration": 22,
        "start_time": "2023-05-09T13:59:05.238Z"
      },
      {
        "duration": 33,
        "start_time": "2023-05-09T13:59:05.263Z"
      },
      {
        "duration": 28,
        "start_time": "2023-05-09T13:59:05.298Z"
      },
      {
        "duration": 2364,
        "start_time": "2023-05-09T13:59:05.328Z"
      },
      {
        "duration": 2462,
        "start_time": "2023-05-09T13:59:07.694Z"
      },
      {
        "duration": 2602,
        "start_time": "2023-05-09T13:59:10.158Z"
      },
      {
        "duration": 6,
        "start_time": "2023-05-09T13:59:12.761Z"
      },
      {
        "duration": 1340,
        "start_time": "2023-05-09T13:59:12.769Z"
      },
      {
        "duration": 8,
        "start_time": "2023-05-09T13:59:14.111Z"
      },
      {
        "duration": 15,
        "start_time": "2023-05-09T13:59:14.121Z"
      },
      {
        "duration": 19,
        "start_time": "2023-05-09T13:59:14.139Z"
      },
      {
        "duration": 2576,
        "start_time": "2023-05-09T13:59:14.160Z"
      },
      {
        "duration": 4,
        "start_time": "2023-05-09T13:59:16.737Z"
      },
      {
        "duration": 21,
        "start_time": "2023-05-09T13:59:16.743Z"
      },
      {
        "duration": 19,
        "start_time": "2023-05-09T13:59:16.766Z"
      },
      {
        "duration": 10,
        "start_time": "2023-05-09T13:59:16.786Z"
      },
      {
        "duration": 10,
        "start_time": "2023-05-09T13:59:16.798Z"
      },
      {
        "duration": 7,
        "start_time": "2023-05-09T13:59:16.810Z"
      },
      {
        "duration": 10,
        "start_time": "2023-05-09T13:59:16.819Z"
      },
      {
        "duration": 6,
        "start_time": "2023-05-09T13:59:16.831Z"
      },
      {
        "duration": 7,
        "start_time": "2023-05-09T13:59:16.839Z"
      },
      {
        "duration": 7,
        "start_time": "2023-05-09T13:59:16.848Z"
      },
      {
        "duration": 12,
        "start_time": "2023-05-09T13:59:16.857Z"
      },
      {
        "duration": 13,
        "start_time": "2023-05-09T13:59:16.871Z"
      },
      {
        "duration": 6,
        "start_time": "2023-05-09T13:59:16.886Z"
      },
      {
        "duration": 13,
        "start_time": "2023-05-09T13:59:16.894Z"
      },
      {
        "duration": 23,
        "start_time": "2023-05-09T13:59:16.908Z"
      },
      {
        "duration": 10,
        "start_time": "2023-05-09T13:59:16.933Z"
      },
      {
        "duration": 15,
        "start_time": "2023-05-09T13:59:16.945Z"
      },
      {
        "duration": 13,
        "start_time": "2023-05-09T13:59:16.962Z"
      },
      {
        "duration": 13,
        "start_time": "2023-05-09T13:59:16.976Z"
      },
      {
        "duration": 19,
        "start_time": "2023-05-09T13:59:16.991Z"
      },
      {
        "duration": 9,
        "start_time": "2023-05-09T13:59:17.013Z"
      },
      {
        "duration": 39,
        "start_time": "2023-05-09T13:59:17.024Z"
      },
      {
        "duration": 31,
        "start_time": "2023-05-09T13:59:17.065Z"
      },
      {
        "duration": 8,
        "start_time": "2023-05-09T13:59:17.098Z"
      },
      {
        "duration": 30,
        "start_time": "2023-05-09T13:59:17.108Z"
      },
      {
        "duration": 3,
        "start_time": "2023-05-09T13:59:17.139Z"
      },
      {
        "duration": 11,
        "start_time": "2023-05-09T13:59:17.143Z"
      },
      {
        "duration": 204924,
        "start_time": "2023-05-09T13:59:17.155Z"
      },
      {
        "duration": 5,
        "start_time": "2023-05-09T14:02:42.081Z"
      },
      {
        "duration": 6,
        "start_time": "2023-05-09T14:02:42.088Z"
      },
      {
        "duration": 6,
        "start_time": "2023-05-09T14:02:42.096Z"
      },
      {
        "duration": 6,
        "start_time": "2023-05-09T14:02:42.104Z"
      },
      {
        "duration": 24,
        "start_time": "2023-05-09T14:02:42.111Z"
      },
      {
        "duration": 10,
        "start_time": "2023-05-09T14:02:42.137Z"
      },
      {
        "duration": 7,
        "start_time": "2023-05-09T14:02:42.149Z"
      },
      {
        "duration": 19,
        "start_time": "2023-05-09T14:02:42.158Z"
      },
      {
        "duration": 17,
        "start_time": "2023-05-09T14:02:42.178Z"
      },
      {
        "duration": 124,
        "start_time": "2023-05-09T14:02:42.197Z"
      },
      {
        "duration": 10,
        "start_time": "2023-05-09T14:08:41.752Z"
      },
      {
        "duration": 3,
        "start_time": "2023-05-09T14:10:38.947Z"
      },
      {
        "duration": 8,
        "start_time": "2023-05-09T14:10:43.418Z"
      },
      {
        "duration": 10,
        "start_time": "2023-05-09T14:11:05.172Z"
      },
      {
        "duration": 2,
        "start_time": "2023-05-09T14:21:22.730Z"
      },
      {
        "duration": 1265,
        "start_time": "2023-05-09T14:35:45.682Z"
      },
      {
        "duration": 814,
        "start_time": "2023-05-09T14:35:46.949Z"
      },
      {
        "duration": 5,
        "start_time": "2023-05-09T14:35:47.764Z"
      },
      {
        "duration": 840,
        "start_time": "2023-05-09T14:35:47.770Z"
      },
      {
        "duration": 307,
        "start_time": "2023-05-09T14:35:48.612Z"
      },
      {
        "duration": 859,
        "start_time": "2023-05-09T14:35:48.921Z"
      },
      {
        "duration": 5,
        "start_time": "2023-05-09T14:35:49.782Z"
      },
      {
        "duration": 21,
        "start_time": "2023-05-09T14:35:49.788Z"
      },
      {
        "duration": 9,
        "start_time": "2023-05-09T14:35:49.810Z"
      },
      {
        "duration": 7,
        "start_time": "2023-05-09T14:35:49.821Z"
      },
      {
        "duration": 23,
        "start_time": "2023-05-09T14:35:49.834Z"
      },
      {
        "duration": 11,
        "start_time": "2023-05-09T14:35:49.858Z"
      },
      {
        "duration": 7,
        "start_time": "2023-05-09T14:35:49.871Z"
      },
      {
        "duration": 11,
        "start_time": "2023-05-09T14:35:49.882Z"
      },
      {
        "duration": 20,
        "start_time": "2023-05-09T14:35:49.895Z"
      },
      {
        "duration": 8,
        "start_time": "2023-05-09T14:35:49.917Z"
      },
      {
        "duration": 17,
        "start_time": "2023-05-09T14:35:49.926Z"
      },
      {
        "duration": 19,
        "start_time": "2023-05-09T14:35:49.946Z"
      },
      {
        "duration": 8,
        "start_time": "2023-05-09T14:35:49.967Z"
      },
      {
        "duration": 16,
        "start_time": "2023-05-09T14:35:49.976Z"
      },
      {
        "duration": 2452,
        "start_time": "2023-05-09T14:35:49.993Z"
      },
      {
        "duration": 2414,
        "start_time": "2023-05-09T14:35:52.447Z"
      },
      {
        "duration": 2552,
        "start_time": "2023-05-09T14:35:54.862Z"
      },
      {
        "duration": 5,
        "start_time": "2023-05-09T14:35:57.415Z"
      },
      {
        "duration": 1331,
        "start_time": "2023-05-09T14:35:57.422Z"
      },
      {
        "duration": 7,
        "start_time": "2023-05-09T14:35:58.754Z"
      },
      {
        "duration": 8,
        "start_time": "2023-05-09T14:35:58.763Z"
      },
      {
        "duration": 15,
        "start_time": "2023-05-09T14:35:58.773Z"
      },
      {
        "duration": 2499,
        "start_time": "2023-05-09T14:35:58.790Z"
      },
      {
        "duration": 3,
        "start_time": "2023-05-09T14:36:01.291Z"
      },
      {
        "duration": 61,
        "start_time": "2023-05-09T14:36:01.295Z"
      },
      {
        "duration": 39,
        "start_time": "2023-05-09T14:36:01.358Z"
      },
      {
        "duration": 27,
        "start_time": "2023-05-09T14:36:01.399Z"
      },
      {
        "duration": 61,
        "start_time": "2023-05-09T14:36:01.427Z"
      },
      {
        "duration": 29,
        "start_time": "2023-05-09T14:36:01.490Z"
      },
      {
        "duration": 82,
        "start_time": "2023-05-09T14:36:01.520Z"
      },
      {
        "duration": 59,
        "start_time": "2023-05-09T14:36:01.604Z"
      },
      {
        "duration": 40,
        "start_time": "2023-05-09T14:36:01.664Z"
      },
      {
        "duration": 38,
        "start_time": "2023-05-09T14:36:01.706Z"
      },
      {
        "duration": 70,
        "start_time": "2023-05-09T14:36:01.748Z"
      },
      {
        "duration": 41,
        "start_time": "2023-05-09T14:36:01.822Z"
      },
      {
        "duration": 38,
        "start_time": "2023-05-09T14:36:01.864Z"
      },
      {
        "duration": 47,
        "start_time": "2023-05-09T14:36:01.903Z"
      },
      {
        "duration": 27,
        "start_time": "2023-05-09T14:36:01.951Z"
      },
      {
        "duration": 49,
        "start_time": "2023-05-09T14:36:01.979Z"
      },
      {
        "duration": 27,
        "start_time": "2023-05-09T14:36:02.030Z"
      },
      {
        "duration": 23,
        "start_time": "2023-05-09T14:36:02.058Z"
      },
      {
        "duration": 22,
        "start_time": "2023-05-09T14:36:02.082Z"
      },
      {
        "duration": 57,
        "start_time": "2023-05-09T14:36:02.106Z"
      },
      {
        "duration": 22,
        "start_time": "2023-05-09T14:36:02.165Z"
      },
      {
        "duration": 39,
        "start_time": "2023-05-09T14:36:02.189Z"
      },
      {
        "duration": 74,
        "start_time": "2023-05-09T14:36:02.229Z"
      },
      {
        "duration": 8,
        "start_time": "2023-05-09T14:36:02.305Z"
      },
      {
        "duration": 51,
        "start_time": "2023-05-09T14:36:02.314Z"
      },
      {
        "duration": 18,
        "start_time": "2023-05-09T14:36:02.366Z"
      },
      {
        "duration": 12,
        "start_time": "2023-05-09T14:36:02.385Z"
      },
      {
        "duration": 201543,
        "start_time": "2023-05-09T14:36:02.399Z"
      },
      {
        "duration": 7,
        "start_time": "2023-05-09T14:39:23.943Z"
      },
      {
        "duration": 4,
        "start_time": "2023-05-09T14:39:23.952Z"
      },
      {
        "duration": 10,
        "start_time": "2023-05-09T14:39:23.957Z"
      },
      {
        "duration": 5,
        "start_time": "2023-05-09T14:39:23.969Z"
      },
      {
        "duration": 3,
        "start_time": "2023-05-09T14:39:23.976Z"
      },
      {
        "duration": 5,
        "start_time": "2023-05-09T14:39:23.981Z"
      },
      {
        "duration": 7,
        "start_time": "2023-05-09T14:39:23.988Z"
      },
      {
        "duration": 46,
        "start_time": "2023-05-09T14:39:23.996Z"
      },
      {
        "duration": 21,
        "start_time": "2023-05-09T14:39:24.043Z"
      },
      {
        "duration": 8,
        "start_time": "2023-05-09T14:39:24.065Z"
      },
      {
        "duration": 108,
        "start_time": "2023-05-09T14:39:53.023Z"
      },
      {
        "duration": 8,
        "start_time": "2023-05-09T14:39:59.613Z"
      },
      {
        "duration": 55,
        "start_time": "2023-05-10T12:33:54.485Z"
      },
      {
        "duration": 1720,
        "start_time": "2023-05-10T12:34:17.308Z"
      },
      {
        "duration": 3471,
        "start_time": "2023-05-10T12:34:19.030Z"
      },
      {
        "duration": 5,
        "start_time": "2023-05-10T12:34:22.503Z"
      },
      {
        "duration": 909,
        "start_time": "2023-05-10T12:34:22.510Z"
      },
      {
        "duration": 365,
        "start_time": "2023-05-10T12:34:23.421Z"
      },
      {
        "duration": 1078,
        "start_time": "2023-05-10T12:34:23.789Z"
      },
      {
        "duration": 13,
        "start_time": "2023-05-10T12:34:24.888Z"
      },
      {
        "duration": 7,
        "start_time": "2023-05-10T12:34:24.903Z"
      },
      {
        "duration": 5,
        "start_time": "2023-05-10T12:34:24.914Z"
      },
      {
        "duration": 8,
        "start_time": "2023-05-10T12:34:24.922Z"
      },
      {
        "duration": 6,
        "start_time": "2023-05-10T12:34:24.932Z"
      },
      {
        "duration": 14,
        "start_time": "2023-05-10T12:34:24.941Z"
      },
      {
        "duration": 39,
        "start_time": "2023-05-10T12:34:24.957Z"
      },
      {
        "duration": 12,
        "start_time": "2023-05-10T12:34:25.001Z"
      },
      {
        "duration": 25,
        "start_time": "2023-05-10T12:34:25.015Z"
      },
      {
        "duration": 8,
        "start_time": "2023-05-10T12:34:25.042Z"
      },
      {
        "duration": 18,
        "start_time": "2023-05-10T12:34:25.051Z"
      },
      {
        "duration": 6,
        "start_time": "2023-05-10T12:34:25.071Z"
      },
      {
        "duration": 28,
        "start_time": "2023-05-10T12:34:25.079Z"
      },
      {
        "duration": 38,
        "start_time": "2023-05-10T12:34:25.110Z"
      },
      {
        "duration": 4469,
        "start_time": "2023-05-10T12:34:25.150Z"
      },
      {
        "duration": 2921,
        "start_time": "2023-05-10T12:34:29.621Z"
      },
      {
        "duration": 2938,
        "start_time": "2023-05-10T12:34:32.544Z"
      },
      {
        "duration": 10,
        "start_time": "2023-05-10T12:34:35.484Z"
      },
      {
        "duration": 1558,
        "start_time": "2023-05-10T12:34:35.495Z"
      },
      {
        "duration": 8,
        "start_time": "2023-05-10T12:34:37.055Z"
      },
      {
        "duration": 2,
        "start_time": "2023-05-10T12:34:37.065Z"
      },
      {
        "duration": 20,
        "start_time": "2023-05-10T12:34:37.086Z"
      },
      {
        "duration": 589,
        "start_time": "2023-05-10T12:34:37.108Z"
      },
      {
        "duration": 6,
        "start_time": "2023-05-10T12:34:37.699Z"
      },
      {
        "duration": 14,
        "start_time": "2023-05-10T12:34:37.707Z"
      },
      {
        "duration": 10,
        "start_time": "2023-05-10T12:34:37.723Z"
      },
      {
        "duration": 7,
        "start_time": "2023-05-10T12:34:37.734Z"
      },
      {
        "duration": 8,
        "start_time": "2023-05-10T12:34:37.742Z"
      },
      {
        "duration": 6,
        "start_time": "2023-05-10T12:34:37.751Z"
      },
      {
        "duration": 6,
        "start_time": "2023-05-10T12:34:37.759Z"
      },
      {
        "duration": 4,
        "start_time": "2023-05-10T12:34:37.766Z"
      },
      {
        "duration": 17,
        "start_time": "2023-05-10T12:34:37.772Z"
      },
      {
        "duration": 13,
        "start_time": "2023-05-10T12:34:37.791Z"
      },
      {
        "duration": 12,
        "start_time": "2023-05-10T12:34:37.806Z"
      },
      {
        "duration": 7,
        "start_time": "2023-05-10T12:34:37.820Z"
      },
      {
        "duration": 3,
        "start_time": "2023-05-10T12:34:37.829Z"
      },
      {
        "duration": 7,
        "start_time": "2023-05-10T12:34:37.834Z"
      },
      {
        "duration": 6,
        "start_time": "2023-05-10T12:34:37.842Z"
      },
      {
        "duration": 14,
        "start_time": "2023-05-10T12:34:37.849Z"
      },
      {
        "duration": 7,
        "start_time": "2023-05-10T12:34:37.865Z"
      },
      {
        "duration": 12,
        "start_time": "2023-05-10T12:34:37.874Z"
      },
      {
        "duration": 16,
        "start_time": "2023-05-10T12:34:37.888Z"
      },
      {
        "duration": 4,
        "start_time": "2023-05-10T12:34:37.906Z"
      },
      {
        "duration": 14,
        "start_time": "2023-05-10T12:34:37.912Z"
      },
      {
        "duration": 14,
        "start_time": "2023-05-10T12:34:37.928Z"
      },
      {
        "duration": 30,
        "start_time": "2023-05-10T12:34:37.944Z"
      },
      {
        "duration": 15,
        "start_time": "2023-05-10T12:34:37.987Z"
      },
      {
        "duration": 46,
        "start_time": "2023-05-10T12:34:38.006Z"
      },
      {
        "duration": 3,
        "start_time": "2023-05-10T12:34:38.055Z"
      },
      {
        "duration": 17,
        "start_time": "2023-05-10T12:34:38.061Z"
      },
      {
        "duration": 1535,
        "start_time": "2023-05-10T12:35:11.306Z"
      },
      {
        "duration": 902,
        "start_time": "2023-05-10T12:35:12.844Z"
      },
      {
        "duration": 6,
        "start_time": "2023-05-10T12:35:13.748Z"
      },
      {
        "duration": 1094,
        "start_time": "2023-05-10T12:35:13.756Z"
      },
      {
        "duration": 405,
        "start_time": "2023-05-10T12:35:14.852Z"
      },
      {
        "duration": 990,
        "start_time": "2023-05-10T12:35:15.259Z"
      },
      {
        "duration": 9,
        "start_time": "2023-05-10T12:35:16.251Z"
      },
      {
        "duration": 27,
        "start_time": "2023-05-10T12:35:16.261Z"
      },
      {
        "duration": 13,
        "start_time": "2023-05-10T12:35:16.290Z"
      },
      {
        "duration": 10,
        "start_time": "2023-05-10T12:35:16.308Z"
      },
      {
        "duration": 6,
        "start_time": "2023-05-10T12:35:16.320Z"
      },
      {
        "duration": 8,
        "start_time": "2023-05-10T12:35:16.329Z"
      },
      {
        "duration": 7,
        "start_time": "2023-05-10T12:35:16.339Z"
      },
      {
        "duration": 12,
        "start_time": "2023-05-10T12:35:16.348Z"
      },
      {
        "duration": 47,
        "start_time": "2023-05-10T12:35:16.362Z"
      },
      {
        "duration": 10,
        "start_time": "2023-05-10T12:35:16.414Z"
      },
      {
        "duration": 12,
        "start_time": "2023-05-10T12:35:16.427Z"
      },
      {
        "duration": 8,
        "start_time": "2023-05-10T12:35:16.441Z"
      },
      {
        "duration": 8,
        "start_time": "2023-05-10T12:35:16.450Z"
      },
      {
        "duration": 41,
        "start_time": "2023-05-10T12:35:16.460Z"
      },
      {
        "duration": 2958,
        "start_time": "2023-05-10T12:35:16.510Z"
      },
      {
        "duration": 3106,
        "start_time": "2023-05-10T12:35:19.470Z"
      },
      {
        "duration": 3294,
        "start_time": "2023-05-10T12:35:22.578Z"
      },
      {
        "duration": 10,
        "start_time": "2023-05-10T12:35:25.875Z"
      },
      {
        "duration": 1613,
        "start_time": "2023-05-10T12:35:25.896Z"
      },
      {
        "duration": 10,
        "start_time": "2023-05-10T12:35:27.511Z"
      },
      {
        "duration": 3,
        "start_time": "2023-05-10T12:35:27.523Z"
      },
      {
        "duration": 19,
        "start_time": "2023-05-10T12:35:27.531Z"
      },
      {
        "duration": 3080,
        "start_time": "2023-05-10T12:35:27.552Z"
      },
      {
        "duration": 4,
        "start_time": "2023-05-10T12:35:30.634Z"
      },
      {
        "duration": 66,
        "start_time": "2023-05-10T12:35:30.640Z"
      },
      {
        "duration": 12,
        "start_time": "2023-05-10T12:35:30.709Z"
      },
      {
        "duration": 31,
        "start_time": "2023-05-10T12:35:30.724Z"
      },
      {
        "duration": 48,
        "start_time": "2023-05-10T12:35:30.757Z"
      },
      {
        "duration": 35,
        "start_time": "2023-05-10T12:35:30.806Z"
      },
      {
        "duration": 32,
        "start_time": "2023-05-10T12:35:30.844Z"
      },
      {
        "duration": 55,
        "start_time": "2023-05-10T12:35:30.879Z"
      },
      {
        "duration": 57,
        "start_time": "2023-05-10T12:35:30.936Z"
      },
      {
        "duration": 45,
        "start_time": "2023-05-10T12:35:30.995Z"
      },
      {
        "duration": 56,
        "start_time": "2023-05-10T12:35:31.043Z"
      },
      {
        "duration": 40,
        "start_time": "2023-05-10T12:35:31.105Z"
      },
      {
        "duration": 20,
        "start_time": "2023-05-10T12:35:31.148Z"
      },
      {
        "duration": 36,
        "start_time": "2023-05-10T12:35:31.170Z"
      },
      {
        "duration": 29,
        "start_time": "2023-05-10T12:35:31.209Z"
      },
      {
        "duration": 31,
        "start_time": "2023-05-10T12:35:31.240Z"
      },
      {
        "duration": 49,
        "start_time": "2023-05-10T12:35:31.273Z"
      },
      {
        "duration": 43,
        "start_time": "2023-05-10T12:35:31.324Z"
      },
      {
        "duration": 70,
        "start_time": "2023-05-10T12:35:31.370Z"
      },
      {
        "duration": 35,
        "start_time": "2023-05-10T12:35:31.442Z"
      },
      {
        "duration": 28,
        "start_time": "2023-05-10T12:35:31.479Z"
      },
      {
        "duration": 24,
        "start_time": "2023-05-10T12:35:31.509Z"
      },
      {
        "duration": 81,
        "start_time": "2023-05-10T12:35:31.536Z"
      },
      {
        "duration": 11,
        "start_time": "2023-05-10T12:35:31.620Z"
      },
      {
        "duration": 44,
        "start_time": "2023-05-10T12:35:31.633Z"
      },
      {
        "duration": 12,
        "start_time": "2023-05-10T12:35:31.690Z"
      },
      {
        "duration": 28,
        "start_time": "2023-05-10T12:35:31.705Z"
      },
      {
        "duration": 234082,
        "start_time": "2023-05-10T12:35:31.735Z"
      },
      {
        "duration": 6,
        "start_time": "2023-05-10T12:39:25.819Z"
      },
      {
        "duration": 6,
        "start_time": "2023-05-10T12:39:25.826Z"
      },
      {
        "duration": 11,
        "start_time": "2023-05-10T12:39:25.834Z"
      },
      {
        "duration": 9,
        "start_time": "2023-05-10T12:39:25.847Z"
      },
      {
        "duration": 4,
        "start_time": "2023-05-10T12:39:25.858Z"
      },
      {
        "duration": 30,
        "start_time": "2023-05-10T12:39:25.864Z"
      },
      {
        "duration": 11,
        "start_time": "2023-05-10T12:39:25.896Z"
      },
      {
        "duration": 18,
        "start_time": "2023-05-10T12:39:25.909Z"
      },
      {
        "duration": 27,
        "start_time": "2023-05-10T12:39:25.929Z"
      },
      {
        "duration": 32,
        "start_time": "2023-05-10T12:39:25.958Z"
      },
      {
        "duration": 1645,
        "start_time": "2023-05-10T14:32:20.134Z"
      },
      {
        "duration": 1022,
        "start_time": "2023-05-10T14:32:21.781Z"
      },
      {
        "duration": 7,
        "start_time": "2023-05-10T14:32:22.820Z"
      },
      {
        "duration": 987,
        "start_time": "2023-05-10T14:32:22.829Z"
      },
      {
        "duration": 415,
        "start_time": "2023-05-10T14:32:23.818Z"
      },
      {
        "duration": 1082,
        "start_time": "2023-05-10T14:32:24.235Z"
      },
      {
        "duration": 8,
        "start_time": "2023-05-10T14:32:25.319Z"
      },
      {
        "duration": 14,
        "start_time": "2023-05-10T14:32:25.333Z"
      },
      {
        "duration": 6,
        "start_time": "2023-05-10T14:32:25.350Z"
      },
      {
        "duration": 18,
        "start_time": "2023-05-10T14:32:25.358Z"
      },
      {
        "duration": 25,
        "start_time": "2023-05-10T14:32:25.377Z"
      },
      {
        "duration": 27,
        "start_time": "2023-05-10T14:32:25.408Z"
      },
      {
        "duration": 20,
        "start_time": "2023-05-10T14:32:25.437Z"
      },
      {
        "duration": 13,
        "start_time": "2023-05-10T14:32:25.460Z"
      },
      {
        "duration": 46,
        "start_time": "2023-05-10T14:32:25.474Z"
      },
      {
        "duration": 8,
        "start_time": "2023-05-10T14:32:25.522Z"
      },
      {
        "duration": 11,
        "start_time": "2023-05-10T14:32:25.532Z"
      },
      {
        "duration": 11,
        "start_time": "2023-05-10T14:32:25.544Z"
      },
      {
        "duration": 5,
        "start_time": "2023-05-10T14:32:25.557Z"
      },
      {
        "duration": 14,
        "start_time": "2023-05-10T14:32:25.565Z"
      },
      {
        "duration": 3552,
        "start_time": "2023-05-10T14:32:25.586Z"
      },
      {
        "duration": 3312,
        "start_time": "2023-05-10T14:32:29.140Z"
      },
      {
        "duration": 3186,
        "start_time": "2023-05-10T14:32:32.454Z"
      },
      {
        "duration": 8,
        "start_time": "2023-05-10T14:32:35.642Z"
      },
      {
        "duration": 1687,
        "start_time": "2023-05-10T14:32:35.652Z"
      },
      {
        "duration": 7,
        "start_time": "2023-05-10T14:32:37.341Z"
      },
      {
        "duration": 9,
        "start_time": "2023-05-10T14:32:37.350Z"
      },
      {
        "duration": 35,
        "start_time": "2023-05-10T14:32:37.361Z"
      },
      {
        "duration": 3074,
        "start_time": "2023-05-10T14:32:37.398Z"
      },
      {
        "duration": 4,
        "start_time": "2023-05-10T14:32:40.474Z"
      },
      {
        "duration": 33,
        "start_time": "2023-05-10T14:32:40.479Z"
      },
      {
        "duration": 9,
        "start_time": "2023-05-10T14:32:40.520Z"
      },
      {
        "duration": 5,
        "start_time": "2023-05-10T14:32:40.531Z"
      },
      {
        "duration": 4,
        "start_time": "2023-05-10T14:32:40.538Z"
      },
      {
        "duration": 8,
        "start_time": "2023-05-10T14:32:40.543Z"
      },
      {
        "duration": 6,
        "start_time": "2023-05-10T14:32:40.553Z"
      },
      {
        "duration": 6,
        "start_time": "2023-05-10T14:32:40.560Z"
      },
      {
        "duration": 6,
        "start_time": "2023-05-10T14:32:40.568Z"
      },
      {
        "duration": 24,
        "start_time": "2023-05-10T14:32:40.577Z"
      },
      {
        "duration": 11,
        "start_time": "2023-05-10T14:32:40.609Z"
      },
      {
        "duration": 7,
        "start_time": "2023-05-10T14:32:40.627Z"
      },
      {
        "duration": 4,
        "start_time": "2023-05-10T14:32:40.636Z"
      },
      {
        "duration": 6,
        "start_time": "2023-05-10T14:32:40.642Z"
      },
      {
        "duration": 4,
        "start_time": "2023-05-10T14:32:40.650Z"
      },
      {
        "duration": 6,
        "start_time": "2023-05-10T14:32:40.655Z"
      },
      {
        "duration": 39,
        "start_time": "2023-05-10T14:32:40.663Z"
      },
      {
        "duration": 7,
        "start_time": "2023-05-10T14:32:40.708Z"
      },
      {
        "duration": 6,
        "start_time": "2023-05-10T14:32:40.717Z"
      },
      {
        "duration": 10,
        "start_time": "2023-05-10T14:32:40.724Z"
      },
      {
        "duration": 5,
        "start_time": "2023-05-10T14:32:40.736Z"
      },
      {
        "duration": 14,
        "start_time": "2023-05-10T14:32:40.742Z"
      },
      {
        "duration": 65,
        "start_time": "2023-05-10T14:32:40.758Z"
      },
      {
        "duration": 10,
        "start_time": "2023-05-10T14:32:40.825Z"
      },
      {
        "duration": 29,
        "start_time": "2023-05-10T14:32:40.837Z"
      },
      {
        "duration": 24,
        "start_time": "2023-05-10T14:32:40.868Z"
      },
      {
        "duration": 18,
        "start_time": "2023-05-10T14:32:40.895Z"
      },
      {
        "duration": 259316,
        "start_time": "2023-05-10T14:32:40.915Z"
      },
      {
        "duration": 6,
        "start_time": "2023-05-10T14:37:00.233Z"
      },
      {
        "duration": 33,
        "start_time": "2023-05-10T14:37:00.240Z"
      },
      {
        "duration": 31,
        "start_time": "2023-05-10T14:37:00.275Z"
      },
      {
        "duration": 43,
        "start_time": "2023-05-10T14:37:00.312Z"
      },
      {
        "duration": 29,
        "start_time": "2023-05-10T14:37:00.357Z"
      },
      {
        "duration": 35,
        "start_time": "2023-05-10T14:37:00.389Z"
      },
      {
        "duration": 35,
        "start_time": "2023-05-10T14:37:00.426Z"
      },
      {
        "duration": 62,
        "start_time": "2023-05-10T14:37:00.463Z"
      },
      {
        "duration": 26,
        "start_time": "2023-05-10T14:37:00.526Z"
      },
      {
        "duration": 64,
        "start_time": "2023-05-10T14:37:00.554Z"
      },
      {
        "duration": 7,
        "start_time": "2023-05-11T07:36:36.738Z"
      },
      {
        "duration": 276,
        "start_time": "2023-05-11T07:36:45.880Z"
      },
      {
        "duration": 111,
        "start_time": "2023-05-11T07:57:24.766Z"
      },
      {
        "duration": 43,
        "start_time": "2023-05-11T08:07:29.312Z"
      },
      {
        "duration": 1781,
        "start_time": "2023-05-11T09:21:07.069Z"
      },
      {
        "duration": 2810,
        "start_time": "2023-05-11T09:21:08.853Z"
      },
      {
        "duration": 6,
        "start_time": "2023-05-11T09:21:11.665Z"
      },
      {
        "duration": 837,
        "start_time": "2023-05-11T09:21:11.673Z"
      },
      {
        "duration": 332,
        "start_time": "2023-05-11T09:21:12.512Z"
      },
      {
        "duration": 926,
        "start_time": "2023-05-11T09:21:12.847Z"
      },
      {
        "duration": 6,
        "start_time": "2023-05-11T09:21:13.792Z"
      },
      {
        "duration": 8,
        "start_time": "2023-05-11T09:21:13.799Z"
      },
      {
        "duration": 8,
        "start_time": "2023-05-11T09:21:13.809Z"
      },
      {
        "duration": 5,
        "start_time": "2023-05-11T09:21:13.819Z"
      },
      {
        "duration": 9,
        "start_time": "2023-05-11T09:21:13.826Z"
      },
      {
        "duration": 6,
        "start_time": "2023-05-11T09:21:13.836Z"
      },
      {
        "duration": 49,
        "start_time": "2023-05-11T09:21:13.844Z"
      },
      {
        "duration": 20,
        "start_time": "2023-05-11T09:21:13.896Z"
      },
      {
        "duration": 22,
        "start_time": "2023-05-11T09:21:13.918Z"
      },
      {
        "duration": 8,
        "start_time": "2023-05-11T09:21:13.941Z"
      },
      {
        "duration": 10,
        "start_time": "2023-05-11T09:21:13.950Z"
      },
      {
        "duration": 7,
        "start_time": "2023-05-11T09:21:13.991Z"
      },
      {
        "duration": 3,
        "start_time": "2023-05-11T09:21:14.000Z"
      },
      {
        "duration": 18,
        "start_time": "2023-05-11T09:21:14.005Z"
      },
      {
        "duration": 2683,
        "start_time": "2023-05-11T09:21:14.025Z"
      },
      {
        "duration": 2757,
        "start_time": "2023-05-11T09:21:16.710Z"
      },
      {
        "duration": 2648,
        "start_time": "2023-05-11T09:21:19.469Z"
      },
      {
        "duration": 7,
        "start_time": "2023-05-11T09:21:22.119Z"
      },
      {
        "duration": 1470,
        "start_time": "2023-05-11T09:21:22.128Z"
      },
      {
        "duration": 8,
        "start_time": "2023-05-11T09:21:23.600Z"
      },
      {
        "duration": 3,
        "start_time": "2023-05-11T09:21:23.610Z"
      },
      {
        "duration": 13,
        "start_time": "2023-05-11T09:21:23.617Z"
      },
      {
        "duration": 2680,
        "start_time": "2023-05-11T09:21:23.632Z"
      },
      {
        "duration": 4,
        "start_time": "2023-05-11T09:21:26.314Z"
      },
      {
        "duration": 10,
        "start_time": "2023-05-11T09:21:26.320Z"
      },
      {
        "duration": 5,
        "start_time": "2023-05-11T09:21:26.332Z"
      },
      {
        "duration": 7,
        "start_time": "2023-05-11T09:21:26.339Z"
      },
      {
        "duration": 5,
        "start_time": "2023-05-11T09:21:26.347Z"
      },
      {
        "duration": 10,
        "start_time": "2023-05-11T09:21:26.353Z"
      },
      {
        "duration": 5,
        "start_time": "2023-05-11T09:21:26.364Z"
      },
      {
        "duration": 3,
        "start_time": "2023-05-11T09:21:26.391Z"
      },
      {
        "duration": 5,
        "start_time": "2023-05-11T09:21:26.396Z"
      },
      {
        "duration": 9,
        "start_time": "2023-05-11T09:21:26.402Z"
      },
      {
        "duration": 9,
        "start_time": "2023-05-11T09:21:26.413Z"
      },
      {
        "duration": 9,
        "start_time": "2023-05-11T09:21:26.424Z"
      },
      {
        "duration": 4,
        "start_time": "2023-05-11T09:21:26.435Z"
      },
      {
        "duration": 7,
        "start_time": "2023-05-11T09:21:26.440Z"
      },
      {
        "duration": 43,
        "start_time": "2023-05-11T09:21:26.449Z"
      },
      {
        "duration": 8,
        "start_time": "2023-05-11T09:21:26.493Z"
      },
      {
        "duration": 10,
        "start_time": "2023-05-11T09:21:26.503Z"
      },
      {
        "duration": 4,
        "start_time": "2023-05-11T09:21:26.515Z"
      },
      {
        "duration": 5,
        "start_time": "2023-05-11T09:21:26.521Z"
      },
      {
        "duration": 5,
        "start_time": "2023-05-11T09:21:26.527Z"
      },
      {
        "duration": 7,
        "start_time": "2023-05-11T09:21:26.534Z"
      },
      {
        "duration": 10,
        "start_time": "2023-05-11T09:21:26.542Z"
      },
      {
        "duration": 63,
        "start_time": "2023-05-11T09:21:26.555Z"
      },
      {
        "duration": 10,
        "start_time": "2023-05-11T09:21:26.619Z"
      },
      {
        "duration": 33,
        "start_time": "2023-05-11T09:21:26.631Z"
      },
      {
        "duration": 27,
        "start_time": "2023-05-11T09:21:26.665Z"
      },
      {
        "duration": 3,
        "start_time": "2023-05-11T09:21:26.694Z"
      },
      {
        "duration": 5665806,
        "start_time": "2023-05-11T09:21:26.699Z"
      },
      {
        "duration": 0,
        "start_time": "2023-05-11T10:55:52.508Z"
      },
      {
        "duration": 0,
        "start_time": "2023-05-11T10:55:52.509Z"
      },
      {
        "duration": 0,
        "start_time": "2023-05-11T10:55:52.510Z"
      },
      {
        "duration": 0,
        "start_time": "2023-05-11T10:55:52.512Z"
      },
      {
        "duration": 0,
        "start_time": "2023-05-11T10:55:52.513Z"
      },
      {
        "duration": 0,
        "start_time": "2023-05-11T10:55:52.515Z"
      },
      {
        "duration": 0,
        "start_time": "2023-05-11T10:55:52.517Z"
      },
      {
        "duration": 0,
        "start_time": "2023-05-11T10:55:52.518Z"
      },
      {
        "duration": 0,
        "start_time": "2023-05-11T10:55:52.519Z"
      },
      {
        "duration": 0,
        "start_time": "2023-05-11T10:55:52.521Z"
      },
      {
        "duration": 0,
        "start_time": "2023-05-11T10:55:52.522Z"
      },
      {
        "duration": 0,
        "start_time": "2023-05-11T10:55:52.524Z"
      },
      {
        "duration": 0,
        "start_time": "2023-05-11T10:55:52.525Z"
      },
      {
        "duration": 4,
        "start_time": "2023-05-11T10:56:09.472Z"
      },
      {
        "duration": 1489,
        "start_time": "2023-05-11T10:56:21.973Z"
      },
      {
        "duration": 768,
        "start_time": "2023-05-11T10:56:27.013Z"
      },
      {
        "duration": 6,
        "start_time": "2023-05-11T10:56:31.069Z"
      },
      {
        "duration": 856,
        "start_time": "2023-05-11T10:56:31.877Z"
      },
      {
        "duration": 337,
        "start_time": "2023-05-11T10:56:32.735Z"
      },
      {
        "duration": 858,
        "start_time": "2023-05-11T10:56:33.111Z"
      },
      {
        "duration": 22,
        "start_time": "2023-05-11T10:56:33.971Z"
      },
      {
        "duration": 7,
        "start_time": "2023-05-11T10:56:39.021Z"
      },
      {
        "duration": 6,
        "start_time": "2023-05-11T10:56:39.597Z"
      },
      {
        "duration": 4,
        "start_time": "2023-05-11T10:56:42.326Z"
      },
      {
        "duration": 4,
        "start_time": "2023-05-11T10:56:42.912Z"
      },
      {
        "duration": 5,
        "start_time": "2023-05-11T10:56:43.505Z"
      },
      {
        "duration": 6,
        "start_time": "2023-05-11T10:56:44.216Z"
      },
      {
        "duration": 13,
        "start_time": "2023-05-11T10:56:46.509Z"
      },
      {
        "duration": 15,
        "start_time": "2023-05-11T10:56:47.773Z"
      },
      {
        "duration": 8,
        "start_time": "2023-05-11T10:56:48.094Z"
      },
      {
        "duration": 10,
        "start_time": "2023-05-11T10:56:48.935Z"
      },
      {
        "duration": 7,
        "start_time": "2023-05-11T10:56:49.686Z"
      },
      {
        "duration": 4,
        "start_time": "2023-05-11T10:56:49.919Z"
      },
      {
        "duration": 8,
        "start_time": "2023-05-11T10:56:55.437Z"
      },
      {
        "duration": 2699,
        "start_time": "2023-05-11T10:57:02.019Z"
      },
      {
        "duration": 2658,
        "start_time": "2023-05-11T10:58:27.736Z"
      },
      {
        "duration": 2706,
        "start_time": "2023-05-11T10:58:57.232Z"
      },
      {
        "duration": 2693,
        "start_time": "2023-05-11T10:59:32.792Z"
      },
      {
        "duration": 2772,
        "start_time": "2023-05-11T10:59:51.120Z"
      },
      {
        "duration": 2793,
        "start_time": "2023-05-11T11:00:33.633Z"
      },
      {
        "duration": 86,
        "start_time": "2023-05-11T11:01:08.006Z"
      },
      {
        "duration": 5,
        "start_time": "2023-05-11T11:01:08.405Z"
      },
      {
        "duration": 39,
        "start_time": "2023-05-11T11:02:28.426Z"
      },
      {
        "duration": 123,
        "start_time": "2023-05-11T11:03:19.842Z"
      },
      {
        "duration": 4,
        "start_time": "2023-05-11T11:03:28.946Z"
      },
      {
        "duration": 1711,
        "start_time": "2023-05-11T11:09:08.138Z"
      },
      {
        "duration": 2009,
        "start_time": "2023-05-11T11:09:44.360Z"
      },
      {
        "duration": 1523,
        "start_time": "2023-05-11T11:10:32.545Z"
      },
      {
        "duration": 1457,
        "start_time": "2023-05-11T11:10:53.483Z"
      },
      {
        "duration": 1574,
        "start_time": "2023-05-11T11:11:12.953Z"
      },
      {
        "duration": 1625,
        "start_time": "2023-05-11T11:11:31.616Z"
      },
      {
        "duration": 1741,
        "start_time": "2023-05-11T11:11:45.825Z"
      },
      {
        "duration": 2297,
        "start_time": "2023-05-11T11:11:58.708Z"
      },
      {
        "duration": 1710,
        "start_time": "2023-05-11T11:12:13.352Z"
      },
      {
        "duration": 23,
        "start_time": "2023-05-11T11:12:31.817Z"
      },
      {
        "duration": 4,
        "start_time": "2023-05-11T11:12:41.313Z"
      },
      {
        "duration": 21,
        "start_time": "2023-05-11T11:14:52.084Z"
      },
      {
        "duration": 4,
        "start_time": "2023-05-11T11:14:55.657Z"
      },
      {
        "duration": 3134,
        "start_time": "2023-05-11T11:16:46.723Z"
      },
      {
        "duration": 21,
        "start_time": "2023-05-11T11:21:29.494Z"
      },
      {
        "duration": 5,
        "start_time": "2023-05-11T11:21:30.821Z"
      },
      {
        "duration": 3112,
        "start_time": "2023-05-11T11:21:36.606Z"
      },
      {
        "duration": 5,
        "start_time": "2023-05-11T11:25:00.456Z"
      },
      {
        "duration": 1665,
        "start_time": "2023-05-11T11:25:23.547Z"
      },
      {
        "duration": 1522,
        "start_time": "2023-05-11T11:25:41.945Z"
      },
      {
        "duration": 9,
        "start_time": "2023-05-11T11:25:48.561Z"
      },
      {
        "duration": 8,
        "start_time": "2023-05-11T11:31:00.036Z"
      },
      {
        "duration": 2956,
        "start_time": "2023-05-11T11:31:09.081Z"
      },
      {
        "duration": 3227,
        "start_time": "2023-05-11T11:34:14.391Z"
      },
      {
        "duration": 8,
        "start_time": "2023-05-11T11:34:49.624Z"
      },
      {
        "duration": 8,
        "start_time": "2023-05-11T11:48:15.488Z"
      },
      {
        "duration": 3360,
        "start_time": "2023-05-11T11:48:16.706Z"
      },
      {
        "duration": 1200,
        "start_time": "2023-05-11T11:48:35.562Z"
      },
      {
        "duration": 1660,
        "start_time": "2023-05-11T11:50:21.313Z"
      },
      {
        "duration": 8,
        "start_time": "2023-05-11T11:50:47.969Z"
      },
      {
        "duration": 1430,
        "start_time": "2023-05-11T11:54:26.108Z"
      },
      {
        "duration": 1258,
        "start_time": "2023-05-11T11:56:02.575Z"
      },
      {
        "duration": 3,
        "start_time": "2023-05-11T12:02:09.979Z"
      },
      {
        "duration": 13,
        "start_time": "2023-05-11T12:02:14.376Z"
      },
      {
        "duration": 2824,
        "start_time": "2023-05-11T12:02:20.714Z"
      },
      {
        "duration": 2784,
        "start_time": "2023-05-11T12:03:13.124Z"
      },
      {
        "duration": 3,
        "start_time": "2023-05-11T12:05:52.032Z"
      },
      {
        "duration": 5,
        "start_time": "2023-05-11T12:05:55.781Z"
      },
      {
        "duration": 5,
        "start_time": "2023-05-11T12:06:02.565Z"
      },
      {
        "duration": 5,
        "start_time": "2023-05-11T12:06:13.261Z"
      },
      {
        "duration": 4,
        "start_time": "2023-05-11T12:06:19.645Z"
      },
      {
        "duration": 4,
        "start_time": "2023-05-11T12:06:20.285Z"
      },
      {
        "duration": 3,
        "start_time": "2023-05-11T12:06:21.134Z"
      },
      {
        "duration": 3,
        "start_time": "2023-05-11T12:06:21.981Z"
      },
      {
        "duration": 5,
        "start_time": "2023-05-11T12:06:24.911Z"
      },
      {
        "duration": 3,
        "start_time": "2023-05-11T12:06:26.164Z"
      },
      {
        "duration": 15,
        "start_time": "2023-05-11T12:06:26.749Z"
      },
      {
        "duration": 16,
        "start_time": "2023-05-11T12:07:12.807Z"
      },
      {
        "duration": 4,
        "start_time": "2023-05-11T12:18:37.198Z"
      },
      {
        "duration": 6,
        "start_time": "2023-05-11T12:18:57.111Z"
      },
      {
        "duration": 1775,
        "start_time": "2023-05-11T12:20:13.959Z"
      },
      {
        "duration": 322,
        "start_time": "2023-05-11T12:20:27.494Z"
      },
      {
        "duration": 53,
        "start_time": "2023-05-11T12:20:39.882Z"
      },
      {
        "duration": 1495,
        "start_time": "2023-05-11T12:24:49.763Z"
      },
      {
        "duration": 671,
        "start_time": "2023-05-11T12:24:51.386Z"
      },
      {
        "duration": 5,
        "start_time": "2023-05-11T12:24:53.234Z"
      },
      {
        "duration": 885,
        "start_time": "2023-05-11T12:24:53.761Z"
      },
      {
        "duration": 344,
        "start_time": "2023-05-11T12:24:54.648Z"
      },
      {
        "duration": 863,
        "start_time": "2023-05-11T12:24:54.995Z"
      },
      {
        "duration": 5,
        "start_time": "2023-05-11T12:24:55.860Z"
      },
      {
        "duration": 6,
        "start_time": "2023-05-11T12:24:58.321Z"
      },
      {
        "duration": 6,
        "start_time": "2023-05-11T12:24:59.577Z"
      },
      {
        "duration": 6,
        "start_time": "2023-05-11T12:25:13.113Z"
      },
      {
        "duration": 5,
        "start_time": "2023-05-11T12:26:15.350Z"
      },
      {
        "duration": 6,
        "start_time": "2023-05-11T12:26:16.001Z"
      },
      {
        "duration": 4,
        "start_time": "2023-05-11T12:26:16.625Z"
      },
      {
        "duration": 12,
        "start_time": "2023-05-11T12:26:24.043Z"
      },
      {
        "duration": 17,
        "start_time": "2023-05-11T12:26:40.924Z"
      },
      {
        "duration": 8,
        "start_time": "2023-05-11T12:26:41.882Z"
      },
      {
        "duration": 11,
        "start_time": "2023-05-11T12:26:43.505Z"
      },
      {
        "duration": 6,
        "start_time": "2023-05-11T12:26:44.101Z"
      },
      {
        "duration": 4,
        "start_time": "2023-05-11T12:26:51.043Z"
      },
      {
        "duration": 6,
        "start_time": "2023-05-11T12:27:18.580Z"
      },
      {
        "duration": 2574,
        "start_time": "2023-05-11T12:27:20.423Z"
      },
      {
        "duration": 2704,
        "start_time": "2023-05-11T12:27:23.000Z"
      },
      {
        "duration": 2686,
        "start_time": "2023-05-11T12:27:25.706Z"
      },
      {
        "duration": 15,
        "start_time": "2023-05-11T12:27:43.928Z"
      },
      {
        "duration": 3,
        "start_time": "2023-05-11T12:27:47.155Z"
      },
      {
        "duration": 2511,
        "start_time": "2023-05-11T12:27:51.054Z"
      },
      {
        "duration": 8,
        "start_time": "2023-05-11T12:28:01.640Z"
      },
      {
        "duration": 2799,
        "start_time": "2023-05-11T12:28:02.253Z"
      },
      {
        "duration": 1233,
        "start_time": "2023-05-11T12:28:09.518Z"
      },
      {
        "duration": 129,
        "start_time": "2023-05-11T12:28:17.564Z"
      },
      {
        "duration": 11,
        "start_time": "2023-05-11T12:28:52.734Z"
      },
      {
        "duration": 8,
        "start_time": "2023-05-11T12:29:44.816Z"
      },
      {
        "duration": 3,
        "start_time": "2023-05-11T12:29:57.526Z"
      },
      {
        "duration": 14,
        "start_time": "2023-05-11T12:30:12.109Z"
      },
      {
        "duration": 2879,
        "start_time": "2023-05-11T12:30:18.014Z"
      },
      {
        "duration": 14,
        "start_time": "2023-05-11T12:34:00.380Z"
      },
      {
        "duration": 2843,
        "start_time": "2023-05-11T12:34:10.604Z"
      },
      {
        "duration": 3,
        "start_time": "2023-05-11T12:34:29.842Z"
      },
      {
        "duration": 5,
        "start_time": "2023-05-11T12:34:34.734Z"
      },
      {
        "duration": 6,
        "start_time": "2023-05-11T12:34:38.635Z"
      },
      {
        "duration": 4,
        "start_time": "2023-05-11T12:34:41.737Z"
      },
      {
        "duration": 4,
        "start_time": "2023-05-11T12:34:46.877Z"
      },
      {
        "duration": 5,
        "start_time": "2023-05-11T12:34:47.437Z"
      },
      {
        "duration": 4,
        "start_time": "2023-05-11T12:34:49.584Z"
      },
      {
        "duration": 3,
        "start_time": "2023-05-11T12:34:52.449Z"
      },
      {
        "duration": 4,
        "start_time": "2023-05-11T12:34:57.013Z"
      },
      {
        "duration": 6,
        "start_time": "2023-05-11T12:34:57.562Z"
      },
      {
        "duration": 63,
        "start_time": "2023-05-11T12:35:00.475Z"
      },
      {
        "duration": 6,
        "start_time": "2023-05-11T12:37:54.012Z"
      },
      {
        "duration": 7,
        "start_time": "2023-05-11T12:37:59.542Z"
      },
      {
        "duration": 9,
        "start_time": "2023-05-11T12:38:18.247Z"
      },
      {
        "duration": 4,
        "start_time": "2023-05-11T12:38:18.753Z"
      },
      {
        "duration": 4,
        "start_time": "2023-05-11T12:38:20.217Z"
      },
      {
        "duration": 3,
        "start_time": "2023-05-11T12:38:20.826Z"
      },
      {
        "duration": 4,
        "start_time": "2023-05-11T12:38:21.871Z"
      },
      {
        "duration": 4,
        "start_time": "2023-05-11T12:38:22.783Z"
      },
      {
        "duration": 4,
        "start_time": "2023-05-11T12:38:23.686Z"
      },
      {
        "duration": 4,
        "start_time": "2023-05-11T12:38:27.447Z"
      },
      {
        "duration": 3,
        "start_time": "2023-05-11T12:38:34.286Z"
      },
      {
        "duration": 16,
        "start_time": "2023-05-11T12:38:41.053Z"
      },
      {
        "duration": 40,
        "start_time": "2023-05-11T12:38:42.567Z"
      },
      {
        "duration": 12,
        "start_time": "2023-05-11T12:38:46.373Z"
      },
      {
        "duration": 32,
        "start_time": "2023-05-11T12:38:48.286Z"
      },
      {
        "duration": 4,
        "start_time": "2023-05-11T12:38:55.601Z"
      },
      {
        "duration": 3,
        "start_time": "2023-05-11T12:42:38.725Z"
      },
      {
        "duration": 55,
        "start_time": "2023-05-11T15:09:55.619Z"
      },
      {
        "duration": 1676,
        "start_time": "2023-05-11T15:10:23.833Z"
      },
      {
        "duration": 2924,
        "start_time": "2023-05-11T15:10:27.008Z"
      },
      {
        "duration": 5,
        "start_time": "2023-05-11T15:10:29.935Z"
      },
      {
        "duration": 887,
        "start_time": "2023-05-11T15:10:30.112Z"
      },
      {
        "duration": 302,
        "start_time": "2023-05-11T15:10:31.002Z"
      },
      {
        "duration": 1051,
        "start_time": "2023-05-11T15:10:31.331Z"
      },
      {
        "duration": 5,
        "start_time": "2023-05-11T15:10:32.384Z"
      },
      {
        "duration": 8,
        "start_time": "2023-05-11T15:10:35.729Z"
      },
      {
        "duration": 7,
        "start_time": "2023-05-11T15:10:36.991Z"
      },
      {
        "duration": 5,
        "start_time": "2023-05-11T15:10:40.032Z"
      },
      {
        "duration": 4,
        "start_time": "2023-05-11T15:10:40.537Z"
      },
      {
        "duration": 5,
        "start_time": "2023-05-11T15:10:41.401Z"
      },
      {
        "duration": 6,
        "start_time": "2023-05-11T15:10:41.864Z"
      },
      {
        "duration": 13,
        "start_time": "2023-05-11T15:10:44.529Z"
      },
      {
        "duration": 18,
        "start_time": "2023-05-11T15:10:45.647Z"
      },
      {
        "duration": 8,
        "start_time": "2023-05-11T15:10:45.877Z"
      },
      {
        "duration": 11,
        "start_time": "2023-05-11T15:10:46.487Z"
      },
      {
        "duration": 7,
        "start_time": "2023-05-11T15:10:46.760Z"
      },
      {
        "duration": 4,
        "start_time": "2023-05-11T15:10:46.992Z"
      },
      {
        "duration": 6,
        "start_time": "2023-05-11T15:10:48.835Z"
      },
      {
        "duration": 2858,
        "start_time": "2023-05-11T15:10:49.400Z"
      },
      {
        "duration": 2851,
        "start_time": "2023-05-11T15:10:52.260Z"
      },
      {
        "duration": 2761,
        "start_time": "2023-05-11T15:10:55.113Z"
      },
      {
        "duration": 15,
        "start_time": "2023-05-11T15:11:14.777Z"
      },
      {
        "duration": 4,
        "start_time": "2023-05-11T15:11:15.513Z"
      },
      {
        "duration": 2720,
        "start_time": "2023-05-11T15:11:16.194Z"
      },
      {
        "duration": 8,
        "start_time": "2023-05-11T15:11:27.112Z"
      },
      {
        "duration": 2995,
        "start_time": "2023-05-11T15:11:27.634Z"
      },
      {
        "duration": 1326,
        "start_time": "2023-05-11T15:11:30.631Z"
      },
      {
        "duration": 8,
        "start_time": "2023-05-11T15:11:38.724Z"
      },
      {
        "duration": 3,
        "start_time": "2023-05-11T15:11:43.729Z"
      },
      {
        "duration": 14,
        "start_time": "2023-05-11T15:11:48.400Z"
      },
      {
        "duration": 2956,
        "start_time": "2023-05-11T15:11:50.136Z"
      },
      {
        "duration": 4,
        "start_time": "2023-05-11T15:12:03.386Z"
      },
      {
        "duration": 7,
        "start_time": "2023-05-11T15:12:10.281Z"
      },
      {
        "duration": 11,
        "start_time": "2023-05-11T15:12:11.906Z"
      },
      {
        "duration": 5,
        "start_time": "2023-05-11T15:12:12.425Z"
      },
      {
        "duration": 5,
        "start_time": "2023-05-11T15:12:17.535Z"
      },
      {
        "duration": 4,
        "start_time": "2023-05-11T15:12:17.937Z"
      },
      {
        "duration": 3,
        "start_time": "2023-05-11T15:12:18.105Z"
      },
      {
        "duration": 3,
        "start_time": "2023-05-11T15:12:18.344Z"
      },
      {
        "duration": 4,
        "start_time": "2023-05-11T15:12:19.096Z"
      },
      {
        "duration": 4,
        "start_time": "2023-05-11T15:12:19.279Z"
      },
      {
        "duration": 7,
        "start_time": "2023-05-11T15:12:19.479Z"
      },
      {
        "duration": 8,
        "start_time": "2023-05-11T15:12:19.679Z"
      },
      {
        "duration": 4,
        "start_time": "2023-05-11T15:12:23.465Z"
      },
      {
        "duration": 4,
        "start_time": "2023-05-11T15:12:23.650Z"
      },
      {
        "duration": 3,
        "start_time": "2023-05-11T15:12:23.831Z"
      },
      {
        "duration": 3,
        "start_time": "2023-05-11T15:12:24.001Z"
      },
      {
        "duration": 3,
        "start_time": "2023-05-11T15:12:24.162Z"
      },
      {
        "duration": 4,
        "start_time": "2023-05-11T15:12:24.329Z"
      },
      {
        "duration": 4,
        "start_time": "2023-05-11T15:12:24.499Z"
      },
      {
        "duration": 4,
        "start_time": "2023-05-11T15:12:24.713Z"
      },
      {
        "duration": 3,
        "start_time": "2023-05-11T15:12:29.220Z"
      },
      {
        "duration": 10,
        "start_time": "2023-05-11T15:12:29.754Z"
      },
      {
        "duration": 30,
        "start_time": "2023-05-11T15:12:30.562Z"
      },
      {
        "duration": 9,
        "start_time": "2023-05-11T15:12:30.976Z"
      },
      {
        "duration": 34,
        "start_time": "2023-05-11T15:12:31.697Z"
      },
      {
        "duration": 5,
        "start_time": "2023-05-11T15:12:37.012Z"
      },
      {
        "duration": 3,
        "start_time": "2023-05-11T15:12:40.885Z"
      },
      {
        "duration": 5546,
        "start_time": "2023-05-11T15:12:46.161Z"
      },
      {
        "duration": 7474,
        "start_time": "2023-05-11T15:12:54.481Z"
      },
      {
        "duration": 5,
        "start_time": "2023-05-11T15:13:10.954Z"
      },
      {
        "duration": 6,
        "start_time": "2023-05-11T15:13:31.892Z"
      },
      {
        "duration": 183679,
        "start_time": "2023-05-11T15:14:15.992Z"
      },
      {
        "duration": 6,
        "start_time": "2023-05-11T15:22:25.090Z"
      },
      {
        "duration": 247962,
        "start_time": "2023-05-11T15:23:22.794Z"
      },
      {
        "duration": 7,
        "start_time": "2023-05-11T15:27:46.341Z"
      },
      {
        "duration": 540677,
        "start_time": "2023-05-11T15:28:39.936Z"
      },
      {
        "duration": 4,
        "start_time": "2023-05-11T15:37:53.812Z"
      },
      {
        "duration": 186904,
        "start_time": "2023-05-11T15:38:27.602Z"
      },
      {
        "duration": 5,
        "start_time": "2023-05-11T15:41:46.592Z"
      },
      {
        "duration": 3,
        "start_time": "2023-05-11T15:44:43.451Z"
      },
      {
        "duration": 5,
        "start_time": "2023-05-11T15:44:44.652Z"
      },
      {
        "duration": 4,
        "start_time": "2023-05-11T15:44:45.364Z"
      },
      {
        "duration": 5,
        "start_time": "2023-05-11T15:45:08.605Z"
      },
      {
        "duration": 4,
        "start_time": "2023-05-11T15:45:11.228Z"
      },
      {
        "duration": 7,
        "start_time": "2023-05-11T15:45:26.796Z"
      },
      {
        "duration": 9,
        "start_time": "2023-05-11T15:45:27.782Z"
      },
      {
        "duration": 8,
        "start_time": "2023-05-11T15:45:29.181Z"
      },
      {
        "duration": 119,
        "start_time": "2023-05-11T15:46:10.037Z"
      },
      {
        "duration": 3,
        "start_time": "2023-05-11T15:46:22.707Z"
      },
      {
        "duration": 10,
        "start_time": "2023-05-11T15:46:26.292Z"
      },
      {
        "duration": 1411,
        "start_time": "2023-05-11T15:48:54.793Z"
      },
      {
        "duration": 794,
        "start_time": "2023-05-11T15:48:56.206Z"
      },
      {
        "duration": 5,
        "start_time": "2023-05-11T15:48:57.002Z"
      },
      {
        "duration": 888,
        "start_time": "2023-05-11T15:48:57.009Z"
      },
      {
        "duration": 330,
        "start_time": "2023-05-11T15:48:57.899Z"
      },
      {
        "duration": 989,
        "start_time": "2023-05-11T15:48:58.230Z"
      },
      {
        "duration": 21,
        "start_time": "2023-05-11T15:48:59.221Z"
      },
      {
        "duration": 29,
        "start_time": "2023-05-11T15:48:59.244Z"
      },
      {
        "duration": 16,
        "start_time": "2023-05-11T15:48:59.276Z"
      },
      {
        "duration": 12,
        "start_time": "2023-05-11T15:48:59.295Z"
      },
      {
        "duration": 18,
        "start_time": "2023-05-11T15:48:59.309Z"
      },
      {
        "duration": 22,
        "start_time": "2023-05-11T15:48:59.329Z"
      },
      {
        "duration": 33,
        "start_time": "2023-05-11T15:48:59.353Z"
      },
      {
        "duration": 23,
        "start_time": "2023-05-11T15:48:59.388Z"
      },
      {
        "duration": 32,
        "start_time": "2023-05-11T15:48:59.413Z"
      },
      {
        "duration": 11,
        "start_time": "2023-05-11T15:48:59.447Z"
      },
      {
        "duration": 25,
        "start_time": "2023-05-11T15:48:59.460Z"
      },
      {
        "duration": 12,
        "start_time": "2023-05-11T15:48:59.487Z"
      },
      {
        "duration": 19,
        "start_time": "2023-05-11T15:48:59.501Z"
      },
      {
        "duration": 8,
        "start_time": "2023-05-11T15:48:59.522Z"
      },
      {
        "duration": 2908,
        "start_time": "2023-05-11T15:48:59.532Z"
      },
      {
        "duration": 2848,
        "start_time": "2023-05-11T15:49:02.442Z"
      },
      {
        "duration": 2795,
        "start_time": "2023-05-11T15:49:05.292Z"
      },
      {
        "duration": 15,
        "start_time": "2023-05-11T15:49:08.089Z"
      },
      {
        "duration": 6,
        "start_time": "2023-05-11T15:49:08.107Z"
      },
      {
        "duration": 2795,
        "start_time": "2023-05-11T15:49:08.115Z"
      },
      {
        "duration": 9,
        "start_time": "2023-05-11T15:49:10.912Z"
      },
      {
        "duration": 2973,
        "start_time": "2023-05-11T15:49:10.939Z"
      },
      {
        "duration": 1385,
        "start_time": "2023-05-11T15:49:13.915Z"
      },
      {
        "duration": 10,
        "start_time": "2023-05-11T15:49:15.302Z"
      },
      {
        "duration": 15,
        "start_time": "2023-05-11T15:49:15.314Z"
      },
      {
        "duration": 23,
        "start_time": "2023-05-11T15:49:15.332Z"
      },
      {
        "duration": 2745,
        "start_time": "2023-05-11T15:49:15.357Z"
      },
      {
        "duration": 3,
        "start_time": "2023-05-11T15:49:18.104Z"
      },
      {
        "duration": 9,
        "start_time": "2023-05-11T15:49:18.109Z"
      },
      {
        "duration": 17,
        "start_time": "2023-05-11T15:49:18.120Z"
      },
      {
        "duration": 5,
        "start_time": "2023-05-11T15:49:18.139Z"
      },
      {
        "duration": 5,
        "start_time": "2023-05-11T15:49:18.145Z"
      },
      {
        "duration": 6,
        "start_time": "2023-05-11T15:49:18.152Z"
      },
      {
        "duration": 5,
        "start_time": "2023-05-11T15:49:18.160Z"
      },
      {
        "duration": 5,
        "start_time": "2023-05-11T15:49:18.166Z"
      },
      {
        "duration": 7,
        "start_time": "2023-05-11T15:49:18.173Z"
      },
      {
        "duration": 6,
        "start_time": "2023-05-11T15:49:18.182Z"
      },
      {
        "duration": 11,
        "start_time": "2023-05-11T15:49:18.189Z"
      },
      {
        "duration": 40,
        "start_time": "2023-05-11T15:49:18.201Z"
      },
      {
        "duration": 4,
        "start_time": "2023-05-11T15:49:18.243Z"
      },
      {
        "duration": 5,
        "start_time": "2023-05-11T15:49:18.249Z"
      },
      {
        "duration": 6,
        "start_time": "2023-05-11T15:49:18.256Z"
      },
      {
        "duration": 45,
        "start_time": "2023-05-11T15:49:18.264Z"
      },
      {
        "duration": 10,
        "start_time": "2023-05-11T15:49:18.311Z"
      },
      {
        "duration": 13,
        "start_time": "2023-05-11T15:49:18.323Z"
      },
      {
        "duration": 5,
        "start_time": "2023-05-11T15:49:18.338Z"
      },
      {
        "duration": 7,
        "start_time": "2023-05-11T15:49:18.345Z"
      },
      {
        "duration": 12,
        "start_time": "2023-05-11T15:49:18.354Z"
      },
      {
        "duration": 17,
        "start_time": "2023-05-11T15:49:18.368Z"
      },
      {
        "duration": 50,
        "start_time": "2023-05-11T15:49:18.388Z"
      },
      {
        "duration": 9,
        "start_time": "2023-05-11T15:49:18.440Z"
      },
      {
        "duration": 30,
        "start_time": "2023-05-11T15:49:18.451Z"
      },
      {
        "duration": 4,
        "start_time": "2023-05-11T15:49:18.482Z"
      },
      {
        "duration": 4,
        "start_time": "2023-05-11T15:49:18.488Z"
      },
      {
        "duration": 7687,
        "start_time": "2023-05-11T15:49:18.494Z"
      },
      {
        "duration": 1258,
        "start_time": "2023-05-11T15:49:26.183Z"
      },
      {
        "duration": 86629,
        "start_time": "2023-05-11T15:49:27.443Z"
      },
      {
        "duration": 1641,
        "start_time": "2023-05-11T15:50:54.074Z"
      },
      {
        "duration": 6,
        "start_time": "2023-05-11T15:50:55.717Z"
      },
      {
        "duration": 6,
        "start_time": "2023-05-11T15:50:55.737Z"
      },
      {
        "duration": 6,
        "start_time": "2023-05-11T15:50:55.745Z"
      },
      {
        "duration": 25,
        "start_time": "2023-05-11T15:50:55.752Z"
      },
      {
        "duration": 21,
        "start_time": "2023-05-11T15:50:55.779Z"
      },
      {
        "duration": 7,
        "start_time": "2023-05-11T15:50:55.801Z"
      },
      {
        "duration": 6,
        "start_time": "2023-05-11T15:50:55.810Z"
      },
      {
        "duration": 7,
        "start_time": "2023-05-11T15:50:55.817Z"
      },
      {
        "duration": 13,
        "start_time": "2023-05-11T15:50:55.826Z"
      },
      {
        "duration": 7,
        "start_time": "2023-05-11T15:50:55.841Z"
      },
      {
        "duration": 6,
        "start_time": "2023-05-11T15:50:55.850Z"
      },
      {
        "duration": 13,
        "start_time": "2023-05-11T15:50:55.858Z"
      },
      {
        "duration": 14689,
        "start_time": "2023-05-11T16:02:17.287Z"
      },
      {
        "duration": 4,
        "start_time": "2023-05-11T16:02:39.311Z"
      },
      {
        "duration": 20465,
        "start_time": "2023-05-11T16:02:50.187Z"
      },
      {
        "duration": 5,
        "start_time": "2023-05-11T16:03:17.359Z"
      },
      {
        "duration": 3,
        "start_time": "2023-05-11T16:04:38.191Z"
      },
      {
        "duration": 5,
        "start_time": "2023-05-11T16:04:38.759Z"
      },
      {
        "duration": 5,
        "start_time": "2023-05-11T16:04:39.992Z"
      },
      {
        "duration": 6,
        "start_time": "2023-05-11T16:04:50.040Z"
      },
      {
        "duration": 9,
        "start_time": "2023-05-11T16:04:51.359Z"
      },
      {
        "duration": 9,
        "start_time": "2023-05-11T16:04:52.392Z"
      },
      {
        "duration": 11,
        "start_time": "2023-05-11T16:05:05.375Z"
      },
      {
        "duration": 2144,
        "start_time": "2023-05-12T16:12:57.086Z"
      },
      {
        "duration": 869,
        "start_time": "2023-05-12T16:12:59.232Z"
      },
      {
        "duration": 6,
        "start_time": "2023-05-12T16:13:00.103Z"
      },
      {
        "duration": 1086,
        "start_time": "2023-05-12T16:13:00.112Z"
      },
      {
        "duration": 359,
        "start_time": "2023-05-12T16:13:01.200Z"
      },
      {
        "duration": 1096,
        "start_time": "2023-05-12T16:13:01.562Z"
      },
      {
        "duration": 7,
        "start_time": "2023-05-12T16:13:02.660Z"
      },
      {
        "duration": 45,
        "start_time": "2023-05-12T16:13:02.669Z"
      },
      {
        "duration": 49,
        "start_time": "2023-05-12T16:13:02.716Z"
      },
      {
        "duration": 48,
        "start_time": "2023-05-12T16:13:02.768Z"
      },
      {
        "duration": 59,
        "start_time": "2023-05-12T16:13:02.818Z"
      },
      {
        "duration": 21,
        "start_time": "2023-05-12T16:13:02.879Z"
      },
      {
        "duration": 47,
        "start_time": "2023-05-12T16:13:02.902Z"
      },
      {
        "duration": 30,
        "start_time": "2023-05-12T16:13:02.951Z"
      },
      {
        "duration": 43,
        "start_time": "2023-05-12T16:13:02.984Z"
      },
      {
        "duration": 42,
        "start_time": "2023-05-12T16:13:03.029Z"
      },
      {
        "duration": 57,
        "start_time": "2023-05-12T16:13:03.074Z"
      },
      {
        "duration": 45,
        "start_time": "2023-05-12T16:13:03.133Z"
      },
      {
        "duration": 22,
        "start_time": "2023-05-12T16:13:03.180Z"
      },
      {
        "duration": 59,
        "start_time": "2023-05-12T16:13:03.204Z"
      },
      {
        "duration": 3337,
        "start_time": "2023-05-12T16:13:03.266Z"
      },
      {
        "duration": 3006,
        "start_time": "2023-05-12T16:13:06.605Z"
      },
      {
        "duration": 3077,
        "start_time": "2023-05-12T16:13:09.613Z"
      },
      {
        "duration": 14,
        "start_time": "2023-05-12T16:13:12.692Z"
      },
      {
        "duration": 42,
        "start_time": "2023-05-12T16:13:12.708Z"
      },
      {
        "duration": 2930,
        "start_time": "2023-05-12T16:13:12.752Z"
      },
      {
        "duration": 7,
        "start_time": "2023-05-12T16:13:15.684Z"
      },
      {
        "duration": 1510,
        "start_time": "2023-05-12T16:13:15.694Z"
      },
      {
        "duration": 8,
        "start_time": "2023-05-12T16:13:17.206Z"
      },
      {
        "duration": 52,
        "start_time": "2023-05-12T16:13:17.224Z"
      },
      {
        "duration": 46,
        "start_time": "2023-05-12T16:13:17.278Z"
      },
      {
        "duration": 2802,
        "start_time": "2023-05-12T16:13:17.325Z"
      },
      {
        "duration": 3,
        "start_time": "2023-05-12T16:13:20.129Z"
      },
      {
        "duration": 34,
        "start_time": "2023-05-12T16:13:20.134Z"
      },
      {
        "duration": 40,
        "start_time": "2023-05-12T16:13:20.170Z"
      },
      {
        "duration": 31,
        "start_time": "2023-05-12T16:13:20.213Z"
      },
      {
        "duration": 33,
        "start_time": "2023-05-12T16:13:20.246Z"
      },
      {
        "duration": 36,
        "start_time": "2023-05-12T16:13:20.281Z"
      },
      {
        "duration": 35,
        "start_time": "2023-05-12T16:13:20.319Z"
      },
      {
        "duration": 17,
        "start_time": "2023-05-12T16:13:20.356Z"
      },
      {
        "duration": 16,
        "start_time": "2023-05-12T16:13:20.374Z"
      },
      {
        "duration": 17,
        "start_time": "2023-05-12T16:13:20.393Z"
      },
      {
        "duration": 37,
        "start_time": "2023-05-12T16:13:20.412Z"
      },
      {
        "duration": 33,
        "start_time": "2023-05-12T16:13:29.186Z"
      },
      {
        "duration": 1451,
        "start_time": "2023-05-13T05:58:27.425Z"
      },
      {
        "duration": 2408,
        "start_time": "2023-05-13T05:58:28.878Z"
      },
      {
        "duration": 6,
        "start_time": "2023-05-13T05:58:31.288Z"
      },
      {
        "duration": 913,
        "start_time": "2023-05-13T05:58:31.296Z"
      },
      {
        "duration": 318,
        "start_time": "2023-05-13T05:58:32.211Z"
      },
      {
        "duration": 906,
        "start_time": "2023-05-13T05:58:32.531Z"
      },
      {
        "duration": 6,
        "start_time": "2023-05-13T05:58:33.438Z"
      },
      {
        "duration": 10,
        "start_time": "2023-05-13T05:58:33.446Z"
      },
      {
        "duration": 5,
        "start_time": "2023-05-13T05:58:33.458Z"
      },
      {
        "duration": 33,
        "start_time": "2023-05-13T05:58:33.465Z"
      },
      {
        "duration": 6,
        "start_time": "2023-05-13T05:58:33.500Z"
      },
      {
        "duration": 10,
        "start_time": "2023-05-13T05:58:33.508Z"
      },
      {
        "duration": 9,
        "start_time": "2023-05-13T05:58:33.520Z"
      },
      {
        "duration": 16,
        "start_time": "2023-05-13T05:58:33.531Z"
      },
      {
        "duration": 21,
        "start_time": "2023-05-13T05:58:33.549Z"
      },
      {
        "duration": 30,
        "start_time": "2023-05-13T05:58:33.571Z"
      },
      {
        "duration": 10,
        "start_time": "2023-05-13T05:58:33.603Z"
      },
      {
        "duration": 6,
        "start_time": "2023-05-13T05:58:33.614Z"
      },
      {
        "duration": 4,
        "start_time": "2023-05-13T05:58:33.622Z"
      },
      {
        "duration": 6,
        "start_time": "2023-05-13T05:58:33.628Z"
      },
      {
        "duration": 2691,
        "start_time": "2023-05-13T05:58:33.636Z"
      },
      {
        "duration": 2734,
        "start_time": "2023-05-13T05:58:36.329Z"
      },
      {
        "duration": 2495,
        "start_time": "2023-05-13T05:58:39.064Z"
      },
      {
        "duration": 14,
        "start_time": "2023-05-13T05:58:41.560Z"
      },
      {
        "duration": 9,
        "start_time": "2023-05-13T05:58:41.575Z"
      },
      {
        "duration": 2645,
        "start_time": "2023-05-13T05:58:41.585Z"
      },
      {
        "duration": 7,
        "start_time": "2023-05-13T05:58:44.232Z"
      },
      {
        "duration": 1460,
        "start_time": "2023-05-13T05:58:44.243Z"
      },
      {
        "duration": 8,
        "start_time": "2023-05-13T05:58:45.705Z"
      },
      {
        "duration": 7,
        "start_time": "2023-05-13T05:58:45.714Z"
      },
      {
        "duration": 14,
        "start_time": "2023-05-13T05:58:45.723Z"
      },
      {
        "duration": 2771,
        "start_time": "2023-05-13T05:58:45.738Z"
      },
      {
        "duration": 3,
        "start_time": "2023-05-13T05:58:48.511Z"
      },
      {
        "duration": 14,
        "start_time": "2023-05-13T05:58:48.516Z"
      },
      {
        "duration": 13,
        "start_time": "2023-05-13T05:58:48.532Z"
      },
      {
        "duration": 7,
        "start_time": "2023-05-13T05:58:48.547Z"
      },
      {
        "duration": 13,
        "start_time": "2023-05-13T05:58:48.556Z"
      },
      {
        "duration": 18,
        "start_time": "2023-05-13T05:58:48.570Z"
      },
      {
        "duration": 9,
        "start_time": "2023-05-13T05:58:48.590Z"
      },
      {
        "duration": 6,
        "start_time": "2023-05-13T05:58:48.601Z"
      },
      {
        "duration": 13,
        "start_time": "2023-05-13T05:58:48.609Z"
      },
      {
        "duration": 20,
        "start_time": "2023-05-13T05:58:48.624Z"
      },
      {
        "duration": 14,
        "start_time": "2023-05-13T05:58:48.646Z"
      },
      {
        "duration": 12,
        "start_time": "2023-05-13T05:58:48.662Z"
      },
      {
        "duration": 7,
        "start_time": "2023-05-13T05:58:48.676Z"
      },
      {
        "duration": 16,
        "start_time": "2023-05-13T05:58:48.685Z"
      },
      {
        "duration": 19,
        "start_time": "2023-05-13T05:58:48.703Z"
      },
      {
        "duration": 14,
        "start_time": "2023-05-13T05:58:48.724Z"
      },
      {
        "duration": 21,
        "start_time": "2023-05-13T05:58:48.739Z"
      },
      {
        "duration": 7,
        "start_time": "2023-05-13T05:58:48.762Z"
      },
      {
        "duration": 19,
        "start_time": "2023-05-13T05:58:48.771Z"
      },
      {
        "duration": 22,
        "start_time": "2023-05-13T05:58:48.791Z"
      },
      {
        "duration": 16,
        "start_time": "2023-05-13T05:58:48.814Z"
      },
      {
        "duration": 15,
        "start_time": "2023-05-13T05:58:48.832Z"
      },
      {
        "duration": 15,
        "start_time": "2023-05-13T05:58:48.849Z"
      },
      {
        "duration": 39,
        "start_time": "2023-05-13T05:58:48.866Z"
      },
      {
        "duration": 11,
        "start_time": "2023-05-13T05:58:48.907Z"
      },
      {
        "duration": 10,
        "start_time": "2023-05-13T05:58:48.920Z"
      },
      {
        "duration": 10,
        "start_time": "2023-05-13T05:58:48.931Z"
      },
      {
        "duration": 13,
        "start_time": "2023-05-13T05:58:48.943Z"
      },
      {
        "duration": 2055675,
        "start_time": "2023-05-13T05:58:48.958Z"
      },
      {
        "duration": 0,
        "start_time": "2023-05-13T06:33:04.636Z"
      },
      {
        "duration": 0,
        "start_time": "2023-05-13T06:33:04.637Z"
      },
      {
        "duration": 0,
        "start_time": "2023-05-13T06:33:04.639Z"
      },
      {
        "duration": 0,
        "start_time": "2023-05-13T06:33:04.640Z"
      },
      {
        "duration": 0,
        "start_time": "2023-05-13T06:33:04.641Z"
      },
      {
        "duration": 0,
        "start_time": "2023-05-13T06:33:04.642Z"
      },
      {
        "duration": 0,
        "start_time": "2023-05-13T06:33:04.643Z"
      },
      {
        "duration": 0,
        "start_time": "2023-05-13T06:33:04.644Z"
      },
      {
        "duration": 1,
        "start_time": "2023-05-13T06:33:04.645Z"
      },
      {
        "duration": 0,
        "start_time": "2023-05-13T06:33:04.647Z"
      },
      {
        "duration": 0,
        "start_time": "2023-05-13T06:33:04.649Z"
      },
      {
        "duration": 0,
        "start_time": "2023-05-13T06:33:04.649Z"
      },
      {
        "duration": 0,
        "start_time": "2023-05-13T06:33:04.651Z"
      },
      {
        "duration": 0,
        "start_time": "2023-05-13T06:33:04.653Z"
      },
      {
        "duration": 0,
        "start_time": "2023-05-13T06:33:04.654Z"
      },
      {
        "duration": 0,
        "start_time": "2023-05-13T06:33:04.656Z"
      },
      {
        "duration": 1694,
        "start_time": "2023-05-13T06:33:42.367Z"
      },
      {
        "duration": 1108,
        "start_time": "2023-05-13T06:33:45.864Z"
      },
      {
        "duration": 9,
        "start_time": "2023-05-13T06:33:50.633Z"
      },
      {
        "duration": 1165,
        "start_time": "2023-05-13T06:33:52.280Z"
      },
      {
        "duration": 421,
        "start_time": "2023-05-13T06:33:53.752Z"
      },
      {
        "duration": 1244,
        "start_time": "2023-05-13T06:33:54.520Z"
      },
      {
        "duration": 9,
        "start_time": "2023-05-13T06:33:55.767Z"
      },
      {
        "duration": 10,
        "start_time": "2023-05-13T06:34:03.390Z"
      },
      {
        "duration": 8,
        "start_time": "2023-05-13T06:34:05.479Z"
      },
      {
        "duration": 12,
        "start_time": "2023-05-13T06:34:08.787Z"
      },
      {
        "duration": 8,
        "start_time": "2023-05-13T06:34:09.563Z"
      },
      {
        "duration": 7,
        "start_time": "2023-05-13T06:34:10.784Z"
      },
      {
        "duration": 8,
        "start_time": "2023-05-13T06:34:11.304Z"
      },
      {
        "duration": 22,
        "start_time": "2023-05-13T06:34:14.225Z"
      },
      {
        "duration": 21,
        "start_time": "2023-05-13T06:34:19.464Z"
      },
      {
        "duration": 10,
        "start_time": "2023-05-13T06:34:20.407Z"
      },
      {
        "duration": 15,
        "start_time": "2023-05-13T06:34:26.896Z"
      },
      {
        "duration": 11,
        "start_time": "2023-05-13T06:34:27.703Z"
      },
      {
        "duration": 5,
        "start_time": "2023-05-13T06:34:29.433Z"
      },
      {
        "duration": 6,
        "start_time": "2023-05-13T06:34:48.471Z"
      },
      {
        "duration": 2769,
        "start_time": "2023-05-13T06:34:50.464Z"
      },
      {
        "duration": 2844,
        "start_time": "2023-05-13T06:34:53.236Z"
      },
      {
        "duration": 2856,
        "start_time": "2023-05-13T06:34:56.082Z"
      },
      {
        "duration": 20,
        "start_time": "2023-05-13T06:35:15.633Z"
      },
      {
        "duration": 4,
        "start_time": "2023-05-13T06:35:16.363Z"
      },
      {
        "duration": 2636,
        "start_time": "2023-05-13T06:35:17.153Z"
      },
      {
        "duration": 10,
        "start_time": "2023-05-13T06:35:29.649Z"
      },
      {
        "duration": 1688,
        "start_time": "2023-05-13T06:35:31.145Z"
      },
      {
        "duration": 12,
        "start_time": "2023-05-13T06:35:32.836Z"
      },
      {
        "duration": 3,
        "start_time": "2023-05-13T06:35:46.263Z"
      },
      {
        "duration": 16,
        "start_time": "2023-05-13T06:36:00.954Z"
      },
      {
        "duration": 2575,
        "start_time": "2023-05-13T06:36:02.719Z"
      },
      {
        "duration": 3,
        "start_time": "2023-05-13T06:36:13.120Z"
      },
      {
        "duration": 4,
        "start_time": "2023-05-13T06:36:20.081Z"
      },
      {
        "duration": 8,
        "start_time": "2023-05-13T06:36:37.016Z"
      },
      {
        "duration": 6,
        "start_time": "2023-05-13T06:36:40.896Z"
      },
      {
        "duration": 6,
        "start_time": "2023-05-13T06:36:41.464Z"
      },
      {
        "duration": 4,
        "start_time": "2023-05-13T06:37:26.027Z"
      },
      {
        "duration": 4,
        "start_time": "2023-05-13T06:37:26.747Z"
      },
      {
        "duration": 3,
        "start_time": "2023-05-13T06:37:32.109Z"
      },
      {
        "duration": 4,
        "start_time": "2023-05-13T06:37:32.753Z"
      },
      {
        "duration": 3,
        "start_time": "2023-05-13T06:37:38.986Z"
      },
      {
        "duration": 3,
        "start_time": "2023-05-13T06:37:39.810Z"
      },
      {
        "duration": 171,
        "start_time": "2023-05-13T06:38:02.963Z"
      },
      {
        "duration": 227,
        "start_time": "2023-05-13T06:39:33.939Z"
      },
      {
        "duration": 47,
        "start_time": "2023-05-13T06:39:48.420Z"
      },
      {
        "duration": 15,
        "start_time": "2023-05-13T06:40:17.444Z"
      },
      {
        "duration": 18,
        "start_time": "2023-05-13T06:43:08.373Z"
      },
      {
        "duration": 52,
        "start_time": "2023-05-13T06:44:16.319Z"
      },
      {
        "duration": 21,
        "start_time": "2023-05-13T06:44:47.422Z"
      },
      {
        "duration": 1310,
        "start_time": "2023-05-13T06:47:23.479Z"
      },
      {
        "duration": 775,
        "start_time": "2023-05-13T06:47:26.191Z"
      },
      {
        "duration": 5,
        "start_time": "2023-05-13T06:47:29.335Z"
      },
      {
        "duration": 759,
        "start_time": "2023-05-13T06:47:32.418Z"
      },
      {
        "duration": 251,
        "start_time": "2023-05-13T06:47:33.471Z"
      },
      {
        "duration": 826,
        "start_time": "2023-05-13T06:47:33.923Z"
      },
      {
        "duration": 6,
        "start_time": "2023-05-13T06:47:34.751Z"
      },
      {
        "duration": 6,
        "start_time": "2023-05-13T06:47:36.164Z"
      },
      {
        "duration": 5,
        "start_time": "2023-05-13T06:47:36.416Z"
      },
      {
        "duration": 5,
        "start_time": "2023-05-13T06:47:37.447Z"
      },
      {
        "duration": 5,
        "start_time": "2023-05-13T06:47:37.617Z"
      },
      {
        "duration": 5,
        "start_time": "2023-05-13T06:47:37.767Z"
      },
      {
        "duration": 5,
        "start_time": "2023-05-13T06:47:37.935Z"
      },
      {
        "duration": 12,
        "start_time": "2023-05-13T06:47:38.585Z"
      },
      {
        "duration": 24,
        "start_time": "2023-05-13T06:47:39.078Z"
      },
      {
        "duration": 7,
        "start_time": "2023-05-13T06:47:39.262Z"
      },
      {
        "duration": 10,
        "start_time": "2023-05-13T06:47:39.599Z"
      },
      {
        "duration": 7,
        "start_time": "2023-05-13T06:47:39.784Z"
      },
      {
        "duration": 3,
        "start_time": "2023-05-13T06:47:40.032Z"
      },
      {
        "duration": 6,
        "start_time": "2023-05-13T06:47:41.839Z"
      },
      {
        "duration": 2370,
        "start_time": "2023-05-13T06:47:42.233Z"
      },
      {
        "duration": 2485,
        "start_time": "2023-05-13T06:47:44.605Z"
      },
      {
        "duration": 2323,
        "start_time": "2023-05-13T06:47:47.092Z"
      },
      {
        "duration": 16,
        "start_time": "2023-05-13T06:47:49.418Z"
      },
      {
        "duration": 5,
        "start_time": "2023-05-13T06:47:49.435Z"
      },
      {
        "duration": 2447,
        "start_time": "2023-05-13T06:47:49.442Z"
      },
      {
        "duration": 10,
        "start_time": "2023-05-13T06:47:51.891Z"
      },
      {
        "duration": 1223,
        "start_time": "2023-05-13T06:47:52.027Z"
      },
      {
        "duration": 8,
        "start_time": "2023-05-13T06:47:53.252Z"
      },
      {
        "duration": 4,
        "start_time": "2023-05-13T06:47:57.249Z"
      },
      {
        "duration": 12,
        "start_time": "2023-05-13T06:47:58.376Z"
      },
      {
        "duration": 2507,
        "start_time": "2023-05-13T06:47:58.970Z"
      },
      {
        "duration": 3,
        "start_time": "2023-05-13T06:48:02.598Z"
      },
      {
        "duration": 3,
        "start_time": "2023-05-13T06:48:06.207Z"
      },
      {
        "duration": 7,
        "start_time": "2023-05-13T06:48:11.776Z"
      },
      {
        "duration": 5,
        "start_time": "2023-05-13T06:48:12.744Z"
      },
      {
        "duration": 5,
        "start_time": "2023-05-13T06:48:13.523Z"
      },
      {
        "duration": 3,
        "start_time": "2023-05-13T06:48:15.424Z"
      },
      {
        "duration": 4,
        "start_time": "2023-05-13T06:48:15.671Z"
      },
      {
        "duration": 3,
        "start_time": "2023-05-13T06:48:16.324Z"
      },
      {
        "duration": 2,
        "start_time": "2023-05-13T06:48:16.951Z"
      },
      {
        "duration": 4,
        "start_time": "2023-05-13T06:48:17.975Z"
      },
      {
        "duration": 3,
        "start_time": "2023-05-13T06:48:19.228Z"
      },
      {
        "duration": 18,
        "start_time": "2023-05-13T06:48:19.787Z"
      },
      {
        "duration": 20,
        "start_time": "2023-05-13T06:48:20.531Z"
      },
      {
        "duration": 3,
        "start_time": "2023-05-13T06:48:26.424Z"
      },
      {
        "duration": 3,
        "start_time": "2023-05-13T06:48:26.959Z"
      },
      {
        "duration": 4,
        "start_time": "2023-05-13T06:48:27.558Z"
      },
      {
        "duration": 3,
        "start_time": "2023-05-13T06:48:29.151Z"
      },
      {
        "duration": 4,
        "start_time": "2023-05-13T06:48:30.003Z"
      },
      {
        "duration": 4,
        "start_time": "2023-05-13T06:48:30.489Z"
      },
      {
        "duration": 3,
        "start_time": "2023-05-13T06:48:30.945Z"
      },
      {
        "duration": 4,
        "start_time": "2023-05-13T06:48:35.487Z"
      },
      {
        "duration": 3,
        "start_time": "2023-05-13T06:48:42.336Z"
      },
      {
        "duration": 8,
        "start_time": "2023-05-13T06:48:43.349Z"
      },
      {
        "duration": 7,
        "start_time": "2023-05-13T06:48:44.421Z"
      },
      {
        "duration": 9,
        "start_time": "2023-05-13T06:48:45.480Z"
      },
      {
        "duration": 8,
        "start_time": "2023-05-13T06:48:51.152Z"
      },
      {
        "duration": 3,
        "start_time": "2023-05-13T06:49:40.184Z"
      },
      {
        "duration": 3,
        "start_time": "2023-05-13T06:50:00.554Z"
      },
      {
        "duration": 109,
        "start_time": "2023-05-13T06:50:34.666Z"
      },
      {
        "duration": 3,
        "start_time": "2023-05-13T06:52:55.371Z"
      },
      {
        "duration": 6,
        "start_time": "2023-05-13T06:52:55.945Z"
      },
      {
        "duration": 4,
        "start_time": "2023-05-13T06:52:56.428Z"
      },
      {
        "duration": 9,
        "start_time": "2023-05-13T06:53:10.633Z"
      },
      {
        "duration": 11,
        "start_time": "2023-05-13T06:53:12.273Z"
      },
      {
        "duration": 9,
        "start_time": "2023-05-13T06:53:12.779Z"
      },
      {
        "duration": 4,
        "start_time": "2023-05-13T06:53:19.025Z"
      },
      {
        "duration": 2,
        "start_time": "2023-05-13T06:53:22.028Z"
      },
      {
        "duration": 15,
        "start_time": "2023-05-13T06:53:24.291Z"
      },
      {
        "duration": 5,
        "start_time": "2023-05-13T06:55:36.661Z"
      },
      {
        "duration": 4,
        "start_time": "2023-05-13T06:55:42.710Z"
      },
      {
        "duration": 3,
        "start_time": "2023-05-13T06:56:31.565Z"
      },
      {
        "duration": 5,
        "start_time": "2023-05-13T06:56:32.018Z"
      },
      {
        "duration": 6,
        "start_time": "2023-05-13T06:56:32.477Z"
      },
      {
        "duration": 8,
        "start_time": "2023-05-13T06:56:33.033Z"
      },
      {
        "duration": 6,
        "start_time": "2023-05-13T06:56:33.540Z"
      },
      {
        "duration": 5,
        "start_time": "2023-05-13T06:56:34.737Z"
      },
      {
        "duration": 5,
        "start_time": "2023-05-13T06:56:35.733Z"
      },
      {
        "duration": 1368,
        "start_time": "2023-05-13T06:57:37.654Z"
      },
      {
        "duration": 813,
        "start_time": "2023-05-13T06:57:39.430Z"
      },
      {
        "duration": 5,
        "start_time": "2023-05-13T06:57:40.270Z"
      },
      {
        "duration": 877,
        "start_time": "2023-05-13T06:57:40.424Z"
      },
      {
        "duration": 337,
        "start_time": "2023-05-13T06:57:41.304Z"
      },
      {
        "duration": 914,
        "start_time": "2023-05-13T06:57:41.643Z"
      },
      {
        "duration": 6,
        "start_time": "2023-05-13T06:57:42.559Z"
      },
      {
        "duration": 31,
        "start_time": "2023-05-13T06:57:42.566Z"
      },
      {
        "duration": 6,
        "start_time": "2023-05-13T06:57:42.599Z"
      },
      {
        "duration": 5,
        "start_time": "2023-05-13T06:57:42.662Z"
      },
      {
        "duration": 5,
        "start_time": "2023-05-13T06:57:42.822Z"
      },
      {
        "duration": 6,
        "start_time": "2023-05-13T06:57:42.985Z"
      },
      {
        "duration": 4,
        "start_time": "2023-05-13T06:57:43.165Z"
      },
      {
        "duration": 17,
        "start_time": "2023-05-13T06:57:43.871Z"
      },
      {
        "duration": 29,
        "start_time": "2023-05-13T06:57:44.359Z"
      },
      {
        "duration": 8,
        "start_time": "2023-05-13T06:57:44.518Z"
      },
      {
        "duration": 13,
        "start_time": "2023-05-13T06:57:44.854Z"
      },
      {
        "duration": 10,
        "start_time": "2023-05-13T06:57:45.015Z"
      },
      {
        "duration": 8,
        "start_time": "2023-05-13T06:57:45.192Z"
      },
      {
        "duration": 7,
        "start_time": "2023-05-13T06:57:46.518Z"
      },
      {
        "duration": 3112,
        "start_time": "2023-05-13T06:57:46.839Z"
      },
      {
        "duration": 2969,
        "start_time": "2023-05-13T06:57:49.954Z"
      },
      {
        "duration": 3076,
        "start_time": "2023-05-13T06:57:52.925Z"
      },
      {
        "duration": 19,
        "start_time": "2023-05-13T06:57:56.005Z"
      },
      {
        "duration": 4,
        "start_time": "2023-05-13T06:57:56.026Z"
      },
      {
        "duration": 2939,
        "start_time": "2023-05-13T06:57:56.031Z"
      },
      {
        "duration": 8,
        "start_time": "2023-05-13T06:57:58.972Z"
      },
      {
        "duration": 1374,
        "start_time": "2023-05-13T06:57:58.982Z"
      },
      {
        "duration": 11,
        "start_time": "2023-05-13T06:58:00.358Z"
      },
      {
        "duration": 27,
        "start_time": "2023-05-13T06:58:00.373Z"
      },
      {
        "duration": 35,
        "start_time": "2023-05-13T06:58:00.403Z"
      },
      {
        "duration": 3018,
        "start_time": "2023-05-13T06:58:00.440Z"
      },
      {
        "duration": 3,
        "start_time": "2023-05-13T06:58:03.460Z"
      },
      {
        "duration": 10,
        "start_time": "2023-05-13T06:58:03.466Z"
      },
      {
        "duration": 7,
        "start_time": "2023-05-13T06:58:07.327Z"
      },
      {
        "duration": 6,
        "start_time": "2023-05-13T06:58:08.021Z"
      },
      {
        "duration": 5,
        "start_time": "2023-05-13T06:58:08.486Z"
      },
      {
        "duration": 5,
        "start_time": "2023-05-13T06:58:12.111Z"
      },
      {
        "duration": 4,
        "start_time": "2023-05-13T06:58:12.310Z"
      },
      {
        "duration": 3,
        "start_time": "2023-05-13T06:58:13.857Z"
      },
      {
        "duration": 4,
        "start_time": "2023-05-13T06:58:14.350Z"
      },
      {
        "duration": 4,
        "start_time": "2023-05-13T06:58:17.222Z"
      },
      {
        "duration": 4,
        "start_time": "2023-05-13T06:58:17.383Z"
      },
      {
        "duration": 20,
        "start_time": "2023-05-13T06:58:17.566Z"
      },
      {
        "duration": 31,
        "start_time": "2023-05-13T06:58:17.776Z"
      },
      {
        "duration": 4,
        "start_time": "2023-05-13T06:58:20.935Z"
      },
      {
        "duration": 4,
        "start_time": "2023-05-13T06:58:21.086Z"
      },
      {
        "duration": 4,
        "start_time": "2023-05-13T06:58:21.255Z"
      },
      {
        "duration": 4,
        "start_time": "2023-05-13T06:58:21.414Z"
      },
      {
        "duration": 4,
        "start_time": "2023-05-13T06:58:21.586Z"
      },
      {
        "duration": 3,
        "start_time": "2023-05-13T06:58:21.758Z"
      },
      {
        "duration": 4,
        "start_time": "2023-05-13T06:58:21.935Z"
      },
      {
        "duration": 5,
        "start_time": "2023-05-13T06:58:22.414Z"
      },
      {
        "duration": 3,
        "start_time": "2023-05-13T06:58:28.527Z"
      },
      {
        "duration": 21,
        "start_time": "2023-05-13T06:58:29.000Z"
      },
      {
        "duration": 9,
        "start_time": "2023-05-13T06:58:31.093Z"
      },
      {
        "duration": 14,
        "start_time": "2023-05-13T06:58:31.654Z"
      },
      {
        "duration": 11,
        "start_time": "2023-05-13T06:58:33.056Z"
      },
      {
        "duration": 4,
        "start_time": "2023-05-13T06:58:34.304Z"
      },
      {
        "duration": 6,
        "start_time": "2023-05-13T06:58:35.926Z"
      },
      {
        "duration": 4,
        "start_time": "2023-05-13T06:58:51.992Z"
      },
      {
        "duration": 3,
        "start_time": "2023-05-13T06:58:59.279Z"
      },
      {
        "duration": 1060223,
        "start_time": "2023-05-13T06:59:04.359Z"
      },
      {
        "duration": 0,
        "start_time": "2023-05-13T07:16:44.586Z"
      },
      {
        "duration": 0,
        "start_time": "2023-05-13T07:16:44.589Z"
      },
      {
        "duration": 1347,
        "start_time": "2023-05-13T07:17:03.324Z"
      },
      {
        "duration": 1779,
        "start_time": "2023-05-13T07:17:08.954Z"
      },
      {
        "duration": 6,
        "start_time": "2023-05-13T07:17:17.118Z"
      },
      {
        "duration": 4,
        "start_time": "2023-05-13T07:17:19.682Z"
      },
      {
        "duration": 265874,
        "start_time": "2023-05-13T07:17:41.684Z"
      },
      {
        "duration": 5,
        "start_time": "2023-05-13T07:22:18.357Z"
      },
      {
        "duration": 226589,
        "start_time": "2023-05-13T07:23:44.142Z"
      },
      {
        "duration": 5,
        "start_time": "2023-05-13T07:28:04.817Z"
      },
      {
        "duration": 6,
        "start_time": "2023-05-13T07:28:43.594Z"
      },
      {
        "duration": 5,
        "start_time": "2023-05-13T07:28:44.412Z"
      },
      {
        "duration": 9,
        "start_time": "2023-05-13T07:28:45.794Z"
      },
      {
        "duration": 10,
        "start_time": "2023-05-13T07:28:53.034Z"
      },
      {
        "duration": 13,
        "start_time": "2023-05-13T07:28:54.082Z"
      },
      {
        "duration": 10,
        "start_time": "2023-05-13T07:28:54.906Z"
      },
      {
        "duration": 3,
        "start_time": "2023-05-13T07:29:29.466Z"
      },
      {
        "duration": 10,
        "start_time": "2023-05-13T07:29:30.524Z"
      },
      {
        "duration": 10,
        "start_time": "2023-05-13T07:32:46.924Z"
      },
      {
        "duration": 12,
        "start_time": "2023-05-13T07:34:01.063Z"
      },
      {
        "duration": 6,
        "start_time": "2023-05-13T07:34:14.141Z"
      },
      {
        "duration": 22,
        "start_time": "2023-05-13T07:34:17.949Z"
      },
      {
        "duration": 48,
        "start_time": "2023-05-13T07:35:19.806Z"
      },
      {
        "duration": 21,
        "start_time": "2023-05-13T07:35:29.692Z"
      },
      {
        "duration": 2,
        "start_time": "2023-05-13T07:35:57.350Z"
      },
      {
        "duration": 7,
        "start_time": "2023-05-13T07:35:57.878Z"
      },
      {
        "duration": 5,
        "start_time": "2023-05-13T07:35:59.566Z"
      },
      {
        "duration": 11,
        "start_time": "2023-05-13T07:36:06.302Z"
      },
      {
        "duration": 9,
        "start_time": "2023-05-13T07:36:06.815Z"
      },
      {
        "duration": 24,
        "start_time": "2023-05-13T07:36:07.389Z"
      },
      {
        "duration": 1441,
        "start_time": "2023-05-13T07:36:39.877Z"
      },
      {
        "duration": 783,
        "start_time": "2023-05-13T07:36:41.320Z"
      },
      {
        "duration": 5,
        "start_time": "2023-05-13T07:36:42.105Z"
      },
      {
        "duration": 805,
        "start_time": "2023-05-13T07:36:42.112Z"
      },
      {
        "duration": 301,
        "start_time": "2023-05-13T07:36:42.919Z"
      },
      {
        "duration": 861,
        "start_time": "2023-05-13T07:36:43.222Z"
      },
      {
        "duration": 6,
        "start_time": "2023-05-13T07:36:44.097Z"
      },
      {
        "duration": 15,
        "start_time": "2023-05-13T07:36:44.104Z"
      },
      {
        "duration": 6,
        "start_time": "2023-05-13T07:36:44.121Z"
      },
      {
        "duration": 17,
        "start_time": "2023-05-13T07:36:44.130Z"
      },
      {
        "duration": 15,
        "start_time": "2023-05-13T07:36:44.149Z"
      },
      {
        "duration": 16,
        "start_time": "2023-05-13T07:36:44.165Z"
      },
      {
        "duration": 8,
        "start_time": "2023-05-13T07:36:44.182Z"
      },
      {
        "duration": 21,
        "start_time": "2023-05-13T07:36:44.192Z"
      },
      {
        "duration": 22,
        "start_time": "2023-05-13T07:36:44.214Z"
      },
      {
        "duration": 9,
        "start_time": "2023-05-13T07:36:44.238Z"
      },
      {
        "duration": 36,
        "start_time": "2023-05-13T07:36:44.248Z"
      },
      {
        "duration": 7,
        "start_time": "2023-05-13T07:36:44.286Z"
      },
      {
        "duration": 6,
        "start_time": "2023-05-13T07:36:44.294Z"
      },
      {
        "duration": 13,
        "start_time": "2023-05-13T07:36:44.302Z"
      },
      {
        "duration": 2773,
        "start_time": "2023-05-13T07:36:44.317Z"
      },
      {
        "duration": 2648,
        "start_time": "2023-05-13T07:36:47.092Z"
      },
      {
        "duration": 2632,
        "start_time": "2023-05-13T07:36:49.742Z"
      },
      {
        "duration": 21,
        "start_time": "2023-05-13T07:36:52.376Z"
      },
      {
        "duration": 3,
        "start_time": "2023-05-13T07:36:52.399Z"
      },
      {
        "duration": 2741,
        "start_time": "2023-05-13T07:36:52.404Z"
      },
      {
        "duration": 7,
        "start_time": "2023-05-13T07:36:55.147Z"
      },
      {
        "duration": 1341,
        "start_time": "2023-05-13T07:36:55.158Z"
      },
      {
        "duration": 8,
        "start_time": "2023-05-13T07:36:56.501Z"
      },
      {
        "duration": 11,
        "start_time": "2023-05-13T07:36:56.511Z"
      },
      {
        "duration": 15,
        "start_time": "2023-05-13T07:36:56.523Z"
      },
      {
        "duration": 2634,
        "start_time": "2023-05-13T07:36:56.539Z"
      },
      {
        "duration": 3,
        "start_time": "2023-05-13T07:36:59.174Z"
      },
      {
        "duration": 22,
        "start_time": "2023-05-13T07:36:59.178Z"
      },
      {
        "duration": 20,
        "start_time": "2023-05-13T07:36:59.202Z"
      },
      {
        "duration": 15,
        "start_time": "2023-05-13T07:36:59.224Z"
      },
      {
        "duration": 19,
        "start_time": "2023-05-13T07:36:59.240Z"
      },
      {
        "duration": 27,
        "start_time": "2023-05-13T07:36:59.261Z"
      },
      {
        "duration": 8,
        "start_time": "2023-05-13T07:36:59.289Z"
      },
      {
        "duration": 18,
        "start_time": "2023-05-13T07:36:59.299Z"
      },
      {
        "duration": 11,
        "start_time": "2023-05-13T07:36:59.318Z"
      },
      {
        "duration": 14,
        "start_time": "2023-05-13T07:36:59.331Z"
      },
      {
        "duration": 11,
        "start_time": "2023-05-13T07:36:59.347Z"
      },
      {
        "duration": 29,
        "start_time": "2023-05-13T07:36:59.360Z"
      },
      {
        "duration": 24,
        "start_time": "2023-05-13T07:36:59.391Z"
      },
      {
        "duration": 14,
        "start_time": "2023-05-13T07:36:59.417Z"
      },
      {
        "duration": 26,
        "start_time": "2023-05-13T07:36:59.432Z"
      },
      {
        "duration": 15,
        "start_time": "2023-05-13T07:36:59.460Z"
      },
      {
        "duration": 13,
        "start_time": "2023-05-13T07:36:59.477Z"
      },
      {
        "duration": 23,
        "start_time": "2023-05-13T07:36:59.492Z"
      },
      {
        "duration": 10,
        "start_time": "2023-05-13T07:36:59.517Z"
      },
      {
        "duration": 10,
        "start_time": "2023-05-13T07:36:59.529Z"
      },
      {
        "duration": 21,
        "start_time": "2023-05-13T07:36:59.541Z"
      },
      {
        "duration": 10,
        "start_time": "2023-05-13T07:36:59.563Z"
      },
      {
        "duration": 28,
        "start_time": "2023-05-13T07:36:59.574Z"
      },
      {
        "duration": 13,
        "start_time": "2023-05-13T07:36:59.604Z"
      },
      {
        "duration": 14,
        "start_time": "2023-05-13T07:36:59.618Z"
      },
      {
        "duration": 15,
        "start_time": "2023-05-13T07:36:59.633Z"
      },
      {
        "duration": 17,
        "start_time": "2023-05-13T07:36:59.650Z"
      },
      {
        "duration": 17,
        "start_time": "2023-05-13T07:36:59.669Z"
      },
      {
        "duration": 155802,
        "start_time": "2023-05-13T07:36:59.687Z"
      },
      {
        "duration": 1326,
        "start_time": "2023-05-13T07:39:35.492Z"
      },
      {
        "duration": 217433,
        "start_time": "2023-05-13T07:39:36.820Z"
      },
      {
        "duration": 1790,
        "start_time": "2023-05-13T07:43:14.256Z"
      },
      {
        "duration": 7,
        "start_time": "2023-05-13T07:43:16.047Z"
      },
      {
        "duration": 14,
        "start_time": "2023-05-13T07:43:16.056Z"
      },
      {
        "duration": 13,
        "start_time": "2023-05-13T07:43:16.072Z"
      },
      {
        "duration": 14,
        "start_time": "2023-05-13T07:43:16.087Z"
      },
      {
        "duration": 14,
        "start_time": "2023-05-13T07:43:16.103Z"
      },
      {
        "duration": 18,
        "start_time": "2023-05-13T07:43:16.119Z"
      },
      {
        "duration": 16,
        "start_time": "2023-05-13T07:43:16.139Z"
      },
      {
        "duration": 26,
        "start_time": "2023-05-13T07:43:16.157Z"
      },
      {
        "duration": 14,
        "start_time": "2023-05-13T07:43:16.185Z"
      },
      {
        "duration": 9,
        "start_time": "2023-05-13T07:43:16.201Z"
      },
      {
        "duration": 10,
        "start_time": "2023-05-13T07:43:16.213Z"
      },
      {
        "duration": 16,
        "start_time": "2023-05-13T07:43:16.225Z"
      },
      {
        "duration": 1490,
        "start_time": "2023-05-13T07:51:39.918Z"
      },
      {
        "duration": 788,
        "start_time": "2023-05-13T07:51:41.411Z"
      },
      {
        "duration": 5,
        "start_time": "2023-05-13T07:51:42.201Z"
      },
      {
        "duration": 833,
        "start_time": "2023-05-13T07:51:42.208Z"
      },
      {
        "duration": 311,
        "start_time": "2023-05-13T07:51:43.043Z"
      },
      {
        "duration": 917,
        "start_time": "2023-05-13T07:51:43.356Z"
      },
      {
        "duration": 23,
        "start_time": "2023-05-13T07:51:44.275Z"
      },
      {
        "duration": 17,
        "start_time": "2023-05-13T07:51:44.300Z"
      },
      {
        "duration": 10,
        "start_time": "2023-05-13T07:51:44.319Z"
      },
      {
        "duration": 13,
        "start_time": "2023-05-13T07:51:44.332Z"
      },
      {
        "duration": 11,
        "start_time": "2023-05-13T07:51:44.347Z"
      },
      {
        "duration": 8,
        "start_time": "2023-05-13T07:51:44.360Z"
      },
      {
        "duration": 15,
        "start_time": "2023-05-13T07:51:44.369Z"
      },
      {
        "duration": 18,
        "start_time": "2023-05-13T07:51:44.386Z"
      },
      {
        "duration": 27,
        "start_time": "2023-05-13T07:51:44.406Z"
      },
      {
        "duration": 9,
        "start_time": "2023-05-13T07:51:44.435Z"
      },
      {
        "duration": 10,
        "start_time": "2023-05-13T07:51:44.445Z"
      },
      {
        "duration": 12,
        "start_time": "2023-05-13T07:51:44.456Z"
      },
      {
        "duration": 4,
        "start_time": "2023-05-13T07:51:44.470Z"
      },
      {
        "duration": 8,
        "start_time": "2023-05-13T07:51:44.497Z"
      },
      {
        "duration": 2605,
        "start_time": "2023-05-13T07:51:44.507Z"
      },
      {
        "duration": 2583,
        "start_time": "2023-05-13T07:51:47.114Z"
      },
      {
        "duration": 2497,
        "start_time": "2023-05-13T07:51:49.698Z"
      },
      {
        "duration": 14,
        "start_time": "2023-05-13T07:51:52.197Z"
      },
      {
        "duration": 3,
        "start_time": "2023-05-13T07:51:52.213Z"
      },
      {
        "duration": 2477,
        "start_time": "2023-05-13T07:51:52.218Z"
      },
      {
        "duration": 8,
        "start_time": "2023-05-13T07:51:54.696Z"
      },
      {
        "duration": 1406,
        "start_time": "2023-05-13T07:51:54.707Z"
      },
      {
        "duration": 10,
        "start_time": "2023-05-13T07:51:56.115Z"
      },
      {
        "duration": 14,
        "start_time": "2023-05-13T07:51:56.127Z"
      },
      {
        "duration": 18,
        "start_time": "2023-05-13T07:51:56.142Z"
      },
      {
        "duration": 2752,
        "start_time": "2023-05-13T07:51:56.162Z"
      },
      {
        "duration": 3,
        "start_time": "2023-05-13T07:51:58.915Z"
      },
      {
        "duration": 17,
        "start_time": "2023-05-13T07:51:58.920Z"
      },
      {
        "duration": 19,
        "start_time": "2023-05-13T07:51:58.939Z"
      },
      {
        "duration": 12,
        "start_time": "2023-05-13T07:51:58.959Z"
      },
      {
        "duration": 9,
        "start_time": "2023-05-13T07:51:58.973Z"
      },
      {
        "duration": 18,
        "start_time": "2023-05-13T07:51:58.984Z"
      },
      {
        "duration": 12,
        "start_time": "2023-05-13T07:51:59.004Z"
      },
      {
        "duration": 10,
        "start_time": "2023-05-13T07:51:59.017Z"
      },
      {
        "duration": 17,
        "start_time": "2023-05-13T07:51:59.028Z"
      },
      {
        "duration": 9,
        "start_time": "2023-05-13T07:51:59.046Z"
      },
      {
        "duration": 9,
        "start_time": "2023-05-13T07:51:59.057Z"
      },
      {
        "duration": 27,
        "start_time": "2023-05-13T07:51:59.068Z"
      },
      {
        "duration": 29,
        "start_time": "2023-05-13T07:51:59.097Z"
      },
      {
        "duration": 18,
        "start_time": "2023-05-13T07:51:59.128Z"
      },
      {
        "duration": 9,
        "start_time": "2023-05-13T07:51:59.148Z"
      },
      {
        "duration": 16,
        "start_time": "2023-05-13T07:51:59.158Z"
      },
      {
        "duration": 12,
        "start_time": "2023-05-13T07:51:59.175Z"
      },
      {
        "duration": 10,
        "start_time": "2023-05-13T07:51:59.188Z"
      },
      {
        "duration": 12,
        "start_time": "2023-05-13T07:51:59.200Z"
      },
      {
        "duration": 18,
        "start_time": "2023-05-13T07:51:59.214Z"
      },
      {
        "duration": 13,
        "start_time": "2023-05-13T07:51:59.233Z"
      },
      {
        "duration": 15,
        "start_time": "2023-05-13T07:51:59.247Z"
      },
      {
        "duration": 12,
        "start_time": "2023-05-13T07:51:59.264Z"
      },
      {
        "duration": 6,
        "start_time": "2023-05-13T07:51:59.278Z"
      },
      {
        "duration": 9,
        "start_time": "2023-05-13T07:51:59.286Z"
      },
      {
        "duration": 8,
        "start_time": "2023-05-13T07:51:59.297Z"
      },
      {
        "duration": 3,
        "start_time": "2023-05-13T07:51:59.306Z"
      },
      {
        "duration": 7,
        "start_time": "2023-05-13T07:51:59.310Z"
      },
      {
        "duration": 160444,
        "start_time": "2023-05-13T07:51:59.319Z"
      },
      {
        "duration": 1346,
        "start_time": "2023-05-13T07:54:39.765Z"
      },
      {
        "duration": 219004,
        "start_time": "2023-05-13T07:54:41.113Z"
      },
      {
        "duration": 1686,
        "start_time": "2023-05-13T07:58:20.119Z"
      },
      {
        "duration": 7,
        "start_time": "2023-05-13T07:58:21.807Z"
      },
      {
        "duration": 22,
        "start_time": "2023-05-13T07:58:21.816Z"
      },
      {
        "duration": 16,
        "start_time": "2023-05-13T07:58:21.841Z"
      },
      {
        "duration": 15,
        "start_time": "2023-05-13T07:58:21.859Z"
      },
      {
        "duration": 17,
        "start_time": "2023-05-13T07:58:21.876Z"
      },
      {
        "duration": 12,
        "start_time": "2023-05-13T07:58:21.895Z"
      },
      {
        "duration": 13,
        "start_time": "2023-05-13T07:58:21.909Z"
      },
      {
        "duration": 19,
        "start_time": "2023-05-13T07:58:21.924Z"
      },
      {
        "duration": 13,
        "start_time": "2023-05-13T07:58:21.945Z"
      },
      {
        "duration": 9,
        "start_time": "2023-05-13T07:58:21.960Z"
      },
      {
        "duration": 17,
        "start_time": "2023-05-13T07:58:21.971Z"
      },
      {
        "duration": 14,
        "start_time": "2023-05-13T07:58:21.990Z"
      },
      {
        "duration": 2586,
        "start_time": "2023-05-14T08:01:47.550Z"
      },
      {
        "duration": 940,
        "start_time": "2023-05-14T08:01:50.140Z"
      },
      {
        "duration": 7,
        "start_time": "2023-05-14T08:01:51.082Z"
      },
      {
        "duration": 1023,
        "start_time": "2023-05-14T08:01:51.093Z"
      },
      {
        "duration": 343,
        "start_time": "2023-05-14T08:01:52.118Z"
      },
      {
        "duration": 1108,
        "start_time": "2023-05-14T08:01:52.464Z"
      },
      {
        "duration": 24,
        "start_time": "2023-05-14T08:01:53.574Z"
      },
      {
        "duration": 9,
        "start_time": "2023-05-14T08:01:53.603Z"
      },
      {
        "duration": 11,
        "start_time": "2023-05-14T08:01:53.614Z"
      },
      {
        "duration": 11,
        "start_time": "2023-05-14T08:01:53.629Z"
      },
      {
        "duration": 9,
        "start_time": "2023-05-14T08:01:53.644Z"
      },
      {
        "duration": 18,
        "start_time": "2023-05-14T08:01:53.660Z"
      },
      {
        "duration": 28,
        "start_time": "2023-05-14T08:01:53.684Z"
      },
      {
        "duration": 22,
        "start_time": "2023-05-14T08:01:53.715Z"
      },
      {
        "duration": 34,
        "start_time": "2023-05-14T08:01:53.739Z"
      },
      {
        "duration": 15,
        "start_time": "2023-05-14T08:01:53.788Z"
      },
      {
        "duration": 15,
        "start_time": "2023-05-14T08:01:53.806Z"
      },
      {
        "duration": 9,
        "start_time": "2023-05-14T08:01:53.823Z"
      },
      {
        "duration": 5,
        "start_time": "2023-05-14T08:01:53.834Z"
      },
      {
        "duration": 7,
        "start_time": "2023-05-14T08:01:53.841Z"
      },
      {
        "duration": 3171,
        "start_time": "2023-05-14T08:01:53.850Z"
      },
      {
        "duration": 3282,
        "start_time": "2023-05-14T08:01:57.023Z"
      },
      {
        "duration": 3350,
        "start_time": "2023-05-14T08:02:00.307Z"
      },
      {
        "duration": 24,
        "start_time": "2023-05-14T08:02:03.659Z"
      },
      {
        "duration": 22,
        "start_time": "2023-05-14T08:02:03.687Z"
      },
      {
        "duration": 4050,
        "start_time": "2023-05-14T08:02:03.711Z"
      },
      {
        "duration": 14,
        "start_time": "2023-05-14T08:02:07.762Z"
      },
      {
        "duration": 1720,
        "start_time": "2023-05-14T08:02:07.781Z"
      },
      {
        "duration": 12,
        "start_time": "2023-05-14T08:02:09.503Z"
      },
      {
        "duration": 3,
        "start_time": "2023-05-14T08:02:09.518Z"
      },
      {
        "duration": 16,
        "start_time": "2023-05-14T08:02:09.523Z"
      },
      {
        "duration": 3410,
        "start_time": "2023-05-14T08:02:09.560Z"
      },
      {
        "duration": 3,
        "start_time": "2023-05-14T08:02:12.972Z"
      },
      {
        "duration": 5,
        "start_time": "2023-05-14T08:02:12.977Z"
      },
      {
        "duration": 15,
        "start_time": "2023-05-14T08:02:12.984Z"
      },
      {
        "duration": 39,
        "start_time": "2023-05-14T08:02:13.002Z"
      },
      {
        "duration": 47,
        "start_time": "2023-05-14T08:02:13.043Z"
      },
      {
        "duration": 17,
        "start_time": "2023-05-14T08:02:13.092Z"
      },
      {
        "duration": 38,
        "start_time": "2023-05-14T08:02:13.111Z"
      },
      {
        "duration": 19,
        "start_time": "2023-05-14T08:02:13.151Z"
      },
      {
        "duration": 27,
        "start_time": "2023-05-14T08:02:13.172Z"
      },
      {
        "duration": 43,
        "start_time": "2023-05-14T08:02:13.201Z"
      },
      {
        "duration": 7,
        "start_time": "2023-05-14T08:02:13.246Z"
      },
      {
        "duration": 51,
        "start_time": "2023-05-14T08:02:13.256Z"
      },
      {
        "duration": 26,
        "start_time": "2023-05-14T08:02:13.308Z"
      },
      {
        "duration": 7,
        "start_time": "2023-05-14T08:02:13.336Z"
      },
      {
        "duration": 8,
        "start_time": "2023-05-14T08:02:13.345Z"
      },
      {
        "duration": 12,
        "start_time": "2023-05-14T08:02:13.355Z"
      },
      {
        "duration": 24,
        "start_time": "2023-05-14T08:02:13.368Z"
      },
      {
        "duration": 7,
        "start_time": "2023-05-14T08:02:13.393Z"
      },
      {
        "duration": 5,
        "start_time": "2023-05-14T08:02:13.402Z"
      },
      {
        "duration": 18,
        "start_time": "2023-05-14T08:02:13.409Z"
      },
      {
        "duration": 7,
        "start_time": "2023-05-14T08:02:13.429Z"
      },
      {
        "duration": 5,
        "start_time": "2023-05-14T08:02:13.438Z"
      },
      {
        "duration": 24,
        "start_time": "2023-05-14T08:02:13.446Z"
      },
      {
        "duration": 16,
        "start_time": "2023-05-14T08:02:13.472Z"
      },
      {
        "duration": 18,
        "start_time": "2023-05-14T08:02:13.490Z"
      },
      {
        "duration": 11,
        "start_time": "2023-05-14T08:02:13.512Z"
      },
      {
        "duration": 4,
        "start_time": "2023-05-14T08:02:13.525Z"
      },
      {
        "duration": 16,
        "start_time": "2023-05-14T08:02:13.531Z"
      },
      {
        "duration": 180,
        "start_time": "2023-05-14T08:02:58.100Z"
      },
      {
        "duration": 18,
        "start_time": "2023-05-14T08:03:23.491Z"
      },
      {
        "duration": 4,
        "start_time": "2023-05-14T08:03:34.315Z"
      },
      {
        "duration": 12,
        "start_time": "2023-05-14T08:03:38.711Z"
      },
      {
        "duration": 53,
        "start_time": "2023-05-14T08:36:47.337Z"
      },
      {
        "duration": 1485,
        "start_time": "2023-05-14T08:39:54.218Z"
      },
      {
        "duration": 825,
        "start_time": "2023-05-14T08:39:55.707Z"
      },
      {
        "duration": 5,
        "start_time": "2023-05-14T08:39:56.534Z"
      },
      {
        "duration": 870,
        "start_time": "2023-05-14T08:39:56.541Z"
      },
      {
        "duration": 347,
        "start_time": "2023-05-14T08:39:57.414Z"
      },
      {
        "duration": 1012,
        "start_time": "2023-05-14T08:39:57.763Z"
      },
      {
        "duration": 7,
        "start_time": "2023-05-14T08:39:58.777Z"
      },
      {
        "duration": 15,
        "start_time": "2023-05-14T08:39:58.786Z"
      },
      {
        "duration": 8,
        "start_time": "2023-05-14T08:39:58.803Z"
      },
      {
        "duration": 8,
        "start_time": "2023-05-14T08:39:58.813Z"
      },
      {
        "duration": 7,
        "start_time": "2023-05-14T08:39:58.823Z"
      },
      {
        "duration": 8,
        "start_time": "2023-05-14T08:39:58.832Z"
      },
      {
        "duration": 31,
        "start_time": "2023-05-14T08:39:58.842Z"
      },
      {
        "duration": 15,
        "start_time": "2023-05-14T08:39:58.877Z"
      },
      {
        "duration": 29,
        "start_time": "2023-05-14T08:39:58.894Z"
      },
      {
        "duration": 9,
        "start_time": "2023-05-14T08:39:58.925Z"
      },
      {
        "duration": 36,
        "start_time": "2023-05-14T08:39:58.936Z"
      },
      {
        "duration": 7,
        "start_time": "2023-05-14T08:39:58.974Z"
      },
      {
        "duration": 7,
        "start_time": "2023-05-14T08:39:58.982Z"
      },
      {
        "duration": 17,
        "start_time": "2023-05-14T08:39:58.991Z"
      },
      {
        "duration": 2772,
        "start_time": "2023-05-14T08:39:59.010Z"
      },
      {
        "duration": 2874,
        "start_time": "2023-05-14T08:40:01.784Z"
      },
      {
        "duration": 3198,
        "start_time": "2023-05-14T08:40:04.660Z"
      },
      {
        "duration": 32,
        "start_time": "2023-05-14T08:40:07.860Z"
      },
      {
        "duration": 20,
        "start_time": "2023-05-14T08:40:07.894Z"
      },
      {
        "duration": 3089,
        "start_time": "2023-05-14T08:40:07.917Z"
      },
      {
        "duration": 8,
        "start_time": "2023-05-14T08:40:11.008Z"
      },
      {
        "duration": 1493,
        "start_time": "2023-05-14T08:40:11.018Z"
      },
      {
        "duration": 8,
        "start_time": "2023-05-14T08:40:12.513Z"
      },
      {
        "duration": 18,
        "start_time": "2023-05-14T08:40:12.522Z"
      },
      {
        "duration": 30,
        "start_time": "2023-05-14T08:40:12.542Z"
      },
      {
        "duration": 2950,
        "start_time": "2023-05-14T08:40:12.573Z"
      },
      {
        "duration": 3,
        "start_time": "2023-05-14T08:40:15.525Z"
      },
      {
        "duration": 12,
        "start_time": "2023-05-14T08:40:15.529Z"
      },
      {
        "duration": 15,
        "start_time": "2023-05-14T08:40:15.543Z"
      },
      {
        "duration": 12,
        "start_time": "2023-05-14T08:40:15.560Z"
      },
      {
        "duration": 23,
        "start_time": "2023-05-14T08:40:15.575Z"
      },
      {
        "duration": 13,
        "start_time": "2023-05-14T08:40:15.600Z"
      },
      {
        "duration": 9,
        "start_time": "2023-05-14T08:40:15.614Z"
      },
      {
        "duration": 9,
        "start_time": "2023-05-14T08:40:15.625Z"
      },
      {
        "duration": 17,
        "start_time": "2023-05-14T08:40:15.639Z"
      },
      {
        "duration": 32,
        "start_time": "2023-05-14T08:40:15.658Z"
      },
      {
        "duration": 10,
        "start_time": "2023-05-14T08:40:15.692Z"
      },
      {
        "duration": 25,
        "start_time": "2023-05-14T08:40:15.703Z"
      },
      {
        "duration": 27,
        "start_time": "2023-05-14T08:40:15.730Z"
      },
      {
        "duration": 4,
        "start_time": "2023-05-14T08:40:15.759Z"
      },
      {
        "duration": 26,
        "start_time": "2023-05-14T08:40:15.765Z"
      },
      {
        "duration": 8,
        "start_time": "2023-05-14T08:40:15.793Z"
      },
      {
        "duration": 8,
        "start_time": "2023-05-14T08:40:15.803Z"
      },
      {
        "duration": 11,
        "start_time": "2023-05-14T08:40:15.813Z"
      },
      {
        "duration": 8,
        "start_time": "2023-05-14T08:40:15.826Z"
      },
      {
        "duration": 12,
        "start_time": "2023-05-14T08:40:15.836Z"
      },
      {
        "duration": 20,
        "start_time": "2023-05-14T08:40:15.850Z"
      },
      {
        "duration": 30,
        "start_time": "2023-05-14T08:40:15.872Z"
      },
      {
        "duration": 16,
        "start_time": "2023-05-14T08:40:15.905Z"
      },
      {
        "duration": 15,
        "start_time": "2023-05-14T08:40:15.924Z"
      },
      {
        "duration": 20,
        "start_time": "2023-05-14T08:40:15.941Z"
      },
      {
        "duration": 48,
        "start_time": "2023-05-14T08:40:15.964Z"
      },
      {
        "duration": 8,
        "start_time": "2023-05-14T08:40:16.014Z"
      },
      {
        "duration": 11,
        "start_time": "2023-05-14T08:40:16.025Z"
      },
      {
        "duration": 159503,
        "start_time": "2023-05-14T08:40:16.038Z"
      },
      {
        "duration": 1263,
        "start_time": "2023-05-14T08:42:55.542Z"
      },
      {
        "duration": 214300,
        "start_time": "2023-05-14T08:42:56.806Z"
      },
      {
        "duration": 1676,
        "start_time": "2023-05-14T08:46:31.109Z"
      },
      {
        "duration": 6,
        "start_time": "2023-05-14T08:46:32.788Z"
      },
      {
        "duration": 13,
        "start_time": "2023-05-14T08:46:32.796Z"
      },
      {
        "duration": 12,
        "start_time": "2023-05-14T08:46:32.810Z"
      },
      {
        "duration": 15,
        "start_time": "2023-05-14T08:46:32.824Z"
      },
      {
        "duration": 10,
        "start_time": "2023-05-14T08:46:32.841Z"
      },
      {
        "duration": 20,
        "start_time": "2023-05-14T08:46:32.853Z"
      },
      {
        "duration": 16,
        "start_time": "2023-05-14T08:46:32.875Z"
      },
      {
        "duration": 14,
        "start_time": "2023-05-14T08:46:32.893Z"
      },
      {
        "duration": 14,
        "start_time": "2023-05-14T08:46:32.909Z"
      },
      {
        "duration": 9,
        "start_time": "2023-05-14T08:46:32.925Z"
      },
      {
        "duration": 3,
        "start_time": "2023-05-14T08:46:32.936Z"
      },
      {
        "duration": 12,
        "start_time": "2023-05-14T08:46:32.971Z"
      },
      {
        "duration": 3,
        "start_time": "2023-05-14T08:49:47.992Z"
      },
      {
        "duration": 15,
        "start_time": "2023-05-14T08:49:48.513Z"
      }
    ],
    "kernelspec": {
      "display_name": "Python 3 (ipykernel)",
      "language": "python",
      "name": "python3"
    },
    "language_info": {
      "codemirror_mode": {
        "name": "ipython",
        "version": 3
      },
      "file_extension": ".py",
      "mimetype": "text/x-python",
      "name": "python",
      "nbconvert_exporter": "python",
      "pygments_lexer": "ipython3",
      "version": "3.9.5"
    },
    "toc": {
      "base_numbering": 1,
      "nav_menu": {},
      "number_sections": true,
      "sideBar": true,
      "skip_h1_title": true,
      "title_cell": "Содержание",
      "title_sidebar": "Contents",
      "toc_cell": true,
      "toc_position": {
        "height": "calc(100% - 180px)",
        "left": "10px",
        "top": "150px",
        "width": "291px"
      },
      "toc_section_display": true,
      "toc_window_display": true
    },
    "colab": {
      "provenance": []
    }
  },
  "nbformat": 4,
  "nbformat_minor": 0
}